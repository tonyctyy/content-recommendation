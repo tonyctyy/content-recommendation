{
 "cells": [
  {
   "cell_type": "code",
   "execution_count": 1,
   "id": "dda14ef2",
   "metadata": {},
   "outputs": [
    {
     "name": "stderr",
     "output_type": "stream",
     "text": [
      "c:\\Users\\cathy\\.virtualenvs\\content-recommendation-mCG3KVaj\\Lib\\site-packages\\sklearn\\base.py:376: InconsistentVersionWarning: Trying to unpickle estimator LabelEncoder from version 1.6.1 when using version 1.5.2. This might lead to breaking code or invalid results. Use at your own risk. For more info please refer to:\n",
      "https://scikit-learn.org/stable/model_persistence.html#security-maintainability-limitations\n",
      "  warnings.warn(\n",
      "c:\\Users\\cathy\\.virtualenvs\\content-recommendation-mCG3KVaj\\Lib\\site-packages\\sklearn\\base.py:376: InconsistentVersionWarning: Trying to unpickle estimator StandardScaler from version 1.6.1 when using version 1.5.2. This might lead to breaking code or invalid results. Use at your own risk. For more info please refer to:\n",
      "https://scikit-learn.org/stable/model_persistence.html#security-maintainability-limitations\n",
      "  warnings.warn(\n"
     ]
    }
   ],
   "source": [
    "import sqlite3\n",
    "import pandas as pd\n",
    "import numpy as np\n",
    "import pickle\n",
    "from tensorflow.keras.models import load_model\n",
    "from tqdm import tqdm\n",
    "from DeepFM import *"
   ]
  },
  {
   "cell_type": "markdown",
   "id": "d9d3c199",
   "metadata": {},
   "source": [
    "### recommendation preprocessing"
   ]
  },
  {
   "cell_type": "code",
   "execution_count": 61,
   "id": "0cc451cb",
   "metadata": {},
   "outputs": [],
   "source": [
    "# read db file\n",
    "db_path = 'Retrieval.db'\n",
    "conn = sqlite3.connect(db_path)\n"
   ]
  },
  {
   "cell_type": "code",
   "execution_count": 62,
   "id": "9c339156",
   "metadata": {},
   "outputs": [
    {
     "name": "stdout",
     "output_type": "stream",
     "text": [
      "recommendations\n"
     ]
    }
   ],
   "source": [
    "# print tables in the database\n",
    "def print_tables(conn):\n",
    "    cursor = conn.cursor()\n",
    "    cursor.execute(\"SELECT name FROM sqlite_master WHERE type='table';\")\n",
    "    tables = cursor.fetchall()\n",
    "    for table in tables:\n",
    "        print(table[0])\n",
    "    cursor.close()\n",
    "    \n",
    "print_tables(conn)"
   ]
  },
  {
   "cell_type": "code",
   "execution_count": 63,
   "id": "46b3ebb1",
   "metadata": {},
   "outputs": [
    {
     "data": {
      "text/html": [
       "<div>\n",
       "<style scoped>\n",
       "    .dataframe tbody tr th:only-of-type {\n",
       "        vertical-align: middle;\n",
       "    }\n",
       "\n",
       "    .dataframe tbody tr th {\n",
       "        vertical-align: top;\n",
       "    }\n",
       "\n",
       "    .dataframe thead th {\n",
       "        text-align: right;\n",
       "    }\n",
       "</style>\n",
       "<table border=\"1\" class=\"dataframe\">\n",
       "  <thead>\n",
       "    <tr style=\"text-align: right;\">\n",
       "      <th></th>\n",
       "      <th>model</th>\n",
       "      <th>user_id</th>\n",
       "      <th>business_id</th>\n",
       "      <th>real_label</th>\n",
       "    </tr>\n",
       "  </thead>\n",
       "  <tbody>\n",
       "    <tr>\n",
       "      <th>0</th>\n",
       "      <td>UserCF</td>\n",
       "      <td>--4AjktZiHowEIBCMd4CZA</td>\n",
       "      <td>eXKblEHP3YJYU1Awz08hVw</td>\n",
       "      <td>0</td>\n",
       "    </tr>\n",
       "    <tr>\n",
       "      <th>1</th>\n",
       "      <td>UserCF</td>\n",
       "      <td>--4AjktZiHowEIBCMd4CZA</td>\n",
       "      <td>vuE1iseFrgNPumUEfHIZZQ</td>\n",
       "      <td>0</td>\n",
       "    </tr>\n",
       "    <tr>\n",
       "      <th>2</th>\n",
       "      <td>UserCF</td>\n",
       "      <td>--4AjktZiHowEIBCMd4CZA</td>\n",
       "      <td>EtKSTHV5Qx_Q7Aur9o4kQQ</td>\n",
       "      <td>0</td>\n",
       "    </tr>\n",
       "    <tr>\n",
       "      <th>3</th>\n",
       "      <td>UserCF</td>\n",
       "      <td>--4AjktZiHowEIBCMd4CZA</td>\n",
       "      <td>kZ1q0K13tFYG_ZJrVvsJHA</td>\n",
       "      <td>0</td>\n",
       "    </tr>\n",
       "    <tr>\n",
       "      <th>4</th>\n",
       "      <td>UserCF</td>\n",
       "      <td>--4AjktZiHowEIBCMd4CZA</td>\n",
       "      <td>R17gwW6zn9ilslbdvKdgsg</td>\n",
       "      <td>0</td>\n",
       "    </tr>\n",
       "    <tr>\n",
       "      <th>...</th>\n",
       "      <td>...</td>\n",
       "      <td>...</td>\n",
       "      <td>...</td>\n",
       "      <td>...</td>\n",
       "    </tr>\n",
       "    <tr>\n",
       "      <th>5559963</th>\n",
       "      <td>DSSM</td>\n",
       "      <td>0B77x9T49CeIBPMdLzwAHQ</td>\n",
       "      <td>Kh5SojHNsEU-4CLemEQnXA</td>\n",
       "      <td>0</td>\n",
       "    </tr>\n",
       "    <tr>\n",
       "      <th>5559964</th>\n",
       "      <td>DSSM</td>\n",
       "      <td>0B77x9T49CeIBPMdLzwAHQ</td>\n",
       "      <td>mU_iRT-NtND82T6xar7UxQ</td>\n",
       "      <td>0</td>\n",
       "    </tr>\n",
       "    <tr>\n",
       "      <th>5559965</th>\n",
       "      <td>DSSM</td>\n",
       "      <td>0B77x9T49CeIBPMdLzwAHQ</td>\n",
       "      <td>xJ3aziMabFEjF8X0kvPfLw</td>\n",
       "      <td>0</td>\n",
       "    </tr>\n",
       "    <tr>\n",
       "      <th>5559966</th>\n",
       "      <td>DSSM</td>\n",
       "      <td>0B77x9T49CeIBPMdLzwAHQ</td>\n",
       "      <td>3qRDGcBOcfFnEfAzVLO6oA</td>\n",
       "      <td>0</td>\n",
       "    </tr>\n",
       "    <tr>\n",
       "      <th>5559967</th>\n",
       "      <td>DSSM</td>\n",
       "      <td>0B77x9T49CeIBPMdLzwAHQ</td>\n",
       "      <td>hhper8vIQRHpEZRufltj1Q</td>\n",
       "      <td>0</td>\n",
       "    </tr>\n",
       "  </tbody>\n",
       "</table>\n",
       "<p>5559968 rows × 4 columns</p>\n",
       "</div>"
      ],
      "text/plain": [
       "          model                 user_id             business_id  real_label\n",
       "0        UserCF  --4AjktZiHowEIBCMd4CZA  eXKblEHP3YJYU1Awz08hVw           0\n",
       "1        UserCF  --4AjktZiHowEIBCMd4CZA  vuE1iseFrgNPumUEfHIZZQ           0\n",
       "2        UserCF  --4AjktZiHowEIBCMd4CZA  EtKSTHV5Qx_Q7Aur9o4kQQ           0\n",
       "3        UserCF  --4AjktZiHowEIBCMd4CZA  kZ1q0K13tFYG_ZJrVvsJHA           0\n",
       "4        UserCF  --4AjktZiHowEIBCMd4CZA  R17gwW6zn9ilslbdvKdgsg           0\n",
       "...         ...                     ...                     ...         ...\n",
       "5559963    DSSM  0B77x9T49CeIBPMdLzwAHQ  Kh5SojHNsEU-4CLemEQnXA           0\n",
       "5559964    DSSM  0B77x9T49CeIBPMdLzwAHQ  mU_iRT-NtND82T6xar7UxQ           0\n",
       "5559965    DSSM  0B77x9T49CeIBPMdLzwAHQ  xJ3aziMabFEjF8X0kvPfLw           0\n",
       "5559966    DSSM  0B77x9T49CeIBPMdLzwAHQ  3qRDGcBOcfFnEfAzVLO6oA           0\n",
       "5559967    DSSM  0B77x9T49CeIBPMdLzwAHQ  hhper8vIQRHpEZRufltj1Q           0\n",
       "\n",
       "[5559968 rows x 4 columns]"
      ]
     },
     "execution_count": 63,
     "metadata": {},
     "output_type": "execute_result"
    }
   ],
   "source": [
    "# get the table and save it as a dataframe\n",
    "def get_table_as_dataframe(conn, table_name):\n",
    "    query = f\"SELECT * FROM {table_name}\"\n",
    "    df = pd.read_sql_query(query, conn)\n",
    "    return df\n",
    "\n",
    "results_df = get_table_as_dataframe(conn, 'recommendations')\n",
    "results_df"
   ]
  },
  {
   "cell_type": "code",
   "execution_count": 64,
   "id": "9e52b378",
   "metadata": {},
   "outputs": [
    {
     "data": {
      "text/plain": [
       "real_label\n",
       "0    5559229\n",
       "1        739\n",
       "Name: count, dtype: int64"
      ]
     },
     "execution_count": 64,
     "metadata": {},
     "output_type": "execute_result"
    }
   ],
   "source": [
    "results_df['real_label'].value_counts()"
   ]
  },
  {
   "cell_type": "code",
   "execution_count": null,
   "id": "3e6d2777",
   "metadata": {},
   "outputs": [],
   "source": [
    "# Step 1: Count how many unique models each user_id has\n",
    "user_model_counts = results_df.groupby('user_id')['model'].nunique()\n",
    "\n",
    "# Step 2: Filter user_ids that appear in all 3 models\n",
    "valid_users = user_model_counts[user_model_counts == 3].index\n",
    "\n",
    "# Step 3: Filter the original DataFrame to keep only those users\n",
    "filtered_df = results_df[results_df['user_id'].isin(valid_users)]\n"
   ]
  },
  {
   "cell_type": "code",
   "execution_count": 25,
   "id": "6e7c5c9e",
   "metadata": {},
   "outputs": [
    {
     "data": {
      "text/html": [
       "<div>\n",
       "<style scoped>\n",
       "    .dataframe tbody tr th:only-of-type {\n",
       "        vertical-align: middle;\n",
       "    }\n",
       "\n",
       "    .dataframe tbody tr th {\n",
       "        vertical-align: top;\n",
       "    }\n",
       "\n",
       "    .dataframe thead th {\n",
       "        text-align: right;\n",
       "    }\n",
       "</style>\n",
       "<table border=\"1\" class=\"dataframe\">\n",
       "  <thead>\n",
       "    <tr style=\"text-align: right;\">\n",
       "      <th></th>\n",
       "      <th>model</th>\n",
       "      <th>user_id</th>\n",
       "      <th>business_id</th>\n",
       "      <th>real_label</th>\n",
       "    </tr>\n",
       "  </thead>\n",
       "  <tbody>\n",
       "    <tr>\n",
       "      <th>0</th>\n",
       "      <td>UserCF</td>\n",
       "      <td>--4AjktZiHowEIBCMd4CZA</td>\n",
       "      <td>eXKblEHP3YJYU1Awz08hVw</td>\n",
       "      <td>0</td>\n",
       "    </tr>\n",
       "    <tr>\n",
       "      <th>1</th>\n",
       "      <td>UserCF</td>\n",
       "      <td>--4AjktZiHowEIBCMd4CZA</td>\n",
       "      <td>vuE1iseFrgNPumUEfHIZZQ</td>\n",
       "      <td>0</td>\n",
       "    </tr>\n",
       "    <tr>\n",
       "      <th>2</th>\n",
       "      <td>UserCF</td>\n",
       "      <td>--4AjktZiHowEIBCMd4CZA</td>\n",
       "      <td>EtKSTHV5Qx_Q7Aur9o4kQQ</td>\n",
       "      <td>0</td>\n",
       "    </tr>\n",
       "    <tr>\n",
       "      <th>3</th>\n",
       "      <td>UserCF</td>\n",
       "      <td>--4AjktZiHowEIBCMd4CZA</td>\n",
       "      <td>kZ1q0K13tFYG_ZJrVvsJHA</td>\n",
       "      <td>0</td>\n",
       "    </tr>\n",
       "    <tr>\n",
       "      <th>4</th>\n",
       "      <td>UserCF</td>\n",
       "      <td>--4AjktZiHowEIBCMd4CZA</td>\n",
       "      <td>R17gwW6zn9ilslbdvKdgsg</td>\n",
       "      <td>0</td>\n",
       "    </tr>\n",
       "    <tr>\n",
       "      <th>...</th>\n",
       "      <td>...</td>\n",
       "      <td>...</td>\n",
       "      <td>...</td>\n",
       "      <td>...</td>\n",
       "    </tr>\n",
       "    <tr>\n",
       "      <th>5414963</th>\n",
       "      <td>DSSM</td>\n",
       "      <td>08wIbJCYDZoYdbkDAMAb3w</td>\n",
       "      <td>0zWYKUPvImD7ufl1RQ1jhw</td>\n",
       "      <td>0</td>\n",
       "    </tr>\n",
       "    <tr>\n",
       "      <th>5414964</th>\n",
       "      <td>DSSM</td>\n",
       "      <td>08wIbJCYDZoYdbkDAMAb3w</td>\n",
       "      <td>P0-DrcqRjYEVqWBf84WPZw</td>\n",
       "      <td>0</td>\n",
       "    </tr>\n",
       "    <tr>\n",
       "      <th>5414965</th>\n",
       "      <td>DSSM</td>\n",
       "      <td>08wIbJCYDZoYdbkDAMAb3w</td>\n",
       "      <td>ZrJql3kVW--4hgDQBlA3NQ</td>\n",
       "      <td>0</td>\n",
       "    </tr>\n",
       "    <tr>\n",
       "      <th>5414966</th>\n",
       "      <td>DSSM</td>\n",
       "      <td>08wIbJCYDZoYdbkDAMAb3w</td>\n",
       "      <td>0K4RwxdAcViifyU3Htzxww</td>\n",
       "      <td>0</td>\n",
       "    </tr>\n",
       "    <tr>\n",
       "      <th>5414967</th>\n",
       "      <td>DSSM</td>\n",
       "      <td>08wIbJCYDZoYdbkDAMAb3w</td>\n",
       "      <td>bHPq-vQesglrIsvtkVdHrw</td>\n",
       "      <td>0</td>\n",
       "    </tr>\n",
       "  </tbody>\n",
       "</table>\n",
       "<p>3013170 rows × 4 columns</p>\n",
       "</div>"
      ],
      "text/plain": [
       "          model                 user_id             business_id  real_label\n",
       "0        UserCF  --4AjktZiHowEIBCMd4CZA  eXKblEHP3YJYU1Awz08hVw           0\n",
       "1        UserCF  --4AjktZiHowEIBCMd4CZA  vuE1iseFrgNPumUEfHIZZQ           0\n",
       "2        UserCF  --4AjktZiHowEIBCMd4CZA  EtKSTHV5Qx_Q7Aur9o4kQQ           0\n",
       "3        UserCF  --4AjktZiHowEIBCMd4CZA  kZ1q0K13tFYG_ZJrVvsJHA           0\n",
       "4        UserCF  --4AjktZiHowEIBCMd4CZA  R17gwW6zn9ilslbdvKdgsg           0\n",
       "...         ...                     ...                     ...         ...\n",
       "5414963    DSSM  08wIbJCYDZoYdbkDAMAb3w  0zWYKUPvImD7ufl1RQ1jhw           0\n",
       "5414964    DSSM  08wIbJCYDZoYdbkDAMAb3w  P0-DrcqRjYEVqWBf84WPZw           0\n",
       "5414965    DSSM  08wIbJCYDZoYdbkDAMAb3w  ZrJql3kVW--4hgDQBlA3NQ           0\n",
       "5414966    DSSM  08wIbJCYDZoYdbkDAMAb3w  0K4RwxdAcViifyU3Htzxww           0\n",
       "5414967    DSSM  08wIbJCYDZoYdbkDAMAb3w  bHPq-vQesglrIsvtkVdHrw           0\n",
       "\n",
       "[3013170 rows x 4 columns]"
      ]
     },
     "execution_count": 25,
     "metadata": {},
     "output_type": "execute_result"
    }
   ],
   "source": [
    "filtered_df"
   ]
  },
  {
   "cell_type": "code",
   "execution_count": 29,
   "id": "11ecb773",
   "metadata": {},
   "outputs": [
    {
     "name": "stdout",
     "output_type": "stream",
     "text": [
      "Number of unique user_ids with all 3 models: 527\n"
     ]
    }
   ],
   "source": [
    "# count unique user_ids in the filtered DataFrame\n",
    "unique_user_count = filtered_df['user_id'].nunique()\n",
    "print(f\"Number of unique user_ids with all 3 models: {unique_user_count}\")"
   ]
  },
  {
   "cell_type": "code",
   "execution_count": 30,
   "id": "a116a3d3",
   "metadata": {},
   "outputs": [],
   "source": [
    "# output the filtered DataFrame to a CSV file\n",
    "output_csv_path = 'recommendation.csv'\n",
    "filtered_df.to_csv(output_csv_path, index=False)"
   ]
  },
  {
   "cell_type": "markdown",
   "id": "3534f2e2",
   "metadata": {},
   "source": [
    "### function"
   ]
  },
  {
   "cell_type": "code",
   "execution_count": 2,
   "id": "d3bd98d7",
   "metadata": {},
   "outputs": [],
   "source": [
    "def retrieve_user_info(user_ids):\n",
    "    # Path to the user database\n",
    "    db_path_user = '../../data/processed_data/yelp_data/yelp_user_data.db'\n",
    "\n",
    "    # Connect to the database\n",
    "    conn_user = sqlite3.connect(db_path_user)\n",
    "    user_info = {}\n",
    "\n",
    "    # Convert user_ids to a list if it's a single string\n",
    "    if type(user_ids) == str:\n",
    "        user_ids = [user_ids]\n",
    "\n",
    "    try:\n",
    "        # Fetch user details including the new fields\n",
    "        user_details_query = f\"\"\"\n",
    "        SELECT user_id, name, review_count, yelping_since, useful, funny, cool, fans,\n",
    "               average_stars, friends, elite, compliment_hot, compliment_more,\n",
    "               compliment_profile, compliment_cute, compliment_list, compliment_note,\n",
    "               compliment_plain, compliment_cool, compliment_funny,\n",
    "               compliment_writer, compliment_photos\n",
    "        FROM user_data\n",
    "        WHERE user_id IN ({','.join(['?' for _ in user_ids])})\n",
    "        \"\"\"\n",
    "        cursor = conn_user.execute(user_details_query, user_ids)\n",
    "        user_details = cursor.fetchall()\n",
    "\n",
    "        # Add user details to result\n",
    "        for user in user_details:\n",
    "            user_id = user[0]\n",
    "            user_info[user_id] = {\n",
    "                \"user_id\": user_id,\n",
    "                \"name\": user[1],\n",
    "                \"review_count\": user[2],\n",
    "                \"yelping_since\": user[3],\n",
    "                \"useful\": user[4],\n",
    "                \"funny\": user[5],\n",
    "                \"cool\": user[6],\n",
    "                \"fans\": user[7],\n",
    "                \"average_stars\": user[8],\n",
    "                \"friends\": [],\n",
    "                \"elite\": [],\n",
    "                \"compliments\": {\n",
    "                    \"hot\": user[11],\n",
    "                    \"more\": user[12],\n",
    "                    \"profile\": user[13],\n",
    "                    \"cute\": user[14],\n",
    "                    \"list\": user[15],\n",
    "                    \"note\": user[16],\n",
    "                    \"plain\": user[17],\n",
    "                    \"cool\": user[18],\n",
    "                    \"funny\": user[19],\n",
    "                    \"writer\": user[20],\n",
    "                    \"photos\": user[21],\n",
    "                }\n",
    "            }\n",
    "            if user[9]:\n",
    "                user_info[user_id][\"friends\"] = user[9].split(',')\n",
    "            if user[10]:\n",
    "                user_info[user_id][\"elite\"] = user[10].split(',')\n",
    "\n",
    "    except Exception as e:\n",
    "        print(f\"Error retrieving user info: {str(e)}\")\n",
    "\n",
    "    finally:\n",
    "        # Close database connection\n",
    "        conn_user.close()\n",
    "\n",
    "    return user_info"
   ]
  },
  {
   "cell_type": "code",
   "execution_count": 34,
   "id": "b3d1af7e",
   "metadata": {},
   "outputs": [],
   "source": [
    "def retrieve_business_info(business_ids):\n",
    "    # Paths to database files\n",
    "    db_path_business = '../../data/processed_data/yelp_data/yelp_business_data.db'\n",
    "    db_path_review = '../../data/processed_data/yelp_data/yelp_review_data.db'\n",
    "    db_path_user = '../../data/processed_data/yelp_data/yelp_user_data.db'\n",
    "    db_path_tip = '../../data/processed_data/yelp_data/yelp_tip_data.db'\n",
    "\n",
    "    # Connect to databases\n",
    "    conn_business = sqlite3.connect(db_path_business)\n",
    "    conn_review = sqlite3.connect(db_path_review)\n",
    "    conn_user = sqlite3.connect(db_path_user)\n",
    "    conn_tip = sqlite3.connect(db_path_tip)\n",
    "\n",
    "    business_info = {}\n",
    "\n",
    "    try:\n",
    "        # First, initialize all with default values\n",
    "        for business_id in business_ids:\n",
    "            business_info[business_id] = {\n",
    "                \"business_id\": business_id,\n",
    "                \"name\": None,\n",
    "                \"address\": None,\n",
    "                \"city\": None,\n",
    "                \"state\": None,\n",
    "                \"postal_code\": None,\n",
    "                \"latitude\": 0.0,\n",
    "                \"longitude\": 0.0,\n",
    "                \"stars\": 0.0,\n",
    "                \"review_count\": 0,\n",
    "                \"is_open\": 0,\n",
    "                \"attributes\": None,\n",
    "                \"hours\": None,\n",
    "                \"categories\": [],\n",
    "                \"reviews\": [],\n",
    "                \"tips\": [],\n",
    "                \"checkins\": []\n",
    "            }\n",
    "        \n",
    "        # Fetch business details including the new fields: categories, attributes, hours\n",
    "        business_details_query = f\"\"\"\n",
    "        SELECT b.business_id, b.name, b.address, b.city, b.state, b.postal_code, b.latitude, b.longitude, \n",
    "               b.stars, b.review_count, b.is_open, b.attributes, b.hours\n",
    "        FROM business_details b\n",
    "        WHERE b.business_id IN ({','.join(['?' for _ in business_ids])})\n",
    "        \"\"\"\n",
    "        cursor = conn_business.execute(business_details_query, business_ids)\n",
    "        business_details = cursor.fetchall()\n",
    "\n",
    "        # Add business details to result, including attributes and hours\n",
    "        for business in business_details:\n",
    "            business_id = business[0]\n",
    "            business_info[business_id].update({\n",
    "                \"business_id\": business_id,\n",
    "                \"name\": business[1],\n",
    "                \"address\": business[2],\n",
    "                \"city\": business[3],\n",
    "                \"state\": business[4],\n",
    "                \"postal_code\": business[5],\n",
    "                \"latitude\": business[6],\n",
    "                \"longitude\": business[7],\n",
    "                \"stars\": business[8],\n",
    "                \"review_count\": business[9],\n",
    "                \"is_open\": business[10],\n",
    "                \"attributes\": business[11],\n",
    "                \"hours\": business[12],\n",
    "                \"categories\": [],  # Placeholder for categories\n",
    "                \"reviews\": [],\n",
    "                \"tips\": [],\n",
    "                \"checkins\": []\n",
    "            })\n",
    "\n",
    "        # Fetch categories for each business\n",
    "        category_query = f\"\"\"\n",
    "        SELECT business_id, category\n",
    "        FROM business_categories\n",
    "        WHERE business_id IN ({','.join(['?' for _ in business_ids])})\n",
    "        \"\"\"\n",
    "        cursor = conn_business.execute(category_query, business_ids)\n",
    "        categories = cursor.fetchall()\n",
    "\n",
    "        # Add categories to corresponding businesses\n",
    "        for category in categories:\n",
    "            business_id = category[0]\n",
    "            if business_id in business_info:\n",
    "                business_info[business_id]['categories'].append(category[1])\n",
    "\n",
    "        # Fetch reviews\n",
    "        review_query = f\"SELECT * FROM review_data WHERE business_id IN ({','.join(['?' for _ in business_ids])})\"\n",
    "        cursor = conn_review.execute(review_query, business_ids)\n",
    "        reviews = cursor.fetchall()\n",
    "\n",
    "        # Add reviews to corresponding businesses\n",
    "        for review in reviews:\n",
    "            business_id = review[2]\n",
    "            review_data = {\n",
    "                \"review_id\": review[0],\n",
    "                \"user_id\": review[1],\n",
    "                \"stars\": review[3],\n",
    "                \"date\": review[4],\n",
    "                \"text\": review[5],\n",
    "                \"useful\": review[6],\n",
    "                \"funny\": review[7],\n",
    "                \"cool\": review[8]\n",
    "            }\n",
    "            if business_id in business_info:\n",
    "                business_info[business_id]['reviews'].append(review_data)\n",
    "\n",
    "        # Fetch tips\n",
    "        tip_query = f\"SELECT * FROM tip_data WHERE business_id IN ({','.join(['?' for _ in business_ids])})\"\n",
    "        cursor = conn_tip.execute(tip_query, business_ids)\n",
    "        tips = cursor.fetchall()\n",
    "\n",
    "        # Add tips to corresponding businesses\n",
    "        for tip in tips:\n",
    "            business_id = tip[1]\n",
    "            tip_data = {\n",
    "                \"user_id\": tip[0],\n",
    "                \"text\": tip[2],\n",
    "                \"date\": tip[3],\n",
    "                \"compliment_count\": tip[4]\n",
    "            }\n",
    "            if business_id in business_info:\n",
    "                business_info[business_id]['tips'].append(tip_data)\n",
    "\n",
    "        # Fetch check-ins\n",
    "        checkin_query = f\"SELECT * FROM checkin_data WHERE business_id IN ({','.join(['?' for _ in business_ids])})\"\n",
    "        cursor = conn_business.execute(checkin_query, business_ids)\n",
    "        checkins = cursor.fetchall()\n",
    "\n",
    "        # Add check-in data to corresponding businesses\n",
    "        for checkin in checkins:\n",
    "            business_id = checkin[0]\n",
    "            checkin_data = {\n",
    "                \"checkin_date\": checkin[1]\n",
    "            }\n",
    "            if business_id in business_info:\n",
    "                business_info[business_id]['checkins'].append(checkin_data)\n",
    "\n",
    "    except Exception as e:\n",
    "        print(f\"Error retrieving business info: {str(e)}\")\n",
    "\n",
    "    finally:\n",
    "        # Close database connections\n",
    "        conn_business.close()\n",
    "        conn_review.close()\n",
    "        conn_user.close()\n",
    "        conn_tip.close()\n",
    "\n",
    "    return business_info"
   ]
  },
  {
   "cell_type": "code",
   "execution_count": null,
   "id": "022ebf0f",
   "metadata": {},
   "outputs": [],
   "source": []
  },
  {
   "cell_type": "markdown",
   "id": "7c7d00f0",
   "metadata": {},
   "source": [
    "### DeepFM"
   ]
  },
  {
   "cell_type": "code",
   "execution_count": 4,
   "id": "445e7aea",
   "metadata": {},
   "outputs": [],
   "source": [
    "df_candidates = pd.read_csv(\"recommendation.csv\")"
   ]
  },
  {
   "cell_type": "code",
   "execution_count": 5,
   "id": "0850e9c0",
   "metadata": {},
   "outputs": [],
   "source": [
    "all_ranked_results = []"
   ]
  },
  {
   "cell_type": "markdown",
   "id": "bbe2d5b5",
   "metadata": {},
   "source": [
    "### debug"
   ]
  },
  {
   "cell_type": "code",
   "execution_count": 6,
   "id": "a39d8047",
   "metadata": {},
   "outputs": [
    {
     "data": {
      "text/plain": [
       "array(['--4AjktZiHowEIBCMd4CZA', '--KsuCSkGGvDKTbdK9NvIg',\n",
       "       '--Vu3Gux9nPnLcG9yO_HxA', '--XwFm4qERD6J5SX0JAsbg',\n",
       "       '--_H9j6ggxvqhh9nPofZwg', '--_r6E98SNIrGU7weyNxbw',\n",
       "       '--u09WAjW741FdfkJXxNmg', '-02tzlpQosZ9HE85jEtV6Q',\n",
       "       '-05wJ5BVkv8lYBIC_H5F-Q', '-0H6Rm6dCi3pkFBC26HsoQ',\n",
       "       '-0KrCHEsOcjJ6N4k_k1A9A', '-0rW5xrSCH1HCnSEmoQA5A',\n",
       "       '-1-pTXLHph2vcqRCNeT4_Q', '-13RX4Gy_F-zoLIenWAo-w',\n",
       "       '-16bjdAbpdPLuGrfGPSPNQ', '-1MF2tosrw2WcCxeVNk81Q',\n",
       "       '-1MiSauypbVtNnWts4aXpA', '-1WbN1Qd-opw8u3uEqs2Kg',\n",
       "       '-2cKJFFNJ9XVyWBt62mWvA', '-2nNiAnDaSbQayynsqgL6Q',\n",
       "       '-2zeaby7CmyAb6AIjX0cmw', '-3HYmxW_5Gsg4I0eH3ju-Q',\n",
       "       '-3agoL-p87vZteiDzrz5og', '-3m3CcApRSL_k2XSluzuMg',\n",
       "       '-3s52C4zL_DHRK0ULG6qtg', '-43uAiZZ6wsGhaurBi3Cdw',\n",
       "       '-4D4Q_Fxj_rEL32t0VtzFQ', '-4RMTrzXEjs0ttG7stsl2Q',\n",
       "       '-4adygW78x5K_xSG0u3Y6Q', '-4mjLXqAoAtQjqDFo9q9WQ',\n",
       "       '-4r6OoklyemH7Up70wIhMA', '-50lprJ4kZ-XCM1hPU2vqg',\n",
       "       '-584avr5GMIqv-9Ut85Ywg', '-5Slg5hO3useiypXYgZkGg',\n",
       "       '-5Yx5X3OxosNU5gojBug8A', '-5e4VTnu_pR4Gpv3VSncaw',\n",
       "       '-5ffv9jDtTPfpdzOBERKMA', '-5jhwwoyXYRzQ0-sr2HCBg',\n",
       "       '-5whywrvs1BItphhVpyhfg', '-649i19_jvF5aNi7DAEo_Q',\n",
       "       '-6ANKdm808QNwIt6Wo82-A', '-6Fk7QmNWJDaDKwwcgS8PQ',\n",
       "       '-6IEezWnzsB8THCxaVFyNw', '-6YHxNhkE2hcT-YGVqjI0Q',\n",
       "       '-6ZhDj655l0dKia8IDKYoQ', '-6aZVWznrSeaV6Wyqi9r_w',\n",
       "       '-6it8Ywn7yYiAofCd-fpJw', '-7-d8x5w5c9QolAMgPTKZg',\n",
       "       '-7Eh_8y1ihj3nNtdIetiRA', '-7Jz5rawtZ4EGf8QhDcAlg',\n",
       "       '-7XrSrJfHndHc_taEXurTw', '-7_OQiwD8HojEj2qeRSIWw',\n",
       "       '-7c1r5P0l_ovoX1a2wyhHA', '-7c9_cVlKtKD0MozmLLrTg',\n",
       "       '-7iJF8OzQ4Ax-3igJae29A', '-7qUbOVWJp2NT3f_TNuIBA',\n",
       "       '-8PU0Z4Q2Nc-sY0eBj4DiQ', '-8ZCYEX1LWzDO6Qmj3EdxA',\n",
       "       '-8a2Ju7w0CEr3jCbf1AudQ', '-9GExktXOjboVL56j0EX7A',\n",
       "       '-9HSI_V_J9oUhg0qwJl-oA', '-9OEoNjcLa9nBiu41nHiaQ',\n",
       "       '-9OIms4jE1bdD1fz7AzAFA', '-9bh6ld7bpeMv26HW-kYjg',\n",
       "       '-9qrDZPYhvhGisml-LA1vQ', '-9tNezRmySd6LpXfLCMYgQ',\n",
       "       '-A3_BwJ6eOrdUOje8hWWCw', '-AA36SlGJ4pADOOfi2l57A',\n",
       "       '-AGLoncQKBFVYCkfe59Hmg', '-AJlsYrhezmfIoyMiXPExA',\n",
       "       '-ATWrYEqBxsNqevq5UyqxA', '-AW0paCexiQJgLVKOoDkiQ',\n",
       "       '-AnMcazI_LSSLK81qlm7mw', '-AsIFz8wFYnV1C8TuiV7BQ',\n",
       "       '-AwZjQNFpCqc0bVNNyBqwg', '-Az9H695_MZmte8uGu_qyw',\n",
       "       '-B-QEUESGWHPE_889WJaeg', '-BB9oz-WY-H2oBazb4Ltzw',\n",
       "       '-BFGzRJmiKDdJ8loKN-EYA', '-BT7yKvo-CY0apW8xzNntg',\n",
       "       '-BVK-mFx5n0bPtulAPpXew', '-BX5x3Ys-2JzFba3LiWlHA',\n",
       "       '-BZn63YaADy9GpzHdncDtA', '-BdXedi9sQ6oA_QPtCqI_Q',\n",
       "       '-Bv2DxQtG7xPYdJqlqL9fQ', '-CTVKe6KxXl2hPjFKHhxaQ',\n",
       "       '-CjssPDDDecPnqS9NO7szw', '-CzwjrantVGMmZB8Qj_7-Q',\n",
       "       '-D9dcHFhzLuQfs6P3S39Rw', '-DHgkZ15lw62Nb_K0IhwJA',\n",
       "       '-DM4AmThxktZflgOccMp7w', '-DMJL_fcLZCvlqzMm97giA',\n",
       "       '-DgbjFyHyHUHYfZX69SpRQ', '-Dk8JFqprGGJOsn7g37_hQ',\n",
       "       '-Dt5o6GpQcXQfVeWpHNtDg', '-DvWijj6j_S2-l2mkiViuQ',\n",
       "       '-DxLO1mpm0xYXRHelKbvYw', '-EX1hrPRBqNkVavtMllTCA',\n",
       "       '-EbVuBtFKOalsIcNlfc7Fg', '-Enu_Cc8lJ-yVcRvatf0hw',\n",
       "       '-EoJZdxSKhowrsFMBAPE4Q', '-EsTy2PDFHI1rNek9OVWgQ',\n",
       "       '-F2y0jIa21QxnWgxXaC7TQ', '-F7TSdsTA244F71mBVRioQ',\n",
       "       '-F8_j7kM4jLVkVgx2vjPtg', '-FZBTkAZEXoP7CYvRV2ZwQ',\n",
       "       '-F_kQNlbSEzZedUfZZwrVw', '-FjLaUdIRV3I0Pv8i-ICfQ',\n",
       "       '-FlaR0jIF6LmVUJNZW7lYw', '-FvDkLBWEzhmYe5-kBBEMg',\n",
       "       '-FvW27M5s9Fa7XhoGZNZog', '-FxsSuwDbIII7yo5BjHpiA',\n",
       "       '-Fyi0J0MoIFz5g9T-wtS4g', '-G-s0z4MVaIjHIRAWp1myw',\n",
       "       '-G7Zkl1wIWBBmD0KRy_sCw', '-GDdBOfhrxn7lAGblLSoqA',\n",
       "       '-GKEFg_92pp0q842clS_Jw', '-GTDgCPa0LkoDBATv4Qptw',\n",
       "       '-GlheyCSx4bu0PYYt-fRnQ', '-GmiE0fXRpPQWse0z1UBKA',\n",
       "       '-GowNe73gDZs9MfS3ugJDQ', '-Gs5ZYB22qPfWigiuhp50A',\n",
       "       '-H6cTbVxeIRYR-atxdielQ', '-HUskiwxMs8OeThnmEfclg',\n",
       "       '-HYCAMf2ml717YD5Y9PKIg', '-H_E1UWNXaj3y8LshmsVag',\n",
       "       '-Hapxd7xjdCmCzz6NxBK3Q', '-Her419l4DCjSFey7UjmtA',\n",
       "       '-Hq64CCrrCzhs4D88l-Eog', '-HtYnx7Tk-ZKUE2Gma5wMQ',\n",
       "       '-IHHZ9UtUV6j0H48JFje7w', '-IJ_zJmNtpEj9uGtIDu7lg',\n",
       "       '-IM7V8iBpXrgGS556kxjgw', '-IbvvYKwa5fvl67RXimaBg',\n",
       "       '-Ih6_Mej8VbJh0qZDa4r6g', '-J9mS1WHKPIZ_F45ovjKJQ',\n",
       "       '-JAW8OycPJP2iZ0zULuWiA', '-JBA4yBlLM0pPpjqRRpNUA',\n",
       "       '-JN2qTghHtB1dW4YDVlBRQ', '-JvxVpor__IMGYvft5fpWA',\n",
       "       '-KahRmNBsG1WHGdod_uj8g', '-KduD3wwydWDq2GrODh2tw',\n",
       "       '-KpEgEen1tj-jdjIS7uVOw', '-LBWx5-3tutEdZFoIuoBMg',\n",
       "       '-LCl9oO6Yk8iNxloqfwHIA', '-LaL8s1Xg0jg2_lhrYlSUA',\n",
       "       '-Lpme8lSnX8jrUy4i7Ja7g', '-M9cyh6nLa3C6VY_usk4vA',\n",
       "       '-MEKm9prd20uo8eG0oCkGQ', '-MGu3-gMFLizt449fr0OTw',\n",
       "       '-MK7GGRiG9OQeUMqkYeVqw', '-MKaQrnrzBdWADOX2faH-A',\n",
       "       '-Md9jUPXg1m-FqvX6Ov6HA', '-MeResg7zWIywg7JwuMvaw',\n",
       "       '-NDurCQ1u3CbUd05M7MaIA', '-NEsqgAweDXmhy2iSASpjA',\n",
       "       '-NXMmOULp-kUv_LO1V6JVQ', '-NbeVN5tnwdyYAvdNkKMjw',\n",
       "       '-NfYRQ94Uk2weH5O1OIK2A', '-NipQme-3bdfY3LlfBwzCA',\n",
       "       '-Nmexeo0LnHkabunMUhEPg', '-NpZDO99TEUZWg3hbNL11A',\n",
       "       '-Np_pQm-hesB3AOBG0P_Jg', '-NwtV6xvM4zSLrSioHUOMQ',\n",
       "       '-NycZLw5rPxqwrkKKI-83w', '-OZPBHH7RzyPIai4AlPWKA',\n",
       "       '-O_FGGkZEeg509iOZADxDw', '-OeDOCY60_erQ_NXI7I4lQ',\n",
       "       '-Oer2os7LrtAagVuWSN1AQ', '-OhMUW_qEr8uvFrhjDNHJg',\n",
       "       '-Oqfoc4KyhzYY0qvSkxkrg', '-OwhFX7GkOg5C3MONMZNrg',\n",
       "       '-P7QbuJKBALJYH2_cBgj8A', '-PHhewouMe4OcObjdqBWAA',\n",
       "       '-PKqpPxTS_u3_bHFf8Daow', '-PQLORtPeAtzkt9bNI2F7Q',\n",
       "       '-Pb9gXleMSXS8quej_zL1Q', '-Q-vMOJCVf2UF5AdLwCkig',\n",
       "       '-Q8cGu_PGBYpxgI74P3dMw', '-Q9xKNMQVip1V6D-CjITVg',\n",
       "       '-QiR53FWCXQOhBziKUTY7A', '-QmEKJ_CzZnT9biZHddfZQ',\n",
       "       '-QrVSo-1XhXERcmk3ePrzQ', '-R3Liu8xDWu-VpWSW8YlKA',\n",
       "       '-RHXnSTWGanCuiTHnoYMgA', '-RI-qSOmIIzg1j5lFZPzDQ',\n",
       "       '-RWkqWfBxJB54eJag7D52A', '-RXXJeHviyE3kdZFtT3r7g',\n",
       "       '-RYue2CCuEcmwZPb9g-gPw', '-Rz2eMhH3z5XT5vZNkA2XQ',\n",
       "       '-SO_K8oLVH_9J23z2MtjGg', '-SPQHNQUDaoKg93u6gf1Dw',\n",
       "       '-STTav3LzAbTumgncDdMVg', '-STnJgWqqLiKp8Ny1aVr1w',\n",
       "       '-SVZFeUaNFgicSsYlyDR0A', '-SdWy2JAjusM1DzF3nkrvA',\n",
       "       '-SigNCNItQDtSq27j0t_tw', '-TBFZ48Er0nXjSZpG4BmBA',\n",
       "       '-THLGnsYKu3yQAsy_tt1fw', '-TLXQfY2lZ6DVWQj4BosxQ',\n",
       "       '-TWmOCrqnTwfO5k04S3QrA', '-TbX3AYOIEyo6-b67MT8eA',\n",
       "       '-TcZ82WJnqdH9CbTuxuU6Q', '-TetRsooVLNhPxJ8MPErhQ',\n",
       "       '-Tg5YTEMbnYw3fQN99xKCQ', '-TvuLEPjoqQBK3pffL62iw',\n",
       "       '-TxxAxdrASEgYeXTZDSQFw', '-UCFeI8L3jxJGPoUp8v53Q',\n",
       "       '-UFatZoBJhGLAJ8i9Uva7g', '-UHtM2GTnzaJ0XYaYLXi9w',\n",
       "       '-UWOlq9KZDTot0HGikmDNA', '-U_Qa-rP59Xia19dTqZNIA',\n",
       "       '-Ub6sTS9u9scC5y_85l8xg', '-UrDuRNdwbYuF7FFEYEkng',\n",
       "       '-Urzw-AhJm9yCsRbX_x2zw', '-UxpAbsTDDUE0EPh7T-Vzg',\n",
       "       '-V7frksbFjKQYVhrPnnlPw', '-VJPD_9RgP61Cfn-WKyx0Q',\n",
       "       '-VOCFO1QSCjAxl_0LIrZ9Q', '-W2gwu0MPXHyT_8q61ix8w',\n",
       "       '-WKOdr26Clxm5pIZ_HLSSA', '-WM58wLjtlHlR91xVfM1FQ',\n",
       "       '-WUsD4lhcoVb6Q0rlWqvLg', '-WcB-MUolRfvBmJ2lLU_cg',\n",
       "       '-WdMmmWVU5TZ9bfy0Cg3Ng', '-Wg_fBZw70ybV_BZPdZseg',\n",
       "       '-Wu93nlWpC56t8_0IHs4UQ', '-X2ssY7sSqgkA2uBE3CaeA',\n",
       "       '-X7_fjIesbrR2X7oYATNJg', '-XGgO8Ok5qTghITgxPRWOQ',\n",
       "       '-XPqJCVHFC1P-kW3oduKaw', '-Y01uXhlyewOSLEjziA5NQ',\n",
       "       '-YAXThScggsREXhutAHkAA', '-YEhEw6Uv5tbdUfZtm8Gsw',\n",
       "       '-YJmEquORmH4mmMa9OlMhg', '-YKOWciKFYcKxOCY_CIkYg',\n",
       "       '-YOWyjJ0bOdSN0LfDSLC4Q', '-YwLELRcGolyyRhZtA4hFw',\n",
       "       '-Z1lTwsRV-bBSO-tIbIqdQ', '-Z7CI7cvz5oRf6Qjy_cleQ',\n",
       "       '-Z97B_kIy1-w3nifW1PQZg', '-ZHlPAvlVdgtiu6DiCq7Yg',\n",
       "       '-ZQXwAcRhu_htymJTIFcoQ', '-ZfVRD4fYZl2XKpm8Y4LYQ',\n",
       "       '-_-97I8y6aTJjpZMKyd4TA', '-_2h2cJlBOWAYrfplMU-Cg',\n",
       "       '-_Lfm5bztNCYXaBmrqY7tA', '-_NH9hcOubEKHoYeO_VOag',\n",
       "       '-_OH-t_Tnm3-I2RpPjEjwA', '-_SwjOjXFJa93KO4QGZOfA',\n",
       "       '-_TyPUcWnWfpC-KejP6Qnw', '-_UsvsLV7kxl8np_MRokMQ',\n",
       "       '-_Y8Mal7S750TsB6yMMDHA', '-__Mk4KYnfGnyYEi9NKfPg',\n",
       "       '-_c83Ylqjx6rwu9lBNS6Yw', '-_dkddkIz2_KusAQuZiS6Q',\n",
       "       '-_tVjkjgxxMHlvsj3sCWew', '-_yn1IOKetBJuPxfK6u8IA',\n",
       "       '-a-Sv3iht6zhmA7Wi7jslg', '-a4rD2Sa7hvqF_BjC3QBdQ',\n",
       "       '-a8kCXUGCaGL1wN59YtCzQ', '-aAgfEUH4UoFDRXZCfJSUA',\n",
       "       '-aOyKAkjjEEyaGrXB9uKCg', '-aaSXY18HFB9h-5KPX8aSw',\n",
       "       '-b3giTuADjiihFgGDvlWCw', '-b66K5diYIQCydShlfkRWA',\n",
       "       '-bE9ajKOZ5CuQy8zOF_DmA', '-bFmOUX6D77NXDNXlC96aQ',\n",
       "       '-bPILQ2SojyITjuQQF7KiQ', '-boyAT-5i6HyD7IZxDOccQ',\n",
       "       '-btcMnOND8URTv5Nwf-FjQ', '-c1GeRqhs2-uAdygMSTssw',\n",
       "       '-c7imk-hnsbfSqNe68xZcg', '-c9t77LeAfhc26e_VtPa5Q',\n",
       "       '-cDcRcTafKIUSvOeVkwlIQ', '-cUXBYcnwZl81o1JCz3qFg',\n",
       "       '-cWGEpeF2eUkJ2hWu-tD7A', '-cefE54dkMI9cJ8kWudebg',\n",
       "       '-cu7dZgrH95-VYcKzZSPMg', '-cwoSUKPvN3Xp0fvNIdP8g',\n",
       "       '-d2YdvXFPknukoWcJE74dQ', '-dDp99bqj2FEm11JUPXhug',\n",
       "       '-dN3ww2WYLkwAbZtJHcLHQ', '-dSBNes6SAT-PC_7cSr-LA',\n",
       "       '-dV5NyHfryP-s8gz6BF3zQ', '-dbM944bfCz-KeUD5gTErw',\n",
       "       '-dbvRNHhBPs4eXhu2k0_xA', '-ddIIDmG3b8k7-jALGM-1A',\n",
       "       '-dgC1iRp_JqBTmn5d1wRhg', '-dnERQYQCDVZFMMuh7bBDg',\n",
       "       '-doYBxcOjqWkUcPjc29otg', '-e5VFAI-WBHBL7PFMNArDg',\n",
       "       '-eBkx1Hl2A40GZAaZvXR1Q', '-eV9o-F_ejw7ov4s4FFVEQ',\n",
       "       '-eXQMvcIcOaX56CVSWVteA', '-eg6fCMY7UsXzd-ImafXPQ',\n",
       "       '-eneOTwr5fAo0bjYXHaPoQ', '-eoXg6Aq_7DPSGjk22kReg',\n",
       "       '-f2KvHiPd_5Wj_eL1JJUCQ', '-f8p-dBjGKrwVsi1sG6Sig',\n",
       "       '-fKG0wVdEPqy5IxGGznaTg', '-fMK6HsJsnH-Nscz2JwTaw',\n",
       "       '-fmwin22AJpmbRXvXpMxUA', '-foIP_JKiHcomkmI_M-8GA',\n",
       "       '-foYCv84A0n0HmsrDEAhtw', '-frybFHNHWnwd69LFXkOVQ',\n",
       "       '-g3XIcCb2b-BD0QBCcq2Sw', '-g8Cl0OINIPcGf1gZsyjlw',\n",
       "       '-g8nkLX6PGNDSgoy4YzjFA', '-gE77ci-b7ApX68uIdAnaw',\n",
       "       '-gFDA_I0xfeU9P4ZURYmZQ', '-gl8HgLsNHExQqmtfQ8lgQ',\n",
       "       '-gnVco-DuGt7zvPnj16ZnA', '-gyMF41B910teLQOVGZnHQ',\n",
       "       '-hFSXulXh22Es29Y4F4cgQ', '-hKniZN2OdshWLHYuj21jQ',\n",
       "       '-hb-jWOSILqYDe8HLrr9aQ', '-hf6FNSAnsIp1MMdtRJgBA',\n",
       "       '-hxUwfo3cMnLTv-CAaP69A', '-iWrF5qf9AddYxAqlEwK1A',\n",
       "       '-ibb_cZiaht_DjkIqDUF_Q', '-imdPiD9l7cS-x1jEDAS-w',\n",
       "       '-jJQl8lKSgT6pnpBAFhTTQ', '-jqm_UtGfAxHmLlsQNpM-A',\n",
       "       '-jt1ACMiZljnBFvS6RRvnA', '-kAQ-PSKx3i0st2B4aPpTg',\n",
       "       '-kDpJFEVRpoAzxJA9FFwTg', '-kLVfaJytOJY2-QdQoCcNQ',\n",
       "       '-kTKEXtFsb9CewUXCPTAlQ', '-kW2VFPCyyizlqwnj3CwHQ',\n",
       "       '-kuyXi1FKIpsV1CsXGQu4g', '-kv5SgKsr1i8C9dljeGPcA',\n",
       "       '-l1bn8D8iZ0n9Q0PgIDGBA', '-l5HFCjV6nKqp6PAcqObpA',\n",
       "       '-l9giG8TSDBG1jnUBUXp5w', '-lJ0XSiPzJdxxbcFU4uRqA',\n",
       "       '-lJ6tQVJKFw5vKvWcNR_0w', '-lSlKN2KghXU5jHY1-cv-g',\n",
       "       '-lTS1Ygsr9Y7urJszsbDUg', '-lg4J2SOILBJOxqH4S0x4g',\n",
       "       '-liQSRjb2O_Kf8Xv47WaiA', '-m2wWMUepSVL0S2RxRAgwQ',\n",
       "       '-mGJPKC0owz3HTrrZfgFUg', '-mJaCibjXvT7t49ij9Xx5A',\n",
       "       '-maGFFNQu4OoqATXJBXiAA', '-mm2-9291QyM1zpbnJRfsA',\n",
       "       '-msWxrqkNDSJxrNZwGlicg', '-nCH_8DkYmO0qcmG0Dr5Ag',\n",
       "       '-nHUAn6IfY2U-Joq7CuLEQ', '-nLeDin1p7-pcqo_-lRY3w',\n",
       "       '-ne-7caCLAk2j3kD7tzBGw', '-njdCWb2FkFFZ4VLZfgXJg',\n",
       "       '-nmTwBe8ITqGPNoImxWCLg', '-oC-DVZeD2VYloy6nSnHTQ',\n",
       "       '-oJU-p07RO4RrODHiDe-WQ', '-oQKlh1YJ-g49rNBJ2CmJw',\n",
       "       '-ocY4z7_hBL1mFBV48rpew', '-oldzSOhMXzZhZBuoh0tlQ',\n",
       "       '-osCLAwDukSX4xqIghmIjA', '-ou42X2Ny3erNTjUmYn60A',\n",
       "       '-pA0kPyInGN7zqaL2SxZTw', '-pPXOSt_46LzSp5_DSaSiA',\n",
       "       '-pUJtDKDeYYBa7ZoyJFBMw', '-pY1-iQMuIsatYzN669TQw',\n",
       "       '-paoxagCisJZXAhiVmwuXA', '-pfPBJzVB-EBwaFX8B59gQ',\n",
       "       '-pgtoEfNDBIG9DXV2L-Fkw', '-psUwKpni_VLBkiP-uLK7w',\n",
       "       '-puea0ToOJktj_Lkt4PBOg', '-pwvrcd7TGulm0tJeQzHRg',\n",
       "       '-q-TYZYa7o-zyKzAvgChyw', '-q30ut-nbjurnnowVoUNDg',\n",
       "       '-q6PI0Vs6Ci6haIB19u4_g', '-qAvMjM58F6SU09UHG7VIA',\n",
       "       '-qIPvkGU6W-ARviY5aIH2A', '-qMPPIyUxYMa0UZezcyn3A',\n",
       "       '-qPdaruV2eB3woGXfoWEjw', '-qPeQ_cDRfCnU1qVjNcCOQ',\n",
       "       '-qd2MdPJb07HxoBpqh9xWQ', '-qzdU0_NywmtPDB6WObYVQ',\n",
       "       '-r062wagCApSPi6PJ2ePEA', '-rBMUsCpWE3103q6ombunA',\n",
       "       '-rBPL3ntdbLnTw3uwZLfQw', '-rEUCXbUtkw0rWRdxnmRMQ',\n",
       "       '-rGU3wo4fgEnGRboYdMTjw', '-rQ706URCVoMAIn-cq1x2Q',\n",
       "       '-rYxChxsPwAd7JyK4yW65Q', '-riM6paMoa6XN6jLtD3zBA',\n",
       "       '-roDfyKNZ-ompb_myak7aw', '-s2Sf85f1QzTTeQnyuoE0Q',\n",
       "       '-sS9EH3qCpL7Thbp0R-UBA', '-sac-sCaPLUR8llnx7HEUg',\n",
       "       '-sfXjRSLdZACRy6kXTOCvg', '-sgySGhEoP9fbzDcQMu5Lw',\n",
       "       '-shHTy1CEmSMPVSehdASaw', '-soQ5IY73WpWvnv-98efLw',\n",
       "       '-srZqmR83vjSfR6PSUyVUA', '-t16WTKzFVzbC3sJ2EW3Uw',\n",
       "       '-t1ELS3wtVwpFHozbvNTpQ', '-t9pK2UfNPJJGwSM_c4KFw',\n",
       "       '-tbB4Yfu7MTOi7nAC-kPvA', '-tePwC1eknsTTsJcgKUfwA',\n",
       "       '-tz9i4wSQg4vSQzAA5Svqg', '-uGMDCVbBk1gH4miepwNIA',\n",
       "       '-uJaPhoNXikYWsb0xC09_A', '-uM1ujzuJed-2QmFS-6Vog',\n",
       "       '-uMqK8W_nWbRUWOFGW7CBw', '-uN9aA3CNY1Bl7M55Dopuw',\n",
       "       '-uRJ4dnraEaTZPT6fE3-eA', '-uWiPg0mOT8yW5iHIlNmfA',\n",
       "       '-uglef88WEwkI6UlAqwO0Q', '-uoYe4UkmJkYBP6aDTvlOA',\n",
       "       '-v2IPgrUSp3ZPvwLvLFAYg', '-v8nveSjJ3GihrRETN6j0Q',\n",
       "       '-vBbg7fTK3y8W0PtpzlLWQ', '-vFl5LV9Aqd494V9F4FBcQ',\n",
       "       '-vIpjG0zJXrBkuxvY1U0pw', '-vPtYuV_dMPb0Bbzg9ECVw',\n",
       "       '-vhy1GbvnAhkgeHkvk_Xww', '-vmpU0f609hjiTFwTWnucQ',\n",
       "       '-vqa0ss4956pvKg--I3q-A', '-vuflN4zvroYP5_2s2HMxQ',\n",
       "       '-vzCAGgF7gBf9-lxtmspmQ', '-wDwXIbaaHgWd9TeoTGIzw',\n",
       "       '-wHb3saowEIu9s6Cz6zYLw', '-wd41HcxuwQwZJRW9HoO1A',\n",
       "       '-wdWkg4IczkFTL1eSb_Vsw', '-wwJAl9PeGCH8N7jg1eRlA',\n",
       "       '-xMh-RMv1W2fJCZQ7y0Z-A', '-xTAmslBDE_mq-6Kbxieag',\n",
       "       '-xWtKHxDqJFydRgeg8D69w', '-xdsX7jzXH6UhJZhvzrLwg',\n",
       "       '-xtxhoC7IquHAA2IUTpLBA', '-y-R9jOTso_XAjDOrabdFg',\n",
       "       '-y4O_E79Z6QwEI1p4OU_0w', '-y7uVTgrnWWSulo2NUwywg',\n",
       "       '-yLEbXJEUtS_SjlB9tabaQ', '-yPMCoWJVzDgLkeilaZIqQ',\n",
       "       '-yY59glTwwEWiGzSlwI2_g', '-yi-3gWJn_vccgVDh3cNpg',\n",
       "       '-yqCTPAK9e9lxM90NQAlHQ', '-yrJh-TX-Z2jde5VJz86lg',\n",
       "       '-z3H9n37yC4JiFldoRgbPQ', '-zEIB2bwgD2zd4CiAdJCLA',\n",
       "       '-zG47SEyhX_R0xHtOVqnnA', '-zHcPJdu9uBpmP_20uHsHg',\n",
       "       '-z_Gplyh4E9K9izTvLtB0A', '-zjtYFKqNhStP1Rpud-kew',\n",
       "       '-zlQiR3mIJcu51Hw7FFy-A', '-zsbL7MqauI6roiC7YPJpA',\n",
       "       '-zuV9Du1HFHaQ6GnVyGWsQ', '0-5xw_rzNdoq0yezQPPLPg',\n",
       "       '0-8rHexnylRxhSO_KH5-rw', '0-TOlXYzoUcM9u-nQzM1AA',\n",
       "       '0-hb63A9uWjR1YIyVMu6rg', '0-n89YwF9LExnPIwgIVhoA',\n",
       "       '0045TtOuxbg0M_82rf4LCA', '005GchcM1HWBH3SFKrIxBA',\n",
       "       '009U_T7U644EAk5U3Bxmew', '009ljYtlWQR4dNWVO4WVcQ',\n",
       "       '00BBefH9DpD3fx9YjVB-bA', '00Cz_vdInMHpTRjqbWjK5Q',\n",
       "       '00IPtk7iLBxuRDFBbVtlTA', '00TOoSIg1EglVyLXCzeh6Q',\n",
       "       '012s68_rFT4vibI_VugLEg', '01B23PGLzHF8ZkXCoxITwQ',\n",
       "       '01IhGl0XmthVaN1n0yVpfQ', '01N9Otf8MzopKw4fp8A2Lw',\n",
       "       '01Ufq7I1hpRE1-83rFZT9A', '01ZpZzIntKw3M6wR0icMaQ',\n",
       "       '02-SSy4J4Kfmnt86LNKd3A', '02GsATC6GJSo4AOBTq4dfg',\n",
       "       '02H49g16MdRoZKoX6IEoFA', '02M0iCvzseXev3j9h2MZHA',\n",
       "       '02Q2AGW8w34t8xqO96RF2w', '02Ri-aJ-j8gNtVbp8B5rXA',\n",
       "       '02aRY3hTCHmVkmL8aHMbtg', '02hiLsAsIWQ4HpoarhCQig',\n",
       "       '02iXsCSnNmF5aEOvhvGs0w', '02ilC8hn5-OonrsvBuF_IQ',\n",
       "       '02qC5oS__MK9jB-ahxPw0A', '02tYMxGnwAwr_i2j5vh9XA',\n",
       "       '02wEYaZtJnYbTU_ckwP-qQ', '030xaqW2akhXYFdmOTmEng',\n",
       "       '033vQdWDVUgBR4gzTUuSvA', '03F1c27jkAikld3z5tSdpQ',\n",
       "       '03WfZImLqzK_FC3uU41Pgg', '03_BDF-7hbbiy9qId7nccA',\n",
       "       '03yXdJ4ulT62SMvpyLalRg', '03ywGcD8aQraY8zInfqknQ',\n",
       "       '040s1t6Bfq_aB6a4AEdKQA', '04D-K1IjJgDr8L9eBozfcA',\n",
       "       '04E2tyBChmxUeSw1awE40w', '04JlTjJRbcv_kS9xVPhOdg',\n",
       "       '04QDLvbl2ZDDjJznswVtcA', '04dMX-XE0wBhkkP3w_LfZA',\n",
       "       '04hS_dGfUZd_5iJYRdPHLw', '054f-dZbNKLY2oQZdSgHWg',\n",
       "       '05796MJj-TwACdzscsqpKg', '05HxFEbNldB-bDMK9_gGrg',\n",
       "       '05N0BHAFuLDH4hEPHris4w', '05YIWloogqe4GzYP2iiOjw',\n",
       "       '05e1vChXItt0JfwFBjpmJw', '05kMHFapG_z7YPZYhtIEEA',\n",
       "       '05xtJRBaxKlXQ4LfGXV_qQ', '064Z_GuIr54fgJdmDXqnGA',\n",
       "       '06NP34MOqHVaoppv1U0NSQ', '06Ts4Ma1oyTmjYjo6Lw-2A',\n",
       "       '06Vh6dw7DO0Aez07U0iZwg', '06a4nXB47hBDFaghFaTqtA',\n",
       "       '079OSWt6Uk1JVp1PXsTvIA', '07P10hEQf0gboe-JgyeB_g',\n",
       "       '07UEBeoQFeKo04oaOFaQBQ', '07aVWNhBhpwqW3MdqoKDKQ',\n",
       "       '07gdGKMkho4maba0lQyoQQ', '07iXf2xfdkyrjPDXm1hFQA',\n",
       "       '07shvAOb8znglcmjuNZxaA', '07tlfHzEdyhFybXUD36m8w',\n",
       "       '08CXQlc71bRpi8niNyFueQ', '08FzsE7dBXHSqU77H0-Odg',\n",
       "       '08L79P89GRdD6VpjzHeCsA', '08LioS7B84KsW5DmVOG_EQ',\n",
       "       '08V34sb6sPwdN97RzRXCNg', '08aghuhoTvCwFd4miecxCQ',\n",
       "       '08frwTJwLdJPM0gWDlRLdg', '08m1pM5keN0lx84c5Jyquw',\n",
       "       '08wIbJCYDZoYdbkDAMAb3w'], dtype=object)"
      ]
     },
     "execution_count": 6,
     "metadata": {},
     "output_type": "execute_result"
    }
   ],
   "source": [
    "df_candidates['user_id'].unique()"
   ]
  },
  {
   "cell_type": "code",
   "execution_count": 42,
   "id": "0fd6e284",
   "metadata": {},
   "outputs": [],
   "source": [
    "user_id = '--4AjktZiHowEIBCMd4CZA'\n",
    "user_info = retrieve_user_info(user_id)\n",
    "user_df = df_candidates[df_candidates['user_id'] == user_id]\n",
    "business_ids = user_df['business_id'].tolist()\n",
    "business_ids = list(set(business_ids))\n",
    "business_info = retrieve_business_info(business_ids)"
   ]
  },
  {
   "cell_type": "code",
   "execution_count": 43,
   "id": "57c93ed5",
   "metadata": {},
   "outputs": [
    {
     "data": {
      "text/plain": [
       "5598"
      ]
     },
     "execution_count": 43,
     "metadata": {},
     "output_type": "execute_result"
    }
   ],
   "source": [
    "len(business_info.keys())"
   ]
  },
  {
   "cell_type": "code",
   "execution_count": 44,
   "id": "7b3c07eb",
   "metadata": {},
   "outputs": [
    {
     "data": {
      "text/plain": [
       "5598"
      ]
     },
     "execution_count": 44,
     "metadata": {},
     "output_type": "execute_result"
    }
   ],
   "source": [
    "len(business_ids)"
   ]
  },
  {
   "cell_type": "code",
   "execution_count": 46,
   "id": "53db2a60",
   "metadata": {},
   "outputs": [],
   "source": [
    "encoded_user_id = DeepFM_user_id_encoder.transform([user_id])[0]\n",
    "user_continuous_features = ['review_count', 'useful', 'funny', 'cool', 'fans', 'average_stars']\n",
    "user_compliments = ['hot', 'more', 'profile', 'cute', 'list', 'note', 'plain', 'cool', 'funny', 'writer', 'photos']\n",
    "\n",
    "user_data_list = []\n",
    "\n",
    "for user_id in user_info:\n",
    "    # Extract continuous features\n",
    "    user_features = [user_info[user_id].get(feat, 0) for feat in user_continuous_features]\n",
    "    \n",
    "    # One-hot encode compliments\n",
    "    user_compliments_vector = [1 if c in user_info[user_id].get('compliments', []) else 0 for c in user_compliments]\n",
    "    \n",
    "    # Combine into a single row\n",
    "    user_data_list.append(user_features + user_compliments_vector)\n",
    "\n",
    "# Convert to DataFrame\n",
    "user_continuous_features = pd.DataFrame(user_data_list, \n",
    "                                        columns=user_continuous_features + [f'compliment_{c}' for c in user_compliments])\n",
    "\n",
    "# Scale continuous features\n",
    "user_continuous_features = pd.DataFrame(DeepFM_user_scaler.transform(user_continuous_features), \n",
    "                                        columns=user_continuous_features.columns)"
   ]
  },
  {
   "cell_type": "code",
   "execution_count": 47,
   "id": "85f08883",
   "metadata": {},
   "outputs": [],
   "source": [
    "encoded_business_ids = DeepFM_business_id_encoder.transform(business_ids)\n",
    "\n",
    "# later_features = [\"name\", \"address\", \"city\", \"state\", \"postal_code\",]\n",
    "business_continuous_features = [\"latitude\", \"longitude\", \"stars\", \n",
    "\"review_count\"]\n",
    "\n",
    "business_data_list = []\n",
    "for business_id in business_info:\n",
    "    # Extract continuous features\n",
    "    business_features = [business_info[business_id].get(feat, 0) for feat in business_continuous_features]\n",
    "\n",
    "    total_reviews = 0\n",
    "    for review in business_info[business_id]['reviews']:\n",
    "        total_reviews += review['stars']\n",
    "\n",
    "    # Calculate average review\n",
    "    if len(business_info[business_id]['reviews']) > 0:\n",
    "        avg_review = total_reviews / len(business_info[business_id]['reviews'])\n",
    "    else:\n",
    "        avg_review = 0\n",
    "    # Combine into a single row\n",
    "    business_data_list.append(business_features + [avg_review])\n",
    "\n",
    "business_continuous_features += [\"avg_review\"]\n",
    "\n",
    "# Convert to DataFrame\n",
    "business_continuous_features = pd.DataFrame(business_data_list, \n",
    "                                            columns=business_continuous_features)\n",
    "\n",
    "ordered_business_continuous_features = [\"stars\", \"review_count\", \"avg_review\", \"latitude\", \"longitude\",] \n",
    "\n",
    "business_continuous_features = business_continuous_features[ordered_business_continuous_features]\n",
    "\n",
    "# Scale continuous features and reorder columns\n",
    "business_continuous_features = pd.DataFrame(DeepFM_business_scaler.transform(business_continuous_features), \n",
    "                                            columns=ordered_business_continuous_features)"
   ]
  },
  {
   "cell_type": "code",
   "execution_count": 48,
   "id": "f30ede72",
   "metadata": {},
   "outputs": [],
   "source": [
    "user_features = np.repeat(user_continuous_features.values, len(business_continuous_features), axis=0)\n",
    "business_features = np.tile(business_continuous_features.values, (len(user_continuous_features), 1))\n",
    "all_features = np.concatenate([user_features, business_features], axis=1)\n",
    "\n",
    "# get the user_ids and business_ids in the right format (i.e. -1, 1)\n",
    "user_ids = np.repeat(encoded_user_id, len(encoded_business_ids)).reshape(-1, 1)\n",
    "business_ids = np.array(encoded_business_ids).reshape(-1, 1)"
   ]
  },
  {
   "cell_type": "code",
   "execution_count": 49,
   "id": "68f11139",
   "metadata": {},
   "outputs": [
    {
     "name": "stdout",
     "output_type": "stream",
     "text": [
      "(5598, 1)\n",
      "(5598, 1)\n",
      "(5598, 22)\n"
     ]
    }
   ],
   "source": [
    "# check shape of user_ids and business_ids\n",
    "print(user_ids.shape)\n",
    "print(business_ids.shape)\n",
    "print(all_features.shape)"
   ]
  },
  {
   "cell_type": "code",
   "execution_count": 50,
   "id": "8b3ce2b7",
   "metadata": {},
   "outputs": [
    {
     "data": {
      "text/plain": [
       "((5598, 17), (5598, 5), (5598, 22))"
      ]
     },
     "execution_count": 50,
     "metadata": {},
     "output_type": "execute_result"
    }
   ],
   "source": [
    "user_features.shape, business_features.shape, all_features.shape"
   ]
  },
  {
   "cell_type": "code",
   "execution_count": 52,
   "id": "3789080e",
   "metadata": {},
   "outputs": [
    {
     "name": "stdout",
     "output_type": "stream",
     "text": [
      "\u001b[1m175/175\u001b[0m \u001b[32m━━━━━━━━━━━━━━━━━━━━\u001b[0m\u001b[37m\u001b[0m \u001b[1m1s\u001b[0m 2ms/step\n"
     ]
    }
   ],
   "source": [
    "predictions = DeepFM_model.predict([all_features, user_ids, business_ids])"
   ]
  },
  {
   "cell_type": "code",
   "execution_count": 53,
   "id": "01482764",
   "metadata": {},
   "outputs": [
    {
     "name": "stderr",
     "output_type": "stream",
     "text": [
      "C:\\Users\\cathy\\AppData\\Local\\Temp\\ipykernel_24932\\2334907030.py:1: DeprecationWarning: Conversion of an array with ndim > 0 to a scalar is deprecated, and will error in future. Ensure you extract a single element from your array before performing this operation. (Deprecated NumPy 1.25.)\n",
      "  predictions = [float(prediction) for prediction in predictions]\n"
     ]
    }
   ],
   "source": [
    "predictions = [float(prediction) for prediction in predictions]\n",
    "\n",
    "# decode the business_ids\n",
    "decoded_business_ids = DeepFM_business_id_encoder.inverse_transform(encoded_business_ids)\n",
    "\n",
    "# combine the business_ids and predictions and sort by predictions\n",
    "recommended_businesses = list(zip(decoded_business_ids, predictions))\n",
    "recommended_businesses.sort(key=lambda x: x[1], reverse=True)"
   ]
  },
  {
   "cell_type": "code",
   "execution_count": 54,
   "id": "70363099",
   "metadata": {},
   "outputs": [
    {
     "data": {
      "text/plain": [
       "[('ytynqOUb3hjKeJfRj5Tshw', 5.222929954528809),\n",
       " ('-fs09akgCKv5rTTy7iUHUg', 5.119536876678467),\n",
       " ('TE2IEDNV0RcI6s1wTOP4fg', 5.1116180419921875),\n",
       " ('KTGEa8V9ec0QBYM_uk1YLQ', 5.1063032150268555),\n",
       " ('ctHjyadbDQAtUFfkcAFEHw', 5.100107192993164),\n",
       " ('o_N7HiU3f6cVvrJAFrE43A', 5.092024803161621),\n",
       " ('zLm2PaYrpHkcr63ekwvtBQ', 5.084012985229492),\n",
       " ('5tK4y67IUn3eDd3S1bka9Q', 5.049875259399414),\n",
       " ('XJvOamdhTQI65jmzTfreDQ', 4.9942731857299805),\n",
       " ('NnlQhXtuVOVjUFYB1Hqp8Q', 4.992379665374756),\n",
       " ('Bk6uzC83wbmCHm2i5Uz8OA', 4.98884916305542),\n",
       " ('_ZMf5Am_e0AE7aveELJd9w', 4.986114501953125),\n",
       " ('8j5bQ0nDwoGiFaTQDNCQTg', 4.985906600952148),\n",
       " ('9pwzHmhCpgJwfaIP9jWoCg', 4.982203483581543),\n",
       " ('wUnLSg_GKfEIQ5CQQ770_g', 4.978819847106934),\n",
       " ('_PQzeo8P2sGczzFEifrK-Q', 4.972320556640625),\n",
       " ('atZ_olNKXOG4rEr6mccN8g', 4.968672752380371),\n",
       " ('tBQcVd9c0EHKAXLZn_v54g', 4.967219352722168),\n",
       " ('X3NS8516o015Z1zcOwrqmQ', 4.958934307098389),\n",
       " ('cOaw7LOj7yjCH9ty8eIJDg', 4.957681655883789),\n",
       " ('Y6K9DT44-4Md-ycMkC0nLg', 4.957529544830322),\n",
       " ('rQW9iupvhk6ScPn2VPNLVQ', 4.944100379943848),\n",
       " ('fEqiXG_B-fn__w0aeF3nBQ', 4.944094657897949),\n",
       " ('97ZPxrlnvq78EqSgcQihoQ', 4.943859100341797),\n",
       " ('q43nr6E8ib2p39sVYtPGww', 4.943844795227051),\n",
       " ('1pp0D12fv1aObregTlkArg', 4.940091609954834),\n",
       " ('Tf8KLsWjf24FiGcZh6FD-Q', 4.939576625823975),\n",
       " ('qETpOF88MbmtSyOWEDaD_A', 4.935116291046143),\n",
       " ('Jg9kkOl4sx2AXJVohbpSiw', 4.932075023651123),\n",
       " ('WXtD3L-zAqdiP--MAQbq7A', 4.930471420288086),\n",
       " ('zp9OcdUq2CWtQuI9FFBOQQ', 4.930252552032471),\n",
       " ('J475RpmY71mhvYvC9ep41A', 4.929847717285156),\n",
       " ('rv1KUBVNQkJ5WUQb49dU0Q', 4.928496360778809),\n",
       " ('mZlz6wq17Vl0wEokdpPdWg', 4.922659873962402),\n",
       " ('Og4z8nB4ZMZs3oHkVhB_pA', 4.918878078460693),\n",
       " ('twQrGPaDKo26B4kDZjTMeA', 4.918598651885986),\n",
       " ('auwFZzfhe2pvFw43OfsAfw', 4.918453216552734),\n",
       " ('BXXdejmA_rJpMD2MBKCyGA', 4.918179988861084),\n",
       " ('9zaXFApfobvEKgfGt-NUxA', 4.912818908691406),\n",
       " ('PLhBEbon3K938VvcbuQuSw', 4.911433219909668),\n",
       " ('7enm16Occhf0J5WjJFooyA', 4.910519599914551),\n",
       " ('7ATYjTIgM3jUlt4UM3IypQ', 4.905433654785156),\n",
       " ('gb4Gd92mTm6sq5lpyzKChA', 4.902445316314697),\n",
       " ('uwF2zLAnZZ1SCwEF8QQKQA', 4.900439739227295),\n",
       " ('l_7TW_Ix58-QvhQgpJi_Xw', 4.900088310241699),\n",
       " ('tiEkH6TbOQMZHRo46rmdTA', 4.899562835693359),\n",
       " ('gjHB6p19V_bS-R5lUZux4A', 4.898167610168457),\n",
       " ('VszpqEug1SY_TARbN6eROw', 4.892148971557617),\n",
       " ('gN-w5zqrN0-CNPy0H7BWwQ', 4.891083717346191),\n",
       " ('IO3apWfFnKPO2XRFmGfTEw', 4.890781879425049),\n",
       " ('pCDx24yFgVZ3EwOwDMedHg', 4.889884948730469),\n",
       " ('5Us-B-4XEzrysCQsSAnF9A', 4.8889617919921875),\n",
       " ('Kt4NZ9IXvRCHI8qvV0h8qg', 4.8887176513671875),\n",
       " ('9IXjieBjg-i4G6vfailfbg', 4.883817672729492),\n",
       " ('vJsTzkbgYdcLdCB4rnBv6g', 4.883706569671631),\n",
       " ('5gqoD4EknTFf-39zz1Fa1w', 4.883706092834473),\n",
       " ('RMYjaB5krFGCtlOLf5TBwQ', 4.883281707763672),\n",
       " ('Qw7tz-UkPrpXaVidWuab4Q', 4.881715297698975),\n",
       " ('sTfVZ9xo36tU8R5DnaCGkg', 4.880011081695557),\n",
       " ('xoHg2bSnRSnfLlSgnCQ_TQ', 4.87952184677124),\n",
       " ('IzyQVIJG8JAnOiRQPb0-wg', 4.87929105758667),\n",
       " ('vpNJJNVgVmf2u1lfdFh81w', 4.87839412689209),\n",
       " ('zlu0hMN6egVBrgSXiii7vQ', 4.873623847961426),\n",
       " ('3c3okC0udBKZD_fASFrI-A', 4.870150566101074),\n",
       " ('BZyxr4ocl1hJvFvhlogz0Q', 4.870118141174316),\n",
       " ('EsrLwzu66nah5pnSGwsMyA', 4.867653846740723),\n",
       " ('9A5Gw0At6so0x-vWM0_JZw', 4.866511344909668),\n",
       " ('Ku2b7oA9s56mHoflb5lJ2w', 4.866036891937256),\n",
       " ('i_FWONQD1ZBqrNE2b-M5Ug', 4.865598201751709),\n",
       " ('T_6e0SgNuKotySgVS8O1UQ', 4.865414619445801),\n",
       " ('6Y9Q8mZZzeikIAVjyyA79w', 4.865302562713623),\n",
       " ('vUrTGX_7HxqeoQ_6QCVz6g', 4.864194393157959),\n",
       " ('dvLSJwmlPAZioS3R5B3Wtw', 4.861997604370117),\n",
       " ('yD7bfEjT2zw_56cQ0NiNFw', 4.861821174621582),\n",
       " ('1KCG2gzeRa5aHJk6vr8gHA', 4.859671115875244),\n",
       " ('w0MduHbQNWZkYl66jZIiEA', 4.859147548675537),\n",
       " ('BZU9iLoVPeBzUlp1s8756A', 4.856564521789551),\n",
       " ('8LonS_bxNmCDk3FWiG9lzA', 4.856369972229004),\n",
       " ('uVoAlvNxz2IRvhXccU1tFw', 4.8560638427734375),\n",
       " ('UaDnEIiRNCyLvrQWE4g0sg', 4.8541436195373535),\n",
       " ('hYs3ioWpQr-WwV9nRD5lAg', 4.850762844085693),\n",
       " ('pW3SzfDOVxqUjbGm-LZ4dQ', 4.850734233856201),\n",
       " ('yPxNNSmPHKO3m_kq53D4Jg', 4.849743843078613),\n",
       " ('OwWt11-2Xps3haab2ZpvLQ', 4.847002983093262),\n",
       " ('zdHYuDA541CB205_EiRDLg', 4.846879959106445),\n",
       " ('O1loDUXiJw4IPYk1DR3pSQ', 4.84644079208374),\n",
       " ('PJjkH_VZeQwxEJvlQ-v7wA', 4.846206188201904),\n",
       " ('JY_Ii24p46rqeon8CLrZWg', 4.845701217651367),\n",
       " ('UBaI9LbkAKQt1-usQ5i7JA', 4.844352722167969),\n",
       " ('bKGyvFBcIq-e9A5tWsbSfg', 4.8422369956970215),\n",
       " ('U7HYUH8SqZO6OQMNKCr5kQ', 4.841263294219971),\n",
       " ('6_T2xzR74JqGCTPefAD8Tw', 4.840832233428955),\n",
       " ('Ef1QOp6WY6kqWHk2JJCHqg', 4.840760231018066),\n",
       " ('6_LnAQQ0-mml8YgpfRjGuA', 4.840481758117676),\n",
       " ('qauNuzGr6cmAuT7K7FzX5w', 4.839685916900635),\n",
       " ('1YflE3DkiCZGgLnf3paLnA', 4.839445114135742),\n",
       " ('uRzXKZaiMO6NUt1iavkT7Q', 4.839222431182861),\n",
       " ('UMHuKs1sO-wq3XqKaejXeA', 4.838967323303223),\n",
       " ('Y0WIZpnXFFT5VH6WBVCxlg', 4.838929176330566),\n",
       " ('p-MSh95si_sDdih94gyKuw', 4.836915969848633),\n",
       " ('mtvT7uRey3F395STFRM1Tg', 4.836453914642334),\n",
       " ('D9f3t8e1dKhHP1rI0edd9w', 4.833558082580566),\n",
       " ('_Q3XmBesceFqn9Dk-w6tlA', 4.832777500152588),\n",
       " ('USskWtGN3NmR3CRRaMX5IA', 4.832601070404053),\n",
       " ('LRo87EVK3MKyxNfSFTI_lg', 4.831437110900879),\n",
       " ('Nw82Vw1rKv6TfeeIA9LusQ', 4.830565929412842),\n",
       " ('XpTNCVbO5wL1DtDyKzKqfA', 4.830257415771484),\n",
       " ('e-i6jvgVv4TqjsYT99-ajg', 4.829106330871582),\n",
       " ('nMDteyIwo3zLbqm45xBwFw', 4.828732013702393),\n",
       " ('-5ink0kIoVfuS5Zi_6QBnQ', 4.828127384185791),\n",
       " ('RleiW2_QLyxgNjFfqDoZpw', 4.827289581298828),\n",
       " ('9BRogQ1ZU-agQCPG-a4zIg', 4.8262434005737305),\n",
       " ('Bq69zDUTbBrfmtB9OBH9uA', 4.825732231140137),\n",
       " ('asI2vQzWZq9xBFUpfHNu4w', 4.823827266693115),\n",
       " ('-cSHu3A9IalZn8s7NGJagw', 4.822088241577148),\n",
       " ('VJjFHQJ08SR_Pl7Bk4o2xQ', 4.821898460388184),\n",
       " ('PwZ16bGCzTF7WTrSjUx7hA', 4.821211338043213),\n",
       " ('_O_KBH1MStcUkS1xk5pxsg', 4.820737838745117),\n",
       " ('6ajnOk0GcY9xbb5Ocaw8Gw', 4.820149898529053),\n",
       " ('aIHK5vqew7X2T3fDC57D3w', 4.819970607757568),\n",
       " ('s366MibRVl4crXpVUX7x9A', 4.818662643432617),\n",
       " ('Lxj_xf86x2GFPP8FG0_5tg', 4.818353652954102),\n",
       " ('avlwCvHzrhU5UOvz1Y3_gQ', 4.818346977233887),\n",
       " ('e3Y3hDpwHc9RmQlJtIgHuw', 4.817842960357666),\n",
       " ('93K-xlLwLnwcFuV2r2MI6Q', 4.815874099731445),\n",
       " ('VkMokNW-HLye5jc8_1l_vA', 4.815120697021484),\n",
       " ('K_s-9Wd6vXSfnxYFzhE0Kw', 4.814583778381348),\n",
       " ('ZForVw2ZTiwDGfZ0XvZsXQ', 4.814305305480957),\n",
       " ('WxW50gAkatN0OtCPZD664Q', 4.813723564147949),\n",
       " ('Ax2N_NOnazartWbmi6Rckg', 4.813238620758057),\n",
       " ('gTui49AL7Of402vcwua13w', 4.811670303344727),\n",
       " ('6PO3OlixvoZMJBlcBW_iRw', 4.811349391937256),\n",
       " ('vN6v8m4DO45Z4pp8yxxF_w', 4.81089973449707),\n",
       " ('K1ABvJZtgcdYHyH83fkFRA', 4.809304237365723),\n",
       " ('iE9w8w96epHq1nPO52AxGQ', 4.809277057647705),\n",
       " ('dHFEcHJG2LmPBJ0X2cfj7Q', 4.808161735534668),\n",
       " ('i4tdAvYzezhRsH_WtVmDSg', 4.807978630065918),\n",
       " ('Cz0wdTZMcRhJjhNy9sp0pw', 4.807901382446289),\n",
       " ('aAj7q710tC5BSGAwaR0u0w', 4.805022239685059),\n",
       " ('l8VedGQFMLtTz2zRmpTlxA', 4.804408550262451),\n",
       " ('oY-w5FbUv8YPA-vJmkdW1Q', 4.803982734680176),\n",
       " ('AnhgZCyjhzU8JVxl2ftJKQ', 4.803491592407227),\n",
       " ('pzI9Qj8T5ZSb-wkpe6f8Lw', 4.802511215209961),\n",
       " ('JeSIzQ1MbaYGMrGDtEAutQ', 4.802430152893066),\n",
       " ('nWHNtH3v6BPnV7MUWejOyw', 4.802257537841797),\n",
       " ('EneM1oBFxncaR1nQCD3gYA', 4.801844596862793),\n",
       " ('mlrzM-jUkKot28XJhScuuA', 4.801250457763672),\n",
       " ('RHUHCFXI5aJRiv5mP9A4rQ', 4.799273490905762),\n",
       " ('0oSSjekU-3GR8gselReWnA', 4.798823356628418),\n",
       " ('jOaJ4PFGhGiM8fhuYcYFRg', 4.798264026641846),\n",
       " ('BNOvXKaLLIEtWVbePgHnKw', 4.797792911529541),\n",
       " ('r1XZyqd0JU4GGJhBBGcG7A', 4.797563552856445),\n",
       " ('gGyqnAlpFrka_qzpO7j4lQ', 4.797512054443359),\n",
       " ('XDmQBZiQCfaDhoWAbTVxQA', 4.795889377593994),\n",
       " ('aZMlLfXJvMDXj6QE9oMRRw', 4.795322895050049),\n",
       " ('4bNFWpQtS5PtfjXuxTc-GQ', 4.794924259185791),\n",
       " ('kHg2z92NsImxYob-3o194Q', 4.794296741485596),\n",
       " ('quk6TFDQyuQ4g0KuIb9qUA', 4.793296813964844),\n",
       " ('Ct_g_xmNh1wvpfTD-QLI8Q', 4.793192386627197),\n",
       " ('Gi4ex2Tq7ggRlpN0S7k5Xg', 4.793048858642578),\n",
       " ('mNRoB9WGd7NujbTsf0nOOA', 4.79294490814209),\n",
       " ('koYe0Xt78lAigCvFRiCw8w', 4.791165351867676),\n",
       " ('Y94rTUdjh15qoKR3w8NBaA', 4.789011001586914),\n",
       " ('diovHdArxKlT5ZgkTfDkRQ', 4.788785457611084),\n",
       " ('lHl1WQjUO9tN13OVQMYnTg', 4.788609027862549),\n",
       " ('fWMdHjV4G6z8jFW-hf-mIw', 4.788412094116211),\n",
       " ('tt_QH5mWv4FhiP3-82NOTg', 4.788372039794922),\n",
       " ('cxIgnNvpvNZeyZdp4gngsw', 4.787248611450195),\n",
       " ('hxc6TmLzsENk4xsjm497qg', 4.787017822265625),\n",
       " ('kfcz8iJOkltAvkp6TqNMcA', 4.786363124847412),\n",
       " ('G8pVaj3yS503ah8fxncDVA', 4.785642623901367),\n",
       " ('1vPSY4EA-fTRIZYz1Ruzow', 4.785619258880615),\n",
       " ('LM54ufrINJWoTN5imV8Etw', 4.785320281982422),\n",
       " ('z-s_l9SLZiqhAArcdkYOaw', 4.78524112701416),\n",
       " ('IigcbMz8J9tGo8wJYlOImA', 4.78481912612915),\n",
       " ('p0mxscqr7BgMR-I4pGM3Kg', 4.784775733947754),\n",
       " ('yj0SWZvJ0tGwAywoVxPT5A', 4.784430980682373),\n",
       " ('ssfYhDhEuc98I7SCENXqnw', 4.784345626831055),\n",
       " ('iCfB58Cvb_rw_SDAgPXLfA', 4.783965110778809),\n",
       " ('xdc0TbKkHMZN3N82oeq2XA', 4.783095836639404),\n",
       " ('I_3LMZ_1m2mzR0oLIOePIg', 4.7812418937683105),\n",
       " ('sAVZbkhmIt0Am-iPJcFzig', 4.780404090881348),\n",
       " ('GzUDgTTwQWO_OZ6fjo7q9A', 4.7801923751831055),\n",
       " ('Z8qGOmU8YxDjLPBbrz84Yw', 4.780157089233398),\n",
       " ('E-zz8gs1riWX0r3hxAn60A', 4.779932975769043),\n",
       " ('S8ZFYEgMejpChID8tzKo9A', 4.779901504516602),\n",
       " ('eXKblEHP3YJYU1Awz08hVw', 4.779540061950684),\n",
       " ('Biidj3QszVuVO0Q85g5NPw', 4.779490947723389),\n",
       " ('Vd0YOj5GVv-Nxeo06HCfjA', 4.777990818023682),\n",
       " ('kzxpl9HidQVMEuUoRVB7nA', 4.777979850769043),\n",
       " ('FSgsyY_ofQtAy6PNVcBeYQ', 4.777622222900391),\n",
       " ('E8jXRCHPjcUTFboBPQY6LQ', 4.775717258453369),\n",
       " ('Z0jh1QIoAdEdT19VARPu1Q', 4.775453567504883),\n",
       " ('lVirNKheM7Ps8eVRt0IyOg', 4.774281978607178),\n",
       " ('hGb-yA-llJ7hnw9NyzE52A', 4.7736406326293945),\n",
       " ('sGWTgl_WALFonBhFwX7OMQ', 4.77325963973999),\n",
       " ('2CDI713ATuxHfnB5b-sBdw', 4.772885799407959),\n",
       " ('JK8GENrrfXC9PpqspioNeQ', 4.772860527038574),\n",
       " ('Q-prSTdggNlxAEFV88BZOw', 4.772712707519531),\n",
       " ('_aKr7POnacW_VizRKBpCiA', 4.772695541381836),\n",
       " ('MlXH9dWYDFEBbwuGStlfZg', 4.77260684967041),\n",
       " ('cpLRN_Ze8BowhfSx5_urWQ', 4.77230978012085),\n",
       " ('Orvi9NZMyy4p1kGSe8WBow', 4.772222518920898),\n",
       " ('MG5FKykJ8gvvZlgv3Xhe0w', 4.772049903869629),\n",
       " ('NVN_23yYJDf_RAinqFICDA', 4.771601676940918),\n",
       " ('gvD09Ev1aOmphtlq07zYEA', 4.771365165710449),\n",
       " ('vFifkrt8fU4k31NrQF-KnA', 4.770887851715088),\n",
       " ('30cpm1uq6xcQCmN6JTrB8w', 4.770729064941406),\n",
       " ('6-go97sf0sXpNCCe3XW0Cg', 4.770674705505371),\n",
       " ('LNHq9WxfhN2UBNOR2tnRQQ', 4.770556449890137),\n",
       " ('2Z4UlKeHAKmxHqbyhj4a_w', 4.77030086517334),\n",
       " ('pCmaISSyKum22MOtPOxL-w', 4.7700066566467285),\n",
       " ('2GgFrz1dQ6NzR29UIYQ8Xg', 4.769864082336426),\n",
       " ('Ma2M-_bf88ZyzrQU3SVyag', 4.769407272338867),\n",
       " ('SK8mugK0lNcb0okR5pQ8pQ', 4.768991947174072),\n",
       " ('QFP_XuQVDrz7fLKirJs3WQ', 4.768842697143555),\n",
       " ('Sr4w6zOQRPFiGILQ7esPHA', 4.768828392028809),\n",
       " ('X1AeBeua7lzXCqxnLpq17g', 4.76870584487915),\n",
       " ('lQRmMKgqmJECP76I7J7iJg', 4.768167018890381),\n",
       " ('Ukl4TXKmgmljFn7JpK1LZw', 4.767247676849365),\n",
       " ('gP_oWJykA2RocIs_GurKWQ', 4.766885280609131),\n",
       " ('lHK9hMs-GzSHuuN9uyZQKA', 4.7668352127075195),\n",
       " ('OJpGFS7e38cncjp2jlWydA', 4.766448020935059),\n",
       " ('oIr50siZDtDYCE_p5K8nYA', 4.766317367553711),\n",
       " ('PUf_buPLOyOGAMt6D141zA', 4.765759468078613),\n",
       " ('0K4RwxdAcViifyU3Htzxww', 4.765691757202148),\n",
       " ('aAjOFpX5SBSoDkAsBSZeZw', 4.7655744552612305),\n",
       " ('hPAmGKnDqummngSTOJN_8g', 4.765506744384766),\n",
       " ('pWlZTKoNYfJ4eXJrABIIpg', 4.764891624450684),\n",
       " ('QcThABvkyLHpkOZG3aLGjQ', 4.764811038970947),\n",
       " ('SFN5g5eexukcaZkzoiYQYg', 4.764710426330566),\n",
       " ('Qjm-W7SpkCuTxacD10Wt2g', 4.764612197875977),\n",
       " ('vP6BGF8IqbXlLQiDP5n6dA', 4.764392852783203),\n",
       " ('Ipkx4Sa7ybn8C6LtTqTztw', 4.763660430908203),\n",
       " ('ws7z5fLdaVgwxZ9ex3cKxw', 4.763603687286377),\n",
       " ('fPYggpOpQq33onQAvOpwcw', 4.763448715209961),\n",
       " ('GOSVLhjUT6TnrPhkkmDOpw', 4.762494087219238),\n",
       " ('iiAbYMzeNhI9DZzlmMBVPQ', 4.762273788452148),\n",
       " ('q9WA6PqTLnB78DWPu5YJ5A', 4.761991024017334),\n",
       " ('4LtDvcwOauXA1tIwGU5uyw', 4.761926651000977),\n",
       " ('6LH5CdxH-zQHkJfm7VIXMg', 4.761842727661133),\n",
       " ('M5E6ERJG4hEx6PnIlNO58Q', 4.761723518371582),\n",
       " ('V9pSmHb0c-9SSqx5GJbYPg', 4.761309623718262),\n",
       " ('XgxPLbAJtHoyR2tBN9yCXw', 4.760887145996094),\n",
       " ('Ag3bj6WStEkDa2Ha72pQ7A', 4.758823871612549),\n",
       " ('ocVshQ6YKIWsmmxAGXgBYQ', 4.758687973022461),\n",
       " ('2NZVOFJ3y8j7B4j61LdF7w', 4.758382797241211),\n",
       " ('7YsrfPONeC5VC-n5N1gb5w', 4.758180618286133),\n",
       " ('6mrC_xP_Hb9TMaQLHsKW1w', 4.757888317108154),\n",
       " ('IxX6YczoeBpdt78AzDS4GQ', 4.757707118988037),\n",
       " ('w45o3wnYLCUDp-fPRuSh6g', 4.757451057434082),\n",
       " ('6AekrjZ7oBjnJkGrYdOyvw', 4.757284164428711),\n",
       " ('bIGFd99r3iUNB0xshlZ5Sw', 4.757143497467041),\n",
       " ('y4ikdNkpUAU19Za9WInkDw', 4.756961822509766),\n",
       " ('VuOfGMSMFGtwWF3-DxApyQ', 4.756715774536133),\n",
       " ('fLdPuGl9_fa9PYFYb0gihA', 4.756165981292725),\n",
       " ('3NsTKp85H2FUjr1SURf0NQ', 4.755974292755127),\n",
       " ('s30pUay0opzvriFweACWEA', 4.755832195281982),\n",
       " ('-cEFKAznWmI0cledNOIQ7w', 4.754563331604004),\n",
       " ('wSZQ5qnYwiukmI0fKBA2fQ', 4.754276275634766),\n",
       " ('C_lyUPmRABHpE0K8C9TxFw', 4.754082202911377),\n",
       " ('Mo8DFMPucDJdbrJTQ1SAIQ', 4.753754615783691),\n",
       " ('HVrS_obWUkc3Ot2xBNuvLg', 4.753646373748779),\n",
       " ('EreYgrQPuR7Sk_FKeZZg9g', 4.753633975982666),\n",
       " ('S6AP1meHAC0RxJXW26fq1g', 4.7534589767456055),\n",
       " ('s31xRRK18423dHmiey1VXQ', 4.753267288208008),\n",
       " ('O1XwKgUYNI_YBXnOqgaTaw', 4.752803325653076),\n",
       " ('U6Qe7jUl4p1RMm4DaVLWQg', 4.752375602722168),\n",
       " ('mLf2ly4K1d27Gd81UHtBbg', 4.751822471618652),\n",
       " ('A3Qt87F7ZaAwCW4CyyB1Fw', 4.751481056213379),\n",
       " ('C33BHER9tVYx1ywCkGKZOg', 4.751373291015625),\n",
       " ('7lLn3G2o9DB6wO5WhMIrzQ', 4.751134395599365),\n",
       " ('gTC8IQ_i8zXytWSly3Ttvg', 4.7506232261657715),\n",
       " ('lML_PZePqlBBWpD1tqRdaA', 4.750253200531006),\n",
       " ('QN38TkkGzF5vB1urbvi5nQ', 4.749439239501953),\n",
       " ('jHk1OJi16n3BlO3LxkH8cw', 4.749218463897705),\n",
       " ('zqN7Ms_JtF9aIGw5DQsUWA', 4.7485222816467285),\n",
       " ('lFs4LIQn_kbsLozQzk-4Qg', 4.748401641845703),\n",
       " ('6_d8wy4dlTH3jVmjyn3o7w', 4.748377799987793),\n",
       " ('xVFNGIsWBTcYmKB85HH6Qg', 4.748373508453369),\n",
       " ('u-xGrOvBv1bxtpAHk-SZ5w', 4.748305320739746),\n",
       " ('iJ3A49gtUPspc7nd4Ov2HA', 4.747806549072266),\n",
       " ('UFNpCQq1_eLnP1oSjMkRCA', 4.746501445770264),\n",
       " ('15JFk0bn7HJ9g9-N7tXl_Q', 4.7457146644592285),\n",
       " ('-NG3pA9LEXCxt0Fjd_aYYA', 4.745370864868164),\n",
       " ('W8F9TbZcojXvaev0lSKQRA', 4.7445478439331055),\n",
       " ('7arJd6e88ozMfrJT2nCwlA', 4.744246482849121),\n",
       " ('6CpCnFzpyOV4ymhNP1AOGw', 4.744195938110352),\n",
       " ('UD8-6c5IH6sYY5SSRCgbwA', 4.744159698486328),\n",
       " ('NZgyOwVn-7-6ioWMS8lkpw', 4.743521213531494),\n",
       " ('wm5mQ4cSpvko9WlCq07RFw', 4.7431960105896),\n",
       " ('UmVOfUFIiQjUNGHRkySaIA', 4.743095874786377),\n",
       " ('oA99faTbn2JVzUnqKFjQMg', 4.742552280426025),\n",
       " ('nWx1r0RHLun6hBILtuBR3w', 4.742323398590088),\n",
       " ('B-DiQpcSTJ7oMMnwzbAGTQ', 4.741847038269043),\n",
       " ('ka2XO8vL_PqCS-xk3SVauA', 4.741750240325928),\n",
       " ('kkgaPaqs3VKdlPUCwCv3kw', 4.7397141456604),\n",
       " ('fGXhWKQV5YwjIjgP-DBNBw', 4.739660263061523),\n",
       " ('O7rlYZF5Acg0D7vlEVI48A', 4.73964262008667),\n",
       " ('qQO7ErS_RAN4Vs1uX0L55Q', 4.739518642425537),\n",
       " ('MtEpw40QBJYMkDTbBBv5Ag', 4.7394938468933105),\n",
       " ('YVvm1Q3ir5TET0f66FOX_g', 4.739306449890137),\n",
       " ('e4MoozYGqe_rb4_ZC1rYMQ', 4.739178657531738),\n",
       " ('Wjutpifh3rVa7bS1UK3dmA', 4.738521575927734),\n",
       " ('cVV8GWVIe9BwyCOKwrFgPA', 4.738387107849121),\n",
       " ('zuDXSlqm2veuwTD_Kl-pkw', 4.738203525543213),\n",
       " ('Ek9iI8uJ7U3IDzVWrwzzew', 4.737959861755371),\n",
       " ('C9UylQTOh7uwZo4a7QhLyg', 4.737858772277832),\n",
       " ('xHsCrn35_NHPoEiBs9kWwg', 4.737395286560059),\n",
       " ('fRf5bZAAPDlD2MejfSPvsA', 4.736321449279785),\n",
       " ('r_oscENLKdrF2KNyWP4oow', 4.735724449157715),\n",
       " ('yS0TsUzKBQlHQCZZeBrxww', 4.735254287719727),\n",
       " ('YzLoOyrhwDP4Z_mAPC0VTQ', 4.734681129455566),\n",
       " ('-7GDqSUaXrpC8Ql7nDBxWA', 4.733988285064697),\n",
       " ('QfHS4s3ymQf1FSrKvEh_MQ', 4.73393440246582),\n",
       " ('lWO-AYkFDNyRur8et7LQNA', 4.733527183532715),\n",
       " ('PA_MlxC2gw_Rc6bXfa1Q5Q', 4.733450889587402),\n",
       " ('mQc4BBUzR9xyLbUTLoABSA', 4.733120918273926),\n",
       " ('2Wmvi5-7LS1iw5UkOuLWlw', 4.732749938964844),\n",
       " ('QWepKJ1tyVQ_NWp9iChn8w', 4.7321248054504395),\n",
       " ('X9uY-RJfamB2bCoZCX5RMA', 4.7316813468933105),\n",
       " ('O3JyUZS0wzsApHJ1h10Ndg', 4.731587886810303),\n",
       " ('Ek5XeNifVthGLHEJ9TVoEg', 4.731476783752441),\n",
       " ('oziGQYLaEWOpNmPKrZP86g', 4.730860233306885),\n",
       " ('_gVyuTRb_6HM-SNtqbpevQ', 4.730841159820557),\n",
       " ('-ZeEseRyVaUDYq2QimamBg', 4.730762481689453),\n",
       " ('YoqnmZKGAULO58qF4OhYyg', 4.730725288391113),\n",
       " ('6Uu74gvylXUYRYllKUDKNw', 4.730611801147461),\n",
       " ('oFT-uwZJdBngbBXONAjbQQ', 4.730226993560791),\n",
       " ('-1XSzguS6XLN-V6MVZMg2A', 4.729874134063721),\n",
       " ('SZuzpUh09BLVqDdo58c5Jw', 4.729716777801514),\n",
       " ('_357-ycTGX1t0Pla4ShVAA', 4.7296600341796875),\n",
       " ('hQY2yKi9OUGLgVApsK4h1Q', 4.729264259338379),\n",
       " ('5R3-eCIk4dRBtXo0A5MAzQ', 4.7285990715026855),\n",
       " ('7yxSWppf3KiJ0sXAxJWU4Q', 4.728570938110352),\n",
       " ('uX2TOURTQP1RshDcGyiIPA', 4.727761745452881),\n",
       " ('0_J_SEJLxSjHcFfGgWeWow', 4.727728843688965),\n",
       " ('X2D42cGnqxadT_jbNJxHsg', 4.727389812469482),\n",
       " ('bN5qlSW0Z31uYDkrasFWDw', 4.726532459259033),\n",
       " ('VniDAIBo5xSN6ZX1cswcxw', 4.7263078689575195),\n",
       " ('XqAOGkO2HZBG0ft9c-u7tg', 4.726034641265869),\n",
       " ('jxEMFqwDJXjCxmcm5t5jVQ', 4.725870132446289),\n",
       " ('OX1eFYQwN1iYdFd0fkNpqw', 4.725805282592773),\n",
       " ('eCTxuiQaPAITUcOPextA7A', 4.724794387817383),\n",
       " ('JiXca3iilV4FewV2zTo0TA', 4.7247843742370605),\n",
       " ('MbVZ1yZvG_sSAkHgTUx04A', 4.72465181350708),\n",
       " ('ICShxa66GNvtJOOWWELE5w', 4.724139213562012),\n",
       " ('3kc7vVRl845AknJtUqGRAg', 4.723177433013916),\n",
       " ('v6tFMx_fKBcfiBagKb_EIg', 4.722933769226074),\n",
       " ('-Ti5pwj6mA99khsxxur8aQ', 4.722562789916992),\n",
       " ('ISijWeb3TndvQRQwjHleMw', 4.72234582901001),\n",
       " ('hKdo1RNp-fKiSVswcjQK2g', 4.722254276275635),\n",
       " ('SwJLqp3ngTotqd3kAmPdyw', 4.722213268280029),\n",
       " ('CpBuc0aSueBpTXce3fJoRQ', 4.721902370452881),\n",
       " ('G8I9weN2VpCAHs2UEmwf2g', 4.721827983856201),\n",
       " ('zHoIBH6nIh_Hs8YkSJii5Q', 4.721347808837891),\n",
       " ('Nh2u8k2PMRmenoq6ZGBDhg', 4.721228122711182),\n",
       " ('xMH3_UDXy4oKyVrLmyooNw', 4.721203804016113),\n",
       " ('tSRICEpYkNZyeCyHYMsM7w', 4.7211456298828125),\n",
       " ('xw4APbNejaUo9Ex-EJ-LwQ', 4.720492839813232),\n",
       " ('cHCRC7r9irhK0dIum1zeUw', 4.719830513000488),\n",
       " ('Sv1MEZP-mMfp8SmE0hwYEA', 4.719536781311035),\n",
       " ('jHrp-GQ2iSKUgHd_dvnWqg', 4.719435691833496),\n",
       " ('hUmHwBQtGg0iH-PZakQJDw', 4.719173431396484),\n",
       " ('Cz-2ekKVyKheFccKtYP1YA', 4.718941688537598),\n",
       " ('7Dbd0-5Jq-5vAR4fRqbIzQ', 4.718539237976074),\n",
       " ('5wlbureqTc6gsaB_y-OkOA', 4.7185163497924805),\n",
       " ('9Kc8kccL0kkAyReycrr4EA', 4.717964172363281),\n",
       " ('S3dxSw4LfC4ODbOwW1d3PA', 4.7178635597229),\n",
       " ('nsv7zQb3YUW_ZFHP0VVvoA', 4.717803955078125),\n",
       " ('dNR-b-CsrFGYhMo9zLMrCw', 4.717538833618164),\n",
       " ('K74RHoIbJG_kIi9RsxQQcw', 4.717323303222656),\n",
       " ('pKONQc8eYlnF0L54YpJdQQ', 4.717147350311279),\n",
       " ('BK6In_HrWgAYZjQLTdbg0Q', 4.716607093811035),\n",
       " ('yb_vFGYFUMh2aA4UHnSseA', 4.71645450592041),\n",
       " ('Pj-A29ajjCUb5ttM3Ff7yA', 4.716156959533691),\n",
       " ('fknM8EddFrhj722AeeMV1g', 4.716026306152344),\n",
       " ('WZrewAhx0q7g_kcIQQeHfQ', 4.7157487869262695),\n",
       " ('Hq7JDoHVLhgZsfCmH7BjLQ', 4.7144622802734375),\n",
       " ('M0Cb0ufPxOSHSrZAKMmUmg', 4.7137041091918945),\n",
       " ('540plBqdqZD_sAqMWZJ3EA', 4.712959289550781),\n",
       " ('VwZ5NDbIu3elGQI6MzcXBA', 4.712571144104004),\n",
       " ('LklDTDwgJLbUjd67ZKsvCg', 4.712477684020996),\n",
       " ('AlnAoqsqChTn1Eg3dzLmMw', 4.712152481079102),\n",
       " ('16vIo7ReRv8U-vLFmJqolg', 4.712148189544678),\n",
       " ('YRw8RmnSc1olsEFTf5H6Eg', 4.712006568908691),\n",
       " ('pDUcsN79bDwhOMBaD_tm-g', 4.711836814880371),\n",
       " ('zxIF-bnaJ-eKIsznB7yu7A', 4.711369037628174),\n",
       " ('jTFl9Cr7RqZqwjH-CI1ZPw', 4.710897922515869),\n",
       " ('QboMIy08NLnBbLXEsmnDHg', 4.7108235359191895),\n",
       " ('kaUH8eQPElPHjjkuBVpQ_Q', 4.710051536560059),\n",
       " ('mBgfK8HLthPOMPkEbYLW-A', 4.7100300788879395),\n",
       " ('g7MCrGz4IsaemAYcXrWPHg', 4.7097978591918945),\n",
       " ('HHUnRJeJDPQaV38IWBoyng', 4.709650993347168),\n",
       " ('L4aVo136aPLwxQHSM0vz7A', 4.7090654373168945),\n",
       " ('UjGTEhQbesyleypubNyqqw', 4.708850860595703),\n",
       " ('NbyLOoqWrXGE0NKh8DdmUA', 4.708693504333496),\n",
       " ('waafKhA-LtJSZXlECyfEXw', 4.70844841003418),\n",
       " ('WeylzLacbhVyhnWAbUJ4SA', 4.708434104919434),\n",
       " ('Zx05t1cRAipPrpQOtzd9RQ', 4.708285808563232),\n",
       " ('19aqkl42CAi2V0vH8UJSfg', 4.708165645599365),\n",
       " ('JXYKzNSaK_fznAXvmRdYPA', 4.707802772521973),\n",
       " ('chxWW42Y3lB3dGCxSRvxsg', 4.707770347595215),\n",
       " ('OdYRrJsJnCFpMYc_PuWFdw', 4.707676410675049),\n",
       " ('NjD-V9pdH7_V8Y8PGl-csw', 4.707352638244629),\n",
       " ('h5Y6iLn5VogLWcfT5tnANg', 4.7072343826293945),\n",
       " ('lqF0Q5vVLxY-_Cth6LtEdg', 4.70668888092041),\n",
       " ('tcvNBC65Gsa4cH1_gyucpQ', 4.706450939178467),\n",
       " ('jqJ697AWs-UgUN1MDOM2sA', 4.7058868408203125),\n",
       " ('-6nQZ-QCkAyNHdtaxOxDpQ', 4.705788612365723),\n",
       " ('_8uqfnMGPK0YHO1qc6c7vQ', 4.705599308013916),\n",
       " ('C-4Nn2flVd2LCKPpzfXzfg', 4.705168724060059),\n",
       " ('fcAaBcYFo1YqetIjs9l8Iw', 4.705049514770508),\n",
       " ('dzn_4co1r9FTsFjYij_RNQ', 4.704680919647217),\n",
       " ('HkNyp7B8D5SUgX1XO_gGiw', 4.70449161529541),\n",
       " ('R07rb3FN2QoRIbB6r6HDxQ', 4.704094409942627),\n",
       " ('JbACN82QLDl_D00A5cmLlQ', 4.703763484954834),\n",
       " ('Mwc3n5Psw9wRaQ22vZWDYQ', 4.703129768371582),\n",
       " ('nk96iwJV1_p2HECYQW1ysA', 4.702676773071289),\n",
       " ('gtiGtVIWIXsGhZKWdzVMWg', 4.702253341674805),\n",
       " ('XsfuqDqw9eOaQ_2FCv5MuQ', 4.702156066894531),\n",
       " ('wltU8uAAmMDhMAqBAuIZzw', 4.701385021209717),\n",
       " ('B5eJm8A4eiuPLW5C6l75dQ', 4.7011189460754395),\n",
       " ('6CUkqed0rhHtFwQ2i7Otsw', 4.700889587402344),\n",
       " ('VPpcZFlj0ZgGyYuxHvs8hw', 4.700860977172852),\n",
       " ('BvLW1LktxQD6BJjWzBbUTA', 4.700477600097656),\n",
       " ('deQAlSgEXKuSPasPXkeotg', 4.700207710266113),\n",
       " ('eRr8nxvJju8Q0ghh9C9L2g', 4.698779106140137),\n",
       " ('6TaGkietsy7XvFiSf5f7MA', 4.698716163635254),\n",
       " ('h4RaM9E8C0d20Uw-nLR5aw', 4.6985578536987305),\n",
       " ('Ff7CVmNORVLNsV3L-lrkvw', 4.697846412658691),\n",
       " ('U4DpkzcADkXFZzYaX9smjQ', 4.697546005249023),\n",
       " ('eJaeTZlIdM3HWCq__Ve4Wg', 4.696567535400391),\n",
       " ('uqBWgVsNyGABhh5u1zTq-A', 4.69610071182251),\n",
       " ('g5ogvPhw3PSobtaZFkdEXg', 4.696069240570068),\n",
       " ('P7MHW-EtCdp3eVF2P_nX0A', 4.695865631103516),\n",
       " ('MhPtYT3FDpTViIcIpMepMg', 4.6956787109375),\n",
       " ('y7qvy9LcyK2hr_VcPBiPaQ', 4.695385932922363),\n",
       " ('NebCGmQMd058CRT-xs13tQ', 4.695130825042725),\n",
       " ('VIYvcX9SScnqmoI0so1KZA', 4.695128440856934),\n",
       " ('0-PClaUWGphUvuTH8wQ51w', 4.694233417510986),\n",
       " ('vEgKBcuZxPsaExMXBP0SgQ', 4.694025993347168),\n",
       " ('URxxeb2R60AH81IcuxJAvQ', 4.693690776824951),\n",
       " ('ExcFu7R8ATHczORJ4opEUA', 4.693509578704834),\n",
       " ('n5Fdf9RzooS7obq0NecOWw', 4.693380832672119),\n",
       " ('zRnFxKLKdn0ZJ2_DapEQWA', 4.692815780639648),\n",
       " ('Qpytx9DmPTtqiWUuTZKtdw', 4.692722797393799),\n",
       " ('HgZdR5SLKW6I6cGUwqNmdA', 4.6925835609436035),\n",
       " ('aOIvSVnT5zk_c2SgFA4BCw', 4.692298412322998),\n",
       " ('fz85ozE9tZCIAPGTplZhTQ', 4.692022323608398),\n",
       " ('KWMdCTrepsB8YFBC8JBQsA', 4.691847324371338),\n",
       " ('_cb1Vg1NIWry8UA0jyuXnQ', 4.691819667816162),\n",
       " ('x3jRG95AVMBFcxVovRwIRg', 4.6917924880981445),\n",
       " ('poUBW6Ssag7DeRzecF1ojw', 4.691757678985596),\n",
       " ('CqyJouS-TvB2umHSnMLvSw', 4.69154691696167),\n",
       " ('CYSPKiVdoPX3erovujnE9Q', 4.691540718078613),\n",
       " ('ZbCIIVxCHnJ1zIBU1Vq9Zw', 4.691295146942139),\n",
       " ('l0nAnGMDSGNSVGBaSNC25g', 4.691027641296387),\n",
       " ('WB-eQAgw88fbr15eY761CA', 4.690870761871338),\n",
       " ('Gm-Wqb_Jr4KX8QC0QqBDhg', 4.690333366394043),\n",
       " ('ECRd0cTF040RXHP5j5i6yA', 4.690208911895752),\n",
       " ('yDaCFtvO9ZwK5OoKg2qXQA', 4.69001579284668),\n",
       " ('-lVEVi3vtQ8_L9kKT0bBwQ', 4.68966007232666),\n",
       " ('FQskkrIuNMKRCQJuokI8gQ', 4.689186096191406),\n",
       " ('zuBauP4SFrV_aFiipupA_w', 4.688511848449707),\n",
       " ('7XSVBJVuozQZL53D3DlypQ', 4.688098907470703),\n",
       " ('8L8n9i2iuxPZ3YqT2ePCcg', 4.687957286834717),\n",
       " ('CQkbjIY5Jb9qJyHbTADMDA', 4.687323570251465),\n",
       " ('N2ftvATcrj6x3PRGxyHzFw', 4.686759948730469),\n",
       " ('k0InB-3WCg5DVaMXGpSjnQ', 4.686560153961182),\n",
       " ('XvV9B9Y4YfVVehSVkX6Ulg', 4.686326026916504),\n",
       " ('jZNURvrGXciY9aBpl6Z-CQ', 4.686086654663086),\n",
       " ('LxKrVb6A9vyGdx2gywpUXg', 4.68598747253418),\n",
       " ('xBPg6gzunjpEUT6FiRrpog', 4.6852922439575195),\n",
       " ('EQDtTsve_bNxhQzxfVy9nA', 4.684548377990723),\n",
       " ('Y0EG7hB8aSeAk1PRvD_HpQ', 4.684347152709961),\n",
       " ('_4bhVmlvT9dvqydQG2TOMA', 4.683990955352783),\n",
       " ('h0z6-ExVdz-FkU02Dd4APw', 4.68398904800415),\n",
       " ('xY9QKt3W_khOmvKNyArhvg', 4.6839094161987305),\n",
       " ('g0UI4VuBBTvNow0-HW58sA', 4.6836347579956055),\n",
       " ('J6vgJaDdpf2NdJeve3apxg', 4.683372974395752),\n",
       " ('SOpGtBMY1LnYuHBWPjpV5A', 4.68332576751709),\n",
       " ('hTbh7GvxD4bzsamttFyy7w', 4.6831865310668945),\n",
       " ('YJVXMOIKhJjQczWj9YTwrg', 4.682936668395996),\n",
       " ('NnW7PyUW44d4nnC9XY1naQ', 4.6829023361206055),\n",
       " ('kfW3-LmZlKrXq3RndVXxdg', 4.681905269622803),\n",
       " ('Q93hDbLqgCHx9l1zmP5Gcg', 4.68152379989624),\n",
       " ('ZoKRo6oYfRLMWZdWA1PQYQ', 4.681485652923584),\n",
       " ('Eg9InViFO0EYOP40Im8Hpw', 4.681413650512695),\n",
       " ('KelJcIYD7uOzQ2lIrVZpUA', 4.681403160095215),\n",
       " ('_BKyniFZ3lDeTo3JeKkv6g', 4.6810407638549805),\n",
       " ('BNYs-2TLD6f0tomH0Ieq8w', 4.680911064147949),\n",
       " ('vw5C1FO1aD4nc5Jvb1n-Qg', 4.680458068847656),\n",
       " ('JbzvJJolDBT1614qo2Yiaw', 4.680184841156006),\n",
       " ('2LokHe7GtKZD9Q6w0dRe_A', 4.68015718460083),\n",
       " ('sVZb87xjhbCWHQ2UXOGLrA', 4.680148124694824),\n",
       " ('EOPWZ0x8jXPhojLU6txLQA', 4.680102825164795),\n",
       " ('W01WtvzePJomYmSwetsubQ', 4.680070400238037),\n",
       " ('rt4mUIWH9SOR4NrPkivslQ', 4.679758071899414),\n",
       " ('uf4gH2bLBox8bCHw30kJxQ', 4.6796135902404785),\n",
       " ('56q_auFAzhHK9Dvrs03AVA', 4.679182052612305),\n",
       " ('mazwmxicQua46Timuv9gjw', 4.679144859313965),\n",
       " ('y7XfZ8xgOggcqoiyRHfwDg', 4.679080009460449),\n",
       " ('-gV5HzOUDyWirA15UeffCg', 4.679039478302002),\n",
       " ('vC2Yt0Cdm5x0K-a78vQU8g', 4.678865432739258),\n",
       " ('HLRvheysFKngi7c07enm_Q', 4.678466320037842),\n",
       " ('a4wiMlglLdZ4Ugynk8xOnA', 4.678359508514404),\n",
       " ('FBof1_DJG-IMRdk6WmY2IA', 4.6780900955200195),\n",
       " ('vzwyBgWusjT7TIyiu1A2BA', 4.677892684936523),\n",
       " ('lgmcnMeYQrBasT9HMinkqg', 4.677535057067871),\n",
       " ('z87J50pmTCfbiUDZufjOVw', 4.677476406097412),\n",
       " ('A1UcdK-Eb4xsqXequ4zNUA', 4.677034854888916),\n",
       " ('j7_4_j_CWog763ET13nbOg', 4.676820755004883),\n",
       " ('g1phwUfq_-S8ZYTRqoG6iw', 4.6768083572387695),\n",
       " ('190tghYWgZMzelQi8ZAsyw', 4.676118850708008),\n",
       " ('ipZ7neK1bjBAUrCqyCvB_Q', 4.675813674926758),\n",
       " ('HTgKfmmlzgE43trhntv8-w', 4.675577640533447),\n",
       " ('jeJbUi0s_NpObUfKOQZWqw', 4.675314426422119),\n",
       " ('LDeHaPK7ShIvMD2zrwH8xQ', 4.67524528503418),\n",
       " ('Uohe7EU2bjUAtLLXy2EdYg', 4.674955368041992),\n",
       " ('ATsBy-RCjiv3XnDWt0czrg', 4.6749396324157715),\n",
       " ('1szGXy6XbgvQ1bdp5Ev3SA', 4.674924850463867),\n",
       " ('IkQCv8yqdzD_VndrOd2p_w', 4.674846649169922),\n",
       " ('uKK_8fcwaV5JuCv3Nj-OIw', 4.674842834472656),\n",
       " ('eLbKuFpCtHEjCkoWkDDk7g', 4.674835205078125),\n",
       " ('VdJ2Ln27tfM258MaT_qIXw', 4.6742448806762695),\n",
       " ('HCN3XWVqv04fws8vkC4H7w', 4.674213886260986),\n",
       " ('K3RURR9lIEE4JjOaPt99zg', 4.673540115356445),\n",
       " ('nT8O_5KgbgGvMyIRVqL6pQ', 4.673338890075684),\n",
       " ('FqxfsOhn13BKlXm94f1bjA', 4.672702789306641),\n",
       " ('VbCxeU7EVo-h7RpXPe4nFQ', 4.6725172996521),\n",
       " ('Aw9Tldxcg5ifodzn0R2O6g', 4.672397136688232),\n",
       " ('r1XrdSiWFp-CeZJ4ik7zoQ', 4.67234992980957),\n",
       " ('pXRrRf8fDv6yU3xp1E25hA', 4.670873641967773),\n",
       " ('n_Dd2ZreYlX8Xg1Vw47BXQ', 4.670625686645508),\n",
       " ('hLurbkHlY3joRaZybr5X3w', 4.670521259307861),\n",
       " ('vy0IlrE3Zl44HwxbsZhh2g', 4.670375823974609),\n",
       " ('wRzZQ0rNNl0Ss9dHNM1S1A', 4.670357704162598),\n",
       " ('tILA8ctsD_OZIcM2IfSyQA', 4.670257568359375),\n",
       " ('VV_DMArltFOUQq_ONjGVcQ', 4.669631004333496),\n",
       " ('r3pPMlv9uNML46kYhgz1tQ', 4.66953706741333),\n",
       " ('q2iS794-52tFAC2ScQFTug', 4.66948127746582),\n",
       " ('KKjpJcDsgRGdNNhgUp5wYQ', 4.669254302978516),\n",
       " ('fII7VVkwvuKLjq3j0C5LCg', 4.669218063354492),\n",
       " ('6x6rR-SErwOo3xF2AzXVHA', 4.669206142425537),\n",
       " ('uz5iexrLN3LjGQGcKMSTuw', 4.669159889221191),\n",
       " ('RBCtHLVvc230q8zkRWIoyQ', 4.668494701385498),\n",
       " ('oVwEPg-BADIFl2SlGma6jg', 4.667324066162109),\n",
       " ('_tt4nysrN8JpzLLVXL-z5A', 4.667248249053955),\n",
       " ('dxGwXxxlLWIz99jZGopGEQ', 4.666391372680664),\n",
       " ('kjKImJ8dLwN4jDi5PQP46g', 4.66621732711792),\n",
       " ('9PSg27_eo9WBmC_7msPz3Q', 4.6660919189453125),\n",
       " ('S9qwmdAgz9YYQ6XCvX3aNg', 4.666037082672119),\n",
       " ('EvPF3LA6hRWdwRrCiWPLDQ', 4.666004180908203),\n",
       " ('s9__MGvr-D6mj9HT8xRVtQ', 4.665888786315918),\n",
       " ('aI3B47Y_AUYFP5K5JAYrlA', 4.665233612060547),\n",
       " ('oHR6VtJaFg2rBSFvoEWqrg', 4.665177345275879),\n",
       " ('_p8oR1cDoNmyTo5kjJFMZg', 4.664722919464111),\n",
       " ('yFpOyYTVc2p2I-vNxe4nQw', 4.664507865905762),\n",
       " ('SMJhWIdOPAdPmmvY9y6hGA', 4.664434909820557),\n",
       " ('UIyDw8OqB17EkI2p3m7-EQ', 4.663780212402344),\n",
       " ('eglMZ16WTdKtGgJUeoMFVg', 4.663724422454834),\n",
       " ('ozOneB4jXOD6hv5WBGj4KQ', 4.66352653503418),\n",
       " ('2mAiSk1LeHlNu4Iq5RH7Qw', 4.6625871658325195),\n",
       " ('07Ypw3YPZtQ1rFZnCueeuw', 4.662352561950684),\n",
       " ('qAvcTMa5N70yT97bDCB03A', 4.662047386169434),\n",
       " ('UExn59qgCsdJwuPjLzT7ow', 4.661774635314941),\n",
       " ('gMMB9h6NErOo9MlDBRJkXw', 4.661407947540283),\n",
       " ('dLRbHKbn5Aj9dwgO3Kc-bg', 4.661369323730469),\n",
       " ('hC2OW5R-r11dPF20f7HanQ', 4.660920143127441),\n",
       " ('ZBL9Zr-zm7_2WTxOfAVKiw', 4.660905361175537),\n",
       " ('kL98j83h3QFUoSBBevCHOw', 4.6606645584106445),\n",
       " ('OV-ekwFPITRt0P0iMYu0mA', 4.660340309143066),\n",
       " ('ykrD-GI7pQpU_rHlHnEeag', 4.660286903381348),\n",
       " ('HHBbetQ-XRQYJprT5Qp9jw', 4.660179138183594),\n",
       " ('7pwZZVVlYCxQvVdd8Q03wg', 4.660106658935547),\n",
       " ('ajF4K4G-gJtNVy0P2paJpA', 4.6600470542907715),\n",
       " ('8P8HIysyyGbG8_94cG1Jyg', 4.659355640411377),\n",
       " ('zqEmarWiEUQ5jl9R4t8CnQ', 4.659259796142578),\n",
       " ('vdpxxb6fxjYtJMnW_V0GZg', 4.658954620361328),\n",
       " ('phQZ65kaARzcL1fAquR8LQ', 4.6586408615112305),\n",
       " ('kXzYfIPhf5G19hm0hwM8Qw', 4.658560276031494),\n",
       " ('g8OyaT2RL8JCKItDExcFug', 4.658059120178223),\n",
       " ('_gjlYp7xd4NiEosu6GHusg', 4.658005714416504),\n",
       " ('75FY8ZQx5nOWP0VFmNvWfw', 4.657763957977295),\n",
       " ('WRjrtbqSSi7i7Y96cn98jw', 4.6575212478637695),\n",
       " ('Zjg5nixJ-sTr9B6tsDzClw', 4.657349586486816),\n",
       " ('sBWuDgCSx9j-sRVhikx6nw', 4.657114028930664),\n",
       " ('13HH552okR9DsjANReVeFQ', 4.657020568847656),\n",
       " ('npgM053pAXrWMMlhG2upiA', 4.657012939453125),\n",
       " ('_UOg5_pk9IhKee91eWrT4A', 4.656895637512207),\n",
       " ('klGvxx2XmKkd-9mdRZoGVA', 4.6563615798950195),\n",
       " ('nWyACfz6EBYKRu_MwOdEyA', 4.6562395095825195),\n",
       " ('AsMmX7njOzFkWsJQ1jMVCg', 4.656031608581543),\n",
       " ('0mijbNf-7wiKJ9xto1pAyg', 4.65593147277832),\n",
       " ('7HI9pccJr1sqs8MrJQJNgg', 4.655832767486572),\n",
       " ('h6fI6-2x0lDpiDZJ3lb0mg', 4.6557393074035645),\n",
       " ('JtY9OkVp8lfdFVTahNjHdw', 4.655615329742432),\n",
       " ('SaPdiZw-q60lH9ZqtpLSVw', 4.655384063720703),\n",
       " ('5fIG7laATvOIgsPPFevqXA', 4.655117034912109),\n",
       " ('n_zDBVMcBFU1bCOERIQ6HQ', 4.6546430587768555),\n",
       " ('lWedWkinrM5j13pyimbpbA', 4.654623031616211),\n",
       " ('d4QFJfL5q4nguXfWJUphZg', 4.654600143432617),\n",
       " ('gwFtKdjtK8Pw_6mUsWvRHw', 4.654230117797852),\n",
       " ('fivoAD6x6jXJRiEZwhpcEQ', 4.654030799865723),\n",
       " ('0HCh1iLUZdY_yUM9DGZvkA', 4.6539154052734375),\n",
       " ('PmBQGUseSjhxWCw94kCOXQ', 4.653736114501953),\n",
       " ('VncK710nB6qNx08zFJtwkw', 4.653725624084473),\n",
       " ('tDymvINtYaxSk5U05qeNDw', 4.653596878051758),\n",
       " ('R17gwW6zn9ilslbdvKdgsg', 4.653512954711914),\n",
       " ('o45O8DI0MJXYsHnoIkP0jg', 4.6531219482421875),\n",
       " ('jBF32PwCB1z_gm58m9ddMg', 4.652611255645752),\n",
       " ('m8O_40RlYTs1rk_AOnLjFA', 4.652186870574951),\n",
       " ('dlUC6JbDuv4nOIPDhw5AVg', 4.651942729949951),\n",
       " ('9pSChgbs1Skp8rRLQb8x9A', 4.651566505432129),\n",
       " ('ez3QHFQDCbdhzBtU58dbKg', 4.651365756988525),\n",
       " ('mrtFgfT6MgkC8yThcmNWYw', 4.651227951049805),\n",
       " ('mdSjI3ig48WS_jLJ6Vxq0A', 4.651122093200684),\n",
       " ('zdv6HmtViGmQn4PVk9bAWQ', 4.651045322418213),\n",
       " ('NcrvG-VdwRlFJ_IHaL4W7Q', 4.650521278381348),\n",
       " ('7zzMf0VwD51K7dJjZMf_pA', 4.650506973266602),\n",
       " ('5-uI2a8avO4QtM7l4UHeNg', 4.650067329406738),\n",
       " ('YMxOjiZfWyN94L8XkZGPRQ', 4.649895668029785),\n",
       " ('V4Dr3ragKHKeUab96miyMA', 4.649599075317383),\n",
       " ('ByEfpxv69HFqBYU3_r7HtA', 4.649563312530518),\n",
       " ('IjtKwA7njLjTvZr0nFSLeA', 4.649546146392822),\n",
       " ('x4XdNhp0Xn8lOivzc77J-g', 4.649125099182129),\n",
       " ('kbEVlzQLcYS3JSQPG9QMOQ', 4.648464679718018),\n",
       " ('v5IbyC2qHFFCbDk1IEyBvQ', 4.648392677307129),\n",
       " ('FTSY6Y1RU-ICgc3GAbquXA', 4.647981643676758),\n",
       " ('dobrhbpdxTMh9EWiTEQk7A', 4.647825241088867),\n",
       " ('uL4jKuA41fQ-AUFBUUcrww', 4.647724151611328),\n",
       " ('_qTgNBEvVhcXD1lHksz8RQ', 4.647502899169922),\n",
       " ('poviu-6n3iaRE4gdQz6OYw', 4.647418022155762),\n",
       " ('ty6H-2zkK-8IQbhjUfs-8g', 4.6471147537231445),\n",
       " ('qFsh80AAL90tkOc0n98bqg', 4.64678430557251),\n",
       " ('GBRQ70B7TOhs8M40w6WGbw', 4.646547794342041),\n",
       " ('PGzBEg6JAqoiUnkjvi1_3w', 4.64634370803833),\n",
       " ('RRIJlZUVvz2CkMrDn2UziQ', 4.645747184753418),\n",
       " ('_t4wY_baSBouijDOV7nyhQ', 4.645715236663818),\n",
       " ('U2VoQtxyKir6HME18yDMuA', 4.6457014083862305),\n",
       " ('OxXMZfaRZc7SJnjMBkO1ww', 4.645415782928467),\n",
       " ('1vN178lXfJ77EmFRBYzteg', 4.645294189453125),\n",
       " ('iH9fT2RCB0u4cVl2HLDtqg', 4.645162582397461),\n",
       " ('qdL-EbgoA7Gq_2u4e4YvLw', 4.64506196975708),\n",
       " ('ci_PNLOL9cM2igVCM1H7Jg', 4.644918918609619),\n",
       " ('u_S84xiDCRJ3CV204CIYuQ', 4.644892692565918),\n",
       " ('K3rQIh4EXBwCb1xass2k7g', 4.644792556762695),\n",
       " ('XAyJt3DXSKf2f_EYrG5Z8Q', 4.644669532775879),\n",
       " ('DorCmYVDR5wcCVvbCAvzEg', 4.64464807510376),\n",
       " ('4YoVUmkpUBNtdYa804Wzvg', 4.644359111785889),\n",
       " ('u0Bt7uvvj7LAjAdiMtrhug', 4.644172668457031),\n",
       " ('GIAgyEwEQITK7wZI_vhXIA', 4.643768310546875),\n",
       " ('o7YE1WaFeQg_piECb9cgjQ', 4.642846584320068),\n",
       " ('hnXA1m5_6ogFvuvPDEP0Aw', 4.642629146575928),\n",
       " ('wocwfwSFrNfYJRyfYSi1Cw', 4.642467498779297),\n",
       " ('ELY0HI8GDEx0jkmREVna0A', 4.642377853393555),\n",
       " ('jqwyo1FM7U7kAXmTzeOTUg', 4.642361640930176),\n",
       " ('K06XzePUYtlT4Qm5ry-jBg', 4.641899108886719),\n",
       " ('jK14ZI9sfjOsWcPrCOQBcQ', 4.6413044929504395),\n",
       " ('JbVtIpb0iKnSzlPT83KMOA', 4.640992164611816),\n",
       " ('QkWOGeCYqTBUN8UEduOjmw', 4.640920162200928),\n",
       " ('cjIbKTknnvvw8E7FO6SCzw', 4.640061378479004),\n",
       " ('rgeuy1qbw6Z8B6CSVANHIA', 4.639439582824707),\n",
       " ('f9ChjNJV73tpa4rPb_JO0g', 4.639057159423828),\n",
       " ('uJZgom8HpK74xz8IojpT0A', 4.639037132263184),\n",
       " ('8VO4Ma7FhsLYop9tk87tbA', 4.638931751251221),\n",
       " ('01Vuw9VgqJVIwThiGg3sRA', 4.638607501983643),\n",
       " ('UiD1tjeFu03vJ--oHba4Jw', 4.6384172439575195),\n",
       " ('we1YC8nDW9V1H-BL_XMaRQ', 4.6384124755859375),\n",
       " ('IJ8Typa6BGckVuh1jhjy4w', 4.637909889221191),\n",
       " ('naZrWX2vLUHHvvmWLSuDXw', 4.637813568115234),\n",
       " ('OPQWnVzSu70iE26LOaZiJw', 4.637733459472656),\n",
       " ('thb9MKU1kOG_TZ0sn2RxcA', 4.6375861167907715),\n",
       " ('tKxXZd00zZ24jDmJJcUYPQ', 4.637422561645508),\n",
       " ('HvBLY3-R1KxocZapeAAvZQ', 4.637231826782227),\n",
       " ('CxzaEZX7Zu8xHBqOBlzqFQ', 4.636741638183594),\n",
       " ('gBGD0dNvfLlQOAaZzCU1NQ', 4.636727809906006),\n",
       " ('lwN9FutfBq81GnGWhj5Mng', 4.636368274688721),\n",
       " ('dChRGpit9fM_kZK5pafNyA', 4.636063098907471),\n",
       " ('yGFkdrYdndizAPymvyq2WQ', 4.6357879638671875),\n",
       " ('PmF5kJ2E4YXPnVNNK8S51g', 4.634772300720215),\n",
       " ('oqbhVgliVJH-iRa3AnD-3A', 4.634679317474365),\n",
       " ('xAW4nw9DrW77vWF61_l-Qg', 4.63401985168457),\n",
       " ('SW3Ywi1x9WVCJv0znJP5Gw', 4.633686065673828),\n",
       " ('h6gEB2JmquKkuirJnrHk3g', 4.63358736038208),\n",
       " ('05ev984NYfimRN0UiFrxaA', 4.633444786071777),\n",
       " ('GAINPyM9n673GUgNkGBOcg', 4.633244037628174),\n",
       " ('5xRZFazPsVLZXijsYwR7Ng', 4.632870674133301),\n",
       " ('j8_GtOGBHwOty3nB4k23gA', 4.632713317871094),\n",
       " ('rVzbBAG3BDlx2-OFUOq4MQ', 4.632662296295166),\n",
       " ('DEFte_S3i2EcRLH7XbWQZA', 4.6320953369140625),\n",
       " ('GBtCFp9EU0Ti86ftGewZZg', 4.632068634033203),\n",
       " ('J40yh-PlRJQloNzHnd-BNQ', 4.631948947906494),\n",
       " ('6ciAUVTzxDall6WXLoot0A', 4.631308555603027),\n",
       " ('SADPX8WX34EQDj_jqtacMw', 4.631016254425049),\n",
       " ('nIlmZLuMs0JuBRvAHSIf8Q', 4.630768775939941),\n",
       " ('qEcgemvSCGUFRKPS3lt3pw', 4.630635738372803),\n",
       " ('luv3Y2AjoOhxYRY_u5tRJA', 4.6301164627075195),\n",
       " ('5srKt6H8Y1Ko80hboucZEg', 4.629730224609375),\n",
       " ('QaOTMn7BVBx3xXrjRlVnCw', 4.629716873168945),\n",
       " ('5kWhgFvaf9_zeyOfO-2NxQ', 4.629379749298096),\n",
       " ('cmMIB7uTNGJc9Qpl65LjjQ', 4.629337787628174),\n",
       " ('kCV9CwW28Uz1ln4IXGhGwg', 4.62931489944458),\n",
       " ('jLsAwortT8sdnqFLo0moqA', 4.629191875457764),\n",
       " ('229pgAfC3CBMmIWNngwKsA', 4.628940582275391),\n",
       " ('FIweOxvfz1aSgXqs2X-pqw', 4.628403663635254),\n",
       " ('VHWCzIZXpWPyeFe2lkIutQ', 4.628310203552246),\n",
       " ('CBWmYHLgtFrOJs7SCcQn0g', 4.627979755401611),\n",
       " ('YVy2DgGfNmG5hWYbA7k8jg', 4.627952575683594),\n",
       " ('Mxlw3cSKkWv5o4HdRWGTPg', 4.6278181076049805),\n",
       " ('tyDEseGSr6NIsk7S63uMqA', 4.6276984214782715),\n",
       " ('da_jniSpqeo9Z6FLCCh4jQ', 4.6276936531066895),\n",
       " ('DZglT5FP5VNDQJU3PuRIHw', 4.6274800300598145),\n",
       " ('pN4bu3X4Upie2fc9H7BY7Q', 4.627390384674072),\n",
       " ('1Mc_Reqnxhs0eHQFAhXVUQ', 4.627345085144043),\n",
       " ('wc-rqw9ECSGnS45JygdIwQ', 4.626683235168457),\n",
       " ('w_LP7DTDpibVU9rLtzhGCA', 4.626528739929199),\n",
       " ('uvj_tGQrGDSVXjNU4pHjCA', 4.626489162445068),\n",
       " ('B9Z3i-n9y9FfMU3CQxtThA', 4.626286029815674),\n",
       " ('oXw9R3-fdgAzv0K6d35lkA', 4.626123428344727),\n",
       " ('irXywqvfXj9maLLOBQMYvg', 4.625398635864258),\n",
       " ('w55VlTgAoRXPnqFte3j9ew', 4.625094413757324),\n",
       " ('QVGHZ_gV-0fO8GeHnNK17A', 4.624984264373779),\n",
       " ('d-9vXGzbI2eZAJWKb06h3A', 4.624755859375),\n",
       " ('hHCGmb01EGFstumCsd4-VA', 4.624554634094238),\n",
       " ('elWsPNrZ62gt8-AZ8V8TNg', 4.624261379241943),\n",
       " ('FcKqZpor9OjdTfoWkaGXuA', 4.62398624420166),\n",
       " ('rcJnKmhgSPb8BmK3d6AZYQ', 4.62369441986084),\n",
       " ('hm_vd7AoipjSa3i0AFAR5A', 4.623574733734131),\n",
       " ('qvfkT03PHLf4_Ejs4gtAFQ', 4.62342643737793),\n",
       " ('QGYzYUMsQe6k7__LD91E5w', 4.623354434967041),\n",
       " ('fgfpRmXyM6iKaiX8mfA-5g', 4.623256683349609),\n",
       " ('_V9ktNg37MPh7X3MiYXe_Q', 4.623246192932129),\n",
       " ('55D--p5wnvr0gYyRI_y_mw', 4.623231410980225),\n",
       " ('cXa1G6GYqpKR3hjw9zR3qA', 4.623073577880859),\n",
       " ('eBAxMzTR2veCeDg9wJ22tQ', 4.622828483581543),\n",
       " ('8yZzf0gdWpSmY6ziyq7hKQ', 4.622382164001465),\n",
       " ('cIohvIbTq6qN7god-sx1zg', 4.622182846069336),\n",
       " ('M9M37FllWUIslw2OE9eyKg', 4.621888160705566),\n",
       " ('9wu8pszrPPUjruNvgQtIEg', 4.621601104736328),\n",
       " ('uIZwBkvWicqyWraXvYOipw', 4.6215620040893555),\n",
       " ('wulFpnfqcRP8PNIcHaVdAA', 4.621511459350586),\n",
       " ('Tf7c38yepZzZvPG9wxNIqw', 4.620893955230713),\n",
       " ('UpoQYI2d03qy8R82VCRnQg', 4.62062406539917),\n",
       " ('eMdE9Jofj5_8A_53ELnP8A', 4.620253562927246),\n",
       " ('kvb0a9FiFs9UXWxE6q-5DA', 4.620187759399414),\n",
       " ('g6rcVXjeLT6Y_kAFhbbJRg', 4.619823932647705),\n",
       " ('u3aN2A8Lo9odMCYjaphjLA', 4.61967134475708),\n",
       " ('xLuEfxyJ8BnDtI9pG-mGAw', 4.619410991668701),\n",
       " ('VUmtqHLmrcBQiAFMQgX92w', 4.61931848526001),\n",
       " ('g1KoL8rejZ5tTibsyU0x6A', 4.619210720062256),\n",
       " ('wazRghDjVEiSzTt9WXCPOA', 4.619137287139893),\n",
       " ('Yz0fJyBkUF8VZBvwFswkRQ', 4.618934631347656),\n",
       " ('PtnPDvGQ4WnZl66GoLph_g', 4.618921279907227),\n",
       " ('g3xvwZPyW95KThnc7tN79w', 4.618916988372803),\n",
       " ('HUKrpwmcMlwPbDF5cz0VkQ', 4.6188554763793945),\n",
       " ('oXjSx3T9NeWRKMDBFt1ZZQ', 4.618627071380615),\n",
       " ('Ty3w8cNBGXLMMpx_t9KUAg', 4.618599891662598),\n",
       " ('v5hCB55uWA97qj_Ww8DHqw', 4.618363380432129),\n",
       " ('zWQWjJ0270yqp_KignAmkg', 4.61831521987915),\n",
       " ('bJfcuUMgJUkHWpCUeAI4Iw', 4.617454528808594),\n",
       " ('WRMlifrYLjRY8q5YUUbfZA', 4.617434501647949),\n",
       " ('Qc8GIJyfarIaakj98zwckw', 4.617184162139893),\n",
       " ('xicrRwfMBkDfQlFaGoyC5g', 4.617100238800049),\n",
       " ('LejMqzvUAz_pnf90OOBLkw', 4.6170268058776855),\n",
       " ('9rMLrfcH-d6mKdq7uMNwzw', 4.616886615753174),\n",
       " ('U6RX5K67l95kXzAnkmPesA', 4.61654806137085),\n",
       " ('7evVLlKovx8DV4CfqJgXww', 4.6163763999938965),\n",
       " ('7gtWQMLOEwCxh1I5j6uB4g', 4.616321086883545),\n",
       " ('dfoptDebFhEZCZwFxuZ6_w', 4.61625862121582),\n",
       " ('HO1KJ6Jwk3sU_UTIJGOLDA', 4.616159439086914),\n",
       " ('M4ME5ir-QwnRdM4fhjZtTA', 4.6159515380859375),\n",
       " ('8pqdJjefYq-a9IBSJJmKwA', 4.615520477294922),\n",
       " ('7u7qfIDQCqLjDd7RSae7gQ', 4.615342617034912),\n",
       " ('c6GTImF01z981_BNJIye2g', 4.615174293518066),\n",
       " ('pxdliCtWkCuXW9uHYk8Y9w', 4.614908695220947),\n",
       " ('hgsXaSoE8ZESGcGxKrBLAg', 4.614555835723877),\n",
       " ('o69X6XW8QLuluIoGqvtQrA', 4.614192962646484),\n",
       " ('MaaDRJZKSUTAJeF6OTQRnA', 4.614140033721924),\n",
       " ('trwHwsXOVV-ZmF-MtP98BA', 4.613868713378906),\n",
       " ('GW-H37yWCNhgWPg9RwKbVA', 4.613812446594238),\n",
       " ('TPfhxYwdxj4XExyW2vl6fA', 4.613661766052246),\n",
       " ('CCeUPUSWxYqUB_qtkGi2Lg', 4.613381385803223),\n",
       " ('JgZAaY3VzFZRivp5bAs0Yw', 4.613272666931152),\n",
       " ('lJ59yy1n1CHztMN6DsXBQA', 4.613254070281982),\n",
       " ('JbNgfr60iyvM3CJWgyqXkw', 4.612916946411133),\n",
       " ('gWgsRIYJXIyaY-xSY_1GlA', 4.612759113311768),\n",
       " ('Bk3l4jG0rLvlFLtxnqih0w', 4.612349510192871),\n",
       " ('vuE1iseFrgNPumUEfHIZZQ', 4.61204719543457),\n",
       " ('ez1xAIwSguvgj3F8B7uJsA', 4.611968994140625),\n",
       " ('4hv1n1VBzMvE-T4UtIcOcw', 4.611830711364746),\n",
       " ('5mDneH5wP5VN_7GVe-PudQ', 4.611763954162598),\n",
       " ('5Q82x5hIwfWSF3XEeINkgQ', 4.6115875244140625),\n",
       " ('2jDmrOc_CZpZNG7klKoXtQ', 4.611486911773682),\n",
       " ('yktnwboMIQZkOvcZywktzA', 4.611437797546387),\n",
       " ('_C7QiQQc47AOEv4PE3Kong', 4.61122989654541),\n",
       " ('fK_Fd8-KmGV-ASIIjJwfdQ', 4.611103057861328),\n",
       " ('vHNRMU-lJNYSmsm3AcfAKQ', 4.610794544219971),\n",
       " ('mlgewa5y_a_AxVTamXGemA', 4.610074996948242),\n",
       " ('Ds8E5RPjm2UHUemXJVTs3w', 4.609808921813965),\n",
       " ('I8IPPZvEPdb_xG0nGIMyjA', 4.609668254852295),\n",
       " ('TN1geaU2Sry_NfpXk-kbpA', 4.609536647796631),\n",
       " ('dDMJ-H6e_RvoxwoXai79Rw', 4.609378814697266),\n",
       " ('dsxkmGJyQlQVca8aa03awg', 4.60919189453125),\n",
       " ('mcB1_hiiOVPlgTvlkqAiDw', 4.609149932861328),\n",
       " ('K6VliqaqiQqaVeaOXQv4wQ', 4.608822345733643),\n",
       " ('SYcdJP123caYVCkZ27BIOw', 4.608802795410156),\n",
       " ('QjPk-rOqaiWlZ1KQeJpQ2w', 4.608109474182129),\n",
       " ('zz0l4dUf28wzPAaTdGqsSw', 4.60792875289917),\n",
       " ('vKPXJCvlFvQWOx3-zNaehg', 4.60760498046875),\n",
       " ('QdER5KjucCVtOXdU1g7kpA', 4.607489109039307),\n",
       " ('pEA1WUzNppq7pTBrVz7GhA', 4.60739278793335),\n",
       " ('wIz_tZ88bj4W3VlrJTiiqQ', 4.607120037078857),\n",
       " ('0Sa2hQnbS9hoRthHKOGepg', 4.606847763061523),\n",
       " ('M1hsyjJDdQQeNP164FJ1pA', 4.606664180755615),\n",
       " ('lAGS4ujbBQiSX_WL1GPkIg', 4.606639385223389),\n",
       " ('gYYMQeg4X8FUcCxXI4c2Tw', 4.6066389083862305),\n",
       " ('QkEdoOC2qvbN35PQ_47NDg', 4.606432914733887),\n",
       " ('oeD6OiItgca6A66Odak6nA', 4.606431007385254),\n",
       " ('A7bjrO_5UCExdOvr8klrYg', 4.6060919761657715),\n",
       " ('kjX7I5bywXku18py-chn9Q', 4.606067180633545),\n",
       " ('h_DxpK5pngE1rX0Ca9wzGg', 4.60547399520874),\n",
       " ('8vuulrqX0uw80A53wXmRSw', 4.6054301261901855),\n",
       " ('wMyHVb54Ne9SNasa4kjOCg', 4.60528039932251),\n",
       " ('61NCACGHsNPhbi2DgJAWmg', 4.604919910430908),\n",
       " ('gQUMqcT1sV1KlYUMLP3iEQ', 4.604798316955566),\n",
       " ('QTeEX_XchMKgS27yX913mA', 4.604397773742676),\n",
       " ('VhCNCbbMO8jX5pyKExEoxA', 4.604205131530762),\n",
       " ('Owo5es5l2zcGq9e9T1sgIg', 4.603993892669678),\n",
       " ('6ewV-e7-39oqYUq3yZuIyw', 4.603853225708008),\n",
       " ('McQo2QJGt1BI9oPu6KLDjg', 4.603698253631592),\n",
       " ('ROnkVXPz5jRlMQvLw05UEA', 4.603675842285156),\n",
       " ('3CFVBCfjdCvESS1ogBv21A', 4.603142261505127),\n",
       " ('-OIUunijjcq_ZzyyQhPPFQ', 4.602744102478027),\n",
       " ('mXCc-htrMH55gdaWF7wH2A', 4.602550983428955),\n",
       " ('gbw5wqRVjeyCEExrM0RPmA', 4.601921081542969),\n",
       " ('hEb0f7wRZBUhX5f4CWEukg', 4.601861476898193),\n",
       " ('F0AAzMdhv2RyjwHVned5bQ', 4.601781845092773),\n",
       " ('9uU6AGSXncM-hu6lIvgv3w', 4.601560592651367),\n",
       " ('jo5AYcDH5wJbD3PcPRBsrw', 4.6014299392700195),\n",
       " ('cdIZWzfLzU8AAnS0rWQXdw', 4.6012349128723145),\n",
       " ('tVELQMCI0485CPvgtTlMDA', 4.601022720336914),\n",
       " ('qj5NGHlVMxO2P00krUD0kw', 4.600884437561035),\n",
       " ('MtCiGn5egsWHFRP1YMvrJw', 4.600743293762207),\n",
       " ('j7z0VfA0BjEG6dIVNprH9Q', 4.600676536560059),\n",
       " ('yeHLiKNp0hyR-ig4M6us-w', 4.600321292877197),\n",
       " ('gdDUtIhG4tTshh2LbpfMfQ', 4.600250244140625),\n",
       " ('aj3ESi3I6WNzGWp3j6OehQ', 4.600158214569092),\n",
       " ('QGzyGNkNBnB1q6KgeUL3Cg', 4.5998148918151855),\n",
       " ('368cyArdo0P0aDUOhhE4PA', 4.599733829498291),\n",
       " ('qDRjceFNH7Mxv9M-ZvDitg', 4.59971809387207),\n",
       " ('VJ-c-Yjj1qv7dKS5YaYoHg', 4.599711894989014),\n",
       " ('MN3rGpUtdzYKFBMVypERRQ', 4.599684715270996),\n",
       " ('ZraQzfGJfnVMbMXZwOQ7Vg', 4.59948205947876),\n",
       " ('0HwxZ9ngr_2rsnuawVOocg', 4.599142074584961),\n",
       " ('-WXmyccE1YUqO3mA3Uu1Xw', 4.599119663238525),\n",
       " ('JuMiGeS_i9c611znnG27xA', 4.598918437957764),\n",
       " ('O69OCM8Em9ZoJoV_GVhw-Q', 4.598503112792969),\n",
       " ('8E2--KcyOrJx8my51jid2w', 4.5984344482421875),\n",
       " ('koVIuwtCO9HgKtAiJpakJg', 4.598206043243408),\n",
       " ('Cfl4gpf9oneiuZUExMtA4w', 4.598196506500244),\n",
       " ('9mA9qYqiv4c0T9ASid3PIQ', 4.598150253295898),\n",
       " ('lZ2hiZ25W2lMbW-DqoCxbQ', 4.598052501678467),\n",
       " ('kNyphDVYqOMLsx8aAy9ocA', 4.598030090332031),\n",
       " ('PQ0QbT5I6V8JvOm0NRFlFw', 4.597318649291992),\n",
       " ('u4dax05l6to_vjYR9b-_Jg', 4.597034931182861),\n",
       " ('rKbTMJ7RMi06I2cW18toog', 4.596958160400391),\n",
       " ('TfcpJBiFNnDaochnmp4M2Q', 4.596830368041992),\n",
       " ('nTcKBgHCkzQgYI2cM4_1aA', 4.596765995025635),\n",
       " ('j3E_vGw47XpiEgTr-KiJUg', 4.596643924713135),\n",
       " ('F7fC4dZW17muSvE8ixaXkQ', 4.596500396728516),\n",
       " ('vvh47oI2xVIsmi1ORgVO3A', 4.596426963806152),\n",
       " ('9lyYoyMZ7wqqMSaP05usSQ', 4.596389293670654),\n",
       " ('iaBU5h_j0TCrUFzTbjFIlw', 4.596234321594238),\n",
       " ('rcjVayUW3WjF5CL-SBMy-A', 4.596147537231445),\n",
       " ('SBTco89BmBy1ENFjtXdNag', 4.595907688140869),\n",
       " ('D1WqtPVxtjMQxH9FsomAXw', 4.595608711242676),\n",
       " ('viTvepI8TEHvl8nwiewX6Q', 4.595513820648193),\n",
       " ('liGDprT3LE4g1QC6_aOgDQ', 4.595475673675537),\n",
       " ('1cncsHKApeW1ubd5d9HoJw', 4.595114231109619),\n",
       " ('_azrP4ds3iVoAP02mbKZxQ', 4.595053672790527),\n",
       " ('tqmi9HYujFk3zphlLkyFUw', 4.595004558563232),\n",
       " ('bZcW_CPll-WaAgciSLPyrA', 4.595003604888916),\n",
       " ('EEWjIIs6N-34yaAXI7lHJQ', 4.59486722946167),\n",
       " ('42GQCdKn3HH9mesZftQHKQ', 4.594841480255127),\n",
       " ('gOpRlosKLPBuVhYsTxgesg', 4.5948262214660645),\n",
       " ('eE5rsErCgdkqBe5FnWn6oA', 4.594372749328613),\n",
       " ('0ak-7uV9Nb7nF_l-mMCysA', 4.594322681427002),\n",
       " ('eZnkhvhSfrWxNjpen8VqnA', 4.594242095947266),\n",
       " ('-pyobEWdpZ6jUp42f3I2xw', 4.594233512878418),\n",
       " ('MnB5oYCBXbiF8VkIiyU44A', 4.594168663024902),\n",
       " ('riwJWxj4850tGBhRahDt7g', 4.594136714935303),\n",
       " ('3hjqPKtLvEtcOxaUHkz_RA', 4.593993186950684),\n",
       " ('wzIN0IqcNOnUjwuzRoG9AA', 4.593958854675293),\n",
       " ('ueX6oVA4GSaKaBKMFyC8mA', 4.59393835067749),\n",
       " ('TXg82zeFo2MpX5BzZXpJUg', 4.5939040184021),\n",
       " ('4nNaz6sxw8xv9F-9bqQndg', 4.593582630157471),\n",
       " ('jXtaxB2b64nA4uy13i024A', 4.593574523925781),\n",
       " ('CMnrIvac5TRbYnUJgKHupQ', 4.593574523925781),\n",
       " ('fx-U1NC-HJlZ2In5UJiwNQ', 4.593457221984863),\n",
       " ('4WdDY97x4GdMYtyk1KQMnw', 4.5933685302734375),\n",
       " ('QUyLaPjsoZiRJ-RUBVa5rA', 4.593183517456055),\n",
       " ('97kHE0zzwdi7H1lmyxE9Eg', 4.593173980712891),\n",
       " ('mAAnVFofJvwpXJ1GzXdGsg', 4.593048572540283),\n",
       " ('mUIBtlWNPD7sz3rGGWQ1RA', 4.59213399887085),\n",
       " ('Y6bKMtyK02vhA5doR_z7qA', 4.592123508453369),\n",
       " ('4n22rhH6sdrAWHm54datEA', 4.591959476470947),\n",
       " ('cbOz9CwZCMf1Bxgzgms-fg', 4.591660022735596),\n",
       " ('OshZe8R4Zhcy-TsjK5vJdg', 4.5916314125061035),\n",
       " ('MHRgXoxLazONKzscBisTdw', 4.591541767120361),\n",
       " ('0bvtIbpsqBJZpRKSPwIfNw', 4.5912346839904785),\n",
       " ('1sO-Ujuvs8igSyaD35xx4w', 4.591108322143555),\n",
       " ('mQ3DDR6L1vDU5pS6OhP7UQ', 4.591018199920654),\n",
       " ('e_-Toln0AeJ9d8aMLxgZJA', 4.590445041656494),\n",
       " ('mTeNbKb9idbGoKJswtU_mA', 4.590272426605225),\n",
       " ('_tvR2q9UJmFAxf7FE83eaw', 4.589653015136719),\n",
       " ('-Om8XgP9GZ4UUFbgTRI4YQ', 4.589634895324707),\n",
       " ('vcyyzUqEiCTSrFmHgqvxpg', 4.5892252922058105),\n",
       " ('h-LoRnHxlAx4tS2UJrmKLw', 4.589083671569824),\n",
       " ('5x0Qrz93x4msXr29NNRCkA', 4.589031219482422),\n",
       " ('0BgrDm4tfQBtlEV-ZqtAtg', 4.589016437530518),\n",
       " ('y40Xvbq0Ahut5IcSaKn2XQ', 4.5887956619262695),\n",
       " ('cFSyJluKa2SHtgMMvlx6SQ', 4.5885090827941895),\n",
       " ('2pYUBcNkUxD1Bg8FA5lCzg', 4.5883893966674805),\n",
       " ('uiLHEHh1VZ6u8Wx1kXcROg', 4.588376045227051),\n",
       " ('IAOJuLejVtnZJpw15Txu9A', 4.588271141052246),\n",
       " ('_Rj-WaJMlpdhM3hNzrjgoQ', 4.588232040405273),\n",
       " ('PUDDBW0MfpSFI2XEMv_g3Q', 4.588139533996582),\n",
       " ('nxV0qNngBHkOBm3rer9E-w', 4.588057518005371),\n",
       " ('Q21JJcmmGH365PkvFzQbEg', 4.5880537033081055),\n",
       " ('mGy0KzmeGIECUL0nZXUV0g', 4.58798885345459),\n",
       " ('-81BXpO5Fuk-RqCabS7LMw', 4.587973117828369),\n",
       " ('Ety2Z0CImO6FYDV6L5Ahkw', 4.587955474853516),\n",
       " ('SMuEpNYXwYYyjS1FTYeQhg', 4.587906360626221),\n",
       " ('EPMHuTHu46B123ivRIZ-Xg', 4.587786674499512),\n",
       " ('-uQx0mht-CxM9OSJM92YdA', 4.587328910827637),\n",
       " ('jRLskcm_icZIKs81mYC4iQ', 4.58692741394043),\n",
       " ('lnT7jlgdGpn-vppgToIDCg', 4.586857795715332),\n",
       " ('IfKsmxBL4Rl0MnAeIPL2_g', 4.586606025695801),\n",
       " ('9V0LMtO1riRw9-pUuG4NFg', 4.585860729217529),\n",
       " ('rOh8NovXVn48p8I-ZYEpQA', 4.585859775543213),\n",
       " ('hid9ixP7Rtoj2pR4EBrcGg', 4.585784912109375),\n",
       " ('pJtvP5aHophr2gjIVvX-YA', 4.58543062210083),\n",
       " ('2zNcKEp4soce0GFmOgZAdw', 4.585034370422363),\n",
       " ('gmYMOcIFsfUnlP_5HMaHpw', 4.584984302520752),\n",
       " ('9f48RWEylLgrkCt0-49iHw', 4.584953784942627),\n",
       " ('ehzdBdCuwFNHEoIfpJY7Iw', 4.584923267364502),\n",
       " ('K8b2MQ5Az59-nzvqUfjJEQ', 4.584558010101318),\n",
       " ('faReoVCPuY0XUE3CSIVsAg', 4.584486484527588),\n",
       " ('GsBDSxvX4VcvmdVODoJ_lQ', 4.583992958068848),\n",
       " ('-T_lkOvaK39R-Ufg6VUyxg', 4.583926200866699),\n",
       " ('uIfVylzs0r9_fpqvSp77Ug', 4.583670616149902),\n",
       " ('woXVP3vViYzJ-I7jwWS5Og', 4.583297252655029),\n",
       " ('NucDA-P4QDIztUJIoxew9w', 4.583067417144775),\n",
       " ('BbRt7JmklIlulotz39Xmfg', 4.582989692687988),\n",
       " ('nBr6NgqcZz1GhtAngU0RSQ', 4.582809925079346),\n",
       " ('uvRatMC-cQA8cq1nnPWknQ', 4.582767963409424),\n",
       " ('FGe8_MFciERzA_sM7FNJNA', 4.582668781280518),\n",
       " ('7eiGKDBo7qymeasy-uq1qQ', 4.582479476928711),\n",
       " ('X6ExflwppH41zPcnSRv0uA', 4.582366943359375),\n",
       " ('3OBPIClQ1ncXoOgcOFd07w', 4.58207368850708),\n",
       " ('gKThxS9CbVNM-58GbkRS4w', 4.581260681152344),\n",
       " ('UuR_swydJgdnEHeoXqB_Ww', 4.581184387207031),\n",
       " ('YaLKDgS_zIYIm6jkXWCxgA', 4.580902099609375),\n",
       " ('Q_MfyEshB1vPfbuoYSOUMg', 4.580807209014893),\n",
       " ('Y-woMivHkCk4W3tTl1ktTA', 4.580708980560303),\n",
       " ('SUpQ7uFtXvdzgVubewMV8g', 4.580705165863037),\n",
       " ('DCH4TdnevyrZ0BlTPzgMgA', 4.580646991729736),\n",
       " ('kcSS8bKAokzVOuAQwwSNjw', 4.580639362335205),\n",
       " ('z_uWtsfsYWbdOFv7bb-6yg', 4.580563545227051),\n",
       " ('jQBPO3rYkNwIaOdQS5ktgQ', 4.580480575561523),\n",
       " ('EoKKkfmOOgtdy-Br0Hs1xw', 4.580358982086182),\n",
       " ('Hs-jwE791t3cX9ErgTcEFg', 4.580249786376953),\n",
       " ('5fVv0DJ8Jh16DJafw13erw', 4.5799994468688965),\n",
       " ('emiTsQeFq-YSYi-NgUC1Gw', 4.579885959625244),\n",
       " ('VSDdUwXktnvL_O0meKv7MQ', 4.57983922958374),\n",
       " ('0Ca0kyrqtwPGX7j0UrFqKw', 4.579780101776123),\n",
       " ('0gGqyFiITSaS8pInjcNHzw', 4.57949161529541),\n",
       " ('Qd6rQhJIl9UScNdaBYBK8Q', 4.579239845275879),\n",
       " ('jE7PpEUmWgcBc0DeelPAOA', 4.578981399536133),\n",
       " ('Ro2iz0iZch3hTfSqrUvXQg', 4.578974723815918),\n",
       " ('ttAlq0hnbn_YH4IKrx787g', 4.578670978546143),\n",
       " ('nuWWMwtNpgpqNn9UPGTm-Q', 4.578664302825928),\n",
       " ('wcL88nbU3PkGlQcZPC7kAg', 4.578625202178955),\n",
       " ('DVBJRvnCpkqaYl6nHroaMg', 4.578464031219482),\n",
       " ('3K7ZTJTQHPPXTTC7HRNRew', 4.578275203704834),\n",
       " ('B1uf_53BMDEjhCCyjjmaKg', 4.578088760375977),\n",
       " ('cQIh4YJlVtZI9TLF5_smOg', 4.578001022338867),\n",
       " ('Sta8MzuLQAMEiGn0DQaXvg', 4.577941417694092),\n",
       " ('pnDavnO86ecVdnecksUW9w', 4.57785701751709),\n",
       " ('isX_THJp0G8chhNQJqbrAA', 4.577789306640625),\n",
       " ('MzQwSC1JAZFBpN--SqrpGw', 4.57756233215332),\n",
       " ('FkoX3Ux9STu2FAd926FlbA', 4.5775465965271),\n",
       " ('PWlShgXsJ8Yj3ucD7n8kdA', 4.577266216278076),\n",
       " ('73ZXjIfdHJs59XOzKHQ45g', 4.576915740966797),\n",
       " ('jcnKA1gG7Tek_UT2zWBI6w', 4.576748371124268),\n",
       " ('t5T6NYFsOqnYl0NETDgj7g', 4.576547145843506),\n",
       " ('IvAa7PvfOYl0xRML5W3ebg', 4.576479434967041),\n",
       " ('Gt_MCSfwCSUDDhncJlxx3g', 4.576456546783447),\n",
       " ...]"
      ]
     },
     "execution_count": 54,
     "metadata": {},
     "output_type": "execute_result"
    }
   ],
   "source": [
    "recommended_businesses"
   ]
  },
  {
   "cell_type": "code",
   "execution_count": null,
   "id": "ea9232db",
   "metadata": {},
   "outputs": [],
   "source": []
  },
  {
   "cell_type": "markdown",
   "id": "bd24df95",
   "metadata": {},
   "source": [
    "### batch retrieval"
   ]
  },
  {
   "cell_type": "code",
   "execution_count": 55,
   "id": "680e10d8",
   "metadata": {},
   "outputs": [
    {
     "name": "stderr",
     "output_type": "stream",
     "text": [
      "  0%|          | 0/527 [00:00<?, ?it/s]"
     ]
    },
    {
     "name": "stdout",
     "output_type": "stream",
     "text": [
      "\u001b[1m175/175\u001b[0m \u001b[32m━━━━━━━━━━━━━━━━━━━━\u001b[0m\u001b[37m\u001b[0m \u001b[1m0s\u001b[0m 2ms/step\n"
     ]
    },
    {
     "name": "stderr",
     "output_type": "stream",
     "text": [
      "  0%|          | 1/527 [00:03<28:39,  3.27s/it]"
     ]
    },
    {
     "name": "stdout",
     "output_type": "stream",
     "text": [
      "\u001b[1m174/174\u001b[0m \u001b[32m━━━━━━━━━━━━━━━━━━━━\u001b[0m\u001b[37m\u001b[0m \u001b[1m0s\u001b[0m 2ms/step\n"
     ]
    },
    {
     "name": "stderr",
     "output_type": "stream",
     "text": [
      "  0%|          | 2/527 [00:06<30:13,  3.45s/it]"
     ]
    },
    {
     "name": "stdout",
     "output_type": "stream",
     "text": [
      "\u001b[1m173/173\u001b[0m \u001b[32m━━━━━━━━━━━━━━━━━━━━\u001b[0m\u001b[37m\u001b[0m \u001b[1m0s\u001b[0m 2ms/step\n"
     ]
    },
    {
     "name": "stderr",
     "output_type": "stream",
     "text": [
      "  1%|          | 3/527 [00:10<30:18,  3.47s/it]"
     ]
    },
    {
     "name": "stdout",
     "output_type": "stream",
     "text": [
      "\u001b[1m164/164\u001b[0m \u001b[32m━━━━━━━━━━━━━━━━━━━━\u001b[0m\u001b[37m\u001b[0m \u001b[1m0s\u001b[0m 2ms/step\n"
     ]
    },
    {
     "name": "stderr",
     "output_type": "stream",
     "text": [
      "  1%|          | 4/527 [00:13<29:07,  3.34s/it]"
     ]
    },
    {
     "name": "stdout",
     "output_type": "stream",
     "text": [
      "\u001b[1m167/167\u001b[0m \u001b[32m━━━━━━━━━━━━━━━━━━━━\u001b[0m\u001b[37m\u001b[0m \u001b[1m0s\u001b[0m 2ms/step\n"
     ]
    },
    {
     "name": "stderr",
     "output_type": "stream",
     "text": [
      "  1%|          | 5/527 [00:16<28:47,  3.31s/it]"
     ]
    },
    {
     "name": "stdout",
     "output_type": "stream",
     "text": [
      "\u001b[1m173/173\u001b[0m \u001b[32m━━━━━━━━━━━━━━━━━━━━\u001b[0m\u001b[37m\u001b[0m \u001b[1m0s\u001b[0m 2ms/step\n"
     ]
    },
    {
     "name": "stderr",
     "output_type": "stream",
     "text": [
      "  1%|          | 6/527 [00:19<28:29,  3.28s/it]"
     ]
    },
    {
     "name": "stdout",
     "output_type": "stream",
     "text": [
      "\u001b[1m174/174\u001b[0m \u001b[32m━━━━━━━━━━━━━━━━━━━━\u001b[0m\u001b[37m\u001b[0m \u001b[1m0s\u001b[0m 2ms/step\n"
     ]
    },
    {
     "name": "stderr",
     "output_type": "stream",
     "text": [
      "  1%|▏         | 7/527 [00:23<28:16,  3.26s/it]"
     ]
    },
    {
     "name": "stdout",
     "output_type": "stream",
     "text": [
      "\u001b[1m172/172\u001b[0m \u001b[32m━━━━━━━━━━━━━━━━━━━━\u001b[0m\u001b[37m\u001b[0m \u001b[1m0s\u001b[0m 2ms/step\n"
     ]
    },
    {
     "name": "stderr",
     "output_type": "stream",
     "text": [
      "  2%|▏         | 8/527 [00:26<28:17,  3.27s/it]"
     ]
    },
    {
     "name": "stdout",
     "output_type": "stream",
     "text": [
      "\u001b[1m171/171\u001b[0m \u001b[32m━━━━━━━━━━━━━━━━━━━━\u001b[0m\u001b[37m\u001b[0m \u001b[1m0s\u001b[0m 2ms/step\n"
     ]
    },
    {
     "name": "stderr",
     "output_type": "stream",
     "text": [
      "  2%|▏         | 9/527 [00:29<28:07,  3.26s/it]"
     ]
    },
    {
     "name": "stdout",
     "output_type": "stream",
     "text": [
      "\u001b[1m171/171\u001b[0m \u001b[32m━━━━━━━━━━━━━━━━━━━━\u001b[0m\u001b[37m\u001b[0m \u001b[1m0s\u001b[0m 2ms/step\n"
     ]
    },
    {
     "name": "stderr",
     "output_type": "stream",
     "text": [
      "  2%|▏         | 10/527 [00:33<28:42,  3.33s/it]"
     ]
    },
    {
     "name": "stdout",
     "output_type": "stream",
     "text": [
      "\u001b[1m172/172\u001b[0m \u001b[32m━━━━━━━━━━━━━━━━━━━━\u001b[0m\u001b[37m\u001b[0m \u001b[1m0s\u001b[0m 2ms/step\n"
     ]
    },
    {
     "name": "stderr",
     "output_type": "stream",
     "text": [
      "  2%|▏         | 11/527 [00:36<28:16,  3.29s/it]"
     ]
    },
    {
     "name": "stdout",
     "output_type": "stream",
     "text": [
      "\u001b[1m174/174\u001b[0m \u001b[32m━━━━━━━━━━━━━━━━━━━━\u001b[0m\u001b[37m\u001b[0m \u001b[1m0s\u001b[0m 2ms/step\n"
     ]
    },
    {
     "name": "stderr",
     "output_type": "stream",
     "text": [
      "  2%|▏         | 12/527 [00:39<27:32,  3.21s/it]"
     ]
    },
    {
     "name": "stdout",
     "output_type": "stream",
     "text": [
      "\u001b[1m174/174\u001b[0m \u001b[32m━━━━━━━━━━━━━━━━━━━━\u001b[0m\u001b[37m\u001b[0m \u001b[1m0s\u001b[0m 2ms/step\n"
     ]
    },
    {
     "name": "stderr",
     "output_type": "stream",
     "text": [
      "  2%|▏         | 13/527 [00:42<27:56,  3.26s/it]"
     ]
    },
    {
     "name": "stdout",
     "output_type": "stream",
     "text": [
      "\u001b[1m171/171\u001b[0m \u001b[32m━━━━━━━━━━━━━━━━━━━━\u001b[0m\u001b[37m\u001b[0m \u001b[1m0s\u001b[0m 2ms/step\n"
     ]
    },
    {
     "name": "stderr",
     "output_type": "stream",
     "text": [
      "  3%|▎         | 14/527 [00:46<28:25,  3.32s/it]"
     ]
    },
    {
     "name": "stdout",
     "output_type": "stream",
     "text": [
      "\u001b[1m170/170\u001b[0m \u001b[32m━━━━━━━━━━━━━━━━━━━━\u001b[0m\u001b[37m\u001b[0m \u001b[1m0s\u001b[0m 2ms/step\n"
     ]
    },
    {
     "name": "stderr",
     "output_type": "stream",
     "text": [
      "  3%|▎         | 15/527 [00:49<28:50,  3.38s/it]"
     ]
    },
    {
     "name": "stdout",
     "output_type": "stream",
     "text": [
      "\u001b[1m177/177\u001b[0m \u001b[32m━━━━━━━━━━━━━━━━━━━━\u001b[0m\u001b[37m\u001b[0m \u001b[1m0s\u001b[0m 2ms/step\n"
     ]
    },
    {
     "name": "stderr",
     "output_type": "stream",
     "text": [
      "  3%|▎         | 16/527 [00:53<29:10,  3.43s/it]"
     ]
    },
    {
     "name": "stdout",
     "output_type": "stream",
     "text": [
      "\u001b[1m177/177\u001b[0m \u001b[32m━━━━━━━━━━━━━━━━━━━━\u001b[0m\u001b[37m\u001b[0m \u001b[1m0s\u001b[0m 2ms/step\n"
     ]
    },
    {
     "name": "stderr",
     "output_type": "stream",
     "text": [
      "  3%|▎         | 17/527 [00:56<29:10,  3.43s/it]"
     ]
    },
    {
     "name": "stdout",
     "output_type": "stream",
     "text": [
      "\u001b[1m172/172\u001b[0m \u001b[32m━━━━━━━━━━━━━━━━━━━━\u001b[0m\u001b[37m\u001b[0m \u001b[1m0s\u001b[0m 2ms/step\n"
     ]
    },
    {
     "name": "stderr",
     "output_type": "stream",
     "text": [
      "  3%|▎         | 18/527 [01:00<29:07,  3.43s/it]"
     ]
    },
    {
     "name": "stdout",
     "output_type": "stream",
     "text": [
      "\u001b[1m172/172\u001b[0m \u001b[32m━━━━━━━━━━━━━━━━━━━━\u001b[0m\u001b[37m\u001b[0m \u001b[1m0s\u001b[0m 2ms/step\n"
     ]
    },
    {
     "name": "stderr",
     "output_type": "stream",
     "text": [
      "  4%|▎         | 19/527 [01:03<29:55,  3.53s/it]"
     ]
    },
    {
     "name": "stdout",
     "output_type": "stream",
     "text": [
      "\u001b[1m171/171\u001b[0m \u001b[32m━━━━━━━━━━━━━━━━━━━━\u001b[0m\u001b[37m\u001b[0m \u001b[1m0s\u001b[0m 2ms/step\n"
     ]
    },
    {
     "name": "stderr",
     "output_type": "stream",
     "text": [
      "  4%|▍         | 20/527 [01:07<29:47,  3.53s/it]"
     ]
    },
    {
     "name": "stdout",
     "output_type": "stream",
     "text": [
      "\u001b[1m158/158\u001b[0m \u001b[32m━━━━━━━━━━━━━━━━━━━━\u001b[0m\u001b[37m\u001b[0m \u001b[1m0s\u001b[0m 2ms/step\n"
     ]
    },
    {
     "name": "stderr",
     "output_type": "stream",
     "text": [
      "  4%|▍         | 21/527 [01:10<29:32,  3.50s/it]"
     ]
    },
    {
     "name": "stdout",
     "output_type": "stream",
     "text": [
      "\u001b[1m173/173\u001b[0m \u001b[32m━━━━━━━━━━━━━━━━━━━━\u001b[0m\u001b[37m\u001b[0m \u001b[1m0s\u001b[0m 2ms/step\n"
     ]
    },
    {
     "name": "stderr",
     "output_type": "stream",
     "text": [
      "  4%|▍         | 22/527 [01:14<28:53,  3.43s/it]"
     ]
    },
    {
     "name": "stdout",
     "output_type": "stream",
     "text": [
      "\u001b[1m171/171\u001b[0m \u001b[32m━━━━━━━━━━━━━━━━━━━━\u001b[0m\u001b[37m\u001b[0m \u001b[1m0s\u001b[0m 2ms/step\n"
     ]
    },
    {
     "name": "stderr",
     "output_type": "stream",
     "text": [
      "  4%|▍         | 23/527 [01:17<29:11,  3.48s/it]"
     ]
    },
    {
     "name": "stdout",
     "output_type": "stream",
     "text": [
      "\u001b[1m171/171\u001b[0m \u001b[32m━━━━━━━━━━━━━━━━━━━━\u001b[0m\u001b[37m\u001b[0m \u001b[1m0s\u001b[0m 2ms/step\n"
     ]
    },
    {
     "name": "stderr",
     "output_type": "stream",
     "text": [
      "  5%|▍         | 24/527 [01:21<28:36,  3.41s/it]"
     ]
    },
    {
     "name": "stdout",
     "output_type": "stream",
     "text": [
      "\u001b[1m172/172\u001b[0m \u001b[32m━━━━━━━━━━━━━━━━━━━━\u001b[0m\u001b[37m\u001b[0m \u001b[1m0s\u001b[0m 2ms/step\n"
     ]
    },
    {
     "name": "stderr",
     "output_type": "stream",
     "text": [
      "  5%|▍         | 25/527 [01:24<28:02,  3.35s/it]"
     ]
    },
    {
     "name": "stdout",
     "output_type": "stream",
     "text": [
      "\u001b[1m171/171\u001b[0m \u001b[32m━━━━━━━━━━━━━━━━━━━━\u001b[0m\u001b[37m\u001b[0m \u001b[1m0s\u001b[0m 2ms/step\n"
     ]
    },
    {
     "name": "stderr",
     "output_type": "stream",
     "text": [
      "  5%|▍         | 26/527 [01:27<28:22,  3.40s/it]"
     ]
    },
    {
     "name": "stdout",
     "output_type": "stream",
     "text": [
      "\u001b[1m173/173\u001b[0m \u001b[32m━━━━━━━━━━━━━━━━━━━━\u001b[0m\u001b[37m\u001b[0m \u001b[1m0s\u001b[0m 2ms/step\n"
     ]
    },
    {
     "name": "stderr",
     "output_type": "stream",
     "text": [
      "  5%|▌         | 27/527 [01:30<27:54,  3.35s/it]"
     ]
    },
    {
     "name": "stdout",
     "output_type": "stream",
     "text": [
      "\u001b[1m162/162\u001b[0m \u001b[32m━━━━━━━━━━━━━━━━━━━━\u001b[0m\u001b[37m\u001b[0m \u001b[1m1s\u001b[0m 3ms/step\n"
     ]
    },
    {
     "name": "stderr",
     "output_type": "stream",
     "text": [
      "  5%|▌         | 28/527 [01:34<29:17,  3.52s/it]"
     ]
    },
    {
     "name": "stdout",
     "output_type": "stream",
     "text": [
      "\u001b[1m172/172\u001b[0m \u001b[32m━━━━━━━━━━━━━━━━━━━━\u001b[0m\u001b[37m\u001b[0m \u001b[1m0s\u001b[0m 2ms/step\n"
     ]
    },
    {
     "name": "stderr",
     "output_type": "stream",
     "text": [
      "  6%|▌         | 29/527 [01:38<29:04,  3.50s/it]"
     ]
    },
    {
     "name": "stdout",
     "output_type": "stream",
     "text": [
      "\u001b[1m173/173\u001b[0m \u001b[32m━━━━━━━━━━━━━━━━━━━━\u001b[0m\u001b[37m\u001b[0m \u001b[1m0s\u001b[0m 2ms/step\n"
     ]
    },
    {
     "name": "stderr",
     "output_type": "stream",
     "text": [
      "  6%|▌         | 30/527 [01:41<28:47,  3.48s/it]"
     ]
    },
    {
     "name": "stdout",
     "output_type": "stream",
     "text": [
      "\u001b[1m170/170\u001b[0m \u001b[32m━━━━━━━━━━━━━━━━━━━━\u001b[0m\u001b[37m\u001b[0m \u001b[1m0s\u001b[0m 2ms/step\n"
     ]
    },
    {
     "name": "stderr",
     "output_type": "stream",
     "text": [
      "  6%|▌         | 31/527 [01:45<29:07,  3.52s/it]"
     ]
    },
    {
     "name": "stdout",
     "output_type": "stream",
     "text": [
      "\u001b[1m171/171\u001b[0m \u001b[32m━━━━━━━━━━━━━━━━━━━━\u001b[0m\u001b[37m\u001b[0m \u001b[1m0s\u001b[0m 2ms/step\n"
     ]
    },
    {
     "name": "stderr",
     "output_type": "stream",
     "text": [
      "  6%|▌         | 32/527 [01:48<28:48,  3.49s/it]"
     ]
    },
    {
     "name": "stdout",
     "output_type": "stream",
     "text": [
      "\u001b[1m176/176\u001b[0m \u001b[32m━━━━━━━━━━━━━━━━━━━━\u001b[0m\u001b[37m\u001b[0m \u001b[1m0s\u001b[0m 2ms/step\n"
     ]
    },
    {
     "name": "stderr",
     "output_type": "stream",
     "text": [
      "  6%|▋         | 33/527 [01:52<28:56,  3.52s/it]"
     ]
    },
    {
     "name": "stdout",
     "output_type": "stream",
     "text": [
      "\u001b[1m171/171\u001b[0m \u001b[32m━━━━━━━━━━━━━━━━━━━━\u001b[0m\u001b[37m\u001b[0m \u001b[1m0s\u001b[0m 2ms/step\n"
     ]
    },
    {
     "name": "stderr",
     "output_type": "stream",
     "text": [
      "  6%|▋         | 34/527 [01:56<30:03,  3.66s/it]"
     ]
    },
    {
     "name": "stdout",
     "output_type": "stream",
     "text": [
      "\u001b[1m171/171\u001b[0m \u001b[32m━━━━━━━━━━━━━━━━━━━━\u001b[0m\u001b[37m\u001b[0m \u001b[1m0s\u001b[0m 2ms/step\n"
     ]
    },
    {
     "name": "stderr",
     "output_type": "stream",
     "text": [
      "  7%|▋         | 35/527 [02:00<30:14,  3.69s/it]"
     ]
    },
    {
     "name": "stdout",
     "output_type": "stream",
     "text": [
      "\u001b[1m173/173\u001b[0m \u001b[32m━━━━━━━━━━━━━━━━━━━━\u001b[0m\u001b[37m\u001b[0m \u001b[1m0s\u001b[0m 2ms/step\n"
     ]
    },
    {
     "name": "stderr",
     "output_type": "stream",
     "text": [
      "  7%|▋         | 36/527 [02:03<29:48,  3.64s/it]"
     ]
    },
    {
     "name": "stdout",
     "output_type": "stream",
     "text": [
      "\u001b[1m175/175\u001b[0m \u001b[32m━━━━━━━━━━━━━━━━━━━━\u001b[0m\u001b[37m\u001b[0m \u001b[1m0s\u001b[0m 2ms/step\n"
     ]
    },
    {
     "name": "stderr",
     "output_type": "stream",
     "text": [
      "  7%|▋         | 37/527 [02:06<28:45,  3.52s/it]"
     ]
    },
    {
     "name": "stdout",
     "output_type": "stream",
     "text": [
      "\u001b[1m173/173\u001b[0m \u001b[32m━━━━━━━━━━━━━━━━━━━━\u001b[0m\u001b[37m\u001b[0m \u001b[1m0s\u001b[0m 2ms/step\n"
     ]
    },
    {
     "name": "stderr",
     "output_type": "stream",
     "text": [
      "  7%|▋         | 38/527 [02:10<27:55,  3.43s/it]"
     ]
    },
    {
     "name": "stdout",
     "output_type": "stream",
     "text": [
      "\u001b[1m175/175\u001b[0m \u001b[32m━━━━━━━━━━━━━━━━━━━━\u001b[0m\u001b[37m\u001b[0m \u001b[1m0s\u001b[0m 2ms/step\n"
     ]
    },
    {
     "name": "stderr",
     "output_type": "stream",
     "text": [
      "  7%|▋         | 39/527 [02:13<27:18,  3.36s/it]"
     ]
    },
    {
     "name": "stdout",
     "output_type": "stream",
     "text": [
      "\u001b[1m171/171\u001b[0m \u001b[32m━━━━━━━━━━━━━━━━━━━━\u001b[0m\u001b[37m\u001b[0m \u001b[1m0s\u001b[0m 2ms/step\n"
     ]
    },
    {
     "name": "stderr",
     "output_type": "stream",
     "text": [
      "  8%|▊         | 40/527 [02:16<26:47,  3.30s/it]"
     ]
    },
    {
     "name": "stdout",
     "output_type": "stream",
     "text": [
      "\u001b[1m171/171\u001b[0m \u001b[32m━━━━━━━━━━━━━━━━━━━━\u001b[0m\u001b[37m\u001b[0m \u001b[1m0s\u001b[0m 2ms/step\n"
     ]
    },
    {
     "name": "stderr",
     "output_type": "stream",
     "text": [
      "  8%|▊         | 41/527 [02:19<26:39,  3.29s/it]"
     ]
    },
    {
     "name": "stdout",
     "output_type": "stream",
     "text": [
      "\u001b[1m176/176\u001b[0m \u001b[32m━━━━━━━━━━━━━━━━━━━━\u001b[0m\u001b[37m\u001b[0m \u001b[1m0s\u001b[0m 2ms/step\n"
     ]
    },
    {
     "name": "stderr",
     "output_type": "stream",
     "text": [
      "  8%|▊         | 42/527 [02:22<26:01,  3.22s/it]"
     ]
    },
    {
     "name": "stdout",
     "output_type": "stream",
     "text": [
      "\u001b[1m170/170\u001b[0m \u001b[32m━━━━━━━━━━━━━━━━━━━━\u001b[0m\u001b[37m\u001b[0m \u001b[1m0s\u001b[0m 2ms/step\n"
     ]
    },
    {
     "name": "stderr",
     "output_type": "stream",
     "text": [
      "  8%|▊         | 43/527 [02:26<26:33,  3.29s/it]"
     ]
    },
    {
     "name": "stdout",
     "output_type": "stream",
     "text": [
      "\u001b[1m177/177\u001b[0m \u001b[32m━━━━━━━━━━━━━━━━━━━━\u001b[0m\u001b[37m\u001b[0m \u001b[1m0s\u001b[0m 2ms/step\n"
     ]
    },
    {
     "name": "stderr",
     "output_type": "stream",
     "text": [
      "  8%|▊         | 44/527 [02:29<26:24,  3.28s/it]"
     ]
    },
    {
     "name": "stdout",
     "output_type": "stream",
     "text": [
      "\u001b[1m169/169\u001b[0m \u001b[32m━━━━━━━━━━━━━━━━━━━━\u001b[0m\u001b[37m\u001b[0m \u001b[1m0s\u001b[0m 2ms/step\n"
     ]
    },
    {
     "name": "stderr",
     "output_type": "stream",
     "text": [
      "  9%|▊         | 45/527 [02:32<26:12,  3.26s/it]"
     ]
    },
    {
     "name": "stdout",
     "output_type": "stream",
     "text": [
      "\u001b[1m172/172\u001b[0m \u001b[32m━━━━━━━━━━━━━━━━━━━━\u001b[0m\u001b[37m\u001b[0m \u001b[1m0s\u001b[0m 2ms/step\n"
     ]
    },
    {
     "name": "stderr",
     "output_type": "stream",
     "text": [
      "  9%|▊         | 46/527 [02:36<27:28,  3.43s/it]"
     ]
    },
    {
     "name": "stdout",
     "output_type": "stream",
     "text": [
      "\u001b[1m157/157\u001b[0m \u001b[32m━━━━━━━━━━━━━━━━━━━━\u001b[0m\u001b[37m\u001b[0m \u001b[1m0s\u001b[0m 2ms/step\n"
     ]
    },
    {
     "name": "stderr",
     "output_type": "stream",
     "text": [
      "  9%|▉         | 47/527 [02:39<27:09,  3.40s/it]"
     ]
    },
    {
     "name": "stdout",
     "output_type": "stream",
     "text": [
      "\u001b[1m173/173\u001b[0m \u001b[32m━━━━━━━━━━━━━━━━━━━━\u001b[0m\u001b[37m\u001b[0m \u001b[1m0s\u001b[0m 2ms/step\n"
     ]
    },
    {
     "name": "stderr",
     "output_type": "stream",
     "text": [
      "  9%|▉         | 48/527 [02:43<27:15,  3.41s/it]"
     ]
    },
    {
     "name": "stdout",
     "output_type": "stream",
     "text": [
      "\u001b[1m174/174\u001b[0m \u001b[32m━━━━━━━━━━━━━━━━━━━━\u001b[0m\u001b[37m\u001b[0m \u001b[1m0s\u001b[0m 2ms/step\n"
     ]
    },
    {
     "name": "stderr",
     "output_type": "stream",
     "text": [
      "  9%|▉         | 49/527 [02:46<26:25,  3.32s/it]"
     ]
    },
    {
     "name": "stdout",
     "output_type": "stream",
     "text": [
      "\u001b[1m176/176\u001b[0m \u001b[32m━━━━━━━━━━━━━━━━━━━━\u001b[0m\u001b[37m\u001b[0m \u001b[1m0s\u001b[0m 2ms/step\n"
     ]
    },
    {
     "name": "stderr",
     "output_type": "stream",
     "text": [
      "  9%|▉         | 50/527 [02:49<26:10,  3.29s/it]"
     ]
    },
    {
     "name": "stdout",
     "output_type": "stream",
     "text": [
      "\u001b[1m173/173\u001b[0m \u001b[32m━━━━━━━━━━━━━━━━━━━━\u001b[0m\u001b[37m\u001b[0m \u001b[1m0s\u001b[0m 2ms/step\n"
     ]
    },
    {
     "name": "stderr",
     "output_type": "stream",
     "text": [
      " 10%|▉         | 51/527 [02:52<26:10,  3.30s/it]"
     ]
    },
    {
     "name": "stdout",
     "output_type": "stream",
     "text": [
      "\u001b[1m175/175\u001b[0m \u001b[32m━━━━━━━━━━━━━━━━━━━━\u001b[0m\u001b[37m\u001b[0m \u001b[1m0s\u001b[0m 2ms/step\n"
     ]
    },
    {
     "name": "stderr",
     "output_type": "stream",
     "text": [
      " 10%|▉         | 52/527 [02:56<26:27,  3.34s/it]"
     ]
    },
    {
     "name": "stdout",
     "output_type": "stream",
     "text": [
      "\u001b[1m158/158\u001b[0m \u001b[32m━━━━━━━━━━━━━━━━━━━━\u001b[0m\u001b[37m\u001b[0m \u001b[1m0s\u001b[0m 2ms/step\n"
     ]
    },
    {
     "name": "stderr",
     "output_type": "stream",
     "text": [
      " 10%|█         | 53/527 [02:59<26:17,  3.33s/it]"
     ]
    },
    {
     "name": "stdout",
     "output_type": "stream",
     "text": [
      "\u001b[1m173/173\u001b[0m \u001b[32m━━━━━━━━━━━━━━━━━━━━\u001b[0m\u001b[37m\u001b[0m \u001b[1m0s\u001b[0m 2ms/step\n"
     ]
    },
    {
     "name": "stderr",
     "output_type": "stream",
     "text": [
      " 10%|█         | 54/527 [03:02<25:41,  3.26s/it]"
     ]
    },
    {
     "name": "stdout",
     "output_type": "stream",
     "text": [
      "\u001b[1m157/157\u001b[0m \u001b[32m━━━━━━━━━━━━━━━━━━━━\u001b[0m\u001b[37m\u001b[0m \u001b[1m0s\u001b[0m 2ms/step\n"
     ]
    },
    {
     "name": "stderr",
     "output_type": "stream",
     "text": [
      " 10%|█         | 55/527 [03:05<25:05,  3.19s/it]"
     ]
    },
    {
     "name": "stdout",
     "output_type": "stream",
     "text": [
      "\u001b[1m170/170\u001b[0m \u001b[32m━━━━━━━━━━━━━━━━━━━━\u001b[0m\u001b[37m\u001b[0m \u001b[1m0s\u001b[0m 2ms/step\n"
     ]
    },
    {
     "name": "stderr",
     "output_type": "stream",
     "text": [
      " 11%|█         | 56/527 [03:09<25:43,  3.28s/it]"
     ]
    },
    {
     "name": "stdout",
     "output_type": "stream",
     "text": [
      "\u001b[1m174/174\u001b[0m \u001b[32m━━━━━━━━━━━━━━━━━━━━\u001b[0m\u001b[37m\u001b[0m \u001b[1m0s\u001b[0m 2ms/step\n"
     ]
    },
    {
     "name": "stderr",
     "output_type": "stream",
     "text": [
      " 11%|█         | 57/527 [03:12<25:20,  3.23s/it]"
     ]
    },
    {
     "name": "stdout",
     "output_type": "stream",
     "text": [
      "\u001b[1m170/170\u001b[0m \u001b[32m━━━━━━━━━━━━━━━━━━━━\u001b[0m\u001b[37m\u001b[0m \u001b[1m0s\u001b[0m 1ms/step\n"
     ]
    },
    {
     "name": "stderr",
     "output_type": "stream",
     "text": [
      " 11%|█         | 58/527 [03:15<25:29,  3.26s/it]"
     ]
    },
    {
     "name": "stdout",
     "output_type": "stream",
     "text": [
      "\u001b[1m175/175\u001b[0m \u001b[32m━━━━━━━━━━━━━━━━━━━━\u001b[0m\u001b[37m\u001b[0m \u001b[1m0s\u001b[0m 2ms/step\n"
     ]
    },
    {
     "name": "stderr",
     "output_type": "stream",
     "text": [
      " 11%|█         | 59/527 [03:18<25:04,  3.21s/it]"
     ]
    },
    {
     "name": "stdout",
     "output_type": "stream",
     "text": [
      "\u001b[1m171/171\u001b[0m \u001b[32m━━━━━━━━━━━━━━━━━━━━\u001b[0m\u001b[37m\u001b[0m \u001b[1m0s\u001b[0m 2ms/step\n"
     ]
    },
    {
     "name": "stderr",
     "output_type": "stream",
     "text": [
      " 11%|█▏        | 60/527 [03:22<25:04,  3.22s/it]"
     ]
    },
    {
     "name": "stdout",
     "output_type": "stream",
     "text": [
      "\u001b[1m171/171\u001b[0m \u001b[32m━━━━━━━━━━━━━━━━━━━━\u001b[0m\u001b[37m\u001b[0m \u001b[1m0s\u001b[0m 2ms/step\n"
     ]
    },
    {
     "name": "stderr",
     "output_type": "stream",
     "text": [
      " 12%|█▏        | 61/527 [03:25<25:34,  3.29s/it]"
     ]
    },
    {
     "name": "stdout",
     "output_type": "stream",
     "text": [
      "\u001b[1m173/173\u001b[0m \u001b[32m━━━━━━━━━━━━━━━━━━━━\u001b[0m\u001b[37m\u001b[0m \u001b[1m0s\u001b[0m 2ms/step\n"
     ]
    },
    {
     "name": "stderr",
     "output_type": "stream",
     "text": [
      " 12%|█▏        | 62/527 [03:28<25:11,  3.25s/it]"
     ]
    },
    {
     "name": "stdout",
     "output_type": "stream",
     "text": [
      "\u001b[1m172/172\u001b[0m \u001b[32m━━━━━━━━━━━━━━━━━━━━\u001b[0m\u001b[37m\u001b[0m \u001b[1m0s\u001b[0m 2ms/step\n"
     ]
    },
    {
     "name": "stderr",
     "output_type": "stream",
     "text": [
      " 12%|█▏        | 63/527 [03:32<25:56,  3.36s/it]"
     ]
    },
    {
     "name": "stdout",
     "output_type": "stream",
     "text": [
      "\u001b[1m171/171\u001b[0m \u001b[32m━━━━━━━━━━━━━━━━━━━━\u001b[0m\u001b[37m\u001b[0m \u001b[1m0s\u001b[0m 2ms/step\n"
     ]
    },
    {
     "name": "stderr",
     "output_type": "stream",
     "text": [
      " 12%|█▏        | 64/527 [03:35<25:21,  3.29s/it]"
     ]
    },
    {
     "name": "stdout",
     "output_type": "stream",
     "text": [
      "\u001b[1m171/171\u001b[0m \u001b[32m━━━━━━━━━━━━━━━━━━━━\u001b[0m\u001b[37m\u001b[0m \u001b[1m0s\u001b[0m 2ms/step\n"
     ]
    },
    {
     "name": "stderr",
     "output_type": "stream",
     "text": [
      " 12%|█▏        | 65/527 [03:38<24:50,  3.23s/it]"
     ]
    },
    {
     "name": "stdout",
     "output_type": "stream",
     "text": [
      "\u001b[1m172/172\u001b[0m \u001b[32m━━━━━━━━━━━━━━━━━━━━\u001b[0m\u001b[37m\u001b[0m \u001b[1m0s\u001b[0m 2ms/step\n"
     ]
    },
    {
     "name": "stderr",
     "output_type": "stream",
     "text": [
      " 13%|█▎        | 66/527 [03:41<25:13,  3.28s/it]"
     ]
    },
    {
     "name": "stdout",
     "output_type": "stream",
     "text": [
      "\u001b[1m172/172\u001b[0m \u001b[32m━━━━━━━━━━━━━━━━━━━━\u001b[0m\u001b[37m\u001b[0m \u001b[1m0s\u001b[0m 2ms/step\n"
     ]
    },
    {
     "name": "stderr",
     "output_type": "stream",
     "text": [
      " 13%|█▎        | 67/527 [03:45<24:50,  3.24s/it]"
     ]
    },
    {
     "name": "stdout",
     "output_type": "stream",
     "text": [
      "\u001b[1m166/166\u001b[0m \u001b[32m━━━━━━━━━━━━━━━━━━━━\u001b[0m\u001b[37m\u001b[0m \u001b[1m0s\u001b[0m 3ms/step\n"
     ]
    },
    {
     "name": "stderr",
     "output_type": "stream",
     "text": [
      " 13%|█▎        | 68/527 [03:48<24:58,  3.26s/it]"
     ]
    },
    {
     "name": "stdout",
     "output_type": "stream",
     "text": [
      "\u001b[1m174/174\u001b[0m \u001b[32m━━━━━━━━━━━━━━━━━━━━\u001b[0m\u001b[37m\u001b[0m \u001b[1m0s\u001b[0m 2ms/step\n"
     ]
    },
    {
     "name": "stderr",
     "output_type": "stream",
     "text": [
      " 13%|█▎        | 69/527 [03:51<24:57,  3.27s/it]"
     ]
    },
    {
     "name": "stdout",
     "output_type": "stream",
     "text": [
      "\u001b[1m162/162\u001b[0m \u001b[32m━━━━━━━━━━━━━━━━━━━━\u001b[0m\u001b[37m\u001b[0m \u001b[1m0s\u001b[0m 2ms/step\n"
     ]
    },
    {
     "name": "stderr",
     "output_type": "stream",
     "text": [
      " 13%|█▎        | 70/527 [03:54<24:29,  3.22s/it]"
     ]
    },
    {
     "name": "stdout",
     "output_type": "stream",
     "text": [
      "\u001b[1m175/175\u001b[0m \u001b[32m━━━━━━━━━━━━━━━━━━━━\u001b[0m\u001b[37m\u001b[0m \u001b[1m0s\u001b[0m 2ms/step\n"
     ]
    },
    {
     "name": "stderr",
     "output_type": "stream",
     "text": [
      " 13%|█▎        | 71/527 [03:58<24:29,  3.22s/it]"
     ]
    },
    {
     "name": "stdout",
     "output_type": "stream",
     "text": [
      "\u001b[1m173/173\u001b[0m \u001b[32m━━━━━━━━━━━━━━━━━━━━\u001b[0m\u001b[37m\u001b[0m \u001b[1m0s\u001b[0m 2ms/step\n"
     ]
    },
    {
     "name": "stderr",
     "output_type": "stream",
     "text": [
      " 14%|█▎        | 72/527 [04:01<23:58,  3.16s/it]"
     ]
    },
    {
     "name": "stdout",
     "output_type": "stream",
     "text": [
      "\u001b[1m173/173\u001b[0m \u001b[32m━━━━━━━━━━━━━━━━━━━━\u001b[0m\u001b[37m\u001b[0m \u001b[1m0s\u001b[0m 2ms/step\n"
     ]
    },
    {
     "name": "stderr",
     "output_type": "stream",
     "text": [
      " 14%|█▍        | 73/527 [04:04<24:16,  3.21s/it]"
     ]
    },
    {
     "name": "stdout",
     "output_type": "stream",
     "text": [
      "\u001b[1m175/175\u001b[0m \u001b[32m━━━━━━━━━━━━━━━━━━━━\u001b[0m\u001b[37m\u001b[0m \u001b[1m0s\u001b[0m 2ms/step\n"
     ]
    },
    {
     "name": "stderr",
     "output_type": "stream",
     "text": [
      " 14%|█▍        | 74/527 [04:07<24:06,  3.19s/it]"
     ]
    },
    {
     "name": "stdout",
     "output_type": "stream",
     "text": [
      "\u001b[1m172/172\u001b[0m \u001b[32m━━━━━━━━━━━━━━━━━━━━\u001b[0m\u001b[37m\u001b[0m \u001b[1m0s\u001b[0m 2ms/step\n"
     ]
    },
    {
     "name": "stderr",
     "output_type": "stream",
     "text": [
      " 14%|█▍        | 75/527 [04:10<24:09,  3.21s/it]"
     ]
    },
    {
     "name": "stdout",
     "output_type": "stream",
     "text": [
      "\u001b[1m173/173\u001b[0m \u001b[32m━━━━━━━━━━━━━━━━━━━━\u001b[0m\u001b[37m\u001b[0m \u001b[1m0s\u001b[0m 2ms/step\n"
     ]
    },
    {
     "name": "stderr",
     "output_type": "stream",
     "text": [
      " 14%|█▍        | 76/527 [04:13<24:06,  3.21s/it]"
     ]
    },
    {
     "name": "stdout",
     "output_type": "stream",
     "text": [
      "\u001b[1m171/171\u001b[0m \u001b[32m━━━━━━━━━━━━━━━━━━━━\u001b[0m\u001b[37m\u001b[0m \u001b[1m0s\u001b[0m 2ms/step\n"
     ]
    },
    {
     "name": "stderr",
     "output_type": "stream",
     "text": [
      " 15%|█▍        | 77/527 [04:17<24:03,  3.21s/it]"
     ]
    },
    {
     "name": "stdout",
     "output_type": "stream",
     "text": [
      "\u001b[1m172/172\u001b[0m \u001b[32m━━━━━━━━━━━━━━━━━━━━\u001b[0m\u001b[37m\u001b[0m \u001b[1m0s\u001b[0m 2ms/step\n"
     ]
    },
    {
     "name": "stderr",
     "output_type": "stream",
     "text": [
      " 15%|█▍        | 78/527 [04:20<23:55,  3.20s/it]"
     ]
    },
    {
     "name": "stdout",
     "output_type": "stream",
     "text": [
      "\u001b[1m172/172\u001b[0m \u001b[32m━━━━━━━━━━━━━━━━━━━━\u001b[0m\u001b[37m\u001b[0m \u001b[1m0s\u001b[0m 2ms/step\n"
     ]
    },
    {
     "name": "stderr",
     "output_type": "stream",
     "text": [
      " 15%|█▍        | 79/527 [04:23<23:36,  3.16s/it]"
     ]
    },
    {
     "name": "stdout",
     "output_type": "stream",
     "text": [
      "\u001b[1m174/174\u001b[0m \u001b[32m━━━━━━━━━━━━━━━━━━━━\u001b[0m\u001b[37m\u001b[0m \u001b[1m0s\u001b[0m 2ms/step\n"
     ]
    },
    {
     "name": "stderr",
     "output_type": "stream",
     "text": [
      " 15%|█▌        | 80/527 [04:26<23:28,  3.15s/it]"
     ]
    },
    {
     "name": "stdout",
     "output_type": "stream",
     "text": [
      "\u001b[1m175/175\u001b[0m \u001b[32m━━━━━━━━━━━━━━━━━━━━\u001b[0m\u001b[37m\u001b[0m \u001b[1m0s\u001b[0m 2ms/step\n"
     ]
    },
    {
     "name": "stderr",
     "output_type": "stream",
     "text": [
      " 15%|█▌        | 81/527 [04:29<23:28,  3.16s/it]"
     ]
    },
    {
     "name": "stdout",
     "output_type": "stream",
     "text": [
      "\u001b[1m170/170\u001b[0m \u001b[32m━━━━━━━━━━━━━━━━━━━━\u001b[0m\u001b[37m\u001b[0m \u001b[1m0s\u001b[0m 2ms/step\n"
     ]
    },
    {
     "name": "stderr",
     "output_type": "stream",
     "text": [
      " 16%|█▌        | 82/527 [04:32<23:10,  3.12s/it]"
     ]
    },
    {
     "name": "stdout",
     "output_type": "stream",
     "text": [
      "\u001b[1m173/173\u001b[0m \u001b[32m━━━━━━━━━━━━━━━━━━━━\u001b[0m\u001b[37m\u001b[0m \u001b[1m0s\u001b[0m 2ms/step\n"
     ]
    },
    {
     "name": "stderr",
     "output_type": "stream",
     "text": [
      " 16%|█▌        | 83/527 [04:36<23:54,  3.23s/it]"
     ]
    },
    {
     "name": "stdout",
     "output_type": "stream",
     "text": [
      "\u001b[1m173/173\u001b[0m \u001b[32m━━━━━━━━━━━━━━━━━━━━\u001b[0m\u001b[37m\u001b[0m \u001b[1m0s\u001b[0m 2ms/step\n"
     ]
    },
    {
     "name": "stderr",
     "output_type": "stream",
     "text": [
      " 16%|█▌        | 84/527 [04:39<23:45,  3.22s/it]"
     ]
    },
    {
     "name": "stdout",
     "output_type": "stream",
     "text": [
      "\u001b[1m173/173\u001b[0m \u001b[32m━━━━━━━━━━━━━━━━━━━━\u001b[0m\u001b[37m\u001b[0m \u001b[1m0s\u001b[0m 2ms/step\n"
     ]
    },
    {
     "name": "stderr",
     "output_type": "stream",
     "text": [
      " 16%|█▌        | 85/527 [04:42<24:07,  3.27s/it]"
     ]
    },
    {
     "name": "stdout",
     "output_type": "stream",
     "text": [
      "\u001b[1m174/174\u001b[0m \u001b[32m━━━━━━━━━━━━━━━━━━━━\u001b[0m\u001b[37m\u001b[0m \u001b[1m0s\u001b[0m 2ms/step\n"
     ]
    },
    {
     "name": "stderr",
     "output_type": "stream",
     "text": [
      " 16%|█▋        | 86/527 [04:46<24:47,  3.37s/it]"
     ]
    },
    {
     "name": "stdout",
     "output_type": "stream",
     "text": [
      "\u001b[1m174/174\u001b[0m \u001b[32m━━━━━━━━━━━━━━━━━━━━\u001b[0m\u001b[37m\u001b[0m \u001b[1m0s\u001b[0m 2ms/step\n"
     ]
    },
    {
     "name": "stderr",
     "output_type": "stream",
     "text": [
      " 17%|█▋        | 87/527 [04:49<24:26,  3.33s/it]"
     ]
    },
    {
     "name": "stdout",
     "output_type": "stream",
     "text": [
      "\u001b[1m172/172\u001b[0m \u001b[32m━━━━━━━━━━━━━━━━━━━━\u001b[0m\u001b[37m\u001b[0m \u001b[1m0s\u001b[0m 2ms/step\n"
     ]
    },
    {
     "name": "stderr",
     "output_type": "stream",
     "text": [
      " 17%|█▋        | 88/527 [04:52<23:58,  3.28s/it]"
     ]
    },
    {
     "name": "stdout",
     "output_type": "stream",
     "text": [
      "\u001b[1m176/176\u001b[0m \u001b[32m━━━━━━━━━━━━━━━━━━━━\u001b[0m\u001b[37m\u001b[0m \u001b[1m0s\u001b[0m 2ms/step\n"
     ]
    },
    {
     "name": "stderr",
     "output_type": "stream",
     "text": [
      " 17%|█▋        | 89/527 [04:56<23:49,  3.26s/it]"
     ]
    },
    {
     "name": "stdout",
     "output_type": "stream",
     "text": [
      "\u001b[1m167/167\u001b[0m \u001b[32m━━━━━━━━━━━━━━━━━━━━\u001b[0m\u001b[37m\u001b[0m \u001b[1m0s\u001b[0m 2ms/step\n"
     ]
    },
    {
     "name": "stderr",
     "output_type": "stream",
     "text": [
      " 17%|█▋        | 90/527 [04:59<23:55,  3.28s/it]"
     ]
    },
    {
     "name": "stdout",
     "output_type": "stream",
     "text": [
      "\u001b[1m170/170\u001b[0m \u001b[32m━━━━━━━━━━━━━━━━━━━━\u001b[0m\u001b[37m\u001b[0m \u001b[1m0s\u001b[0m 2ms/step\n"
     ]
    },
    {
     "name": "stderr",
     "output_type": "stream",
     "text": [
      " 17%|█▋        | 91/527 [05:02<24:14,  3.34s/it]"
     ]
    },
    {
     "name": "stdout",
     "output_type": "stream",
     "text": [
      "\u001b[1m170/170\u001b[0m \u001b[32m━━━━━━━━━━━━━━━━━━━━\u001b[0m\u001b[37m\u001b[0m \u001b[1m0s\u001b[0m 1ms/step\n"
     ]
    },
    {
     "name": "stderr",
     "output_type": "stream",
     "text": [
      " 17%|█▋        | 92/527 [05:06<24:55,  3.44s/it]"
     ]
    },
    {
     "name": "stdout",
     "output_type": "stream",
     "text": [
      "\u001b[1m176/176\u001b[0m \u001b[32m━━━━━━━━━━━━━━━━━━━━\u001b[0m\u001b[37m\u001b[0m \u001b[1m0s\u001b[0m 2ms/step\n"
     ]
    },
    {
     "name": "stderr",
     "output_type": "stream",
     "text": [
      " 18%|█▊        | 93/527 [05:10<24:53,  3.44s/it]"
     ]
    },
    {
     "name": "stdout",
     "output_type": "stream",
     "text": [
      "\u001b[1m159/159\u001b[0m \u001b[32m━━━━━━━━━━━━━━━━━━━━\u001b[0m\u001b[37m\u001b[0m \u001b[1m0s\u001b[0m 2ms/step\n"
     ]
    },
    {
     "name": "stderr",
     "output_type": "stream",
     "text": [
      " 18%|█▊        | 94/527 [05:13<23:55,  3.31s/it]"
     ]
    },
    {
     "name": "stdout",
     "output_type": "stream",
     "text": [
      "\u001b[1m174/174\u001b[0m \u001b[32m━━━━━━━━━━━━━━━━━━━━\u001b[0m\u001b[37m\u001b[0m \u001b[1m0s\u001b[0m 2ms/step\n"
     ]
    },
    {
     "name": "stderr",
     "output_type": "stream",
     "text": [
      " 18%|█▊        | 95/527 [05:16<24:16,  3.37s/it]"
     ]
    },
    {
     "name": "stdout",
     "output_type": "stream",
     "text": [
      "\u001b[1m174/174\u001b[0m \u001b[32m━━━━━━━━━━━━━━━━━━━━\u001b[0m\u001b[37m\u001b[0m \u001b[1m0s\u001b[0m 2ms/step\n"
     ]
    },
    {
     "name": "stderr",
     "output_type": "stream",
     "text": [
      " 18%|█▊        | 96/527 [05:20<24:40,  3.43s/it]"
     ]
    },
    {
     "name": "stdout",
     "output_type": "stream",
     "text": [
      "\u001b[1m175/175\u001b[0m \u001b[32m━━━━━━━━━━━━━━━━━━━━\u001b[0m\u001b[37m\u001b[0m \u001b[1m0s\u001b[0m 2ms/step\n"
     ]
    },
    {
     "name": "stderr",
     "output_type": "stream",
     "text": [
      " 18%|█▊        | 97/527 [05:23<24:12,  3.38s/it]"
     ]
    },
    {
     "name": "stdout",
     "output_type": "stream",
     "text": [
      "\u001b[1m173/173\u001b[0m \u001b[32m━━━━━━━━━━━━━━━━━━━━\u001b[0m\u001b[37m\u001b[0m \u001b[1m0s\u001b[0m 2ms/step\n"
     ]
    },
    {
     "name": "stderr",
     "output_type": "stream",
     "text": [
      " 19%|█▊        | 98/527 [05:26<23:47,  3.33s/it]"
     ]
    },
    {
     "name": "stdout",
     "output_type": "stream",
     "text": [
      "\u001b[1m172/172\u001b[0m \u001b[32m━━━━━━━━━━━━━━━━━━━━\u001b[0m\u001b[37m\u001b[0m \u001b[1m0s\u001b[0m 2ms/step\n"
     ]
    },
    {
     "name": "stderr",
     "output_type": "stream",
     "text": [
      " 19%|█▉        | 99/527 [05:29<23:43,  3.33s/it]"
     ]
    },
    {
     "name": "stdout",
     "output_type": "stream",
     "text": [
      "\u001b[1m174/174\u001b[0m \u001b[32m━━━━━━━━━━━━━━━━━━━━\u001b[0m\u001b[37m\u001b[0m \u001b[1m0s\u001b[0m 2ms/step\n"
     ]
    },
    {
     "name": "stderr",
     "output_type": "stream",
     "text": [
      " 19%|█▉        | 100/527 [05:33<23:18,  3.27s/it]"
     ]
    },
    {
     "name": "stdout",
     "output_type": "stream",
     "text": [
      "\u001b[1m173/173\u001b[0m \u001b[32m━━━━━━━━━━━━━━━━━━━━\u001b[0m\u001b[37m\u001b[0m \u001b[1m0s\u001b[0m 2ms/step\n"
     ]
    },
    {
     "name": "stderr",
     "output_type": "stream",
     "text": [
      " 19%|█▉        | 101/527 [05:36<23:21,  3.29s/it]"
     ]
    },
    {
     "name": "stdout",
     "output_type": "stream",
     "text": [
      "\u001b[1m170/170\u001b[0m \u001b[32m━━━━━━━━━━━━━━━━━━━━\u001b[0m\u001b[37m\u001b[0m \u001b[1m0s\u001b[0m 2ms/step\n"
     ]
    },
    {
     "name": "stderr",
     "output_type": "stream",
     "text": [
      " 19%|█▉        | 102/527 [05:39<23:08,  3.27s/it]"
     ]
    },
    {
     "name": "stdout",
     "output_type": "stream",
     "text": [
      "\u001b[1m170/170\u001b[0m \u001b[32m━━━━━━━━━━━━━━━━━━━━\u001b[0m\u001b[37m\u001b[0m \u001b[1m0s\u001b[0m 2ms/step\n"
     ]
    },
    {
     "name": "stderr",
     "output_type": "stream",
     "text": [
      " 20%|█▉        | 103/527 [05:42<23:23,  3.31s/it]"
     ]
    },
    {
     "name": "stdout",
     "output_type": "stream",
     "text": [
      "\u001b[1m170/170\u001b[0m \u001b[32m━━━━━━━━━━━━━━━━━━━━\u001b[0m\u001b[37m\u001b[0m \u001b[1m0s\u001b[0m 2ms/step\n"
     ]
    },
    {
     "name": "stderr",
     "output_type": "stream",
     "text": [
      " 20%|█▉        | 104/527 [05:46<23:52,  3.39s/it]"
     ]
    },
    {
     "name": "stdout",
     "output_type": "stream",
     "text": [
      "\u001b[1m170/170\u001b[0m \u001b[32m━━━━━━━━━━━━━━━━━━━━\u001b[0m\u001b[37m\u001b[0m \u001b[1m0s\u001b[0m 1ms/step\n"
     ]
    },
    {
     "name": "stderr",
     "output_type": "stream",
     "text": [
      " 20%|█▉        | 105/527 [05:49<23:51,  3.39s/it]"
     ]
    },
    {
     "name": "stdout",
     "output_type": "stream",
     "text": [
      "\u001b[1m176/176\u001b[0m \u001b[32m━━━━━━━━━━━━━━━━━━━━\u001b[0m\u001b[37m\u001b[0m \u001b[1m0s\u001b[0m 2ms/step\n"
     ]
    },
    {
     "name": "stderr",
     "output_type": "stream",
     "text": [
      " 20%|██        | 106/527 [05:53<24:05,  3.43s/it]"
     ]
    },
    {
     "name": "stdout",
     "output_type": "stream",
     "text": [
      "\u001b[1m173/173\u001b[0m \u001b[32m━━━━━━━━━━━━━━━━━━━━\u001b[0m\u001b[37m\u001b[0m \u001b[1m0s\u001b[0m 2ms/step\n"
     ]
    },
    {
     "name": "stderr",
     "output_type": "stream",
     "text": [
      " 20%|██        | 107/527 [05:56<23:54,  3.42s/it]"
     ]
    },
    {
     "name": "stdout",
     "output_type": "stream",
     "text": [
      "\u001b[1m171/171\u001b[0m \u001b[32m━━━━━━━━━━━━━━━━━━━━\u001b[0m\u001b[37m\u001b[0m \u001b[1m0s\u001b[0m 2ms/step\n"
     ]
    },
    {
     "name": "stderr",
     "output_type": "stream",
     "text": [
      " 20%|██        | 108/527 [06:00<24:10,  3.46s/it]"
     ]
    },
    {
     "name": "stdout",
     "output_type": "stream",
     "text": [
      "\u001b[1m173/173\u001b[0m \u001b[32m━━━━━━━━━━━━━━━━━━━━\u001b[0m\u001b[37m\u001b[0m \u001b[1m0s\u001b[0m 2ms/step\n"
     ]
    },
    {
     "name": "stderr",
     "output_type": "stream",
     "text": [
      " 21%|██        | 109/527 [06:03<23:25,  3.36s/it]"
     ]
    },
    {
     "name": "stdout",
     "output_type": "stream",
     "text": [
      "\u001b[1m164/164\u001b[0m \u001b[32m━━━━━━━━━━━━━━━━━━━━\u001b[0m\u001b[37m\u001b[0m \u001b[1m0s\u001b[0m 2ms/step\n"
     ]
    },
    {
     "name": "stderr",
     "output_type": "stream",
     "text": [
      " 21%|██        | 110/527 [06:06<22:44,  3.27s/it]"
     ]
    },
    {
     "name": "stdout",
     "output_type": "stream",
     "text": [
      "\u001b[1m171/171\u001b[0m \u001b[32m━━━━━━━━━━━━━━━━━━━━\u001b[0m\u001b[37m\u001b[0m \u001b[1m0s\u001b[0m 2ms/step\n"
     ]
    },
    {
     "name": "stderr",
     "output_type": "stream",
     "text": [
      " 21%|██        | 111/527 [06:09<22:51,  3.30s/it]"
     ]
    },
    {
     "name": "stdout",
     "output_type": "stream",
     "text": [
      "\u001b[1m171/171\u001b[0m \u001b[32m━━━━━━━━━━━━━━━━━━━━\u001b[0m\u001b[37m\u001b[0m \u001b[1m0s\u001b[0m 2ms/step\n"
     ]
    },
    {
     "name": "stderr",
     "output_type": "stream",
     "text": [
      " 21%|██▏       | 112/527 [06:13<22:19,  3.23s/it]"
     ]
    },
    {
     "name": "stdout",
     "output_type": "stream",
     "text": [
      "\u001b[1m172/172\u001b[0m \u001b[32m━━━━━━━━━━━━━━━━━━━━\u001b[0m\u001b[37m\u001b[0m \u001b[1m0s\u001b[0m 2ms/step\n"
     ]
    },
    {
     "name": "stderr",
     "output_type": "stream",
     "text": [
      " 21%|██▏       | 113/527 [06:16<22:24,  3.25s/it]"
     ]
    },
    {
     "name": "stdout",
     "output_type": "stream",
     "text": [
      "\u001b[1m172/172\u001b[0m \u001b[32m━━━━━━━━━━━━━━━━━━━━\u001b[0m\u001b[37m\u001b[0m \u001b[1m0s\u001b[0m 2ms/step\n"
     ]
    },
    {
     "name": "stderr",
     "output_type": "stream",
     "text": [
      " 22%|██▏       | 114/527 [06:19<22:37,  3.29s/it]"
     ]
    },
    {
     "name": "stdout",
     "output_type": "stream",
     "text": [
      "\u001b[1m173/173\u001b[0m \u001b[32m━━━━━━━━━━━━━━━━━━━━\u001b[0m\u001b[37m\u001b[0m \u001b[1m0s\u001b[0m 2ms/step\n"
     ]
    },
    {
     "name": "stderr",
     "output_type": "stream",
     "text": [
      " 22%|██▏       | 115/527 [06:22<22:32,  3.28s/it]"
     ]
    },
    {
     "name": "stdout",
     "output_type": "stream",
     "text": [
      "\u001b[1m172/172\u001b[0m \u001b[32m━━━━━━━━━━━━━━━━━━━━\u001b[0m\u001b[37m\u001b[0m \u001b[1m0s\u001b[0m 2ms/step\n"
     ]
    },
    {
     "name": "stderr",
     "output_type": "stream",
     "text": [
      " 22%|██▏       | 116/527 [06:26<22:34,  3.29s/it]"
     ]
    },
    {
     "name": "stdout",
     "output_type": "stream",
     "text": [
      "\u001b[1m163/163\u001b[0m \u001b[32m━━━━━━━━━━━━━━━━━━━━\u001b[0m\u001b[37m\u001b[0m \u001b[1m0s\u001b[0m 2ms/step\n"
     ]
    },
    {
     "name": "stderr",
     "output_type": "stream",
     "text": [
      " 22%|██▏       | 117/527 [06:29<23:18,  3.41s/it]"
     ]
    },
    {
     "name": "stdout",
     "output_type": "stream",
     "text": [
      "\u001b[1m173/173\u001b[0m \u001b[32m━━━━━━━━━━━━━━━━━━━━\u001b[0m\u001b[37m\u001b[0m \u001b[1m0s\u001b[0m 2ms/step\n"
     ]
    },
    {
     "name": "stderr",
     "output_type": "stream",
     "text": [
      " 22%|██▏       | 118/527 [06:33<24:05,  3.53s/it]"
     ]
    },
    {
     "name": "stdout",
     "output_type": "stream",
     "text": [
      "\u001b[1m171/171\u001b[0m \u001b[32m━━━━━━━━━━━━━━━━━━━━\u001b[0m\u001b[37m\u001b[0m \u001b[1m0s\u001b[0m 2ms/step\n"
     ]
    },
    {
     "name": "stderr",
     "output_type": "stream",
     "text": [
      " 23%|██▎       | 119/527 [06:37<25:10,  3.70s/it]"
     ]
    },
    {
     "name": "stdout",
     "output_type": "stream",
     "text": [
      "\u001b[1m174/174\u001b[0m \u001b[32m━━━━━━━━━━━━━━━━━━━━\u001b[0m\u001b[37m\u001b[0m \u001b[1m0s\u001b[0m 2ms/step\n"
     ]
    },
    {
     "name": "stderr",
     "output_type": "stream",
     "text": [
      " 23%|██▎       | 120/527 [06:41<25:49,  3.81s/it]"
     ]
    },
    {
     "name": "stdout",
     "output_type": "stream",
     "text": [
      "\u001b[1m173/173\u001b[0m \u001b[32m━━━━━━━━━━━━━━━━━━━━\u001b[0m\u001b[37m\u001b[0m \u001b[1m0s\u001b[0m 2ms/step\n"
     ]
    },
    {
     "name": "stderr",
     "output_type": "stream",
     "text": [
      " 23%|██▎       | 121/527 [06:45<25:41,  3.80s/it]"
     ]
    },
    {
     "name": "stdout",
     "output_type": "stream",
     "text": [
      "\u001b[1m171/171\u001b[0m \u001b[32m━━━━━━━━━━━━━━━━━━━━\u001b[0m\u001b[37m\u001b[0m \u001b[1m0s\u001b[0m 2ms/step\n"
     ]
    },
    {
     "name": "stderr",
     "output_type": "stream",
     "text": [
      " 23%|██▎       | 122/527 [06:49<24:57,  3.70s/it]"
     ]
    },
    {
     "name": "stdout",
     "output_type": "stream",
     "text": [
      "\u001b[1m173/173\u001b[0m \u001b[32m━━━━━━━━━━━━━━━━━━━━\u001b[0m\u001b[37m\u001b[0m \u001b[1m0s\u001b[0m 2ms/step\n"
     ]
    },
    {
     "name": "stderr",
     "output_type": "stream",
     "text": [
      " 23%|██▎       | 123/527 [06:52<24:45,  3.68s/it]"
     ]
    },
    {
     "name": "stdout",
     "output_type": "stream",
     "text": [
      "\u001b[1m170/170\u001b[0m \u001b[32m━━━━━━━━━━━━━━━━━━━━\u001b[0m\u001b[37m\u001b[0m \u001b[1m0s\u001b[0m 2ms/step\n"
     ]
    },
    {
     "name": "stderr",
     "output_type": "stream",
     "text": [
      " 24%|██▎       | 124/527 [06:56<23:52,  3.55s/it]"
     ]
    },
    {
     "name": "stdout",
     "output_type": "stream",
     "text": [
      "\u001b[1m171/171\u001b[0m \u001b[32m━━━━━━━━━━━━━━━━━━━━\u001b[0m\u001b[37m\u001b[0m \u001b[1m0s\u001b[0m 2ms/step\n"
     ]
    },
    {
     "name": "stderr",
     "output_type": "stream",
     "text": [
      " 24%|██▎       | 125/527 [06:59<23:27,  3.50s/it]"
     ]
    },
    {
     "name": "stdout",
     "output_type": "stream",
     "text": [
      "\u001b[1m171/171\u001b[0m \u001b[32m━━━━━━━━━━━━━━━━━━━━\u001b[0m\u001b[37m\u001b[0m \u001b[1m0s\u001b[0m 2ms/step\n"
     ]
    },
    {
     "name": "stderr",
     "output_type": "stream",
     "text": [
      " 24%|██▍       | 126/527 [07:03<23:49,  3.57s/it]"
     ]
    },
    {
     "name": "stdout",
     "output_type": "stream",
     "text": [
      "\u001b[1m175/175\u001b[0m \u001b[32m━━━━━━━━━━━━━━━━━━━━\u001b[0m\u001b[37m\u001b[0m \u001b[1m0s\u001b[0m 2ms/step\n"
     ]
    },
    {
     "name": "stderr",
     "output_type": "stream",
     "text": [
      " 24%|██▍       | 127/527 [07:06<23:16,  3.49s/it]"
     ]
    },
    {
     "name": "stdout",
     "output_type": "stream",
     "text": [
      "\u001b[1m175/175\u001b[0m \u001b[32m━━━━━━━━━━━━━━━━━━━━\u001b[0m\u001b[37m\u001b[0m \u001b[1m0s\u001b[0m 2ms/step\n"
     ]
    },
    {
     "name": "stderr",
     "output_type": "stream",
     "text": [
      " 24%|██▍       | 128/527 [07:10<24:02,  3.62s/it]"
     ]
    },
    {
     "name": "stdout",
     "output_type": "stream",
     "text": [
      "\u001b[1m174/174\u001b[0m \u001b[32m━━━━━━━━━━━━━━━━━━━━\u001b[0m\u001b[37m\u001b[0m \u001b[1m0s\u001b[0m 2ms/step\n"
     ]
    },
    {
     "name": "stderr",
     "output_type": "stream",
     "text": [
      " 24%|██▍       | 129/527 [07:13<23:32,  3.55s/it]"
     ]
    },
    {
     "name": "stdout",
     "output_type": "stream",
     "text": [
      "\u001b[1m174/174\u001b[0m \u001b[32m━━━━━━━━━━━━━━━━━━━━\u001b[0m\u001b[37m\u001b[0m \u001b[1m0s\u001b[0m 2ms/step\n"
     ]
    },
    {
     "name": "stderr",
     "output_type": "stream",
     "text": [
      " 25%|██▍       | 130/527 [07:17<22:52,  3.46s/it]"
     ]
    },
    {
     "name": "stdout",
     "output_type": "stream",
     "text": [
      "\u001b[1m171/171\u001b[0m \u001b[32m━━━━━━━━━━━━━━━━━━━━\u001b[0m\u001b[37m\u001b[0m \u001b[1m0s\u001b[0m 2ms/step\n"
     ]
    },
    {
     "name": "stderr",
     "output_type": "stream",
     "text": [
      " 25%|██▍       | 131/527 [07:20<22:29,  3.41s/it]"
     ]
    },
    {
     "name": "stdout",
     "output_type": "stream",
     "text": [
      "\u001b[1m173/173\u001b[0m \u001b[32m━━━━━━━━━━━━━━━━━━━━\u001b[0m\u001b[37m\u001b[0m \u001b[1m0s\u001b[0m 2ms/step\n"
     ]
    },
    {
     "name": "stderr",
     "output_type": "stream",
     "text": [
      " 25%|██▌       | 132/527 [07:23<22:11,  3.37s/it]"
     ]
    },
    {
     "name": "stdout",
     "output_type": "stream",
     "text": [
      "\u001b[1m173/173\u001b[0m \u001b[32m━━━━━━━━━━━━━━━━━━━━\u001b[0m\u001b[37m\u001b[0m \u001b[1m0s\u001b[0m 2ms/step\n"
     ]
    },
    {
     "name": "stderr",
     "output_type": "stream",
     "text": [
      " 25%|██▌       | 133/527 [07:27<22:58,  3.50s/it]"
     ]
    },
    {
     "name": "stdout",
     "output_type": "stream",
     "text": [
      "\u001b[1m162/162\u001b[0m \u001b[32m━━━━━━━━━━━━━━━━━━━━\u001b[0m\u001b[37m\u001b[0m \u001b[1m0s\u001b[0m 2ms/step\n"
     ]
    },
    {
     "name": "stderr",
     "output_type": "stream",
     "text": [
      " 25%|██▌       | 134/527 [07:31<23:25,  3.58s/it]"
     ]
    },
    {
     "name": "stdout",
     "output_type": "stream",
     "text": [
      "\u001b[1m174/174\u001b[0m \u001b[32m━━━━━━━━━━━━━━━━━━━━\u001b[0m\u001b[37m\u001b[0m \u001b[1m0s\u001b[0m 2ms/step\n"
     ]
    },
    {
     "name": "stderr",
     "output_type": "stream",
     "text": [
      " 26%|██▌       | 135/527 [07:34<22:50,  3.50s/it]"
     ]
    },
    {
     "name": "stdout",
     "output_type": "stream",
     "text": [
      "\u001b[1m178/178\u001b[0m \u001b[32m━━━━━━━━━━━━━━━━━━━━\u001b[0m\u001b[37m\u001b[0m \u001b[1m0s\u001b[0m 2ms/step\n"
     ]
    },
    {
     "name": "stderr",
     "output_type": "stream",
     "text": [
      " 26%|██▌       | 136/527 [07:37<22:33,  3.46s/it]"
     ]
    },
    {
     "name": "stdout",
     "output_type": "stream",
     "text": [
      "\u001b[1m170/170\u001b[0m \u001b[32m━━━━━━━━━━━━━━━━━━━━\u001b[0m\u001b[37m\u001b[0m \u001b[1m0s\u001b[0m 2ms/step\n"
     ]
    },
    {
     "name": "stderr",
     "output_type": "stream",
     "text": [
      " 26%|██▌       | 137/527 [07:41<22:21,  3.44s/it]"
     ]
    },
    {
     "name": "stdout",
     "output_type": "stream",
     "text": [
      "\u001b[1m172/172\u001b[0m \u001b[32m━━━━━━━━━━━━━━━━━━━━\u001b[0m\u001b[37m\u001b[0m \u001b[1m0s\u001b[0m 2ms/step\n"
     ]
    },
    {
     "name": "stderr",
     "output_type": "stream",
     "text": [
      " 26%|██▌       | 138/527 [07:44<22:46,  3.51s/it]"
     ]
    },
    {
     "name": "stdout",
     "output_type": "stream",
     "text": [
      "\u001b[1m172/172\u001b[0m \u001b[32m━━━━━━━━━━━━━━━━━━━━\u001b[0m\u001b[37m\u001b[0m \u001b[1m0s\u001b[0m 2ms/step\n"
     ]
    },
    {
     "name": "stderr",
     "output_type": "stream",
     "text": [
      " 26%|██▋       | 139/527 [07:48<22:53,  3.54s/it]"
     ]
    },
    {
     "name": "stdout",
     "output_type": "stream",
     "text": [
      "\u001b[1m173/173\u001b[0m \u001b[32m━━━━━━━━━━━━━━━━━━━━\u001b[0m\u001b[37m\u001b[0m \u001b[1m0s\u001b[0m 2ms/step\n"
     ]
    },
    {
     "name": "stderr",
     "output_type": "stream",
     "text": [
      " 27%|██▋       | 140/527 [07:51<22:25,  3.48s/it]"
     ]
    },
    {
     "name": "stdout",
     "output_type": "stream",
     "text": [
      "\u001b[1m174/174\u001b[0m \u001b[32m━━━━━━━━━━━━━━━━━━━━\u001b[0m\u001b[37m\u001b[0m \u001b[1m0s\u001b[0m 2ms/step\n"
     ]
    },
    {
     "name": "stderr",
     "output_type": "stream",
     "text": [
      " 27%|██▋       | 141/527 [07:55<22:49,  3.55s/it]"
     ]
    },
    {
     "name": "stdout",
     "output_type": "stream",
     "text": [
      "\u001b[1m170/170\u001b[0m \u001b[32m━━━━━━━━━━━━━━━━━━━━\u001b[0m\u001b[37m\u001b[0m \u001b[1m0s\u001b[0m 2ms/step\n"
     ]
    },
    {
     "name": "stderr",
     "output_type": "stream",
     "text": [
      " 27%|██▋       | 142/527 [08:00<24:28,  3.82s/it]"
     ]
    },
    {
     "name": "stdout",
     "output_type": "stream",
     "text": [
      "\u001b[1m174/174\u001b[0m \u001b[32m━━━━━━━━━━━━━━━━━━━━\u001b[0m\u001b[37m\u001b[0m \u001b[1m0s\u001b[0m 2ms/step\n"
     ]
    },
    {
     "name": "stderr",
     "output_type": "stream",
     "text": [
      " 27%|██▋       | 143/527 [08:04<25:03,  3.91s/it]"
     ]
    },
    {
     "name": "stdout",
     "output_type": "stream",
     "text": [
      "\u001b[1m174/174\u001b[0m \u001b[32m━━━━━━━━━━━━━━━━━━━━\u001b[0m\u001b[37m\u001b[0m \u001b[1m0s\u001b[0m 2ms/step\n"
     ]
    },
    {
     "name": "stderr",
     "output_type": "stream",
     "text": [
      " 27%|██▋       | 144/527 [08:07<24:46,  3.88s/it]"
     ]
    },
    {
     "name": "stdout",
     "output_type": "stream",
     "text": [
      "\u001b[1m167/167\u001b[0m \u001b[32m━━━━━━━━━━━━━━━━━━━━\u001b[0m\u001b[37m\u001b[0m \u001b[1m0s\u001b[0m 2ms/step\n"
     ]
    },
    {
     "name": "stderr",
     "output_type": "stream",
     "text": [
      " 28%|██▊       | 145/527 [08:11<23:51,  3.75s/it]"
     ]
    },
    {
     "name": "stdout",
     "output_type": "stream",
     "text": [
      "\u001b[1m175/175\u001b[0m \u001b[32m━━━━━━━━━━━━━━━━━━━━\u001b[0m\u001b[37m\u001b[0m \u001b[1m0s\u001b[0m 2ms/step\n"
     ]
    },
    {
     "name": "stderr",
     "output_type": "stream",
     "text": [
      " 28%|██▊       | 146/527 [08:15<23:45,  3.74s/it]"
     ]
    },
    {
     "name": "stdout",
     "output_type": "stream",
     "text": [
      "\u001b[1m173/173\u001b[0m \u001b[32m━━━━━━━━━━━━━━━━━━━━\u001b[0m\u001b[37m\u001b[0m \u001b[1m0s\u001b[0m 2ms/step\n"
     ]
    },
    {
     "name": "stderr",
     "output_type": "stream",
     "text": [
      " 28%|██▊       | 147/527 [08:18<23:08,  3.65s/it]"
     ]
    },
    {
     "name": "stdout",
     "output_type": "stream",
     "text": [
      "\u001b[1m175/175\u001b[0m \u001b[32m━━━━━━━━━━━━━━━━━━━━\u001b[0m\u001b[37m\u001b[0m \u001b[1m0s\u001b[0m 2ms/step\n"
     ]
    },
    {
     "name": "stderr",
     "output_type": "stream",
     "text": [
      " 28%|██▊       | 148/527 [08:22<22:45,  3.60s/it]"
     ]
    },
    {
     "name": "stdout",
     "output_type": "stream",
     "text": [
      "\u001b[1m170/170\u001b[0m \u001b[32m━━━━━━━━━━━━━━━━━━━━\u001b[0m\u001b[37m\u001b[0m \u001b[1m0s\u001b[0m 2ms/step\n"
     ]
    },
    {
     "name": "stderr",
     "output_type": "stream",
     "text": [
      " 28%|██▊       | 149/527 [08:25<22:23,  3.55s/it]"
     ]
    },
    {
     "name": "stdout",
     "output_type": "stream",
     "text": [
      "\u001b[1m173/173\u001b[0m \u001b[32m━━━━━━━━━━━━━━━━━━━━\u001b[0m\u001b[37m\u001b[0m \u001b[1m0s\u001b[0m 2ms/step\n"
     ]
    },
    {
     "name": "stderr",
     "output_type": "stream",
     "text": [
      " 28%|██▊       | 150/527 [08:28<22:03,  3.51s/it]"
     ]
    },
    {
     "name": "stdout",
     "output_type": "stream",
     "text": [
      "\u001b[1m173/173\u001b[0m \u001b[32m━━━━━━━━━━━━━━━━━━━━\u001b[0m\u001b[37m\u001b[0m \u001b[1m0s\u001b[0m 2ms/step\n"
     ]
    },
    {
     "name": "stderr",
     "output_type": "stream",
     "text": [
      " 29%|██▊       | 151/527 [08:32<22:10,  3.54s/it]"
     ]
    },
    {
     "name": "stdout",
     "output_type": "stream",
     "text": [
      "\u001b[1m172/172\u001b[0m \u001b[32m━━━━━━━━━━━━━━━━━━━━\u001b[0m\u001b[37m\u001b[0m \u001b[1m0s\u001b[0m 2ms/step\n"
     ]
    },
    {
     "name": "stderr",
     "output_type": "stream",
     "text": [
      " 29%|██▉       | 152/527 [08:36<22:00,  3.52s/it]"
     ]
    },
    {
     "name": "stdout",
     "output_type": "stream",
     "text": [
      "\u001b[1m172/172\u001b[0m \u001b[32m━━━━━━━━━━━━━━━━━━━━\u001b[0m\u001b[37m\u001b[0m \u001b[1m0s\u001b[0m 2ms/step\n"
     ]
    },
    {
     "name": "stderr",
     "output_type": "stream",
     "text": [
      " 29%|██▉       | 153/527 [08:39<22:17,  3.58s/it]"
     ]
    },
    {
     "name": "stdout",
     "output_type": "stream",
     "text": [
      "\u001b[1m172/172\u001b[0m \u001b[32m━━━━━━━━━━━━━━━━━━━━\u001b[0m\u001b[37m\u001b[0m \u001b[1m0s\u001b[0m 2ms/step\n"
     ]
    },
    {
     "name": "stderr",
     "output_type": "stream",
     "text": [
      " 29%|██▉       | 154/527 [08:43<22:34,  3.63s/it]"
     ]
    },
    {
     "name": "stdout",
     "output_type": "stream",
     "text": [
      "\u001b[1m174/174\u001b[0m \u001b[32m━━━━━━━━━━━━━━━━━━━━\u001b[0m\u001b[37m\u001b[0m \u001b[1m0s\u001b[0m 2ms/step\n"
     ]
    },
    {
     "name": "stderr",
     "output_type": "stream",
     "text": [
      " 29%|██▉       | 155/527 [08:47<22:20,  3.60s/it]"
     ]
    },
    {
     "name": "stdout",
     "output_type": "stream",
     "text": [
      "\u001b[1m172/172\u001b[0m \u001b[32m━━━━━━━━━━━━━━━━━━━━\u001b[0m\u001b[37m\u001b[0m \u001b[1m0s\u001b[0m 2ms/step\n"
     ]
    },
    {
     "name": "stderr",
     "output_type": "stream",
     "text": [
      " 30%|██▉       | 156/527 [08:50<22:23,  3.62s/it]"
     ]
    },
    {
     "name": "stdout",
     "output_type": "stream",
     "text": [
      "\u001b[1m173/173\u001b[0m \u001b[32m━━━━━━━━━━━━━━━━━━━━\u001b[0m\u001b[37m\u001b[0m \u001b[1m0s\u001b[0m 2ms/step\n"
     ]
    },
    {
     "name": "stderr",
     "output_type": "stream",
     "text": [
      " 30%|██▉       | 157/527 [08:54<21:55,  3.56s/it]"
     ]
    },
    {
     "name": "stdout",
     "output_type": "stream",
     "text": [
      "\u001b[1m173/173\u001b[0m \u001b[32m━━━━━━━━━━━━━━━━━━━━\u001b[0m\u001b[37m\u001b[0m \u001b[1m0s\u001b[0m 2ms/step\n"
     ]
    },
    {
     "name": "stderr",
     "output_type": "stream",
     "text": [
      " 30%|██▉       | 158/527 [08:57<21:34,  3.51s/it]"
     ]
    },
    {
     "name": "stdout",
     "output_type": "stream",
     "text": [
      "\u001b[1m170/170\u001b[0m \u001b[32m━━━━━━━━━━━━━━━━━━━━\u001b[0m\u001b[37m\u001b[0m \u001b[1m0s\u001b[0m 2ms/step\n"
     ]
    },
    {
     "name": "stderr",
     "output_type": "stream",
     "text": [
      " 30%|███       | 159/527 [09:00<21:13,  3.46s/it]"
     ]
    },
    {
     "name": "stdout",
     "output_type": "stream",
     "text": [
      "\u001b[1m175/175\u001b[0m \u001b[32m━━━━━━━━━━━━━━━━━━━━\u001b[0m\u001b[37m\u001b[0m \u001b[1m0s\u001b[0m 2ms/step\n"
     ]
    },
    {
     "name": "stderr",
     "output_type": "stream",
     "text": [
      " 30%|███       | 160/527 [09:04<20:46,  3.40s/it]"
     ]
    },
    {
     "name": "stdout",
     "output_type": "stream",
     "text": [
      "\u001b[1m172/172\u001b[0m \u001b[32m━━━━━━━━━━━━━━━━━━━━\u001b[0m\u001b[37m\u001b[0m \u001b[1m0s\u001b[0m 2ms/step\n"
     ]
    },
    {
     "name": "stderr",
     "output_type": "stream",
     "text": [
      " 31%|███       | 161/527 [09:07<20:38,  3.38s/it]"
     ]
    },
    {
     "name": "stdout",
     "output_type": "stream",
     "text": [
      "\u001b[1m172/172\u001b[0m \u001b[32m━━━━━━━━━━━━━━━━━━━━\u001b[0m\u001b[37m\u001b[0m \u001b[1m0s\u001b[0m 2ms/step\n"
     ]
    },
    {
     "name": "stderr",
     "output_type": "stream",
     "text": [
      " 31%|███       | 162/527 [09:10<20:47,  3.42s/it]"
     ]
    },
    {
     "name": "stdout",
     "output_type": "stream",
     "text": [
      "\u001b[1m172/172\u001b[0m \u001b[32m━━━━━━━━━━━━━━━━━━━━\u001b[0m\u001b[37m\u001b[0m \u001b[1m0s\u001b[0m 2ms/step\n"
     ]
    },
    {
     "name": "stderr",
     "output_type": "stream",
     "text": [
      " 31%|███       | 163/527 [09:14<20:24,  3.36s/it]"
     ]
    },
    {
     "name": "stdout",
     "output_type": "stream",
     "text": [
      "\u001b[1m172/172\u001b[0m \u001b[32m━━━━━━━━━━━━━━━━━━━━\u001b[0m\u001b[37m\u001b[0m \u001b[1m0s\u001b[0m 2ms/step\n"
     ]
    },
    {
     "name": "stderr",
     "output_type": "stream",
     "text": [
      " 31%|███       | 164/527 [09:17<20:37,  3.41s/it]"
     ]
    },
    {
     "name": "stdout",
     "output_type": "stream",
     "text": [
      "\u001b[1m174/174\u001b[0m \u001b[32m━━━━━━━━━━━━━━━━━━━━\u001b[0m\u001b[37m\u001b[0m \u001b[1m0s\u001b[0m 2ms/step\n"
     ]
    },
    {
     "name": "stderr",
     "output_type": "stream",
     "text": [
      " 31%|███▏      | 165/527 [09:20<20:18,  3.37s/it]"
     ]
    },
    {
     "name": "stdout",
     "output_type": "stream",
     "text": [
      "\u001b[1m172/172\u001b[0m \u001b[32m━━━━━━━━━━━━━━━━━━━━\u001b[0m\u001b[37m\u001b[0m \u001b[1m0s\u001b[0m 2ms/step\n"
     ]
    },
    {
     "name": "stderr",
     "output_type": "stream",
     "text": [
      " 31%|███▏      | 166/527 [09:24<20:56,  3.48s/it]"
     ]
    },
    {
     "name": "stdout",
     "output_type": "stream",
     "text": [
      "\u001b[1m177/177\u001b[0m \u001b[32m━━━━━━━━━━━━━━━━━━━━\u001b[0m\u001b[37m\u001b[0m \u001b[1m0s\u001b[0m 2ms/step\n"
     ]
    },
    {
     "name": "stderr",
     "output_type": "stream",
     "text": [
      " 32%|███▏      | 167/527 [09:28<20:37,  3.44s/it]"
     ]
    },
    {
     "name": "stdout",
     "output_type": "stream",
     "text": [
      "\u001b[1m171/171\u001b[0m \u001b[32m━━━━━━━━━━━━━━━━━━━━\u001b[0m\u001b[37m\u001b[0m \u001b[1m0s\u001b[0m 2ms/step\n"
     ]
    },
    {
     "name": "stderr",
     "output_type": "stream",
     "text": [
      " 32%|███▏      | 168/527 [09:31<20:40,  3.46s/it]"
     ]
    },
    {
     "name": "stdout",
     "output_type": "stream",
     "text": [
      "\u001b[1m174/174\u001b[0m \u001b[32m━━━━━━━━━━━━━━━━━━━━\u001b[0m\u001b[37m\u001b[0m \u001b[1m0s\u001b[0m 2ms/step\n"
     ]
    },
    {
     "name": "stderr",
     "output_type": "stream",
     "text": [
      " 32%|███▏      | 169/527 [09:34<20:14,  3.39s/it]"
     ]
    },
    {
     "name": "stdout",
     "output_type": "stream",
     "text": [
      "\u001b[1m172/172\u001b[0m \u001b[32m━━━━━━━━━━━━━━━━━━━━\u001b[0m\u001b[37m\u001b[0m \u001b[1m0s\u001b[0m 2ms/step\n"
     ]
    },
    {
     "name": "stderr",
     "output_type": "stream",
     "text": [
      " 32%|███▏      | 170/527 [09:37<19:33,  3.29s/it]"
     ]
    },
    {
     "name": "stdout",
     "output_type": "stream",
     "text": [
      "\u001b[1m176/176\u001b[0m \u001b[32m━━━━━━━━━━━━━━━━━━━━\u001b[0m\u001b[37m\u001b[0m \u001b[1m0s\u001b[0m 2ms/step\n"
     ]
    },
    {
     "name": "stderr",
     "output_type": "stream",
     "text": [
      " 32%|███▏      | 171/527 [09:41<19:22,  3.27s/it]"
     ]
    },
    {
     "name": "stdout",
     "output_type": "stream",
     "text": [
      "\u001b[1m176/176\u001b[0m \u001b[32m━━━━━━━━━━━━━━━━━━━━\u001b[0m\u001b[37m\u001b[0m \u001b[1m0s\u001b[0m 2ms/step\n"
     ]
    },
    {
     "name": "stderr",
     "output_type": "stream",
     "text": [
      " 33%|███▎      | 172/527 [09:44<19:31,  3.30s/it]"
     ]
    },
    {
     "name": "stdout",
     "output_type": "stream",
     "text": [
      "\u001b[1m173/173\u001b[0m \u001b[32m━━━━━━━━━━━━━━━━━━━━\u001b[0m\u001b[37m\u001b[0m \u001b[1m0s\u001b[0m 2ms/step\n"
     ]
    },
    {
     "name": "stderr",
     "output_type": "stream",
     "text": [
      " 33%|███▎      | 173/527 [09:47<19:30,  3.31s/it]"
     ]
    },
    {
     "name": "stdout",
     "output_type": "stream",
     "text": [
      "\u001b[1m173/173\u001b[0m \u001b[32m━━━━━━━━━━━━━━━━━━━━\u001b[0m\u001b[37m\u001b[0m \u001b[1m0s\u001b[0m 2ms/step\n"
     ]
    },
    {
     "name": "stderr",
     "output_type": "stream",
     "text": [
      " 33%|███▎      | 174/527 [09:51<19:36,  3.33s/it]"
     ]
    },
    {
     "name": "stdout",
     "output_type": "stream",
     "text": [
      "\u001b[1m172/172\u001b[0m \u001b[32m━━━━━━━━━━━━━━━━━━━━\u001b[0m\u001b[37m\u001b[0m \u001b[1m0s\u001b[0m 2ms/step\n"
     ]
    },
    {
     "name": "stderr",
     "output_type": "stream",
     "text": [
      " 33%|███▎      | 175/527 [09:54<19:34,  3.34s/it]"
     ]
    },
    {
     "name": "stdout",
     "output_type": "stream",
     "text": [
      "\u001b[1m171/171\u001b[0m \u001b[32m━━━━━━━━━━━━━━━━━━━━\u001b[0m\u001b[37m\u001b[0m \u001b[1m0s\u001b[0m 2ms/step\n"
     ]
    },
    {
     "name": "stderr",
     "output_type": "stream",
     "text": [
      " 33%|███▎      | 176/527 [09:58<20:01,  3.42s/it]"
     ]
    },
    {
     "name": "stdout",
     "output_type": "stream",
     "text": [
      "\u001b[1m173/173\u001b[0m \u001b[32m━━━━━━━━━━━━━━━━━━━━\u001b[0m\u001b[37m\u001b[0m \u001b[1m0s\u001b[0m 2ms/step\n"
     ]
    },
    {
     "name": "stderr",
     "output_type": "stream",
     "text": [
      " 34%|███▎      | 177/527 [10:01<19:39,  3.37s/it]"
     ]
    },
    {
     "name": "stdout",
     "output_type": "stream",
     "text": [
      "\u001b[1m172/172\u001b[0m \u001b[32m━━━━━━━━━━━━━━━━━━━━\u001b[0m\u001b[37m\u001b[0m \u001b[1m0s\u001b[0m 2ms/step\n"
     ]
    },
    {
     "name": "stderr",
     "output_type": "stream",
     "text": [
      " 34%|███▍      | 178/527 [10:04<19:25,  3.34s/it]"
     ]
    },
    {
     "name": "stdout",
     "output_type": "stream",
     "text": [
      "\u001b[1m172/172\u001b[0m \u001b[32m━━━━━━━━━━━━━━━━━━━━\u001b[0m\u001b[37m\u001b[0m \u001b[1m0s\u001b[0m 2ms/step\n"
     ]
    },
    {
     "name": "stderr",
     "output_type": "stream",
     "text": [
      " 34%|███▍      | 179/527 [10:07<19:19,  3.33s/it]"
     ]
    },
    {
     "name": "stdout",
     "output_type": "stream",
     "text": [
      "\u001b[1m168/168\u001b[0m \u001b[32m━━━━━━━━━━━━━━━━━━━━\u001b[0m\u001b[37m\u001b[0m \u001b[1m0s\u001b[0m 2ms/step\n"
     ]
    },
    {
     "name": "stderr",
     "output_type": "stream",
     "text": [
      " 34%|███▍      | 180/527 [10:11<19:14,  3.33s/it]"
     ]
    },
    {
     "name": "stdout",
     "output_type": "stream",
     "text": [
      "\u001b[1m171/171\u001b[0m \u001b[32m━━━━━━━━━━━━━━━━━━━━\u001b[0m\u001b[37m\u001b[0m \u001b[1m0s\u001b[0m 2ms/step\n"
     ]
    },
    {
     "name": "stderr",
     "output_type": "stream",
     "text": [
      " 34%|███▍      | 181/527 [10:14<19:21,  3.36s/it]"
     ]
    },
    {
     "name": "stdout",
     "output_type": "stream",
     "text": [
      "\u001b[1m172/172\u001b[0m \u001b[32m━━━━━━━━━━━━━━━━━━━━\u001b[0m\u001b[37m\u001b[0m \u001b[1m0s\u001b[0m 2ms/step\n"
     ]
    },
    {
     "name": "stderr",
     "output_type": "stream",
     "text": [
      " 35%|███▍      | 182/527 [10:18<19:28,  3.39s/it]"
     ]
    },
    {
     "name": "stdout",
     "output_type": "stream",
     "text": [
      "\u001b[1m174/174\u001b[0m \u001b[32m━━━━━━━━━━━━━━━━━━━━\u001b[0m\u001b[37m\u001b[0m \u001b[1m0s\u001b[0m 2ms/step\n"
     ]
    },
    {
     "name": "stderr",
     "output_type": "stream",
     "text": [
      " 35%|███▍      | 183/527 [10:22<20:50,  3.64s/it]"
     ]
    },
    {
     "name": "stdout",
     "output_type": "stream",
     "text": [
      "\u001b[1m174/174\u001b[0m \u001b[32m━━━━━━━━━━━━━━━━━━━━\u001b[0m\u001b[37m\u001b[0m \u001b[1m0s\u001b[0m 2ms/step\n"
     ]
    },
    {
     "name": "stderr",
     "output_type": "stream",
     "text": [
      " 35%|███▍      | 184/527 [10:26<21:34,  3.78s/it]"
     ]
    },
    {
     "name": "stdout",
     "output_type": "stream",
     "text": [
      "\u001b[1m171/171\u001b[0m \u001b[32m━━━━━━━━━━━━━━━━━━━━\u001b[0m\u001b[37m\u001b[0m \u001b[1m0s\u001b[0m 2ms/step\n"
     ]
    },
    {
     "name": "stderr",
     "output_type": "stream",
     "text": [
      " 35%|███▌      | 185/527 [10:30<22:23,  3.93s/it]"
     ]
    },
    {
     "name": "stdout",
     "output_type": "stream",
     "text": [
      "\u001b[1m171/171\u001b[0m \u001b[32m━━━━━━━━━━━━━━━━━━━━\u001b[0m\u001b[37m\u001b[0m \u001b[1m0s\u001b[0m 2ms/step\n"
     ]
    },
    {
     "name": "stderr",
     "output_type": "stream",
     "text": [
      " 35%|███▌      | 186/527 [10:35<22:59,  4.04s/it]"
     ]
    },
    {
     "name": "stdout",
     "output_type": "stream",
     "text": [
      "\u001b[1m173/173\u001b[0m \u001b[32m━━━━━━━━━━━━━━━━━━━━\u001b[0m\u001b[37m\u001b[0m \u001b[1m0s\u001b[0m 2ms/step\n"
     ]
    },
    {
     "name": "stderr",
     "output_type": "stream",
     "text": [
      " 35%|███▌      | 187/527 [10:38<22:03,  3.89s/it]"
     ]
    },
    {
     "name": "stdout",
     "output_type": "stream",
     "text": [
      "\u001b[1m175/175\u001b[0m \u001b[32m━━━━━━━━━━━━━━━━━━━━\u001b[0m\u001b[37m\u001b[0m \u001b[1m0s\u001b[0m 2ms/step\n"
     ]
    },
    {
     "name": "stderr",
     "output_type": "stream",
     "text": [
      " 36%|███▌      | 188/527 [10:42<21:29,  3.80s/it]"
     ]
    },
    {
     "name": "stdout",
     "output_type": "stream",
     "text": [
      "\u001b[1m170/170\u001b[0m \u001b[32m━━━━━━━━━━━━━━━━━━━━\u001b[0m\u001b[37m\u001b[0m \u001b[1m0s\u001b[0m 2ms/step\n"
     ]
    },
    {
     "name": "stderr",
     "output_type": "stream",
     "text": [
      " 36%|███▌      | 189/527 [10:45<20:47,  3.69s/it]"
     ]
    },
    {
     "name": "stdout",
     "output_type": "stream",
     "text": [
      "\u001b[1m172/172\u001b[0m \u001b[32m━━━━━━━━━━━━━━━━━━━━\u001b[0m\u001b[37m\u001b[0m \u001b[1m0s\u001b[0m 2ms/step\n"
     ]
    },
    {
     "name": "stderr",
     "output_type": "stream",
     "text": [
      " 36%|███▌      | 190/527 [10:48<20:07,  3.58s/it]"
     ]
    },
    {
     "name": "stdout",
     "output_type": "stream",
     "text": [
      "\u001b[1m173/173\u001b[0m \u001b[32m━━━━━━━━━━━━━━━━━━━━\u001b[0m\u001b[37m\u001b[0m \u001b[1m0s\u001b[0m 2ms/step\n"
     ]
    },
    {
     "name": "stderr",
     "output_type": "stream",
     "text": [
      " 36%|███▌      | 191/527 [10:52<20:28,  3.65s/it]"
     ]
    },
    {
     "name": "stdout",
     "output_type": "stream",
     "text": [
      "\u001b[1m170/170\u001b[0m \u001b[32m━━━━━━━━━━━━━━━━━━━━\u001b[0m\u001b[37m\u001b[0m \u001b[1m0s\u001b[0m 2ms/step\n"
     ]
    },
    {
     "name": "stderr",
     "output_type": "stream",
     "text": [
      " 36%|███▋      | 192/527 [10:56<20:55,  3.75s/it]"
     ]
    },
    {
     "name": "stdout",
     "output_type": "stream",
     "text": [
      "\u001b[1m172/172\u001b[0m \u001b[32m━━━━━━━━━━━━━━━━━━━━\u001b[0m\u001b[37m\u001b[0m \u001b[1m0s\u001b[0m 2ms/step\n"
     ]
    },
    {
     "name": "stderr",
     "output_type": "stream",
     "text": [
      " 37%|███▋      | 193/527 [11:00<20:33,  3.69s/it]"
     ]
    },
    {
     "name": "stdout",
     "output_type": "stream",
     "text": [
      "\u001b[1m171/171\u001b[0m \u001b[32m━━━━━━━━━━━━━━━━━━━━\u001b[0m\u001b[37m\u001b[0m \u001b[1m0s\u001b[0m 2ms/step\n"
     ]
    },
    {
     "name": "stderr",
     "output_type": "stream",
     "text": [
      " 37%|███▋      | 194/527 [11:03<20:14,  3.65s/it]"
     ]
    },
    {
     "name": "stdout",
     "output_type": "stream",
     "text": [
      "\u001b[1m172/172\u001b[0m \u001b[32m━━━━━━━━━━━━━━━━━━━━\u001b[0m\u001b[37m\u001b[0m \u001b[1m0s\u001b[0m 2ms/step\n"
     ]
    },
    {
     "name": "stderr",
     "output_type": "stream",
     "text": [
      " 37%|███▋      | 195/527 [11:07<19:35,  3.54s/it]"
     ]
    },
    {
     "name": "stdout",
     "output_type": "stream",
     "text": [
      "\u001b[1m171/171\u001b[0m \u001b[32m━━━━━━━━━━━━━━━━━━━━\u001b[0m\u001b[37m\u001b[0m \u001b[1m0s\u001b[0m 2ms/step\n"
     ]
    },
    {
     "name": "stderr",
     "output_type": "stream",
     "text": [
      " 37%|███▋      | 196/527 [11:10<19:39,  3.56s/it]"
     ]
    },
    {
     "name": "stdout",
     "output_type": "stream",
     "text": [
      "\u001b[1m172/172\u001b[0m \u001b[32m━━━━━━━━━━━━━━━━━━━━\u001b[0m\u001b[37m\u001b[0m \u001b[1m0s\u001b[0m 2ms/step\n"
     ]
    },
    {
     "name": "stderr",
     "output_type": "stream",
     "text": [
      " 37%|███▋      | 197/527 [11:14<19:08,  3.48s/it]"
     ]
    },
    {
     "name": "stdout",
     "output_type": "stream",
     "text": [
      "\u001b[1m173/173\u001b[0m \u001b[32m━━━━━━━━━━━━━━━━━━━━\u001b[0m\u001b[37m\u001b[0m \u001b[1m0s\u001b[0m 2ms/step\n"
     ]
    },
    {
     "name": "stderr",
     "output_type": "stream",
     "text": [
      " 38%|███▊      | 198/527 [11:17<18:43,  3.42s/it]"
     ]
    },
    {
     "name": "stdout",
     "output_type": "stream",
     "text": [
      "\u001b[1m172/172\u001b[0m \u001b[32m━━━━━━━━━━━━━━━━━━━━\u001b[0m\u001b[37m\u001b[0m \u001b[1m0s\u001b[0m 1ms/step\n"
     ]
    },
    {
     "name": "stderr",
     "output_type": "stream",
     "text": [
      " 38%|███▊      | 199/527 [11:21<19:45,  3.61s/it]"
     ]
    },
    {
     "name": "stdout",
     "output_type": "stream",
     "text": [
      "\u001b[1m171/171\u001b[0m \u001b[32m━━━━━━━━━━━━━━━━━━━━\u001b[0m\u001b[37m\u001b[0m \u001b[1m0s\u001b[0m 2ms/step\n"
     ]
    },
    {
     "name": "stderr",
     "output_type": "stream",
     "text": [
      " 38%|███▊      | 200/527 [11:24<19:37,  3.60s/it]"
     ]
    },
    {
     "name": "stdout",
     "output_type": "stream",
     "text": [
      "\u001b[1m173/173\u001b[0m \u001b[32m━━━━━━━━━━━━━━━━━━━━\u001b[0m\u001b[37m\u001b[0m \u001b[1m0s\u001b[0m 2ms/step\n"
     ]
    },
    {
     "name": "stderr",
     "output_type": "stream",
     "text": [
      " 38%|███▊      | 201/527 [11:28<19:28,  3.58s/it]"
     ]
    },
    {
     "name": "stdout",
     "output_type": "stream",
     "text": [
      "\u001b[1m172/172\u001b[0m \u001b[32m━━━━━━━━━━━━━━━━━━━━\u001b[0m\u001b[37m\u001b[0m \u001b[1m0s\u001b[0m 2ms/step\n"
     ]
    },
    {
     "name": "stderr",
     "output_type": "stream",
     "text": [
      " 38%|███▊      | 202/527 [11:31<19:12,  3.55s/it]"
     ]
    },
    {
     "name": "stdout",
     "output_type": "stream",
     "text": [
      "\u001b[1m172/172\u001b[0m \u001b[32m━━━━━━━━━━━━━━━━━━━━\u001b[0m\u001b[37m\u001b[0m \u001b[1m0s\u001b[0m 2ms/step\n"
     ]
    },
    {
     "name": "stderr",
     "output_type": "stream",
     "text": [
      " 39%|███▊      | 203/527 [11:35<19:11,  3.55s/it]"
     ]
    },
    {
     "name": "stdout",
     "output_type": "stream",
     "text": [
      "\u001b[1m165/165\u001b[0m \u001b[32m━━━━━━━━━━━━━━━━━━━━\u001b[0m\u001b[37m\u001b[0m \u001b[1m0s\u001b[0m 2ms/step\n"
     ]
    },
    {
     "name": "stderr",
     "output_type": "stream",
     "text": [
      " 39%|███▊      | 204/527 [11:38<18:51,  3.50s/it]"
     ]
    },
    {
     "name": "stdout",
     "output_type": "stream",
     "text": [
      "\u001b[1m176/176\u001b[0m \u001b[32m━━━━━━━━━━━━━━━━━━━━\u001b[0m\u001b[37m\u001b[0m \u001b[1m0s\u001b[0m 2ms/step\n"
     ]
    },
    {
     "name": "stderr",
     "output_type": "stream",
     "text": [
      " 39%|███▉      | 205/527 [11:42<18:15,  3.40s/it]"
     ]
    },
    {
     "name": "stdout",
     "output_type": "stream",
     "text": [
      "\u001b[1m174/174\u001b[0m \u001b[32m━━━━━━━━━━━━━━━━━━━━\u001b[0m\u001b[37m\u001b[0m \u001b[1m0s\u001b[0m 2ms/step\n"
     ]
    },
    {
     "name": "stderr",
     "output_type": "stream",
     "text": [
      " 39%|███▉      | 206/527 [11:45<18:31,  3.46s/it]"
     ]
    },
    {
     "name": "stdout",
     "output_type": "stream",
     "text": [
      "\u001b[1m172/172\u001b[0m \u001b[32m━━━━━━━━━━━━━━━━━━━━\u001b[0m\u001b[37m\u001b[0m \u001b[1m0s\u001b[0m 2ms/step\n"
     ]
    },
    {
     "name": "stderr",
     "output_type": "stream",
     "text": [
      " 39%|███▉      | 207/527 [11:48<18:14,  3.42s/it]"
     ]
    },
    {
     "name": "stdout",
     "output_type": "stream",
     "text": [
      "\u001b[1m173/173\u001b[0m \u001b[32m━━━━━━━━━━━━━━━━━━━━\u001b[0m\u001b[37m\u001b[0m \u001b[1m0s\u001b[0m 2ms/step\n"
     ]
    },
    {
     "name": "stderr",
     "output_type": "stream",
     "text": [
      " 39%|███▉      | 208/527 [11:52<17:54,  3.37s/it]"
     ]
    },
    {
     "name": "stdout",
     "output_type": "stream",
     "text": [
      "\u001b[1m175/175\u001b[0m \u001b[32m━━━━━━━━━━━━━━━━━━━━\u001b[0m\u001b[37m\u001b[0m \u001b[1m0s\u001b[0m 2ms/step\n"
     ]
    },
    {
     "name": "stderr",
     "output_type": "stream",
     "text": [
      " 40%|███▉      | 209/527 [11:55<17:30,  3.30s/it]"
     ]
    },
    {
     "name": "stdout",
     "output_type": "stream",
     "text": [
      "\u001b[1m170/170\u001b[0m \u001b[32m━━━━━━━━━━━━━━━━━━━━\u001b[0m\u001b[37m\u001b[0m \u001b[1m0s\u001b[0m 2ms/step\n"
     ]
    },
    {
     "name": "stderr",
     "output_type": "stream",
     "text": [
      " 40%|███▉      | 210/527 [11:58<17:03,  3.23s/it]"
     ]
    },
    {
     "name": "stdout",
     "output_type": "stream",
     "text": [
      "\u001b[1m175/175\u001b[0m \u001b[32m━━━━━━━━━━━━━━━━━━━━\u001b[0m\u001b[37m\u001b[0m \u001b[1m0s\u001b[0m 2ms/step\n"
     ]
    },
    {
     "name": "stderr",
     "output_type": "stream",
     "text": [
      " 40%|████      | 211/527 [12:01<17:05,  3.24s/it]"
     ]
    },
    {
     "name": "stdout",
     "output_type": "stream",
     "text": [
      "\u001b[1m158/158\u001b[0m \u001b[32m━━━━━━━━━━━━━━━━━━━━\u001b[0m\u001b[37m\u001b[0m \u001b[1m0s\u001b[0m 2ms/step\n"
     ]
    },
    {
     "name": "stderr",
     "output_type": "stream",
     "text": [
      " 40%|████      | 212/527 [12:05<17:08,  3.26s/it]"
     ]
    },
    {
     "name": "stdout",
     "output_type": "stream",
     "text": [
      "\u001b[1m174/174\u001b[0m \u001b[32m━━━━━━━━━━━━━━━━━━━━\u001b[0m\u001b[37m\u001b[0m \u001b[1m0s\u001b[0m 2ms/step\n"
     ]
    },
    {
     "name": "stderr",
     "output_type": "stream",
     "text": [
      " 40%|████      | 213/527 [12:08<17:21,  3.32s/it]"
     ]
    },
    {
     "name": "stdout",
     "output_type": "stream",
     "text": [
      "\u001b[1m171/171\u001b[0m \u001b[32m━━━━━━━━━━━━━━━━━━━━\u001b[0m\u001b[37m\u001b[0m \u001b[1m0s\u001b[0m 2ms/step\n"
     ]
    },
    {
     "name": "stderr",
     "output_type": "stream",
     "text": [
      " 41%|████      | 214/527 [12:11<17:13,  3.30s/it]"
     ]
    },
    {
     "name": "stdout",
     "output_type": "stream",
     "text": [
      "\u001b[1m170/170\u001b[0m \u001b[32m━━━━━━━━━━━━━━━━━━━━\u001b[0m\u001b[37m\u001b[0m \u001b[1m0s\u001b[0m 2ms/step\n"
     ]
    },
    {
     "name": "stderr",
     "output_type": "stream",
     "text": [
      " 41%|████      | 215/527 [12:15<17:36,  3.39s/it]"
     ]
    },
    {
     "name": "stdout",
     "output_type": "stream",
     "text": [
      "\u001b[1m158/158\u001b[0m \u001b[32m━━━━━━━━━━━━━━━━━━━━\u001b[0m\u001b[37m\u001b[0m \u001b[1m0s\u001b[0m 2ms/step\n"
     ]
    },
    {
     "name": "stderr",
     "output_type": "stream",
     "text": [
      " 41%|████      | 216/527 [12:18<17:16,  3.33s/it]"
     ]
    },
    {
     "name": "stdout",
     "output_type": "stream",
     "text": [
      "\u001b[1m171/171\u001b[0m \u001b[32m━━━━━━━━━━━━━━━━━━━━\u001b[0m\u001b[37m\u001b[0m \u001b[1m0s\u001b[0m 2ms/step\n"
     ]
    },
    {
     "name": "stderr",
     "output_type": "stream",
     "text": [
      " 41%|████      | 217/527 [12:22<18:37,  3.61s/it]"
     ]
    },
    {
     "name": "stdout",
     "output_type": "stream",
     "text": [
      "\u001b[1m170/170\u001b[0m \u001b[32m━━━━━━━━━━━━━━━━━━━━\u001b[0m\u001b[37m\u001b[0m \u001b[1m0s\u001b[0m 2ms/step\n"
     ]
    },
    {
     "name": "stderr",
     "output_type": "stream",
     "text": [
      " 41%|████▏     | 218/527 [12:26<19:02,  3.70s/it]"
     ]
    },
    {
     "name": "stdout",
     "output_type": "stream",
     "text": [
      "\u001b[1m174/174\u001b[0m \u001b[32m━━━━━━━━━━━━━━━━━━━━\u001b[0m\u001b[37m\u001b[0m \u001b[1m0s\u001b[0m 2ms/step\n"
     ]
    },
    {
     "name": "stderr",
     "output_type": "stream",
     "text": [
      " 42%|████▏     | 219/527 [12:30<19:38,  3.83s/it]"
     ]
    },
    {
     "name": "stdout",
     "output_type": "stream",
     "text": [
      "\u001b[1m171/171\u001b[0m \u001b[32m━━━━━━━━━━━━━━━━━━━━\u001b[0m\u001b[37m\u001b[0m \u001b[1m0s\u001b[0m 2ms/step\n"
     ]
    },
    {
     "name": "stderr",
     "output_type": "stream",
     "text": [
      " 42%|████▏     | 220/527 [12:34<19:46,  3.87s/it]"
     ]
    },
    {
     "name": "stdout",
     "output_type": "stream",
     "text": [
      "\u001b[1m175/175\u001b[0m \u001b[32m━━━━━━━━━━━━━━━━━━━━\u001b[0m\u001b[37m\u001b[0m \u001b[1m0s\u001b[0m 2ms/step\n"
     ]
    },
    {
     "name": "stderr",
     "output_type": "stream",
     "text": [
      " 42%|████▏     | 221/527 [12:38<19:08,  3.75s/it]"
     ]
    },
    {
     "name": "stdout",
     "output_type": "stream",
     "text": [
      "\u001b[1m175/175\u001b[0m \u001b[32m━━━━━━━━━━━━━━━━━━━━\u001b[0m\u001b[37m\u001b[0m \u001b[1m0s\u001b[0m 2ms/step\n"
     ]
    },
    {
     "name": "stderr",
     "output_type": "stream",
     "text": [
      " 42%|████▏     | 222/527 [12:42<19:08,  3.76s/it]"
     ]
    },
    {
     "name": "stdout",
     "output_type": "stream",
     "text": [
      "\u001b[1m174/174\u001b[0m \u001b[32m━━━━━━━━━━━━━━━━━━━━\u001b[0m\u001b[37m\u001b[0m \u001b[1m0s\u001b[0m 2ms/step\n"
     ]
    },
    {
     "name": "stderr",
     "output_type": "stream",
     "text": [
      " 42%|████▏     | 223/527 [12:45<18:38,  3.68s/it]"
     ]
    },
    {
     "name": "stdout",
     "output_type": "stream",
     "text": [
      "\u001b[1m174/174\u001b[0m \u001b[32m━━━━━━━━━━━━━━━━━━━━\u001b[0m\u001b[37m\u001b[0m \u001b[1m0s\u001b[0m 2ms/step\n"
     ]
    },
    {
     "name": "stderr",
     "output_type": "stream",
     "text": [
      " 43%|████▎     | 224/527 [12:49<18:25,  3.65s/it]"
     ]
    },
    {
     "name": "stdout",
     "output_type": "stream",
     "text": [
      "\u001b[1m172/172\u001b[0m \u001b[32m━━━━━━━━━━━━━━━━━━━━\u001b[0m\u001b[37m\u001b[0m \u001b[1m0s\u001b[0m 2ms/step\n"
     ]
    },
    {
     "name": "stderr",
     "output_type": "stream",
     "text": [
      " 43%|████▎     | 225/527 [12:53<19:00,  3.78s/it]"
     ]
    },
    {
     "name": "stdout",
     "output_type": "stream",
     "text": [
      "\u001b[1m172/172\u001b[0m \u001b[32m━━━━━━━━━━━━━━━━━━━━\u001b[0m\u001b[37m\u001b[0m \u001b[1m0s\u001b[0m 3ms/step\n"
     ]
    },
    {
     "name": "stderr",
     "output_type": "stream",
     "text": [
      " 43%|████▎     | 226/527 [12:57<20:24,  4.07s/it]"
     ]
    },
    {
     "name": "stdout",
     "output_type": "stream",
     "text": [
      "\u001b[1m174/174\u001b[0m \u001b[32m━━━━━━━━━━━━━━━━━━━━\u001b[0m\u001b[37m\u001b[0m \u001b[1m1s\u001b[0m 3ms/step\n"
     ]
    },
    {
     "name": "stderr",
     "output_type": "stream",
     "text": [
      " 43%|████▎     | 227/527 [13:03<23:02,  4.61s/it]"
     ]
    },
    {
     "name": "stdout",
     "output_type": "stream",
     "text": [
      "\u001b[1m174/174\u001b[0m \u001b[32m━━━━━━━━━━━━━━━━━━━━\u001b[0m\u001b[37m\u001b[0m \u001b[1m0s\u001b[0m 2ms/step\n"
     ]
    },
    {
     "name": "stderr",
     "output_type": "stream",
     "text": [
      " 43%|████▎     | 228/527 [13:09<24:03,  4.83s/it]"
     ]
    },
    {
     "name": "stdout",
     "output_type": "stream",
     "text": [
      "\u001b[1m173/173\u001b[0m \u001b[32m━━━━━━━━━━━━━━━━━━━━\u001b[0m\u001b[37m\u001b[0m \u001b[1m0s\u001b[0m 2ms/step\n"
     ]
    },
    {
     "name": "stderr",
     "output_type": "stream",
     "text": [
      " 43%|████▎     | 229/527 [13:14<24:12,  4.88s/it]"
     ]
    },
    {
     "name": "stdout",
     "output_type": "stream",
     "text": [
      "\u001b[1m167/167\u001b[0m \u001b[32m━━━━━━━━━━━━━━━━━━━━\u001b[0m\u001b[37m\u001b[0m \u001b[1m0s\u001b[0m 3ms/step\n"
     ]
    },
    {
     "name": "stderr",
     "output_type": "stream",
     "text": [
      " 44%|████▎     | 230/527 [13:19<24:17,  4.91s/it]"
     ]
    },
    {
     "name": "stdout",
     "output_type": "stream",
     "text": [
      "\u001b[1m172/172\u001b[0m \u001b[32m━━━━━━━━━━━━━━━━━━━━\u001b[0m\u001b[37m\u001b[0m \u001b[1m1s\u001b[0m 3ms/step\n"
     ]
    },
    {
     "name": "stderr",
     "output_type": "stream",
     "text": [
      " 44%|████▍     | 231/527 [13:24<24:38,  4.99s/it]"
     ]
    },
    {
     "name": "stdout",
     "output_type": "stream",
     "text": [
      "\u001b[1m175/175\u001b[0m \u001b[32m━━━━━━━━━━━━━━━━━━━━\u001b[0m\u001b[37m\u001b[0m \u001b[1m0s\u001b[0m 3ms/step\n"
     ]
    },
    {
     "name": "stderr",
     "output_type": "stream",
     "text": [
      " 44%|████▍     | 232/527 [13:29<25:08,  5.11s/it]"
     ]
    },
    {
     "name": "stdout",
     "output_type": "stream",
     "text": [
      "\u001b[1m175/175\u001b[0m \u001b[32m━━━━━━━━━━━━━━━━━━━━\u001b[0m\u001b[37m\u001b[0m \u001b[1m1s\u001b[0m 3ms/step\n"
     ]
    },
    {
     "name": "stderr",
     "output_type": "stream",
     "text": [
      " 44%|████▍     | 233/527 [13:34<24:32,  5.01s/it]"
     ]
    },
    {
     "name": "stdout",
     "output_type": "stream",
     "text": [
      "\u001b[1m173/173\u001b[0m \u001b[32m━━━━━━━━━━━━━━━━━━━━\u001b[0m\u001b[37m\u001b[0m \u001b[1m1s\u001b[0m 3ms/step\n"
     ]
    },
    {
     "name": "stderr",
     "output_type": "stream",
     "text": [
      " 44%|████▍     | 234/527 [13:39<24:03,  4.93s/it]"
     ]
    },
    {
     "name": "stdout",
     "output_type": "stream",
     "text": [
      "\u001b[1m172/172\u001b[0m \u001b[32m━━━━━━━━━━━━━━━━━━━━\u001b[0m\u001b[37m\u001b[0m \u001b[1m0s\u001b[0m 3ms/step\n"
     ]
    },
    {
     "name": "stderr",
     "output_type": "stream",
     "text": [
      " 45%|████▍     | 235/527 [13:44<24:49,  5.10s/it]"
     ]
    },
    {
     "name": "stdout",
     "output_type": "stream",
     "text": [
      "\u001b[1m176/176\u001b[0m \u001b[32m━━━━━━━━━━━━━━━━━━━━\u001b[0m\u001b[37m\u001b[0m \u001b[1m0s\u001b[0m 2ms/step\n"
     ]
    },
    {
     "name": "stderr",
     "output_type": "stream",
     "text": [
      " 45%|████▍     | 236/527 [13:49<24:38,  5.08s/it]"
     ]
    },
    {
     "name": "stdout",
     "output_type": "stream",
     "text": [
      "\u001b[1m172/172\u001b[0m \u001b[32m━━━━━━━━━━━━━━━━━━━━\u001b[0m\u001b[37m\u001b[0m \u001b[1m0s\u001b[0m 2ms/step\n"
     ]
    },
    {
     "name": "stderr",
     "output_type": "stream",
     "text": [
      " 45%|████▍     | 237/527 [13:55<25:37,  5.30s/it]"
     ]
    },
    {
     "name": "stdout",
     "output_type": "stream",
     "text": [
      "\u001b[1m173/173\u001b[0m \u001b[32m━━━━━━━━━━━━━━━━━━━━\u001b[0m\u001b[37m\u001b[0m \u001b[1m1s\u001b[0m 3ms/step\n"
     ]
    },
    {
     "name": "stderr",
     "output_type": "stream",
     "text": [
      " 45%|████▌     | 238/527 [14:00<25:27,  5.29s/it]"
     ]
    },
    {
     "name": "stdout",
     "output_type": "stream",
     "text": [
      "\u001b[1m172/172\u001b[0m \u001b[32m━━━━━━━━━━━━━━━━━━━━\u001b[0m\u001b[37m\u001b[0m \u001b[1m0s\u001b[0m 1ms/step\n"
     ]
    },
    {
     "name": "stderr",
     "output_type": "stream",
     "text": [
      " 45%|████▌     | 239/527 [14:05<24:37,  5.13s/it]"
     ]
    },
    {
     "name": "stdout",
     "output_type": "stream",
     "text": [
      "\u001b[1m171/171\u001b[0m \u001b[32m━━━━━━━━━━━━━━━━━━━━\u001b[0m\u001b[37m\u001b[0m \u001b[1m1s\u001b[0m 3ms/step\n"
     ]
    },
    {
     "name": "stderr",
     "output_type": "stream",
     "text": [
      " 46%|████▌     | 240/527 [14:11<25:07,  5.25s/it]"
     ]
    },
    {
     "name": "stdout",
     "output_type": "stream",
     "text": [
      "\u001b[1m174/174\u001b[0m \u001b[32m━━━━━━━━━━━━━━━━━━━━\u001b[0m\u001b[37m\u001b[0m \u001b[1m0s\u001b[0m 3ms/step\n"
     ]
    },
    {
     "name": "stderr",
     "output_type": "stream",
     "text": [
      " 46%|████▌     | 241/527 [14:16<24:59,  5.24s/it]"
     ]
    },
    {
     "name": "stdout",
     "output_type": "stream",
     "text": [
      "\u001b[1m171/171\u001b[0m \u001b[32m━━━━━━━━━━━━━━━━━━━━\u001b[0m\u001b[37m\u001b[0m \u001b[1m0s\u001b[0m 3ms/step\n"
     ]
    },
    {
     "name": "stderr",
     "output_type": "stream",
     "text": [
      " 46%|████▌     | 242/527 [14:21<25:17,  5.32s/it]"
     ]
    },
    {
     "name": "stdout",
     "output_type": "stream",
     "text": [
      "\u001b[1m172/172\u001b[0m \u001b[32m━━━━━━━━━━━━━━━━━━━━\u001b[0m\u001b[37m\u001b[0m \u001b[1m0s\u001b[0m 2ms/step\n"
     ]
    },
    {
     "name": "stderr",
     "output_type": "stream",
     "text": [
      " 46%|████▌     | 243/527 [14:27<25:14,  5.33s/it]"
     ]
    },
    {
     "name": "stdout",
     "output_type": "stream",
     "text": [
      "\u001b[1m170/170\u001b[0m \u001b[32m━━━━━━━━━━━━━━━━━━━━\u001b[0m\u001b[37m\u001b[0m \u001b[1m0s\u001b[0m 3ms/step\n"
     ]
    },
    {
     "name": "stderr",
     "output_type": "stream",
     "text": [
      " 46%|████▋     | 244/527 [14:32<24:47,  5.25s/it]"
     ]
    },
    {
     "name": "stdout",
     "output_type": "stream",
     "text": [
      "\u001b[1m170/170\u001b[0m \u001b[32m━━━━━━━━━━━━━━━━━━━━\u001b[0m\u001b[37m\u001b[0m \u001b[1m0s\u001b[0m 2ms/step\n"
     ]
    },
    {
     "name": "stderr",
     "output_type": "stream",
     "text": [
      " 46%|████▋     | 245/527 [14:37<24:34,  5.23s/it]"
     ]
    },
    {
     "name": "stdout",
     "output_type": "stream",
     "text": [
      "\u001b[1m173/173\u001b[0m \u001b[32m━━━━━━━━━━━━━━━━━━━━\u001b[0m\u001b[37m\u001b[0m \u001b[1m0s\u001b[0m 2ms/step\n"
     ]
    },
    {
     "name": "stderr",
     "output_type": "stream",
     "text": [
      " 47%|████▋     | 246/527 [14:42<24:12,  5.17s/it]"
     ]
    },
    {
     "name": "stdout",
     "output_type": "stream",
     "text": [
      "\u001b[1m175/175\u001b[0m \u001b[32m━━━━━━━━━━━━━━━━━━━━\u001b[0m\u001b[37m\u001b[0m \u001b[1m0s\u001b[0m 2ms/step\n"
     ]
    },
    {
     "name": "stderr",
     "output_type": "stream",
     "text": [
      " 47%|████▋     | 247/527 [14:47<24:19,  5.21s/it]"
     ]
    },
    {
     "name": "stdout",
     "output_type": "stream",
     "text": [
      "\u001b[1m171/171\u001b[0m \u001b[32m━━━━━━━━━━━━━━━━━━━━\u001b[0m\u001b[37m\u001b[0m \u001b[1m0s\u001b[0m 2ms/step\n"
     ]
    },
    {
     "name": "stderr",
     "output_type": "stream",
     "text": [
      " 47%|████▋     | 248/527 [14:52<24:04,  5.18s/it]"
     ]
    },
    {
     "name": "stdout",
     "output_type": "stream",
     "text": [
      "\u001b[1m173/173\u001b[0m \u001b[32m━━━━━━━━━━━━━━━━━━━━\u001b[0m\u001b[37m\u001b[0m \u001b[1m0s\u001b[0m 2ms/step\n"
     ]
    },
    {
     "name": "stderr",
     "output_type": "stream",
     "text": [
      " 47%|████▋     | 249/527 [14:58<23:56,  5.17s/it]"
     ]
    },
    {
     "name": "stdout",
     "output_type": "stream",
     "text": [
      "\u001b[1m172/172\u001b[0m \u001b[32m━━━━━━━━━━━━━━━━━━━━\u001b[0m\u001b[37m\u001b[0m \u001b[1m1s\u001b[0m 3ms/step\n"
     ]
    },
    {
     "name": "stderr",
     "output_type": "stream",
     "text": [
      " 47%|████▋     | 250/527 [15:03<24:08,  5.23s/it]"
     ]
    },
    {
     "name": "stdout",
     "output_type": "stream",
     "text": [
      "\u001b[1m175/175\u001b[0m \u001b[32m━━━━━━━━━━━━━━━━━━━━\u001b[0m\u001b[37m\u001b[0m \u001b[1m0s\u001b[0m 3ms/step\n"
     ]
    },
    {
     "name": "stderr",
     "output_type": "stream",
     "text": [
      " 48%|████▊     | 251/527 [15:08<24:02,  5.23s/it]"
     ]
    },
    {
     "name": "stdout",
     "output_type": "stream",
     "text": [
      "\u001b[1m172/172\u001b[0m \u001b[32m━━━━━━━━━━━━━━━━━━━━\u001b[0m\u001b[37m\u001b[0m \u001b[1m0s\u001b[0m 2ms/step\n"
     ]
    },
    {
     "name": "stderr",
     "output_type": "stream",
     "text": [
      " 48%|████▊     | 252/527 [15:14<24:38,  5.38s/it]"
     ]
    },
    {
     "name": "stdout",
     "output_type": "stream",
     "text": [
      "\u001b[1m170/170\u001b[0m \u001b[32m━━━━━━━━━━━━━━━━━━━━\u001b[0m\u001b[37m\u001b[0m \u001b[1m0s\u001b[0m 3ms/step\n"
     ]
    },
    {
     "name": "stderr",
     "output_type": "stream",
     "text": [
      " 48%|████▊     | 253/527 [15:19<24:52,  5.45s/it]"
     ]
    },
    {
     "name": "stdout",
     "output_type": "stream",
     "text": [
      "\u001b[1m177/177\u001b[0m \u001b[32m━━━━━━━━━━━━━━━━━━━━\u001b[0m\u001b[37m\u001b[0m \u001b[1m0s\u001b[0m 2ms/step\n"
     ]
    },
    {
     "name": "stderr",
     "output_type": "stream",
     "text": [
      " 48%|████▊     | 254/527 [15:25<24:16,  5.34s/it]"
     ]
    },
    {
     "name": "stdout",
     "output_type": "stream",
     "text": [
      "\u001b[1m172/172\u001b[0m \u001b[32m━━━━━━━━━━━━━━━━━━━━\u001b[0m\u001b[37m\u001b[0m \u001b[1m0s\u001b[0m 3ms/step\n"
     ]
    },
    {
     "name": "stderr",
     "output_type": "stream",
     "text": [
      " 48%|████▊     | 255/527 [15:30<24:07,  5.32s/it]"
     ]
    },
    {
     "name": "stdout",
     "output_type": "stream",
     "text": [
      "\u001b[1m173/173\u001b[0m \u001b[32m━━━━━━━━━━━━━━━━━━━━\u001b[0m\u001b[37m\u001b[0m \u001b[1m0s\u001b[0m 2ms/step\n"
     ]
    },
    {
     "name": "stderr",
     "output_type": "stream",
     "text": [
      " 49%|████▊     | 256/527 [15:35<24:12,  5.36s/it]"
     ]
    },
    {
     "name": "stdout",
     "output_type": "stream",
     "text": [
      "\u001b[1m172/172\u001b[0m \u001b[32m━━━━━━━━━━━━━━━━━━━━\u001b[0m\u001b[37m\u001b[0m \u001b[1m0s\u001b[0m 1ms/step\n"
     ]
    },
    {
     "name": "stderr",
     "output_type": "stream",
     "text": [
      " 49%|████▉     | 257/527 [15:40<23:35,  5.24s/it]"
     ]
    },
    {
     "name": "stdout",
     "output_type": "stream",
     "text": [
      "\u001b[1m172/172\u001b[0m \u001b[32m━━━━━━━━━━━━━━━━━━━━\u001b[0m\u001b[37m\u001b[0m \u001b[1m0s\u001b[0m 2ms/step\n"
     ]
    },
    {
     "name": "stderr",
     "output_type": "stream",
     "text": [
      " 49%|████▉     | 258/527 [15:56<37:14,  8.31s/it]"
     ]
    },
    {
     "name": "stdout",
     "output_type": "stream",
     "text": [
      "\u001b[1m175/175\u001b[0m \u001b[32m━━━━━━━━━━━━━━━━━━━━\u001b[0m\u001b[37m\u001b[0m \u001b[1m0s\u001b[0m 2ms/step\n"
     ]
    },
    {
     "name": "stderr",
     "output_type": "stream",
     "text": [
      " 49%|████▉     | 259/527 [16:00<31:49,  7.13s/it]"
     ]
    },
    {
     "name": "stdout",
     "output_type": "stream",
     "text": [
      "\u001b[1m172/172\u001b[0m \u001b[32m━━━━━━━━━━━━━━━━━━━━\u001b[0m\u001b[37m\u001b[0m \u001b[1m0s\u001b[0m 1ms/step\n"
     ]
    },
    {
     "name": "stderr",
     "output_type": "stream",
     "text": [
      " 49%|████▉     | 260/527 [16:04<27:43,  6.23s/it]"
     ]
    },
    {
     "name": "stdout",
     "output_type": "stream",
     "text": [
      "\u001b[1m172/172\u001b[0m \u001b[32m━━━━━━━━━━━━━━━━━━━━\u001b[0m\u001b[37m\u001b[0m \u001b[1m0s\u001b[0m 2ms/step\n"
     ]
    },
    {
     "name": "stderr",
     "output_type": "stream",
     "text": [
      " 50%|████▉     | 261/527 [16:08<24:33,  5.54s/it]"
     ]
    },
    {
     "name": "stdout",
     "output_type": "stream",
     "text": [
      "\u001b[1m173/173\u001b[0m \u001b[32m━━━━━━━━━━━━━━━━━━━━\u001b[0m\u001b[37m\u001b[0m \u001b[1m0s\u001b[0m 2ms/step\n"
     ]
    },
    {
     "name": "stderr",
     "output_type": "stream",
     "text": [
      " 50%|████▉     | 262/527 [16:12<21:52,  4.95s/it]"
     ]
    },
    {
     "name": "stdout",
     "output_type": "stream",
     "text": [
      "\u001b[1m171/171\u001b[0m \u001b[32m━━━━━━━━━━━━━━━━━━━━\u001b[0m\u001b[37m\u001b[0m \u001b[1m0s\u001b[0m 2ms/step\n"
     ]
    },
    {
     "name": "stderr",
     "output_type": "stream",
     "text": [
      " 50%|████▉     | 263/527 [16:18<22:57,  5.22s/it]"
     ]
    },
    {
     "name": "stdout",
     "output_type": "stream",
     "text": [
      "\u001b[1m171/171\u001b[0m \u001b[32m━━━━━━━━━━━━━━━━━━━━\u001b[0m\u001b[37m\u001b[0m \u001b[1m1s\u001b[0m 3ms/step\n"
     ]
    },
    {
     "name": "stderr",
     "output_type": "stream",
     "text": [
      " 50%|█████     | 264/527 [16:24<23:55,  5.46s/it]"
     ]
    },
    {
     "name": "stdout",
     "output_type": "stream",
     "text": [
      "\u001b[1m174/174\u001b[0m \u001b[32m━━━━━━━━━━━━━━━━━━━━\u001b[0m\u001b[37m\u001b[0m \u001b[1m0s\u001b[0m 3ms/step\n"
     ]
    },
    {
     "name": "stderr",
     "output_type": "stream",
     "text": [
      " 50%|█████     | 265/527 [16:30<25:33,  5.85s/it]"
     ]
    },
    {
     "name": "stdout",
     "output_type": "stream",
     "text": [
      "\u001b[1m173/173\u001b[0m \u001b[32m━━━━━━━━━━━━━━━━━━━━\u001b[0m\u001b[37m\u001b[0m \u001b[1m1s\u001b[0m 3ms/step\n"
     ]
    },
    {
     "name": "stderr",
     "output_type": "stream",
     "text": [
      " 50%|█████     | 266/527 [16:37<26:25,  6.08s/it]"
     ]
    },
    {
     "name": "stdout",
     "output_type": "stream",
     "text": [
      "\u001b[1m173/173\u001b[0m \u001b[32m━━━━━━━━━━━━━━━━━━━━\u001b[0m\u001b[37m\u001b[0m \u001b[1m1s\u001b[0m 3ms/step\n"
     ]
    },
    {
     "name": "stderr",
     "output_type": "stream",
     "text": [
      " 51%|█████     | 267/527 [16:44<26:57,  6.22s/it]"
     ]
    },
    {
     "name": "stdout",
     "output_type": "stream",
     "text": [
      "\u001b[1m174/174\u001b[0m \u001b[32m━━━━━━━━━━━━━━━━━━━━\u001b[0m\u001b[37m\u001b[0m \u001b[1m1s\u001b[0m 3ms/step\n"
     ]
    },
    {
     "name": "stderr",
     "output_type": "stream",
     "text": [
      " 51%|█████     | 268/527 [16:50<26:41,  6.18s/it]"
     ]
    },
    {
     "name": "stdout",
     "output_type": "stream",
     "text": [
      "\u001b[1m159/159\u001b[0m \u001b[32m━━━━━━━━━━━━━━━━━━━━\u001b[0m\u001b[37m\u001b[0m \u001b[1m0s\u001b[0m 2ms/step\n"
     ]
    },
    {
     "name": "stderr",
     "output_type": "stream",
     "text": [
      " 51%|█████     | 269/527 [16:56<26:17,  6.11s/it]"
     ]
    },
    {
     "name": "stdout",
     "output_type": "stream",
     "text": [
      "\u001b[1m173/173\u001b[0m \u001b[32m━━━━━━━━━━━━━━━━━━━━\u001b[0m\u001b[37m\u001b[0m \u001b[1m1s\u001b[0m 4ms/step\n"
     ]
    },
    {
     "name": "stderr",
     "output_type": "stream",
     "text": [
      " 51%|█████     | 270/527 [17:02<26:24,  6.16s/it]"
     ]
    },
    {
     "name": "stdout",
     "output_type": "stream",
     "text": [
      "\u001b[1m172/172\u001b[0m \u001b[32m━━━━━━━━━━━━━━━━━━━━\u001b[0m\u001b[37m\u001b[0m \u001b[1m0s\u001b[0m 2ms/step\n"
     ]
    },
    {
     "name": "stderr",
     "output_type": "stream",
     "text": [
      " 51%|█████▏    | 271/527 [17:06<24:12,  5.68s/it]"
     ]
    },
    {
     "name": "stdout",
     "output_type": "stream",
     "text": [
      "\u001b[1m170/170\u001b[0m \u001b[32m━━━━━━━━━━━━━━━━━━━━\u001b[0m\u001b[37m\u001b[0m \u001b[1m0s\u001b[0m 2ms/step\n"
     ]
    },
    {
     "name": "stderr",
     "output_type": "stream",
     "text": [
      " 52%|█████▏    | 272/527 [17:10<21:45,  5.12s/it]"
     ]
    },
    {
     "name": "stdout",
     "output_type": "stream",
     "text": [
      "\u001b[1m171/171\u001b[0m \u001b[32m━━━━━━━━━━━━━━━━━━━━\u001b[0m\u001b[37m\u001b[0m \u001b[1m0s\u001b[0m 2ms/step\n"
     ]
    },
    {
     "name": "stderr",
     "output_type": "stream",
     "text": [
      " 52%|█████▏    | 273/527 [17:14<19:38,  4.64s/it]"
     ]
    },
    {
     "name": "stdout",
     "output_type": "stream",
     "text": [
      "\u001b[1m171/171\u001b[0m \u001b[32m━━━━━━━━━━━━━━━━━━━━\u001b[0m\u001b[37m\u001b[0m \u001b[1m0s\u001b[0m 2ms/step\n"
     ]
    },
    {
     "name": "stderr",
     "output_type": "stream",
     "text": [
      " 52%|█████▏    | 274/527 [17:18<18:40,  4.43s/it]"
     ]
    },
    {
     "name": "stdout",
     "output_type": "stream",
     "text": [
      "\u001b[1m172/172\u001b[0m \u001b[32m━━━━━━━━━━━━━━━━━━━━\u001b[0m\u001b[37m\u001b[0m \u001b[1m0s\u001b[0m 2ms/step\n"
     ]
    },
    {
     "name": "stderr",
     "output_type": "stream",
     "text": [
      " 52%|█████▏    | 275/527 [17:21<17:36,  4.19s/it]"
     ]
    },
    {
     "name": "stdout",
     "output_type": "stream",
     "text": [
      "\u001b[1m171/171\u001b[0m \u001b[32m━━━━━━━━━━━━━━━━━━━━\u001b[0m\u001b[37m\u001b[0m \u001b[1m0s\u001b[0m 2ms/step\n"
     ]
    },
    {
     "name": "stderr",
     "output_type": "stream",
     "text": [
      " 52%|█████▏    | 276/527 [17:26<17:46,  4.25s/it]"
     ]
    },
    {
     "name": "stdout",
     "output_type": "stream",
     "text": [
      "\u001b[1m171/171\u001b[0m \u001b[32m━━━━━━━━━━━━━━━━━━━━\u001b[0m\u001b[37m\u001b[0m \u001b[1m0s\u001b[0m 2ms/step\n"
     ]
    },
    {
     "name": "stderr",
     "output_type": "stream",
     "text": [
      " 53%|█████▎    | 277/527 [17:31<19:07,  4.59s/it]"
     ]
    },
    {
     "name": "stdout",
     "output_type": "stream",
     "text": [
      "\u001b[1m174/174\u001b[0m \u001b[32m━━━━━━━━━━━━━━━━━━━━\u001b[0m\u001b[37m\u001b[0m \u001b[1m0s\u001b[0m 2ms/step\n"
     ]
    },
    {
     "name": "stderr",
     "output_type": "stream",
     "text": [
      " 53%|█████▎    | 278/527 [17:36<19:34,  4.72s/it]"
     ]
    },
    {
     "name": "stdout",
     "output_type": "stream",
     "text": [
      "\u001b[1m177/177\u001b[0m \u001b[32m━━━━━━━━━━━━━━━━━━━━\u001b[0m\u001b[37m\u001b[0m \u001b[1m0s\u001b[0m 2ms/step\n"
     ]
    },
    {
     "name": "stderr",
     "output_type": "stream",
     "text": [
      " 53%|█████▎    | 279/527 [17:41<20:00,  4.84s/it]"
     ]
    },
    {
     "name": "stdout",
     "output_type": "stream",
     "text": [
      "\u001b[1m174/174\u001b[0m \u001b[32m━━━━━━━━━━━━━━━━━━━━\u001b[0m\u001b[37m\u001b[0m \u001b[1m1s\u001b[0m 3ms/step\n"
     ]
    },
    {
     "name": "stderr",
     "output_type": "stream",
     "text": [
      " 53%|█████▎    | 280/527 [17:47<20:39,  5.02s/it]"
     ]
    },
    {
     "name": "stdout",
     "output_type": "stream",
     "text": [
      "\u001b[1m169/169\u001b[0m \u001b[32m━━━━━━━━━━━━━━━━━━━━\u001b[0m\u001b[37m\u001b[0m \u001b[1m0s\u001b[0m 2ms/step\n"
     ]
    },
    {
     "name": "stderr",
     "output_type": "stream",
     "text": [
      " 53%|█████▎    | 281/527 [17:52<20:38,  5.03s/it]"
     ]
    },
    {
     "name": "stdout",
     "output_type": "stream",
     "text": [
      "\u001b[1m173/173\u001b[0m \u001b[32m━━━━━━━━━━━━━━━━━━━━\u001b[0m\u001b[37m\u001b[0m \u001b[1m0s\u001b[0m 1ms/step\n"
     ]
    },
    {
     "name": "stderr",
     "output_type": "stream",
     "text": [
      " 54%|█████▎    | 282/527 [17:56<19:05,  4.68s/it]"
     ]
    },
    {
     "name": "stdout",
     "output_type": "stream",
     "text": [
      "\u001b[1m174/174\u001b[0m \u001b[32m━━━━━━━━━━━━━━━━━━━━\u001b[0m\u001b[37m\u001b[0m \u001b[1m0s\u001b[0m 2ms/step\n"
     ]
    },
    {
     "name": "stderr",
     "output_type": "stream",
     "text": [
      " 54%|█████▎    | 283/527 [17:59<17:21,  4.27s/it]"
     ]
    },
    {
     "name": "stdout",
     "output_type": "stream",
     "text": [
      "\u001b[1m173/173\u001b[0m \u001b[32m━━━━━━━━━━━━━━━━━━━━\u001b[0m\u001b[37m\u001b[0m \u001b[1m0s\u001b[0m 2ms/step\n"
     ]
    },
    {
     "name": "stderr",
     "output_type": "stream",
     "text": [
      " 54%|█████▍    | 284/527 [18:02<16:14,  4.01s/it]"
     ]
    },
    {
     "name": "stdout",
     "output_type": "stream",
     "text": [
      "\u001b[1m168/168\u001b[0m \u001b[32m━━━━━━━━━━━━━━━━━━━━\u001b[0m\u001b[37m\u001b[0m \u001b[1m0s\u001b[0m 2ms/step\n"
     ]
    },
    {
     "name": "stderr",
     "output_type": "stream",
     "text": [
      " 54%|█████▍    | 285/527 [18:05<15:13,  3.77s/it]"
     ]
    },
    {
     "name": "stdout",
     "output_type": "stream",
     "text": [
      "\u001b[1m171/171\u001b[0m \u001b[32m━━━━━━━━━━━━━━━━━━━━\u001b[0m\u001b[37m\u001b[0m \u001b[1m0s\u001b[0m 2ms/step\n"
     ]
    },
    {
     "name": "stderr",
     "output_type": "stream",
     "text": [
      " 54%|█████▍    | 286/527 [18:08<14:08,  3.52s/it]"
     ]
    },
    {
     "name": "stdout",
     "output_type": "stream",
     "text": [
      "\u001b[1m174/174\u001b[0m \u001b[32m━━━━━━━━━━━━━━━━━━━━\u001b[0m\u001b[37m\u001b[0m \u001b[1m0s\u001b[0m 2ms/step\n"
     ]
    },
    {
     "name": "stderr",
     "output_type": "stream",
     "text": [
      " 54%|█████▍    | 287/527 [18:12<13:35,  3.40s/it]"
     ]
    },
    {
     "name": "stdout",
     "output_type": "stream",
     "text": [
      "\u001b[1m169/169\u001b[0m \u001b[32m━━━━━━━━━━━━━━━━━━━━\u001b[0m\u001b[37m\u001b[0m \u001b[1m0s\u001b[0m 2ms/step\n"
     ]
    },
    {
     "name": "stderr",
     "output_type": "stream",
     "text": [
      " 55%|█████▍    | 288/527 [18:15<13:02,  3.27s/it]"
     ]
    },
    {
     "name": "stdout",
     "output_type": "stream",
     "text": [
      "\u001b[1m171/171\u001b[0m \u001b[32m━━━━━━━━━━━━━━━━━━━━\u001b[0m\u001b[37m\u001b[0m \u001b[1m0s\u001b[0m 2ms/step\n"
     ]
    },
    {
     "name": "stderr",
     "output_type": "stream",
     "text": [
      " 55%|█████▍    | 289/527 [18:18<12:48,  3.23s/it]"
     ]
    },
    {
     "name": "stdout",
     "output_type": "stream",
     "text": [
      "\u001b[1m171/171\u001b[0m \u001b[32m━━━━━━━━━━━━━━━━━━━━\u001b[0m\u001b[37m\u001b[0m \u001b[1m0s\u001b[0m 2ms/step\n"
     ]
    },
    {
     "name": "stderr",
     "output_type": "stream",
     "text": [
      " 55%|█████▌    | 290/527 [18:21<13:07,  3.32s/it]"
     ]
    },
    {
     "name": "stdout",
     "output_type": "stream",
     "text": [
      "\u001b[1m173/173\u001b[0m \u001b[32m━━━━━━━━━━━━━━━━━━━━\u001b[0m\u001b[37m\u001b[0m \u001b[1m0s\u001b[0m 2ms/step\n"
     ]
    },
    {
     "name": "stderr",
     "output_type": "stream",
     "text": [
      " 55%|█████▌    | 291/527 [18:24<12:48,  3.26s/it]"
     ]
    },
    {
     "name": "stdout",
     "output_type": "stream",
     "text": [
      "\u001b[1m175/175\u001b[0m \u001b[32m━━━━━━━━━━━━━━━━━━━━\u001b[0m\u001b[37m\u001b[0m \u001b[1m0s\u001b[0m 2ms/step\n"
     ]
    },
    {
     "name": "stderr",
     "output_type": "stream",
     "text": [
      " 55%|█████▌    | 292/527 [18:28<12:44,  3.25s/it]"
     ]
    },
    {
     "name": "stdout",
     "output_type": "stream",
     "text": [
      "\u001b[1m173/173\u001b[0m \u001b[32m━━━━━━━━━━━━━━━━━━━━\u001b[0m\u001b[37m\u001b[0m \u001b[1m0s\u001b[0m 2ms/step\n"
     ]
    },
    {
     "name": "stderr",
     "output_type": "stream",
     "text": [
      " 56%|█████▌    | 293/527 [18:30<12:11,  3.12s/it]"
     ]
    },
    {
     "name": "stdout",
     "output_type": "stream",
     "text": [
      "\u001b[1m175/175\u001b[0m \u001b[32m━━━━━━━━━━━━━━━━━━━━\u001b[0m\u001b[37m\u001b[0m \u001b[1m0s\u001b[0m 2ms/step\n"
     ]
    },
    {
     "name": "stderr",
     "output_type": "stream",
     "text": [
      " 56%|█████▌    | 294/527 [18:33<11:59,  3.09s/it]"
     ]
    },
    {
     "name": "stdout",
     "output_type": "stream",
     "text": [
      "\u001b[1m173/173\u001b[0m \u001b[32m━━━━━━━━━━━━━━━━━━━━\u001b[0m\u001b[37m\u001b[0m \u001b[1m0s\u001b[0m 2ms/step\n"
     ]
    },
    {
     "name": "stderr",
     "output_type": "stream",
     "text": [
      " 56%|█████▌    | 295/527 [18:36<11:51,  3.07s/it]"
     ]
    },
    {
     "name": "stdout",
     "output_type": "stream",
     "text": [
      "\u001b[1m174/174\u001b[0m \u001b[32m━━━━━━━━━━━━━━━━━━━━\u001b[0m\u001b[37m\u001b[0m \u001b[1m0s\u001b[0m 2ms/step\n"
     ]
    },
    {
     "name": "stderr",
     "output_type": "stream",
     "text": [
      " 56%|█████▌    | 296/527 [18:40<11:52,  3.08s/it]"
     ]
    },
    {
     "name": "stdout",
     "output_type": "stream",
     "text": [
      "\u001b[1m173/173\u001b[0m \u001b[32m━━━━━━━━━━━━━━━━━━━━\u001b[0m\u001b[37m\u001b[0m \u001b[1m0s\u001b[0m 2ms/step\n"
     ]
    },
    {
     "name": "stderr",
     "output_type": "stream",
     "text": [
      " 56%|█████▋    | 297/527 [18:43<12:09,  3.17s/it]"
     ]
    },
    {
     "name": "stdout",
     "output_type": "stream",
     "text": [
      "\u001b[1m171/171\u001b[0m \u001b[32m━━━━━━━━━━━━━━━━━━━━\u001b[0m\u001b[37m\u001b[0m \u001b[1m0s\u001b[0m 2ms/step\n"
     ]
    },
    {
     "name": "stderr",
     "output_type": "stream",
     "text": [
      " 57%|█████▋    | 298/527 [18:46<12:05,  3.17s/it]"
     ]
    },
    {
     "name": "stdout",
     "output_type": "stream",
     "text": [
      "\u001b[1m174/174\u001b[0m \u001b[32m━━━━━━━━━━━━━━━━━━━━\u001b[0m\u001b[37m\u001b[0m \u001b[1m0s\u001b[0m 2ms/step\n"
     ]
    },
    {
     "name": "stderr",
     "output_type": "stream",
     "text": [
      " 57%|█████▋    | 299/527 [18:49<12:03,  3.17s/it]"
     ]
    },
    {
     "name": "stdout",
     "output_type": "stream",
     "text": [
      "\u001b[1m170/170\u001b[0m \u001b[32m━━━━━━━━━━━━━━━━━━━━\u001b[0m\u001b[37m\u001b[0m \u001b[1m0s\u001b[0m 2ms/step\n"
     ]
    },
    {
     "name": "stderr",
     "output_type": "stream",
     "text": [
      " 57%|█████▋    | 300/527 [18:52<12:03,  3.19s/it]"
     ]
    },
    {
     "name": "stdout",
     "output_type": "stream",
     "text": [
      "\u001b[1m174/174\u001b[0m \u001b[32m━━━━━━━━━━━━━━━━━━━━\u001b[0m\u001b[37m\u001b[0m \u001b[1m0s\u001b[0m 2ms/step\n"
     ]
    },
    {
     "name": "stderr",
     "output_type": "stream",
     "text": [
      " 57%|█████▋    | 301/527 [18:56<12:04,  3.21s/it]"
     ]
    },
    {
     "name": "stdout",
     "output_type": "stream",
     "text": [
      "\u001b[1m165/165\u001b[0m \u001b[32m━━━━━━━━━━━━━━━━━━━━\u001b[0m\u001b[37m\u001b[0m \u001b[1m0s\u001b[0m 2ms/step\n"
     ]
    },
    {
     "name": "stderr",
     "output_type": "stream",
     "text": [
      " 57%|█████▋    | 302/527 [18:59<12:04,  3.22s/it]"
     ]
    },
    {
     "name": "stdout",
     "output_type": "stream",
     "text": [
      "\u001b[1m171/171\u001b[0m \u001b[32m━━━━━━━━━━━━━━━━━━━━\u001b[0m\u001b[37m\u001b[0m \u001b[1m0s\u001b[0m 2ms/step\n"
     ]
    },
    {
     "name": "stderr",
     "output_type": "stream",
     "text": [
      " 57%|█████▋    | 303/527 [19:02<11:57,  3.20s/it]"
     ]
    },
    {
     "name": "stdout",
     "output_type": "stream",
     "text": [
      "\u001b[1m172/172\u001b[0m \u001b[32m━━━━━━━━━━━━━━━━━━━━\u001b[0m\u001b[37m\u001b[0m \u001b[1m0s\u001b[0m 2ms/step\n"
     ]
    },
    {
     "name": "stderr",
     "output_type": "stream",
     "text": [
      " 58%|█████▊    | 304/527 [19:05<11:52,  3.19s/it]"
     ]
    },
    {
     "name": "stdout",
     "output_type": "stream",
     "text": [
      "\u001b[1m171/171\u001b[0m \u001b[32m━━━━━━━━━━━━━━━━━━━━\u001b[0m\u001b[37m\u001b[0m \u001b[1m0s\u001b[0m 2ms/step\n"
     ]
    },
    {
     "name": "stderr",
     "output_type": "stream",
     "text": [
      " 58%|█████▊    | 305/527 [19:08<11:50,  3.20s/it]"
     ]
    },
    {
     "name": "stdout",
     "output_type": "stream",
     "text": [
      "\u001b[1m172/172\u001b[0m \u001b[32m━━━━━━━━━━━━━━━━━━━━\u001b[0m\u001b[37m\u001b[0m \u001b[1m0s\u001b[0m 2ms/step\n"
     ]
    },
    {
     "name": "stderr",
     "output_type": "stream",
     "text": [
      " 58%|█████▊    | 306/527 [19:11<11:29,  3.12s/it]"
     ]
    },
    {
     "name": "stdout",
     "output_type": "stream",
     "text": [
      "\u001b[1m175/175\u001b[0m \u001b[32m━━━━━━━━━━━━━━━━━━━━\u001b[0m\u001b[37m\u001b[0m \u001b[1m0s\u001b[0m 1ms/step\n"
     ]
    },
    {
     "name": "stderr",
     "output_type": "stream",
     "text": [
      " 58%|█████▊    | 307/527 [19:15<11:40,  3.18s/it]"
     ]
    },
    {
     "name": "stdout",
     "output_type": "stream",
     "text": [
      "\u001b[1m173/173\u001b[0m \u001b[32m━━━━━━━━━━━━━━━━━━━━\u001b[0m\u001b[37m\u001b[0m \u001b[1m0s\u001b[0m 2ms/step\n"
     ]
    },
    {
     "name": "stderr",
     "output_type": "stream",
     "text": [
      " 58%|█████▊    | 308/527 [19:18<11:35,  3.17s/it]"
     ]
    },
    {
     "name": "stdout",
     "output_type": "stream",
     "text": [
      "\u001b[1m175/175\u001b[0m \u001b[32m━━━━━━━━━━━━━━━━━━━━\u001b[0m\u001b[37m\u001b[0m \u001b[1m0s\u001b[0m 2ms/step\n"
     ]
    },
    {
     "name": "stderr",
     "output_type": "stream",
     "text": [
      " 59%|█████▊    | 309/527 [19:21<11:12,  3.09s/it]"
     ]
    },
    {
     "name": "stdout",
     "output_type": "stream",
     "text": [
      "\u001b[1m173/173\u001b[0m \u001b[32m━━━━━━━━━━━━━━━━━━━━\u001b[0m\u001b[37m\u001b[0m \u001b[1m0s\u001b[0m 2ms/step\n"
     ]
    },
    {
     "name": "stderr",
     "output_type": "stream",
     "text": [
      " 59%|█████▉    | 310/527 [19:24<11:36,  3.21s/it]"
     ]
    },
    {
     "name": "stdout",
     "output_type": "stream",
     "text": [
      "\u001b[1m173/173\u001b[0m \u001b[32m━━━━━━━━━━━━━━━━━━━━\u001b[0m\u001b[37m\u001b[0m \u001b[1m0s\u001b[0m 2ms/step\n"
     ]
    },
    {
     "name": "stderr",
     "output_type": "stream",
     "text": [
      " 59%|█████▉    | 311/527 [19:29<13:16,  3.69s/it]"
     ]
    },
    {
     "name": "stdout",
     "output_type": "stream",
     "text": [
      "\u001b[1m175/175\u001b[0m \u001b[32m━━━━━━━━━━━━━━━━━━━━\u001b[0m\u001b[37m\u001b[0m \u001b[1m0s\u001b[0m 2ms/step\n"
     ]
    },
    {
     "name": "stderr",
     "output_type": "stream",
     "text": [
      " 59%|█████▉    | 312/527 [19:34<14:03,  3.92s/it]"
     ]
    },
    {
     "name": "stdout",
     "output_type": "stream",
     "text": [
      "\u001b[1m175/175\u001b[0m \u001b[32m━━━━━━━━━━━━━━━━━━━━\u001b[0m\u001b[37m\u001b[0m \u001b[1m0s\u001b[0m 1ms/step\n"
     ]
    },
    {
     "name": "stderr",
     "output_type": "stream",
     "text": [
      " 59%|█████▉    | 313/527 [19:37<13:42,  3.84s/it]"
     ]
    },
    {
     "name": "stdout",
     "output_type": "stream",
     "text": [
      "\u001b[1m174/174\u001b[0m \u001b[32m━━━━━━━━━━━━━━━━━━━━\u001b[0m\u001b[37m\u001b[0m \u001b[1m0s\u001b[0m 2ms/step\n"
     ]
    },
    {
     "name": "stderr",
     "output_type": "stream",
     "text": [
      " 60%|█████▉    | 314/527 [19:43<15:20,  4.32s/it]"
     ]
    },
    {
     "name": "stdout",
     "output_type": "stream",
     "text": [
      "\u001b[1m171/171\u001b[0m \u001b[32m━━━━━━━━━━━━━━━━━━━━\u001b[0m\u001b[37m\u001b[0m \u001b[1m1s\u001b[0m 3ms/step\n"
     ]
    },
    {
     "name": "stderr",
     "output_type": "stream",
     "text": [
      " 60%|█████▉    | 315/527 [19:49<17:19,  4.90s/it]"
     ]
    },
    {
     "name": "stdout",
     "output_type": "stream",
     "text": [
      "\u001b[1m176/176\u001b[0m \u001b[32m━━━━━━━━━━━━━━━━━━━━\u001b[0m\u001b[37m\u001b[0m \u001b[1m1s\u001b[0m 3ms/step\n"
     ]
    },
    {
     "name": "stderr",
     "output_type": "stream",
     "text": [
      " 60%|█████▉    | 316/527 [19:55<18:15,  5.19s/it]"
     ]
    },
    {
     "name": "stdout",
     "output_type": "stream",
     "text": [
      "\u001b[1m170/170\u001b[0m \u001b[32m━━━━━━━━━━━━━━━━━━━━\u001b[0m\u001b[37m\u001b[0m \u001b[1m0s\u001b[0m 2ms/step\n"
     ]
    },
    {
     "name": "stderr",
     "output_type": "stream",
     "text": [
      " 60%|██████    | 317/527 [20:00<18:41,  5.34s/it]"
     ]
    },
    {
     "name": "stdout",
     "output_type": "stream",
     "text": [
      "\u001b[1m174/174\u001b[0m \u001b[32m━━━━━━━━━━━━━━━━━━━━\u001b[0m\u001b[37m\u001b[0m \u001b[1m0s\u001b[0m 2ms/step\n"
     ]
    },
    {
     "name": "stderr",
     "output_type": "stream",
     "text": [
      " 60%|██████    | 318/527 [20:07<19:22,  5.56s/it]"
     ]
    },
    {
     "name": "stdout",
     "output_type": "stream",
     "text": [
      "\u001b[1m176/176\u001b[0m \u001b[32m━━━━━━━━━━━━━━━━━━━━\u001b[0m\u001b[37m\u001b[0m \u001b[1m1s\u001b[0m 3ms/step\n"
     ]
    },
    {
     "name": "stderr",
     "output_type": "stream",
     "text": [
      " 61%|██████    | 319/527 [20:12<19:24,  5.60s/it]"
     ]
    },
    {
     "name": "stdout",
     "output_type": "stream",
     "text": [
      "\u001b[1m170/170\u001b[0m \u001b[32m━━━━━━━━━━━━━━━━━━━━\u001b[0m\u001b[37m\u001b[0m \u001b[1m0s\u001b[0m 2ms/step\n"
     ]
    },
    {
     "name": "stderr",
     "output_type": "stream",
     "text": [
      " 61%|██████    | 320/527 [20:18<19:55,  5.77s/it]"
     ]
    },
    {
     "name": "stdout",
     "output_type": "stream",
     "text": [
      "\u001b[1m173/173\u001b[0m \u001b[32m━━━━━━━━━━━━━━━━━━━━\u001b[0m\u001b[37m\u001b[0m \u001b[1m0s\u001b[0m 2ms/step\n"
     ]
    },
    {
     "name": "stderr",
     "output_type": "stream",
     "text": [
      " 61%|██████    | 321/527 [20:25<20:15,  5.90s/it]"
     ]
    },
    {
     "name": "stdout",
     "output_type": "stream",
     "text": [
      "\u001b[1m172/172\u001b[0m \u001b[32m━━━━━━━━━━━━━━━━━━━━\u001b[0m\u001b[37m\u001b[0m \u001b[1m0s\u001b[0m 2ms/step\n"
     ]
    },
    {
     "name": "stderr",
     "output_type": "stream",
     "text": [
      " 61%|██████    | 322/527 [20:32<21:13,  6.21s/it]"
     ]
    },
    {
     "name": "stdout",
     "output_type": "stream",
     "text": [
      "\u001b[1m173/173\u001b[0m \u001b[32m━━━━━━━━━━━━━━━━━━━━\u001b[0m\u001b[37m\u001b[0m \u001b[1m0s\u001b[0m 2ms/step\n"
     ]
    },
    {
     "name": "stderr",
     "output_type": "stream",
     "text": [
      " 61%|██████▏   | 323/527 [20:37<20:39,  6.08s/it]"
     ]
    },
    {
     "name": "stdout",
     "output_type": "stream",
     "text": [
      "\u001b[1m172/172\u001b[0m \u001b[32m━━━━━━━━━━━━━━━━━━━━\u001b[0m\u001b[37m\u001b[0m \u001b[1m0s\u001b[0m 2ms/step\n"
     ]
    },
    {
     "name": "stderr",
     "output_type": "stream",
     "text": [
      " 61%|██████▏   | 324/527 [20:43<20:35,  6.09s/it]"
     ]
    },
    {
     "name": "stdout",
     "output_type": "stream",
     "text": [
      "\u001b[1m176/176\u001b[0m \u001b[32m━━━━━━━━━━━━━━━━━━━━\u001b[0m\u001b[37m\u001b[0m \u001b[1m0s\u001b[0m 2ms/step\n"
     ]
    },
    {
     "name": "stderr",
     "output_type": "stream",
     "text": [
      " 62%|██████▏   | 325/527 [20:50<20:34,  6.11s/it]"
     ]
    },
    {
     "name": "stdout",
     "output_type": "stream",
     "text": [
      "\u001b[1m173/173\u001b[0m \u001b[32m━━━━━━━━━━━━━━━━━━━━\u001b[0m\u001b[37m\u001b[0m \u001b[1m1s\u001b[0m 3ms/step\n"
     ]
    },
    {
     "name": "stderr",
     "output_type": "stream",
     "text": [
      " 62%|██████▏   | 326/527 [20:56<20:24,  6.09s/it]"
     ]
    },
    {
     "name": "stdout",
     "output_type": "stream",
     "text": [
      "\u001b[1m170/170\u001b[0m \u001b[32m━━━━━━━━━━━━━━━━━━━━\u001b[0m\u001b[37m\u001b[0m \u001b[1m0s\u001b[0m 2ms/step\n"
     ]
    },
    {
     "name": "stderr",
     "output_type": "stream",
     "text": [
      " 62%|██████▏   | 327/527 [21:02<20:29,  6.15s/it]"
     ]
    },
    {
     "name": "stdout",
     "output_type": "stream",
     "text": [
      "\u001b[1m172/172\u001b[0m \u001b[32m━━━━━━━━━━━━━━━━━━━━\u001b[0m\u001b[37m\u001b[0m \u001b[1m0s\u001b[0m 2ms/step\n"
     ]
    },
    {
     "name": "stderr",
     "output_type": "stream",
     "text": [
      " 62%|██████▏   | 328/527 [21:08<20:32,  6.19s/it]"
     ]
    },
    {
     "name": "stdout",
     "output_type": "stream",
     "text": [
      "\u001b[1m172/172\u001b[0m \u001b[32m━━━━━━━━━━━━━━━━━━━━\u001b[0m\u001b[37m\u001b[0m \u001b[1m1s\u001b[0m 3ms/step\n"
     ]
    },
    {
     "name": "stderr",
     "output_type": "stream",
     "text": [
      " 62%|██████▏   | 329/527 [21:15<20:34,  6.23s/it]"
     ]
    },
    {
     "name": "stdout",
     "output_type": "stream",
     "text": [
      "\u001b[1m173/173\u001b[0m \u001b[32m━━━━━━━━━━━━━━━━━━━━\u001b[0m\u001b[37m\u001b[0m \u001b[1m1s\u001b[0m 3ms/step\n"
     ]
    },
    {
     "name": "stderr",
     "output_type": "stream",
     "text": [
      " 63%|██████▎   | 330/527 [21:21<20:49,  6.34s/it]"
     ]
    },
    {
     "name": "stdout",
     "output_type": "stream",
     "text": [
      "\u001b[1m163/163\u001b[0m \u001b[32m━━━━━━━━━━━━━━━━━━━━\u001b[0m\u001b[37m\u001b[0m \u001b[1m0s\u001b[0m 2ms/step\n"
     ]
    },
    {
     "name": "stderr",
     "output_type": "stream",
     "text": [
      " 63%|██████▎   | 331/527 [21:27<20:38,  6.32s/it]"
     ]
    },
    {
     "name": "stdout",
     "output_type": "stream",
     "text": [
      "\u001b[1m173/173\u001b[0m \u001b[32m━━━━━━━━━━━━━━━━━━━━\u001b[0m\u001b[37m\u001b[0m \u001b[1m0s\u001b[0m 2ms/step\n"
     ]
    },
    {
     "name": "stderr",
     "output_type": "stream",
     "text": [
      " 63%|██████▎   | 332/527 [21:31<18:04,  5.56s/it]"
     ]
    },
    {
     "name": "stdout",
     "output_type": "stream",
     "text": [
      "\u001b[1m175/175\u001b[0m \u001b[32m━━━━━━━━━━━━━━━━━━━━\u001b[0m\u001b[37m\u001b[0m \u001b[1m0s\u001b[0m 2ms/step\n"
     ]
    },
    {
     "name": "stderr",
     "output_type": "stream",
     "text": [
      " 63%|██████▎   | 333/527 [21:35<16:14,  5.02s/it]"
     ]
    },
    {
     "name": "stdout",
     "output_type": "stream",
     "text": [
      "\u001b[1m171/171\u001b[0m \u001b[32m━━━━━━━━━━━━━━━━━━━━\u001b[0m\u001b[37m\u001b[0m \u001b[1m0s\u001b[0m 2ms/step\n"
     ]
    },
    {
     "name": "stderr",
     "output_type": "stream",
     "text": [
      " 63%|██████▎   | 334/527 [21:39<14:45,  4.59s/it]"
     ]
    },
    {
     "name": "stdout",
     "output_type": "stream",
     "text": [
      "\u001b[1m176/176\u001b[0m \u001b[32m━━━━━━━━━━━━━━━━━━━━\u001b[0m\u001b[37m\u001b[0m \u001b[1m0s\u001b[0m 2ms/step\n"
     ]
    },
    {
     "name": "stderr",
     "output_type": "stream",
     "text": [
      " 64%|██████▎   | 335/527 [21:42<13:36,  4.25s/it]"
     ]
    },
    {
     "name": "stdout",
     "output_type": "stream",
     "text": [
      "\u001b[1m170/170\u001b[0m \u001b[32m━━━━━━━━━━━━━━━━━━━━\u001b[0m\u001b[37m\u001b[0m \u001b[1m0s\u001b[0m 2ms/step\n"
     ]
    },
    {
     "name": "stderr",
     "output_type": "stream",
     "text": [
      " 64%|██████▍   | 336/527 [21:45<12:30,  3.93s/it]"
     ]
    },
    {
     "name": "stdout",
     "output_type": "stream",
     "text": [
      "\u001b[1m160/160\u001b[0m \u001b[32m━━━━━━━━━━━━━━━━━━━━\u001b[0m\u001b[37m\u001b[0m \u001b[1m0s\u001b[0m 2ms/step\n"
     ]
    },
    {
     "name": "stderr",
     "output_type": "stream",
     "text": [
      " 64%|██████▍   | 337/527 [21:48<11:49,  3.74s/it]"
     ]
    },
    {
     "name": "stdout",
     "output_type": "stream",
     "text": [
      "\u001b[1m173/173\u001b[0m \u001b[32m━━━━━━━━━━━━━━━━━━━━\u001b[0m\u001b[37m\u001b[0m \u001b[1m0s\u001b[0m 1ms/step\n"
     ]
    },
    {
     "name": "stderr",
     "output_type": "stream",
     "text": [
      " 64%|██████▍   | 338/527 [21:52<11:25,  3.63s/it]"
     ]
    },
    {
     "name": "stdout",
     "output_type": "stream",
     "text": [
      "\u001b[1m172/172\u001b[0m \u001b[32m━━━━━━━━━━━━━━━━━━━━\u001b[0m\u001b[37m\u001b[0m \u001b[1m0s\u001b[0m 2ms/step\n"
     ]
    },
    {
     "name": "stderr",
     "output_type": "stream",
     "text": [
      " 64%|██████▍   | 339/527 [21:55<10:54,  3.48s/it]"
     ]
    },
    {
     "name": "stdout",
     "output_type": "stream",
     "text": [
      "\u001b[1m175/175\u001b[0m \u001b[32m━━━━━━━━━━━━━━━━━━━━\u001b[0m\u001b[37m\u001b[0m \u001b[1m0s\u001b[0m 1ms/step\n"
     ]
    },
    {
     "name": "stderr",
     "output_type": "stream",
     "text": [
      " 65%|██████▍   | 340/527 [21:58<10:22,  3.33s/it]"
     ]
    },
    {
     "name": "stdout",
     "output_type": "stream",
     "text": [
      "\u001b[1m170/170\u001b[0m \u001b[32m━━━━━━━━━━━━━━━━━━━━\u001b[0m\u001b[37m\u001b[0m \u001b[1m0s\u001b[0m 1ms/step\n"
     ]
    },
    {
     "name": "stderr",
     "output_type": "stream",
     "text": [
      " 65%|██████▍   | 341/527 [22:01<10:21,  3.34s/it]"
     ]
    },
    {
     "name": "stdout",
     "output_type": "stream",
     "text": [
      "\u001b[1m173/173\u001b[0m \u001b[32m━━━━━━━━━━━━━━━━━━━━\u001b[0m\u001b[37m\u001b[0m \u001b[1m0s\u001b[0m 1ms/step\n"
     ]
    },
    {
     "name": "stderr",
     "output_type": "stream",
     "text": [
      " 65%|██████▍   | 342/527 [22:05<10:12,  3.31s/it]"
     ]
    },
    {
     "name": "stdout",
     "output_type": "stream",
     "text": [
      "\u001b[1m171/171\u001b[0m \u001b[32m━━━━━━━━━━━━━━━━━━━━\u001b[0m\u001b[37m\u001b[0m \u001b[1m0s\u001b[0m 2ms/step\n"
     ]
    },
    {
     "name": "stderr",
     "output_type": "stream",
     "text": [
      " 65%|██████▌   | 343/527 [22:08<10:25,  3.40s/it]"
     ]
    },
    {
     "name": "stdout",
     "output_type": "stream",
     "text": [
      "\u001b[1m175/175\u001b[0m \u001b[32m━━━━━━━━━━━━━━━━━━━━\u001b[0m\u001b[37m\u001b[0m \u001b[1m0s\u001b[0m 1ms/step\n"
     ]
    },
    {
     "name": "stderr",
     "output_type": "stream",
     "text": [
      " 65%|██████▌   | 344/527 [22:11<10:10,  3.34s/it]"
     ]
    },
    {
     "name": "stdout",
     "output_type": "stream",
     "text": [
      "\u001b[1m175/175\u001b[0m \u001b[32m━━━━━━━━━━━━━━━━━━━━\u001b[0m\u001b[37m\u001b[0m \u001b[1m0s\u001b[0m 2ms/step\n"
     ]
    },
    {
     "name": "stderr",
     "output_type": "stream",
     "text": [
      " 65%|██████▌   | 345/527 [22:14<09:54,  3.27s/it]"
     ]
    },
    {
     "name": "stdout",
     "output_type": "stream",
     "text": [
      "\u001b[1m171/171\u001b[0m \u001b[32m━━━━━━━━━━━━━━━━━━━━\u001b[0m\u001b[37m\u001b[0m \u001b[1m0s\u001b[0m 2ms/step\n"
     ]
    },
    {
     "name": "stderr",
     "output_type": "stream",
     "text": [
      " 66%|██████▌   | 346/527 [22:18<10:03,  3.33s/it]"
     ]
    },
    {
     "name": "stdout",
     "output_type": "stream",
     "text": [
      "\u001b[1m176/176\u001b[0m \u001b[32m━━━━━━━━━━━━━━━━━━━━\u001b[0m\u001b[37m\u001b[0m \u001b[1m0s\u001b[0m 2ms/step\n"
     ]
    },
    {
     "name": "stderr",
     "output_type": "stream",
     "text": [
      " 66%|██████▌   | 347/527 [22:21<10:01,  3.34s/it]"
     ]
    },
    {
     "name": "stdout",
     "output_type": "stream",
     "text": [
      "\u001b[1m172/172\u001b[0m \u001b[32m━━━━━━━━━━━━━━━━━━━━\u001b[0m\u001b[37m\u001b[0m \u001b[1m0s\u001b[0m 2ms/step\n"
     ]
    },
    {
     "name": "stderr",
     "output_type": "stream",
     "text": [
      " 66%|██████▌   | 348/527 [22:25<10:05,  3.38s/it]"
     ]
    },
    {
     "name": "stdout",
     "output_type": "stream",
     "text": [
      "\u001b[1m172/172\u001b[0m \u001b[32m━━━━━━━━━━━━━━━━━━━━\u001b[0m\u001b[37m\u001b[0m \u001b[1m0s\u001b[0m 1ms/step\n"
     ]
    },
    {
     "name": "stderr",
     "output_type": "stream",
     "text": [
      " 66%|██████▌   | 349/527 [22:28<09:48,  3.31s/it]"
     ]
    },
    {
     "name": "stdout",
     "output_type": "stream",
     "text": [
      "\u001b[1m170/170\u001b[0m \u001b[32m━━━━━━━━━━━━━━━━━━━━\u001b[0m\u001b[37m\u001b[0m \u001b[1m0s\u001b[0m 2ms/step\n"
     ]
    },
    {
     "name": "stderr",
     "output_type": "stream",
     "text": [
      " 66%|██████▋   | 350/527 [22:31<09:52,  3.35s/it]"
     ]
    },
    {
     "name": "stdout",
     "output_type": "stream",
     "text": [
      "\u001b[1m176/176\u001b[0m \u001b[32m━━━━━━━━━━━━━━━━━━━━\u001b[0m\u001b[37m\u001b[0m \u001b[1m0s\u001b[0m 2ms/step\n"
     ]
    },
    {
     "name": "stderr",
     "output_type": "stream",
     "text": [
      " 67%|██████▋   | 351/527 [22:35<09:53,  3.37s/it]"
     ]
    },
    {
     "name": "stdout",
     "output_type": "stream",
     "text": [
      "\u001b[1m166/166\u001b[0m \u001b[32m━━━━━━━━━━━━━━━━━━━━\u001b[0m\u001b[37m\u001b[0m \u001b[1m0s\u001b[0m 1ms/step\n"
     ]
    },
    {
     "name": "stderr",
     "output_type": "stream",
     "text": [
      " 67%|██████▋   | 352/527 [22:38<09:33,  3.28s/it]"
     ]
    },
    {
     "name": "stdout",
     "output_type": "stream",
     "text": [
      "\u001b[1m173/173\u001b[0m \u001b[32m━━━━━━━━━━━━━━━━━━━━\u001b[0m\u001b[37m\u001b[0m \u001b[1m0s\u001b[0m 2ms/step\n"
     ]
    },
    {
     "name": "stderr",
     "output_type": "stream",
     "text": [
      " 67%|██████▋   | 353/527 [22:41<09:35,  3.31s/it]"
     ]
    },
    {
     "name": "stdout",
     "output_type": "stream",
     "text": [
      "\u001b[1m174/174\u001b[0m \u001b[32m━━━━━━━━━━━━━━━━━━━━\u001b[0m\u001b[37m\u001b[0m \u001b[1m0s\u001b[0m 2ms/step\n"
     ]
    },
    {
     "name": "stderr",
     "output_type": "stream",
     "text": [
      " 67%|██████▋   | 354/527 [22:44<09:23,  3.26s/it]"
     ]
    },
    {
     "name": "stdout",
     "output_type": "stream",
     "text": [
      "\u001b[1m173/173\u001b[0m \u001b[32m━━━━━━━━━━━━━━━━━━━━\u001b[0m\u001b[37m\u001b[0m \u001b[1m0s\u001b[0m 2ms/step\n"
     ]
    },
    {
     "name": "stderr",
     "output_type": "stream",
     "text": [
      " 67%|██████▋   | 355/527 [22:48<09:23,  3.27s/it]"
     ]
    },
    {
     "name": "stdout",
     "output_type": "stream",
     "text": [
      "\u001b[1m172/172\u001b[0m \u001b[32m━━━━━━━━━━━━━━━━━━━━\u001b[0m\u001b[37m\u001b[0m \u001b[1m0s\u001b[0m 1ms/step\n"
     ]
    },
    {
     "name": "stderr",
     "output_type": "stream",
     "text": [
      " 68%|██████▊   | 356/527 [22:51<09:40,  3.40s/it]"
     ]
    },
    {
     "name": "stdout",
     "output_type": "stream",
     "text": [
      "\u001b[1m174/174\u001b[0m \u001b[32m━━━━━━━━━━━━━━━━━━━━\u001b[0m\u001b[37m\u001b[0m \u001b[1m0s\u001b[0m 2ms/step\n"
     ]
    },
    {
     "name": "stderr",
     "output_type": "stream",
     "text": [
      " 68%|██████▊   | 357/527 [22:54<09:22,  3.31s/it]"
     ]
    },
    {
     "name": "stdout",
     "output_type": "stream",
     "text": [
      "\u001b[1m173/173\u001b[0m \u001b[32m━━━━━━━━━━━━━━━━━━━━\u001b[0m\u001b[37m\u001b[0m \u001b[1m0s\u001b[0m 2ms/step\n"
     ]
    },
    {
     "name": "stderr",
     "output_type": "stream",
     "text": [
      " 68%|██████▊   | 358/527 [22:58<09:24,  3.34s/it]"
     ]
    },
    {
     "name": "stdout",
     "output_type": "stream",
     "text": [
      "\u001b[1m173/173\u001b[0m \u001b[32m━━━━━━━━━━━━━━━━━━━━\u001b[0m\u001b[37m\u001b[0m \u001b[1m0s\u001b[0m 2ms/step\n"
     ]
    },
    {
     "name": "stderr",
     "output_type": "stream",
     "text": [
      " 68%|██████▊   | 359/527 [23:01<09:23,  3.35s/it]"
     ]
    },
    {
     "name": "stdout",
     "output_type": "stream",
     "text": [
      "\u001b[1m174/174\u001b[0m \u001b[32m━━━━━━━━━━━━━━━━━━━━\u001b[0m\u001b[37m\u001b[0m \u001b[1m0s\u001b[0m 1ms/step\n"
     ]
    },
    {
     "name": "stderr",
     "output_type": "stream",
     "text": [
      " 68%|██████▊   | 360/527 [23:05<09:23,  3.37s/it]"
     ]
    },
    {
     "name": "stdout",
     "output_type": "stream",
     "text": [
      "\u001b[1m172/172\u001b[0m \u001b[32m━━━━━━━━━━━━━━━━━━━━\u001b[0m\u001b[37m\u001b[0m \u001b[1m0s\u001b[0m 2ms/step\n"
     ]
    },
    {
     "name": "stderr",
     "output_type": "stream",
     "text": [
      " 69%|██████▊   | 361/527 [23:08<09:24,  3.40s/it]"
     ]
    },
    {
     "name": "stdout",
     "output_type": "stream",
     "text": [
      "\u001b[1m170/170\u001b[0m \u001b[32m━━━━━━━━━━━━━━━━━━━━\u001b[0m\u001b[37m\u001b[0m \u001b[1m0s\u001b[0m 2ms/step\n"
     ]
    },
    {
     "name": "stderr",
     "output_type": "stream",
     "text": [
      " 69%|██████▊   | 362/527 [23:11<09:16,  3.38s/it]"
     ]
    },
    {
     "name": "stdout",
     "output_type": "stream",
     "text": [
      "\u001b[1m175/175\u001b[0m \u001b[32m━━━━━━━━━━━━━━━━━━━━\u001b[0m\u001b[37m\u001b[0m \u001b[1m0s\u001b[0m 2ms/step\n"
     ]
    },
    {
     "name": "stderr",
     "output_type": "stream",
     "text": [
      " 69%|██████▉   | 363/527 [23:15<09:11,  3.36s/it]"
     ]
    },
    {
     "name": "stdout",
     "output_type": "stream",
     "text": [
      "\u001b[1m169/169\u001b[0m \u001b[32m━━━━━━━━━━━━━━━━━━━━\u001b[0m\u001b[37m\u001b[0m \u001b[1m0s\u001b[0m 2ms/step\n"
     ]
    },
    {
     "name": "stderr",
     "output_type": "stream",
     "text": [
      " 69%|██████▉   | 364/527 [23:18<09:09,  3.37s/it]"
     ]
    },
    {
     "name": "stdout",
     "output_type": "stream",
     "text": [
      "\u001b[1m157/157\u001b[0m \u001b[32m━━━━━━━━━━━━━━━━━━━━\u001b[0m\u001b[37m\u001b[0m \u001b[1m0s\u001b[0m 1ms/step\n"
     ]
    },
    {
     "name": "stderr",
     "output_type": "stream",
     "text": [
      " 69%|██████▉   | 365/527 [23:21<08:48,  3.26s/it]"
     ]
    },
    {
     "name": "stdout",
     "output_type": "stream",
     "text": [
      "\u001b[1m172/172\u001b[0m \u001b[32m━━━━━━━━━━━━━━━━━━━━\u001b[0m\u001b[37m\u001b[0m \u001b[1m0s\u001b[0m 2ms/step\n"
     ]
    },
    {
     "name": "stderr",
     "output_type": "stream",
     "text": [
      " 69%|██████▉   | 366/527 [23:25<08:57,  3.34s/it]"
     ]
    },
    {
     "name": "stdout",
     "output_type": "stream",
     "text": [
      "\u001b[1m173/173\u001b[0m \u001b[32m━━━━━━━━━━━━━━━━━━━━\u001b[0m\u001b[37m\u001b[0m \u001b[1m0s\u001b[0m 2ms/step\n"
     ]
    },
    {
     "name": "stderr",
     "output_type": "stream",
     "text": [
      " 70%|██████▉   | 367/527 [23:28<08:45,  3.28s/it]"
     ]
    },
    {
     "name": "stdout",
     "output_type": "stream",
     "text": [
      "\u001b[1m172/172\u001b[0m \u001b[32m━━━━━━━━━━━━━━━━━━━━\u001b[0m\u001b[37m\u001b[0m \u001b[1m0s\u001b[0m 2ms/step\n"
     ]
    },
    {
     "name": "stderr",
     "output_type": "stream",
     "text": [
      " 70%|██████▉   | 368/527 [23:31<08:43,  3.29s/it]"
     ]
    },
    {
     "name": "stdout",
     "output_type": "stream",
     "text": [
      "\u001b[1m173/173\u001b[0m \u001b[32m━━━━━━━━━━━━━━━━━━━━\u001b[0m\u001b[37m\u001b[0m \u001b[1m0s\u001b[0m 2ms/step\n"
     ]
    },
    {
     "name": "stderr",
     "output_type": "stream",
     "text": [
      " 70%|███████   | 369/527 [23:35<08:45,  3.33s/it]"
     ]
    },
    {
     "name": "stdout",
     "output_type": "stream",
     "text": [
      "\u001b[1m176/176\u001b[0m \u001b[32m━━━━━━━━━━━━━━━━━━━━\u001b[0m\u001b[37m\u001b[0m \u001b[1m0s\u001b[0m 1ms/step\n"
     ]
    },
    {
     "name": "stderr",
     "output_type": "stream",
     "text": [
      " 70%|███████   | 370/527 [23:38<08:32,  3.26s/it]"
     ]
    },
    {
     "name": "stdout",
     "output_type": "stream",
     "text": [
      "\u001b[1m174/174\u001b[0m \u001b[32m━━━━━━━━━━━━━━━━━━━━\u001b[0m\u001b[37m\u001b[0m \u001b[1m0s\u001b[0m 2ms/step\n"
     ]
    },
    {
     "name": "stderr",
     "output_type": "stream",
     "text": [
      " 70%|███████   | 371/527 [23:41<08:33,  3.29s/it]"
     ]
    },
    {
     "name": "stdout",
     "output_type": "stream",
     "text": [
      "\u001b[1m174/174\u001b[0m \u001b[32m━━━━━━━━━━━━━━━━━━━━\u001b[0m\u001b[37m\u001b[0m \u001b[1m0s\u001b[0m 2ms/step\n"
     ]
    },
    {
     "name": "stderr",
     "output_type": "stream",
     "text": [
      " 71%|███████   | 372/527 [23:44<08:23,  3.25s/it]"
     ]
    },
    {
     "name": "stdout",
     "output_type": "stream",
     "text": [
      "\u001b[1m166/166\u001b[0m \u001b[32m━━━━━━━━━━━━━━━━━━━━\u001b[0m\u001b[37m\u001b[0m \u001b[1m0s\u001b[0m 1ms/step\n"
     ]
    },
    {
     "name": "stderr",
     "output_type": "stream",
     "text": [
      " 71%|███████   | 373/527 [23:47<08:17,  3.23s/it]"
     ]
    },
    {
     "name": "stdout",
     "output_type": "stream",
     "text": [
      "\u001b[1m174/174\u001b[0m \u001b[32m━━━━━━━━━━━━━━━━━━━━\u001b[0m\u001b[37m\u001b[0m \u001b[1m0s\u001b[0m 2ms/step\n"
     ]
    },
    {
     "name": "stderr",
     "output_type": "stream",
     "text": [
      " 71%|███████   | 374/527 [23:51<08:33,  3.36s/it]"
     ]
    },
    {
     "name": "stdout",
     "output_type": "stream",
     "text": [
      "\u001b[1m172/172\u001b[0m \u001b[32m━━━━━━━━━━━━━━━━━━━━\u001b[0m\u001b[37m\u001b[0m \u001b[1m0s\u001b[0m 2ms/step\n"
     ]
    },
    {
     "name": "stderr",
     "output_type": "stream",
     "text": [
      " 71%|███████   | 375/527 [23:54<08:26,  3.33s/it]"
     ]
    },
    {
     "name": "stdout",
     "output_type": "stream",
     "text": [
      "\u001b[1m174/174\u001b[0m \u001b[32m━━━━━━━━━━━━━━━━━━━━\u001b[0m\u001b[37m\u001b[0m \u001b[1m0s\u001b[0m 2ms/step\n"
     ]
    },
    {
     "name": "stderr",
     "output_type": "stream",
     "text": [
      " 71%|███████▏  | 376/527 [23:58<08:22,  3.33s/it]"
     ]
    },
    {
     "name": "stdout",
     "output_type": "stream",
     "text": [
      "\u001b[1m176/176\u001b[0m \u001b[32m━━━━━━━━━━━━━━━━━━━━\u001b[0m\u001b[37m\u001b[0m \u001b[1m0s\u001b[0m 2ms/step\n"
     ]
    },
    {
     "name": "stderr",
     "output_type": "stream",
     "text": [
      " 72%|███████▏  | 377/527 [24:01<08:12,  3.29s/it]"
     ]
    },
    {
     "name": "stdout",
     "output_type": "stream",
     "text": [
      "\u001b[1m171/171\u001b[0m \u001b[32m━━━━━━━━━━━━━━━━━━━━\u001b[0m\u001b[37m\u001b[0m \u001b[1m0s\u001b[0m 2ms/step\n"
     ]
    },
    {
     "name": "stderr",
     "output_type": "stream",
     "text": [
      " 72%|███████▏  | 378/527 [24:04<08:13,  3.31s/it]"
     ]
    },
    {
     "name": "stdout",
     "output_type": "stream",
     "text": [
      "\u001b[1m171/171\u001b[0m \u001b[32m━━━━━━━━━━━━━━━━━━━━\u001b[0m\u001b[37m\u001b[0m \u001b[1m0s\u001b[0m 2ms/step\n"
     ]
    },
    {
     "name": "stderr",
     "output_type": "stream",
     "text": [
      " 72%|███████▏  | 379/527 [24:08<08:18,  3.37s/it]"
     ]
    },
    {
     "name": "stdout",
     "output_type": "stream",
     "text": [
      "\u001b[1m171/171\u001b[0m \u001b[32m━━━━━━━━━━━━━━━━━━━━\u001b[0m\u001b[37m\u001b[0m \u001b[1m0s\u001b[0m 2ms/step\n"
     ]
    },
    {
     "name": "stderr",
     "output_type": "stream",
     "text": [
      " 72%|███████▏  | 380/527 [24:11<08:22,  3.42s/it]"
     ]
    },
    {
     "name": "stdout",
     "output_type": "stream",
     "text": [
      "\u001b[1m174/174\u001b[0m \u001b[32m━━━━━━━━━━━━━━━━━━━━\u001b[0m\u001b[37m\u001b[0m \u001b[1m0s\u001b[0m 2ms/step\n"
     ]
    },
    {
     "name": "stderr",
     "output_type": "stream",
     "text": [
      " 72%|███████▏  | 381/527 [24:14<08:10,  3.36s/it]"
     ]
    },
    {
     "name": "stdout",
     "output_type": "stream",
     "text": [
      "\u001b[1m172/172\u001b[0m \u001b[32m━━━━━━━━━━━━━━━━━━━━\u001b[0m\u001b[37m\u001b[0m \u001b[1m0s\u001b[0m 2ms/step\n"
     ]
    },
    {
     "name": "stderr",
     "output_type": "stream",
     "text": [
      " 72%|███████▏  | 382/527 [24:18<08:02,  3.33s/it]"
     ]
    },
    {
     "name": "stdout",
     "output_type": "stream",
     "text": [
      "\u001b[1m172/172\u001b[0m \u001b[32m━━━━━━━━━━━━━━━━━━━━\u001b[0m\u001b[37m\u001b[0m \u001b[1m0s\u001b[0m 2ms/step\n"
     ]
    },
    {
     "name": "stderr",
     "output_type": "stream",
     "text": [
      " 73%|███████▎  | 383/527 [24:21<07:57,  3.31s/it]"
     ]
    },
    {
     "name": "stdout",
     "output_type": "stream",
     "text": [
      "\u001b[1m170/170\u001b[0m \u001b[32m━━━━━━━━━━━━━━━━━━━━\u001b[0m\u001b[37m\u001b[0m \u001b[1m0s\u001b[0m 1ms/step\n"
     ]
    },
    {
     "name": "stderr",
     "output_type": "stream",
     "text": [
      " 73%|███████▎  | 384/527 [24:24<07:55,  3.32s/it]"
     ]
    },
    {
     "name": "stdout",
     "output_type": "stream",
     "text": [
      "\u001b[1m172/172\u001b[0m \u001b[32m━━━━━━━━━━━━━━━━━━━━\u001b[0m\u001b[37m\u001b[0m \u001b[1m0s\u001b[0m 2ms/step\n"
     ]
    },
    {
     "name": "stderr",
     "output_type": "stream",
     "text": [
      " 73%|███████▎  | 385/527 [24:28<07:54,  3.34s/it]"
     ]
    },
    {
     "name": "stdout",
     "output_type": "stream",
     "text": [
      "\u001b[1m175/175\u001b[0m \u001b[32m━━━━━━━━━━━━━━━━━━━━\u001b[0m\u001b[37m\u001b[0m \u001b[1m0s\u001b[0m 2ms/step\n"
     ]
    },
    {
     "name": "stderr",
     "output_type": "stream",
     "text": [
      " 73%|███████▎  | 386/527 [24:31<08:02,  3.42s/it]"
     ]
    },
    {
     "name": "stdout",
     "output_type": "stream",
     "text": [
      "\u001b[1m173/173\u001b[0m \u001b[32m━━━━━━━━━━━━━━━━━━━━\u001b[0m\u001b[37m\u001b[0m \u001b[1m0s\u001b[0m 2ms/step\n"
     ]
    },
    {
     "name": "stderr",
     "output_type": "stream",
     "text": [
      " 73%|███████▎  | 387/527 [24:35<07:58,  3.42s/it]"
     ]
    },
    {
     "name": "stdout",
     "output_type": "stream",
     "text": [
      "\u001b[1m170/170\u001b[0m \u001b[32m━━━━━━━━━━━━━━━━━━━━\u001b[0m\u001b[37m\u001b[0m \u001b[1m0s\u001b[0m 2ms/step\n"
     ]
    },
    {
     "name": "stderr",
     "output_type": "stream",
     "text": [
      " 74%|███████▎  | 388/527 [24:38<07:45,  3.35s/it]"
     ]
    },
    {
     "name": "stdout",
     "output_type": "stream",
     "text": [
      "\u001b[1m172/172\u001b[0m \u001b[32m━━━━━━━━━━━━━━━━━━━━\u001b[0m\u001b[37m\u001b[0m \u001b[1m0s\u001b[0m 2ms/step\n"
     ]
    },
    {
     "name": "stderr",
     "output_type": "stream",
     "text": [
      " 74%|███████▍  | 389/527 [24:42<07:52,  3.42s/it]"
     ]
    },
    {
     "name": "stdout",
     "output_type": "stream",
     "text": [
      "\u001b[1m170/170\u001b[0m \u001b[32m━━━━━━━━━━━━━━━━━━━━\u001b[0m\u001b[37m\u001b[0m \u001b[1m0s\u001b[0m 2ms/step\n"
     ]
    },
    {
     "name": "stderr",
     "output_type": "stream",
     "text": [
      " 74%|███████▍  | 390/527 [24:45<07:42,  3.38s/it]"
     ]
    },
    {
     "name": "stdout",
     "output_type": "stream",
     "text": [
      "\u001b[1m161/161\u001b[0m \u001b[32m━━━━━━━━━━━━━━━━━━━━\u001b[0m\u001b[37m\u001b[0m \u001b[1m0s\u001b[0m 2ms/step\n"
     ]
    },
    {
     "name": "stderr",
     "output_type": "stream",
     "text": [
      " 74%|███████▍  | 391/527 [24:48<07:27,  3.29s/it]"
     ]
    },
    {
     "name": "stdout",
     "output_type": "stream",
     "text": [
      "\u001b[1m175/175\u001b[0m \u001b[32m━━━━━━━━━━━━━━━━━━━━\u001b[0m\u001b[37m\u001b[0m \u001b[1m0s\u001b[0m 1ms/step\n"
     ]
    },
    {
     "name": "stderr",
     "output_type": "stream",
     "text": [
      " 74%|███████▍  | 392/527 [24:51<07:26,  3.31s/it]"
     ]
    },
    {
     "name": "stdout",
     "output_type": "stream",
     "text": [
      "\u001b[1m172/172\u001b[0m \u001b[32m━━━━━━━━━━━━━━━━━━━━\u001b[0m\u001b[37m\u001b[0m \u001b[1m0s\u001b[0m 2ms/step\n"
     ]
    },
    {
     "name": "stderr",
     "output_type": "stream",
     "text": [
      " 75%|███████▍  | 393/527 [24:54<07:15,  3.25s/it]"
     ]
    },
    {
     "name": "stdout",
     "output_type": "stream",
     "text": [
      "\u001b[1m157/157\u001b[0m \u001b[32m━━━━━━━━━━━━━━━━━━━━\u001b[0m\u001b[37m\u001b[0m \u001b[1m0s\u001b[0m 2ms/step\n"
     ]
    },
    {
     "name": "stderr",
     "output_type": "stream",
     "text": [
      " 75%|███████▍  | 394/527 [24:58<07:13,  3.26s/it]"
     ]
    },
    {
     "name": "stdout",
     "output_type": "stream",
     "text": [
      "\u001b[1m174/174\u001b[0m \u001b[32m━━━━━━━━━━━━━━━━━━━━\u001b[0m\u001b[37m\u001b[0m \u001b[1m0s\u001b[0m 2ms/step\n"
     ]
    },
    {
     "name": "stderr",
     "output_type": "stream",
     "text": [
      " 75%|███████▍  | 395/527 [25:01<07:19,  3.33s/it]"
     ]
    },
    {
     "name": "stdout",
     "output_type": "stream",
     "text": [
      "\u001b[1m174/174\u001b[0m \u001b[32m━━━━━━━━━━━━━━━━━━━━\u001b[0m\u001b[37m\u001b[0m \u001b[1m0s\u001b[0m 2ms/step\n"
     ]
    },
    {
     "name": "stderr",
     "output_type": "stream",
     "text": [
      " 75%|███████▌  | 396/527 [25:05<07:29,  3.43s/it]"
     ]
    },
    {
     "name": "stdout",
     "output_type": "stream",
     "text": [
      "\u001b[1m177/177\u001b[0m \u001b[32m━━━━━━━━━━━━━━━━━━━━\u001b[0m\u001b[37m\u001b[0m \u001b[1m0s\u001b[0m 2ms/step\n"
     ]
    },
    {
     "name": "stderr",
     "output_type": "stream",
     "text": [
      " 75%|███████▌  | 397/527 [25:08<07:21,  3.39s/it]"
     ]
    },
    {
     "name": "stdout",
     "output_type": "stream",
     "text": [
      "\u001b[1m172/172\u001b[0m \u001b[32m━━━━━━━━━━━━━━━━━━━━\u001b[0m\u001b[37m\u001b[0m \u001b[1m0s\u001b[0m 2ms/step\n"
     ]
    },
    {
     "name": "stderr",
     "output_type": "stream",
     "text": [
      " 76%|███████▌  | 398/527 [25:11<07:11,  3.34s/it]"
     ]
    },
    {
     "name": "stdout",
     "output_type": "stream",
     "text": [
      "\u001b[1m175/175\u001b[0m \u001b[32m━━━━━━━━━━━━━━━━━━━━\u001b[0m\u001b[37m\u001b[0m \u001b[1m0s\u001b[0m 2ms/step\n"
     ]
    },
    {
     "name": "stderr",
     "output_type": "stream",
     "text": [
      " 76%|███████▌  | 399/527 [25:15<07:11,  3.37s/it]"
     ]
    },
    {
     "name": "stdout",
     "output_type": "stream",
     "text": [
      "\u001b[1m171/171\u001b[0m \u001b[32m━━━━━━━━━━━━━━━━━━━━\u001b[0m\u001b[37m\u001b[0m \u001b[1m0s\u001b[0m 2ms/step\n"
     ]
    },
    {
     "name": "stderr",
     "output_type": "stream",
     "text": [
      " 76%|███████▌  | 400/527 [25:18<07:04,  3.34s/it]"
     ]
    },
    {
     "name": "stdout",
     "output_type": "stream",
     "text": [
      "\u001b[1m174/174\u001b[0m \u001b[32m━━━━━━━━━━━━━━━━━━━━\u001b[0m\u001b[37m\u001b[0m \u001b[1m0s\u001b[0m 2ms/step\n"
     ]
    },
    {
     "name": "stderr",
     "output_type": "stream",
     "text": [
      " 76%|███████▌  | 401/527 [25:22<07:05,  3.38s/it]"
     ]
    },
    {
     "name": "stdout",
     "output_type": "stream",
     "text": [
      "\u001b[1m171/171\u001b[0m \u001b[32m━━━━━━━━━━━━━━━━━━━━\u001b[0m\u001b[37m\u001b[0m \u001b[1m0s\u001b[0m 2ms/step\n"
     ]
    },
    {
     "name": "stderr",
     "output_type": "stream",
     "text": [
      " 76%|███████▋  | 402/527 [25:25<07:07,  3.42s/it]"
     ]
    },
    {
     "name": "stdout",
     "output_type": "stream",
     "text": [
      "\u001b[1m172/172\u001b[0m \u001b[32m━━━━━━━━━━━━━━━━━━━━\u001b[0m\u001b[37m\u001b[0m \u001b[1m0s\u001b[0m 2ms/step\n"
     ]
    },
    {
     "name": "stderr",
     "output_type": "stream",
     "text": [
      " 76%|███████▋  | 403/527 [25:29<07:14,  3.50s/it]"
     ]
    },
    {
     "name": "stdout",
     "output_type": "stream",
     "text": [
      "\u001b[1m174/174\u001b[0m \u001b[32m━━━━━━━━━━━━━━━━━━━━\u001b[0m\u001b[37m\u001b[0m \u001b[1m0s\u001b[0m 2ms/step\n"
     ]
    },
    {
     "name": "stderr",
     "output_type": "stream",
     "text": [
      " 77%|███████▋  | 404/527 [25:32<07:15,  3.54s/it]"
     ]
    },
    {
     "name": "stdout",
     "output_type": "stream",
     "text": [
      "\u001b[1m172/172\u001b[0m \u001b[32m━━━━━━━━━━━━━━━━━━━━\u001b[0m\u001b[37m\u001b[0m \u001b[1m0s\u001b[0m 2ms/step\n"
     ]
    },
    {
     "name": "stderr",
     "output_type": "stream",
     "text": [
      " 77%|███████▋  | 405/527 [25:36<07:09,  3.52s/it]"
     ]
    },
    {
     "name": "stdout",
     "output_type": "stream",
     "text": [
      "\u001b[1m175/175\u001b[0m \u001b[32m━━━━━━━━━━━━━━━━━━━━\u001b[0m\u001b[37m\u001b[0m \u001b[1m0s\u001b[0m 2ms/step\n"
     ]
    },
    {
     "name": "stderr",
     "output_type": "stream",
     "text": [
      " 77%|███████▋  | 406/527 [25:39<06:53,  3.42s/it]"
     ]
    },
    {
     "name": "stdout",
     "output_type": "stream",
     "text": [
      "\u001b[1m175/175\u001b[0m \u001b[32m━━━━━━━━━━━━━━━━━━━━\u001b[0m\u001b[37m\u001b[0m \u001b[1m0s\u001b[0m 2ms/step\n"
     ]
    },
    {
     "name": "stderr",
     "output_type": "stream",
     "text": [
      " 77%|███████▋  | 407/527 [25:43<07:22,  3.69s/it]"
     ]
    },
    {
     "name": "stdout",
     "output_type": "stream",
     "text": [
      "\u001b[1m158/158\u001b[0m \u001b[32m━━━━━━━━━━━━━━━━━━━━\u001b[0m\u001b[37m\u001b[0m \u001b[1m0s\u001b[0m 1ms/step\n"
     ]
    },
    {
     "name": "stderr",
     "output_type": "stream",
     "text": [
      " 77%|███████▋  | 408/527 [25:47<07:22,  3.72s/it]"
     ]
    },
    {
     "name": "stdout",
     "output_type": "stream",
     "text": [
      "\u001b[1m173/173\u001b[0m \u001b[32m━━━━━━━━━━━━━━━━━━━━\u001b[0m\u001b[37m\u001b[0m \u001b[1m0s\u001b[0m 1ms/step\n"
     ]
    },
    {
     "name": "stderr",
     "output_type": "stream",
     "text": [
      " 78%|███████▊  | 409/527 [25:51<07:21,  3.74s/it]"
     ]
    },
    {
     "name": "stdout",
     "output_type": "stream",
     "text": [
      "\u001b[1m173/173\u001b[0m \u001b[32m━━━━━━━━━━━━━━━━━━━━\u001b[0m\u001b[37m\u001b[0m \u001b[1m0s\u001b[0m 1ms/step\n"
     ]
    },
    {
     "name": "stderr",
     "output_type": "stream",
     "text": [
      " 78%|███████▊  | 410/527 [25:54<07:04,  3.63s/it]"
     ]
    },
    {
     "name": "stdout",
     "output_type": "stream",
     "text": [
      "\u001b[1m174/174\u001b[0m \u001b[32m━━━━━━━━━━━━━━━━━━━━\u001b[0m\u001b[37m\u001b[0m \u001b[1m0s\u001b[0m 1ms/step\n"
     ]
    },
    {
     "name": "stderr",
     "output_type": "stream",
     "text": [
      " 78%|███████▊  | 411/527 [25:58<06:49,  3.53s/it]"
     ]
    },
    {
     "name": "stdout",
     "output_type": "stream",
     "text": [
      "\u001b[1m172/172\u001b[0m \u001b[32m━━━━━━━━━━━━━━━━━━━━\u001b[0m\u001b[37m\u001b[0m \u001b[1m0s\u001b[0m 2ms/step\n"
     ]
    },
    {
     "name": "stderr",
     "output_type": "stream",
     "text": [
      " 78%|███████▊  | 412/527 [26:01<06:49,  3.56s/it]"
     ]
    },
    {
     "name": "stdout",
     "output_type": "stream",
     "text": [
      "\u001b[1m173/173\u001b[0m \u001b[32m━━━━━━━━━━━━━━━━━━━━\u001b[0m\u001b[37m\u001b[0m \u001b[1m0s\u001b[0m 2ms/step\n"
     ]
    },
    {
     "name": "stderr",
     "output_type": "stream",
     "text": [
      " 78%|███████▊  | 413/527 [26:04<06:32,  3.44s/it]"
     ]
    },
    {
     "name": "stdout",
     "output_type": "stream",
     "text": [
      "\u001b[1m174/174\u001b[0m \u001b[32m━━━━━━━━━━━━━━━━━━━━\u001b[0m\u001b[37m\u001b[0m \u001b[1m0s\u001b[0m 1ms/step\n"
     ]
    },
    {
     "name": "stderr",
     "output_type": "stream",
     "text": [
      " 79%|███████▊  | 414/527 [26:07<06:17,  3.34s/it]"
     ]
    },
    {
     "name": "stdout",
     "output_type": "stream",
     "text": [
      "\u001b[1m174/174\u001b[0m \u001b[32m━━━━━━━━━━━━━━━━━━━━\u001b[0m\u001b[37m\u001b[0m \u001b[1m0s\u001b[0m 2ms/step\n"
     ]
    },
    {
     "name": "stderr",
     "output_type": "stream",
     "text": [
      " 79%|███████▊  | 415/527 [26:11<06:17,  3.37s/it]"
     ]
    },
    {
     "name": "stdout",
     "output_type": "stream",
     "text": [
      "\u001b[1m173/173\u001b[0m \u001b[32m━━━━━━━━━━━━━━━━━━━━\u001b[0m\u001b[37m\u001b[0m \u001b[1m0s\u001b[0m 2ms/step\n"
     ]
    },
    {
     "name": "stderr",
     "output_type": "stream",
     "text": [
      " 79%|███████▉  | 416/527 [26:14<06:11,  3.35s/it]"
     ]
    },
    {
     "name": "stdout",
     "output_type": "stream",
     "text": [
      "\u001b[1m174/174\u001b[0m \u001b[32m━━━━━━━━━━━━━━━━━━━━\u001b[0m\u001b[37m\u001b[0m \u001b[1m0s\u001b[0m 2ms/step\n"
     ]
    },
    {
     "name": "stderr",
     "output_type": "stream",
     "text": [
      " 79%|███████▉  | 417/527 [26:18<06:08,  3.35s/it]"
     ]
    },
    {
     "name": "stdout",
     "output_type": "stream",
     "text": [
      "\u001b[1m171/171\u001b[0m \u001b[32m━━━━━━━━━━━━━━━━━━━━\u001b[0m\u001b[37m\u001b[0m \u001b[1m0s\u001b[0m 2ms/step\n"
     ]
    },
    {
     "name": "stderr",
     "output_type": "stream",
     "text": [
      " 79%|███████▉  | 418/527 [26:21<05:53,  3.24s/it]"
     ]
    },
    {
     "name": "stdout",
     "output_type": "stream",
     "text": [
      "\u001b[1m173/173\u001b[0m \u001b[32m━━━━━━━━━━━━━━━━━━━━\u001b[0m\u001b[37m\u001b[0m \u001b[1m0s\u001b[0m 2ms/step\n"
     ]
    },
    {
     "name": "stderr",
     "output_type": "stream",
     "text": [
      " 80%|███████▉  | 419/527 [26:24<05:54,  3.28s/it]"
     ]
    },
    {
     "name": "stdout",
     "output_type": "stream",
     "text": [
      "\u001b[1m170/170\u001b[0m \u001b[32m━━━━━━━━━━━━━━━━━━━━\u001b[0m\u001b[37m\u001b[0m \u001b[1m0s\u001b[0m 2ms/step\n"
     ]
    },
    {
     "name": "stderr",
     "output_type": "stream",
     "text": [
      " 80%|███████▉  | 420/527 [26:27<05:54,  3.32s/it]"
     ]
    },
    {
     "name": "stdout",
     "output_type": "stream",
     "text": [
      "\u001b[1m162/162\u001b[0m \u001b[32m━━━━━━━━━━━━━━━━━━━━\u001b[0m\u001b[37m\u001b[0m \u001b[1m0s\u001b[0m 2ms/step\n"
     ]
    },
    {
     "name": "stderr",
     "output_type": "stream",
     "text": [
      " 80%|███████▉  | 421/527 [26:31<05:46,  3.27s/it]"
     ]
    },
    {
     "name": "stdout",
     "output_type": "stream",
     "text": [
      "\u001b[1m171/171\u001b[0m \u001b[32m━━━━━━━━━━━━━━━━━━━━\u001b[0m\u001b[37m\u001b[0m \u001b[1m0s\u001b[0m 2ms/step\n"
     ]
    },
    {
     "name": "stderr",
     "output_type": "stream",
     "text": [
      " 80%|████████  | 422/527 [26:34<05:42,  3.26s/it]"
     ]
    },
    {
     "name": "stdout",
     "output_type": "stream",
     "text": [
      "\u001b[1m172/172\u001b[0m \u001b[32m━━━━━━━━━━━━━━━━━━━━\u001b[0m\u001b[37m\u001b[0m \u001b[1m0s\u001b[0m 1ms/step\n"
     ]
    },
    {
     "name": "stderr",
     "output_type": "stream",
     "text": [
      " 80%|████████  | 423/527 [26:37<05:48,  3.35s/it]"
     ]
    },
    {
     "name": "stdout",
     "output_type": "stream",
     "text": [
      "\u001b[1m173/173\u001b[0m \u001b[32m━━━━━━━━━━━━━━━━━━━━\u001b[0m\u001b[37m\u001b[0m \u001b[1m0s\u001b[0m 2ms/step\n"
     ]
    },
    {
     "name": "stderr",
     "output_type": "stream",
     "text": [
      " 80%|████████  | 424/527 [26:41<05:42,  3.32s/it]"
     ]
    },
    {
     "name": "stdout",
     "output_type": "stream",
     "text": [
      "\u001b[1m172/172\u001b[0m \u001b[32m━━━━━━━━━━━━━━━━━━━━\u001b[0m\u001b[37m\u001b[0m \u001b[1m0s\u001b[0m 2ms/step\n"
     ]
    },
    {
     "name": "stderr",
     "output_type": "stream",
     "text": [
      " 81%|████████  | 425/527 [26:44<05:44,  3.37s/it]"
     ]
    },
    {
     "name": "stdout",
     "output_type": "stream",
     "text": [
      "\u001b[1m172/172\u001b[0m \u001b[32m━━━━━━━━━━━━━━━━━━━━\u001b[0m\u001b[37m\u001b[0m \u001b[1m0s\u001b[0m 2ms/step\n"
     ]
    },
    {
     "name": "stderr",
     "output_type": "stream",
     "text": [
      " 81%|████████  | 426/527 [26:47<05:40,  3.37s/it]"
     ]
    },
    {
     "name": "stdout",
     "output_type": "stream",
     "text": [
      "\u001b[1m173/173\u001b[0m \u001b[32m━━━━━━━━━━━━━━━━━━━━\u001b[0m\u001b[37m\u001b[0m \u001b[1m0s\u001b[0m 1ms/step\n"
     ]
    },
    {
     "name": "stderr",
     "output_type": "stream",
     "text": [
      " 81%|████████  | 427/527 [26:51<05:35,  3.35s/it]"
     ]
    },
    {
     "name": "stdout",
     "output_type": "stream",
     "text": [
      "\u001b[1m173/173\u001b[0m \u001b[32m━━━━━━━━━━━━━━━━━━━━\u001b[0m\u001b[37m\u001b[0m \u001b[1m0s\u001b[0m 2ms/step\n"
     ]
    },
    {
     "name": "stderr",
     "output_type": "stream",
     "text": [
      " 81%|████████  | 428/527 [26:54<05:34,  3.38s/it]"
     ]
    },
    {
     "name": "stdout",
     "output_type": "stream",
     "text": [
      "\u001b[1m174/174\u001b[0m \u001b[32m━━━━━━━━━━━━━━━━━━━━\u001b[0m\u001b[37m\u001b[0m \u001b[1m0s\u001b[0m 2ms/step\n"
     ]
    },
    {
     "name": "stderr",
     "output_type": "stream",
     "text": [
      " 81%|████████▏ | 429/527 [26:58<05:34,  3.41s/it]"
     ]
    },
    {
     "name": "stdout",
     "output_type": "stream",
     "text": [
      "\u001b[1m171/171\u001b[0m \u001b[32m━━━━━━━━━━━━━━━━━━━━\u001b[0m\u001b[37m\u001b[0m \u001b[1m0s\u001b[0m 2ms/step\n"
     ]
    },
    {
     "name": "stderr",
     "output_type": "stream",
     "text": [
      " 82%|████████▏ | 430/527 [27:01<05:38,  3.49s/it]"
     ]
    },
    {
     "name": "stdout",
     "output_type": "stream",
     "text": [
      "\u001b[1m173/173\u001b[0m \u001b[32m━━━━━━━━━━━━━━━━━━━━\u001b[0m\u001b[37m\u001b[0m \u001b[1m0s\u001b[0m 2ms/step\n"
     ]
    },
    {
     "name": "stderr",
     "output_type": "stream",
     "text": [
      " 82%|████████▏ | 431/527 [27:05<05:26,  3.40s/it]"
     ]
    },
    {
     "name": "stdout",
     "output_type": "stream",
     "text": [
      "\u001b[1m171/171\u001b[0m \u001b[32m━━━━━━━━━━━━━━━━━━━━\u001b[0m\u001b[37m\u001b[0m \u001b[1m0s\u001b[0m 2ms/step\n"
     ]
    },
    {
     "name": "stderr",
     "output_type": "stream",
     "text": [
      " 82%|████████▏ | 432/527 [27:08<05:17,  3.34s/it]"
     ]
    },
    {
     "name": "stdout",
     "output_type": "stream",
     "text": [
      "\u001b[1m175/175\u001b[0m \u001b[32m━━━━━━━━━━━━━━━━━━━━\u001b[0m\u001b[37m\u001b[0m \u001b[1m0s\u001b[0m 2ms/step\n"
     ]
    },
    {
     "name": "stderr",
     "output_type": "stream",
     "text": [
      " 82%|████████▏ | 433/527 [27:11<05:14,  3.34s/it]"
     ]
    },
    {
     "name": "stdout",
     "output_type": "stream",
     "text": [
      "\u001b[1m174/174\u001b[0m \u001b[32m━━━━━━━━━━━━━━━━━━━━\u001b[0m\u001b[37m\u001b[0m \u001b[1m0s\u001b[0m 1ms/step\n"
     ]
    },
    {
     "name": "stderr",
     "output_type": "stream",
     "text": [
      " 82%|████████▏ | 434/527 [27:14<05:03,  3.26s/it]"
     ]
    },
    {
     "name": "stdout",
     "output_type": "stream",
     "text": [
      "\u001b[1m173/173\u001b[0m \u001b[32m━━━━━━━━━━━━━━━━━━━━\u001b[0m\u001b[37m\u001b[0m \u001b[1m0s\u001b[0m 1ms/step\n"
     ]
    },
    {
     "name": "stderr",
     "output_type": "stream",
     "text": [
      " 83%|████████▎ | 435/527 [27:18<05:05,  3.32s/it]"
     ]
    },
    {
     "name": "stdout",
     "output_type": "stream",
     "text": [
      "\u001b[1m170/170\u001b[0m \u001b[32m━━━━━━━━━━━━━━━━━━━━\u001b[0m\u001b[37m\u001b[0m \u001b[1m0s\u001b[0m 1ms/step\n"
     ]
    },
    {
     "name": "stderr",
     "output_type": "stream",
     "text": [
      " 83%|████████▎ | 436/527 [27:21<04:57,  3.27s/it]"
     ]
    },
    {
     "name": "stdout",
     "output_type": "stream",
     "text": [
      "\u001b[1m175/175\u001b[0m \u001b[32m━━━━━━━━━━━━━━━━━━━━\u001b[0m\u001b[37m\u001b[0m \u001b[1m0s\u001b[0m 2ms/step\n"
     ]
    },
    {
     "name": "stderr",
     "output_type": "stream",
     "text": [
      " 83%|████████▎ | 437/527 [27:24<04:48,  3.21s/it]"
     ]
    },
    {
     "name": "stdout",
     "output_type": "stream",
     "text": [
      "\u001b[1m173/173\u001b[0m \u001b[32m━━━━━━━━━━━━━━━━━━━━\u001b[0m\u001b[37m\u001b[0m \u001b[1m0s\u001b[0m 1ms/step\n"
     ]
    },
    {
     "name": "stderr",
     "output_type": "stream",
     "text": [
      " 83%|████████▎ | 438/527 [27:27<04:53,  3.30s/it]"
     ]
    },
    {
     "name": "stdout",
     "output_type": "stream",
     "text": [
      "\u001b[1m172/172\u001b[0m \u001b[32m━━━━━━━━━━━━━━━━━━━━\u001b[0m\u001b[37m\u001b[0m \u001b[1m0s\u001b[0m 2ms/step\n"
     ]
    },
    {
     "name": "stderr",
     "output_type": "stream",
     "text": [
      " 83%|████████▎ | 439/527 [27:31<04:59,  3.41s/it]"
     ]
    },
    {
     "name": "stdout",
     "output_type": "stream",
     "text": [
      "\u001b[1m174/174\u001b[0m \u001b[32m━━━━━━━━━━━━━━━━━━━━\u001b[0m\u001b[37m\u001b[0m \u001b[1m0s\u001b[0m 3ms/step\n"
     ]
    },
    {
     "name": "stderr",
     "output_type": "stream",
     "text": [
      " 83%|████████▎ | 440/527 [27:35<05:06,  3.52s/it]"
     ]
    },
    {
     "name": "stdout",
     "output_type": "stream",
     "text": [
      "\u001b[1m172/172\u001b[0m \u001b[32m━━━━━━━━━━━━━━━━━━━━\u001b[0m\u001b[37m\u001b[0m \u001b[1m0s\u001b[0m 2ms/step\n"
     ]
    },
    {
     "name": "stderr",
     "output_type": "stream",
     "text": [
      " 84%|████████▎ | 441/527 [27:38<04:52,  3.40s/it]"
     ]
    },
    {
     "name": "stdout",
     "output_type": "stream",
     "text": [
      "\u001b[1m174/174\u001b[0m \u001b[32m━━━━━━━━━━━━━━━━━━━━\u001b[0m\u001b[37m\u001b[0m \u001b[1m0s\u001b[0m 2ms/step\n"
     ]
    },
    {
     "name": "stderr",
     "output_type": "stream",
     "text": [
      " 84%|████████▍ | 442/527 [27:41<04:45,  3.36s/it]"
     ]
    },
    {
     "name": "stdout",
     "output_type": "stream",
     "text": [
      "\u001b[1m171/171\u001b[0m \u001b[32m━━━━━━━━━━━━━━━━━━━━\u001b[0m\u001b[37m\u001b[0m \u001b[1m0s\u001b[0m 2ms/step\n"
     ]
    },
    {
     "name": "stderr",
     "output_type": "stream",
     "text": [
      " 84%|████████▍ | 443/527 [27:45<04:44,  3.39s/it]"
     ]
    },
    {
     "name": "stdout",
     "output_type": "stream",
     "text": [
      "\u001b[1m174/174\u001b[0m \u001b[32m━━━━━━━━━━━━━━━━━━━━\u001b[0m\u001b[37m\u001b[0m \u001b[1m0s\u001b[0m 2ms/step\n"
     ]
    },
    {
     "name": "stderr",
     "output_type": "stream",
     "text": [
      " 84%|████████▍ | 444/527 [27:48<04:40,  3.38s/it]"
     ]
    },
    {
     "name": "stdout",
     "output_type": "stream",
     "text": [
      "\u001b[1m172/172\u001b[0m \u001b[32m━━━━━━━━━━━━━━━━━━━━\u001b[0m\u001b[37m\u001b[0m \u001b[1m0s\u001b[0m 2ms/step\n"
     ]
    },
    {
     "name": "stderr",
     "output_type": "stream",
     "text": [
      " 84%|████████▍ | 445/527 [27:52<04:46,  3.50s/it]"
     ]
    },
    {
     "name": "stdout",
     "output_type": "stream",
     "text": [
      "\u001b[1m173/173\u001b[0m \u001b[32m━━━━━━━━━━━━━━━━━━━━\u001b[0m\u001b[37m\u001b[0m \u001b[1m0s\u001b[0m 1ms/step\n"
     ]
    },
    {
     "name": "stderr",
     "output_type": "stream",
     "text": [
      " 85%|████████▍ | 446/527 [27:55<04:36,  3.41s/it]"
     ]
    },
    {
     "name": "stdout",
     "output_type": "stream",
     "text": [
      "\u001b[1m172/172\u001b[0m \u001b[32m━━━━━━━━━━━━━━━━━━━━\u001b[0m\u001b[37m\u001b[0m \u001b[1m0s\u001b[0m 2ms/step\n"
     ]
    },
    {
     "name": "stderr",
     "output_type": "stream",
     "text": [
      " 85%|████████▍ | 447/527 [27:58<04:26,  3.33s/it]"
     ]
    },
    {
     "name": "stdout",
     "output_type": "stream",
     "text": [
      "\u001b[1m173/173\u001b[0m \u001b[32m━━━━━━━━━━━━━━━━━━━━\u001b[0m\u001b[37m\u001b[0m \u001b[1m0s\u001b[0m 2ms/step\n"
     ]
    },
    {
     "name": "stderr",
     "output_type": "stream",
     "text": [
      " 85%|████████▌ | 448/527 [28:01<04:23,  3.34s/it]"
     ]
    },
    {
     "name": "stdout",
     "output_type": "stream",
     "text": [
      "\u001b[1m176/176\u001b[0m \u001b[32m━━━━━━━━━━━━━━━━━━━━\u001b[0m\u001b[37m\u001b[0m \u001b[1m0s\u001b[0m 2ms/step\n"
     ]
    },
    {
     "name": "stderr",
     "output_type": "stream",
     "text": [
      " 85%|████████▌ | 449/527 [28:05<04:16,  3.29s/it]"
     ]
    },
    {
     "name": "stdout",
     "output_type": "stream",
     "text": [
      "\u001b[1m173/173\u001b[0m \u001b[32m━━━━━━━━━━━━━━━━━━━━\u001b[0m\u001b[37m\u001b[0m \u001b[1m0s\u001b[0m 2ms/step\n"
     ]
    },
    {
     "name": "stderr",
     "output_type": "stream",
     "text": [
      " 85%|████████▌ | 450/527 [28:08<04:12,  3.28s/it]"
     ]
    },
    {
     "name": "stdout",
     "output_type": "stream",
     "text": [
      "\u001b[1m172/172\u001b[0m \u001b[32m━━━━━━━━━━━━━━━━━━━━\u001b[0m\u001b[37m\u001b[0m \u001b[1m0s\u001b[0m 2ms/step\n"
     ]
    },
    {
     "name": "stderr",
     "output_type": "stream",
     "text": [
      " 86%|████████▌ | 451/527 [28:11<04:14,  3.35s/it]"
     ]
    },
    {
     "name": "stdout",
     "output_type": "stream",
     "text": [
      "\u001b[1m171/171\u001b[0m \u001b[32m━━━━━━━━━━━━━━━━━━━━\u001b[0m\u001b[37m\u001b[0m \u001b[1m0s\u001b[0m 2ms/step\n"
     ]
    },
    {
     "name": "stderr",
     "output_type": "stream",
     "text": [
      " 86%|████████▌ | 452/527 [28:15<04:13,  3.38s/it]"
     ]
    },
    {
     "name": "stdout",
     "output_type": "stream",
     "text": [
      "\u001b[1m170/170\u001b[0m \u001b[32m━━━━━━━━━━━━━━━━━━━━\u001b[0m\u001b[37m\u001b[0m \u001b[1m0s\u001b[0m 1ms/step\n"
     ]
    },
    {
     "name": "stderr",
     "output_type": "stream",
     "text": [
      " 86%|████████▌ | 453/527 [28:18<04:12,  3.41s/it]"
     ]
    },
    {
     "name": "stdout",
     "output_type": "stream",
     "text": [
      "\u001b[1m174/174\u001b[0m \u001b[32m━━━━━━━━━━━━━━━━━━━━\u001b[0m\u001b[37m\u001b[0m \u001b[1m0s\u001b[0m 2ms/step\n"
     ]
    },
    {
     "name": "stderr",
     "output_type": "stream",
     "text": [
      " 86%|████████▌ | 454/527 [28:22<04:08,  3.41s/it]"
     ]
    },
    {
     "name": "stdout",
     "output_type": "stream",
     "text": [
      "\u001b[1m174/174\u001b[0m \u001b[32m━━━━━━━━━━━━━━━━━━━━\u001b[0m\u001b[37m\u001b[0m \u001b[1m0s\u001b[0m 2ms/step\n"
     ]
    },
    {
     "name": "stderr",
     "output_type": "stream",
     "text": [
      " 86%|████████▋ | 455/527 [28:25<04:09,  3.47s/it]"
     ]
    },
    {
     "name": "stdout",
     "output_type": "stream",
     "text": [
      "\u001b[1m171/171\u001b[0m \u001b[32m━━━━━━━━━━━━━━━━━━━━\u001b[0m\u001b[37m\u001b[0m \u001b[1m0s\u001b[0m 2ms/step\n"
     ]
    },
    {
     "name": "stderr",
     "output_type": "stream",
     "text": [
      " 87%|████████▋ | 456/527 [28:29<04:07,  3.49s/it]"
     ]
    },
    {
     "name": "stdout",
     "output_type": "stream",
     "text": [
      "\u001b[1m173/173\u001b[0m \u001b[32m━━━━━━━━━━━━━━━━━━━━\u001b[0m\u001b[37m\u001b[0m \u001b[1m0s\u001b[0m 2ms/step\n"
     ]
    },
    {
     "name": "stderr",
     "output_type": "stream",
     "text": [
      " 87%|████████▋ | 457/527 [28:32<04:02,  3.47s/it]"
     ]
    },
    {
     "name": "stdout",
     "output_type": "stream",
     "text": [
      "\u001b[1m171/171\u001b[0m \u001b[32m━━━━━━━━━━━━━━━━━━━━\u001b[0m\u001b[37m\u001b[0m \u001b[1m0s\u001b[0m 2ms/step\n"
     ]
    },
    {
     "name": "stderr",
     "output_type": "stream",
     "text": [
      " 87%|████████▋ | 458/527 [28:36<04:02,  3.52s/it]"
     ]
    },
    {
     "name": "stdout",
     "output_type": "stream",
     "text": [
      "\u001b[1m174/174\u001b[0m \u001b[32m━━━━━━━━━━━━━━━━━━━━\u001b[0m\u001b[37m\u001b[0m \u001b[1m0s\u001b[0m 2ms/step\n"
     ]
    },
    {
     "name": "stderr",
     "output_type": "stream",
     "text": [
      " 87%|████████▋ | 459/527 [28:40<04:02,  3.57s/it]"
     ]
    },
    {
     "name": "stdout",
     "output_type": "stream",
     "text": [
      "\u001b[1m172/172\u001b[0m \u001b[32m━━━━━━━━━━━━━━━━━━━━\u001b[0m\u001b[37m\u001b[0m \u001b[1m0s\u001b[0m 2ms/step\n"
     ]
    },
    {
     "name": "stderr",
     "output_type": "stream",
     "text": [
      " 87%|████████▋ | 460/527 [28:43<03:51,  3.46s/it]"
     ]
    },
    {
     "name": "stdout",
     "output_type": "stream",
     "text": [
      "\u001b[1m177/177\u001b[0m \u001b[32m━━━━━━━━━━━━━━━━━━━━\u001b[0m\u001b[37m\u001b[0m \u001b[1m0s\u001b[0m 2ms/step\n"
     ]
    },
    {
     "name": "stderr",
     "output_type": "stream",
     "text": [
      " 87%|████████▋ | 461/527 [28:46<03:44,  3.40s/it]"
     ]
    },
    {
     "name": "stdout",
     "output_type": "stream",
     "text": [
      "\u001b[1m169/169\u001b[0m \u001b[32m━━━━━━━━━━━━━━━━━━━━\u001b[0m\u001b[37m\u001b[0m \u001b[1m0s\u001b[0m 2ms/step\n"
     ]
    },
    {
     "name": "stderr",
     "output_type": "stream",
     "text": [
      " 88%|████████▊ | 462/527 [28:49<03:38,  3.36s/it]"
     ]
    },
    {
     "name": "stdout",
     "output_type": "stream",
     "text": [
      "\u001b[1m174/174\u001b[0m \u001b[32m━━━━━━━━━━━━━━━━━━━━\u001b[0m\u001b[37m\u001b[0m \u001b[1m0s\u001b[0m 2ms/step\n"
     ]
    },
    {
     "name": "stderr",
     "output_type": "stream",
     "text": [
      " 88%|████████▊ | 463/527 [28:53<03:39,  3.43s/it]"
     ]
    },
    {
     "name": "stdout",
     "output_type": "stream",
     "text": [
      "\u001b[1m174/174\u001b[0m \u001b[32m━━━━━━━━━━━━━━━━━━━━\u001b[0m\u001b[37m\u001b[0m \u001b[1m0s\u001b[0m 2ms/step\n"
     ]
    },
    {
     "name": "stderr",
     "output_type": "stream",
     "text": [
      " 88%|████████▊ | 464/527 [28:56<03:34,  3.40s/it]"
     ]
    },
    {
     "name": "stdout",
     "output_type": "stream",
     "text": [
      "\u001b[1m170/170\u001b[0m \u001b[32m━━━━━━━━━━━━━━━━━━━━\u001b[0m\u001b[37m\u001b[0m \u001b[1m0s\u001b[0m 1ms/step\n"
     ]
    },
    {
     "name": "stderr",
     "output_type": "stream",
     "text": [
      " 88%|████████▊ | 465/527 [29:00<03:31,  3.42s/it]"
     ]
    },
    {
     "name": "stdout",
     "output_type": "stream",
     "text": [
      "\u001b[1m162/162\u001b[0m \u001b[32m━━━━━━━━━━━━━━━━━━━━\u001b[0m\u001b[37m\u001b[0m \u001b[1m0s\u001b[0m 2ms/step\n"
     ]
    },
    {
     "name": "stderr",
     "output_type": "stream",
     "text": [
      " 88%|████████▊ | 466/527 [29:03<03:21,  3.30s/it]"
     ]
    },
    {
     "name": "stdout",
     "output_type": "stream",
     "text": [
      "\u001b[1m171/171\u001b[0m \u001b[32m━━━━━━━━━━━━━━━━━━━━\u001b[0m\u001b[37m\u001b[0m \u001b[1m0s\u001b[0m 2ms/step\n"
     ]
    },
    {
     "name": "stderr",
     "output_type": "stream",
     "text": [
      " 89%|████████▊ | 467/527 [29:06<03:17,  3.30s/it]"
     ]
    },
    {
     "name": "stdout",
     "output_type": "stream",
     "text": [
      "\u001b[1m174/174\u001b[0m \u001b[32m━━━━━━━━━━━━━━━━━━━━\u001b[0m\u001b[37m\u001b[0m \u001b[1m0s\u001b[0m 2ms/step\n"
     ]
    },
    {
     "name": "stderr",
     "output_type": "stream",
     "text": [
      " 89%|████████▉ | 468/527 [29:09<03:15,  3.31s/it]"
     ]
    },
    {
     "name": "stdout",
     "output_type": "stream",
     "text": [
      "\u001b[1m170/170\u001b[0m \u001b[32m━━━━━━━━━━━━━━━━━━━━\u001b[0m\u001b[37m\u001b[0m \u001b[1m0s\u001b[0m 1ms/step\n"
     ]
    },
    {
     "name": "stderr",
     "output_type": "stream",
     "text": [
      " 89%|████████▉ | 469/527 [29:12<03:06,  3.22s/it]"
     ]
    },
    {
     "name": "stdout",
     "output_type": "stream",
     "text": [
      "\u001b[1m173/173\u001b[0m \u001b[32m━━━━━━━━━━━━━━━━━━━━\u001b[0m\u001b[37m\u001b[0m \u001b[1m0s\u001b[0m 2ms/step\n"
     ]
    },
    {
     "name": "stderr",
     "output_type": "stream",
     "text": [
      " 89%|████████▉ | 470/527 [29:16<03:04,  3.24s/it]"
     ]
    },
    {
     "name": "stdout",
     "output_type": "stream",
     "text": [
      "\u001b[1m164/164\u001b[0m \u001b[32m━━━━━━━━━━━━━━━━━━━━\u001b[0m\u001b[37m\u001b[0m \u001b[1m0s\u001b[0m 2ms/step\n"
     ]
    },
    {
     "name": "stderr",
     "output_type": "stream",
     "text": [
      " 89%|████████▉ | 471/527 [29:19<03:03,  3.28s/it]"
     ]
    },
    {
     "name": "stdout",
     "output_type": "stream",
     "text": [
      "\u001b[1m175/175\u001b[0m \u001b[32m━━━━━━━━━━━━━━━━━━━━\u001b[0m\u001b[37m\u001b[0m \u001b[1m0s\u001b[0m 2ms/step\n"
     ]
    },
    {
     "name": "stderr",
     "output_type": "stream",
     "text": [
      " 90%|████████▉ | 472/527 [29:22<03:02,  3.32s/it]"
     ]
    },
    {
     "name": "stdout",
     "output_type": "stream",
     "text": [
      "\u001b[1m173/173\u001b[0m \u001b[32m━━━━━━━━━━━━━━━━━━━━\u001b[0m\u001b[37m\u001b[0m \u001b[1m0s\u001b[0m 2ms/step\n"
     ]
    },
    {
     "name": "stderr",
     "output_type": "stream",
     "text": [
      " 90%|████████▉ | 473/527 [29:26<03:07,  3.47s/it]"
     ]
    },
    {
     "name": "stdout",
     "output_type": "stream",
     "text": [
      "\u001b[1m174/174\u001b[0m \u001b[32m━━━━━━━━━━━━━━━━━━━━\u001b[0m\u001b[37m\u001b[0m \u001b[1m0s\u001b[0m 2ms/step\n"
     ]
    },
    {
     "name": "stderr",
     "output_type": "stream",
     "text": [
      " 90%|████████▉ | 474/527 [29:30<03:01,  3.42s/it]"
     ]
    },
    {
     "name": "stdout",
     "output_type": "stream",
     "text": [
      "\u001b[1m171/171\u001b[0m \u001b[32m━━━━━━━━━━━━━━━━━━━━\u001b[0m\u001b[37m\u001b[0m \u001b[1m0s\u001b[0m 2ms/step\n"
     ]
    },
    {
     "name": "stderr",
     "output_type": "stream",
     "text": [
      " 90%|█████████ | 475/527 [29:33<02:54,  3.36s/it]"
     ]
    },
    {
     "name": "stdout",
     "output_type": "stream",
     "text": [
      "\u001b[1m178/178\u001b[0m \u001b[32m━━━━━━━━━━━━━━━━━━━━\u001b[0m\u001b[37m\u001b[0m \u001b[1m0s\u001b[0m 2ms/step\n"
     ]
    },
    {
     "name": "stderr",
     "output_type": "stream",
     "text": [
      " 90%|█████████ | 476/527 [29:36<02:51,  3.36s/it]"
     ]
    },
    {
     "name": "stdout",
     "output_type": "stream",
     "text": [
      "\u001b[1m171/171\u001b[0m \u001b[32m━━━━━━━━━━━━━━━━━━━━\u001b[0m\u001b[37m\u001b[0m \u001b[1m0s\u001b[0m 1ms/step\n"
     ]
    },
    {
     "name": "stderr",
     "output_type": "stream",
     "text": [
      " 91%|█████████ | 477/527 [29:40<02:48,  3.37s/it]"
     ]
    },
    {
     "name": "stdout",
     "output_type": "stream",
     "text": [
      "\u001b[1m173/173\u001b[0m \u001b[32m━━━━━━━━━━━━━━━━━━━━\u001b[0m\u001b[37m\u001b[0m \u001b[1m0s\u001b[0m 2ms/step\n"
     ]
    },
    {
     "name": "stderr",
     "output_type": "stream",
     "text": [
      " 91%|█████████ | 478/527 [29:43<02:47,  3.42s/it]"
     ]
    },
    {
     "name": "stdout",
     "output_type": "stream",
     "text": [
      "\u001b[1m173/173\u001b[0m \u001b[32m━━━━━━━━━━━━━━━━━━━━\u001b[0m\u001b[37m\u001b[0m \u001b[1m0s\u001b[0m 2ms/step\n"
     ]
    },
    {
     "name": "stderr",
     "output_type": "stream",
     "text": [
      " 91%|█████████ | 479/527 [29:46<02:42,  3.39s/it]"
     ]
    },
    {
     "name": "stdout",
     "output_type": "stream",
     "text": [
      "\u001b[1m173/173\u001b[0m \u001b[32m━━━━━━━━━━━━━━━━━━━━\u001b[0m\u001b[37m\u001b[0m \u001b[1m0s\u001b[0m 2ms/step\n"
     ]
    },
    {
     "name": "stderr",
     "output_type": "stream",
     "text": [
      " 91%|█████████ | 480/527 [29:50<02:39,  3.40s/it]"
     ]
    },
    {
     "name": "stdout",
     "output_type": "stream",
     "text": [
      "\u001b[1m174/174\u001b[0m \u001b[32m━━━━━━━━━━━━━━━━━━━━\u001b[0m\u001b[37m\u001b[0m \u001b[1m0s\u001b[0m 1ms/step\n"
     ]
    },
    {
     "name": "stderr",
     "output_type": "stream",
     "text": [
      " 91%|█████████▏| 481/527 [29:53<02:38,  3.45s/it]"
     ]
    },
    {
     "name": "stdout",
     "output_type": "stream",
     "text": [
      "\u001b[1m172/172\u001b[0m \u001b[32m━━━━━━━━━━━━━━━━━━━━\u001b[0m\u001b[37m\u001b[0m \u001b[1m0s\u001b[0m 2ms/step\n"
     ]
    },
    {
     "name": "stderr",
     "output_type": "stream",
     "text": [
      " 91%|█████████▏| 482/527 [29:57<02:33,  3.42s/it]"
     ]
    },
    {
     "name": "stdout",
     "output_type": "stream",
     "text": [
      "\u001b[1m173/173\u001b[0m \u001b[32m━━━━━━━━━━━━━━━━━━━━\u001b[0m\u001b[37m\u001b[0m \u001b[1m0s\u001b[0m 2ms/step\n"
     ]
    },
    {
     "name": "stderr",
     "output_type": "stream",
     "text": [
      " 92%|█████████▏| 483/527 [30:00<02:29,  3.41s/it]"
     ]
    },
    {
     "name": "stdout",
     "output_type": "stream",
     "text": [
      "\u001b[1m171/171\u001b[0m \u001b[32m━━━━━━━━━━━━━━━━━━━━\u001b[0m\u001b[37m\u001b[0m \u001b[1m0s\u001b[0m 2ms/step\n"
     ]
    },
    {
     "name": "stderr",
     "output_type": "stream",
     "text": [
      " 92%|█████████▏| 484/527 [30:04<02:28,  3.46s/it]"
     ]
    },
    {
     "name": "stdout",
     "output_type": "stream",
     "text": [
      "\u001b[1m173/173\u001b[0m \u001b[32m━━━━━━━━━━━━━━━━━━━━\u001b[0m\u001b[37m\u001b[0m \u001b[1m0s\u001b[0m 1ms/step\n"
     ]
    },
    {
     "name": "stderr",
     "output_type": "stream",
     "text": [
      " 92%|█████████▏| 485/527 [30:07<02:27,  3.52s/it]"
     ]
    },
    {
     "name": "stdout",
     "output_type": "stream",
     "text": [
      "\u001b[1m176/176\u001b[0m \u001b[32m━━━━━━━━━━━━━━━━━━━━\u001b[0m\u001b[37m\u001b[0m \u001b[1m0s\u001b[0m 2ms/step\n"
     ]
    },
    {
     "name": "stderr",
     "output_type": "stream",
     "text": [
      " 92%|█████████▏| 486/527 [30:11<02:23,  3.50s/it]"
     ]
    },
    {
     "name": "stdout",
     "output_type": "stream",
     "text": [
      "\u001b[1m169/169\u001b[0m \u001b[32m━━━━━━━━━━━━━━━━━━━━\u001b[0m\u001b[37m\u001b[0m \u001b[1m0s\u001b[0m 2ms/step\n"
     ]
    },
    {
     "name": "stderr",
     "output_type": "stream",
     "text": [
      " 92%|█████████▏| 487/527 [30:14<02:18,  3.46s/it]"
     ]
    },
    {
     "name": "stdout",
     "output_type": "stream",
     "text": [
      "\u001b[1m174/174\u001b[0m \u001b[32m━━━━━━━━━━━━━━━━━━━━\u001b[0m\u001b[37m\u001b[0m \u001b[1m0s\u001b[0m 1ms/step\n"
     ]
    },
    {
     "name": "stderr",
     "output_type": "stream",
     "text": [
      " 93%|█████████▎| 488/527 [30:17<02:10,  3.35s/it]"
     ]
    },
    {
     "name": "stdout",
     "output_type": "stream",
     "text": [
      "\u001b[1m172/172\u001b[0m \u001b[32m━━━━━━━━━━━━━━━━━━━━\u001b[0m\u001b[37m\u001b[0m \u001b[1m0s\u001b[0m 2ms/step\n"
     ]
    },
    {
     "name": "stderr",
     "output_type": "stream",
     "text": [
      " 93%|█████████▎| 489/527 [30:21<02:05,  3.31s/it]"
     ]
    },
    {
     "name": "stdout",
     "output_type": "stream",
     "text": [
      "\u001b[1m172/172\u001b[0m \u001b[32m━━━━━━━━━━━━━━━━━━━━\u001b[0m\u001b[37m\u001b[0m \u001b[1m0s\u001b[0m 2ms/step\n"
     ]
    },
    {
     "name": "stderr",
     "output_type": "stream",
     "text": [
      " 93%|█████████▎| 490/527 [30:24<02:01,  3.27s/it]"
     ]
    },
    {
     "name": "stdout",
     "output_type": "stream",
     "text": [
      "\u001b[1m172/172\u001b[0m \u001b[32m━━━━━━━━━━━━━━━━━━━━\u001b[0m\u001b[37m\u001b[0m \u001b[1m0s\u001b[0m 1ms/step\n"
     ]
    },
    {
     "name": "stderr",
     "output_type": "stream",
     "text": [
      " 93%|█████████▎| 491/527 [30:27<02:02,  3.41s/it]"
     ]
    },
    {
     "name": "stdout",
     "output_type": "stream",
     "text": [
      "\u001b[1m172/172\u001b[0m \u001b[32m━━━━━━━━━━━━━━━━━━━━\u001b[0m\u001b[37m\u001b[0m \u001b[1m0s\u001b[0m 2ms/step\n"
     ]
    },
    {
     "name": "stderr",
     "output_type": "stream",
     "text": [
      " 93%|█████████▎| 492/527 [30:31<01:58,  3.40s/it]"
     ]
    },
    {
     "name": "stdout",
     "output_type": "stream",
     "text": [
      "\u001b[1m175/175\u001b[0m \u001b[32m━━━━━━━━━━━━━━━━━━━━\u001b[0m\u001b[37m\u001b[0m \u001b[1m0s\u001b[0m 2ms/step\n"
     ]
    },
    {
     "name": "stderr",
     "output_type": "stream",
     "text": [
      " 94%|█████████▎| 493/527 [30:34<01:53,  3.35s/it]"
     ]
    },
    {
     "name": "stdout",
     "output_type": "stream",
     "text": [
      "\u001b[1m173/173\u001b[0m \u001b[32m━━━━━━━━━━━━━━━━━━━━\u001b[0m\u001b[37m\u001b[0m \u001b[1m0s\u001b[0m 1ms/step\n"
     ]
    },
    {
     "name": "stderr",
     "output_type": "stream",
     "text": [
      " 94%|█████████▎| 494/527 [30:37<01:51,  3.37s/it]"
     ]
    },
    {
     "name": "stdout",
     "output_type": "stream",
     "text": [
      "\u001b[1m174/174\u001b[0m \u001b[32m━━━━━━━━━━━━━━━━━━━━\u001b[0m\u001b[37m\u001b[0m \u001b[1m0s\u001b[0m 2ms/step\n"
     ]
    },
    {
     "name": "stderr",
     "output_type": "stream",
     "text": [
      " 94%|█████████▍| 495/527 [30:41<01:47,  3.35s/it]"
     ]
    },
    {
     "name": "stdout",
     "output_type": "stream",
     "text": [
      "\u001b[1m174/174\u001b[0m \u001b[32m━━━━━━━━━━━━━━━━━━━━\u001b[0m\u001b[37m\u001b[0m \u001b[1m0s\u001b[0m 1ms/step\n"
     ]
    },
    {
     "name": "stderr",
     "output_type": "stream",
     "text": [
      " 94%|█████████▍| 496/527 [30:44<01:41,  3.27s/it]"
     ]
    },
    {
     "name": "stdout",
     "output_type": "stream",
     "text": [
      "\u001b[1m171/171\u001b[0m \u001b[32m━━━━━━━━━━━━━━━━━━━━\u001b[0m\u001b[37m\u001b[0m \u001b[1m0s\u001b[0m 2ms/step\n"
     ]
    },
    {
     "name": "stderr",
     "output_type": "stream",
     "text": [
      " 94%|█████████▍| 497/527 [30:47<01:39,  3.32s/it]"
     ]
    },
    {
     "name": "stdout",
     "output_type": "stream",
     "text": [
      "\u001b[1m172/172\u001b[0m \u001b[32m━━━━━━━━━━━━━━━━━━━━\u001b[0m\u001b[37m\u001b[0m \u001b[1m0s\u001b[0m 2ms/step\n"
     ]
    },
    {
     "name": "stderr",
     "output_type": "stream",
     "text": [
      " 94%|█████████▍| 498/527 [30:51<01:36,  3.31s/it]"
     ]
    },
    {
     "name": "stdout",
     "output_type": "stream",
     "text": [
      "\u001b[1m173/173\u001b[0m \u001b[32m━━━━━━━━━━━━━━━━━━━━\u001b[0m\u001b[37m\u001b[0m \u001b[1m0s\u001b[0m 1ms/step\n"
     ]
    },
    {
     "name": "stderr",
     "output_type": "stream",
     "text": [
      " 95%|█████████▍| 499/527 [30:54<01:31,  3.27s/it]"
     ]
    },
    {
     "name": "stdout",
     "output_type": "stream",
     "text": [
      "\u001b[1m171/171\u001b[0m \u001b[32m━━━━━━━━━━━━━━━━━━━━\u001b[0m\u001b[37m\u001b[0m \u001b[1m0s\u001b[0m 2ms/step\n"
     ]
    },
    {
     "name": "stderr",
     "output_type": "stream",
     "text": [
      " 95%|█████████▍| 500/527 [30:57<01:26,  3.22s/it]"
     ]
    },
    {
     "name": "stdout",
     "output_type": "stream",
     "text": [
      "\u001b[1m169/169\u001b[0m \u001b[32m━━━━━━━━━━━━━━━━━━━━\u001b[0m\u001b[37m\u001b[0m \u001b[1m0s\u001b[0m 2ms/step\n"
     ]
    },
    {
     "name": "stderr",
     "output_type": "stream",
     "text": [
      " 95%|█████████▌| 501/527 [31:00<01:24,  3.23s/it]"
     ]
    },
    {
     "name": "stdout",
     "output_type": "stream",
     "text": [
      "\u001b[1m172/172\u001b[0m \u001b[32m━━━━━━━━━━━━━━━━━━━━\u001b[0m\u001b[37m\u001b[0m \u001b[1m0s\u001b[0m 2ms/step\n"
     ]
    },
    {
     "name": "stderr",
     "output_type": "stream",
     "text": [
      " 95%|█████████▌| 502/527 [31:04<01:22,  3.29s/it]"
     ]
    },
    {
     "name": "stdout",
     "output_type": "stream",
     "text": [
      "\u001b[1m170/170\u001b[0m \u001b[32m━━━━━━━━━━━━━━━━━━━━\u001b[0m\u001b[37m\u001b[0m \u001b[1m0s\u001b[0m 1ms/step\n"
     ]
    },
    {
     "name": "stderr",
     "output_type": "stream",
     "text": [
      " 95%|█████████▌| 503/527 [31:07<01:19,  3.29s/it]"
     ]
    },
    {
     "name": "stdout",
     "output_type": "stream",
     "text": [
      "\u001b[1m172/172\u001b[0m \u001b[32m━━━━━━━━━━━━━━━━━━━━\u001b[0m\u001b[37m\u001b[0m \u001b[1m0s\u001b[0m 2ms/step\n"
     ]
    },
    {
     "name": "stderr",
     "output_type": "stream",
     "text": [
      " 96%|█████████▌| 504/527 [31:10<01:15,  3.29s/it]"
     ]
    },
    {
     "name": "stdout",
     "output_type": "stream",
     "text": [
      "\u001b[1m171/171\u001b[0m \u001b[32m━━━━━━━━━━━━━━━━━━━━\u001b[0m\u001b[37m\u001b[0m \u001b[1m0s\u001b[0m 1ms/step\n"
     ]
    },
    {
     "name": "stderr",
     "output_type": "stream",
     "text": [
      " 96%|█████████▌| 505/527 [31:13<01:12,  3.28s/it]"
     ]
    },
    {
     "name": "stdout",
     "output_type": "stream",
     "text": [
      "\u001b[1m172/172\u001b[0m \u001b[32m━━━━━━━━━━━━━━━━━━━━\u001b[0m\u001b[37m\u001b[0m \u001b[1m0s\u001b[0m 2ms/step\n"
     ]
    },
    {
     "name": "stderr",
     "output_type": "stream",
     "text": [
      " 96%|█████████▌| 506/527 [31:17<01:08,  3.28s/it]"
     ]
    },
    {
     "name": "stdout",
     "output_type": "stream",
     "text": [
      "\u001b[1m173/173\u001b[0m \u001b[32m━━━━━━━━━━━━━━━━━━━━\u001b[0m\u001b[37m\u001b[0m \u001b[1m0s\u001b[0m 2ms/step\n"
     ]
    },
    {
     "name": "stderr",
     "output_type": "stream",
     "text": [
      " 96%|█████████▌| 507/527 [31:20<01:06,  3.31s/it]"
     ]
    },
    {
     "name": "stdout",
     "output_type": "stream",
     "text": [
      "\u001b[1m175/175\u001b[0m \u001b[32m━━━━━━━━━━━━━━━━━━━━\u001b[0m\u001b[37m\u001b[0m \u001b[1m0s\u001b[0m 2ms/step\n"
     ]
    },
    {
     "name": "stderr",
     "output_type": "stream",
     "text": [
      " 96%|█████████▋| 508/527 [31:23<01:03,  3.34s/it]"
     ]
    },
    {
     "name": "stdout",
     "output_type": "stream",
     "text": [
      "\u001b[1m171/171\u001b[0m \u001b[32m━━━━━━━━━━━━━━━━━━━━\u001b[0m\u001b[37m\u001b[0m \u001b[1m0s\u001b[0m 2ms/step\n"
     ]
    },
    {
     "name": "stderr",
     "output_type": "stream",
     "text": [
      " 97%|█████████▋| 509/527 [31:27<01:01,  3.42s/it]"
     ]
    },
    {
     "name": "stdout",
     "output_type": "stream",
     "text": [
      "\u001b[1m174/174\u001b[0m \u001b[32m━━━━━━━━━━━━━━━━━━━━\u001b[0m\u001b[37m\u001b[0m \u001b[1m0s\u001b[0m 2ms/step\n"
     ]
    },
    {
     "name": "stderr",
     "output_type": "stream",
     "text": [
      " 97%|█████████▋| 510/527 [31:31<00:59,  3.52s/it]"
     ]
    },
    {
     "name": "stdout",
     "output_type": "stream",
     "text": [
      "\u001b[1m157/157\u001b[0m \u001b[32m━━━━━━━━━━━━━━━━━━━━\u001b[0m\u001b[37m\u001b[0m \u001b[1m0s\u001b[0m 1ms/step\n"
     ]
    },
    {
     "name": "stderr",
     "output_type": "stream",
     "text": [
      " 97%|█████████▋| 511/527 [31:34<00:54,  3.41s/it]"
     ]
    },
    {
     "name": "stdout",
     "output_type": "stream",
     "text": [
      "\u001b[1m172/172\u001b[0m \u001b[32m━━━━━━━━━━━━━━━━━━━━\u001b[0m\u001b[37m\u001b[0m \u001b[1m0s\u001b[0m 2ms/step\n"
     ]
    },
    {
     "name": "stderr",
     "output_type": "stream",
     "text": [
      " 97%|█████████▋| 512/527 [31:38<00:52,  3.50s/it]"
     ]
    },
    {
     "name": "stdout",
     "output_type": "stream",
     "text": [
      "\u001b[1m176/176\u001b[0m \u001b[32m━━━━━━━━━━━━━━━━━━━━\u001b[0m\u001b[37m\u001b[0m \u001b[1m0s\u001b[0m 1ms/step\n"
     ]
    },
    {
     "name": "stderr",
     "output_type": "stream",
     "text": [
      " 97%|█████████▋| 513/527 [31:41<00:49,  3.55s/it]"
     ]
    },
    {
     "name": "stdout",
     "output_type": "stream",
     "text": [
      "\u001b[1m173/173\u001b[0m \u001b[32m━━━━━━━━━━━━━━━━━━━━\u001b[0m\u001b[37m\u001b[0m \u001b[1m0s\u001b[0m 2ms/step\n"
     ]
    },
    {
     "name": "stderr",
     "output_type": "stream",
     "text": [
      " 98%|█████████▊| 514/527 [31:45<00:45,  3.49s/it]"
     ]
    },
    {
     "name": "stdout",
     "output_type": "stream",
     "text": [
      "\u001b[1m173/173\u001b[0m \u001b[32m━━━━━━━━━━━━━━━━━━━━\u001b[0m\u001b[37m\u001b[0m \u001b[1m0s\u001b[0m 2ms/step\n"
     ]
    },
    {
     "name": "stderr",
     "output_type": "stream",
     "text": [
      " 98%|█████████▊| 515/527 [31:48<00:42,  3.52s/it]"
     ]
    },
    {
     "name": "stdout",
     "output_type": "stream",
     "text": [
      "\u001b[1m171/171\u001b[0m \u001b[32m━━━━━━━━━━━━━━━━━━━━\u001b[0m\u001b[37m\u001b[0m \u001b[1m0s\u001b[0m 1ms/step\n"
     ]
    },
    {
     "name": "stderr",
     "output_type": "stream",
     "text": [
      " 98%|█████████▊| 516/527 [31:52<00:38,  3.46s/it]"
     ]
    },
    {
     "name": "stdout",
     "output_type": "stream",
     "text": [
      "\u001b[1m170/170\u001b[0m \u001b[32m━━━━━━━━━━━━━━━━━━━━\u001b[0m\u001b[37m\u001b[0m \u001b[1m0s\u001b[0m 2ms/step\n"
     ]
    },
    {
     "name": "stderr",
     "output_type": "stream",
     "text": [
      " 98%|█████████▊| 517/527 [31:55<00:35,  3.51s/it]"
     ]
    },
    {
     "name": "stdout",
     "output_type": "stream",
     "text": [
      "\u001b[1m172/172\u001b[0m \u001b[32m━━━━━━━━━━━━━━━━━━━━\u001b[0m\u001b[37m\u001b[0m \u001b[1m0s\u001b[0m 1ms/step\n"
     ]
    },
    {
     "name": "stderr",
     "output_type": "stream",
     "text": [
      " 98%|█████████▊| 518/527 [31:59<00:31,  3.46s/it]"
     ]
    },
    {
     "name": "stdout",
     "output_type": "stream",
     "text": [
      "\u001b[1m170/170\u001b[0m \u001b[32m━━━━━━━━━━━━━━━━━━━━\u001b[0m\u001b[37m\u001b[0m \u001b[1m0s\u001b[0m 1ms/step\n"
     ]
    },
    {
     "name": "stderr",
     "output_type": "stream",
     "text": [
      " 98%|█████████▊| 519/527 [32:02<00:27,  3.40s/it]"
     ]
    },
    {
     "name": "stdout",
     "output_type": "stream",
     "text": [
      "\u001b[1m172/172\u001b[0m \u001b[32m━━━━━━━━━━━━━━━━━━━━\u001b[0m\u001b[37m\u001b[0m \u001b[1m0s\u001b[0m 2ms/step\n"
     ]
    },
    {
     "name": "stderr",
     "output_type": "stream",
     "text": [
      " 99%|█████████▊| 520/527 [32:05<00:24,  3.46s/it]"
     ]
    },
    {
     "name": "stdout",
     "output_type": "stream",
     "text": [
      "\u001b[1m173/173\u001b[0m \u001b[32m━━━━━━━━━━━━━━━━━━━━\u001b[0m\u001b[37m\u001b[0m \u001b[1m0s\u001b[0m 1ms/step\n"
     ]
    },
    {
     "name": "stderr",
     "output_type": "stream",
     "text": [
      " 99%|█████████▉| 521/527 [32:09<00:20,  3.39s/it]"
     ]
    },
    {
     "name": "stdout",
     "output_type": "stream",
     "text": [
      "\u001b[1m170/170\u001b[0m \u001b[32m━━━━━━━━━━━━━━━━━━━━\u001b[0m\u001b[37m\u001b[0m \u001b[1m0s\u001b[0m 2ms/step\n"
     ]
    },
    {
     "name": "stderr",
     "output_type": "stream",
     "text": [
      " 99%|█████████▉| 522/527 [32:12<00:16,  3.39s/it]"
     ]
    },
    {
     "name": "stdout",
     "output_type": "stream",
     "text": [
      "\u001b[1m174/174\u001b[0m \u001b[32m━━━━━━━━━━━━━━━━━━━━\u001b[0m\u001b[37m\u001b[0m \u001b[1m0s\u001b[0m 2ms/step\n"
     ]
    },
    {
     "name": "stderr",
     "output_type": "stream",
     "text": [
      " 99%|█████████▉| 523/527 [32:15<00:13,  3.37s/it]"
     ]
    },
    {
     "name": "stdout",
     "output_type": "stream",
     "text": [
      "\u001b[1m175/175\u001b[0m \u001b[32m━━━━━━━━━━━━━━━━━━━━\u001b[0m\u001b[37m\u001b[0m \u001b[1m0s\u001b[0m 2ms/step\n"
     ]
    },
    {
     "name": "stderr",
     "output_type": "stream",
     "text": [
      " 99%|█████████▉| 524/527 [32:19<00:10,  3.33s/it]"
     ]
    },
    {
     "name": "stdout",
     "output_type": "stream",
     "text": [
      "\u001b[1m175/175\u001b[0m \u001b[32m━━━━━━━━━━━━━━━━━━━━\u001b[0m\u001b[37m\u001b[0m \u001b[1m0s\u001b[0m 2ms/step\n"
     ]
    },
    {
     "name": "stderr",
     "output_type": "stream",
     "text": [
      "100%|█████████▉| 525/527 [32:22<00:06,  3.36s/it]"
     ]
    },
    {
     "name": "stdout",
     "output_type": "stream",
     "text": [
      "\u001b[1m172/172\u001b[0m \u001b[32m━━━━━━━━━━━━━━━━━━━━\u001b[0m\u001b[37m\u001b[0m \u001b[1m0s\u001b[0m 2ms/step\n"
     ]
    },
    {
     "name": "stderr",
     "output_type": "stream",
     "text": [
      "100%|█████████▉| 526/527 [32:26<00:03,  3.41s/it]"
     ]
    },
    {
     "name": "stdout",
     "output_type": "stream",
     "text": [
      "\u001b[1m172/172\u001b[0m \u001b[32m━━━━━━━━━━━━━━━━━━━━\u001b[0m\u001b[37m\u001b[0m \u001b[1m0s\u001b[0m 2ms/step\n"
     ]
    },
    {
     "name": "stderr",
     "output_type": "stream",
     "text": [
      "100%|██████████| 527/527 [32:29<00:00,  3.70s/it]\n"
     ]
    }
   ],
   "source": [
    "# Use tqdm for a progress bar\n",
    "for user_id in tqdm(df_candidates['user_id'].unique()):\n",
    "\n",
    "    # Subset data for this user\n",
    "    user_df = df_candidates[df_candidates['user_id'] == user_id]\n",
    "\n",
    "    # Get business_ids for the user\n",
    "    business_ids = user_df['business_id'].tolist()\n",
    "    business_ids = list(set(business_ids))\n",
    "    \n",
    "    user_info = retrieve_user_info(user_id)\n",
    "    business_info = retrieve_business_info(business_ids)\n",
    "    \n",
    "    # Call your DeepFM rank function (assumes it returns sorted list of (business_id, score))\n",
    "    try:\n",
    "        ranked_results = DeepFM_rank_top_k(user_id, business_ids, user_info, business_info, k=1000)\n",
    "        # top_k=None means keep full sorted list; or set top_k=100 if you want only top 100\n",
    "    except Exception as e:\n",
    "        print(f\"Error ranking user {user_id}: {e}\")\n",
    "        continue\n",
    "\n",
    "    # Turn into DataFrame for merging\n",
    "    ranked_df = pd.DataFrame(ranked_results, columns=['business_id', 'score'])\n",
    "    ranked_df['user_id'] = user_id\n",
    "\n",
    "    # Optional: Add original label for evaluation later\n",
    "    ranked_df = ranked_df.merge(user_df[['business_id', 'real_label']], on='business_id', how='left')\n",
    "\n",
    "    all_ranked_results.append(ranked_df)\n"
   ]
  },
  {
   "cell_type": "markdown",
   "id": "8da537b7",
   "metadata": {},
   "source": [
    "### save the result"
   ]
  },
  {
   "cell_type": "code",
   "execution_count": 57,
   "id": "2026f103",
   "metadata": {},
   "outputs": [
    {
     "data": {
      "text/plain": [
       "[                 business_id     score                 user_id  real_label\n",
       " 0     ytynqOUb3hjKeJfRj5Tshw  5.222930  --4AjktZiHowEIBCMd4CZA           0\n",
       " 1     -fs09akgCKv5rTTy7iUHUg  5.119537  --4AjktZiHowEIBCMd4CZA           0\n",
       " 2     TE2IEDNV0RcI6s1wTOP4fg  5.111618  --4AjktZiHowEIBCMd4CZA           0\n",
       " 3     KTGEa8V9ec0QBYM_uk1YLQ  5.106303  --4AjktZiHowEIBCMd4CZA           0\n",
       " 4     ctHjyadbDQAtUFfkcAFEHw  5.100107  --4AjktZiHowEIBCMd4CZA           0\n",
       " ...                      ...       ...                     ...         ...\n",
       " 1090  jcnKA1gG7Tek_UT2zWBI6w  4.576748  --4AjktZiHowEIBCMd4CZA           0\n",
       " 1091  t5T6NYFsOqnYl0NETDgj7g  4.576547  --4AjktZiHowEIBCMd4CZA           0\n",
       " 1092  IvAa7PvfOYl0xRML5W3ebg  4.576479  --4AjktZiHowEIBCMd4CZA           0\n",
       " 1093  IvAa7PvfOYl0xRML5W3ebg  4.576479  --4AjktZiHowEIBCMd4CZA           0\n",
       " 1094  Gt_MCSfwCSUDDhncJlxx3g  4.576457  --4AjktZiHowEIBCMd4CZA           0\n",
       " \n",
       " [1095 rows x 4 columns],\n",
       "                  business_id     score                 user_id  real_label\n",
       " 0     -fs09akgCKv5rTTy7iUHUg  4.883313  --KsuCSkGGvDKTbdK9NvIg           0\n",
       " 1     5tK4y67IUn3eDd3S1bka9Q  4.810826  --KsuCSkGGvDKTbdK9NvIg           0\n",
       " 2     atZ_olNKXOG4rEr6mccN8g  4.785559  --KsuCSkGGvDKTbdK9NvIg           0\n",
       " 3     XJvOamdhTQI65jmzTfreDQ  4.763931  --KsuCSkGGvDKTbdK9NvIg           0\n",
       " 4     Bk6uzC83wbmCHm2i5Uz8OA  4.762577  --KsuCSkGGvDKTbdK9NvIg           0\n",
       " ...                      ...       ...                     ...         ...\n",
       " 1097  b1J5Vb1fD4FzL23YLnDeDQ  4.290359  --KsuCSkGGvDKTbdK9NvIg           0\n",
       " 1098  ETvQRNrOnXgUmURB2A3cQA  4.290177  --KsuCSkGGvDKTbdK9NvIg           0\n",
       " 1099  XkshTwAF5Nu-mDaZhYuQvQ  4.290154  --KsuCSkGGvDKTbdK9NvIg           0\n",
       " 1100  cbEDBhFvYjP0Qw8v_5rBDA  4.289912  --KsuCSkGGvDKTbdK9NvIg           0\n",
       " 1101  rbPK4jSyFS10zhWYvo_Srg  4.289910  --KsuCSkGGvDKTbdK9NvIg           0\n",
       " \n",
       " [1102 rows x 4 columns],\n",
       "                 business_id     score                 user_id  real_label\n",
       " 0    ytynqOUb3hjKeJfRj5Tshw  5.347262  --Vu3Gux9nPnLcG9yO_HxA           0\n",
       " 1    -fs09akgCKv5rTTy7iUHUg  5.234057  --Vu3Gux9nPnLcG9yO_HxA           0\n",
       " 2    KTGEa8V9ec0QBYM_uk1YLQ  5.220840  --Vu3Gux9nPnLcG9yO_HxA           0\n",
       " 3    o_N7HiU3f6cVvrJAFrE43A  5.206545  --Vu3Gux9nPnLcG9yO_HxA           0\n",
       " 4    zLm2PaYrpHkcr63ekwvtBQ  5.198548  --Vu3Gux9nPnLcG9yO_HxA           0\n",
       " ..                      ...       ...                     ...         ...\n",
       " 995  ROnkVXPz5jRlMQvLw05UEA  4.718196  --Vu3Gux9nPnLcG9yO_HxA           0\n",
       " 996  RfiLVnVNamfRZMIffZ4-ig  4.717700  --Vu3Gux9nPnLcG9yO_HxA           0\n",
       " 997  mCKkfHKBhAUanBoHzys7hQ  4.717461  --Vu3Gux9nPnLcG9yO_HxA           0\n",
       " 998  gbw5wqRVjeyCEExrM0RPmA  4.716441  --Vu3Gux9nPnLcG9yO_HxA           0\n",
       " 999  hEb0f7wRZBUhX5f4CWEukg  4.716381  --Vu3Gux9nPnLcG9yO_HxA           0\n",
       " \n",
       " [1000 rows x 4 columns],\n",
       "                  business_id     score                 user_id  real_label\n",
       " 0     -fs09akgCKv5rTTy7iUHUg  4.768106  --XwFm4qERD6J5SX0JAsbg           0\n",
       " 1     o_N7HiU3f6cVvrJAFrE43A  4.748108  --XwFm4qERD6J5SX0JAsbg           0\n",
       " 2     KTGEa8V9ec0QBYM_uk1YLQ  4.725921  --XwFm4qERD6J5SX0JAsbg           0\n",
       " 3     u3zqvp4BYUjzJD7tzx3Jbg  4.724243  --XwFm4qERD6J5SX0JAsbg           0\n",
       " 4     zLm2PaYrpHkcr63ekwvtBQ  4.710135  --XwFm4qERD6J5SX0JAsbg           0\n",
       " ...                      ...       ...                     ...         ...\n",
       " 1006  0bvtIbpsqBJZpRKSPwIfNw  4.110556  --XwFm4qERD6J5SX0JAsbg           0\n",
       " 1007  TdIkFrKgovD1pzJQjr3kgQ  4.110185  --XwFm4qERD6J5SX0JAsbg           0\n",
       " 1008  F_p-pLonAAzzOSnTLdJMtw  4.109670  --XwFm4qERD6J5SX0JAsbg           0\n",
       " 1009  FIweOxvfz1aSgXqs2X-pqw  4.109622  --XwFm4qERD6J5SX0JAsbg           0\n",
       " 1010  DDyaqt59uCTY_SOwfQ4qqg  4.109499  --XwFm4qERD6J5SX0JAsbg           0\n",
       " \n",
       " [1011 rows x 4 columns],\n",
       "                 business_id     score                 user_id  real_label\n",
       " 0    -fs09akgCKv5rTTy7iUHUg  5.034361  --_H9j6ggxvqhh9nPofZwg           0\n",
       " 1    KTGEa8V9ec0QBYM_uk1YLQ  5.021026  --_H9j6ggxvqhh9nPofZwg           0\n",
       " 2    o_N7HiU3f6cVvrJAFrE43A  5.006826  --_H9j6ggxvqhh9nPofZwg           0\n",
       " 3    zLm2PaYrpHkcr63ekwvtBQ  4.998735  --_H9j6ggxvqhh9nPofZwg           0\n",
       " 4    Y93S8ZVnOhXQTkWZQEU5yg  4.986114  --_H9j6ggxvqhh9nPofZwg           0\n",
       " ..                      ...       ...                     ...         ...\n",
       " 995  jRLskcm_icZIKs81mYC4iQ  4.505109  --_H9j6ggxvqhh9nPofZwg           0\n",
       " 996  BEYsPtxoTnX-2xUbGHceKA  4.505087  --_H9j6ggxvqhh9nPofZwg           0\n",
       " 997  NucDA-P4QDIztUJIoxew9w  4.504360  --_H9j6ggxvqhh9nPofZwg           0\n",
       " 998  kfpwO_cdVQdTh2_oMDZ51Q  4.504316  --_H9j6ggxvqhh9nPofZwg           0\n",
       " 999  h-LoRnHxlAx4tS2UJrmKLw  4.503930  --_H9j6ggxvqhh9nPofZwg           0\n",
       " \n",
       " [1000 rows x 4 columns],\n",
       "                  business_id     score                 user_id  real_label\n",
       " 0     ctHjyadbDQAtUFfkcAFEHw  5.009956  --_r6E98SNIrGU7weyNxbw           0\n",
       " 1     ctHjyadbDQAtUFfkcAFEHw  5.009956  --_r6E98SNIrGU7weyNxbw           0\n",
       " 2     RFo876v_A63N2JfOTq1p-g  5.003057  --_r6E98SNIrGU7weyNxbw           0\n",
       " 3     -fs09akgCKv5rTTy7iUHUg  5.002065  --_r6E98SNIrGU7weyNxbw           0\n",
       " 4     TE2IEDNV0RcI6s1wTOP4fg  4.994078  --_r6E98SNIrGU7weyNxbw           0\n",
       " ...                      ...       ...                     ...         ...\n",
       " 1139  ZuwJdk2g6XGRWV94TE50Cg  4.523782  --_r6E98SNIrGU7weyNxbw           0\n",
       " 1140  8VO4Ma7FhsLYop9tk87tbA  4.523443  --_r6E98SNIrGU7weyNxbw           0\n",
       " 1141  B3Op-BE7dyOcXZitSlASZw  4.523344  --_r6E98SNIrGU7weyNxbw           0\n",
       " 1142  PmF5kJ2E4YXPnVNNK8S51g  4.523310  --_r6E98SNIrGU7weyNxbw           0\n",
       " 1143  PmF5kJ2E4YXPnVNNK8S51g  4.523310  --_r6E98SNIrGU7weyNxbw           0\n",
       " \n",
       " [1144 rows x 4 columns],\n",
       "                  business_id     score                 user_id  real_label\n",
       " 0     -fs09akgCKv5rTTy7iUHUg  5.022767  --u09WAjW741FdfkJXxNmg           0\n",
       " 1     o_N7HiU3f6cVvrJAFrE43A  4.992382  --u09WAjW741FdfkJXxNmg           0\n",
       " 2     5tK4y67IUn3eDd3S1bka9Q  4.946373  --u09WAjW741FdfkJXxNmg           0\n",
       " 3     Bk6uzC83wbmCHm2i5Uz8OA  4.888713  --u09WAjW741FdfkJXxNmg           0\n",
       " 4     XJvOamdhTQI65jmzTfreDQ  4.878141  --u09WAjW741FdfkJXxNmg           0\n",
       " ...                      ...       ...                     ...         ...\n",
       " 1102  YcP6XiXITpQY-RvL-McTOA  4.259123  --u09WAjW741FdfkJXxNmg           0\n",
       " 1103  zgc7Ctq8cRe8o3VS1Vfy5A  4.259064  --u09WAjW741FdfkJXxNmg           0\n",
       " 1104  fSNz9yBrh82CjTSOJVAU_A  4.258976  --u09WAjW741FdfkJXxNmg           0\n",
       " 1105  6xS8kItlMKI9eCwviIvjwg  4.258049  --u09WAjW741FdfkJXxNmg           0\n",
       " 1106  rqjouguO0SV-hvxe7lqLpw  4.257773  --u09WAjW741FdfkJXxNmg           0\n",
       " \n",
       " [1107 rows x 4 columns],\n",
       "                  business_id     score                 user_id  real_label\n",
       " 0     -fs09akgCKv5rTTy7iUHUg  4.912078  -02tzlpQosZ9HE85jEtV6Q           0\n",
       " 1     KTGEa8V9ec0QBYM_uk1YLQ  4.898804  -02tzlpQosZ9HE85jEtV6Q           0\n",
       " 2     o_N7HiU3f6cVvrJAFrE43A  4.884566  -02tzlpQosZ9HE85jEtV6Q           0\n",
       " 3     zLm2PaYrpHkcr63ekwvtBQ  4.876513  -02tzlpQosZ9HE85jEtV6Q           0\n",
       " 4     ctHjyadbDQAtUFfkcAFEHw  4.870755  -02tzlpQosZ9HE85jEtV6Q           0\n",
       " ...                      ...       ...                     ...         ...\n",
       " 1067  cdIZWzfLzU8AAnS0rWQXdw  4.407213  -02tzlpQosZ9HE85jEtV6Q           0\n",
       " 1068  h_DxpK5pngE1rX0Ca9wzGg  4.406789  -02tzlpQosZ9HE85jEtV6Q           0\n",
       " 1069  4WdDY97x4GdMYtyk1KQMnw  4.406588  -02tzlpQosZ9HE85jEtV6Q           0\n",
       " 1070  x1cyB0m8EIR9OE054dgtPg  4.406412  -02tzlpQosZ9HE85jEtV6Q           0\n",
       " 1071  kOHcpCZQd4uNp6G2uE8o2A  4.406404  -02tzlpQosZ9HE85jEtV6Q           0\n",
       " \n",
       " [1072 rows x 4 columns],\n",
       "                  business_id     score                 user_id  real_label\n",
       " 0     -fs09akgCKv5rTTy7iUHUg  5.221347  -05wJ5BVkv8lYBIC_H5F-Q           0\n",
       " 1     KTGEa8V9ec0QBYM_uk1YLQ  5.208093  -05wJ5BVkv8lYBIC_H5F-Q           0\n",
       " 2     zLm2PaYrpHkcr63ekwvtBQ  5.185802  -05wJ5BVkv8lYBIC_H5F-Q           0\n",
       " 3     8ZCpyx-U-dEJyNZBWiC3mA  5.169581  -05wJ5BVkv8lYBIC_H5F-Q           0\n",
       " 4     5tK4y67IUn3eDd3S1bka9Q  5.151665  -05wJ5BVkv8lYBIC_H5F-Q           0\n",
       " ...                      ...       ...                     ...         ...\n",
       " 1045  JgZAaY3VzFZRivp5bAs0Yw  4.715082  -05wJ5BVkv8lYBIC_H5F-Q           0\n",
       " 1046  xkWhyrBL0i_P8YdXGJ2iUg  4.715081  -05wJ5BVkv8lYBIC_H5F-Q           0\n",
       " 1047  lJ59yy1n1CHztMN6DsXBQA  4.715064  -05wJ5BVkv8lYBIC_H5F-Q           0\n",
       " 1048  b1oTd46rLH7BHjGQGbsUqA  4.714789  -05wJ5BVkv8lYBIC_H5F-Q           0\n",
       " 1049  xy2FTOvVeVhkJQ2ilU8bBA  4.714695  -05wJ5BVkv8lYBIC_H5F-Q           0\n",
       " \n",
       " [1050 rows x 4 columns],\n",
       "                  business_id     score                 user_id  real_label\n",
       " 0     -fs09akgCKv5rTTy7iUHUg  4.726873  -0H6Rm6dCi3pkFBC26HsoQ           0\n",
       " 1     KTGEa8V9ec0QBYM_uk1YLQ  4.684374  -0H6Rm6dCi3pkFBC26HsoQ           0\n",
       " 2     u3zqvp4BYUjzJD7tzx3Jbg  4.676381  -0H6Rm6dCi3pkFBC26HsoQ           0\n",
       " 3     zLm2PaYrpHkcr63ekwvtBQ  4.665854  -0H6Rm6dCi3pkFBC26HsoQ           0\n",
       " 4     8ZCpyx-U-dEJyNZBWiC3mA  4.662750  -0H6Rm6dCi3pkFBC26HsoQ           0\n",
       " ...                      ...       ...                     ...         ...\n",
       " 1015  dDMJ-H6e_RvoxwoXai79Rw  4.072664  -0H6Rm6dCi3pkFBC26HsoQ           0\n",
       " 1016  NsUjEmrd2311SwPsPzjxsw  4.072491  -0H6Rm6dCi3pkFBC26HsoQ           0\n",
       " 1017  M4ME5ir-QwnRdM4fhjZtTA  4.072346  -0H6Rm6dCi3pkFBC26HsoQ           0\n",
       " 1018  2aZNVfzU-3672SjRHnPoOA  4.072051  -0H6Rm6dCi3pkFBC26HsoQ           0\n",
       " 1019  5hAUdFPi1QFJJOlFReVexg  4.072030  -0H6Rm6dCi3pkFBC26HsoQ           0\n",
       " \n",
       " [1020 rows x 4 columns],\n",
       "                  business_id     score                 user_id  real_label\n",
       " 0     -fs09akgCKv5rTTy7iUHUg  4.894506  -0KrCHEsOcjJ6N4k_k1A9A           0\n",
       " 1     o_N7HiU3f6cVvrJAFrE43A  4.866971  -0KrCHEsOcjJ6N4k_k1A9A           0\n",
       " 2     5tK4y67IUn3eDd3S1bka9Q  4.824743  -0KrCHEsOcjJ6N4k_k1A9A           0\n",
       " 3     atZ_olNKXOG4rEr6mccN8g  4.787889  -0KrCHEsOcjJ6N4k_k1A9A           0\n",
       " 4     PV00aCrNGHZMruxVWUoKkQ  4.780816  -0KrCHEsOcjJ6N4k_k1A9A           0\n",
       " ...                      ...       ...                     ...         ...\n",
       " 1094  3Hqmn_VN8KijNEBeEwikZA  4.294004  -0KrCHEsOcjJ6N4k_k1A9A           0\n",
       " 1095  jM6Ri5mLLPopwK5e8XY_lA  4.293996  -0KrCHEsOcjJ6N4k_k1A9A           0\n",
       " 1096  CamMWFlgtWhr5ucQOEV7Zg  4.293643  -0KrCHEsOcjJ6N4k_k1A9A           0\n",
       " 1097  zuiy8O_E20koZHmT6kJXMw  4.293207  -0KrCHEsOcjJ6N4k_k1A9A           0\n",
       " 1098  6o8ddZAL2Gw_FdoFQf1ilg  4.293174  -0KrCHEsOcjJ6N4k_k1A9A           0\n",
       " \n",
       " [1099 rows x 4 columns],\n",
       "                  business_id     score                 user_id  real_label\n",
       " 0     RFo876v_A63N2JfOTq1p-g  4.957301  -0rW5xrSCH1HCnSEmoQA5A           0\n",
       " 1     -fs09akgCKv5rTTy7iUHUg  4.956308  -0rW5xrSCH1HCnSEmoQA5A           0\n",
       " 2     KTGEa8V9ec0QBYM_uk1YLQ  4.942973  -0rW5xrSCH1HCnSEmoQA5A           0\n",
       " 3     o_N7HiU3f6cVvrJAFrE43A  4.928773  -0rW5xrSCH1HCnSEmoQA5A           0\n",
       " 4     Y93S8ZVnOhXQTkWZQEU5yg  4.908060  -0rW5xrSCH1HCnSEmoQA5A           0\n",
       " ...                      ...       ...                     ...         ...\n",
       " 1028  Qc8GIJyfarIaakj98zwckw  4.454355  -0rW5xrSCH1HCnSEmoQA5A           0\n",
       " 1029  d9vJVJM2DifqWYN4Q4-gow  4.454245  -0rW5xrSCH1HCnSEmoQA5A           0\n",
       " 1030  xy2FTOvVeVhkJQ2ilU8bBA  4.454201  -0rW5xrSCH1HCnSEmoQA5A           0\n",
       " 1031  vKPXJCvlFvQWOx3-zNaehg  4.454154  -0rW5xrSCH1HCnSEmoQA5A           0\n",
       " 1032  AaTpjyw-EiODgi3tR4Xr-g  4.454119  -0rW5xrSCH1HCnSEmoQA5A           0\n",
       " \n",
       " [1033 rows x 4 columns],\n",
       "                  business_id     score                 user_id  real_label\n",
       " 0     -fs09akgCKv5rTTy7iUHUg  5.002023  -1-pTXLHph2vcqRCNeT4_Q           0\n",
       " 1     KTGEa8V9ec0QBYM_uk1YLQ  4.988696  -1-pTXLHph2vcqRCNeT4_Q           0\n",
       " 2     zLm2PaYrpHkcr63ekwvtBQ  4.966405  -1-pTXLHph2vcqRCNeT4_Q           0\n",
       " 3     8ZCpyx-U-dEJyNZBWiC3mA  4.950257  -1-pTXLHph2vcqRCNeT4_Q           0\n",
       " 4     ctHjyadbDQAtUFfkcAFEHw  4.948484  -1-pTXLHph2vcqRCNeT4_Q           0\n",
       " ...                      ...       ...                     ...         ...\n",
       " 1002  5K6N22b0_nAHHvmWKgIBVA  4.514349  -1-pTXLHph2vcqRCNeT4_Q           0\n",
       " 1003  K7vvEwRd6Y8gRftjeuASuQ  4.513931  -1-pTXLHph2vcqRCNeT4_Q           0\n",
       " 1004  fNssGWMjae-SUzyyGblspQ  4.513878  -1-pTXLHph2vcqRCNeT4_Q           0\n",
       " 1005  8yZzf0gdWpSmY6ziyq7hKQ  4.513262  -1-pTXLHph2vcqRCNeT4_Q           0\n",
       " 1006  qEcgemvSCGUFRKPS3lt3pw  4.513121  -1-pTXLHph2vcqRCNeT4_Q           0\n",
       " \n",
       " [1007 rows x 4 columns],\n",
       "                  business_id     score                 user_id  real_label\n",
       " 0     -fs09akgCKv5rTTy7iUHUg  5.210990  -13RX4Gy_F-zoLIenWAo-w           0\n",
       " 1     8ZCpyx-U-dEJyNZBWiC3mA  5.159224  -13RX4Gy_F-zoLIenWAo-w           0\n",
       " 2     5tK4y67IUn3eDd3S1bka9Q  5.141252  -13RX4Gy_F-zoLIenWAo-w           0\n",
       " 3     XJvOamdhTQI65jmzTfreDQ  5.085726  -13RX4Gy_F-zoLIenWAo-w           0\n",
       " 4     Bk6uzC83wbmCHm2i5Uz8OA  5.080302  -13RX4Gy_F-zoLIenWAo-w           0\n",
       " ...                      ...       ...                     ...         ...\n",
       " 1050  nPAHRlw64K0svlqNSLrTXw  4.639613  -13RX4Gy_F-zoLIenWAo-w           0\n",
       " 1051  7neWV37lyUK91x1WnCOyFQ  4.639463  -13RX4Gy_F-zoLIenWAo-w           0\n",
       " 1052  -2YZIUArmrIMVVBi8CT47w  4.639389  -13RX4Gy_F-zoLIenWAo-w           0\n",
       " 1053  sZaFglHWRKKLaFFt6F5shw  4.639139  -13RX4Gy_F-zoLIenWAo-w           0\n",
       " 1054  wcL88nbU3PkGlQcZPC7kAg  4.639092  -13RX4Gy_F-zoLIenWAo-w           0\n",
       " \n",
       " [1055 rows x 4 columns],\n",
       "                  business_id     score                 user_id  real_label\n",
       " 0     -fs09akgCKv5rTTy7iUHUg  4.978001  -16bjdAbpdPLuGrfGPSPNQ           0\n",
       " 1     KTGEa8V9ec0QBYM_uk1YLQ  4.947256  -16bjdAbpdPLuGrfGPSPNQ           0\n",
       " 2     zLm2PaYrpHkcr63ekwvtBQ  4.932081  -16bjdAbpdPLuGrfGPSPNQ           0\n",
       " 3     8ZCpyx-U-dEJyNZBWiC3mA  4.926249  -16bjdAbpdPLuGrfGPSPNQ           0\n",
       " 4     5tK4y67IUn3eDd3S1bka9Q  4.908238  -16bjdAbpdPLuGrfGPSPNQ           0\n",
       " ...                      ...       ...                     ...         ...\n",
       " 1018  -5lDiH8QCNr-MEc_o5XzLQ  4.473878  -16bjdAbpdPLuGrfGPSPNQ           0\n",
       " 1019  cQIh4YJlVtZI9TLF5_smOg  4.473827  -16bjdAbpdPLuGrfGPSPNQ           0\n",
       " 1020  cQIh4YJlVtZI9TLF5_smOg  4.473827  -16bjdAbpdPLuGrfGPSPNQ           0\n",
       " 1021  cQIh4YJlVtZI9TLF5_smOg  4.473827  -16bjdAbpdPLuGrfGPSPNQ           0\n",
       " 1022  GBtCFp9EU0Ti86ftGewZZg  4.473666  -16bjdAbpdPLuGrfGPSPNQ           0\n",
       " \n",
       " [1023 rows x 4 columns],\n",
       "                  business_id     score                 user_id  real_label\n",
       " 0     KTGEa8V9ec0QBYM_uk1YLQ  4.883963  -1MF2tosrw2WcCxeVNk81Q           0\n",
       " 1     5tK4y67IUn3eDd3S1bka9Q  4.827534  -1MF2tosrw2WcCxeVNk81Q           0\n",
       " 2     5tK4y67IUn3eDd3S1bka9Q  4.827534  -1MF2tosrw2WcCxeVNk81Q           0\n",
       " 3     atZ_olNKXOG4rEr6mccN8g  4.779308  -1MF2tosrw2WcCxeVNk81Q           0\n",
       " 4     atZ_olNKXOG4rEr6mccN8g  4.779308  -1MF2tosrw2WcCxeVNk81Q           0\n",
       " ...                      ...       ...                     ...         ...\n",
       " 1082  bb23FW_rcS2qYO7ji8fJ8w  4.308416  -1MF2tosrw2WcCxeVNk81Q           0\n",
       " 1083  bb23FW_rcS2qYO7ji8fJ8w  4.308416  -1MF2tosrw2WcCxeVNk81Q           0\n",
       " 1084  nm95sB96pSpWEh3GWvwOQg  4.308333  -1MF2tosrw2WcCxeVNk81Q           0\n",
       " 1085  qJAWrsvNv74KYAoo6TAj0A  4.308250  -1MF2tosrw2WcCxeVNk81Q           0\n",
       " 1086  lJgWsPns_CmqCD5CDAfb7w  4.307990  -1MF2tosrw2WcCxeVNk81Q           0\n",
       " \n",
       " [1087 rows x 4 columns],\n",
       "                  business_id     score                 user_id  real_label\n",
       " 0     -fs09akgCKv5rTTy7iUHUg  4.898246  -1MiSauypbVtNnWts4aXpA           0\n",
       " 1     KTGEa8V9ec0QBYM_uk1YLQ  4.884940  -1MiSauypbVtNnWts4aXpA           0\n",
       " 2     o_N7HiU3f6cVvrJAFrE43A  4.870734  -1MiSauypbVtNnWts4aXpA           0\n",
       " 3     zLm2PaYrpHkcr63ekwvtBQ  4.862649  -1MiSauypbVtNnWts4aXpA           0\n",
       " 4     8ZCpyx-U-dEJyNZBWiC3mA  4.846480  -1MiSauypbVtNnWts4aXpA           0\n",
       " ...                      ...       ...                     ...         ...\n",
       " 1018  pFILrIntfcOc6ekPd6m6lQ  4.407499  -1MiSauypbVtNnWts4aXpA           0\n",
       " 1019  U6RX5K67l95kXzAnkmPesA  4.407483  -1MiSauypbVtNnWts4aXpA           0\n",
       " 1020  da_jniSpqeo9Z6FLCCh4jQ  4.407424  -1MiSauypbVtNnWts4aXpA           0\n",
       " 1021  HUKrpwmcMlwPbDF5cz0VkQ  4.407267  -1MiSauypbVtNnWts4aXpA           0\n",
       " 1022  QVGHZ_gV-0fO8GeHnNK17A  4.407222  -1MiSauypbVtNnWts4aXpA           0\n",
       " \n",
       " [1023 rows x 4 columns],\n",
       "                 business_id     score                 user_id  real_label\n",
       " 0    Bk6uzC83wbmCHm2i5Uz8OA  4.773438  -1WbN1Qd-opw8u3uEqs2Kg           0\n",
       " 1    X3NS8516o015Z1zcOwrqmQ  4.746286  -1WbN1Qd-opw8u3uEqs2Kg           0\n",
       " 2    mZlz6wq17Vl0wEokdpPdWg  4.705371  -1WbN1Qd-opw8u3uEqs2Kg           0\n",
       " 3    6_LnAQQ0-mml8YgpfRjGuA  4.638186  -1WbN1Qd-opw8u3uEqs2Kg           0\n",
       " 4    Ef1QOp6WY6kqWHk2JJCHqg  4.632901  -1WbN1Qd-opw8u3uEqs2Kg           0\n",
       " ..                      ...       ...                     ...         ...\n",
       " 995  iVnBanh8anMgFr1LL8GeAQ  4.187946  -1WbN1Qd-opw8u3uEqs2Kg           0\n",
       " 996  rZKf5BPtBsXuFV2dzwbhWQ  4.187840  -1WbN1Qd-opw8u3uEqs2Kg           0\n",
       " 997  ELBlFMRas4J0s-hOUGR4bA  4.187752  -1WbN1Qd-opw8u3uEqs2Kg           0\n",
       " 998  nei8gSEF5qbkn-TCMrgB3A  4.187750  -1WbN1Qd-opw8u3uEqs2Kg           0\n",
       " 999  q4qBHYyO9d1aMcHUXJJOvw  4.187675  -1WbN1Qd-opw8u3uEqs2Kg           0\n",
       " \n",
       " [1000 rows x 4 columns],\n",
       "                  business_id     score                 user_id  real_label\n",
       " 0     ytynqOUb3hjKeJfRj5Tshw  5.405454  -2cKJFFNJ9XVyWBt62mWvA           0\n",
       " 1     ytynqOUb3hjKeJfRj5Tshw  5.405454  -2cKJFFNJ9XVyWBt62mWvA           0\n",
       " 2     RFo876v_A63N2JfOTq1p-g  5.283827  -2cKJFFNJ9XVyWBt62mWvA           0\n",
       " 3     -fs09akgCKv5rTTy7iUHUg  5.282762  -2cKJFFNJ9XVyWBt62mWvA           0\n",
       " 4     KTGEa8V9ec0QBYM_uk1YLQ  5.269499  -2cKJFFNJ9XVyWBt62mWvA           0\n",
       " ...                      ...       ...                     ...         ...\n",
       " 1115  9Ebckj6z0EdXxDVcMfz_SA  4.804763  -2cKJFFNJ9XVyWBt62mWvA           0\n",
       " 1116  jK14ZI9sfjOsWcPrCOQBcQ  4.804529  -2cKJFFNJ9XVyWBt62mWvA           0\n",
       " 1117  ZuwJdk2g6XGRWV94TE50Cg  4.804473  -2cKJFFNJ9XVyWBt62mWvA           0\n",
       " 1118  fivoAD6x6jXJRiEZwhpcEQ  4.803998  -2cKJFFNJ9XVyWBt62mWvA           0\n",
       " 1119  fivoAD6x6jXJRiEZwhpcEQ  4.803998  -2cKJFFNJ9XVyWBt62mWvA           0\n",
       " \n",
       " [1120 rows x 4 columns],\n",
       "                  business_id     score                 user_id  real_label\n",
       " 0     -fs09akgCKv5rTTy7iUHUg  4.832421  -2nNiAnDaSbQayynsqgL6Q           0\n",
       " 1     o_N7HiU3f6cVvrJAFrE43A  4.816514  -2nNiAnDaSbQayynsqgL6Q           0\n",
       " 2     RFo876v_A63N2JfOTq1p-g  4.813127  -2nNiAnDaSbQayynsqgL6Q           0\n",
       " 3     u3zqvp4BYUjzJD7tzx3Jbg  4.766827  -2nNiAnDaSbQayynsqgL6Q           0\n",
       " 4     5tK4y67IUn3eDd3S1bka9Q  4.757659  -2nNiAnDaSbQayynsqgL6Q           0\n",
       " ...                      ...       ...                     ...         ...\n",
       " 1146  _azrP4ds3iVoAP02mbKZxQ  4.142486  -2nNiAnDaSbQayynsqgL6Q           0\n",
       " 1147  r7nuOK2VR0Xw4n8vv4w8AQ  4.142406  -2nNiAnDaSbQayynsqgL6Q           0\n",
       " 1148  e5YAed0VGfePTkqWCk-3-Q  4.142381  -2nNiAnDaSbQayynsqgL6Q           0\n",
       " 1149  N5X330ct-U8n0-j53dXF6A  4.142150  -2nNiAnDaSbQayynsqgL6Q           0\n",
       " 1150  hedGCjtTuNwh69rgJvRFWg  4.142052  -2nNiAnDaSbQayynsqgL6Q           0\n",
       " \n",
       " [1151 rows x 4 columns],\n",
       "                 business_id     score                 user_id  real_label\n",
       " 0    -fs09akgCKv5rTTy7iUHUg  4.634933  -2zeaby7CmyAb6AIjX0cmw           0\n",
       " 1    KTGEa8V9ec0QBYM_uk1YLQ  4.596563  -2zeaby7CmyAb6AIjX0cmw           0\n",
       " 2    zLm2PaYrpHkcr63ekwvtBQ  4.570344  -2zeaby7CmyAb6AIjX0cmw           0\n",
       " 3    8ZCpyx-U-dEJyNZBWiC3mA  4.567885  -2zeaby7CmyAb6AIjX0cmw           0\n",
       " 4    5tK4y67IUn3eDd3S1bka9Q  4.550328  -2zeaby7CmyAb6AIjX0cmw           0\n",
       " ..                      ...       ...                     ...         ...\n",
       " 995  LejMqzvUAz_pnf90OOBLkw  3.930866  -2zeaby7CmyAb6AIjX0cmw           0\n",
       " 996  dfoptDebFhEZCZwFxuZ6_w  3.930824  -2zeaby7CmyAb6AIjX0cmw           0\n",
       " 997  F_p-pLonAAzzOSnTLdJMtw  3.930805  -2zeaby7CmyAb6AIjX0cmw           0\n",
       " 998  uz5iexrLN3LjGQGcKMSTuw  3.930630  -2zeaby7CmyAb6AIjX0cmw           0\n",
       " 999  Zz4pFK6G5K0nyYYCj89YPQ  3.930580  -2zeaby7CmyAb6AIjX0cmw           0\n",
       " \n",
       " [1000 rows x 4 columns],\n",
       "                  business_id     score                 user_id  real_label\n",
       " 0     -fs09akgCKv5rTTy7iUHUg  5.118587  -3HYmxW_5Gsg4I0eH3ju-Q           0\n",
       " 1     KTGEa8V9ec0QBYM_uk1YLQ  5.105282  -3HYmxW_5Gsg4I0eH3ju-Q           0\n",
       " 2     ctHjyadbDQAtUFfkcAFEHw  5.096905  -3HYmxW_5Gsg4I0eH3ju-Q           0\n",
       " 3     o_N7HiU3f6cVvrJAFrE43A  5.091075  -3HYmxW_5Gsg4I0eH3ju-Q           0\n",
       " 4     zLm2PaYrpHkcr63ekwvtBQ  5.082992  -3HYmxW_5Gsg4I0eH3ju-Q           0\n",
       " ...                      ...       ...                     ...         ...\n",
       " 1056  _V9ktNg37MPh7X3MiYXe_Q  4.622296  -3HYmxW_5Gsg4I0eH3ju-Q           0\n",
       " 1057  55D--p5wnvr0gYyRI_y_mw  4.622281  -3HYmxW_5Gsg4I0eH3ju-Q           0\n",
       " 1058  6KoyHbN2qSUsioqrjXLeEg  4.622203  -3HYmxW_5Gsg4I0eH3ju-Q           0\n",
       " 1059  6KoyHbN2qSUsioqrjXLeEg  4.622203  -3HYmxW_5Gsg4I0eH3ju-Q           0\n",
       " 1060  6KoyHbN2qSUsioqrjXLeEg  4.622203  -3HYmxW_5Gsg4I0eH3ju-Q           0\n",
       " \n",
       " [1061 rows x 4 columns],\n",
       "                  business_id     score                 user_id  real_label\n",
       " 0     RFo876v_A63N2JfOTq1p-g  4.968788  -3agoL-p87vZteiDzrz5og           0\n",
       " 1     -fs09akgCKv5rTTy7iUHUg  4.967758  -3agoL-p87vZteiDzrz5og           0\n",
       " 2     KTGEa8V9ec0QBYM_uk1YLQ  4.954461  -3agoL-p87vZteiDzrz5og           0\n",
       " 3     o_N7HiU3f6cVvrJAFrE43A  4.940246  -3agoL-p87vZteiDzrz5og           0\n",
       " 4     zLm2PaYrpHkcr63ekwvtBQ  4.932170  -3agoL-p87vZteiDzrz5og           0\n",
       " ...                      ...       ...                     ...         ...\n",
       " 1049  msnm4l6xGcCDrPrjDzUVbQ  4.478510  -3agoL-p87vZteiDzrz5og           0\n",
       " 1050  msnm4l6xGcCDrPrjDzUVbQ  4.478510  -3agoL-p87vZteiDzrz5og           0\n",
       " 1051  fb7WERNeJ6KbzN-H5ImqnQ  4.478371  -3agoL-p87vZteiDzrz5og           0\n",
       " 1052  hHCGmb01EGFstumCsd4-VA  4.478366  -3agoL-p87vZteiDzrz5og           0\n",
       " 1053  Yz0fJyBkUF8VZBvwFswkRQ  4.478274  -3agoL-p87vZteiDzrz5og           0\n",
       " \n",
       " [1054 rows x 4 columns],\n",
       "                  business_id     score                 user_id  real_label\n",
       " 0     -fs09akgCKv5rTTy7iUHUg  4.807556  -3m3CcApRSL_k2XSluzuMg           0\n",
       " 1     KTGEa8V9ec0QBYM_uk1YLQ  4.784867  -3m3CcApRSL_k2XSluzuMg           0\n",
       " 2     o_N7HiU3f6cVvrJAFrE43A  4.780032  -3m3CcApRSL_k2XSluzuMg           0\n",
       " 3     zLm2PaYrpHkcr63ekwvtBQ  4.769725  -3m3CcApRSL_k2XSluzuMg           0\n",
       " 4     8ZCpyx-U-dEJyNZBWiC3mA  4.755876  -3m3CcApRSL_k2XSluzuMg           0\n",
       " ...                      ...       ...                     ...         ...\n",
       " 1024  jAK7p4MPZKsx2o0CwhR48w  4.281952  -3m3CcApRSL_k2XSluzuMg           0\n",
       " 1025  ZBL9Zr-zm7_2WTxOfAVKiw  4.281826  -3m3CcApRSL_k2XSluzuMg           0\n",
       " 1026  cIohvIbTq6qN7god-sx1zg  4.281644  -3m3CcApRSL_k2XSluzuMg           0\n",
       " 1027  bENW5-F2aplQsTdPI8wDBA  4.281414  -3m3CcApRSL_k2XSluzuMg           0\n",
       " 1028  a3YGrsA5i1JSgs7g0tOefw  4.281184  -3m3CcApRSL_k2XSluzuMg           0\n",
       " \n",
       " [1029 rows x 4 columns],\n",
       "                  business_id     score                 user_id  real_label\n",
       " 0     -fs09akgCKv5rTTy7iUHUg  4.202193  -3s52C4zL_DHRK0ULG6qtg           0\n",
       " 1     KTGEa8V9ec0QBYM_uk1YLQ  4.177474  -3s52C4zL_DHRK0ULG6qtg           0\n",
       " 2     5tK4y67IUn3eDd3S1bka9Q  4.134888  -3s52C4zL_DHRK0ULG6qtg           0\n",
       " 3     XJvOamdhTQI65jmzTfreDQ  4.111335  -3s52C4zL_DHRK0ULG6qtg           0\n",
       " 4     NnlQhXtuVOVjUFYB1Hqp8Q  4.102706  -3s52C4zL_DHRK0ULG6qtg           0\n",
       " ...                      ...       ...                     ...         ...\n",
       " 1116  8uF-bhJFgT4Tn6DTb27viA  3.542762  -3s52C4zL_DHRK0ULG6qtg           0\n",
       " 1117  aUZys3AlGeiiQSIGHCggGg  3.542348  -3s52C4zL_DHRK0ULG6qtg           0\n",
       " 1118  O8To-W6I3Ez8gR6ZaLjOkg  3.541965  -3s52C4zL_DHRK0ULG6qtg           0\n",
       " 1119  exUNRoWghbN2mGS3PEMopA  3.541208  -3s52C4zL_DHRK0ULG6qtg           0\n",
       " 1120  IfKsmxBL4Rl0MnAeIPL2_g  3.541208  -3s52C4zL_DHRK0ULG6qtg           0\n",
       " \n",
       " [1121 rows x 4 columns],\n",
       "                  business_id     score                 user_id  real_label\n",
       " 0     -fs09akgCKv5rTTy7iUHUg  4.643573  -43uAiZZ6wsGhaurBi3Cdw           0\n",
       " 1     o_N7HiU3f6cVvrJAFrE43A  4.602829  -43uAiZZ6wsGhaurBi3Cdw           0\n",
       " 2     KTGEa8V9ec0QBYM_uk1YLQ  4.601586  -43uAiZZ6wsGhaurBi3Cdw           0\n",
       " 3     KTGEa8V9ec0QBYM_uk1YLQ  4.601586  -43uAiZZ6wsGhaurBi3Cdw           0\n",
       " 4     8ZCpyx-U-dEJyNZBWiC3mA  4.590489  -43uAiZZ6wsGhaurBi3Cdw           0\n",
       " ...                      ...       ...                     ...         ...\n",
       " 1070  zWQWjJ0270yqp_KignAmkg  3.982156  -43uAiZZ6wsGhaurBi3Cdw           0\n",
       " 1071  qvfkT03PHLf4_Ejs4gtAFQ  3.981997  -43uAiZZ6wsGhaurBi3Cdw           0\n",
       " 1072  -blcOL0q1Sen46pqhs1HCw  3.981844  -43uAiZZ6wsGhaurBi3Cdw           0\n",
       " 1073  lwN9FutfBq81GnGWhj5Mng  3.981816  -43uAiZZ6wsGhaurBi3Cdw           0\n",
       " 1074  TN1geaU2Sry_NfpXk-kbpA  3.981784  -43uAiZZ6wsGhaurBi3Cdw           0\n",
       " \n",
       " [1075 rows x 4 columns],\n",
       "                  business_id     score                 user_id  real_label\n",
       " 0     -fs09akgCKv5rTTy7iUHUg  4.336110  -4D4Q_Fxj_rEL32t0VtzFQ           0\n",
       " 1     KTGEa8V9ec0QBYM_uk1YLQ  4.306875  -4D4Q_Fxj_rEL32t0VtzFQ           0\n",
       " 2     zLm2PaYrpHkcr63ekwvtBQ  4.294806  -4D4Q_Fxj_rEL32t0VtzFQ           0\n",
       " 3     8ZCpyx-U-dEJyNZBWiC3mA  4.290938  -4D4Q_Fxj_rEL32t0VtzFQ           0\n",
       " 4     u3zqvp4BYUjzJD7tzx3Jbg  4.271340  -4D4Q_Fxj_rEL32t0VtzFQ           0\n",
       " ...                      ...       ...                     ...         ...\n",
       " 1064  jyFIMQV67um9Mz_tNjHZ3g  3.778041  -4D4Q_Fxj_rEL32t0VtzFQ           0\n",
       " 1065  jyFIMQV67um9Mz_tNjHZ3g  3.778041  -4D4Q_Fxj_rEL32t0VtzFQ           0\n",
       " 1066  quCIR7UcrMmpaKXYwet8pw  3.777914  -4D4Q_Fxj_rEL32t0VtzFQ           0\n",
       " 1067  IAOJuLejVtnZJpw15Txu9A  3.777283  -4D4Q_Fxj_rEL32t0VtzFQ           0\n",
       " 1068  jK14ZI9sfjOsWcPrCOQBcQ  3.777251  -4D4Q_Fxj_rEL32t0VtzFQ           0\n",
       " \n",
       " [1069 rows x 4 columns],\n",
       "                  business_id     score                 user_id  real_label\n",
       " 0     -fs09akgCKv5rTTy7iUHUg  4.549119  -4RMTrzXEjs0ttG7stsl2Q           0\n",
       " 1     8ZCpyx-U-dEJyNZBWiC3mA  4.528069  -4RMTrzXEjs0ttG7stsl2Q           0\n",
       " 2     KTGEa8V9ec0QBYM_uk1YLQ  4.506923  -4RMTrzXEjs0ttG7stsl2Q           0\n",
       " 3     o_N7HiU3f6cVvrJAFrE43A  4.489269  -4RMTrzXEjs0ttG7stsl2Q           0\n",
       " 4     zLm2PaYrpHkcr63ekwvtBQ  4.479896  -4RMTrzXEjs0ttG7stsl2Q           0\n",
       " ...                      ...       ...                     ...         ...\n",
       " 1029  k2781O41asaIsK7vkf3asg  3.895522  -4RMTrzXEjs0ttG7stsl2Q           0\n",
       " 1030  CMnrIvac5TRbYnUJgKHupQ  3.895450  -4RMTrzXEjs0ttG7stsl2Q           0\n",
       " 1031  tKxXZd00zZ24jDmJJcUYPQ  3.895262  -4RMTrzXEjs0ttG7stsl2Q           0\n",
       " 1032  j8_GtOGBHwOty3nB4k23gA  3.894914  -4RMTrzXEjs0ttG7stsl2Q           0\n",
       " 1033  lAGS4ujbBQiSX_WL1GPkIg  3.894828  -4RMTrzXEjs0ttG7stsl2Q           0\n",
       " \n",
       " [1034 rows x 4 columns],\n",
       "                  business_id     score                 user_id  real_label\n",
       " 0     -fs09akgCKv5rTTy7iUHUg  4.901058  -4adygW78x5K_xSG0u3Y6Q           0\n",
       " 1     KTGEa8V9ec0QBYM_uk1YLQ  4.887733  -4adygW78x5K_xSG0u3Y6Q           0\n",
       " 2     zLm2PaYrpHkcr63ekwvtBQ  4.865442  -4adygW78x5K_xSG0u3Y6Q           0\n",
       " 3     8ZCpyx-U-dEJyNZBWiC3mA  4.849292  -4adygW78x5K_xSG0u3Y6Q           0\n",
       " 4     5tK4y67IUn3eDd3S1bka9Q  4.831305  -4adygW78x5K_xSG0u3Y6Q           0\n",
       " ...                      ...       ...                     ...         ...\n",
       " 1011  kCV9CwW28Uz1ln4IXGhGwg  4.420611  -4adygW78x5K_xSG0u3Y6Q           0\n",
       " 1012  qHXv-os4wfrfSPxGPgj2vg  4.420489  -4adygW78x5K_xSG0u3Y6Q           0\n",
       " 1013  mSQ6nIPfqviBF8xIuhsJ7A  4.420218  -4adygW78x5K_xSG0u3Y6Q           0\n",
       " 1014  7hsCR9k_GND2QoQyVkITBg  4.420063  -4adygW78x5K_xSG0u3Y6Q           0\n",
       " 1015  uIZwBkvWicqyWraXvYOipw  4.419652  -4adygW78x5K_xSG0u3Y6Q           0\n",
       " \n",
       " [1016 rows x 4 columns],\n",
       "                  business_id     score                 user_id  real_label\n",
       " 0     -fs09akgCKv5rTTy7iUHUg  4.974417  -4mjLXqAoAtQjqDFo9q9WQ           0\n",
       " 1     KTGEa8V9ec0QBYM_uk1YLQ  4.961082  -4mjLXqAoAtQjqDFo9q9WQ           0\n",
       " 2     5tK4y67IUn3eDd3S1bka9Q  4.904655  -4mjLXqAoAtQjqDFo9q9WQ           0\n",
       " 3     u3zqvp4BYUjzJD7tzx3Jbg  4.896793  -4mjLXqAoAtQjqDFo9q9WQ           0\n",
       " 4     NnlQhXtuVOVjUFYB1Hqp8Q  4.850195  -4mjLXqAoAtQjqDFo9q9WQ           0\n",
       " ...                      ...       ...                     ...         ...\n",
       " 1063  9qOhDtUP5OMk2w-CHQxcTw  4.377285  -4mjLXqAoAtQjqDFo9q9WQ           0\n",
       " 1064  WOotXk7AXHojAiBH4Run0A  4.377148  -4mjLXqAoAtQjqDFo9q9WQ           0\n",
       " 1065  gwxNttwUgmOn3vsHYe0pDQ  4.377061  -4mjLXqAoAtQjqDFo9q9WQ           0\n",
       " 1066  BJeM2i8sJ_ulULeIAuNq0g  4.376690  -4mjLXqAoAtQjqDFo9q9WQ           0\n",
       " 1067  HgWnxHxJqeJ3RSD8sG_q_Q  4.376615  -4mjLXqAoAtQjqDFo9q9WQ           0\n",
       " \n",
       " [1068 rows x 4 columns],\n",
       "                  business_id     score                 user_id  real_label\n",
       " 0     -fs09akgCKv5rTTy7iUHUg  4.788930  -4r6OoklyemH7Up70wIhMA           0\n",
       " 1     KTGEa8V9ec0QBYM_uk1YLQ  4.775612  -4r6OoklyemH7Up70wIhMA           0\n",
       " 2     8ZCpyx-U-dEJyNZBWiC3mA  4.730816  -4r6OoklyemH7Up70wIhMA           0\n",
       " 3     5tK4y67IUn3eDd3S1bka9Q  4.719184  -4r6OoklyemH7Up70wIhMA           0\n",
       " 4     rQ2CSHRkZSn5WCu7OfVI-Q  4.694767  -4r6OoklyemH7Up70wIhMA           0\n",
       " ...                      ...       ...                     ...         ...\n",
       " 997   EmJF-xSIOaEEOWcK8UOBqg  4.240338  -4r6OoklyemH7Up70wIhMA           0\n",
       " 998   cIohvIbTq6qN7god-sx1zg  4.240172  -4r6OoklyemH7Up70wIhMA           0\n",
       " 999   fYnvhdWXgWit8DhDLPrSTQ  4.240111  -4r6OoklyemH7Up70wIhMA           0\n",
       " 1000  aw0aIu0yFA-6wBptI68urg  4.239309  -4r6OoklyemH7Up70wIhMA           0\n",
       " 1001  1sO-Ujuvs8igSyaD35xx4w  4.239192  -4r6OoklyemH7Up70wIhMA           0\n",
       " \n",
       " [1002 rows x 4 columns],\n",
       "                  business_id     score                 user_id  real_label\n",
       " 0     -fs09akgCKv5rTTy7iUHUg  4.887587  -50lprJ4kZ-XCM1hPU2vqg           0\n",
       " 1     KTGEa8V9ec0QBYM_uk1YLQ  4.869115  -50lprJ4kZ-XCM1hPU2vqg           0\n",
       " 2     zLm2PaYrpHkcr63ekwvtBQ  4.855077  -50lprJ4kZ-XCM1hPU2vqg           0\n",
       " 3     8ZCpyx-U-dEJyNZBWiC3mA  4.828526  -50lprJ4kZ-XCM1hPU2vqg           0\n",
       " 4     5tK4y67IUn3eDd3S1bka9Q  4.811376  -50lprJ4kZ-XCM1hPU2vqg           0\n",
       " ...                      ...       ...                     ...         ...\n",
       " 1021  QdER5KjucCVtOXdU1g7kpA  4.385491  -50lprJ4kZ-XCM1hPU2vqg           0\n",
       " 1022  vvGrGn6eo-K_W5h96Pyslw  4.385267  -50lprJ4kZ-XCM1hPU2vqg           0\n",
       " 1023  2jDmrOc_CZpZNG7klKoXtQ  4.384898  -50lprJ4kZ-XCM1hPU2vqg           0\n",
       " 1024  w_LP7DTDpibVU9rLtzhGCA  4.384599  -50lprJ4kZ-XCM1hPU2vqg           0\n",
       " 1025  lJ59yy1n1CHztMN6DsXBQA  4.384507  -50lprJ4kZ-XCM1hPU2vqg           0\n",
       " \n",
       " [1026 rows x 4 columns],\n",
       "                  business_id     score                 user_id  real_label\n",
       " 0     RFo876v_A63N2JfOTq1p-g  4.950139  -584avr5GMIqv-9Ut85Ywg           0\n",
       " 1     -fs09akgCKv5rTTy7iUHUg  4.945678  -584avr5GMIqv-9Ut85Ywg           0\n",
       " 2     KTGEa8V9ec0QBYM_uk1YLQ  4.929636  -584avr5GMIqv-9Ut85Ywg           0\n",
       " 3     o_N7HiU3f6cVvrJAFrE43A  4.915437  -584avr5GMIqv-9Ut85Ywg           0\n",
       " 4     Y93S8ZVnOhXQTkWZQEU5yg  4.894966  -584avr5GMIqv-9Ut85Ywg           0\n",
       " ...                      ...       ...                     ...         ...\n",
       " 1029  jyFIMQV67um9Mz_tNjHZ3g  4.429538  -584avr5GMIqv-9Ut85Ywg           0\n",
       " 1030  2Yf3uGarCtGq7Expa0A81Q  4.429478  -584avr5GMIqv-9Ut85Ywg           0\n",
       " 1031  Nk4qSOwcVdAT1CMOzU3O0g  4.429474  -584avr5GMIqv-9Ut85Ywg           0\n",
       " 1032  t5T6NYFsOqnYl0NETDgj7g  4.429459  -584avr5GMIqv-9Ut85Ywg           0\n",
       " 1033  hGRycT06CnsO1kcNwOc1wg  4.429350  -584avr5GMIqv-9Ut85Ywg           0\n",
       " \n",
       " [1034 rows x 4 columns],\n",
       "                  business_id     score                 user_id  real_label\n",
       " 0     -fs09akgCKv5rTTy7iUHUg  5.061945  -5Slg5hO3useiypXYgZkGg           0\n",
       " 1     KTGEa8V9ec0QBYM_uk1YLQ  5.048655  -5Slg5hO3useiypXYgZkGg           0\n",
       " 2     8ZCpyx-U-dEJyNZBWiC3mA  5.010179  -5Slg5hO3useiypXYgZkGg           0\n",
       " 3     5tK4y67IUn3eDd3S1bka9Q  4.992227  -5Slg5hO3useiypXYgZkGg           0\n",
       " 4     XJvOamdhTQI65jmzTfreDQ  4.936681  -5Slg5hO3useiypXYgZkGg           0\n",
       " ...                      ...       ...                     ...         ...\n",
       " 1096  QHypDceEiCIXO0V3J93BLA  4.554024  -5Slg5hO3useiypXYgZkGg           0\n",
       " 1097  5Q82x5hIwfWSF3XEeINkgQ  4.553996  -5Slg5hO3useiypXYgZkGg           0\n",
       " 1098  3CFVBCfjdCvESS1ogBv21A  4.553905  -5Slg5hO3useiypXYgZkGg           0\n",
       " 1099  2jDmrOc_CZpZNG7klKoXtQ  4.553895  -5Slg5hO3useiypXYgZkGg           0\n",
       " 1100  PEYgtOhGVoBoWwTJJg4M7A  4.553784  -5Slg5hO3useiypXYgZkGg           0\n",
       " \n",
       " [1101 rows x 4 columns],\n",
       "                  business_id     score                 user_id  real_label\n",
       " 0     -fs09akgCKv5rTTy7iUHUg  4.260547  -5Yx5X3OxosNU5gojBug8A           0\n",
       " 1     KTGEa8V9ec0QBYM_uk1YLQ  4.224933  -5Yx5X3OxosNU5gojBug8A           0\n",
       " 2     KTGEa8V9ec0QBYM_uk1YLQ  4.224933  -5Yx5X3OxosNU5gojBug8A           0\n",
       " 3     8ZCpyx-U-dEJyNZBWiC3mA  4.208481  -5Yx5X3OxosNU5gojBug8A           0\n",
       " 4     zLm2PaYrpHkcr63ekwvtBQ  4.207506  -5Yx5X3OxosNU5gojBug8A           0\n",
       " ...                      ...       ...                     ...         ...\n",
       " 1053  3K7ZTJTQHPPXTTC7HRNRew  3.704125  -5Yx5X3OxosNU5gojBug8A           0\n",
       " 1054  Owo5es5l2zcGq9e9T1sgIg  3.703962  -5Yx5X3OxosNU5gojBug8A           0\n",
       " 1055  mGy0KzmeGIECUL0nZXUV0g  3.703638  -5Yx5X3OxosNU5gojBug8A           0\n",
       " 1056  F0AAzMdhv2RyjwHVned5bQ  3.703569  -5Yx5X3OxosNU5gojBug8A           0\n",
       " 1057  HHBbetQ-XRQYJprT5Qp9jw  3.703387  -5Yx5X3OxosNU5gojBug8A           0\n",
       " \n",
       " [1058 rows x 4 columns],\n",
       "                  business_id     score                 user_id  real_label\n",
       " 0     -fs09akgCKv5rTTy7iUHUg  4.797435  -5e4VTnu_pR4Gpv3VSncaw           0\n",
       " 1     o_N7HiU3f6cVvrJAFrE43A  4.767770  -5e4VTnu_pR4Gpv3VSncaw           0\n",
       " 2     5tK4y67IUn3eDd3S1bka9Q  4.725595  -5e4VTnu_pR4Gpv3VSncaw           0\n",
       " 3     PV00aCrNGHZMruxVWUoKkQ  4.691829  -5e4VTnu_pR4Gpv3VSncaw           0\n",
       " 4     XJvOamdhTQI65jmzTfreDQ  4.679053  -5e4VTnu_pR4Gpv3VSncaw           0\n",
       " ...                      ...       ...                     ...         ...\n",
       " 1071  hid9ixP7Rtoj2pR4EBrcGg  4.192579  -5e4VTnu_pR4Gpv3VSncaw           0\n",
       " 1072  jQBPO3rYkNwIaOdQS5ktgQ  4.192124  -5e4VTnu_pR4Gpv3VSncaw           0\n",
       " 1073  _bhfcSMbLQs5VPE5TVPFVA  4.191921  -5e4VTnu_pR4Gpv3VSncaw           0\n",
       " 1074  kcSS8bKAokzVOuAQwwSNjw  4.191613  -5e4VTnu_pR4Gpv3VSncaw           0\n",
       " 1075  2EGNOPTha-XMYIVabDJIGw  4.191552  -5e4VTnu_pR4Gpv3VSncaw           0\n",
       " \n",
       " [1076 rows x 4 columns],\n",
       "                  business_id     score                 user_id  real_label\n",
       " 0     RFo876v_A63N2JfOTq1p-g  4.906614  -5ffv9jDtTPfpdzOBERKMA           0\n",
       " 1     -fs09akgCKv5rTTy7iUHUg  4.905598  -5ffv9jDtTPfpdzOBERKMA           0\n",
       " 2     KTGEa8V9ec0QBYM_uk1YLQ  4.892286  -5ffv9jDtTPfpdzOBERKMA           0\n",
       " 3     o_N7HiU3f6cVvrJAFrE43A  4.878086  -5ffv9jDtTPfpdzOBERKMA           0\n",
       " 4     zLm2PaYrpHkcr63ekwvtBQ  4.869996  -5ffv9jDtTPfpdzOBERKMA           0\n",
       " ...                      ...       ...                     ...         ...\n",
       " 1029  u_S84xiDCRJ3CV204CIYuQ  4.435524  -5ffv9jDtTPfpdzOBERKMA           0\n",
       " 1030  OxXMZfaRZc7SJnjMBkO1ww  4.434776  -5ffv9jDtTPfpdzOBERKMA           0\n",
       " 1031  PmF5kJ2E4YXPnVNNK8S51g  4.434289  -5ffv9jDtTPfpdzOBERKMA           0\n",
       " 1032  1EDUXBWC6IAZvW-r5BKDGw  4.434259  -5ffv9jDtTPfpdzOBERKMA           0\n",
       " 1033  5q8sDHE7csnCtOLUW2NVQA  4.433992  -5ffv9jDtTPfpdzOBERKMA           0\n",
       " \n",
       " [1034 rows x 4 columns],\n",
       "                  business_id     score                 user_id  real_label\n",
       " 0     RFo876v_A63N2JfOTq1p-g  4.916901  -5jhwwoyXYRzQ0-sr2HCBg           0\n",
       " 1     -fs09akgCKv5rTTy7iUHUg  4.915897  -5jhwwoyXYRzQ0-sr2HCBg           0\n",
       " 2     KTGEa8V9ec0QBYM_uk1YLQ  4.902574  -5jhwwoyXYRzQ0-sr2HCBg           0\n",
       " 3     o_N7HiU3f6cVvrJAFrE43A  4.888374  -5jhwwoyXYRzQ0-sr2HCBg           0\n",
       " 4     zLm2PaYrpHkcr63ekwvtBQ  4.880283  -5jhwwoyXYRzQ0-sr2HCBg           0\n",
       " ...                      ...       ...                     ...         ...\n",
       " 1042  AvNekC7lDNoRLfDxhIb_XQ  4.423909  -5jhwwoyXYRzQ0-sr2HCBg           0\n",
       " 1043  -w3QfCAsyxnZxOWhOMAC6Q  4.423856  -5jhwwoyXYRzQ0-sr2HCBg           0\n",
       " 1044  9rMLrfcH-d6mKdq7uMNwzw  4.423438  -5jhwwoyXYRzQ0-sr2HCBg           0\n",
       " 1045  dfoptDebFhEZCZwFxuZ6_w  4.423130  -5jhwwoyXYRzQ0-sr2HCBg           0\n",
       " 1046  MJL8eYCOYhvYV1QPmgFa1w  4.423024  -5jhwwoyXYRzQ0-sr2HCBg           0\n",
       " \n",
       " [1047 rows x 4 columns],\n",
       "                  business_id     score                 user_id  real_label\n",
       " 0     -fs09akgCKv5rTTy7iUHUg  4.112640  -5whywrvs1BItphhVpyhfg           0\n",
       " 1     KTGEa8V9ec0QBYM_uk1YLQ  4.093001  -5whywrvs1BItphhVpyhfg           0\n",
       " 2     o_N7HiU3f6cVvrJAFrE43A  4.082915  -5whywrvs1BItphhVpyhfg           0\n",
       " 3     zLm2PaYrpHkcr63ekwvtBQ  4.077822  -5whywrvs1BItphhVpyhfg           0\n",
       " 4     u3zqvp4BYUjzJD7tzx3Jbg  4.055393  -5whywrvs1BItphhVpyhfg           0\n",
       " ...                      ...       ...                     ...         ...\n",
       " 1001  65S1_pUre8OLfBT42L7L8g  3.529235  -5whywrvs1BItphhVpyhfg           0\n",
       " 1002  Zc710cEmB6LtUcMALGNZHw  3.529007  -5whywrvs1BItphhVpyhfg           0\n",
       " 1003  SzKOoeRCtoXvekt3K8B9Iw  3.528768  -5whywrvs1BItphhVpyhfg           0\n",
       " 1004  BSsUo9_zTI4po1SXPfNHuA  3.528481  -5whywrvs1BItphhVpyhfg           0\n",
       " 1005  QeqIUnIchD2evwHCUSTEww  3.528347  -5whywrvs1BItphhVpyhfg           0\n",
       " \n",
       " [1006 rows x 4 columns],\n",
       "                 business_id     score                 user_id  real_label\n",
       " 0    -fs09akgCKv5rTTy7iUHUg  4.484548  -649i19_jvF5aNi7DAEo_Q           0\n",
       " 1    8ZCpyx-U-dEJyNZBWiC3mA  4.479800  -649i19_jvF5aNi7DAEo_Q           0\n",
       " 2    KTGEa8V9ec0QBYM_uk1YLQ  4.450278  -649i19_jvF5aNi7DAEo_Q           0\n",
       " 3    zLm2PaYrpHkcr63ekwvtBQ  4.427064  -649i19_jvF5aNi7DAEo_Q           0\n",
       " 4    u3zqvp4BYUjzJD7tzx3Jbg  4.409065  -649i19_jvF5aNi7DAEo_Q           0\n",
       " ..                      ...       ...                     ...         ...\n",
       " 995  0BfkBUXMKXdpYVI8G8CpMg  3.892130  -649i19_jvF5aNi7DAEo_Q           0\n",
       " 996  229pgAfC3CBMmIWNngwKsA  3.891605  -649i19_jvF5aNi7DAEo_Q           0\n",
       " 997  kEVptUKa_OUPn_50sTmoTQ  3.891130  -649i19_jvF5aNi7DAEo_Q           0\n",
       " 998  w_LP7DTDpibVU9rLtzhGCA  3.890731  -649i19_jvF5aNi7DAEo_Q           0\n",
       " 999  wE-U4wEFIOt3YRBdhgBkfw  3.890073  -649i19_jvF5aNi7DAEo_Q           0\n",
       " \n",
       " [1000 rows x 4 columns],\n",
       "                  business_id     score                 user_id  real_label\n",
       " 0     Jg9kkOl4sx2AXJVohbpSiw  4.195888  -6ANKdm808QNwIt6Wo82-A           0\n",
       " 1     Bk6uzC83wbmCHm2i5Uz8OA  4.193575  -6ANKdm808QNwIt6Wo82-A           0\n",
       " 2     1pp0D12fv1aObregTlkArg  4.168870  -6ANKdm808QNwIt6Wo82-A           0\n",
       " 3     BXXdejmA_rJpMD2MBKCyGA  4.158657  -6ANKdm808QNwIt6Wo82-A           0\n",
       " 4     X3NS8516o015Z1zcOwrqmQ  4.149707  -6ANKdm808QNwIt6Wo82-A           0\n",
       " ...                      ...       ...                     ...         ...\n",
       " 1069  oe-iacnzvyHV8zxaNqCf7A  3.545891  -6ANKdm808QNwIt6Wo82-A           0\n",
       " 1070  BjB3V_pwlTfuxb2s9rqE_g  3.545342  -6ANKdm808QNwIt6Wo82-A           0\n",
       " 1071  vvOzblHBA2HHsCb7CMSDbQ  3.544825  -6ANKdm808QNwIt6Wo82-A           0\n",
       " 1072  AOlB9GRr5v89k_Gof3b_DA  3.544623  -6ANKdm808QNwIt6Wo82-A           0\n",
       " 1073  9xa_JD-_Vqbnusmx0k6i9w  3.544037  -6ANKdm808QNwIt6Wo82-A           0\n",
       " \n",
       " [1074 rows x 4 columns],\n",
       "                  business_id     score                 user_id  real_label\n",
       " 0     RFo876v_A63N2JfOTq1p-g  5.081875  -6Fk7QmNWJDaDKwwcgS8PQ           0\n",
       " 1     -fs09akgCKv5rTTy7iUHUg  5.080836  -6Fk7QmNWJDaDKwwcgS8PQ           0\n",
       " 2     KTGEa8V9ec0QBYM_uk1YLQ  5.067547  -6Fk7QmNWJDaDKwwcgS8PQ           0\n",
       " 3     o_N7HiU3f6cVvrJAFrE43A  5.053324  -6Fk7QmNWJDaDKwwcgS8PQ           0\n",
       " 4     zLm2PaYrpHkcr63ekwvtBQ  5.045257  -6Fk7QmNWJDaDKwwcgS8PQ           0\n",
       " ...                      ...       ...                     ...         ...\n",
       " 1035  Igg-V2uGqGaeb13L91sngw  4.604937  -6Fk7QmNWJDaDKwwcgS8PQ           0\n",
       " 1036  zf9_8CskW6Vzakg6V78S0g  4.604240  -6Fk7QmNWJDaDKwwcgS8PQ           0\n",
       " 1037  zf9_8CskW6Vzakg6V78S0g  4.604240  -6Fk7QmNWJDaDKwwcgS8PQ           0\n",
       " 1038  wH94vFPKNVtBmQX5c7AfRA  4.604210  -6Fk7QmNWJDaDKwwcgS8PQ           0\n",
       " 1039  RaJrxyqjgEh_1bhCLtP6oA  4.604037  -6Fk7QmNWJDaDKwwcgS8PQ           0\n",
       " \n",
       " [1040 rows x 4 columns],\n",
       "                  business_id     score                 user_id  real_label\n",
       " 0     -fs09akgCKv5rTTy7iUHUg  4.931766  -6IEezWnzsB8THCxaVFyNw           0\n",
       " 1     KTGEa8V9ec0QBYM_uk1YLQ  4.918431  -6IEezWnzsB8THCxaVFyNw           0\n",
       " 2     8ZCpyx-U-dEJyNZBWiC3mA  4.880011  -6IEezWnzsB8THCxaVFyNw           0\n",
       " 3     8ZCpyx-U-dEJyNZBWiC3mA  4.880011  -6IEezWnzsB8THCxaVFyNw           0\n",
       " 4     5tK4y67IUn3eDd3S1bka9Q  4.862003  -6IEezWnzsB8THCxaVFyNw           0\n",
       " ...                      ...       ...                     ...         ...\n",
       " 1083  -UEeCTgxud4OGWshX4x-jw  4.428767  -6IEezWnzsB8THCxaVFyNw           0\n",
       " 1084  pEA1WUzNppq7pTBrVz7GhA  4.428761  -6IEezWnzsB8THCxaVFyNw           0\n",
       " 1085  82_lGisVlstS_ojKZw9qNw  4.428722  -6IEezWnzsB8THCxaVFyNw           0\n",
       " 1086  pxZAz8pv18wK_t-m8WpN0g  4.428576  -6IEezWnzsB8THCxaVFyNw           0\n",
       " 1087  xWfm4AwLZr-B97fYVsIgCA  4.428477  -6IEezWnzsB8THCxaVFyNw           0\n",
       " \n",
       " [1088 rows x 4 columns],\n",
       "                  business_id     score                 user_id  real_label\n",
       " 0     RFo876v_A63N2JfOTq1p-g  5.046399  -6YHxNhkE2hcT-YGVqjI0Q           0\n",
       " 1     -fs09akgCKv5rTTy7iUHUg  5.045406  -6YHxNhkE2hcT-YGVqjI0Q           0\n",
       " 2     KTGEa8V9ec0QBYM_uk1YLQ  5.032072  -6YHxNhkE2hcT-YGVqjI0Q           0\n",
       " 3     o_N7HiU3f6cVvrJAFrE43A  5.017872  -6YHxNhkE2hcT-YGVqjI0Q           0\n",
       " 4     Y93S8ZVnOhXQTkWZQEU5yg  4.997159  -6YHxNhkE2hcT-YGVqjI0Q           0\n",
       " ...                      ...       ...                     ...         ...\n",
       " 1041  qFMx3Z_8-X0_osgIJAoZVg  4.531068  -6YHxNhkE2hcT-YGVqjI0Q           0\n",
       " 1042  HWTq8bdRdf6feY75Twgwmg  4.531046  -6YHxNhkE2hcT-YGVqjI0Q           0\n",
       " 1043  kOHcpCZQd4uNp6G2uE8o2A  4.530756  -6YHxNhkE2hcT-YGVqjI0Q           0\n",
       " 1044  ONtMDaW8JZhPaV51gkf3CA  4.530731  -6YHxNhkE2hcT-YGVqjI0Q           0\n",
       " 1045  QTeEX_XchMKgS27yX913mA  4.530278  -6YHxNhkE2hcT-YGVqjI0Q           0\n",
       " \n",
       " [1046 rows x 4 columns],\n",
       "                  business_id     score                 user_id  real_label\n",
       " 0     -fs09akgCKv5rTTy7iUHUg  4.322134  -6ZhDj655l0dKia8IDKYoQ           0\n",
       " 1     KTGEa8V9ec0QBYM_uk1YLQ  4.295059  -6ZhDj655l0dKia8IDKYoQ           0\n",
       " 2     zLm2PaYrpHkcr63ekwvtBQ  4.280830  -6ZhDj655l0dKia8IDKYoQ           0\n",
       " 3     8ZCpyx-U-dEJyNZBWiC3mA  4.280358  -6ZhDj655l0dKia8IDKYoQ           0\n",
       " 4     u3zqvp4BYUjzJD7tzx3Jbg  4.261080  -6ZhDj655l0dKia8IDKYoQ           0\n",
       " ...                      ...       ...                     ...         ...\n",
       " 1026  h-LoRnHxlAx4tS2UJrmKLw  3.797228  -6ZhDj655l0dKia8IDKYoQ           0\n",
       " 1027  _Rj-WaJMlpdhM3hNzrjgoQ  3.797070  -6ZhDj655l0dKia8IDKYoQ           0\n",
       " 1028  ZBL9Zr-zm7_2WTxOfAVKiw  3.796399  -6ZhDj655l0dKia8IDKYoQ           0\n",
       " 1029  uIfVylzs0r9_fpqvSp77Ug  3.796214  -6ZhDj655l0dKia8IDKYoQ           0\n",
       " 1030  vN6v8m4DO45Z4pp8yxxF_w  3.796130  -6ZhDj655l0dKia8IDKYoQ           0\n",
       " \n",
       " [1031 rows x 4 columns],\n",
       "                 business_id     score                 user_id  real_label\n",
       " 0    -fs09akgCKv5rTTy7iUHUg  4.036281  -6aZVWznrSeaV6Wyqi9r_w           0\n",
       " 1    KTGEa8V9ec0QBYM_uk1YLQ  4.023491  -6aZVWznrSeaV6Wyqi9r_w           0\n",
       " 2    5tK4y67IUn3eDd3S1bka9Q  3.983969  -6aZVWznrSeaV6Wyqi9r_w           0\n",
       " 3    XJvOamdhTQI65jmzTfreDQ  3.953373  -6aZVWznrSeaV6Wyqi9r_w           0\n",
       " 4    NnlQhXtuVOVjUFYB1Hqp8Q  3.950913  -6aZVWznrSeaV6Wyqi9r_w           0\n",
       " ..                      ...       ...                     ...         ...\n",
       " 995  RM8KUqpvhBP5FhGJ6Eqp3A  3.365050  -6aZVWznrSeaV6Wyqi9r_w           0\n",
       " 996  3yyTNQtkDYOP3vsCdoFm6A  3.364766  -6aZVWznrSeaV6Wyqi9r_w           0\n",
       " 997  6BvmLng8AmH56-eSekl3zg  3.364660  -6aZVWznrSeaV6Wyqi9r_w           0\n",
       " 998  9pSChgbs1Skp8rRLQb8x9A  3.364635  -6aZVWznrSeaV6Wyqi9r_w           0\n",
       " 999  7zzMf0VwD51K7dJjZMf_pA  3.364477  -6aZVWznrSeaV6Wyqi9r_w           0\n",
       " \n",
       " [1000 rows x 4 columns],\n",
       "                 business_id     score                 user_id  real_label\n",
       " 0    -fs09akgCKv5rTTy7iUHUg  4.838933  -6it8Ywn7yYiAofCd-fpJw           0\n",
       " 1    KTGEa8V9ec0QBYM_uk1YLQ  4.825722  -6it8Ywn7yYiAofCd-fpJw           0\n",
       " 2    zLm2PaYrpHkcr63ekwvtBQ  4.803431  -6it8Ywn7yYiAofCd-fpJw           0\n",
       " 3    8ZCpyx-U-dEJyNZBWiC3mA  4.787167  -6it8Ywn7yYiAofCd-fpJw           0\n",
       " 4    5tK4y67IUn3eDd3S1bka9Q  4.769284  -6it8Ywn7yYiAofCd-fpJw           0\n",
       " ..                      ...       ...                     ...         ...\n",
       " 995  fb7WERNeJ6KbzN-H5ImqnQ  4.356052  -6it8Ywn7yYiAofCd-fpJw           0\n",
       " 996  hHCGmb01EGFstumCsd4-VA  4.356048  -6it8Ywn7yYiAofCd-fpJw           0\n",
       " 997  0Z8ps_OfcR9eJaV2JtxigA  4.355835  -6it8Ywn7yYiAofCd-fpJw           0\n",
       " 998  PtnPDvGQ4WnZl66GoLph_g  4.355757  -6it8Ywn7yYiAofCd-fpJw           0\n",
       " 999  Tf7c38yepZzZvPG9wxNIqw  4.355736  -6it8Ywn7yYiAofCd-fpJw           0\n",
       " \n",
       " [1000 rows x 4 columns],\n",
       "                  business_id     score                 user_id  real_label\n",
       " 0     -fs09akgCKv5rTTy7iUHUg  4.834349  -7-d8x5w5c9QolAMgPTKZg           0\n",
       " 1     TE2IEDNV0RcI6s1wTOP4fg  4.826368  -7-d8x5w5c9QolAMgPTKZg           0\n",
       " 2     KTGEa8V9ec0QBYM_uk1YLQ  4.821021  -7-d8x5w5c9QolAMgPTKZg           0\n",
       " 3     KTGEa8V9ec0QBYM_uk1YLQ  4.821021  -7-d8x5w5c9QolAMgPTKZg           0\n",
       " 4     o_N7HiU3f6cVvrJAFrE43A  4.806821  -7-d8x5w5c9QolAMgPTKZg           0\n",
       " ...                      ...       ...                     ...         ...\n",
       " 1088  7u7qfIDQCqLjDd7RSae7gQ  4.351404  -7-d8x5w5c9QolAMgPTKZg           0\n",
       " 1089  da_jniSpqeo9Z6FLCCh4jQ  4.351275  -7-d8x5w5c9QolAMgPTKZg           0\n",
       " 1090  6lTzO3wXNTJJODicDjfyJQ  4.350691  -7-d8x5w5c9QolAMgPTKZg           0\n",
       " 1091  dsxkmGJyQlQVca8aa03awg  4.350651  -7-d8x5w5c9QolAMgPTKZg           0\n",
       " 1092  M9M37FllWUIslw2OE9eyKg  4.350587  -7-d8x5w5c9QolAMgPTKZg           0\n",
       " \n",
       " [1093 rows x 4 columns],\n",
       "                  business_id     score                 user_id  real_label\n",
       " 0     RFo876v_A63N2JfOTq1p-g  4.827797  -7Eh_8y1ihj3nNtdIetiRA           0\n",
       " 1     -fs09akgCKv5rTTy7iUHUg  4.826024  -7Eh_8y1ihj3nNtdIetiRA           0\n",
       " 2     KTGEa8V9ec0QBYM_uk1YLQ  4.805633  -7Eh_8y1ihj3nNtdIetiRA           0\n",
       " 3     o_N7HiU3f6cVvrJAFrE43A  4.798490  -7Eh_8y1ihj3nNtdIetiRA           0\n",
       " 4     zLm2PaYrpHkcr63ekwvtBQ  4.792178  -7Eh_8y1ihj3nNtdIetiRA           0\n",
       " ...                      ...       ...                     ...         ...\n",
       " 997   E1EuIHgjBvYcs8Uu_SyV4A  4.319847  -7Eh_8y1ihj3nNtdIetiRA           0\n",
       " 998   229pgAfC3CBMmIWNngwKsA  4.319317  -7Eh_8y1ihj3nNtdIetiRA           0\n",
       " 999   MKsCFQuzmgH2We9hwTQ8gw  4.319236  -7Eh_8y1ihj3nNtdIetiRA           0\n",
       " 1000  2mAiSk1LeHlNu4Iq5RH7Qw  4.319193  -7Eh_8y1ihj3nNtdIetiRA           0\n",
       " 1001  MaaDRJZKSUTAJeF6OTQRnA  4.319139  -7Eh_8y1ihj3nNtdIetiRA           0\n",
       " \n",
       " [1002 rows x 4 columns],\n",
       "                  business_id     score                 user_id  real_label\n",
       " 0     ctHjyadbDQAtUFfkcAFEHw  5.067781  -7Jz5rawtZ4EGf8QhDcAlg           0\n",
       " 1     KTGEa8V9ec0QBYM_uk1YLQ  5.042947  -7Jz5rawtZ4EGf8QhDcAlg           0\n",
       " 2     KTGEa8V9ec0QBYM_uk1YLQ  5.042947  -7Jz5rawtZ4EGf8QhDcAlg           0\n",
       " 3     ytynqOUb3hjKeJfRj5Tshw  4.989058  -7Jz5rawtZ4EGf8QhDcAlg           0\n",
       " 4     ytynqOUb3hjKeJfRj5Tshw  4.989058  -7Jz5rawtZ4EGf8QhDcAlg           0\n",
       " ...                      ...       ...                     ...         ...\n",
       " 1075  vpfy4_N1PozCkvk2WDE_RQ  4.434160  -7Jz5rawtZ4EGf8QhDcAlg           0\n",
       " 1076  -0FX23yAacC4bbLaGPvyxw  4.434156  -7Jz5rawtZ4EGf8QhDcAlg           0\n",
       " 1077  -0FX23yAacC4bbLaGPvyxw  4.434156  -7Jz5rawtZ4EGf8QhDcAlg           0\n",
       " 1078  Al8y5FTs9tW5VsxTVy9ZMg  4.433862  -7Jz5rawtZ4EGf8QhDcAlg           0\n",
       " 1079  ex8RrhAhVVexndFhmNfG1Q  4.433836  -7Jz5rawtZ4EGf8QhDcAlg           0\n",
       " \n",
       " [1080 rows x 4 columns],\n",
       "                  business_id     score                 user_id  real_label\n",
       " 0     -fs09akgCKv5rTTy7iUHUg  4.997021  -7XrSrJfHndHc_taEXurTw           0\n",
       " 1     KTGEa8V9ec0QBYM_uk1YLQ  4.983685  -7XrSrJfHndHc_taEXurTw           0\n",
       " 2     o_N7HiU3f6cVvrJAFrE43A  4.969486  -7XrSrJfHndHc_taEXurTw           0\n",
       " 3     zLm2PaYrpHkcr63ekwvtBQ  4.961613  -7XrSrJfHndHc_taEXurTw           0\n",
       " 4     Y93S8ZVnOhXQTkWZQEU5yg  4.948773  -7XrSrJfHndHc_taEXurTw           0\n",
       " ...                      ...       ...                     ...         ...\n",
       " 1062  SADPX8WX34EQDj_jqtacMw  4.518224  -7XrSrJfHndHc_taEXurTw           0\n",
       " 1063  bY55freuP8C_wr6y5Fid7w  4.517992  -7XrSrJfHndHc_taEXurTw           0\n",
       " 1064  bY55freuP8C_wr6y5Fid7w  4.517992  -7XrSrJfHndHc_taEXurTw           0\n",
       " 1065  yGFkdrYdndizAPymvyq2WQ  4.517817  -7XrSrJfHndHc_taEXurTw           0\n",
       " 1066  FcKqZpor9OjdTfoWkaGXuA  4.517771  -7XrSrJfHndHc_taEXurTw           0\n",
       " \n",
       " [1067 rows x 4 columns],\n",
       "                  business_id     score                 user_id  real_label\n",
       " 0     TE2IEDNV0RcI6s1wTOP4fg  3.935265  -7_OQiwD8HojEj2qeRSIWw           0\n",
       " 1     TE2IEDNV0RcI6s1wTOP4fg  3.935265  -7_OQiwD8HojEj2qeRSIWw           0\n",
       " 2     XJvOamdhTQI65jmzTfreDQ  3.877205  -7_OQiwD8HojEj2qeRSIWw           0\n",
       " 3     _ZMf5Am_e0AE7aveELJd9w  3.865603  -7_OQiwD8HojEj2qeRSIWw           0\n",
       " 4     i7_3lQzM5SP8Cc2YT-X3BA  3.863915  -7_OQiwD8HojEj2qeRSIWw           0\n",
       " ...                      ...       ...                     ...         ...\n",
       " 1092  o7YE1WaFeQg_piECb9cgjQ  3.196466  -7_OQiwD8HojEj2qeRSIWw           0\n",
       " 1093  yxs_SMXOMC7fDOVWwDLBdg  3.196266  -7_OQiwD8HojEj2qeRSIWw           0\n",
       " 1094  rZFm1YslDSv-Uy2oZ41eIQ  3.196188  -7_OQiwD8HojEj2qeRSIWw           0\n",
       " 1095  jXtaxB2b64nA4uy13i024A  3.196168  -7_OQiwD8HojEj2qeRSIWw           0\n",
       " 1096  CLtf4i6Mm8nj5t2wB9myEg  3.195925  -7_OQiwD8HojEj2qeRSIWw           0\n",
       " \n",
       " [1097 rows x 4 columns],\n",
       "                  business_id     score                 user_id  real_label\n",
       " 0     -fs09akgCKv5rTTy7iUHUg  4.422373  -7c1r5P0l_ovoX1a2wyhHA           0\n",
       " 1     KTGEa8V9ec0QBYM_uk1YLQ  4.400932  -7c1r5P0l_ovoX1a2wyhHA           0\n",
       " 2     zLm2PaYrpHkcr63ekwvtBQ  4.383631  -7c1r5P0l_ovoX1a2wyhHA           0\n",
       " 3     8ZCpyx-U-dEJyNZBWiC3mA  4.374239  -7c1r5P0l_ovoX1a2wyhHA           0\n",
       " 4     o_N7HiU3f6cVvrJAFrE43A  4.362319  -7c1r5P0l_ovoX1a2wyhHA           0\n",
       " ...                      ...       ...                     ...         ...\n",
       " 998   q92RjCgEyOLxDhOQ-GLn4A  3.807999  -7c1r5P0l_ovoX1a2wyhHA           0\n",
       " 999   JfKe2LI_1F8NhqOsKzHggg  3.807712  -7c1r5P0l_ovoX1a2wyhHA           0\n",
       " 1000  ET3d_6BRUyyEzzwAMsqpxw  3.807702  -7c1r5P0l_ovoX1a2wyhHA           0\n",
       " 1001  1XJTGYMz3dgcjhVlyOGKpA  3.807444  -7c1r5P0l_ovoX1a2wyhHA           0\n",
       " 1002  qEcgemvSCGUFRKPS3lt3pw  3.806965  -7c1r5P0l_ovoX1a2wyhHA           0\n",
       " \n",
       " [1003 rows x 4 columns],\n",
       "                  business_id     score                 user_id  real_label\n",
       " 0     RFo876v_A63N2JfOTq1p-g  4.290117  -7c9_cVlKtKD0MozmLLrTg           0\n",
       " 1     -fs09akgCKv5rTTy7iUHUg  4.283548  -7c9_cVlKtKD0MozmLLrTg           0\n",
       " 2     KTGEa8V9ec0QBYM_uk1YLQ  4.259571  -7c9_cVlKtKD0MozmLLrTg           0\n",
       " 3     Y93S8ZVnOhXQTkWZQEU5yg  4.242995  -7c9_cVlKtKD0MozmLLrTg           0\n",
       " 4     o_N7HiU3f6cVvrJAFrE43A  4.242339  -7c9_cVlKtKD0MozmLLrTg           0\n",
       " ...                      ...       ...                     ...         ...\n",
       " 1000  6BvmLng8AmH56-eSekl3zg  3.763572  -7c9_cVlKtKD0MozmLLrTg           0\n",
       " 1001  7T1VAYHIS3cgsDj3iS6JWQ  3.763095  -7c9_cVlKtKD0MozmLLrTg           0\n",
       " 1002  hHCGmb01EGFstumCsd4-VA  3.762824  -7c9_cVlKtKD0MozmLLrTg           0\n",
       " 1003  wnjFEC-w0qWnyDnO8k1RpA  3.762599  -7c9_cVlKtKD0MozmLLrTg           0\n",
       " 1004  RaJrxyqjgEh_1bhCLtP6oA  3.762397  -7c9_cVlKtKD0MozmLLrTg           0\n",
       " \n",
       " [1005 rows x 4 columns],\n",
       "                  business_id     score                 user_id  real_label\n",
       " 0     -fs09akgCKv5rTTy7iUHUg  4.668680  -7iJF8OzQ4Ax-3igJae29A           0\n",
       " 1     KTGEa8V9ec0QBYM_uk1YLQ  4.625966  -7iJF8OzQ4Ax-3igJae29A           0\n",
       " 2     zLm2PaYrpHkcr63ekwvtBQ  4.598255  -7iJF8OzQ4Ax-3igJae29A           0\n",
       " 3     8ZCpyx-U-dEJyNZBWiC3mA  4.595951  -7iJF8OzQ4Ax-3igJae29A           0\n",
       " 4     5tK4y67IUn3eDd3S1bka9Q  4.584635  -7iJF8OzQ4Ax-3igJae29A           0\n",
       " ...                      ...       ...                     ...         ...\n",
       " 999   ME7nOO4hHoCwkbssGqsyPA  3.989270  -7iJF8OzQ4Ax-3igJae29A           0\n",
       " 1000  rcJnKmhgSPb8BmK3d6AZYQ  3.989251  -7iJF8OzQ4Ax-3igJae29A           0\n",
       " 1001  M4ME5ir-QwnRdM4fhjZtTA  3.989147  -7iJF8OzQ4Ax-3igJae29A           0\n",
       " 1002  uz5iexrLN3LjGQGcKMSTuw  3.989051  -7iJF8OzQ4Ax-3igJae29A           0\n",
       " 1003  mrtFgfT6MgkC8yThcmNWYw  3.989019  -7iJF8OzQ4Ax-3igJae29A           0\n",
       " \n",
       " [1004 rows x 4 columns],\n",
       "                 business_id     score                 user_id  real_label\n",
       " 0    KTGEa8V9ec0QBYM_uk1YLQ  5.077658  -7qUbOVWJp2NT3f_TNuIBA           0\n",
       " 1    8ZCpyx-U-dEJyNZBWiC3mA  5.039236  -7qUbOVWJp2NT3f_TNuIBA           0\n",
       " 2    5tK4y67IUn3eDd3S1bka9Q  5.021230  -7qUbOVWJp2NT3f_TNuIBA           0\n",
       " 3    XJvOamdhTQI65jmzTfreDQ  4.965727  -7qUbOVWJp2NT3f_TNuIBA           0\n",
       " 4    Bk6uzC83wbmCHm2i5Uz8OA  4.960314  -7qUbOVWJp2NT3f_TNuIBA           0\n",
       " ..                      ...       ...                     ...         ...\n",
       " 995  eZBrTND1Da2V0sIg0NpYcA  4.554177  -7qUbOVWJp2NT3f_TNuIBA           0\n",
       " 996  7eiGKDBo7qymeasy-uq1qQ  4.553945  -7qUbOVWJp2NT3f_TNuIBA           0\n",
       " 997  IBWzg15XkNO25hOpQHM7ig  4.553090  -7qUbOVWJp2NT3f_TNuIBA           0\n",
       " 998  -o6bah2j6_IH9pkwANXcLA  4.552975  -7qUbOVWJp2NT3f_TNuIBA           0\n",
       " 999  kvbuD3U93O2w8YYPzsCxlA  4.552776  -7qUbOVWJp2NT3f_TNuIBA           0\n",
       " \n",
       " [1000 rows x 4 columns],\n",
       "                  business_id     score                 user_id  real_label\n",
       " 0     -fs09akgCKv5rTTy7iUHUg  5.358854  -8PU0Z4Q2Nc-sY0eBj4DiQ           0\n",
       " 1     KTGEa8V9ec0QBYM_uk1YLQ  5.345607  -8PU0Z4Q2Nc-sY0eBj4DiQ           0\n",
       " 2     o_N7HiU3f6cVvrJAFrE43A  5.331342  -8PU0Z4Q2Nc-sY0eBj4DiQ           0\n",
       " 3     zLm2PaYrpHkcr63ekwvtBQ  5.323316  -8PU0Z4Q2Nc-sY0eBj4DiQ           0\n",
       " 4     5tK4y67IUn3eDd3S1bka9Q  5.289178  -8PU0Z4Q2Nc-sY0eBj4DiQ           0\n",
       " ...                      ...       ...                     ...         ...\n",
       " 1075  zumI_uy6dVX4aWiYivytBg  4.803665  -8PU0Z4Q2Nc-sY0eBj4DiQ           0\n",
       " 1076  xM6GFqXfW0mvMvmp4am8Bg  4.803457  -8PU0Z4Q2Nc-sY0eBj4DiQ           0\n",
       " 1077  kWFgllI8AfMCIvRJ2KwuRA  4.803409  -8PU0Z4Q2Nc-sY0eBj4DiQ           0\n",
       " 1078  BqoOkuGKlbDI3L_A4I3pkA  4.803359  -8PU0Z4Q2Nc-sY0eBj4DiQ           0\n",
       " 1079  JLCD-LNCwTV85WXUMV35wQ  4.803158  -8PU0Z4Q2Nc-sY0eBj4DiQ           0\n",
       " \n",
       " [1080 rows x 4 columns],\n",
       "                  business_id     score                 user_id  real_label\n",
       " 0     -fs09akgCKv5rTTy7iUHUg  4.774142  -8ZCYEX1LWzDO6Qmj3EdxA           0\n",
       " 1     KTGEa8V9ec0QBYM_uk1YLQ  4.765171  -8ZCYEX1LWzDO6Qmj3EdxA           0\n",
       " 2     zLm2PaYrpHkcr63ekwvtBQ  4.728786  -8ZCYEX1LWzDO6Qmj3EdxA           0\n",
       " 3     8ZCpyx-U-dEJyNZBWiC3mA  4.710740  -8ZCYEX1LWzDO6Qmj3EdxA           0\n",
       " 4     5tK4y67IUn3eDd3S1bka9Q  4.700489  -8ZCYEX1LWzDO6Qmj3EdxA           0\n",
       " ...                      ...       ...                     ...         ...\n",
       " 1018  2Yf3uGarCtGq7Expa0A81Q  4.206846  -8ZCYEX1LWzDO6Qmj3EdxA           0\n",
       " 1019  CYSPKiVdoPX3erovujnE9Q  4.206841  -8ZCYEX1LWzDO6Qmj3EdxA           0\n",
       " 1020  NL_RDDQ_uPAT8t-x7hINvA  4.206820  -8ZCYEX1LWzDO6Qmj3EdxA           0\n",
       " 1021  82_lGisVlstS_ojKZw9qNw  4.206535  -8ZCYEX1LWzDO6Qmj3EdxA           0\n",
       " 1022  ks3wzyjYONFusrJ4O4YL-w  4.206483  -8ZCYEX1LWzDO6Qmj3EdxA           0\n",
       " \n",
       " [1023 rows x 4 columns],\n",
       "                  business_id     score                 user_id  real_label\n",
       " 0     RFo876v_A63N2JfOTq1p-g  4.887578  -8a2Ju7w0CEr3jCbf1AudQ           0\n",
       " 1     -fs09akgCKv5rTTy7iUHUg  4.886529  -8a2Ju7w0CEr3jCbf1AudQ           0\n",
       " 2     KTGEa8V9ec0QBYM_uk1YLQ  4.873250  -8a2Ju7w0CEr3jCbf1AudQ           0\n",
       " 3     o_N7HiU3f6cVvrJAFrE43A  4.859017  -8a2Ju7w0CEr3jCbf1AudQ           0\n",
       " 4     zLm2PaYrpHkcr63ekwvtBQ  4.850960  -8a2Ju7w0CEr3jCbf1AudQ           0\n",
       " ...                      ...       ...                     ...         ...\n",
       " 1039  mCKkfHKBhAUanBoHzys7hQ  4.378847  -8a2Ju7w0CEr3jCbf1AudQ           0\n",
       " 1040  QTeEX_XchMKgS27yX913mA  4.378824  -8a2Ju7w0CEr3jCbf1AudQ           0\n",
       " 1041  ueX6oVA4GSaKaBKMFyC8mA  4.378771  -8a2Ju7w0CEr3jCbf1AudQ           0\n",
       " 1042  gbw5wqRVjeyCEExrM0RPmA  4.378715  -8a2Ju7w0CEr3jCbf1AudQ           0\n",
       " 1043  viTvepI8TEHvl8nwiewX6Q  4.378574  -8a2Ju7w0CEr3jCbf1AudQ           0\n",
       " \n",
       " [1044 rows x 4 columns],\n",
       "                  business_id     score                 user_id  real_label\n",
       " 0     ytynqOUb3hjKeJfRj5Tshw  5.323870  -9GExktXOjboVL56j0EX7A           0\n",
       " 1     -fs09akgCKv5rTTy7iUHUg  5.187494  -9GExktXOjboVL56j0EX7A           0\n",
       " 2     TE2IEDNV0RcI6s1wTOP4fg  5.179550  -9GExktXOjboVL56j0EX7A           0\n",
       " 3     KTGEa8V9ec0QBYM_uk1YLQ  5.174203  -9GExktXOjboVL56j0EX7A           0\n",
       " 4     o_N7HiU3f6cVvrJAFrE43A  5.159982  -9GExktXOjboVL56j0EX7A           0\n",
       " ...                      ...       ...                     ...         ...\n",
       " 1077  LGYVMgnT5Qb0wohwEy_Shg  4.694249  -9GExktXOjboVL56j0EX7A           0\n",
       " 1078  uvj_tGQrGDSVXjNU4pHjCA  4.694205  -9GExktXOjboVL56j0EX7A           0\n",
       " 1079  NO72Hrp96gazaxflsUrGyg  4.694192  -9GExktXOjboVL56j0EX7A           0\n",
       " 1080  Rw8Zf_snPdZO_B3XFOsJ6w  4.693955  -9GExktXOjboVL56j0EX7A           0\n",
       " 1081  23qO8FxRwjfmkDqCK-HfLw  4.693641  -9GExktXOjboVL56j0EX7A           0\n",
       " \n",
       " [1082 rows x 4 columns],\n",
       "                 business_id     score                 user_id  real_label\n",
       " 0    -fs09akgCKv5rTTy7iUHUg  4.781769  -9HSI_V_J9oUhg0qwJl-oA           0\n",
       " 1    8ZCpyx-U-dEJyNZBWiC3mA  4.725628  -9HSI_V_J9oUhg0qwJl-oA           0\n",
       " 2    5tK4y67IUn3eDd3S1bka9Q  4.713152  -9HSI_V_J9oUhg0qwJl-oA           0\n",
       " 3    NnlQhXtuVOVjUFYB1Hqp8Q  4.666082  -9HSI_V_J9oUhg0qwJl-oA           0\n",
       " 4    XJvOamdhTQI65jmzTfreDQ  4.662695  -9HSI_V_J9oUhg0qwJl-oA           0\n",
       " ..                      ...       ...                     ...         ...\n",
       " 995  htkrEPPQg6iH2QoBDjrEJw  4.257312  -9HSI_V_J9oUhg0qwJl-oA           0\n",
       " 996  RjTT7tn9BPTfRmyJagMN6g  4.257306  -9HSI_V_J9oUhg0qwJl-oA           0\n",
       " 997  27AYMHTMgS7UIkO6M1KfpA  4.257205  -9HSI_V_J9oUhg0qwJl-oA           0\n",
       " 998  NL_RDDQ_uPAT8t-x7hINvA  4.256821  -9HSI_V_J9oUhg0qwJl-oA           0\n",
       " 999  3puk4beQqK6zz8N4nTdhtQ  4.256797  -9HSI_V_J9oUhg0qwJl-oA           0\n",
       " \n",
       " [1000 rows x 4 columns],\n",
       "                  business_id     score                 user_id  real_label\n",
       " 0     -fs09akgCKv5rTTy7iUHUg  4.914468  -9OEoNjcLa9nBiu41nHiaQ           0\n",
       " 1     o_N7HiU3f6cVvrJAFrE43A  4.900837  -9OEoNjcLa9nBiu41nHiaQ           0\n",
       " 2     RFo876v_A63N2JfOTq1p-g  4.891706  -9OEoNjcLa9nBiu41nHiaQ           0\n",
       " 3     KTGEa8V9ec0QBYM_uk1YLQ  4.871674  -9OEoNjcLa9nBiu41nHiaQ           0\n",
       " 4     u3zqvp4BYUjzJD7tzx3Jbg  4.857868  -9OEoNjcLa9nBiu41nHiaQ           0\n",
       " ...                      ...       ...                     ...         ...\n",
       " 1048  EmJF-xSIOaEEOWcK8UOBqg  4.415576  -9OEoNjcLa9nBiu41nHiaQ           0\n",
       " 1049  CqyJouS-TvB2umHSnMLvSw  4.415572  -9OEoNjcLa9nBiu41nHiaQ           0\n",
       " 1050  4caDWodT3H9v4ekwCsh6oQ  4.415301  -9OEoNjcLa9nBiu41nHiaQ           0\n",
       " 1051  kSWXxtZzpZLrBeyv-1BUuA  4.415181  -9OEoNjcLa9nBiu41nHiaQ           0\n",
       " 1052  SA1kBystZZn8yYiQsjljYQ  4.414640  -9OEoNjcLa9nBiu41nHiaQ           0\n",
       " \n",
       " [1053 rows x 4 columns],\n",
       "                  business_id     score                 user_id  real_label\n",
       " 0     TE2IEDNV0RcI6s1wTOP4fg  4.985145  -9OIms4jE1bdD1fz7AzAFA           0\n",
       " 1     TE2IEDNV0RcI6s1wTOP4fg  4.985145  -9OIms4jE1bdD1fz7AzAFA           0\n",
       " 2     8ZCpyx-U-dEJyNZBWiC3mA  4.941382  -9OIms4jE1bdD1fz7AzAFA           0\n",
       " 3     5tK4y67IUn3eDd3S1bka9Q  4.923369  -9OIms4jE1bdD1fz7AzAFA           0\n",
       " 4     atZ_olNKXOG4rEr6mccN8g  4.868348  -9OIms4jE1bdD1fz7AzAFA           0\n",
       " ...                      ...       ...                     ...         ...\n",
       " 1143  Re9uLbJMJIj6l_VluPp9JA  4.457009  -9OIms4jE1bdD1fz7AzAFA           0\n",
       " 1144  1M7b87GZXWOTjQTq3cxRBw  4.456999  -9OIms4jE1bdD1fz7AzAFA           0\n",
       " 1145  sOOuxhfGb00z3MaGk2YANA  4.456879  -9OIms4jE1bdD1fz7AzAFA           0\n",
       " 1146  WStVCYmGWYtn1AZ_SvEDtQ  4.456780  -9OIms4jE1bdD1fz7AzAFA           0\n",
       " 1147  wlUOgJ63PmhkX5ms-QGoDw  4.456737  -9OIms4jE1bdD1fz7AzAFA           0\n",
       " \n",
       " [1148 rows x 4 columns],\n",
       "                  business_id     score                 user_id  real_label\n",
       " 0     -fs09akgCKv5rTTy7iUHUg  4.828228  -9bh6ld7bpeMv26HW-kYjg           0\n",
       " 1     o_N7HiU3f6cVvrJAFrE43A  4.814596  -9bh6ld7bpeMv26HW-kYjg           0\n",
       " 2     KTGEa8V9ec0QBYM_uk1YLQ  4.785433  -9bh6ld7bpeMv26HW-kYjg           0\n",
       " 3     u3zqvp4BYUjzJD7tzx3Jbg  4.780384  -9bh6ld7bpeMv26HW-kYjg           0\n",
       " 4     5tK4y67IUn3eDd3S1bka9Q  4.755740  -9bh6ld7bpeMv26HW-kYjg           0\n",
       " ...                      ...       ...                     ...         ...\n",
       " 1060  zdYbXzqr9Gq4DKfDOjIh2Q  4.247979  -9bh6ld7bpeMv26HW-kYjg           0\n",
       " 1061  -P6TzxVyvvsLJs4O3E6DcA  4.247774  -9bh6ld7bpeMv26HW-kYjg           0\n",
       " 1062  mCKkfHKBhAUanBoHzys7hQ  4.247549  -9bh6ld7bpeMv26HW-kYjg           0\n",
       " 1063  tqmi9HYujFk3zphlLkyFUw  4.246988  -9bh6ld7bpeMv26HW-kYjg           0\n",
       " 1064  1VnjvQKmWNY9uzJwLAmX1Q  4.246632  -9bh6ld7bpeMv26HW-kYjg           0\n",
       " \n",
       " [1065 rows x 4 columns],\n",
       "                  business_id     score                 user_id  real_label\n",
       " 0     -fs09akgCKv5rTTy7iUHUg  4.722557  -9qrDZPYhvhGisml-LA1vQ           0\n",
       " 1     KTGEa8V9ec0QBYM_uk1YLQ  4.712327  -9qrDZPYhvhGisml-LA1vQ           0\n",
       " 2     o_N7HiU3f6cVvrJAFrE43A  4.687851  -9qrDZPYhvhGisml-LA1vQ           0\n",
       " 3     zLm2PaYrpHkcr63ekwvtBQ  4.677935  -9qrDZPYhvhGisml-LA1vQ           0\n",
       " 4     8ZCpyx-U-dEJyNZBWiC3mA  4.657858  -9qrDZPYhvhGisml-LA1vQ           0\n",
       " ...                      ...       ...                     ...         ...\n",
       " 1019  mCKkfHKBhAUanBoHzys7hQ  4.161077  -9qrDZPYhvhGisml-LA1vQ           0\n",
       " 1020  VhCNCbbMO8jX5pyKExEoxA  4.160962  -9qrDZPYhvhGisml-LA1vQ           0\n",
       " 1021  qvfkT03PHLf4_Ejs4gtAFQ  4.160728  -9qrDZPYhvhGisml-LA1vQ           0\n",
       " 1022  HkL-EWa39zm93SEAx4xXXA  4.159867  -9qrDZPYhvhGisml-LA1vQ           0\n",
       " 1023  UR9dzGGVfcJhHt_mG3bTRA  4.159832  -9qrDZPYhvhGisml-LA1vQ           0\n",
       " \n",
       " [1024 rows x 4 columns],\n",
       "                  business_id     score                 user_id  real_label\n",
       " 0     -fs09akgCKv5rTTy7iUHUg  4.797996  -9tNezRmySd6LpXfLCMYgQ           0\n",
       " 1     KTGEa8V9ec0QBYM_uk1YLQ  4.779524  -9tNezRmySd6LpXfLCMYgQ           0\n",
       " 2     8ZCpyx-U-dEJyNZBWiC3mA  4.736869  -9tNezRmySd6LpXfLCMYgQ           0\n",
       " 3     5tK4y67IUn3eDd3S1bka9Q  4.721785  -9tNezRmySd6LpXfLCMYgQ           0\n",
       " 4     XJvOamdhTQI65jmzTfreDQ  4.674549  -9tNezRmySd6LpXfLCMYgQ           0\n",
       " ...                      ...       ...                     ...         ...\n",
       " 1055  uvhX5n6AiIEx9lSiyCKxlg  4.209197  -9tNezRmySd6LpXfLCMYgQ           0\n",
       " 1056  MG_wIwRBwyNnCAEMXe9Jqw  4.208929  -9tNezRmySd6LpXfLCMYgQ           0\n",
       " 1057  sgYtcF2MAdB1unot1blCwQ  4.208629  -9tNezRmySd6LpXfLCMYgQ           0\n",
       " 1058  EaGQz-Y2aAdfrn1XXgjJ6A  4.208142  -9tNezRmySd6LpXfLCMYgQ           0\n",
       " 1059  gmYMOcIFsfUnlP_5HMaHpw  4.207779  -9tNezRmySd6LpXfLCMYgQ           0\n",
       " \n",
       " [1060 rows x 4 columns],\n",
       "                  business_id     score                 user_id  real_label\n",
       " 0     ctHjyadbDQAtUFfkcAFEHw  5.028168  -A3_BwJ6eOrdUOje8hWWCw           0\n",
       " 1     ctHjyadbDQAtUFfkcAFEHw  5.028168  -A3_BwJ6eOrdUOje8hWWCw           0\n",
       " 2     -fs09akgCKv5rTTy7iUHUg  5.007718  -A3_BwJ6eOrdUOje8hWWCw           0\n",
       " 3     KTGEa8V9ec0QBYM_uk1YLQ  4.994386  -A3_BwJ6eOrdUOje8hWWCw           0\n",
       " 4     KTGEa8V9ec0QBYM_uk1YLQ  4.994386  -A3_BwJ6eOrdUOje8hWWCw           0\n",
       " ...                      ...       ...                     ...         ...\n",
       " 1075  hEb0f7wRZBUhX5f4CWEukg  4.490042  -A3_BwJ6eOrdUOje8hWWCw           0\n",
       " 1076  qj5NGHlVMxO2P00krUD0kw  4.490026  -A3_BwJ6eOrdUOje8hWWCw           0\n",
       " 1077  F0AAzMdhv2RyjwHVned5bQ  4.489963  -A3_BwJ6eOrdUOje8hWWCw           0\n",
       " 1078  NYJ1PTYcQhQ8aVJiBPgIQg  4.489845  -A3_BwJ6eOrdUOje8hWWCw           0\n",
       " 1079  j7z0VfA0BjEG6dIVNprH9Q  4.489730  -A3_BwJ6eOrdUOje8hWWCw           0\n",
       " \n",
       " [1080 rows x 4 columns],\n",
       "                  business_id     score                 user_id  real_label\n",
       " 0     -fs09akgCKv5rTTy7iUHUg  4.135426  -AA36SlGJ4pADOOfi2l57A           0\n",
       " 1     KTGEa8V9ec0QBYM_uk1YLQ  4.113223  -AA36SlGJ4pADOOfi2l57A           0\n",
       " 2     zLm2PaYrpHkcr63ekwvtBQ  4.095212  -AA36SlGJ4pADOOfi2l57A           0\n",
       " 3     u3zqvp4BYUjzJD7tzx3Jbg  4.071810  -AA36SlGJ4pADOOfi2l57A           0\n",
       " 4     5tK4y67IUn3eDd3S1bka9Q  4.065094  -AA36SlGJ4pADOOfi2l57A           0\n",
       " ...                      ...       ...                     ...         ...\n",
       " 996   LozA3u1TmiNFJTwwtDEMjA  3.614359  -AA36SlGJ4pADOOfi2l57A           0\n",
       " 997   xoG-zabIUFngEhic1PEajA  3.613901  -AA36SlGJ4pADOOfi2l57A           0\n",
       " 998   P0fHDZn2pReUu7BdMxNuyw  3.613888  -AA36SlGJ4pADOOfi2l57A           0\n",
       " 999   0Sa2hQnbS9hoRthHKOGepg  3.613837  -AA36SlGJ4pADOOfi2l57A           0\n",
       " 1000  HRZLjyyPlrGFRIWfcu9v6Q  3.613438  -AA36SlGJ4pADOOfi2l57A           0\n",
       " \n",
       " [1001 rows x 4 columns],\n",
       "                  business_id     score                 user_id  real_label\n",
       " 0     -fs09akgCKv5rTTy7iUHUg  5.077292  -AGLoncQKBFVYCkfe59Hmg           0\n",
       " 1     8ZCpyx-U-dEJyNZBWiC3mA  5.025545  -AGLoncQKBFVYCkfe59Hmg           0\n",
       " 2     XJvOamdhTQI65jmzTfreDQ  4.952027  -AGLoncQKBFVYCkfe59Hmg           0\n",
       " 3     Bk6uzC83wbmCHm2i5Uz8OA  4.946623  -AGLoncQKBFVYCkfe59Hmg           0\n",
       " 4     _ZMf5Am_e0AE7aveELJd9w  4.943844  -AGLoncQKBFVYCkfe59Hmg           0\n",
       " ...                      ...       ...                     ...         ...\n",
       " 1069  ppmwNk6adNqHAWgVnKyZIg  4.501037  -AGLoncQKBFVYCkfe59Hmg           0\n",
       " 1070  ATbojITCoQDhKqH8RswaaA  4.500972  -AGLoncQKBFVYCkfe59Hmg           0\n",
       " 1071  xUkNv8UWPWEot8S7hB6KYA  4.500947  -AGLoncQKBFVYCkfe59Hmg           0\n",
       " 1072  6HhRTp0tIsvXH1OmG7IOQQ  4.500942  -AGLoncQKBFVYCkfe59Hmg           0\n",
       " 1073  STN86leLu3uR-4OLzi_xPA  4.500842  -AGLoncQKBFVYCkfe59Hmg           0\n",
       " \n",
       " [1074 rows x 4 columns],\n",
       "                  business_id     score                 user_id  real_label\n",
       " 0     -fs09akgCKv5rTTy7iUHUg  4.937837  -AJlsYrhezmfIoyMiXPExA           0\n",
       " 1     KTGEa8V9ec0QBYM_uk1YLQ  4.924501  -AJlsYrhezmfIoyMiXPExA           0\n",
       " 2     o_N7HiU3f6cVvrJAFrE43A  4.910302  -AJlsYrhezmfIoyMiXPExA           0\n",
       " 3     8ZCpyx-U-dEJyNZBWiC3mA  4.886082  -AJlsYrhezmfIoyMiXPExA           0\n",
       " 4     5tK4y67IUn3eDd3S1bka9Q  4.868073  -AJlsYrhezmfIoyMiXPExA           0\n",
       " ...                      ...       ...                     ...         ...\n",
       " 1004  ROnkVXPz5jRlMQvLw05UEA  4.422021  -AJlsYrhezmfIoyMiXPExA           0\n",
       " 1005  kOHcpCZQd4uNp6G2uE8o2A  4.421903  -AJlsYrhezmfIoyMiXPExA           0\n",
       " 1006  0bvtIbpsqBJZpRKSPwIfNw  4.421724  -AJlsYrhezmfIoyMiXPExA           0\n",
       " 1007  tc3g7TdhTgGqI8D8Rj_10w  4.421684  -AJlsYrhezmfIoyMiXPExA           0\n",
       " 1008  EEWjIIs6N-34yaAXI7lHJQ  4.421587  -AJlsYrhezmfIoyMiXPExA           0\n",
       " \n",
       " [1009 rows x 4 columns],\n",
       "                  business_id     score                 user_id  real_label\n",
       " 0     TE2IEDNV0RcI6s1wTOP4fg  4.824495  -ATWrYEqBxsNqevq5UyqxA           0\n",
       " 1     o_N7HiU3f6cVvrJAFrE43A  4.794525  -ATWrYEqBxsNqevq5UyqxA           0\n",
       " 2     KTGEa8V9ec0QBYM_uk1YLQ  4.765363  -ATWrYEqBxsNqevq5UyqxA           0\n",
       " 3     Y93S8ZVnOhXQTkWZQEU5yg  4.728897  -ATWrYEqBxsNqevq5UyqxA           0\n",
       " 4     wUnLSg_GKfEIQ5CQQ770_g  4.728529  -ATWrYEqBxsNqevq5UyqxA           0\n",
       " ...                      ...       ...                     ...         ...\n",
       " 1123  4Tio7gIFngYOps2mJba2kw  4.017196  -ATWrYEqBxsNqevq5UyqxA           0\n",
       " 1124  jQkC5P5RIidajr-RMXkCIA  4.017144  -ATWrYEqBxsNqevq5UyqxA           0\n",
       " 1125  3Ev7jSyKGrnVn2mhBj1E-w  4.017131  -ATWrYEqBxsNqevq5UyqxA           0\n",
       " 1126  S27cRb1jq0Q7QUYqEp7VGA  4.016392  -ATWrYEqBxsNqevq5UyqxA           0\n",
       " 1127  fMwsP6V-osjd2icB6kkSGQ  4.016324  -ATWrYEqBxsNqevq5UyqxA           0\n",
       " \n",
       " [1128 rows x 4 columns],\n",
       "                  business_id     score                 user_id  real_label\n",
       " 0     -fs09akgCKv5rTTy7iUHUg  4.705354  -AW0paCexiQJgLVKOoDkiQ           0\n",
       " 1     KTGEa8V9ec0QBYM_uk1YLQ  4.664459  -AW0paCexiQJgLVKOoDkiQ           0\n",
       " 2     u3zqvp4BYUjzJD7tzx3Jbg  4.637969  -AW0paCexiQJgLVKOoDkiQ           0\n",
       " 3     rv1KUBVNQkJ5WUQb49dU0Q  4.520666  -AW0paCexiQJgLVKOoDkiQ           0\n",
       " 4     IO3apWfFnKPO2XRFmGfTEw  4.518631  -AW0paCexiQJgLVKOoDkiQ           0\n",
       " ...                      ...       ...                     ...         ...\n",
       " 1073  Ls3zQR47_wmUkupJXm59oQ  3.842665  -AW0paCexiQJgLVKOoDkiQ           0\n",
       " 1074  pxnaqbMyx_sS-9XZ29L1Tg  3.842357  -AW0paCexiQJgLVKOoDkiQ           0\n",
       " 1075  uJpN56lqw1o5dleSueXdow  3.842252  -AW0paCexiQJgLVKOoDkiQ           0\n",
       " 1076  YoX06vKYAfLEb_eUKuWehw  3.842093  -AW0paCexiQJgLVKOoDkiQ           0\n",
       " 1077  BJeM2i8sJ_ulULeIAuNq0g  3.842093  -AW0paCexiQJgLVKOoDkiQ           0\n",
       " \n",
       " [1078 rows x 4 columns],\n",
       "                  business_id     score                 user_id  real_label\n",
       " 0     -fs09akgCKv5rTTy7iUHUg  4.409883  -AnMcazI_LSSLK81qlm7mw           0\n",
       " 1     5tK4y67IUn3eDd3S1bka9Q  4.338021  -AnMcazI_LSSLK81qlm7mw           0\n",
       " 2     XJvOamdhTQI65jmzTfreDQ  4.267067  -AnMcazI_LSSLK81qlm7mw           0\n",
       " 3     UfWjaifeYmyldKxlEYI9cg  4.229463  -AnMcazI_LSSLK81qlm7mw           0\n",
       " 4     Bk6uzC83wbmCHm2i5Uz8OA  4.228241  -AnMcazI_LSSLK81qlm7mw           0\n",
       " ...                      ...       ...                     ...         ...\n",
       " 1083  LnQRfj3pPz0369stRnwUWw  3.723843  -AnMcazI_LSSLK81qlm7mw           0\n",
       " 1084  bG1rjiksnoTIIucy_7yHOw  3.723784  -AnMcazI_LSSLK81qlm7mw           0\n",
       " 1085  8ihWBaqzn5hx4kwQm87GzA  3.723650  -AnMcazI_LSSLK81qlm7mw           0\n",
       " 1086  rjFGFcTduZ5wh-5pl1IbCg  3.723411  -AnMcazI_LSSLK81qlm7mw           0\n",
       " 1087  gjI_m3qa5WkYzKKXapYETw  3.722540  -AnMcazI_LSSLK81qlm7mw           0\n",
       " \n",
       " [1088 rows x 4 columns],\n",
       "                 business_id     score                 user_id  real_label\n",
       " 0    -fs09akgCKv5rTTy7iUHUg  4.822270  -AsIFz8wFYnV1C8TuiV7BQ           0\n",
       " 1    KTGEa8V9ec0QBYM_uk1YLQ  4.779476  -AsIFz8wFYnV1C8TuiV7BQ           0\n",
       " 2    zLm2PaYrpHkcr63ekwvtBQ  4.764300  -AsIFz8wFYnV1C8TuiV7BQ           0\n",
       " 3    8ZCpyx-U-dEJyNZBWiC3mA  4.763552  -AsIFz8wFYnV1C8TuiV7BQ           0\n",
       " 4    u3zqvp4BYUjzJD7tzx3Jbg  4.760467  -AsIFz8wFYnV1C8TuiV7BQ           0\n",
       " ..                      ...       ...                     ...         ...\n",
       " 995  1MVMKUvZfWwIqkhxP3rYvQ  4.258029  -AsIFz8wFYnV1C8TuiV7BQ           0\n",
       " 996  uf4gH2bLBox8bCHw30kJxQ  4.257503  -AsIFz8wFYnV1C8TuiV7BQ           0\n",
       " 997  AJMH4STQfS9at_hU0PGQ7g  4.257162  -AsIFz8wFYnV1C8TuiV7BQ           0\n",
       " 998  eglMZ16WTdKtGgJUeoMFVg  4.257143  -AsIFz8wFYnV1C8TuiV7BQ           0\n",
       " 999  0Cii4j7PPWvxcAmXuReb9A  4.257042  -AsIFz8wFYnV1C8TuiV7BQ           0\n",
       " \n",
       " [1000 rows x 4 columns],\n",
       "                  business_id     score                 user_id  real_label\n",
       " 0     RFo876v_A63N2JfOTq1p-g  4.789195  -AwZjQNFpCqc0bVNNyBqwg           0\n",
       " 1     -fs09akgCKv5rTTy7iUHUg  4.784226  -AwZjQNFpCqc0bVNNyBqwg           0\n",
       " 2     -fs09akgCKv5rTTy7iUHUg  4.784226  -AwZjQNFpCqc0bVNNyBqwg           0\n",
       " 3     -fs09akgCKv5rTTy7iUHUg  4.784226  -AwZjQNFpCqc0bVNNyBqwg           0\n",
       " 4     TE2IEDNV0RcI6s1wTOP4fg  4.776891  -AwZjQNFpCqc0bVNNyBqwg           0\n",
       " ...                      ...       ...                     ...         ...\n",
       " 1107  ZCj5o6j6_0JjGOe04WoLsg  4.253721  -AwZjQNFpCqc0bVNNyBqwg           0\n",
       " 1108  OshZe8R4Zhcy-TsjK5vJdg  4.253397  -AwZjQNFpCqc0bVNNyBqwg           0\n",
       " 1109  K06XzePUYtlT4Qm5ry-jBg  4.253383  -AwZjQNFpCqc0bVNNyBqwg           0\n",
       " 1110  v5hCB55uWA97qj_Ww8DHqw  4.253337  -AwZjQNFpCqc0bVNNyBqwg           0\n",
       " 1111  zhFKtchGIpRTfOZSpm4Zvg  4.253311  -AwZjQNFpCqc0bVNNyBqwg           0\n",
       " \n",
       " [1112 rows x 4 columns],\n",
       "                  business_id     score                 user_id  real_label\n",
       " 0     -fs09akgCKv5rTTy7iUHUg  5.023699  -Az9H695_MZmte8uGu_qyw           0\n",
       " 1     KTGEa8V9ec0QBYM_uk1YLQ  5.010379  -Az9H695_MZmte8uGu_qyw           0\n",
       " 2     o_N7HiU3f6cVvrJAFrE43A  4.996179  -Az9H695_MZmte8uGu_qyw           0\n",
       " 3     zLm2PaYrpHkcr63ekwvtBQ  4.988088  -Az9H695_MZmte8uGu_qyw           0\n",
       " 4     5tK4y67IUn3eDd3S1bka9Q  4.953951  -Az9H695_MZmte8uGu_qyw           0\n",
       " ...                      ...       ...                     ...         ...\n",
       " 1042  -o6bah2j6_IH9pkwANXcLA  4.485842  -Az9H695_MZmte8uGu_qyw           0\n",
       " 1043  -o6bah2j6_IH9pkwANXcLA  4.485842  -Az9H695_MZmte8uGu_qyw           0\n",
       " 1044  BpWDokvNxKeZ7xDsh5cKOw  4.485829  -Az9H695_MZmte8uGu_qyw           0\n",
       " 1045  SUpQ7uFtXvdzgVubewMV8g  4.485476  -Az9H695_MZmte8uGu_qyw           0\n",
       " 1046  kvbuD3U93O2w8YYPzsCxlA  4.485473  -Az9H695_MZmte8uGu_qyw           0\n",
       " \n",
       " [1047 rows x 4 columns],\n",
       "                  business_id     score                 user_id  real_label\n",
       " 0     -fs09akgCKv5rTTy7iUHUg  4.781437  -B-QEUESGWHPE_889WJaeg           0\n",
       " 1     KTGEa8V9ec0QBYM_uk1YLQ  4.749269  -B-QEUESGWHPE_889WJaeg           0\n",
       " 2     zLm2PaYrpHkcr63ekwvtBQ  4.736094  -B-QEUESGWHPE_889WJaeg           0\n",
       " 3     u3zqvp4BYUjzJD7tzx3Jbg  4.712845  -B-QEUESGWHPE_889WJaeg           0\n",
       " 4     5tK4y67IUn3eDd3S1bka9Q  4.698245  -B-QEUESGWHPE_889WJaeg           0\n",
       " ...                      ...       ...                     ...         ...\n",
       " 997   DXNKGOCVmFP5iU8owhK2Fw  4.332255  -B-QEUESGWHPE_889WJaeg           0\n",
       " 998   GoGss2SqsUPwP0xcI9IUuw  4.332242  -B-QEUESGWHPE_889WJaeg           0\n",
       " 999   nTcKBgHCkzQgYI2cM4_1aA  4.332072  -B-QEUESGWHPE_889WJaeg           0\n",
       " 1000  pZLoTYFPhqTKU1Q5rqO4Ag  4.331886  -B-QEUESGWHPE_889WJaeg           0\n",
       " 1001  Sbfm55Jgb7_V7nnuG7RtLQ  4.331772  -B-QEUESGWHPE_889WJaeg           0\n",
       " \n",
       " [1002 rows x 4 columns],\n",
       "                  business_id     score                 user_id  real_label\n",
       " 0     atZ_olNKXOG4rEr6mccN8g  4.888901  -BB9oz-WY-H2oBazb4Ltzw           0\n",
       " 1     rv1KUBVNQkJ5WUQb49dU0Q  4.829718  -BB9oz-WY-H2oBazb4Ltzw           0\n",
       " 2     mZlz6wq17Vl0wEokdpPdWg  4.823881  -BB9oz-WY-H2oBazb4Ltzw           0\n",
       " 3     BXXdejmA_rJpMD2MBKCyGA  4.819391  -BB9oz-WY-H2oBazb4Ltzw           0\n",
       " 4     0jQPPEppYjGQ2higy6JvCg  4.791754  -BB9oz-WY-H2oBazb4Ltzw           0\n",
       " ...                      ...       ...                     ...         ...\n",
       " 996   mBeSTUmigL9HGcfAjGRTQQ  4.292172  -BB9oz-WY-H2oBazb4Ltzw           0\n",
       " 997   5LAP2TTnFsVmJaHa7OgfxQ  4.292107  -BB9oz-WY-H2oBazb4Ltzw           0\n",
       " 998   8P7YOM9ThhTvLqXfSWRcRA  4.292019  -BB9oz-WY-H2oBazb4Ltzw           0\n",
       " 999   HOGWvFIILhLIrp7I4kZuOQ  4.291796  -BB9oz-WY-H2oBazb4Ltzw           0\n",
       " 1000  mbzW1gqMXxy5hDkB3h2tmg  4.291725  -BB9oz-WY-H2oBazb4Ltzw           0\n",
       " \n",
       " [1001 rows x 4 columns],\n",
       "                  business_id     score                 user_id  real_label\n",
       " 0     -fs09akgCKv5rTTy7iUHUg  4.143055  -BFGzRJmiKDdJ8loKN-EYA           0\n",
       " 1     KTGEa8V9ec0QBYM_uk1YLQ  4.116054  -BFGzRJmiKDdJ8loKN-EYA           0\n",
       " 2     o_N7HiU3f6cVvrJAFrE43A  4.100874  -BFGzRJmiKDdJ8loKN-EYA           0\n",
       " 3     zLm2PaYrpHkcr63ekwvtBQ  4.098549  -BFGzRJmiKDdJ8loKN-EYA           0\n",
       " 4     8ZCpyx-U-dEJyNZBWiC3mA  4.076068  -BFGzRJmiKDdJ8loKN-EYA           0\n",
       " ...                      ...       ...                     ...         ...\n",
       " 1016  ehzdBdCuwFNHEoIfpJY7Iw  3.624142  -BFGzRJmiKDdJ8loKN-EYA           0\n",
       " 1017  _tvR2q9UJmFAxf7FE83eaw  3.624106  -BFGzRJmiKDdJ8loKN-EYA           0\n",
       " 1018  sgYtcF2MAdB1unot1blCwQ  3.624091  -BFGzRJmiKDdJ8loKN-EYA           0\n",
       " 1019  mrtFgfT6MgkC8yThcmNWYw  3.623492  -BFGzRJmiKDdJ8loKN-EYA           0\n",
       " 1020  9pSChgbs1Skp8rRLQb8x9A  3.623485  -BFGzRJmiKDdJ8loKN-EYA           0\n",
       " \n",
       " [1021 rows x 4 columns],\n",
       "                  business_id     score                 user_id  real_label\n",
       " 0     -fs09akgCKv5rTTy7iUHUg  4.864606  -BT7yKvo-CY0apW8xzNntg           0\n",
       " 1     KTGEa8V9ec0QBYM_uk1YLQ  4.851295  -BT7yKvo-CY0apW8xzNntg           0\n",
       " 2     o_N7HiU3f6cVvrJAFrE43A  4.837094  -BT7yKvo-CY0apW8xzNntg           0\n",
       " 3     zLm2PaYrpHkcr63ekwvtBQ  4.829005  -BT7yKvo-CY0apW8xzNntg           0\n",
       " 4     8ZCpyx-U-dEJyNZBWiC3mA  4.812967  -BT7yKvo-CY0apW8xzNntg           0\n",
       " ...                      ...       ...                     ...         ...\n",
       " 996   TN1geaU2Sry_NfpXk-kbpA  4.373813  -BT7yKvo-CY0apW8xzNntg           0\n",
       " 997   eevZhYOfKqMWJIUfFWgZfg  4.373677  -BT7yKvo-CY0apW8xzNntg           0\n",
       " 998   7u7qfIDQCqLjDd7RSae7gQ  4.373425  -BT7yKvo-CY0apW8xzNntg           0\n",
       " 999   pxdliCtWkCuXW9uHYk8Y9w  4.373311  -BT7yKvo-CY0apW8xzNntg           0\n",
       " 1000  gWgsRIYJXIyaY-xSY_1GlA  4.373307  -BT7yKvo-CY0apW8xzNntg           0\n",
       " \n",
       " [1001 rows x 4 columns],\n",
       "                  business_id     score                 user_id  real_label\n",
       " 0     RFo876v_A63N2JfOTq1p-g  4.897530  -BVK-mFx5n0bPtulAPpXew           0\n",
       " 1     -fs09akgCKv5rTTy7iUHUg  4.893069  -BVK-mFx5n0bPtulAPpXew           0\n",
       " 2     KTGEa8V9ec0QBYM_uk1YLQ  4.878476  -BVK-mFx5n0bPtulAPpXew           0\n",
       " 3     o_N7HiU3f6cVvrJAFrE43A  4.864276  -BVK-mFx5n0bPtulAPpXew           0\n",
       " 4     Y93S8ZVnOhXQTkWZQEU5yg  4.843563  -BVK-mFx5n0bPtulAPpXew           0\n",
       " ...                      ...       ...                     ...         ...\n",
       " 1039  HOR288jd588mXi5-j6touA  4.354046  -BVK-mFx5n0bPtulAPpXew           0\n",
       " 1040  yCpM8455GTByxKvtWUQqhg  4.353787  -BVK-mFx5n0bPtulAPpXew           0\n",
       " 1041  JctmT2xauE_uxiqY-YgjqA  4.353746  -BVK-mFx5n0bPtulAPpXew           0\n",
       " 1042  xM6GFqXfW0mvMvmp4am8Bg  4.353719  -BVK-mFx5n0bPtulAPpXew           0\n",
       " 1043  E2S9Y9og4rNX2YLtTC80fQ  4.353657  -BVK-mFx5n0bPtulAPpXew           0\n",
       " \n",
       " [1044 rows x 4 columns],\n",
       "                  business_id     score                 user_id  real_label\n",
       " 0     -fs09akgCKv5rTTy7iUHUg  4.909269  -BX5x3Ys-2JzFba3LiWlHA           0\n",
       " 1     KTGEa8V9ec0QBYM_uk1YLQ  4.895983  -BX5x3Ys-2JzFba3LiWlHA           0\n",
       " 2     o_N7HiU3f6cVvrJAFrE43A  4.881757  -BX5x3Ys-2JzFba3LiWlHA           0\n",
       " 3     zLm2PaYrpHkcr63ekwvtBQ  4.873693  -BX5x3Ys-2JzFba3LiWlHA           0\n",
       " 4     Y93S8ZVnOhXQTkWZQEU5yg  4.861071  -BX5x3Ys-2JzFba3LiWlHA           0\n",
       " ...                      ...       ...                     ...         ...\n",
       " 1024  TPfhxYwdxj4XExyW2vl6fA  4.409461  -BX5x3Ys-2JzFba3LiWlHA           0\n",
       " 1025  SYcdJP123caYVCkZ27BIOw  4.409456  -BX5x3Ys-2JzFba3LiWlHA           0\n",
       " 1026  dsxkmGJyQlQVca8aa03awg  4.409392  -BX5x3Ys-2JzFba3LiWlHA           0\n",
       " 1027  LejMqzvUAz_pnf90OOBLkw  4.409384  -BX5x3Ys-2JzFba3LiWlHA           0\n",
       " 1028  Bk3l4jG0rLvlFLtxnqih0w  4.409109  -BX5x3Ys-2JzFba3LiWlHA           0\n",
       " \n",
       " [1029 rows x 4 columns],\n",
       "                  business_id     score                 user_id  real_label\n",
       " 0     8ZCpyx-U-dEJyNZBWiC3mA  4.748637  -BZn63YaADy9GpzHdncDtA           0\n",
       " 1     5tK4y67IUn3eDd3S1bka9Q  4.729873  -BZn63YaADy9GpzHdncDtA           0\n",
       " 2     XJvOamdhTQI65jmzTfreDQ  4.677459  -BZn63YaADy9GpzHdncDtA           0\n",
       " 3     _ZMf5Am_e0AE7aveELJd9w  4.672053  -BZn63YaADy9GpzHdncDtA           0\n",
       " 4     8j5bQ0nDwoGiFaTQDNCQTg  4.669065  -BZn63YaADy9GpzHdncDtA           0\n",
       " ...                      ...       ...                     ...         ...\n",
       " 1066  U2VoQtxyKir6HME18yDMuA  4.216391  -BZn63YaADy9GpzHdncDtA           0\n",
       " 1067  _IDiMjAPem5GYRu087vLyQ  4.215907  -BZn63YaADy9GpzHdncDtA           0\n",
       " 1068  z3jfgtlDBww3jTPLosPeew  4.215478  -BZn63YaADy9GpzHdncDtA           0\n",
       " 1069  vSvbdFKfr6u5-zykn49CWA  4.215326  -BZn63YaADy9GpzHdncDtA           0\n",
       " 1070  HG_w8WcRyyUJ1neOMGSrvw  4.214856  -BZn63YaADy9GpzHdncDtA           0\n",
       " \n",
       " [1071 rows x 4 columns],\n",
       "                  business_id     score                 user_id  real_label\n",
       " 0     -fs09akgCKv5rTTy7iUHUg  4.797376  -BdXedi9sQ6oA_QPtCqI_Q           0\n",
       " 1     KTGEa8V9ec0QBYM_uk1YLQ  4.784067  -BdXedi9sQ6oA_QPtCqI_Q           0\n",
       " 2     o_N7HiU3f6cVvrJAFrE43A  4.769864  -BdXedi9sQ6oA_QPtCqI_Q           0\n",
       " 3     zLm2PaYrpHkcr63ekwvtBQ  4.764145  -BdXedi9sQ6oA_QPtCqI_Q           0\n",
       " 4     8ZCpyx-U-dEJyNZBWiC3mA  4.745610  -BdXedi9sQ6oA_QPtCqI_Q           0\n",
       " ...                      ...       ...                     ...         ...\n",
       " 1009  gQUMqcT1sV1KlYUMLP3iEQ  4.305123  -BdXedi9sQ6oA_QPtCqI_Q           0\n",
       " 1010  tNoqVTP-oWqHKl9zKNzBJw  4.304939  -BdXedi9sQ6oA_QPtCqI_Q           0\n",
       " 1011  hgsXaSoE8ZESGcGxKrBLAg  4.304860  -BdXedi9sQ6oA_QPtCqI_Q           0\n",
       " 1012  yktnwboMIQZkOvcZywktzA  4.304792  -BdXedi9sQ6oA_QPtCqI_Q           0\n",
       " 1013  wvgaFGDyD3nTYZubTahH2A  4.304782  -BdXedi9sQ6oA_QPtCqI_Q           0\n",
       " \n",
       " [1014 rows x 4 columns],\n",
       "                  business_id     score                 user_id  real_label\n",
       " 0     -fs09akgCKv5rTTy7iUHUg  5.064316  -Bv2DxQtG7xPYdJqlqL9fQ           0\n",
       " 1     KTGEa8V9ec0QBYM_uk1YLQ  5.050981  -Bv2DxQtG7xPYdJqlqL9fQ           0\n",
       " 2     8ZCpyx-U-dEJyNZBWiC3mA  5.012597  -Bv2DxQtG7xPYdJqlqL9fQ           0\n",
       " 3     XJvOamdhTQI65jmzTfreDQ  4.939050  -Bv2DxQtG7xPYdJqlqL9fQ           0\n",
       " 4     Bk6uzC83wbmCHm2i5Uz8OA  4.933675  -Bv2DxQtG7xPYdJqlqL9fQ           0\n",
       " ...                      ...       ...                     ...         ...\n",
       " 1092  HTqXI5S2XcSlh_ylx9sE6g  4.525791  -Bv2DxQtG7xPYdJqlqL9fQ           0\n",
       " 1093  Q_MfyEshB1vPfbuoYSOUMg  4.525634  -Bv2DxQtG7xPYdJqlqL9fQ           0\n",
       " 1094  FkoX3Ux9STu2FAd926FlbA  4.525254  -Bv2DxQtG7xPYdJqlqL9fQ           0\n",
       " 1095  4qYJCNgJ1s1gseD6YP840g  4.525245  -Bv2DxQtG7xPYdJqlqL9fQ           0\n",
       " 1096  0Ca0kyrqtwPGX7j0UrFqKw  4.524606  -Bv2DxQtG7xPYdJqlqL9fQ           0\n",
       " \n",
       " [1097 rows x 4 columns],\n",
       "                  business_id     score                 user_id  real_label\n",
       " 0     ytynqOUb3hjKeJfRj5Tshw  5.196782  -CTVKe6KxXl2hPjFKHhxaQ           0\n",
       " 1     ytynqOUb3hjKeJfRj5Tshw  5.196782  -CTVKe6KxXl2hPjFKHhxaQ           0\n",
       " 2     -fs09akgCKv5rTTy7iUHUg  5.132175  -CTVKe6KxXl2hPjFKHhxaQ           0\n",
       " 3     -fs09akgCKv5rTTy7iUHUg  5.132175  -CTVKe6KxXl2hPjFKHhxaQ           0\n",
       " 4     TE2IEDNV0RcI6s1wTOP4fg  5.124249  -CTVKe6KxXl2hPjFKHhxaQ           0\n",
       " ...                      ...       ...                     ...         ...\n",
       " 1119  QTeEX_XchMKgS27yX913mA  4.617035  -CTVKe6KxXl2hPjFKHhxaQ           0\n",
       " 1120  kOHcpCZQd4uNp6G2uE8o2A  4.616989  -CTVKe6KxXl2hPjFKHhxaQ           0\n",
       " 1121  VhCNCbbMO8jX5pyKExEoxA  4.616843  -CTVKe6KxXl2hPjFKHhxaQ           0\n",
       " 1122  6ewV-e7-39oqYUq3yZuIyw  4.616347  -CTVKe6KxXl2hPjFKHhxaQ           0\n",
       " 1123  ROnkVXPz5jRlMQvLw05UEA  4.616313  -CTVKe6KxXl2hPjFKHhxaQ           0\n",
       " \n",
       " [1124 rows x 4 columns],\n",
       "                  business_id     score                 user_id  real_label\n",
       " 0     -fs09akgCKv5rTTy7iUHUg  5.260399  -CjssPDDDecPnqS9NO7szw           0\n",
       " 1     KTGEa8V9ec0QBYM_uk1YLQ  5.247190  -CjssPDDDecPnqS9NO7szw           0\n",
       " 2     o_N7HiU3f6cVvrJAFrE43A  5.232887  -CjssPDDDecPnqS9NO7szw           0\n",
       " 3     zLm2PaYrpHkcr63ekwvtBQ  5.224909  -CjssPDDDecPnqS9NO7szw           0\n",
       " 4     8ZCpyx-U-dEJyNZBWiC3mA  5.208633  -CjssPDDDecPnqS9NO7szw           0\n",
       " ...                      ...       ...                     ...         ...\n",
       " 996   da_jniSpqeo9Z6FLCCh4jQ  4.768556  -CjssPDDDecPnqS9NO7szw           0\n",
       " 997   YVy2DgGfNmG5hWYbA7k8jg  4.768519  -CjssPDDDecPnqS9NO7szw           0\n",
       " 998   pN4bu3X4Upie2fc9H7BY7Q  4.768252  -CjssPDDDecPnqS9NO7szw           0\n",
       " 999   p3-FsWgkrRlT18Mw5Z1tHg  4.768131  -CjssPDDDecPnqS9NO7szw           0\n",
       " 1000  wc-rqw9ECSGnS45JygdIwQ  4.767545  -CjssPDDDecPnqS9NO7szw           0\n",
       " \n",
       " [1001 rows x 4 columns],\n",
       "                 business_id     score                 user_id  real_label\n",
       " 0    -fs09akgCKv5rTTy7iUHUg  4.877758  -CzwjrantVGMmZB8Qj_7-Q           0\n",
       " 1    RFo876v_A63N2JfOTq1p-g  4.858463  -CzwjrantVGMmZB8Qj_7-Q           0\n",
       " 2    o_N7HiU3f6cVvrJAFrE43A  4.846302  -CzwjrantVGMmZB8Qj_7-Q           0\n",
       " 3    5tK4y67IUn3eDd3S1bka9Q  4.799187  -CzwjrantVGMmZB8Qj_7-Q           0\n",
       " 4    Y93S8ZVnOhXQTkWZQEU5yg  4.796033  -CzwjrantVGMmZB8Qj_7-Q           0\n",
       " ..                      ...       ...                     ...         ...\n",
       " 995  OdAnLKPh2nS_NYzWZb9cMw  4.217146  -CzwjrantVGMmZB8Qj_7-Q           0\n",
       " 996  3dd9a6QMCZc71UNMrBfSNA  4.217036  -CzwjrantVGMmZB8Qj_7-Q           0\n",
       " 997  6xS8kItlMKI9eCwviIvjwg  4.216966  -CzwjrantVGMmZB8Qj_7-Q           0\n",
       " 998  61XRu-DYQur5epSxRa0ncg  4.216627  -CzwjrantVGMmZB8Qj_7-Q           0\n",
       " 999  Bf65X7McIKtxAhehA8jfjQ  4.216540  -CzwjrantVGMmZB8Qj_7-Q           0\n",
       " \n",
       " [1000 rows x 4 columns],\n",
       "                  business_id     score                 user_id  real_label\n",
       " 0     -fs09akgCKv5rTTy7iUHUg  4.779946  -D9dcHFhzLuQfs6P3S39Rw           0\n",
       " 1     TE2IEDNV0RcI6s1wTOP4fg  4.776027  -D9dcHFhzLuQfs6P3S39Rw           0\n",
       " 2     KTGEa8V9ec0QBYM_uk1YLQ  4.733308  -D9dcHFhzLuQfs6P3S39Rw           0\n",
       " 3     u3zqvp4BYUjzJD7tzx3Jbg  4.717109  -D9dcHFhzLuQfs6P3S39Rw           0\n",
       " 4     zLm2PaYrpHkcr63ekwvtBQ  4.712927  -D9dcHFhzLuQfs6P3S39Rw           0\n",
       " ...                      ...       ...                     ...         ...\n",
       " 1017  9qOhDtUP5OMk2w-CHQxcTw  4.201314  -D9dcHFhzLuQfs6P3S39Rw           0\n",
       " 1018  cmMIB7uTNGJc9Qpl65LjjQ  4.201077  -D9dcHFhzLuQfs6P3S39Rw           0\n",
       " 1019  jE7PpEUmWgcBc0DeelPAOA  4.201032  -D9dcHFhzLuQfs6P3S39Rw           0\n",
       " 1020  cTSczU-9-cYUEM2DlNJcQw  4.200979  -D9dcHFhzLuQfs6P3S39Rw           0\n",
       " 1021  mZe1FiIV33qU9_Xgm34w1w  4.200772  -D9dcHFhzLuQfs6P3S39Rw           0\n",
       " \n",
       " [1022 rows x 4 columns],\n",
       "                  business_id     score                 user_id  real_label\n",
       " 0     -fs09akgCKv5rTTy7iUHUg  5.308607  -DHgkZ15lw62Nb_K0IhwJA           0\n",
       " 1     KTGEa8V9ec0QBYM_uk1YLQ  5.295383  -DHgkZ15lw62Nb_K0IhwJA           0\n",
       " 2     8ZCpyx-U-dEJyNZBWiC3mA  5.256841  -DHgkZ15lw62Nb_K0IhwJA           0\n",
       " 3     5tK4y67IUn3eDd3S1bka9Q  5.238955  -DHgkZ15lw62Nb_K0IhwJA           0\n",
       " 4     XJvOamdhTQI65jmzTfreDQ  5.183343  -DHgkZ15lw62Nb_K0IhwJA           0\n",
       " ...                      ...       ...                     ...         ...\n",
       " 998   IMWoj619K8ezUmFP8ktXEg  4.771668  -DHgkZ15lw62Nb_K0IhwJA           0\n",
       " 999   mUIBtlWNPD7sz3rGGWQ1RA  4.771564  -DHgkZ15lw62Nb_K0IhwJA           0\n",
       " 1000  7eiGKDBo7qymeasy-uq1qQ  4.771550  -DHgkZ15lw62Nb_K0IhwJA           0\n",
       " 1001  X6ExflwppH41zPcnSRv0uA  4.771437  -DHgkZ15lw62Nb_K0IhwJA           0\n",
       " 1002  BbRt7JmklIlulotz39Xmfg  4.771225  -DHgkZ15lw62Nb_K0IhwJA           0\n",
       " \n",
       " [1003 rows x 4 columns],\n",
       "                  business_id     score                 user_id  real_label\n",
       " 0     -fs09akgCKv5rTTy7iUHUg  5.065003  -DM4AmThxktZflgOccMp7w           0\n",
       " 1     KTGEa8V9ec0QBYM_uk1YLQ  5.051725  -DM4AmThxktZflgOccMp7w           0\n",
       " 2     8ZCpyx-U-dEJyNZBWiC3mA  5.013238  -DM4AmThxktZflgOccMp7w           0\n",
       " 3     5tK4y67IUn3eDd3S1bka9Q  4.995297  -DM4AmThxktZflgOccMp7w           0\n",
       " 4     XJvOamdhTQI65jmzTfreDQ  4.939740  -DM4AmThxktZflgOccMp7w           0\n",
       " ...                      ...       ...                     ...         ...\n",
       " 1099  df6QH8R6uegq7tOBMOc_eA  4.522923  -DM4AmThxktZflgOccMp7w           0\n",
       " 1100  zFcE7bQ2oDfwpPgl_PxOTA  4.522722  -DM4AmThxktZflgOccMp7w           0\n",
       " 1101  wUZXm4KN2wIqlfkvXVZXUw  4.522564  -DM4AmThxktZflgOccMp7w           0\n",
       " 1102  73ZXjIfdHJs59XOzKHQ45g  4.522382  -DM4AmThxktZflgOccMp7w           0\n",
       " 1103  jcnKA1gG7Tek_UT2zWBI6w  4.522215  -DM4AmThxktZflgOccMp7w           0\n",
       " \n",
       " [1104 rows x 4 columns],\n",
       "                 business_id     score                 user_id  real_label\n",
       " 0    -fs09akgCKv5rTTy7iUHUg  4.859266  -DMJL_fcLZCvlqzMm97giA           0\n",
       " 1    KTGEa8V9ec0QBYM_uk1YLQ  4.816472  -DMJL_fcLZCvlqzMm97giA           0\n",
       " 2    u3zqvp4BYUjzJD7tzx3Jbg  4.815826  -DMJL_fcLZCvlqzMm97giA           0\n",
       " 3    zLm2PaYrpHkcr63ekwvtBQ  4.801296  -DMJL_fcLZCvlqzMm97giA           0\n",
       " 4    8ZCpyx-U-dEJyNZBWiC3mA  4.800571  -DMJL_fcLZCvlqzMm97giA           0\n",
       " ..                      ...       ...                     ...         ...\n",
       " 995  VV_DMArltFOUQq_ONjGVcQ  4.330305  -DMJL_fcLZCvlqzMm97giA           0\n",
       " 996  Djdg_JBVHKgGNckbEV27UA  4.329988  -DMJL_fcLZCvlqzMm97giA           0\n",
       " 997  b2FwlYZiMKEB95fFhLEqWw  4.329946  -DMJL_fcLZCvlqzMm97giA           0\n",
       " 998  qiWuEwOfZDhad1kdyCDAIA  4.329894  -DMJL_fcLZCvlqzMm97giA           0\n",
       " 999  qIDYmi_7w_D_0Dqfwen1xA  4.329328  -DMJL_fcLZCvlqzMm97giA           0\n",
       " \n",
       " [1000 rows x 4 columns],\n",
       "                  business_id     score                 user_id  real_label\n",
       " 0     -fs09akgCKv5rTTy7iUHUg  4.484813  -DgbjFyHyHUHYfZX69SpRQ           0\n",
       " 1     KTGEa8V9ec0QBYM_uk1YLQ  4.444242  -DgbjFyHyHUHYfZX69SpRQ           0\n",
       " 2     o_N7HiU3f6cVvrJAFrE43A  4.441338  -DgbjFyHyHUHYfZX69SpRQ           0\n",
       " 3     Y93S8ZVnOhXQTkWZQEU5yg  4.434052  -DgbjFyHyHUHYfZX69SpRQ           0\n",
       " 4     u3zqvp4BYUjzJD7tzx3Jbg  4.395081  -DgbjFyHyHUHYfZX69SpRQ           0\n",
       " ...                      ...       ...                     ...         ...\n",
       " 1054  BATrNfVKnNCQ2qAcod83Sw  3.736968  -DgbjFyHyHUHYfZX69SpRQ           0\n",
       " 1055  w94H7CFB2V8murig9ax0ig  3.736691  -DgbjFyHyHUHYfZX69SpRQ           0\n",
       " 1056  5oX4G1cptixPZecih9L3dg  3.735792  -DgbjFyHyHUHYfZX69SpRQ           0\n",
       " 1057  wxfvseAUa9-JgNKgJzXYTw  3.735762  -DgbjFyHyHUHYfZX69SpRQ           0\n",
       " 1058  bgBLYDsPEhAuUqBnBEv6bQ  3.735408  -DgbjFyHyHUHYfZX69SpRQ           0\n",
       " \n",
       " [1059 rows x 4 columns],\n",
       "                  business_id     score                 user_id  real_label\n",
       " 0     -fs09akgCKv5rTTy7iUHUg  4.661165  -Dk8JFqprGGJOsn7g37_hQ           0\n",
       " 1     8ZCpyx-U-dEJyNZBWiC3mA  4.621056  -Dk8JFqprGGJOsn7g37_hQ           0\n",
       " 2     o_N7HiU3f6cVvrJAFrE43A  4.620989  -Dk8JFqprGGJOsn7g37_hQ           0\n",
       " 3     KTGEa8V9ec0QBYM_uk1YLQ  4.613033  -Dk8JFqprGGJOsn7g37_hQ           0\n",
       " 4     u3zqvp4BYUjzJD7tzx3Jbg  4.589674  -Dk8JFqprGGJOsn7g37_hQ           0\n",
       " ...                      ...       ...                     ...         ...\n",
       " 1011  CCeUPUSWxYqUB_qtkGi2Lg  3.985459  -Dk8JFqprGGJOsn7g37_hQ           0\n",
       " 1012  229pgAfC3CBMmIWNngwKsA  3.985373  -Dk8JFqprGGJOsn7g37_hQ           0\n",
       " 1013  j23cA-R5ydbZHvXbW_9nvg  3.985281  -Dk8JFqprGGJOsn7g37_hQ           0\n",
       " 1014  JgZAaY3VzFZRivp5bAs0Yw  3.984576  -Dk8JFqprGGJOsn7g37_hQ           0\n",
       " 1015  cXa1G6GYqpKR3hjw9zR3qA  3.984428  -Dk8JFqprGGJOsn7g37_hQ           0\n",
       " \n",
       " [1016 rows x 4 columns],\n",
       "                  business_id     score                 user_id  real_label\n",
       " 0     -fs09akgCKv5rTTy7iUHUg  4.990469  -Dt5o6GpQcXQfVeWpHNtDg           0\n",
       " 1     KTGEa8V9ec0QBYM_uk1YLQ  4.977195  -Dt5o6GpQcXQfVeWpHNtDg           0\n",
       " 2     zLm2PaYrpHkcr63ekwvtBQ  4.954905  -Dt5o6GpQcXQfVeWpHNtDg           0\n",
       " 3     8ZCpyx-U-dEJyNZBWiC3mA  4.938704  -Dt5o6GpQcXQfVeWpHNtDg           0\n",
       " 4     5tK4y67IUn3eDd3S1bka9Q  4.920767  -Dt5o6GpQcXQfVeWpHNtDg           0\n",
       " ...                      ...       ...                     ...         ...\n",
       " 1045  naZrWX2vLUHHvvmWLSuDXw  4.515913  -Dt5o6GpQcXQfVeWpHNtDg           0\n",
       " 1046  lwN9FutfBq81GnGWhj5Mng  4.515642  -Dt5o6GpQcXQfVeWpHNtDg           0\n",
       " 1047  ZufSfqQ4RfUk4RAQgnlc0Q  4.515124  -Dt5o6GpQcXQfVeWpHNtDg           0\n",
       " 1048  OPQWnVzSu70iE26LOaZiJw  4.515120  -Dt5o6GpQcXQfVeWpHNtDg           0\n",
       " 1049  7zEVu7s5dHGscMUfRu5GaA  4.514972  -Dt5o6GpQcXQfVeWpHNtDg           0\n",
       " \n",
       " [1050 rows x 4 columns],\n",
       "                  business_id     score                 user_id  real_label\n",
       " 0     -fs09akgCKv5rTTy7iUHUg  4.042698  -DvWijj6j_S2-l2mkiViuQ           0\n",
       " 1     KTGEa8V9ec0QBYM_uk1YLQ  4.024063  -DvWijj6j_S2-l2mkiViuQ           0\n",
       " 2     o_N7HiU3f6cVvrJAFrE43A  4.014861  -DvWijj6j_S2-l2mkiViuQ           0\n",
       " 3     5tK4y67IUn3eDd3S1bka9Q  3.982737  -DvWijj6j_S2-l2mkiViuQ           0\n",
       " 4     rQ2CSHRkZSn5WCu7OfVI-Q  3.969893  -DvWijj6j_S2-l2mkiViuQ           0\n",
       " ...                      ...       ...                     ...         ...\n",
       " 997   a888q4wZiB5OyWed5WoHdA  3.404773  -DvWijj6j_S2-l2mkiViuQ           0\n",
       " 998   s9__MGvr-D6mj9HT8xRVtQ  3.404746  -DvWijj6j_S2-l2mkiViuQ           0\n",
       " 999   IWydHEK_2-owciF0kJu9Ag  3.404612  -DvWijj6j_S2-l2mkiViuQ           0\n",
       " 1000  vhar8sfBN37RE13z9CXNEQ  3.404359  -DvWijj6j_S2-l2mkiViuQ           0\n",
       " 1001  J17eQxAP2TwBmUPxd36VXA  3.404330  -DvWijj6j_S2-l2mkiViuQ           0\n",
       " \n",
       " [1002 rows x 4 columns],\n",
       "                  business_id     score                 user_id  real_label\n",
       " 0     -fs09akgCKv5rTTy7iUHUg  5.111192  -DxLO1mpm0xYXRHelKbvYw           0\n",
       " 1     KTGEa8V9ec0QBYM_uk1YLQ  5.097970  -DxLO1mpm0xYXRHelKbvYw           0\n",
       " 2     o_N7HiU3f6cVvrJAFrE43A  5.083680  -DxLO1mpm0xYXRHelKbvYw           0\n",
       " 3     zLm2PaYrpHkcr63ekwvtBQ  5.075679  -DxLO1mpm0xYXRHelKbvYw           0\n",
       " 4     8ZCpyx-U-dEJyNZBWiC3mA  5.059426  -DxLO1mpm0xYXRHelKbvYw           0\n",
       " ...                      ...       ...                     ...         ...\n",
       " 1039  IuZaAvupE_VaPlFYjOWE9A  4.601397  -DxLO1mpm0xYXRHelKbvYw           0\n",
       " 1040  TN1geaU2Sry_NfpXk-kbpA  4.601192  -DxLO1mpm0xYXRHelKbvYw           0\n",
       " 1041  dDMJ-H6e_RvoxwoXai79Rw  4.601034  -DxLO1mpm0xYXRHelKbvYw           0\n",
       " 1042  dsxkmGJyQlQVca8aa03awg  4.600847  -DxLO1mpm0xYXRHelKbvYw           0\n",
       " 1043  K6VliqaqiQqaVeaOXQv4wQ  4.600477  -DxLO1mpm0xYXRHelKbvYw           0\n",
       " \n",
       " [1044 rows x 4 columns],\n",
       "                  business_id     score                 user_id  real_label\n",
       " 0     -fs09akgCKv5rTTy7iUHUg  4.137192  -EX1hrPRBqNkVavtMllTCA           0\n",
       " 1     XJvOamdhTQI65jmzTfreDQ  4.043022  -EX1hrPRBqNkVavtMllTCA           0\n",
       " 2     NnlQhXtuVOVjUFYB1Hqp8Q  4.041354  -EX1hrPRBqNkVavtMllTCA           0\n",
       " 3     _ZMf5Am_e0AE7aveELJd9w  4.031133  -EX1hrPRBqNkVavtMllTCA           0\n",
       " 4     1pp0D12fv1aObregTlkArg  4.014770  -EX1hrPRBqNkVavtMllTCA           0\n",
       " ...                      ...       ...                     ...         ...\n",
       " 1094  1fVxrKKiqyB8q9iVo7aHfg  3.364170  -EX1hrPRBqNkVavtMllTCA           0\n",
       " 1095  OOVUIzwsMR_251wOpDC1Sg  3.363569  -EX1hrPRBqNkVavtMllTCA           0\n",
       " 1096  hc7I_QpCszT3mlIP9uW19w  3.363495  -EX1hrPRBqNkVavtMllTCA           0\n",
       " 1097  CYiZjwtq4iGg1CSygxk7aA  3.362700  -EX1hrPRBqNkVavtMllTCA           0\n",
       " 1098  2Q5gjf_K68145UdUyKGAaw  3.362394  -EX1hrPRBqNkVavtMllTCA           0\n",
       " \n",
       " [1099 rows x 4 columns],\n",
       "                  business_id     score                 user_id  real_label\n",
       " 0     -fs09akgCKv5rTTy7iUHUg  5.148451  -EbVuBtFKOalsIcNlfc7Fg           0\n",
       " 1     KTGEa8V9ec0QBYM_uk1YLQ  5.135150  -EbVuBtFKOalsIcNlfc7Fg           0\n",
       " 2     o_N7HiU3f6cVvrJAFrE43A  5.120939  -EbVuBtFKOalsIcNlfc7Fg           0\n",
       " 3     zLm2PaYrpHkcr63ekwvtBQ  5.112860  -EbVuBtFKOalsIcNlfc7Fg           0\n",
       " 4     8ZCpyx-U-dEJyNZBWiC3mA  5.096685  -EbVuBtFKOalsIcNlfc7Fg           0\n",
       " ...                      ...       ...                     ...         ...\n",
       " 1062  _V9ktNg37MPh7X3MiYXe_Q  4.650329  -EbVuBtFKOalsIcNlfc7Fg           0\n",
       " 1063  9wu8pszrPPUjruNvgQtIEg  4.650153  -EbVuBtFKOalsIcNlfc7Fg           0\n",
       " 1064  9wu8pszrPPUjruNvgQtIEg  4.650153  -EbVuBtFKOalsIcNlfc7Fg           0\n",
       " 1065  Tf7c38yepZzZvPG9wxNIqw  4.649808  -EbVuBtFKOalsIcNlfc7Fg           0\n",
       " 1066  zdvUHIeAQrDcTWNT7GWsmA  4.649293  -EbVuBtFKOalsIcNlfc7Fg           0\n",
       " \n",
       " [1067 rows x 4 columns],\n",
       "                  business_id     score                 user_id  real_label\n",
       " 0     RFo876v_A63N2JfOTq1p-g  4.365344  -Enu_Cc8lJ-yVcRvatf0hw           0\n",
       " 1     -fs09akgCKv5rTTy7iUHUg  4.357679  -Enu_Cc8lJ-yVcRvatf0hw           0\n",
       " 2     KTGEa8V9ec0QBYM_uk1YLQ  4.328444  -Enu_Cc8lJ-yVcRvatf0hw           0\n",
       " 3     o_N7HiU3f6cVvrJAFrE43A  4.317195  -Enu_Cc8lJ-yVcRvatf0hw           0\n",
       " 4     zLm2PaYrpHkcr63ekwvtBQ  4.316376  -Enu_Cc8lJ-yVcRvatf0hw           0\n",
       " ...                      ...       ...                     ...         ...\n",
       " 1035  0pnIIgi4sm96CllW0DhXug  3.797508  -Enu_Cc8lJ-yVcRvatf0hw           0\n",
       " 1036  3VYxaeo6BJNHbVIIfmWN_w  3.797462  -Enu_Cc8lJ-yVcRvatf0hw           0\n",
       " 1037  BFyfkA4u8tmSIvoZmEN00Q  3.797001  -Enu_Cc8lJ-yVcRvatf0hw           0\n",
       " 1038  I9DaV_jfAqUkVcr4x2XhFQ  3.796857  -Enu_Cc8lJ-yVcRvatf0hw           0\n",
       " 1039  ROnkVXPz5jRlMQvLw05UEA  3.796442  -Enu_Cc8lJ-yVcRvatf0hw           0\n",
       " \n",
       " [1040 rows x 4 columns],\n",
       "                  business_id     score                 user_id  real_label\n",
       " 0     -fs09akgCKv5rTTy7iUHUg  5.152526  -EoJZdxSKhowrsFMBAPE4Q           0\n",
       " 1     KTGEa8V9ec0QBYM_uk1YLQ  5.139229  -EoJZdxSKhowrsFMBAPE4Q           0\n",
       " 2     o_N7HiU3f6cVvrJAFrE43A  5.125013  -EoJZdxSKhowrsFMBAPE4Q           0\n",
       " 3     zLm2PaYrpHkcr63ekwvtBQ  5.116939  -EoJZdxSKhowrsFMBAPE4Q           0\n",
       " 4     8ZCpyx-U-dEJyNZBWiC3mA  5.100760  -EoJZdxSKhowrsFMBAPE4Q           0\n",
       " ...                      ...       ...                     ...         ...\n",
       " 1020  mmBwAe9q062vKWanRfoagQ  4.669348  -EoJZdxSKhowrsFMBAPE4Q           0\n",
       " 1021  z5YxP_jyIU7dRKUA7V_H0w  4.669293  -EoJZdxSKhowrsFMBAPE4Q           0\n",
       " 1022  M6ap9LXMEZmHf6NhlNpDQA  4.669121  -EoJZdxSKhowrsFMBAPE4Q           0\n",
       " 1023  qNBKRYXQikC8TmLVI1Fhgg  4.669040  -EoJZdxSKhowrsFMBAPE4Q           0\n",
       " 1024  yGFkdrYdndizAPymvyq2WQ  4.668777  -EoJZdxSKhowrsFMBAPE4Q           0\n",
       " \n",
       " [1025 rows x 4 columns],\n",
       "                  business_id     score                 user_id  real_label\n",
       " 0     -fs09akgCKv5rTTy7iUHUg  4.812247  -EsTy2PDFHI1rNek9OVWgQ           0\n",
       " 1     TE2IEDNV0RcI6s1wTOP4fg  4.804328  -EsTy2PDFHI1rNek9OVWgQ           0\n",
       " 2     TE2IEDNV0RcI6s1wTOP4fg  4.804328  -EsTy2PDFHI1rNek9OVWgQ           0\n",
       " 3     KTGEa8V9ec0QBYM_uk1YLQ  4.799006  -EsTy2PDFHI1rNek9OVWgQ           0\n",
       " 4     o_N7HiU3f6cVvrJAFrE43A  4.784736  -EsTy2PDFHI1rNek9OVWgQ           0\n",
       " ...                      ...       ...                     ...         ...\n",
       " 1043  hHCGmb01EGFstumCsd4-VA  4.332870  -EsTy2PDFHI1rNek9OVWgQ           0\n",
       " 1044  n_RGE_Wn5L7phnlkQ919kQ  4.332860  -EsTy2PDFHI1rNek9OVWgQ           0\n",
       " 1045  TCAaeZi4m_RwUTTbZseRmg  4.332820  -EsTy2PDFHI1rNek9OVWgQ           0\n",
       " 1046  Tf7c38yepZzZvPG9wxNIqw  4.332559  -EsTy2PDFHI1rNek9OVWgQ           0\n",
       " 1047  pwMejZZUizAZ4aOADafVPg  4.332230  -EsTy2PDFHI1rNek9OVWgQ           0\n",
       " \n",
       " [1048 rows x 4 columns],\n",
       "                  business_id     score                 user_id  real_label\n",
       " 0     ytynqOUb3hjKeJfRj5Tshw  5.316846  -F2y0jIa21QxnWgxXaC7TQ           0\n",
       " 1     -fs09akgCKv5rTTy7iUHUg  5.191824  -F2y0jIa21QxnWgxXaC7TQ           0\n",
       " 2     KTGEa8V9ec0QBYM_uk1YLQ  5.178550  -F2y0jIa21QxnWgxXaC7TQ           0\n",
       " 3     o_N7HiU3f6cVvrJAFrE43A  5.164312  -F2y0jIa21QxnWgxXaC7TQ           0\n",
       " 4     zLm2PaYrpHkcr63ekwvtBQ  5.156260  -F2y0jIa21QxnWgxXaC7TQ           0\n",
       " ...                      ...       ...                     ...         ...\n",
       " 1105  FTSY6Y1RU-ICgc3GAbquXA  4.720268  -F2y0jIa21QxnWgxXaC7TQ           0\n",
       " 1106  dobrhbpdxTMh9EWiTEQk7A  4.720112  -F2y0jIa21QxnWgxXaC7TQ           0\n",
       " 1107  Y5S_AUSW8EjswVf9JAi-0w  4.719819  -F2y0jIa21QxnWgxXaC7TQ           0\n",
       " 1108  _qTgNBEvVhcXD1lHksz8RQ  4.719790  -F2y0jIa21QxnWgxXaC7TQ           0\n",
       " 1109  da7OrS3jV_VgrlIbjUyQbA  4.719531  -F2y0jIa21QxnWgxXaC7TQ           0\n",
       " \n",
       " [1110 rows x 4 columns],\n",
       "                  business_id     score                 user_id  real_label\n",
       " 0     -fs09akgCKv5rTTy7iUHUg  5.042397  -F7TSdsTA244F71mBVRioQ           0\n",
       " 1     KTGEa8V9ec0QBYM_uk1YLQ  5.029109  -F7TSdsTA244F71mBVRioQ           0\n",
       " 2     8ZCpyx-U-dEJyNZBWiC3mA  4.990631  -F7TSdsTA244F71mBVRioQ           0\n",
       " 3     5tK4y67IUn3eDd3S1bka9Q  4.972681  -F7TSdsTA244F71mBVRioQ           0\n",
       " 4     XJvOamdhTQI65jmzTfreDQ  4.917133  -F7TSdsTA244F71mBVRioQ           0\n",
       " ...                      ...       ...                     ...         ...\n",
       " 1027  hLlDzRaDGN-0SlEWk0xTpQ  4.507937  -F7TSdsTA244F71mBVRioQ           0\n",
       " 1028  9f48RWEylLgrkCt0-49iHw  4.507814  -F7TSdsTA244F71mBVRioQ           0\n",
       " 1029  ehzdBdCuwFNHEoIfpJY7Iw  4.507783  -F7TSdsTA244F71mBVRioQ           0\n",
       " 1030  rbazT4HNABCj_CeEG7IpNw  4.507388  -F7TSdsTA244F71mBVRioQ           0\n",
       " 1031  EoKKkfmOOgtdy-Br0Hs1xw  4.507369  -F7TSdsTA244F71mBVRioQ           0\n",
       " \n",
       " [1032 rows x 4 columns],\n",
       "                  business_id     score                 user_id  real_label\n",
       " 0     -fs09akgCKv5rTTy7iUHUg  4.956040  -F8_j7kM4jLVkVgx2vjPtg           0\n",
       " 1     KTGEa8V9ec0QBYM_uk1YLQ  4.942705  -F8_j7kM4jLVkVgx2vjPtg           0\n",
       " 2     zLm2PaYrpHkcr63ekwvtBQ  4.920414  -F8_j7kM4jLVkVgx2vjPtg           0\n",
       " 3     8ZCpyx-U-dEJyNZBWiC3mA  4.904277  -F8_j7kM4jLVkVgx2vjPtg           0\n",
       " 4     5tK4y67IUn3eDd3S1bka9Q  4.886277  -F8_j7kM4jLVkVgx2vjPtg           0\n",
       " ...                      ...       ...                     ...         ...\n",
       " 1017  GAINPyM9n673GUgNkGBOcg  4.472466  -F8_j7kM4jLVkVgx2vjPtg           0\n",
       " 1018  yGFkdrYdndizAPymvyq2WQ  4.472294  -F8_j7kM4jLVkVgx2vjPtg           0\n",
       " 1019  Bhi6oPbGK5zoyj9qoRxzfA  4.472278  -F8_j7kM4jLVkVgx2vjPtg           0\n",
       " 1020  cmMIB7uTNGJc9Qpl65LjjQ  4.472199  -F8_j7kM4jLVkVgx2vjPtg           0\n",
       " 1021  WYDUHaSrkAvj1fjoFOgivw  4.471744  -F8_j7kM4jLVkVgx2vjPtg           0\n",
       " \n",
       " [1022 rows x 4 columns],\n",
       "                  business_id     score                 user_id  real_label\n",
       " 0     -fs09akgCKv5rTTy7iUHUg  1.753447  -FZBTkAZEXoP7CYvRV2ZwQ           0\n",
       " 1     5tK4y67IUn3eDd3S1bka9Q  1.710967  -FZBTkAZEXoP7CYvRV2ZwQ           0\n",
       " 2     XJvOamdhTQI65jmzTfreDQ  1.689588  -FZBTkAZEXoP7CYvRV2ZwQ           0\n",
       " 3     NnlQhXtuVOVjUFYB1Hqp8Q  1.687906  -FZBTkAZEXoP7CYvRV2ZwQ           0\n",
       " 4     8j5bQ0nDwoGiFaTQDNCQTg  1.685023  -FZBTkAZEXoP7CYvRV2ZwQ           0\n",
       " ...                      ...       ...                     ...         ...\n",
       " 1076  -cE9GrThz6HHn2zdpoqY_w  1.438072  -FZBTkAZEXoP7CYvRV2ZwQ           0\n",
       " 1077  prg-VuBmLu82ixjahIhQzg  1.437878  -FZBTkAZEXoP7CYvRV2ZwQ           0\n",
       " 1078  HpGX79LxHKQYAUteeHZGrA  1.437844  -FZBTkAZEXoP7CYvRV2ZwQ           0\n",
       " 1079  85e8Uyn8tIyEZCqBP80rqA  1.437699  -FZBTkAZEXoP7CYvRV2ZwQ           0\n",
       " 1080  kzHH50fET6e5nVqk8IIl5Q  1.437688  -FZBTkAZEXoP7CYvRV2ZwQ           0\n",
       " \n",
       " [1081 rows x 4 columns],\n",
       "                  business_id     score                 user_id  real_label\n",
       " 0     -fs09akgCKv5rTTy7iUHUg  5.034341  -F_kQNlbSEzZedUfZZwrVw           0\n",
       " 1     KTGEa8V9ec0QBYM_uk1YLQ  5.021132  -F_kQNlbSEzZedUfZZwrVw           0\n",
       " 2     zLm2PaYrpHkcr63ekwvtBQ  4.998848  -F_kQNlbSEzZedUfZZwrVw           0\n",
       " 3     8ZCpyx-U-dEJyNZBWiC3mA  4.982575  -F_kQNlbSEzZedUfZZwrVw           0\n",
       " 4     5tK4y67IUn3eDd3S1bka9Q  4.964692  -F_kQNlbSEzZedUfZZwrVw           0\n",
       " ...                      ...       ...                     ...         ...\n",
       " 1051  3yyTNQtkDYOP3vsCdoFm6A  4.519322  -F_kQNlbSEzZedUfZZwrVw           0\n",
       " 1052  089KGIJDnVJEAe3GiXzlrQ  4.519125  -F_kQNlbSEzZedUfZZwrVw           0\n",
       " 1053  a8vo2Ho-DOFeLmTxVFa9IA  4.519049  -F_kQNlbSEzZedUfZZwrVw           0\n",
       " 1054  VhCNCbbMO8jX5pyKExEoxA  4.519009  -F_kQNlbSEzZedUfZZwrVw           0\n",
       " 1055  1_ggjy2ygyhAztMvjLCCEA  4.518854  -F_kQNlbSEzZedUfZZwrVw           0\n",
       " \n",
       " [1056 rows x 4 columns],\n",
       "                  business_id     score                 user_id  real_label\n",
       " 0     5tK4y67IUn3eDd3S1bka9Q  4.340002  -FjLaUdIRV3I0Pv8i-ICfQ           0\n",
       " 1     XJvOamdhTQI65jmzTfreDQ  4.270175  -FjLaUdIRV3I0Pv8i-ICfQ           0\n",
       " 2     _ZMf5Am_e0AE7aveELJd9w  4.229054  -FjLaUdIRV3I0Pv8i-ICfQ           0\n",
       " 3     UfWjaifeYmyldKxlEYI9cg  4.227863  -FjLaUdIRV3I0Pv8i-ICfQ           0\n",
       " 4     Bk6uzC83wbmCHm2i5Uz8OA  4.222449  -FjLaUdIRV3I0Pv8i-ICfQ           0\n",
       " ...                      ...       ...                     ...         ...\n",
       " 999   h2DidMy9Q9qyGlQ5xaecMA  3.683630  -FjLaUdIRV3I0Pv8i-ICfQ           0\n",
       " 1000  fpvcFLo6A5S9b9pEVGjB7Q  3.682977  -FjLaUdIRV3I0Pv8i-ICfQ           0\n",
       " 1001  EaGQz-Y2aAdfrn1XXgjJ6A  3.682915  -FjLaUdIRV3I0Pv8i-ICfQ           0\n",
       " 1002  hUl_zNzmwMd8TD8pPL81pg  3.682728  -FjLaUdIRV3I0Pv8i-ICfQ           0\n",
       " 1003  Uy0r4bzRmY5LFtDfzNgkag  3.682425  -FjLaUdIRV3I0Pv8i-ICfQ           0\n",
       " \n",
       " [1004 rows x 4 columns],\n",
       "                  business_id     score                 user_id  real_label\n",
       " 0     RFo876v_A63N2JfOTq1p-g  4.827403  -FlaR0jIF6LmVUJNZW7lYw           0\n",
       " 1     -fs09akgCKv5rTTy7iUHUg  4.826384  -FlaR0jIF6LmVUJNZW7lYw           0\n",
       " 2     KTGEa8V9ec0QBYM_uk1YLQ  4.813076  -FlaR0jIF6LmVUJNZW7lYw           0\n",
       " 3     o_N7HiU3f6cVvrJAFrE43A  4.798872  -FlaR0jIF6LmVUJNZW7lYw           0\n",
       " 4     zLm2PaYrpHkcr63ekwvtBQ  4.790785  -FlaR0jIF6LmVUJNZW7lYw           0\n",
       " ...                      ...       ...                     ...         ...\n",
       " 996   z5YxP_jyIU7dRKUA7V_H0w  4.356398  -FlaR0jIF6LmVUJNZW7lYw           0\n",
       " 997   xpMdiTn2t7Lw46yf_gvTqQ  4.356392  -FlaR0jIF6LmVUJNZW7lYw           0\n",
       " 998   0bNbWkKmVxJmJuOZCtG7OQ  4.356284  -FlaR0jIF6LmVUJNZW7lYw           0\n",
       " 999   _n539Sga7PCvHQs--a4qkA  4.356189  -FlaR0jIF6LmVUJNZW7lYw           0\n",
       " 1000  VHWCzIZXpWPyeFe2lkIutQ  4.355888  -FlaR0jIF6LmVUJNZW7lYw           0\n",
       " \n",
       " [1001 rows x 4 columns],\n",
       "                  business_id     score                 user_id  real_label\n",
       " 0     -fs09akgCKv5rTTy7iUHUg  4.492716  -FvDkLBWEzhmYe5-kBBEMg           0\n",
       " 1     8ZCpyx-U-dEJyNZBWiC3mA  4.471028  -FvDkLBWEzhmYe5-kBBEMg           0\n",
       " 2     KTGEa8V9ec0QBYM_uk1YLQ  4.447537  -FvDkLBWEzhmYe5-kBBEMg           0\n",
       " 3     o_N7HiU3f6cVvrJAFrE43A  4.446823  -FvDkLBWEzhmYe5-kBBEMg           0\n",
       " 4     zLm2PaYrpHkcr63ekwvtBQ  4.424245  -FvDkLBWEzhmYe5-kBBEMg           0\n",
       " ...                      ...       ...                     ...         ...\n",
       " 1003  qFEwZcXeu5Bl0hqPv5nNAw  3.833787  -FvDkLBWEzhmYe5-kBBEMg           0\n",
       " 1004  Cfl4gpf9oneiuZUExMtA4w  3.833559  -FvDkLBWEzhmYe5-kBBEMg           0\n",
       " 1005  uZZiRcsyTFFefJ6MsZIZwQ  3.833534  -FvDkLBWEzhmYe5-kBBEMg           0\n",
       " 1006  6KoyHbN2qSUsioqrjXLeEg  3.833233  -FvDkLBWEzhmYe5-kBBEMg           0\n",
       " 1007  M1hsyjJDdQQeNP164FJ1pA  3.833102  -FvDkLBWEzhmYe5-kBBEMg           0\n",
       " \n",
       " [1008 rows x 4 columns],\n",
       "                 business_id     score                 user_id  real_label\n",
       " 0    -fs09akgCKv5rTTy7iUHUg  4.895402  -FvW27M5s9Fa7XhoGZNZog           0\n",
       " 1    KTGEa8V9ec0QBYM_uk1YLQ  4.882067  -FvW27M5s9Fa7XhoGZNZog           0\n",
       " 2    o_N7HiU3f6cVvrJAFrE43A  4.867867  -FvW27M5s9Fa7XhoGZNZog           0\n",
       " 3    zLm2PaYrpHkcr63ekwvtBQ  4.859776  -FvW27M5s9Fa7XhoGZNZog           0\n",
       " 4    5tK4y67IUn3eDd3S1bka9Q  4.825639  -FvW27M5s9Fa7XhoGZNZog           0\n",
       " ..                      ...       ...                     ...         ...\n",
       " 995  hid9ixP7Rtoj2pR4EBrcGg  4.380266  -FvW27M5s9Fa7XhoGZNZog           0\n",
       " 996  EoKKkfmOOgtdy-Br0Hs1xw  4.380203  -FvW27M5s9Fa7XhoGZNZog           0\n",
       " 997  yDiWYpuzRxcTgSi_O4JZpQ  4.379894  -FvW27M5s9Fa7XhoGZNZog           0\n",
       " 998  T3tiN6g7G2XUoDjRv3d8Cw  4.379742  -FvW27M5s9Fa7XhoGZNZog           0\n",
       " 999  eE5rsErCgdkqBe5FnWn6oA  4.379640  -FvW27M5s9Fa7XhoGZNZog           0\n",
       " \n",
       " [1000 rows x 4 columns],\n",
       "                  business_id     score                 user_id  real_label\n",
       " 0     -fs09akgCKv5rTTy7iUHUg  4.986056  -FxsSuwDbIII7yo5BjHpiA           0\n",
       " 1     KTGEa8V9ec0QBYM_uk1YLQ  4.967584  -FxsSuwDbIII7yo5BjHpiA           0\n",
       " 2     zLm2PaYrpHkcr63ekwvtBQ  4.953547  -FxsSuwDbIII7yo5BjHpiA           0\n",
       " 3     8ZCpyx-U-dEJyNZBWiC3mA  4.915952  -FxsSuwDbIII7yo5BjHpiA           0\n",
       " 4     5tK4y67IUn3eDd3S1bka9Q  4.909844  -FxsSuwDbIII7yo5BjHpiA           0\n",
       " ...                      ...       ...                     ...         ...\n",
       " 1114  HG_w8WcRyyUJ1neOMGSrvw  4.470736  -FxsSuwDbIII7yo5BjHpiA           0\n",
       " 1115  uvRatMC-cQA8cq1nnPWknQ  4.470657  -FxsSuwDbIII7yo5BjHpiA           0\n",
       " 1116  IAOJuLejVtnZJpw15Txu9A  4.470233  -FxsSuwDbIII7yo5BjHpiA           0\n",
       " 1117  wlUOgJ63PmhkX5ms-QGoDw  4.470185  -FxsSuwDbIII7yo5BjHpiA           0\n",
       " 1118  mGy0KzmeGIECUL0nZXUV0g  4.469930  -FxsSuwDbIII7yo5BjHpiA           0\n",
       " \n",
       " [1119 rows x 4 columns],\n",
       "                  business_id     score                 user_id  real_label\n",
       " 0     -fs09akgCKv5rTTy7iUHUg  4.262735  -Fyi0J0MoIFz5g9T-wtS4g           0\n",
       " 1     KTGEa8V9ec0QBYM_uk1YLQ  4.231338  -Fyi0J0MoIFz5g9T-wtS4g           0\n",
       " 2     zLm2PaYrpHkcr63ekwvtBQ  4.216543  -Fyi0J0MoIFz5g9T-wtS4g           0\n",
       " 3     8ZCpyx-U-dEJyNZBWiC3mA  4.209552  -Fyi0J0MoIFz5g9T-wtS4g           0\n",
       " 4     u3zqvp4BYUjzJD7tzx3Jbg  4.187941  -Fyi0J0MoIFz5g9T-wtS4g           0\n",
       " ...                      ...       ...                     ...         ...\n",
       " 1086  I7SkoqN88fpKagzKA059Fw  3.720126  -Fyi0J0MoIFz5g9T-wtS4g           0\n",
       " 1087  c_4c5rJECZSfNgFj7frwHQ  3.720124  -Fyi0J0MoIFz5g9T-wtS4g           0\n",
       " 1088  tELoGj2QJYYFQ1jo_XXbpA  3.720096  -Fyi0J0MoIFz5g9T-wtS4g           0\n",
       " 1089  TdvI2kA0zslVlFS8a8YuTQ  3.720016  -Fyi0J0MoIFz5g9T-wtS4g           0\n",
       " 1090  YaEwp8emNzySe-d0MKVbOw  3.719774  -Fyi0J0MoIFz5g9T-wtS4g           0\n",
       " \n",
       " [1091 rows x 4 columns],\n",
       "                  business_id     score                 user_id  real_label\n",
       " 0     -fs09akgCKv5rTTy7iUHUg  4.901095  -G-s0z4MVaIjHIRAWp1myw           0\n",
       " 1     KTGEa8V9ec0QBYM_uk1YLQ  4.887812  -G-s0z4MVaIjHIRAWp1myw           0\n",
       " 2     8ZCpyx-U-dEJyNZBWiC3mA  4.849329  -G-s0z4MVaIjHIRAWp1myw           0\n",
       " 3     5tK4y67IUn3eDd3S1bka9Q  4.831384  -G-s0z4MVaIjHIRAWp1myw           0\n",
       " 4     atZ_olNKXOG4rEr6mccN8g  4.781378  -G-s0z4MVaIjHIRAWp1myw           0\n",
       " ...                      ...       ...                     ...         ...\n",
       " 1020  viTvepI8TEHvl8nwiewX6Q  4.400923  -G-s0z4MVaIjHIRAWp1myw           0\n",
       " 1021  a6HKcQXYY2N6-VLsHHDttA  4.400910  -G-s0z4MVaIjHIRAWp1myw           0\n",
       " 1022  8kh6Z3c8UHQKmsy0_TbOnA  4.400772  -G-s0z4MVaIjHIRAWp1myw           0\n",
       " 1023  aw0aIu0yFA-6wBptI68urg  4.400655  -G-s0z4MVaIjHIRAWp1myw           0\n",
       " 1024  gbw5wqRVjeyCEExrM0RPmA  4.400594  -G-s0z4MVaIjHIRAWp1myw           0\n",
       " \n",
       " [1025 rows x 4 columns],\n",
       "                  business_id     score                 user_id  real_label\n",
       " 0     -fs09akgCKv5rTTy7iUHUg  0.811309  -G7Zkl1wIWBBmD0KRy_sCw           0\n",
       " 1     KTGEa8V9ec0QBYM_uk1YLQ  0.801577  -G7Zkl1wIWBBmD0KRy_sCw           0\n",
       " 2     KTGEa8V9ec0QBYM_uk1YLQ  0.801577  -G7Zkl1wIWBBmD0KRy_sCw           0\n",
       " 3     zLm2PaYrpHkcr63ekwvtBQ  0.797960  -G7Zkl1wIWBBmD0KRy_sCw           0\n",
       " 4     o_N7HiU3f6cVvrJAFrE43A  0.793680  -G7Zkl1wIWBBmD0KRy_sCw           0\n",
       " ...                      ...       ...                     ...         ...\n",
       " 1134  U5vGEpfMzlHmdVMsaAxWAA  0.590803  -G7Zkl1wIWBBmD0KRy_sCw           0\n",
       " 1135  lNsnmur2Df2oK9ywyY0H3g  0.590742  -G7Zkl1wIWBBmD0KRy_sCw           0\n",
       " 1136  R-_nxSVNYGNJVTGCn9BcNQ  0.590666  -G7Zkl1wIWBBmD0KRy_sCw           0\n",
       " 1137  _2px12u77r7E3LQ8vnDbLg  0.590556  -G7Zkl1wIWBBmD0KRy_sCw           0\n",
       " 1138  BPMz2-6BwS0B3SIN11Qwqw  0.590511  -G7Zkl1wIWBBmD0KRy_sCw           0\n",
       " \n",
       " [1139 rows x 4 columns],\n",
       "                  business_id     score                 user_id  real_label\n",
       " 0     -fs09akgCKv5rTTy7iUHUg  5.090113  -GDdBOfhrxn7lAGblLSoqA           0\n",
       " 1     KTGEa8V9ec0QBYM_uk1YLQ  5.076777  -GDdBOfhrxn7lAGblLSoqA           0\n",
       " 2     o_N7HiU3f6cVvrJAFrE43A  5.062578  -GDdBOfhrxn7lAGblLSoqA           0\n",
       " 3     8ZCpyx-U-dEJyNZBWiC3mA  5.038383  -GDdBOfhrxn7lAGblLSoqA           0\n",
       " 4     5tK4y67IUn3eDd3S1bka9Q  5.020350  -GDdBOfhrxn7lAGblLSoqA           0\n",
       " ...                      ...       ...                     ...         ...\n",
       " 996   QJOC6Uz-RCpzPB6aMjtP9Q  4.542513  -GDdBOfhrxn7lAGblLSoqA           0\n",
       " 997   B1OjiK9Bx5t_mIm9I6mZ-Q  4.542403  -GDdBOfhrxn7lAGblLSoqA           0\n",
       " 998   4Z1JcQtw8dUO97sezLPo7g  4.542059  -GDdBOfhrxn7lAGblLSoqA           0\n",
       " 999   bjwYssBeEmc1wFR7nKXI4A  4.542047  -GDdBOfhrxn7lAGblLSoqA           0\n",
       " 1000  KBz_8BA0dRhQzvZ4XGuMdg  4.541975  -GDdBOfhrxn7lAGblLSoqA           0\n",
       " \n",
       " [1001 rows x 4 columns],\n",
       "                  business_id     score                 user_id  real_label\n",
       " 0     -fs09akgCKv5rTTy7iUHUg  4.687358  -GKEFg_92pp0q842clS_Jw           0\n",
       " 1     8ZCpyx-U-dEJyNZBWiC3mA  4.633267  -GKEFg_92pp0q842clS_Jw           0\n",
       " 2     KTGEa8V9ec0QBYM_uk1YLQ  4.629886  -GKEFg_92pp0q842clS_Jw           0\n",
       " 3     zLm2PaYrpHkcr63ekwvtBQ  4.606745  -GKEFg_92pp0q842clS_Jw           0\n",
       " 4     5tK4y67IUn3eDd3S1bka9Q  4.594538  -GKEFg_92pp0q842clS_Jw           0\n",
       " ...                      ...       ...                     ...         ...\n",
       " 1001  7neWV37lyUK91x1WnCOyFQ  3.987628  -GKEFg_92pp0q842clS_Jw           0\n",
       " 1002  fK_Fd8-KmGV-ASIIjJwfdQ  3.987284  -GKEFg_92pp0q842clS_Jw           0\n",
       " 1003  JuMiGeS_i9c611znnG27xA  3.987122  -GKEFg_92pp0q842clS_Jw           0\n",
       " 1004  G3XJc8cjab0vrovfart7Gw  3.986659  -GKEFg_92pp0q842clS_Jw           0\n",
       " 1005  NL_RDDQ_uPAT8t-x7hINvA  3.986488  -GKEFg_92pp0q842clS_Jw           0\n",
       " \n",
       " [1006 rows x 4 columns],\n",
       "                  business_id     score                 user_id  real_label\n",
       " 0     -fs09akgCKv5rTTy7iUHUg  4.826118  -GTDgCPa0LkoDBATv4Qptw           0\n",
       " 1     8ZCpyx-U-dEJyNZBWiC3mA  4.774353  -GTDgCPa0LkoDBATv4Qptw           0\n",
       " 2     5tK4y67IUn3eDd3S1bka9Q  4.756371  -GTDgCPa0LkoDBATv4Qptw           0\n",
       " 3     XJvOamdhTQI65jmzTfreDQ  4.702675  -GTDgCPa0LkoDBATv4Qptw           0\n",
       " 4     _ZMf5Am_e0AE7aveELJd9w  4.694617  -GTDgCPa0LkoDBATv4Qptw           0\n",
       " ...                      ...       ...                     ...         ...\n",
       " 1071  sWh4Q8a1pC-kkzevrnu1Ow  4.247284  -GTDgCPa0LkoDBATv4Qptw           0\n",
       " 1072  SzKOoeRCtoXvekt3K8B9Iw  4.247171  -GTDgCPa0LkoDBATv4Qptw           0\n",
       " 1073  QNxXsVPYcecUuhGRG-88OQ  4.247071  -GTDgCPa0LkoDBATv4Qptw           0\n",
       " 1074  EF_9W5s9lFSjv4forNxwng  4.246995  -GTDgCPa0LkoDBATv4Qptw           0\n",
       " 1075  IZ6vx85mSdC2zp0STFzTIw  4.246934  -GTDgCPa0LkoDBATv4Qptw           0\n",
       " \n",
       " [1076 rows x 4 columns],\n",
       "                  business_id     score                 user_id  real_label\n",
       " 0     -fs09akgCKv5rTTy7iUHUg  5.102264  -GlheyCSx4bu0PYYt-fRnQ           0\n",
       " 1     KTGEa8V9ec0QBYM_uk1YLQ  5.088939  -GlheyCSx4bu0PYYt-fRnQ           0\n",
       " 2     zLm2PaYrpHkcr63ekwvtBQ  5.066648  -GlheyCSx4bu0PYYt-fRnQ           0\n",
       " 3     8ZCpyx-U-dEJyNZBWiC3mA  5.050498  -GlheyCSx4bu0PYYt-fRnQ           0\n",
       " 4     5tK4y67IUn3eDd3S1bka9Q  5.032511  -GlheyCSx4bu0PYYt-fRnQ           0\n",
       " ...                      ...       ...                     ...         ...\n",
       " 1074  mcB1_hiiOVPlgTvlkqAiDw  4.598715  -GlheyCSx4bu0PYYt-fRnQ           0\n",
       " 1075  py2kSvhHg5B6Z9ZrLHRjuQ  4.598353  -GlheyCSx4bu0PYYt-fRnQ           0\n",
       " 1076  3Cqy4d5KcGVmgiHFi4O4zQ  4.598223  -GlheyCSx4bu0PYYt-fRnQ           0\n",
       " 1077  ngJLl0tdJPBgdUc-tn1Stg  4.597892  -GlheyCSx4bu0PYYt-fRnQ           0\n",
       " 1078  pxdliCtWkCuXW9uHYk8Y9w  4.597635  -GlheyCSx4bu0PYYt-fRnQ           0\n",
       " \n",
       " [1079 rows x 4 columns],\n",
       "                 business_id     score                 user_id  real_label\n",
       " 0    -fs09akgCKv5rTTy7iUHUg  4.814962  -GmiE0fXRpPQWse0z1UBKA           0\n",
       " 1    KTGEa8V9ec0QBYM_uk1YLQ  4.772184  -GmiE0fXRpPQWse0z1UBKA           0\n",
       " 2    zLm2PaYrpHkcr63ekwvtBQ  4.758414  -GmiE0fXRpPQWse0z1UBKA           0\n",
       " 3    8ZCpyx-U-dEJyNZBWiC3mA  4.756218  -GmiE0fXRpPQWse0z1UBKA           0\n",
       " 4    u3zqvp4BYUjzJD7tzx3Jbg  4.747346  -GmiE0fXRpPQWse0z1UBKA           0\n",
       " ..                      ...       ...                     ...         ...\n",
       " 995  IG2KelKEHCwybPl98frdgQ  4.300845  -GmiE0fXRpPQWse0z1UBKA           0\n",
       " 996  DEFte_S3i2EcRLH7XbWQZA  4.300454  -GmiE0fXRpPQWse0z1UBKA           0\n",
       " 997  oKUsjN4HkWddKfFuJmES5w  4.300276  -GmiE0fXRpPQWse0z1UBKA           0\n",
       " 998  K3rQIh4EXBwCb1xass2k7g  4.300241  -GmiE0fXRpPQWse0z1UBKA           0\n",
       " 999  3D--xK_0--6-zMm1ip_bjw  4.300084  -GmiE0fXRpPQWse0z1UBKA           0\n",
       " \n",
       " [1000 rows x 4 columns],\n",
       "                 business_id     score                 user_id  real_label\n",
       " 0    -fs09akgCKv5rTTy7iUHUg  4.946342  -GowNe73gDZs9MfS3ugJDQ           0\n",
       " 1    KTGEa8V9ec0QBYM_uk1YLQ  4.927870  -GowNe73gDZs9MfS3ugJDQ           0\n",
       " 2    8ZCpyx-U-dEJyNZBWiC3mA  4.889208  -GowNe73gDZs9MfS3ugJDQ           0\n",
       " 3    5tK4y67IUn3eDd3S1bka9Q  4.871124  -GowNe73gDZs9MfS3ugJDQ           0\n",
       " 4    u3zqvp4BYUjzJD7tzx3Jbg  4.863284  -GowNe73gDZs9MfS3ugJDQ           0\n",
       " ..                      ...       ...                     ...         ...\n",
       " 995  h85b3MFPWyaopMBy8DpBpA  4.445683  -GowNe73gDZs9MfS3ugJDQ           0\n",
       " 996  Owo5es5l2zcGq9e9T1sgIg  4.445647  -GowNe73gDZs9MfS3ugJDQ           0\n",
       " 997  QkEdoOC2qvbN35PQ_47NDg  4.445510  -GowNe73gDZs9MfS3ugJDQ           0\n",
       " 998  Pc0EkfiyuIw9NGBC4p8gpw  4.445505  -GowNe73gDZs9MfS3ugJDQ           0\n",
       " 999  yeHLiKNp0hyR-ig4M6us-w  4.444923  -GowNe73gDZs9MfS3ugJDQ           0\n",
       " \n",
       " [1000 rows x 4 columns],\n",
       "                  business_id     score                 user_id  real_label\n",
       " 0     -fs09akgCKv5rTTy7iUHUg  5.127786  -Gs5ZYB22qPfWigiuhp50A           0\n",
       " 1     KTGEa8V9ec0QBYM_uk1YLQ  5.114466  -Gs5ZYB22qPfWigiuhp50A           0\n",
       " 2     zLm2PaYrpHkcr63ekwvtBQ  5.092175  -Gs5ZYB22qPfWigiuhp50A           0\n",
       " 3     8ZCpyx-U-dEJyNZBWiC3mA  5.076020  -Gs5ZYB22qPfWigiuhp50A           0\n",
       " 4     5tK4y67IUn3eDd3S1bka9Q  5.058038  -Gs5ZYB22qPfWigiuhp50A           0\n",
       " ...                      ...       ...                     ...         ...\n",
       " 996   TPfhxYwdxj4XExyW2vl6fA  4.621911  -Gs5ZYB22qPfWigiuhp50A           0\n",
       " 997   AvNekC7lDNoRLfDxhIb_XQ  4.621772  -Gs5ZYB22qPfWigiuhp50A           0\n",
       " 998   c6GTImF01z981_BNJIye2g  4.621677  -Gs5ZYB22qPfWigiuhp50A           0\n",
       " 999   CCeUPUSWxYqUB_qtkGi2Lg  4.621630  -Gs5ZYB22qPfWigiuhp50A           0\n",
       " 1000  a6HKcQXYY2N6-VLsHHDttA  4.621568  -Gs5ZYB22qPfWigiuhp50A           0\n",
       " \n",
       " [1001 rows x 4 columns],\n",
       "                  business_id     score                 user_id  real_label\n",
       " 0     -fs09akgCKv5rTTy7iUHUg  5.088724  -H6cTbVxeIRYR-atxdielQ           0\n",
       " 1     KTGEa8V9ec0QBYM_uk1YLQ  5.070252  -H6cTbVxeIRYR-atxdielQ           0\n",
       " 2     o_N7HiU3f6cVvrJAFrE43A  5.057120  -H6cTbVxeIRYR-atxdielQ           0\n",
       " 3     zLm2PaYrpHkcr63ekwvtBQ  5.056214  -H6cTbVxeIRYR-atxdielQ           0\n",
       " 4     8ZCpyx-U-dEJyNZBWiC3mA  5.018640  -H6cTbVxeIRYR-atxdielQ           0\n",
       " ...                      ...       ...                     ...         ...\n",
       " 1022  phQZ65kaARzcL1fAquR8LQ  4.613233  -H6cTbVxeIRYR-atxdielQ           0\n",
       " 1023  9rMLrfcH-d6mKdq7uMNwzw  4.612949  -H6cTbVxeIRYR-atxdielQ           0\n",
       " 1024  d-9vXGzbI2eZAJWKb06h3A  4.612858  -H6cTbVxeIRYR-atxdielQ           0\n",
       " 1025  ey7l85BLjciV0hf4fRsH1g  4.612842  -H6cTbVxeIRYR-atxdielQ           0\n",
       " 1026  n_RGE_Wn5L7phnlkQ919kQ  4.612321  -H6cTbVxeIRYR-atxdielQ           0\n",
       " \n",
       " [1027 rows x 4 columns],\n",
       "                  business_id     score                 user_id  real_label\n",
       " 0     -fs09akgCKv5rTTy7iUHUg  4.813375  -HUskiwxMs8OeThnmEfclg           0\n",
       " 1     o_N7HiU3f6cVvrJAFrE43A  4.789648  -HUskiwxMs8OeThnmEfclg           0\n",
       " 2     KTGEa8V9ec0QBYM_uk1YLQ  4.770581  -HUskiwxMs8OeThnmEfclg           0\n",
       " 3     zLm2PaYrpHkcr63ekwvtBQ  4.754829  -HUskiwxMs8OeThnmEfclg           0\n",
       " 4     8ZCpyx-U-dEJyNZBWiC3mA  4.754694  -HUskiwxMs8OeThnmEfclg           0\n",
       " ...                      ...       ...                     ...         ...\n",
       " 1074  X46tKBT7vTEGeaYj6GkZ-g  4.162753  -HUskiwxMs8OeThnmEfclg           0\n",
       " 1075  yDaCFtvO9ZwK5OoKg2qXQA  4.162747  -HUskiwxMs8OeThnmEfclg           0\n",
       " 1076  K4tlO5WBspgViX_jox074Q  4.162447  -HUskiwxMs8OeThnmEfclg           0\n",
       " 1077  Rw8Zf_snPdZO_B3XFOsJ6w  4.162371  -HUskiwxMs8OeThnmEfclg           0\n",
       " 1078  y7XfZ8xgOggcqoiyRHfwDg  4.161935  -HUskiwxMs8OeThnmEfclg           0\n",
       " \n",
       " [1079 rows x 4 columns],\n",
       "                  business_id     score                 user_id  real_label\n",
       " 0     -fs09akgCKv5rTTy7iUHUg  4.761587  -HYCAMf2ml717YD5Y9PKIg           0\n",
       " 1     TE2IEDNV0RcI6s1wTOP4fg  4.757668  -HYCAMf2ml717YD5Y9PKIg           0\n",
       " 2     TE2IEDNV0RcI6s1wTOP4fg  4.757668  -HYCAMf2ml717YD5Y9PKIg           0\n",
       " 3     o_N7HiU3f6cVvrJAFrE43A  4.737503  -HYCAMf2ml717YD5Y9PKIg           0\n",
       " 4     u3zqvp4BYUjzJD7tzx3Jbg  4.726466  -HYCAMf2ml717YD5Y9PKIg           0\n",
       " ...                      ...       ...                     ...         ...\n",
       " 1151  curw--Uj4rIWSRq69J_j8Q  4.205706  -HYCAMf2ml717YD5Y9PKIg           0\n",
       " 1152  p7UGlPkE3Gagm9Mq7aHfYg  4.205653  -HYCAMf2ml717YD5Y9PKIg           0\n",
       " 1153  -8oIIpYJAXWg-G3glapMmQ  4.205474  -HYCAMf2ml717YD5Y9PKIg           0\n",
       " 1154  -K0zTgGyxo-AeSkcV0IVaA  4.205261  -HYCAMf2ml717YD5Y9PKIg           0\n",
       " 1155  OuLT0Em6xoWe08SQSdrbKw  4.205191  -HYCAMf2ml717YD5Y9PKIg           0\n",
       " \n",
       " [1156 rows x 4 columns],\n",
       "                  business_id     score                 user_id  real_label\n",
       " 0     -fs09akgCKv5rTTy7iUHUg  4.750375  -H_E1UWNXaj3y8LshmsVag           0\n",
       " 1     KTGEa8V9ec0QBYM_uk1YLQ  4.739810  -H_E1UWNXaj3y8LshmsVag           0\n",
       " 2     8ZCpyx-U-dEJyNZBWiC3mA  4.684944  -H_E1UWNXaj3y8LshmsVag           0\n",
       " 3     5tK4y67IUn3eDd3S1bka9Q  4.674731  -H_E1UWNXaj3y8LshmsVag           0\n",
       " 4     OOB-Rd8HtW7Mfj154dFUWw  4.635853  -H_E1UWNXaj3y8LshmsVag           0\n",
       " ...                      ...       ...                     ...         ...\n",
       " 1071  z625yzGNJy_BoP2A9UnnHw  4.193709  -H_E1UWNXaj3y8LshmsVag           0\n",
       " 1072  gmYMOcIFsfUnlP_5HMaHpw  4.193616  -H_E1UWNXaj3y8LshmsVag           0\n",
       " 1073  Bhi6oPbGK5zoyj9qoRxzfA  4.193479  -H_E1UWNXaj3y8LshmsVag           0\n",
       " 1074  IWqQjclp1fxK3vuqs5nNzA  4.193436  -H_E1UWNXaj3y8LshmsVag           0\n",
       " 1075  xEVbLqpW7-YVHHDNUl2mQg  4.193389  -H_E1UWNXaj3y8LshmsVag           0\n",
       " \n",
       " [1076 rows x 4 columns],\n",
       "                  business_id     score                 user_id  real_label\n",
       " 0     -fs09akgCKv5rTTy7iUHUg  4.264161  -Hapxd7xjdCmCzz6NxBK3Q           0\n",
       " 1     KTGEa8V9ec0QBYM_uk1YLQ  4.238049  -Hapxd7xjdCmCzz6NxBK3Q           0\n",
       " 2     zLm2PaYrpHkcr63ekwvtBQ  4.220787  -Hapxd7xjdCmCzz6NxBK3Q           0\n",
       " 3     8ZCpyx-U-dEJyNZBWiC3mA  4.208801  -Hapxd7xjdCmCzz6NxBK3Q           0\n",
       " 4     u3zqvp4BYUjzJD7tzx3Jbg  4.190000  -Hapxd7xjdCmCzz6NxBK3Q           0\n",
       " ...                      ...       ...                     ...         ...\n",
       " 1047  Wp00OyUSqwCjmbS94Epugg  3.756284  -Hapxd7xjdCmCzz6NxBK3Q           0\n",
       " 1048  Wp00OyUSqwCjmbS94Epugg  3.756284  -Hapxd7xjdCmCzz6NxBK3Q           0\n",
       " 1049  9xIGw5YaYLlqZ4dfnQ1kKQ  3.756282  -Hapxd7xjdCmCzz6NxBK3Q           0\n",
       " 1050  a3mefB8M9b6gZEiSqHcEHw  3.755549  -Hapxd7xjdCmCzz6NxBK3Q           0\n",
       " 1051  a3mefB8M9b6gZEiSqHcEHw  3.755549  -Hapxd7xjdCmCzz6NxBK3Q           0\n",
       " \n",
       " [1052 rows x 4 columns],\n",
       "                  business_id     score                 user_id  real_label\n",
       " 0     -fs09akgCKv5rTTy7iUHUg  4.668184  -Her419l4DCjSFey7UjmtA           0\n",
       " 1     TE2IEDNV0RcI6s1wTOP4fg  4.624850  -Her419l4DCjSFey7UjmtA           0\n",
       " 2     KTGEa8V9ec0QBYM_uk1YLQ  4.617365  -Her419l4DCjSFey7UjmtA           0\n",
       " 3     o_N7HiU3f6cVvrJAFrE43A  4.609801  -Her419l4DCjSFey7UjmtA           0\n",
       " 4     o_N7HiU3f6cVvrJAFrE43A  4.609801  -Her419l4DCjSFey7UjmtA           0\n",
       " ...                      ...       ...                     ...         ...\n",
       " 1121  qJAWrsvNv74KYAoo6TAj0A  3.816401  -Her419l4DCjSFey7UjmtA           0\n",
       " 1122  Pc3urwUFlzLyDP1qvsHQuA  3.815744  -Her419l4DCjSFey7UjmtA           0\n",
       " 1123  7pTSUbvuKYowZfN0bGSy8w  3.815509  -Her419l4DCjSFey7UjmtA           0\n",
       " 1124  QoXgycD2U0Eyo7rbdnb5JQ  3.815355  -Her419l4DCjSFey7UjmtA           0\n",
       " 1125  USekrAG0-4tJUs9V2gBBOQ  3.815344  -Her419l4DCjSFey7UjmtA           0\n",
       " \n",
       " [1126 rows x 4 columns],\n",
       "                  business_id     score                 user_id  real_label\n",
       " 0     5tK4y67IUn3eDd3S1bka9Q  4.563735  -Hq64CCrrCzhs4D88l-Eog           0\n",
       " 1     XJvOamdhTQI65jmzTfreDQ  4.525360  -Hq64CCrrCzhs4D88l-Eog           0\n",
       " 2     9pwzHmhCpgJwfaIP9jWoCg  4.512402  -Hq64CCrrCzhs4D88l-Eog           0\n",
       " 3     _ZMf5Am_e0AE7aveELJd9w  4.510334  -Hq64CCrrCzhs4D88l-Eog           0\n",
       " 4     8j5bQ0nDwoGiFaTQDNCQTg  4.504868  -Hq64CCrrCzhs4D88l-Eog           0\n",
       " ...                      ...       ...                     ...         ...\n",
       " 1033  E48H5Zpw3ndlu7KLHGRyHg  3.800537  -Hq64CCrrCzhs4D88l-Eog           0\n",
       " 1034  E48H5Zpw3ndlu7KLHGRyHg  3.800537  -Hq64CCrrCzhs4D88l-Eog           0\n",
       " 1035  UqzXfs_GSZ7ya_7cXcrJOQ  3.800174  -Hq64CCrrCzhs4D88l-Eog           0\n",
       " 1036  72Y65Cg8MO1t9cWCHpwEQQ  3.799954  -Hq64CCrrCzhs4D88l-Eog           0\n",
       " 1037  iyDfj7lGKSCAIyWfMOGhmw  3.799912  -Hq64CCrrCzhs4D88l-Eog           0\n",
       " \n",
       " [1038 rows x 4 columns],\n",
       "                  business_id     score                 user_id  real_label\n",
       " 0     RFo876v_A63N2JfOTq1p-g  4.911099  -HtYnx7Tk-ZKUE2Gma5wMQ           0\n",
       " 1     -fs09akgCKv5rTTy7iUHUg  4.910107  -HtYnx7Tk-ZKUE2Gma5wMQ           0\n",
       " 2     TE2IEDNV0RcI6s1wTOP4fg  4.902119  -HtYnx7Tk-ZKUE2Gma5wMQ           0\n",
       " 3     TE2IEDNV0RcI6s1wTOP4fg  4.902119  -HtYnx7Tk-ZKUE2Gma5wMQ           0\n",
       " 4     KTGEa8V9ec0QBYM_uk1YLQ  4.896772  -HtYnx7Tk-ZKUE2Gma5wMQ           0\n",
       " ...                      ...       ...                     ...         ...\n",
       " 1088  dfoptDebFhEZCZwFxuZ6_w  4.415209  -HtYnx7Tk-ZKUE2Gma5wMQ           0\n",
       " 1089  G15tUaO6G0nS41zY8g8Yow  4.414836  -HtYnx7Tk-ZKUE2Gma5wMQ           0\n",
       " 1090  IvAa7PvfOYl0xRML5W3ebg  4.414631  -HtYnx7Tk-ZKUE2Gma5wMQ           0\n",
       " 1091  zWQWjJ0270yqp_KignAmkg  4.414359  -HtYnx7Tk-ZKUE2Gma5wMQ           0\n",
       " 1092  deVwhY98J_r69DVedK2x8A  4.414253  -HtYnx7Tk-ZKUE2Gma5wMQ           0\n",
       " \n",
       " [1093 rows x 4 columns],\n",
       "                 business_id     score                 user_id  real_label\n",
       " 0    -fs09akgCKv5rTTy7iUHUg  5.021791  -IHHZ9UtUV6j0H48JFje7w           0\n",
       " 1    KTGEa8V9ec0QBYM_uk1YLQ  5.008460  -IHHZ9UtUV6j0H48JFje7w           0\n",
       " 2    o_N7HiU3f6cVvrJAFrE43A  4.994260  -IHHZ9UtUV6j0H48JFje7w           0\n",
       " 3    zLm2PaYrpHkcr63ekwvtBQ  4.987544  -IHHZ9UtUV6j0H48JFje7w           0\n",
       " 4    8ZCpyx-U-dEJyNZBWiC3mA  4.970025  -IHHZ9UtUV6j0H48JFje7w           0\n",
       " ..                      ...       ...                     ...         ...\n",
       " 995  n21fc5CLn8_8udVG6SSz9g  4.526051  -IHHZ9UtUV6j0H48JFje7w           0\n",
       " 996  VTG4ywxqcw-R_bvRGTYKaA  4.526021  -IHHZ9UtUV6j0H48JFje7w           0\n",
       " 997  Ds8E5RPjm2UHUemXJVTs3w  4.525946  -IHHZ9UtUV6j0H48JFje7w           0\n",
       " 998  xLuEfxyJ8BnDtI9pG-mGAw  4.525839  -IHHZ9UtUV6j0H48JFje7w           0\n",
       " 999  HO1KJ6Jwk3sU_UTIJGOLDA  4.525736  -IHHZ9UtUV6j0H48JFje7w           0\n",
       " \n",
       " [1000 rows x 4 columns],\n",
       "                  business_id     score                 user_id  real_label\n",
       " 0     -fs09akgCKv5rTTy7iUHUg  4.285475  -IJ_zJmNtpEj9uGtIDu7lg           0\n",
       " 1     RFo876v_A63N2JfOTq1p-g  4.275577  -IJ_zJmNtpEj9uGtIDu7lg           0\n",
       " 2     KTGEa8V9ec0QBYM_uk1YLQ  4.251817  -IJ_zJmNtpEj9uGtIDu7lg           0\n",
       " 3     o_N7HiU3f6cVvrJAFrE43A  4.238139  -IJ_zJmNtpEj9uGtIDu7lg           0\n",
       " 4     Y93S8ZVnOhXQTkWZQEU5yg  4.235921  -IJ_zJmNtpEj9uGtIDu7lg           0\n",
       " ...                      ...       ...                     ...         ...\n",
       " 1078  9xIGw5YaYLlqZ4dfnQ1kKQ  3.768567  -IJ_zJmNtpEj9uGtIDu7lg           0\n",
       " 1079  eFkCmMnax5xTtgBrbN5mcQ  3.768489  -IJ_zJmNtpEj9uGtIDu7lg           0\n",
       " 1080  ELY0HI8GDEx0jkmREVna0A  3.768437  -IJ_zJmNtpEj9uGtIDu7lg           0\n",
       " 1081  ELY0HI8GDEx0jkmREVna0A  3.768437  -IJ_zJmNtpEj9uGtIDu7lg           0\n",
       " 1082  nGElMRWr0BcQKFPa4ZBMYA  3.768300  -IJ_zJmNtpEj9uGtIDu7lg           0\n",
       " \n",
       " [1083 rows x 4 columns],\n",
       "                  business_id     score                 user_id  real_label\n",
       " 0     atZ_olNKXOG4rEr6mccN8g  4.877252  -IM7V8iBpXrgGS556kxjgw           0\n",
       " 1     Bk6uzC83wbmCHm2i5Uz8OA  4.877140  -IM7V8iBpXrgGS556kxjgw           0\n",
       " 2     _ZMf5Am_e0AE7aveELJd9w  4.874018  -IM7V8iBpXrgGS556kxjgw           0\n",
       " 3     9pwzHmhCpgJwfaIP9jWoCg  4.870164  -IM7V8iBpXrgGS556kxjgw           0\n",
       " 4     X3NS8516o015Z1zcOwrqmQ  4.849921  -IM7V8iBpXrgGS556kxjgw           0\n",
       " ...                      ...       ...                     ...         ...\n",
       " 1097  xfY46Z-nBtX6sZQLxrdxhQ  4.355888  -IM7V8iBpXrgGS556kxjgw           0\n",
       " 1098  xUZjaVR6lTcVN2H93_Xgxw  4.355770  -IM7V8iBpXrgGS556kxjgw           0\n",
       " 1099  Fok0BLJP0OMxbbl3l6QmZA  4.355606  -IM7V8iBpXrgGS556kxjgw           0\n",
       " 1100  IqitQsWPnTVTCJIRqh80lA  4.355392  -IM7V8iBpXrgGS556kxjgw           0\n",
       " 1101  IqitQsWPnTVTCJIRqh80lA  4.355392  -IM7V8iBpXrgGS556kxjgw           0\n",
       " \n",
       " [1102 rows x 4 columns],\n",
       "                 business_id     score                 user_id  real_label\n",
       " 0    -fs09akgCKv5rTTy7iUHUg  4.863858  -IbvvYKwa5fvl67RXimaBg           0\n",
       " 1    KTGEa8V9ec0QBYM_uk1YLQ  4.850523  -IbvvYKwa5fvl67RXimaBg           0\n",
       " 2    8ZCpyx-U-dEJyNZBWiC3mA  4.812095  -IbvvYKwa5fvl67RXimaBg           0\n",
       " 3    5tK4y67IUn3eDd3S1bka9Q  4.794095  -IbvvYKwa5fvl67RXimaBg           0\n",
       " 4    atZ_olNKXOG4rEr6mccN8g  4.750316  -IbvvYKwa5fvl67RXimaBg           0\n",
       " ..                      ...       ...                     ...         ...\n",
       " 995  -K0zTgGyxo-AeSkcV0IVaA  4.326322  -IbvvYKwa5fvl67RXimaBg           0\n",
       " 996  7oqmT9JUeHToou2vzNPYFA  4.326272  -IbvvYKwa5fvl67RXimaBg           0\n",
       " 997  5fVv0DJ8Jh16DJafw13erw  4.326256  -IbvvYKwa5fvl67RXimaBg           0\n",
       " 998  y4zd4gFTMW30xRCyGHWuDg  4.326214  -IbvvYKwa5fvl67RXimaBg           0\n",
       " 999  3_rsHAhzuqG0M3-EfMb-7A  4.326101  -IbvvYKwa5fvl67RXimaBg           0\n",
       " \n",
       " [1000 rows x 4 columns],\n",
       "                  business_id     score                 user_id  real_label\n",
       " 0     RFo876v_A63N2JfOTq1p-g  5.038307  -Ih6_Mej8VbJh0qZDa4r6g           0\n",
       " 1     -fs09akgCKv5rTTy7iUHUg  5.037243  -Ih6_Mej8VbJh0qZDa4r6g           0\n",
       " 2     KTGEa8V9ec0QBYM_uk1YLQ  5.023980  -Ih6_Mej8VbJh0qZDa4r6g           0\n",
       " 3     o_N7HiU3f6cVvrJAFrE43A  5.009731  -Ih6_Mej8VbJh0qZDa4r6g           0\n",
       " 4     zLm2PaYrpHkcr63ekwvtBQ  5.001689  -Ih6_Mej8VbJh0qZDa4r6g           0\n",
       " ...                      ...       ...                     ...         ...\n",
       " 1026  SADPX8WX34EQDj_jqtacMw  4.548722  -Ih6_Mej8VbJh0qZDa4r6g           0\n",
       " 1027  xpMdiTn2t7Lw46yf_gvTqQ  4.548608  -Ih6_Mej8VbJh0qZDa4r6g           0\n",
       " 1028  wXMUeRbZRr9B6sBPRhvf4w  4.548391  -Ih6_Mej8VbJh0qZDa4r6g           0\n",
       " 1029  qEcgemvSCGUFRKPS3lt3pw  4.548342  -Ih6_Mej8VbJh0qZDa4r6g           0\n",
       " 1030  _oxapGiVq1_LdFKcHBehLg  4.548321  -Ih6_Mej8VbJh0qZDa4r6g           0\n",
       " \n",
       " [1031 rows x 4 columns],\n",
       "                  business_id     score                 user_id  real_label\n",
       " 0     -fs09akgCKv5rTTy7iUHUg  4.908432  -J9mS1WHKPIZ_F45ovjKJQ           0\n",
       " 1     TE2IEDNV0RcI6s1wTOP4fg  4.900445  -J9mS1WHKPIZ_F45ovjKJQ           0\n",
       " 2     KTGEa8V9ec0QBYM_uk1YLQ  4.895097  -J9mS1WHKPIZ_F45ovjKJQ           0\n",
       " 3     5tK4y67IUn3eDd3S1bka9Q  4.838669  -J9mS1WHKPIZ_F45ovjKJQ           0\n",
       " 4     atZ_olNKXOG4rEr6mccN8g  4.791873  -J9mS1WHKPIZ_F45ovjKJQ           0\n",
       " ...                      ...       ...                     ...         ...\n",
       " 1071  OeE7CgEfECz0onTTF07xvw  4.255286  -J9mS1WHKPIZ_F45ovjKJQ           0\n",
       " 1072  BsR5RIMJB5P9f0-SDMZHYg  4.255144  -J9mS1WHKPIZ_F45ovjKJQ           0\n",
       " 1073  GcvH3oNHzitdRnQgGWPjPw  4.255072  -J9mS1WHKPIZ_F45ovjKJQ           0\n",
       " 1074  fGYnHzFr1z2kv7bPRW6VMA  4.254969  -J9mS1WHKPIZ_F45ovjKJQ           0\n",
       " 1075  VNT1mlWoKlo3izi-7i6TsA  4.254858  -J9mS1WHKPIZ_F45ovjKJQ           0\n",
       " \n",
       " [1076 rows x 4 columns],\n",
       "                  business_id     score                 user_id  real_label\n",
       " 0     -fs09akgCKv5rTTy7iUHUg  4.109232  -JAW8OycPJP2iZ0zULuWiA           0\n",
       " 1     KTGEa8V9ec0QBYM_uk1YLQ  4.089907  -JAW8OycPJP2iZ0zULuWiA           0\n",
       " 2     TE2IEDNV0RcI6s1wTOP4fg  4.085759  -JAW8OycPJP2iZ0zULuWiA           0\n",
       " 3     zLm2PaYrpHkcr63ekwvtBQ  4.071896  -JAW8OycPJP2iZ0zULuWiA           0\n",
       " 4     5tK4y67IUn3eDd3S1bka9Q  4.042070  -JAW8OycPJP2iZ0zULuWiA           0\n",
       " ...                      ...       ...                     ...         ...\n",
       " 1066  -blcOL0q1Sen46pqhs1HCw  3.613312  -JAW8OycPJP2iZ0zULuWiA           0\n",
       " 1067  KW7hDw16MIvR_gyNKzTvNQ  3.612731  -JAW8OycPJP2iZ0zULuWiA           0\n",
       " 1068  yeHLiKNp0hyR-ig4M6us-w  3.611730  -JAW8OycPJP2iZ0zULuWiA           0\n",
       " 1069  U4UTMWnXNWyeVFloMT6dLA  3.610688  -JAW8OycPJP2iZ0zULuWiA           0\n",
       " 1070  7u-7PVcjECvTeIumVTmS4g  3.609969  -JAW8OycPJP2iZ0zULuWiA           0\n",
       " \n",
       " [1071 rows x 4 columns],\n",
       "                  business_id     score                 user_id  real_label\n",
       " 0     -fs09akgCKv5rTTy7iUHUg  4.820012  -JBA4yBlLM0pPpjqRRpNUA           0\n",
       " 1     o_N7HiU3f6cVvrJAFrE43A  4.792477  -JBA4yBlLM0pPpjqRRpNUA           0\n",
       " 2     KTGEa8V9ec0QBYM_uk1YLQ  4.784892  -JBA4yBlLM0pPpjqRRpNUA           0\n",
       " 3     5tK4y67IUn3eDd3S1bka9Q  4.750804  -JBA4yBlLM0pPpjqRRpNUA           0\n",
       " 4     u3zqvp4BYUjzJD7tzx3Jbg  4.742330  -JBA4yBlLM0pPpjqRRpNUA           0\n",
       " ...                      ...       ...                     ...         ...\n",
       " 1028  7zEVu7s5dHGscMUfRu5GaA  4.216778  -JBA4yBlLM0pPpjqRRpNUA           0\n",
       " 1029  smKLreTouMRNVoa1ocP5TA  4.215744  -JBA4yBlLM0pPpjqRRpNUA           0\n",
       " 1030  __4gkf_0UJW78rkRzFm6Gw  4.215423  -JBA4yBlLM0pPpjqRRpNUA           0\n",
       " 1031  bEn-Im7R7Ic4XDORq6_oSQ  4.214859  -JBA4yBlLM0pPpjqRRpNUA           0\n",
       " 1032  bEn-Im7R7Ic4XDORq6_oSQ  4.214859  -JBA4yBlLM0pPpjqRRpNUA           0\n",
       " \n",
       " [1033 rows x 4 columns],\n",
       "                  business_id     score                 user_id  real_label\n",
       " 0     -fs09akgCKv5rTTy7iUHUg  4.930729  -JN2qTghHtB1dW4YDVlBRQ           0\n",
       " 1     KTGEa8V9ec0QBYM_uk1YLQ  4.917394  -JN2qTghHtB1dW4YDVlBRQ           0\n",
       " 2     zLm2PaYrpHkcr63ekwvtBQ  4.895103  -JN2qTghHtB1dW4YDVlBRQ           0\n",
       " 3     8ZCpyx-U-dEJyNZBWiC3mA  4.878963  -JN2qTghHtB1dW4YDVlBRQ           0\n",
       " 4     5tK4y67IUn3eDd3S1bka9Q  4.860966  -JN2qTghHtB1dW4YDVlBRQ           0\n",
       " ...                      ...       ...                     ...         ...\n",
       " 1028  yGFkdrYdndizAPymvyq2WQ  4.448647  -JN2qTghHtB1dW4YDVlBRQ           0\n",
       " 1029  6ciAUVTzxDall6WXLoot0A  4.448526  -JN2qTghHtB1dW4YDVlBRQ           0\n",
       " 1030  LDDtUQkXaHBv0jySmViaPg  4.448382  -JN2qTghHtB1dW4YDVlBRQ           0\n",
       " 1031  zdvUHIeAQrDcTWNT7GWsmA  4.448189  -JN2qTghHtB1dW4YDVlBRQ           0\n",
       " 1032  h8h1QvEQruTkBI50NlWsyA  4.448164  -JN2qTghHtB1dW4YDVlBRQ           0\n",
       " \n",
       " [1033 rows x 4 columns],\n",
       "                  business_id     score                 user_id  real_label\n",
       " 0     -fs09akgCKv5rTTy7iUHUg  4.750682  -JvxVpor__IMGYvft5fpWA           0\n",
       " 1     KTGEa8V9ec0QBYM_uk1YLQ  4.740188  -JvxVpor__IMGYvft5fpWA           0\n",
       " 2     5tK4y67IUn3eDd3S1bka9Q  4.677498  -JvxVpor__IMGYvft5fpWA           0\n",
       " 3     XJvOamdhTQI65jmzTfreDQ  4.633504  -JvxVpor__IMGYvft5fpWA           0\n",
       " 4     NnlQhXtuVOVjUFYB1Hqp8Q  4.633447  -JvxVpor__IMGYvft5fpWA           0\n",
       " ...                      ...       ...                     ...         ...\n",
       " 1006  WStVCYmGWYtn1AZ_SvEDtQ  4.136356  -JvxVpor__IMGYvft5fpWA           0\n",
       " 1007  VV2mP654u8QBnGR96ULKzQ  4.136150  -JvxVpor__IMGYvft5fpWA           0\n",
       " 1008  4Cz38KFH0HrX-TCYDaQQwg  4.135722  -JvxVpor__IMGYvft5fpWA           0\n",
       " 1009  BbRt7JmklIlulotz39Xmfg  4.135406  -JvxVpor__IMGYvft5fpWA           0\n",
       " 1010  SJ27iHWa1HwlW_1YRWXZcg  4.135399  -JvxVpor__IMGYvft5fpWA           0\n",
       " \n",
       " [1011 rows x 4 columns],\n",
       "                  business_id     score                 user_id  real_label\n",
       " 0     -fs09akgCKv5rTTy7iUHUg  4.902870  -KahRmNBsG1WHGdod_uj8g           0\n",
       " 1     KTGEa8V9ec0QBYM_uk1YLQ  4.889556  -KahRmNBsG1WHGdod_uj8g           0\n",
       " 2     8ZCpyx-U-dEJyNZBWiC3mA  4.851105  -KahRmNBsG1WHGdod_uj8g           0\n",
       " 3     5tK4y67IUn3eDd3S1bka9Q  4.833128  -KahRmNBsG1WHGdod_uj8g           0\n",
       " 4     atZ_olNKXOG4rEr6mccN8g  4.793503  -KahRmNBsG1WHGdod_uj8g           0\n",
       " ...                      ...       ...                     ...         ...\n",
       " 1089  jXtaxB2b64nA4uy13i024A  4.409107  -KahRmNBsG1WHGdod_uj8g           0\n",
       " 1090  55D--p5wnvr0gYyRI_y_mw  4.409082  -KahRmNBsG1WHGdod_uj8g           0\n",
       " 1091  vF-uptiQ34pVLHJKzPHUlA  4.409072  -KahRmNBsG1WHGdod_uj8g           0\n",
       " 1092  ZnAr0AxYpEYK1ZHNc4fk7g  4.408961  -KahRmNBsG1WHGdod_uj8g           0\n",
       " 1093  CCeUPUSWxYqUB_qtkGi2Lg  4.408821  -KahRmNBsG1WHGdod_uj8g           0\n",
       " \n",
       " [1094 rows x 4 columns],\n",
       "                  business_id     score                 user_id  real_label\n",
       " 0     -fs09akgCKv5rTTy7iUHUg  4.575579  -KduD3wwydWDq2GrODh2tw           0\n",
       " 1     o_N7HiU3f6cVvrJAFrE43A  4.535324  -KduD3wwydWDq2GrODh2tw           0\n",
       " 2     KTGEa8V9ec0QBYM_uk1YLQ  4.530471  -KduD3wwydWDq2GrODh2tw           0\n",
       " 3     Y93S8ZVnOhXQTkWZQEU5yg  4.509469  -KduD3wwydWDq2GrODh2tw           0\n",
       " 4     zLm2PaYrpHkcr63ekwvtBQ  4.506559  -KduD3wwydWDq2GrODh2tw           0\n",
       " ...                      ...       ...                     ...         ...\n",
       " 1090  9V0LMtO1riRw9-pUuG4NFg  3.892123  -KduD3wwydWDq2GrODh2tw           0\n",
       " 1091  9V0LMtO1riRw9-pUuG4NFg  3.892123  -KduD3wwydWDq2GrODh2tw           0\n",
       " 1092  hHCGmb01EGFstumCsd4-VA  3.892069  -KduD3wwydWDq2GrODh2tw           0\n",
       " 1093  wXnwZJaARSfNjSMhWUZk_A  3.891847  -KduD3wwydWDq2GrODh2tw           0\n",
       " 1094  D_lE51Tqc41pzcTedWTc5A  3.891813  -KduD3wwydWDq2GrODh2tw           0\n",
       " \n",
       " [1095 rows x 4 columns],\n",
       "                  business_id     score                 user_id  real_label\n",
       " 0     -fs09akgCKv5rTTy7iUHUg  4.896780  -KpEgEen1tj-jdjIS7uVOw           0\n",
       " 1     KTGEa8V9ec0QBYM_uk1YLQ  4.883446  -KpEgEen1tj-jdjIS7uVOw           0\n",
       " 2     8ZCpyx-U-dEJyNZBWiC3mA  4.845038  -KpEgEen1tj-jdjIS7uVOw           0\n",
       " 3     5tK4y67IUn3eDd3S1bka9Q  4.827018  -KpEgEen1tj-jdjIS7uVOw           0\n",
       " 4     atZ_olNKXOG4rEr6mccN8g  4.778757  -KpEgEen1tj-jdjIS7uVOw           0\n",
       " ...                      ...       ...                     ...         ...\n",
       " 1037  HRZLjyyPlrGFRIWfcu9v6Q  4.354720  -KpEgEen1tj-jdjIS7uVOw           0\n",
       " 1038  9lyYoyMZ7wqqMSaP05usSQ  4.354495  -KpEgEen1tj-jdjIS7uVOw           0\n",
       " 1039  D48I-imYNjFo9bmsiZc-YQ  4.354138  -KpEgEen1tj-jdjIS7uVOw           0\n",
       " 1040  S1Oatik7asDJdXbcVL3vRg  4.353635  -KpEgEen1tj-jdjIS7uVOw           0\n",
       " 1041  SGviib24zUAlP-DgLi67Bg  4.353288  -KpEgEen1tj-jdjIS7uVOw           0\n",
       " \n",
       " [1042 rows x 4 columns],\n",
       "                  business_id     score                 user_id  real_label\n",
       " 0     -fs09akgCKv5rTTy7iUHUg  4.980276  -LBWx5-3tutEdZFoIuoBMg           0\n",
       " 1     KTGEa8V9ec0QBYM_uk1YLQ  4.966980  -LBWx5-3tutEdZFoIuoBMg           0\n",
       " 2     zLm2PaYrpHkcr63ekwvtBQ  4.944689  -LBWx5-3tutEdZFoIuoBMg           0\n",
       " 3     8ZCpyx-U-dEJyNZBWiC3mA  4.928510  -LBWx5-3tutEdZFoIuoBMg           0\n",
       " 4     5tK4y67IUn3eDd3S1bka9Q  4.910552  -LBWx5-3tutEdZFoIuoBMg           0\n",
       " ...                      ...       ...                     ...         ...\n",
       " 1057  fNssGWMjae-SUzyyGblspQ  4.488536  -LBWx5-3tutEdZFoIuoBMg           0\n",
       " 1058  tyDEseGSr6NIsk7S63uMqA  4.488438  -LBWx5-3tutEdZFoIuoBMg           0\n",
       " 1059  da_jniSpqeo9Z6FLCCh4jQ  4.488433  -LBWx5-3tutEdZFoIuoBMg           0\n",
       " 1060  23qO8FxRwjfmkDqCK-HfLw  4.488278  -LBWx5-3tutEdZFoIuoBMg           0\n",
       " 1061  1Mc_Reqnxhs0eHQFAhXVUQ  4.488084  -LBWx5-3tutEdZFoIuoBMg           0\n",
       " \n",
       " [1062 rows x 4 columns],\n",
       "                  business_id     score                 user_id  real_label\n",
       " 0     RFo876v_A63N2JfOTq1p-g  4.837661  -LCl9oO6Yk8iNxloqfwHIA           0\n",
       " 1     -fs09akgCKv5rTTy7iUHUg  4.836321  -LCl9oO6Yk8iNxloqfwHIA           0\n",
       " 2     KTGEa8V9ec0QBYM_uk1YLQ  4.822986  -LCl9oO6Yk8iNxloqfwHIA           0\n",
       " 3     o_N7HiU3f6cVvrJAFrE43A  4.808786  -LCl9oO6Yk8iNxloqfwHIA           0\n",
       " 4     zLm2PaYrpHkcr63ekwvtBQ  4.800695  -LCl9oO6Yk8iNxloqfwHIA           0\n",
       " ...                      ...       ...                     ...         ...\n",
       " 1002  HUKrpwmcMlwPbDF5cz0VkQ  4.355098  -LCl9oO6Yk8iNxloqfwHIA           0\n",
       " 1003  M4ME5ir-QwnRdM4fhjZtTA  4.354833  -LCl9oO6Yk8iNxloqfwHIA           0\n",
       " 1004  rcJnKmhgSPb8BmK3d6AZYQ  4.354633  -LCl9oO6Yk8iNxloqfwHIA           0\n",
       " 1005  vru-W9v00HG2aPiv04WG7A  4.354632  -LCl9oO6Yk8iNxloqfwHIA           0\n",
       " 1006  eMdE9Jofj5_8A_53ELnP8A  4.354214  -LCl9oO6Yk8iNxloqfwHIA           0\n",
       " \n",
       " [1007 rows x 4 columns],\n",
       "                  business_id     score                 user_id  real_label\n",
       " 0     -fs09akgCKv5rTTy7iUHUg  4.350864  -LaL8s1Xg0jg2_lhrYlSUA           0\n",
       " 1     TE2IEDNV0RcI6s1wTOP4fg  4.330985  -LaL8s1Xg0jg2_lhrYlSUA           0\n",
       " 2     TE2IEDNV0RcI6s1wTOP4fg  4.330985  -LaL8s1Xg0jg2_lhrYlSUA           0\n",
       " 3     KTGEa8V9ec0QBYM_uk1YLQ  4.321368  -LaL8s1Xg0jg2_lhrYlSUA           0\n",
       " 4     zLm2PaYrpHkcr63ekwvtBQ  4.309299  -LaL8s1Xg0jg2_lhrYlSUA           0\n",
       " ...                      ...       ...                     ...         ...\n",
       " 1064  of-GVqY0G_UDHXT9Xg_ADQ  3.786987  -LaL8s1Xg0jg2_lhrYlSUA           0\n",
       " 1065  LejMqzvUAz_pnf90OOBLkw  3.786898  -LaL8s1Xg0jg2_lhrYlSUA           0\n",
       " 1066  G8Y4V99d9coHDNZElKPBGg  3.786711  -LaL8s1Xg0jg2_lhrYlSUA           0\n",
       " 1067  7evVLlKovx8DV4CfqJgXww  3.786555  -LaL8s1Xg0jg2_lhrYlSUA           0\n",
       " 1068  yGFkdrYdndizAPymvyq2WQ  3.786478  -LaL8s1Xg0jg2_lhrYlSUA           0\n",
       " \n",
       " [1069 rows x 4 columns],\n",
       "                  business_id     score                 user_id  real_label\n",
       " 0     -fs09akgCKv5rTTy7iUHUg  4.824937  -Lpme8lSnX8jrUy4i7Ja7g           0\n",
       " 1     o_N7HiU3f6cVvrJAFrE43A  4.795909  -Lpme8lSnX8jrUy4i7Ja7g           0\n",
       " 2     RFo876v_A63N2JfOTq1p-g  4.795349  -Lpme8lSnX8jrUy4i7Ja7g           0\n",
       " 3     KTGEa8V9ec0QBYM_uk1YLQ  4.792903  -Lpme8lSnX8jrUy4i7Ja7g           0\n",
       " 4     zLm2PaYrpHkcr63ekwvtBQ  4.776198  -Lpme8lSnX8jrUy4i7Ja7g           0\n",
       " ...                      ...       ...                     ...         ...\n",
       " 1059  jeJbUi0s_NpObUfKOQZWqw  4.136111  -Lpme8lSnX8jrUy4i7Ja7g           0\n",
       " 1060  TdIkFrKgovD1pzJQjr3kgQ  4.135968  -Lpme8lSnX8jrUy4i7Ja7g           0\n",
       " 1061  OwAX9v-cn1kXptUmt2oIaw  4.135558  -Lpme8lSnX8jrUy4i7Ja7g           0\n",
       " 1062  Hs-jwE791t3cX9ErgTcEFg  4.135274  -Lpme8lSnX8jrUy4i7Ja7g           0\n",
       " 1063  UuR_swydJgdnEHeoXqB_Ww  4.135090  -Lpme8lSnX8jrUy4i7Ja7g           0\n",
       " \n",
       " [1064 rows x 4 columns],\n",
       "                  business_id     score                 user_id  real_label\n",
       " 0     -fs09akgCKv5rTTy7iUHUg  4.862243  -M9cyh6nLa3C6VY_usk4vA           0\n",
       " 1     KTGEa8V9ec0QBYM_uk1YLQ  4.848975  -M9cyh6nLa3C6VY_usk4vA           0\n",
       " 2     KTGEa8V9ec0QBYM_uk1YLQ  4.848975  -M9cyh6nLa3C6VY_usk4vA           0\n",
       " 3     KTGEa8V9ec0QBYM_uk1YLQ  4.848975  -M9cyh6nLa3C6VY_usk4vA           0\n",
       " 4     o_N7HiU3f6cVvrJAFrE43A  4.834731  -M9cyh6nLa3C6VY_usk4vA           0\n",
       " ...                      ...       ...                     ...         ...\n",
       " 1096  r3PHwFedRML3IYzqH5tN-g  4.358719  -M9cyh6nLa3C6VY_usk4vA           0\n",
       " 1097  tVELQMCI0485CPvgtTlMDA  4.358627  -M9cyh6nLa3C6VY_usk4vA           0\n",
       " 1098  SBTco89BmBy1ENFjtXdNag  4.358605  -M9cyh6nLa3C6VY_usk4vA           0\n",
       " 1099  WtoNmqwlgKWOfKLDIH7SWg  4.358465  -M9cyh6nLa3C6VY_usk4vA           0\n",
       " 1100  5mDneH5wP5VN_7GVe-PudQ  4.358314  -M9cyh6nLa3C6VY_usk4vA           0\n",
       " \n",
       " [1101 rows x 4 columns],\n",
       "                  business_id     score                 user_id  real_label\n",
       " 0     -fs09akgCKv5rTTy7iUHUg  4.790749  -MEKm9prd20uo8eG0oCkGQ           0\n",
       " 1     KTGEa8V9ec0QBYM_uk1YLQ  4.776391  -MEKm9prd20uo8eG0oCkGQ           0\n",
       " 2     zLm2PaYrpHkcr63ekwvtBQ  4.754685  -MEKm9prd20uo8eG0oCkGQ           0\n",
       " 3     8ZCpyx-U-dEJyNZBWiC3mA  4.739418  -MEKm9prd20uo8eG0oCkGQ           0\n",
       " 4     5tK4y67IUn3eDd3S1bka9Q  4.720383  -MEKm9prd20uo8eG0oCkGQ           0\n",
       " ...                      ...       ...                     ...         ...\n",
       " 1012  QTeEX_XchMKgS27yX913mA  4.300950  -MEKm9prd20uo8eG0oCkGQ           0\n",
       " 1013  rKbTMJ7RMi06I2cW18toog  4.300938  -MEKm9prd20uo8eG0oCkGQ           0\n",
       " 1014  lAGS4ujbBQiSX_WL1GPkIg  4.300622  -MEKm9prd20uo8eG0oCkGQ           0\n",
       " 1015  4YoVUmkpUBNtdYa804Wzvg  4.300471  -MEKm9prd20uo8eG0oCkGQ           0\n",
       " 1016  0bvtIbpsqBJZpRKSPwIfNw  4.300354  -MEKm9prd20uo8eG0oCkGQ           0\n",
       " \n",
       " [1017 rows x 4 columns],\n",
       "                  business_id     score                 user_id  real_label\n",
       " 0     -fs09akgCKv5rTTy7iUHUg  4.426999  -MGu3-gMFLizt449fr0OTw           0\n",
       " 1     8ZCpyx-U-dEJyNZBWiC3mA  4.403852  -MGu3-gMFLizt449fr0OTw           0\n",
       " 2     o_N7HiU3f6cVvrJAFrE43A  4.392676  -MGu3-gMFLizt449fr0OTw           0\n",
       " 3     5tK4y67IUn3eDd3S1bka9Q  4.358405  -MGu3-gMFLizt449fr0OTw           0\n",
       " 4     wUnLSg_GKfEIQ5CQQ770_g  4.301235  -MGu3-gMFLizt449fr0OTw           0\n",
       " ...                      ...       ...                     ...         ...\n",
       " 1051  p7-OaCLAzVKL-dIH3Xz_rA  3.799412  -MGu3-gMFLizt449fr0OTw           0\n",
       " 1052  BeWw8cFF1maJLbgCeHACjw  3.799354  -MGu3-gMFLizt449fr0OTw           0\n",
       " 1053  2aZNVfzU-3672SjRHnPoOA  3.799309  -MGu3-gMFLizt449fr0OTw           0\n",
       " 1054  o8H4fliNg1FYqw6noUzZzA  3.799217  -MGu3-gMFLizt449fr0OTw           0\n",
       " 1055  cKexlyJCUdZ_aKhptHZnTQ  3.798962  -MGu3-gMFLizt449fr0OTw           0\n",
       " \n",
       " [1056 rows x 4 columns],\n",
       "                  business_id     score                 user_id  real_label\n",
       " 0     Bk6uzC83wbmCHm2i5Uz8OA  4.961634  -MK7GGRiG9OQeUMqkYeVqw           0\n",
       " 1     atZ_olNKXOG4rEr6mccN8g  4.945635  -MK7GGRiG9OQeUMqkYeVqw           0\n",
       " 2     X3NS8516o015Z1zcOwrqmQ  4.931719  -MK7GGRiG9OQeUMqkYeVqw           0\n",
       " 3     Jg9kkOl4sx2AXJVohbpSiw  4.906303  -MK7GGRiG9OQeUMqkYeVqw           0\n",
       " 4     rv1KUBVNQkJ5WUQb49dU0Q  4.901281  -MK7GGRiG9OQeUMqkYeVqw           0\n",
       " ...                      ...       ...                     ...         ...\n",
       " 1113  sMB01wnAi2WcY1q9clZRbQ  4.415430  -MK7GGRiG9OQeUMqkYeVqw           0\n",
       " 1114  Zq8OzV7VzEL-yd9feN_hfg  4.415427  -MK7GGRiG9OQeUMqkYeVqw           0\n",
       " 1115  A4-2jEraYJ2w2grn_uXlHw  4.414947  -MK7GGRiG9OQeUMqkYeVqw           0\n",
       " 1116  eUO4QA6nL2XdCeWuD7tkww  4.414943  -MK7GGRiG9OQeUMqkYeVqw           0\n",
       " 1117  lRCA11IAq1VZqKIJCY8VBQ  4.414860  -MK7GGRiG9OQeUMqkYeVqw           0\n",
       " \n",
       " [1118 rows x 4 columns],\n",
       "                  business_id     score                 user_id  real_label\n",
       " 0     -fs09akgCKv5rTTy7iUHUg  4.440568  -MKaQrnrzBdWADOX2faH-A           0\n",
       " 1     RFo876v_A63N2JfOTq1p-g  4.435375  -MKaQrnrzBdWADOX2faH-A           0\n",
       " 2     8ZCpyx-U-dEJyNZBWiC3mA  4.423880  -MKaQrnrzBdWADOX2faH-A           0\n",
       " 3     KTGEa8V9ec0QBYM_uk1YLQ  4.410353  -MKaQrnrzBdWADOX2faH-A           0\n",
       " 4     o_N7HiU3f6cVvrJAFrE43A  4.403425  -MKaQrnrzBdWADOX2faH-A           0\n",
       " ...                      ...       ...                     ...         ...\n",
       " 1021  nT8O_5KgbgGvMyIRVqL6pQ  3.895823  -MKaQrnrzBdWADOX2faH-A           0\n",
       " 1022  Igg-V2uGqGaeb13L91sngw  3.895350  -MKaQrnrzBdWADOX2faH-A           0\n",
       " 1023  FIweOxvfz1aSgXqs2X-pqw  3.895322  -MKaQrnrzBdWADOX2faH-A           0\n",
       " 1024  F_p-pLonAAzzOSnTLdJMtw  3.895235  -MKaQrnrzBdWADOX2faH-A           0\n",
       " 1025  5oiYQkCMlJ2nZEjttjEd_A  3.895160  -MKaQrnrzBdWADOX2faH-A           0\n",
       " \n",
       " [1026 rows x 4 columns],\n",
       "                  business_id     score                 user_id  real_label\n",
       " 0     -fs09akgCKv5rTTy7iUHUg  4.966338  -Md9jUPXg1m-FqvX6Ov6HA           0\n",
       " 1     KTGEa8V9ec0QBYM_uk1YLQ  4.932039  -Md9jUPXg1m-FqvX6Ov6HA           0\n",
       " 2     zLm2PaYrpHkcr63ekwvtBQ  4.916942  -Md9jUPXg1m-FqvX6Ov6HA           0\n",
       " 3     8ZCpyx-U-dEJyNZBWiC3mA  4.914649  -Md9jUPXg1m-FqvX6Ov6HA           0\n",
       " 4     5tK4y67IUn3eDd3S1bka9Q  4.896575  -Md9jUPXg1m-FqvX6Ov6HA           0\n",
       " ...                      ...       ...                     ...         ...\n",
       " 1057  qiWuEwOfZDhad1kdyCDAIA  4.479424  -Md9jUPXg1m-FqvX6Ov6HA           0\n",
       " 1058  CBWmYHLgtFrOJs7SCcQn0g  4.479280  -Md9jUPXg1m-FqvX6Ov6HA           0\n",
       " 1059  lQTdARrqdKMAcDp1PWpQ9A  4.479268  -Md9jUPXg1m-FqvX6Ov6HA           0\n",
       " 1060  s9__MGvr-D6mj9HT8xRVtQ  4.479261  -Md9jUPXg1m-FqvX6Ov6HA           0\n",
       " 1061  DEFte_S3i2EcRLH7XbWQZA  4.478974  -Md9jUPXg1m-FqvX6Ov6HA           0\n",
       " \n",
       " [1062 rows x 4 columns],\n",
       "                  business_id     score                 user_id  real_label\n",
       " 0     -fs09akgCKv5rTTy7iUHUg  4.909828  -MeResg7zWIywg7JwuMvaw           0\n",
       " 1     -fs09akgCKv5rTTy7iUHUg  4.909828  -MeResg7zWIywg7JwuMvaw           0\n",
       " 2     -fs09akgCKv5rTTy7iUHUg  4.909828  -MeResg7zWIywg7JwuMvaw           0\n",
       " 3     KTGEa8V9ec0QBYM_uk1YLQ  4.896493  -MeResg7zWIywg7JwuMvaw           0\n",
       " 4     KTGEa8V9ec0QBYM_uk1YLQ  4.896493  -MeResg7zWIywg7JwuMvaw           0\n",
       " ...                      ...       ...                     ...         ...\n",
       " 1132  0eg9sThCA4dYiDA7xssd7A  4.436038  -MeResg7zWIywg7JwuMvaw           0\n",
       " 1133  _t4wY_baSBouijDOV7nyhQ  4.436034  -MeResg7zWIywg7JwuMvaw           0\n",
       " 1134  OxXMZfaRZc7SJnjMBkO1ww  4.435735  -MeResg7zWIywg7JwuMvaw           0\n",
       " 1135  5xRZFazPsVLZXijsYwR7Ng  4.435405  -MeResg7zWIywg7JwuMvaw           0\n",
       " 1136  naZrWX2vLUHHvvmWLSuDXw  4.435206  -MeResg7zWIywg7JwuMvaw           0\n",
       " \n",
       " [1137 rows x 4 columns],\n",
       "                  business_id     score                 user_id  real_label\n",
       " 0     -fs09akgCKv5rTTy7iUHUg  5.280038  -NDurCQ1u3CbUd05M7MaIA           0\n",
       " 1     KTGEa8V9ec0QBYM_uk1YLQ  5.266819  -NDurCQ1u3CbUd05M7MaIA           0\n",
       " 2     zLm2PaYrpHkcr63ekwvtBQ  5.244529  -NDurCQ1u3CbUd05M7MaIA           0\n",
       " 3     8ZCpyx-U-dEJyNZBWiC3mA  5.228272  -NDurCQ1u3CbUd05M7MaIA           0\n",
       " 4     5tK4y67IUn3eDd3S1bka9Q  5.210390  -NDurCQ1u3CbUd05M7MaIA           0\n",
       " ...                      ...       ...                     ...         ...\n",
       " 998   OPQWnVzSu70iE26LOaZiJw  4.798234  -NDurCQ1u3CbUd05M7MaIA           0\n",
       " 999   thb9MKU1kOG_TZ0sn2RxcA  4.798087  -NDurCQ1u3CbUd05M7MaIA           0\n",
       " 1000  Igg-V2uGqGaeb13L91sngw  4.797972  -NDurCQ1u3CbUd05M7MaIA           0\n",
       " 1001  1EDUXBWC6IAZvW-r5BKDGw  4.797780  -NDurCQ1u3CbUd05M7MaIA           0\n",
       " 1002  saVXla5i8TjE51S5uCaf6w  4.797717  -NDurCQ1u3CbUd05M7MaIA           0\n",
       " \n",
       " [1003 rows x 4 columns],\n",
       "                  business_id     score                 user_id  real_label\n",
       " 0     -fs09akgCKv5rTTy7iUHUg  4.912059  -NEsqgAweDXmhy2iSASpjA           0\n",
       " 1     KTGEa8V9ec0QBYM_uk1YLQ  4.898724  -NEsqgAweDXmhy2iSASpjA           0\n",
       " 2     8ZCpyx-U-dEJyNZBWiC3mA  4.860352  -NEsqgAweDXmhy2iSASpjA           0\n",
       " 3     8ZCpyx-U-dEJyNZBWiC3mA  4.860352  -NEsqgAweDXmhy2iSASpjA           0\n",
       " 4     8ZCpyx-U-dEJyNZBWiC3mA  4.860352  -NEsqgAweDXmhy2iSASpjA           0\n",
       " ...                      ...       ...                     ...         ...\n",
       " 1106  5oX4G1cptixPZecih9L3dg  4.413361  -NEsqgAweDXmhy2iSASpjA           0\n",
       " 1107  U6RX5K67l95kXzAnkmPesA  4.413339  -NEsqgAweDXmhy2iSASpjA           0\n",
       " 1108  7i_JlBnTZPXcOEtcH-kyNg  4.413291  -NEsqgAweDXmhy2iSASpjA           0\n",
       " 1109  xLuEfxyJ8BnDtI9pG-mGAw  4.412789  -NEsqgAweDXmhy2iSASpjA           0\n",
       " 1110  7evVLlKovx8DV4CfqJgXww  4.412782  -NEsqgAweDXmhy2iSASpjA           0\n",
       " \n",
       " [1111 rows x 4 columns],\n",
       "                  business_id     score                 user_id  real_label\n",
       " 0     -fs09akgCKv5rTTy7iUHUg  4.581806  -NXMmOULp-kUv_LO1V6JVQ           0\n",
       " 1     8ZCpyx-U-dEJyNZBWiC3mA  4.579638  -NXMmOULp-kUv_LO1V6JVQ           0\n",
       " 2     o_N7HiU3f6cVvrJAFrE43A  4.536447  -NXMmOULp-kUv_LO1V6JVQ           0\n",
       " 3     KTGEa8V9ec0QBYM_uk1YLQ  4.535142  -NXMmOULp-kUv_LO1V6JVQ           0\n",
       " 4     Y93S8ZVnOhXQTkWZQEU5yg  4.530394  -NXMmOULp-kUv_LO1V6JVQ           0\n",
       " ...                      ...       ...                     ...         ...\n",
       " 1108  GmJDCmDhtKbjofeO35yBrw  3.955009  -NXMmOULp-kUv_LO1V6JVQ           0\n",
       " 1109  d8DvaJ2SG7_e4swJVenjUA  3.954905  -NXMmOULp-kUv_LO1V6JVQ           0\n",
       " 1110  iOKdzs-arrM9Jv4TKz5M1Q  3.954790  -NXMmOULp-kUv_LO1V6JVQ           0\n",
       " 1111  9DfzRvTs9tzFuj5PnnLOrA  3.954777  -NXMmOULp-kUv_LO1V6JVQ           0\n",
       " 1112  etaMJK4AFye6FH31KRs5vw  3.954759  -NXMmOULp-kUv_LO1V6JVQ           0\n",
       " \n",
       " [1113 rows x 4 columns],\n",
       "                  business_id     score                 user_id  real_label\n",
       " 0     -fs09akgCKv5rTTy7iUHUg  5.055179  -NbeVN5tnwdyYAvdNkKMjw           0\n",
       " 1     KTGEa8V9ec0QBYM_uk1YLQ  5.019909  -NbeVN5tnwdyYAvdNkKMjw           0\n",
       " 2     zLm2PaYrpHkcr63ekwvtBQ  5.012432  -NbeVN5tnwdyYAvdNkKMjw           0\n",
       " 3     u3zqvp4BYUjzJD7tzx3Jbg  4.997528  -NbeVN5tnwdyYAvdNkKMjw           0\n",
       " 4     5tK4y67IUn3eDd3S1bka9Q  4.975797  -NbeVN5tnwdyYAvdNkKMjw           0\n",
       " ...                      ...       ...                     ...         ...\n",
       " 1080  jFm2I2vALvWz07_AWKQLlA  4.481309  -NbeVN5tnwdyYAvdNkKMjw           0\n",
       " 1081  ubYUSAHPt4vNjZDEn44eTA  4.481119  -NbeVN5tnwdyYAvdNkKMjw           0\n",
       " 1082  NcrvG-VdwRlFJ_IHaL4W7Q  4.480895  -NbeVN5tnwdyYAvdNkKMjw           0\n",
       " 1083  fII7VVkwvuKLjq3j0C5LCg  4.480879  -NbeVN5tnwdyYAvdNkKMjw           0\n",
       " 1084  thb9MKU1kOG_TZ0sn2RxcA  4.480753  -NbeVN5tnwdyYAvdNkKMjw           0\n",
       " \n",
       " [1085 rows x 4 columns],\n",
       "                  business_id     score                 user_id  real_label\n",
       " 0     RFo876v_A63N2JfOTq1p-g  4.906245  -NfYRQ94Uk2weH5O1OIK2A           0\n",
       " 1     -fs09akgCKv5rTTy7iUHUg  4.905252  -NfYRQ94Uk2weH5O1OIK2A           0\n",
       " 2     KTGEa8V9ec0QBYM_uk1YLQ  4.891917  -NfYRQ94Uk2weH5O1OIK2A           0\n",
       " 3     o_N7HiU3f6cVvrJAFrE43A  4.877717  -NfYRQ94Uk2weH5O1OIK2A           0\n",
       " 4     zLm2PaYrpHkcr63ekwvtBQ  4.869627  -NfYRQ94Uk2weH5O1OIK2A           0\n",
       " ...                      ...       ...                     ...         ...\n",
       " 1075  1EDUXBWC6IAZvW-r5BKDGw  4.430702  -NfYRQ94Uk2weH5O1OIK2A           0\n",
       " 1076  u9Bs8L3oI1A3hcXs6vOv8w  4.430280  -NfYRQ94Uk2weH5O1OIK2A           0\n",
       " 1077  8VO4Ma7FhsLYop9tk87tbA  4.430139  -NfYRQ94Uk2weH5O1OIK2A           0\n",
       " 1078  B3Op-BE7dyOcXZitSlASZw  4.430070  -NfYRQ94Uk2weH5O1OIK2A           0\n",
       " 1079  zdv6HmtViGmQn4PVk9bAWQ  4.430032  -NfYRQ94Uk2weH5O1OIK2A           0\n",
       " \n",
       " [1080 rows x 4 columns],\n",
       "                  business_id     score                 user_id  real_label\n",
       " 0     -fs09akgCKv5rTTy7iUHUg  4.829445  -NipQme-3bdfY3LlfBwzCA           0\n",
       " 1     KTGEa8V9ec0QBYM_uk1YLQ  4.809566  -NipQme-3bdfY3LlfBwzCA           0\n",
       " 2     o_N7HiU3f6cVvrJAFrE43A  4.800860  -NipQme-3bdfY3LlfBwzCA           0\n",
       " 3     zLm2PaYrpHkcr63ekwvtBQ  4.796935  -NipQme-3bdfY3LlfBwzCA           0\n",
       " 4     5tK4y67IUn3eDd3S1bka9Q  4.758632  -NipQme-3bdfY3LlfBwzCA           0\n",
       " ...                      ...       ...                     ...         ...\n",
       " 1015  MpkCQTOV6D3XGRPbtQPj5Q  4.287042  -NipQme-3bdfY3LlfBwzCA           0\n",
       " 1016  mQ3DDR6L1vDU5pS6OhP7UQ  4.286993  -NipQme-3bdfY3LlfBwzCA           0\n",
       " 1017  suSDu8cXK_9uuAJopn2R1g  4.286814  -NipQme-3bdfY3LlfBwzCA           0\n",
       " 1018  SADPX8WX34EQDj_jqtacMw  4.286805  -NipQme-3bdfY3LlfBwzCA           0\n",
       " 1019  kNUdugntWQD8jEB-QNFEjg  4.286536  -NipQme-3bdfY3LlfBwzCA           0\n",
       " \n",
       " [1020 rows x 4 columns],\n",
       "                  business_id     score                 user_id  real_label\n",
       " 0     -fs09akgCKv5rTTy7iUHUg  4.229913  -Nmexeo0LnHkabunMUhEPg           0\n",
       " 1     u3zqvp4BYUjzJD7tzx3Jbg  4.154205  -Nmexeo0LnHkabunMUhEPg           0\n",
       " 2     5tK4y67IUn3eDd3S1bka9Q  4.136930  -Nmexeo0LnHkabunMUhEPg           0\n",
       " 3     rQ2CSHRkZSn5WCu7OfVI-Q  4.115691  -Nmexeo0LnHkabunMUhEPg           0\n",
       " 4     XJvOamdhTQI65jmzTfreDQ  4.097701  -Nmexeo0LnHkabunMUhEPg           0\n",
       " ...                      ...       ...                     ...         ...\n",
       " 1043  TNz-ZAiCS6GzN1PtDBn-RA  3.437718  -Nmexeo0LnHkabunMUhEPg           0\n",
       " 1044  oOtpCuVGoUIgrr31tN-8vg  3.437178  -Nmexeo0LnHkabunMUhEPg           0\n",
       " 1045  itUApK7C-MijY9RGChrXCQ  3.437064  -Nmexeo0LnHkabunMUhEPg           0\n",
       " 1046  fplGFSDKeWwD5qQ4rWaEqw  3.436993  -Nmexeo0LnHkabunMUhEPg           0\n",
       " 1047  guROV3gbeaxkIUSGwYc2IA  3.436895  -Nmexeo0LnHkabunMUhEPg           0\n",
       " \n",
       " [1048 rows x 4 columns],\n",
       "                  business_id     score                 user_id  real_label\n",
       " 0     -fs09akgCKv5rTTy7iUHUg  4.849319  -NpZDO99TEUZWg3hbNL11A           0\n",
       " 1     KTGEa8V9ec0QBYM_uk1YLQ  4.806525  -NpZDO99TEUZWg3hbNL11A           0\n",
       " 2     zLm2PaYrpHkcr63ekwvtBQ  4.791349  -NpZDO99TEUZWg3hbNL11A           0\n",
       " 3     8ZCpyx-U-dEJyNZBWiC3mA  4.790624  -NpZDO99TEUZWg3hbNL11A           0\n",
       " 4     5tK4y67IUn3eDd3S1bka9Q  4.776832  -NpZDO99TEUZWg3hbNL11A           0\n",
       " ...                      ...       ...                     ...         ...\n",
       " 1000  -o6bah2j6_IH9pkwANXcLA  4.295829  -NpZDO99TEUZWg3hbNL11A           0\n",
       " 1001  oHvEgLH6pAkcrPmeR1l3UQ  4.295707  -NpZDO99TEUZWg3hbNL11A           0\n",
       " 1002  0Sa2hQnbS9hoRthHKOGepg  4.295643  -NpZDO99TEUZWg3hbNL11A           0\n",
       " 1003  FGe8_MFciERzA_sM7FNJNA  4.295477  -NpZDO99TEUZWg3hbNL11A           0\n",
       " 1004  wocwfwSFrNfYJRyfYSi1Cw  4.295339  -NpZDO99TEUZWg3hbNL11A           0\n",
       " \n",
       " [1005 rows x 4 columns],\n",
       "                  business_id     score                 user_id  real_label\n",
       " 0     -fs09akgCKv5rTTy7iUHUg  5.021643  -Np_pQm-hesB3AOBG0P_Jg           0\n",
       " 1     o_N7HiU3f6cVvrJAFrE43A  4.994119  -Np_pQm-hesB3AOBG0P_Jg           0\n",
       " 2     5tK4y67IUn3eDd3S1bka9Q  4.951891  -Np_pQm-hesB3AOBG0P_Jg           0\n",
       " 3     XJvOamdhTQI65jmzTfreDQ  4.896379  -Np_pQm-hesB3AOBG0P_Jg           0\n",
       " 4     NnlQhXtuVOVjUFYB1Hqp8Q  4.894395  -Np_pQm-hesB3AOBG0P_Jg           0\n",
       " ...                      ...       ...                     ...         ...\n",
       " 1064  WStVCYmGWYtn1AZ_SvEDtQ  4.477372  -Np_pQm-hesB3AOBG0P_Jg           0\n",
       " 1065  4ieBZ94-Bpn7BBvN1fGCyQ  4.477203  -Np_pQm-hesB3AOBG0P_Jg           0\n",
       " 1066  oHvEgLH6pAkcrPmeR1l3UQ  4.476892  -Np_pQm-hesB3AOBG0P_Jg           0\n",
       " 1067  LfbkgbvGdZ7Lm7w6v3oTnQ  4.476858  -Np_pQm-hesB3AOBG0P_Jg           0\n",
       " 1068  7IGODjRWVo96UF71P_nJqg  4.476794  -Np_pQm-hesB3AOBG0P_Jg           0\n",
       " \n",
       " [1069 rows x 4 columns],\n",
       "                  business_id     score                 user_id  real_label\n",
       " 0     ytynqOUb3hjKeJfRj5Tshw  5.210200  -NwtV6xvM4zSLrSioHUOMQ           0\n",
       " 1     -fs09akgCKv5rTTy7iUHUg  5.104687  -NwtV6xvM4zSLrSioHUOMQ           0\n",
       " 2     KTGEa8V9ec0QBYM_uk1YLQ  5.091428  -NwtV6xvM4zSLrSioHUOMQ           0\n",
       " 3     zLm2PaYrpHkcr63ekwvtBQ  5.069138  -NwtV6xvM4zSLrSioHUOMQ           0\n",
       " 4     ctHjyadbDQAtUFfkcAFEHw  5.067776  -NwtV6xvM4zSLrSioHUOMQ           0\n",
       " ...                      ...       ...                     ...         ...\n",
       " 1081  QaOTMn7BVBx3xXrjRlVnCw  4.617259  -NwtV6xvM4zSLrSioHUOMQ           0\n",
       " 1082  DEFte_S3i2EcRLH7XbWQZA  4.617245  -NwtV6xvM4zSLrSioHUOMQ           0\n",
       " 1083  eCqXLayE2aN2CquG20nW6w  4.617230  -NwtV6xvM4zSLrSioHUOMQ           0\n",
       " 1084  5u_eZ2_GYsPtLuRwAajgzg  4.617129  -NwtV6xvM4zSLrSioHUOMQ           0\n",
       " 1085  kyRUZEZThKotuabJQfuXYA  4.617117  -NwtV6xvM4zSLrSioHUOMQ           0\n",
       " \n",
       " [1086 rows x 4 columns],\n",
       "                  business_id     score                 user_id  real_label\n",
       " 0     RFo876v_A63N2JfOTq1p-g  5.300044  -NycZLw5rPxqwrkKKI-83w           0\n",
       " 1     -fs09akgCKv5rTTy7iUHUg  5.298898  -NycZLw5rPxqwrkKKI-83w           0\n",
       " 2     KTGEa8V9ec0QBYM_uk1YLQ  5.285690  -NycZLw5rPxqwrkKKI-83w           0\n",
       " 3     o_N7HiU3f6cVvrJAFrE43A  5.271386  -NycZLw5rPxqwrkKKI-83w           0\n",
       " 4     zLm2PaYrpHkcr63ekwvtBQ  5.263438  -NycZLw5rPxqwrkKKI-83w           0\n",
       " ...                      ...       ...                     ...         ...\n",
       " 1056  qEcgemvSCGUFRKPS3lt3pw  4.809997  -NycZLw5rPxqwrkKKI-83w           0\n",
       " 1057  _oxapGiVq1_LdFKcHBehLg  4.809976  -NycZLw5rPxqwrkKKI-83w           0\n",
       " 1058  G8Y4V99d9coHDNZElKPBGg  4.809589  -NycZLw5rPxqwrkKKI-83w           0\n",
       " 1059  b6nhar-0ecQpIz6mlvr-Jw  4.809394  -NycZLw5rPxqwrkKKI-83w           0\n",
       " 1060  MwwCeoby8xfACNV2TpwETg  4.809368  -NycZLw5rPxqwrkKKI-83w           0\n",
       " \n",
       " [1061 rows x 4 columns],\n",
       "                  business_id     score                 user_id  real_label\n",
       " 0     ytynqOUb3hjKeJfRj5Tshw  5.311271  -OZPBHH7RzyPIai4AlPWKA           0\n",
       " 1     ytynqOUb3hjKeJfRj5Tshw  5.311271  -OZPBHH7RzyPIai4AlPWKA           0\n",
       " 2     TE2IEDNV0RcI6s1wTOP4fg  5.299476  -OZPBHH7RzyPIai4AlPWKA           0\n",
       " 3     8ZCpyx-U-dEJyNZBWiC3mA  5.255629  -OZPBHH7RzyPIai4AlPWKA           0\n",
       " 4     5tK4y67IUn3eDd3S1bka9Q  5.237747  -OZPBHH7RzyPIai4AlPWKA           0\n",
       " ...                      ...       ...                     ...         ...\n",
       " 1127  fgfpRmXyM6iKaiX8mfA-5g  4.779136  -OZPBHH7RzyPIai4AlPWKA           0\n",
       " 1128  0bvtIbpsqBJZpRKSPwIfNw  4.779087  -OZPBHH7RzyPIai4AlPWKA           0\n",
       " 1129  VwDrUaY7PPkvfD6M1dAVBQ  4.779053  -OZPBHH7RzyPIai4AlPWKA           0\n",
       " 1130  1sO-Ujuvs8igSyaD35xx4w  4.778966  -OZPBHH7RzyPIai4AlPWKA           0\n",
       " 1131  CMnrIvac5TRbYnUJgKHupQ  4.778750  -OZPBHH7RzyPIai4AlPWKA           0\n",
       " \n",
       " [1132 rows x 4 columns],\n",
       "                  business_id     score                 user_id  real_label\n",
       " 0     RFo876v_A63N2JfOTq1p-g  4.873484  -O_FGGkZEeg509iOZADxDw           0\n",
       " 1     -fs09akgCKv5rTTy7iUHUg  4.869023  -O_FGGkZEeg509iOZADxDw           0\n",
       " 2     KTGEa8V9ec0QBYM_uk1YLQ  4.850552  -O_FGGkZEeg509iOZADxDw           0\n",
       " 3     o_N7HiU3f6cVvrJAFrE43A  4.837420  -O_FGGkZEeg509iOZADxDw           0\n",
       " 4     zLm2PaYrpHkcr63ekwvtBQ  4.836514  -O_FGGkZEeg509iOZADxDw           0\n",
       " ...                      ...       ...                     ...         ...\n",
       " 1022  dYicZfoQApq5y0vO6FbLtw  4.399368  -O_FGGkZEeg509iOZADxDw           0\n",
       " 1023  VZuHW1Q5gETMI_fUZvtoSA  4.399317  -O_FGGkZEeg509iOZADxDw           0\n",
       " 1024  VZuHW1Q5gETMI_fUZvtoSA  4.399317  -O_FGGkZEeg509iOZADxDw           0\n",
       " 1025  kNUdugntWQD8jEB-QNFEjg  4.399162  -O_FGGkZEeg509iOZADxDw           0\n",
       " 1026  i5X5dshedNVztWO9_o6Dsw  4.399146  -O_FGGkZEeg509iOZADxDw           0\n",
       " \n",
       " [1027 rows x 4 columns],\n",
       "                  business_id     score                 user_id  real_label\n",
       " 0     -fs09akgCKv5rTTy7iUHUg  4.978266  -OeDOCY60_erQ_NXI7I4lQ           0\n",
       " 1     KTGEa8V9ec0QBYM_uk1YLQ  4.964931  -OeDOCY60_erQ_NXI7I4lQ           0\n",
       " 2     8ZCpyx-U-dEJyNZBWiC3mA  4.926566  -OeDOCY60_erQ_NXI7I4lQ           0\n",
       " 3     5tK4y67IUn3eDd3S1bka9Q  4.908503  -OeDOCY60_erQ_NXI7I4lQ           0\n",
       " 4     XJvOamdhTQI65jmzTfreDQ  4.853692  -OeDOCY60_erQ_NXI7I4lQ           0\n",
       " ...                      ...       ...                     ...         ...\n",
       " 1077  YND7GKaMOCbkz-pH90CVFA  4.483175  -OeDOCY60_erQ_NXI7I4lQ           0\n",
       " 1078  wIz_tZ88bj4W3VlrJTiiqQ  4.482540  -OeDOCY60_erQ_NXI7I4lQ           0\n",
       " 1079  wIz_tZ88bj4W3VlrJTiiqQ  4.482540  -OeDOCY60_erQ_NXI7I4lQ           0\n",
       " 1080  wIz_tZ88bj4W3VlrJTiiqQ  4.482540  -OeDOCY60_erQ_NXI7I4lQ           0\n",
       " 1081  wazRghDjVEiSzTt9WXCPOA  4.482532  -OeDOCY60_erQ_NXI7I4lQ           0\n",
       " \n",
       " [1082 rows x 4 columns],\n",
       "                 business_id     score                 user_id  real_label\n",
       " 0    RFo876v_A63N2JfOTq1p-g  4.859129  -Oer2os7LrtAagVuWSN1AQ           0\n",
       " 1    -fs09akgCKv5rTTy7iUHUg  4.854669  -Oer2os7LrtAagVuWSN1AQ           0\n",
       " 2    KTGEa8V9ec0QBYM_uk1YLQ  4.832429  -Oer2os7LrtAagVuWSN1AQ           0\n",
       " 3    o_N7HiU3f6cVvrJAFrE43A  4.823065  -Oer2os7LrtAagVuWSN1AQ           0\n",
       " 4    Y93S8ZVnOhXQTkWZQEU5yg  4.797822  -Oer2os7LrtAagVuWSN1AQ           0\n",
       " ..                      ...       ...                     ...         ...\n",
       " 995  zKOFqb0RyrnY9t02f0QFTQ  4.324887  -Oer2os7LrtAagVuWSN1AQ           0\n",
       " 996  b-fIbYn7CAdSXNEOdVGfaw  4.324873  -Oer2os7LrtAagVuWSN1AQ           0\n",
       " 997  6ciAUVTzxDall6WXLoot0A  4.324485  -Oer2os7LrtAagVuWSN1AQ           0\n",
       " 998  VJ2BIGD9Q-vyE960n-4-dA  4.324339  -Oer2os7LrtAagVuWSN1AQ           0\n",
       " 999  ZVADnWGkKSOqW7z0LB9e8g  4.324315  -Oer2os7LrtAagVuWSN1AQ           0\n",
       " \n",
       " [1000 rows x 4 columns],\n",
       "                  business_id     score                 user_id  real_label\n",
       " 0     TE2IEDNV0RcI6s1wTOP4fg  4.834723  -OhMUW_qEr8uvFrhjDNHJg           0\n",
       " 1     -fs09akgCKv5rTTy7iUHUg  4.826859  -OhMUW_qEr8uvFrhjDNHJg           0\n",
       " 2     o_N7HiU3f6cVvrJAFrE43A  4.810668  -OhMUW_qEr8uvFrhjDNHJg           0\n",
       " 3     RFo876v_A63N2JfOTq1p-g  4.807565  -OhMUW_qEr8uvFrhjDNHJg           0\n",
       " 4     KTGEa8V9ec0QBYM_uk1YLQ  4.781505  -OhMUW_qEr8uvFrhjDNHJg           0\n",
       " ...                      ...       ...                     ...         ...\n",
       " 996   vvh47oI2xVIsmi1ORgVO3A  4.275118  -OhMUW_qEr8uvFrhjDNHJg           0\n",
       " 997   eXMfOA7nAh3dlLgyw-939g  4.274794  -OhMUW_qEr8uvFrhjDNHJg           0\n",
       " 998   OwAX9v-cn1kXptUmt2oIaw  4.274151  -OhMUW_qEr8uvFrhjDNHJg           0\n",
       " 999   oaNMKsN9AgWV6MMGoShW-w  4.274074  -OhMUW_qEr8uvFrhjDNHJg           0\n",
       " 1000  zdv6HmtViGmQn4PVk9bAWQ  4.274056  -OhMUW_qEr8uvFrhjDNHJg           0\n",
       " \n",
       " [1001 rows x 4 columns],\n",
       "                  business_id     score                 user_id  real_label\n",
       " 0     -fs09akgCKv5rTTy7iUHUg  4.847742  -Oqfoc4KyhzYY0qvSkxkrg           0\n",
       " 1     KTGEa8V9ec0QBYM_uk1YLQ  4.819885  -Oqfoc4KyhzYY0qvSkxkrg           0\n",
       " 2     zLm2PaYrpHkcr63ekwvtBQ  4.801642  -Oqfoc4KyhzYY0qvSkxkrg           0\n",
       " 3     8ZCpyx-U-dEJyNZBWiC3mA  4.778550  -Oqfoc4KyhzYY0qvSkxkrg           0\n",
       " 4     u3zqvp4BYUjzJD7tzx3Jbg  4.760885  -Oqfoc4KyhzYY0qvSkxkrg           0\n",
       " ...                      ...       ...                     ...         ...\n",
       " 996   5xRZFazPsVLZXijsYwR7Ng  4.322897  -Oqfoc4KyhzYY0qvSkxkrg           0\n",
       " 997   3eAGbHu2VFz8dVNC_dO5ow  4.322772  -Oqfoc4KyhzYY0qvSkxkrg           0\n",
       " 998   jAK7p4MPZKsx2o0CwhR48w  4.322457  -Oqfoc4KyhzYY0qvSkxkrg           0\n",
       " 999   xicrRwfMBkDfQlFaGoyC5g  4.322420  -Oqfoc4KyhzYY0qvSkxkrg           0\n",
       " 1000  g6rcVXjeLT6Y_kAFhbbJRg  4.322208  -Oqfoc4KyhzYY0qvSkxkrg           0\n",
       " \n",
       " [1001 rows x 4 columns],\n",
       "                  business_id     score                 user_id  real_label\n",
       " 0     -fs09akgCKv5rTTy7iUHUg  4.556098  -OwhFX7GkOg5C3MONMZNrg           0\n",
       " 1     RFo876v_A63N2JfOTq1p-g  4.549413  -OwhFX7GkOg5C3MONMZNrg           0\n",
       " 2     KTGEa8V9ec0QBYM_uk1YLQ  4.523039  -OwhFX7GkOg5C3MONMZNrg           0\n",
       " 3     o_N7HiU3f6cVvrJAFrE43A  4.511931  -OwhFX7GkOg5C3MONMZNrg           0\n",
       " 4     Y93S8ZVnOhXQTkWZQEU5yg  4.500521  -OwhFX7GkOg5C3MONMZNrg           0\n",
       " ...                      ...       ...                     ...         ...\n",
       " 1035  fx-U1NC-HJlZ2In5UJiwNQ  3.926435  -OwhFX7GkOg5C3MONMZNrg           0\n",
       " 1036  gbw5wqRVjeyCEExrM0RPmA  3.926427  -OwhFX7GkOg5C3MONMZNrg           0\n",
       " 1037  IAOJuLejVtnZJpw15Txu9A  3.926241  -OwhFX7GkOg5C3MONMZNrg           0\n",
       " 1038  liGDprT3LE4g1QC6_aOgDQ  3.926229  -OwhFX7GkOg5C3MONMZNrg           0\n",
       " 1039  D48I-imYNjFo9bmsiZc-YQ  3.926219  -OwhFX7GkOg5C3MONMZNrg           0\n",
       " \n",
       " [1040 rows x 4 columns],\n",
       "                  business_id     score                 user_id  real_label\n",
       " 0     -fs09akgCKv5rTTy7iUHUg  4.953022  -P7QbuJKBALJYH2_cBgj8A           0\n",
       " 1     KTGEa8V9ec0QBYM_uk1YLQ  4.939718  -P7QbuJKBALJYH2_cBgj8A           0\n",
       " 2     zLm2PaYrpHkcr63ekwvtBQ  4.917427  -P7QbuJKBALJYH2_cBgj8A           0\n",
       " 3     8ZCpyx-U-dEJyNZBWiC3mA  4.901256  -P7QbuJKBALJYH2_cBgj8A           0\n",
       " 4     5tK4y67IUn3eDd3S1bka9Q  4.883290  -P7QbuJKBALJYH2_cBgj8A           0\n",
       " ...                      ...       ...                     ...         ...\n",
       " 997   onAxL1mLxQb4TzZrJ2rYMg  4.465710  -P7QbuJKBALJYH2_cBgj8A           0\n",
       " 998   tyDEseGSr6NIsk7S63uMqA  4.465652  -P7QbuJKBALJYH2_cBgj8A           0\n",
       " 999   TRwPE6wsoAL6_fRaFdB4FA  4.465602  -P7QbuJKBALJYH2_cBgj8A           0\n",
       " 1000  DEFte_S3i2EcRLH7XbWQZA  4.465580  -P7QbuJKBALJYH2_cBgj8A           0\n",
       " 1001  jAK7p4MPZKsx2o0CwhR48w  4.465481  -P7QbuJKBALJYH2_cBgj8A           0\n",
       " \n",
       " [1002 rows x 4 columns],\n",
       "                  business_id     score                 user_id  real_label\n",
       " 0     RFo876v_A63N2JfOTq1p-g  4.934114  -PHhewouMe4OcObjdqBWAA           0\n",
       " 1     -fs09akgCKv5rTTy7iUHUg  4.930416  -PHhewouMe4OcObjdqBWAA           0\n",
       " 2     -fs09akgCKv5rTTy7iUHUg  4.930416  -PHhewouMe4OcObjdqBWAA           0\n",
       " 3     -fs09akgCKv5rTTy7iUHUg  4.930416  -PHhewouMe4OcObjdqBWAA           0\n",
       " 4     KTGEa8V9ec0QBYM_uk1YLQ  4.917081  -PHhewouMe4OcObjdqBWAA           0\n",
       " ...                      ...       ...                     ...         ...\n",
       " 1126  0Sa2hQnbS9hoRthHKOGepg  4.434457  -PHhewouMe4OcObjdqBWAA           0\n",
       " 1127  htO_nlxkEsYHzDrtbiUxew  4.434270  -PHhewouMe4OcObjdqBWAA           0\n",
       " 1128  htO_nlxkEsYHzDrtbiUxew  4.434270  -PHhewouMe4OcObjdqBWAA           0\n",
       " 1129  CJqI1oDfaq_dtABzk1JYHg  4.434160  -PHhewouMe4OcObjdqBWAA           0\n",
       " 1130  tNoqVTP-oWqHKl9zKNzBJw  4.434135  -PHhewouMe4OcObjdqBWAA           0\n",
       " \n",
       " [1131 rows x 4 columns],\n",
       "                  business_id     score                 user_id  real_label\n",
       " 0     -fs09akgCKv5rTTy7iUHUg  4.759691  -PKqpPxTS_u3_bHFf8Daow           0\n",
       " 1     8ZCpyx-U-dEJyNZBWiC3mA  4.737318  -PKqpPxTS_u3_bHFf8Daow           0\n",
       " 2     KTGEa8V9ec0QBYM_uk1YLQ  4.731430  -PKqpPxTS_u3_bHFf8Daow           0\n",
       " 3     zLm2PaYrpHkcr63ekwvtBQ  4.706383  -PKqpPxTS_u3_bHFf8Daow           0\n",
       " 4     5tK4y67IUn3eDd3S1bka9Q  4.683595  -PKqpPxTS_u3_bHFf8Daow           0\n",
       " ...                      ...       ...                     ...         ...\n",
       " 1056  B-SiesU4hxIiL7rl7vzayA  4.086266  -PKqpPxTS_u3_bHFf8Daow           0\n",
       " 1057  m0wQ5oMPjpEFKAnQepJPOA  4.086051  -PKqpPxTS_u3_bHFf8Daow           0\n",
       " 1058  M1hsyjJDdQQeNP164FJ1pA  4.085921  -PKqpPxTS_u3_bHFf8Daow           0\n",
       " 1059  9DfzRvTs9tzFuj5PnnLOrA  4.085793  -PKqpPxTS_u3_bHFf8Daow           0\n",
       " 1060  M9M37FllWUIslw2OE9eyKg  4.085678  -PKqpPxTS_u3_bHFf8Daow           0\n",
       " \n",
       " [1061 rows x 4 columns],\n",
       "                  business_id     score                 user_id  real_label\n",
       " 0     8ZCpyx-U-dEJyNZBWiC3mA  4.830587  -PQLORtPeAtzkt9bNI2F7Q           0\n",
       " 1     5tK4y67IUn3eDd3S1bka9Q  4.812593  -PQLORtPeAtzkt9bNI2F7Q           0\n",
       " 2     atZ_olNKXOG4rEr6mccN8g  4.774952  -PQLORtPeAtzkt9bNI2F7Q           0\n",
       " 3     atZ_olNKXOG4rEr6mccN8g  4.774952  -PQLORtPeAtzkt9bNI2F7Q           0\n",
       " 4     XJvOamdhTQI65jmzTfreDQ  4.757089  -PQLORtPeAtzkt9bNI2F7Q           0\n",
       " ...                      ...       ...                     ...         ...\n",
       " 1066  lxNujGFgeVEgO7H9othc-A  4.349976  -PQLORtPeAtzkt9bNI2F7Q           0\n",
       " 1067  B1uf_53BMDEjhCCyjjmaKg  4.349866  -PQLORtPeAtzkt9bNI2F7Q           0\n",
       " 1068  xTCSNzu7387VHOPO7DkEzA  4.349761  -PQLORtPeAtzkt9bNI2F7Q           0\n",
       " 1069  mhXwuwa0gUXe_F4w1NMF4w  4.349419  -PQLORtPeAtzkt9bNI2F7Q           0\n",
       " 1070  uaX77w8_uIhu9EwxpdwOZQ  4.349293  -PQLORtPeAtzkt9bNI2F7Q           0\n",
       " \n",
       " [1071 rows x 4 columns],\n",
       "                  business_id     score                 user_id  real_label\n",
       " 0     TE2IEDNV0RcI6s1wTOP4fg  5.182365  -Pb9gXleMSXS8quej_zL1Q           0\n",
       " 1     Bk6uzC83wbmCHm2i5Uz8OA  5.059655  -Pb9gXleMSXS8quej_zL1Q           0\n",
       " 2     9pwzHmhCpgJwfaIP9jWoCg  5.052918  -Pb9gXleMSXS8quej_zL1Q           0\n",
       " 3     9pwzHmhCpgJwfaIP9jWoCg  5.052918  -Pb9gXleMSXS8quej_zL1Q           0\n",
       " 4     X3NS8516o015Z1zcOwrqmQ  5.029730  -Pb9gXleMSXS8quej_zL1Q           0\n",
       " ...                      ...       ...                     ...         ...\n",
       " 1161  viVz0HzP-_CbU07HUCquZQ  4.504578  -Pb9gXleMSXS8quej_zL1Q           0\n",
       " 1162  OE_iESU0ZducaBOBoa-ceQ  4.504256  -Pb9gXleMSXS8quej_zL1Q           0\n",
       " 1163  gTaYw0iBODvQaRVGone7aA  4.503859  -Pb9gXleMSXS8quej_zL1Q           0\n",
       " 1164  n0s2eCijdheztrvfk8BeTw  4.503589  -Pb9gXleMSXS8quej_zL1Q           0\n",
       " 1165  8pqwQKzNyb4kV3GpRx6aeg  4.503398  -Pb9gXleMSXS8quej_zL1Q           0\n",
       " \n",
       " [1166 rows x 4 columns],\n",
       "                  business_id     score                 user_id  real_label\n",
       " 0     -fs09akgCKv5rTTy7iUHUg  4.780790  -Q-vMOJCVf2UF5AdLwCkig           0\n",
       " 1     TE2IEDNV0RcI6s1wTOP4fg  4.773584  -Q-vMOJCVf2UF5AdLwCkig           0\n",
       " 2     o_N7HiU3f6cVvrJAFrE43A  4.761964  -Q-vMOJCVf2UF5AdLwCkig           0\n",
       " 3     o_N7HiU3f6cVvrJAFrE43A  4.761964  -Q-vMOJCVf2UF5AdLwCkig           0\n",
       " 4     KTGEa8V9ec0QBYM_uk1YLQ  4.737997  -Q-vMOJCVf2UF5AdLwCkig           0\n",
       " ...                      ...       ...                     ...         ...\n",
       " 1057  Sv1MEZP-mMfp8SmE0hwYEA  4.144178  -Q-vMOJCVf2UF5AdLwCkig           0\n",
       " 1058  Sv1MEZP-mMfp8SmE0hwYEA  4.144178  -Q-vMOJCVf2UF5AdLwCkig           0\n",
       " 1059  jFm2I2vALvWz07_AWKQLlA  4.144011  -Q-vMOJCVf2UF5AdLwCkig           0\n",
       " 1060  3XirYkP9PJvVXIEDPNNXLA  4.143754  -Q-vMOJCVf2UF5AdLwCkig           0\n",
       " 1061  aeFXIzYpWjSdtq5w8iz04g  4.143448  -Q-vMOJCVf2UF5AdLwCkig           0\n",
       " \n",
       " [1062 rows x 4 columns],\n",
       "                  business_id     score                 user_id  real_label\n",
       " 0     -fs09akgCKv5rTTy7iUHUg  4.749891  -Q8cGu_PGBYpxgI74P3dMw           0\n",
       " 1     o_N7HiU3f6cVvrJAFrE43A  4.728206  -Q8cGu_PGBYpxgI74P3dMw           0\n",
       " 2     KTGEa8V9ec0QBYM_uk1YLQ  4.709317  -Q8cGu_PGBYpxgI74P3dMw           0\n",
       " 3     u3zqvp4BYUjzJD7tzx3Jbg  4.696536  -Q8cGu_PGBYpxgI74P3dMw           0\n",
       " 4     zLm2PaYrpHkcr63ekwvtBQ  4.682872  -Q8cGu_PGBYpxgI74P3dMw           0\n",
       " ...                      ...       ...                     ...         ...\n",
       " 1052  cGDyac-6206ey4DEv2ur-Q  4.108761  -Q8cGu_PGBYpxgI74P3dMw           0\n",
       " 1053  aPI5KpboojbTqLEMH_oY7w  4.108651  -Q8cGu_PGBYpxgI74P3dMw           0\n",
       " 1054  n_Dd2ZreYlX8Xg1Vw47BXQ  4.108338  -Q8cGu_PGBYpxgI74P3dMw           0\n",
       " 1055  Tl24lMv2aCuLs4u45NquJQ  4.107953  -Q8cGu_PGBYpxgI74P3dMw           0\n",
       " 1056  ohEdRJ2xpp2OdsR_c5meYw  4.107851  -Q8cGu_PGBYpxgI74P3dMw           0\n",
       " \n",
       " [1057 rows x 4 columns],\n",
       "                  business_id     score                 user_id  real_label\n",
       " 0     -fs09akgCKv5rTTy7iUHUg  4.390599  -Q9xKNMQVip1V6D-CjITVg           0\n",
       " 1     KTGEa8V9ec0QBYM_uk1YLQ  4.374090  -Q9xKNMQVip1V6D-CjITVg           0\n",
       " 2     o_N7HiU3f6cVvrJAFrE43A  4.342670  -Q9xKNMQVip1V6D-CjITVg           0\n",
       " 3     5tK4y67IUn3eDd3S1bka9Q  4.316666  -Q9xKNMQVip1V6D-CjITVg           0\n",
       " 4     9pwzHmhCpgJwfaIP9jWoCg  4.287790  -Q9xKNMQVip1V6D-CjITVg           0\n",
       " ...                      ...       ...                     ...         ...\n",
       " 1007  IjtKwA7njLjTvZr0nFSLeA  3.787929  -Q9xKNMQVip1V6D-CjITVg           0\n",
       " 1008  wuw1WipH9fnr6pqrROv5dQ  3.787858  -Q9xKNMQVip1V6D-CjITVg           0\n",
       " 1009  WdUiTm8EZ6l9ukq9Hh32PA  3.787824  -Q9xKNMQVip1V6D-CjITVg           0\n",
       " 1010  yeQ4JvVcajKnld5JhWfwdA  3.787570  -Q9xKNMQVip1V6D-CjITVg           0\n",
       " 1011  dDMJ-H6e_RvoxwoXai79Rw  3.787549  -Q9xKNMQVip1V6D-CjITVg           0\n",
       " \n",
       " [1012 rows x 4 columns],\n",
       "                  business_id     score                 user_id  real_label\n",
       " 0     -fs09akgCKv5rTTy7iUHUg  4.792740  -QiR53FWCXQOhBziKUTY7A           0\n",
       " 1     o_N7HiU3f6cVvrJAFrE43A  4.779109  -QiR53FWCXQOhBziKUTY7A           0\n",
       " 2     u3zqvp4BYUjzJD7tzx3Jbg  4.770622  -QiR53FWCXQOhBziKUTY7A           0\n",
       " 3     KTGEa8V9ec0QBYM_uk1YLQ  4.752642  -QiR53FWCXQOhBziKUTY7A           0\n",
       " 4     8ZCpyx-U-dEJyNZBWiC3mA  4.735924  -QiR53FWCXQOhBziKUTY7A           0\n",
       " ...                      ...       ...                     ...         ...\n",
       " 996   hS8z5yNV0QJQcKo1aV2KHA  4.181428  -QiR53FWCXQOhBziKUTY7A           0\n",
       " 997   wJuWId7lvoTElFX3rN7smQ  4.181323  -QiR53FWCXQOhBziKUTY7A           0\n",
       " 998   yE9JBfdRUlDsKaAIn0yOAA  4.181320  -QiR53FWCXQOhBziKUTY7A           0\n",
       " 999   eMdE9Jofj5_8A_53ELnP8A  4.181188  -QiR53FWCXQOhBziKUTY7A           0\n",
       " 1000  VG54JsBaDIbXU29HI9jiXw  4.180890  -QiR53FWCXQOhBziKUTY7A           0\n",
       " \n",
       " [1001 rows x 4 columns],\n",
       "                  business_id     score                 user_id  real_label\n",
       " 0     -fs09akgCKv5rTTy7iUHUg  4.656465  -QmEKJ_CzZnT9biZHddfZQ           0\n",
       " 1     KTGEa8V9ec0QBYM_uk1YLQ  4.613226  -QmEKJ_CzZnT9biZHddfZQ           0\n",
       " 2     KTGEa8V9ec0QBYM_uk1YLQ  4.613226  -QmEKJ_CzZnT9biZHddfZQ           0\n",
       " 3     8ZCpyx-U-dEJyNZBWiC3mA  4.612755  -QmEKJ_CzZnT9biZHddfZQ           0\n",
       " 4     TE2IEDNV0RcI6s1wTOP4fg  4.609776  -QmEKJ_CzZnT9biZHddfZQ           0\n",
       " ...                      ...       ...                     ...         ...\n",
       " 1129  wcL88nbU3PkGlQcZPC7kAg  3.991791  -QmEKJ_CzZnT9biZHddfZQ           0\n",
       " 1130  _MWbuRiTqbWEjlfxRAvzWQ  3.991163  -QmEKJ_CzZnT9biZHddfZQ           0\n",
       " 1131  DvQ9LueDdw3u-eeROpcX0A  3.989529  -QmEKJ_CzZnT9biZHddfZQ           0\n",
       " 1132  9qOhDtUP5OMk2w-CHQxcTw  3.989189  -QmEKJ_CzZnT9biZHddfZQ           0\n",
       " 1133  MvgfMYxGMN-T793WU-LGnQ  3.989189  -QmEKJ_CzZnT9biZHddfZQ           0\n",
       " \n",
       " [1134 rows x 4 columns],\n",
       "                  business_id     score                 user_id  real_label\n",
       " 0     -fs09akgCKv5rTTy7iUHUg  4.493342  -QrVSo-1XhXERcmk3ePrzQ           0\n",
       " 1     8ZCpyx-U-dEJyNZBWiC3mA  4.481667  -QrVSo-1XhXERcmk3ePrzQ           0\n",
       " 2     KTGEa8V9ec0QBYM_uk1YLQ  4.452014  -QrVSo-1XhXERcmk3ePrzQ           0\n",
       " 3     o_N7HiU3f6cVvrJAFrE43A  4.440962  -QrVSo-1XhXERcmk3ePrzQ           0\n",
       " 4     zLm2PaYrpHkcr63ekwvtBQ  4.427028  -QrVSo-1XhXERcmk3ePrzQ           0\n",
       " ...                      ...       ...                     ...         ...\n",
       " 1018  rgeuy1qbw6Z8B6CSVANHIA  3.837804  -QrVSo-1XhXERcmk3ePrzQ           0\n",
       " 1019  cdIZWzfLzU8AAnS0rWQXdw  3.837599  -QrVSo-1XhXERcmk3ePrzQ           0\n",
       " 1020  _V9ktNg37MPh7X3MiYXe_Q  3.837474  -QrVSo-1XhXERcmk3ePrzQ           0\n",
       " 1021  dsxkmGJyQlQVca8aa03awg  3.837168  -QrVSo-1XhXERcmk3ePrzQ           0\n",
       " 1022  GW-H37yWCNhgWPg9RwKbVA  3.836548  -QrVSo-1XhXERcmk3ePrzQ           0\n",
       " \n",
       " [1023 rows x 4 columns],\n",
       "                  business_id     score                 user_id  real_label\n",
       " 0     -fs09akgCKv5rTTy7iUHUg  4.492910  -R3Liu8xDWu-VpWSW8YlKA           0\n",
       " 1     8ZCpyx-U-dEJyNZBWiC3mA  4.440780  -R3Liu8xDWu-VpWSW8YlKA           0\n",
       " 2     KTGEa8V9ec0QBYM_uk1YLQ  4.439808  -R3Liu8xDWu-VpWSW8YlKA           0\n",
       " 3     o_N7HiU3f6cVvrJAFrE43A  4.425152  -R3Liu8xDWu-VpWSW8YlKA           0\n",
       " 4     zLm2PaYrpHkcr63ekwvtBQ  4.414774  -R3Liu8xDWu-VpWSW8YlKA           0\n",
       " ...                      ...       ...                     ...         ...\n",
       " 1011  K3RURR9lIEE4JjOaPt99zg  3.905807  -R3Liu8xDWu-VpWSW8YlKA           0\n",
       " 1012  q2iS794-52tFAC2ScQFTug  3.905663  -R3Liu8xDWu-VpWSW8YlKA           0\n",
       " 1013  EOPWZ0x8jXPhojLU6txLQA  3.905196  -R3Liu8xDWu-VpWSW8YlKA           0\n",
       " 1014  -AaxZJ_I4rSFOBJbBz4SlQ  3.904942  -R3Liu8xDWu-VpWSW8YlKA           0\n",
       " 1015  85S9b55dIToR6N6jdPXK3Q  3.904902  -R3Liu8xDWu-VpWSW8YlKA           0\n",
       " \n",
       " [1016 rows x 4 columns],\n",
       "                  business_id     score                 user_id  real_label\n",
       " 0     8ZCpyx-U-dEJyNZBWiC3mA  4.526164  -RHXnSTWGanCuiTHnoYMgA           0\n",
       " 1     -fs09akgCKv5rTTy7iUHUg  4.523376  -RHXnSTWGanCuiTHnoYMgA           0\n",
       " 2     KTGEa8V9ec0QBYM_uk1YLQ  4.497088  -RHXnSTWGanCuiTHnoYMgA           0\n",
       " 3     5tK4y67IUn3eDd3S1bka9Q  4.440512  -RHXnSTWGanCuiTHnoYMgA           0\n",
       " 4     9pwzHmhCpgJwfaIP9jWoCg  4.417633  -RHXnSTWGanCuiTHnoYMgA           0\n",
       " ...                      ...       ...                     ...         ...\n",
       " 999   8E2--KcyOrJx8my51jid2w  3.814717  -RHXnSTWGanCuiTHnoYMgA           0\n",
       " 1000  5fVv0DJ8Jh16DJafw13erw  3.814695  -RHXnSTWGanCuiTHnoYMgA           0\n",
       " 1001  NZd4LDR6pYmKyyB5cKoNTw  3.814572  -RHXnSTWGanCuiTHnoYMgA           0\n",
       " 1002  TGa-k0lkz6t4pUpchVUoEQ  3.814356  -RHXnSTWGanCuiTHnoYMgA           0\n",
       " 1003  UuR_swydJgdnEHeoXqB_Ww  3.814233  -RHXnSTWGanCuiTHnoYMgA           0\n",
       " \n",
       " [1004 rows x 4 columns],\n",
       "                  business_id     score                 user_id  real_label\n",
       " 0     -fs09akgCKv5rTTy7iUHUg  5.075922  -RI-qSOmIIzg1j5lFZPzDQ           0\n",
       " 1     KTGEa8V9ec0QBYM_uk1YLQ  5.062638  -RI-qSOmIIzg1j5lFZPzDQ           0\n",
       " 2     8ZCpyx-U-dEJyNZBWiC3mA  5.024156  -RI-qSOmIIzg1j5lFZPzDQ           0\n",
       " 3     5tK4y67IUn3eDd3S1bka9Q  5.006210  -RI-qSOmIIzg1j5lFZPzDQ           0\n",
       " 4     u3zqvp4BYUjzJD7tzx3Jbg  4.998231  -RI-qSOmIIzg1j5lFZPzDQ           0\n",
       " ...                      ...       ...                     ...         ...\n",
       " 1022  7gtWQMLOEwCxh1I5j6uB4g  4.572706  -RI-qSOmIIzg1j5lFZPzDQ           0\n",
       " 1023  HO1KJ6Jwk3sU_UTIJGOLDA  4.572544  -RI-qSOmIIzg1j5lFZPzDQ           0\n",
       " 1024  M4ME5ir-QwnRdM4fhjZtTA  4.572336  -RI-qSOmIIzg1j5lFZPzDQ           0\n",
       " 1025  py2kSvhHg5B6Z9ZrLHRjuQ  4.572011  -RI-qSOmIIzg1j5lFZPzDQ           0\n",
       " 1026  ZMRfHHbyTQb_Yje9GhrVfw  4.571905  -RI-qSOmIIzg1j5lFZPzDQ           0\n",
       " \n",
       " [1027 rows x 4 columns],\n",
       "                  business_id     score                 user_id  real_label\n",
       " 0     5tK4y67IUn3eDd3S1bka9Q  4.901778  -RWkqWfBxJB54eJag7D52A           0\n",
       " 1     XJvOamdhTQI65jmzTfreDQ  4.846275  -RWkqWfBxJB54eJag7D52A           0\n",
       " 2     atZ_olNKXOG4rEr6mccN8g  4.843969  -RWkqWfBxJB54eJag7D52A           0\n",
       " 3     ctHjyadbDQAtUFfkcAFEHw  4.843575  -RWkqWfBxJB54eJag7D52A           0\n",
       " 4     ctHjyadbDQAtUFfkcAFEHw  4.843575  -RWkqWfBxJB54eJag7D52A           0\n",
       " ...                      ...       ...                     ...         ...\n",
       " 1067  rbPK4jSyFS10zhWYvo_Srg  4.365507  -RWkqWfBxJB54eJag7D52A           0\n",
       " 1068  UbDoK-zEfGNnJ5ze2o7Baw  4.365484  -RWkqWfBxJB54eJag7D52A           0\n",
       " 1069  9k_KLh2GEu4iW83TAzUVtw  4.365345  -RWkqWfBxJB54eJag7D52A           0\n",
       " 1070  xFEG4pKkjJGZEOHQcZGyWA  4.365147  -RWkqWfBxJB54eJag7D52A           0\n",
       " 1071  SzV7Gwiql507h6d0BgT_7g  4.364700  -RWkqWfBxJB54eJag7D52A           0\n",
       " \n",
       " [1072 rows x 4 columns],\n",
       "                  business_id     score                 user_id  real_label\n",
       " 0     -fs09akgCKv5rTTy7iUHUg  4.610820  -RXXJeHviyE3kdZFtT3r7g           0\n",
       " 1     8ZCpyx-U-dEJyNZBWiC3mA  4.580789  -RXXJeHviyE3kdZFtT3r7g           0\n",
       " 2     KTGEa8V9ec0QBYM_uk1YLQ  4.564049  -RXXJeHviyE3kdZFtT3r7g           0\n",
       " 3     KTGEa8V9ec0QBYM_uk1YLQ  4.564049  -RXXJeHviyE3kdZFtT3r7g           0\n",
       " 4     KTGEa8V9ec0QBYM_uk1YLQ  4.564049  -RXXJeHviyE3kdZFtT3r7g           0\n",
       " ...                      ...       ...                     ...         ...\n",
       " 1093  Qc8GIJyfarIaakj98zwckw  3.950843  -RXXJeHviyE3kdZFtT3r7g           0\n",
       " 1094  PtnPDvGQ4WnZl66GoLph_g  3.950403  -RXXJeHviyE3kdZFtT3r7g           0\n",
       " 1095  xicrRwfMBkDfQlFaGoyC5g  3.950390  -RXXJeHviyE3kdZFtT3r7g           0\n",
       " 1096  nKdvOAenRN4WllzGJ3hd4g  3.950357  -RXXJeHviyE3kdZFtT3r7g           0\n",
       " 1097  z3jfgtlDBww3jTPLosPeew  3.950062  -RXXJeHviyE3kdZFtT3r7g           0\n",
       " \n",
       " [1098 rows x 4 columns],\n",
       "                  business_id     score                 user_id  real_label\n",
       " 0     -fs09akgCKv5rTTy7iUHUg  5.063854  -RYue2CCuEcmwZPb9g-gPw           0\n",
       " 1     KTGEa8V9ec0QBYM_uk1YLQ  5.050519  -RYue2CCuEcmwZPb9g-gPw           0\n",
       " 2     zLm2PaYrpHkcr63ekwvtBQ  5.028228  -RYue2CCuEcmwZPb9g-gPw           0\n",
       " 3     8ZCpyx-U-dEJyNZBWiC3mA  5.012096  -RYue2CCuEcmwZPb9g-gPw           0\n",
       " 4     5tK4y67IUn3eDd3S1bka9Q  4.994091  -RYue2CCuEcmwZPb9g-gPw           0\n",
       " ...                      ...       ...                     ...         ...\n",
       " 997   DXNKGOCVmFP5iU8owhK2Fw  4.564638  -RYue2CCuEcmwZPb9g-gPw           0\n",
       " 998   YND7GKaMOCbkz-pH90CVFA  4.564602  -RYue2CCuEcmwZPb9g-gPw           0\n",
       " 999   Yz0fJyBkUF8VZBvwFswkRQ  4.564596  -RYue2CCuEcmwZPb9g-gPw           0\n",
       " 1000  eMdE9Jofj5_8A_53ELnP8A  4.564579  -RYue2CCuEcmwZPb9g-gPw           0\n",
       " 1001  K-GDGw99i_mM-lcyMYon1g  4.564157  -RYue2CCuEcmwZPb9g-gPw           0\n",
       " \n",
       " [1002 rows x 4 columns],\n",
       "                  business_id     score                 user_id  real_label\n",
       " 0     -fs09akgCKv5rTTy7iUHUg  5.071891  -Rz2eMhH3z5XT5vZNkA2XQ           0\n",
       " 1     KTGEa8V9ec0QBYM_uk1YLQ  5.058557  -Rz2eMhH3z5XT5vZNkA2XQ           0\n",
       " 2     o_N7HiU3f6cVvrJAFrE43A  5.044356  -Rz2eMhH3z5XT5vZNkA2XQ           0\n",
       " 3     zLm2PaYrpHkcr63ekwvtBQ  5.036266  -Rz2eMhH3z5XT5vZNkA2XQ           0\n",
       " 4     8ZCpyx-U-dEJyNZBWiC3mA  5.020125  -Rz2eMhH3z5XT5vZNkA2XQ           0\n",
       " ...                      ...       ...                     ...         ...\n",
       " 1028  CBWmYHLgtFrOJs7SCcQn0g  4.580334  -Rz2eMhH3z5XT5vZNkA2XQ           0\n",
       " 1029  CBWmYHLgtFrOJs7SCcQn0g  4.580334  -Rz2eMhH3z5XT5vZNkA2XQ           0\n",
       " 1030  tyDEseGSr6NIsk7S63uMqA  4.580052  -Rz2eMhH3z5XT5vZNkA2XQ           0\n",
       " 1031  da_jniSpqeo9Z6FLCCh4jQ  4.580048  -Rz2eMhH3z5XT5vZNkA2XQ           0\n",
       " 1032  pN4bu3X4Upie2fc9H7BY7Q  4.579744  -Rz2eMhH3z5XT5vZNkA2XQ           0\n",
       " \n",
       " [1033 rows x 4 columns],\n",
       "                  business_id     score                 user_id  real_label\n",
       " 0     -fs09akgCKv5rTTy7iUHUg  5.121843  -SO_K8oLVH_9J23z2MtjGg           0\n",
       " 1     KTGEa8V9ec0QBYM_uk1YLQ  5.108596  -SO_K8oLVH_9J23z2MtjGg           0\n",
       " 2     o_N7HiU3f6cVvrJAFrE43A  5.094331  -SO_K8oLVH_9J23z2MtjGg           0\n",
       " 3     zLm2PaYrpHkcr63ekwvtBQ  5.086306  -SO_K8oLVH_9J23z2MtjGg           0\n",
       " 4     8ZCpyx-U-dEJyNZBWiC3mA  5.070077  -SO_K8oLVH_9J23z2MtjGg           0\n",
       " ...                      ...       ...                     ...         ...\n",
       " 1014  TeVMFL7ZmZy8145Qquc2Tg  4.621286  -SO_K8oLVH_9J23z2MtjGg           0\n",
       " 1015  g3xvwZPyW95KThnc7tN79w  4.621223  -SO_K8oLVH_9J23z2MtjGg           0\n",
       " 1016  vvGrGn6eo-K_W5h96Pyslw  4.620913  -SO_K8oLVH_9J23z2MtjGg           0\n",
       " 1017  3Cqy4d5KcGVmgiHFi4O4zQ  4.620683  -SO_K8oLVH_9J23z2MtjGg           0\n",
       " 1018  v5hCB55uWA97qj_Ww8DHqw  4.620669  -SO_K8oLVH_9J23z2MtjGg           0\n",
       " \n",
       " [1019 rows x 4 columns],\n",
       "                  business_id     score                 user_id  real_label\n",
       " 0     -fs09akgCKv5rTTy7iUHUg  3.936080  -SPQHNQUDaoKg93u6gf1Dw           0\n",
       " 1     KTGEa8V9ec0QBYM_uk1YLQ  3.921719  -SPQHNQUDaoKg93u6gf1Dw           0\n",
       " 2     o_N7HiU3f6cVvrJAFrE43A  3.912833  -SPQHNQUDaoKg93u6gf1Dw           0\n",
       " 3     5tK4y67IUn3eDd3S1bka9Q  3.883295  -SPQHNQUDaoKg93u6gf1Dw           0\n",
       " 4     XJvOamdhTQI65jmzTfreDQ  3.854961  -SPQHNQUDaoKg93u6gf1Dw           0\n",
       " ...                      ...       ...                     ...         ...\n",
       " 1051  23qO8FxRwjfmkDqCK-HfLw  3.268133  -SPQHNQUDaoKg93u6gf1Dw           0\n",
       " 1052  1vN178lXfJ77EmFRBYzteg  3.267869  -SPQHNQUDaoKg93u6gf1Dw           0\n",
       " 1053  NcrvG-VdwRlFJ_IHaL4W7Q  3.267604  -SPQHNQUDaoKg93u6gf1Dw           0\n",
       " 1054  fgfpRmXyM6iKaiX8mfA-5g  3.267022  -SPQHNQUDaoKg93u6gf1Dw           0\n",
       " 1055  dfoptDebFhEZCZwFxuZ6_w  3.266940  -SPQHNQUDaoKg93u6gf1Dw           0\n",
       " \n",
       " [1056 rows x 4 columns],\n",
       "                  business_id     score                 user_id  real_label\n",
       " 0     -fs09akgCKv5rTTy7iUHUg  5.095005  -STTav3LzAbTumgncDdMVg           0\n",
       " 1     ctHjyadbDQAtUFfkcAFEHw  5.084643  -STTav3LzAbTumgncDdMVg           0\n",
       " 2     KTGEa8V9ec0QBYM_uk1YLQ  5.081695  -STTav3LzAbTumgncDdMVg           0\n",
       " 3     zLm2PaYrpHkcr63ekwvtBQ  5.059404  -STTav3LzAbTumgncDdMVg           0\n",
       " 4     8ZCpyx-U-dEJyNZBWiC3mA  5.043239  -STTav3LzAbTumgncDdMVg           0\n",
       " ...                      ...       ...                     ...         ...\n",
       " 1082  5xRZFazPsVLZXijsYwR7Ng  4.608617  -STTav3LzAbTumgncDdMVg           0\n",
       " 1083  ehqT-Pek95bMYQKx5_nKsg  4.608585  -STTav3LzAbTumgncDdMVg           0\n",
       " 1084  j8_GtOGBHwOty3nB4k23gA  4.608181  -STTav3LzAbTumgncDdMVg           0\n",
       " 1085  rVzbBAG3BDlx2-OFUOq4MQ  4.608130  -STTav3LzAbTumgncDdMVg           0\n",
       " 1086  bjkA3ustWdg3EsTLRiUNKA  4.607697  -STTav3LzAbTumgncDdMVg           0\n",
       " \n",
       " [1087 rows x 4 columns],\n",
       "                  business_id     score                 user_id  real_label\n",
       " 0     -fs09akgCKv5rTTy7iUHUg  4.612495  -STnJgWqqLiKp8Ny1aVr1w           0\n",
       " 1     8ZCpyx-U-dEJyNZBWiC3mA  4.580436  -STnJgWqqLiKp8Ny1aVr1w           0\n",
       " 2     KTGEa8V9ec0QBYM_uk1YLQ  4.561981  -STnJgWqqLiKp8Ny1aVr1w           0\n",
       " 3     zLm2PaYrpHkcr63ekwvtBQ  4.536909  -STnJgWqqLiKp8Ny1aVr1w           0\n",
       " 4     5tK4y67IUn3eDd3S1bka9Q  4.519477  -STnJgWqqLiKp8Ny1aVr1w           0\n",
       " ...                      ...       ...                     ...         ...\n",
       " 1046  wDIoXmmJ2Pfc_OebquhIYw  3.964021  -STnJgWqqLiKp8Ny1aVr1w           0\n",
       " 1047  081vVr80-uscqGGaFAxKfQ  3.964010  -STnJgWqqLiKp8Ny1aVr1w           0\n",
       " 1048  ks3wzyjYONFusrJ4O4YL-w  3.963729  -STnJgWqqLiKp8Ny1aVr1w           0\n",
       " 1049  kvb0a9FiFs9UXWxE6q-5DA  3.963501  -STnJgWqqLiKp8Ny1aVr1w           0\n",
       " 1050  WWbrvdfiqWsNaNu0N9Qe2Q  3.963490  -STnJgWqqLiKp8Ny1aVr1w           0\n",
       " \n",
       " [1051 rows x 4 columns],\n",
       "                  business_id     score                 user_id  real_label\n",
       " 0     -fs09akgCKv5rTTy7iUHUg  4.917693  -SVZFeUaNFgicSsYlyDR0A           0\n",
       " 1     KTGEa8V9ec0QBYM_uk1YLQ  4.874899  -SVZFeUaNFgicSsYlyDR0A           0\n",
       " 2     zLm2PaYrpHkcr63ekwvtBQ  4.861347  -SVZFeUaNFgicSsYlyDR0A           0\n",
       " 3     8ZCpyx-U-dEJyNZBWiC3mA  4.859041  -SVZFeUaNFgicSsYlyDR0A           0\n",
       " 4     5tK4y67IUn3eDd3S1bka9Q  4.845205  -SVZFeUaNFgicSsYlyDR0A           0\n",
       " ...                      ...       ...                     ...         ...\n",
       " 1052  gdDUtIhG4tTshh2LbpfMfQ  4.387257  -SVZFeUaNFgicSsYlyDR0A           0\n",
       " 1053  HUKrpwmcMlwPbDF5cz0VkQ  4.387252  -SVZFeUaNFgicSsYlyDR0A           0\n",
       " 1054  tyDEseGSr6NIsk7S63uMqA  4.387070  -SVZFeUaNFgicSsYlyDR0A           0\n",
       " 1055  _qTgNBEvVhcXD1lHksz8RQ  4.387028  -SVZFeUaNFgicSsYlyDR0A           0\n",
       " 1056  aw0aIu0yFA-6wBptI68urg  4.386969  -SVZFeUaNFgicSsYlyDR0A           0\n",
       " \n",
       " [1057 rows x 4 columns],\n",
       "                  business_id     score                 user_id  real_label\n",
       " 0     -fs09akgCKv5rTTy7iUHUg  4.199390  -SdWy2JAjusM1DzF3nkrvA           0\n",
       " 1     KTGEa8V9ec0QBYM_uk1YLQ  4.168322  -SdWy2JAjusM1DzF3nkrvA           0\n",
       " 2     KTGEa8V9ec0QBYM_uk1YLQ  4.168322  -SdWy2JAjusM1DzF3nkrvA           0\n",
       " 3     zLm2PaYrpHkcr63ekwvtBQ  4.151811  -SdWy2JAjusM1DzF3nkrvA           0\n",
       " 4     8ZCpyx-U-dEJyNZBWiC3mA  4.146914  -SdWy2JAjusM1DzF3nkrvA           0\n",
       " ...                      ...       ...                     ...         ...\n",
       " 1031  BFyfkA4u8tmSIvoZmEN00Q  3.661470  -SdWy2JAjusM1DzF3nkrvA           0\n",
       " 1032  gXzd2Ao9NNLqCVUOcevdYQ  3.661391  -SdWy2JAjusM1DzF3nkrvA           0\n",
       " 1033  9KiDjwHiQbHBV6iSTvIz7Q  3.661354  -SdWy2JAjusM1DzF3nkrvA           0\n",
       " 1034  ov1abCcsFw9SP4bmq3kzUg  3.661124  -SdWy2JAjusM1DzF3nkrvA           0\n",
       " 1035  3CFVBCfjdCvESS1ogBv21A  3.661109  -SdWy2JAjusM1DzF3nkrvA           0\n",
       " \n",
       " [1036 rows x 4 columns],\n",
       "                  business_id     score                 user_id  real_label\n",
       " 0     -fs09akgCKv5rTTy7iUHUg  5.027036  -SigNCNItQDtSq27j0t_tw           0\n",
       " 1     KTGEa8V9ec0QBYM_uk1YLQ  5.013701  -SigNCNItQDtSq27j0t_tw           0\n",
       " 2     zLm2PaYrpHkcr63ekwvtBQ  4.991410  -SigNCNItQDtSq27j0t_tw           0\n",
       " 3     8ZCpyx-U-dEJyNZBWiC3mA  4.975308  -SigNCNItQDtSq27j0t_tw           0\n",
       " 4     s7MaEXwDnzUcqG16pG7Wfg  4.959692  -SigNCNItQDtSq27j0t_tw           0\n",
       " ...                      ...       ...                     ...         ...\n",
       " 1054  faReoVCPuY0XUE3CSIVsAg  4.505687  -SigNCNItQDtSq27j0t_tw           0\n",
       " 1055  D1WqtPVxtjMQxH9FsomAXw  4.505255  -SigNCNItQDtSq27j0t_tw           0\n",
       " 1056  _zdARZbZNr4k8AD-SJDCgg  4.505159  -SigNCNItQDtSq27j0t_tw           0\n",
       " 1057  4nNaz6sxw8xv9F-9bqQndg  4.505074  -SigNCNItQDtSq27j0t_tw           0\n",
       " 1058  PQ0QbT5I6V8JvOm0NRFlFw  4.504962  -SigNCNItQDtSq27j0t_tw           0\n",
       " \n",
       " [1059 rows x 4 columns],\n",
       "                  business_id     score                 user_id  real_label\n",
       " 0     -fs09akgCKv5rTTy7iUHUg  5.085869  -TBFZ48Er0nXjSZpG4BmBA           0\n",
       " 1     KTGEa8V9ec0QBYM_uk1YLQ  5.072661  -TBFZ48Er0nXjSZpG4BmBA           0\n",
       " 2     o_N7HiU3f6cVvrJAFrE43A  5.058357  -TBFZ48Er0nXjSZpG4BmBA           0\n",
       " 3     zLm2PaYrpHkcr63ekwvtBQ  5.050378  -TBFZ48Er0nXjSZpG4BmBA           0\n",
       " 4     8ZCpyx-U-dEJyNZBWiC3mA  5.034103  -TBFZ48Er0nXjSZpG4BmBA           0\n",
       " ...                      ...       ...                     ...         ...\n",
       " 1018  j8_GtOGBHwOty3nB4k23gA  4.605144  -TBFZ48Er0nXjSZpG4BmBA           0\n",
       " 1019  SADPX8WX34EQDj_jqtacMw  4.605135  -TBFZ48Er0nXjSZpG4BmBA           0\n",
       " 1020  FcKqZpor9OjdTfoWkaGXuA  4.604822  -TBFZ48Er0nXjSZpG4BmBA           0\n",
       " 1021  yGFkdrYdndizAPymvyq2WQ  4.604729  -TBFZ48Er0nXjSZpG4BmBA           0\n",
       " 1022  IJ8Typa6BGckVuh1jhjy4w  4.604661  -TBFZ48Er0nXjSZpG4BmBA           0\n",
       " \n",
       " [1023 rows x 4 columns],\n",
       "                  business_id     score                 user_id  real_label\n",
       " 0     KTGEa8V9ec0QBYM_uk1YLQ  5.034142  -THLGnsYKu3yQAsy_tt1fw           0\n",
       " 1     8ZCpyx-U-dEJyNZBWiC3mA  4.982763  -THLGnsYKu3yQAsy_tt1fw           0\n",
       " 2     5tK4y67IUn3eDd3S1bka9Q  4.976260  -THLGnsYKu3yQAsy_tt1fw           0\n",
       " 3     Bk6uzC83wbmCHm2i5Uz8OA  4.926958  -THLGnsYKu3yQAsy_tt1fw           0\n",
       " 4     XJvOamdhTQI65jmzTfreDQ  4.921966  -THLGnsYKu3yQAsy_tt1fw           0\n",
       " ...                      ...       ...                     ...         ...\n",
       " 1077  Rw8Zf_snPdZO_B3XFOsJ6w  4.539876  -THLGnsYKu3yQAsy_tt1fw           0\n",
       " 1078  Rw8Zf_snPdZO_B3XFOsJ6w  4.539876  -THLGnsYKu3yQAsy_tt1fw           0\n",
       " 1079  _V9ktNg37MPh7X3MiYXe_Q  4.539694  -THLGnsYKu3yQAsy_tt1fw           0\n",
       " 1080  TXg82zeFo2MpX5BzZXpJUg  4.539683  -THLGnsYKu3yQAsy_tt1fw           0\n",
       " 1081  QjPk-rOqaiWlZ1KQeJpQ2w  4.539600  -THLGnsYKu3yQAsy_tt1fw           0\n",
       " \n",
       " [1082 rows x 4 columns],\n",
       "                  business_id     score                 user_id  real_label\n",
       " 0     ytynqOUb3hjKeJfRj5Tshw  5.143130  -TLXQfY2lZ6DVWQj4BosxQ           0\n",
       " 1     ytynqOUb3hjKeJfRj5Tshw  5.143130  -TLXQfY2lZ6DVWQj4BosxQ           0\n",
       " 2     -fs09akgCKv5rTTy7iUHUg  5.133430  -TLXQfY2lZ6DVWQj4BosxQ           0\n",
       " 3     -fs09akgCKv5rTTy7iUHUg  5.133430  -TLXQfY2lZ6DVWQj4BosxQ           0\n",
       " 4     TE2IEDNV0RcI6s1wTOP4fg  5.123601  -TLXQfY2lZ6DVWQj4BosxQ           0\n",
       " ...                      ...       ...                     ...         ...\n",
       " 1144  2zocwC7qMq3LsivPn9Z-Eg  4.611221  -TLXQfY2lZ6DVWQj4BosxQ           0\n",
       " 1145  kcSS8bKAokzVOuAQwwSNjw  4.611201  -TLXQfY2lZ6DVWQj4BosxQ           0\n",
       " 1146  7VpTJyMcAnEA-Y6vj0XV4w  4.610980  -TLXQfY2lZ6DVWQj4BosxQ           0\n",
       " 1147  3cT6KPlkOQGZv2Lk7p9_1A  4.610895  -TLXQfY2lZ6DVWQj4BosxQ           0\n",
       " 1148  _Rj-WaJMlpdhM3hNzrjgoQ  4.610830  -TLXQfY2lZ6DVWQj4BosxQ           0\n",
       " \n",
       " [1149 rows x 4 columns],\n",
       "                  business_id     score                 user_id  real_label\n",
       " 0     -fs09akgCKv5rTTy7iUHUg  4.594666  -TWmOCrqnTwfO5k04S3QrA           0\n",
       " 1     KTGEa8V9ec0QBYM_uk1YLQ  4.564014  -TWmOCrqnTwfO5k04S3QrA           0\n",
       " 2     zLm2PaYrpHkcr63ekwvtBQ  4.555083  -TWmOCrqnTwfO5k04S3QrA           0\n",
       " 3     o_N7HiU3f6cVvrJAFrE43A  4.554419  -TWmOCrqnTwfO5k04S3QrA           0\n",
       " 4     u3zqvp4BYUjzJD7tzx3Jbg  4.525968  -TWmOCrqnTwfO5k04S3QrA           0\n",
       " ...                      ...       ...                     ...         ...\n",
       " 999   xy2FTOvVeVhkJQ2ilU8bBA  4.239483  -TWmOCrqnTwfO5k04S3QrA           0\n",
       " 1000  yD6cXmbmhRxcd3Y84Ry5wA  4.239419  -TWmOCrqnTwfO5k04S3QrA           0\n",
       " 1001  3hjqPKtLvEtcOxaUHkz_RA  4.239096  -TWmOCrqnTwfO5k04S3QrA           0\n",
       " 1002  n21fc5CLn8_8udVG6SSz9g  4.239091  -TWmOCrqnTwfO5k04S3QrA           0\n",
       " 1003  081vVr80-uscqGGaFAxKfQ  4.239014  -TWmOCrqnTwfO5k04S3QrA           0\n",
       " \n",
       " [1004 rows x 4 columns],\n",
       "                  business_id     score                 user_id  real_label\n",
       " 0     -fs09akgCKv5rTTy7iUHUg  3.910035  -TbX3AYOIEyo6-b67MT8eA           0\n",
       " 1     RFo876v_A63N2JfOTq1p-g  3.903444  -TbX3AYOIEyo6-b67MT8eA           0\n",
       " 2     o_N7HiU3f6cVvrJAFrE43A  3.883533  -TbX3AYOIEyo6-b67MT8eA           0\n",
       " 3     Y93S8ZVnOhXQTkWZQEU5yg  3.880485  -TbX3AYOIEyo6-b67MT8eA           0\n",
       " 4     5tK4y67IUn3eDd3S1bka9Q  3.864519  -TbX3AYOIEyo6-b67MT8eA           0\n",
       " ...                      ...       ...                     ...         ...\n",
       " 1002  tc6jKQiRjFO2M7BylwHVrg  3.126266  -TbX3AYOIEyo6-b67MT8eA           0\n",
       " 1003  tc6jKQiRjFO2M7BylwHVrg  3.126266  -TbX3AYOIEyo6-b67MT8eA           0\n",
       " 1004  VD2jA3aLp8MfR8BiWWKs0w  3.125877  -TbX3AYOIEyo6-b67MT8eA           0\n",
       " 1005  JdgjYRNv-JAR-JjLvXOhNg  3.125705  -TbX3AYOIEyo6-b67MT8eA           0\n",
       " 1006  M6qDX8HZS7gOJ_pBOAih1g  3.125637  -TbX3AYOIEyo6-b67MT8eA           0\n",
       " \n",
       " [1007 rows x 4 columns],\n",
       "                  business_id     score                 user_id  real_label\n",
       " 0     -fs09akgCKv5rTTy7iUHUg  4.578997  -TcZ82WJnqdH9CbTuxuU6Q           0\n",
       " 1     KTGEa8V9ec0QBYM_uk1YLQ  4.535741  -TcZ82WJnqdH9CbTuxuU6Q           0\n",
       " 2     8ZCpyx-U-dEJyNZBWiC3mA  4.535575  -TcZ82WJnqdH9CbTuxuU6Q           0\n",
       " 3     5tK4y67IUn3eDd3S1bka9Q  4.488516  -TcZ82WJnqdH9CbTuxuU6Q           0\n",
       " 4     i7_3lQzM5SP8Cc2YT-X3BA  4.464510  -TcZ82WJnqdH9CbTuxuU6Q           0\n",
       " ...                      ...       ...                     ...         ...\n",
       " 1086  zbSTmUUH27ef3ejK6h7mdQ  3.951366  -TcZ82WJnqdH9CbTuxuU6Q           0\n",
       " 1087  Pc0EkfiyuIw9NGBC4p8gpw  3.951334  -TcZ82WJnqdH9CbTuxuU6Q           0\n",
       " 1088  UpoQYI2d03qy8R82VCRnQg  3.951262  -TcZ82WJnqdH9CbTuxuU6Q           0\n",
       " 1089  Owo5es5l2zcGq9e9T1sgIg  3.951085  -TcZ82WJnqdH9CbTuxuU6Q           0\n",
       " 1090  wvNFqRE-zEb95tMHcl4Wjw  3.951081  -TcZ82WJnqdH9CbTuxuU6Q           0\n",
       " \n",
       " [1091 rows x 4 columns],\n",
       "                 business_id     score                 user_id  real_label\n",
       " 0    -fs09akgCKv5rTTy7iUHUg  4.953172  -TetRsooVLNhPxJ8MPErhQ           0\n",
       " 1    KTGEa8V9ec0QBYM_uk1YLQ  4.939837  -TetRsooVLNhPxJ8MPErhQ           0\n",
       " 2    o_N7HiU3f6cVvrJAFrE43A  4.925637  -TetRsooVLNhPxJ8MPErhQ           0\n",
       " 3    zLm2PaYrpHkcr63ekwvtBQ  4.917546  -TetRsooVLNhPxJ8MPErhQ           0\n",
       " 4    8ZCpyx-U-dEJyNZBWiC3mA  4.901410  -TetRsooVLNhPxJ8MPErhQ           0\n",
       " ..                      ...       ...                     ...         ...\n",
       " 995  etaMJK4AFye6FH31KRs5vw  4.465070  -TetRsooVLNhPxJ8MPErhQ           0\n",
       " 996  pN4bu3X4Upie2fc9H7BY7Q  4.464677  -TetRsooVLNhPxJ8MPErhQ           0\n",
       " 997  SADPX8WX34EQDj_jqtacMw  4.464655  -TetRsooVLNhPxJ8MPErhQ           0\n",
       " 998  K7vvEwRd6Y8gRftjeuASuQ  4.464599  -TetRsooVLNhPxJ8MPErhQ           0\n",
       " 999  5srKt6H8Y1Ko80hboucZEg  4.464483  -TetRsooVLNhPxJ8MPErhQ           0\n",
       " \n",
       " [1000 rows x 4 columns],\n",
       "                  business_id     score                 user_id  real_label\n",
       " 0     o_N7HiU3f6cVvrJAFrE43A  5.091350  -Tg5YTEMbnYw3fQN99xKCQ           0\n",
       " 1     Y93S8ZVnOhXQTkWZQEU5yg  5.072243  -Tg5YTEMbnYw3fQN99xKCQ           0\n",
       " 2     5tK4y67IUn3eDd3S1bka9Q  5.046637  -Tg5YTEMbnYw3fQN99xKCQ           0\n",
       " 3     ctHjyadbDQAtUFfkcAFEHw  5.012133  -Tg5YTEMbnYw3fQN99xKCQ           0\n",
       " 4     NnlQhXtuVOVjUFYB1Hqp8Q  5.004347  -Tg5YTEMbnYw3fQN99xKCQ           0\n",
       " ...                      ...       ...                     ...         ...\n",
       " 1027  vf2dlfdopFlerxozUwgPDg  4.539192  -Tg5YTEMbnYw3fQN99xKCQ           0\n",
       " 1028  QQHYGzspSIURR9Uw5jv5aA  4.538801  -Tg5YTEMbnYw3fQN99xKCQ           0\n",
       " 1029  Dgbhms2bctcCSEnlK3T79g  4.538752  -Tg5YTEMbnYw3fQN99xKCQ           0\n",
       " 1030  rO8NE085Kt_2_QkWtw6S7g  4.538575  -Tg5YTEMbnYw3fQN99xKCQ           0\n",
       " 1031  lJgWsPns_CmqCD5CDAfb7w  4.538518  -Tg5YTEMbnYw3fQN99xKCQ           0\n",
       " \n",
       " [1032 rows x 4 columns],\n",
       "                  business_id     score                 user_id  real_label\n",
       " 0     -fs09akgCKv5rTTy7iUHUg  5.014068  -TvuLEPjoqQBK3pffL62iw           0\n",
       " 1     KTGEa8V9ec0QBYM_uk1YLQ  5.000763  -TvuLEPjoqQBK3pffL62iw           0\n",
       " 2     zLm2PaYrpHkcr63ekwvtBQ  4.978472  -TvuLEPjoqQBK3pffL62iw           0\n",
       " 3     8ZCpyx-U-dEJyNZBWiC3mA  4.962301  -TvuLEPjoqQBK3pffL62iw           0\n",
       " 4     5tK4y67IUn3eDd3S1bka9Q  4.944335  -TvuLEPjoqQBK3pffL62iw           0\n",
       " ...                      ...       ...                     ...         ...\n",
       " 1065  YrbQ_OrRo-TYHnVw5y4Kew  4.521484  -TvuLEPjoqQBK3pffL62iw           0\n",
       " 1066  Te4yTJ7blab4s_JTAF71Iw  4.521219  -TvuLEPjoqQBK3pffL62iw           0\n",
       " 1067  wc-rqw9ECSGnS45JygdIwQ  4.521214  -TvuLEPjoqQBK3pffL62iw           0\n",
       " 1068  23qO8FxRwjfmkDqCK-HfLw  4.520947  -TvuLEPjoqQBK3pffL62iw           0\n",
       " 1069  kNUdugntWQD8jEB-QNFEjg  4.520914  -TvuLEPjoqQBK3pffL62iw           0\n",
       " \n",
       " [1070 rows x 4 columns],\n",
       "                  business_id     score                 user_id  real_label\n",
       " 0     -fs09akgCKv5rTTy7iUHUg  4.724698  -TxxAxdrASEgYeXTZDSQFw           0\n",
       " 1     o_N7HiU3f6cVvrJAFrE43A  4.698421  -TxxAxdrASEgYeXTZDSQFw           0\n",
       " 2     KTGEa8V9ec0QBYM_uk1YLQ  4.683632  -TxxAxdrASEgYeXTZDSQFw           0\n",
       " 3     Y93S8ZVnOhXQTkWZQEU5yg  4.660791  -TxxAxdrASEgYeXTZDSQFw           0\n",
       " 4     zLm2PaYrpHkcr63ekwvtBQ  4.657679  -TxxAxdrASEgYeXTZDSQFw           0\n",
       " ...                      ...       ...                     ...         ...\n",
       " 1058  nRKndeZLQ3eDL10UMwS2rQ  3.971752  -TxxAxdrASEgYeXTZDSQFw           0\n",
       " 1059  nRKndeZLQ3eDL10UMwS2rQ  3.971752  -TxxAxdrASEgYeXTZDSQFw           0\n",
       " 1060  4nNaz6sxw8xv9F-9bqQndg  3.971731  -TxxAxdrASEgYeXTZDSQFw           0\n",
       " 1061  61NCACGHsNPhbi2DgJAWmg  3.971392  -TxxAxdrASEgYeXTZDSQFw           0\n",
       " 1062  EPMHuTHu46B123ivRIZ-Xg  3.971135  -TxxAxdrASEgYeXTZDSQFw           0\n",
       " \n",
       " [1063 rows x 4 columns],\n",
       "                  business_id     score                 user_id  real_label\n",
       " 0     -fs09akgCKv5rTTy7iUHUg  4.467064  -UCFeI8L3jxJGPoUp8v53Q           0\n",
       " 1     8ZCpyx-U-dEJyNZBWiC3mA  4.447413  -UCFeI8L3jxJGPoUp8v53Q           0\n",
       " 2     KTGEa8V9ec0QBYM_uk1YLQ  4.430659  -UCFeI8L3jxJGPoUp8v53Q           0\n",
       " 3     zLm2PaYrpHkcr63ekwvtBQ  4.410671  -UCFeI8L3jxJGPoUp8v53Q           0\n",
       " 4     u3zqvp4BYUjzJD7tzx3Jbg  4.390207  -UCFeI8L3jxJGPoUp8v53Q           0\n",
       " ...                      ...       ...                     ...         ...\n",
       " 1052  vQNRMrVD7tQTCmYkYBMLyQ  3.878487  -UCFeI8L3jxJGPoUp8v53Q           0\n",
       " 1053  mdSjI3ig48WS_jLJ6Vxq0A  3.878476  -UCFeI8L3jxJGPoUp8v53Q           0\n",
       " 1054  iOKdzs-arrM9Jv4TKz5M1Q  3.878059  -UCFeI8L3jxJGPoUp8v53Q           0\n",
       " 1055  ey7l85BLjciV0hf4fRsH1g  3.877892  -UCFeI8L3jxJGPoUp8v53Q           0\n",
       " 1056  bgHVKRpZ6xotlAuw9VSLZQ  3.877456  -UCFeI8L3jxJGPoUp8v53Q           0\n",
       " \n",
       " [1057 rows x 4 columns],\n",
       "                  business_id     score                 user_id  real_label\n",
       " 0     rv1KUBVNQkJ5WUQb49dU0Q  4.745720  -UFatZoBJhGLAJ8i9Uva7g           0\n",
       " 1     mZlz6wq17Vl0wEokdpPdWg  4.739883  -UFatZoBJhGLAJ8i9Uva7g           0\n",
       " 2     vpNJJNVgVmf2u1lfdFh81w  4.695618  -UFatZoBJhGLAJ8i9Uva7g           0\n",
       " 3     qaDImxPguQz0jToNYvB1Eg  4.688505  -UFatZoBJhGLAJ8i9Uva7g           0\n",
       " 4     1KCG2gzeRa5aHJk6vr8gHA  4.676836  -UFatZoBJhGLAJ8i9Uva7g           0\n",
       " ...                      ...       ...                     ...         ...\n",
       " 1072  it3HFWgbN-c9m5QRWCerhA  4.230120  -UFatZoBJhGLAJ8i9Uva7g           0\n",
       " 1073  deWhFgwgU3F11jYMJk8n3Q  4.229724  -UFatZoBJhGLAJ8i9Uva7g           0\n",
       " 1074  GeYJd8ohBroFO0GVVwxi6Q  4.229519  -UFatZoBJhGLAJ8i9Uva7g           0\n",
       " 1075  C-vLmhoVkHeWumh3tl_ltA  4.229208  -UFatZoBJhGLAJ8i9Uva7g           0\n",
       " 1076  hOVphvLElFBXKDArFRgUvQ  4.229200  -UFatZoBJhGLAJ8i9Uva7g           0\n",
       " \n",
       " [1077 rows x 4 columns],\n",
       "                  business_id     score                 user_id  real_label\n",
       " 0     RFo876v_A63N2JfOTq1p-g  4.321374  -UHtM2GTnzaJ0XYaYLXi9w           0\n",
       " 1     -fs09akgCKv5rTTy7iUHUg  4.320239  -UHtM2GTnzaJ0XYaYLXi9w           0\n",
       " 2     KTGEa8V9ec0QBYM_uk1YLQ  4.294976  -UHtM2GTnzaJ0XYaYLXi9w           0\n",
       " 3     o_N7HiU3f6cVvrJAFrE43A  4.281155  -UHtM2GTnzaJ0XYaYLXi9w           0\n",
       " 4     Y93S8ZVnOhXQTkWZQEU5yg  4.278757  -UHtM2GTnzaJ0XYaYLXi9w           0\n",
       " ...                      ...       ...                     ...         ...\n",
       " 1114  OwAX9v-cn1kXptUmt2oIaw  3.789963  -UHtM2GTnzaJ0XYaYLXi9w           0\n",
       " 1115  uvRatMC-cQA8cq1nnPWknQ  3.789893  -UHtM2GTnzaJ0XYaYLXi9w           0\n",
       " 1116  kt_bKY8w2LLCHPd47GibOw  3.789651  -UHtM2GTnzaJ0XYaYLXi9w           0\n",
       " 1117  VJ2BIGD9Q-vyE960n-4-dA  3.789304  -UHtM2GTnzaJ0XYaYLXi9w           0\n",
       " 1118  3CFVBCfjdCvESS1ogBv21A  3.789279  -UHtM2GTnzaJ0XYaYLXi9w           0\n",
       " \n",
       " [1119 rows x 4 columns],\n",
       "                  business_id     score                 user_id  real_label\n",
       " 0     -fs09akgCKv5rTTy7iUHUg  5.020124  -UWOlq9KZDTot0HGikmDNA           0\n",
       " 1     KTGEa8V9ec0QBYM_uk1YLQ  5.006789  -UWOlq9KZDTot0HGikmDNA           0\n",
       " 2     o_N7HiU3f6cVvrJAFrE43A  4.992589  -UWOlq9KZDTot0HGikmDNA           0\n",
       " 3     zLm2PaYrpHkcr63ekwvtBQ  4.984499  -UWOlq9KZDTot0HGikmDNA           0\n",
       " 4     8ZCpyx-U-dEJyNZBWiC3mA  4.968371  -UWOlq9KZDTot0HGikmDNA           0\n",
       " ...                      ...       ...                     ...         ...\n",
       " 1049  jqwyo1FM7U7kAXmTzeOTUg  4.542962  -UWOlq9KZDTot0HGikmDNA           0\n",
       " 1050  tkY5BJVXxUmP4jsKavkf2g  4.542502  -UWOlq9KZDTot0HGikmDNA           0\n",
       " 1051  tkY5BJVXxUmP4jsKavkf2g  4.542502  -UWOlq9KZDTot0HGikmDNA           0\n",
       " 1052  RaJrxyqjgEh_1bhCLtP6oA  4.542444  -UWOlq9KZDTot0HGikmDNA           0\n",
       " 1053  N1GYsCd5QAchGOCeQ37J9g  4.542218  -UWOlq9KZDTot0HGikmDNA           0\n",
       " \n",
       " [1054 rows x 4 columns],\n",
       "                 business_id     score                 user_id  real_label\n",
       " 0    -fs09akgCKv5rTTy7iUHUg  4.889749  -U_Qa-rP59Xia19dTqZNIA           0\n",
       " 1    KTGEa8V9ec0QBYM_uk1YLQ  4.876413  -U_Qa-rP59Xia19dTqZNIA           0\n",
       " 2    zLm2PaYrpHkcr63ekwvtBQ  4.854123  -U_Qa-rP59Xia19dTqZNIA           0\n",
       " 3    8ZCpyx-U-dEJyNZBWiC3mA  4.837997  -U_Qa-rP59Xia19dTqZNIA           0\n",
       " 4    5tK4y67IUn3eDd3S1bka9Q  4.819985  -U_Qa-rP59Xia19dTqZNIA           0\n",
       " ..                      ...       ...                     ...         ...\n",
       " 995  M1hsyjJDdQQeNP164FJ1pA  4.385331  -U_Qa-rP59Xia19dTqZNIA           0\n",
       " 996  zdv6HmtViGmQn4PVk9bAWQ  4.385263  -U_Qa-rP59Xia19dTqZNIA           0\n",
       " 997  9V0LMtO1riRw9-pUuG4NFg  4.385154  -U_Qa-rP59Xia19dTqZNIA           0\n",
       " 998  dDMJ-H6e_RvoxwoXai79Rw  4.384968  -U_Qa-rP59Xia19dTqZNIA           0\n",
       " 999  Qc8GIJyfarIaakj98zwckw  4.384596  -U_Qa-rP59Xia19dTqZNIA           0\n",
       " \n",
       " [1000 rows x 4 columns],\n",
       "                  business_id     score                 user_id  real_label\n",
       " 0     -fs09akgCKv5rTTy7iUHUg  4.897307  -Ub6sTS9u9scC5y_85l8xg           0\n",
       " 1     KTGEa8V9ec0QBYM_uk1YLQ  4.883972  -Ub6sTS9u9scC5y_85l8xg           0\n",
       " 2     8ZCpyx-U-dEJyNZBWiC3mA  4.845554  -Ub6sTS9u9scC5y_85l8xg           0\n",
       " 3     5tK4y67IUn3eDd3S1bka9Q  4.827545  -Ub6sTS9u9scC5y_85l8xg           0\n",
       " 4     rQ2CSHRkZSn5WCu7OfVI-Q  4.803695  -Ub6sTS9u9scC5y_85l8xg           0\n",
       " ...                      ...       ...                     ...         ...\n",
       " 1024  gWgsRIYJXIyaY-xSY_1GlA  4.395228  -Ub6sTS9u9scC5y_85l8xg           0\n",
       " 1025  gWgsRIYJXIyaY-xSY_1GlA  4.395228  -Ub6sTS9u9scC5y_85l8xg           0\n",
       " 1026  BOjpe0u5u_cm9SWMS2KLFg  4.395211  -Ub6sTS9u9scC5y_85l8xg           0\n",
       " 1027  HUKrpwmcMlwPbDF5cz0VkQ  4.395082  -Ub6sTS9u9scC5y_85l8xg           0\n",
       " 1028  c6GTImF01z981_BNJIye2g  4.394919  -Ub6sTS9u9scC5y_85l8xg           0\n",
       " \n",
       " [1029 rows x 4 columns],\n",
       "                  business_id     score                 user_id  real_label\n",
       " 0     -fs09akgCKv5rTTy7iUHUg  5.152494  -UrDuRNdwbYuF7FFEYEkng           0\n",
       " 1     KTGEa8V9ec0QBYM_uk1YLQ  5.139244  -UrDuRNdwbYuF7FFEYEkng           0\n",
       " 2     o_N7HiU3f6cVvrJAFrE43A  5.124982  -UrDuRNdwbYuF7FFEYEkng           0\n",
       " 3     8ZCpyx-U-dEJyNZBWiC3mA  5.100729  -UrDuRNdwbYuF7FFEYEkng           0\n",
       " 4     5tK4y67IUn3eDd3S1bka9Q  5.082816  -UrDuRNdwbYuF7FFEYEkng           0\n",
       " ...                      ...       ...                     ...         ...\n",
       " 1034  ROnkVXPz5jRlMQvLw05UEA  4.636633  -UrDuRNdwbYuF7FFEYEkng           0\n",
       " 1035  ROnkVXPz5jRlMQvLw05UEA  4.636633  -UrDuRNdwbYuF7FFEYEkng           0\n",
       " 1036  RfiLVnVNamfRZMIffZ4-ig  4.636137  -UrDuRNdwbYuF7FFEYEkng           0\n",
       " 1037  HNMN7NhEvA64Z0FDEA2Twg  4.635958  -UrDuRNdwbYuF7FFEYEkng           0\n",
       " 1038  mCKkfHKBhAUanBoHzys7hQ  4.635898  -UrDuRNdwbYuF7FFEYEkng           0\n",
       " \n",
       " [1039 rows x 4 columns],\n",
       "                  business_id     score                 user_id  real_label\n",
       " 0     -fs09akgCKv5rTTy7iUHUg  4.809895  -Urzw-AhJm9yCsRbX_x2zw           0\n",
       " 1     KTGEa8V9ec0QBYM_uk1YLQ  4.767101  -Urzw-AhJm9yCsRbX_x2zw           0\n",
       " 2     8ZCpyx-U-dEJyNZBWiC3mA  4.751185  -Urzw-AhJm9yCsRbX_x2zw           0\n",
       " 3     5tK4y67IUn3eDd3S1bka9Q  4.737408  -Urzw-AhJm9yCsRbX_x2zw           0\n",
       " 4     XJvOamdhTQI65jmzTfreDQ  4.692962  -Urzw-AhJm9yCsRbX_x2zw           0\n",
       " ...                      ...       ...                     ...         ...\n",
       " 1065  g3xvwZPyW95KThnc7tN79w  4.270075  -Urzw-AhJm9yCsRbX_x2zw           0\n",
       " 1066  jE7PpEUmWgcBc0DeelPAOA  4.270061  -Urzw-AhJm9yCsRbX_x2zw           0\n",
       " 1067  wv3pQnSxA3sR6QqBova-xA  4.269688  -Urzw-AhJm9yCsRbX_x2zw           0\n",
       " 1068  5RzJ2bjU8bLSaN5SuiUpYA  4.269630  -Urzw-AhJm9yCsRbX_x2zw           0\n",
       " 1069  hA8c2kWI_8DXZE1jyVxlBQ  4.269356  -Urzw-AhJm9yCsRbX_x2zw           0\n",
       " \n",
       " [1070 rows x 4 columns],\n",
       "                  business_id     score                 user_id  real_label\n",
       " 0     -fs09akgCKv5rTTy7iUHUg  4.949588  -UxpAbsTDDUE0EPh7T-Vzg           0\n",
       " 1     o_N7HiU3f6cVvrJAFrE43A  4.923803  -UxpAbsTDDUE0EPh7T-Vzg           0\n",
       " 2     KTGEa8V9ec0QBYM_uk1YLQ  4.906794  -UxpAbsTDDUE0EPh7T-Vzg           0\n",
       " 3     zLm2PaYrpHkcr63ekwvtBQ  4.891618  -UxpAbsTDDUE0EPh7T-Vzg           0\n",
       " 4     8ZCpyx-U-dEJyNZBWiC3mA  4.890871  -UxpAbsTDDUE0EPh7T-Vzg           0\n",
       " ...                      ...       ...                     ...         ...\n",
       " 1002  mlgewa5y_a_AxVTamXGemA  4.412563  -UxpAbsTDDUE0EPh7T-Vzg           0\n",
       " 1003  mfeh5dG324bY868LDz2TtA  4.412519  -UxpAbsTDDUE0EPh7T-Vzg           0\n",
       " 1004  _qTgNBEvVhcXD1lHksz8RQ  4.412469  -UxpAbsTDDUE0EPh7T-Vzg           0\n",
       " 1005  HUKrpwmcMlwPbDF5cz0VkQ  4.412107  -UxpAbsTDDUE0EPh7T-Vzg           0\n",
       " 1006  -4mDMBfT6N0d-VIUTKVaLg  4.412085  -UxpAbsTDDUE0EPh7T-Vzg           0\n",
       " \n",
       " [1007 rows x 4 columns],\n",
       "                  business_id     score                 user_id  real_label\n",
       " 0     -fs09akgCKv5rTTy7iUHUg  5.024282  -V7frksbFjKQYVhrPnnlPw           0\n",
       " 1     KTGEa8V9ec0QBYM_uk1YLQ  5.005810  -V7frksbFjKQYVhrPnnlPw           0\n",
       " 2     zLm2PaYrpHkcr63ekwvtBQ  4.991772  -V7frksbFjKQYVhrPnnlPw           0\n",
       " 3     8ZCpyx-U-dEJyNZBWiC3mA  4.962219  -V7frksbFjKQYVhrPnnlPw           0\n",
       " 4     5tK4y67IUn3eDd3S1bka9Q  4.948071  -V7frksbFjKQYVhrPnnlPw           0\n",
       " ...                      ...       ...                     ...         ...\n",
       " 1027  7zUeYb7Z1Gp93a5B5Zwi0Q  4.540321  -V7frksbFjKQYVhrPnnlPw           0\n",
       " 1028  CBWmYHLgtFrOJs7SCcQn0g  4.540240  -V7frksbFjKQYVhrPnnlPw           0\n",
       " 1029  rcJnKmhgSPb8BmK3d6AZYQ  4.540232  -V7frksbFjKQYVhrPnnlPw           0\n",
       " 1030  TeVMFL7ZmZy8145Qquc2Tg  4.540121  -V7frksbFjKQYVhrPnnlPw           0\n",
       " 1031  YMei9hfoUxI3sDie4M2IWA  4.539969  -V7frksbFjKQYVhrPnnlPw           0\n",
       " \n",
       " [1032 rows x 4 columns],\n",
       "                  business_id     score                 user_id  real_label\n",
       " 0     -fs09akgCKv5rTTy7iUHUg  4.979692  -VJPD_9RgP61Cfn-WKyx0Q           0\n",
       " 1     KTGEa8V9ec0QBYM_uk1YLQ  4.966365  -VJPD_9RgP61Cfn-WKyx0Q           0\n",
       " 2     KTGEa8V9ec0QBYM_uk1YLQ  4.966365  -VJPD_9RgP61Cfn-WKyx0Q           0\n",
       " 3     o_N7HiU3f6cVvrJAFrE43A  4.952166  -VJPD_9RgP61Cfn-WKyx0Q           0\n",
       " 4     ctHjyadbDQAtUFfkcAFEHw  4.930660  -VJPD_9RgP61Cfn-WKyx0Q           0\n",
       " ...                      ...       ...                     ...         ...\n",
       " 1079  v5hCB55uWA97qj_Ww8DHqw  4.478553  -VJPD_9RgP61Cfn-WKyx0Q           0\n",
       " 1080  JgZAaY3VzFZRivp5bAs0Yw  4.477995  -VJPD_9RgP61Cfn-WKyx0Q           0\n",
       " 1081  xicrRwfMBkDfQlFaGoyC5g  4.477876  -VJPD_9RgP61Cfn-WKyx0Q           0\n",
       " 1082  HO1KJ6Jwk3sU_UTIJGOLDA  4.477458  -VJPD_9RgP61Cfn-WKyx0Q           0\n",
       " 1083  Qc8GIJyfarIaakj98zwckw  4.477339  -VJPD_9RgP61Cfn-WKyx0Q           0\n",
       " \n",
       " [1084 rows x 4 columns],\n",
       "                  business_id     score                 user_id  real_label\n",
       " 0     ytynqOUb3hjKeJfRj5Tshw  5.284858  -VOCFO1QSCjAxl_0LIrZ9Q           0\n",
       " 1     ytynqOUb3hjKeJfRj5Tshw  5.284858  -VOCFO1QSCjAxl_0LIrZ9Q           0\n",
       " 2     RFo876v_A63N2JfOTq1p-g  5.174932  -VOCFO1QSCjAxl_0LIrZ9Q           0\n",
       " 3     -fs09akgCKv5rTTy7iUHUg  5.173875  -VOCFO1QSCjAxl_0LIrZ9Q           0\n",
       " 4     TE2IEDNV0RcI6s1wTOP4fg  5.165952  -VOCFO1QSCjAxl_0LIrZ9Q           0\n",
       " ...                      ...       ...                     ...         ...\n",
       " 1089  oqbhVgliVJH-iRa3AnD-3A  4.681539  -VOCFO1QSCjAxl_0LIrZ9Q           0\n",
       " 1090  oqbhVgliVJH-iRa3AnD-3A  4.681539  -VOCFO1QSCjAxl_0LIrZ9Q           0\n",
       " 1091  bgHVKRpZ6xotlAuw9VSLZQ  4.681169  -VOCFO1QSCjAxl_0LIrZ9Q           0\n",
       " 1092  ZH-9EoqgN8teKNMuLu434w  4.681050  -VOCFO1QSCjAxl_0LIrZ9Q           0\n",
       " 1093  wc-rqw9ECSGnS45JygdIwQ  4.681022  -VOCFO1QSCjAxl_0LIrZ9Q           0\n",
       " \n",
       " [1094 rows x 4 columns],\n",
       "                 business_id     score                 user_id  real_label\n",
       " 0    -fs09akgCKv5rTTy7iUHUg  4.271042  -W2gwu0MPXHyT_8q61ix8w           0\n",
       " 1    KTGEa8V9ec0QBYM_uk1YLQ  4.237217  -W2gwu0MPXHyT_8q61ix8w           0\n",
       " 2    8ZCpyx-U-dEJyNZBWiC3mA  4.221238  -W2gwu0MPXHyT_8q61ix8w           0\n",
       " 3    o_N7HiU3f6cVvrJAFrE43A  4.220387  -W2gwu0MPXHyT_8q61ix8w           0\n",
       " 4    zLm2PaYrpHkcr63ekwvtBQ  4.219790  -W2gwu0MPXHyT_8q61ix8w           0\n",
       " ..                      ...       ...                     ...         ...\n",
       " 995  eevZhYOfKqMWJIUfFWgZfg  3.713184  -W2gwu0MPXHyT_8q61ix8w           0\n",
       " 996  ha_zdblAV0VfdeOB5cHg-A  3.712999  -W2gwu0MPXHyT_8q61ix8w           0\n",
       " 997  UuR_swydJgdnEHeoXqB_Ww  3.712981  -W2gwu0MPXHyT_8q61ix8w           0\n",
       " 998  -WXmyccE1YUqO3mA3Uu1Xw  3.712931  -W2gwu0MPXHyT_8q61ix8w           0\n",
       " 999  MaaDRJZKSUTAJeF6OTQRnA  3.712873  -W2gwu0MPXHyT_8q61ix8w           0\n",
       " \n",
       " [1000 rows x 4 columns],\n",
       "                  business_id     score                 user_id  real_label\n",
       " 0     -fs09akgCKv5rTTy7iUHUg  4.826484  -WKOdr26Clxm5pIZ_HLSSA           0\n",
       " 1     KTGEa8V9ec0QBYM_uk1YLQ  4.791420  -WKOdr26Clxm5pIZ_HLSSA           0\n",
       " 2     8ZCpyx-U-dEJyNZBWiC3mA  4.774789  -WKOdr26Clxm5pIZ_HLSSA           0\n",
       " 3     5tK4y67IUn3eDd3S1bka9Q  4.756721  -WKOdr26Clxm5pIZ_HLSSA           0\n",
       " 4     u3zqvp4BYUjzJD7tzx3Jbg  4.748865  -WKOdr26Clxm5pIZ_HLSSA           0\n",
       " ...                      ...       ...                     ...         ...\n",
       " 997   LuJf3rdkswqf6GzbuXVtBQ  4.234906  -WKOdr26Clxm5pIZ_HLSSA           0\n",
       " 998   nWyACfz6EBYKRu_MwOdEyA  4.234752  -WKOdr26Clxm5pIZ_HLSSA           0\n",
       " 999   1EDUXBWC6IAZvW-r5BKDGw  4.234433  -WKOdr26Clxm5pIZ_HLSSA           0\n",
       " 1000  mrtFgfT6MgkC8yThcmNWYw  4.234267  -WKOdr26Clxm5pIZ_HLSSA           0\n",
       " 1001  swcfmflnWlhnbvPOHvPq_A  4.233702  -WKOdr26Clxm5pIZ_HLSSA           0\n",
       " \n",
       " [1002 rows x 4 columns],\n",
       "                  business_id     score                 user_id  real_label\n",
       " 0     -fs09akgCKv5rTTy7iUHUg  5.174274  -WM58wLjtlHlR91xVfM1FQ           0\n",
       " 1     KTGEa8V9ec0QBYM_uk1YLQ  5.155802  -WM58wLjtlHlR91xVfM1FQ           0\n",
       " 2     o_N7HiU3f6cVvrJAFrE43A  5.142670  -WM58wLjtlHlR91xVfM1FQ           0\n",
       " 3     zLm2PaYrpHkcr63ekwvtBQ  5.141764  -WM58wLjtlHlR91xVfM1FQ           0\n",
       " 4     8ZCpyx-U-dEJyNZBWiC3mA  5.115923  -WM58wLjtlHlR91xVfM1FQ           0\n",
       " ...                      ...       ...                     ...         ...\n",
       " 1009  j8_GtOGBHwOty3nB4k23gA  4.699386  -WM58wLjtlHlR91xVfM1FQ           0\n",
       " 1010  _n539Sga7PCvHQs--a4qkA  4.699345  -WM58wLjtlHlR91xVfM1FQ           0\n",
       " 1011  qvfkT03PHLf4_Ejs4gtAFQ  4.699128  -WM58wLjtlHlR91xVfM1FQ           0\n",
       " 1012  8W4w1sXXDER5ujjE-cuOFg  4.698944  -WM58wLjtlHlR91xVfM1FQ           0\n",
       " 1013  sjP6Zylv_Xbpzjx_tI5_iw  4.698888  -WM58wLjtlHlR91xVfM1FQ           0\n",
       " \n",
       " [1014 rows x 4 columns],\n",
       "                  business_id     score                 user_id  real_label\n",
       " 0     ytynqOUb3hjKeJfRj5Tshw  5.213322  -WUsD4lhcoVb6Q0rlWqvLg           0\n",
       " 1     ytynqOUb3hjKeJfRj5Tshw  5.213322  -WUsD4lhcoVb6Q0rlWqvLg           0\n",
       " 2     -fs09akgCKv5rTTy7iUHUg  5.122489  -WUsD4lhcoVb6Q0rlWqvLg           0\n",
       " 3     KTGEa8V9ec0QBYM_uk1YLQ  5.109281  -WUsD4lhcoVb6Q0rlWqvLg           0\n",
       " 4     o_N7HiU3f6cVvrJAFrE43A  5.094977  -WUsD4lhcoVb6Q0rlWqvLg           0\n",
       " ...                      ...       ...                     ...         ...\n",
       " 1069  OPQWnVzSu70iE26LOaZiJw  4.640686  -WUsD4lhcoVb6Q0rlWqvLg           0\n",
       " 1070  5q8sDHE7csnCtOLUW2NVQA  4.640604  -WUsD4lhcoVb6Q0rlWqvLg           0\n",
       " 1071  tKxXZd00zZ24jDmJJcUYPQ  4.640375  -WUsD4lhcoVb6Q0rlWqvLg           0\n",
       " 1072  1EDUXBWC6IAZvW-r5BKDGw  4.640232  -WUsD4lhcoVb6Q0rlWqvLg           0\n",
       " 1073  saVXla5i8TjE51S5uCaf6w  4.640168  -WUsD4lhcoVb6Q0rlWqvLg           0\n",
       " \n",
       " [1074 rows x 4 columns],\n",
       "                 business_id     score                 user_id  real_label\n",
       " 0    -fs09akgCKv5rTTy7iUHUg  5.267762  -WcB-MUolRfvBmJ2lLU_cg           0\n",
       " 1    KTGEa8V9ec0QBYM_uk1YLQ  5.254554  -WcB-MUolRfvBmJ2lLU_cg           0\n",
       " 2    o_N7HiU3f6cVvrJAFrE43A  5.240251  -WcB-MUolRfvBmJ2lLU_cg           0\n",
       " 3    zLm2PaYrpHkcr63ekwvtBQ  5.232269  -WcB-MUolRfvBmJ2lLU_cg           0\n",
       " 4    8ZCpyx-U-dEJyNZBWiC3mA  5.215997  -WcB-MUolRfvBmJ2lLU_cg           0\n",
       " ..                      ...       ...                     ...         ...\n",
       " 995  M9M37FllWUIslw2OE9eyKg  4.770114  -WcB-MUolRfvBmJ2lLU_cg           0\n",
       " 996  ZnAr0AxYpEYK1ZHNc4fk7g  4.770052  -WcB-MUolRfvBmJ2lLU_cg           0\n",
       " 997  Xm3fazqrD-Fi4tVPlc4i6Q  4.770015  -WcB-MUolRfvBmJ2lLU_cg           0\n",
       " 998  kNUdugntWQD8jEB-QNFEjg  4.769967  -WcB-MUolRfvBmJ2lLU_cg           0\n",
       " 999  wulFpnfqcRP8PNIcHaVdAA  4.769256  -WcB-MUolRfvBmJ2lLU_cg           0\n",
       " \n",
       " [1000 rows x 4 columns],\n",
       "                  business_id     score                 user_id  real_label\n",
       " 0     ytynqOUb3hjKeJfRj5Tshw  5.337421  -WdMmmWVU5TZ9bfy0Cg3Ng           0\n",
       " 1     ytynqOUb3hjKeJfRj5Tshw  5.337421  -WdMmmWVU5TZ9bfy0Cg3Ng           0\n",
       " 2     -fs09akgCKv5rTTy7iUHUg  5.231645  -WdMmmWVU5TZ9bfy0Cg3Ng           0\n",
       " 3     -fs09akgCKv5rTTy7iUHUg  5.231645  -WdMmmWVU5TZ9bfy0Cg3Ng           0\n",
       " 4     -fs09akgCKv5rTTy7iUHUg  5.231645  -WdMmmWVU5TZ9bfy0Cg3Ng           0\n",
       " ...                      ...       ...                     ...         ...\n",
       " 1116  JQz0_R70G3bjQ5dRqrhxKQ  4.749187  -WdMmmWVU5TZ9bfy0Cg3Ng           0\n",
       " 1117  4Cal2AE6cr7m6nL20Rz2kQ  4.748933  -WdMmmWVU5TZ9bfy0Cg3Ng           0\n",
       " 1118  lwN9FutfBq81GnGWhj5Mng  4.748480  -WdMmmWVU5TZ9bfy0Cg3Ng           0\n",
       " 1119  5xRZFazPsVLZXijsYwR7Ng  4.748440  -WdMmmWVU5TZ9bfy0Cg3Ng           0\n",
       " 1120  z5YxP_jyIU7dRKUA7V_H0w  4.748415  -WdMmmWVU5TZ9bfy0Cg3Ng           0\n",
       " \n",
       " [1121 rows x 4 columns],\n",
       "                  business_id     score                 user_id  real_label\n",
       " 0     8ZCpyx-U-dEJyNZBWiC3mA  4.892202  -Wg_fBZw70ybV_BZPdZseg           0\n",
       " 1     5tK4y67IUn3eDd3S1bka9Q  4.874221  -Wg_fBZw70ybV_BZPdZseg           0\n",
       " 2     atZ_olNKXOG4rEr6mccN8g  4.824197  -Wg_fBZw70ybV_BZPdZseg           0\n",
       " 3     XJvOamdhTQI65jmzTfreDQ  4.818705  -Wg_fBZw70ybV_BZPdZseg           0\n",
       " 4     Bk6uzC83wbmCHm2i5Uz8OA  4.813280  -Wg_fBZw70ybV_BZPdZseg           0\n",
       " ...                      ...       ...                     ...         ...\n",
       " 1090  wtwDcp79klLOLaIjCFHQCA  4.396077  -Wg_fBZw70ybV_BZPdZseg           0\n",
       " 1091  5ezrDoezdUlJpUa5Jg6dUQ  4.395992  -Wg_fBZw70ybV_BZPdZseg           0\n",
       " 1092  bjwYssBeEmc1wFR7nKXI4A  4.395866  -Wg_fBZw70ybV_BZPdZseg           0\n",
       " 1093  33SwdKTU_hhGbb0XZbElMA  4.395760  -Wg_fBZw70ybV_BZPdZseg           0\n",
       " 1094  6ifXVhNYWukCse0k3BZ2KA  4.395757  -Wg_fBZw70ybV_BZPdZseg           0\n",
       " \n",
       " [1095 rows x 4 columns],\n",
       "                  business_id     score                 user_id  real_label\n",
       " 0     ytynqOUb3hjKeJfRj5Tshw  5.035999  -Wu93nlWpC56t8_0IHs4UQ           0\n",
       " 1     ytynqOUb3hjKeJfRj5Tshw  5.035999  -Wu93nlWpC56t8_0IHs4UQ           0\n",
       " 2     ctHjyadbDQAtUFfkcAFEHw  5.028914  -Wu93nlWpC56t8_0IHs4UQ           0\n",
       " 3     ctHjyadbDQAtUFfkcAFEHw  5.028914  -Wu93nlWpC56t8_0IHs4UQ           0\n",
       " 4     -fs09akgCKv5rTTy7iUHUg  5.025115  -Wu93nlWpC56t8_0IHs4UQ           0\n",
       " ...                      ...       ...                     ...         ...\n",
       " 1116  XnbuS6ieFxsDSH9go88juw  4.473860  -Wu93nlWpC56t8_0IHs4UQ           0\n",
       " 1117  NH9LSB4Qz2v0fHTMz9sQ0w  4.473857  -Wu93nlWpC56t8_0IHs4UQ           0\n",
       " 1118  OHzX-ZD9qyoeoxR8Z0dlIA  4.473725  -Wu93nlWpC56t8_0IHs4UQ           0\n",
       " 1119  OHzX-ZD9qyoeoxR8Z0dlIA  4.473725  -Wu93nlWpC56t8_0IHs4UQ           0\n",
       " 1120  SFKjUQ1gmfwm7cJhMCFmkA  4.473647  -Wu93nlWpC56t8_0IHs4UQ           0\n",
       " \n",
       " [1121 rows x 4 columns],\n",
       "                  business_id     score                 user_id  real_label\n",
       " 0     -fs09akgCKv5rTTy7iUHUg  4.996943  -X2ssY7sSqgkA2uBE3CaeA           0\n",
       " 1     KTGEa8V9ec0QBYM_uk1YLQ  4.983686  -X2ssY7sSqgkA2uBE3CaeA           0\n",
       " 2     o_N7HiU3f6cVvrJAFrE43A  4.969431  -X2ssY7sSqgkA2uBE3CaeA           0\n",
       " 3     zLm2PaYrpHkcr63ekwvtBQ  4.961395  -X2ssY7sSqgkA2uBE3CaeA           0\n",
       " 4     8ZCpyx-U-dEJyNZBWiC3mA  4.945177  -X2ssY7sSqgkA2uBE3CaeA           0\n",
       " ...                      ...       ...                     ...         ...\n",
       " 1020  SBTco89BmBy1ENFjtXdNag  4.484866  -X2ssY7sSqgkA2uBE3CaeA           0\n",
       " 1021  rKbTMJ7RMi06I2cW18toog  4.484823  -X2ssY7sSqgkA2uBE3CaeA           0\n",
       " 1022  JuMiGeS_i9c611znnG27xA  4.484741  -X2ssY7sSqgkA2uBE3CaeA           0\n",
       " 1023  -WXmyccE1YUqO3mA3Uu1Xw  4.484695  -X2ssY7sSqgkA2uBE3CaeA           0\n",
       " 1024  MtCiGn5egsWHFRP1YMvrJw  4.484680  -X2ssY7sSqgkA2uBE3CaeA           0\n",
       " \n",
       " [1025 rows x 4 columns],\n",
       "                  business_id     score                 user_id  real_label\n",
       " 0     -fs09akgCKv5rTTy7iUHUg  3.779720  -X7_fjIesbrR2X7oYATNJg           0\n",
       " 1     KTGEa8V9ec0QBYM_uk1YLQ  3.735437  -X7_fjIesbrR2X7oYATNJg           0\n",
       " 2     o_N7HiU3f6cVvrJAFrE43A  3.710758  -X7_fjIesbrR2X7oYATNJg           0\n",
       " 3     zLm2PaYrpHkcr63ekwvtBQ  3.703182  -X7_fjIesbrR2X7oYATNJg           0\n",
       " 4     8ZCpyx-U-dEJyNZBWiC3mA  3.673314  -X7_fjIesbrR2X7oYATNJg           0\n",
       " ...                      ...       ...                     ...         ...\n",
       " 1092  sKsPL_J5lcdAN7Plk1t-aQ  3.045738  -X7_fjIesbrR2X7oYATNJg           0\n",
       " 1093  wtwDcp79klLOLaIjCFHQCA  3.045723  -X7_fjIesbrR2X7oYATNJg           0\n",
       " 1094  mrtFgfT6MgkC8yThcmNWYw  3.045523  -X7_fjIesbrR2X7oYATNJg           0\n",
       " 1095  m9vvhaf-hsxsEJ3otoeoew  3.045193  -X7_fjIesbrR2X7oYATNJg           0\n",
       " 1096  RBCtHLVvc230q8zkRWIoyQ  3.045152  -X7_fjIesbrR2X7oYATNJg           0\n",
       " \n",
       " [1097 rows x 4 columns],\n",
       "                  business_id     score                 user_id  real_label\n",
       " 0     -fs09akgCKv5rTTy7iUHUg  4.962399  -XGgO8Ok5qTghITgxPRWOQ           0\n",
       " 1     KTGEa8V9ec0QBYM_uk1YLQ  4.949063  -XGgO8Ok5qTghITgxPRWOQ           0\n",
       " 2     o_N7HiU3f6cVvrJAFrE43A  4.934864  -XGgO8Ok5qTghITgxPRWOQ           0\n",
       " 3     zLm2PaYrpHkcr63ekwvtBQ  4.926773  -XGgO8Ok5qTghITgxPRWOQ           0\n",
       " 4     8ZCpyx-U-dEJyNZBWiC3mA  4.910638  -XGgO8Ok5qTghITgxPRWOQ           0\n",
       " ...                      ...       ...                     ...         ...\n",
       " 1009  xLuEfxyJ8BnDtI9pG-mGAw  4.464436  -XGgO8Ok5qTghITgxPRWOQ           0\n",
       " 1010  UpoQYI2d03qy8R82VCRnQg  4.464074  -XGgO8Ok5qTghITgxPRWOQ           0\n",
       " 1011  eMdE9Jofj5_8A_53ELnP8A  4.463798  -XGgO8Ok5qTghITgxPRWOQ           0\n",
       " 1012  g3xvwZPyW95KThnc7tN79w  4.463636  -XGgO8Ok5qTghITgxPRWOQ           0\n",
       " 1013  CCeUPUSWxYqUB_qtkGi2Lg  4.463567  -XGgO8Ok5qTghITgxPRWOQ           0\n",
       " \n",
       " [1014 rows x 4 columns],\n",
       "                  business_id     score                 user_id  real_label\n",
       " 0     -fs09akgCKv5rTTy7iUHUg  4.483988  -XPqJCVHFC1P-kW3oduKaw           0\n",
       " 1     -fs09akgCKv5rTTy7iUHUg  4.483988  -XPqJCVHFC1P-kW3oduKaw           0\n",
       " 2     RFo876v_A63N2JfOTq1p-g  4.478407  -XPqJCVHFC1P-kW3oduKaw           0\n",
       " 3     8ZCpyx-U-dEJyNZBWiC3mA  4.471202  -XPqJCVHFC1P-kW3oduKaw           0\n",
       " 4     KTGEa8V9ec0QBYM_uk1YLQ  4.450966  -XPqJCVHFC1P-kW3oduKaw           0\n",
       " ...                      ...       ...                     ...         ...\n",
       " 1100  ZuwJdk2g6XGRWV94TE50Cg  3.948645  -XPqJCVHFC1P-kW3oduKaw           0\n",
       " 1101  poUBW6Ssag7DeRzecF1ojw  3.948601  -XPqJCVHFC1P-kW3oduKaw           0\n",
       " 1102  dYeO3uT0aqipd1xv7mXuyA  3.948510  -XPqJCVHFC1P-kW3oduKaw           0\n",
       " 1103  fu6FQlfxcK8Y26P_xveAlA  3.948413  -XPqJCVHFC1P-kW3oduKaw           0\n",
       " 1104  d8DvaJ2SG7_e4swJVenjUA  3.948077  -XPqJCVHFC1P-kW3oduKaw           0\n",
       " \n",
       " [1105 rows x 4 columns],\n",
       "                  business_id     score                 user_id  real_label\n",
       " 0     RFo876v_A63N2JfOTq1p-g  5.040277  -Y01uXhlyewOSLEjziA5NQ           0\n",
       " 1     -fs09akgCKv5rTTy7iUHUg  5.039284  -Y01uXhlyewOSLEjziA5NQ           0\n",
       " 2     KTGEa8V9ec0QBYM_uk1YLQ  5.025949  -Y01uXhlyewOSLEjziA5NQ           0\n",
       " 3     o_N7HiU3f6cVvrJAFrE43A  5.011749  -Y01uXhlyewOSLEjziA5NQ           0\n",
       " 4     zLm2PaYrpHkcr63ekwvtBQ  5.003658  -Y01uXhlyewOSLEjziA5NQ           0\n",
       " ...                      ...       ...                     ...         ...\n",
       " 1030  dfFeEgpjkY8q-EK0ifsDjw  4.568446  -Y01uXhlyewOSLEjziA5NQ           0\n",
       " 1031  qr7meXBoHjezOYUWMj9O4w  4.568400  -Y01uXhlyewOSLEjziA5NQ           0\n",
       " 1032  _EwuYl6cv4td1Mud68U-qg  4.568342  -Y01uXhlyewOSLEjziA5NQ           0\n",
       " 1033  DorCmYVDR5wcCVvbCAvzEg  4.568185  -Y01uXhlyewOSLEjziA5NQ           0\n",
       " 1034  dobrhbpdxTMh9EWiTEQk7A  4.567872  -Y01uXhlyewOSLEjziA5NQ           0\n",
       " \n",
       " [1035 rows x 4 columns],\n",
       "                  business_id     score                 user_id  real_label\n",
       " 0     -fs09akgCKv5rTTy7iUHUg  3.946579  -YAXThScggsREXhutAHkAA           0\n",
       " 1     -fs09akgCKv5rTTy7iUHUg  3.946579  -YAXThScggsREXhutAHkAA           0\n",
       " 2     RFo876v_A63N2JfOTq1p-g  3.936498  -YAXThScggsREXhutAHkAA           0\n",
       " 3     TE2IEDNV0RcI6s1wTOP4fg  3.905160  -YAXThScggsREXhutAHkAA           0\n",
       " 4     TE2IEDNV0RcI6s1wTOP4fg  3.905160  -YAXThScggsREXhutAHkAA           0\n",
       " ...                      ...       ...                     ...         ...\n",
       " 1022  _27BIQa1uBaqx9deGt6iow  3.601834  -YAXThScggsREXhutAHkAA           0\n",
       " 1023  gnau2dVvNfrO-dWazIoOOg  3.601789  -YAXThScggsREXhutAHkAA           0\n",
       " 1024  mlgewa5y_a_AxVTamXGemA  3.601776  -YAXThScggsREXhutAHkAA           0\n",
       " 1025  Pocs24Rhnbqy1tZQm0j7Rw  3.601550  -YAXThScggsREXhutAHkAA           0\n",
       " 1026  Sof0mJlMeQZTiQIRWF8UlA  3.601535  -YAXThScggsREXhutAHkAA           0\n",
       " \n",
       " [1027 rows x 4 columns],\n",
       "                  business_id     score                 user_id  real_label\n",
       " 0     RFo876v_A63N2JfOTq1p-g  4.939849  -YEhEw6Uv5tbdUfZtm8Gsw           0\n",
       " 1     -fs09akgCKv5rTTy7iUHUg  4.939104  -YEhEw6Uv5tbdUfZtm8Gsw           0\n",
       " 2     KTGEa8V9ec0QBYM_uk1YLQ  4.919817  -YEhEw6Uv5tbdUfZtm8Gsw           0\n",
       " 3     o_N7HiU3f6cVvrJAFrE43A  4.911569  -YEhEw6Uv5tbdUfZtm8Gsw           0\n",
       " 4     zLm2PaYrpHkcr63ekwvtBQ  4.903478  -YEhEw6Uv5tbdUfZtm8Gsw           0\n",
       " ...                      ...       ...                     ...         ...\n",
       " 1036  K3rQIh4EXBwCb1xass2k7g  4.442882  -YEhEw6Uv5tbdUfZtm8Gsw           0\n",
       " 1037  cmMIB7uTNGJc9Qpl65LjjQ  4.442723  -YEhEw6Uv5tbdUfZtm8Gsw           0\n",
       " 1038  phQZ65kaARzcL1fAquR8LQ  4.442616  -YEhEw6Uv5tbdUfZtm8Gsw           0\n",
       " 1039  hdGSVYYrLFS4iNufBX3q6A  4.442508  -YEhEw6Uv5tbdUfZtm8Gsw           0\n",
       " 1040  7T1VAYHIS3cgsDj3iS6JWQ  4.441912  -YEhEw6Uv5tbdUfZtm8Gsw           0\n",
       " \n",
       " [1041 rows x 4 columns],\n",
       "                  business_id     score                 user_id  real_label\n",
       " 0     -fs09akgCKv5rTTy7iUHUg  4.897621  -YJmEquORmH4mmMa9OlMhg           0\n",
       " 1     8ZCpyx-U-dEJyNZBWiC3mA  4.841727  -YJmEquORmH4mmMa9OlMhg           0\n",
       " 2     5tK4y67IUn3eDd3S1bka9Q  4.823690  -YJmEquORmH4mmMa9OlMhg           0\n",
       " 3     XJvOamdhTQI65jmzTfreDQ  4.776635  -YJmEquORmH4mmMa9OlMhg           0\n",
       " 4     Bk6uzC83wbmCHm2i5Uz8OA  4.771663  -YJmEquORmH4mmMa9OlMhg           0\n",
       " ...                      ...       ...                     ...         ...\n",
       " 1108  8jwsNjvVNJiYN7AnxHdMLA  4.344429  -YJmEquORmH4mmMa9OlMhg           0\n",
       " 1109  g2FmJOHqaYFuRnPuMCcEoQ  4.344405  -YJmEquORmH4mmMa9OlMhg           0\n",
       " 1110  KRBGbYMUjaFHKPVYrMDLJA  4.344118  -YJmEquORmH4mmMa9OlMhg           0\n",
       " 1111  NYsF1By_jgGgQJnzL-3eAA  4.343973  -YJmEquORmH4mmMa9OlMhg           0\n",
       " 1112  c-vL_L5z4yiRMBEwe3aW1A  4.343872  -YJmEquORmH4mmMa9OlMhg           0\n",
       " \n",
       " [1113 rows x 4 columns],\n",
       "                  business_id     score                 user_id  real_label\n",
       " 0     RFo876v_A63N2JfOTq1p-g  4.760347  -YKOWciKFYcKxOCY_CIkYg           0\n",
       " 1     -fs09akgCKv5rTTy7iUHUg  4.755848  -YKOWciKFYcKxOCY_CIkYg           0\n",
       " 2     KTGEa8V9ec0QBYM_uk1YLQ  4.741995  -YKOWciKFYcKxOCY_CIkYg           0\n",
       " 3     o_N7HiU3f6cVvrJAFrE43A  4.719540  -YKOWciKFYcKxOCY_CIkYg           0\n",
       " 4     zLm2PaYrpHkcr63ekwvtBQ  4.711212  -YKOWciKFYcKxOCY_CIkYg           0\n",
       " ...                      ...       ...                     ...         ...\n",
       " 1018  u3E1zmKRS6Fr0g9QR-l7nA  4.201169  -YKOWciKFYcKxOCY_CIkYg           0\n",
       " 1019  a888q4wZiB5OyWed5WoHdA  4.201144  -YKOWciKFYcKxOCY_CIkYg           0\n",
       " 1020  p7UGlPkE3Gagm9Mq7aHfYg  4.201123  -YKOWciKFYcKxOCY_CIkYg           0\n",
       " 1021  moYBNw4iGAeTKpj79fkr8Q  4.200658  -YKOWciKFYcKxOCY_CIkYg           0\n",
       " 1022  1sO-Ujuvs8igSyaD35xx4w  4.200542  -YKOWciKFYcKxOCY_CIkYg           0\n",
       " \n",
       " [1023 rows x 4 columns],\n",
       "                  business_id     score                 user_id  real_label\n",
       " 0     -fs09akgCKv5rTTy7iUHUg  4.949064  -YOWyjJ0bOdSN0LfDSLC4Q           0\n",
       " 1     KTGEa8V9ec0QBYM_uk1YLQ  4.935756  -YOWyjJ0bOdSN0LfDSLC4Q           0\n",
       " 2     zLm2PaYrpHkcr63ekwvtBQ  4.913465  -YOWyjJ0bOdSN0LfDSLC4Q           0\n",
       " 3     ctHjyadbDQAtUFfkcAFEHw  4.906261  -YOWyjJ0bOdSN0LfDSLC4Q           0\n",
       " 4     ctHjyadbDQAtUFfkcAFEHw  4.906261  -YOWyjJ0bOdSN0LfDSLC4Q           0\n",
       " ...                      ...       ...                     ...         ...\n",
       " 1109  01Vuw9VgqJVIwThiGg3sRA  4.475169  -YOWyjJ0bOdSN0LfDSLC4Q           0\n",
       " 1110  hnXA1m5_6ogFvuvPDEP0Aw  4.475064  -YOWyjJ0bOdSN0LfDSLC4Q           0\n",
       " 1111  6BvmLng8AmH56-eSekl3zg  4.475055  -YOWyjJ0bOdSN0LfDSLC4Q           0\n",
       " 1112  htJyj7N2_QqVUAvXCK9aXA  4.474954  -YOWyjJ0bOdSN0LfDSLC4Q           0\n",
       " 1113  OxXMZfaRZc7SJnjMBkO1ww  4.474943  -YOWyjJ0bOdSN0LfDSLC4Q           0\n",
       " \n",
       " [1114 rows x 4 columns],\n",
       "                 business_id     score                 user_id  real_label\n",
       " 0    -fs09akgCKv5rTTy7iUHUg  5.417031  -YwLELRcGolyyRhZtA4hFw           0\n",
       " 1    KTGEa8V9ec0QBYM_uk1YLQ  5.403807  -YwLELRcGolyyRhZtA4hFw           0\n",
       " 2    o_N7HiU3f6cVvrJAFrE43A  5.389520  -YwLELRcGolyyRhZtA4hFw           0\n",
       " 3    zLm2PaYrpHkcr63ekwvtBQ  5.381516  -YwLELRcGolyyRhZtA4hFw           0\n",
       " 4    8ZCpyx-U-dEJyNZBWiC3mA  5.365266  -YwLELRcGolyyRhZtA4hFw           0\n",
       " ..                      ...       ...                     ...         ...\n",
       " 995  RFZkaLeWov_1p5ePBLz6EQ  4.908222  -YwLELRcGolyyRhZtA4hFw           0\n",
       " 996  5Q82x5hIwfWSF3XEeINkgQ  4.907595  -YwLELRcGolyyRhZtA4hFw           0\n",
       " 997  mlgewa5y_a_AxVTamXGemA  4.907570  -YwLELRcGolyyRhZtA4hFw           0\n",
       " 998  jnxfjpYbyfsdoWP4xXWcBg  4.907400  -YwLELRcGolyyRhZtA4hFw           0\n",
       " 999  yktnwboMIQZkOvcZywktzA  4.907351  -YwLELRcGolyyRhZtA4hFw           0\n",
       " \n",
       " [1000 rows x 4 columns],\n",
       "                  business_id     score                 user_id  real_label\n",
       " 0     -fs09akgCKv5rTTy7iUHUg  4.967624  -Z1lTwsRV-bBSO-tIbIqdQ           0\n",
       " 1     KTGEa8V9ec0QBYM_uk1YLQ  4.954364  -Z1lTwsRV-bBSO-tIbIqdQ           0\n",
       " 2     o_N7HiU3f6cVvrJAFrE43A  4.940112  -Z1lTwsRV-bBSO-tIbIqdQ           0\n",
       " 3     zLm2PaYrpHkcr63ekwvtBQ  4.932074  -Z1lTwsRV-bBSO-tIbIqdQ           0\n",
       " 4     8ZCpyx-U-dEJyNZBWiC3mA  4.915858  -Z1lTwsRV-bBSO-tIbIqdQ           0\n",
       " ...                      ...       ...                     ...         ...\n",
       " 996   gWJdBPzO0XqMzVDjnlF8TA  4.479495  -Z1lTwsRV-bBSO-tIbIqdQ           0\n",
       " 997   SADPX8WX34EQDj_jqtacMw  4.479103  -Z1lTwsRV-bBSO-tIbIqdQ           0\n",
       " 998   qEcgemvSCGUFRKPS3lt3pw  4.478723  -Z1lTwsRV-bBSO-tIbIqdQ           0\n",
       " 999   FcKqZpor9OjdTfoWkaGXuA  4.478565  -Z1lTwsRV-bBSO-tIbIqdQ           0\n",
       " 1000  9DfzRvTs9tzFuj5PnnLOrA  4.478347  -Z1lTwsRV-bBSO-tIbIqdQ           0\n",
       " \n",
       " [1001 rows x 4 columns],\n",
       "                  business_id     score                 user_id  real_label\n",
       " 0     KTGEa8V9ec0QBYM_uk1YLQ  5.031271  -Z7CI7cvz5oRf6Qjy_cleQ           0\n",
       " 1     8ZCpyx-U-dEJyNZBWiC3mA  4.992812  -Z7CI7cvz5oRf6Qjy_cleQ           0\n",
       " 2     5tK4y67IUn3eDd3S1bka9Q  4.974843  -Z7CI7cvz5oRf6Qjy_cleQ           0\n",
       " 3     XJvOamdhTQI65jmzTfreDQ  4.919314  -Z7CI7cvz5oRf6Qjy_cleQ           0\n",
       " 4     Bk6uzC83wbmCHm2i5Uz8OA  4.913890  -Z7CI7cvz5oRf6Qjy_cleQ           0\n",
       " ...                      ...       ...                     ...         ...\n",
       " 1066  sgLqkcaUZ8ankwVkoNkCmg  4.526731  -Z7CI7cvz5oRf6Qjy_cleQ           0\n",
       " 1067  VJ-c-Yjj1qv7dKS5YaYoHg  4.526590  -Z7CI7cvz5oRf6Qjy_cleQ           0\n",
       " 1068  jXtaxB2b64nA4uy13i024A  4.526566  -Z7CI7cvz5oRf6Qjy_cleQ           0\n",
       " 1069  L_Rwy6oSAnMUY3NCDspxmA  4.526522  -Z7CI7cvz5oRf6Qjy_cleQ           0\n",
       " 1070  jo5AYcDH5wJbD3PcPRBsrw  4.526471  -Z7CI7cvz5oRf6Qjy_cleQ           0\n",
       " \n",
       " [1071 rows x 4 columns],\n",
       "                  business_id     score                 user_id  real_label\n",
       " 0     5tK4y67IUn3eDd3S1bka9Q  4.101129  -Z97B_kIy1-w3nifW1PQZg           0\n",
       " 1     XJvOamdhTQI65jmzTfreDQ  4.070402  -Z97B_kIy1-w3nifW1PQZg           0\n",
       " 2     _ZMf5Am_e0AE7aveELJd9w  4.058513  -Z97B_kIy1-w3nifW1PQZg           0\n",
       " 3     vV57YWbrHqm1iylWmIdwVA  4.054732  -Z97B_kIy1-w3nifW1PQZg           0\n",
       " 4     vV57YWbrHqm1iylWmIdwVA  4.054732  -Z97B_kIy1-w3nifW1PQZg           0\n",
       " ...                      ...       ...                     ...         ...\n",
       " 1072  rfWis-9HkD3BgeX-vaI0SA  3.506727  -Z97B_kIy1-w3nifW1PQZg           0\n",
       " 1073  elP0Xn9HyP6cRBuzbJdTpw  3.506446  -Z97B_kIy1-w3nifW1PQZg           0\n",
       " 1074  xUkNv8UWPWEot8S7hB6KYA  3.504729  -Z97B_kIy1-w3nifW1PQZg           0\n",
       " 1075  jh8j-DWqgWkbRe_a2XtKFQ  3.504169  -Z97B_kIy1-w3nifW1PQZg           0\n",
       " 1076  qZ6dUj6GbCt5sT-RWSJC5Q  3.504169  -Z97B_kIy1-w3nifW1PQZg           0\n",
       " \n",
       " [1077 rows x 4 columns],\n",
       "                  business_id     score                 user_id  real_label\n",
       " 0     -fs09akgCKv5rTTy7iUHUg  4.954266  -ZHlPAvlVdgtiu6DiCq7Yg           0\n",
       " 1     KTGEa8V9ec0QBYM_uk1YLQ  4.925957  -ZHlPAvlVdgtiu6DiCq7Yg           0\n",
       " 2     8ZCpyx-U-dEJyNZBWiC3mA  4.883993  -ZHlPAvlVdgtiu6DiCq7Yg           0\n",
       " 3     5tK4y67IUn3eDd3S1bka9Q  4.877516  -ZHlPAvlVdgtiu6DiCq7Yg           0\n",
       " 4     wUnLSg_GKfEIQ5CQQ770_g  4.832779  -ZHlPAvlVdgtiu6DiCq7Yg           0\n",
       " ...                      ...       ...                     ...         ...\n",
       " 1096  gdDUtIhG4tTshh2LbpfMfQ  4.409703  -ZHlPAvlVdgtiu6DiCq7Yg           0\n",
       " 1097  zz0l4dUf28wzPAaTdGqsSw  4.409689  -ZHlPAvlVdgtiu6DiCq7Yg           0\n",
       " 1098  XnbuS6ieFxsDSH9go88juw  4.409596  -ZHlPAvlVdgtiu6DiCq7Yg           0\n",
       " 1099  PUDDBW0MfpSFI2XEMv_g3Q  4.409277  -ZHlPAvlVdgtiu6DiCq7Yg           0\n",
       " 1100  8jwsNjvVNJiYN7AnxHdMLA  4.409106  -ZHlPAvlVdgtiu6DiCq7Yg           0\n",
       " \n",
       " [1101 rows x 4 columns],\n",
       "                  business_id     score                 user_id  real_label\n",
       " 0     -fs09akgCKv5rTTy7iUHUg  4.970775  -ZQXwAcRhu_htymJTIFcoQ           0\n",
       " 1     KTGEa8V9ec0QBYM_uk1YLQ  4.957465  -ZQXwAcRhu_htymJTIFcoQ           0\n",
       " 2     8ZCpyx-U-dEJyNZBWiC3mA  4.919009  -ZQXwAcRhu_htymJTIFcoQ           0\n",
       " 3     5tK4y67IUn3eDd3S1bka9Q  4.901038  -ZQXwAcRhu_htymJTIFcoQ           0\n",
       " 4     XJvOamdhTQI65jmzTfreDQ  4.845511  -ZQXwAcRhu_htymJTIFcoQ           0\n",
       " ...                      ...       ...                     ...         ...\n",
       " 1097  mcB1_hiiOVPlgTvlkqAiDw  4.471025  -ZQXwAcRhu_htymJTIFcoQ           0\n",
       " 1098  Pl_9HzOa8uy_YOUxgonzGw  4.470873  -ZQXwAcRhu_htymJTIFcoQ           0\n",
       " 1099  yktnwboMIQZkOvcZywktzA  4.470830  -ZQXwAcRhu_htymJTIFcoQ           0\n",
       " 1100  eevZhYOfKqMWJIUfFWgZfg  4.470510  -ZQXwAcRhu_htymJTIFcoQ           0\n",
       " 1101  xicrRwfMBkDfQlFaGoyC5g  4.470241  -ZQXwAcRhu_htymJTIFcoQ           0\n",
       " \n",
       " [1102 rows x 4 columns],\n",
       "                  business_id     score                 user_id  real_label\n",
       " 0     -fs09akgCKv5rTTy7iUHUg  4.779445  -ZfVRD4fYZl2XKpm8Y4LYQ           0\n",
       " 1     TE2IEDNV0RcI6s1wTOP4fg  4.771526  -ZfVRD4fYZl2XKpm8Y4LYQ           0\n",
       " 2     KTGEa8V9ec0QBYM_uk1YLQ  4.766196  -ZfVRD4fYZl2XKpm8Y4LYQ           0\n",
       " 3     o_N7HiU3f6cVvrJAFrE43A  4.751933  -ZfVRD4fYZl2XKpm8Y4LYQ           0\n",
       " 4     5tK4y67IUn3eDd3S1bka9Q  4.709768  -ZfVRD4fYZl2XKpm8Y4LYQ           0\n",
       " ...                      ...       ...                     ...         ...\n",
       " 1071  0bvtIbpsqBJZpRKSPwIfNw  4.288755  -ZfVRD4fYZl2XKpm8Y4LYQ           0\n",
       " 1072  uZZiRcsyTFFefJ6MsZIZwQ  4.288597  -ZfVRD4fYZl2XKpm8Y4LYQ           0\n",
       " 1073  gOpRlosKLPBuVhYsTxgesg  4.288528  -ZfVRD4fYZl2XKpm8Y4LYQ           0\n",
       " 1074  9uU6AGSXncM-hu6lIvgv3w  4.288520  -ZfVRD4fYZl2XKpm8Y4LYQ           0\n",
       " 1075  JfKe2LI_1F8NhqOsKzHggg  4.288353  -ZfVRD4fYZl2XKpm8Y4LYQ           0\n",
       " \n",
       " [1076 rows x 4 columns],\n",
       "                  business_id     score                 user_id  real_label\n",
       " 0     -fs09akgCKv5rTTy7iUHUg  4.823521  -_-97I8y6aTJjpZMKyd4TA           0\n",
       " 1     KTGEa8V9ec0QBYM_uk1YLQ  4.810264  -_-97I8y6aTJjpZMKyd4TA           0\n",
       " 2     o_N7HiU3f6cVvrJAFrE43A  4.796008  -_-97I8y6aTJjpZMKyd4TA           0\n",
       " 3     zLm2PaYrpHkcr63ekwvtBQ  4.787973  -_-97I8y6aTJjpZMKyd4TA           0\n",
       " 4     8ZCpyx-U-dEJyNZBWiC3mA  4.771754  -_-97I8y6aTJjpZMKyd4TA           0\n",
       " ...                      ...       ...                     ...         ...\n",
       " 1077  cXa1G6GYqpKR3hjw9zR3qA  4.344867  -_-97I8y6aTJjpZMKyd4TA           0\n",
       " 1078  DEFte_S3i2EcRLH7XbWQZA  4.344864  -_-97I8y6aTJjpZMKyd4TA           0\n",
       " 1079  kvb0a9FiFs9UXWxE6q-5DA  4.344800  -_-97I8y6aTJjpZMKyd4TA           0\n",
       " 1080  RQTRnBmDXXNWiM1-1LEqWg  4.344658  -_-97I8y6aTJjpZMKyd4TA           0\n",
       " 1081  -OIUunijjcq_ZzyyQhPPFQ  4.343902  -_-97I8y6aTJjpZMKyd4TA           0\n",
       " \n",
       " [1082 rows x 4 columns],\n",
       "                  business_id     score                 user_id  real_label\n",
       " 0     -fs09akgCKv5rTTy7iUHUg  4.770956  -_2h2cJlBOWAYrfplMU-Cg           0\n",
       " 1     -fs09akgCKv5rTTy7iUHUg  4.770956  -_2h2cJlBOWAYrfplMU-Cg           0\n",
       " 2     -fs09akgCKv5rTTy7iUHUg  4.770956  -_2h2cJlBOWAYrfplMU-Cg           0\n",
       " 3     o_N7HiU3f6cVvrJAFrE43A  4.735683  -_2h2cJlBOWAYrfplMU-Cg           0\n",
       " 4     RFo876v_A63N2JfOTq1p-g  4.730218  -_2h2cJlBOWAYrfplMU-Cg           0\n",
       " ...                      ...       ...                     ...         ...\n",
       " 1096  HcEZhHOwwzRUKB3PIrsrVg  4.038353  -_2h2cJlBOWAYrfplMU-Cg           0\n",
       " 1097  5PFe6zWUmaHGgnkubYM5fw  4.038299  -_2h2cJlBOWAYrfplMU-Cg           0\n",
       " 1098  JRGJm2B5c0A8sDSyWydAYA  4.038240  -_2h2cJlBOWAYrfplMU-Cg           0\n",
       " 1099  dgm6jrUZj-vAWa1OU5rbNQ  4.038120  -_2h2cJlBOWAYrfplMU-Cg           0\n",
       " 1100  vxHqkD2ZMcDefFh_hhRd0A  4.037966  -_2h2cJlBOWAYrfplMU-Cg           0\n",
       " \n",
       " [1101 rows x 4 columns],\n",
       "                  business_id     score                 user_id  real_label\n",
       " 0     ytynqOUb3hjKeJfRj5Tshw  5.385603  -_Lfm5bztNCYXaBmrqY7tA           0\n",
       " 1     ytynqOUb3hjKeJfRj5Tshw  5.385603  -_Lfm5bztNCYXaBmrqY7tA           0\n",
       " 2     RFo876v_A63N2JfOTq1p-g  5.316170  -_Lfm5bztNCYXaBmrqY7tA           0\n",
       " 3     -fs09akgCKv5rTTy7iUHUg  5.315104  -_Lfm5bztNCYXaBmrqY7tA           0\n",
       " 4     TE2IEDNV0RcI6s1wTOP4fg  5.307185  -_Lfm5bztNCYXaBmrqY7tA           0\n",
       " ...                      ...       ...                     ...         ...\n",
       " 1110  uIFRFef7l43YxA8G3dU6Tg  4.741391  -_Lfm5bztNCYXaBmrqY7tA           0\n",
       " 1111  cO17AMyI5vMSeOifKp3ZCA  4.741321  -_Lfm5bztNCYXaBmrqY7tA           0\n",
       " 1112  65S1_pUre8OLfBT42L7L8g  4.741257  -_Lfm5bztNCYXaBmrqY7tA           0\n",
       " 1113  o8H4fliNg1FYqw6noUzZzA  4.741179  -_Lfm5bztNCYXaBmrqY7tA           0\n",
       " 1114  wvNFqRE-zEb95tMHcl4Wjw  4.741173  -_Lfm5bztNCYXaBmrqY7tA           0\n",
       " \n",
       " [1115 rows x 4 columns],\n",
       "                  business_id     score                 user_id  real_label\n",
       " 0     -fs09akgCKv5rTTy7iUHUg  4.678235  -_NH9hcOubEKHoYeO_VOag           0\n",
       " 1     RFo876v_A63N2JfOTq1p-g  4.658548  -_NH9hcOubEKHoYeO_VOag           0\n",
       " 2     o_N7HiU3f6cVvrJAFrE43A  4.657293  -_NH9hcOubEKHoYeO_VOag           0\n",
       " 3     KTGEa8V9ec0QBYM_uk1YLQ  4.640677  -_NH9hcOubEKHoYeO_VOag           0\n",
       " 4     u3zqvp4BYUjzJD7tzx3Jbg  4.631183  -_NH9hcOubEKHoYeO_VOag           0\n",
       " ...                      ...       ...                     ...         ...\n",
       " 1077  n57B4y1clYVK5O_DH9W-tg  4.125001  -_NH9hcOubEKHoYeO_VOag           0\n",
       " 1078  nfa_qLZeaDKI80h3TS0wcg  4.124864  -_NH9hcOubEKHoYeO_VOag           0\n",
       " 1079  htJyj7N2_QqVUAvXCK9aXA  4.124857  -_NH9hcOubEKHoYeO_VOag           0\n",
       " 1080  VV_DMArltFOUQq_ONjGVcQ  4.124701  -_NH9hcOubEKHoYeO_VOag           0\n",
       " 1081  iH9fT2RCB0u4cVl2HLDtqg  4.124639  -_NH9hcOubEKHoYeO_VOag           0\n",
       " \n",
       " [1082 rows x 4 columns],\n",
       "                  business_id     score                 user_id  real_label\n",
       " 0     -fs09akgCKv5rTTy7iUHUg  5.083777  -_OH-t_Tnm3-I2RpPjEjwA           0\n",
       " 1     KTGEa8V9ec0QBYM_uk1YLQ  5.070443  -_OH-t_Tnm3-I2RpPjEjwA           0\n",
       " 2     zLm2PaYrpHkcr63ekwvtBQ  5.048152  -_OH-t_Tnm3-I2RpPjEjwA           0\n",
       " 3     8ZCpyx-U-dEJyNZBWiC3mA  5.032043  -_OH-t_Tnm3-I2RpPjEjwA           0\n",
       " 4     5tK4y67IUn3eDd3S1bka9Q  5.014015  -_OH-t_Tnm3-I2RpPjEjwA           0\n",
       " ...                      ...       ...                     ...         ...\n",
       " 996   wDIoXmmJ2Pfc_OebquhIYw  4.599313  -_OH-t_Tnm3-I2RpPjEjwA           0\n",
       " 997   b-fIbYn7CAdSXNEOdVGfaw  4.599298  -_OH-t_Tnm3-I2RpPjEjwA           0\n",
       " 998   R17gwW6zn9ilslbdvKdgsg  4.598976  -_OH-t_Tnm3-I2RpPjEjwA           0\n",
       " 999   kvb0a9FiFs9UXWxE6q-5DA  4.598796  -_OH-t_Tnm3-I2RpPjEjwA           0\n",
       " 1000  onAxL1mLxQb4TzZrJ2rYMg  4.598653  -_OH-t_Tnm3-I2RpPjEjwA           0\n",
       " \n",
       " [1001 rows x 4 columns],\n",
       "                  business_id     score                 user_id  real_label\n",
       " 0     -fs09akgCKv5rTTy7iUHUg  4.795524  -_SwjOjXFJa93KO4QGZOfA           0\n",
       " 1     KTGEa8V9ec0QBYM_uk1YLQ  4.752730  -_SwjOjXFJa93KO4QGZOfA           0\n",
       " 2     8ZCpyx-U-dEJyNZBWiC3mA  4.736803  -_SwjOjXFJa93KO4QGZOfA           0\n",
       " 3     5tK4y67IUn3eDd3S1bka9Q  4.723037  -_SwjOjXFJa93KO4QGZOfA           0\n",
       " 4     wUnLSg_GKfEIQ5CQQ770_g  4.700173  -_SwjOjXFJa93KO4QGZOfA           0\n",
       " ...                      ...       ...                     ...         ...\n",
       " 1057  8kh6Z3c8UHQKmsy0_TbOnA  4.222799  -_SwjOjXFJa93KO4QGZOfA           0\n",
       " 1058  z625yzGNJy_BoP2A9UnnHw  4.222332  -_SwjOjXFJa93KO4QGZOfA           0\n",
       " 1059  IZ6vx85mSdC2zp0STFzTIw  4.221998  -_SwjOjXFJa93KO4QGZOfA           0\n",
       " 1060  XvjJflV_0I1CS0_dckuV-A  4.221474  -_SwjOjXFJa93KO4QGZOfA           0\n",
       " 1061  o2sdqQ7e4IzeBWxUo_-tFQ  4.220743  -_SwjOjXFJa93KO4QGZOfA           0\n",
       " \n",
       " [1062 rows x 4 columns],\n",
       "                  business_id     score                 user_id  real_label\n",
       " 0     -fs09akgCKv5rTTy7iUHUg  4.930192  -_TyPUcWnWfpC-KejP6Qnw           0\n",
       " 1     KTGEa8V9ec0QBYM_uk1YLQ  4.916857  -_TyPUcWnWfpC-KejP6Qnw           0\n",
       " 2     atZ_olNKXOG4rEr6mccN8g  4.816189  -_TyPUcWnWfpC-KejP6Qnw           0\n",
       " 3     atZ_olNKXOG4rEr6mccN8g  4.816189  -_TyPUcWnWfpC-KejP6Qnw           0\n",
       " 4     XJvOamdhTQI65jmzTfreDQ  4.805634  -_TyPUcWnWfpC-KejP6Qnw           0\n",
       " ...                      ...       ...                     ...         ...\n",
       " 1123  UdHM_g-JbjxQvGaHKykKeA  4.294017  -_TyPUcWnWfpC-KejP6Qnw           0\n",
       " 1124  e9XOlcuSFkD_NY_lZ0EeXg  4.293909  -_TyPUcWnWfpC-KejP6Qnw           0\n",
       " 1125  USakOUYTZZj2_hWfo8vGzA  4.293815  -_TyPUcWnWfpC-KejP6Qnw           0\n",
       " 1126  U6gIIjgzLZ-WlpN-SZ2nyQ  4.293614  -_TyPUcWnWfpC-KejP6Qnw           0\n",
       " 1127  DGvkU7CkdBs6lNbncQmF3A  4.293572  -_TyPUcWnWfpC-KejP6Qnw           0\n",
       " \n",
       " [1128 rows x 4 columns],\n",
       "                  business_id     score                 user_id  real_label\n",
       " 0     -fs09akgCKv5rTTy7iUHUg  4.814349  -_UsvsLV7kxl8np_MRokMQ           0\n",
       " 1     -fs09akgCKv5rTTy7iUHUg  4.814349  -_UsvsLV7kxl8np_MRokMQ           0\n",
       " 2     TE2IEDNV0RcI6s1wTOP4fg  4.806401  -_UsvsLV7kxl8np_MRokMQ           0\n",
       " 3     TE2IEDNV0RcI6s1wTOP4fg  4.806401  -_UsvsLV7kxl8np_MRokMQ           0\n",
       " 4     KTGEa8V9ec0QBYM_uk1YLQ  4.795391  -_UsvsLV7kxl8np_MRokMQ           0\n",
       " ...                      ...       ...                     ...         ...\n",
       " 1101  FIweOxvfz1aSgXqs2X-pqw  4.327517  -_UsvsLV7kxl8np_MRokMQ           0\n",
       " 1102  wazRghDjVEiSzTt9WXCPOA  4.327110  -_UsvsLV7kxl8np_MRokMQ           0\n",
       " 1103  v5hCB55uWA97qj_Ww8DHqw  4.326474  -_UsvsLV7kxl8np_MRokMQ           0\n",
       " 1104  da_jniSpqeo9Z6FLCCh4jQ  4.326297  -_UsvsLV7kxl8np_MRokMQ           0\n",
       " 1105  GBtCFp9EU0Ti86ftGewZZg  4.326168  -_UsvsLV7kxl8np_MRokMQ           0\n",
       " \n",
       " [1106 rows x 4 columns],\n",
       "                  business_id     score                 user_id  real_label\n",
       " 0     -fs09akgCKv5rTTy7iUHUg  5.110647  -_Y8Mal7S750TsB6yMMDHA           0\n",
       " 1     XJvOamdhTQI65jmzTfreDQ  4.985383  -_Y8Mal7S750TsB6yMMDHA           0\n",
       " 2     Bk6uzC83wbmCHm2i5Uz8OA  4.979959  -_Y8Mal7S750TsB6yMMDHA           0\n",
       " 3     _ZMf5Am_e0AE7aveELJd9w  4.977224  -_Y8Mal7S750TsB6yMMDHA           0\n",
       " 4     atZ_olNKXOG4rEr6mccN8g  4.962962  -_Y8Mal7S750TsB6yMMDHA           0\n",
       " ...                      ...       ...                     ...         ...\n",
       " 1073  pM97VC3MB7CSoZLIhcUJeQ  4.510042  -_Y8Mal7S750TsB6yMMDHA           0\n",
       " 1074  Qd8W5ykeiCN-FHGIZeoaKg  4.509719  -_Y8Mal7S750TsB6yMMDHA           0\n",
       " 1075  TRaNwiGekGWa5xFIZTF9WQ  4.509649  -_Y8Mal7S750TsB6yMMDHA           0\n",
       " 1076  -4gHyiiX6NKNqQ0DO8QhwQ  4.509122  -_Y8Mal7S750TsB6yMMDHA           0\n",
       " 1077  PbunaXxpRE8sXGkKn5FFYw  4.509057  -_Y8Mal7S750TsB6yMMDHA           0\n",
       " \n",
       " [1078 rows x 4 columns],\n",
       "                  business_id     score                 user_id  real_label\n",
       " 0     -fs09akgCKv5rTTy7iUHUg  3.287916  -__Mk4KYnfGnyYEi9NKfPg           0\n",
       " 1     RFo876v_A63N2JfOTq1p-g  3.284477  -__Mk4KYnfGnyYEi9NKfPg           0\n",
       " 2     KTGEa8V9ec0QBYM_uk1YLQ  3.249028  -__Mk4KYnfGnyYEi9NKfPg           0\n",
       " 3     zLm2PaYrpHkcr63ekwvtBQ  3.243168  -__Mk4KYnfGnyYEi9NKfPg           0\n",
       " 4     o_N7HiU3f6cVvrJAFrE43A  3.235078  -__Mk4KYnfGnyYEi9NKfPg           0\n",
       " ...                      ...       ...                     ...         ...\n",
       " 1001  vKPXJCvlFvQWOx3-zNaehg  2.966223  -__Mk4KYnfGnyYEi9NKfPg           0\n",
       " 1002  nBr6NgqcZz1GhtAngU0RSQ  2.966091  -__Mk4KYnfGnyYEi9NKfPg           0\n",
       " 1003  MnB5oYCBXbiF8VkIiyU44A  2.965969  -__Mk4KYnfGnyYEi9NKfPg           0\n",
       " 1004  JuMiGeS_i9c611znnG27xA  2.965941  -__Mk4KYnfGnyYEi9NKfPg           0\n",
       " 1005  Sof0mJlMeQZTiQIRWF8UlA  2.965867  -__Mk4KYnfGnyYEi9NKfPg           0\n",
       " \n",
       " [1006 rows x 4 columns],\n",
       "                  business_id     score                 user_id  real_label\n",
       " 0     RFo876v_A63N2JfOTq1p-g  4.874193  -_c83Ylqjx6rwu9lBNS6Yw           0\n",
       " 1     -fs09akgCKv5rTTy7iUHUg  4.873153  -_c83Ylqjx6rwu9lBNS6Yw           0\n",
       " 2     KTGEa8V9ec0QBYM_uk1YLQ  4.859866  -_c83Ylqjx6rwu9lBNS6Yw           0\n",
       " 3     o_N7HiU3f6cVvrJAFrE43A  4.845641  -_c83Ylqjx6rwu9lBNS6Yw           0\n",
       " 4     Y93S8ZVnOhXQTkWZQEU5yg  4.824953  -_c83Ylqjx6rwu9lBNS6Yw           0\n",
       " ...                      ...       ...                     ...         ...\n",
       " 1016  MBPWVaR5kJxtFGsrLY64zQ  4.367149  -_c83Ylqjx6rwu9lBNS6Yw           0\n",
       " 1017  viTvepI8TEHvl8nwiewX6Q  4.367013  -_c83Ylqjx6rwu9lBNS6Yw           0\n",
       " 1018  JfKe2LI_1F8NhqOsKzHggg  4.366927  -_c83Ylqjx6rwu9lBNS6Yw           0\n",
       " 1019  mCKkfHKBhAUanBoHzys7hQ  4.366840  -_c83Ylqjx6rwu9lBNS6Yw           0\n",
       " 1020  ueX6oVA4GSaKaBKMFyC8mA  4.366765  -_c83Ylqjx6rwu9lBNS6Yw           0\n",
       " \n",
       " [1021 rows x 4 columns],\n",
       "                  business_id     score                 user_id  real_label\n",
       " 0     -fs09akgCKv5rTTy7iUHUg  4.823225  -_dkddkIz2_KusAQuZiS6Q           0\n",
       " 1     TE2IEDNV0RcI6s1wTOP4fg  4.815269  -_dkddkIz2_KusAQuZiS6Q           0\n",
       " 2     TE2IEDNV0RcI6s1wTOP4fg  4.815269  -_dkddkIz2_KusAQuZiS6Q           0\n",
       " 3     KTGEa8V9ec0QBYM_uk1YLQ  4.809922  -_dkddkIz2_KusAQuZiS6Q           0\n",
       " 4     o_N7HiU3f6cVvrJAFrE43A  4.795713  -_dkddkIz2_KusAQuZiS6Q           0\n",
       " ...                      ...       ...                     ...         ...\n",
       " 1126  oW0t4UaKmQGTlyT6F9j-hg  4.317595  -_dkddkIz2_KusAQuZiS6Q           0\n",
       " 1127  rcjVayUW3WjF5CL-SBMy-A  4.317529  -_dkddkIz2_KusAQuZiS6Q           0\n",
       " 1128  vyKKuYDTofiV1oJDN-g8Lw  4.317401  -_dkddkIz2_KusAQuZiS6Q           0\n",
       " 1129  vkrNaPsYX37nu8ndgFxLxw  4.317370  -_dkddkIz2_KusAQuZiS6Q           0\n",
       " 1130  sgLqkcaUZ8ankwVkoNkCmg  4.316982  -_dkddkIz2_KusAQuZiS6Q           0\n",
       " \n",
       " [1131 rows x 4 columns],\n",
       "                  business_id     score                 user_id  real_label\n",
       " 0     TE2IEDNV0RcI6s1wTOP4fg  4.368736  -_tVjkjgxxMHlvsj3sCWew           0\n",
       " 1     9pwzHmhCpgJwfaIP9jWoCg  4.260653  -_tVjkjgxxMHlvsj3sCWew           0\n",
       " 2     XJvOamdhTQI65jmzTfreDQ  4.250736  -_tVjkjgxxMHlvsj3sCWew           0\n",
       " 3     ghQGHlhzqK5CK-JkpCbt2w  4.244343  -_tVjkjgxxMHlvsj3sCWew           0\n",
       " 4     Bk6uzC83wbmCHm2i5Uz8OA  4.218662  -_tVjkjgxxMHlvsj3sCWew           0\n",
       " ...                      ...       ...                     ...         ...\n",
       " 1051  oyrz4wG_0cI2xStw8Ct22Q  3.639729  -_tVjkjgxxMHlvsj3sCWew           0\n",
       " 1052  eKgtzwzbLR44fqevm6yUSQ  3.639405  -_tVjkjgxxMHlvsj3sCWew           0\n",
       " 1053  80jPxH_n0wPiJjLAPW-zjw  3.639010  -_tVjkjgxxMHlvsj3sCWew           0\n",
       " 1054  327NPBjIZtHbjerYbbau_Q  3.638955  -_tVjkjgxxMHlvsj3sCWew           0\n",
       " 1055  xorwIoWJXmA7zjPL2olsJw  3.638410  -_tVjkjgxxMHlvsj3sCWew           0\n",
       " \n",
       " [1056 rows x 4 columns],\n",
       "                  business_id     score                 user_id  real_label\n",
       " 0     -fs09akgCKv5rTTy7iUHUg  4.883684  -_yn1IOKetBJuPxfK6u8IA           0\n",
       " 1     KTGEa8V9ec0QBYM_uk1YLQ  4.870349  -_yn1IOKetBJuPxfK6u8IA           0\n",
       " 2     zLm2PaYrpHkcr63ekwvtBQ  4.850706  -_yn1IOKetBJuPxfK6u8IA           0\n",
       " 3     8ZCpyx-U-dEJyNZBWiC3mA  4.831969  -_yn1IOKetBJuPxfK6u8IA           0\n",
       " 4     5tK4y67IUn3eDd3S1bka9Q  4.813921  -_yn1IOKetBJuPxfK6u8IA           0\n",
       " ...                      ...       ...                     ...         ...\n",
       " 1048  pFILrIntfcOc6ekPd6m6lQ  4.399390  -_yn1IOKetBJuPxfK6u8IA           0\n",
       " 1049  U6RX5K67l95kXzAnkmPesA  4.399374  -_yn1IOKetBJuPxfK6u8IA           0\n",
       " 1050  HUKrpwmcMlwPbDF5cz0VkQ  4.399158  -_yn1IOKetBJuPxfK6u8IA           0\n",
       " 1051  M4ME5ir-QwnRdM4fhjZtTA  4.398892  -_yn1IOKetBJuPxfK6u8IA           0\n",
       " 1052  QVGHZ_gV-0fO8GeHnNK17A  4.398849  -_yn1IOKetBJuPxfK6u8IA           0\n",
       " \n",
       " [1053 rows x 4 columns],\n",
       "                  business_id     score                 user_id  real_label\n",
       " 0     -fs09akgCKv5rTTy7iUHUg  4.968822  -a-Sv3iht6zhmA7Wi7jslg           0\n",
       " 1     KTGEa8V9ec0QBYM_uk1YLQ  4.955614  -a-Sv3iht6zhmA7Wi7jslg           0\n",
       " 2     ctHjyadbDQAtUFfkcAFEHw  4.948702  -a-Sv3iht6zhmA7Wi7jslg           0\n",
       " 3     o_N7HiU3f6cVvrJAFrE43A  4.941311  -a-Sv3iht6zhmA7Wi7jslg           0\n",
       " 4     ytynqOUb3hjKeJfRj5Tshw  4.940325  -a-Sv3iht6zhmA7Wi7jslg           0\n",
       " ...                      ...       ...                     ...         ...\n",
       " 1075  2jDmrOc_CZpZNG7klKoXtQ  4.460773  -a-Sv3iht6zhmA7Wi7jslg           0\n",
       " 1076  fK_Fd8-KmGV-ASIIjJwfdQ  4.460389  -a-Sv3iht6zhmA7Wi7jslg           0\n",
       " 1077  Cmi007nvusvrE-ary4Xg_A  4.460280  -a-Sv3iht6zhmA7Wi7jslg           0\n",
       " 1078  ehD-O_CRf7LYvoMIajh71w  4.460214  -a-Sv3iht6zhmA7Wi7jslg           0\n",
       " 1079  vHNRMU-lJNYSmsm3AcfAKQ  4.460080  -a-Sv3iht6zhmA7Wi7jslg           0\n",
       " \n",
       " [1080 rows x 4 columns],\n",
       "                  business_id     score                 user_id  real_label\n",
       " 0     -fs09akgCKv5rTTy7iUHUg  4.385646  -a4rD2Sa7hvqF_BjC3QBdQ           0\n",
       " 1     KTGEa8V9ec0QBYM_uk1YLQ  4.356411  -a4rD2Sa7hvqF_BjC3QBdQ           0\n",
       " 2     8ZCpyx-U-dEJyNZBWiC3mA  4.349513  -a4rD2Sa7hvqF_BjC3QBdQ           0\n",
       " 3     Y93S8ZVnOhXQTkWZQEU5yg  4.342967  -a4rD2Sa7hvqF_BjC3QBdQ           0\n",
       " 4     5tK4y67IUn3eDd3S1bka9Q  4.316288  -a4rD2Sa7hvqF_BjC3QBdQ           0\n",
       " ...                      ...       ...                     ...         ...\n",
       " 1120  QVGHZ_gV-0fO8GeHnNK17A  3.783963  -a4rD2Sa7hvqF_BjC3QBdQ           0\n",
       " 1121  L7r4uOZT58z1Vv-rGlSZBg  3.783834  -a4rD2Sa7hvqF_BjC3QBdQ           0\n",
       " 1122  mRpk0A4u0hnF0lNe1h4hGg  3.783721  -a4rD2Sa7hvqF_BjC3QBdQ           0\n",
       " 1123  jRLskcm_icZIKs81mYC4iQ  3.783598  -a4rD2Sa7hvqF_BjC3QBdQ           0\n",
       " 1124  lFxPP7RKBqLf8B-DyM5Ulw  3.783559  -a4rD2Sa7hvqF_BjC3QBdQ           0\n",
       " \n",
       " [1125 rows x 4 columns],\n",
       "                  business_id     score                 user_id  real_label\n",
       " 0     TE2IEDNV0RcI6s1wTOP4fg  4.873778  -a8kCXUGCaGL1wN59YtCzQ           0\n",
       " 1     5tK4y67IUn3eDd3S1bka9Q  4.812003  -a8kCXUGCaGL1wN59YtCzQ           0\n",
       " 2     atZ_olNKXOG4rEr6mccN8g  4.767009  -a8kCXUGCaGL1wN59YtCzQ           0\n",
       " 3     XJvOamdhTQI65jmzTfreDQ  4.756466  -a8kCXUGCaGL1wN59YtCzQ           0\n",
       " 4     Bk6uzC83wbmCHm2i5Uz8OA  4.751041  -a8kCXUGCaGL1wN59YtCzQ           0\n",
       " ...                      ...       ...                     ...         ...\n",
       " 999   cqzAz9oBzPNvJccZ2MNmbA  4.261857  -a8kCXUGCaGL1wN59YtCzQ           0\n",
       " 1000  cL3_SRjQv6YURfCom5YSGw  4.261703  -a8kCXUGCaGL1wN59YtCzQ           0\n",
       " 1001  8Zfo-9ZQWwC85wyBcRDb_Q  4.261659  -a8kCXUGCaGL1wN59YtCzQ           0\n",
       " 1002  UdbHkdU0EfG-RmVxnvO25A  4.261607  -a8kCXUGCaGL1wN59YtCzQ           0\n",
       " 1003  2wvN4OxbXvQIohAZVKSEWw  4.260978  -a8kCXUGCaGL1wN59YtCzQ           0\n",
       " \n",
       " [1004 rows x 4 columns],\n",
       "                  business_id     score                 user_id  real_label\n",
       " 0     -fs09akgCKv5rTTy7iUHUg  4.798064  -aAgfEUH4UoFDRXZCfJSUA           0\n",
       " 1     o_N7HiU3f6cVvrJAFrE43A  4.782007  -aAgfEUH4UoFDRXZCfJSUA           0\n",
       " 2     u3zqvp4BYUjzJD7tzx3Jbg  4.745858  -aAgfEUH4UoFDRXZCfJSUA           0\n",
       " 3     RFo876v_A63N2JfOTq1p-g  4.745414  -aAgfEUH4UoFDRXZCfJSUA           0\n",
       " 4     KTGEa8V9ec0QBYM_uk1YLQ  4.740511  -aAgfEUH4UoFDRXZCfJSUA           0\n",
       " ...                      ...       ...                     ...         ...\n",
       " 1058  fWABYDe4AZEkfeNJIu7CTg  4.169128  -aAgfEUH4UoFDRXZCfJSUA           0\n",
       " 1059  uZgXaaGYzM7z1TJ4zYEMxA  4.168866  -aAgfEUH4UoFDRXZCfJSUA           0\n",
       " 1060  LDeHaPK7ShIvMD2zrwH8xQ  4.168836  -aAgfEUH4UoFDRXZCfJSUA           0\n",
       " 1061  phQZ65kaARzcL1fAquR8LQ  4.168789  -aAgfEUH4UoFDRXZCfJSUA           0\n",
       " 1062  VV_DMArltFOUQq_ONjGVcQ  4.168619  -aAgfEUH4UoFDRXZCfJSUA           0\n",
       " \n",
       " [1063 rows x 4 columns],\n",
       "                  business_id     score                 user_id  real_label\n",
       " 0     -fs09akgCKv5rTTy7iUHUg  4.906462  -aOyKAkjjEEyaGrXB9uKCg           0\n",
       " 1     KTGEa8V9ec0QBYM_uk1YLQ  4.892588  -aOyKAkjjEEyaGrXB9uKCg           0\n",
       " 2     o_N7HiU3f6cVvrJAFrE43A  4.878388  -aOyKAkjjEEyaGrXB9uKCg           0\n",
       " 3     zLm2PaYrpHkcr63ekwvtBQ  4.873952  -aOyKAkjjEEyaGrXB9uKCg           0\n",
       " 4     5tK4y67IUn3eDd3S1bka9Q  4.836160  -aOyKAkjjEEyaGrXB9uKCg           0\n",
       " ...                      ...       ...                     ...         ...\n",
       " 1016  _azrP4ds3iVoAP02mbKZxQ  4.391997  -aOyKAkjjEEyaGrXB9uKCg           0\n",
       " 1017  nxV0qNngBHkOBm3rer9E-w  4.391906  -aOyKAkjjEEyaGrXB9uKCg           0\n",
       " 1018  h_DxpK5pngE1rX0Ca9wzGg  4.391898  -aOyKAkjjEEyaGrXB9uKCg           0\n",
       " 1019  h_DxpK5pngE1rX0Ca9wzGg  4.391898  -aOyKAkjjEEyaGrXB9uKCg           0\n",
       " 1020  h_DxpK5pngE1rX0Ca9wzGg  4.391898  -aOyKAkjjEEyaGrXB9uKCg           0\n",
       " \n",
       " [1021 rows x 4 columns],\n",
       "                  business_id     score                 user_id  real_label\n",
       " 0     -fs09akgCKv5rTTy7iUHUg  4.049681  -aaSXY18HFB9h-5KPX8aSw           0\n",
       " 1     KTGEa8V9ec0QBYM_uk1YLQ  4.032350  -aaSXY18HFB9h-5KPX8aSw           0\n",
       " 2     TE2IEDNV0RcI6s1wTOP4fg  4.028384  -aaSXY18HFB9h-5KPX8aSw           0\n",
       " 3     o_N7HiU3f6cVvrJAFrE43A  4.020163  -aaSXY18HFB9h-5KPX8aSw           0\n",
       " 4     zLm2PaYrpHkcr63ekwvtBQ  4.015249  -aaSXY18HFB9h-5KPX8aSw           0\n",
       " ...                      ...       ...                     ...         ...\n",
       " 1064  oaNMKsN9AgWV6MMGoShW-w  3.425738  -aaSXY18HFB9h-5KPX8aSw           0\n",
       " 1065  pXRrRf8fDv6yU3xp1E25hA  3.425336  -aaSXY18HFB9h-5KPX8aSw           0\n",
       " 1066  pXRrRf8fDv6yU3xp1E25hA  3.425336  -aaSXY18HFB9h-5KPX8aSw           0\n",
       " 1067  UExn59qgCsdJwuPjLzT7ow  3.425320  -aaSXY18HFB9h-5KPX8aSw           0\n",
       " 1068  yFpOyYTVc2p2I-vNxe4nQw  3.425114  -aaSXY18HFB9h-5KPX8aSw           0\n",
       " \n",
       " [1069 rows x 4 columns],\n",
       "                  business_id     score                 user_id  real_label\n",
       " 0     -fs09akgCKv5rTTy7iUHUg  5.033501  -b3giTuADjiihFgGDvlWCw           0\n",
       " 1     KTGEa8V9ec0QBYM_uk1YLQ  5.020195  -b3giTuADjiihFgGDvlWCw           0\n",
       " 2     8ZCpyx-U-dEJyNZBWiC3mA  4.981735  -b3giTuADjiihFgGDvlWCw           0\n",
       " 3     5tK4y67IUn3eDd3S1bka9Q  4.963768  -b3giTuADjiihFgGDvlWCw           0\n",
       " 4     rQ2CSHRkZSn5WCu7OfVI-Q  4.939918  -b3giTuADjiihFgGDvlWCw           0\n",
       " ...                      ...       ...                     ...         ...\n",
       " 1047  eevZhYOfKqMWJIUfFWgZfg  4.533237  -b3giTuADjiihFgGDvlWCw           0\n",
       " 1048  g1KoL8rejZ5tTibsyU0x6A  4.533175  -b3giTuADjiihFgGDvlWCw           0\n",
       " 1049  TCAaeZi4m_RwUTTbZseRmg  4.533138  -b3giTuADjiihFgGDvlWCw           0\n",
       " 1050  wazRghDjVEiSzTt9WXCPOA  4.533101  -b3giTuADjiihFgGDvlWCw           0\n",
       " 1051  c6GTImF01z981_BNJIye2g  4.532976  -b3giTuADjiihFgGDvlWCw           0\n",
       " \n",
       " [1052 rows x 4 columns],\n",
       "                  business_id     score                 user_id  real_label\n",
       " 0     -fs09akgCKv5rTTy7iUHUg  4.230527  -b66K5diYIQCydShlfkRWA           0\n",
       " 1     KTGEa8V9ec0QBYM_uk1YLQ  4.200051  -b66K5diYIQCydShlfkRWA           0\n",
       " 2     8ZCpyx-U-dEJyNZBWiC3mA  4.165267  -b66K5diYIQCydShlfkRWA           0\n",
       " 3     5tK4y67IUn3eDd3S1bka9Q  4.141666  -b66K5diYIQCydShlfkRWA           0\n",
       " 4     5tK4y67IUn3eDd3S1bka9Q  4.141666  -b66K5diYIQCydShlfkRWA           0\n",
       " ...                      ...       ...                     ...         ...\n",
       " 1091  VCeHJ1tRUVi7Vn6nPMtGFA  3.731108  -b66K5diYIQCydShlfkRWA           0\n",
       " 1092  ZCj5o6j6_0JjGOe04WoLsg  3.730947  -b66K5diYIQCydShlfkRWA           0\n",
       " 1093  sVZb87xjhbCWHQ2UXOGLrA  3.730870  -b66K5diYIQCydShlfkRWA           0\n",
       " 1094  g1phwUfq_-S8ZYTRqoG6iw  3.730648  -b66K5diYIQCydShlfkRWA           0\n",
       " 1095  BOjpe0u5u_cm9SWMS2KLFg  3.730612  -b66K5diYIQCydShlfkRWA           0\n",
       " \n",
       " [1096 rows x 4 columns],\n",
       "                  business_id     score                 user_id  real_label\n",
       " 0     -fs09akgCKv5rTTy7iUHUg  4.985101  -bE9ajKOZ5CuQy8zOF_DmA           0\n",
       " 1     TE2IEDNV0RcI6s1wTOP4fg  4.977133  -bE9ajKOZ5CuQy8zOF_DmA           0\n",
       " 2     KTGEa8V9ec0QBYM_uk1YLQ  4.971786  -bE9ajKOZ5CuQy8zOF_DmA           0\n",
       " 3     ctHjyadbDQAtUFfkcAFEHw  4.969979  -bE9ajKOZ5CuQy8zOF_DmA           0\n",
       " 4     ctHjyadbDQAtUFfkcAFEHw  4.969979  -bE9ajKOZ5CuQy8zOF_DmA           0\n",
       " ...                      ...       ...                     ...         ...\n",
       " 1148  pwMejZZUizAZ4aOADafVPg  4.487380  -bE9ajKOZ5CuQy8zOF_DmA           0\n",
       " 1149  xicrRwfMBkDfQlFaGoyC5g  4.487332  -bE9ajKOZ5CuQy8zOF_DmA           0\n",
       " 1150  wazRghDjVEiSzTt9WXCPOA  4.487320  -bE9ajKOZ5CuQy8zOF_DmA           0\n",
       " 1151  1cncsHKApeW1ubd5d9HoJw  4.487019  -bE9ajKOZ5CuQy8zOF_DmA           0\n",
       " 1152  1cncsHKApeW1ubd5d9HoJw  4.487019  -bE9ajKOZ5CuQy8zOF_DmA           0\n",
       " \n",
       " [1153 rows x 4 columns],\n",
       "                  business_id     score                 user_id  real_label\n",
       " 0     RFo876v_A63N2JfOTq1p-g  4.957478  -bFmOUX6D77NXDNXlC96aQ           0\n",
       " 1     -fs09akgCKv5rTTy7iUHUg  4.956486  -bFmOUX6D77NXDNXlC96aQ           0\n",
       " 2     KTGEa8V9ec0QBYM_uk1YLQ  4.943151  -bFmOUX6D77NXDNXlC96aQ           0\n",
       " 3     o_N7HiU3f6cVvrJAFrE43A  4.928950  -bFmOUX6D77NXDNXlC96aQ           0\n",
       " 4     zLm2PaYrpHkcr63ekwvtBQ  4.920860  -bFmOUX6D77NXDNXlC96aQ           0\n",
       " ...                      ...       ...                     ...         ...\n",
       " 1020  mdSjI3ig48WS_jLJ6Vxq0A  4.490625  -bFmOUX6D77NXDNXlC96aQ           0\n",
       " 1021  d8DvaJ2SG7_e4swJVenjUA  4.490246  -bFmOUX6D77NXDNXlC96aQ           0\n",
       " 1022  AJMH4STQfS9at_hU0PGQ7g  4.490233  -bFmOUX6D77NXDNXlC96aQ           0\n",
       " 1023  v5IbyC2qHFFCbDk1IEyBvQ  4.490102  -bFmOUX6D77NXDNXlC96aQ           0\n",
       " 1024  PjmKr02wArbb7NpSWFK_LA  4.490021  -bFmOUX6D77NXDNXlC96aQ           0\n",
       " \n",
       " [1025 rows x 4 columns],\n",
       "                 business_id     score                 user_id  real_label\n",
       " 0    -fs09akgCKv5rTTy7iUHUg  5.030341  -bPILQ2SojyITjuQQF7KiQ           0\n",
       " 1    KTGEa8V9ec0QBYM_uk1YLQ  5.017007  -bPILQ2SojyITjuQQF7KiQ           0\n",
       " 2    8ZCpyx-U-dEJyNZBWiC3mA  4.978580  -bPILQ2SojyITjuQQF7KiQ           0\n",
       " 3    5tK4y67IUn3eDd3S1bka9Q  4.960578  -bPILQ2SojyITjuQQF7KiQ           0\n",
       " 4    XJvOamdhTQI65jmzTfreDQ  4.905076  -bPILQ2SojyITjuQQF7KiQ           0\n",
       " ..                      ...       ...                     ...         ...\n",
       " 995  VTG4ywxqcw-R_bvRGTYKaA  4.520417  -bPILQ2SojyITjuQQF7KiQ           0\n",
       " 996  DCLpWIJ0SixxSR0YsJbqrw  4.520380  -bPILQ2SojyITjuQQF7KiQ           0\n",
       " 997  Ds8E5RPjm2UHUemXJVTs3w  4.520281  -bPILQ2SojyITjuQQF7KiQ           0\n",
       " 998  dDMJ-H6e_RvoxwoXai79Rw  4.520188  -bPILQ2SojyITjuQQF7KiQ           0\n",
       " 999  wvgaFGDyD3nTYZubTahH2A  4.519901  -bPILQ2SojyITjuQQF7KiQ           0\n",
       " \n",
       " [1000 rows x 4 columns],\n",
       "                  business_id     score                 user_id  real_label\n",
       " 0     RFo876v_A63N2JfOTq1p-g  4.928675  -boyAT-5i6HyD7IZxDOccQ           0\n",
       " 1     -fs09akgCKv5rTTy7iUHUg  4.927683  -boyAT-5i6HyD7IZxDOccQ           0\n",
       " 2     KTGEa8V9ec0QBYM_uk1YLQ  4.914348  -boyAT-5i6HyD7IZxDOccQ           0\n",
       " 3     o_N7HiU3f6cVvrJAFrE43A  4.900148  -boyAT-5i6HyD7IZxDOccQ           0\n",
       " 4     zLm2PaYrpHkcr63ekwvtBQ  4.892057  -boyAT-5i6HyD7IZxDOccQ           0\n",
       " ...                      ...       ...                     ...         ...\n",
       " 1022  8VO4Ma7FhsLYop9tk87tbA  4.455713  -boyAT-5i6HyD7IZxDOccQ           0\n",
       " 1023  01Vuw9VgqJVIwThiGg3sRA  4.455585  -boyAT-5i6HyD7IZxDOccQ           0\n",
       " 1024  01Vuw9VgqJVIwThiGg3sRA  4.455585  -boyAT-5i6HyD7IZxDOccQ           0\n",
       " 1025  PmF5kJ2E4YXPnVNNK8S51g  4.455580  -boyAT-5i6HyD7IZxDOccQ           0\n",
       " 1026  zXb_n0-cbsppVXJywaM9wQ  4.455481  -boyAT-5i6HyD7IZxDOccQ           0\n",
       " \n",
       " [1027 rows x 4 columns],\n",
       "                  business_id     score                 user_id  real_label\n",
       " 0     ytynqOUb3hjKeJfRj5Tshw  5.150743  -btcMnOND8URTv5Nwf-FjQ           0\n",
       " 1     ytynqOUb3hjKeJfRj5Tshw  5.150743  -btcMnOND8URTv5Nwf-FjQ           0\n",
       " 2     -fs09akgCKv5rTTy7iUHUg  5.088140  -btcMnOND8URTv5Nwf-FjQ           0\n",
       " 3     -fs09akgCKv5rTTy7iUHUg  5.088140  -btcMnOND8URTv5Nwf-FjQ           0\n",
       " 4     ctHjyadbDQAtUFfkcAFEHw  5.085653  -btcMnOND8URTv5Nwf-FjQ           0\n",
       " ...                      ...       ...                     ...         ...\n",
       " 1127  irXywqvfXj9maLLOBQMYvg  4.597037  -btcMnOND8URTv5Nwf-FjQ           0\n",
       " 1128  FIweOxvfz1aSgXqs2X-pqw  4.597007  -btcMnOND8URTv5Nwf-FjQ           0\n",
       " 1129  YVy2DgGfNmG5hWYbA7k8jg  4.596725  -btcMnOND8URTv5Nwf-FjQ           0\n",
       " 1130  CBWmYHLgtFrOJs7SCcQn0g  4.596584  -btcMnOND8URTv5Nwf-FjQ           0\n",
       " 1131  tyDEseGSr6NIsk7S63uMqA  4.596303  -btcMnOND8URTv5Nwf-FjQ           0\n",
       " \n",
       " [1132 rows x 4 columns],\n",
       "                  business_id     score                 user_id  real_label\n",
       " 0     -fs09akgCKv5rTTy7iUHUg  4.957685  -c1GeRqhs2-uAdygMSTssw           0\n",
       " 1     KTGEa8V9ec0QBYM_uk1YLQ  4.944350  -c1GeRqhs2-uAdygMSTssw           0\n",
       " 2     zLm2PaYrpHkcr63ekwvtBQ  4.922060  -c1GeRqhs2-uAdygMSTssw           0\n",
       " 3     8ZCpyx-U-dEJyNZBWiC3mA  4.905946  -c1GeRqhs2-uAdygMSTssw           0\n",
       " 4     5tK4y67IUn3eDd3S1bka9Q  4.887922  -c1GeRqhs2-uAdygMSTssw           0\n",
       " ...                      ...       ...                     ...         ...\n",
       " 1030  vvGrGn6eo-K_W5h96Pyslw  4.453226  -c1GeRqhs2-uAdygMSTssw           0\n",
       " 1031  jQBPO3rYkNwIaOdQS5ktgQ  4.452988  -c1GeRqhs2-uAdygMSTssw           0\n",
       " 1032  tyDEseGSr6NIsk7S63uMqA  4.452104  -c1GeRqhs2-uAdygMSTssw           0\n",
       " 1033  _qTgNBEvVhcXD1lHksz8RQ  4.452021  -c1GeRqhs2-uAdygMSTssw           0\n",
       " 1034  M1hsyjJDdQQeNP164FJ1pA  4.451971  -c1GeRqhs2-uAdygMSTssw           0\n",
       " \n",
       " [1035 rows x 4 columns],\n",
       "                  business_id     score                 user_id  real_label\n",
       " 0     ytynqOUb3hjKeJfRj5Tshw  5.283002  -c7imk-hnsbfSqNe68xZcg           0\n",
       " 1     ytynqOUb3hjKeJfRj5Tshw  5.283002  -c7imk-hnsbfSqNe68xZcg           0\n",
       " 2     RFo876v_A63N2JfOTq1p-g  5.158947  -c7imk-hnsbfSqNe68xZcg           0\n",
       " 3     -fs09akgCKv5rTTy7iUHUg  5.157866  -c7imk-hnsbfSqNe68xZcg           0\n",
       " 4     TE2IEDNV0RcI6s1wTOP4fg  5.149948  -c7imk-hnsbfSqNe68xZcg           0\n",
       " ...                      ...       ...                     ...         ...\n",
       " 1077  RaDmsg_o5YIDszfYuuv95A  4.673561  -c7imk-hnsbfSqNe68xZcg           0\n",
       " 1078  PmF5kJ2E4YXPnVNNK8S51g  4.672960  -c7imk-hnsbfSqNe68xZcg           0\n",
       " 1079  081vVr80-uscqGGaFAxKfQ  4.672717  -c7imk-hnsbfSqNe68xZcg           0\n",
       " 1080  tkY5BJVXxUmP4jsKavkf2g  4.672667  -c7imk-hnsbfSqNe68xZcg           0\n",
       " 1081  SW3Ywi1x9WVCJv0znJP5Gw  4.672016  -c7imk-hnsbfSqNe68xZcg           0\n",
       " \n",
       " [1082 rows x 4 columns],\n",
       "                  business_id     score                 user_id  real_label\n",
       " 0     -fs09akgCKv5rTTy7iUHUg  4.896135  -c9t77LeAfhc26e_VtPa5Q           0\n",
       " 1     KTGEa8V9ec0QBYM_uk1YLQ  4.882813  -c9t77LeAfhc26e_VtPa5Q           0\n",
       " 2     zLm2PaYrpHkcr63ekwvtBQ  4.861365  -c9t77LeAfhc26e_VtPa5Q           0\n",
       " 3     8ZCpyx-U-dEJyNZBWiC3mA  4.844369  -c9t77LeAfhc26e_VtPa5Q           0\n",
       " 4     5tK4y67IUn3eDd3S1bka9Q  4.826385  -c9t77LeAfhc26e_VtPa5Q           0\n",
       " ...                      ...       ...                     ...         ...\n",
       " 1084  6BvmLng8AmH56-eSekl3zg  4.432213  -c9t77LeAfhc26e_VtPa5Q           0\n",
       " 1085  KqUinf0QEeiZdxko2dFEsA  4.432116  -c9t77LeAfhc26e_VtPa5Q           0\n",
       " 1086  ws6TIgXXA-5RSHRrMBEktA  4.431525  -c9t77LeAfhc26e_VtPa5Q           0\n",
       " 1087  hnXA1m5_6ogFvuvPDEP0Aw  4.431450  -c9t77LeAfhc26e_VtPa5Q           0\n",
       " 1088  -uzQNt-3jsRK5okUuJiQLA  4.431252  -c9t77LeAfhc26e_VtPa5Q           0\n",
       " \n",
       " [1089 rows x 4 columns],\n",
       "                  business_id     score                 user_id  real_label\n",
       " 0     8ZCpyx-U-dEJyNZBWiC3mA  4.824979  -cDcRcTafKIUSvOeVkwlIQ           0\n",
       " 1     5tK4y67IUn3eDd3S1bka9Q  4.806974  -cDcRcTafKIUSvOeVkwlIQ           0\n",
       " 2     atZ_olNKXOG4rEr6mccN8g  4.768970  -cDcRcTafKIUSvOeVkwlIQ           0\n",
       " 3     XJvOamdhTQI65jmzTfreDQ  4.751472  -cDcRcTafKIUSvOeVkwlIQ           0\n",
       " 4     Bk6uzC83wbmCHm2i5Uz8OA  4.746057  -cDcRcTafKIUSvOeVkwlIQ           0\n",
       " ...                      ...       ...                     ...         ...\n",
       " 1050  kEVptUKa_OUPn_50sTmoTQ  4.329908  -cDcRcTafKIUSvOeVkwlIQ           0\n",
       " 1051  wd1AqgQQdeoMCMEwvvs4ow  4.329854  -cDcRcTafKIUSvOeVkwlIQ           0\n",
       " 1052  6R8YGCu8MmavzDhV14Bx5w  4.329693  -cDcRcTafKIUSvOeVkwlIQ           0\n",
       " 1053  pi1CtS1L_Rd1NcmO-un1cQ  4.329463  -cDcRcTafKIUSvOeVkwlIQ           0\n",
       " 1054  hlcJtI8X_KLj0_lDp0zp4w  4.329347  -cDcRcTafKIUSvOeVkwlIQ           0\n",
       " \n",
       " [1055 rows x 4 columns],\n",
       "                  business_id     score                 user_id  real_label\n",
       " 0     RFo876v_A63N2JfOTq1p-g  5.133088  -cUXBYcnwZl81o1JCz3qFg           0\n",
       " 1     -fs09akgCKv5rTTy7iUHUg  5.132008  -cUXBYcnwZl81o1JCz3qFg           0\n",
       " 2     KTGEa8V9ec0QBYM_uk1YLQ  5.118760  -cUXBYcnwZl81o1JCz3qFg           0\n",
       " 3     o_N7HiU3f6cVvrJAFrE43A  5.104496  -cUXBYcnwZl81o1JCz3qFg           0\n",
       " 4     zLm2PaYrpHkcr63ekwvtBQ  5.096469  -cUXBYcnwZl81o1JCz3qFg           0\n",
       " ...                      ...       ...                     ...         ...\n",
       " 1025  PtnPDvGQ4WnZl66GoLph_g  4.631803  -cUXBYcnwZl81o1JCz3qFg           0\n",
       " 1026  VUmtqHLmrcBQiAFMQgX92w  4.631789  -cUXBYcnwZl81o1JCz3qFg           0\n",
       " 1027  eevZhYOfKqMWJIUfFWgZfg  4.631743  -cUXBYcnwZl81o1JCz3qFg           0\n",
       " 1028  g1KoL8rejZ5tTibsyU0x6A  4.631682  -cUXBYcnwZl81o1JCz3qFg           0\n",
       " 1029  g1KoL8rejZ5tTibsyU0x6A  4.631682  -cUXBYcnwZl81o1JCz3qFg           0\n",
       " \n",
       " [1030 rows x 4 columns],\n",
       "                  business_id     score                 user_id  real_label\n",
       " 0     -fs09akgCKv5rTTy7iUHUg  4.403476  -cWGEpeF2eUkJ2hWu-tD7A           0\n",
       " 1     8ZCpyx-U-dEJyNZBWiC3mA  4.374779  -cWGEpeF2eUkJ2hWu-tD7A           0\n",
       " 2     KTGEa8V9ec0QBYM_uk1YLQ  4.373215  -cWGEpeF2eUkJ2hWu-tD7A           0\n",
       " 3     KTGEa8V9ec0QBYM_uk1YLQ  4.373215  -cWGEpeF2eUkJ2hWu-tD7A           0\n",
       " 4     zLm2PaYrpHkcr63ekwvtBQ  4.361256  -cWGEpeF2eUkJ2hWu-tD7A           0\n",
       " ...                      ...       ...                     ...         ...\n",
       " 1062  jAK7p4MPZKsx2o0CwhR48w  3.815779  -cWGEpeF2eUkJ2hWu-tD7A           0\n",
       " 1063  PGzBEg6JAqoiUnkjvi1_3w  3.815744  -cWGEpeF2eUkJ2hWu-tD7A           0\n",
       " 1064  5xRZFazPsVLZXijsYwR7Ng  3.815574  -cWGEpeF2eUkJ2hWu-tD7A           0\n",
       " 1065  k2781O41asaIsK7vkf3asg  3.815460  -cWGEpeF2eUkJ2hWu-tD7A           0\n",
       " 1066  q92RjCgEyOLxDhOQ-GLn4A  3.813800  -cWGEpeF2eUkJ2hWu-tD7A           0\n",
       " \n",
       " [1067 rows x 4 columns],\n",
       "                 business_id     score                 user_id  real_label\n",
       " 0    RFo876v_A63N2JfOTq1p-g  4.990679  -cefE54dkMI9cJ8kWudebg           0\n",
       " 1    -fs09akgCKv5rTTy7iUHUg  4.989684  -cefE54dkMI9cJ8kWudebg           0\n",
       " 2    KTGEa8V9ec0QBYM_uk1YLQ  4.976351  -cefE54dkMI9cJ8kWudebg           0\n",
       " 3    o_N7HiU3f6cVvrJAFrE43A  4.962151  -cefE54dkMI9cJ8kWudebg           0\n",
       " 4    zLm2PaYrpHkcr63ekwvtBQ  4.954061  -cefE54dkMI9cJ8kWudebg           0\n",
       " ..                      ...       ...                     ...         ...\n",
       " 995  qvfkT03PHLf4_Ejs4gtAFQ  4.502896  -cefE54dkMI9cJ8kWudebg           0\n",
       " 996  VQhU-E5-EbW4rfMs5QKANQ  4.502773  -cefE54dkMI9cJ8kWudebg           0\n",
       " 997  wulFpnfqcRP8PNIcHaVdAA  4.502756  -cefE54dkMI9cJ8kWudebg           0\n",
       " 998  b3YIPBHXoyZU13-HFBJv8A  4.502507  -cefE54dkMI9cJ8kWudebg           0\n",
       " 999  mNM9ITg780AnsPThtp9wFg  4.502333  -cefE54dkMI9cJ8kWudebg           0\n",
       " \n",
       " [1000 rows x 4 columns],\n",
       "                  business_id     score                 user_id  real_label\n",
       " 0     RFo876v_A63N2JfOTq1p-g  5.114947  -cu7dZgrH95-VYcKzZSPMg           0\n",
       " 1     -fs09akgCKv5rTTy7iUHUg  5.113881  -cu7dZgrH95-VYcKzZSPMg           0\n",
       " 2     KTGEa8V9ec0QBYM_uk1YLQ  5.100619  -cu7dZgrH95-VYcKzZSPMg           0\n",
       " 3     o_N7HiU3f6cVvrJAFrE43A  5.086369  -cu7dZgrH95-VYcKzZSPMg           0\n",
       " 4     zLm2PaYrpHkcr63ekwvtBQ  5.078329  -cu7dZgrH95-VYcKzZSPMg           0\n",
       " ...                      ...       ...                     ...         ...\n",
       " 1043  fx-U1NC-HJlZ2In5UJiwNQ  4.587801  -cu7dZgrH95-VYcKzZSPMg           0\n",
       " 1044  fdfMYT67xUYY2IqCEnIS2A  4.587556  -cu7dZgrH95-VYcKzZSPMg           0\n",
       " 1045  QUyLaPjsoZiRJ-RUBVa5rA  4.587528  -cu7dZgrH95-VYcKzZSPMg           0\n",
       " 1046  97kHE0zzwdi7H1lmyxE9Eg  4.587518  -cu7dZgrH95-VYcKzZSPMg           0\n",
       " 1047  NaUdzbQGc6KN1T8ASTNm_A  4.587511  -cu7dZgrH95-VYcKzZSPMg           0\n",
       " \n",
       " [1048 rows x 4 columns],\n",
       "                 business_id     score                 user_id  real_label\n",
       " 0    -fs09akgCKv5rTTy7iUHUg  5.070224  -cwoSUKPvN3Xp0fvNIdP8g           0\n",
       " 1    KTGEa8V9ec0QBYM_uk1YLQ  5.056889  -cwoSUKPvN3Xp0fvNIdP8g           0\n",
       " 2    zLm2PaYrpHkcr63ekwvtBQ  5.034598  -cwoSUKPvN3Xp0fvNIdP8g           0\n",
       " 3    8ZCpyx-U-dEJyNZBWiC3mA  5.018461  -cwoSUKPvN3Xp0fvNIdP8g           0\n",
       " 4    5tK4y67IUn3eDd3S1bka9Q  5.000461  -cwoSUKPvN3Xp0fvNIdP8g           0\n",
       " ..                      ...       ...                     ...         ...\n",
       " 995  zWQWjJ0270yqp_KignAmkg  4.573567  -cwoSUKPvN3Xp0fvNIdP8g           0\n",
       " 996  g3xvwZPyW95KThnc7tN79w  4.573560  -cwoSUKPvN3Xp0fvNIdP8g           0\n",
       " 997  CCeUPUSWxYqUB_qtkGi2Lg  4.573491  -cwoSUKPvN3Xp0fvNIdP8g           0\n",
       " 998  wIz_tZ88bj4W3VlrJTiiqQ  4.572917  -cwoSUKPvN3Xp0fvNIdP8g           0\n",
       " 999  wazRghDjVEiSzTt9WXCPOA  4.572752  -cwoSUKPvN3Xp0fvNIdP8g           0\n",
       " \n",
       " [1000 rows x 4 columns],\n",
       "                  business_id     score                 user_id  real_label\n",
       " 0     -fs09akgCKv5rTTy7iUHUg  4.657494  -d2YdvXFPknukoWcJE74dQ           0\n",
       " 1     -fs09akgCKv5rTTy7iUHUg  4.657494  -d2YdvXFPknukoWcJE74dQ           0\n",
       " 2     o_N7HiU3f6cVvrJAFrE43A  4.636735  -d2YdvXFPknukoWcJE74dQ           0\n",
       " 3     KTGEa8V9ec0QBYM_uk1YLQ  4.617817  -d2YdvXFPknukoWcJE74dQ           0\n",
       " 4     KTGEa8V9ec0QBYM_uk1YLQ  4.617817  -d2YdvXFPknukoWcJE74dQ           0\n",
       " ...                      ...       ...                     ...         ...\n",
       " 1044  -WXmyccE1YUqO3mA3Uu1Xw  3.991511  -d2YdvXFPknukoWcJE74dQ           0\n",
       " 1045  MtCiGn5egsWHFRP1YMvrJw  3.991400  -d2YdvXFPknukoWcJE74dQ           0\n",
       " 1046  _V9ktNg37MPh7X3MiYXe_Q  3.991347  -d2YdvXFPknukoWcJE74dQ           0\n",
       " 1047  uz5iexrLN3LjGQGcKMSTuw  3.991133  -d2YdvXFPknukoWcJE74dQ           0\n",
       " 1048  BFyfkA4u8tmSIvoZmEN00Q  3.990749  -d2YdvXFPknukoWcJE74dQ           0\n",
       " \n",
       " [1049 rows x 4 columns],\n",
       "                  business_id     score                 user_id  real_label\n",
       " 0     -fs09akgCKv5rTTy7iUHUg  4.920041  -dDp99bqj2FEm11JUPXhug           0\n",
       " 1     8ZCpyx-U-dEJyNZBWiC3mA  4.868296  -dDp99bqj2FEm11JUPXhug           0\n",
       " 2     5tK4y67IUn3eDd3S1bka9Q  4.850278  -dDp99bqj2FEm11JUPXhug           0\n",
       " 3     atZ_olNKXOG4rEr6mccN8g  4.805232  -dDp99bqj2FEm11JUPXhug           0\n",
       " 4     XJvOamdhTQI65jmzTfreDQ  4.794775  -dDp99bqj2FEm11JUPXhug           0\n",
       " ...                      ...       ...                     ...         ...\n",
       " 1099  wtwDcp79klLOLaIjCFHQCA  4.374094  -dDp99bqj2FEm11JUPXhug           0\n",
       " 1100  7Cpp1cVc1mtC3PVicq9dLQ  4.373923  -dDp99bqj2FEm11JUPXhug           0\n",
       " 1101  7Cpp1cVc1mtC3PVicq9dLQ  4.373923  -dDp99bqj2FEm11JUPXhug           0\n",
       " 1102  nuWWMwtNpgpqNn9UPGTm-Q  4.373835  -dDp99bqj2FEm11JUPXhug           0\n",
       " 1103  0uL-FXY1M2UC12eZcFlTuQ  4.373825  -dDp99bqj2FEm11JUPXhug           0\n",
       " \n",
       " [1104 rows x 4 columns],\n",
       "                  business_id     score                 user_id  real_label\n",
       " 0     -fs09akgCKv5rTTy7iUHUg  4.773600  -dN3ww2WYLkwAbZtJHcLHQ           0\n",
       " 1     KTGEa8V9ec0QBYM_uk1YLQ  4.755142  -dN3ww2WYLkwAbZtJHcLHQ           0\n",
       " 2     zLm2PaYrpHkcr63ekwvtBQ  4.734787  -dN3ww2WYLkwAbZtJHcLHQ           0\n",
       " 3     8ZCpyx-U-dEJyNZBWiC3mA  4.707411  -dN3ww2WYLkwAbZtJHcLHQ           0\n",
       " 4     5tK4y67IUn3eDd3S1bka9Q  4.697912  -dN3ww2WYLkwAbZtJHcLHQ           0\n",
       " ...                      ...       ...                     ...         ...\n",
       " 1019  Ks4r6DEqSbV8D2qc04RhTA  4.282243  -dN3ww2WYLkwAbZtJHcLHQ           0\n",
       " 1020  mcB1_hiiOVPlgTvlkqAiDw  4.281338  -dN3ww2WYLkwAbZtJHcLHQ           0\n",
       " 1021  zf9_8CskW6Vzakg6V78S0g  4.281161  -dN3ww2WYLkwAbZtJHcLHQ           0\n",
       " 1022  j7z0VfA0BjEG6dIVNprH9Q  4.280730  -dN3ww2WYLkwAbZtJHcLHQ           0\n",
       " 1023  q2iS794-52tFAC2ScQFTug  4.280677  -dN3ww2WYLkwAbZtJHcLHQ           0\n",
       " \n",
       " [1024 rows x 4 columns],\n",
       "                  business_id     score                 user_id  real_label\n",
       " 0     -fs09akgCKv5rTTy7iUHUg  4.410662  -dSBNes6SAT-PC_7cSr-LA           0\n",
       " 1     KTGEa8V9ec0QBYM_uk1YLQ  4.381742  -dSBNes6SAT-PC_7cSr-LA           0\n",
       " 2     8ZCpyx-U-dEJyNZBWiC3mA  4.378327  -dSBNes6SAT-PC_7cSr-LA           0\n",
       " 3     zLm2PaYrpHkcr63ekwvtBQ  4.367599  -dSBNes6SAT-PC_7cSr-LA           0\n",
       " 4     o_N7HiU3f6cVvrJAFrE43A  4.365853  -dSBNes6SAT-PC_7cSr-LA           0\n",
       " ...                      ...       ...                     ...         ...\n",
       " 1088  7u7qfIDQCqLjDd7RSae7gQ  3.849044  -dSBNes6SAT-PC_7cSr-LA           0\n",
       " 1089  5fIG7laATvOIgsPPFevqXA  3.848231  -dSBNes6SAT-PC_7cSr-LA           0\n",
       " 1090  -uzQNt-3jsRK5okUuJiQLA  3.847931  -dSBNes6SAT-PC_7cSr-LA           0\n",
       " 1091  ez3QHFQDCbdhzBtU58dbKg  3.847692  -dSBNes6SAT-PC_7cSr-LA           0\n",
       " 1092  nNYKCU_9TOjJLRYwtRiHvQ  3.847360  -dSBNes6SAT-PC_7cSr-LA           0\n",
       " \n",
       " [1093 rows x 4 columns],\n",
       "                  business_id     score                 user_id  real_label\n",
       " 0     -fs09akgCKv5rTTy7iUHUg  5.018293  -dV5NyHfryP-s8gz6BF3zQ           0\n",
       " 1     KTGEa8V9ec0QBYM_uk1YLQ  5.004958  -dV5NyHfryP-s8gz6BF3zQ           0\n",
       " 2     o_N7HiU3f6cVvrJAFrE43A  4.990758  -dV5NyHfryP-s8gz6BF3zQ           0\n",
       " 3     zLm2PaYrpHkcr63ekwvtBQ  4.982667  -dV5NyHfryP-s8gz6BF3zQ           0\n",
       " 4     8ZCpyx-U-dEJyNZBWiC3mA  4.966541  -dV5NyHfryP-s8gz6BF3zQ           0\n",
       " ...                      ...       ...                     ...         ...\n",
       " 1009  mmBwAe9q062vKWanRfoagQ  4.536327  -dV5NyHfryP-s8gz6BF3zQ           0\n",
       " 1010  tKxXZd00zZ24jDmJJcUYPQ  4.536193  -dV5NyHfryP-s8gz6BF3zQ           0\n",
       " 1011  PmF5kJ2E4YXPnVNNK8S51g  4.535913  -dV5NyHfryP-s8gz6BF3zQ           0\n",
       " 1012  bjkA3ustWdg3EsTLRiUNKA  4.535868  -dV5NyHfryP-s8gz6BF3zQ           0\n",
       " 1013  5xRZFazPsVLZXijsYwR7Ng  4.535641  -dV5NyHfryP-s8gz6BF3zQ           0\n",
       " \n",
       " [1014 rows x 4 columns],\n",
       "                  business_id     score                 user_id  real_label\n",
       " 0     Bk6uzC83wbmCHm2i5Uz8OA  4.125624  -dbM944bfCz-KeUD5gTErw           0\n",
       " 1     d_UJWp4IlGS4sgnjE60eBw  4.116829  -dbM944bfCz-KeUD5gTErw           0\n",
       " 2     atZ_olNKXOG4rEr6mccN8g  4.109481  -dbM944bfCz-KeUD5gTErw           0\n",
       " 3     rv1KUBVNQkJ5WUQb49dU0Q  4.091320  -dbM944bfCz-KeUD5gTErw           0\n",
       " 4     BXXdejmA_rJpMD2MBKCyGA  4.081965  -dbM944bfCz-KeUD5gTErw           0\n",
       " ...                      ...       ...                     ...         ...\n",
       " 1028  JACmaOwKSKdpgC9cEnVmJg  3.447225  -dbM944bfCz-KeUD5gTErw           0\n",
       " 1029  eGi7CE2YaN6YMiGyXNi8XQ  3.447087  -dbM944bfCz-KeUD5gTErw           0\n",
       " 1030  dQPccM6B0MyuYJpx7DXlaA  3.446252  -dbM944bfCz-KeUD5gTErw           0\n",
       " 1031  bjUsT5hjwGpE4GV3HNY62g  3.446174  -dbM944bfCz-KeUD5gTErw           0\n",
       " 1032  prATCkHZzIXFvOzCuRi-TA  3.445956  -dbM944bfCz-KeUD5gTErw           0\n",
       " \n",
       " [1033 rows x 4 columns],\n",
       "                  business_id     score                 user_id  real_label\n",
       " 0     RFo876v_A63N2JfOTq1p-g  5.185197  -dbvRNHhBPs4eXhu2k0_xA           0\n",
       " 1     -fs09akgCKv5rTTy7iUHUg  5.184204  -dbvRNHhBPs4eXhu2k0_xA           0\n",
       " 2     KTGEa8V9ec0QBYM_uk1YLQ  5.170869  -dbvRNHhBPs4eXhu2k0_xA           0\n",
       " 3     o_N7HiU3f6cVvrJAFrE43A  5.156669  -dbvRNHhBPs4eXhu2k0_xA           0\n",
       " 4     zLm2PaYrpHkcr63ekwvtBQ  5.148579  -dbvRNHhBPs4eXhu2k0_xA           0\n",
       " ...                      ...       ...                     ...         ...\n",
       " 1050  ROs0p-56kxQL2lgV00c0yQ  4.673727  -dbvRNHhBPs4eXhu2k0_xA           0\n",
       " 1051  -NytUJ0yYOT-LniQtqXtHQ  4.673433  -dbvRNHhBPs4eXhu2k0_xA           0\n",
       " 1052  iSNjJF8tYOCvucYC7nHk1A  4.673271  -dbvRNHhBPs4eXhu2k0_xA           0\n",
       " 1053  RbM-F22RcF5i2kDQ3jU1BA  4.673228  -dbvRNHhBPs4eXhu2k0_xA           0\n",
       " 1054  cgcOYegrCFvqjT7MGTevsQ  4.673144  -dbvRNHhBPs4eXhu2k0_xA           0\n",
       " \n",
       " [1055 rows x 4 columns],\n",
       "                  business_id     score                 user_id  real_label\n",
       " 0     -fs09akgCKv5rTTy7iUHUg  4.892657  -ddIIDmG3b8k7-jALGM-1A           0\n",
       " 1     5tK4y67IUn3eDd3S1bka9Q  4.822909  -ddIIDmG3b8k7-jALGM-1A           0\n",
       " 2     atZ_olNKXOG4rEr6mccN8g  4.779297  -ddIIDmG3b8k7-jALGM-1A           0\n",
       " 3     XJvOamdhTQI65jmzTfreDQ  4.767393  -ddIIDmG3b8k7-jALGM-1A           0\n",
       " 4     Bk6uzC83wbmCHm2i5Uz8OA  4.761970  -ddIIDmG3b8k7-jALGM-1A           0\n",
       " ...                      ...       ...                     ...         ...\n",
       " 1005  S26FJcC298XNpN2cZiwOrA  4.303250  -ddIIDmG3b8k7-jALGM-1A           0\n",
       " 1006  IWydHEK_2-owciF0kJu9Ag  4.303037  -ddIIDmG3b8k7-jALGM-1A           0\n",
       " 1007  6o3Xj4Lxa2XcaHuCblCc3g  4.302587  -ddIIDmG3b8k7-jALGM-1A           0\n",
       " 1008  GTCWl4QDG6CV5M_xRkRlbg  4.302218  -ddIIDmG3b8k7-jALGM-1A           0\n",
       " 1009  c8MtmxfLvqmVL5b6gyQumA  4.302131  -ddIIDmG3b8k7-jALGM-1A           0\n",
       " \n",
       " [1010 rows x 4 columns],\n",
       "                  business_id     score                 user_id  real_label\n",
       " 0     -fs09akgCKv5rTTy7iUHUg  4.965869  -dgC1iRp_JqBTmn5d1wRhg           0\n",
       " 1     KTGEa8V9ec0QBYM_uk1YLQ  4.947397  -dgC1iRp_JqBTmn5d1wRhg           0\n",
       " 2     zLm2PaYrpHkcr63ekwvtBQ  4.933359  -dgC1iRp_JqBTmn5d1wRhg           0\n",
       " 3     8ZCpyx-U-dEJyNZBWiC3mA  4.895848  -dgC1iRp_JqBTmn5d1wRhg           0\n",
       " 4     5tK4y67IUn3eDd3S1bka9Q  4.889658  -dgC1iRp_JqBTmn5d1wRhg           0\n",
       " ...                      ...       ...                     ...         ...\n",
       " 1036  23qO8FxRwjfmkDqCK-HfLw  4.473109  -dgC1iRp_JqBTmn5d1wRhg           0\n",
       " 1037  mNbU2k2li4HeavZvI-bAvA  4.473106  -dgC1iRp_JqBTmn5d1wRhg           0\n",
       " 1038  G15tUaO6G0nS41zY8g8Yow  4.472672  -dgC1iRp_JqBTmn5d1wRhg           0\n",
       " 1039  wvgaFGDyD3nTYZubTahH2A  4.472461  -dgC1iRp_JqBTmn5d1wRhg           0\n",
       " 1040  QTeEX_XchMKgS27yX913mA  4.472403  -dgC1iRp_JqBTmn5d1wRhg           0\n",
       " \n",
       " [1041 rows x 4 columns],\n",
       "                  business_id     score                 user_id  real_label\n",
       " 0     ytynqOUb3hjKeJfRj5Tshw  5.262473  -dnERQYQCDVZFMMuh7bBDg           0\n",
       " 1     ytynqOUb3hjKeJfRj5Tshw  5.262473  -dnERQYQCDVZFMMuh7bBDg           0\n",
       " 2     -fs09akgCKv5rTTy7iUHUg  5.194310  -dnERQYQCDVZFMMuh7bBDg           0\n",
       " 3     -fs09akgCKv5rTTy7iUHUg  5.194310  -dnERQYQCDVZFMMuh7bBDg           0\n",
       " 4     KTGEa8V9ec0QBYM_uk1YLQ  5.180990  -dnERQYQCDVZFMMuh7bBDg           0\n",
       " ...                      ...       ...                     ...         ...\n",
       " 1138  3D--xK_0--6-zMm1ip_bjw  4.685453  -dnERQYQCDVZFMMuh7bBDg           0\n",
       " 1139  a1u9Bxrq_fZxl2pgqQUcJA  4.685292  -dnERQYQCDVZFMMuh7bBDg           0\n",
       " 1140  KW7hDw16MIvR_gyNKzTvNQ  4.685261  -dnERQYQCDVZFMMuh7bBDg           0\n",
       " 1141  0Sa2hQnbS9hoRthHKOGepg  4.685066  -dnERQYQCDVZFMMuh7bBDg           0\n",
       " 1142  cdIZWzfLzU8AAnS0rWQXdw  4.684450  -dnERQYQCDVZFMMuh7bBDg           0\n",
       " \n",
       " [1143 rows x 4 columns],\n",
       "                  business_id     score                 user_id  real_label\n",
       " 0     -fs09akgCKv5rTTy7iUHUg  4.744136  -doYBxcOjqWkUcPjc29otg           0\n",
       " 1     u3zqvp4BYUjzJD7tzx3Jbg  4.716179  -doYBxcOjqWkUcPjc29otg           0\n",
       " 2     KTGEa8V9ec0QBYM_uk1YLQ  4.696206  -doYBxcOjqWkUcPjc29otg           0\n",
       " 3     zLm2PaYrpHkcr63ekwvtBQ  4.689282  -doYBxcOjqWkUcPjc29otg           0\n",
       " 4     XJvOamdhTQI65jmzTfreDQ  4.629033  -doYBxcOjqWkUcPjc29otg           0\n",
       " ...                      ...       ...                     ...         ...\n",
       " 1049  eE5rsErCgdkqBe5FnWn6oA  4.037339  -doYBxcOjqWkUcPjc29otg           0\n",
       " 1050  0hcn0TK1-n6-6hiznW1Kgw  4.037318  -doYBxcOjqWkUcPjc29otg           0\n",
       " 1051  YFF9QHuMMi5nT1TtY2L2tw  4.037100  -doYBxcOjqWkUcPjc29otg           0\n",
       " 1052  b6_HDIygAfbG9SZWbZMD_g  4.037044  -doYBxcOjqWkUcPjc29otg           0\n",
       " 1053  eOgIV1HZNbMmogTsSNZdUA  4.036874  -doYBxcOjqWkUcPjc29otg           0\n",
       " \n",
       " [1054 rows x 4 columns],\n",
       "                  business_id     score                 user_id  real_label\n",
       " 0     -fs09akgCKv5rTTy7iUHUg  5.002035  -e5VFAI-WBHBL7PFMNArDg           0\n",
       " 1     KTGEa8V9ec0QBYM_uk1YLQ  4.983563  -e5VFAI-WBHBL7PFMNArDg           0\n",
       " 2     o_N7HiU3f6cVvrJAFrE43A  4.970431  -e5VFAI-WBHBL7PFMNArDg           0\n",
       " 3     zLm2PaYrpHkcr63ekwvtBQ  4.969525  -e5VFAI-WBHBL7PFMNArDg           0\n",
       " 4     Y93S8ZVnOhXQTkWZQEU5yg  4.951323  -e5VFAI-WBHBL7PFMNArDg           0\n",
       " ...                      ...       ...                     ...         ...\n",
       " 1042  sXSUzImYOcRRI3xtG2M85g  4.487172  -e5VFAI-WBHBL7PFMNArDg           0\n",
       " 1043  d1sIHLt1NmXmawO6mP9gYw  4.487124  -e5VFAI-WBHBL7PFMNArDg           0\n",
       " 1044  PUDDBW0MfpSFI2XEMv_g3Q  4.487088  -e5VFAI-WBHBL7PFMNArDg           0\n",
       " 1045  gmYMOcIFsfUnlP_5HMaHpw  4.486958  -e5VFAI-WBHBL7PFMNArDg           0\n",
       " 1046  emiTsQeFq-YSYi-NgUC1Gw  4.486957  -e5VFAI-WBHBL7PFMNArDg           0\n",
       " \n",
       " [1047 rows x 4 columns],\n",
       "                  business_id     score                 user_id  real_label\n",
       " 0     9pwzHmhCpgJwfaIP9jWoCg  4.715160  -eBkx1Hl2A40GZAaZvXR1Q           0\n",
       " 1     X3NS8516o015Z1zcOwrqmQ  4.694069  -eBkx1Hl2A40GZAaZvXR1Q           0\n",
       " 2     BXXdejmA_rJpMD2MBKCyGA  4.655130  -eBkx1Hl2A40GZAaZvXR1Q           0\n",
       " 3     twQrGPaDKo26B4kDZjTMeA  4.650562  -eBkx1Hl2A40GZAaZvXR1Q           0\n",
       " 4     mZlz6wq17Vl0wEokdpPdWg  4.647135  -eBkx1Hl2A40GZAaZvXR1Q           0\n",
       " ...                      ...       ...                     ...         ...\n",
       " 1001  vaCu8cDUYihdO3ug__zpoA  4.137475  -eBkx1Hl2A40GZAaZvXR1Q           0\n",
       " 1002  DgI7aGrOMJdzOPeW2wQ6Xw  4.137429  -eBkx1Hl2A40GZAaZvXR1Q           0\n",
       " 1003  cf5vLyeHZ8EZzxD4SkUjVw  4.137372  -eBkx1Hl2A40GZAaZvXR1Q           0\n",
       " 1004  BNISBb0BJg6nZBG5fhbJLw  4.137347  -eBkx1Hl2A40GZAaZvXR1Q           0\n",
       " 1005  2VwnSZwgPuTePY4CKgZ1Xg  4.137083  -eBkx1Hl2A40GZAaZvXR1Q           0\n",
       " \n",
       " [1006 rows x 4 columns],\n",
       "                  business_id     score                 user_id  real_label\n",
       " 0     -fs09akgCKv5rTTy7iUHUg  5.054519  -eV9o-F_ejw7ov4s4FFVEQ           0\n",
       " 1     KTGEa8V9ec0QBYM_uk1YLQ  5.041217  -eV9o-F_ejw7ov4s4FFVEQ           0\n",
       " 2     zLm2PaYrpHkcr63ekwvtBQ  5.018927  -eV9o-F_ejw7ov4s4FFVEQ           0\n",
       " 3     8ZCpyx-U-dEJyNZBWiC3mA  5.002753  -eV9o-F_ejw7ov4s4FFVEQ           0\n",
       " 4     5tK4y67IUn3eDd3S1bka9Q  4.984790  -eV9o-F_ejw7ov4s4FFVEQ           0\n",
       " ...                      ...       ...                     ...         ...\n",
       " 996   lQTdARrqdKMAcDp1PWpQ9A  4.573472  -eV9o-F_ejw7ov4s4FFVEQ           0\n",
       " 997   R17gwW6zn9ilslbdvKdgsg  4.573313  -eV9o-F_ejw7ov4s4FFVEQ           0\n",
       " 998   7hsCR9k_GND2QoQyVkITBg  4.573164  -eV9o-F_ejw7ov4s4FFVEQ           0\n",
       " 999   ME7nOO4hHoCwkbssGqsyPA  4.573059  -eV9o-F_ejw7ov4s4FFVEQ           0\n",
       " 1000  zKOFqb0RyrnY9t02f0QFTQ  4.572978  -eV9o-F_ejw7ov4s4FFVEQ           0\n",
       " \n",
       " [1001 rows x 4 columns],\n",
       "                  business_id     score                 user_id  real_label\n",
       " 0     -fs09akgCKv5rTTy7iUHUg  4.791317  -eXQMvcIcOaX56CVSWVteA           0\n",
       " 1     o_N7HiU3f6cVvrJAFrE43A  4.777685  -eXQMvcIcOaX56CVSWVteA           0\n",
       " 2     u3zqvp4BYUjzJD7tzx3Jbg  4.769181  -eXQMvcIcOaX56CVSWVteA           0\n",
       " 3     KTGEa8V9ec0QBYM_uk1YLQ  4.748523  -eXQMvcIcOaX56CVSWVteA           0\n",
       " 4     8ZCpyx-U-dEJyNZBWiC3mA  4.732624  -eXQMvcIcOaX56CVSWVteA           0\n",
       " ...                      ...       ...                     ...         ...\n",
       " 1028  85S9b55dIToR6N6jdPXK3Q  4.150736  -eXQMvcIcOaX56CVSWVteA           0\n",
       " 1029  4tggaX0XrqYEaJOBFCcD5A  4.150562  -eXQMvcIcOaX56CVSWVteA           0\n",
       " 1030  KhBUg5QhBYuK8RZAe5gDMQ  4.150153  -eXQMvcIcOaX56CVSWVteA           0\n",
       " 1031  KhBUg5QhBYuK8RZAe5gDMQ  4.150153  -eXQMvcIcOaX56CVSWVteA           0\n",
       " 1032  BSsUo9_zTI4po1SXPfNHuA  4.149754  -eXQMvcIcOaX56CVSWVteA           0\n",
       " \n",
       " [1033 rows x 4 columns],\n",
       "                  business_id     score                 user_id  real_label\n",
       " 0     -fs09akgCKv5rTTy7iUHUg  4.994911  -eg6fCMY7UsXzd-ImafXPQ           0\n",
       " 1     KTGEa8V9ec0QBYM_uk1YLQ  4.981612  -eg6fCMY7UsXzd-ImafXPQ           0\n",
       " 2     o_N7HiU3f6cVvrJAFrE43A  4.967400  -eg6fCMY7UsXzd-ImafXPQ           0\n",
       " 3     zLm2PaYrpHkcr63ekwvtBQ  4.959321  -eg6fCMY7UsXzd-ImafXPQ           0\n",
       " 4     8ZCpyx-U-dEJyNZBWiC3mA  4.943146  -eg6fCMY7UsXzd-ImafXPQ           0\n",
       " ...                      ...       ...                     ...         ...\n",
       " 1024  hHCGmb01EGFstumCsd4-VA  4.502040  -eg6fCMY7UsXzd-ImafXPQ           0\n",
       " 1025  cXa1G6GYqpKR3hjw9zR3qA  4.501730  -eg6fCMY7UsXzd-ImafXPQ           0\n",
       " 1026  wIz_tZ88bj4W3VlrJTiiqQ  4.501695  -eg6fCMY7UsXzd-ImafXPQ           0\n",
       " 1027  Rw8Zf_snPdZO_B3XFOsJ6w  4.501595  -eg6fCMY7UsXzd-ImafXPQ           0\n",
       " 1028  cIohvIbTq6qN7god-sx1zg  4.501589  -eg6fCMY7UsXzd-ImafXPQ           0\n",
       " \n",
       " [1029 rows x 4 columns],\n",
       "                  business_id     score                 user_id  real_label\n",
       " 0     RFo876v_A63N2JfOTq1p-g  5.412686  -eneOTwr5fAo0bjYXHaPoQ           0\n",
       " 1     -fs09akgCKv5rTTy7iUHUg  5.411580  -eneOTwr5fAo0bjYXHaPoQ           0\n",
       " 2     KTGEa8V9ec0QBYM_uk1YLQ  5.398358  -eneOTwr5fAo0bjYXHaPoQ           0\n",
       " 3     o_N7HiU3f6cVvrJAFrE43A  5.384068  -eneOTwr5fAo0bjYXHaPoQ           0\n",
       " 4     zLm2PaYrpHkcr63ekwvtBQ  5.376068  -eneOTwr5fAo0bjYXHaPoQ           0\n",
       " ...                      ...       ...                     ...         ...\n",
       " 1042  Qc8GIJyfarIaakj98zwckw  4.909227  -eneOTwr5fAo0bjYXHaPoQ           0\n",
       " 1043  9rMLrfcH-d6mKdq7uMNwzw  4.908930  -eneOTwr5fAo0bjYXHaPoQ           0\n",
       " 1044  U6RX5K67l95kXzAnkmPesA  4.908591  -eneOTwr5fAo0bjYXHaPoQ           0\n",
       " 1045  pFILrIntfcOc6ekPd6m6lQ  4.908513  -eneOTwr5fAo0bjYXHaPoQ           0\n",
       " 1046  7gtWQMLOEwCxh1I5j6uB4g  4.908364  -eneOTwr5fAo0bjYXHaPoQ           0\n",
       " \n",
       " [1047 rows x 4 columns],\n",
       "                  business_id     score                 user_id  real_label\n",
       " 0     -fs09akgCKv5rTTy7iUHUg  5.077267  -eoXg6Aq_7DPSGjk22kReg           0\n",
       " 1     KTGEa8V9ec0QBYM_uk1YLQ  5.063931  -eoXg6Aq_7DPSGjk22kReg           0\n",
       " 2     zLm2PaYrpHkcr63ekwvtBQ  5.041641  -eoXg6Aq_7DPSGjk22kReg           0\n",
       " 3     8ZCpyx-U-dEJyNZBWiC3mA  5.025501  -eoXg6Aq_7DPSGjk22kReg           0\n",
       " 4     5tK4y67IUn3eDd3S1bka9Q  5.007504  -eoXg6Aq_7DPSGjk22kReg           0\n",
       " ...                      ...       ...                     ...         ...\n",
       " 1007  rcJnKmhgSPb8BmK3d6AZYQ  4.581425  -eoXg6Aq_7DPSGjk22kReg           0\n",
       " 1008  wulFpnfqcRP8PNIcHaVdAA  4.581397  -eoXg6Aq_7DPSGjk22kReg           0\n",
       " 1009  n_RGE_Wn5L7phnlkQ919kQ  4.581091  -eoXg6Aq_7DPSGjk22kReg           0\n",
       " 1010  W4ZEKkva9HpAdZG88juwyQ  4.581008  -eoXg6Aq_7DPSGjk22kReg           0\n",
       " 1011  zdvUHIeAQrDcTWNT7GWsmA  4.580993  -eoXg6Aq_7DPSGjk22kReg           0\n",
       " \n",
       " [1012 rows x 4 columns],\n",
       "                  business_id     score                 user_id  real_label\n",
       " 0     ytynqOUb3hjKeJfRj5Tshw  5.316105  -f2KvHiPd_5Wj_eL1JJUCQ           0\n",
       " 1     ytynqOUb3hjKeJfRj5Tshw  5.316105  -f2KvHiPd_5Wj_eL1JJUCQ           0\n",
       " 2     RFo876v_A63N2JfOTq1p-g  5.188319  -f2KvHiPd_5Wj_eL1JJUCQ           0\n",
       " 3     -fs09akgCKv5rTTy7iUHUg  5.187230  -f2KvHiPd_5Wj_eL1JJUCQ           0\n",
       " 4     KTGEa8V9ec0QBYM_uk1YLQ  5.173992  -f2KvHiPd_5Wj_eL1JJUCQ           0\n",
       " ...                      ...       ...                     ...         ...\n",
       " 1097  MuQ-irulfi6V8N9Ka6XBHQ  4.709571  -f2KvHiPd_5Wj_eL1JJUCQ           0\n",
       " 1098  AJMH4STQfS9at_hU0PGQ7g  4.709255  -f2KvHiPd_5Wj_eL1JJUCQ           0\n",
       " 1099  jK14ZI9sfjOsWcPrCOQBcQ  4.708997  -f2KvHiPd_5Wj_eL1JJUCQ           0\n",
       " 1100  ZuwJdk2g6XGRWV94TE50Cg  4.708941  -f2KvHiPd_5Wj_eL1JJUCQ           0\n",
       " 1101  rgeuy1qbw6Z8B6CSVANHIA  4.708124  -f2KvHiPd_5Wj_eL1JJUCQ           0\n",
       " \n",
       " [1102 rows x 4 columns],\n",
       "                  business_id     score                 user_id  real_label\n",
       " 0     -fs09akgCKv5rTTy7iUHUg  4.875067  -f8p-dBjGKrwVsi1sG6Sig           0\n",
       " 1     KTGEa8V9ec0QBYM_uk1YLQ  4.857585  -f8p-dBjGKrwVsi1sG6Sig           0\n",
       " 2     o_N7HiU3f6cVvrJAFrE43A  4.843463  -f8p-dBjGKrwVsi1sG6Sig           0\n",
       " 3     zLm2PaYrpHkcr63ekwvtBQ  4.842557  -f8p-dBjGKrwVsi1sG6Sig           0\n",
       " 4     8ZCpyx-U-dEJyNZBWiC3mA  4.819232  -f8p-dBjGKrwVsi1sG6Sig           0\n",
       " ...                      ...       ...                     ...         ...\n",
       " 1077  HaSCfbMg9CKMlrBV0sZjoA  4.400224  -f8p-dBjGKrwVsi1sG6Sig           0\n",
       " 1078  1EDUXBWC6IAZvW-r5BKDGw  4.400175  -f8p-dBjGKrwVsi1sG6Sig           0\n",
       " 1079  9wu8pszrPPUjruNvgQtIEg  4.399963  -f8p-dBjGKrwVsi1sG6Sig           0\n",
       " 1080  9wu8pszrPPUjruNvgQtIEg  4.399963  -f8p-dBjGKrwVsi1sG6Sig           0\n",
       " 1081  rmwhfWzP320I107h28Cuqw  4.399826  -f8p-dBjGKrwVsi1sG6Sig           0\n",
       " \n",
       " [1082 rows x 4 columns],\n",
       "                  business_id     score                 user_id  real_label\n",
       " 0     8ZCpyx-U-dEJyNZBWiC3mA  4.511733  -fKG0wVdEPqy5IxGGznaTg           0\n",
       " 1     5tK4y67IUn3eDd3S1bka9Q  4.432334  -fKG0wVdEPqy5IxGGznaTg           0\n",
       " 2     XJvOamdhTQI65jmzTfreDQ  4.361641  -fKG0wVdEPqy5IxGGznaTg           0\n",
       " 3     OOB-Rd8HtW7Mfj154dFUWw  4.354860  -fKG0wVdEPqy5IxGGznaTg           0\n",
       " 4     i7_3lQzM5SP8Cc2YT-X3BA  4.353414  -fKG0wVdEPqy5IxGGznaTg           0\n",
       " ...                      ...       ...                     ...         ...\n",
       " 1082  OuLT0Em6xoWe08SQSdrbKw  3.785191  -fKG0wVdEPqy5IxGGznaTg           0\n",
       " 1083  60xFUHDmopm4FRzK6bPRTw  3.785022  -fKG0wVdEPqy5IxGGznaTg           0\n",
       " 1084  OtgmbKqu7Uz6cZ5pKUhRuA  3.784980  -fKG0wVdEPqy5IxGGznaTg           0\n",
       " 1085  wtwDcp79klLOLaIjCFHQCA  3.784618  -fKG0wVdEPqy5IxGGznaTg           0\n",
       " 1086  4YoVUmkpUBNtdYa804Wzvg  3.784604  -fKG0wVdEPqy5IxGGznaTg           0\n",
       " \n",
       " [1087 rows x 4 columns],\n",
       "                  business_id     score                 user_id  real_label\n",
       " 0     -fs09akgCKv5rTTy7iUHUg  4.928257  -fMK6HsJsnH-Nscz2JwTaw           0\n",
       " 1     KTGEa8V9ec0QBYM_uk1YLQ  4.903142  -fMK6HsJsnH-Nscz2JwTaw           0\n",
       " 2     o_N7HiU3f6cVvrJAFrE43A  4.900726  -fMK6HsJsnH-Nscz2JwTaw           0\n",
       " 3     zLm2PaYrpHkcr63ekwvtBQ  4.887966  -fMK6HsJsnH-Nscz2JwTaw           0\n",
       " 4     8ZCpyx-U-dEJyNZBWiC3mA  4.876491  -fMK6HsJsnH-Nscz2JwTaw           0\n",
       " ...                      ...       ...                     ...         ...\n",
       " 1010  f9ChjNJV73tpa4rPb_JO0g  4.413442  -fMK6HsJsnH-Nscz2JwTaw           0\n",
       " 1011  3yyTNQtkDYOP3vsCdoFm6A  4.413239  -fMK6HsJsnH-Nscz2JwTaw           0\n",
       " 1012  n_zDBVMcBFU1bCOERIQ6HQ  4.413030  -fMK6HsJsnH-Nscz2JwTaw           0\n",
       " 1013  hHCGmb01EGFstumCsd4-VA  4.413008  -fMK6HsJsnH-Nscz2JwTaw           0\n",
       " 1014  VhCNCbbMO8jX5pyKExEoxA  4.412925  -fMK6HsJsnH-Nscz2JwTaw           0\n",
       " \n",
       " [1015 rows x 4 columns],\n",
       "                  business_id     score                 user_id  real_label\n",
       " 0     -fs09akgCKv5rTTy7iUHUg  4.500577  -fmwin22AJpmbRXvXpMxUA           0\n",
       " 1     8ZCpyx-U-dEJyNZBWiC3mA  4.493027  -fmwin22AJpmbRXvXpMxUA           0\n",
       " 2     KTGEa8V9ec0QBYM_uk1YLQ  4.460329  -fmwin22AJpmbRXvXpMxUA           0\n",
       " 3     5tK4y67IUn3eDd3S1bka9Q  4.418592  -fmwin22AJpmbRXvXpMxUA           0\n",
       " 4     9pwzHmhCpgJwfaIP9jWoCg  4.372097  -fmwin22AJpmbRXvXpMxUA           0\n",
       " ...                      ...       ...                     ...         ...\n",
       " 1036  exUNRoWghbN2mGS3PEMopA  3.818219  -fmwin22AJpmbRXvXpMxUA           0\n",
       " 1037  GsBDSxvX4VcvmdVODoJ_lQ  3.818046  -fmwin22AJpmbRXvXpMxUA           0\n",
       " 1038  7neWV37lyUK91x1WnCOyFQ  3.818028  -fmwin22AJpmbRXvXpMxUA           0\n",
       " 1039  7neWV37lyUK91x1WnCOyFQ  3.818028  -fmwin22AJpmbRXvXpMxUA           0\n",
       " 1040  mu2yd4Z5n5NLCaLC_KlqLQ  3.817928  -fmwin22AJpmbRXvXpMxUA           0\n",
       " \n",
       " [1041 rows x 4 columns],\n",
       "                  business_id     score                 user_id  real_label\n",
       " 0     -fs09akgCKv5rTTy7iUHUg  4.959541  -foIP_JKiHcomkmI_M-8GA           0\n",
       " 1     KTGEa8V9ec0QBYM_uk1YLQ  4.946241  -foIP_JKiHcomkmI_M-8GA           0\n",
       " 2     zLm2PaYrpHkcr63ekwvtBQ  4.923950  -foIP_JKiHcomkmI_M-8GA           0\n",
       " 3     8ZCpyx-U-dEJyNZBWiC3mA  4.907775  -foIP_JKiHcomkmI_M-8GA           0\n",
       " 4     5tK4y67IUn3eDd3S1bka9Q  4.889812  -foIP_JKiHcomkmI_M-8GA           0\n",
       " ...                      ...       ...                     ...         ...\n",
       " 1014  qvfkT03PHLf4_Ejs4gtAFQ  4.477293  -foIP_JKiHcomkmI_M-8GA           0\n",
       " 1015  saVXla5i8TjE51S5uCaf6w  4.477219  -foIP_JKiHcomkmI_M-8GA           0\n",
       " 1016  wulFpnfqcRP8PNIcHaVdAA  4.477152  -foIP_JKiHcomkmI_M-8GA           0\n",
       " 1017  vQNRMrVD7tQTCmYkYBMLyQ  4.476998  -foIP_JKiHcomkmI_M-8GA           0\n",
       " 1018  6ciAUVTzxDall6WXLoot0A  4.476383  -foIP_JKiHcomkmI_M-8GA           0\n",
       " \n",
       " [1019 rows x 4 columns],\n",
       "                  business_id     score                 user_id  real_label\n",
       " 0     -fs09akgCKv5rTTy7iUHUg  4.936477  -foYCv84A0n0HmsrDEAhtw           0\n",
       " 1     KTGEa8V9ec0QBYM_uk1YLQ  4.923142  -foYCv84A0n0HmsrDEAhtw           0\n",
       " 2     KTGEa8V9ec0QBYM_uk1YLQ  4.923142  -foYCv84A0n0HmsrDEAhtw           0\n",
       " 3     KTGEa8V9ec0QBYM_uk1YLQ  4.923142  -foYCv84A0n0HmsrDEAhtw           0\n",
       " 4     o_N7HiU3f6cVvrJAFrE43A  4.908942  -foYCv84A0n0HmsrDEAhtw           0\n",
       " ...                      ...       ...                     ...         ...\n",
       " 1105  PtnPDvGQ4WnZl66GoLph_g  4.444404  -foYCv84A0n0HmsrDEAhtw           0\n",
       " 1106  1Mc_Reqnxhs0eHQFAhXVUQ  4.444285  -foYCv84A0n0HmsrDEAhtw           0\n",
       " 1107  8pqdJjefYq-a9IBSJJmKwA  4.444203  -foYCv84A0n0HmsrDEAhtw           0\n",
       " 1108  8pqdJjefYq-a9IBSJJmKwA  4.444203  -foYCv84A0n0HmsrDEAhtw           0\n",
       " 1109  VSBDNSp-rGItt1Sl70jnew  4.443745  -foYCv84A0n0HmsrDEAhtw           0\n",
       " \n",
       " [1110 rows x 4 columns],\n",
       "                  business_id     score                 user_id  real_label\n",
       " 0     o_N7HiU3f6cVvrJAFrE43A  4.689350  -frybFHNHWnwd69LFXkOVQ           0\n",
       " 1     5tK4y67IUn3eDd3S1bka9Q  4.659567  -frybFHNHWnwd69LFXkOVQ           0\n",
       " 2     9pwzHmhCpgJwfaIP9jWoCg  4.547294  -frybFHNHWnwd69LFXkOVQ           0\n",
       " 3     Bk6uzC83wbmCHm2i5Uz8OA  4.541497  -frybFHNHWnwd69LFXkOVQ           0\n",
       " 4     8j5bQ0nDwoGiFaTQDNCQTg  4.521812  -frybFHNHWnwd69LFXkOVQ           0\n",
       " ...                      ...       ...                     ...         ...\n",
       " 1009  ZyoQIM7cVOekqWYfwZ1sNg  3.777160  -frybFHNHWnwd69LFXkOVQ           0\n",
       " 1010  38F4LbjmsdptNIdCdQiY2A  3.777090  -frybFHNHWnwd69LFXkOVQ           0\n",
       " 1011  8ziWPiVtx_gkKLf1KPLfAQ  3.776990  -frybFHNHWnwd69LFXkOVQ           0\n",
       " 1012  -GvA6iekqOACGodgLYiMKA  3.776822  -frybFHNHWnwd69LFXkOVQ           0\n",
       " 1013  fT5h8f6kVGdUg70SMRTyNw  3.776578  -frybFHNHWnwd69LFXkOVQ           0\n",
       " \n",
       " [1014 rows x 4 columns],\n",
       "                  business_id     score                 user_id  real_label\n",
       " 0     -fs09akgCKv5rTTy7iUHUg  5.323882  -g3XIcCb2b-BD0QBCcq2Sw           0\n",
       " 1     RFo876v_A63N2JfOTq1p-g  5.313666  -g3XIcCb2b-BD0QBCcq2Sw           0\n",
       " 2     KTGEa8V9ec0QBYM_uk1YLQ  5.299198  -g3XIcCb2b-BD0QBCcq2Sw           0\n",
       " 3     zLm2PaYrpHkcr63ekwvtBQ  5.297180  -g3XIcCb2b-BD0QBCcq2Sw           0\n",
       " 4     u3zqvp4BYUjzJD7tzx3Jbg  5.278689  -g3XIcCb2b-BD0QBCcq2Sw           0\n",
       " ...                      ...       ...                     ...         ...\n",
       " 1026  x4XdNhp0Xn8lOivzc77J-g  4.729280  -g3XIcCb2b-BD0QBCcq2Sw           0\n",
       " 1027  VG54JsBaDIbXU29HI9jiXw  4.729259  -g3XIcCb2b-BD0QBCcq2Sw           0\n",
       " 1028  n_Dd2ZreYlX8Xg1Vw47BXQ  4.729129  -g3XIcCb2b-BD0QBCcq2Sw           0\n",
       " 1029  UExn59qgCsdJwuPjLzT7ow  4.729084  -g3XIcCb2b-BD0QBCcq2Sw           0\n",
       " 1030  v5hCB55uWA97qj_Ww8DHqw  4.729031  -g3XIcCb2b-BD0QBCcq2Sw           0\n",
       " \n",
       " [1031 rows x 4 columns],\n",
       "                  business_id     score                 user_id  real_label\n",
       " 0     RFo876v_A63N2JfOTq1p-g  4.898835  -g8Cl0OINIPcGf1gZsyjlw           0\n",
       " 1     -fs09akgCKv5rTTy7iUHUg  4.897842  -g8Cl0OINIPcGf1gZsyjlw           0\n",
       " 2     TE2IEDNV0RcI6s1wTOP4fg  4.889854  -g8Cl0OINIPcGf1gZsyjlw           0\n",
       " 3     KTGEa8V9ec0QBYM_uk1YLQ  4.884507  -g8Cl0OINIPcGf1gZsyjlw           0\n",
       " 4     o_N7HiU3f6cVvrJAFrE43A  4.870307  -g8Cl0OINIPcGf1gZsyjlw           0\n",
       " ...                      ...       ...                     ...         ...\n",
       " 1104  ahpLj4hNo2-2w_xf2sNE3g  4.394180  -g8Cl0OINIPcGf1gZsyjlw           0\n",
       " 1105  kNUdugntWQD8jEB-QNFEjg  4.393976  -g8Cl0OINIPcGf1gZsyjlw           0\n",
       " 1106  aouMSx4NBmdOS30QOYF4Ww  4.393967  -g8Cl0OINIPcGf1gZsyjlw           0\n",
       " 1107  B3Op-BE7dyOcXZitSlASZw  4.393965  -g8Cl0OINIPcGf1gZsyjlw           0\n",
       " 1108  LdK6Tqr9-QK8eNezCUes9A  4.393951  -g8Cl0OINIPcGf1gZsyjlw           0\n",
       " \n",
       " [1109 rows x 4 columns],\n",
       "                 business_id     score                 user_id  real_label\n",
       " 0    XJvOamdhTQI65jmzTfreDQ  4.802358  -g8nkLX6PGNDSgoy4YzjFA           0\n",
       " 1    atZ_olNKXOG4rEr6mccN8g  4.800356  -g8nkLX6PGNDSgoy4YzjFA           0\n",
       " 2    _ZMf5Am_e0AE7aveELJd9w  4.794199  -g8nkLX6PGNDSgoy4YzjFA           0\n",
       " 3    9pwzHmhCpgJwfaIP9jWoCg  4.790226  -g8nkLX6PGNDSgoy4YzjFA           0\n",
       " 4    d_UJWp4IlGS4sgnjE60eBw  4.751012  -g8nkLX6PGNDSgoy4YzjFA           0\n",
       " ..                      ...       ...                     ...         ...\n",
       " 995  YYqRjbCVyoRfTV1R16eqxw  4.271196  -g8nkLX6PGNDSgoy4YzjFA           0\n",
       " 996  lr2vWpgyXSdI0IVtCUO4eQ  4.270829  -g8nkLX6PGNDSgoy4YzjFA           0\n",
       " 997  JLixvCikc5JYGcnvaqHoJg  4.270389  -g8nkLX6PGNDSgoy4YzjFA           0\n",
       " 998  ImO3aF_axcKe5pwFf-jQeQ  4.270087  -g8nkLX6PGNDSgoy4YzjFA           0\n",
       " 999  UtN8X5mQIqLgp2SEf7geFg  4.269965  -g8nkLX6PGNDSgoy4YzjFA           0\n",
       " \n",
       " [1000 rows x 4 columns],\n",
       "                  business_id     score                 user_id  real_label\n",
       " 0     -fs09akgCKv5rTTy7iUHUg  5.068122  -gE77ci-b7ApX68uIdAnaw           0\n",
       " 1     KTGEa8V9ec0QBYM_uk1YLQ  5.054845  -gE77ci-b7ApX68uIdAnaw           0\n",
       " 2     o_N7HiU3f6cVvrJAFrE43A  5.040610  -gE77ci-b7ApX68uIdAnaw           0\n",
       " 3     zLm2PaYrpHkcr63ekwvtBQ  5.032555  -gE77ci-b7ApX68uIdAnaw           0\n",
       " 4     8ZCpyx-U-dEJyNZBWiC3mA  5.016356  -gE77ci-b7ApX68uIdAnaw           0\n",
       " ...                      ...       ...                     ...         ...\n",
       " 1087  fb7WERNeJ6KbzN-H5ImqnQ  4.568510  -gE77ci-b7ApX68uIdAnaw           0\n",
       " 1088  g6rcVXjeLT6Y_kAFhbbJRg  4.568409  -gE77ci-b7ApX68uIdAnaw           0\n",
       " 1089  c6GTImF01z981_BNJIye2g  4.568341  -gE77ci-b7ApX68uIdAnaw           0\n",
       " 1090  pwMejZZUizAZ4aOADafVPg  4.568238  -gE77ci-b7ApX68uIdAnaw           0\n",
       " 1091  xLuEfxyJ8BnDtI9pG-mGAw  4.567996  -gE77ci-b7ApX68uIdAnaw           0\n",
       " \n",
       " [1092 rows x 4 columns],\n",
       "                  business_id     score                 user_id  real_label\n",
       " 0     -fs09akgCKv5rTTy7iUHUg  4.889182  -gFDA_I0xfeU9P4ZURYmZQ           0\n",
       " 1     KTGEa8V9ec0QBYM_uk1YLQ  4.875974  -gFDA_I0xfeU9P4ZURYmZQ           0\n",
       " 2     KTGEa8V9ec0QBYM_uk1YLQ  4.875974  -gFDA_I0xfeU9P4ZURYmZQ           0\n",
       " 3     Y93S8ZVnOhXQTkWZQEU5yg  4.841066  -gFDA_I0xfeU9P4ZURYmZQ           0\n",
       " 4     8ZCpyx-U-dEJyNZBWiC3mA  4.837416  -gFDA_I0xfeU9P4ZURYmZQ           0\n",
       " ...                      ...       ...                     ...         ...\n",
       " 1077  lJ59yy1n1CHztMN6DsXBQA  4.391619  -gFDA_I0xfeU9P4ZURYmZQ           0\n",
       " 1078  RjTT7tn9BPTfRmyJagMN6g  4.391609  -gFDA_I0xfeU9P4ZURYmZQ           0\n",
       " 1079  vvGrGn6eo-K_W5h96Pyslw  4.391453  -gFDA_I0xfeU9P4ZURYmZQ           0\n",
       " 1080  VTG4ywxqcw-R_bvRGTYKaA  4.391348  -gFDA_I0xfeU9P4ZURYmZQ           0\n",
       " 1081  HO1KJ6Jwk3sU_UTIJGOLDA  4.391270  -gFDA_I0xfeU9P4ZURYmZQ           0\n",
       " \n",
       " [1082 rows x 4 columns],\n",
       "                  business_id     score                 user_id  real_label\n",
       " 0     -fs09akgCKv5rTTy7iUHUg  4.654034  -gl8HgLsNHExQqmtfQ8lgQ           0\n",
       " 1     RFo876v_A63N2JfOTq1p-g  4.636992  -gl8HgLsNHExQqmtfQ8lgQ           0\n",
       " 2     KTGEa8V9ec0QBYM_uk1YLQ  4.614791  -gl8HgLsNHExQqmtfQ8lgQ           0\n",
       " 3     o_N7HiU3f6cVvrJAFrE43A  4.613289  -gl8HgLsNHExQqmtfQ8lgQ           0\n",
       " 4     Y93S8ZVnOhXQTkWZQEU5yg  4.591655  -gl8HgLsNHExQqmtfQ8lgQ           0\n",
       " ...                      ...       ...                     ...         ...\n",
       " 1050  9uU6AGSXncM-hu6lIvgv3w  4.004508  -gl8HgLsNHExQqmtfQ8lgQ           0\n",
       " 1051  wFh3TahiN41RdBSA1KAieA  4.004347  -gl8HgLsNHExQqmtfQ8lgQ           0\n",
       " 1052  T6c7iPO8Y4t_GQiyevZbiQ  4.003910  -gl8HgLsNHExQqmtfQ8lgQ           0\n",
       " 1053  HcEZhHOwwzRUKB3PIrsrVg  4.003609  -gl8HgLsNHExQqmtfQ8lgQ           0\n",
       " 1054  ZHuAKLpnpKwe8-ztzln-tQ  4.003410  -gl8HgLsNHExQqmtfQ8lgQ           0\n",
       " \n",
       " [1055 rows x 4 columns],\n",
       "                  business_id     score                 user_id  real_label\n",
       " 0     -fs09akgCKv5rTTy7iUHUg  4.159445  -gnVco-DuGt7zvPnj16ZnA           0\n",
       " 1     RFo876v_A63N2JfOTq1p-g  4.157735  -gnVco-DuGt7zvPnj16ZnA           0\n",
       " 2     KTGEa8V9ec0QBYM_uk1YLQ  4.137264  -gnVco-DuGt7zvPnj16ZnA           0\n",
       " 3     o_N7HiU3f6cVvrJAFrE43A  4.124028  -gnVco-DuGt7zvPnj16ZnA           0\n",
       " 4     zLm2PaYrpHkcr63ekwvtBQ  4.120385  -gnVco-DuGt7zvPnj16ZnA           0\n",
       " ...                      ...       ...                     ...         ...\n",
       " 1044  koKA8h_mMQxHE0d_wBlFUg  3.654401  -gnVco-DuGt7zvPnj16ZnA           0\n",
       " 1045  kYMbb8w911cQ0so_ExzlEQ  3.653562  -gnVco-DuGt7zvPnj16ZnA           0\n",
       " 1046  0RFb4sAljaBV2HeRXee4-A  3.653440  -gnVco-DuGt7zvPnj16ZnA           0\n",
       " 1047  cFk2SMsJ-2cmXKLFFkP9JA  3.653000  -gnVco-DuGt7zvPnj16ZnA           0\n",
       " 1048  0Sa2hQnbS9hoRthHKOGepg  3.652712  -gnVco-DuGt7zvPnj16ZnA           0\n",
       " \n",
       " [1049 rows x 4 columns],\n",
       "                  business_id     score                 user_id  real_label\n",
       " 0     -fs09akgCKv5rTTy7iUHUg  4.741429  -gyMF41B910teLQOVGZnHQ           0\n",
       " 1     KTGEa8V9ec0QBYM_uk1YLQ  4.728133  -gyMF41B910teLQOVGZnHQ           0\n",
       " 2     o_N7HiU3f6cVvrJAFrE43A  4.703982  -gyMF41B910teLQOVGZnHQ           0\n",
       " 3     zLm2PaYrpHkcr63ekwvtBQ  4.696754  -gyMF41B910teLQOVGZnHQ           0\n",
       " 4     8ZCpyx-U-dEJyNZBWiC3mA  4.673721  -gyMF41B910teLQOVGZnHQ           0\n",
       " ...                      ...       ...                     ...         ...\n",
       " 1053  jE7PpEUmWgcBc0DeelPAOA  4.058039  -gyMF41B910teLQOVGZnHQ           0\n",
       " 1054  k2781O41asaIsK7vkf3asg  4.057107  -gyMF41B910teLQOVGZnHQ           0\n",
       " 1055  YrbQ_OrRo-TYHnVw5y4Kew  4.056650  -gyMF41B910teLQOVGZnHQ           0\n",
       " 1056  B3Op-BE7dyOcXZitSlASZw  4.056554  -gyMF41B910teLQOVGZnHQ           0\n",
       " 1057  NcrvG-VdwRlFJ_IHaL4W7Q  4.056352  -gyMF41B910teLQOVGZnHQ           0\n",
       " \n",
       " [1058 rows x 4 columns],\n",
       "                 business_id     score                 user_id  real_label\n",
       " 0    -fs09akgCKv5rTTy7iUHUg  4.896020  -hFSXulXh22Es29Y4F4cgQ           0\n",
       " 1    KTGEa8V9ec0QBYM_uk1YLQ  4.882685  -hFSXulXh22Es29Y4F4cgQ           0\n",
       " 2    o_N7HiU3f6cVvrJAFrE43A  4.868485  -hFSXulXh22Es29Y4F4cgQ           0\n",
       " 3    zLm2PaYrpHkcr63ekwvtBQ  4.860394  -hFSXulXh22Es29Y4F4cgQ           0\n",
       " 4    8ZCpyx-U-dEJyNZBWiC3mA  4.844264  -hFSXulXh22Es29Y4F4cgQ           0\n",
       " ..                      ...       ...                     ...         ...\n",
       " 995  5Q82x5hIwfWSF3XEeINkgQ  4.380747  -hFSXulXh22Es29Y4F4cgQ           0\n",
       " 996  fx-U1NC-HJlZ2In5UJiwNQ  4.380735  -hFSXulXh22Es29Y4F4cgQ           0\n",
       " 997  VhCNCbbMO8jX5pyKExEoxA  4.380697  -hFSXulXh22Es29Y4F4cgQ           0\n",
       " 998  bZcW_CPll-WaAgciSLPyrA  4.380691  -hFSXulXh22Es29Y4F4cgQ           0\n",
       " 999  368cyArdo0P0aDUOhhE4PA  4.380678  -hFSXulXh22Es29Y4F4cgQ           0\n",
       " \n",
       " [1000 rows x 4 columns],\n",
       "                  business_id     score                 user_id  real_label\n",
       " 0     RFo876v_A63N2JfOTq1p-g  5.063026  -hKniZN2OdshWLHYuj21jQ           0\n",
       " 1     -fs09akgCKv5rTTy7iUHUg  5.058566  -hKniZN2OdshWLHYuj21jQ           0\n",
       " 2     KTGEa8V9ec0QBYM_uk1YLQ  5.040094  -hKniZN2OdshWLHYuj21jQ           0\n",
       " 3     o_N7HiU3f6cVvrJAFrE43A  5.026962  -hKniZN2OdshWLHYuj21jQ           0\n",
       " 4     Y93S8ZVnOhXQTkWZQEU5yg  5.007853  -hKniZN2OdshWLHYuj21jQ           0\n",
       " ...                      ...       ...                     ...         ...\n",
       " 1054  TdvI2kA0zslVlFS8a8YuTQ  4.534492  -hKniZN2OdshWLHYuj21jQ           0\n",
       " 1055  _Rj-WaJMlpdhM3hNzrjgoQ  4.534413  -hKniZN2OdshWLHYuj21jQ           0\n",
       " 1056  T3tiN6g7G2XUoDjRv3d8Cw  4.534402  -hKniZN2OdshWLHYuj21jQ           0\n",
       " 1057  _tvR2q9UJmFAxf7FE83eaw  4.534239  -hKniZN2OdshWLHYuj21jQ           0\n",
       " 1058  Yz0fJyBkUF8VZBvwFswkRQ  4.533745  -hKniZN2OdshWLHYuj21jQ           0\n",
       " \n",
       " [1059 rows x 4 columns],\n",
       "                  business_id     score                 user_id  real_label\n",
       " 0     -fs09akgCKv5rTTy7iUHUg  4.993557  -hb-jWOSILqYDe8HLrr9aQ           0\n",
       " 1     KTGEa8V9ec0QBYM_uk1YLQ  4.980222  -hb-jWOSILqYDe8HLrr9aQ           0\n",
       " 2     zLm2PaYrpHkcr63ekwvtBQ  4.957931  -hb-jWOSILqYDe8HLrr9aQ           0\n",
       " 3     8ZCpyx-U-dEJyNZBWiC3mA  4.941823  -hb-jWOSILqYDe8HLrr9aQ           0\n",
       " 4     5tK4y67IUn3eDd3S1bka9Q  4.923794  -hb-jWOSILqYDe8HLrr9aQ           0\n",
       " ...                      ...       ...                     ...         ...\n",
       " 1023  Rw8Zf_snPdZO_B3XFOsJ6w  4.500051  -hb-jWOSILqYDe8HLrr9aQ           0\n",
       " 1024  hHCGmb01EGFstumCsd4-VA  4.499688  -hb-jWOSILqYDe8HLrr9aQ           0\n",
       " 1025  cIohvIbTq6qN7god-sx1zg  4.499237  -hb-jWOSILqYDe8HLrr9aQ           0\n",
       " 1026  QVGHZ_gV-0fO8GeHnNK17A  4.499224  -hb-jWOSILqYDe8HLrr9aQ           0\n",
       " 1027  kvb0a9FiFs9UXWxE6q-5DA  4.499199  -hb-jWOSILqYDe8HLrr9aQ           0\n",
       " \n",
       " [1028 rows x 4 columns],\n",
       "                  business_id     score                 user_id  real_label\n",
       " 0     -fs09akgCKv5rTTy7iUHUg  5.025066  -hf6FNSAnsIp1MMdtRJgBA           0\n",
       " 1     KTGEa8V9ec0QBYM_uk1YLQ  5.011766  -hf6FNSAnsIp1MMdtRJgBA           0\n",
       " 2     8ZCpyx-U-dEJyNZBWiC3mA  4.973300  -hf6FNSAnsIp1MMdtRJgBA           0\n",
       " 3     5tK4y67IUn3eDd3S1bka9Q  4.955338  -hf6FNSAnsIp1MMdtRJgBA           0\n",
       " 4     XJvOamdhTQI65jmzTfreDQ  4.899802  -hf6FNSAnsIp1MMdtRJgBA           0\n",
       " ...                      ...       ...                     ...         ...\n",
       " 1006  qppGA9vCUPfw9ngOy_R90w  4.469230  -hf6FNSAnsIp1MMdtRJgBA           0\n",
       " 1007  SF3rXWXL4BCCNjayCDbjSA  4.469184  -hf6FNSAnsIp1MMdtRJgBA           0\n",
       " 1008  T4v7qgTIhDFoDYxTMus5Yw  4.468997  -hf6FNSAnsIp1MMdtRJgBA           0\n",
       " 1009  E_jnzr_iuZGeUeP-5VMi2Q  4.468940  -hf6FNSAnsIp1MMdtRJgBA           0\n",
       " 1010  0uL-FXY1M2UC12eZcFlTuQ  4.468624  -hf6FNSAnsIp1MMdtRJgBA           0\n",
       " \n",
       " [1011 rows x 4 columns],\n",
       "                  business_id     score                 user_id  real_label\n",
       " 0     -fs09akgCKv5rTTy7iUHUg  4.135993  -hxUwfo3cMnLTv-CAaP69A           0\n",
       " 1     RFo876v_A63N2JfOTq1p-g  4.129906  -hxUwfo3cMnLTv-CAaP69A           0\n",
       " 2     KTGEa8V9ec0QBYM_uk1YLQ  4.119953  -hxUwfo3cMnLTv-CAaP69A           0\n",
       " 3     TE2IEDNV0RcI6s1wTOP4fg  4.116721  -hxUwfo3cMnLTv-CAaP69A           0\n",
       " 4     o_N7HiU3f6cVvrJAFrE43A  4.109758  -hxUwfo3cMnLTv-CAaP69A           0\n",
       " ...                      ...       ...                     ...         ...\n",
       " 1049  ZhExDd48ZtOj2DFjXPgfpw  3.581173  -hxUwfo3cMnLTv-CAaP69A           0\n",
       " 1050  9A8AuBfUNyWdQRTRjIlpzA  3.580921  -hxUwfo3cMnLTv-CAaP69A           0\n",
       " 1051  HkNyp7B8D5SUgX1XO_gGiw  3.580592  -hxUwfo3cMnLTv-CAaP69A           0\n",
       " 1052  3_WGRjRrnZX2b4ZVpjmL6w  3.580128  -hxUwfo3cMnLTv-CAaP69A           0\n",
       " 1053  wnjFEC-w0qWnyDnO8k1RpA  3.580086  -hxUwfo3cMnLTv-CAaP69A           0\n",
       " \n",
       " [1054 rows x 4 columns],\n",
       "                  business_id     score                 user_id  real_label\n",
       " 0     -fs09akgCKv5rTTy7iUHUg  4.674117  -iWrF5qf9AddYxAqlEwK1A           0\n",
       " 1     -fs09akgCKv5rTTy7iUHUg  4.674117  -iWrF5qf9AddYxAqlEwK1A           0\n",
       " 2     -fs09akgCKv5rTTy7iUHUg  4.674117  -iWrF5qf9AddYxAqlEwK1A           0\n",
       " 3     TE2IEDNV0RcI6s1wTOP4fg  4.650660  -iWrF5qf9AddYxAqlEwK1A           0\n",
       " 4     8ZCpyx-U-dEJyNZBWiC3mA  4.649263  -iWrF5qf9AddYxAqlEwK1A           0\n",
       " ...                      ...       ...                     ...         ...\n",
       " 1077  kNUdugntWQD8jEB-QNFEjg  4.036882  -iWrF5qf9AddYxAqlEwK1A           0\n",
       " 1078  pOvZxLj85yEOMFNRpZBtvw  4.036778  -iWrF5qf9AddYxAqlEwK1A           0\n",
       " 1079  5u_eZ2_GYsPtLuRwAajgzg  4.036768  -iWrF5qf9AddYxAqlEwK1A           0\n",
       " 1080  jAK7p4MPZKsx2o0CwhR48w  4.036457  -iWrF5qf9AddYxAqlEwK1A           0\n",
       " 1081  39qmzoLvI65BhqAplZi29Q  4.036420  -iWrF5qf9AddYxAqlEwK1A           0\n",
       " \n",
       " [1082 rows x 4 columns],\n",
       "                  business_id     score                 user_id  real_label\n",
       " 0     RFo876v_A63N2JfOTq1p-g  5.188782  -ibb_cZiaht_DjkIqDUF_Q           0\n",
       " 1     -fs09akgCKv5rTTy7iUHUg  5.187717  -ibb_cZiaht_DjkIqDUF_Q           0\n",
       " 2     KTGEa8V9ec0QBYM_uk1YLQ  5.174455  -ibb_cZiaht_DjkIqDUF_Q           0\n",
       " 3     o_N7HiU3f6cVvrJAFrE43A  5.160205  -ibb_cZiaht_DjkIqDUF_Q           0\n",
       " 4     zLm2PaYrpHkcr63ekwvtBQ  5.152164  -ibb_cZiaht_DjkIqDUF_Q           0\n",
       " ...                      ...       ...                     ...         ...\n",
       " 1025  1IDmcnlYxNX68ivve5xasQ  4.692743  -ibb_cZiaht_DjkIqDUF_Q           0\n",
       " 1026  FcKqZpor9OjdTfoWkaGXuA  4.692607  -ibb_cZiaht_DjkIqDUF_Q           0\n",
       " 1027  -BhSR6dAry5-2x3ndjX_9w  4.692422  -ibb_cZiaht_DjkIqDUF_Q           0\n",
       " 1028  oqbhVgliVJH-iRa3AnD-3A  4.692314  -ibb_cZiaht_DjkIqDUF_Q           0\n",
       " 1029  ZHuAKLpnpKwe8-ztzln-tQ  4.692276  -ibb_cZiaht_DjkIqDUF_Q           0\n",
       " \n",
       " [1030 rows x 4 columns],\n",
       "                 business_id     score                 user_id  real_label\n",
       " 0    8ZCpyx-U-dEJyNZBWiC3mA  5.160223  -imdPiD9l7cS-x1jEDAS-w           0\n",
       " 1    XJvOamdhTQI65jmzTfreDQ  5.086725  -imdPiD9l7cS-x1jEDAS-w           0\n",
       " 2    Bk6uzC83wbmCHm2i5Uz8OA  5.081302  -imdPiD9l7cS-x1jEDAS-w           0\n",
       " 3    _ZMf5Am_e0AE7aveELJd9w  5.078567  -imdPiD9l7cS-x1jEDAS-w           0\n",
       " 4    wUnLSg_GKfEIQ5CQQ770_g  5.071272  -imdPiD9l7cS-x1jEDAS-w           0\n",
       " ..                      ...       ...                     ...         ...\n",
       " 995  XnbuS6ieFxsDSH9go88juw  4.662411  -imdPiD9l7cS-x1jEDAS-w           0\n",
       " 996  kqAa2CtPGA-QsZhhbzpzUQ  4.662257  -imdPiD9l7cS-x1jEDAS-w           0\n",
       " 997  y4zd4gFTMW30xRCyGHWuDg  4.662134  -imdPiD9l7cS-x1jEDAS-w           0\n",
       " 998  SDYBtlgb-j14ERrXOEPi3Q  4.661606  -imdPiD9l7cS-x1jEDAS-w           0\n",
       " 999  wtwDcp79klLOLaIjCFHQCA  4.661396  -imdPiD9l7cS-x1jEDAS-w           0\n",
       " \n",
       " [1000 rows x 4 columns],\n",
       "                  business_id     score                 user_id  real_label\n",
       " 0     -fs09akgCKv5rTTy7iUHUg  4.753288  -jJQl8lKSgT6pnpBAFhTTQ           0\n",
       " 1     RFo876v_A63N2JfOTq1p-g  4.742062  -jJQl8lKSgT6pnpBAFhTTQ           0\n",
       " 2     KTGEa8V9ec0QBYM_uk1YLQ  4.738204  -jJQl8lKSgT6pnpBAFhTTQ           0\n",
       " 3     o_N7HiU3f6cVvrJAFrE43A  4.715126  -jJQl8lKSgT6pnpBAFhTTQ           0\n",
       " 4     Y93S8ZVnOhXQTkWZQEU5yg  4.715077  -jJQl8lKSgT6pnpBAFhTTQ           0\n",
       " ...                      ...       ...                     ...         ...\n",
       " 998   mqWevFvwJopHKJ2PYVMwqw  3.970094  -jJQl8lKSgT6pnpBAFhTTQ           0\n",
       " 999   9WCzvpbGzcs4AVYSThNYag  3.969574  -jJQl8lKSgT6pnpBAFhTTQ           0\n",
       " 1000  vTu1LveMWZVjXlMzFvg_-w  3.969398  -jJQl8lKSgT6pnpBAFhTTQ           0\n",
       " 1001  _YfnWUGgsLiH13wiPuC7jg  3.968998  -jJQl8lKSgT6pnpBAFhTTQ           0\n",
       " 1002  3OBPIClQ1ncXoOgcOFd07w  3.968858  -jJQl8lKSgT6pnpBAFhTTQ           0\n",
       " \n",
       " [1003 rows x 4 columns],\n",
       "                  business_id     score                 user_id  real_label\n",
       " 0     -fs09akgCKv5rTTy7iUHUg  4.912698  -jqm_UtGfAxHmLlsQNpM-A           0\n",
       " 1     o_N7HiU3f6cVvrJAFrE43A  4.886937  -jqm_UtGfAxHmLlsQNpM-A           0\n",
       " 2     KTGEa8V9ec0QBYM_uk1YLQ  4.869904  -jqm_UtGfAxHmLlsQNpM-A           0\n",
       " 3     zLm2PaYrpHkcr63ekwvtBQ  4.854728  -jqm_UtGfAxHmLlsQNpM-A           0\n",
       " 4     8ZCpyx-U-dEJyNZBWiC3mA  4.854000  -jqm_UtGfAxHmLlsQNpM-A           0\n",
       " ...                      ...       ...                     ...         ...\n",
       " 1026  OshZe8R4Zhcy-TsjK5vJdg  4.393426  -jqm_UtGfAxHmLlsQNpM-A           0\n",
       " 1027  UExn59qgCsdJwuPjLzT7ow  4.393319  -jqm_UtGfAxHmLlsQNpM-A           0\n",
       " 1028  sXSUzImYOcRRI3xtG2M85g  4.393039  -jqm_UtGfAxHmLlsQNpM-A           0\n",
       " 1029  zBs8GENWVLpX7KcBIPiB0A  4.392727  -jqm_UtGfAxHmLlsQNpM-A           0\n",
       " 1030  85S9b55dIToR6N6jdPXK3Q  4.392608  -jqm_UtGfAxHmLlsQNpM-A           0\n",
       " \n",
       " [1031 rows x 4 columns],\n",
       "                  business_id     score                 user_id  real_label\n",
       " 0     -fs09akgCKv5rTTy7iUHUg  4.411347  -jt1ACMiZljnBFvS6RRvnA           0\n",
       " 1     -fs09akgCKv5rTTy7iUHUg  4.411347  -jt1ACMiZljnBFvS6RRvnA           0\n",
       " 2     RFo876v_A63N2JfOTq1p-g  4.400527  -jt1ACMiZljnBFvS6RRvnA           0\n",
       " 3     KTGEa8V9ec0QBYM_uk1YLQ  4.376308  -jt1ACMiZljnBFvS6RRvnA           0\n",
       " 4     o_N7HiU3f6cVvrJAFrE43A  4.366576  -jt1ACMiZljnBFvS6RRvnA           0\n",
       " ...                      ...       ...                     ...         ...\n",
       " 1054  0k8DG6BPaVKCRfnWJZhLUA  3.751796  -jt1ACMiZljnBFvS6RRvnA           0\n",
       " 1055  pIYHiRUoUH_lsLmvzDoapw  3.751777  -jt1ACMiZljnBFvS6RRvnA           0\n",
       " 1056  kcSS8bKAokzVOuAQwwSNjw  3.751672  -jt1ACMiZljnBFvS6RRvnA           0\n",
       " 1057  PJ2FbMY7UpPsAiWtPZGcIQ  3.751659  -jt1ACMiZljnBFvS6RRvnA           0\n",
       " 1058  hDXntvIw8tTEGUSa3PDJTA  3.751580  -jt1ACMiZljnBFvS6RRvnA           0\n",
       " \n",
       " [1059 rows x 4 columns],\n",
       "                  business_id     score                 user_id  real_label\n",
       " 0     -fs09akgCKv5rTTy7iUHUg  4.907232  -kAQ-PSKx3i0st2B4aPpTg           0\n",
       " 1     KTGEa8V9ec0QBYM_uk1YLQ  4.893897  -kAQ-PSKx3i0st2B4aPpTg           0\n",
       " 2     KTGEa8V9ec0QBYM_uk1YLQ  4.893897  -kAQ-PSKx3i0st2B4aPpTg           0\n",
       " 3     KTGEa8V9ec0QBYM_uk1YLQ  4.893897  -kAQ-PSKx3i0st2B4aPpTg           0\n",
       " 4     o_N7HiU3f6cVvrJAFrE43A  4.879698  -kAQ-PSKx3i0st2B4aPpTg           0\n",
       " ...                      ...       ...                     ...         ...\n",
       " 1089  PGzBEg6JAqoiUnkjvi1_3w  4.434045  -kAQ-PSKx3i0st2B4aPpTg           0\n",
       " 1090  MTSW4McQd7CbVtyjqoe9mw  4.433731  -kAQ-PSKx3i0st2B4aPpTg           0\n",
       " 1091  8VO4Ma7FhsLYop9tk87tbA  4.433588  -kAQ-PSKx3i0st2B4aPpTg           0\n",
       " 1092  PmF5kJ2E4YXPnVNNK8S51g  4.433454  -kAQ-PSKx3i0st2B4aPpTg           0\n",
       " 1093  0Cii4j7PPWvxcAmXuReb9A  4.433447  -kAQ-PSKx3i0st2B4aPpTg           0\n",
       " \n",
       " [1094 rows x 4 columns],\n",
       "                  business_id     score                 user_id  real_label\n",
       " 0     -fs09akgCKv5rTTy7iUHUg  4.695791  -kDpJFEVRpoAzxJA9FFwTg           0\n",
       " 1     o_N7HiU3f6cVvrJAFrE43A  4.666928  -kDpJFEVRpoAzxJA9FFwTg           0\n",
       " 2     KTGEa8V9ec0QBYM_uk1YLQ  4.655151  -kDpJFEVRpoAzxJA9FFwTg           0\n",
       " 3     Y93S8ZVnOhXQTkWZQEU5yg  4.632311  -kDpJFEVRpoAzxJA9FFwTg           0\n",
       " 4     zLm2PaYrpHkcr63ekwvtBQ  4.628771  -kDpJFEVRpoAzxJA9FFwTg           0\n",
       " ...                      ...       ...                     ...         ...\n",
       " 1101  YPHDzg1h-PkaxfoppT-iJg  4.130608  -kDpJFEVRpoAzxJA9FFwTg           0\n",
       " 1102  YPHDzg1h-PkaxfoppT-iJg  4.130608  -kDpJFEVRpoAzxJA9FFwTg           0\n",
       " 1103  m0wQ5oMPjpEFKAnQepJPOA  4.130311  -kDpJFEVRpoAzxJA9FFwTg           0\n",
       " 1104  e1CBgTsKHCcJrhx-BzNhzg  4.130250  -kDpJFEVRpoAzxJA9FFwTg           0\n",
       " 1105  0FVZYtFtnysTgBXzPkS7CA  4.130212  -kDpJFEVRpoAzxJA9FFwTg           0\n",
       " \n",
       " [1106 rows x 4 columns],\n",
       "                  business_id     score                 user_id  real_label\n",
       " 0     -fs09akgCKv5rTTy7iUHUg  6.381405  -kLVfaJytOJY2-QdQoCcNQ           0\n",
       " 1     KTGEa8V9ec0QBYM_uk1YLQ  6.356633  -kLVfaJytOJY2-QdQoCcNQ           0\n",
       " 2     zLm2PaYrpHkcr63ekwvtBQ  6.351334  -kLVfaJytOJY2-QdQoCcNQ           0\n",
       " 3     5tK4y67IUn3eDd3S1bka9Q  6.322714  -kLVfaJytOJY2-QdQoCcNQ           0\n",
       " 4     u3zqvp4BYUjzJD7tzx3Jbg  6.320626  -kLVfaJytOJY2-QdQoCcNQ           0\n",
       " ...                      ...       ...                     ...         ...\n",
       " 1043  CCeUPUSWxYqUB_qtkGi2Lg  6.003473  -kLVfaJytOJY2-QdQoCcNQ           0\n",
       " 1044  wnAEZpQ38XgHElOz4Vd6UQ  6.003463  -kLVfaJytOJY2-QdQoCcNQ           0\n",
       " 1045  uzeB4Y0eOwjt7Yjsx6tc5A  6.003437  -kLVfaJytOJY2-QdQoCcNQ           0\n",
       " 1046  tqCDj8b0lcRfhLMP9iZ3FA  6.003414  -kLVfaJytOJY2-QdQoCcNQ           0\n",
       " 1047  FqxfsOhn13BKlXm94f1bjA  6.003217  -kLVfaJytOJY2-QdQoCcNQ           0\n",
       " \n",
       " [1048 rows x 4 columns],\n",
       "                  business_id     score                 user_id  real_label\n",
       " 0     ytynqOUb3hjKeJfRj5Tshw  5.106039  -kTKEXtFsb9CewUXCPTAlQ           0\n",
       " 1     KTGEa8V9ec0QBYM_uk1YLQ  5.045282  -kTKEXtFsb9CewUXCPTAlQ           0\n",
       " 2     8ZCpyx-U-dEJyNZBWiC3mA  5.006760  -kTKEXtFsb9CewUXCPTAlQ           0\n",
       " 3     5tK4y67IUn3eDd3S1bka9Q  4.988854  -kTKEXtFsb9CewUXCPTAlQ           0\n",
       " 4     XJvOamdhTQI65jmzTfreDQ  4.933262  -kTKEXtFsb9CewUXCPTAlQ           0\n",
       " ...                      ...       ...                     ...         ...\n",
       " 1065  wXnwZJaARSfNjSMhWUZk_A  4.537189  -kTKEXtFsb9CewUXCPTAlQ           0\n",
       " 1066  Cfl4gpf9oneiuZUExMtA4w  4.537186  -kTKEXtFsb9CewUXCPTAlQ           0\n",
       " 1067  Cfl4gpf9oneiuZUExMtA4w  4.537186  -kTKEXtFsb9CewUXCPTAlQ           0\n",
       " 1068  lZ2hiZ25W2lMbW-DqoCxbQ  4.537041  -kTKEXtFsb9CewUXCPTAlQ           0\n",
       " 1069  kNyphDVYqOMLsx8aAy9ocA  4.537019  -kTKEXtFsb9CewUXCPTAlQ           0\n",
       " \n",
       " [1070 rows x 4 columns],\n",
       "                  business_id     score                 user_id  real_label\n",
       " 0     -fs09akgCKv5rTTy7iUHUg  4.852134  -kW2VFPCyyizlqwnj3CwHQ           0\n",
       " 1     TE2IEDNV0RcI6s1wTOP4fg  4.844214  -kW2VFPCyyizlqwnj3CwHQ           0\n",
       " 2     KTGEa8V9ec0QBYM_uk1YLQ  4.838920  -kW2VFPCyyizlqwnj3CwHQ           0\n",
       " 3     KTGEa8V9ec0QBYM_uk1YLQ  4.838920  -kW2VFPCyyizlqwnj3CwHQ           0\n",
       " 4     zLm2PaYrpHkcr63ekwvtBQ  4.816629  -kW2VFPCyyizlqwnj3CwHQ           0\n",
       " ...                      ...       ...                     ...         ...\n",
       " 1105  OxXMZfaRZc7SJnjMBkO1ww  4.382779  -kW2VFPCyyizlqwnj3CwHQ           0\n",
       " 1106  9wu8pszrPPUjruNvgQtIEg  4.382547  -kW2VFPCyyizlqwnj3CwHQ           0\n",
       " 1107  5xRZFazPsVLZXijsYwR7Ng  4.382542  -kW2VFPCyyizlqwnj3CwHQ           0\n",
       " 1108  4vLJd8N3wy_Q_wu_DZuRag  4.382102  -kW2VFPCyyizlqwnj3CwHQ           0\n",
       " 1109  tKxXZd00zZ24jDmJJcUYPQ  4.382077  -kW2VFPCyyizlqwnj3CwHQ           0\n",
       " \n",
       " [1110 rows x 4 columns],\n",
       "                  business_id     score                 user_id  real_label\n",
       " 0     -fs09akgCKv5rTTy7iUHUg  4.909748  -kuyXi1FKIpsV1CsXGQu4g           0\n",
       " 1     KTGEa8V9ec0QBYM_uk1YLQ  4.896427  -kuyXi1FKIpsV1CsXGQu4g           0\n",
       " 2     o_N7HiU3f6cVvrJAFrE43A  4.882227  -kuyXi1FKIpsV1CsXGQu4g           0\n",
       " 3     zLm2PaYrpHkcr63ekwvtBQ  4.874668  -kuyXi1FKIpsV1CsXGQu4g           0\n",
       " 4     8ZCpyx-U-dEJyNZBWiC3mA  4.857982  -kuyXi1FKIpsV1CsXGQu4g           0\n",
       " ...                      ...       ...                     ...         ...\n",
       " 1000  WWbrvdfiqWsNaNu0N9Qe2Q  4.427975  -kuyXi1FKIpsV1CsXGQu4g           0\n",
       " 1001  Tf7c38yepZzZvPG9wxNIqw  4.427818  -kuyXi1FKIpsV1CsXGQu4g           0\n",
       " 1002  n_RGE_Wn5L7phnlkQ919kQ  4.427677  -kuyXi1FKIpsV1CsXGQu4g           0\n",
       " 1003  E52a-tWfAVUigt1ArF711w  4.427540  -kuyXi1FKIpsV1CsXGQu4g           0\n",
       " 1004  VUmtqHLmrcBQiAFMQgX92w  4.427262  -kuyXi1FKIpsV1CsXGQu4g           0\n",
       " \n",
       " [1005 rows x 4 columns],\n",
       "                  business_id     score                 user_id  real_label\n",
       " 0     -fs09akgCKv5rTTy7iUHUg  4.838484  -kv5SgKsr1i8C9dljeGPcA           0\n",
       " 1     KTGEa8V9ec0QBYM_uk1YLQ  4.825220  -kv5SgKsr1i8C9dljeGPcA           0\n",
       " 2     8ZCpyx-U-dEJyNZBWiC3mA  4.786717  -kv5SgKsr1i8C9dljeGPcA           0\n",
       " 3     5tK4y67IUn3eDd3S1bka9Q  4.768792  -kv5SgKsr1i8C9dljeGPcA           0\n",
       " 4     atZ_olNKXOG4rEr6mccN8g  4.724717  -kv5SgKsr1i8C9dljeGPcA           0\n",
       " ...                      ...       ...                     ...         ...\n",
       " 1071  hMc6RFqGBpT1rW-dzvqLBw  4.308121  -kv5SgKsr1i8C9dljeGPcA           0\n",
       " 1072  Bg7D8LrsW9XbYlEhT9yekw  4.307965  -kv5SgKsr1i8C9dljeGPcA           0\n",
       " 1073  opjF_JN6Kpr5zWxBhkGC7w  4.307852  -kv5SgKsr1i8C9dljeGPcA           0\n",
       " 1074  kvbuD3U93O2w8YYPzsCxlA  4.307623  -kv5SgKsr1i8C9dljeGPcA           0\n",
       " 1075  4qG7aFq9-45830OfYt7gCA  4.307520  -kv5SgKsr1i8C9dljeGPcA           0\n",
       " \n",
       " [1076 rows x 4 columns],\n",
       "                  business_id     score                 user_id  real_label\n",
       " 0     -fs09akgCKv5rTTy7iUHUg  4.932709  -l1bn8D8iZ0n9Q0PgIDGBA           0\n",
       " 1     Y93S8ZVnOhXQTkWZQEU5yg  4.881996  -l1bn8D8iZ0n9Q0PgIDGBA           0\n",
       " 2     u3zqvp4BYUjzJD7tzx3Jbg  4.851682  -l1bn8D8iZ0n9Q0PgIDGBA           0\n",
       " 3     PV00aCrNGHZMruxVWUoKkQ  4.822319  -l1bn8D8iZ0n9Q0PgIDGBA           0\n",
       " 4     atZ_olNKXOG4rEr6mccN8g  4.801360  -l1bn8D8iZ0n9Q0PgIDGBA           0\n",
       " ...                      ...       ...                     ...         ...\n",
       " 1057  sBREjOvYJ0xI259WU-j5CA  4.268274  -l1bn8D8iZ0n9Q0PgIDGBA           0\n",
       " 1058  cA9sf465l0bQeoI1j6GoRA  4.268146  -l1bn8D8iZ0n9Q0PgIDGBA           0\n",
       " 1059  ElqoiaCSUA8oyyvixox9lQ  4.267567  -l1bn8D8iZ0n9Q0PgIDGBA           0\n",
       " 1060  ElqoiaCSUA8oyyvixox9lQ  4.267567  -l1bn8D8iZ0n9Q0PgIDGBA           0\n",
       " 1061  etKBfxAHuGeWp5gBYavPOA  4.267547  -l1bn8D8iZ0n9Q0PgIDGBA           0\n",
       " \n",
       " [1062 rows x 4 columns],\n",
       "                  business_id     score                 user_id  real_label\n",
       " 0     RFo876v_A63N2JfOTq1p-g  4.543349  -l5HFCjV6nKqp6PAcqObpA           0\n",
       " 1     -fs09akgCKv5rTTy7iUHUg  4.542741  -l5HFCjV6nKqp6PAcqObpA           0\n",
       " 2     KTGEa8V9ec0QBYM_uk1YLQ  4.526012  -l5HFCjV6nKqp6PAcqObpA           0\n",
       " 3     8ZCpyx-U-dEJyNZBWiC3mA  4.477828  -l5HFCjV6nKqp6PAcqObpA           0\n",
       " 4     5tK4y67IUn3eDd3S1bka9Q  4.461146  -l5HFCjV6nKqp6PAcqObpA           0\n",
       " ...                      ...       ...                     ...         ...\n",
       " 1054  h7d_Gl_hX7pa37kknrA-eA  3.953764  -l5HFCjV6nKqp6PAcqObpA           0\n",
       " 1055  c6GTImF01z981_BNJIye2g  3.953727  -l5HFCjV6nKqp6PAcqObpA           0\n",
       " 1056  ut-XId0zqlg8Hk6UTp7NpQ  3.953681  -l5HFCjV6nKqp6PAcqObpA           0\n",
       " 1057  F-j6PNGnA8yz77oIZMcPMA  3.953551  -l5HFCjV6nKqp6PAcqObpA           0\n",
       " 1058  MaaDRJZKSUTAJeF6OTQRnA  3.953537  -l5HFCjV6nKqp6PAcqObpA           0\n",
       " \n",
       " [1059 rows x 4 columns],\n",
       "                  business_id     score                 user_id  real_label\n",
       " 0     -fs09akgCKv5rTTy7iUHUg  4.876637  -l9giG8TSDBG1jnUBUXp5w           0\n",
       " 1     o_N7HiU3f6cVvrJAFrE43A  4.850460  -l9giG8TSDBG1jnUBUXp5w           0\n",
       " 2     KTGEa8V9ec0QBYM_uk1YLQ  4.848666  -l9giG8TSDBG1jnUBUXp5w           0\n",
       " 3     RFo876v_A63N2JfOTq1p-g  4.848345  -l9giG8TSDBG1jnUBUXp5w           0\n",
       " 4     zLm2PaYrpHkcr63ekwvtBQ  4.832148  -l9giG8TSDBG1jnUBUXp5w           0\n",
       " ...                      ...       ...                     ...         ...\n",
       " 1009  etaMJK4AFye6FH31KRs5vw  4.402671  -l9giG8TSDBG1jnUBUXp5w           0\n",
       " 1010  TCAaeZi4m_RwUTTbZseRmg  4.402472  -l9giG8TSDBG1jnUBUXp5w           0\n",
       " 1011  1EDUXBWC6IAZvW-r5BKDGw  4.401834  -l9giG8TSDBG1jnUBUXp5w           0\n",
       " 1012  aeFXIzYpWjSdtq5w8iz04g  4.401816  -l9giG8TSDBG1jnUBUXp5w           0\n",
       " 1013  QIEajLDnaNgFrCHWmiXCaQ  4.401724  -l9giG8TSDBG1jnUBUXp5w           0\n",
       " \n",
       " [1014 rows x 4 columns],\n",
       "                  business_id     score                 user_id  real_label\n",
       " 0     -fs09akgCKv5rTTy7iUHUg  5.154423  -lJ0XSiPzJdxxbcFU4uRqA           0\n",
       " 1     KTGEa8V9ec0QBYM_uk1YLQ  5.141137  -lJ0XSiPzJdxxbcFU4uRqA           0\n",
       " 2     zLm2PaYrpHkcr63ekwvtBQ  5.118846  -lJ0XSiPzJdxxbcFU4uRqA           0\n",
       " 3     8ZCpyx-U-dEJyNZBWiC3mA  5.102657  -lJ0XSiPzJdxxbcFU4uRqA           0\n",
       " 4     5tK4y67IUn3eDd3S1bka9Q  5.084709  -lJ0XSiPzJdxxbcFU4uRqA           0\n",
       " ...                      ...       ...                     ...         ...\n",
       " 1016  VhCNCbbMO8jX5pyKExEoxA  4.639091  -lJ0XSiPzJdxxbcFU4uRqA           0\n",
       " 1017  Owo5es5l2zcGq9e9T1sgIg  4.638880  -lJ0XSiPzJdxxbcFU4uRqA           0\n",
       " 1018  ROnkVXPz5jRlMQvLw05UEA  4.638562  -lJ0XSiPzJdxxbcFU4uRqA           0\n",
       " 1019  wIz_tZ88bj4W3VlrJTiiqQ  4.638132  -lJ0XSiPzJdxxbcFU4uRqA           0\n",
       " 1020  RfiLVnVNamfRZMIffZ4-ig  4.638066  -lJ0XSiPzJdxxbcFU4uRqA           0\n",
       " \n",
       " [1021 rows x 4 columns],\n",
       "                  business_id     score                 user_id  real_label\n",
       " 0     -fs09akgCKv5rTTy7iUHUg  4.876513  -lJ6tQVJKFw5vKvWcNR_0w           0\n",
       " 1     KTGEa8V9ec0QBYM_uk1YLQ  4.863255  -lJ6tQVJKFw5vKvWcNR_0w           0\n",
       " 2     zLm2PaYrpHkcr63ekwvtBQ  4.840964  -lJ6tQVJKFw5vKvWcNR_0w           0\n",
       " 3     8ZCpyx-U-dEJyNZBWiC3mA  4.824747  -lJ6tQVJKFw5vKvWcNR_0w           0\n",
       " 4     5tK4y67IUn3eDd3S1bka9Q  4.806827  -lJ6tQVJKFw5vKvWcNR_0w           0\n",
       " ...                      ...       ...                     ...         ...\n",
       " 996   3hjqPKtLvEtcOxaUHkz_RA  4.365093  -lJ6tQVJKFw5vKvWcNR_0w           0\n",
       " 997   McQo2QJGt1BI9oPu6KLDjg  4.365014  -lJ6tQVJKFw5vKvWcNR_0w           0\n",
       " 998   tc3g7TdhTgGqI8D8Rj_10w  4.364994  -lJ6tQVJKFw5vKvWcNR_0w           0\n",
       " 999   mAAnVFofJvwpXJ1GzXdGsg  4.364881  -lJ6tQVJKFw5vKvWcNR_0w           0\n",
       " 1000  cQIh4YJlVtZI9TLF5_smOg  4.364825  -lJ6tQVJKFw5vKvWcNR_0w           0\n",
       " \n",
       " [1001 rows x 4 columns],\n",
       "                  business_id     score                 user_id  real_label\n",
       " 0     -fs09akgCKv5rTTy7iUHUg  4.894804  -lSlKN2KghXU5jHY1-cv-g           0\n",
       " 1     KTGEa8V9ec0QBYM_uk1YLQ  4.881516  -lSlKN2KghXU5jHY1-cv-g           0\n",
       " 2     zLm2PaYrpHkcr63ekwvtBQ  4.859226  -lSlKN2KghXU5jHY1-cv-g           0\n",
       " 3     8ZCpyx-U-dEJyNZBWiC3mA  4.843038  -lSlKN2KghXU5jHY1-cv-g           0\n",
       " 4     5tK4y67IUn3eDd3S1bka9Q  4.825089  -lSlKN2KghXU5jHY1-cv-g           0\n",
       " ...                      ...       ...                     ...         ...\n",
       " 1038  u9Bs8L3oI1A3hcXs6vOv8w  4.421926  -lSlKN2KghXU5jHY1-cv-g           0\n",
       " 1039  tKxXZd00zZ24jDmJJcUYPQ  4.421757  -lSlKN2KghXU5jHY1-cv-g           0\n",
       " 1040  lwN9FutfBq81GnGWhj5Mng  4.421673  -lSlKN2KghXU5jHY1-cv-g           0\n",
       " 1041  6uH264PPrvVkV-7lhfss1g  4.421491  -lSlKN2KghXU5jHY1-cv-g           0\n",
       " 1042  K06XzePUYtlT4Qm5ry-jBg  4.421298  -lSlKN2KghXU5jHY1-cv-g           0\n",
       " \n",
       " [1043 rows x 4 columns],\n",
       "                  business_id     score                 user_id  real_label\n",
       " 0     -fs09akgCKv5rTTy7iUHUg  4.546320  -lTS1Ygsr9Y7urJszsbDUg           0\n",
       " 1     KTGEa8V9ec0QBYM_uk1YLQ  4.499710  -lTS1Ygsr9Y7urJszsbDUg           0\n",
       " 2     5tK4y67IUn3eDd3S1bka9Q  4.464300  -lTS1Ygsr9Y7urJszsbDUg           0\n",
       " 3     9pwzHmhCpgJwfaIP9jWoCg  4.408986  -lTS1Ygsr9Y7urJszsbDUg           0\n",
       " 4     XJvOamdhTQI65jmzTfreDQ  4.385483  -lTS1Ygsr9Y7urJszsbDUg           0\n",
       " ...                      ...       ...                     ...         ...\n",
       " 1034  YmUVCO5-ZdSenHVKEJE1rA  3.772780  -lTS1Ygsr9Y7urJszsbDUg           0\n",
       " 1035  WOotXk7AXHojAiBH4Run0A  3.772695  -lTS1Ygsr9Y7urJszsbDUg           0\n",
       " 1036  FVVqevITLLTiWeMXklK4fg  3.772559  -lTS1Ygsr9Y7urJszsbDUg           0\n",
       " 1037  Zwbhs3QWQWrpnkHW4TS-LA  3.772375  -lTS1Ygsr9Y7urJszsbDUg           0\n",
       " 1038  llhFllEq26Z7LvHphijaWA  3.772361  -lTS1Ygsr9Y7urJszsbDUg           0\n",
       " \n",
       " [1039 rows x 4 columns],\n",
       "                  business_id     score                 user_id  real_label\n",
       " 0     -fs09akgCKv5rTTy7iUHUg  5.214237  -lg4J2SOILBJOxqH4S0x4g           0\n",
       " 1     o_N7HiU3f6cVvrJAFrE43A  5.186725  -lg4J2SOILBJOxqH4S0x4g           0\n",
       " 2     Y93S8ZVnOhXQTkWZQEU5yg  5.166076  -lg4J2SOILBJOxqH4S0x4g           0\n",
       " 3     5tK4y67IUn3eDd3S1bka9Q  5.144561  -lg4J2SOILBJOxqH4S0x4g           0\n",
       " 4     NnlQhXtuVOVjUFYB1Hqp8Q  5.087066  -lg4J2SOILBJOxqH4S0x4g           0\n",
       " ...                      ...       ...                     ...         ...\n",
       " 997   SEEu0O73comLcPFR2DLuvQ  4.561461  -lg4J2SOILBJOxqH4S0x4g           0\n",
       " 998   vgTA3vYLwZM2OnzJHjNdug  4.561399  -lg4J2SOILBJOxqH4S0x4g           0\n",
       " 999   HSHEwDpzYdeL3aT1zB41YA  4.560978  -lg4J2SOILBJOxqH4S0x4g           0\n",
       " 1000  azrVoXsO-fMRxuOmoYUvog  4.560951  -lg4J2SOILBJOxqH4S0x4g           0\n",
       " 1001  98wodesqiL8lCHJNFmFgDg  4.560920  -lg4J2SOILBJOxqH4S0x4g           0\n",
       " \n",
       " [1002 rows x 4 columns],\n",
       "                  business_id     score                 user_id  real_label\n",
       " 0     -fs09akgCKv5rTTy7iUHUg  4.942749  -liQSRjb2O_Kf8Xv47WaiA           0\n",
       " 1     KTGEa8V9ec0QBYM_uk1YLQ  4.929430  -liQSRjb2O_Kf8Xv47WaiA           0\n",
       " 2     o_N7HiU3f6cVvrJAFrE43A  4.915231  -liQSRjb2O_Kf8Xv47WaiA           0\n",
       " 3     zLm2PaYrpHkcr63ekwvtBQ  4.907140  -liQSRjb2O_Kf8Xv47WaiA           0\n",
       " 4     8ZCpyx-U-dEJyNZBWiC3mA  4.890983  -liQSRjb2O_Kf8Xv47WaiA           0\n",
       " ...                      ...       ...                     ...         ...\n",
       " 1028  mNbU2k2li4HeavZvI-bAvA  4.470318  -liQSRjb2O_Kf8Xv47WaiA           0\n",
       " 1029  zf9_8CskW6Vzakg6V78S0g  4.470259  -liQSRjb2O_Kf8Xv47WaiA           0\n",
       " 1030  5xRZFazPsVLZXijsYwR7Ng  4.470164  -liQSRjb2O_Kf8Xv47WaiA           0\n",
       " 1031  mmBwAe9q062vKWanRfoagQ  4.470090  -liQSRjb2O_Kf8Xv47WaiA           0\n",
       " 1032  tKxXZd00zZ24jDmJJcUYPQ  4.469699  -liQSRjb2O_Kf8Xv47WaiA           0\n",
       " \n",
       " [1033 rows x 4 columns],\n",
       "                 business_id     score                 user_id  real_label\n",
       " 0    XJvOamdhTQI65jmzTfreDQ  4.892430  -m2wWMUepSVL0S2RxRAgwQ           0\n",
       " 1    Bk6uzC83wbmCHm2i5Uz8OA  4.887006  -m2wWMUepSVL0S2RxRAgwQ           0\n",
       " 2    _ZMf5Am_e0AE7aveELJd9w  4.884272  -m2wWMUepSVL0S2RxRAgwQ           0\n",
       " 3    atZ_olNKXOG4rEr6mccN8g  4.883110  -m2wWMUepSVL0S2RxRAgwQ           0\n",
       " 4    UfWjaifeYmyldKxlEYI9cg  4.847034  -m2wWMUepSVL0S2RxRAgwQ           0\n",
       " ..                      ...       ...                     ...         ...\n",
       " 995  FxzRMsdEUBFGtvftJzIJ_Q  4.392710  -m2wWMUepSVL0S2RxRAgwQ           0\n",
       " 996  BK3KoKtev1h8e_GfmcD-iw  4.392638  -m2wWMUepSVL0S2RxRAgwQ           0\n",
       " 997  YbZookrZl4TYe3COc87iQQ  4.392366  -m2wWMUepSVL0S2RxRAgwQ           0\n",
       " 998  BxVBkSMTiYQO-AdMKvN7Mg  4.392186  -m2wWMUepSVL0S2RxRAgwQ           0\n",
       " 999  QHUj7c1MkC3jnkku5S1Pcw  4.392149  -m2wWMUepSVL0S2RxRAgwQ           0\n",
       " \n",
       " [1000 rows x 4 columns],\n",
       "                  business_id     score                 user_id  real_label\n",
       " 0     -fs09akgCKv5rTTy7iUHUg  4.894361  -mGJPKC0owz3HTrrZfgFUg           0\n",
       " 1     KTGEa8V9ec0QBYM_uk1YLQ  4.881026  -mGJPKC0owz3HTrrZfgFUg           0\n",
       " 2     o_N7HiU3f6cVvrJAFrE43A  4.866826  -mGJPKC0owz3HTrrZfgFUg           0\n",
       " 3     zLm2PaYrpHkcr63ekwvtBQ  4.858735  -mGJPKC0owz3HTrrZfgFUg           0\n",
       " 4     8ZCpyx-U-dEJyNZBWiC3mA  4.842598  -mGJPKC0owz3HTrrZfgFUg           0\n",
       " ...                      ...       ...                     ...         ...\n",
       " 1038  yeHLiKNp0hyR-ig4M6us-w  4.411924  -mGJPKC0owz3HTrrZfgFUg           0\n",
       " 1039  qNBKRYXQikC8TmLVI1Fhgg  4.411857  -mGJPKC0owz3HTrrZfgFUg           0\n",
       " 1040  CxzaEZX7Zu8xHBqOBlzqFQ  4.411818  -mGJPKC0owz3HTrrZfgFUg           0\n",
       " 1041  LGYVMgnT5Qb0wohwEy_Shg  4.411685  -mGJPKC0owz3HTrrZfgFUg           0\n",
       " 1042  w_LP7DTDpibVU9rLtzhGCA  4.411494  -mGJPKC0owz3HTrrZfgFUg           0\n",
       " \n",
       " [1043 rows x 4 columns],\n",
       "                  business_id     score                 user_id  real_label\n",
       " 0     -fs09akgCKv5rTTy7iUHUg  4.542120  -mJaCibjXvT7t49ij9Xx5A           0\n",
       " 1     o_N7HiU3f6cVvrJAFrE43A  4.492828  -mJaCibjXvT7t49ij9Xx5A           0\n",
       " 2     5tK4y67IUn3eDd3S1bka9Q  4.457636  -mJaCibjXvT7t49ij9Xx5A           0\n",
       " 3     9pwzHmhCpgJwfaIP9jWoCg  4.401676  -mJaCibjXvT7t49ij9Xx5A           0\n",
       " 4     XJvOamdhTQI65jmzTfreDQ  4.385742  -mJaCibjXvT7t49ij9Xx5A           0\n",
       " ...                      ...       ...                     ...         ...\n",
       " 1046  cSHp3ncOeVuIRNHqxf-7kQ  3.767876  -mJaCibjXvT7t49ij9Xx5A           0\n",
       " 1047  WTPTuGK40bJc5H0UTMTWuw  3.767707  -mJaCibjXvT7t49ij9Xx5A           0\n",
       " 1048  7CqEOhKpZQI-HOfK6MYgJQ  3.767575  -mJaCibjXvT7t49ij9Xx5A           0\n",
       " 1049  72Y65Cg8MO1t9cWCHpwEQQ  3.767372  -mJaCibjXvT7t49ij9Xx5A           0\n",
       " 1050  BATrNfVKnNCQ2qAcod83Sw  3.767284  -mJaCibjXvT7t49ij9Xx5A           0\n",
       " \n",
       " [1051 rows x 4 columns],\n",
       "                 business_id     score                 user_id  real_label\n",
       " 0    -fs09akgCKv5rTTy7iUHUg  4.795671  -maGFFNQu4OoqATXJBXiAA           0\n",
       " 1    KTGEa8V9ec0QBYM_uk1YLQ  4.783180  -maGFFNQu4OoqATXJBXiAA           0\n",
       " 2    zLm2PaYrpHkcr63ekwvtBQ  4.762508  -maGFFNQu4OoqATXJBXiAA           0\n",
       " 3    8ZCpyx-U-dEJyNZBWiC3mA  4.746428  -maGFFNQu4OoqATXJBXiAA           0\n",
       " 4    s7MaEXwDnzUcqG16pG7Wfg  4.733807  -maGFFNQu4OoqATXJBXiAA           0\n",
       " ..                      ...       ...                     ...         ...\n",
       " 995  ETAxDtQbcCmy5ibQ5Y6Glg  4.304931  -maGFFNQu4OoqATXJBXiAA           0\n",
       " 996  tw_PmFjjCyg0t8Ek_kQz0Q  4.304861  -maGFFNQu4OoqATXJBXiAA           0\n",
       " 997  pwMejZZUizAZ4aOADafVPg  4.304703  -maGFFNQu4OoqATXJBXiAA           0\n",
       " 998  lAGS4ujbBQiSX_WL1GPkIg  4.304677  -maGFFNQu4OoqATXJBXiAA           0\n",
       " 999  Pocs24Rhnbqy1tZQm0j7Rw  4.304674  -maGFFNQu4OoqATXJBXiAA           0\n",
       " \n",
       " [1000 rows x 4 columns],\n",
       "                 business_id     score                 user_id  real_label\n",
       " 0    -fs09akgCKv5rTTy7iUHUg  5.012918  -mm2-9291QyM1zpbnJRfsA           0\n",
       " 1    KTGEa8V9ec0QBYM_uk1YLQ  4.999583  -mm2-9291QyM1zpbnJRfsA           0\n",
       " 2    8ZCpyx-U-dEJyNZBWiC3mA  4.961164  -mm2-9291QyM1zpbnJRfsA           0\n",
       " 3    5tK4y67IUn3eDd3S1bka9Q  4.943155  -mm2-9291QyM1zpbnJRfsA           0\n",
       " 4    rQ2CSHRkZSn5WCu7OfVI-Q  4.919306  -mm2-9291QyM1zpbnJRfsA           0\n",
       " ..                      ...       ...                     ...         ...\n",
       " 995  PGv11T-KjPvB4xoRSoQtCg  4.499279  -mm2-9291QyM1zpbnJRfsA           0\n",
       " 996  HcEZhHOwwzRUKB3PIrsrVg  4.499228  -mm2-9291QyM1zpbnJRfsA           0\n",
       " 997  viTvepI8TEHvl8nwiewX6Q  4.499213  -mm2-9291QyM1zpbnJRfsA           0\n",
       " 998  jCqCZ_mzZqeRThID1wuDLg  4.499013  -mm2-9291QyM1zpbnJRfsA           0\n",
       " 999  h_DxpK5pngE1rX0Ca9wzGg  4.498868  -mm2-9291QyM1zpbnJRfsA           0\n",
       " \n",
       " [1000 rows x 4 columns],\n",
       "                  business_id     score                 user_id  real_label\n",
       " 0     -fs09akgCKv5rTTy7iUHUg  4.756633  -msWxrqkNDSJxrNZwGlicg           0\n",
       " 1     KTGEa8V9ec0QBYM_uk1YLQ  4.743829  -msWxrqkNDSJxrNZwGlicg           0\n",
       " 2     KTGEa8V9ec0QBYM_uk1YLQ  4.743829  -msWxrqkNDSJxrNZwGlicg           0\n",
       " 3     o_N7HiU3f6cVvrJAFrE43A  4.720773  -msWxrqkNDSJxrNZwGlicg           0\n",
       " 4     zLm2PaYrpHkcr63ekwvtBQ  4.711993  -msWxrqkNDSJxrNZwGlicg           0\n",
       " ...                      ...       ...                     ...         ...\n",
       " 1066  A4VzKmiVNuLYPWPpE-49SA  4.134383  -msWxrqkNDSJxrNZwGlicg           0\n",
       " 1067  lJ59yy1n1CHztMN6DsXBQA  4.133783  -msWxrqkNDSJxrNZwGlicg           0\n",
       " 1068  EMfJpVozzk238AM51H18Dw  4.133594  -msWxrqkNDSJxrNZwGlicg           0\n",
       " 1069  bDT5o-Syv0DNNCTigJDvYA  4.133544  -msWxrqkNDSJxrNZwGlicg           0\n",
       " 1070  lo3zYtvPB6-iVok2C7HsGw  4.133493  -msWxrqkNDSJxrNZwGlicg           0\n",
       " \n",
       " [1071 rows x 4 columns],\n",
       "                  business_id     score                 user_id  real_label\n",
       " 0     -fs09akgCKv5rTTy7iUHUg  4.851813  -nCH_8DkYmO0qcmG0Dr5Ag           0\n",
       " 1     KTGEa8V9ec0QBYM_uk1YLQ  4.838533  -nCH_8DkYmO0qcmG0Dr5Ag           0\n",
       " 2     KTGEa8V9ec0QBYM_uk1YLQ  4.838533  -nCH_8DkYmO0qcmG0Dr5Ag           0\n",
       " 3     zLm2PaYrpHkcr63ekwvtBQ  4.816243  -nCH_8DkYmO0qcmG0Dr5Ag           0\n",
       " 4     8ZCpyx-U-dEJyNZBWiC3mA  4.800047  -nCH_8DkYmO0qcmG0Dr5Ag           0\n",
       " ...                      ...       ...                     ...         ...\n",
       " 1111  6BvmLng8AmH56-eSekl3zg  4.383987  -nCH_8DkYmO0qcmG0Dr5Ag           0\n",
       " 1112  6BvmLng8AmH56-eSekl3zg  4.383987  -nCH_8DkYmO0qcmG0Dr5Ag           0\n",
       " 1113  y_IE3f8NMAyVdn0WQddIRA  4.383869  -nCH_8DkYmO0qcmG0Dr5Ag           0\n",
       " 1114  4rx7EOriroZ-tN_7w7yBWg  4.383781  -nCH_8DkYmO0qcmG0Dr5Ag           0\n",
       " 1115  htJyj7N2_QqVUAvXCK9aXA  4.383687  -nCH_8DkYmO0qcmG0Dr5Ag           0\n",
       " \n",
       " [1116 rows x 4 columns],\n",
       "                  business_id     score                 user_id  real_label\n",
       " 0     RFo876v_A63N2JfOTq1p-g  5.021123  -nHUAn6IfY2U-Joq7CuLEQ           0\n",
       " 1     -fs09akgCKv5rTTy7iUHUg  5.019999  -nHUAn6IfY2U-Joq7CuLEQ           0\n",
       " 2     KTGEa8V9ec0QBYM_uk1YLQ  5.006790  -nHUAn6IfY2U-Joq7CuLEQ           0\n",
       " 3     o_N7HiU3f6cVvrJAFrE43A  4.992486  -nHUAn6IfY2U-Joq7CuLEQ           0\n",
       " 4     zLm2PaYrpHkcr63ekwvtBQ  4.984505  -nHUAn6IfY2U-Joq7CuLEQ           0\n",
       " ...                      ...       ...                     ...         ...\n",
       " 997   zz0l4dUf28wzPAaTdGqsSw  4.508390  -nHUAn6IfY2U-Joq7CuLEQ           0\n",
       " 998   dGU6pf9aVoQmSJUdO0rfJA  4.508382  -nHUAn6IfY2U-Joq7CuLEQ           0\n",
       " 999   N8NB7lMryKMMf6SJUvzYVQ  4.508356  -nHUAn6IfY2U-Joq7CuLEQ           0\n",
       " 1000  Pocs24Rhnbqy1tZQm0j7Rw  4.508342  -nHUAn6IfY2U-Joq7CuLEQ           0\n",
       " 1001  CdO4777D-LoIOABiU__4cg  4.508014  -nHUAn6IfY2U-Joq7CuLEQ           0\n",
       " \n",
       " [1002 rows x 4 columns],\n",
       "                  business_id     score                 user_id  real_label\n",
       " 0     -fs09akgCKv5rTTy7iUHUg  4.718579  -nLeDin1p7-pcqo_-lRY3w           0\n",
       " 1     KTGEa8V9ec0QBYM_uk1YLQ  4.671961  -nLeDin1p7-pcqo_-lRY3w           0\n",
       " 2     8ZCpyx-U-dEJyNZBWiC3mA  4.665663  -nLeDin1p7-pcqo_-lRY3w           0\n",
       " 3     zLm2PaYrpHkcr63ekwvtBQ  4.639257  -nLeDin1p7-pcqo_-lRY3w           0\n",
       " 4     5tK4y67IUn3eDd3S1bka9Q  4.632087  -nLeDin1p7-pcqo_-lRY3w           0\n",
       " ...                      ...       ...                     ...         ...\n",
       " 1065  GW-H37yWCNhgWPg9RwKbVA  4.036355  -nLeDin1p7-pcqo_-lRY3w           0\n",
       " 1066  CBWmYHLgtFrOJs7SCcQn0g  4.036261  -nLeDin1p7-pcqo_-lRY3w           0\n",
       " 1067  KWMdCTrepsB8YFBC8JBQsA  4.035674  -nLeDin1p7-pcqo_-lRY3w           0\n",
       " 1068  _qTgNBEvVhcXD1lHksz8RQ  4.035474  -nLeDin1p7-pcqo_-lRY3w           0\n",
       " 1069  GAINPyM9n673GUgNkGBOcg  4.035267  -nLeDin1p7-pcqo_-lRY3w           0\n",
       " \n",
       " [1070 rows x 4 columns],\n",
       "                  business_id     score                 user_id  real_label\n",
       " 0     -fs09akgCKv5rTTy7iUHUg  4.032020  -ne-7caCLAk2j3kD7tzBGw           0\n",
       " 1     TE2IEDNV0RcI6s1wTOP4fg  4.014494  -ne-7caCLAk2j3kD7tzBGw           0\n",
       " 2     o_N7HiU3f6cVvrJAFrE43A  4.007702  -ne-7caCLAk2j3kD7tzBGw           0\n",
       " 3     8j5bQ0nDwoGiFaTQDNCQTg  3.937680  -ne-7caCLAk2j3kD7tzBGw           0\n",
       " 4     8j5bQ0nDwoGiFaTQDNCQTg  3.937680  -ne-7caCLAk2j3kD7tzBGw           0\n",
       " ...                      ...       ...                     ...         ...\n",
       " 1080  ogTqRH-9yoLK44eOzlYZ4g  3.187925  -ne-7caCLAk2j3kD7tzBGw           0\n",
       " 1081  fOhnSqmO4XY5vSI8whVKSA  3.187739  -ne-7caCLAk2j3kD7tzBGw           0\n",
       " 1082  I_mCFePUG2MGuH-zuws7bA  3.187549  -ne-7caCLAk2j3kD7tzBGw           0\n",
       " 1083  QTbahs-GVuWYL5yfdjH34A  3.187541  -ne-7caCLAk2j3kD7tzBGw           0\n",
       " 1084  nTvkfKB5XKrXhC41XsVwsg  3.187458  -ne-7caCLAk2j3kD7tzBGw           0\n",
       " \n",
       " [1085 rows x 4 columns],\n",
       "                  business_id     score                 user_id  real_label\n",
       " 0     -fs09akgCKv5rTTy7iUHUg  4.821842  -njdCWb2FkFFZ4VLZfgXJg           0\n",
       " 1     KTGEa8V9ec0QBYM_uk1YLQ  4.808537  -njdCWb2FkFFZ4VLZfgXJg           0\n",
       " 2     o_N7HiU3f6cVvrJAFrE43A  4.794330  -njdCWb2FkFFZ4VLZfgXJg           0\n",
       " 3     zLm2PaYrpHkcr63ekwvtBQ  4.787423  -njdCWb2FkFFZ4VLZfgXJg           0\n",
       " 4     8ZCpyx-U-dEJyNZBWiC3mA  4.770076  -njdCWb2FkFFZ4VLZfgXJg           0\n",
       " ...                      ...       ...                     ...         ...\n",
       " 1008  oeD6OiItgca6A66Odak6nA  4.324793  -njdCWb2FkFFZ4VLZfgXJg           0\n",
       " 1009  r3PHwFedRML3IYzqH5tN-g  4.324635  -njdCWb2FkFFZ4VLZfgXJg           0\n",
       " 1010  qj5NGHlVMxO2P00krUD0kw  4.324481  -njdCWb2FkFFZ4VLZfgXJg           0\n",
       " 1011  bFIyk5wMY2WinvONbeVgeA  4.324048  -njdCWb2FkFFZ4VLZfgXJg           0\n",
       " 1012  9uU6AGSXncM-hu6lIvgv3w  4.323977  -njdCWb2FkFFZ4VLZfgXJg           0\n",
       " \n",
       " [1013 rows x 4 columns],\n",
       "                  business_id     score                 user_id  real_label\n",
       " 0     -fs09akgCKv5rTTy7iUHUg  4.754880  -nmTwBe8ITqGPNoImxWCLg           0\n",
       " 1     o_N7HiU3f6cVvrJAFrE43A  4.738704  -nmTwBe8ITqGPNoImxWCLg           0\n",
       " 2     RFo876v_A63N2JfOTq1p-g  4.735385  -nmTwBe8ITqGPNoImxWCLg           0\n",
       " 3     u3zqvp4BYUjzJD7tzx3Jbg  4.726588  -nmTwBe8ITqGPNoImxWCLg           0\n",
       " 4     KTGEa8V9ec0QBYM_uk1YLQ  4.712086  -nmTwBe8ITqGPNoImxWCLg           0\n",
       " ...                      ...       ...                     ...         ...\n",
       " 1045  tKxXZd00zZ24jDmJJcUYPQ  4.225892  -nmTwBe8ITqGPNoImxWCLg           0\n",
       " 1046  tKxXZd00zZ24jDmJJcUYPQ  4.225892  -nmTwBe8ITqGPNoImxWCLg           0\n",
       " 1047  gdDUtIhG4tTshh2LbpfMfQ  4.225677  -nmTwBe8ITqGPNoImxWCLg           0\n",
       " 1048  QBuUA9LnalBq6WsIZbqaHA  4.225531  -nmTwBe8ITqGPNoImxWCLg           0\n",
       " 1049  _qTgNBEvVhcXD1lHksz8RQ  4.225461  -nmTwBe8ITqGPNoImxWCLg           0\n",
       " \n",
       " [1050 rows x 4 columns],\n",
       "                  business_id     score                 user_id  real_label\n",
       " 0     -fs09akgCKv5rTTy7iUHUg  4.832207  -oC-DVZeD2VYloy6nSnHTQ           0\n",
       " 1     o_N7HiU3f6cVvrJAFrE43A  4.818575  -oC-DVZeD2VYloy6nSnHTQ           0\n",
       " 2     KTGEa8V9ec0QBYM_uk1YLQ  4.789412  -oC-DVZeD2VYloy6nSnHTQ           0\n",
       " 3     u3zqvp4BYUjzJD7tzx3Jbg  4.787388  -oC-DVZeD2VYloy6nSnHTQ           0\n",
       " 4     5tK4y67IUn3eDd3S1bka9Q  4.759720  -oC-DVZeD2VYloy6nSnHTQ           0\n",
       " ...                      ...       ...                     ...         ...\n",
       " 1001  vAoCutZiiFsaZ7i8EQromg  4.119589  -oC-DVZeD2VYloy6nSnHTQ           0\n",
       " 1002  RYYMQiesuGflwx1IsAM8gg  4.119260  -oC-DVZeD2VYloy6nSnHTQ           0\n",
       " 1003  25QCMQkYrl5przcOTF7s8w  4.119207  -oC-DVZeD2VYloy6nSnHTQ           0\n",
       " 1004  xoPpTiChIoAcPTrIwHAEwA  4.119097  -oC-DVZeD2VYloy6nSnHTQ           0\n",
       " 1005  qDRjceFNH7Mxv9M-ZvDitg  4.119009  -oC-DVZeD2VYloy6nSnHTQ           0\n",
       " \n",
       " [1006 rows x 4 columns],\n",
       "                  business_id     score                 user_id  real_label\n",
       " 0     -fs09akgCKv5rTTy7iUHUg  4.345410  -oJU-p07RO4RrODHiDe-WQ           0\n",
       " 1     KTGEa8V9ec0QBYM_uk1YLQ  4.316910  -oJU-p07RO4RrODHiDe-WQ           0\n",
       " 2     8ZCpyx-U-dEJyNZBWiC3mA  4.295393  -oJU-p07RO4RrODHiDe-WQ           0\n",
       " 3     u3zqvp4BYUjzJD7tzx3Jbg  4.272118  -oJU-p07RO4RrODHiDe-WQ           0\n",
       " 4     9pwzHmhCpgJwfaIP9jWoCg  4.215199  -oJU-p07RO4RrODHiDe-WQ           0\n",
       " ...                      ...       ...                     ...         ...\n",
       " 1094  wv3pQnSxA3sR6QqBova-xA  3.792882  -oJU-p07RO4RrODHiDe-WQ           0\n",
       " 1095  FTSY6Y1RU-ICgc3GAbquXA  3.792861  -oJU-p07RO4RrODHiDe-WQ           0\n",
       " 1096  xAW4nw9DrW77vWF61_l-Qg  3.792774  -oJU-p07RO4RrODHiDe-WQ           0\n",
       " 1097  3yyTNQtkDYOP3vsCdoFm6A  3.792755  -oJU-p07RO4RrODHiDe-WQ           0\n",
       " 1098  pSgZ6x48zgkbWucfzswkzg  3.792437  -oJU-p07RO4RrODHiDe-WQ           0\n",
       " \n",
       " [1099 rows x 4 columns],\n",
       "                  business_id     score                 user_id  real_label\n",
       " 0     -fs09akgCKv5rTTy7iUHUg  4.449857  -oQKlh1YJ-g49rNBJ2CmJw           0\n",
       " 1     TE2IEDNV0RcI6s1wTOP4fg  4.423234  -oQKlh1YJ-g49rNBJ2CmJw           0\n",
       " 2     8ZCpyx-U-dEJyNZBWiC3mA  4.422861  -oQKlh1YJ-g49rNBJ2CmJw           0\n",
       " 3     KTGEa8V9ec0QBYM_uk1YLQ  4.416523  -oQKlh1YJ-g49rNBJ2CmJw           0\n",
       " 4     5tK4y67IUn3eDd3S1bka9Q  4.371271  -oQKlh1YJ-g49rNBJ2CmJw           0\n",
       " ...                      ...       ...                     ...         ...\n",
       " 1026  5srKt6H8Y1Ko80hboucZEg  3.832802  -oQKlh1YJ-g49rNBJ2CmJw           0\n",
       " 1027  Pocs24Rhnbqy1tZQm0j7Rw  3.832783  -oQKlh1YJ-g49rNBJ2CmJw           0\n",
       " 1028  thb9MKU1kOG_TZ0sn2RxcA  3.832698  -oQKlh1YJ-g49rNBJ2CmJw           0\n",
       " 1029  tVELQMCI0485CPvgtTlMDA  3.832518  -oQKlh1YJ-g49rNBJ2CmJw           0\n",
       " 1030  wvgaFGDyD3nTYZubTahH2A  3.832428  -oQKlh1YJ-g49rNBJ2CmJw           0\n",
       " \n",
       " [1031 rows x 4 columns],\n",
       "                  business_id     score                 user_id  real_label\n",
       " 0     ctHjyadbDQAtUFfkcAFEHw  5.008182  -ocY4z7_hBL1mFBV48rpew           0\n",
       " 1     -fs09akgCKv5rTTy7iUHUg  4.989699  -ocY4z7_hBL1mFBV48rpew           0\n",
       " 2     KTGEa8V9ec0QBYM_uk1YLQ  4.976424  -ocY4z7_hBL1mFBV48rpew           0\n",
       " 3     o_N7HiU3f6cVvrJAFrE43A  4.962187  -ocY4z7_hBL1mFBV48rpew           0\n",
       " 4     Y93S8ZVnOhXQTkWZQEU5yg  4.941511  -ocY4z7_hBL1mFBV48rpew           0\n",
       " ...                      ...       ...                     ...         ...\n",
       " 1043  c7INrwbYROzzGTfkd1XEdQ  4.418438  -ocY4z7_hBL1mFBV48rpew           0\n",
       " 1044  U4UTMWnXNWyeVFloMT6dLA  4.418210  -ocY4z7_hBL1mFBV48rpew           0\n",
       " 1045  A5b9nVDi1DPVvPOD24-p6w  4.418178  -ocY4z7_hBL1mFBV48rpew           0\n",
       " 1046  N_6lpdW1jhAx1EVcHJPK5g  4.418064  -ocY4z7_hBL1mFBV48rpew           0\n",
       " 1047  NFcG56jaGXhWxP4K1KaENQ  4.417993  -ocY4z7_hBL1mFBV48rpew           0\n",
       " \n",
       " [1048 rows x 4 columns],\n",
       "                  business_id     score                 user_id  real_label\n",
       " 0     -fs09akgCKv5rTTy7iUHUg  4.340242  -oldzSOhMXzZhZBuoh0tlQ           0\n",
       " 1     KTGEa8V9ec0QBYM_uk1YLQ  4.311007  -oldzSOhMXzZhZBuoh0tlQ           0\n",
       " 2     KTGEa8V9ec0QBYM_uk1YLQ  4.311007  -oldzSOhMXzZhZBuoh0tlQ           0\n",
       " 3     o_N7HiU3f6cVvrJAFrE43A  4.299758  -oldzSOhMXzZhZBuoh0tlQ           0\n",
       " 4     zLm2PaYrpHkcr63ekwvtBQ  4.298939  -oldzSOhMXzZhZBuoh0tlQ           0\n",
       " ...                      ...       ...                     ...         ...\n",
       " 1078  K3rQIh4EXBwCb1xass2k7g  3.784474  -oldzSOhMXzZhZBuoh0tlQ           0\n",
       " 1079  sKsPL_J5lcdAN7Plk1t-aQ  3.784473  -oldzSOhMXzZhZBuoh0tlQ           0\n",
       " 1080  ws6TIgXXA-5RSHRrMBEktA  3.784297  -oldzSOhMXzZhZBuoh0tlQ           0\n",
       " 1081  cmMIB7uTNGJc9Qpl65LjjQ  3.783713  -oldzSOhMXzZhZBuoh0tlQ           0\n",
       " 1082  VJ2BIGD9Q-vyE960n-4-dA  3.783246  -oldzSOhMXzZhZBuoh0tlQ           0\n",
       " \n",
       " [1083 rows x 4 columns],\n",
       "                  business_id     score                 user_id  real_label\n",
       " 0     -fs09akgCKv5rTTy7iUHUg  4.861413  -osCLAwDukSX4xqIghmIjA           0\n",
       " 1     KTGEa8V9ec0QBYM_uk1YLQ  4.843673  -osCLAwDukSX4xqIghmIjA           0\n",
       " 2     zLm2PaYrpHkcr63ekwvtBQ  4.828978  -osCLAwDukSX4xqIghmIjA           0\n",
       " 3     8ZCpyx-U-dEJyNZBWiC3mA  4.805168  -osCLAwDukSX4xqIghmIjA           0\n",
       " 4     5tK4y67IUn3eDd3S1bka9Q  4.787245  -osCLAwDukSX4xqIghmIjA           0\n",
       " ...                      ...       ...                     ...         ...\n",
       " 1015  081vVr80-uscqGGaFAxKfQ  4.388709  -osCLAwDukSX4xqIghmIjA           0\n",
       " 1016  rVzbBAG3BDlx2-OFUOq4MQ  4.388600  -osCLAwDukSX4xqIghmIjA           0\n",
       " 1017  _t4wY_baSBouijDOV7nyhQ  4.388429  -osCLAwDukSX4xqIghmIjA           0\n",
       " 1018  4Cal2AE6cr7m6nL20Rz2kQ  4.388263  -osCLAwDukSX4xqIghmIjA           0\n",
       " 1019  htJyj7N2_QqVUAvXCK9aXA  4.387850  -osCLAwDukSX4xqIghmIjA           0\n",
       " \n",
       " [1020 rows x 4 columns],\n",
       "                  business_id     score                 user_id  real_label\n",
       " 0     -fs09akgCKv5rTTy7iUHUg  4.863067  -ou42X2Ny3erNTjUmYn60A           0\n",
       " 1     KTGEa8V9ec0QBYM_uk1YLQ  4.843786  -ou42X2Ny3erNTjUmYn60A           0\n",
       " 2     zLm2PaYrpHkcr63ekwvtBQ  4.827441  -ou42X2Ny3erNTjUmYn60A           0\n",
       " 3     8ZCpyx-U-dEJyNZBWiC3mA  4.811312  -ou42X2Ny3erNTjUmYn60A           0\n",
       " 4     u3zqvp4BYUjzJD7tzx3Jbg  4.785388  -ou42X2Ny3erNTjUmYn60A           0\n",
       " ...                      ...       ...                     ...         ...\n",
       " 997   j7z0VfA0BjEG6dIVNprH9Q  4.319241  -ou42X2Ny3erNTjUmYn60A           0\n",
       " 998   Ty3w8cNBGXLMMpx_t9KUAg  4.319236  -ou42X2Ny3erNTjUmYn60A           0\n",
       " 999   TN1geaU2Sry_NfpXk-kbpA  4.319030  -ou42X2Ny3erNTjUmYn60A           0\n",
       " 1000  tqmi9HYujFk3zphlLkyFUw  4.318906  -ou42X2Ny3erNTjUmYn60A           0\n",
       " 1001  OuLT0Em6xoWe08SQSdrbKw  4.318848  -ou42X2Ny3erNTjUmYn60A           0\n",
       " \n",
       " [1002 rows x 4 columns],\n",
       "                  business_id     score                 user_id  real_label\n",
       " 0     TE2IEDNV0RcI6s1wTOP4fg  4.868337  -pA0kPyInGN7zqaL2SxZTw           0\n",
       " 1     KTGEa8V9ec0QBYM_uk1YLQ  4.862990  -pA0kPyInGN7zqaL2SxZTw           0\n",
       " 2     8ZCpyx-U-dEJyNZBWiC3mA  4.824621  -pA0kPyInGN7zqaL2SxZTw           0\n",
       " 3     atZ_olNKXOG4rEr6mccN8g  4.764945  -pA0kPyInGN7zqaL2SxZTw           0\n",
       " 4     XJvOamdhTQI65jmzTfreDQ  4.755545  -pA0kPyInGN7zqaL2SxZTw           0\n",
       " ...                      ...       ...                     ...         ...\n",
       " 1028  qDEcJ48kXdWxQGZefgG94w  4.340611  -pA0kPyInGN7zqaL2SxZTw           0\n",
       " 1029  bEn-Im7R7Ic4XDORq6_oSQ  4.340555  -pA0kPyInGN7zqaL2SxZTw           0\n",
       " 1030  WovaVLc3QRJgrGGxa5Efig  4.340535  -pA0kPyInGN7zqaL2SxZTw           0\n",
       " 1031  4qG7aFq9-45830OfYt7gCA  4.340488  -pA0kPyInGN7zqaL2SxZTw           0\n",
       " 1032  xeWsPn8R1GeuEBfmvDI6FA  4.340246  -pA0kPyInGN7zqaL2SxZTw           0\n",
       " \n",
       " [1033 rows x 4 columns],\n",
       "                  business_id     score                 user_id  real_label\n",
       " 0     -fs09akgCKv5rTTy7iUHUg  4.749611  -pPXOSt_46LzSp5_DSaSiA           0\n",
       " 1     o_N7HiU3f6cVvrJAFrE43A  4.722558  -pPXOSt_46LzSp5_DSaSiA           0\n",
       " 2     KTGEa8V9ec0QBYM_uk1YLQ  4.709822  -pPXOSt_46LzSp5_DSaSiA           0\n",
       " 3     zLm2PaYrpHkcr63ekwvtBQ  4.682219  -pPXOSt_46LzSp5_DSaSiA           0\n",
       " 4     8ZCpyx-U-dEJyNZBWiC3mA  4.676191  -pPXOSt_46LzSp5_DSaSiA           0\n",
       " ...                      ...       ...                     ...         ...\n",
       " 1044  oFxKFiDkP_lGaFAzvnzZfA  4.151920  -pPXOSt_46LzSp5_DSaSiA           0\n",
       " 1045  6Bf5KwuT9iZlFrUlcP7RHg  4.151878  -pPXOSt_46LzSp5_DSaSiA           0\n",
       " 1046  YPHDzg1h-PkaxfoppT-iJg  4.151785  -pPXOSt_46LzSp5_DSaSiA           0\n",
       " 1047  u3E1zmKRS6Fr0g9QR-l7nA  4.151521  -pPXOSt_46LzSp5_DSaSiA           0\n",
       " 1048  VdJ2Ln27tfM258MaT_qIXw  4.151422  -pPXOSt_46LzSp5_DSaSiA           0\n",
       " \n",
       " [1049 rows x 4 columns],\n",
       "                  business_id     score                 user_id  real_label\n",
       " 0     -fs09akgCKv5rTTy7iUHUg  4.775533  -pUJtDKDeYYBa7ZoyJFBMw           0\n",
       " 1     o_N7HiU3f6cVvrJAFrE43A  4.761901  -pUJtDKDeYYBa7ZoyJFBMw           0\n",
       " 2     RFo876v_A63N2JfOTq1p-g  4.753339  -pUJtDKDeYYBa7ZoyJFBMw           0\n",
       " 3     u3zqvp4BYUjzJD7tzx3Jbg  4.750452  -pUJtDKDeYYBa7ZoyJFBMw           0\n",
       " 4     KTGEa8V9ec0QBYM_uk1YLQ  4.732738  -pUJtDKDeYYBa7ZoyJFBMw           0\n",
       " ...                      ...       ...                     ...         ...\n",
       " 1058  8E2--KcyOrJx8my51jid2w  4.182222  -pUJtDKDeYYBa7ZoyJFBMw           0\n",
       " 1059  Ou6pms6hLsqi6ya6r4sOYA  4.182081  -pUJtDKDeYYBa7ZoyJFBMw           0\n",
       " 1060  eSHOzoSapng1c7BN3CBn9A  4.181838  -pUJtDKDeYYBa7ZoyJFBMw           0\n",
       " 1061  eSHOzoSapng1c7BN3CBn9A  4.181838  -pUJtDKDeYYBa7ZoyJFBMw           0\n",
       " 1062  eSHOzoSapng1c7BN3CBn9A  4.181838  -pUJtDKDeYYBa7ZoyJFBMw           0\n",
       " \n",
       " [1063 rows x 4 columns],\n",
       "                  business_id     score                 user_id  real_label\n",
       " 0     -fs09akgCKv5rTTy7iUHUg  4.892922  -pY1-iQMuIsatYzN669TQw           0\n",
       " 1     KTGEa8V9ec0QBYM_uk1YLQ  4.879587  -pY1-iQMuIsatYzN669TQw           0\n",
       " 2     8ZCpyx-U-dEJyNZBWiC3mA  4.841162  -pY1-iQMuIsatYzN669TQw           0\n",
       " 3     atZ_olNKXOG4rEr6mccN8g  4.771094  -pY1-iQMuIsatYzN669TQw           0\n",
       " 4     XJvOamdhTQI65jmzTfreDQ  4.768957  -pY1-iQMuIsatYzN669TQw           0\n",
       " ...                      ...       ...                     ...         ...\n",
       " 1072  QUyLaPjsoZiRJ-RUBVa5rA  4.370440  -pY1-iQMuIsatYzN669TQw           0\n",
       " 1073  VbgnG9ymyq_jyYcN0jFBZA  4.370384  -pY1-iQMuIsatYzN669TQw           0\n",
       " 1074  7kwQZV6PjhZ7jQn8ZmJCEg  4.370383  -pY1-iQMuIsatYzN669TQw           0\n",
       " 1075  IkeqRpAUyxNUpVWtdS8UjQ  4.369987  -pY1-iQMuIsatYzN669TQw           0\n",
       " 1076  IkeqRpAUyxNUpVWtdS8UjQ  4.369987  -pY1-iQMuIsatYzN669TQw           0\n",
       " \n",
       " [1077 rows x 4 columns],\n",
       "                 business_id     score                 user_id  real_label\n",
       " 0    -fs09akgCKv5rTTy7iUHUg  4.465946  -paoxagCisJZXAhiVmwuXA           0\n",
       " 1    KTGEa8V9ec0QBYM_uk1YLQ  4.449509  -paoxagCisJZXAhiVmwuXA           0\n",
       " 2    o_N7HiU3f6cVvrJAFrE43A  4.428851  -paoxagCisJZXAhiVmwuXA           0\n",
       " 3    zLm2PaYrpHkcr63ekwvtBQ  4.419973  -paoxagCisJZXAhiVmwuXA           0\n",
       " 4    8ZCpyx-U-dEJyNZBWiC3mA  4.401496  -paoxagCisJZXAhiVmwuXA           0\n",
       " ..                      ...       ...                     ...         ...\n",
       " 995  GW-H37yWCNhgWPg9RwKbVA  3.868865  -paoxagCisJZXAhiVmwuXA           0\n",
       " 996  hid9ixP7Rtoj2pR4EBrcGg  3.868650  -paoxagCisJZXAhiVmwuXA           0\n",
       " 997  wcL88nbU3PkGlQcZPC7kAg  3.868620  -paoxagCisJZXAhiVmwuXA           0\n",
       " 998  3hjqPKtLvEtcOxaUHkz_RA  3.868589  -paoxagCisJZXAhiVmwuXA           0\n",
       " 999  2zNcKEp4soce0GFmOgZAdw  3.868504  -paoxagCisJZXAhiVmwuXA           0\n",
       " \n",
       " [1000 rows x 4 columns],\n",
       "                  business_id     score                 user_id  real_label\n",
       " 0     -fs09akgCKv5rTTy7iUHUg  4.729719  -pfPBJzVB-EBwaFX8B59gQ           0\n",
       " 1     -fs09akgCKv5rTTy7iUHUg  4.729719  -pfPBJzVB-EBwaFX8B59gQ           0\n",
       " 2     -fs09akgCKv5rTTy7iUHUg  4.729719  -pfPBJzVB-EBwaFX8B59gQ           0\n",
       " 3     TE2IEDNV0RcI6s1wTOP4fg  4.720419  -pfPBJzVB-EBwaFX8B59gQ           0\n",
       " 4     o_N7HiU3f6cVvrJAFrE43A  4.696273  -pfPBJzVB-EBwaFX8B59gQ           0\n",
       " ...                      ...       ...                     ...         ...\n",
       " 1139  m2gjRN7GHMpdwUkvquA_rw  4.100215  -pfPBJzVB-EBwaFX8B59gQ           0\n",
       " 1140  qAvcTMa5N70yT97bDCB03A  4.100109  -pfPBJzVB-EBwaFX8B59gQ           0\n",
       " 1141  kCV9CwW28Uz1ln4IXGhGwg  4.100100  -pfPBJzVB-EBwaFX8B59gQ           0\n",
       " 1142  vVfy055EfLMdd0yJYHxiMQ  4.100020  -pfPBJzVB-EBwaFX8B59gQ           0\n",
       " 1143  vVfy055EfLMdd0yJYHxiMQ  4.100020  -pfPBJzVB-EBwaFX8B59gQ           0\n",
       " \n",
       " [1144 rows x 4 columns],\n",
       "                  business_id     score                 user_id  real_label\n",
       " 0     Bk6uzC83wbmCHm2i5Uz8OA  4.932659  -pgtoEfNDBIG9DXV2L-Fkw           0\n",
       " 1     9pwzHmhCpgJwfaIP9jWoCg  4.925885  -pgtoEfNDBIG9DXV2L-Fkw           0\n",
       " 2     X3NS8516o015Z1zcOwrqmQ  4.902697  -pgtoEfNDBIG9DXV2L-Fkw           0\n",
       " 3     mZlz6wq17Vl0wEokdpPdWg  4.866470  -pgtoEfNDBIG9DXV2L-Fkw           0\n",
       " 4     BXXdejmA_rJpMD2MBKCyGA  4.861942  -pgtoEfNDBIG9DXV2L-Fkw           0\n",
       " ...                      ...       ...                     ...         ...\n",
       " 1076  rPYHBXuQoiyO8by1keqYIg  4.364266  -pgtoEfNDBIG9DXV2L-Fkw           0\n",
       " 1077  RExcjBIlMRQCPsrarjxvbw  4.363970  -pgtoEfNDBIG9DXV2L-Fkw           0\n",
       " 1078  oe-iacnzvyHV8zxaNqCf7A  4.363811  -pgtoEfNDBIG9DXV2L-Fkw           0\n",
       " 1079  Ibo4E5a_nf51egmeFR5Izg  4.363527  -pgtoEfNDBIG9DXV2L-Fkw           0\n",
       " 1080  FEINwhHfUBkDBgMr_S7OGw  4.363492  -pgtoEfNDBIG9DXV2L-Fkw           0\n",
       " \n",
       " [1081 rows x 4 columns],\n",
       "                  business_id     score                 user_id  real_label\n",
       " 0     -fs09akgCKv5rTTy7iUHUg  4.757772  -psUwKpni_VLBkiP-uLK7w           0\n",
       " 1     KTGEa8V9ec0QBYM_uk1YLQ  4.747528  -psUwKpni_VLBkiP-uLK7w           0\n",
       " 2     o_N7HiU3f6cVvrJAFrE43A  4.722991  -psUwKpni_VLBkiP-uLK7w           0\n",
       " 3     zLm2PaYrpHkcr63ekwvtBQ  4.711990  -psUwKpni_VLBkiP-uLK7w           0\n",
       " 4     8ZCpyx-U-dEJyNZBWiC3mA  4.692419  -psUwKpni_VLBkiP-uLK7w           0\n",
       " ...                      ...       ...                     ...         ...\n",
       " 1017  CeNiaICi59dWhfzfKnh8lQ  4.272731  -psUwKpni_VLBkiP-uLK7w           0\n",
       " 1018  SaPdiZw-q60lH9ZqtpLSVw  4.272722  -psUwKpni_VLBkiP-uLK7w           0\n",
       " 1019  Ks4r6DEqSbV8D2qc04RhTA  4.272567  -psUwKpni_VLBkiP-uLK7w           0\n",
       " 1020  Eg9InViFO0EYOP40Im8Hpw  4.272378  -psUwKpni_VLBkiP-uLK7w           0\n",
       " 1021  ykrD-GI7pQpU_rHlHnEeag  4.272293  -psUwKpni_VLBkiP-uLK7w           0\n",
       " \n",
       " [1022 rows x 4 columns],\n",
       "                  business_id     score                 user_id  real_label\n",
       " 0     -fs09akgCKv5rTTy7iUHUg  4.942446  -puea0ToOJktj_Lkt4PBOg           0\n",
       " 1     KTGEa8V9ec0QBYM_uk1YLQ  4.929126  -puea0ToOJktj_Lkt4PBOg           0\n",
       " 2     o_N7HiU3f6cVvrJAFrE43A  4.914926  -puea0ToOJktj_Lkt4PBOg           0\n",
       " 3     zLm2PaYrpHkcr63ekwvtBQ  4.906836  -puea0ToOJktj_Lkt4PBOg           0\n",
       " 4     8ZCpyx-U-dEJyNZBWiC3mA  4.890680  -puea0ToOJktj_Lkt4PBOg           0\n",
       " ...                      ...       ...                     ...         ...\n",
       " 1073  J40yh-PlRJQloNzHnd-BNQ  4.467493  -puea0ToOJktj_Lkt4PBOg           0\n",
       " 1074  cmMIB7uTNGJc9Qpl65LjjQ  4.466927  -puea0ToOJktj_Lkt4PBOg           0\n",
       " 1075  SW3Ywi1x9WVCJv0znJP5Gw  4.466800  -puea0ToOJktj_Lkt4PBOg           0\n",
       " 1076  _oxapGiVq1_LdFKcHBehLg  4.466723  -puea0ToOJktj_Lkt4PBOg           0\n",
       " 1077  cQIh4YJlVtZI9TLF5_smOg  4.466536  -puea0ToOJktj_Lkt4PBOg           0\n",
       " \n",
       " [1078 rows x 4 columns],\n",
       "                  business_id     score                 user_id  real_label\n",
       " 0     RFo876v_A63N2JfOTq1p-g  4.952103  -pwvrcd7TGulm0tJeQzHRg           0\n",
       " 1     -fs09akgCKv5rTTy7iUHUg  4.951108  -pwvrcd7TGulm0tJeQzHRg           0\n",
       " 2     KTGEa8V9ec0QBYM_uk1YLQ  4.937776  -pwvrcd7TGulm0tJeQzHRg           0\n",
       " 3     o_N7HiU3f6cVvrJAFrE43A  4.923576  -pwvrcd7TGulm0tJeQzHRg           0\n",
       " 4     Y93S8ZVnOhXQTkWZQEU5yg  4.902863  -pwvrcd7TGulm0tJeQzHRg           0\n",
       " ...                      ...       ...                     ...         ...\n",
       " 1033  EPDRXctqbR9fJRW881zSDA  4.450428  -pwvrcd7TGulm0tJeQzHRg           0\n",
       " 1034  vxV01zM5ubuueyT4ppmvLA  4.450196  -pwvrcd7TGulm0tJeQzHRg           0\n",
       " 1035  b0JG9KBMEbDRgxjAr8er9w  4.450147  -pwvrcd7TGulm0tJeQzHRg           0\n",
       " 1036  n21fc5CLn8_8udVG6SSz9g  4.450069  -pwvrcd7TGulm0tJeQzHRg           0\n",
       " 1037  Wp00OyUSqwCjmbS94Epugg  4.450050  -pwvrcd7TGulm0tJeQzHRg           0\n",
       " \n",
       " [1038 rows x 4 columns],\n",
       "                  business_id     score                 user_id  real_label\n",
       " 0     RFo876v_A63N2JfOTq1p-g  4.911794  -q-TYZYa7o-zyKzAvgChyw           0\n",
       " 1     -fs09akgCKv5rTTy7iUHUg  4.910783  -q-TYZYa7o-zyKzAvgChyw           0\n",
       " 2     TE2IEDNV0RcI6s1wTOP4fg  4.902813  -q-TYZYa7o-zyKzAvgChyw           0\n",
       " 3     KTGEa8V9ec0QBYM_uk1YLQ  4.897466  -q-TYZYa7o-zyKzAvgChyw           0\n",
       " 4     o_N7HiU3f6cVvrJAFrE43A  4.883266  -q-TYZYa7o-zyKzAvgChyw           0\n",
       " ...                      ...       ...                     ...         ...\n",
       " 1100  J40yh-PlRJQloNzHnd-BNQ  4.431347  -q-TYZYa7o-zyKzAvgChyw           0\n",
       " 1101  6ewV-e7-39oqYUq3yZuIyw  4.431011  -q-TYZYa7o-zyKzAvgChyw           0\n",
       " 1102  6ewV-e7-39oqYUq3yZuIyw  4.431011  -q-TYZYa7o-zyKzAvgChyw           0\n",
       " 1103  _oxapGiVq1_LdFKcHBehLg  4.430719  -q-TYZYa7o-zyKzAvgChyw           0\n",
       " 1104  lQTdARrqdKMAcDp1PWpQ9A  4.430262  -q-TYZYa7o-zyKzAvgChyw           0\n",
       " \n",
       " [1105 rows x 4 columns],\n",
       "                  business_id     score                 user_id  real_label\n",
       " 0     ytynqOUb3hjKeJfRj5Tshw  5.467076  -q30ut-nbjurnnowVoUNDg           0\n",
       " 1     ytynqOUb3hjKeJfRj5Tshw  5.467076  -q30ut-nbjurnnowVoUNDg           0\n",
       " 2     ctHjyadbDQAtUFfkcAFEHw  5.300100  -q30ut-nbjurnnowVoUNDg           0\n",
       " 3     9pwzHmhCpgJwfaIP9jWoCg  5.275857  -q30ut-nbjurnnowVoUNDg           0\n",
       " 4     9pwzHmhCpgJwfaIP9jWoCg  5.275857  -q30ut-nbjurnnowVoUNDg           0\n",
       " ...                      ...       ...                     ...         ...\n",
       " 1142  s9c97O7c1BEnbojEttIj2w  4.700362  -q30ut-nbjurnnowVoUNDg           0\n",
       " 1143  T41mghWjsImJiIQT9hYVHA  4.700349  -q30ut-nbjurnnowVoUNDg           0\n",
       " 1144  DTxB12bQaZ1m-nLeXWX2rw  4.700336  -q30ut-nbjurnnowVoUNDg           0\n",
       " 1145  DTxB12bQaZ1m-nLeXWX2rw  4.700336  -q30ut-nbjurnnowVoUNDg           0\n",
       " 1146  RQgITZ-_8KgORje_Qs6W6w  4.700284  -q30ut-nbjurnnowVoUNDg           0\n",
       " \n",
       " [1147 rows x 4 columns],\n",
       "                  business_id     score                 user_id  real_label\n",
       " 0     -fs09akgCKv5rTTy7iUHUg  4.313682  -q6PI0Vs6Ci6haIB19u4_g           0\n",
       " 1     5tK4y67IUn3eDd3S1bka9Q  4.230786  -q6PI0Vs6Ci6haIB19u4_g           0\n",
       " 2     9pwzHmhCpgJwfaIP9jWoCg  4.179644  -q6PI0Vs6Ci6haIB19u4_g           0\n",
       " 3     XJvOamdhTQI65jmzTfreDQ  4.171073  -q6PI0Vs6Ci6haIB19u4_g           0\n",
       " 4     NnlQhXtuVOVjUFYB1Hqp8Q  4.149068  -q6PI0Vs6Ci6haIB19u4_g           0\n",
       " ...                      ...       ...                     ...         ...\n",
       " 1009  whiNQ0Z2AUkyBKucejQNTA  3.639905  -q6PI0Vs6Ci6haIB19u4_g           0\n",
       " 1010  636ljtr87X3WC_et1N9Aqw  3.639590  -q6PI0Vs6Ci6haIB19u4_g           0\n",
       " 1011  BSx7AFQrCdJlfKMhlNaTaw  3.638898  -q6PI0Vs6Ci6haIB19u4_g           0\n",
       " 1012  qJAWrsvNv74KYAoo6TAj0A  3.638451  -q6PI0Vs6Ci6haIB19u4_g           0\n",
       " 1013  8LUR1SJd-Va6x_TQBIYZdw  3.637917  -q6PI0Vs6Ci6haIB19u4_g           0\n",
       " \n",
       " [1014 rows x 4 columns],\n",
       "                  business_id     score                 user_id  real_label\n",
       " 0     RFo876v_A63N2JfOTq1p-g  4.991334  -qAvMjM58F6SU09UHG7VIA           0\n",
       " 1     -fs09akgCKv5rTTy7iUHUg  4.990341  -qAvMjM58F6SU09UHG7VIA           0\n",
       " 2     KTGEa8V9ec0QBYM_uk1YLQ  4.977006  -qAvMjM58F6SU09UHG7VIA           0\n",
       " 3     o_N7HiU3f6cVvrJAFrE43A  4.962806  -qAvMjM58F6SU09UHG7VIA           0\n",
       " 4     zLm2PaYrpHkcr63ekwvtBQ  4.954715  -qAvMjM58F6SU09UHG7VIA           0\n",
       " ...                      ...       ...                     ...         ...\n",
       " 1049  V5tCeElfEgLsWN78eJgKhA  4.522078  -qAvMjM58F6SU09UHG7VIA           0\n",
       " 1050  dwh4dy4zyrf-NTqaCYjH6A  4.522020  -qAvMjM58F6SU09UHG7VIA           0\n",
       " 1051  mdSjI3ig48WS_jLJ6Vxq0A  4.521946  -qAvMjM58F6SU09UHG7VIA           0\n",
       " 1052  zdv6HmtViGmQn4PVk9bAWQ  4.521854  -qAvMjM58F6SU09UHG7VIA           0\n",
       " 1053  MJLQbWdO5h8FFKOMDUZ_9g  4.521825  -qAvMjM58F6SU09UHG7VIA           0\n",
       " \n",
       " [1054 rows x 4 columns],\n",
       "                 business_id     score                 user_id  real_label\n",
       " 0    -fs09akgCKv5rTTy7iUHUg  4.694409  -qIPvkGU6W-ARviY5aIH2A           0\n",
       " 1    o_N7HiU3f6cVvrJAFrE43A  4.668374  -qIPvkGU6W-ARviY5aIH2A           0\n",
       " 2    KTGEa8V9ec0QBYM_uk1YLQ  4.659975  -qIPvkGU6W-ARviY5aIH2A           0\n",
       " 3    u3zqvp4BYUjzJD7tzx3Jbg  4.640819  -qIPvkGU6W-ARviY5aIH2A           0\n",
       " 4    zLm2PaYrpHkcr63ekwvtBQ  4.630884  -qIPvkGU6W-ARviY5aIH2A           0\n",
       " ..                      ...       ...                     ...         ...\n",
       " 995  ajF4K4G-gJtNVy0P2paJpA  4.086888  -qIPvkGU6W-ARviY5aIH2A           0\n",
       " 996  7HI9pccJr1sqs8MrJQJNgg  4.086876  -qIPvkGU6W-ARviY5aIH2A           0\n",
       " 997  CwTvTix4sxPockqyfsO7ng  4.086867  -qIPvkGU6W-ARviY5aIH2A           0\n",
       " 998  QBuUA9LnalBq6WsIZbqaHA  4.086759  -qIPvkGU6W-ARviY5aIH2A           0\n",
       " 999  f9ChjNJV73tpa4rPb_JO0g  4.086578  -qIPvkGU6W-ARviY5aIH2A           0\n",
       " \n",
       " [1000 rows x 4 columns],\n",
       "                  business_id     score                 user_id  real_label\n",
       " 0     5tK4y67IUn3eDd3S1bka9Q  4.538543  -qMPPIyUxYMa0UZezcyn3A           0\n",
       " 1     IO3apWfFnKPO2XRFmGfTEw  4.482744  -qMPPIyUxYMa0UZezcyn3A           0\n",
       " 2     XJvOamdhTQI65jmzTfreDQ  4.481471  -qMPPIyUxYMa0UZezcyn3A           0\n",
       " 3     Bk6uzC83wbmCHm2i5Uz8OA  4.479324  -qMPPIyUxYMa0UZezcyn3A           0\n",
       " 4     9pwzHmhCpgJwfaIP9jWoCg  4.476773  -qMPPIyUxYMa0UZezcyn3A           0\n",
       " ...                      ...       ...                     ...         ...\n",
       " 1130  tpvHimO4BBn1QMPQL02B7A  3.803660  -qMPPIyUxYMa0UZezcyn3A           0\n",
       " 1131  OkWFmXM4sDI02KnDY3X-fw  3.803654  -qMPPIyUxYMa0UZezcyn3A           0\n",
       " 1132  L3IMug1NZOITEwNoDz8JAA  3.803547  -qMPPIyUxYMa0UZezcyn3A           0\n",
       " 1133  ZCZkxo29UKOkKYcxgmwLSA  3.803534  -qMPPIyUxYMa0UZezcyn3A           0\n",
       " 1134  zp1fdj5OcdQ8PyhSVbiwyw  3.803374  -qMPPIyUxYMa0UZezcyn3A           0\n",
       " \n",
       " [1135 rows x 4 columns],\n",
       "                  business_id     score                 user_id  real_label\n",
       " 0     XJvOamdhTQI65jmzTfreDQ  4.616614  -qPdaruV2eB3woGXfoWEjw           0\n",
       " 1     XJvOamdhTQI65jmzTfreDQ  4.616614  -qPdaruV2eB3woGXfoWEjw           0\n",
       " 2     2CkAPaNdV-4WeoTQ2w2bDA  4.605023  -qPdaruV2eB3woGXfoWEjw           0\n",
       " 3     Bk6uzC83wbmCHm2i5Uz8OA  4.589427  -qPdaruV2eB3woGXfoWEjw           0\n",
       " 4     _ZMf5Am_e0AE7aveELJd9w  4.574538  -qPdaruV2eB3woGXfoWEjw           0\n",
       " ...                      ...       ...                     ...         ...\n",
       " 1081  R2I0DYnyEjn-Eu5eweuOQQ  3.951558  -qPdaruV2eB3woGXfoWEjw           0\n",
       " 1082  eglqJWbxNrSUGDe1Me2JSw  3.951269  -qPdaruV2eB3woGXfoWEjw           0\n",
       " 1083  ZhEJ98pvDE0E5DFyIQBAGg  3.951218  -qPdaruV2eB3woGXfoWEjw           0\n",
       " 1084  ZhEJ98pvDE0E5DFyIQBAGg  3.951218  -qPdaruV2eB3woGXfoWEjw           0\n",
       " 1085  FZSrUCl8DqHquHjV2qPuQg  3.951199  -qPdaruV2eB3woGXfoWEjw           0\n",
       " \n",
       " [1086 rows x 4 columns],\n",
       "                  business_id     score                 user_id  real_label\n",
       " 0     5tK4y67IUn3eDd3S1bka9Q  4.744571  -qPeQ_cDRfCnU1qVjNcCOQ           0\n",
       " 1     XJvOamdhTQI65jmzTfreDQ  4.690647  -qPeQ_cDRfCnU1qVjNcCOQ           0\n",
       " 2     wUnLSg_GKfEIQ5CQQ770_g  4.679312  -qPeQ_cDRfCnU1qVjNcCOQ           0\n",
       " 3     _ZMf5Am_e0AE7aveELJd9w  4.671404  -qPeQ_cDRfCnU1qVjNcCOQ           0\n",
       " 4     Bk6uzC83wbmCHm2i5Uz8OA  4.669463  -qPeQ_cDRfCnU1qVjNcCOQ           0\n",
       " ...                      ...       ...                     ...         ...\n",
       " 997   koKA8h_mMQxHE0d_wBlFUg  4.233434  -qPeQ_cDRfCnU1qVjNcCOQ           0\n",
       " 998   hid9ixP7Rtoj2pR4EBrcGg  4.233317  -qPeQ_cDRfCnU1qVjNcCOQ           0\n",
       " 999   NYsF1By_jgGgQJnzL-3eAA  4.233216  -qPeQ_cDRfCnU1qVjNcCOQ           0\n",
       " 1000  zEfS4bEO49G8mmQ9hhcPfw  4.232786  -qPeQ_cDRfCnU1qVjNcCOQ           0\n",
       " 1001  zgSZxYaCI0wcMTR0Dxd7oQ  4.232772  -qPeQ_cDRfCnU1qVjNcCOQ           0\n",
       " \n",
       " [1002 rows x 4 columns],\n",
       "                 business_id     score                 user_id  real_label\n",
       " 0    -fs09akgCKv5rTTy7iUHUg  4.762472  -qd2MdPJb07HxoBpqh9xWQ           0\n",
       " 1    KTGEa8V9ec0QBYM_uk1YLQ  4.748506  -qd2MdPJb07HxoBpqh9xWQ           0\n",
       " 2    zLm2PaYrpHkcr63ekwvtBQ  4.726747  -qd2MdPJb07HxoBpqh9xWQ           0\n",
       " 3    8ZCpyx-U-dEJyNZBWiC3mA  4.710706  -qd2MdPJb07HxoBpqh9xWQ           0\n",
       " 4    5tK4y67IUn3eDd3S1bka9Q  4.692505  -qd2MdPJb07HxoBpqh9xWQ           0\n",
       " ..                      ...       ...                     ...         ...\n",
       " 995  9rMLrfcH-d6mKdq7uMNwzw  4.269194  -qd2MdPJb07HxoBpqh9xWQ           0\n",
       " 996  iaBU5h_j0TCrUFzTbjFIlw  4.269183  -qd2MdPJb07HxoBpqh9xWQ           0\n",
       " 997  MN3rGpUtdzYKFBMVypERRQ  4.269089  -qd2MdPJb07HxoBpqh9xWQ           0\n",
       " 998  riwJWxj4850tGBhRahDt7g  4.269024  -qd2MdPJb07HxoBpqh9xWQ           0\n",
       " 999  NYJ1PTYcQhQ8aVJiBPgIQg  4.269007  -qd2MdPJb07HxoBpqh9xWQ           0\n",
       " \n",
       " [1000 rows x 4 columns],\n",
       "                  business_id     score                 user_id  real_label\n",
       " 0     -fs09akgCKv5rTTy7iUHUg  4.337642  -qzdU0_NywmtPDB6WObYVQ           0\n",
       " 1     TE2IEDNV0RcI6s1wTOP4fg  4.312678  -qzdU0_NywmtPDB6WObYVQ           0\n",
       " 2     KTGEa8V9ec0QBYM_uk1YLQ  4.307568  -qzdU0_NywmtPDB6WObYVQ           0\n",
       " 3     zLm2PaYrpHkcr63ekwvtBQ  4.295500  -qzdU0_NywmtPDB6WObYVQ           0\n",
       " 4     Y93S8ZVnOhXQTkWZQEU5yg  4.294124  -qzdU0_NywmtPDB6WObYVQ           0\n",
       " ...                      ...       ...                     ...         ...\n",
       " 1107  K3rQIh4EXBwCb1xass2k7g  3.759211  -qzdU0_NywmtPDB6WObYVQ           0\n",
       " 1108  we1YC8nDW9V1H-BL_XMaRQ  3.758907  -qzdU0_NywmtPDB6WObYVQ           0\n",
       " 1109  vF-uptiQ34pVLHJKzPHUlA  3.758850  -qzdU0_NywmtPDB6WObYVQ           0\n",
       " 1110  v5hCB55uWA97qj_Ww8DHqw  3.758588  -qzdU0_NywmtPDB6WObYVQ           0\n",
       " 1111  tKxXZd00zZ24jDmJJcUYPQ  3.758381  -qzdU0_NywmtPDB6WObYVQ           0\n",
       " \n",
       " [1112 rows x 4 columns],\n",
       "                  business_id     score                 user_id  real_label\n",
       " 0     RFo876v_A63N2JfOTq1p-g  5.125716  -r062wagCApSPi6PJ2ePEA           0\n",
       " 1     o_N7HiU3f6cVvrJAFrE43A  5.097148  -r062wagCApSPi6PJ2ePEA           0\n",
       " 2     Y93S8ZVnOhXQTkWZQEU5yg  5.076476  -r062wagCApSPi6PJ2ePEA           0\n",
       " 3     5tK4y67IUn3eDd3S1bka9Q  5.054961  -r062wagCApSPi6PJ2ePEA           0\n",
       " 4     NnlQhXtuVOVjUFYB1Hqp8Q  4.997465  -r062wagCApSPi6PJ2ePEA           0\n",
       " ...                      ...       ...                     ...         ...\n",
       " 998   pTanA4AfvywjZCYWupCeug  4.508257  -r062wagCApSPi6PJ2ePEA           0\n",
       " 999   0F9zfns0Tk5q3XE6zTv19w  4.507856  -r062wagCApSPi6PJ2ePEA           0\n",
       " 1000  2cfEAFZZee8fq3Xx6yZ87w  4.507626  -r062wagCApSPi6PJ2ePEA           0\n",
       " 1001  hT_9d0I0uYpkjcl0_jdlnw  4.507362  -r062wagCApSPi6PJ2ePEA           0\n",
       " 1002  rO8NE085Kt_2_QkWtw6S7g  4.507343  -r062wagCApSPi6PJ2ePEA           0\n",
       " \n",
       " [1003 rows x 4 columns],\n",
       "                  business_id     score                 user_id  real_label\n",
       " 0     -fs09akgCKv5rTTy7iUHUg  5.159858  -rBMUsCpWE3103q6ombunA           0\n",
       " 1     KTGEa8V9ec0QBYM_uk1YLQ  5.145990  -rBMUsCpWE3103q6ombunA           0\n",
       " 2     zLm2PaYrpHkcr63ekwvtBQ  5.127348  -rBMUsCpWE3103q6ombunA           0\n",
       " 3     8ZCpyx-U-dEJyNZBWiC3mA  5.107635  -rBMUsCpWE3103q6ombunA           0\n",
       " 4     5tK4y67IUn3eDd3S1bka9Q  5.089562  -rBMUsCpWE3103q6ombunA           0\n",
       " ...                      ...       ...                     ...         ...\n",
       " 1023  YrbQ_OrRo-TYHnVw5y4Kew  4.681493  -rBMUsCpWE3103q6ombunA           0\n",
       " 1024  vQNRMrVD7tQTCmYkYBMLyQ  4.681488  -rBMUsCpWE3103q6ombunA           0\n",
       " 1025  N1GYsCd5QAchGOCeQ37J9g  4.681481  -rBMUsCpWE3103q6ombunA           0\n",
       " 1026  081vVr80-uscqGGaFAxKfQ  4.681289  -rBMUsCpWE3103q6ombunA           0\n",
       " 1027  229pgAfC3CBMmIWNngwKsA  4.681087  -rBMUsCpWE3103q6ombunA           0\n",
       " \n",
       " [1028 rows x 4 columns],\n",
       "                  business_id     score                 user_id  real_label\n",
       " 0     ytynqOUb3hjKeJfRj5Tshw  5.381227  -rBPL3ntdbLnTw3uwZLfQw           0\n",
       " 1     ytynqOUb3hjKeJfRj5Tshw  5.381227  -rBPL3ntdbLnTw3uwZLfQw           0\n",
       " 2     -fs09akgCKv5rTTy7iUHUg  5.355175  -rBPL3ntdbLnTw3uwZLfQw           0\n",
       " 3     KTGEa8V9ec0QBYM_uk1YLQ  5.341906  -rBPL3ntdbLnTw3uwZLfQw           0\n",
       " 4     zLm2PaYrpHkcr63ekwvtBQ  5.319615  -rBPL3ntdbLnTw3uwZLfQw           0\n",
       " ...                      ...       ...                     ...         ...\n",
       " 1065  hnXA1m5_6ogFvuvPDEP0Aw  4.878267  -rBPL3ntdbLnTw3uwZLfQw           0\n",
       " 1066  d8DvaJ2SG7_e4swJVenjUA  4.878226  -rBPL3ntdbLnTw3uwZLfQw           0\n",
       " 1067  we1YC8nDW9V1H-BL_XMaRQ  4.877710  -rBPL3ntdbLnTw3uwZLfQw           0\n",
       " 1068  fivoAD6x6jXJRiEZwhpcEQ  4.877599  -rBPL3ntdbLnTw3uwZLfQw           0\n",
       " 1069  UiD1tjeFu03vJ--oHba4Jw  4.877515  -rBPL3ntdbLnTw3uwZLfQw           0\n",
       " \n",
       " [1070 rows x 4 columns],\n",
       "                  business_id     score                 user_id  real_label\n",
       " 0     -fs09akgCKv5rTTy7iUHUg  4.771903  -rEUCXbUtkw0rWRdxnmRMQ           0\n",
       " 1     o_N7HiU3f6cVvrJAFrE43A  4.742102  -rEUCXbUtkw0rWRdxnmRMQ           0\n",
       " 2     KTGEa8V9ec0QBYM_uk1YLQ  4.732144  -rEUCXbUtkw0rWRdxnmRMQ           0\n",
       " 3     zLm2PaYrpHkcr63ekwvtBQ  4.702413  -rEUCXbUtkw0rWRdxnmRMQ           0\n",
       " 4     5tK4y67IUn3eDd3S1bka9Q  4.693253  -rEUCXbUtkw0rWRdxnmRMQ           0\n",
       " ...                      ...       ...                     ...         ...\n",
       " 1044  eBAxMzTR2veCeDg9wJ22tQ  4.187734  -rEUCXbUtkw0rWRdxnmRMQ           0\n",
       " 1045  4lop2hfUIgttXnYtWK-Euw  4.187236  -rEUCXbUtkw0rWRdxnmRMQ           0\n",
       " 1046  e6DF-FlJ-BXf1vetAkr3Tg  4.187008  -rEUCXbUtkw0rWRdxnmRMQ           0\n",
       " 1047  Ln_LEQt8yx1GX5hHuLR8qA  4.186731  -rEUCXbUtkw0rWRdxnmRMQ           0\n",
       " 1048  RfiLVnVNamfRZMIffZ4-ig  4.186515  -rEUCXbUtkw0rWRdxnmRMQ           0\n",
       " \n",
       " [1049 rows x 4 columns],\n",
       "                 business_id     score                 user_id  real_label\n",
       " 0    -fs09akgCKv5rTTy7iUHUg  4.886643  -rGU3wo4fgEnGRboYdMTjw           0\n",
       " 1    KTGEa8V9ec0QBYM_uk1YLQ  4.868172  -rGU3wo4fgEnGRboYdMTjw           0\n",
       " 2    zLm2PaYrpHkcr63ekwvtBQ  4.854134  -rGU3wo4fgEnGRboYdMTjw           0\n",
       " 3    8ZCpyx-U-dEJyNZBWiC3mA  4.825924  -rGU3wo4fgEnGRboYdMTjw           0\n",
       " 4    5tK4y67IUn3eDd3S1bka9Q  4.810432  -rGU3wo4fgEnGRboYdMTjw           0\n",
       " ..                      ...       ...                     ...         ...\n",
       " 995  g6rcVXjeLT6Y_kAFhbbJRg  4.401301  -rGU3wo4fgEnGRboYdMTjw           0\n",
       " 996  55D--p5wnvr0gYyRI_y_mw  4.401294  -rGU3wo4fgEnGRboYdMTjw           0\n",
       " 997  eMdE9Jofj5_8A_53ELnP8A  4.401159  -rGU3wo4fgEnGRboYdMTjw           0\n",
       " 998  wvgaFGDyD3nTYZubTahH2A  4.401082  -rGU3wo4fgEnGRboYdMTjw           0\n",
       " 999  cdIZWzfLzU8AAnS0rWQXdw  4.401031  -rGU3wo4fgEnGRboYdMTjw           0\n",
       " \n",
       " [1000 rows x 4 columns],\n",
       "                  business_id     score                 user_id  real_label\n",
       " 0     -fs09akgCKv5rTTy7iUHUg  4.028726  -rQ706URCVoMAIn-cq1x2Q           0\n",
       " 1     KTGEa8V9ec0QBYM_uk1YLQ  4.014245  -rQ706URCVoMAIn-cq1x2Q           0\n",
       " 2     o_N7HiU3f6cVvrJAFrE43A  4.003298  -rQ706URCVoMAIn-cq1x2Q           0\n",
       " 3     5tK4y67IUn3eDd3S1bka9Q  3.973645  -rQ706URCVoMAIn-cq1x2Q           0\n",
       " 4     WzbKilRpbcblgv38AV58eA  3.962701  -rQ706URCVoMAIn-cq1x2Q           0\n",
       " ...                      ...       ...                     ...         ...\n",
       " 1083  kNUdugntWQD8jEB-QNFEjg  3.344280  -rQ706URCVoMAIn-cq1x2Q           0\n",
       " 1084  k2781O41asaIsK7vkf3asg  3.343855  -rQ706URCVoMAIn-cq1x2Q           0\n",
       " 1085  ey7l85BLjciV0hf4fRsH1g  3.343696  -rQ706URCVoMAIn-cq1x2Q           0\n",
       " 1086  23qO8FxRwjfmkDqCK-HfLw  3.343282  -rQ706URCVoMAIn-cq1x2Q           0\n",
       " 1087  jRLskcm_icZIKs81mYC4iQ  3.343279  -rQ706URCVoMAIn-cq1x2Q           0\n",
       " \n",
       " [1088 rows x 4 columns],\n",
       "                  business_id     score                 user_id  real_label\n",
       " 0     -fs09akgCKv5rTTy7iUHUg  4.665694  -rYxChxsPwAd7JyK4yW65Q           0\n",
       " 1     8ZCpyx-U-dEJyNZBWiC3mA  4.621722  -rYxChxsPwAd7JyK4yW65Q           0\n",
       " 2     KTGEa8V9ec0QBYM_uk1YLQ  4.619186  -rYxChxsPwAd7JyK4yW65Q           0\n",
       " 3     zLm2PaYrpHkcr63ekwvtBQ  4.593477  -rYxChxsPwAd7JyK4yW65Q           0\n",
       " 4     5tK4y67IUn3eDd3S1bka9Q  4.585949  -rYxChxsPwAd7JyK4yW65Q           0\n",
       " ...                      ...       ...                     ...         ...\n",
       " 1048  RjTT7tn9BPTfRmyJagMN6g  3.985206  -rYxChxsPwAd7JyK4yW65Q           0\n",
       " 1049  VJ2BIGD9Q-vyE960n-4-dA  3.985098  -rYxChxsPwAd7JyK4yW65Q           0\n",
       " 1050  sXSUzImYOcRRI3xtG2M85g  3.984939  -rYxChxsPwAd7JyK4yW65Q           0\n",
       " 1051  MtCiGn5egsWHFRP1YMvrJw  3.984903  -rYxChxsPwAd7JyK4yW65Q           0\n",
       " 1052  rTXNiH-RROF1OQHVIn5qJQ  3.984352  -rYxChxsPwAd7JyK4yW65Q           0\n",
       " \n",
       " [1053 rows x 4 columns],\n",
       "                  business_id     score                 user_id  real_label\n",
       " 0     -fs09akgCKv5rTTy7iUHUg  4.584805  -riM6paMoa6XN6jLtD3zBA           0\n",
       " 1     KTGEa8V9ec0QBYM_uk1YLQ  4.559294  -riM6paMoa6XN6jLtD3zBA           0\n",
       " 2     o_N7HiU3f6cVvrJAFrE43A  4.547908  -riM6paMoa6XN6jLtD3zBA           0\n",
       " 3     zLm2PaYrpHkcr63ekwvtBQ  4.534772  -riM6paMoa6XN6jLtD3zBA           0\n",
       " 4     8ZCpyx-U-dEJyNZBWiC3mA  4.521058  -riM6paMoa6XN6jLtD3zBA           0\n",
       " ...                      ...       ...                     ...         ...\n",
       " 1017  MaaDRJZKSUTAJeF6OTQRnA  3.932085  -riM6paMoa6XN6jLtD3zBA           0\n",
       " 1018  1IDmcnlYxNX68ivve5xasQ  3.931842  -riM6paMoa6XN6jLtD3zBA           0\n",
       " 1019  E52a-tWfAVUigt1ArF711w  3.931677  -riM6paMoa6XN6jLtD3zBA           0\n",
       " 1020  kvb0a9FiFs9UXWxE6q-5DA  3.931056  -riM6paMoa6XN6jLtD3zBA           0\n",
       " 1021  7zUeYb7Z1Gp93a5B5Zwi0Q  3.930985  -riM6paMoa6XN6jLtD3zBA           0\n",
       " \n",
       " [1022 rows x 4 columns],\n",
       "                  business_id     score                 user_id  real_label\n",
       " 0     TE2IEDNV0RcI6s1wTOP4fg  5.346285  -roDfyKNZ-ompb_myak7aw           0\n",
       " 1     8ZCpyx-U-dEJyNZBWiC3mA  5.302438  -roDfyKNZ-ompb_myak7aw           0\n",
       " 2     XJvOamdhTQI65jmzTfreDQ  5.228940  -roDfyKNZ-ompb_myak7aw           0\n",
       " 3     Bk6uzC83wbmCHm2i5Uz8OA  5.223516  -roDfyKNZ-ompb_myak7aw           0\n",
       " 4     _ZMf5Am_e0AE7aveELJd9w  5.220781  -roDfyKNZ-ompb_myak7aw           0\n",
       " ...                      ...       ...                     ...         ...\n",
       " 1076  8h-g-qcb1cxXCnEBTR2olg  4.775373  -roDfyKNZ-ompb_myak7aw           0\n",
       " 1077  whA2TmbaegoFnrTtFZ2i0Q  4.775222  -roDfyKNZ-ompb_myak7aw           0\n",
       " 1078  DomjxCQ9noralgT1ybCFYg  4.775193  -roDfyKNZ-ompb_myak7aw           0\n",
       " 1079  -Or44IdY51Ukd618kikmtA  4.775069  -roDfyKNZ-ompb_myak7aw           0\n",
       " 1080  W_ZVpK3GCRRmQCvPQAhj2g  4.775026  -roDfyKNZ-ompb_myak7aw           0\n",
       " \n",
       " [1081 rows x 4 columns],\n",
       "                  business_id     score                 user_id  real_label\n",
       " 0     -fs09akgCKv5rTTy7iUHUg  4.947227  -s2Sf85f1QzTTeQnyuoE0Q           0\n",
       " 1     KTGEa8V9ec0QBYM_uk1YLQ  4.933934  -s2Sf85f1QzTTeQnyuoE0Q           0\n",
       " 2     o_N7HiU3f6cVvrJAFrE43A  4.919715  -s2Sf85f1QzTTeQnyuoE0Q           0\n",
       " 3     zLm2PaYrpHkcr63ekwvtBQ  4.911643  -s2Sf85f1QzTTeQnyuoE0Q           0\n",
       " 4     ctHjyadbDQAtUFfkcAFEHw  4.911114  -s2Sf85f1QzTTeQnyuoE0Q           0\n",
       " ...                      ...       ...                     ...         ...\n",
       " 1065  5xRZFazPsVLZXijsYwR7Ng  4.468638  -s2Sf85f1QzTTeQnyuoE0Q           0\n",
       " 1066  tKxXZd00zZ24jDmJJcUYPQ  4.468173  -s2Sf85f1QzTTeQnyuoE0Q           0\n",
       " 1067  ZufSfqQ4RfUk4RAQgnlc0Q  4.468159  -s2Sf85f1QzTTeQnyuoE0Q           0\n",
       " 1068  naZrWX2vLUHHvvmWLSuDXw  4.467866  -s2Sf85f1QzTTeQnyuoE0Q           0\n",
       " 1069  sjP6Zylv_Xbpzjx_tI5_iw  4.467690  -s2Sf85f1QzTTeQnyuoE0Q           0\n",
       " \n",
       " [1070 rows x 4 columns],\n",
       "                  business_id     score                 user_id  real_label\n",
       " 0     -fs09akgCKv5rTTy7iUHUg  4.297519  -sS9EH3qCpL7Thbp0R-UBA           0\n",
       " 1     KTGEa8V9ec0QBYM_uk1YLQ  4.267509  -sS9EH3qCpL7Thbp0R-UBA           0\n",
       " 2     5tK4y67IUn3eDd3S1bka9Q  4.214005  -sS9EH3qCpL7Thbp0R-UBA           0\n",
       " 3     9pwzHmhCpgJwfaIP9jWoCg  4.166533  -sS9EH3qCpL7Thbp0R-UBA           0\n",
       " 4     XJvOamdhTQI65jmzTfreDQ  4.143019  -sS9EH3qCpL7Thbp0R-UBA           0\n",
       " ...                      ...       ...                     ...         ...\n",
       " 1012  5dKDUPQaC7aMxqzMUsKXIg  3.637331  -sS9EH3qCpL7Thbp0R-UBA           0\n",
       " 1013  sMTmX6yttmwIhNWxlNtNfA  3.637316  -sS9EH3qCpL7Thbp0R-UBA           0\n",
       " 1014  SJ27iHWa1HwlW_1YRWXZcg  3.637059  -sS9EH3qCpL7Thbp0R-UBA           0\n",
       " 1015  1m-U_v6dHUr7uS5d4nDBNA  3.636892  -sS9EH3qCpL7Thbp0R-UBA           0\n",
       " 1016  p7-OaCLAzVKL-dIH3Xz_rA  3.636641  -sS9EH3qCpL7Thbp0R-UBA           0\n",
       " \n",
       " [1017 rows x 4 columns],\n",
       "                  business_id     score                 user_id  real_label\n",
       " 0     ytynqOUb3hjKeJfRj5Tshw  5.309596  -sac-sCaPLUR8llnx7HEUg           0\n",
       " 1     ytynqOUb3hjKeJfRj5Tshw  5.309596  -sac-sCaPLUR8llnx7HEUg           0\n",
       " 2     RFo876v_A63N2JfOTq1p-g  5.152843  -sac-sCaPLUR8llnx7HEUg           0\n",
       " 3     -fs09akgCKv5rTTy7iUHUg  5.151735  -sac-sCaPLUR8llnx7HEUg           0\n",
       " 4     -fs09akgCKv5rTTy7iUHUg  5.151735  -sac-sCaPLUR8llnx7HEUg           0\n",
       " ...                      ...       ...                     ...         ...\n",
       " 1115  swcfmflnWlhnbvPOHvPq_A  4.603030  -sac-sCaPLUR8llnx7HEUg           0\n",
       " 1116  m9vvhaf-hsxsEJ3otoeoew  4.602731  -sac-sCaPLUR8llnx7HEUg           0\n",
       " 1117  _YfnWUGgsLiH13wiPuC7jg  4.602674  -sac-sCaPLUR8llnx7HEUg           0\n",
       " 1118  mQvRi0nm84Www71d4qOheQ  4.602528  -sac-sCaPLUR8llnx7HEUg           0\n",
       " 1119  z4J2Hjp6ZxOBSuIqEqqiVg  4.602407  -sac-sCaPLUR8llnx7HEUg           0\n",
       " \n",
       " [1120 rows x 4 columns],\n",
       "                  business_id     score                 user_id  real_label\n",
       " 0     5tK4y67IUn3eDd3S1bka9Q  4.906890  -sfXjRSLdZACRy6kXTOCvg           0\n",
       " 1     Bk6uzC83wbmCHm2i5Uz8OA  4.845857  -sfXjRSLdZACRy6kXTOCvg           0\n",
       " 2     8j5bQ0nDwoGiFaTQDNCQTg  4.842915  -sfXjRSLdZACRy6kXTOCvg           0\n",
       " 3     9pwzHmhCpgJwfaIP9jWoCg  4.839219  -sfXjRSLdZACRy6kXTOCvg           0\n",
       " 4     X3NS8516o015Z1zcOwrqmQ  4.815941  -sfXjRSLdZACRy6kXTOCvg           0\n",
       " ...                      ...       ...                     ...         ...\n",
       " 1014  m-Gzep5E3OKxutYHV7xzPA  4.275483  -sfXjRSLdZACRy6kXTOCvg           0\n",
       " 1015  jiVCRuogicNuoSAR5fRpcA  4.275226  -sfXjRSLdZACRy6kXTOCvg           0\n",
       " 1016  fYUeuKAPBFvQ3YyyZHrj8g  4.275167  -sfXjRSLdZACRy6kXTOCvg           0\n",
       " 1017  xHMNTqYE06eFgfskRo_YkQ  4.274683  -sfXjRSLdZACRy6kXTOCvg           0\n",
       " 1018  zP_rGtJpUJlekUQF4wCjLw  4.274583  -sfXjRSLdZACRy6kXTOCvg           0\n",
       " \n",
       " [1019 rows x 4 columns],\n",
       "                  business_id     score                 user_id  real_label\n",
       " 0     -fs09akgCKv5rTTy7iUHUg  4.412838  -sgySGhEoP9fbzDcQMu5Lw           0\n",
       " 1     KTGEa8V9ec0QBYM_uk1YLQ  4.391588  -sgySGhEoP9fbzDcQMu5Lw           0\n",
       " 2     zLm2PaYrpHkcr63ekwvtBQ  4.374287  -sgySGhEoP9fbzDcQMu5Lw           0\n",
       " 3     8ZCpyx-U-dEJyNZBWiC3mA  4.371134  -sgySGhEoP9fbzDcQMu5Lw           0\n",
       " 4     5tK4y67IUn3eDd3S1bka9Q  4.332685  -sgySGhEoP9fbzDcQMu5Lw           0\n",
       " ...                      ...       ...                     ...         ...\n",
       " 996   5mDneH5wP5VN_7GVe-PudQ  3.784007  -sgySGhEoP9fbzDcQMu5Lw           0\n",
       " 997   7MYrqE-5cQrqj0vb5k67kQ  3.783926  -sgySGhEoP9fbzDcQMu5Lw           0\n",
       " 998   JfKe2LI_1F8NhqOsKzHggg  3.783911  -sgySGhEoP9fbzDcQMu5Lw           0\n",
       " 999   h6gEB2JmquKkuirJnrHk3g  3.783897  -sgySGhEoP9fbzDcQMu5Lw           0\n",
       " 1000  MKsCFQuzmgH2We9hwTQ8gw  3.783715  -sgySGhEoP9fbzDcQMu5Lw           0\n",
       " \n",
       " [1001 rows x 4 columns],\n",
       "                  business_id     score                 user_id  real_label\n",
       " 0     5tK4y67IUn3eDd3S1bka9Q  4.417747  -shHTy1CEmSMPVSehdASaw           0\n",
       " 1     PV00aCrNGHZMruxVWUoKkQ  4.397952  -shHTy1CEmSMPVSehdASaw           0\n",
       " 2     XJvOamdhTQI65jmzTfreDQ  4.365388  -shHTy1CEmSMPVSehdASaw           0\n",
       " 3     OOB-Rd8HtW7Mfj154dFUWw  4.348065  -shHTy1CEmSMPVSehdASaw           0\n",
       " 4     mtcgWB-WYipeGkJtaplEjg  4.347628  -shHTy1CEmSMPVSehdASaw           0\n",
       " ...                      ...       ...                     ...         ...\n",
       " 1041  Gt_MCSfwCSUDDhncJlxx3g  3.843349  -shHTy1CEmSMPVSehdASaw           0\n",
       " 1042  rKbTMJ7RMi06I2cW18toog  3.843278  -shHTy1CEmSMPVSehdASaw           0\n",
       " 1043  rjnjqqwMLbEGs5m16u2cGA  3.843245  -shHTy1CEmSMPVSehdASaw           0\n",
       " 1044  sOOuxhfGb00z3MaGk2YANA  3.843157  -shHTy1CEmSMPVSehdASaw           0\n",
       " 1045  4lop2hfUIgttXnYtWK-Euw  3.842954  -shHTy1CEmSMPVSehdASaw           0\n",
       " \n",
       " [1046 rows x 4 columns],\n",
       "                  business_id     score                 user_id  real_label\n",
       " 0     -fs09akgCKv5rTTy7iUHUg  4.879656  -soQ5IY73WpWvnv-98efLw           0\n",
       " 1     KTGEa8V9ec0QBYM_uk1YLQ  4.833941  -soQ5IY73WpWvnv-98efLw           0\n",
       " 2     8ZCpyx-U-dEJyNZBWiC3mA  4.818098  -soQ5IY73WpWvnv-98efLw           0\n",
       " 3     5tK4y67IUn3eDd3S1bka9Q  4.804248  -soQ5IY73WpWvnv-98efLw           0\n",
       " 4     Bk6uzC83wbmCHm2i5Uz8OA  4.767956  -soQ5IY73WpWvnv-98efLw           0\n",
       " ...                      ...       ...                     ...         ...\n",
       " 1065  EDr-EcPu7T_Rf6m12VchOg  4.356309  -soQ5IY73WpWvnv-98efLw           0\n",
       " 1066  ha_zdblAV0VfdeOB5cHg-A  4.356148  -soQ5IY73WpWvnv-98efLw           0\n",
       " 1067  2Yf3uGarCtGq7Expa0A81Q  4.355616  -soQ5IY73WpWvnv-98efLw           0\n",
       " 1068  Djdg_JBVHKgGNckbEV27UA  4.355571  -soQ5IY73WpWvnv-98efLw           0\n",
       " 1069  b3tI8ODMieXSflFHLFA92A  4.355541  -soQ5IY73WpWvnv-98efLw           0\n",
       " \n",
       " [1070 rows x 4 columns],\n",
       "                  business_id     score                 user_id  real_label\n",
       " 0     -fs09akgCKv5rTTy7iUHUg  5.024846  -srZqmR83vjSfR6PSUyVUA           0\n",
       " 1     KTGEa8V9ec0QBYM_uk1YLQ  5.006374  -srZqmR83vjSfR6PSUyVUA           0\n",
       " 2     o_N7HiU3f6cVvrJAFrE43A  4.993242  -srZqmR83vjSfR6PSUyVUA           0\n",
       " 3     zLm2PaYrpHkcr63ekwvtBQ  4.992336  -srZqmR83vjSfR6PSUyVUA           0\n",
       " 4     5tK4y67IUn3eDd3S1bka9Q  4.948634  -srZqmR83vjSfR6PSUyVUA           0\n",
       " ...                      ...       ...                     ...         ...\n",
       " 1064  bgBLYDsPEhAuUqBnBEv6bQ  4.522101  -srZqmR83vjSfR6PSUyVUA           0\n",
       " 1065  hEb0f7wRZBUhX5f4CWEukg  4.521978  -srZqmR83vjSfR6PSUyVUA           0\n",
       " 1066  Sbfm55Jgb7_V7nnuG7RtLQ  4.521572  -srZqmR83vjSfR6PSUyVUA           0\n",
       " 1067  uZZiRcsyTFFefJ6MsZIZwQ  4.521500  -srZqmR83vjSfR6PSUyVUA           0\n",
       " 1068  8vuulrqX0uw80A53wXmRSw  4.521441  -srZqmR83vjSfR6PSUyVUA           0\n",
       " \n",
       " [1069 rows x 4 columns],\n",
       "                 business_id     score                 user_id  real_label\n",
       " 0    -fs09akgCKv5rTTy7iUHUg  5.207341  -t16WTKzFVzbC3sJ2EW3Uw           0\n",
       " 1    KTGEa8V9ec0QBYM_uk1YLQ  5.194090  -t16WTKzFVzbC3sJ2EW3Uw           0\n",
       " 2    o_N7HiU3f6cVvrJAFrE43A  5.179829  -t16WTKzFVzbC3sJ2EW3Uw           0\n",
       " 3    zLm2PaYrpHkcr63ekwvtBQ  5.171800  -t16WTKzFVzbC3sJ2EW3Uw           0\n",
       " 4    8ZCpyx-U-dEJyNZBWiC3mA  5.155575  -t16WTKzFVzbC3sJ2EW3Uw           0\n",
       " ..                      ...       ...                     ...         ...\n",
       " 995  NYJ1PTYcQhQ8aVJiBPgIQg  4.689081  -t16WTKzFVzbC3sJ2EW3Uw           0\n",
       " 996  cdIZWzfLzU8AAnS0rWQXdw  4.689039  -t16WTKzFVzbC3sJ2EW3Uw           0\n",
       " 997  gYYMQeg4X8FUcCxXI4c2Tw  4.688919  -t16WTKzFVzbC3sJ2EW3Uw           0\n",
       " 998  WtoNmqwlgKWOfKLDIH7SWg  4.688754  -t16WTKzFVzbC3sJ2EW3Uw           0\n",
       " 999  JfKe2LI_1F8NhqOsKzHggg  4.688724  -t16WTKzFVzbC3sJ2EW3Uw           0\n",
       " \n",
       " [1000 rows x 4 columns],\n",
       "                  business_id     score                 user_id  real_label\n",
       " 0     -fs09akgCKv5rTTy7iUHUg  4.820629  -t1ELS3wtVwpFHozbvNTpQ           0\n",
       " 1     5tK4y67IUn3eDd3S1bka9Q  4.750884  -t1ELS3wtVwpFHozbvNTpQ           0\n",
       " 2     NnlQhXtuVOVjUFYB1Hqp8Q  4.701071  -t1ELS3wtVwpFHozbvNTpQ           0\n",
       " 3     XJvOamdhTQI65jmzTfreDQ  4.698671  -t1ELS3wtVwpFHozbvNTpQ           0\n",
       " 4     8j5bQ0nDwoGiFaTQDNCQTg  4.693885  -t1ELS3wtVwpFHozbvNTpQ           0\n",
       " ...                      ...       ...                     ...         ...\n",
       " 1069  DpYuRZEKlNYHhaexx7a4JQ  4.258859  -t1ELS3wtVwpFHozbvNTpQ           0\n",
       " 1070  qesrSLuacbxAcLz0P6DBVQ  4.258788  -t1ELS3wtVwpFHozbvNTpQ           0\n",
       " 1071  VxC-ThIRmU3VcHS88INn4w  4.258503  -t1ELS3wtVwpFHozbvNTpQ           0\n",
       " 1072  1u2IlvwOMndfuRk9EVcieQ  4.258373  -t1ELS3wtVwpFHozbvNTpQ           0\n",
       " 1073  WoVo347Icg3gfQ1jOnfAUA  4.258097  -t1ELS3wtVwpFHozbvNTpQ           0\n",
       " \n",
       " [1074 rows x 4 columns],\n",
       "                  business_id     score                 user_id  real_label\n",
       " 0     -fs09akgCKv5rTTy7iUHUg  5.147911  -t9pK2UfNPJJGwSM_c4KFw           0\n",
       " 1     KTGEa8V9ec0QBYM_uk1YLQ  5.134595  -t9pK2UfNPJJGwSM_c4KFw           0\n",
       " 2     zLm2PaYrpHkcr63ekwvtBQ  5.112305  -t9pK2UfNPJJGwSM_c4KFw           0\n",
       " 3     8ZCpyx-U-dEJyNZBWiC3mA  5.096145  -t9pK2UfNPJJGwSM_c4KFw           0\n",
       " 4     5tK4y67IUn3eDd3S1bka9Q  5.078167  -t9pK2UfNPJJGwSM_c4KFw           0\n",
       " ...                      ...       ...                     ...         ...\n",
       " 1022  8nio_7eFGbCSLhiLwbWvdA  4.673010  -t9pK2UfNPJJGwSM_c4KFw           0\n",
       " 1023  3nolKShzhKgG39DPKAGQPQ  4.672703  -t9pK2UfNPJJGwSM_c4KFw           0\n",
       " 1024  wocwfwSFrNfYJRyfYSi1Cw  4.672553  -t9pK2UfNPJJGwSM_c4KFw           0\n",
       " 1025  GIAgyEwEQITK7wZI_vhXIA  4.672142  -t9pK2UfNPJJGwSM_c4KFw           0\n",
       " 1026  sB45WFgysT617bKWP_WJwA  4.672126  -t9pK2UfNPJJGwSM_c4KFw           0\n",
       " \n",
       " [1027 rows x 4 columns],\n",
       "                  business_id     score                 user_id  real_label\n",
       " 0     -fs09akgCKv5rTTy7iUHUg  4.408860  -tbB4Yfu7MTOi7nAC-kPvA           0\n",
       " 1     KTGEa8V9ec0QBYM_uk1YLQ  4.378016  -tbB4Yfu7MTOi7nAC-kPvA           0\n",
       " 2     KTGEa8V9ec0QBYM_uk1YLQ  4.378016  -tbB4Yfu7MTOi7nAC-kPvA           0\n",
       " 3     8ZCpyx-U-dEJyNZBWiC3mA  4.361703  -tbB4Yfu7MTOi7nAC-kPvA           0\n",
       " 4     5tK4y67IUn3eDd3S1bka9Q  4.332620  -tbB4Yfu7MTOi7nAC-kPvA           0\n",
       " ...                      ...       ...                     ...         ...\n",
       " 1027  Te4yTJ7blab4s_JTAF71Iw  3.828106  -tbB4Yfu7MTOi7nAC-kPvA           0\n",
       " 1028  eFZZrkHMI_XeBl14toQvew  3.828023  -tbB4Yfu7MTOi7nAC-kPvA           0\n",
       " 1029  qj5NGHlVMxO2P00krUD0kw  3.827843  -tbB4Yfu7MTOi7nAC-kPvA           0\n",
       " 1030  OuLT0Em6xoWe08SQSdrbKw  3.827715  -tbB4Yfu7MTOi7nAC-kPvA           0\n",
       " 1031  kNUdugntWQD8jEB-QNFEjg  3.827580  -tbB4Yfu7MTOi7nAC-kPvA           0\n",
       " \n",
       " [1032 rows x 4 columns],\n",
       "                  business_id     score                 user_id  real_label\n",
       " 0     8ZCpyx-U-dEJyNZBWiC3mA  5.047368  -tePwC1eknsTTsJcgKUfwA           0\n",
       " 1     5tK4y67IUn3eDd3S1bka9Q  5.029480  -tePwC1eknsTTsJcgKUfwA           0\n",
       " 2     XJvOamdhTQI65jmzTfreDQ  4.973870  -tePwC1eknsTTsJcgKUfwA           0\n",
       " 3     Bk6uzC83wbmCHm2i5Uz8OA  4.968446  -tePwC1eknsTTsJcgKUfwA           0\n",
       " 4     _ZMf5Am_e0AE7aveELJd9w  4.965711  -tePwC1eknsTTsJcgKUfwA           0\n",
       " ...                      ...       ...                     ...         ...\n",
       " 1085  vl40Oa75v42jvJsHwpCGKA  4.559537  -tePwC1eknsTTsJcgKUfwA           0\n",
       " 1086  vl40Oa75v42jvJsHwpCGKA  4.559537  -tePwC1eknsTTsJcgKUfwA           0\n",
       " 1087  7kwQZV6PjhZ7jQn8ZmJCEg  4.559512  -tePwC1eknsTTsJcgKUfwA           0\n",
       " 1088  ABSiUVpGvn4waVJkLktMYg  4.559504  -tePwC1eknsTTsJcgKUfwA           0\n",
       " 1089  VSDdUwXktnvL_O0meKv7MQ  4.559436  -tePwC1eknsTTsJcgKUfwA           0\n",
       " \n",
       " [1090 rows x 4 columns],\n",
       "                  business_id     score                 user_id  real_label\n",
       " 0     ytynqOUb3hjKeJfRj5Tshw  5.418886  -tz9i4wSQg4vSQzAA5Svqg           0\n",
       " 1     ytynqOUb3hjKeJfRj5Tshw  5.418886  -tz9i4wSQg4vSQzAA5Svqg           0\n",
       " 2     -fs09akgCKv5rTTy7iUHUg  5.312057  -tz9i4wSQg4vSQzAA5Svqg           0\n",
       " 3     -fs09akgCKv5rTTy7iUHUg  5.312057  -tz9i4wSQg4vSQzAA5Svqg           0\n",
       " 4     TE2IEDNV0RcI6s1wTOP4fg  5.304139  -tz9i4wSQg4vSQzAA5Svqg           0\n",
       " ...                      ...       ...                     ...         ...\n",
       " 1133  Rw8Zf_snPdZO_B3XFOsJ6w  4.818520  -tz9i4wSQg4vSQzAA5Svqg           0\n",
       " 1134  23qO8FxRwjfmkDqCK-HfLw  4.818205  -tz9i4wSQg4vSQzAA5Svqg           0\n",
       " 1135  tkY5BJVXxUmP4jsKavkf2g  4.818102  -tz9i4wSQg4vSQzAA5Svqg           0\n",
       " 1136  haAIu_BLD6khheesCjKIRw  4.818053  -tz9i4wSQg4vSQzAA5Svqg           0\n",
       " 1137  w55VlTgAoRXPnqFte3j9ew  4.817615  -tz9i4wSQg4vSQzAA5Svqg           0\n",
       " \n",
       " [1138 rows x 4 columns],\n",
       "                  business_id     score                 user_id  real_label\n",
       " 0     -fs09akgCKv5rTTy7iUHUg  5.010358  -uGMDCVbBk1gH4miepwNIA           0\n",
       " 1     KTGEa8V9ec0QBYM_uk1YLQ  4.992500  -uGMDCVbBk1gH4miepwNIA           0\n",
       " 2     zLm2PaYrpHkcr63ekwvtBQ  4.977887  -uGMDCVbBk1gH4miepwNIA           0\n",
       " 3     8ZCpyx-U-dEJyNZBWiC3mA  4.951267  -uGMDCVbBk1gH4miepwNIA           0\n",
       " 4     5tK4y67IUn3eDd3S1bka9Q  4.935706  -uGMDCVbBk1gH4miepwNIA           0\n",
       " ...                      ...       ...                     ...         ...\n",
       " 1097  xicrRwfMBkDfQlFaGoyC5g  4.550997  -uGMDCVbBk1gH4miepwNIA           0\n",
       " 1098  uJZgom8HpK74xz8IojpT0A  4.550993  -uGMDCVbBk1gH4miepwNIA           0\n",
       " 1099  uJZgom8HpK74xz8IojpT0A  4.550993  -uGMDCVbBk1gH4miepwNIA           0\n",
       " 1100  fb7WERNeJ6KbzN-H5ImqnQ  4.550913  -uGMDCVbBk1gH4miepwNIA           0\n",
       " 1101  zXb_n0-cbsppVXJywaM9wQ  4.550759  -uGMDCVbBk1gH4miepwNIA           0\n",
       " \n",
       " [1102 rows x 4 columns],\n",
       "                  business_id     score                 user_id  real_label\n",
       " 0     KTGEa8V9ec0QBYM_uk1YLQ  5.234280  -uJaPhoNXikYWsb0xC09_A           0\n",
       " 1     8ZCpyx-U-dEJyNZBWiC3mA  5.195722  -uJaPhoNXikYWsb0xC09_A           0\n",
       " 2     XJvOamdhTQI65jmzTfreDQ  5.122224  -uJaPhoNXikYWsb0xC09_A           0\n",
       " 3     Bk6uzC83wbmCHm2i5Uz8OA  5.116800  -uJaPhoNXikYWsb0xC09_A           0\n",
       " 4     _ZMf5Am_e0AE7aveELJd9w  5.114065  -uJaPhoNXikYWsb0xC09_A           0\n",
       " ...                      ...       ...                     ...         ...\n",
       " 1049  MG_wIwRBwyNnCAEMXe9Jqw  4.709723  -uJaPhoNXikYWsb0xC09_A           0\n",
       " 1050  IG2KelKEHCwybPl98frdgQ  4.709655  -uJaPhoNXikYWsb0xC09_A           0\n",
       " 1051  cWN9aPMapaxIcj5LMDqtoA  4.709465  -uJaPhoNXikYWsb0xC09_A           0\n",
       " 1052  -o6bah2j6_IH9pkwANXcLA  4.709461  -uJaPhoNXikYWsb0xC09_A           0\n",
       " 1053  -o6bah2j6_IH9pkwANXcLA  4.709461  -uJaPhoNXikYWsb0xC09_A           0\n",
       " \n",
       " [1054 rows x 4 columns],\n",
       "                  business_id     score                 user_id  real_label\n",
       " 0     -fs09akgCKv5rTTy7iUHUg  4.024982  -uM1ujzuJed-2QmFS-6Vog           0\n",
       " 1     KTGEa8V9ec0QBYM_uk1YLQ  4.010502  -uM1ujzuJed-2QmFS-6Vog           0\n",
       " 2     o_N7HiU3f6cVvrJAFrE43A  4.000394  -uM1ujzuJed-2QmFS-6Vog           0\n",
       " 3     u3zqvp4BYUjzJD7tzx3Jbg  3.974395  -uM1ujzuJed-2QmFS-6Vog           0\n",
       " 4     5tK4y67IUn3eDd3S1bka9Q  3.968375  -uM1ujzuJed-2QmFS-6Vog           0\n",
       " ...                      ...       ...                     ...         ...\n",
       " 996   qFsh80AAL90tkOc0n98bqg  3.335220  -uM1ujzuJed-2QmFS-6Vog           0\n",
       " 997   6ciAUVTzxDall6WXLoot0A  3.335091  -uM1ujzuJed-2QmFS-6Vog           0\n",
       " 998   dU7a3NaMGqMFWCnS3BjY1A  3.333926  -uM1ujzuJed-2QmFS-6Vog           0\n",
       " 999   KhlHPUt6CwUeR6OgOMZaqw  3.333778  -uM1ujzuJed-2QmFS-6Vog           0\n",
       " 1000  KhlHPUt6CwUeR6OgOMZaqw  3.333778  -uM1ujzuJed-2QmFS-6Vog           0\n",
       " \n",
       " [1001 rows x 4 columns],\n",
       "                  business_id     score                 user_id  real_label\n",
       " 0     -fs09akgCKv5rTTy7iUHUg  4.890928  -uMqK8W_nWbRUWOFGW7CBw           0\n",
       " 1     KTGEa8V9ec0QBYM_uk1YLQ  4.877614  -uMqK8W_nWbRUWOFGW7CBw           0\n",
       " 2     KTGEa8V9ec0QBYM_uk1YLQ  4.877614  -uMqK8W_nWbRUWOFGW7CBw           0\n",
       " 3     5tK4y67IUn3eDd3S1bka9Q  4.821186  -uMqK8W_nWbRUWOFGW7CBw           0\n",
       " 4     u3zqvp4BYUjzJD7tzx3Jbg  4.813238  -uMqK8W_nWbRUWOFGW7CBw           0\n",
       " ...                      ...       ...                     ...         ...\n",
       " 1106  vfUfhmYhHfvgRamtwlTxFA  4.316229  -uMqK8W_nWbRUWOFGW7CBw           0\n",
       " 1107  CYJRj0lF120-WC3UKsuh5A  4.315967  -uMqK8W_nWbRUWOFGW7CBw           0\n",
       " 1108  eXMfOA7nAh3dlLgyw-939g  4.315707  -uMqK8W_nWbRUWOFGW7CBw           0\n",
       " 1109  uvhX5n6AiIEx9lSiyCKxlg  4.315132  -uMqK8W_nWbRUWOFGW7CBw           0\n",
       " 1110  BWPokhrYnWdfxdaUaM6l9Q  4.315045  -uMqK8W_nWbRUWOFGW7CBw           0\n",
       " \n",
       " [1111 rows x 4 columns],\n",
       "                  business_id     score                 user_id  real_label\n",
       " 0     -fs09akgCKv5rTTy7iUHUg  4.611880  -uN9aA3CNY1Bl7M55Dopuw           0\n",
       " 1     KTGEa8V9ec0QBYM_uk1YLQ  4.598613  -uN9aA3CNY1Bl7M55Dopuw           0\n",
       " 2     o_N7HiU3f6cVvrJAFrE43A  4.575157  -uN9aA3CNY1Bl7M55Dopuw           0\n",
       " 3     zLm2PaYrpHkcr63ekwvtBQ  4.567173  -uN9aA3CNY1Bl7M55Dopuw           0\n",
       " 4     8ZCpyx-U-dEJyNZBWiC3mA  4.543664  -uN9aA3CNY1Bl7M55Dopuw           0\n",
       " ...                      ...       ...                     ...         ...\n",
       " 999   mYjjkH79Tyj6HigH6rSPTw  4.013524  -uN9aA3CNY1Bl7M55Dopuw           0\n",
       " 1000  tyDEseGSr6NIsk7S63uMqA  4.013157  -uN9aA3CNY1Bl7M55Dopuw           0\n",
       " 1001  Lb5Gi0VnxwtFXk3sMTSMcQ  4.012839  -uN9aA3CNY1Bl7M55Dopuw           0\n",
       " 1002  wocwfwSFrNfYJRyfYSi1Cw  4.012546  -uN9aA3CNY1Bl7M55Dopuw           0\n",
       " 1003  LGYVMgnT5Qb0wohwEy_Shg  4.012463  -uN9aA3CNY1Bl7M55Dopuw           0\n",
       " \n",
       " [1004 rows x 4 columns],\n",
       "                  business_id     score                 user_id  real_label\n",
       " 0     -fs09akgCKv5rTTy7iUHUg  4.764949  -uRJ4dnraEaTZPT6fE3-eA           0\n",
       " 1     KTGEa8V9ec0QBYM_uk1YLQ  4.751765  -uRJ4dnraEaTZPT6fE3-eA           0\n",
       " 2     zLm2PaYrpHkcr63ekwvtBQ  4.720285  -uRJ4dnraEaTZPT6fE3-eA           0\n",
       " 3     8ZCpyx-U-dEJyNZBWiC3mA  4.699567  -uRJ4dnraEaTZPT6fE3-eA           0\n",
       " 4     5tK4y67IUn3eDd3S1bka9Q  4.689311  -uRJ4dnraEaTZPT6fE3-eA           0\n",
       " ...                      ...       ...                     ...         ...\n",
       " 1057  __4gkf_0UJW78rkRzFm6Gw  4.200620  -uRJ4dnraEaTZPT6fE3-eA           0\n",
       " 1058  M6ap9LXMEZmHf6NhlNpDQA  4.200581  -uRJ4dnraEaTZPT6fE3-eA           0\n",
       " 1059  -5lDiH8QCNr-MEc_o5XzLQ  4.200046  -uRJ4dnraEaTZPT6fE3-eA           0\n",
       " 1060  dV4DhSyZtxpmwyXMfJOCdA  4.199900  -uRJ4dnraEaTZPT6fE3-eA           0\n",
       " 1061  TdvI2kA0zslVlFS8a8YuTQ  4.199689  -uRJ4dnraEaTZPT6fE3-eA           0\n",
       " \n",
       " [1062 rows x 4 columns],\n",
       "                  business_id     score                 user_id  real_label\n",
       " 0     -fs09akgCKv5rTTy7iUHUg  5.360894  -uWiPg0mOT8yW5iHIlNmfA           0\n",
       " 1     KTGEa8V9ec0QBYM_uk1YLQ  5.347686  -uWiPg0mOT8yW5iHIlNmfA           0\n",
       " 2     o_N7HiU3f6cVvrJAFrE43A  5.333382  -uWiPg0mOT8yW5iHIlNmfA           0\n",
       " 3     5tK4y67IUn3eDd3S1bka9Q  5.291246  -uWiPg0mOT8yW5iHIlNmfA           0\n",
       " 4     XJvOamdhTQI65jmzTfreDQ  5.235631  -uWiPg0mOT8yW5iHIlNmfA           0\n",
       " ...                      ...       ...                     ...         ...\n",
       " 1052  BOjpe0u5u_cm9SWMS2KLFg  4.826638  -uWiPg0mOT8yW5iHIlNmfA           0\n",
       " 1053  NL_RDDQ_uPAT8t-x7hINvA  4.826522  -uWiPg0mOT8yW5iHIlNmfA           0\n",
       " 1054  2zNcKEp4soce0GFmOgZAdw  4.826392  -uWiPg0mOT8yW5iHIlNmfA           0\n",
       " 1055  gmYMOcIFsfUnlP_5HMaHpw  4.826341  -uWiPg0mOT8yW5iHIlNmfA           0\n",
       " 1056  9f48RWEylLgrkCt0-49iHw  4.826311  -uWiPg0mOT8yW5iHIlNmfA           0\n",
       " \n",
       " [1057 rows x 4 columns],\n",
       "                  business_id     score                 user_id  real_label\n",
       " 0     -fs09akgCKv5rTTy7iUHUg  5.281326  -uglef88WEwkI6UlAqwO0Q           0\n",
       " 1     KTGEa8V9ec0QBYM_uk1YLQ  5.262855  -uglef88WEwkI6UlAqwO0Q           0\n",
       " 2     KTGEa8V9ec0QBYM_uk1YLQ  5.262855  -uglef88WEwkI6UlAqwO0Q           0\n",
       " 3     o_N7HiU3f6cVvrJAFrE43A  5.249722  -uglef88WEwkI6UlAqwO0Q           0\n",
       " 4     zLm2PaYrpHkcr63ekwvtBQ  5.248816  -uglef88WEwkI6UlAqwO0Q           0\n",
       " ...                      ...       ...                     ...         ...\n",
       " 1067  9DfzRvTs9tzFuj5PnnLOrA  4.786092  -uglef88WEwkI6UlAqwO0Q           0\n",
       " 1068  Pocs24Rhnbqy1tZQm0j7Rw  4.786076  -uglef88WEwkI6UlAqwO0Q           0\n",
       " 1069  Q21JJcmmGH365PkvFzQbEg  4.785939  -uglef88WEwkI6UlAqwO0Q           0\n",
       " 1070  gOpRlosKLPBuVhYsTxgesg  4.785473  -uglef88WEwkI6UlAqwO0Q           0\n",
       " 1071  vru-W9v00HG2aPiv04WG7A  4.785205  -uglef88WEwkI6UlAqwO0Q           0\n",
       " \n",
       " [1072 rows x 4 columns],\n",
       "                  business_id     score                 user_id  real_label\n",
       " 0     KTGEa8V9ec0QBYM_uk1YLQ  4.943866  -uoYe4UkmJkYBP6aDTvlOA           0\n",
       " 1     8ZCpyx-U-dEJyNZBWiC3mA  4.905412  -uoYe4UkmJkYBP6aDTvlOA           0\n",
       " 2     XJvOamdhTQI65jmzTfreDQ  4.831914  -uoYe4UkmJkYBP6aDTvlOA           0\n",
       " 3     atZ_olNKXOG4rEr6mccN8g  4.828648  -uoYe4UkmJkYBP6aDTvlOA           0\n",
       " 4     Bk6uzC83wbmCHm2i5Uz8OA  4.826490  -uoYe4UkmJkYBP6aDTvlOA           0\n",
       " ...                      ...       ...                     ...         ...\n",
       " 1082  GSOLNXG5-IPvNj0DPf3kOQ  4.436605  -uoYe4UkmJkYBP6aDTvlOA           0\n",
       " 1083  jQBPO3rYkNwIaOdQS5ktgQ  4.436564  -uoYe4UkmJkYBP6aDTvlOA           0\n",
       " 1084  rdXWSuo0CVx5gYZOJMZdDw  4.436478  -uoYe4UkmJkYBP6aDTvlOA           0\n",
       " 1085  2EGNOPTha-XMYIVabDJIGw  4.436437  -uoYe4UkmJkYBP6aDTvlOA           0\n",
       " 1086  D1WqtPVxtjMQxH9FsomAXw  4.436393  -uoYe4UkmJkYBP6aDTvlOA           0\n",
       " \n",
       " [1087 rows x 4 columns],\n",
       "                  business_id     score                 user_id  real_label\n",
       " 0     RFo876v_A63N2JfOTq1p-g  4.994714  -v2IPgrUSp3ZPvwLvLFAYg           0\n",
       " 1     -fs09akgCKv5rTTy7iUHUg  4.993714  -v2IPgrUSp3ZPvwLvLFAYg           0\n",
       " 2     KTGEa8V9ec0QBYM_uk1YLQ  4.980386  -v2IPgrUSp3ZPvwLvLFAYg           0\n",
       " 3     o_N7HiU3f6cVvrJAFrE43A  4.966186  -v2IPgrUSp3ZPvwLvLFAYg           0\n",
       " 4     Y93S8ZVnOhXQTkWZQEU5yg  4.945473  -v2IPgrUSp3ZPvwLvLFAYg           0\n",
       " ...                      ...       ...                     ...         ...\n",
       " 1009  5kWhgFvaf9_zeyOfO-2NxQ  4.508803  -v2IPgrUSp3ZPvwLvLFAYg           0\n",
       " 1010  081vVr80-uscqGGaFAxKfQ  4.508564  -v2IPgrUSp3ZPvwLvLFAYg           0\n",
       " 1011  FcKqZpor9OjdTfoWkaGXuA  4.508395  -v2IPgrUSp3ZPvwLvLFAYg           0\n",
       " 1012  xAW4nw9DrW77vWF61_l-Qg  4.508197  -v2IPgrUSp3ZPvwLvLFAYg           0\n",
       " 1013  mNM9ITg780AnsPThtp9wFg  4.507988  -v2IPgrUSp3ZPvwLvLFAYg           0\n",
       " \n",
       " [1014 rows x 4 columns],\n",
       "                 business_id     score                 user_id  real_label\n",
       " 0    RFo876v_A63N2JfOTq1p-g  4.953902  -v8nveSjJ3GihrRETN6j0Q           0\n",
       " 1    -fs09akgCKv5rTTy7iUHUg  4.952900  -v8nveSjJ3GihrRETN6j0Q           0\n",
       " 2    KTGEa8V9ec0QBYM_uk1YLQ  4.939574  -v8nveSjJ3GihrRETN6j0Q           0\n",
       " 3    o_N7HiU3f6cVvrJAFrE43A  4.925375  -v8nveSjJ3GihrRETN6j0Q           0\n",
       " 4    Y93S8ZVnOhXQTkWZQEU5yg  4.904661  -v8nveSjJ3GihrRETN6j0Q           0\n",
       " ..                      ...       ...                     ...         ...\n",
       " 995  kvb0a9FiFs9UXWxE6q-5DA  4.467863  -v8nveSjJ3GihrRETN6j0Q           0\n",
       " 996  cXa1G6GYqpKR3hjw9zR3qA  4.467850  -v8nveSjJ3GihrRETN6j0Q           0\n",
       " 997  lWThCARbH20wQc1wdQC53w  4.467719  -v8nveSjJ3GihrRETN6j0Q           0\n",
       " 998  9M_lsr1093yifMKsXjQQzg  4.467619  -v8nveSjJ3GihrRETN6j0Q           0\n",
       " 999  4OnIsmWkjc7Adl1OmGqQdQ  4.467534  -v8nveSjJ3GihrRETN6j0Q           0\n",
       " \n",
       " [1000 rows x 4 columns],\n",
       "                  business_id     score                 user_id  real_label\n",
       " 0     TE2IEDNV0RcI6s1wTOP4fg  4.621994  -vBbg7fTK3y8W0PtpzlLWQ           0\n",
       " 1     Bk6uzC83wbmCHm2i5Uz8OA  4.502152  -vBbg7fTK3y8W0PtpzlLWQ           0\n",
       " 2     XJvOamdhTQI65jmzTfreDQ  4.492098  -vBbg7fTK3y8W0PtpzlLWQ           0\n",
       " 3     Jg9kkOl4sx2AXJVohbpSiw  4.490473  -vBbg7fTK3y8W0PtpzlLWQ           0\n",
       " 4     _ZMf5Am_e0AE7aveELJd9w  4.468901  -vBbg7fTK3y8W0PtpzlLWQ           0\n",
       " ...                      ...       ...                     ...         ...\n",
       " 1014  M-6AXSgmDMYcWsF442mzzA  3.817544  -vBbg7fTK3y8W0PtpzlLWQ           0\n",
       " 1015  f5gc0jpOh617jj3-9PdgzA  3.817467  -vBbg7fTK3y8W0PtpzlLWQ           0\n",
       " 1016  gRAVJyM4FmXfAGRPouRDIQ  3.817386  -vBbg7fTK3y8W0PtpzlLWQ           0\n",
       " 1017  zILVkn_Gm9xASg63jWKMHw  3.817228  -vBbg7fTK3y8W0PtpzlLWQ           0\n",
       " 1018  HSHEwDpzYdeL3aT1zB41YA  3.816721  -vBbg7fTK3y8W0PtpzlLWQ           0\n",
       " \n",
       " [1019 rows x 4 columns],\n",
       "                  business_id     score                 user_id  real_label\n",
       " 0     -fs09akgCKv5rTTy7iUHUg  4.069976  -vFl5LV9Aqd494V9F4FBcQ           0\n",
       " 1     KTGEa8V9ec0QBYM_uk1YLQ  4.054899  -vFl5LV9Aqd494V9F4FBcQ           0\n",
       " 2     o_N7HiU3f6cVvrJAFrE43A  4.044871  -vFl5LV9Aqd494V9F4FBcQ           0\n",
       " 3     zLm2PaYrpHkcr63ekwvtBQ  4.041615  -vFl5LV9Aqd494V9F4FBcQ           0\n",
       " 4     u3zqvp4BYUjzJD7tzx3Jbg  4.017476  -vFl5LV9Aqd494V9F4FBcQ           0\n",
       " ...                      ...       ...                     ...         ...\n",
       " 1058  HTgKfmmlzgE43trhntv8-w  3.428286  -vFl5LV9Aqd494V9F4FBcQ           0\n",
       " 1059  qiWuEwOfZDhad1kdyCDAIA  3.427915  -vFl5LV9Aqd494V9F4FBcQ           0\n",
       " 1060  oHR6VtJaFg2rBSFvoEWqrg  3.427795  -vFl5LV9Aqd494V9F4FBcQ           0\n",
       " 1061  ZufSfqQ4RfUk4RAQgnlc0Q  3.427536  -vFl5LV9Aqd494V9F4FBcQ           0\n",
       " 1062  cdf4eQCZv2lu3xZCKVnlZA  3.427464  -vFl5LV9Aqd494V9F4FBcQ           0\n",
       " \n",
       " [1063 rows x 4 columns],\n",
       "                  business_id     score                 user_id  real_label\n",
       " 0     -fs09akgCKv5rTTy7iUHUg  4.645229  -vIpjG0zJXrBkuxvY1U0pw           0\n",
       " 1     RFo876v_A63N2JfOTq1p-g  4.616957  -vIpjG0zJXrBkuxvY1U0pw           0\n",
       " 2     o_N7HiU3f6cVvrJAFrE43A  4.604485  -vIpjG0zJXrBkuxvY1U0pw           0\n",
       " 3     KTGEa8V9ec0QBYM_uk1YLQ  4.603486  -vIpjG0zJXrBkuxvY1U0pw           0\n",
       " 4     8ZCpyx-U-dEJyNZBWiC3mA  4.593472  -vIpjG0zJXrBkuxvY1U0pw           0\n",
       " ...                      ...       ...                     ...         ...\n",
       " 1019  7zzMf0VwD51K7dJjZMf_pA  4.008656  -vIpjG0zJXrBkuxvY1U0pw           0\n",
       " 1020  bLwWM6J-VjE8B6LPiOdf8A  4.008323  -vIpjG0zJXrBkuxvY1U0pw           0\n",
       " 1021  jeJbUi0s_NpObUfKOQZWqw  4.008122  -vIpjG0zJXrBkuxvY1U0pw           0\n",
       " 1022  saVXla5i8TjE51S5uCaf6w  4.007988  -vIpjG0zJXrBkuxvY1U0pw           0\n",
       " 1023  oqbhVgliVJH-iRa3AnD-3A  4.007836  -vIpjG0zJXrBkuxvY1U0pw           0\n",
       " \n",
       " [1024 rows x 4 columns],\n",
       "                 business_id     score                 user_id  real_label\n",
       " 0    o_N7HiU3f6cVvrJAFrE43A  5.077195  -vPtYuV_dMPb0Bbzg9ECVw           0\n",
       " 1    5tK4y67IUn3eDd3S1bka9Q  5.035041  -vPtYuV_dMPb0Bbzg9ECVw           0\n",
       " 2    Bk6uzC83wbmCHm2i5Uz8OA  4.977472  -vPtYuV_dMPb0Bbzg9ECVw           0\n",
       " 3    8j5bQ0nDwoGiFaTQDNCQTg  4.976653  -vPtYuV_dMPb0Bbzg9ECVw           0\n",
       " 4    9pwzHmhCpgJwfaIP9jWoCg  4.971506  -vPtYuV_dMPb0Bbzg9ECVw           0\n",
       " ..                      ...       ...                     ...         ...\n",
       " 995  QzKSR0scGVoalYUrVgOzBg  4.467885  -vPtYuV_dMPb0Bbzg9ECVw           0\n",
       " 996  RLtlS9CJlyGU3WIOLHxLwQ  4.467627  -vPtYuV_dMPb0Bbzg9ECVw           0\n",
       " 997  X0fyRuVS9wksrUha-3j5Gg  4.467619  -vPtYuV_dMPb0Bbzg9ECVw           0\n",
       " 998  XyJC31JZ1_0_zb-awsl4_g  4.467439  -vPtYuV_dMPb0Bbzg9ECVw           0\n",
       " 999  C4mWzmxdWDtYR0tFRVGOPA  4.466927  -vPtYuV_dMPb0Bbzg9ECVw           0\n",
       " \n",
       " [1000 rows x 4 columns],\n",
       "                  business_id     score                 user_id  real_label\n",
       " 0     -fs09akgCKv5rTTy7iUHUg  4.846876  -vhy1GbvnAhkgeHkvk_Xww           0\n",
       " 1     KTGEa8V9ec0QBYM_uk1YLQ  4.833563  -vhy1GbvnAhkgeHkvk_Xww           0\n",
       " 2     o_N7HiU3f6cVvrJAFrE43A  4.819363  -vhy1GbvnAhkgeHkvk_Xww           0\n",
       " 3     zLm2PaYrpHkcr63ekwvtBQ  4.811272  -vhy1GbvnAhkgeHkvk_Xww           0\n",
       " 4     5tK4y67IUn3eDd3S1bka9Q  4.777135  -vhy1GbvnAhkgeHkvk_Xww           0\n",
       " ...                      ...       ...                     ...         ...\n",
       " 1086  23qO8FxRwjfmkDqCK-HfLw  4.319529  -vhy1GbvnAhkgeHkvk_Xww           0\n",
       " 1087  mcB1_hiiOVPlgTvlkqAiDw  4.319385  -vhy1GbvnAhkgeHkvk_Xww           0\n",
       " 1088  mQvRi0nm84Www71d4qOheQ  4.318850  -vhy1GbvnAhkgeHkvk_Xww           0\n",
       " 1089  mNM9ITg780AnsPThtp9wFg  4.318780  -vhy1GbvnAhkgeHkvk_Xww           0\n",
       " 1090  oKmjgKAc5mjMB6v37Ix6yQ  4.318667  -vhy1GbvnAhkgeHkvk_Xww           0\n",
       " \n",
       " [1091 rows x 4 columns],\n",
       "                  business_id     score                 user_id  real_label\n",
       " 0     RFo876v_A63N2JfOTq1p-g  4.852565  -vmpU0f609hjiTFwTWnucQ           0\n",
       " 1     -fs09akgCKv5rTTy7iUHUg  4.851573  -vmpU0f609hjiTFwTWnucQ           0\n",
       " 2     KTGEa8V9ec0QBYM_uk1YLQ  4.836946  -vmpU0f609hjiTFwTWnucQ           0\n",
       " 3     o_N7HiU3f6cVvrJAFrE43A  4.824038  -vmpU0f609hjiTFwTWnucQ           0\n",
       " 4     zLm2PaYrpHkcr63ekwvtBQ  4.815947  -vmpU0f609hjiTFwTWnucQ           0\n",
       " ...                      ...       ...                     ...         ...\n",
       " 1045  Zz4pFK6G5K0nyYYCj89YPQ  4.340456  -vmpU0f609hjiTFwTWnucQ           0\n",
       " 1046  0BgrDm4tfQBtlEV-ZqtAtg  4.340448  -vmpU0f609hjiTFwTWnucQ           0\n",
       " 1047  0BgrDm4tfQBtlEV-ZqtAtg  4.340448  -vmpU0f609hjiTFwTWnucQ           0\n",
       " 1048  d4QFJfL5q4nguXfWJUphZg  4.340263  -vmpU0f609hjiTFwTWnucQ           0\n",
       " 1049  QjPk-rOqaiWlZ1KQeJpQ2w  4.340044  -vmpU0f609hjiTFwTWnucQ           0\n",
       " \n",
       " [1050 rows x 4 columns],\n",
       "                  business_id     score                 user_id  real_label\n",
       " 0     -fs09akgCKv5rTTy7iUHUg  5.154248  -vqa0ss4956pvKg--I3q-A           0\n",
       " 1     KTGEa8V9ec0QBYM_uk1YLQ  5.140927  -vqa0ss4956pvKg--I3q-A           0\n",
       " 2     o_N7HiU3f6cVvrJAFrE43A  5.126727  -vqa0ss4956pvKg--I3q-A           0\n",
       " 3     Y93S8ZVnOhXQTkWZQEU5yg  5.106014  -vqa0ss4956pvKg--I3q-A           0\n",
       " 4     5tK4y67IUn3eDd3S1bka9Q  5.084499  -vqa0ss4956pvKg--I3q-A           0\n",
       " ...                      ...       ...                     ...         ...\n",
       " 1033  rjnjqqwMLbEGs5m16u2cGA  4.587432  -vqa0ss4956pvKg--I3q-A           0\n",
       " 1034  L4kfcADLCU4T33i7Z0CkuA  4.587079  -vqa0ss4956pvKg--I3q-A           0\n",
       " 1035  gP1-2F2EmuM0B97Gfmk8FQ  4.586872  -vqa0ss4956pvKg--I3q-A           0\n",
       " 1036  yxs_SMXOMC7fDOVWwDLBdg  4.586864  -vqa0ss4956pvKg--I3q-A           0\n",
       " 1037  m4Vxvy566FTJ-2GlTn3Obg  4.586854  -vqa0ss4956pvKg--I3q-A           0\n",
       " \n",
       " [1038 rows x 4 columns],\n",
       "                  business_id     score                 user_id  real_label\n",
       " 0     -fs09akgCKv5rTTy7iUHUg  5.239004  -vuflN4zvroYP5_2s2HMxQ           0\n",
       " 1     KTGEa8V9ec0QBYM_uk1YLQ  5.225796  -vuflN4zvroYP5_2s2HMxQ           0\n",
       " 2     8ZCpyx-U-dEJyNZBWiC3mA  5.187238  -vuflN4zvroYP5_2s2HMxQ           0\n",
       " 3     5tK4y67IUn3eDd3S1bka9Q  5.169355  -vuflN4zvroYP5_2s2HMxQ           0\n",
       " 4     XJvOamdhTQI65jmzTfreDQ  5.113740  -vuflN4zvroYP5_2s2HMxQ           0\n",
       " ...                      ...       ...                     ...         ...\n",
       " 997   zEfS4bEO49G8mmQ9hhcPfw  4.705963  -vuflN4zvroYP5_2s2HMxQ           0\n",
       " 998   llLvHJgkKQNfzgtKf6p3BQ  4.705287  -vuflN4zvroYP5_2s2HMxQ           0\n",
       " 999   hid9ixP7Rtoj2pR4EBrcGg  4.705252  -vuflN4zvroYP5_2s2HMxQ           0\n",
       " 1000  NaUdzbQGc6KN1T8ASTNm_A  4.704983  -vuflN4zvroYP5_2s2HMxQ           0\n",
       " 1001  F-j6PNGnA8yz77oIZMcPMA  4.704923  -vuflN4zvroYP5_2s2HMxQ           0\n",
       " \n",
       " [1002 rows x 4 columns],\n",
       "                  business_id     score                 user_id  real_label\n",
       " 0     -fs09akgCKv5rTTy7iUHUg  4.836721  -vzCAGgF7gBf9-lxtmspmQ           0\n",
       " 1     KTGEa8V9ec0QBYM_uk1YLQ  4.821525  -vzCAGgF7gBf9-lxtmspmQ           0\n",
       " 2     8ZCpyx-U-dEJyNZBWiC3mA  4.784957  -vzCAGgF7gBf9-lxtmspmQ           0\n",
       " 3     5tK4y67IUn3eDd3S1bka9Q  4.766958  -vzCAGgF7gBf9-lxtmspmQ           0\n",
       " 4     rQ2CSHRkZSn5WCu7OfVI-Q  4.744349  -vzCAGgF7gBf9-lxtmspmQ           0\n",
       " ...                      ...       ...                     ...         ...\n",
       " 1042  DVBJRvnCpkqaYl6nHroaMg  4.311082  -vzCAGgF7gBf9-lxtmspmQ           0\n",
       " 1043  g-YOzV9YIPmo6vZBHQuuUg  4.310873  -vzCAGgF7gBf9-lxtmspmQ           0\n",
       " 1044  229pgAfC3CBMmIWNngwKsA  4.310803  -vzCAGgF7gBf9-lxtmspmQ           0\n",
       " 1045  -o6bah2j6_IH9pkwANXcLA  4.310699  -vzCAGgF7gBf9-lxtmspmQ           0\n",
       " 1046  a3YGrsA5i1JSgs7g0tOefw  4.310652  -vzCAGgF7gBf9-lxtmspmQ           0\n",
       " \n",
       " [1047 rows x 4 columns],\n",
       "                  business_id     score                 user_id  real_label\n",
       " 0     -fs09akgCKv5rTTy7iUHUg  4.866541  -wDwXIbaaHgWd9TeoTGIzw           0\n",
       " 1     KTGEa8V9ec0QBYM_uk1YLQ  4.823747  -wDwXIbaaHgWd9TeoTGIzw           0\n",
       " 2     zLm2PaYrpHkcr63ekwvtBQ  4.808571  -wDwXIbaaHgWd9TeoTGIzw           0\n",
       " 3     8ZCpyx-U-dEJyNZBWiC3mA  4.807813  -wDwXIbaaHgWd9TeoTGIzw           0\n",
       " 4     u3zqvp4BYUjzJD7tzx3Jbg  4.805078  -wDwXIbaaHgWd9TeoTGIzw           0\n",
       " ...                      ...       ...                     ...         ...\n",
       " 997   hHCGmb01EGFstumCsd4-VA  4.306491  -wDwXIbaaHgWd9TeoTGIzw           0\n",
       " 998   SYcdJP123caYVCkZ27BIOw  4.306324  -wDwXIbaaHgWd9TeoTGIzw           0\n",
       " 999   GSiZfdrbw72LF1D2xTaTzQ  4.306244  -wDwXIbaaHgWd9TeoTGIzw           0\n",
       " 1000  ev9PTrWNm6gX2KCIW04QwQ  4.305945  -wDwXIbaaHgWd9TeoTGIzw           0\n",
       " 1001  NKnwvuJygWPC42qycr6Hwg  4.305517  -wDwXIbaaHgWd9TeoTGIzw           0\n",
       " \n",
       " [1002 rows x 4 columns],\n",
       "                  business_id     score                 user_id  real_label\n",
       " 0     KTGEa8V9ec0QBYM_uk1YLQ  4.089723  -wHb3saowEIu9s6Cz6zYLw           0\n",
       " 1     KTGEa8V9ec0QBYM_uk1YLQ  4.089723  -wHb3saowEIu9s6Cz6zYLw           0\n",
       " 2     8ZCpyx-U-dEJyNZBWiC3mA  4.051879  -wHb3saowEIu9s6Cz6zYLw           0\n",
       " 3     5tK4y67IUn3eDd3S1bka9Q  4.037857  -wHb3saowEIu9s6Cz6zYLw           0\n",
       " 4     5tK4y67IUn3eDd3S1bka9Q  4.037857  -wHb3saowEIu9s6Cz6zYLw           0\n",
       " ...                      ...       ...                     ...         ...\n",
       " 1064  NIhKpS_hNot964ct4bKx1Q  3.591013  -wHb3saowEIu9s6Cz6zYLw           0\n",
       " 1065  khH0QtNyUjcExh9i2CwGfg  3.590794  -wHb3saowEIu9s6Cz6zYLw           0\n",
       " 1066  jUVk21Kkf7awzvnj8oci3Q  3.590735  -wHb3saowEIu9s6Cz6zYLw           0\n",
       " 1067  RGXb-3iUuaORNWB_nt_RcQ  3.589857  -wHb3saowEIu9s6Cz6zYLw           0\n",
       " 1068  K06XzePUYtlT4Qm5ry-jBg  3.589850  -wHb3saowEIu9s6Cz6zYLw           0\n",
       " \n",
       " [1069 rows x 4 columns],\n",
       "                  business_id     score                 user_id  real_label\n",
       " 0     -fs09akgCKv5rTTy7iUHUg  5.090343  -wd41HcxuwQwZJRW9HoO1A           0\n",
       " 1     KTGEa8V9ec0QBYM_uk1YLQ  5.077008  -wd41HcxuwQwZJRW9HoO1A           0\n",
       " 2     zLm2PaYrpHkcr63ekwvtBQ  5.054718  -wd41HcxuwQwZJRW9HoO1A           0\n",
       " 3     8ZCpyx-U-dEJyNZBWiC3mA  5.038585  -wd41HcxuwQwZJRW9HoO1A           0\n",
       " 4     5tK4y67IUn3eDd3S1bka9Q  5.020580  -wd41HcxuwQwZJRW9HoO1A           0\n",
       " ...                      ...       ...                     ...         ...\n",
       " 997   b-fIbYn7CAdSXNEOdVGfaw  4.597640  -wd41HcxuwQwZJRW9HoO1A           0\n",
       " 998   wc-rqw9ECSGnS45JygdIwQ  4.597497  -wd41HcxuwQwZJRW9HoO1A           0\n",
       " 999   1dAOjmIN0qp0OHgA9gLX_Q  4.597472  -wd41HcxuwQwZJRW9HoO1A           0\n",
       " 1000  kvb0a9FiFs9UXWxE6q-5DA  4.597138  -wd41HcxuwQwZJRW9HoO1A           0\n",
       " 1001  onAxL1mLxQb4TzZrJ2rYMg  4.597019  -wd41HcxuwQwZJRW9HoO1A           0\n",
       " \n",
       " [1002 rows x 4 columns],\n",
       "                  business_id     score                 user_id  real_label\n",
       " 0     RFo876v_A63N2JfOTq1p-g  4.929480  -wdWkg4IczkFTL1eSb_Vsw           0\n",
       " 1     -fs09akgCKv5rTTy7iUHUg  4.928467  -wdWkg4IczkFTL1eSb_Vsw           0\n",
       " 2     KTGEa8V9ec0QBYM_uk1YLQ  4.915153  -wdWkg4IczkFTL1eSb_Vsw           0\n",
       " 3     o_N7HiU3f6cVvrJAFrE43A  4.900952  -wdWkg4IczkFTL1eSb_Vsw           0\n",
       " 4     zLm2PaYrpHkcr63ekwvtBQ  4.892861  -wdWkg4IczkFTL1eSb_Vsw           0\n",
       " ...                      ...       ...                     ...         ...\n",
       " 1027  s2QNCS8eIOS5DWKw7C-7qw  4.453971  -wdWkg4IczkFTL1eSb_Vsw           0\n",
       " 1028  UGefDZNmnBztS0eoXWtHyQ  4.453945  -wdWkg4IczkFTL1eSb_Vsw           0\n",
       " 1029  0eg9sThCA4dYiDA7xssd7A  4.453796  -wdWkg4IczkFTL1eSb_Vsw           0\n",
       " 1030  K3rQIh4EXBwCb1xass2k7g  4.453757  -wdWkg4IczkFTL1eSb_Vsw           0\n",
       " 1031  f9ChjNJV73tpa4rPb_JO0g  4.453730  -wdWkg4IczkFTL1eSb_Vsw           0\n",
       " \n",
       " [1032 rows x 4 columns],\n",
       "                  business_id     score                 user_id  real_label\n",
       " 0     -fs09akgCKv5rTTy7iUHUg  5.467349  -wwJAl9PeGCH8N7jg1eRlA           0\n",
       " 1     KTGEa8V9ec0QBYM_uk1YLQ  5.454141  -wwJAl9PeGCH8N7jg1eRlA           0\n",
       " 2     zLm2PaYrpHkcr63ekwvtBQ  5.431897  -wwJAl9PeGCH8N7jg1eRlA           0\n",
       " 3     8ZCpyx-U-dEJyNZBWiC3mA  5.415583  -wwJAl9PeGCH8N7jg1eRlA           0\n",
       " 4     5tK4y67IUn3eDd3S1bka9Q  5.397700  -wwJAl9PeGCH8N7jg1eRlA           0\n",
       " ...                      ...       ...                     ...         ...\n",
       " 1041  tKxXZd00zZ24jDmJJcUYPQ  4.985235  -wwJAl9PeGCH8N7jg1eRlA           0\n",
       " 1042  DorCmYVDR5wcCVvbCAvzEg  4.985207  -wwJAl9PeGCH8N7jg1eRlA           0\n",
       " 1043  1EDUXBWC6IAZvW-r5BKDGw  4.985091  -wwJAl9PeGCH8N7jg1eRlA           0\n",
       " 1044  saVXla5i8TjE51S5uCaf6w  4.985028  -wwJAl9PeGCH8N7jg1eRlA           0\n",
       " 1045  htJyj7N2_QqVUAvXCK9aXA  4.985008  -wwJAl9PeGCH8N7jg1eRlA           0\n",
       " \n",
       " [1046 rows x 4 columns],\n",
       "                  business_id     score                 user_id  real_label\n",
       " 0     -fs09akgCKv5rTTy7iUHUg  4.918544  -xMh-RMv1W2fJCZQ7y0Z-A           0\n",
       " 1     KTGEa8V9ec0QBYM_uk1YLQ  4.905220  -xMh-RMv1W2fJCZQ7y0Z-A           0\n",
       " 2     KTGEa8V9ec0QBYM_uk1YLQ  4.905220  -xMh-RMv1W2fJCZQ7y0Z-A           0\n",
       " 3     zLm2PaYrpHkcr63ekwvtBQ  4.882929  -xMh-RMv1W2fJCZQ7y0Z-A           0\n",
       " 4     8ZCpyx-U-dEJyNZBWiC3mA  4.866778  -xMh-RMv1W2fJCZQ7y0Z-A           0\n",
       " ...                      ...       ...                     ...         ...\n",
       " 1117  cQIh4YJlVtZI9TLF5_smOg  4.439176  -xMh-RMv1W2fJCZQ7y0Z-A           0\n",
       " 1118  M6ap9LXMEZmHf6NhlNpDQA  4.439166  -xMh-RMv1W2fJCZQ7y0Z-A           0\n",
       " 1119  lQTdARrqdKMAcDp1PWpQ9A  4.438769  -xMh-RMv1W2fJCZQ7y0Z-A           0\n",
       " 1120  WYDUHaSrkAvj1fjoFOgivw  4.438599  -xMh-RMv1W2fJCZQ7y0Z-A           0\n",
       " 1121  HaSCfbMg9CKMlrBV0sZjoA  4.438545  -xMh-RMv1W2fJCZQ7y0Z-A           0\n",
       " \n",
       " [1122 rows x 4 columns],\n",
       "                  business_id     score                 user_id  real_label\n",
       " 0     ytynqOUb3hjKeJfRj5Tshw  5.294400  -xTAmslBDE_mq-6Kbxieag           0\n",
       " 1     ytynqOUb3hjKeJfRj5Tshw  5.294400  -xTAmslBDE_mq-6Kbxieag           0\n",
       " 2     -fs09akgCKv5rTTy7iUHUg  5.235498  -xTAmslBDE_mq-6Kbxieag           0\n",
       " 3     TE2IEDNV0RcI6s1wTOP4fg  5.227547  -xTAmslBDE_mq-6Kbxieag           0\n",
       " 4     KTGEa8V9ec0QBYM_uk1YLQ  5.222200  -xTAmslBDE_mq-6Kbxieag           0\n",
       " ...                      ...       ...                     ...         ...\n",
       " 1139  FTSY6Y1RU-ICgc3GAbquXA  4.763943  -xTAmslBDE_mq-6Kbxieag           0\n",
       " 1140  Tl24lMv2aCuLs4u45NquJQ  4.763808  -xTAmslBDE_mq-6Kbxieag           0\n",
       " 1141  xI_IeVoVXLcXv77Yt7mY9g  4.763727  -xTAmslBDE_mq-6Kbxieag           0\n",
       " 1142  uL4jKuA41fQ-AUFBUUcrww  4.763685  -xTAmslBDE_mq-6Kbxieag           0\n",
       " 1143  _qTgNBEvVhcXD1lHksz8RQ  4.763463  -xTAmslBDE_mq-6Kbxieag           0\n",
       " \n",
       " [1144 rows x 4 columns],\n",
       "                  business_id     score                 user_id  real_label\n",
       " 0     RFo876v_A63N2JfOTq1p-g  5.143250  -xWtKHxDqJFydRgeg8D69w           0\n",
       " 1     -fs09akgCKv5rTTy7iUHUg  5.142122  -xWtKHxDqJFydRgeg8D69w           0\n",
       " 2     KTGEa8V9ec0QBYM_uk1YLQ  5.128913  -xWtKHxDqJFydRgeg8D69w           0\n",
       " 3     o_N7HiU3f6cVvrJAFrE43A  5.114610  -xWtKHxDqJFydRgeg8D69w           0\n",
       " 4     zLm2PaYrpHkcr63ekwvtBQ  5.106631  -xWtKHxDqJFydRgeg8D69w           0\n",
       " ...                      ...       ...                     ...         ...\n",
       " 1021  JQz0_R70G3bjQ5dRqrhxKQ  4.667418  -xWtKHxDqJFydRgeg8D69w           0\n",
       " 1022  K3rQIh4EXBwCb1xass2k7g  4.667377  -xWtKHxDqJFydRgeg8D69w           0\n",
       " 1023  XAyJt3DXSKf2f_EYrG5Z8Q  4.667254  -xWtKHxDqJFydRgeg8D69w           0\n",
       " 1024  8nio_7eFGbCSLhiLwbWvdA  4.667220  -xWtKHxDqJFydRgeg8D69w           0\n",
       " 1025  3nolKShzhKgG39DPKAGQPQ  4.666914  -xWtKHxDqJFydRgeg8D69w           0\n",
       " \n",
       " [1026 rows x 4 columns],\n",
       "                  business_id     score                 user_id  real_label\n",
       " 0     5tK4y67IUn3eDd3S1bka9Q  3.996313  -xdsX7jzXH6UhJZhvzrLwg           0\n",
       " 1     XJvOamdhTQI65jmzTfreDQ  3.963136  -xdsX7jzXH6UhJZhvzrLwg           0\n",
       " 2     8j5bQ0nDwoGiFaTQDNCQTg  3.953698  -xdsX7jzXH6UhJZhvzrLwg           0\n",
       " 3     _ZMf5Am_e0AE7aveELJd9w  3.950835  -xdsX7jzXH6UhJZhvzrLwg           0\n",
       " 4     1pp0D12fv1aObregTlkArg  3.935180  -xdsX7jzXH6UhJZhvzrLwg           0\n",
       " ...                      ...       ...                     ...         ...\n",
       " 1010  v8I7yA-t1onNs2Ce81J2MQ  3.245744  -xdsX7jzXH6UhJZhvzrLwg           0\n",
       " 1011  JofztY500JID_vLJxtyVBw  3.245365  -xdsX7jzXH6UhJZhvzrLwg           0\n",
       " 1012  OrBJqX-dG0oJfN1ppDtzGA  3.245020  -xdsX7jzXH6UhJZhvzrLwg           0\n",
       " 1013  f2HDMXD5o_-HNDSrUR1n0Q  3.244869  -xdsX7jzXH6UhJZhvzrLwg           0\n",
       " 1014  azN_X6tRwaKZ40AEFr80sA  3.244712  -xdsX7jzXH6UhJZhvzrLwg           0\n",
       " \n",
       " [1015 rows x 4 columns],\n",
       "                  business_id     score                 user_id  real_label\n",
       " 0     o_N7HiU3f6cVvrJAFrE43A  4.244008  -xtxhoC7IquHAA2IUTpLBA           0\n",
       " 1     5tK4y67IUn3eDd3S1bka9Q  4.207173  -xtxhoC7IquHAA2IUTpLBA           0\n",
       " 2     9pwzHmhCpgJwfaIP9jWoCg  4.154281  -xtxhoC7IquHAA2IUTpLBA           0\n",
       " 3     wUnLSg_GKfEIQ5CQQ770_g  4.140670  -xtxhoC7IquHAA2IUTpLBA           0\n",
       " 4     OOB-Rd8HtW7Mfj154dFUWw  4.138144  -xtxhoC7IquHAA2IUTpLBA           0\n",
       " ...                      ...       ...                     ...         ...\n",
       " 1045  WNhcS2zi4zAqA2TbduVINQ  3.639160  -xtxhoC7IquHAA2IUTpLBA           0\n",
       " 1046  ZNiwfEFDwzjA7r8EOTiW-w  3.638814  -xtxhoC7IquHAA2IUTpLBA           0\n",
       " 1047  zzjFdJwXuxBOGe9JeY_EMw  3.638048  -xtxhoC7IquHAA2IUTpLBA           0\n",
       " 1048  h4HUfzy5_9geCSyo9sFeYQ  3.637716  -xtxhoC7IquHAA2IUTpLBA           0\n",
       " 1049  O-7NsPu5FCOzUqNovGzskg  3.637604  -xtxhoC7IquHAA2IUTpLBA           0\n",
       " \n",
       " [1050 rows x 4 columns],\n",
       "                  business_id     score                 user_id  real_label\n",
       " 0     -fs09akgCKv5rTTy7iUHUg  4.499424  -y-R9jOTso_XAjDOrabdFg           0\n",
       " 1     RFo876v_A63N2JfOTq1p-g  4.488405  -y-R9jOTso_XAjDOrabdFg           0\n",
       " 2     8ZCpyx-U-dEJyNZBWiC3mA  4.477342  -y-R9jOTso_XAjDOrabdFg           0\n",
       " 3     KTGEa8V9ec0QBYM_uk1YLQ  4.458084  -y-R9jOTso_XAjDOrabdFg           0\n",
       " 4     o_N7HiU3f6cVvrJAFrE43A  4.451374  -y-R9jOTso_XAjDOrabdFg           0\n",
       " ...                      ...       ...                     ...         ...\n",
       " 998   9qOhDtUP5OMk2w-CHQxcTw  3.905954  -y-R9jOTso_XAjDOrabdFg           0\n",
       " 999   9qOhDtUP5OMk2w-CHQxcTw  3.905954  -y-R9jOTso_XAjDOrabdFg           0\n",
       " 1000  9qOhDtUP5OMk2w-CHQxcTw  3.905954  -y-R9jOTso_XAjDOrabdFg           0\n",
       " 1001  etaMJK4AFye6FH31KRs5vw  3.905400  -y-R9jOTso_XAjDOrabdFg           0\n",
       " 1002  TeVMFL7ZmZy8145Qquc2Tg  3.905153  -y-R9jOTso_XAjDOrabdFg           0\n",
       " \n",
       " [1003 rows x 4 columns],\n",
       "                  business_id     score                 user_id  real_label\n",
       " 0     -fs09akgCKv5rTTy7iUHUg  4.866151  -y4O_E79Z6QwEI1p4OU_0w           0\n",
       " 1     -fs09akgCKv5rTTy7iUHUg  4.866151  -y4O_E79Z6QwEI1p4OU_0w           0\n",
       " 2     TE2IEDNV0RcI6s1wTOP4fg  4.851885  -y4O_E79Z6QwEI1p4OU_0w           0\n",
       " 3     o_N7HiU3f6cVvrJAFrE43A  4.839952  -y4O_E79Z6QwEI1p4OU_0w           0\n",
       " 4     KTGEa8V9ec0QBYM_uk1YLQ  4.838057  -y4O_E79Z6QwEI1p4OU_0w           0\n",
       " ...                      ...       ...                     ...         ...\n",
       " 1117  d8DvaJ2SG7_e4swJVenjUA  4.302783  -y4O_E79Z6QwEI1p4OU_0w           0\n",
       " 1118  8cvkk0HB-F2Irctug1h3SA  4.302545  -y4O_E79Z6QwEI1p4OU_0w           0\n",
       " 1119  VHWCzIZXpWPyeFe2lkIutQ  4.302402  -y4O_E79Z6QwEI1p4OU_0w           0\n",
       " 1120  RaJrxyqjgEh_1bhCLtP6oA  4.302072  -y4O_E79Z6QwEI1p4OU_0w           0\n",
       " 1121  ZraQzfGJfnVMbMXZwOQ7Vg  4.301590  -y4O_E79Z6QwEI1p4OU_0w           0\n",
       " \n",
       " [1122 rows x 4 columns],\n",
       "                  business_id     score                 user_id  real_label\n",
       " 0     RFo876v_A63N2JfOTq1p-g  5.164714  -y7uVTgrnWWSulo2NUwywg           0\n",
       " 1     -fs09akgCKv5rTTy7iUHUg  5.163617  -y7uVTgrnWWSulo2NUwywg           0\n",
       " 2     KTGEa8V9ec0QBYM_uk1YLQ  5.150386  -y7uVTgrnWWSulo2NUwywg           0\n",
       " 3     o_N7HiU3f6cVvrJAFrE43A  5.136105  -y7uVTgrnWWSulo2NUwywg           0\n",
       " 4     zLm2PaYrpHkcr63ekwvtBQ  5.128096  -y7uVTgrnWWSulo2NUwywg           0\n",
       " ...                      ...       ...                     ...         ...\n",
       " 1071  xicrRwfMBkDfQlFaGoyC5g  4.661180  -y7uVTgrnWWSulo2NUwywg           0\n",
       " 1072  kmjXUagfPL_QoRMEv6k8EQ  4.661072  -y7uVTgrnWWSulo2NUwywg           0\n",
       " 1073  9rMLrfcH-d6mKdq7uMNwzw  4.660966  -y7uVTgrnWWSulo2NUwywg           0\n",
       " 1074  U6RX5K67l95kXzAnkmPesA  4.660628  -y7uVTgrnWWSulo2NUwywg           0\n",
       " 1075  pFILrIntfcOc6ekPd6m6lQ  4.660550  -y7uVTgrnWWSulo2NUwywg           0\n",
       " \n",
       " [1076 rows x 4 columns],\n",
       "                  business_id     score                 user_id  real_label\n",
       " 0     o_N7HiU3f6cVvrJAFrE43A  4.156490  -yLEbXJEUtS_SjlB9tabaQ           0\n",
       " 1     9pwzHmhCpgJwfaIP9jWoCg  4.068736  -yLEbXJEUtS_SjlB9tabaQ           0\n",
       " 2     X3NS8516o015Z1zcOwrqmQ  4.046402  -yLEbXJEUtS_SjlB9tabaQ           0\n",
       " 3     PLhBEbon3K938VvcbuQuSw  4.026369  -yLEbXJEUtS_SjlB9tabaQ           0\n",
       " 4     twQrGPaDKo26B4kDZjTMeA  4.026034  -yLEbXJEUtS_SjlB9tabaQ           0\n",
       " ...                      ...       ...                     ...         ...\n",
       " 1073  D4t9JnvIzJCmiL2PJn9zgg  3.286398  -yLEbXJEUtS_SjlB9tabaQ           0\n",
       " 1074  u2SO_waqiX4tbfPEB47O8Q  3.286344  -yLEbXJEUtS_SjlB9tabaQ           0\n",
       " 1075  yihGPorZJ4gruJKMgdg4zQ  3.286187  -yLEbXJEUtS_SjlB9tabaQ           0\n",
       " 1076  weEcI_e-OC7UgODWPRvavw  3.285753  -yLEbXJEUtS_SjlB9tabaQ           0\n",
       " 1077  TyJ5Qs4HdvI5hW_4GwspMw  3.285642  -yLEbXJEUtS_SjlB9tabaQ           0\n",
       " \n",
       " [1078 rows x 4 columns],\n",
       "                  business_id     score                 user_id  real_label\n",
       " 0     -fs09akgCKv5rTTy7iUHUg  4.863187  -yPMCoWJVzDgLkeilaZIqQ           0\n",
       " 1     KTGEa8V9ec0QBYM_uk1YLQ  4.844716  -yPMCoWJVzDgLkeilaZIqQ           0\n",
       " 2     o_N7HiU3f6cVvrJAFrE43A  4.831583  -yPMCoWJVzDgLkeilaZIqQ           0\n",
       " 3     Y93S8ZVnOhXQTkWZQEU5yg  4.812474  -yPMCoWJVzDgLkeilaZIqQ           0\n",
       " 4     5tK4y67IUn3eDd3S1bka9Q  4.786976  -yPMCoWJVzDgLkeilaZIqQ           0\n",
       " ...                      ...       ...                     ...         ...\n",
       " 1010  cE23pzblWoDQQdUJeYCXnQ  4.291032  -yPMCoWJVzDgLkeilaZIqQ           0\n",
       " 1011  LEyWxCngS9m5hWc9coJD4g  4.290920  -yPMCoWJVzDgLkeilaZIqQ           0\n",
       " 1012  Nz35wEHaq9gKK5uCFfqrhg  4.290440  -yPMCoWJVzDgLkeilaZIqQ           0\n",
       " 1013  4WdDY97x4GdMYtyk1KQMnw  4.290421  -yPMCoWJVzDgLkeilaZIqQ           0\n",
       " 1014  4WdDY97x4GdMYtyk1KQMnw  4.290421  -yPMCoWJVzDgLkeilaZIqQ           0\n",
       " \n",
       " [1015 rows x 4 columns],\n",
       "                  business_id     score                 user_id  real_label\n",
       " 0     -fs09akgCKv5rTTy7iUHUg  5.241435  -yY59glTwwEWiGzSlwI2_g           0\n",
       " 1     KTGEa8V9ec0QBYM_uk1YLQ  5.228168  -yY59glTwwEWiGzSlwI2_g           0\n",
       " 2     o_N7HiU3f6cVvrJAFrE43A  5.213923  -yY59glTwwEWiGzSlwI2_g           0\n",
       " 3     zLm2PaYrpHkcr63ekwvtBQ  5.205877  -yY59glTwwEWiGzSlwI2_g           0\n",
       " 4     8ZCpyx-U-dEJyNZBWiC3mA  5.189670  -yY59glTwwEWiGzSlwI2_g           0\n",
       " ...                      ...       ...                     ...         ...\n",
       " 996   VJ2BIGD9Q-vyE960n-4-dA  4.753487  -yY59glTwwEWiGzSlwI2_g           0\n",
       " 997   gWJdBPzO0XqMzVDjnlF8TA  4.753307  -yY59glTwwEWiGzSlwI2_g           0\n",
       " 998   R_Wi9jh57H_OzzAVWO71Bw  4.753256  -yY59glTwwEWiGzSlwI2_g           0\n",
       " 999   6ciAUVTzxDall6WXLoot0A  4.753207  -yY59glTwwEWiGzSlwI2_g           0\n",
       " 1000  SADPX8WX34EQDj_jqtacMw  4.752915  -yY59glTwwEWiGzSlwI2_g           0\n",
       " \n",
       " [1001 rows x 4 columns],\n",
       "                  business_id     score                 user_id  real_label\n",
       " 0     -fs09akgCKv5rTTy7iUHUg  5.003744  -yi-3gWJn_vccgVDh3cNpg           0\n",
       " 1     KTGEa8V9ec0QBYM_uk1YLQ  4.990470  -yi-3gWJn_vccgVDh3cNpg           0\n",
       " 2     o_N7HiU3f6cVvrJAFrE43A  4.976233  -yi-3gWJn_vccgVDh3cNpg           0\n",
       " 3     8ZCpyx-U-dEJyNZBWiC3mA  4.951979  -yi-3gWJn_vccgVDh3cNpg           0\n",
       " 4     5tK4y67IUn3eDd3S1bka9Q  4.934042  -yi-3gWJn_vccgVDh3cNpg           0\n",
       " ...                      ...       ...                     ...         ...\n",
       " 1022  N8NB7lMryKMMf6SJUvzYVQ  4.491907  -yi-3gWJn_vccgVDh3cNpg           0\n",
       " 1023  PGv11T-KjPvB4xoRSoQtCg  4.491814  -yi-3gWJn_vccgVDh3cNpg           0\n",
       " 1024  QdER5KjucCVtOXdU1g7kpA  4.491696  -yi-3gWJn_vccgVDh3cNpg           0\n",
       " 1025  75QEzGOeH7T0WmVBtmZNuQ  4.491696  -yi-3gWJn_vccgVDh3cNpg           0\n",
       " 1026  8vuulrqX0uw80A53wXmRSw  4.491239  -yi-3gWJn_vccgVDh3cNpg           0\n",
       " \n",
       " [1027 rows x 4 columns],\n",
       "                  business_id     score                 user_id  real_label\n",
       " 0     RFo876v_A63N2JfOTq1p-g  5.100590  -yqCTPAK9e9lxM90NQAlHQ           0\n",
       " 1     -fs09akgCKv5rTTy7iUHUg  5.099526  -yqCTPAK9e9lxM90NQAlHQ           0\n",
       " 2     KTGEa8V9ec0QBYM_uk1YLQ  5.086262  -yqCTPAK9e9lxM90NQAlHQ           0\n",
       " 3     ytynqOUb3hjKeJfRj5Tshw  5.084357  -yqCTPAK9e9lxM90NQAlHQ           0\n",
       " 4     ytynqOUb3hjKeJfRj5Tshw  5.084357  -yqCTPAK9e9lxM90NQAlHQ           0\n",
       " ...                      ...       ...                     ...         ...\n",
       " 1074  pwMejZZUizAZ4aOADafVPg  4.600546  -yqCTPAK9e9lxM90NQAlHQ           0\n",
       " 1075  pwMejZZUizAZ4aOADafVPg  4.600546  -yqCTPAK9e9lxM90NQAlHQ           0\n",
       " 1076  Bb3F76xkJrA-IwXLNK52RQ  4.600543  -yqCTPAK9e9lxM90NQAlHQ           0\n",
       " 1077  DXNKGOCVmFP5iU8owhK2Fw  4.600302  -yqCTPAK9e9lxM90NQAlHQ           0\n",
       " 1078  kvb0a9FiFs9UXWxE6q-5DA  4.600177  -yqCTPAK9e9lxM90NQAlHQ           0\n",
       " \n",
       " [1079 rows x 4 columns],\n",
       "                  business_id     score                 user_id  real_label\n",
       " 0     -fs09akgCKv5rTTy7iUHUg  4.295487  -yrJh-TX-Z2jde5VJz86lg           0\n",
       " 1     TE2IEDNV0RcI6s1wTOP4fg  4.275580  -yrJh-TX-Z2jde5VJz86lg           0\n",
       " 2     KTGEa8V9ec0QBYM_uk1YLQ  4.265964  -yrJh-TX-Z2jde5VJz86lg           0\n",
       " 3     o_N7HiU3f6cVvrJAFrE43A  4.254714  -yrJh-TX-Z2jde5VJz86lg           0\n",
       " 4     zLm2PaYrpHkcr63ekwvtBQ  4.253936  -yrJh-TX-Z2jde5VJz86lg           0\n",
       " ...                      ...       ...                     ...         ...\n",
       " 1114  -5lDiH8QCNr-MEc_o5XzLQ  3.768621  -yrJh-TX-Z2jde5VJz86lg           0\n",
       " 1115  RfxfNhEwkPs16956Q6GbCA  3.768249  -yrJh-TX-Z2jde5VJz86lg           0\n",
       " 1116  RfxfNhEwkPs16956Q6GbCA  3.768249  -yrJh-TX-Z2jde5VJz86lg           0\n",
       " 1117  K3rQIh4EXBwCb1xass2k7g  3.768079  -yrJh-TX-Z2jde5VJz86lg           0\n",
       " 1118  7T1VAYHIS3cgsDj3iS6JWQ  3.767932  -yrJh-TX-Z2jde5VJz86lg           0\n",
       " \n",
       " [1119 rows x 4 columns],\n",
       "                  business_id     score                 user_id  real_label\n",
       " 0     -fs09akgCKv5rTTy7iUHUg  4.937675  -z3H9n37yC4JiFldoRgbPQ           0\n",
       " 1     TE2IEDNV0RcI6s1wTOP4fg  4.929688  -z3H9n37yC4JiFldoRgbPQ           0\n",
       " 2     KTGEa8V9ec0QBYM_uk1YLQ  4.924340  -z3H9n37yC4JiFldoRgbPQ           0\n",
       " 3     8ZCpyx-U-dEJyNZBWiC3mA  4.885918  -z3H9n37yC4JiFldoRgbPQ           0\n",
       " 4     5tK4y67IUn3eDd3S1bka9Q  4.867912  -z3H9n37yC4JiFldoRgbPQ           0\n",
       " ...                      ...       ...                     ...         ...\n",
       " 1074  PGv11T-KjPvB4xoRSoQtCg  4.427272  -z3H9n37yC4JiFldoRgbPQ           0\n",
       " 1075  QhgrhVKlXZtSY6gRThf8zA  4.427221  -z3H9n37yC4JiFldoRgbPQ           0\n",
       " 1076  tNoqVTP-oWqHKl9zKNzBJw  4.427137  -z3H9n37yC4JiFldoRgbPQ           0\n",
       " 1077  h_DxpK5pngE1rX0Ca9wzGg  4.427064  -z3H9n37yC4JiFldoRgbPQ           0\n",
       " 1078  jQBPO3rYkNwIaOdQS5ktgQ  4.427003  -z3H9n37yC4JiFldoRgbPQ           0\n",
       " \n",
       " [1079 rows x 4 columns],\n",
       "                  business_id     score                 user_id  real_label\n",
       " 0     ytynqOUb3hjKeJfRj5Tshw  5.439982  -zEIB2bwgD2zd4CiAdJCLA           0\n",
       " 1     ytynqOUb3hjKeJfRj5Tshw  5.439982  -zEIB2bwgD2zd4CiAdJCLA           0\n",
       " 2     -fs09akgCKv5rTTy7iUHUg  5.321602  -zEIB2bwgD2zd4CiAdJCLA           0\n",
       " 3     KTGEa8V9ec0QBYM_uk1YLQ  5.308368  -zEIB2bwgD2zd4CiAdJCLA           0\n",
       " 4     o_N7HiU3f6cVvrJAFrE43A  5.294089  -zEIB2bwgD2zd4CiAdJCLA           0\n",
       " ...                      ...       ...                     ...         ...\n",
       " 1078  6ciAUVTzxDall6WXLoot0A  4.833373  -zEIB2bwgD2zd4CiAdJCLA           0\n",
       " 1079  uJZgom8HpK74xz8IojpT0A  4.833108  -zEIB2bwgD2zd4CiAdJCLA           0\n",
       " 1080  SADPX8WX34EQDj_jqtacMw  4.833081  -zEIB2bwgD2zd4CiAdJCLA           0\n",
       " 1081  qEcgemvSCGUFRKPS3lt3pw  4.832700  -zEIB2bwgD2zd4CiAdJCLA           0\n",
       " 1082  _oxapGiVq1_LdFKcHBehLg  4.832679  -zEIB2bwgD2zd4CiAdJCLA           0\n",
       " \n",
       " [1083 rows x 4 columns],\n",
       "                  business_id     score                 user_id  real_label\n",
       " 0     8ZCpyx-U-dEJyNZBWiC3mA  4.821661  -zG47SEyhX_R0xHtOVqnnA           0\n",
       " 1     atZ_olNKXOG4rEr6mccN8g  4.760415  -zG47SEyhX_R0xHtOVqnnA           0\n",
       " 2     XJvOamdhTQI65jmzTfreDQ  4.749799  -zG47SEyhX_R0xHtOVqnnA           0\n",
       " 3     Bk6uzC83wbmCHm2i5Uz8OA  4.745889  -zG47SEyhX_R0xHtOVqnnA           0\n",
       " 4     _ZMf5Am_e0AE7aveELJd9w  4.744405  -zG47SEyhX_R0xHtOVqnnA           0\n",
       " ...                      ...       ...                     ...         ...\n",
       " 1072  7GmQ9LYOoHuvsiaIJuLykQ  4.315276  -zG47SEyhX_R0xHtOVqnnA           0\n",
       " 1073  1m-U_v6dHUr7uS5d4nDBNA  4.315154  -zG47SEyhX_R0xHtOVqnnA           0\n",
       " 1074  rZlmMVYGaf1q6q0KoJh31Q  4.315123  -zG47SEyhX_R0xHtOVqnnA           0\n",
       " 1075  h_eHk-w1PuCKnZCYwgKEEg  4.314919  -zG47SEyhX_R0xHtOVqnnA           0\n",
       " 1076  jMi-FFOZMaYH9JccdBTvEA  4.314813  -zG47SEyhX_R0xHtOVqnnA           0\n",
       " \n",
       " [1077 rows x 4 columns],\n",
       "                 business_id     score                 user_id  real_label\n",
       " 0    -fs09akgCKv5rTTy7iUHUg  4.010684  -zHcPJdu9uBpmP_20uHsHg           0\n",
       " 1    KTGEa8V9ec0QBYM_uk1YLQ  3.996203  -zHcPJdu9uBpmP_20uHsHg           0\n",
       " 2    o_N7HiU3f6cVvrJAFrE43A  3.984950  -zHcPJdu9uBpmP_20uHsHg           0\n",
       " 3    5tK4y67IUn3eDd3S1bka9Q  3.952944  -zHcPJdu9uBpmP_20uHsHg           0\n",
       " 4    XJvOamdhTQI65jmzTfreDQ  3.925191  -zHcPJdu9uBpmP_20uHsHg           0\n",
       " ..                      ...       ...                     ...         ...\n",
       " 995  ZwRM2qsGJT_fkQx_MDZF8g  3.268321  -zHcPJdu9uBpmP_20uHsHg           0\n",
       " 996  MnB5oYCBXbiF8VkIiyU44A  3.268100  -zHcPJdu9uBpmP_20uHsHg           0\n",
       " 997  YaEwp8emNzySe-d0MKVbOw  3.267766  -zHcPJdu9uBpmP_20uHsHg           0\n",
       " 998  wv3pQnSxA3sR6QqBova-xA  3.267692  -zHcPJdu9uBpmP_20uHsHg           0\n",
       " 999  mKZEuPNLVe4yRL0UfxFPTg  3.267658  -zHcPJdu9uBpmP_20uHsHg           0\n",
       " \n",
       " [1000 rows x 4 columns],\n",
       "                  business_id     score                 user_id  real_label\n",
       " 0     RFo876v_A63N2JfOTq1p-g  5.626703  -z_Gplyh4E9K9izTvLtB0A           0\n",
       " 1     -fs09akgCKv5rTTy7iUHUg  5.626640  -z_Gplyh4E9K9izTvLtB0A           0\n",
       " 2     KTGEa8V9ec0QBYM_uk1YLQ  5.613432  -z_Gplyh4E9K9izTvLtB0A           0\n",
       " 3     o_N7HiU3f6cVvrJAFrE43A  5.599128  -z_Gplyh4E9K9izTvLtB0A           0\n",
       " 4     zLm2PaYrpHkcr63ekwvtBQ  5.590199  -z_Gplyh4E9K9izTvLtB0A           0\n",
       " ...                      ...       ...                     ...         ...\n",
       " 1076  uiLHEHh1VZ6u8Wx1kXcROg  5.095479  -z_Gplyh4E9K9izTvLtB0A           0\n",
       " 1077  IAOJuLejVtnZJpw15Txu9A  5.095375  -z_Gplyh4E9K9izTvLtB0A           0\n",
       " 1078  _Rj-WaJMlpdhM3hNzrjgoQ  5.095335  -z_Gplyh4E9K9izTvLtB0A           0\n",
       " 1079  _Rj-WaJMlpdhM3hNzrjgoQ  5.095335  -z_Gplyh4E9K9izTvLtB0A           0\n",
       " 1080  _Rj-WaJMlpdhM3hNzrjgoQ  5.095335  -z_Gplyh4E9K9izTvLtB0A           0\n",
       " \n",
       " [1081 rows x 4 columns],\n",
       "                 business_id     score                 user_id  real_label\n",
       " 0    -fs09akgCKv5rTTy7iUHUg  4.386340  -zjtYFKqNhStP1Rpud-kew           0\n",
       " 1    KTGEa8V9ec0QBYM_uk1YLQ  4.358033  -zjtYFKqNhStP1Rpud-kew           0\n",
       " 2    o_N7HiU3f6cVvrJAFrE43A  4.345942  -zjtYFKqNhStP1Rpud-kew           0\n",
       " 3    zLm2PaYrpHkcr63ekwvtBQ  4.345036  -zjtYFKqNhStP1Rpud-kew           0\n",
       " 4    u3zqvp4BYUjzJD7tzx3Jbg  4.324791  -zjtYFKqNhStP1Rpud-kew           0\n",
       " ..                      ...       ...                     ...         ...\n",
       " 995  JbNgfr60iyvM3CJWgyqXkw  3.770049  -zjtYFKqNhStP1Rpud-kew           0\n",
       " 996  75QEzGOeH7T0WmVBtmZNuQ  3.769629  -zjtYFKqNhStP1Rpud-kew           0\n",
       " 997  hbs43HZRB1nwMzMtiT9lsQ  3.769512  -zjtYFKqNhStP1Rpud-kew           0\n",
       " 998  xicrRwfMBkDfQlFaGoyC5g  3.769503  -zjtYFKqNhStP1Rpud-kew           0\n",
       " 999  y40Xvbq0Ahut5IcSaKn2XQ  3.769326  -zjtYFKqNhStP1Rpud-kew           0\n",
       " \n",
       " [1000 rows x 4 columns],\n",
       "                  business_id     score                 user_id  real_label\n",
       " 0     -fs09akgCKv5rTTy7iUHUg  4.712614  -zlQiR3mIJcu51Hw7FFy-A           0\n",
       " 1     RFo876v_A63N2JfOTq1p-g  4.692945  -zlQiR3mIJcu51Hw7FFy-A           0\n",
       " 2     o_N7HiU3f6cVvrJAFrE43A  4.686677  -zlQiR3mIJcu51Hw7FFy-A           0\n",
       " 3     KTGEa8V9ec0QBYM_uk1YLQ  4.672033  -zlQiR3mIJcu51Hw7FFy-A           0\n",
       " 4     Y93S8ZVnOhXQTkWZQEU5yg  4.649193  -zlQiR3mIJcu51Hw7FFy-A           0\n",
       " ...                      ...       ...                     ...         ...\n",
       " 1078  k2781O41asaIsK7vkf3asg  4.112654  -zlQiR3mIJcu51Hw7FFy-A           0\n",
       " 1079  VHWCzIZXpWPyeFe2lkIutQ  4.112075  -zlQiR3mIJcu51Hw7FFy-A           0\n",
       " 1080  HiGSwE3dV_u5OnLok3jfKw  4.111841  -zlQiR3mIJcu51Hw7FFy-A           0\n",
       " 1081  -HTra3AbYlsjx1VIlsIJbw  4.111407  -zlQiR3mIJcu51Hw7FFy-A           0\n",
       " 1082  HO1KJ6Jwk3sU_UTIJGOLDA  4.111371  -zlQiR3mIJcu51Hw7FFy-A           0\n",
       " \n",
       " [1083 rows x 4 columns],\n",
       "                  business_id     score                 user_id  real_label\n",
       " 0     -fs09akgCKv5rTTy7iUHUg  4.880932  -zsbL7MqauI6roiC7YPJpA           0\n",
       " 1     o_N7HiU3f6cVvrJAFrE43A  4.867301  -zsbL7MqauI6roiC7YPJpA           0\n",
       " 2     RFo876v_A63N2JfOTq1p-g  4.858170  -zsbL7MqauI6roiC7YPJpA           0\n",
       " 3     KTGEa8V9ec0QBYM_uk1YLQ  4.838138  -zsbL7MqauI6roiC7YPJpA           0\n",
       " 4     zLm2PaYrpHkcr63ekwvtBQ  4.822962  -zsbL7MqauI6roiC7YPJpA           0\n",
       " ...                      ...       ...                     ...         ...\n",
       " 1013  e6DF-FlJ-BXf1vetAkr3Tg  4.345898  -zsbL7MqauI6roiC7YPJpA           0\n",
       " 1014  PUDDBW0MfpSFI2XEMv_g3Q  4.345854  -zsbL7MqauI6roiC7YPJpA           0\n",
       " 1015  jZKoHLLeax-1KRWoUlnttg  4.345832  -zsbL7MqauI6roiC7YPJpA           0\n",
       " 1016  n57B4y1clYVK5O_DH9W-tg  4.345779  -zsbL7MqauI6roiC7YPJpA           0\n",
       " 1017  EAmx_lbvIBPX7wimjt3cxQ  4.345717  -zsbL7MqauI6roiC7YPJpA           0\n",
       " \n",
       " [1018 rows x 4 columns],\n",
       "                 business_id     score                 user_id  real_label\n",
       " 0    XJvOamdhTQI65jmzTfreDQ  4.574939  -zuV9Du1HFHaQ6GnVyGWsQ           0\n",
       " 1    i7_3lQzM5SP8Cc2YT-X3BA  4.569197  -zuV9Du1HFHaQ6GnVyGWsQ           0\n",
       " 2    _ZMf5Am_e0AE7aveELJd9w  4.538885  -zuV9Du1HFHaQ6GnVyGWsQ           0\n",
       " 3    fEqiXG_B-fn__w0aeF3nBQ  4.538411  -zuV9Du1HFHaQ6GnVyGWsQ           0\n",
       " 4    tBQcVd9c0EHKAXLZn_v54g  4.530704  -zuV9Du1HFHaQ6GnVyGWsQ           0\n",
       " ..                      ...       ...                     ...         ...\n",
       " 995  WSZkBTGrUxPztXFlghJ17g  4.040448  -zuV9Du1HFHaQ6GnVyGWsQ           0\n",
       " 996  hlcJtI8X_KLj0_lDp0zp4w  4.040413  -zuV9Du1HFHaQ6GnVyGWsQ           0\n",
       " 997  tytJga2hFLxT-L0CoEupXg  4.040141  -zuV9Du1HFHaQ6GnVyGWsQ           0\n",
       " 998  exuQOZA1tvlZbCiheUs1Eg  4.040056  -zuV9Du1HFHaQ6GnVyGWsQ           0\n",
       " 999  O4ZaqslyHdkCpyv4JQDzMw  4.039982  -zuV9Du1HFHaQ6GnVyGWsQ           0\n",
       " \n",
       " [1000 rows x 4 columns],\n",
       "                  business_id     score                 user_id  real_label\n",
       " 0     8ZCpyx-U-dEJyNZBWiC3mA  4.815640  0-5xw_rzNdoq0yezQPPLPg           0\n",
       " 1     5tK4y67IUn3eDd3S1bka9Q  4.797610  0-5xw_rzNdoq0yezQPPLPg           0\n",
       " 2     XJvOamdhTQI65jmzTfreDQ  4.745156  0-5xw_rzNdoq0yezQPPLPg           0\n",
       " 3     Bk6uzC83wbmCHm2i5Uz8OA  4.740178  0-5xw_rzNdoq0yezQPPLPg           0\n",
       " 4     _ZMf5Am_e0AE7aveELJd9w  4.737085  0-5xw_rzNdoq0yezQPPLPg           0\n",
       " ...                      ...       ...                     ...         ...\n",
       " 1129  IhWg_9ceUBP1z7fvxlA9Uw  4.315939  0-5xw_rzNdoq0yezQPPLPg           0\n",
       " 1130  oT-JmelJHnnOP__rQhGq2A  4.315793  0-5xw_rzNdoq0yezQPPLPg           0\n",
       " 1131  p7UGlPkE3Gagm9Mq7aHfYg  4.315597  0-5xw_rzNdoq0yezQPPLPg           0\n",
       " 1132  642IgLN1a8kjDIeAkaps1A  4.315323  0-5xw_rzNdoq0yezQPPLPg           0\n",
       " 1133  sOOuxhfGb00z3MaGk2YANA  4.315116  0-5xw_rzNdoq0yezQPPLPg           0\n",
       " \n",
       " [1134 rows x 4 columns],\n",
       "                  business_id     score                 user_id  real_label\n",
       " 0     -fs09akgCKv5rTTy7iUHUg  4.920407  0-8rHexnylRxhSO_KH5-rw           0\n",
       " 1     TE2IEDNV0RcI6s1wTOP4fg  4.912419  0-8rHexnylRxhSO_KH5-rw           0\n",
       " 2     TE2IEDNV0RcI6s1wTOP4fg  4.912419  0-8rHexnylRxhSO_KH5-rw           0\n",
       " 3     o_N7HiU3f6cVvrJAFrE43A  4.892872  0-8rHexnylRxhSO_KH5-rw           0\n",
       " 4     KTGEa8V9ec0QBYM_uk1YLQ  4.892733  0-8rHexnylRxhSO_KH5-rw           0\n",
       " ...                      ...       ...                     ...         ...\n",
       " 1107  aVVCrM3kBh8yPmDyJAUnaQ  4.427441  0-8rHexnylRxhSO_KH5-rw           0\n",
       " 1108  Bhi6oPbGK5zoyj9qoRxzfA  4.427290  0-8rHexnylRxhSO_KH5-rw           0\n",
       " 1109  xLuEfxyJ8BnDtI9pG-mGAw  4.427174  0-8rHexnylRxhSO_KH5-rw           0\n",
       " 1110  6KoyHbN2qSUsioqrjXLeEg  4.427171  0-8rHexnylRxhSO_KH5-rw           0\n",
       " 1111  GBtCFp9EU0Ti86ftGewZZg  4.427159  0-8rHexnylRxhSO_KH5-rw           0\n",
       " \n",
       " [1112 rows x 4 columns],\n",
       "                  business_id     score                 user_id  real_label\n",
       " 0     -fs09akgCKv5rTTy7iUHUg  4.579247  0-TOlXYzoUcM9u-nQzM1AA           0\n",
       " 1     8ZCpyx-U-dEJyNZBWiC3mA  4.544509  0-TOlXYzoUcM9u-nQzM1AA           0\n",
       " 2     KTGEa8V9ec0QBYM_uk1YLQ  4.535992  0-TOlXYzoUcM9u-nQzM1AA           0\n",
       " 3     5tK4y67IUn3eDd3S1bka9Q  4.488767  0-TOlXYzoUcM9u-nQzM1AA           0\n",
       " 4     i7_3lQzM5SP8Cc2YT-X3BA  4.478034  0-TOlXYzoUcM9u-nQzM1AA           0\n",
       " ...                      ...       ...                     ...         ...\n",
       " 1049  HO1KJ6Jwk3sU_UTIJGOLDA  3.916602  0-TOlXYzoUcM9u-nQzM1AA           0\n",
       " 1050  _27BIQa1uBaqx9deGt6iow  3.916205  0-TOlXYzoUcM9u-nQzM1AA           0\n",
       " 1051  XyBe3WZgtYSV2iJm4Mkn2w  3.915924  0-TOlXYzoUcM9u-nQzM1AA           0\n",
       " 1052  hpfYTWeTkoX6dQEEfWowKQ  3.915854  0-TOlXYzoUcM9u-nQzM1AA           0\n",
       " 1053  eMdE9Jofj5_8A_53ELnP8A  3.915834  0-TOlXYzoUcM9u-nQzM1AA           0\n",
       " \n",
       " [1054 rows x 4 columns],\n",
       "                  business_id     score                 user_id  real_label\n",
       " 0     -fs09akgCKv5rTTy7iUHUg  4.833109  0-hb63A9uWjR1YIyVMu6rg           0\n",
       " 1     5tK4y67IUn3eDd3S1bka9Q  4.756772  0-hb63A9uWjR1YIyVMu6rg           0\n",
       " 2     Bk6uzC83wbmCHm2i5Uz8OA  4.698977  0-hb63A9uWjR1YIyVMu6rg           0\n",
       " 3     tBQcVd9c0EHKAXLZn_v54g  4.695724  0-hb63A9uWjR1YIyVMu6rg           0\n",
       " 4     XJvOamdhTQI65jmzTfreDQ  4.689493  0-hb63A9uWjR1YIyVMu6rg           0\n",
       " ...                      ...       ...                     ...         ...\n",
       " 1110  RmwLGLDc2rBo6K6MMPZzBA  4.223746  0-hb63A9uWjR1YIyVMu6rg           0\n",
       " 1111  9b-LZWsj75mmfMYuChXDkg  4.223673  0-hb63A9uWjR1YIyVMu6rg           0\n",
       " 1112  9b-LZWsj75mmfMYuChXDkg  4.223673  0-hb63A9uWjR1YIyVMu6rg           0\n",
       " 1113  EaGQz-Y2aAdfrn1XXgjJ6A  4.223266  0-hb63A9uWjR1YIyVMu6rg           0\n",
       " 1114  ueX6oVA4GSaKaBKMFyC8mA  4.223183  0-hb63A9uWjR1YIyVMu6rg           0\n",
       " \n",
       " [1115 rows x 4 columns],\n",
       "                  business_id     score                 user_id  real_label\n",
       " 0     -fs09akgCKv5rTTy7iUHUg  4.995477  0-n89YwF9LExnPIwgIVhoA           0\n",
       " 1     KTGEa8V9ec0QBYM_uk1YLQ  4.977023  0-n89YwF9LExnPIwgIVhoA           0\n",
       " 2     8ZCpyx-U-dEJyNZBWiC3mA  4.936861  0-n89YwF9LExnPIwgIVhoA           0\n",
       " 3     5tK4y67IUn3eDd3S1bka9Q  4.919284  0-n89YwF9LExnPIwgIVhoA           0\n",
       " 4     XJvOamdhTQI65jmzTfreDQ  4.874492  0-n89YwF9LExnPIwgIVhoA           0\n",
       " ...                      ...       ...                     ...         ...\n",
       " 1034  7gtWQMLOEwCxh1I5j6uB4g  4.491076  0-n89YwF9LExnPIwgIVhoA           0\n",
       " 1035  RmJJ979n9a2AZLUSe7_X6Q  4.490936  0-n89YwF9LExnPIwgIVhoA           0\n",
       " 1036  yDiWYpuzRxcTgSi_O4JZpQ  4.490926  0-n89YwF9LExnPIwgIVhoA           0\n",
       " 1037  xkWhyrBL0i_P8YdXGJ2iUg  4.490873  0-n89YwF9LExnPIwgIVhoA           0\n",
       " 1038  ROnkVXPz5jRlMQvLw05UEA  4.490807  0-n89YwF9LExnPIwgIVhoA           0\n",
       " \n",
       " [1039 rows x 4 columns],\n",
       "                 business_id     score                 user_id  real_label\n",
       " 0    -fs09akgCKv5rTTy7iUHUg  3.956561  0045TtOuxbg0M_82rf4LCA           0\n",
       " 1    KTGEa8V9ec0QBYM_uk1YLQ  3.941019  0045TtOuxbg0M_82rf4LCA           0\n",
       " 2    o_N7HiU3f6cVvrJAFrE43A  3.930142  0045TtOuxbg0M_82rf4LCA           0\n",
       " 3    zLm2PaYrpHkcr63ekwvtBQ  3.928970  0045TtOuxbg0M_82rf4LCA           0\n",
       " 4    5tK4y67IUn3eDd3S1bka9Q  3.907490  0045TtOuxbg0M_82rf4LCA           0\n",
       " ..                      ...       ...                     ...         ...\n",
       " 995  QBuUA9LnalBq6WsIZbqaHA  3.282365  0045TtOuxbg0M_82rf4LCA           0\n",
       " 996  M6ap9LXMEZmHf6NhlNpDQA  3.282037  0045TtOuxbg0M_82rf4LCA           0\n",
       " 997  190tghYWgZMzelQi8ZAsyw  3.282036  0045TtOuxbg0M_82rf4LCA           0\n",
       " 998  xBMkvH_qR-LhA-kJ_Gwvqg  3.281632  0045TtOuxbg0M_82rf4LCA           0\n",
       " 999  9pSChgbs1Skp8rRLQb8x9A  3.281463  0045TtOuxbg0M_82rf4LCA           0\n",
       " \n",
       " [1000 rows x 4 columns],\n",
       "                  business_id     score                 user_id  real_label\n",
       " 0     -fs09akgCKv5rTTy7iUHUg  4.914262  005GchcM1HWBH3SFKrIxBA           0\n",
       " 1     KTGEa8V9ec0QBYM_uk1YLQ  4.895790  005GchcM1HWBH3SFKrIxBA           0\n",
       " 2     zLm2PaYrpHkcr63ekwvtBQ  4.881752  005GchcM1HWBH3SFKrIxBA           0\n",
       " 3     8ZCpyx-U-dEJyNZBWiC3mA  4.851455  005GchcM1HWBH3SFKrIxBA           0\n",
       " 4     5tK4y67IUn3eDd3S1bka9Q  4.838050  005GchcM1HWBH3SFKrIxBA           0\n",
       " ...                      ...       ...                     ...         ...\n",
       " 1026  CG_NAd2OggmVEQjFOYsuTA  4.423872  005GchcM1HWBH3SFKrIxBA           0\n",
       " 1027  o69X6XW8QLuluIoGqvtQrA  4.423871  005GchcM1HWBH3SFKrIxBA           0\n",
       " 1028  UQ8UKfNSUT0aKu4naioVqw  4.423869  005GchcM1HWBH3SFKrIxBA           0\n",
       " 1029  da_jniSpqeo9Z6FLCCh4jQ  4.423849  005GchcM1HWBH3SFKrIxBA           0\n",
       " 1030  wc-rqw9ECSGnS45JygdIwQ  4.423823  005GchcM1HWBH3SFKrIxBA           0\n",
       " \n",
       " [1031 rows x 4 columns],\n",
       "                  business_id     score                 user_id  real_label\n",
       " 0     -fs09akgCKv5rTTy7iUHUg  4.554611  009U_T7U644EAk5U3Bxmew           0\n",
       " 1     o_N7HiU3f6cVvrJAFrE43A  4.510663  009U_T7U644EAk5U3Bxmew           0\n",
       " 2     5tK4y67IUn3eDd3S1bka9Q  4.462337  009U_T7U644EAk5U3Bxmew           0\n",
       " 3     9pwzHmhCpgJwfaIP9jWoCg  4.408883  009U_T7U644EAk5U3Bxmew           0\n",
       " 4     XJvOamdhTQI65jmzTfreDQ  4.404336  009U_T7U644EAk5U3Bxmew           0\n",
       " ...                      ...       ...                     ...         ...\n",
       " 1000  L-icd2tQI8QwKxBvJ7m0rw  3.720294  009U_T7U644EAk5U3Bxmew           0\n",
       " 1001  GTCWl4QDG6CV5M_xRkRlbg  3.720089  009U_T7U644EAk5U3Bxmew           0\n",
       " 1002  GC1XeEHiOLIi2SbNzsoGCw  3.719965  009U_T7U644EAk5U3Bxmew           0\n",
       " 1003  _wzeI4V5fSSCc0yXKBSLbA  3.719469  009U_T7U644EAk5U3Bxmew           0\n",
       " 1004  PcR2ObZX6IAYLE9HiUcG1w  3.719182  009U_T7U644EAk5U3Bxmew           0\n",
       " \n",
       " [1005 rows x 4 columns],\n",
       "                  business_id     score                 user_id  real_label\n",
       " 0     -fs09akgCKv5rTTy7iUHUg  4.762488  009ljYtlWQR4dNWVO4WVcQ           0\n",
       " 1     o_N7HiU3f6cVvrJAFrE43A  4.723898  009ljYtlWQR4dNWVO4WVcQ           0\n",
       " 2     u3zqvp4BYUjzJD7tzx3Jbg  4.670165  009ljYtlWQR4dNWVO4WVcQ           0\n",
       " 3     XJvOamdhTQI65jmzTfreDQ  4.643421  009ljYtlWQR4dNWVO4WVcQ           0\n",
       " 4     8j5bQ0nDwoGiFaTQDNCQTg  4.604601  009ljYtlWQR4dNWVO4WVcQ           0\n",
       " ...                      ...       ...                     ...         ...\n",
       " 996   RV8-eCrEFFsarfxi9vrfnw  3.988774  009ljYtlWQR4dNWVO4WVcQ           0\n",
       " 997   v5ur7Ceat3IiRyFzEzLqHw  3.988690  009ljYtlWQR4dNWVO4WVcQ           0\n",
       " 998   G374erxXpE7ArbxJ4kUnSA  3.988521  009ljYtlWQR4dNWVO4WVcQ           0\n",
       " 999   QfO-suqu9rYaX0Bh2iJ4mA  3.988386  009ljYtlWQR4dNWVO4WVcQ           0\n",
       " 1000  GTCWl4QDG6CV5M_xRkRlbg  3.988264  009ljYtlWQR4dNWVO4WVcQ           0\n",
       " \n",
       " [1001 rows x 4 columns],\n",
       "                  business_id     score                 user_id  real_label\n",
       " 0     RFo876v_A63N2JfOTq1p-g  5.052277  00BBefH9DpD3fx9YjVB-bA           0\n",
       " 1     -fs09akgCKv5rTTy7iUHUg  5.047816  00BBefH9DpD3fx9YjVB-bA           0\n",
       " 2     KTGEa8V9ec0QBYM_uk1YLQ  5.030324  00BBefH9DpD3fx9YjVB-bA           0\n",
       " 3     o_N7HiU3f6cVvrJAFrE43A  5.016212  00BBefH9DpD3fx9YjVB-bA           0\n",
       " 4     zLm2PaYrpHkcr63ekwvtBQ  5.015306  00BBefH9DpD3fx9YjVB-bA           0\n",
       " ...                      ...       ...                     ...         ...\n",
       " 1037  IAOJuLejVtnZJpw15Txu9A  4.523681  00BBefH9DpD3fx9YjVB-bA           0\n",
       " 1038  H_Z4DHZGFuyGlHZRkRVMgw  4.523643  00BBefH9DpD3fx9YjVB-bA           0\n",
       " 1039  wzIN0IqcNOnUjwuzRoG9AA  4.523584  00BBefH9DpD3fx9YjVB-bA           0\n",
       " 1040  mGy0KzmeGIECUL0nZXUV0g  4.523524  00BBefH9DpD3fx9YjVB-bA           0\n",
       " 1041  7MYrqE-5cQrqj0vb5k67kQ  4.523495  00BBefH9DpD3fx9YjVB-bA           0\n",
       " \n",
       " [1042 rows x 4 columns],\n",
       "                  business_id     score                 user_id  real_label\n",
       " 0     -fs09akgCKv5rTTy7iUHUg  5.168475  00Cz_vdInMHpTRjqbWjK5Q           0\n",
       " 1     KTGEa8V9ec0QBYM_uk1YLQ  5.155157  00Cz_vdInMHpTRjqbWjK5Q           0\n",
       " 2     8ZCpyx-U-dEJyNZBWiC3mA  5.116709  00Cz_vdInMHpTRjqbWjK5Q           0\n",
       " 3     5tK4y67IUn3eDd3S1bka9Q  5.098730  00Cz_vdInMHpTRjqbWjK5Q           0\n",
       " 4     u3zqvp4BYUjzJD7tzx3Jbg  5.090784  00Cz_vdInMHpTRjqbWjK5Q           0\n",
       " ...                      ...       ...                     ...         ...\n",
       " 997   3hjqPKtLvEtcOxaUHkz_RA  4.642931  00Cz_vdInMHpTRjqbWjK5Q           0\n",
       " 998   wzIN0IqcNOnUjwuzRoG9AA  4.642897  00Cz_vdInMHpTRjqbWjK5Q           0\n",
       " 999   rdXWSuo0CVx5gYZOJMZdDw  4.642894  00Cz_vdInMHpTRjqbWjK5Q           0\n",
       " 1000  TXg82zeFo2MpX5BzZXpJUg  4.642841  00Cz_vdInMHpTRjqbWjK5Q           0\n",
       " 1001  gXzd2Ao9NNLqCVUOcevdYQ  4.642822  00Cz_vdInMHpTRjqbWjK5Q           0\n",
       " \n",
       " [1002 rows x 4 columns],\n",
       "                  business_id     score                 user_id  real_label\n",
       " 0     -fs09akgCKv5rTTy7iUHUg  5.058605  00IPtk7iLBxuRDFBbVtlTA           0\n",
       " 1     KTGEa8V9ec0QBYM_uk1YLQ  5.045287  00IPtk7iLBxuRDFBbVtlTA           0\n",
       " 2     zLm2PaYrpHkcr63ekwvtBQ  5.022996  00IPtk7iLBxuRDFBbVtlTA           0\n",
       " 3     8ZCpyx-U-dEJyNZBWiC3mA  5.006839  00IPtk7iLBxuRDFBbVtlTA           0\n",
       " 4     5tK4y67IUn3eDd3S1bka9Q  4.988859  00IPtk7iLBxuRDFBbVtlTA           0\n",
       " ...                      ...       ...                     ...         ...\n",
       " 1041  xkWhyrBL0i_P8YdXGJ2iUg  4.552339  00IPtk7iLBxuRDFBbVtlTA           0\n",
       " 1042  lJ59yy1n1CHztMN6DsXBQA  4.552322  00IPtk7iLBxuRDFBbVtlTA           0\n",
       " 1043  2DTkzhmMpv5fIPKheePClA  4.552197  00IPtk7iLBxuRDFBbVtlTA           0\n",
       " 1044  gWgsRIYJXIyaY-xSY_1GlA  4.551827  00IPtk7iLBxuRDFBbVtlTA           0\n",
       " 1045  RmJJ979n9a2AZLUSe7_X6Q  4.551657  00IPtk7iLBxuRDFBbVtlTA           0\n",
       " \n",
       " [1046 rows x 4 columns],\n",
       "                  business_id     score                 user_id  real_label\n",
       " 0     -fs09akgCKv5rTTy7iUHUg  4.806788  00TOoSIg1EglVyLXCzeh6Q           0\n",
       " 1     KTGEa8V9ec0QBYM_uk1YLQ  4.793476  00TOoSIg1EglVyLXCzeh6Q           0\n",
       " 2     o_N7HiU3f6cVvrJAFrE43A  4.779276  00TOoSIg1EglVyLXCzeh6Q           0\n",
       " 3     zLm2PaYrpHkcr63ekwvtBQ  4.772288  00TOoSIg1EglVyLXCzeh6Q           0\n",
       " 4     8ZCpyx-U-dEJyNZBWiC3mA  4.755023  00TOoSIg1EglVyLXCzeh6Q           0\n",
       " ...                      ...       ...                     ...         ...\n",
       " 1036  ATsBy-RCjiv3XnDWt0czrg  4.327991  00TOoSIg1EglVyLXCzeh6Q           0\n",
       " 1037  PjmKr02wArbb7NpSWFK_LA  4.327926  00TOoSIg1EglVyLXCzeh6Q           0\n",
       " 1038  WYDUHaSrkAvj1fjoFOgivw  4.327806  00TOoSIg1EglVyLXCzeh6Q           0\n",
       " 1039  B-SiesU4hxIiL7rl7vzayA  4.327714  00TOoSIg1EglVyLXCzeh6Q           0\n",
       " 1040  HiUVZ08v_PRat3Th_DTzWw  4.327624  00TOoSIg1EglVyLXCzeh6Q           0\n",
       " \n",
       " [1041 rows x 4 columns],\n",
       "                  business_id     score                 user_id  real_label\n",
       " 0     -fs09akgCKv5rTTy7iUHUg  4.810881  012s68_rFT4vibI_VugLEg           0\n",
       " 1     KTGEa8V9ec0QBYM_uk1YLQ  4.783644  012s68_rFT4vibI_VugLEg           0\n",
       " 2     5tK4y67IUn3eDd3S1bka9Q  4.741123  012s68_rFT4vibI_VugLEg           0\n",
       " 3     XJvOamdhTQI65jmzTfreDQ  4.686733  012s68_rFT4vibI_VugLEg           0\n",
       " 4     wUnLSg_GKfEIQ5CQQ770_g  4.674634  012s68_rFT4vibI_VugLEg           0\n",
       " ...                      ...       ...                     ...         ...\n",
       " 1031  8jwsNjvVNJiYN7AnxHdMLA  4.222510  012s68_rFT4vibI_VugLEg           0\n",
       " 1032  y9nVAyd9u-ofORtRZ1-ePQ  4.222470  012s68_rFT4vibI_VugLEg           0\n",
       " 1033  df6QH8R6uegq7tOBMOc_eA  4.221958  012s68_rFT4vibI_VugLEg           0\n",
       " 1034  dQR7ZcEsOC9L-LKRYwekUA  4.221394  012s68_rFT4vibI_VugLEg           0\n",
       " 1035  HG_w8WcRyyUJ1neOMGSrvw  4.221376  012s68_rFT4vibI_VugLEg           0\n",
       " \n",
       " [1036 rows x 4 columns],\n",
       "                  business_id     score                 user_id  real_label\n",
       " 0     -fs09akgCKv5rTTy7iUHUg  4.390300  01B23PGLzHF8ZkXCoxITwQ           0\n",
       " 1     KTGEa8V9ec0QBYM_uk1YLQ  4.370130  01B23PGLzHF8ZkXCoxITwQ           0\n",
       " 2     zLm2PaYrpHkcr63ekwvtBQ  4.354811  01B23PGLzHF8ZkXCoxITwQ           0\n",
       " 3     8ZCpyx-U-dEJyNZBWiC3mA  4.339939  01B23PGLzHF8ZkXCoxITwQ           0\n",
       " 4     o_N7HiU3f6cVvrJAFrE43A  4.335913  01B23PGLzHF8ZkXCoxITwQ           0\n",
       " ...                      ...       ...                     ...         ...\n",
       " 1001  g6rcVXjeLT6Y_kAFhbbJRg  3.792499  01B23PGLzHF8ZkXCoxITwQ           0\n",
       " 1002  h7d_Gl_hX7pa37kknrA-eA  3.791831  01B23PGLzHF8ZkXCoxITwQ           0\n",
       " 1003  qr7meXBoHjezOYUWMj9O4w  3.791435  01B23PGLzHF8ZkXCoxITwQ           0\n",
       " 1004  lnT7jlgdGpn-vppgToIDCg  3.791011  01B23PGLzHF8ZkXCoxITwQ           0\n",
       " 1005  5Fs604P6wfdVNy9jt8kc5Q  3.790902  01B23PGLzHF8ZkXCoxITwQ           0\n",
       " \n",
       " [1006 rows x 4 columns],\n",
       "                  business_id     score                 user_id  real_label\n",
       " 0     -fs09akgCKv5rTTy7iUHUg  5.019247  01IhGl0XmthVaN1n0yVpfQ           0\n",
       " 1     KTGEa8V9ec0QBYM_uk1YLQ  5.002944  01IhGl0XmthVaN1n0yVpfQ           0\n",
       " 2     zLm2PaYrpHkcr63ekwvtBQ  4.986673  01IhGl0XmthVaN1n0yVpfQ           0\n",
       " 3     8ZCpyx-U-dEJyNZBWiC3mA  4.961363  01IhGl0XmthVaN1n0yVpfQ           0\n",
       " 4     s7MaEXwDnzUcqG16pG7Wfg  4.959378  01IhGl0XmthVaN1n0yVpfQ           0\n",
       " ...                      ...       ...                     ...         ...\n",
       " 1018  CjkxTRergWcYWb4SVW3gxw  4.572308  01IhGl0XmthVaN1n0yVpfQ           0\n",
       " 1019  JgZAaY3VzFZRivp5bAs0Yw  4.572212  01IhGl0XmthVaN1n0yVpfQ           0\n",
       " 1020  rcJnKmhgSPb8BmK3d6AZYQ  4.572110  01IhGl0XmthVaN1n0yVpfQ           0\n",
       " 1021  k8hFz4Gty5dHlDV4Wt8FqA  4.572080  01IhGl0XmthVaN1n0yVpfQ           0\n",
       " 1022  k8hFz4Gty5dHlDV4Wt8FqA  4.572080  01IhGl0XmthVaN1n0yVpfQ           0\n",
       " \n",
       " [1023 rows x 4 columns],\n",
       "                  business_id     score                 user_id  real_label\n",
       " 0     o_N7HiU3f6cVvrJAFrE43A  3.949996  01N9Otf8MzopKw4fp8A2Lw           0\n",
       " 1     5tK4y67IUn3eDd3S1bka9Q  3.917623  01N9Otf8MzopKw4fp8A2Lw           0\n",
       " 2     NnlQhXtuVOVjUFYB1Hqp8Q  3.886197  01N9Otf8MzopKw4fp8A2Lw           0\n",
       " 3     8j5bQ0nDwoGiFaTQDNCQTg  3.882166  01N9Otf8MzopKw4fp8A2Lw           0\n",
       " 4     X3NS8516o015Z1zcOwrqmQ  3.862451  01N9Otf8MzopKw4fp8A2Lw           0\n",
       " ...                      ...       ...                     ...         ...\n",
       " 1024  zRjUMHQJ5gAmFhcXZtLacA  3.106364  01N9Otf8MzopKw4fp8A2Lw           0\n",
       " 1025  TfcdLs2Re40wIz6UmYpaAQ  3.106096  01N9Otf8MzopKw4fp8A2Lw           0\n",
       " 1026  LJ7nGzqbmY44UZFVEfVNXw  3.105453  01N9Otf8MzopKw4fp8A2Lw           0\n",
       " 1027  2VwnSZwgPuTePY4CKgZ1Xg  3.105349  01N9Otf8MzopKw4fp8A2Lw           0\n",
       " 1028  hJ5iPoqbBtaTaH90Fg14yA  3.105303  01N9Otf8MzopKw4fp8A2Lw           0\n",
       " \n",
       " [1029 rows x 4 columns],\n",
       "                  business_id     score                 user_id  real_label\n",
       " 0     RFo876v_A63N2JfOTq1p-g  4.860993  01Ufq7I1hpRE1-83rFZT9A           0\n",
       " 1     -fs09akgCKv5rTTy7iUHUg  4.859951  01Ufq7I1hpRE1-83rFZT9A           0\n",
       " 2     KTGEa8V9ec0QBYM_uk1YLQ  4.846665  01Ufq7I1hpRE1-83rFZT9A           0\n",
       " 3     o_N7HiU3f6cVvrJAFrE43A  4.832439  01Ufq7I1hpRE1-83rFZT9A           0\n",
       " 4     zLm2PaYrpHkcr63ekwvtBQ  4.824375  01Ufq7I1hpRE1-83rFZT9A           0\n",
       " ...                      ...       ...                     ...         ...\n",
       " 1020  bJfcuUMgJUkHWpCUeAI4Iw  4.369039  01Ufq7I1hpRE1-83rFZT9A           0\n",
       " 1021  oXjSx3T9NeWRKMDBFt1ZZQ  4.369027  01Ufq7I1hpRE1-83rFZT9A           0\n",
       " 1022  zWQWjJ0270yqp_KignAmkg  4.368927  01Ufq7I1hpRE1-83rFZT9A           0\n",
       " 1023  da_jniSpqeo9Z6FLCCh4jQ  4.368864  01Ufq7I1hpRE1-83rFZT9A           0\n",
       " 1024  deVwhY98J_r69DVedK2x8A  4.368859  01Ufq7I1hpRE1-83rFZT9A           0\n",
       " \n",
       " [1025 rows x 4 columns],\n",
       "                  business_id     score                 user_id  real_label\n",
       " 0     -fs09akgCKv5rTTy7iUHUg  4.898395  01ZpZzIntKw3M6wR0icMaQ           0\n",
       " 1     TE2IEDNV0RcI6s1wTOP4fg  4.888619  01ZpZzIntKw3M6wR0icMaQ           0\n",
       " 2     TE2IEDNV0RcI6s1wTOP4fg  4.888619  01ZpZzIntKw3M6wR0icMaQ           0\n",
       " 3     o_N7HiU3f6cVvrJAFrE43A  4.866844  01ZpZzIntKw3M6wR0icMaQ           0\n",
       " 4     KTGEa8V9ec0QBYM_uk1YLQ  4.851204  01ZpZzIntKw3M6wR0icMaQ           0\n",
       " ...                      ...       ...                     ...         ...\n",
       " 1063  wulFpnfqcRP8PNIcHaVdAA  4.383338  01ZpZzIntKw3M6wR0icMaQ           0\n",
       " 1064  _V9ktNg37MPh7X3MiYXe_Q  4.382929  01ZpZzIntKw3M6wR0icMaQ           0\n",
       " 1065  wzIN0IqcNOnUjwuzRoG9AA  4.382863  01ZpZzIntKw3M6wR0icMaQ           0\n",
       " 1066  xEVbLqpW7-YVHHDNUl2mQg  4.382750  01ZpZzIntKw3M6wR0icMaQ           0\n",
       " 1067  YMei9hfoUxI3sDie4M2IWA  4.382740  01ZpZzIntKw3M6wR0icMaQ           0\n",
       " \n",
       " [1068 rows x 4 columns],\n",
       "                  business_id     score                 user_id  real_label\n",
       " 0     -fs09akgCKv5rTTy7iUHUg  4.882780  02-SSy4J4Kfmnt86LNKd3A           0\n",
       " 1     KTGEa8V9ec0QBYM_uk1YLQ  4.869484  02-SSy4J4Kfmnt86LNKd3A           0\n",
       " 2     8ZCpyx-U-dEJyNZBWiC3mA  4.831014  02-SSy4J4Kfmnt86LNKd3A           0\n",
       " 3     5tK4y67IUn3eDd3S1bka9Q  4.813056  02-SSy4J4Kfmnt86LNKd3A           0\n",
       " 4     atZ_olNKXOG4rEr6mccN8g  4.767974  02-SSy4J4Kfmnt86LNKd3A           0\n",
       " ...                      ...       ...                     ...         ...\n",
       " 1022  GsBDSxvX4VcvmdVODoJ_lQ  4.357136  02-SSy4J4Kfmnt86LNKd3A           0\n",
       " 1023  EPXnaI6YQlmK5VUDAI0o7A  4.356684  02-SSy4J4Kfmnt86LNKd3A           0\n",
       " 1024  SMuEpNYXwYYyjS1FTYeQhg  4.356398  02-SSy4J4Kfmnt86LNKd3A           0\n",
       " 1025  -uQx0mht-CxM9OSJM92YdA  4.356297  02-SSy4J4Kfmnt86LNKd3A           0\n",
       " 1026  Y-woMivHkCk4W3tTl1ktTA  4.356289  02-SSy4J4Kfmnt86LNKd3A           0\n",
       " \n",
       " [1027 rows x 4 columns],\n",
       "                  business_id     score                 user_id  real_label\n",
       " 0     -fs09akgCKv5rTTy7iUHUg  4.891788  02GsATC6GJSo4AOBTq4dfg           0\n",
       " 1     KTGEa8V9ec0QBYM_uk1YLQ  4.877694  02GsATC6GJSo4AOBTq4dfg           0\n",
       " 2     zLm2PaYrpHkcr63ekwvtBQ  4.856173  02GsATC6GJSo4AOBTq4dfg           0\n",
       " 3     8ZCpyx-U-dEJyNZBWiC3mA  4.840022  02GsATC6GJSo4AOBTq4dfg           0\n",
       " 4     5tK4y67IUn3eDd3S1bka9Q  4.822035  02GsATC6GJSo4AOBTq4dfg           0\n",
       " ...                      ...       ...                     ...         ...\n",
       " 1073  DEFte_S3i2EcRLH7XbWQZA  4.408480  02GsATC6GJSo4AOBTq4dfg           0\n",
       " 1074  YVy2DgGfNmG5hWYbA7k8jg  4.408339  02GsATC6GJSo4AOBTq4dfg           0\n",
       " 1075  AJ1-2fZZWPgpq40CmZapTw  4.408098  02GsATC6GJSo4AOBTq4dfg           0\n",
       " 1076  0Cii4j7PPWvxcAmXuReb9A  4.407774  02GsATC6GJSo4AOBTq4dfg           0\n",
       " 1077  7u-7PVcjECvTeIumVTmS4g  4.407770  02GsATC6GJSo4AOBTq4dfg           0\n",
       " \n",
       " [1078 rows x 4 columns],\n",
       "                  business_id     score                 user_id  real_label\n",
       " 0     ctHjyadbDQAtUFfkcAFEHw  5.033810  02H49g16MdRoZKoX6IEoFA           0\n",
       " 1     ctHjyadbDQAtUFfkcAFEHw  5.033810  02H49g16MdRoZKoX6IEoFA           0\n",
       " 2     -fs09akgCKv5rTTy7iUHUg  5.004823  02H49g16MdRoZKoX6IEoFA           0\n",
       " 3     -fs09akgCKv5rTTy7iUHUg  5.004823  02H49g16MdRoZKoX6IEoFA           0\n",
       " 4     TE2IEDNV0RcI6s1wTOP4fg  4.996856  02H49g16MdRoZKoX6IEoFA           0\n",
       " ...                      ...       ...                     ...         ...\n",
       " 1103  9DfzRvTs9tzFuj5PnnLOrA  4.509927  02H49g16MdRoZKoX6IEoFA           0\n",
       " 1104  CeNiaICi59dWhfzfKnh8lQ  4.509528  02H49g16MdRoZKoX6IEoFA           0\n",
       " 1105  4hv1n1VBzMvE-T4UtIcOcw  4.509511  02H49g16MdRoZKoX6IEoFA           0\n",
       " 1106  4hv1n1VBzMvE-T4UtIcOcw  4.509511  02H49g16MdRoZKoX6IEoFA           0\n",
       " 1107  Y7asEgUrJc3W9vD7wxEnQg  4.509397  02H49g16MdRoZKoX6IEoFA           0\n",
       " \n",
       " [1108 rows x 4 columns],\n",
       "                  business_id     score                 user_id  real_label\n",
       " 0     -fs09akgCKv5rTTy7iUHUg  4.290061  02M0iCvzseXev3j9h2MZHA           0\n",
       " 1     KTGEa8V9ec0QBYM_uk1YLQ  4.260826  02M0iCvzseXev3j9h2MZHA           0\n",
       " 2     u3zqvp4BYUjzJD7tzx3Jbg  4.219612  02M0iCvzseXev3j9h2MZHA           0\n",
       " 3     9pwzHmhCpgJwfaIP9jWoCg  4.159850  02M0iCvzseXev3j9h2MZHA           0\n",
       " 4     XJvOamdhTQI65jmzTfreDQ  4.143373  02M0iCvzseXev3j9h2MZHA           0\n",
       " ...                      ...       ...                     ...         ...\n",
       " 1064  PNRi6tvJN989IuGqpydE4A  3.617632  02M0iCvzseXev3j9h2MZHA           0\n",
       " 1065  QNxXsVPYcecUuhGRG-88OQ  3.617211  02M0iCvzseXev3j9h2MZHA           0\n",
       " 1066  PPK-i_5Eftv2wBCnmsqgug  3.616503  02M0iCvzseXev3j9h2MZHA           0\n",
       " 1067  mU-Hac9udz0s7pAIQ1L5BA  3.616447  02M0iCvzseXev3j9h2MZHA           0\n",
       " 1068  wbLXXbI-T6Av71i9AoiZRQ  3.616247  02M0iCvzseXev3j9h2MZHA           0\n",
       " \n",
       " [1069 rows x 4 columns],\n",
       "                  business_id     score                 user_id  real_label\n",
       " 0     -fs09akgCKv5rTTy7iUHUg  4.686954  02Q2AGW8w34t8xqO96RF2w           0\n",
       " 1     8ZCpyx-U-dEJyNZBWiC3mA  4.652912  02Q2AGW8w34t8xqO96RF2w           0\n",
       " 2     o_N7HiU3f6cVvrJAFrE43A  4.646209  02Q2AGW8w34t8xqO96RF2w           0\n",
       " 3     KTGEa8V9ec0QBYM_uk1YLQ  4.641447  02Q2AGW8w34t8xqO96RF2w           0\n",
       " 4     u3zqvp4BYUjzJD7tzx3Jbg  4.617522  02Q2AGW8w34t8xqO96RF2w           0\n",
       " ...                      ...       ...                     ...         ...\n",
       " 998   6KoyHbN2qSUsioqrjXLeEg  4.041751  02Q2AGW8w34t8xqO96RF2w           0\n",
       " 999   GAINPyM9n673GUgNkGBOcg  4.041569  02Q2AGW8w34t8xqO96RF2w           0\n",
       " 1000  F-j6PNGnA8yz77oIZMcPMA  4.041408  02Q2AGW8w34t8xqO96RF2w           0\n",
       " 1001  saVXla5i8TjE51S5uCaf6w  4.041372  02Q2AGW8w34t8xqO96RF2w           0\n",
       " 1002  oqbhVgliVJH-iRa3AnD-3A  4.040818  02Q2AGW8w34t8xqO96RF2w           0\n",
       " \n",
       " [1003 rows x 4 columns],\n",
       "                  business_id     score                 user_id  real_label\n",
       " 0     RFo876v_A63N2JfOTq1p-g  4.850259  02Ri-aJ-j8gNtVbp8B5rXA           0\n",
       " 1     -fs09akgCKv5rTTy7iUHUg  4.849229  02Ri-aJ-j8gNtVbp8B5rXA           0\n",
       " 2     KTGEa8V9ec0QBYM_uk1YLQ  4.835932  02Ri-aJ-j8gNtVbp8B5rXA           0\n",
       " 3     o_N7HiU3f6cVvrJAFrE43A  4.821717  02Ri-aJ-j8gNtVbp8B5rXA           0\n",
       " 4     zLm2PaYrpHkcr63ekwvtBQ  4.813641  02Ri-aJ-j8gNtVbp8B5rXA           0\n",
       " ...                      ...       ...                     ...         ...\n",
       " 1016  wIz_tZ88bj4W3VlrJTiiqQ  4.374492  02Ri-aJ-j8gNtVbp8B5rXA           0\n",
       " 1017  uvj_tGQrGDSVXjNU4pHjCA  4.374466  02Ri-aJ-j8gNtVbp8B5rXA           0\n",
       " 1018  0bNbWkKmVxJmJuOZCtG7OQ  4.374428  02Ri-aJ-j8gNtVbp8B5rXA           0\n",
       " 1019  VHWCzIZXpWPyeFe2lkIutQ  4.374032  02Ri-aJ-j8gNtVbp8B5rXA           0\n",
       " 1020  Bhi6oPbGK5zoyj9qoRxzfA  4.374018  02Ri-aJ-j8gNtVbp8B5rXA           0\n",
       " \n",
       " [1021 rows x 4 columns],\n",
       "                  business_id     score                 user_id  real_label\n",
       " 0     ytynqOUb3hjKeJfRj5Tshw  5.375814  02aRY3hTCHmVkmL8aHMbtg           0\n",
       " 1     -fs09akgCKv5rTTy7iUHUg  5.245627  02aRY3hTCHmVkmL8aHMbtg           0\n",
       " 2     KTGEa8V9ec0QBYM_uk1YLQ  5.232370  02aRY3hTCHmVkmL8aHMbtg           0\n",
       " 3     8ZCpyx-U-dEJyNZBWiC3mA  5.193861  02aRY3hTCHmVkmL8aHMbtg           0\n",
       " 4     5tK4y67IUn3eDd3S1bka9Q  5.175942  02aRY3hTCHmVkmL8aHMbtg           0\n",
       " ...                      ...       ...                     ...         ...\n",
       " 1084  0bvtIbpsqBJZpRKSPwIfNw  4.717324  02aRY3hTCHmVkmL8aHMbtg           0\n",
       " 1085  VwDrUaY7PPkvfD6M1dAVBQ  4.717285  02aRY3hTCHmVkmL8aHMbtg           0\n",
       " 1086  VwDrUaY7PPkvfD6M1dAVBQ  4.717285  02aRY3hTCHmVkmL8aHMbtg           0\n",
       " 1087  VwDrUaY7PPkvfD6M1dAVBQ  4.717285  02aRY3hTCHmVkmL8aHMbtg           0\n",
       " 1088  CMnrIvac5TRbYnUJgKHupQ  4.716982  02aRY3hTCHmVkmL8aHMbtg           0\n",
       " \n",
       " [1089 rows x 4 columns],\n",
       "                  business_id     score                 user_id  real_label\n",
       " 0     -fs09akgCKv5rTTy7iUHUg  4.679023  02hiLsAsIWQ4HpoarhCQig           0\n",
       " 1     TE2IEDNV0RcI6s1wTOP4fg  4.661268  02hiLsAsIWQ4HpoarhCQig           0\n",
       " 2     TE2IEDNV0RcI6s1wTOP4fg  4.661268  02hiLsAsIWQ4HpoarhCQig           0\n",
       " 3     8ZCpyx-U-dEJyNZBWiC3mA  4.641184  02hiLsAsIWQ4HpoarhCQig           0\n",
       " 4     KTGEa8V9ec0QBYM_uk1YLQ  4.636628  02hiLsAsIWQ4HpoarhCQig           0\n",
       " ...                      ...       ...                     ...         ...\n",
       " 1093  oeD6OiItgca6A66Odak6nA  3.988937  02hiLsAsIWQ4HpoarhCQig           0\n",
       " 1094  gx5Aodh8ZiMEuyM34pBvzA  3.988867  02hiLsAsIWQ4HpoarhCQig           0\n",
       " 1095  TUTQeLjq1UbkR5r8mOvMqw  3.988742  02hiLsAsIWQ4HpoarhCQig           0\n",
       " 1096  SBtjW_pKw3XaOKtKAavWZg  3.988248  02hiLsAsIWQ4HpoarhCQig           0\n",
       " 1097  EDr-EcPu7T_Rf6m12VchOg  3.988063  02hiLsAsIWQ4HpoarhCQig           0\n",
       " \n",
       " [1098 rows x 4 columns],\n",
       "                  business_id     score                 user_id  real_label\n",
       " 0     ytynqOUb3hjKeJfRj5Tshw  5.211298  02iXsCSnNmF5aEOvhvGs0w           0\n",
       " 1     -fs09akgCKv5rTTy7iUHUg  5.122585  02iXsCSnNmF5aEOvhvGs0w           0\n",
       " 2     XJvOamdhTQI65jmzTfreDQ  4.997321  02iXsCSnNmF5aEOvhvGs0w           0\n",
       " 3     Bk6uzC83wbmCHm2i5Uz8OA  4.991897  02iXsCSnNmF5aEOvhvGs0w           0\n",
       " 4     9pwzHmhCpgJwfaIP9jWoCg  4.985176  02iXsCSnNmF5aEOvhvGs0w           0\n",
       " ...                      ...       ...                     ...         ...\n",
       " 1142  b6_HDIygAfbG9SZWbZMD_g  4.448228  02iXsCSnNmF5aEOvhvGs0w           0\n",
       " 1143  b6_HDIygAfbG9SZWbZMD_g  4.448228  02iXsCSnNmF5aEOvhvGs0w           0\n",
       " 1144  zb-1vXW1WXvXe6fWZb-8gA  4.448105  02iXsCSnNmF5aEOvhvGs0w           0\n",
       " 1145  3zI7Ka2_ZsKh4UwbSFnXdw  4.447940  02iXsCSnNmF5aEOvhvGs0w           0\n",
       " 1146  kAOn-rLmNnm0YM9x6mZ_6g  4.447850  02iXsCSnNmF5aEOvhvGs0w           0\n",
       " \n",
       " [1147 rows x 4 columns],\n",
       "                  business_id     score                 user_id  real_label\n",
       " 0     -fs09akgCKv5rTTy7iUHUg  4.933833  02ilC8hn5-OonrsvBuF_IQ           0\n",
       " 1     KTGEa8V9ec0QBYM_uk1YLQ  4.920505  02ilC8hn5-OonrsvBuF_IQ           0\n",
       " 2     zLm2PaYrpHkcr63ekwvtBQ  4.898214  02ilC8hn5-OonrsvBuF_IQ           0\n",
       " 3     8ZCpyx-U-dEJyNZBWiC3mA  4.882068  02ilC8hn5-OonrsvBuF_IQ           0\n",
       " 4     5tK4y67IUn3eDd3S1bka9Q  4.864077  02ilC8hn5-OonrsvBuF_IQ           0\n",
       " ...                      ...       ...                     ...         ...\n",
       " 1066  JtY9OkVp8lfdFVTahNjHdw  4.469912  02ilC8hn5-OonrsvBuF_IQ           0\n",
       " 1067  4GGgtvEzl233jS1SZ3SgGQ  4.469796  02ilC8hn5-OonrsvBuF_IQ           0\n",
       " 1068  smkZq4G1AOm4V6p3id5sww  4.469785  02ilC8hn5-OonrsvBuF_IQ           0\n",
       " 1069  smkZq4G1AOm4V6p3id5sww  4.469785  02ilC8hn5-OonrsvBuF_IQ           0\n",
       " 1070  7nLhB3qajGwq4HvOCsGT5A  4.469756  02ilC8hn5-OonrsvBuF_IQ           0\n",
       " \n",
       " [1071 rows x 4 columns],\n",
       "                  business_id     score                 user_id  real_label\n",
       " 0     -fs09akgCKv5rTTy7iUHUg  4.936460  02qC5oS__MK9jB-ahxPw0A           0\n",
       " 1     KTGEa8V9ec0QBYM_uk1YLQ  4.897443  02qC5oS__MK9jB-ahxPw0A           0\n",
       " 2     8ZCpyx-U-dEJyNZBWiC3mA  4.881558  02qC5oS__MK9jB-ahxPw0A           0\n",
       " 3     5tK4y67IUn3eDd3S1bka9Q  4.866698  02qC5oS__MK9jB-ahxPw0A           0\n",
       " 4     5tK4y67IUn3eDd3S1bka9Q  4.866698  02qC5oS__MK9jB-ahxPw0A           0\n",
       " ...                      ...       ...                     ...         ...\n",
       " 1093  BOjpe0u5u_cm9SWMS2KLFg  4.428659  02qC5oS__MK9jB-ahxPw0A           0\n",
       " 1094  M6qDX8HZS7gOJ_pBOAih1g  4.428609  02qC5oS__MK9jB-ahxPw0A           0\n",
       " 1095  KW7hDw16MIvR_gyNKzTvNQ  4.428501  02qC5oS__MK9jB-ahxPw0A           0\n",
       " 1096  b3tI8ODMieXSflFHLFA92A  4.428340  02qC5oS__MK9jB-ahxPw0A           0\n",
       " 1097  saVXla5i8TjE51S5uCaf6w  4.428297  02qC5oS__MK9jB-ahxPw0A           0\n",
       " \n",
       " [1098 rows x 4 columns],\n",
       "                  business_id     score                 user_id  real_label\n",
       " 0     -fs09akgCKv5rTTy7iUHUg  4.964504  02tYMxGnwAwr_i2j5vh9XA           0\n",
       " 1     KTGEa8V9ec0QBYM_uk1YLQ  4.951192  02tYMxGnwAwr_i2j5vh9XA           0\n",
       " 2     o_N7HiU3f6cVvrJAFrE43A  4.936992  02tYMxGnwAwr_i2j5vh9XA           0\n",
       " 3     zLm2PaYrpHkcr63ekwvtBQ  4.928902  02tYMxGnwAwr_i2j5vh9XA           0\n",
       " 4     8ZCpyx-U-dEJyNZBWiC3mA  4.912738  02tYMxGnwAwr_i2j5vh9XA           0\n",
       " ...                      ...       ...                     ...         ...\n",
       " 997   lAGS4ujbBQiSX_WL1GPkIg  4.451607  02tYMxGnwAwr_i2j5vh9XA           0\n",
       " 998   kOHcpCZQd4uNp6G2uE8o2A  4.451167  02tYMxGnwAwr_i2j5vh9XA           0\n",
       " 999   A7bjrO_5UCExdOvr8klrYg  4.451059  02tYMxGnwAwr_i2j5vh9XA           0\n",
       " 1000  8vuulrqX0uw80A53wXmRSw  4.450397  02tYMxGnwAwr_i2j5vh9XA           0\n",
       " 1001  wMyHVb54Ne9SNasa4kjOCg  4.450248  02tYMxGnwAwr_i2j5vh9XA           0\n",
       " \n",
       " [1002 rows x 4 columns],\n",
       "                  business_id     score                 user_id  real_label\n",
       " 0     8ZCpyx-U-dEJyNZBWiC3mA  4.769238  02wEYaZtJnYbTU_ckwP-qQ           0\n",
       " 1     5tK4y67IUn3eDd3S1bka9Q  4.750467  02wEYaZtJnYbTU_ckwP-qQ           0\n",
       " 2     PV00aCrNGHZMruxVWUoKkQ  4.693223  02wEYaZtJnYbTU_ckwP-qQ           0\n",
       " 3     XJvOamdhTQI65jmzTfreDQ  4.680730  02wEYaZtJnYbTU_ckwP-qQ           0\n",
       " 4     Bk6uzC83wbmCHm2i5Uz8OA  4.680245  02wEYaZtJnYbTU_ckwP-qQ           0\n",
       " ...                      ...       ...                     ...         ...\n",
       " 1065  0uL-FXY1M2UC12eZcFlTuQ  4.094108  02wEYaZtJnYbTU_ckwP-qQ           0\n",
       " 1066  0bvtIbpsqBJZpRKSPwIfNw  4.093962  02wEYaZtJnYbTU_ckwP-qQ           0\n",
       " 1067  w2ARyinSfR1oSz_UBpgh0g  4.093840  02wEYaZtJnYbTU_ckwP-qQ           0\n",
       " 1068  jh8j-DWqgWkbRe_a2XtKFQ  4.093292  02wEYaZtJnYbTU_ckwP-qQ           0\n",
       " 1069  dJ4jKcCq6tWTFIfIOjBtzw  4.093153  02wEYaZtJnYbTU_ckwP-qQ           0\n",
       " \n",
       " [1070 rows x 4 columns],\n",
       "                  business_id     score                 user_id  real_label\n",
       " 0     ytynqOUb3hjKeJfRj5Tshw  5.274070  030xaqW2akhXYFdmOTmEng           0\n",
       " 1     ytynqOUb3hjKeJfRj5Tshw  5.274070  030xaqW2akhXYFdmOTmEng           0\n",
       " 2     -fs09akgCKv5rTTy7iUHUg  5.194675  030xaqW2akhXYFdmOTmEng           0\n",
       " 3     -fs09akgCKv5rTTy7iUHUg  5.194675  030xaqW2akhXYFdmOTmEng           0\n",
       " 4     TE2IEDNV0RcI6s1wTOP4fg  5.186756  030xaqW2akhXYFdmOTmEng           0\n",
       " ...                      ...       ...                     ...         ...\n",
       " 1136  dChRGpit9fM_kZK5pafNyA  4.708541  030xaqW2akhXYFdmOTmEng           0\n",
       " 1137  dChRGpit9fM_kZK5pafNyA  4.708541  030xaqW2akhXYFdmOTmEng           0\n",
       " 1138  dChRGpit9fM_kZK5pafNyA  4.708541  030xaqW2akhXYFdmOTmEng           0\n",
       " 1139  4o5cKYLCzXiQF428aqawxw  4.708286  030xaqW2akhXYFdmOTmEng           0\n",
       " 1140  j8_GtOGBHwOty3nB4k23gA  4.707852  030xaqW2akhXYFdmOTmEng           0\n",
       " \n",
       " [1141 rows x 4 columns],\n",
       "                  business_id     score                 user_id  real_label\n",
       " 0     -fs09akgCKv5rTTy7iUHUg  4.823174  033vQdWDVUgBR4gzTUuSvA           0\n",
       " 1     KTGEa8V9ec0QBYM_uk1YLQ  4.804935  033vQdWDVUgBR4gzTUuSvA           0\n",
       " 2     8ZCpyx-U-dEJyNZBWiC3mA  4.771427  033vQdWDVUgBR4gzTUuSvA           0\n",
       " 3     5tK4y67IUn3eDd3S1bka9Q  4.753411  033vQdWDVUgBR4gzTUuSvA           0\n",
       " 4     XJvOamdhTQI65jmzTfreDQ  4.701906  033vQdWDVUgBR4gzTUuSvA           0\n",
       " ...                      ...       ...                     ...         ...\n",
       " 1096  VbgnG9ymyq_jyYcN0jFBZA  4.306640  033vQdWDVUgBR4gzTUuSvA           0\n",
       " 1097  aw0aIu0yFA-6wBptI68urg  4.306586  033vQdWDVUgBR4gzTUuSvA           0\n",
       " 1098  vvGrGn6eo-K_W5h96Pyslw  4.306099  033vQdWDVUgBR4gzTUuSvA           0\n",
       " 1099  rcJnKmhgSPb8BmK3d6AZYQ  4.306012  033vQdWDVUgBR4gzTUuSvA           0\n",
       " 1100  h8h1QvEQruTkBI50NlWsyA  4.305703  033vQdWDVUgBR4gzTUuSvA           0\n",
       " \n",
       " [1101 rows x 4 columns],\n",
       "                  business_id     score                 user_id  real_label\n",
       " 0     ytynqOUb3hjKeJfRj5Tshw  5.087236  03F1c27jkAikld3z5tSdpQ           0\n",
       " 1     ytynqOUb3hjKeJfRj5Tshw  5.087236  03F1c27jkAikld3z5tSdpQ           0\n",
       " 2     ctHjyadbDQAtUFfkcAFEHw  5.048347  03F1c27jkAikld3z5tSdpQ           0\n",
       " 3     ctHjyadbDQAtUFfkcAFEHw  5.048347  03F1c27jkAikld3z5tSdpQ           0\n",
       " 4     KTGEa8V9ec0QBYM_uk1YLQ  5.046876  03F1c27jkAikld3z5tSdpQ           0\n",
       " ...                      ...       ...                     ...         ...\n",
       " 1113  GYqKhywHhwVZpPU5jA4Swg  4.407284  03F1c27jkAikld3z5tSdpQ           0\n",
       " 1114  9ggiKdqsyuY2pqVcbIQ-tA  4.407082  03F1c27jkAikld3z5tSdpQ           0\n",
       " 1115  fyHua7e0AnjDmuuLXg1cLw  4.406956  03F1c27jkAikld3z5tSdpQ           0\n",
       " 1116  jzQXlkbkespQXftkB3vokg  4.406919  03F1c27jkAikld3z5tSdpQ           0\n",
       " 1117  Xbu-HcPKCyLqyZCILwQuwA  4.406847  03F1c27jkAikld3z5tSdpQ           0\n",
       " \n",
       " [1118 rows x 4 columns],\n",
       "                  business_id     score                 user_id  real_label\n",
       " 0     -fs09akgCKv5rTTy7iUHUg  5.042477  03WfZImLqzK_FC3uU41Pgg           0\n",
       " 1     KTGEa8V9ec0QBYM_uk1YLQ  5.024113  03WfZImLqzK_FC3uU41Pgg           0\n",
       " 2     zLm2PaYrpHkcr63ekwvtBQ  5.010075  03WfZImLqzK_FC3uU41Pgg           0\n",
       " 3     Y93S8ZVnOhXQTkWZQEU5yg  4.991872  03WfZImLqzK_FC3uU41Pgg           0\n",
       " 4     8ZCpyx-U-dEJyNZBWiC3mA  4.982668  03WfZImLqzK_FC3uU41Pgg           0\n",
       " ...                      ...       ...                     ...         ...\n",
       " 1111  8VO4Ma7FhsLYop9tk87tbA  4.583300  03WfZImLqzK_FC3uU41Pgg           0\n",
       " 1112  4vLJd8N3wy_Q_wu_DZuRag  4.583114  03WfZImLqzK_FC3uU41Pgg           0\n",
       " 1113  4OnIsmWkjc7Adl1OmGqQdQ  4.583078  03WfZImLqzK_FC3uU41Pgg           0\n",
       " 1114  ZnAr0AxYpEYK1ZHNc4fk7g  4.583006  03WfZImLqzK_FC3uU41Pgg           0\n",
       " 1115  Ty3w8cNBGXLMMpx_t9KUAg  4.582934  03WfZImLqzK_FC3uU41Pgg           0\n",
       " \n",
       " [1116 rows x 4 columns],\n",
       "                  business_id     score                 user_id  real_label\n",
       " 0     RFo876v_A63N2JfOTq1p-g  4.946615  03_BDF-7hbbiy9qId7nccA           0\n",
       " 1     -fs09akgCKv5rTTy7iUHUg  4.945623  03_BDF-7hbbiy9qId7nccA           0\n",
       " 2     o_N7HiU3f6cVvrJAFrE43A  4.918088  03_BDF-7hbbiy9qId7nccA           0\n",
       " 3     Y93S8ZVnOhXQTkWZQEU5yg  4.897375  03_BDF-7hbbiy9qId7nccA           0\n",
       " 4     5tK4y67IUn3eDd3S1bka9Q  4.875860  03_BDF-7hbbiy9qId7nccA           0\n",
       " ...                      ...       ...                     ...         ...\n",
       " 1037  NFcG56jaGXhWxP4K1KaENQ  4.379825  03_BDF-7hbbiy9qId7nccA           0\n",
       " 1038  ZJ60h-Cv6_f_jga9WJEMfQ  4.379635  03_BDF-7hbbiy9qId7nccA           0\n",
       " 1039  62jhptg2S4VXbFlEDpRV4w  4.379603  03_BDF-7hbbiy9qId7nccA           0\n",
       " 1040  koKA8h_mMQxHE0d_wBlFUg  4.379481  03_BDF-7hbbiy9qId7nccA           0\n",
       " 1041  Uj8UjZN3RTafE9gJWz1pvQ  4.379384  03_BDF-7hbbiy9qId7nccA           0\n",
       " \n",
       " [1042 rows x 4 columns],\n",
       "                  business_id     score                 user_id  real_label\n",
       " 0     -fs09akgCKv5rTTy7iUHUg  4.777218  03yXdJ4ulT62SMvpyLalRg           0\n",
       " 1     o_N7HiU3f6cVvrJAFrE43A  4.743033  03yXdJ4ulT62SMvpyLalRg           0\n",
       " 2     RFo876v_A63N2JfOTq1p-g  4.726337  03yXdJ4ulT62SMvpyLalRg           0\n",
       " 3     KTGEa8V9ec0QBYM_uk1YLQ  4.722776  03yXdJ4ulT62SMvpyLalRg           0\n",
       " 4     8ZCpyx-U-dEJyNZBWiC3mA  4.720498  03yXdJ4ulT62SMvpyLalRg           0\n",
       " ...                      ...       ...                     ...         ...\n",
       " 997   aPI5KpboojbTqLEMH_oY7w  4.109077  03yXdJ4ulT62SMvpyLalRg           0\n",
       " 998   7zzMf0VwD51K7dJjZMf_pA  4.108540  03yXdJ4ulT62SMvpyLalRg           0\n",
       " 999   n_zDBVMcBFU1bCOERIQ6HQ  4.108374  03yXdJ4ulT62SMvpyLalRg           0\n",
       " 1000  7HI9pccJr1sqs8MrJQJNgg  4.108169  03yXdJ4ulT62SMvpyLalRg           0\n",
       " 1001  GAINPyM9n673GUgNkGBOcg  4.107953  03yXdJ4ulT62SMvpyLalRg           0\n",
       " \n",
       " [1002 rows x 4 columns],\n",
       "                  business_id     score                 user_id  real_label\n",
       " 0     RFo876v_A63N2JfOTq1p-g  4.959391  03ywGcD8aQraY8zInfqknQ           0\n",
       " 1     -fs09akgCKv5rTTy7iUHUg  4.958386  03ywGcD8aQraY8zInfqknQ           0\n",
       " 2     KTGEa8V9ec0QBYM_uk1YLQ  4.945063  03ywGcD8aQraY8zInfqknQ           0\n",
       " 3     o_N7HiU3f6cVvrJAFrE43A  4.930863  03ywGcD8aQraY8zInfqknQ           0\n",
       " 4     zLm2PaYrpHkcr63ekwvtBQ  4.922772  03ywGcD8aQraY8zInfqknQ           0\n",
       " ...                      ...       ...                     ...         ...\n",
       " 1026  gBGD0dNvfLlQOAaZzCU1NQ  4.480774  03ywGcD8aQraY8zInfqknQ           0\n",
       " 1027  gBGD0dNvfLlQOAaZzCU1NQ  4.480774  03ywGcD8aQraY8zInfqknQ           0\n",
       " 1028  K06XzePUYtlT4Qm5ry-jBg  4.480748  03ywGcD8aQraY8zInfqknQ           0\n",
       " 1029  3eAGbHu2VFz8dVNC_dO5ow  4.480730  03ywGcD8aQraY8zInfqknQ           0\n",
       " 1030  UQ8UKfNSUT0aKu4naioVqw  4.480688  03ywGcD8aQraY8zInfqknQ           0\n",
       " \n",
       " [1031 rows x 4 columns],\n",
       "                  business_id     score                 user_id  real_label\n",
       " 0     -fs09akgCKv5rTTy7iUHUg  4.401675  040s1t6Bfq_aB6a4AEdKQA           0\n",
       " 1     KTGEa8V9ec0QBYM_uk1YLQ  4.372440  040s1t6Bfq_aB6a4AEdKQA           0\n",
       " 2     8ZCpyx-U-dEJyNZBWiC3mA  4.361830  040s1t6Bfq_aB6a4AEdKQA           0\n",
       " 3     5tK4y67IUn3eDd3S1bka9Q  4.331898  040s1t6Bfq_aB6a4AEdKQA           0\n",
       " 4     i7_3lQzM5SP8Cc2YT-X3BA  4.263422  040s1t6Bfq_aB6a4AEdKQA           0\n",
       " ...                      ...       ...                     ...         ...\n",
       " 1093  xkWhyrBL0i_P8YdXGJ2iUg  3.791837  040s1t6Bfq_aB6a4AEdKQA           0\n",
       " 1094  exUNRoWghbN2mGS3PEMopA  3.791555  040s1t6Bfq_aB6a4AEdKQA           0\n",
       " 1095  AFk6UXFbH-idH31KhFQVCg  3.791555  040s1t6Bfq_aB6a4AEdKQA           0\n",
       " 1096  b3tI8ODMieXSflFHLFA92A  3.791497  040s1t6Bfq_aB6a4AEdKQA           0\n",
       " 1097  lIYCKCTJxpvxEUXZ1pZ1bA  3.791497  040s1t6Bfq_aB6a4AEdKQA           0\n",
       " \n",
       " [1098 rows x 4 columns],\n",
       "                  business_id     score                 user_id  real_label\n",
       " 0     -fs09akgCKv5rTTy7iUHUg  4.988413  04D-K1IjJgDr8L9eBozfcA           0\n",
       " 1     KTGEa8V9ec0QBYM_uk1YLQ  4.975078  04D-K1IjJgDr8L9eBozfcA           0\n",
       " 2     zLm2PaYrpHkcr63ekwvtBQ  4.952787  04D-K1IjJgDr8L9eBozfcA           0\n",
       " 3     8ZCpyx-U-dEJyNZBWiC3mA  4.936662  04D-K1IjJgDr8L9eBozfcA           0\n",
       " 4     5tK4y67IUn3eDd3S1bka9Q  4.918650  04D-K1IjJgDr8L9eBozfcA           0\n",
       " ...                      ...       ...                     ...         ...\n",
       " 1023  vxHqkD2ZMcDefFh_hhRd0A  4.509436  04D-K1IjJgDr8L9eBozfcA           0\n",
       " 1024  5q8sDHE7csnCtOLUW2NVQA  4.509200  04D-K1IjJgDr8L9eBozfcA           0\n",
       " 1025  7zEVu7s5dHGscMUfRu5GaA  4.509012  04D-K1IjJgDr8L9eBozfcA           0\n",
       " 1026  UGefDZNmnBztS0eoXWtHyQ  4.508907  04D-K1IjJgDr8L9eBozfcA           0\n",
       " 1027  UGefDZNmnBztS0eoXWtHyQ  4.508907  04D-K1IjJgDr8L9eBozfcA           0\n",
       " \n",
       " [1028 rows x 4 columns],\n",
       "                  business_id     score                 user_id  real_label\n",
       " 0     -fs09akgCKv5rTTy7iUHUg  4.539762  04E2tyBChmxUeSw1awE40w           0\n",
       " 1     RFo876v_A63N2JfOTq1p-g  4.529624  04E2tyBChmxUeSw1awE40w           0\n",
       " 2     8ZCpyx-U-dEJyNZBWiC3mA  4.516344  04E2tyBChmxUeSw1awE40w           0\n",
       " 3     KTGEa8V9ec0QBYM_uk1YLQ  4.505549  04E2tyBChmxUeSw1awE40w           0\n",
       " 4     o_N7HiU3f6cVvrJAFrE43A  4.503757  04E2tyBChmxUeSw1awE40w           0\n",
       " ...                      ...       ...                     ...         ...\n",
       " 1034  IJ8Typa6BGckVuh1jhjy4w  3.971923  04E2tyBChmxUeSw1awE40w           0\n",
       " 1035  vvGrGn6eo-K_W5h96Pyslw  3.971875  04E2tyBChmxUeSw1awE40w           0\n",
       " 1036  dfFeEgpjkY8q-EK0ifsDjw  3.971855  04E2tyBChmxUeSw1awE40w           0\n",
       " 1037  _oxapGiVq1_LdFKcHBehLg  3.971562  04E2tyBChmxUeSw1awE40w           0\n",
       " 1038  sjP6Zylv_Xbpzjx_tI5_iw  3.971555  04E2tyBChmxUeSw1awE40w           0\n",
       " \n",
       " [1039 rows x 4 columns],\n",
       "                  business_id     score                 user_id  real_label\n",
       " 0     -fs09akgCKv5rTTy7iUHUg  4.748649  04JlTjJRbcv_kS9xVPhOdg           0\n",
       " 1     RFo876v_A63N2JfOTq1p-g  4.736669  04JlTjJRbcv_kS9xVPhOdg           0\n",
       " 2     KTGEa8V9ec0QBYM_uk1YLQ  4.715341  04JlTjJRbcv_kS9xVPhOdg           0\n",
       " 3     o_N7HiU3f6cVvrJAFrE43A  4.712599  04JlTjJRbcv_kS9xVPhOdg           0\n",
       " 4     zLm2PaYrpHkcr63ekwvtBQ  4.689355  04JlTjJRbcv_kS9xVPhOdg           0\n",
       " ...                      ...       ...                     ...         ...\n",
       " 1098  _n539Sga7PCvHQs--a4qkA  4.164393  04JlTjJRbcv_kS9xVPhOdg           0\n",
       " 1099  kjX7I5bywXku18py-chn9Q  4.163955  04JlTjJRbcv_kS9xVPhOdg           0\n",
       " 1100  7aE6Rfj3PQIGdJ3adCN_eg  4.163910  04JlTjJRbcv_kS9xVPhOdg           0\n",
       " 1101  7aE6Rfj3PQIGdJ3adCN_eg  4.163910  04JlTjJRbcv_kS9xVPhOdg           0\n",
       " 1102  7aE6Rfj3PQIGdJ3adCN_eg  4.163910  04JlTjJRbcv_kS9xVPhOdg           0\n",
       " \n",
       " [1103 rows x 4 columns],\n",
       "                  business_id     score                 user_id  real_label\n",
       " 0     -fs09akgCKv5rTTy7iUHUg  4.921976  04QDLvbl2ZDDjJznswVtcA           0\n",
       " 1     KTGEa8V9ec0QBYM_uk1YLQ  4.903504  04QDLvbl2ZDDjJznswVtcA           0\n",
       " 2     o_N7HiU3f6cVvrJAFrE43A  4.890372  04QDLvbl2ZDDjJznswVtcA           0\n",
       " 3     zLm2PaYrpHkcr63ekwvtBQ  4.889466  04QDLvbl2ZDDjJznswVtcA           0\n",
       " 4     8ZCpyx-U-dEJyNZBWiC3mA  4.862806  04QDLvbl2ZDDjJznswVtcA           0\n",
       " ...                      ...       ...                     ...         ...\n",
       " 1040  l4IeGBHXV2E8S8COd9rx9A  4.441598  04QDLvbl2ZDDjJznswVtcA           0\n",
       " 1041  YVy2DgGfNmG5hWYbA7k8jg  4.441243  04QDLvbl2ZDDjJznswVtcA           0\n",
       " 1042  FIweOxvfz1aSgXqs2X-pqw  4.441119  04QDLvbl2ZDDjJznswVtcA           0\n",
       " 1043  01Vuw9VgqJVIwThiGg3sRA  4.440869  04QDLvbl2ZDDjJznswVtcA           0\n",
       " 1044  5srKt6H8Y1Ko80hboucZEg  4.440513  04QDLvbl2ZDDjJznswVtcA           0\n",
       " \n",
       " [1045 rows x 4 columns],\n",
       "                  business_id     score                 user_id  real_label\n",
       " 0     atZ_olNKXOG4rEr6mccN8g  4.698859  04dMX-XE0wBhkkP3w_LfZA           0\n",
       " 1     rv1KUBVNQkJ5WUQb49dU0Q  4.669219  04dMX-XE0wBhkkP3w_LfZA           0\n",
       " 2     mZlz6wq17Vl0wEokdpPdWg  4.664596  04dMX-XE0wBhkkP3w_LfZA           0\n",
       " 3     BXXdejmA_rJpMD2MBKCyGA  4.654516  04dMX-XE0wBhkkP3w_LfZA           0\n",
       " 4     IO3apWfFnKPO2XRFmGfTEw  4.650662  04dMX-XE0wBhkkP3w_LfZA           0\n",
       " ...                      ...       ...                     ...         ...\n",
       " 1004  cqQVdbA7fa35MnjJc09Xpg  3.979864  04dMX-XE0wBhkkP3w_LfZA           0\n",
       " 1005  NVXSRMp6lndpQDs_09FHqQ  3.979621  04dMX-XE0wBhkkP3w_LfZA           0\n",
       " 1006  egddrKAZ4Cj__lfLhwdTXA  3.979472  04dMX-XE0wBhkkP3w_LfZA           0\n",
       " 1007  n1FVyQf3ghMWfKuFyjM2zA  3.978922  04dMX-XE0wBhkkP3w_LfZA           0\n",
       " 1008  7Oi7mIHgSt8Monw3FYTtvA  3.978907  04dMX-XE0wBhkkP3w_LfZA           0\n",
       " \n",
       " [1009 rows x 4 columns],\n",
       "                  business_id     score                 user_id  real_label\n",
       " 0     -fs09akgCKv5rTTy7iUHUg  4.908693  04hS_dGfUZd_5iJYRdPHLw           0\n",
       " 1     TE2IEDNV0RcI6s1wTOP4fg  4.898864  04hS_dGfUZd_5iJYRdPHLw           0\n",
       " 2     TE2IEDNV0RcI6s1wTOP4fg  4.898864  04hS_dGfUZd_5iJYRdPHLw           0\n",
       " 3     RFo876v_A63N2JfOTq1p-g  4.891090  04hS_dGfUZd_5iJYRdPHLw           0\n",
       " 4     o_N7HiU3f6cVvrJAFrE43A  4.877090  04hS_dGfUZd_5iJYRdPHLw           0\n",
       " ...                      ...       ...                     ...         ...\n",
       " 1142  mZe1FiIV33qU9_Xgm34w1w  4.403126  04hS_dGfUZd_5iJYRdPHLw           0\n",
       " 1143  E_w9t1HQtcizm9didoC4yQ  4.403083  04hS_dGfUZd_5iJYRdPHLw           0\n",
       " 1144  ZnAr0AxYpEYK1ZHNc4fk7g  4.402981  04hS_dGfUZd_5iJYRdPHLw           0\n",
       " 1145  K1h9s1n2679DxUM2cuMZXA  4.402718  04hS_dGfUZd_5iJYRdPHLw           0\n",
       " 1146  wIz_tZ88bj4W3VlrJTiiqQ  4.402584  04hS_dGfUZd_5iJYRdPHLw           0\n",
       " \n",
       " [1147 rows x 4 columns],\n",
       "                  business_id     score                 user_id  real_label\n",
       " 0     -fs09akgCKv5rTTy7iUHUg  4.855544  054f-dZbNKLY2oQZdSgHWg           0\n",
       " 1     -fs09akgCKv5rTTy7iUHUg  4.855544  054f-dZbNKLY2oQZdSgHWg           0\n",
       " 2     -fs09akgCKv5rTTy7iUHUg  4.855544  054f-dZbNKLY2oQZdSgHWg           0\n",
       " 3     TE2IEDNV0RcI6s1wTOP4fg  4.847570  054f-dZbNKLY2oQZdSgHWg           0\n",
       " 4     KTGEa8V9ec0QBYM_uk1YLQ  4.842223  054f-dZbNKLY2oQZdSgHWg           0\n",
       " ...                      ...       ...                     ...         ...\n",
       " 1092  g3xvwZPyW95KThnc7tN79w  4.365392  054f-dZbNKLY2oQZdSgHWg           0\n",
       " 1093  4wq9bzoCe3Mh0cPbYH1eDg  4.365348  054f-dZbNKLY2oQZdSgHWg           0\n",
       " 1094  o69X6XW8QLuluIoGqvtQrA  4.365259  054f-dZbNKLY2oQZdSgHWg           0\n",
       " 1095  xicrRwfMBkDfQlFaGoyC5g  4.364644  054f-dZbNKLY2oQZdSgHWg           0\n",
       " 1096  3CFVBCfjdCvESS1ogBv21A  4.364310  054f-dZbNKLY2oQZdSgHWg           0\n",
       " \n",
       " [1097 rows x 4 columns],\n",
       "                  business_id     score                 user_id  real_label\n",
       " 0     atZ_olNKXOG4rEr6mccN8g  4.831340  05796MJj-TwACdzscsqpKg           0\n",
       " 1     9pwzHmhCpgJwfaIP9jWoCg  4.814641  05796MJj-TwACdzscsqpKg           0\n",
       " 2     rv1KUBVNQkJ5WUQb49dU0Q  4.761045  05796MJj-TwACdzscsqpKg           0\n",
       " 3     mZlz6wq17Vl0wEokdpPdWg  4.755209  05796MJj-TwACdzscsqpKg           0\n",
       " 4     BXXdejmA_rJpMD2MBKCyGA  4.750698  05796MJj-TwACdzscsqpKg           0\n",
       " ...                      ...       ...                     ...         ...\n",
       " 998   yBfY-xIpN_OmxyXfoX0bTQ  4.253214  05796MJj-TwACdzscsqpKg           0\n",
       " 999   yPt6y_CWuYiztCYE9UBcxA  4.253051  05796MJj-TwACdzscsqpKg           0\n",
       " 1000  RQgITZ-_8KgORje_Qs6W6w  4.253047  05796MJj-TwACdzscsqpKg           0\n",
       " 1001  BuQGsltd3B4L_HRCP2jpTQ  4.252796  05796MJj-TwACdzscsqpKg           0\n",
       " 1002  GxlUXBXe-yw6B5Fqf8kgig  4.252631  05796MJj-TwACdzscsqpKg           0\n",
       " \n",
       " [1003 rows x 4 columns],\n",
       "                  business_id     score                 user_id  real_label\n",
       " 0     -fs09akgCKv5rTTy7iUHUg  4.786526  05HxFEbNldB-bDMK9_gGrg           0\n",
       " 1     o_N7HiU3f6cVvrJAFrE43A  4.763744  05HxFEbNldB-bDMK9_gGrg           0\n",
       " 2     RFo876v_A63N2JfOTq1p-g  4.737329  05HxFEbNldB-bDMK9_gGrg           0\n",
       " 3     KTGEa8V9ec0QBYM_uk1YLQ  4.733829  05HxFEbNldB-bDMK9_gGrg           0\n",
       " 4     8ZCpyx-U-dEJyNZBWiC3mA  4.725229  05HxFEbNldB-bDMK9_gGrg           0\n",
       " ...                      ...       ...                     ...         ...\n",
       " 1030  d4QFJfL5q4nguXfWJUphZg  4.095221  05HxFEbNldB-bDMK9_gGrg           0\n",
       " 1031  1EDUXBWC6IAZvW-r5BKDGw  4.095098  05HxFEbNldB-bDMK9_gGrg           0\n",
       " 1032  fgfpRmXyM6iKaiX8mfA-5g  4.094945  05HxFEbNldB-bDMK9_gGrg           0\n",
       " 1033  bZcW_CPll-WaAgciSLPyrA  4.094141  05HxFEbNldB-bDMK9_gGrg           0\n",
       " 1034  qQO7ErS_RAN4Vs1uX0L55Q  4.093860  05HxFEbNldB-bDMK9_gGrg           0\n",
       " \n",
       " [1035 rows x 4 columns],\n",
       "                  business_id     score                 user_id  real_label\n",
       " 0     -fs09akgCKv5rTTy7iUHUg  4.162521  05N0BHAFuLDH4hEPHris4w           0\n",
       " 1     KTGEa8V9ec0QBYM_uk1YLQ  4.128553  05N0BHAFuLDH4hEPHris4w           0\n",
       " 2     zLm2PaYrpHkcr63ekwvtBQ  4.113560  05N0BHAFuLDH4hEPHris4w           0\n",
       " 3     o_N7HiU3f6cVvrJAFrE43A  4.110745  05N0BHAFuLDH4hEPHris4w           0\n",
       " 4     8ZCpyx-U-dEJyNZBWiC3mA  4.109438  05N0BHAFuLDH4hEPHris4w           0\n",
       " ...                      ...       ...                     ...         ...\n",
       " 1039  QBuUA9LnalBq6WsIZbqaHA  3.645900  05N0BHAFuLDH4hEPHris4w           0\n",
       " 1040  K3rQIh4EXBwCb1xass2k7g  3.645895  05N0BHAFuLDH4hEPHris4w           0\n",
       " 1041  gmYMOcIFsfUnlP_5HMaHpw  3.645794  05N0BHAFuLDH4hEPHris4w           0\n",
       " 1042  WYDUHaSrkAvj1fjoFOgivw  3.645707  05N0BHAFuLDH4hEPHris4w           0\n",
       " 1043  sKsPL_J5lcdAN7Plk1t-aQ  3.645620  05N0BHAFuLDH4hEPHris4w           0\n",
       " \n",
       " [1044 rows x 4 columns],\n",
       "                  business_id     score                 user_id  real_label\n",
       " 0     8ZCpyx-U-dEJyNZBWiC3mA  4.507424  05YIWloogqe4GzYP2iiOjw           0\n",
       " 1     KTGEa8V9ec0QBYM_uk1YLQ  4.470164  05YIWloogqe4GzYP2iiOjw           0\n",
       " 2     ghQGHlhzqK5CK-JkpCbt2w  4.387475  05YIWloogqe4GzYP2iiOjw           0\n",
       " 3     i7_3lQzM5SP8Cc2YT-X3BA  4.366168  05YIWloogqe4GzYP2iiOjw           0\n",
       " 4     XJvOamdhTQI65jmzTfreDQ  4.360497  05YIWloogqe4GzYP2iiOjw           0\n",
       " ...                      ...       ...                     ...         ...\n",
       " 1080  sGQZXNXE2oCfMDI6eGkkkQ  3.833535  05YIWloogqe4GzYP2iiOjw           0\n",
       " 1081  dJ4jKcCq6tWTFIfIOjBtzw  3.833446  05YIWloogqe4GzYP2iiOjw           0\n",
       " 1082  dJ4jKcCq6tWTFIfIOjBtzw  3.833446  05YIWloogqe4GzYP2iiOjw           0\n",
       " 1083  1EjhKjQWQ2RsrAyvptNGIg  3.832966  05YIWloogqe4GzYP2iiOjw           0\n",
       " 1084  MHRgXoxLazONKzscBisTdw  3.832945  05YIWloogqe4GzYP2iiOjw           0\n",
       " \n",
       " [1085 rows x 4 columns],\n",
       "                  business_id     score                 user_id  real_label\n",
       " 0     ctHjyadbDQAtUFfkcAFEHw  5.005476  05e1vChXItt0JfwFBjpmJw           0\n",
       " 1     ctHjyadbDQAtUFfkcAFEHw  5.005476  05e1vChXItt0JfwFBjpmJw           0\n",
       " 2     RFo876v_A63N2JfOTq1p-g  4.989734  05e1vChXItt0JfwFBjpmJw           0\n",
       " 3     -fs09akgCKv5rTTy7iUHUg  4.988711  05e1vChXItt0JfwFBjpmJw           0\n",
       " 4     KTGEa8V9ec0QBYM_uk1YLQ  4.975407  05e1vChXItt0JfwFBjpmJw           0\n",
       " ...                      ...       ...                     ...         ...\n",
       " 1087  f9ChjNJV73tpa4rPb_JO0g  4.511397  05e1vChXItt0JfwFBjpmJw           0\n",
       " 1088  u9Bs8L3oI1A3hcXs6vOv8w  4.511138  05e1vChXItt0JfwFBjpmJw           0\n",
       " 1089  8VO4Ma7FhsLYop9tk87tbA  4.510799  05e1vChXItt0JfwFBjpmJw           0\n",
       " 1090  N1GYsCd5QAchGOCeQ37J9g  4.510791  05e1vChXItt0JfwFBjpmJw           0\n",
       " 1091  ebzd6lX3jh_XicNT0bCVuw  4.510744  05e1vChXItt0JfwFBjpmJw           0\n",
       " \n",
       " [1092 rows x 4 columns],\n",
       "                  business_id     score                 user_id  real_label\n",
       " 0     -fs09akgCKv5rTTy7iUHUg  4.869322  05kMHFapG_z7YPZYhtIEEA           0\n",
       " 1     u3zqvp4BYUjzJD7tzx3Jbg  4.791654  05kMHFapG_z7YPZYhtIEEA           0\n",
       " 2     XJvOamdhTQI65jmzTfreDQ  4.744056  05kMHFapG_z7YPZYhtIEEA           0\n",
       " 3     Bk6uzC83wbmCHm2i5Uz8OA  4.739015  05kMHFapG_z7YPZYhtIEEA           0\n",
       " 4     atZ_olNKXOG4rEr6mccN8g  4.737156  05kMHFapG_z7YPZYhtIEEA           0\n",
       " ...                      ...       ...                     ...         ...\n",
       " 1110  d6IkDuDtxzBq8Cem2Jocgw  4.205982  05kMHFapG_z7YPZYhtIEEA           0\n",
       " 1111  nAVm7-aPY78Cedz3yvNrow  4.205805  05kMHFapG_z7YPZYhtIEEA           0\n",
       " 1112  2np2bOL_PS0eNq260qLuMA  4.205669  05kMHFapG_z7YPZYhtIEEA           0\n",
       " 1113  T9hQBMwt8-3okULfDZx-Lw  4.205544  05kMHFapG_z7YPZYhtIEEA           0\n",
       " 1114  GcvH3oNHzitdRnQgGWPjPw  4.205351  05kMHFapG_z7YPZYhtIEEA           0\n",
       " \n",
       " [1115 rows x 4 columns],\n",
       "                  business_id     score                 user_id  real_label\n",
       " 0     TE2IEDNV0RcI6s1wTOP4fg  5.251699  05xtJRBaxKlXQ4LfGXV_qQ           0\n",
       " 1     8ZCpyx-U-dEJyNZBWiC3mA  5.207865  05xtJRBaxKlXQ4LfGXV_qQ           0\n",
       " 2     Bk6uzC83wbmCHm2i5Uz8OA  5.128943  05xtJRBaxKlXQ4LfGXV_qQ           0\n",
       " 3     ghQGHlhzqK5CK-JkpCbt2w  5.127372  05xtJRBaxKlXQ4LfGXV_qQ           0\n",
       " 4     _ZMf5Am_e0AE7aveELJd9w  5.126208  05xtJRBaxKlXQ4LfGXV_qQ           0\n",
       " ...                      ...       ...                     ...         ...\n",
       " 1154  BZMlTj56Y_rTc_iMSOs-Hw  4.646779  05xtJRBaxKlXQ4LfGXV_qQ           0\n",
       " 1155  Zc710cEmB6LtUcMALGNZHw  4.646640  05xtJRBaxKlXQ4LfGXV_qQ           0\n",
       " 1156  -U1xpWbkKmTQ3YCElPSW6A  4.646379  05xtJRBaxKlXQ4LfGXV_qQ           0\n",
       " 1157  2TK1p6uIO7dHDWOQeit0Fg  4.646379  05xtJRBaxKlXQ4LfGXV_qQ           0\n",
       " 1158  2TK1p6uIO7dHDWOQeit0Fg  4.646379  05xtJRBaxKlXQ4LfGXV_qQ           0\n",
       " \n",
       " [1159 rows x 4 columns],\n",
       "                  business_id     score                 user_id  real_label\n",
       " 0     -fs09akgCKv5rTTy7iUHUg  4.833020  064Z_GuIr54fgJdmDXqnGA           0\n",
       " 1     KTGEa8V9ec0QBYM_uk1YLQ  4.790238  064Z_GuIr54fgJdmDXqnGA           0\n",
       " 2     zLm2PaYrpHkcr63ekwvtBQ  4.775414  064Z_GuIr54fgJdmDXqnGA           0\n",
       " 3     8ZCpyx-U-dEJyNZBWiC3mA  4.774276  064Z_GuIr54fgJdmDXqnGA           0\n",
       " 4     5tK4y67IUn3eDd3S1bka9Q  4.760545  064Z_GuIr54fgJdmDXqnGA           0\n",
       " ...                      ...       ...                     ...         ...\n",
       " 997   BeWw8cFF1maJLbgCeHACjw  4.293380  064Z_GuIr54fgJdmDXqnGA           0\n",
       " 998   wv3pQnSxA3sR6QqBova-xA  4.293355  064Z_GuIr54fgJdmDXqnGA           0\n",
       " 999   bjwYssBeEmc1wFR7nKXI4A  4.293153  064Z_GuIr54fgJdmDXqnGA           0\n",
       " 1000  zdv6HmtViGmQn4PVk9bAWQ  4.293120  064Z_GuIr54fgJdmDXqnGA           0\n",
       " 1001  bFIyk5wMY2WinvONbeVgeA  4.292013  064Z_GuIr54fgJdmDXqnGA           0\n",
       " \n",
       " [1002 rows x 4 columns],\n",
       "                 business_id     score                 user_id  real_label\n",
       " 0    -fs09akgCKv5rTTy7iUHUg  5.010207  06NP34MOqHVaoppv1U0NSQ           0\n",
       " 1    KTGEa8V9ec0QBYM_uk1YLQ  4.996872  06NP34MOqHVaoppv1U0NSQ           0\n",
       " 2    zLm2PaYrpHkcr63ekwvtBQ  4.974581  06NP34MOqHVaoppv1U0NSQ           0\n",
       " 3    8ZCpyx-U-dEJyNZBWiC3mA  4.958458  06NP34MOqHVaoppv1U0NSQ           0\n",
       " 4    u3zqvp4BYUjzJD7tzx3Jbg  4.932534  06NP34MOqHVaoppv1U0NSQ           0\n",
       " ..                      ...       ...                     ...         ...\n",
       " 995  DzzVSYXadZ1_XgfGz_Loyw  4.471295  06NP34MOqHVaoppv1U0NSQ           0\n",
       " 996  kcSS8bKAokzVOuAQwwSNjw  4.470974  06NP34MOqHVaoppv1U0NSQ           0\n",
       " 997  0Ca0kyrqtwPGX7j0UrFqKw  4.470467  06NP34MOqHVaoppv1U0NSQ           0\n",
       " 998  TN1geaU2Sry_NfpXk-kbpA  4.470078  06NP34MOqHVaoppv1U0NSQ           0\n",
       " 999  UR9dzGGVfcJhHt_mG3bTRA  4.470020  06NP34MOqHVaoppv1U0NSQ           0\n",
       " \n",
       " [1000 rows x 4 columns],\n",
       "                  business_id     score                 user_id  real_label\n",
       " 0     -fs09akgCKv5rTTy7iUHUg  3.830700  06Ts4Ma1oyTmjYjo6Lw-2A           0\n",
       " 1     KTGEa8V9ec0QBYM_uk1YLQ  3.820754  06Ts4Ma1oyTmjYjo6Lw-2A           0\n",
       " 2     zLm2PaYrpHkcr63ekwvtBQ  3.810898  06Ts4Ma1oyTmjYjo6Lw-2A           0\n",
       " 3     5tK4y67IUn3eDd3S1bka9Q  3.757116  06Ts4Ma1oyTmjYjo6Lw-2A           0\n",
       " 4     8ZCpyx-U-dEJyNZBWiC3mA  3.725119  06Ts4Ma1oyTmjYjo6Lw-2A           0\n",
       " ...                      ...       ...                     ...         ...\n",
       " 1051  DwEHeY-1Cs9GV-S97wzVhA  3.104457  06Ts4Ma1oyTmjYjo6Lw-2A           0\n",
       " 1052  NL_RDDQ_uPAT8t-x7hINvA  3.104411  06Ts4Ma1oyTmjYjo6Lw-2A           0\n",
       " 1053  lFxPP7RKBqLf8B-DyM5Ulw  3.104256  06Ts4Ma1oyTmjYjo6Lw-2A           0\n",
       " 1054  QBuUA9LnalBq6WsIZbqaHA  3.103861  06Ts4Ma1oyTmjYjo6Lw-2A           0\n",
       " 1055  s9__MGvr-D6mj9HT8xRVtQ  3.103590  06Ts4Ma1oyTmjYjo6Lw-2A           0\n",
       " \n",
       " [1056 rows x 4 columns],\n",
       "                  business_id     score                 user_id  real_label\n",
       " 0     -fs09akgCKv5rTTy7iUHUg  4.582244  06Vh6dw7DO0Aez07U0iZwg           0\n",
       " 1     -fs09akgCKv5rTTy7iUHUg  4.582244  06Vh6dw7DO0Aez07U0iZwg           0\n",
       " 2     8ZCpyx-U-dEJyNZBWiC3mA  4.566385  06Vh6dw7DO0Aez07U0iZwg           0\n",
       " 3     KTGEa8V9ec0QBYM_uk1YLQ  4.536412  06Vh6dw7DO0Aez07U0iZwg           0\n",
       " 4     u3zqvp4BYUjzJD7tzx3Jbg  4.514505  06Vh6dw7DO0Aez07U0iZwg           0\n",
       " ...                      ...       ...                     ...         ...\n",
       " 1061  hjhJcg-0c-YDAU-OmKbJ7Q  3.923719  06Vh6dw7DO0Aez07U0iZwg           0\n",
       " 1062  hjhJcg-0c-YDAU-OmKbJ7Q  3.923719  06Vh6dw7DO0Aez07U0iZwg           0\n",
       " 1063  pXRrRf8fDv6yU3xp1E25hA  3.923490  06Vh6dw7DO0Aez07U0iZwg           0\n",
       " 1064  -T_lkOvaK39R-Ufg6VUyxg  3.922841  06Vh6dw7DO0Aez07U0iZwg           0\n",
       " 1065  s9ceDy-cVHe0uzvZpWq87Q  3.922839  06Vh6dw7DO0Aez07U0iZwg           0\n",
       " \n",
       " [1066 rows x 4 columns],\n",
       "                  business_id     score                 user_id  real_label\n",
       " 0     ytynqOUb3hjKeJfRj5Tshw  5.398187  06a4nXB47hBDFaghFaTqtA           0\n",
       " 1     ytynqOUb3hjKeJfRj5Tshw  5.398187  06a4nXB47hBDFaghFaTqtA           0\n",
       " 2     -fs09akgCKv5rTTy7iUHUg  5.280491  06a4nXB47hBDFaghFaTqtA           0\n",
       " 3     TE2IEDNV0RcI6s1wTOP4fg  5.272573  06a4nXB47hBDFaghFaTqtA           0\n",
       " 4     KTGEa8V9ec0QBYM_uk1YLQ  5.267260  06a4nXB47hBDFaghFaTqtA           0\n",
       " ...                      ...       ...                     ...         ...\n",
       " 1112  VJ-c-Yjj1qv7dKS5YaYoHg  4.760666  06a4nXB47hBDFaghFaTqtA           0\n",
       " 1113  0HwxZ9ngr_2rsnuawVOocg  4.760097  06a4nXB47hBDFaghFaTqtA           0\n",
       " 1114  3cT6KPlkOQGZv2Lk7p9_1A  4.759963  06a4nXB47hBDFaghFaTqtA           0\n",
       " 1115  JuMiGeS_i9c611znnG27xA  4.759873  06a4nXB47hBDFaghFaTqtA           0\n",
       " 1116  O69OCM8Em9ZoJoV_GVhw-Q  4.759458  06a4nXB47hBDFaghFaTqtA           0\n",
       " \n",
       " [1117 rows x 4 columns],\n",
       "                  business_id     score                 user_id  real_label\n",
       " 0     -fs09akgCKv5rTTy7iUHUg  4.952026  079OSWt6Uk1JVp1PXsTvIA           0\n",
       " 1     KTGEa8V9ec0QBYM_uk1YLQ  4.938754  079OSWt6Uk1JVp1PXsTvIA           0\n",
       " 2     o_N7HiU3f6cVvrJAFrE43A  4.924514  079OSWt6Uk1JVp1PXsTvIA           0\n",
       " 3     zLm2PaYrpHkcr63ekwvtBQ  4.916463  079OSWt6Uk1JVp1PXsTvIA           0\n",
       " 4     8ZCpyx-U-dEJyNZBWiC3mA  4.900260  079OSWt6Uk1JVp1PXsTvIA           0\n",
       " ...                      ...       ...                     ...         ...\n",
       " 1004  bJfcuUMgJUkHWpCUeAI4Iw  4.452477  079OSWt6Uk1JVp1PXsTvIA           0\n",
       " 1005  gYYMQeg4X8FUcCxXI4c2Tw  4.452380  079OSWt6Uk1JVp1PXsTvIA           0\n",
       " 1006  vF-uptiQ34pVLHJKzPHUlA  4.452281  079OSWt6Uk1JVp1PXsTvIA           0\n",
       " 1007  JbNgfr60iyvM3CJWgyqXkw  4.452202  079OSWt6Uk1JVp1PXsTvIA           0\n",
       " 1008  zWQWjJ0270yqp_KignAmkg  4.452149  079OSWt6Uk1JVp1PXsTvIA           0\n",
       " \n",
       " [1009 rows x 4 columns],\n",
       "                  business_id     score                 user_id  real_label\n",
       " 0     -fs09akgCKv5rTTy7iUHUg  4.927945  07P10hEQf0gboe-JgyeB_g           0\n",
       " 1     KTGEa8V9ec0QBYM_uk1YLQ  4.914610  07P10hEQf0gboe-JgyeB_g           0\n",
       " 2     zLm2PaYrpHkcr63ekwvtBQ  4.892320  07P10hEQf0gboe-JgyeB_g           0\n",
       " 3     8ZCpyx-U-dEJyNZBWiC3mA  4.876230  07P10hEQf0gboe-JgyeB_g           0\n",
       " 4     5tK4y67IUn3eDd3S1bka9Q  4.858182  07P10hEQf0gboe-JgyeB_g           0\n",
       " ...                      ...       ...                     ...         ...\n",
       " 1118  01Vuw9VgqJVIwThiGg3sRA  4.456661  07P10hEQf0gboe-JgyeB_g           0\n",
       " 1119  7zEVu7s5dHGscMUfRu5GaA  4.456622  07P10hEQf0gboe-JgyeB_g           0\n",
       " 1120  dQZlvOEVNke30MY5iTiy1g  4.456540  07P10hEQf0gboe-JgyeB_g           0\n",
       " 1121  lwN9FutfBq81GnGWhj5Mng  4.456321  07P10hEQf0gboe-JgyeB_g           0\n",
       " 1122  lwN9FutfBq81GnGWhj5Mng  4.456321  07P10hEQf0gboe-JgyeB_g           0\n",
       " \n",
       " [1123 rows x 4 columns],\n",
       "                  business_id     score                 user_id  real_label\n",
       " 0     -fs09akgCKv5rTTy7iUHUg  5.028556  07UEBeoQFeKo04oaOFaQBQ           0\n",
       " 1     KTGEa8V9ec0QBYM_uk1YLQ  5.015259  07UEBeoQFeKo04oaOFaQBQ           0\n",
       " 2     o_N7HiU3f6cVvrJAFrE43A  5.001043  07UEBeoQFeKo04oaOFaQBQ           0\n",
       " 3     zLm2PaYrpHkcr63ekwvtBQ  4.992968  07UEBeoQFeKo04oaOFaQBQ           0\n",
       " 4     8ZCpyx-U-dEJyNZBWiC3mA  4.976790  07UEBeoQFeKo04oaOFaQBQ           0\n",
       " ...                      ...       ...                     ...         ...\n",
       " 1047  ZufSfqQ4RfUk4RAQgnlc0Q  4.546793  07UEBeoQFeKo04oaOFaQBQ           0\n",
       " 1048  OPQWnVzSu70iE26LOaZiJw  4.546752  07UEBeoQFeKo04oaOFaQBQ           0\n",
       " 1049  zKOFqb0RyrnY9t02f0QFTQ  4.546746  07UEBeoQFeKo04oaOFaQBQ           0\n",
       " 1050  thb9MKU1kOG_TZ0sn2RxcA  4.546605  07UEBeoQFeKo04oaOFaQBQ           0\n",
       " 1051  tKxXZd00zZ24jDmJJcUYPQ  4.546442  07UEBeoQFeKo04oaOFaQBQ           0\n",
       " \n",
       " [1052 rows x 4 columns],\n",
       "                  business_id     score                 user_id  real_label\n",
       " 0     -fs09akgCKv5rTTy7iUHUg  4.721881  07aVWNhBhpwqW3MdqoKDKQ           0\n",
       " 1     o_N7HiU3f6cVvrJAFrE43A  4.698938  07aVWNhBhpwqW3MdqoKDKQ           0\n",
       " 2     u3zqvp4BYUjzJD7tzx3Jbg  4.681624  07aVWNhBhpwqW3MdqoKDKQ           0\n",
       " 3     KTGEa8V9ec0QBYM_uk1YLQ  4.667454  07aVWNhBhpwqW3MdqoKDKQ           0\n",
       " 4     zLm2PaYrpHkcr63ekwvtBQ  4.641533  07aVWNhBhpwqW3MdqoKDKQ           0\n",
       " ...                      ...       ...                     ...         ...\n",
       " 1034  M4ME5ir-QwnRdM4fhjZtTA  4.082839  07aVWNhBhpwqW3MdqoKDKQ           0\n",
       " 1035  IAOJuLejVtnZJpw15Txu9A  4.082452  07aVWNhBhpwqW3MdqoKDKQ           0\n",
       " 1036  dGU6pf9aVoQmSJUdO0rfJA  4.082235  07aVWNhBhpwqW3MdqoKDKQ           0\n",
       " 1037  uZgXaaGYzM7z1TJ4zYEMxA  4.082135  07aVWNhBhpwqW3MdqoKDKQ           0\n",
       " 1038  -blcOL0q1Sen46pqhs1HCw  4.081939  07aVWNhBhpwqW3MdqoKDKQ           0\n",
       " \n",
       " [1039 rows x 4 columns],\n",
       "                  business_id     score                 user_id  real_label\n",
       " 0     -fs09akgCKv5rTTy7iUHUg  4.942473  07gdGKMkho4maba0lQyoQQ           0\n",
       " 1     KTGEa8V9ec0QBYM_uk1YLQ  4.926227  07gdGKMkho4maba0lQyoQQ           0\n",
       " 2     o_N7HiU3f6cVvrJAFrE43A  4.913020  07gdGKMkho4maba0lQyoQQ           0\n",
       " 3     zLm2PaYrpHkcr63ekwvtBQ  4.910041  07gdGKMkho4maba0lQyoQQ           0\n",
       " 4     8ZCpyx-U-dEJyNZBWiC3mA  4.879915  07gdGKMkho4maba0lQyoQQ           0\n",
       " ...                      ...       ...                     ...         ...\n",
       " 999   CMnrIvac5TRbYnUJgKHupQ  4.452786  07gdGKMkho4maba0lQyoQQ           0\n",
       " 1000  mu2yd4Z5n5NLCaLC_KlqLQ  4.452621  07gdGKMkho4maba0lQyoQQ           0\n",
       " 1001  SwWfW3vBn5QkDE7T3urGAg  4.452303  07gdGKMkho4maba0lQyoQQ           0\n",
       " 1002  NO72Hrp96gazaxflsUrGyg  4.452252  07gdGKMkho4maba0lQyoQQ           0\n",
       " 1003  pJfh3Ct8iL58NZa8ta-a5w  4.452128  07gdGKMkho4maba0lQyoQQ           0\n",
       " \n",
       " [1004 rows x 4 columns],\n",
       "                  business_id     score                 user_id  real_label\n",
       " 0     -fs09akgCKv5rTTy7iUHUg  4.926518  07iXf2xfdkyrjPDXm1hFQA           0\n",
       " 1     KTGEa8V9ec0QBYM_uk1YLQ  4.913286  07iXf2xfdkyrjPDXm1hFQA           0\n",
       " 2     KTGEa8V9ec0QBYM_uk1YLQ  4.913286  07iXf2xfdkyrjPDXm1hFQA           0\n",
       " 3     o_N7HiU3f6cVvrJAFrE43A  4.899006  07iXf2xfdkyrjPDXm1hFQA           0\n",
       " 4     zLm2PaYrpHkcr63ekwvtBQ  4.890996  07iXf2xfdkyrjPDXm1hFQA           0\n",
       " ...                      ...       ...                     ...         ...\n",
       " 1080  kcSS8bKAokzVOuAQwwSNjw  4.400237  07iXf2xfdkyrjPDXm1hFQA           0\n",
       " 1081  EoKKkfmOOgtdy-Br0Hs1xw  4.399772  07iXf2xfdkyrjPDXm1hFQA           0\n",
       " 1082  2pYUBcNkUxD1Bg8FA5lCzg  4.399676  07iXf2xfdkyrjPDXm1hFQA           0\n",
       " 1083  IfKsmxBL4Rl0MnAeIPL2_g  4.399444  07iXf2xfdkyrjPDXm1hFQA           0\n",
       " 1084  h-LoRnHxlAx4tS2UJrmKLw  4.399260  07iXf2xfdkyrjPDXm1hFQA           0\n",
       " \n",
       " [1085 rows x 4 columns],\n",
       "                  business_id     score                 user_id  real_label\n",
       " 0     -fs09akgCKv5rTTy7iUHUg  5.175807  07shvAOb8znglcmjuNZxaA           0\n",
       " 1     KTGEa8V9ec0QBYM_uk1YLQ  5.162504  07shvAOb8znglcmjuNZxaA           0\n",
       " 2     o_N7HiU3f6cVvrJAFrE43A  5.148295  07shvAOb8znglcmjuNZxaA           0\n",
       " 3     zLm2PaYrpHkcr63ekwvtBQ  5.140213  07shvAOb8znglcmjuNZxaA           0\n",
       " 4     8ZCpyx-U-dEJyNZBWiC3mA  5.124042  07shvAOb8znglcmjuNZxaA           0\n",
       " ...                      ...       ...                     ...         ...\n",
       " 1029  cmMIB7uTNGJc9Qpl65LjjQ  4.685608  07shvAOb8znglcmjuNZxaA           0\n",
       " 1030  etaMJK4AFye6FH31KRs5vw  4.685590  07shvAOb8znglcmjuNZxaA           0\n",
       " 1031  229pgAfC3CBMmIWNngwKsA  4.685211  07shvAOb8znglcmjuNZxaA           0\n",
       " 1032  rmwhfWzP320I107h28Cuqw  4.684825  07shvAOb8znglcmjuNZxaA           0\n",
       " 1033  FIweOxvfz1aSgXqs2X-pqw  4.684674  07shvAOb8znglcmjuNZxaA           0\n",
       " \n",
       " [1034 rows x 4 columns],\n",
       "                  business_id     score                 user_id  real_label\n",
       " 0     RFo876v_A63N2JfOTq1p-g  5.087771  07tlfHzEdyhFybXUD36m8w           0\n",
       " 1     -fs09akgCKv5rTTy7iUHUg  5.086750  07tlfHzEdyhFybXUD36m8w           0\n",
       " 2     KTGEa8V9ec0QBYM_uk1YLQ  5.073444  07tlfHzEdyhFybXUD36m8w           0\n",
       " 3     o_N7HiU3f6cVvrJAFrE43A  5.059237  07tlfHzEdyhFybXUD36m8w           0\n",
       " 4     zLm2PaYrpHkcr63ekwvtBQ  5.051153  07tlfHzEdyhFybXUD36m8w           0\n",
       " ...                      ...       ...                     ...         ...\n",
       " 1027  kvb0a9FiFs9UXWxE6q-5DA  4.592658  07tlfHzEdyhFybXUD36m8w           0\n",
       " 1028  onAxL1mLxQb4TzZrJ2rYMg  4.592558  07tlfHzEdyhFybXUD36m8w           0\n",
       " 1029  E52a-tWfAVUigt1ArF711w  4.592517  07tlfHzEdyhFybXUD36m8w           0\n",
       " 1030  jAK7p4MPZKsx2o0CwhR48w  4.592330  07tlfHzEdyhFybXUD36m8w           0\n",
       " 1031  Tf7c38yepZzZvPG9wxNIqw  4.592084  07tlfHzEdyhFybXUD36m8w           0\n",
       " \n",
       " [1032 rows x 4 columns],\n",
       "                  business_id     score                 user_id  real_label\n",
       " 0     -fs09akgCKv5rTTy7iUHUg  4.530486  08CXQlc71bRpi8niNyFueQ           0\n",
       " 1     8ZCpyx-U-dEJyNZBWiC3mA  4.528309  08CXQlc71bRpi8niNyFueQ           0\n",
       " 2     RFo876v_A63N2JfOTq1p-g  4.519989  08CXQlc71bRpi8niNyFueQ           0\n",
       " 3     KTGEa8V9ec0QBYM_uk1YLQ  4.493945  08CXQlc71bRpi8niNyFueQ           0\n",
       " 4     o_N7HiU3f6cVvrJAFrE43A  4.491289  08CXQlc71bRpi8niNyFueQ           0\n",
       " ...                      ...       ...                     ...         ...\n",
       " 1079  ws6TIgXXA-5RSHRrMBEktA  3.966435  08CXQlc71bRpi8niNyFueQ           0\n",
       " 1080  DorCmYVDR5wcCVvbCAvzEg  3.966250  08CXQlc71bRpi8niNyFueQ           0\n",
       " 1081  6BvmLng8AmH56-eSekl3zg  3.966088  08CXQlc71bRpi8niNyFueQ           0\n",
       " 1082  6BvmLng8AmH56-eSekl3zg  3.966088  08CXQlc71bRpi8niNyFueQ           0\n",
       " 1083  u_X7JlkEChx8UsxI_S7deg  3.966022  08CXQlc71bRpi8niNyFueQ           0\n",
       " \n",
       " [1084 rows x 4 columns],\n",
       "                  business_id     score                 user_id  real_label\n",
       " 0     -fs09akgCKv5rTTy7iUHUg  4.213967  08FzsE7dBXHSqU77H0-Odg           0\n",
       " 1     KTGEa8V9ec0QBYM_uk1YLQ  4.187291  08FzsE7dBXHSqU77H0-Odg           0\n",
       " 2     zLm2PaYrpHkcr63ekwvtBQ  4.167794  08FzsE7dBXHSqU77H0-Odg           0\n",
       " 3     8ZCpyx-U-dEJyNZBWiC3mA  4.161729  08FzsE7dBXHSqU77H0-Odg           0\n",
       " 4     5tK4y67IUn3eDd3S1bka9Q  4.125004  08FzsE7dBXHSqU77H0-Odg           0\n",
       " ...                      ...       ...                     ...         ...\n",
       " 1090  _m0mp3Wjcteysto6azQ9iA  3.670559  08FzsE7dBXHSqU77H0-Odg           0\n",
       " 1091  F-j6PNGnA8yz77oIZMcPMA  3.670541  08FzsE7dBXHSqU77H0-Odg           0\n",
       " 1092  TXg82zeFo2MpX5BzZXpJUg  3.670532  08FzsE7dBXHSqU77H0-Odg           0\n",
       " 1093  WllnLf3kBK5lGyPoKWICXQ  3.670298  08FzsE7dBXHSqU77H0-Odg           0\n",
       " 1094  OshZe8R4Zhcy-TsjK5vJdg  3.670290  08FzsE7dBXHSqU77H0-Odg           0\n",
       " \n",
       " [1095 rows x 4 columns],\n",
       "                 business_id     score                 user_id  real_label\n",
       " 0    -fs09akgCKv5rTTy7iUHUg  4.741025  08L79P89GRdD6VpjzHeCsA           0\n",
       " 1    o_N7HiU3f6cVvrJAFrE43A  4.701933  08L79P89GRdD6VpjzHeCsA           0\n",
       " 2    KTGEa8V9ec0QBYM_uk1YLQ  4.679309  08L79P89GRdD6VpjzHeCsA           0\n",
       " 3    zLm2PaYrpHkcr63ekwvtBQ  4.665507  08L79P89GRdD6VpjzHeCsA           0\n",
       " 4    u3zqvp4BYUjzJD7tzx3Jbg  4.661884  08L79P89GRdD6VpjzHeCsA           0\n",
       " ..                      ...       ...                     ...         ...\n",
       " 995  rbazT4HNABCj_CeEG7IpNw  3.967942  08L79P89GRdD6VpjzHeCsA           0\n",
       " 996  ppmwNk6adNqHAWgVnKyZIg  3.967793  08L79P89GRdD6VpjzHeCsA           0\n",
       " 997  MHRgXoxLazONKzscBisTdw  3.967357  08L79P89GRdD6VpjzHeCsA           0\n",
       " 998  yE9JBfdRUlDsKaAIn0yOAA  3.967320  08L79P89GRdD6VpjzHeCsA           0\n",
       " 999  hh-YYOIcr0sEym2cbM0GEA  3.966955  08L79P89GRdD6VpjzHeCsA           0\n",
       " \n",
       " [1000 rows x 4 columns],\n",
       "                  business_id     score                 user_id  real_label\n",
       " 0     -fs09akgCKv5rTTy7iUHUg  4.859786  08LioS7B84KsW5DmVOG_EQ           0\n",
       " 1     -fs09akgCKv5rTTy7iUHUg  4.859786  08LioS7B84KsW5DmVOG_EQ           0\n",
       " 2     KTGEa8V9ec0QBYM_uk1YLQ  4.816991  08LioS7B84KsW5DmVOG_EQ           0\n",
       " 3     zLm2PaYrpHkcr63ekwvtBQ  4.801816  08LioS7B84KsW5DmVOG_EQ           0\n",
       " 4     8ZCpyx-U-dEJyNZBWiC3mA  4.801060  08LioS7B84KsW5DmVOG_EQ           0\n",
       " ...                      ...       ...                     ...         ...\n",
       " 1061  0Cii4j7PPWvxcAmXuReb9A  4.349561  08LioS7B84KsW5DmVOG_EQ           0\n",
       " 1062  cjIbKTknnvvw8E7FO6SCzw  4.349435  08LioS7B84KsW5DmVOG_EQ           0\n",
       " 1063  GAINPyM9n673GUgNkGBOcg  4.349292  08LioS7B84KsW5DmVOG_EQ           0\n",
       " 1064  OshZe8R4Zhcy-TsjK5vJdg  4.349231  08LioS7B84KsW5DmVOG_EQ           0\n",
       " 1065  0Sa2hQnbS9hoRthHKOGepg  4.349090  08LioS7B84KsW5DmVOG_EQ           0\n",
       " \n",
       " [1066 rows x 4 columns],\n",
       "                  business_id     score                 user_id  real_label\n",
       " 0     -fs09akgCKv5rTTy7iUHUg  4.051495  08V34sb6sPwdN97RzRXCNg           0\n",
       " 1     KTGEa8V9ec0QBYM_uk1YLQ  4.037029  08V34sb6sPwdN97RzRXCNg           0\n",
       " 2     o_N7HiU3f6cVvrJAFrE43A  4.026995  08V34sb6sPwdN97RzRXCNg           0\n",
       " 3     Y93S8ZVnOhXQTkWZQEU5yg  4.020831  08V34sb6sPwdN97RzRXCNg           0\n",
       " 4     u3zqvp4BYUjzJD7tzx3Jbg  4.000764  08V34sb6sPwdN97RzRXCNg           0\n",
       " ...                      ...       ...                     ...         ...\n",
       " 1081  a3YGrsA5i1JSgs7g0tOefw  3.361657  08V34sb6sPwdN97RzRXCNg           0\n",
       " 1082  5oiYQkCMlJ2nZEjttjEd_A  3.361272  08V34sb6sPwdN97RzRXCNg           0\n",
       " 1083  GnSvwS9MBGKZzqYd4qEUOQ  3.360941  08V34sb6sPwdN97RzRXCNg           0\n",
       " 1084  T4v7qgTIhDFoDYxTMus5Yw  3.360878  08V34sb6sPwdN97RzRXCNg           0\n",
       " 1085  hnXA1m5_6ogFvuvPDEP0Aw  3.360650  08V34sb6sPwdN97RzRXCNg           0\n",
       " \n",
       " [1086 rows x 4 columns],\n",
       "                  business_id     score                 user_id  real_label\n",
       " 0     -fs09akgCKv5rTTy7iUHUg  4.885736  08aghuhoTvCwFd4miecxCQ           0\n",
       " 1     KTGEa8V9ec0QBYM_uk1YLQ  4.872401  08aghuhoTvCwFd4miecxCQ           0\n",
       " 2     o_N7HiU3f6cVvrJAFrE43A  4.858201  08aghuhoTvCwFd4miecxCQ           0\n",
       " 3     zLm2PaYrpHkcr63ekwvtBQ  4.850111  08aghuhoTvCwFd4miecxCQ           0\n",
       " 4     8ZCpyx-U-dEJyNZBWiC3mA  4.833972  08aghuhoTvCwFd4miecxCQ           0\n",
       " ...                      ...       ...                     ...         ...\n",
       " 1023  qvfkT03PHLf4_Ejs4gtAFQ  4.400609  08aghuhoTvCwFd4miecxCQ           0\n",
       " 1024  229pgAfC3CBMmIWNngwKsA  4.400560  08aghuhoTvCwFd4miecxCQ           0\n",
       " 1025  w_LP7DTDpibVU9rLtzhGCA  4.400451  08aghuhoTvCwFd4miecxCQ           0\n",
       " 1026  FcKqZpor9OjdTfoWkaGXuA  4.400344  08aghuhoTvCwFd4miecxCQ           0\n",
       " 1027  wulFpnfqcRP8PNIcHaVdAA  4.400119  08aghuhoTvCwFd4miecxCQ           0\n",
       " \n",
       " [1028 rows x 4 columns],\n",
       "                  business_id     score                 user_id  real_label\n",
       " 0     -fs09akgCKv5rTTy7iUHUg  4.956986  08frwTJwLdJPM0gWDlRLdg           0\n",
       " 1     TE2IEDNV0RcI6s1wTOP4fg  4.949003  08frwTJwLdJPM0gWDlRLdg           0\n",
       " 2     o_N7HiU3f6cVvrJAFrE43A  4.929456  08frwTJwLdJPM0gWDlRLdg           0\n",
       " 3     5tK4y67IUn3eDd3S1bka9Q  4.887228  08frwTJwLdJPM0gWDlRLdg           0\n",
       " 4     ctHjyadbDQAtUFfkcAFEHw  4.855052  08frwTJwLdJPM0gWDlRLdg           0\n",
       " ...                      ...       ...                     ...         ...\n",
       " 1086  D48I-imYNjFo9bmsiZc-YQ  4.405768  08frwTJwLdJPM0gWDlRLdg           0\n",
       " 1087  Syln1xoJf9q74YfymmtbOw  4.405395  08frwTJwLdJPM0gWDlRLdg           0\n",
       " 1088  94T-JvAH2dq64yh4Eqzhkw  4.405264  08frwTJwLdJPM0gWDlRLdg           0\n",
       " 1089  54sOo41hxch8D3bRCUVdoQ  4.405082  08frwTJwLdJPM0gWDlRLdg           0\n",
       " 1090  56M2bwaaSzcmzr2dyEfYQw  4.404981  08frwTJwLdJPM0gWDlRLdg           0\n",
       " \n",
       " [1091 rows x 4 columns],\n",
       "                  business_id     score                 user_id  real_label\n",
       " 0     -fs09akgCKv5rTTy7iUHUg  4.977251  08m1pM5keN0lx84c5Jyquw           0\n",
       " 1     KTGEa8V9ec0QBYM_uk1YLQ  4.963916  08m1pM5keN0lx84c5Jyquw           0\n",
       " 2     8ZCpyx-U-dEJyNZBWiC3mA  4.925494  08m1pM5keN0lx84c5Jyquw           0\n",
       " 3     XJvOamdhTQI65jmzTfreDQ  4.851985  08m1pM5keN0lx84c5Jyquw           0\n",
       " 4     atZ_olNKXOG4rEr6mccN8g  4.850504  08m1pM5keN0lx84c5Jyquw           0\n",
       " ...                      ...       ...                     ...         ...\n",
       " 1082  0Sa2hQnbS9hoRthHKOGepg  4.471302  08m1pM5keN0lx84c5Jyquw           0\n",
       " 1083  a6HKcQXYY2N6-VLsHHDttA  4.471042  08m1pM5keN0lx84c5Jyquw           0\n",
       " 1084  fK_Fd8-KmGV-ASIIjJwfdQ  4.471037  08m1pM5keN0lx84c5Jyquw           0\n",
       " 1085  fYnvhdWXgWit8DhDLPrSTQ  4.471029  08m1pM5keN0lx84c5Jyquw           0\n",
       " 1086  wD0OY5AYINSCyCflHgd7Ag  4.470970  08m1pM5keN0lx84c5Jyquw           0\n",
       " \n",
       " [1087 rows x 4 columns],\n",
       "                  business_id     score                 user_id  real_label\n",
       " 0     -fs09akgCKv5rTTy7iUHUg  4.836166  08wIbJCYDZoYdbkDAMAb3w           0\n",
       " 1     RFo876v_A63N2JfOTq1p-g  4.830798  08wIbJCYDZoYdbkDAMAb3w           0\n",
       " 2     o_N7HiU3f6cVvrJAFrE43A  4.808578  08wIbJCYDZoYdbkDAMAb3w           0\n",
       " 3     KTGEa8V9ec0QBYM_uk1YLQ  4.807245  08wIbJCYDZoYdbkDAMAb3w           0\n",
       " 4     zLm2PaYrpHkcr63ekwvtBQ  4.795238  08wIbJCYDZoYdbkDAMAb3w           0\n",
       " ...                      ...       ...                     ...         ...\n",
       " 1015  VJ2BIGD9Q-vyE960n-4-dA  4.301839  08wIbJCYDZoYdbkDAMAb3w           0\n",
       " 1016  kvb0a9FiFs9UXWxE6q-5DA  4.301810  08wIbJCYDZoYdbkDAMAb3w           0\n",
       " 1017  DXNKGOCVmFP5iU8owhK2Fw  4.301074  08wIbJCYDZoYdbkDAMAb3w           0\n",
       " 1018  aROWvF8ltWk6LLNO62haag  4.300865  08wIbJCYDZoYdbkDAMAb3w           0\n",
       " 1019  eFkCmMnax5xTtgBrbN5mcQ  4.300556  08wIbJCYDZoYdbkDAMAb3w           0\n",
       " \n",
       " [1020 rows x 4 columns]]"
      ]
     },
     "execution_count": 57,
     "metadata": {},
     "output_type": "execute_result"
    }
   ],
   "source": [
    "all_ranked_results"
   ]
  },
  {
   "cell_type": "code",
   "execution_count": 58,
   "id": "e084670e",
   "metadata": {},
   "outputs": [],
   "source": [
    "df_all_ranked = pd.concat(all_ranked_results, ignore_index=True)"
   ]
  },
  {
   "cell_type": "code",
   "execution_count": 59,
   "id": "f6c8991a",
   "metadata": {},
   "outputs": [
    {
     "data": {
      "text/html": [
       "<div>\n",
       "<style scoped>\n",
       "    .dataframe tbody tr th:only-of-type {\n",
       "        vertical-align: middle;\n",
       "    }\n",
       "\n",
       "    .dataframe tbody tr th {\n",
       "        vertical-align: top;\n",
       "    }\n",
       "\n",
       "    .dataframe thead th {\n",
       "        text-align: right;\n",
       "    }\n",
       "</style>\n",
       "<table border=\"1\" class=\"dataframe\">\n",
       "  <thead>\n",
       "    <tr style=\"text-align: right;\">\n",
       "      <th></th>\n",
       "      <th>business_id</th>\n",
       "      <th>score</th>\n",
       "      <th>user_id</th>\n",
       "      <th>real_label</th>\n",
       "    </tr>\n",
       "  </thead>\n",
       "  <tbody>\n",
       "    <tr>\n",
       "      <th>0</th>\n",
       "      <td>ytynqOUb3hjKeJfRj5Tshw</td>\n",
       "      <td>5.222930</td>\n",
       "      <td>--4AjktZiHowEIBCMd4CZA</td>\n",
       "      <td>0</td>\n",
       "    </tr>\n",
       "    <tr>\n",
       "      <th>1</th>\n",
       "      <td>-fs09akgCKv5rTTy7iUHUg</td>\n",
       "      <td>5.119537</td>\n",
       "      <td>--4AjktZiHowEIBCMd4CZA</td>\n",
       "      <td>0</td>\n",
       "    </tr>\n",
       "    <tr>\n",
       "      <th>2</th>\n",
       "      <td>TE2IEDNV0RcI6s1wTOP4fg</td>\n",
       "      <td>5.111618</td>\n",
       "      <td>--4AjktZiHowEIBCMd4CZA</td>\n",
       "      <td>0</td>\n",
       "    </tr>\n",
       "    <tr>\n",
       "      <th>3</th>\n",
       "      <td>KTGEa8V9ec0QBYM_uk1YLQ</td>\n",
       "      <td>5.106303</td>\n",
       "      <td>--4AjktZiHowEIBCMd4CZA</td>\n",
       "      <td>0</td>\n",
       "    </tr>\n",
       "    <tr>\n",
       "      <th>4</th>\n",
       "      <td>ctHjyadbDQAtUFfkcAFEHw</td>\n",
       "      <td>5.100107</td>\n",
       "      <td>--4AjktZiHowEIBCMd4CZA</td>\n",
       "      <td>0</td>\n",
       "    </tr>\n",
       "    <tr>\n",
       "      <th>...</th>\n",
       "      <td>...</td>\n",
       "      <td>...</td>\n",
       "      <td>...</td>\n",
       "      <td>...</td>\n",
       "    </tr>\n",
       "    <tr>\n",
       "      <th>554952</th>\n",
       "      <td>VJ2BIGD9Q-vyE960n-4-dA</td>\n",
       "      <td>4.301839</td>\n",
       "      <td>08wIbJCYDZoYdbkDAMAb3w</td>\n",
       "      <td>0</td>\n",
       "    </tr>\n",
       "    <tr>\n",
       "      <th>554953</th>\n",
       "      <td>kvb0a9FiFs9UXWxE6q-5DA</td>\n",
       "      <td>4.301810</td>\n",
       "      <td>08wIbJCYDZoYdbkDAMAb3w</td>\n",
       "      <td>0</td>\n",
       "    </tr>\n",
       "    <tr>\n",
       "      <th>554954</th>\n",
       "      <td>DXNKGOCVmFP5iU8owhK2Fw</td>\n",
       "      <td>4.301074</td>\n",
       "      <td>08wIbJCYDZoYdbkDAMAb3w</td>\n",
       "      <td>0</td>\n",
       "    </tr>\n",
       "    <tr>\n",
       "      <th>554955</th>\n",
       "      <td>aROWvF8ltWk6LLNO62haag</td>\n",
       "      <td>4.300865</td>\n",
       "      <td>08wIbJCYDZoYdbkDAMAb3w</td>\n",
       "      <td>0</td>\n",
       "    </tr>\n",
       "    <tr>\n",
       "      <th>554956</th>\n",
       "      <td>eFkCmMnax5xTtgBrbN5mcQ</td>\n",
       "      <td>4.300556</td>\n",
       "      <td>08wIbJCYDZoYdbkDAMAb3w</td>\n",
       "      <td>0</td>\n",
       "    </tr>\n",
       "  </tbody>\n",
       "</table>\n",
       "<p>554957 rows × 4 columns</p>\n",
       "</div>"
      ],
      "text/plain": [
       "                   business_id     score                 user_id  real_label\n",
       "0       ytynqOUb3hjKeJfRj5Tshw  5.222930  --4AjktZiHowEIBCMd4CZA           0\n",
       "1       -fs09akgCKv5rTTy7iUHUg  5.119537  --4AjktZiHowEIBCMd4CZA           0\n",
       "2       TE2IEDNV0RcI6s1wTOP4fg  5.111618  --4AjktZiHowEIBCMd4CZA           0\n",
       "3       KTGEa8V9ec0QBYM_uk1YLQ  5.106303  --4AjktZiHowEIBCMd4CZA           0\n",
       "4       ctHjyadbDQAtUFfkcAFEHw  5.100107  --4AjktZiHowEIBCMd4CZA           0\n",
       "...                        ...       ...                     ...         ...\n",
       "554952  VJ2BIGD9Q-vyE960n-4-dA  4.301839  08wIbJCYDZoYdbkDAMAb3w           0\n",
       "554953  kvb0a9FiFs9UXWxE6q-5DA  4.301810  08wIbJCYDZoYdbkDAMAb3w           0\n",
       "554954  DXNKGOCVmFP5iU8owhK2Fw  4.301074  08wIbJCYDZoYdbkDAMAb3w           0\n",
       "554955  aROWvF8ltWk6LLNO62haag  4.300865  08wIbJCYDZoYdbkDAMAb3w           0\n",
       "554956  eFkCmMnax5xTtgBrbN5mcQ  4.300556  08wIbJCYDZoYdbkDAMAb3w           0\n",
       "\n",
       "[554957 rows x 4 columns]"
      ]
     },
     "execution_count": 59,
     "metadata": {},
     "output_type": "execute_result"
    }
   ],
   "source": [
    "df_all_ranked"
   ]
  },
  {
   "cell_type": "code",
   "execution_count": 60,
   "id": "0c258d48",
   "metadata": {},
   "outputs": [],
   "source": [
    "df_all_ranked.to_csv('all_ranked_results.csv', index=False)"
   ]
  },
  {
   "cell_type": "code",
   "execution_count": null,
   "id": "b0eabef7",
   "metadata": {},
   "outputs": [],
   "source": []
  }
 ],
 "metadata": {
  "kernelspec": {
   "display_name": "content-recommendation-mCG3KVaj",
   "language": "python",
   "name": "python3"
  },
  "language_info": {
   "codemirror_mode": {
    "name": "ipython",
    "version": 3
   },
   "file_extension": ".py",
   "mimetype": "text/x-python",
   "name": "python",
   "nbconvert_exporter": "python",
   "pygments_lexer": "ipython3",
   "version": "3.11.4"
  }
 },
 "nbformat": 4,
 "nbformat_minor": 5
}
