{
 "cells": [
  {
   "cell_type": "markdown",
   "metadata": {},
   "source": [
    "### User-base Collaborative Filtering - Testing\n",
    "This notebook is used to simulate the performance of the user-based collaborative filtering algorithm in a retrieval setting and in a prediction setting. \n",
    "\n",
    "#### Pre-requisites\n",
    "- The model is trained and the index is created in the notebook `UserCF Model & Index_1002.ipynb`.\n",
    "- The index is saved in the file `yelp_UserCF.db` in the same directory as this notebook."
   ]
  },
  {
   "cell_type": "code",
   "execution_count": 1,
   "metadata": {},
   "outputs": [],
   "source": [
    "# Import utilities and dependencies\n",
    "import sys\n",
    "sys.path.append('../')\n",
    "from utilities import *\n",
    "import sqlite3\n",
    "import pandas as pd\n",
    "import pickle\n",
    "import numpy as np\n",
    "from sklearn.model_selection import train_test_split"
   ]
  },
  {
   "cell_type": "code",
   "execution_count": 2,
   "metadata": {},
   "outputs": [
    {
     "name": "stdout",
     "output_type": "stream",
     "text": [
      "Loaded 78059 rows from business table.\n",
      "Loaded 360656 rows from categories table.\n",
      "Loaded 980418 rows from review table.\n"
     ]
    }
   ],
   "source": [
    "# Load Yelp data\n",
    "db_folder = '../../data/processed_data/yelp_data/'\n",
    "data_files = ['business', 'categories', 'review']\n",
    "yelp_data = load_data_from_db(db_folder, data_files)\n",
    "for table, df in yelp_data.items():\n",
    "    print(f\"Loaded {len(df)} rows from {table} table.\")"
   ]
  },
  {
   "cell_type": "code",
   "execution_count": 3,
   "metadata": {},
   "outputs": [],
   "source": [
    "# Assign dataframes\n",
    "df_business = yelp_data[\"business\"]\n",
    "df_review = yelp_data[\"review\"]"
   ]
  },
  {
   "cell_type": "code",
   "execution_count": 4,
   "metadata": {},
   "outputs": [],
   "source": [
    "# Prepare user-business interaction data\n",
    "def get_user_business_with_time(df_business, df_review):\n",
    "    df_concat = df_business.merge(df_review, on='business_id', how='outer', suffixes=('_business', '_review'))\n",
    "    user_business = df_concat[[\"user_id\", \"business_id\", \"stars_review\"]]\n",
    "    user_mapping = {user: idx for idx, user in enumerate(user_business['user_id'].unique())}\n",
    "    business_mapping = {biz: idx for idx, biz in enumerate(user_business['business_id'].unique())}    \n",
    "    return user_mapping, business_mapping, user_business"
   ]
  },
  {
   "cell_type": "code",
   "execution_count": 5,
   "metadata": {},
   "outputs": [],
   "source": [
    "# Get mappings and interaction data\n",
    "user_mapping, business_mapping, user_business = get_user_business_with_time(df_business, df_review)"
   ]
  },
  {
   "cell_type": "code",
   "execution_count": 6,
   "metadata": {},
   "outputs": [],
   "source": [
    "# Split into train (80%) and test (20%)\n",
    "train_data, test_data = train_test_split(user_business, test_size=0.2, random_state=42)"
   ]
  },
  {
   "cell_type": "code",
   "execution_count": 7,
   "metadata": {},
   "outputs": [
    {
     "name": "stdout",
     "output_type": "stream",
     "text": [
      "Number of positive reviews: 136473\n",
      "Number of negative reviews: 59624\n",
      "Total number of reviews: 197147\n",
      "Ratio of positive to negative reviews: 2.29\n",
      "Number of positive reviews: 59624\n",
      "Number of negative reviews: 59624\n",
      "Total number of reviews: 119248\n",
      "Ratio of positive to negative reviews: 1.00\n"
     ]
    }
   ],
   "source": [
    "# Balance test data (50% positive)\n",
    "test_data = balance_test_data(test_data)\n",
    "test_data_grouped = test_data.groupby('user_id')['business_id'].apply(list).reset_index()"
   ]
  },
  {
   "cell_type": "code",
   "execution_count": 8,
   "metadata": {},
   "outputs": [],
   "source": [
    "# Connect to UserCF database\n",
    "db_path = './yelp_UserCF.db'\n",
    "conn = sqlite3.connect(db_path)"
   ]
  },
  {
   "cell_type": "markdown",
   "metadata": {},
   "source": [
    "### Retrieval Functions (adapted for UserCF 1002)"
   ]
  },
  {
   "cell_type": "code",
   "execution_count": 9,
   "metadata": {},
   "outputs": [],
   "source": [
    "# Retrieve user mapping from database\n",
    "def retrieve_user_mapping(conn):\n",
    "    cursor = conn.cursor()\n",
    "    cursor.execute('''SELECT user_id, user_idx FROM user_mapping''')\n",
    "    user_mapping = {row[0]: row[1] for row in cursor.fetchall()}\n",
    "    return user_mapping\n",
    "\n",
    "# Get businesses rated by a user\n",
    "def get_user_businesses(user_id, conn):\n",
    "    cursor = conn.cursor()\n",
    "    cursor.execute('''SELECT business_id, stars_review FROM user_item_index WHERE user_id = ?''', (user_id,))\n",
    "    return cursor.fetchall()\n",
    "\n",
    "# Get top-k similar users\n",
    "def get_top_k_similar_users(user_id, user_mapping, k, conn):\n",
    "    cursor = conn.cursor()\n",
    "    cursor.execute('''SELECT similarity_vector FROM user_user_similarity WHERE user_id = ?''', (user_id,))\n",
    "    result = cursor.fetchone()\n",
    "    if result is None:\n",
    "        return []\n",
    "    similarity_vector = pickle.loads(result[0])\n",
    "    indices, data = similarity_vector\n",
    "    top_k = sorted(zip(indices, data), key=lambda x: -x[1])[:k]\n",
    "    idx_to_user = {v: k for k, v in user_mapping.items()}\n",
    "    similar_users = [(idx_to_user.get(idx, \"Unknown\"), score) for idx, score in top_k]\n",
    "    return similar_users\n",
    "\n",
    "# Predict user interests for recommendation\n",
    "def predict_user_interests_usercf(user_id, user_mapping, conn, k=300):\n",
    "    similar_users = get_top_k_similar_users(user_id, user_mapping, k, conn)\n",
    "    recommended_businesses = {}\n",
    "    for similar_user_id, similarity_score in similar_users:\n",
    "        if similar_user_id == \"Unknown\":\n",
    "            continue\n",
    "        similar_user_businesses = get_user_businesses(similar_user_id, conn)\n",
    "        for business_id, score in similar_user_businesses:\n",
    "            if business_id in recommended_businesses:\n",
    "                recommended_businesses[business_id] += score * similarity_score\n",
    "            else:\n",
    "                recommended_businesses[business_id] = score * similarity_score\n",
    "    recommended_businesses = sorted(recommended_businesses.items(), key=lambda x: -x[1])\n",
    "    return recommended_businesses[:k]\n",
    "\n",
    "# Simulate recommendations for test users\n",
    "def simulate_recommendations_usercf(test_data_grouped, user_mapping, business_mapping, conn, k=300, num_users=1000):\n",
    "    recommendations = {}\n",
    "    for i, user_id in enumerate(test_data_grouped['user_id']):\n",
    "        if i >= num_users:\n",
    "            break\n",
    "        recommendation = predict_user_interests_usercf(user_id, user_mapping, conn, k)\n",
    "        business_ids, scores = zip(*recommendation) if recommendation else ([], [])\n",
    "        recommendations[user_id] = (list(business_ids), list(scores))\n",
    "    return recommendations"
   ]
  },
  {
   "cell_type": "code",
   "execution_count": 10,
   "metadata": {},
   "outputs": [],
   "source": [
    "user_mapping = retrieve_user_mapping(conn)\n",
    "retrieval_recommendations = simulate_recommendations_usercf(test_data_grouped, user_mapping, business_mapping, conn, k=300, num_users=1000)\n",
    "true_positive, true_negative, false_positive, false_negative, total, total_positive, ranks = check_retrieval_recommendations(retrieval_recommendations, test_data, test_data_grouped)\n",
    "evaluation_metric, confusion_matrix, background_stats = compute_evaluation_metric(true_positive, true_negative, false_positive, false_negative, total, total_positive, ranks)"
   ]
  },
  {
   "cell_type": "code",
   "execution_count": 11,
   "metadata": {},
   "outputs": [
    {
     "name": "stdout",
     "output_type": "stream",
     "text": [
      "Testing Data Statistics\n"
     ]
    },
    {
     "data": {
      "text/html": [
       "<div>\n",
       "<style scoped>\n",
       "    .dataframe tbody tr th:only-of-type {\n",
       "        vertical-align: middle;\n",
       "    }\n",
       "\n",
       "    .dataframe tbody tr th {\n",
       "        vertical-align: top;\n",
       "    }\n",
       "\n",
       "    .dataframe thead th {\n",
       "        text-align: right;\n",
       "    }\n",
       "</style>\n",
       "<table border=\"1\" class=\"dataframe\">\n",
       "  <thead>\n",
       "    <tr style=\"text-align: right;\">\n",
       "      <th></th>\n",
       "      <th>Total Positive</th>\n",
       "      <th>Total Negative</th>\n",
       "      <th>Total</th>\n",
       "      <th>Ratio</th>\n",
       "    </tr>\n",
       "  </thead>\n",
       "  <tbody>\n",
       "    <tr>\n",
       "      <th>0</th>\n",
       "      <td>1045</td>\n",
       "      <td>1083</td>\n",
       "      <td>2128</td>\n",
       "      <td>0.491071</td>\n",
       "    </tr>\n",
       "  </tbody>\n",
       "</table>\n",
       "</div>"
      ],
      "text/plain": [
       "   Total Positive  Total Negative  Total     Ratio\n",
       "0            1045            1083   2128  0.491071"
      ]
     },
     "metadata": {},
     "output_type": "display_data"
    },
    {
     "name": "stdout",
     "output_type": "stream",
     "text": [
      "Retrieval Evaluation Metrics\n"
     ]
    },
    {
     "data": {
      "text/html": [
       "<div>\n",
       "<style scoped>\n",
       "    .dataframe tbody tr th:only-of-type {\n",
       "        vertical-align: middle;\n",
       "    }\n",
       "\n",
       "    .dataframe tbody tr th {\n",
       "        vertical-align: top;\n",
       "    }\n",
       "\n",
       "    .dataframe thead th {\n",
       "        text-align: right;\n",
       "    }\n",
       "</style>\n",
       "<table border=\"1\" class=\"dataframe\">\n",
       "  <thead>\n",
       "    <tr style=\"text-align: right;\">\n",
       "      <th></th>\n",
       "      <th>Accuracy</th>\n",
       "      <th>Precision</th>\n",
       "      <th>Recall</th>\n",
       "      <th>F1 Score</th>\n",
       "      <th>F-beta Score</th>\n",
       "      <th>Mean Reciprocal Rank</th>\n",
       "    </tr>\n",
       "  </thead>\n",
       "  <tbody>\n",
       "    <tr>\n",
       "      <th>0</th>\n",
       "      <td>0.5296</td>\n",
       "      <td>0.5462</td>\n",
       "      <td>0.2488</td>\n",
       "      <td>0.3419</td>\n",
       "      <td>0.2792</td>\n",
       "      <td>0.0562</td>\n",
       "    </tr>\n",
       "  </tbody>\n",
       "</table>\n",
       "</div>"
      ],
      "text/plain": [
       "   Accuracy  Precision  Recall  F1 Score  F-beta Score  Mean Reciprocal Rank\n",
       "0    0.5296     0.5462  0.2488    0.3419        0.2792                0.0562"
      ]
     },
     "metadata": {},
     "output_type": "display_data"
    },
    {
     "name": "stdout",
     "output_type": "stream",
     "text": [
      "Retrieval Confusion Matrix\n"
     ]
    },
    {
     "data": {
      "text/html": [
       "<div>\n",
       "<style scoped>\n",
       "    .dataframe tbody tr th:only-of-type {\n",
       "        vertical-align: middle;\n",
       "    }\n",
       "\n",
       "    .dataframe tbody tr th {\n",
       "        vertical-align: top;\n",
       "    }\n",
       "\n",
       "    .dataframe thead th {\n",
       "        text-align: right;\n",
       "    }\n",
       "</style>\n",
       "<table border=\"1\" class=\"dataframe\">\n",
       "  <thead>\n",
       "    <tr style=\"text-align: right;\">\n",
       "      <th></th>\n",
       "      <th>True Positive</th>\n",
       "      <th>True Negative</th>\n",
       "      <th>False Positive</th>\n",
       "      <th>False Negative</th>\n",
       "    </tr>\n",
       "  </thead>\n",
       "  <tbody>\n",
       "    <tr>\n",
       "      <th>0</th>\n",
       "      <td>260</td>\n",
       "      <td>867</td>\n",
       "      <td>216</td>\n",
       "      <td>785</td>\n",
       "    </tr>\n",
       "  </tbody>\n",
       "</table>\n",
       "</div>"
      ],
      "text/plain": [
       "   True Positive  True Negative  False Positive  False Negative\n",
       "0            260            867             216             785"
      ]
     },
     "metadata": {},
     "output_type": "display_data"
    }
   ],
   "source": [
    "print(\"Testing Data Statistics\")\n",
    "display(background_stats)\n",
    "print(\"Retrieval Evaluation Metrics\")\n",
    "display(evaluation_metric)\n",
    "print(\"Retrieval Confusion Matrix\")\n",
    "display(confusion_matrix)"
   ]
  },
  {
   "cell_type": "markdown",
   "metadata": {},
   "source": [
    "### Prediction Functions"
   ]
  },
  {
   "cell_type": "code",
   "execution_count": 12,
   "metadata": {},
   "outputs": [],
   "source": [
    "# Predict rating for a specific business (mirroring ItemCF)\n",
    "def get_business_interest_usercf(user_id, business_id, user_mapping, conn, k=100):\n",
    "    user_businesses = get_user_businesses(user_id, conn)\n",
    "    if not user_businesses:\n",
    "        return 0  # Match ItemCF: no interactions\n",
    "    similar_users = get_top_k_similar_users(user_id, user_mapping, k, conn)\n",
    "    if not similar_users:\n",
    "        return -1  # Match ItemCF: no similar entities\n",
    "    weighted_sum = 0.0\n",
    "    similarity_sum = 0.0\n",
    "    for similar_user_id, similarity in similar_users:\n",
    "        if similar_user_id == \"Unknown\":\n",
    "            continue\n",
    "        cursor = conn.cursor()\n",
    "        cursor.execute('SELECT stars_review FROM user_item_index WHERE user_id = ? AND business_id = ?', \n",
    "                       (similar_user_id, business_id))\n",
    "        result = cursor.fetchone()\n",
    "        if result:\n",
    "            rating = result[0]\n",
    "            weighted_sum += similarity * rating\n",
    "            similarity_sum += similarity\n",
    "    if similarity_sum == 0:\n",
    "        return -1  # Match ItemCF: no ratings from similar users\n",
    "    return weighted_sum / similarity_sum"
   ]
  },
  {
   "cell_type": "code",
   "execution_count": 13,
   "metadata": {},
   "outputs": [],
   "source": [
    "# Predict ratings for test pairs (identical to ItemCF structure)\n",
    "def predict_recommendations_usercf(test_data, test_data_grouped, user_mapping, conn, pos=4):\n",
    "    predicted_labels = []\n",
    "    actual_labels = []\n",
    "    unrated_count = 0\n",
    "    positive_count = 0\n",
    "    negative_count = 0\n",
    "    null_count = 0\n",
    "    k = min(1000, len(test_data_grouped))\n",
    "    test_data_dict = {\n",
    "        (row['user_id'], row['business_id']): row['stars_review']\n",
    "        for _, row in test_data.iterrows()\n",
    "    }\n",
    "    for i in range(k):\n",
    "        user_id = test_data_grouped['user_id'].iloc[i]\n",
    "        business_ids = test_data_grouped['business_id'].iloc[i]\n",
    "        for business_id in business_ids:\n",
    "            predicted_rating = get_business_interest_usercf(user_id, business_id, user_mapping, conn, k=100)\n",
    "            actual_rating = test_data_dict.get((user_id, business_id), None)\n",
    "            if actual_rating is None:\n",
    "                null_count += 1\n",
    "            else:\n",
    "                if actual_rating >= pos:\n",
    "                    positive_count += 1\n",
    "                else:\n",
    "                    negative_count += 1\n",
    "            if actual_rating is None or predicted_rating == -1:\n",
    "                unrated_count += 1\n",
    "                continue\n",
    "            predicted_labels.append(predicted_rating >= pos)\n",
    "            actual_labels.append(actual_rating >= pos)\n",
    "    predicted_labels = np.array(predicted_labels, dtype=np.int8)\n",
    "    actual_labels = np.array(actual_labels, dtype=np.int8)\n",
    "    return predicted_labels, actual_labels, positive_count, negative_count, null_count, unrated_count"
   ]
  },
  {
   "cell_type": "code",
   "execution_count": 14,
   "metadata": {},
   "outputs": [],
   "source": [
    "# Evaluate prediction\n",
    "predicted_labels, actual_labels, positive_count, negative_count, null_count, unrated_count = predict_recommendations_usercf(test_data, test_data_grouped, user_mapping, conn)\n",
    "prediction_lst = [positive_count, negative_count, unrated_count]\n",
    "evaluation_metric, confusion_matrix, background_stats = compute_prediction_evaluation(actual_labels, predicted_labels, prediction_lst, beta=2)"
   ]
  },
  {
   "cell_type": "code",
   "execution_count": 15,
   "metadata": {},
   "outputs": [
    {
     "name": "stdout",
     "output_type": "stream",
     "text": [
      "Testing Data Statistics\n"
     ]
    },
    {
     "data": {
      "text/html": [
       "<div>\n",
       "<style scoped>\n",
       "    .dataframe tbody tr th:only-of-type {\n",
       "        vertical-align: middle;\n",
       "    }\n",
       "\n",
       "    .dataframe tbody tr th {\n",
       "        vertical-align: top;\n",
       "    }\n",
       "\n",
       "    .dataframe thead th {\n",
       "        text-align: right;\n",
       "    }\n",
       "</style>\n",
       "<table border=\"1\" class=\"dataframe\">\n",
       "  <thead>\n",
       "    <tr style=\"text-align: right;\">\n",
       "      <th></th>\n",
       "      <th>Total Positive</th>\n",
       "      <th>Total Negative</th>\n",
       "      <th>Total</th>\n",
       "      <th>Ratio</th>\n",
       "    </tr>\n",
       "  </thead>\n",
       "  <tbody>\n",
       "    <tr>\n",
       "      <th>0</th>\n",
       "      <td>1043</td>\n",
       "      <td>1085</td>\n",
       "      <td>2128</td>\n",
       "      <td>0.490132</td>\n",
       "    </tr>\n",
       "  </tbody>\n",
       "</table>\n",
       "</div>"
      ],
      "text/plain": [
       "   Total Positive  Total Negative  Total     Ratio\n",
       "0            1043            1085   2128  0.490132"
      ]
     },
     "metadata": {},
     "output_type": "display_data"
    },
    {
     "name": "stdout",
     "output_type": "stream",
     "text": [
      "Prediction Evaluation Metrics\n"
     ]
    },
    {
     "data": {
      "text/html": [
       "<div>\n",
       "<style scoped>\n",
       "    .dataframe tbody tr th:only-of-type {\n",
       "        vertical-align: middle;\n",
       "    }\n",
       "\n",
       "    .dataframe tbody tr th {\n",
       "        vertical-align: top;\n",
       "    }\n",
       "\n",
       "    .dataframe thead th {\n",
       "        text-align: right;\n",
       "    }\n",
       "</style>\n",
       "<table border=\"1\" class=\"dataframe\">\n",
       "  <thead>\n",
       "    <tr style=\"text-align: right;\">\n",
       "      <th></th>\n",
       "      <th>Accuracy</th>\n",
       "      <th>Precision</th>\n",
       "      <th>Recall</th>\n",
       "      <th>F1 Score</th>\n",
       "      <th>F-beta Score</th>\n",
       "      <th>Unrated Count</th>\n",
       "    </tr>\n",
       "  </thead>\n",
       "  <tbody>\n",
       "    <tr>\n",
       "      <th>0</th>\n",
       "      <td>0.5596</td>\n",
       "      <td>0.5691</td>\n",
       "      <td>0.371039</td>\n",
       "      <td>0.449206</td>\n",
       "      <td>0.398797</td>\n",
       "      <td>0.432331</td>\n",
       "    </tr>\n",
       "  </tbody>\n",
       "</table>\n",
       "</div>"
      ],
      "text/plain": [
       "   Accuracy  Precision    Recall  F1 Score  F-beta Score  Unrated Count\n",
       "0    0.5596     0.5691  0.371039  0.449206      0.398797       0.432331"
      ]
     },
     "metadata": {},
     "output_type": "display_data"
    },
    {
     "name": "stdout",
     "output_type": "stream",
     "text": [
      "Prediction Confusion Matrix\n"
     ]
    },
    {
     "data": {
      "text/html": [
       "<div>\n",
       "<style scoped>\n",
       "    .dataframe tbody tr th:only-of-type {\n",
       "        vertical-align: middle;\n",
       "    }\n",
       "\n",
       "    .dataframe tbody tr th {\n",
       "        vertical-align: top;\n",
       "    }\n",
       "\n",
       "    .dataframe thead th {\n",
       "        text-align: right;\n",
       "    }\n",
       "</style>\n",
       "<table border=\"1\" class=\"dataframe\">\n",
       "  <thead>\n",
       "    <tr style=\"text-align: right;\">\n",
       "      <th></th>\n",
       "      <th>True Positive</th>\n",
       "      <th>True Negative</th>\n",
       "      <th>False Positive</th>\n",
       "      <th>False Negative</th>\n",
       "    </tr>\n",
       "  </thead>\n",
       "  <tbody>\n",
       "    <tr>\n",
       "      <th>0</th>\n",
       "      <td>387</td>\n",
       "      <td>289</td>\n",
       "      <td>293</td>\n",
       "      <td>239</td>\n",
       "    </tr>\n",
       "  </tbody>\n",
       "</table>\n",
       "</div>"
      ],
      "text/plain": [
       "   True Positive  True Negative  False Positive  False Negative\n",
       "0            387            289             293             239"
      ]
     },
     "metadata": {},
     "output_type": "display_data"
    }
   ],
   "source": [
    "print(\"Testing Data Statistics\")\n",
    "display(background_stats)\n",
    "if 'Mean Reciprocal Rank' in evaluation_metric.columns:\n",
    "    evaluation_metric.drop(columns=['Mean Reciprocal Rank'], inplace=True)\n",
    "print(\"Prediction Evaluation Metrics\")\n",
    "display(evaluation_metric)\n",
    "print(\"Prediction Confusion Matrix\")\n",
    "display(confusion_matrix)"
   ]
  },
  {
   "cell_type": "code",
   "execution_count": 16,
   "metadata": {},
   "outputs": [],
   "source": [
    "# Close the database connection\n",
    "conn.close()"
   ]
  },
  {
   "cell_type": "code",
   "execution_count": null,
   "metadata": {},
   "outputs": [],
   "source": []
  }
 ],
 "metadata": {
  "kernelspec": {
   "display_name": "content-recommendation-HkY1UuQH",
   "language": "python",
   "name": "python3"
  },
  "language_info": {
   "codemirror_mode": {
    "name": "ipython",
    "version": 3
   },
   "file_extension": ".py",
   "mimetype": "text/x-python",
   "name": "python",
   "nbconvert_exporter": "python",
   "pygments_lexer": "ipython3",
   "version": "3.11.9"
  }
 },
 "nbformat": 4,
 "nbformat_minor": 2
}
