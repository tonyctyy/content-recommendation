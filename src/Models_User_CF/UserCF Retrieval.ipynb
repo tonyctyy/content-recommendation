{
 "cells": [
  {
   "cell_type": "markdown",
   "metadata": {},
   "source": [
    "### User-base Collaborative Filtering - Retrieval\n",
    "This notebook demonstrates how to retrieve the recommendations for a user using the Item-based Collaborative Filtering model in production. \n",
    "\n",
    "#### Pre-requisites\n",
    "1. Have the index trained and saved in the `yelp_UserCF.db` file."
   ]
  },
  {
   "cell_type": "code",
   "execution_count": 1,
   "metadata": {},
   "outputs": [],
   "source": [
    "import sqlite3\n",
    "import pickle"
   ]
  },
  {
   "cell_type": "code",
   "execution_count": 2,
   "metadata": {},
   "outputs": [],
   "source": [
    "# Connect to the SQLite database\n",
    "db_path = './yelp_UserCF.db'\n",
    "conn = sqlite3.connect(db_path)"
   ]
  },
  {
   "cell_type": "code",
   "execution_count": 3,
   "metadata": {},
   "outputs": [],
   "source": [
    "# Function to retrieve user-business mappings from the database\n",
    "def retrieve_user_user_mapping(conn):\n",
    "    cursor = conn.cursor()\n",
    "\n",
    "    # Fetch user mappings\n",
    "    cursor.execute('''SELECT user_id, user_idx FROM user_mapping''')\n",
    "    user_mapping = {row[0]: row[1] for row in cursor.fetchall()}\n",
    "\n",
    "    return user_mapping"
   ]
  },
  {
   "cell_type": "code",
   "execution_count": 4,
   "metadata": {},
   "outputs": [],
   "source": [
    "# Retrieve the user-business mappings\n",
    "user_mapping = retrieve_user_user_mapping(conn)"
   ]
  },
  {
   "cell_type": "code",
   "execution_count": 5,
   "metadata": {},
   "outputs": [],
   "source": [
    "# Function to get businesses a user interacted with\n",
    "def get_user_businesses(user_id, conn):\n",
    "    cursor = conn.cursor()\n",
    "    cursor.execute('''SELECT business_id, stars_review FROM user_item_index WHERE user_id = ?''', (user_id,))\n",
    "    return cursor.fetchall()"
   ]
  },
  {
   "cell_type": "code",
   "execution_count": 6,
   "metadata": {},
   "outputs": [],
   "source": [
    "# Function to get top-k similar users for a given user\n",
    "def get_top_k_similar_users(user_id, k, conn):\n",
    "    cursor = conn.cursor()\n",
    "    cursor.execute('''SELECT similarity_vector FROM user_user_similarity WHERE user_id = ?''', (user_id,))\n",
    "    result = cursor.fetchone()\n",
    "\n",
    "    if result is None:\n",
    "        return []\n",
    "\n",
    "    similarity_vector = pickle.loads(result[0])\n",
    "    indices, data = similarity_vector\n",
    "\n",
    "    # Get top-k similar users\n",
    "    top_k = sorted(zip(indices, data), key=lambda x: -x[1])[:k]\n",
    "\n",
    "    # Map indices to user ids\n",
    "    similar_users = [(list(user_mapping.keys())[idx], score) for idx, score in top_k]\n",
    "\n",
    "    return similar_users"
   ]
  },
  {
   "cell_type": "code",
   "execution_count": 7,
   "metadata": {},
   "outputs": [],
   "source": [
    "# Function to predict user interests based on similar users\n",
    "def predict_user_interests_usercf(user_id, k=10, conn=conn):\n",
    "    # Get top-k similar users\n",
    "    similar_users = get_top_k_similar_users(user_id, k, conn)\n",
    "\n",
    "    recommended_businesses = {}\n",
    "    \n",
    "    # For each similar user, get their business interactions\n",
    "    for similar_user_id, _ in similar_users:\n",
    "        similar_user_businesses = get_user_businesses(similar_user_id, conn)\n",
    "\n",
    "        for business_id, score in similar_user_businesses:\n",
    "            if business_id in recommended_businesses:\n",
    "                recommended_businesses[business_id] += score\n",
    "            else:\n",
    "                recommended_businesses[business_id] = score\n",
    "\n",
    "    # Sort recommendations by score\n",
    "    recommended_businesses = sorted(recommended_businesses.items(), key=lambda x: -x[1])\n",
    "\n",
    "    return recommended_businesses[:k]"
   ]
  },
  {
   "cell_type": "code",
   "execution_count": null,
   "metadata": {},
   "outputs": [],
   "source": []
  },
  {
   "cell_type": "code",
   "execution_count": 8,
   "metadata": {},
   "outputs": [
    {
     "name": "stdout",
     "output_type": "stream",
     "text": [
      "Recommendations for user razUB7ciYZluvxWM6shmtw: [('neiMxOk7V4Zgq5zsvuWTaQ', 10.0), ('KIjOP0a4gTe-zRdnVCgsGA', 10.0), ('tYqIKRQjDCywDVkbfUGSug', 10.0), ('wpQojdbIpedF8a1PNokytQ', 10.0), ('qlt0aeVnh4B3X5mUeEUtnQ', 9.0), ('297f-8AdTbu-wwVedvac6w', 9.0), ('jF3RPKNsdcb4657pNRbGxQ', 9.0), ('kkcQYuF3w5iHnHMf0EnRhQ', 9.0), ('rDh6j39BYX4IL9RSZDGs2A', 9.0), ('nwVZnjRDhUrFo1kGahLIZQ', 8.0)]\n",
      "Recommendations for user 3YhG4h4Ok654iVfqdmkuRg: [('VXPpzhD7mA262gIv1T0WPQ', 19.0), ('f9_TLVlUHBv0869CygEbZg', 17.0), ('Eq5w0ZAW0PV30nNkJxJY_A', 13.0), ('HCUSKJ9NUkISn31O8Jgj_w', 12.0), ('GYgJtmk1v06FJesYYjrDww', 12.0), ('PVDh-6ge94GefpNfXzsSGw', 11.0), ('2fTfpN5SggLgW4LlzptMPg', 10.0), ('mMnkbIMG9MUW-rb5a5Q8Og', 10.0), ('4-HJQtuLSQ0olOxfGjwG5A', 10.0), ('Esf3-D_44pArPd9GqysoCg', 10.0)]\n",
      "Recommendations for user VyC2fG4dcMG07nrxh4jLnw: [('NnlXgLZ93KPj1wYSiqjyIg', 17.0), ('j4KA-BujEH7xmG6bD5E-gQ', 14.0), ('l4IeGBHXV2E8S8COd9rx9A', 13.0), ('-B6XL-ZWsVHlAQyYcd3eEg', 10.0), ('0IG9w6YCkh-z5pnfSip6Nw', 9.0), ('Ml3En7rz_WHanOAq0OPkMQ', 9.0), ('VXPpzhD7mA262gIv1T0WPQ', 9.0), ('X6ZkbbAwCcz-ML1iihsszw', 9.0), ('fxV5Iv7goPEUz-AReRLxkw', 9.0), ('jVPzcDZHP8Vz32tInYbzLw', 8.0)]\n",
      "Recommendations for user Q5jOFJYhIsN8ouJ1rnsLQQ: [('PjTPue4TRCVLjf2wPxSAaQ', 20.0), ('pPFv6CTFK5i8FNj8f3_pVg', 18.0), ('HK8VCqWyo1Rxw_2KTCn2Og', 16.0), ('PgtzpG1aD90QQFze8kX30A', 14.0), ('fM6XQeGW70a4EFbjqAAy3Q', 14.0), ('ZUPnWlLgqnU1PVtF6Q9-HQ', 13.0), ('L0aY9-xBlD0-yWpn1YoSqA', 12.0), ('XjST6nGKZ7K_Sb6wKfCPDw', 12.0), ('l7BqVlZJoVM--KKj_1gx0Q', 12.0), ('jEvoDXtF3xMJsiPPbqGSmw', 12.0)]\n",
      "Recommendations for user gdcRlubKDmslUYFPHUp1Cg: [('qb28j-FNX1_6xm7u372TZA', 25.0), ('BjeHLwKOlHyV6DJgmZxAjA', 14.0), ('gC8i-lxwvGhVpOXM5eYdtA', 13.0), ('0UJqTczta018RoktahC0jw', 9.0), ('M6UY37swcMY0JplqHGHAuA', 9.0), ('N1GYsCd5QAchGOCeQ37J9g', 9.0), ('c3Vq3UHsKBpX3x8DBPJCJg', 9.0), ('f64wvgLjQZEhSck9iYptSw', 9.0), ('sMhdwnrxQd8NWPCxLKqG2A', 9.0), ('0ZeGH15LV98FuijA1XrWoA', 8.0)]\n",
      "Recommendations for user CNeaJDD_ZihiafOvSGSpPw: [('N1GYsCd5QAchGOCeQ37J9g', 24.0), ('bzjOYERJv5YwW6Q8lUBcJw', 24.0), ('-VlBFlHwX-Pt6Xyzs9roGw', 18.0), ('mhrW9O0O5hXGXGnEYBVoag', 14.0), ('nglmDG6iOIgL2o5Ue3jecg', 14.0), ('xA6daGPW81vmyg9iRFEGbA', 12.0), ('gC8i-lxwvGhVpOXM5eYdtA', 10.0), ('82_lGisVlstS_ojKZw9qNw', 10.0), ('d9OTctJEITa5DmAvWpKfoA', 10.0), ('ndVzILWR-DJXpfOlHm556A', 10.0)]\n",
      "Recommendations for user TItDMAEw7_6Nge38jJPspA: [('c3gwn7_ukRwGGIghHLi-UA', 43.0), ('So5ynsJSVB1qaDek1oXvXg', 6.0), ('--8IbOsAAxjKRoYsBFL-PA', 5.0), ('N1GYsCd5QAchGOCeQ37J9g', 5.0), ('QGiqgftSC238v9qWdVtspg', 5.0), ('V1XS9HMe9bzEuW4RZFycBA', 5.0), ('bzjOYERJv5YwW6Q8lUBcJw', 5.0), ('d9OTctJEITa5DmAvWpKfoA', 5.0), ('irb10lZALGqZr3x5-9zCZQ', 5.0), ('joxy9N8aJv3_6h0aaYuTzA', 5.0)]\n",
      "Recommendations for user zxyKewY6p0CjnFprEutaog: [('iQp3QlP4iynGTXgFqpZ7Gg', 21.0), ('iJJdgwK4wrX8-PjKZzOEvQ', 17.0), ('GM6j5hDNqra0pVfTcpTMMw', 17.0), ('BCc22qCuePzF3j2AVvrkxg', 14.0), ('PupRtvjjZJcLzIlkMw3hpA', 14.0), ('7-phzLGvYk5BLzs-3r5voQ', 14.0), ('EmJF-xSIOaEEOWcK8UOBqg', 13.0), ('ECOUuwE5H1HHE8xBfNAjFg', 12.0), ('UH1Baremef79qGhPQ0Ef3A', 12.0), ('54XgUhaR0kDqw8bgbAEAtg', 12.0)]\n",
      "Recommendations for user IsdzdZEH9uHTnwX3acqhtg: [('C5ZOzlslhMxRJDjBDV3KoQ', 32.0), ('c_4c5rJECZSfNgFj7frwHQ', 27.0), ('dO7gWzCuW9ULb7P4Qd9SdQ', 20.0), ('j4KA-BujEH7xmG6bD5E-gQ', 15.0), ('6KIRlWAwkszRCu4WoMvQzQ', 15.0), ('9cu2p2Z925hHkWHVyrp1JQ', 14.0), ('mgpCGxAMyHmyeGKorXefvg', 14.0), ('FuwM02obw0PhqNdZVE6ugg', 14.0), ('H5Rk-aunuEzGANXCBu-NPQ', 13.0), ('q_Fz0dpY2n8TMESpn5KnhQ', 13.0)]\n",
      "Recommendations for user AC-oO5luq3enSNFDYAVKJA: [('U4X-tzwvTzW8uWxs2KIPtg', 43.0), ('lo3zYtvPB6-iVok2C7HsGw', 5.0), ('qb28j-FNX1_6xm7u372TZA', 5.0), ('5FZWwOwiq1d04O5-oENxng', 5.0), ('6Ty-KKWq6hLZYW8DWEHYvg', 5.0), ('C5ZOzlslhMxRJDjBDV3KoQ', 5.0), ('FlrkiVnHN8K37q9WzJi_ug', 5.0), ('UwI-vRH7Mu6PmsPR67MXyw', 5.0), ('YKFGSDwaJx1qNYoNf3BarA', 5.0), ('_zzNQl6ImFw_B64cSdaoGA', 5.0)]\n"
     ]
    }
   ],
   "source": [
    "# Get the top 10 users in the database\n",
    "# user_ids = list(user_mapping.keys())[:10]\n",
    "\n",
    "user_ids = ['razUB7ciYZluvxWM6shmtw', '3YhG4h4Ok654iVfqdmkuRg', 'VyC2fG4dcMG07nrxh4jLnw', 'Q5jOFJYhIsN8ouJ1rnsLQQ', 'gdcRlubKDmslUYFPHUp1Cg', 'CNeaJDD_ZihiafOvSGSpPw', 'TItDMAEw7_6Nge38jJPspA', 'zxyKewY6p0CjnFprEutaog', 'IsdzdZEH9uHTnwX3acqhtg', 'AC-oO5luq3enSNFDYAVKJA']\n",
    "\n",
    "for user_id in user_ids:\n",
    "    recommendations = predict_user_interests_usercf(user_id, k=10, conn=conn)\n",
    "    print(f\"Recommendations for user {user_id}: {recommendations}\")\n",
    "\n",
    "# Close the database connection when done\n",
    "conn.close()"
   ]
  },
  {
   "cell_type": "code",
   "execution_count": null,
   "metadata": {},
   "outputs": [],
   "source": []
  }
 ],
 "metadata": {
  "kernelspec": {
   "display_name": "content-recommendation-HkY1UuQH",
   "language": "python",
   "name": "python3"
  },
  "language_info": {
   "codemirror_mode": {
    "name": "ipython",
    "version": 3
   },
   "file_extension": ".py",
   "mimetype": "text/x-python",
   "name": "python",
   "nbconvert_exporter": "python",
   "pygments_lexer": "ipython3",
   "version": "3.11.9"
  }
 },
 "nbformat": 4,
 "nbformat_minor": 2
}
