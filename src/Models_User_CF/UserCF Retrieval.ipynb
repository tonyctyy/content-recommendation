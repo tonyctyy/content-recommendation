{
 "cells": [
  {
   "cell_type": "markdown",
   "metadata": {},
   "source": [
    "### User-base Collaborative Filtering - Retrieval\n",
    "This notebook demonstrates how to retrieve the recommendations for a user using the Item-based Collaborative Filtering model in production. \n",
    "\n",
    "#### Pre-requisites\n",
    "1. Have the index trained and saved in the `yelp_UserCF.db` file."
   ]
  },
  {
   "cell_type": "code",
   "execution_count": 1,
   "metadata": {},
   "outputs": [],
   "source": [
    "import sqlite3\n",
    "import pickle\n",
    "import sys\n",
    "sys.path.append('../')\n",
    "from utilities import *\n",
    "from sklearn.model_selection import train_test_split"
   ]
  },
  {
   "cell_type": "code",
   "execution_count": 2,
   "metadata": {},
   "outputs": [],
   "source": [
    "# Connect to the SQLite database\n",
    "db_path = './yelp_UserCF.db'\n",
    "conn = sqlite3.connect(db_path)"
   ]
  },
  {
   "cell_type": "code",
   "execution_count": 3,
   "metadata": {},
   "outputs": [
    {
     "name": "stdout",
     "output_type": "stream",
     "text": [
      "User mappings: 162083\n",
      "Similarity vectors: 162083\n",
      "User-item records: 785955\n"
     ]
    }
   ],
   "source": [
    "# Database consistency check\n",
    "cursor = conn.cursor()\n",
    "cursor.execute(\"SELECT COUNT(*) FROM user_mapping\")\n",
    "print(f\"User mappings: {cursor.fetchone()[0]}\")\n",
    "cursor.execute(\"SELECT COUNT(*) FROM user_user_similarity\")\n",
    "print(f\"Similarity vectors: {cursor.fetchone()[0]}\")\n",
    "cursor.execute(\"SELECT COUNT(*) FROM user_item_index\")\n",
    "print(f\"User-item records: {cursor.fetchone()[0]}\")"
   ]
  },
  {
   "cell_type": "code",
   "execution_count": 4,
   "metadata": {},
   "outputs": [],
   "source": [
    "# Load test data for overlap check\n",
    "yelp_data = load_data_from_db('../../data/processed_data/yelp_data/', ['business', 'review'])\n",
    "_, _, user_business = get_user_business(yelp_data['business'], yelp_data['review'])\n",
    "train_data, test_data = train_test_split(user_business, test_size=0.2, random_state=42)\n",
    "test_businesses = set(test_data['business_id'])"
   ]
  },
  {
   "cell_type": "code",
   "execution_count": 5,
   "metadata": {},
   "outputs": [],
   "source": [
    "# Function to retrieve user-business mappings from the database\n",
    "def retrieve_user_user_mapping(conn):\n",
    "    cursor = conn.cursor()\n",
    "\n",
    "    # Fetch user mappings\n",
    "    cursor.execute('''SELECT user_id, user_idx FROM user_mapping''')\n",
    "    user_mapping = {row[0]: row[1] for row in cursor.fetchall()}\n",
    "\n",
    "    return user_mapping"
   ]
  },
  {
   "cell_type": "code",
   "execution_count": 6,
   "metadata": {},
   "outputs": [],
   "source": [
    "# Function to get businesses a user interacted with\n",
    "def get_user_businesses(user_id, conn):\n",
    "    cursor = conn.cursor()\n",
    "    cursor.execute('''SELECT business_id, stars_review FROM user_item_index WHERE user_id = ?''', (user_id,))\n",
    "    return cursor.fetchall()"
   ]
  },
  {
   "cell_type": "code",
   "execution_count": 7,
   "metadata": {},
   "outputs": [],
   "source": [
    "# Function to get top-k similar users for a given user\n",
    "def get_top_k_similar_users(user_id, user_mapping, k, conn):\n",
    "    cursor = conn.cursor()\n",
    "    cursor.execute('''SELECT similarity_vector FROM user_user_similarity WHERE user_id = ?''', (user_id,))\n",
    "    result = cursor.fetchone()\n",
    "\n",
    "    if result is None:\n",
    "        return []\n",
    "\n",
    "    similarity_vector = pickle.loads(result[0])\n",
    "    indices, data = similarity_vector\n",
    "\n",
    "    # Get top-k similar users\n",
    "    top_k = sorted(zip(indices, data), key=lambda x: -x[1])[:k]\n",
    "    \n",
    "    # # Map indices to user ids\n",
    "    # similar_users = [(list(user_mapping.keys())[idx], score) for idx, score in top_k]\n",
    "\n",
    "    idx_to_user = {v: k for k, v in user_mapping.items()}  # Reverse mapping\n",
    "    similar_users = [(idx_to_user.get(idx, \"Unknown\"), score) for idx, score in top_k]\n",
    "\n",
    "    return similar_users"
   ]
  },
  {
   "cell_type": "code",
   "execution_count": 8,
   "metadata": {},
   "outputs": [],
   "source": [
    "# Function to predict user interests based on similar users\n",
    "def predict_user_interests_usercf(user_id, user_mapping, conn, k=300, test_businesses=None):\n",
    "    # Get top-k similar users\n",
    "    similar_users = get_top_k_similar_users(user_id, user_mapping, k, conn)  # More similar users\n",
    "\n",
    "    recommended_businesses = {}\n",
    "\n",
    "    # For each similar user, get their business interactions\n",
    "    for similar_user_id, similarity_score in similar_users:\n",
    "\n",
    "        similar_user_businesses = get_user_businesses(similar_user_id, conn)\n",
    "        for business_id, score in similar_user_businesses:\n",
    "            if test_businesses and business_id not in test_businesses:  # Debug: force overlap\n",
    "                continue\n",
    "            if business_id in recommended_businesses:\n",
    "                recommended_businesses[business_id] += score\n",
    "            else:\n",
    "                recommended_businesses[business_id] = score\n",
    "\n",
    "    # Sort recommendations by score\n",
    "    recommended_businesses = sorted(recommended_businesses.items(), key=lambda x: -x[1])   \n",
    "    \n",
    "    return recommended_businesses[:k]"
   ]
  },
  {
   "cell_type": "code",
   "execution_count": null,
   "metadata": {},
   "outputs": [],
   "source": []
  },
  {
   "cell_type": "code",
   "execution_count": 9,
   "metadata": {},
   "outputs": [],
   "source": [
    "# Retrieve the user-business mappings\n",
    "user_mapping = retrieve_user_user_mapping(conn)"
   ]
  },
  {
   "cell_type": "code",
   "execution_count": 10,
   "metadata": {},
   "outputs": [
    {
     "name": "stdout",
     "output_type": "stream",
     "text": [
      "Top 5 similar users for razUB7ciYZluvxWM6shmtw: [('razUB7ciYZluvxWM6shmtw', np.float64(433.0)), ('8EneFRH-5HEmfQ9AOJwc-Q', np.float64(52.0)), ('h8L_oYRfB_fhpwPM9-pgpQ', np.float64(45.0)), ('_BcWyKQL16ndpBdggh2kNA', np.float64(35.0)), ('nDEC-7GY0jSG2PlAnMCeZg', np.float64(25.0))]\n"
     ]
    }
   ],
   "source": [
    "# Test similarity retrieval\n",
    "user_id = 'razUB7ciYZluvxWM6shmtw'\n",
    "similar_users = get_top_k_similar_users(user_id, user_mapping, 5, conn)\n",
    "print(f\"Top 5 similar users for {user_id}: {similar_users}\")"
   ]
  },
  {
   "cell_type": "code",
   "execution_count": 11,
   "metadata": {},
   "outputs": [
    {
     "name": "stdout",
     "output_type": "stream",
     "text": [
      "Recommendations for user razUB7ciYZluvxWM6shmtw: [('KIjOP0a4gTe-zRdnVCgsGA', 15.0), ('297f-8AdTbu-wwVedvac6w', 14.0), ('qlt0aeVnh4B3X5mUeEUtnQ', 13.0), ('Mt1FB8hM4XTi3Tk4i0q5gQ', 10.0), ('U6pzPIczfAYNrEygELdUdw', 10.0), ('VgkRK_mHhy15M3bZk0isTw', 10.0), ('xVFNGIsWBTcYmKB85HH6Qg', 10.0), ('neiMxOk7V4Zgq5zsvuWTaQ', 10.0), ('uKK_8fcwaV5JuCv3Nj-OIw', 10.0), ('tYqIKRQjDCywDVkbfUGSug', 10.0)]\n",
      "Recommendations for user 3YhG4h4Ok654iVfqdmkuRg: [('VXPpzhD7mA262gIv1T0WPQ', 24.0), ('f9_TLVlUHBv0869CygEbZg', 17.0), ('2fTfpN5SggLgW4LlzptMPg', 14.0), ('mMnkbIMG9MUW-rb5a5Q8Og', 14.0), ('HK8VCqWyo1Rxw_2KTCn2Og', 14.0), ('26EPJeHypRPvF4UgJWi2Zw', 13.0), ('6FPr7wbkqnRlRmFVniwmHg', 13.0), ('eOWBvwP1MgJx6PrrWBoUuA', 13.0), ('Eq5w0ZAW0PV30nNkJxJY_A', 13.0), ('2Y7h1oxMRfVVGvc02aTn5g', 12.0)]\n",
      "Recommendations for user VyC2fG4dcMG07nrxh4jLnw: [('NnlXgLZ93KPj1wYSiqjyIg', 20.0), ('l4IeGBHXV2E8S8COd9rx9A', 17.0), ('j4KA-BujEH7xmG6bD5E-gQ', 14.0), ('-B6XL-ZWsVHlAQyYcd3eEg', 13.0), ('x45_iDu3qheXFJrWNobmHQ', 10.0), ('X6ZkbbAwCcz-ML1iihsszw', 9.0), ('fxV5Iv7goPEUz-AReRLxkw', 9.0), ('jVPzcDZHP8Vz32tInYbzLw', 8.0), ('QHWYlmVbLC3K6eglWoHVvA', 8.0), ('aZWNTrM5f3C34VWPZhQwcQ', 8.0)]\n",
      "Recommendations for user Q5jOFJYhIsN8ouJ1rnsLQQ: [('PjTPue4TRCVLjf2wPxSAaQ', 24.0), ('pPFv6CTFK5i8FNj8f3_pVg', 22.0), ('HK8VCqWyo1Rxw_2KTCn2Og', 21.0), ('PgtzpG1aD90QQFze8kX30A', 19.0), ('fM6XQeGW70a4EFbjqAAy3Q', 18.0), ('ZUPnWlLgqnU1PVtF6Q9-HQ', 17.0), ('g9efAF87UAgqbzKwQlOzxw', 16.0), ('l7BqVlZJoVM--KKj_1gx0Q', 15.0), ('WKMJwqnfZKsAae75RMP6jA', 13.0), ('eOWBvwP1MgJx6PrrWBoUuA', 13.0)]\n",
      "Recommendations for user gdcRlubKDmslUYFPHUp1Cg: [('qb28j-FNX1_6xm7u372TZA', 30.0), ('BjeHLwKOlHyV6DJgmZxAjA', 19.0), ('gC8i-lxwvGhVpOXM5eYdtA', 17.0), ('h_DxpK5pngE1rX0Ca9wzGg', 10.0), ('0UJqTczta018RoktahC0jw', 9.0), ('M6UY37swcMY0JplqHGHAuA', 9.0), ('N1GYsCd5QAchGOCeQ37J9g', 9.0), ('c3Vq3UHsKBpX3x8DBPJCJg', 9.0), ('f64wvgLjQZEhSck9iYptSw', 9.0), ('sMhdwnrxQd8NWPCxLKqG2A', 9.0)]\n",
      "Recommendations for user CNeaJDD_ZihiafOvSGSpPw: [('N1GYsCd5QAchGOCeQ37J9g', 29.0), ('bzjOYERJv5YwW6Q8lUBcJw', 29.0), ('nglmDG6iOIgL2o5Ue3jecg', 19.0), ('-VlBFlHwX-Pt6Xyzs9roGw', 18.0), ('d9OTctJEITa5DmAvWpKfoA', 15.0), ('mhrW9O0O5hXGXGnEYBVoag', 14.0), ('xA6daGPW81vmyg9iRFEGbA', 12.0), ('V1XS9HMe9bzEuW4RZFycBA', 10.0), ('82_lGisVlstS_ojKZw9qNw', 10.0), ('ndVzILWR-DJXpfOlHm556A', 10.0)]\n",
      "Recommendations for user TItDMAEw7_6Nge38jJPspA: [('c3gwn7_ukRwGGIghHLi-UA', 48.0), ('So5ynsJSVB1qaDek1oXvXg', 6.0), ('OPW8NuOC_9FVFXsaHOO5JA', 5.0), ('_393npnr0Dw1aGKy83x_0A', 5.0), ('zHoIBH6nIh_Hs8YkSJii5Q', 5.0), ('-Tskf8WK17rb3ZfeFuRSWA', 5.0), ('4oShhJaclV7irEvjGryUlQ', 5.0), ('C2XXTlG9rIqLjjJrn2ODVA', 5.0), ('Meww6RIE4cFL_kG0aRlbAA', 5.0), ('UeY30shIL5ZhTw9fpnR8Fw', 5.0)]\n",
      "Recommendations for user zxyKewY6p0CjnFprEutaog: [('iQp3QlP4iynGTXgFqpZ7Gg', 26.0), ('GM6j5hDNqra0pVfTcpTMMw', 22.0), ('iJJdgwK4wrX8-PjKZzOEvQ', 21.0), ('PupRtvjjZJcLzIlkMw3hpA', 18.0), ('MwonUzoiUq0dpEVlIVBryw', 14.0), ('BCc22qCuePzF3j2AVvrkxg', 14.0), ('7-phzLGvYk5BLzs-3r5voQ', 14.0), ('EmJF-xSIOaEEOWcK8UOBqg', 13.0), ('8jXmNMrGJ2acUG1R-D5e6w', 12.0), ('mRpk0A4u0hnF0lNe1h4hGg', 12.0)]\n",
      "Recommendations for user IsdzdZEH9uHTnwX3acqhtg: [('C5ZOzlslhMxRJDjBDV3KoQ', 37.0), ('c_4c5rJECZSfNgFj7frwHQ', 32.0), ('dO7gWzCuW9ULb7P4Qd9SdQ', 24.0), ('mgpCGxAMyHmyeGKorXefvg', 19.0), ('j4KA-BujEH7xmG6bD5E-gQ', 15.0), ('6KIRlWAwkszRCu4WoMvQzQ', 15.0), ('9cu2p2Z925hHkWHVyrp1JQ', 14.0), ('FuwM02obw0PhqNdZVE6ugg', 14.0), ('H5Rk-aunuEzGANXCBu-NPQ', 13.0), ('q_Fz0dpY2n8TMESpn5KnhQ', 13.0)]\n",
      "Recommendations for user AC-oO5luq3enSNFDYAVKJA: [('U4X-tzwvTzW8uWxs2KIPtg', 48.0), ('lo3zYtvPB6-iVok2C7HsGw', 5.0), ('qb28j-FNX1_6xm7u372TZA', 5.0), ('UUpwoAAZcJyUWOqp81_3mA', 5.0), ('6a4gLLFSgr-Q6CZXDLzBGQ', 5.0), ('PGd06nrseC2YAIqP6S9gUA', 5.0), ('_RvXPNxWcRw833a8B3vSOQ', 5.0), ('nM3dJkSIWuw01HoJyKt3Pg', 5.0), ('w7Up6RZVcjHmNOCd5v0EwQ', 4.0), ('HKdAOvtDv47zPjceCjbz4Q', 4.0)]\n"
     ]
    }
   ],
   "source": [
    "# Get the top 10 users in the database\n",
    "# user_ids = list(user_mapping.keys())[:10]\n",
    "\n",
    "user_ids = ['razUB7ciYZluvxWM6shmtw', '3YhG4h4Ok654iVfqdmkuRg', 'VyC2fG4dcMG07nrxh4jLnw', 'Q5jOFJYhIsN8ouJ1rnsLQQ', 'gdcRlubKDmslUYFPHUp1Cg', 'CNeaJDD_ZihiafOvSGSpPw', 'TItDMAEw7_6Nge38jJPspA', 'zxyKewY6p0CjnFprEutaog', 'IsdzdZEH9uHTnwX3acqhtg', 'AC-oO5luq3enSNFDYAVKJA']\n",
    "\n",
    "for user_id in user_ids:\n",
    "    recommendations = predict_user_interests_usercf(user_id, user_mapping, k=10, conn=conn)\n",
    "    print(f\"Recommendations for user {user_id}: {recommendations}\")\n",
    "\n",
    "# Close the database connection when done\n",
    "conn.close()"
   ]
  },
  {
   "cell_type": "code",
   "execution_count": null,
   "metadata": {},
   "outputs": [],
   "source": []
  }
 ],
 "metadata": {
  "kernelspec": {
   "display_name": "content-recommendation-HkY1UuQH",
   "language": "python",
   "name": "python3"
  },
  "language_info": {
   "codemirror_mode": {
    "name": "ipython",
    "version": 3
   },
   "file_extension": ".py",
   "mimetype": "text/x-python",
   "name": "python",
   "nbconvert_exporter": "python",
   "pygments_lexer": "ipython3",
   "version": "3.11.9"
  }
 },
 "nbformat": 4,
 "nbformat_minor": 2
}
