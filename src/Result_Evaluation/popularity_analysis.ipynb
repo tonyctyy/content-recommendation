{
 "cells": [
  {
   "cell_type": "markdown",
   "id": "72663366",
   "metadata": {},
   "source": [
    "## Popularity Analysis\n",
    "\n",
    "This analysis aims to identify and quantify any popularity bias in the recommendations. Businesses are categorized into popular and long-tail items based on a percentile cutoff following the Pareto Principle.\n"
   ]
  },
  {
   "cell_type": "code",
   "execution_count": 1,
   "id": "85a159a6",
   "metadata": {},
   "outputs": [],
   "source": [
    "import numpy as np \n",
    "import pandas as pd \n",
    "import matplotlib.pyplot as plt\n",
    "import seaborn as sns"
   ]
  },
  {
   "cell_type": "code",
   "execution_count": 33,
   "id": "9c8ab488",
   "metadata": {},
   "outputs": [],
   "source": [
    "df_ranked_results = pd.read_csv('../Models_Deep_FM/all_ranked_results.csv')"
   ]
  },
  {
   "cell_type": "code",
   "execution_count": null,
   "id": "e59e3f65",
   "metadata": {},
   "outputs": [],
   "source": [
    "# group by user_id and get the top 100 items for each user\n",
    "df_ranked_results = df_ranked_results.groupby('user_id').head(100)\n",
    "# df_ranked_results = df_ranked_results.groupby('user_id').head(500)"
   ]
  },
  {
   "cell_type": "code",
   "execution_count": 3,
   "id": "a8ec9b48",
   "metadata": {},
   "outputs": [
    {
     "data": {
      "text/html": [
       "<div>\n",
       "<style scoped>\n",
       "    .dataframe tbody tr th:only-of-type {\n",
       "        vertical-align: middle;\n",
       "    }\n",
       "\n",
       "    .dataframe tbody tr th {\n",
       "        vertical-align: top;\n",
       "    }\n",
       "\n",
       "    .dataframe thead th {\n",
       "        text-align: right;\n",
       "    }\n",
       "</style>\n",
       "<table border=\"1\" class=\"dataframe\">\n",
       "  <thead>\n",
       "    <tr style=\"text-align: right;\">\n",
       "      <th></th>\n",
       "      <th>business_id</th>\n",
       "      <th>score</th>\n",
       "      <th>user_id</th>\n",
       "      <th>real_label</th>\n",
       "    </tr>\n",
       "  </thead>\n",
       "  <tbody>\n",
       "    <tr>\n",
       "      <th>0</th>\n",
       "      <td>ytynqOUb3hjKeJfRj5Tshw</td>\n",
       "      <td>5.222930</td>\n",
       "      <td>--4AjktZiHowEIBCMd4CZA</td>\n",
       "      <td>0</td>\n",
       "    </tr>\n",
       "    <tr>\n",
       "      <th>1</th>\n",
       "      <td>-fs09akgCKv5rTTy7iUHUg</td>\n",
       "      <td>5.119537</td>\n",
       "      <td>--4AjktZiHowEIBCMd4CZA</td>\n",
       "      <td>0</td>\n",
       "    </tr>\n",
       "    <tr>\n",
       "      <th>2</th>\n",
       "      <td>TE2IEDNV0RcI6s1wTOP4fg</td>\n",
       "      <td>5.111618</td>\n",
       "      <td>--4AjktZiHowEIBCMd4CZA</td>\n",
       "      <td>0</td>\n",
       "    </tr>\n",
       "    <tr>\n",
       "      <th>3</th>\n",
       "      <td>KTGEa8V9ec0QBYM_uk1YLQ</td>\n",
       "      <td>5.106303</td>\n",
       "      <td>--4AjktZiHowEIBCMd4CZA</td>\n",
       "      <td>0</td>\n",
       "    </tr>\n",
       "    <tr>\n",
       "      <th>4</th>\n",
       "      <td>ctHjyadbDQAtUFfkcAFEHw</td>\n",
       "      <td>5.100107</td>\n",
       "      <td>--4AjktZiHowEIBCMd4CZA</td>\n",
       "      <td>0</td>\n",
       "    </tr>\n",
       "    <tr>\n",
       "      <th>...</th>\n",
       "      <td>...</td>\n",
       "      <td>...</td>\n",
       "      <td>...</td>\n",
       "      <td>...</td>\n",
       "    </tr>\n",
       "    <tr>\n",
       "      <th>554952</th>\n",
       "      <td>VJ2BIGD9Q-vyE960n-4-dA</td>\n",
       "      <td>4.301839</td>\n",
       "      <td>08wIbJCYDZoYdbkDAMAb3w</td>\n",
       "      <td>0</td>\n",
       "    </tr>\n",
       "    <tr>\n",
       "      <th>554953</th>\n",
       "      <td>kvb0a9FiFs9UXWxE6q-5DA</td>\n",
       "      <td>4.301810</td>\n",
       "      <td>08wIbJCYDZoYdbkDAMAb3w</td>\n",
       "      <td>0</td>\n",
       "    </tr>\n",
       "    <tr>\n",
       "      <th>554954</th>\n",
       "      <td>DXNKGOCVmFP5iU8owhK2Fw</td>\n",
       "      <td>4.301074</td>\n",
       "      <td>08wIbJCYDZoYdbkDAMAb3w</td>\n",
       "      <td>0</td>\n",
       "    </tr>\n",
       "    <tr>\n",
       "      <th>554955</th>\n",
       "      <td>aROWvF8ltWk6LLNO62haag</td>\n",
       "      <td>4.300865</td>\n",
       "      <td>08wIbJCYDZoYdbkDAMAb3w</td>\n",
       "      <td>0</td>\n",
       "    </tr>\n",
       "    <tr>\n",
       "      <th>554956</th>\n",
       "      <td>eFkCmMnax5xTtgBrbN5mcQ</td>\n",
       "      <td>4.300556</td>\n",
       "      <td>08wIbJCYDZoYdbkDAMAb3w</td>\n",
       "      <td>0</td>\n",
       "    </tr>\n",
       "  </tbody>\n",
       "</table>\n",
       "<p>554957 rows × 4 columns</p>\n",
       "</div>"
      ],
      "text/plain": [
       "                   business_id     score                 user_id  real_label\n",
       "0       ytynqOUb3hjKeJfRj5Tshw  5.222930  --4AjktZiHowEIBCMd4CZA           0\n",
       "1       -fs09akgCKv5rTTy7iUHUg  5.119537  --4AjktZiHowEIBCMd4CZA           0\n",
       "2       TE2IEDNV0RcI6s1wTOP4fg  5.111618  --4AjktZiHowEIBCMd4CZA           0\n",
       "3       KTGEa8V9ec0QBYM_uk1YLQ  5.106303  --4AjktZiHowEIBCMd4CZA           0\n",
       "4       ctHjyadbDQAtUFfkcAFEHw  5.100107  --4AjktZiHowEIBCMd4CZA           0\n",
       "...                        ...       ...                     ...         ...\n",
       "554952  VJ2BIGD9Q-vyE960n-4-dA  4.301839  08wIbJCYDZoYdbkDAMAb3w           0\n",
       "554953  kvb0a9FiFs9UXWxE6q-5DA  4.301810  08wIbJCYDZoYdbkDAMAb3w           0\n",
       "554954  DXNKGOCVmFP5iU8owhK2Fw  4.301074  08wIbJCYDZoYdbkDAMAb3w           0\n",
       "554955  aROWvF8ltWk6LLNO62haag  4.300865  08wIbJCYDZoYdbkDAMAb3w           0\n",
       "554956  eFkCmMnax5xTtgBrbN5mcQ  4.300556  08wIbJCYDZoYdbkDAMAb3w           0\n",
       "\n",
       "[554957 rows x 4 columns]"
      ]
     },
     "execution_count": 3,
     "metadata": {},
     "output_type": "execute_result"
    }
   ],
   "source": [
    "df_ranked_results"
   ]
  },
  {
   "cell_type": "code",
   "execution_count": 16,
   "id": "bfe93b67",
   "metadata": {},
   "outputs": [
    {
     "data": {
      "text/plain": [
       "array(['--4AjktZiHowEIBCMd4CZA', '--KsuCSkGGvDKTbdK9NvIg',\n",
       "       '--Vu3Gux9nPnLcG9yO_HxA', '--XwFm4qERD6J5SX0JAsbg',\n",
       "       '--_H9j6ggxvqhh9nPofZwg', '--_r6E98SNIrGU7weyNxbw',\n",
       "       '--u09WAjW741FdfkJXxNmg', '-02tzlpQosZ9HE85jEtV6Q',\n",
       "       '-05wJ5BVkv8lYBIC_H5F-Q', '-0H6Rm6dCi3pkFBC26HsoQ',\n",
       "       '-0KrCHEsOcjJ6N4k_k1A9A', '-0rW5xrSCH1HCnSEmoQA5A',\n",
       "       '-1-pTXLHph2vcqRCNeT4_Q', '-13RX4Gy_F-zoLIenWAo-w',\n",
       "       '-16bjdAbpdPLuGrfGPSPNQ', '-1MF2tosrw2WcCxeVNk81Q',\n",
       "       '-1MiSauypbVtNnWts4aXpA', '-1WbN1Qd-opw8u3uEqs2Kg',\n",
       "       '-2cKJFFNJ9XVyWBt62mWvA', '-2nNiAnDaSbQayynsqgL6Q',\n",
       "       '-2zeaby7CmyAb6AIjX0cmw', '-3HYmxW_5Gsg4I0eH3ju-Q',\n",
       "       '-3agoL-p87vZteiDzrz5og', '-3m3CcApRSL_k2XSluzuMg',\n",
       "       '-3s52C4zL_DHRK0ULG6qtg', '-43uAiZZ6wsGhaurBi3Cdw',\n",
       "       '-4D4Q_Fxj_rEL32t0VtzFQ', '-4RMTrzXEjs0ttG7stsl2Q',\n",
       "       '-4adygW78x5K_xSG0u3Y6Q', '-4mjLXqAoAtQjqDFo9q9WQ',\n",
       "       '-4r6OoklyemH7Up70wIhMA', '-50lprJ4kZ-XCM1hPU2vqg',\n",
       "       '-584avr5GMIqv-9Ut85Ywg', '-5Slg5hO3useiypXYgZkGg',\n",
       "       '-5Yx5X3OxosNU5gojBug8A', '-5e4VTnu_pR4Gpv3VSncaw',\n",
       "       '-5ffv9jDtTPfpdzOBERKMA', '-5jhwwoyXYRzQ0-sr2HCBg',\n",
       "       '-5whywrvs1BItphhVpyhfg', '-649i19_jvF5aNi7DAEo_Q',\n",
       "       '-6ANKdm808QNwIt6Wo82-A', '-6Fk7QmNWJDaDKwwcgS8PQ',\n",
       "       '-6IEezWnzsB8THCxaVFyNw', '-6YHxNhkE2hcT-YGVqjI0Q',\n",
       "       '-6ZhDj655l0dKia8IDKYoQ', '-6aZVWznrSeaV6Wyqi9r_w',\n",
       "       '-6it8Ywn7yYiAofCd-fpJw', '-7-d8x5w5c9QolAMgPTKZg',\n",
       "       '-7Eh_8y1ihj3nNtdIetiRA', '-7Jz5rawtZ4EGf8QhDcAlg',\n",
       "       '-7XrSrJfHndHc_taEXurTw', '-7_OQiwD8HojEj2qeRSIWw',\n",
       "       '-7c1r5P0l_ovoX1a2wyhHA', '-7c9_cVlKtKD0MozmLLrTg',\n",
       "       '-7iJF8OzQ4Ax-3igJae29A', '-7qUbOVWJp2NT3f_TNuIBA',\n",
       "       '-8PU0Z4Q2Nc-sY0eBj4DiQ', '-8ZCYEX1LWzDO6Qmj3EdxA',\n",
       "       '-8a2Ju7w0CEr3jCbf1AudQ', '-9GExktXOjboVL56j0EX7A',\n",
       "       '-9HSI_V_J9oUhg0qwJl-oA', '-9OEoNjcLa9nBiu41nHiaQ',\n",
       "       '-9OIms4jE1bdD1fz7AzAFA', '-9bh6ld7bpeMv26HW-kYjg',\n",
       "       '-9qrDZPYhvhGisml-LA1vQ', '-9tNezRmySd6LpXfLCMYgQ',\n",
       "       '-A3_BwJ6eOrdUOje8hWWCw', '-AA36SlGJ4pADOOfi2l57A',\n",
       "       '-AGLoncQKBFVYCkfe59Hmg', '-AJlsYrhezmfIoyMiXPExA',\n",
       "       '-ATWrYEqBxsNqevq5UyqxA', '-AW0paCexiQJgLVKOoDkiQ',\n",
       "       '-AnMcazI_LSSLK81qlm7mw', '-AsIFz8wFYnV1C8TuiV7BQ',\n",
       "       '-AwZjQNFpCqc0bVNNyBqwg', '-Az9H695_MZmte8uGu_qyw',\n",
       "       '-B-QEUESGWHPE_889WJaeg', '-BB9oz-WY-H2oBazb4Ltzw',\n",
       "       '-BFGzRJmiKDdJ8loKN-EYA', '-BT7yKvo-CY0apW8xzNntg',\n",
       "       '-BVK-mFx5n0bPtulAPpXew', '-BX5x3Ys-2JzFba3LiWlHA',\n",
       "       '-BZn63YaADy9GpzHdncDtA', '-BdXedi9sQ6oA_QPtCqI_Q',\n",
       "       '-Bv2DxQtG7xPYdJqlqL9fQ', '-CTVKe6KxXl2hPjFKHhxaQ',\n",
       "       '-CjssPDDDecPnqS9NO7szw', '-CzwjrantVGMmZB8Qj_7-Q',\n",
       "       '-D9dcHFhzLuQfs6P3S39Rw', '-DHgkZ15lw62Nb_K0IhwJA',\n",
       "       '-DM4AmThxktZflgOccMp7w', '-DMJL_fcLZCvlqzMm97giA',\n",
       "       '-DgbjFyHyHUHYfZX69SpRQ', '-Dk8JFqprGGJOsn7g37_hQ',\n",
       "       '-Dt5o6GpQcXQfVeWpHNtDg', '-DvWijj6j_S2-l2mkiViuQ',\n",
       "       '-DxLO1mpm0xYXRHelKbvYw', '-EX1hrPRBqNkVavtMllTCA',\n",
       "       '-EbVuBtFKOalsIcNlfc7Fg', '-Enu_Cc8lJ-yVcRvatf0hw',\n",
       "       '-EoJZdxSKhowrsFMBAPE4Q', '-EsTy2PDFHI1rNek9OVWgQ',\n",
       "       '-F2y0jIa21QxnWgxXaC7TQ', '-F7TSdsTA244F71mBVRioQ',\n",
       "       '-F8_j7kM4jLVkVgx2vjPtg', '-FZBTkAZEXoP7CYvRV2ZwQ',\n",
       "       '-F_kQNlbSEzZedUfZZwrVw', '-FjLaUdIRV3I0Pv8i-ICfQ',\n",
       "       '-FlaR0jIF6LmVUJNZW7lYw', '-FvDkLBWEzhmYe5-kBBEMg',\n",
       "       '-FvW27M5s9Fa7XhoGZNZog', '-FxsSuwDbIII7yo5BjHpiA',\n",
       "       '-Fyi0J0MoIFz5g9T-wtS4g', '-G-s0z4MVaIjHIRAWp1myw',\n",
       "       '-G7Zkl1wIWBBmD0KRy_sCw', '-GDdBOfhrxn7lAGblLSoqA',\n",
       "       '-GKEFg_92pp0q842clS_Jw', '-GTDgCPa0LkoDBATv4Qptw',\n",
       "       '-GlheyCSx4bu0PYYt-fRnQ', '-GmiE0fXRpPQWse0z1UBKA',\n",
       "       '-GowNe73gDZs9MfS3ugJDQ', '-Gs5ZYB22qPfWigiuhp50A',\n",
       "       '-H6cTbVxeIRYR-atxdielQ', '-HUskiwxMs8OeThnmEfclg',\n",
       "       '-HYCAMf2ml717YD5Y9PKIg', '-H_E1UWNXaj3y8LshmsVag',\n",
       "       '-Hapxd7xjdCmCzz6NxBK3Q', '-Her419l4DCjSFey7UjmtA',\n",
       "       '-Hq64CCrrCzhs4D88l-Eog', '-HtYnx7Tk-ZKUE2Gma5wMQ',\n",
       "       '-IHHZ9UtUV6j0H48JFje7w', '-IJ_zJmNtpEj9uGtIDu7lg',\n",
       "       '-IM7V8iBpXrgGS556kxjgw', '-IbvvYKwa5fvl67RXimaBg',\n",
       "       '-Ih6_Mej8VbJh0qZDa4r6g', '-J9mS1WHKPIZ_F45ovjKJQ',\n",
       "       '-JAW8OycPJP2iZ0zULuWiA', '-JBA4yBlLM0pPpjqRRpNUA',\n",
       "       '-JN2qTghHtB1dW4YDVlBRQ', '-JvxVpor__IMGYvft5fpWA',\n",
       "       '-KahRmNBsG1WHGdod_uj8g', '-KduD3wwydWDq2GrODh2tw',\n",
       "       '-KpEgEen1tj-jdjIS7uVOw', '-LBWx5-3tutEdZFoIuoBMg',\n",
       "       '-LCl9oO6Yk8iNxloqfwHIA', '-LaL8s1Xg0jg2_lhrYlSUA',\n",
       "       '-Lpme8lSnX8jrUy4i7Ja7g', '-M9cyh6nLa3C6VY_usk4vA',\n",
       "       '-MEKm9prd20uo8eG0oCkGQ', '-MGu3-gMFLizt449fr0OTw',\n",
       "       '-MK7GGRiG9OQeUMqkYeVqw', '-MKaQrnrzBdWADOX2faH-A',\n",
       "       '-Md9jUPXg1m-FqvX6Ov6HA', '-MeResg7zWIywg7JwuMvaw',\n",
       "       '-NDurCQ1u3CbUd05M7MaIA', '-NEsqgAweDXmhy2iSASpjA',\n",
       "       '-NXMmOULp-kUv_LO1V6JVQ', '-NbeVN5tnwdyYAvdNkKMjw',\n",
       "       '-NfYRQ94Uk2weH5O1OIK2A', '-NipQme-3bdfY3LlfBwzCA',\n",
       "       '-Nmexeo0LnHkabunMUhEPg', '-NpZDO99TEUZWg3hbNL11A',\n",
       "       '-Np_pQm-hesB3AOBG0P_Jg', '-NwtV6xvM4zSLrSioHUOMQ',\n",
       "       '-NycZLw5rPxqwrkKKI-83w', '-OZPBHH7RzyPIai4AlPWKA',\n",
       "       '-O_FGGkZEeg509iOZADxDw', '-OeDOCY60_erQ_NXI7I4lQ',\n",
       "       '-Oer2os7LrtAagVuWSN1AQ', '-OhMUW_qEr8uvFrhjDNHJg',\n",
       "       '-Oqfoc4KyhzYY0qvSkxkrg', '-OwhFX7GkOg5C3MONMZNrg',\n",
       "       '-P7QbuJKBALJYH2_cBgj8A', '-PHhewouMe4OcObjdqBWAA',\n",
       "       '-PKqpPxTS_u3_bHFf8Daow', '-PQLORtPeAtzkt9bNI2F7Q',\n",
       "       '-Pb9gXleMSXS8quej_zL1Q', '-Q-vMOJCVf2UF5AdLwCkig',\n",
       "       '-Q8cGu_PGBYpxgI74P3dMw', '-Q9xKNMQVip1V6D-CjITVg',\n",
       "       '-QiR53FWCXQOhBziKUTY7A', '-QmEKJ_CzZnT9biZHddfZQ',\n",
       "       '-QrVSo-1XhXERcmk3ePrzQ', '-R3Liu8xDWu-VpWSW8YlKA',\n",
       "       '-RHXnSTWGanCuiTHnoYMgA', '-RI-qSOmIIzg1j5lFZPzDQ',\n",
       "       '-RWkqWfBxJB54eJag7D52A', '-RXXJeHviyE3kdZFtT3r7g',\n",
       "       '-RYue2CCuEcmwZPb9g-gPw', '-Rz2eMhH3z5XT5vZNkA2XQ',\n",
       "       '-SO_K8oLVH_9J23z2MtjGg', '-SPQHNQUDaoKg93u6gf1Dw',\n",
       "       '-STTav3LzAbTumgncDdMVg', '-STnJgWqqLiKp8Ny1aVr1w',\n",
       "       '-SVZFeUaNFgicSsYlyDR0A', '-SdWy2JAjusM1DzF3nkrvA',\n",
       "       '-SigNCNItQDtSq27j0t_tw', '-TBFZ48Er0nXjSZpG4BmBA',\n",
       "       '-THLGnsYKu3yQAsy_tt1fw', '-TLXQfY2lZ6DVWQj4BosxQ',\n",
       "       '-TWmOCrqnTwfO5k04S3QrA', '-TbX3AYOIEyo6-b67MT8eA',\n",
       "       '-TcZ82WJnqdH9CbTuxuU6Q', '-TetRsooVLNhPxJ8MPErhQ',\n",
       "       '-Tg5YTEMbnYw3fQN99xKCQ', '-TvuLEPjoqQBK3pffL62iw',\n",
       "       '-TxxAxdrASEgYeXTZDSQFw', '-UCFeI8L3jxJGPoUp8v53Q',\n",
       "       '-UFatZoBJhGLAJ8i9Uva7g', '-UHtM2GTnzaJ0XYaYLXi9w',\n",
       "       '-UWOlq9KZDTot0HGikmDNA', '-U_Qa-rP59Xia19dTqZNIA',\n",
       "       '-Ub6sTS9u9scC5y_85l8xg', '-UrDuRNdwbYuF7FFEYEkng',\n",
       "       '-Urzw-AhJm9yCsRbX_x2zw', '-UxpAbsTDDUE0EPh7T-Vzg',\n",
       "       '-V7frksbFjKQYVhrPnnlPw', '-VJPD_9RgP61Cfn-WKyx0Q',\n",
       "       '-VOCFO1QSCjAxl_0LIrZ9Q', '-W2gwu0MPXHyT_8q61ix8w',\n",
       "       '-WKOdr26Clxm5pIZ_HLSSA', '-WM58wLjtlHlR91xVfM1FQ',\n",
       "       '-WUsD4lhcoVb6Q0rlWqvLg', '-WcB-MUolRfvBmJ2lLU_cg',\n",
       "       '-WdMmmWVU5TZ9bfy0Cg3Ng', '-Wg_fBZw70ybV_BZPdZseg',\n",
       "       '-Wu93nlWpC56t8_0IHs4UQ', '-X2ssY7sSqgkA2uBE3CaeA',\n",
       "       '-X7_fjIesbrR2X7oYATNJg', '-XGgO8Ok5qTghITgxPRWOQ',\n",
       "       '-XPqJCVHFC1P-kW3oduKaw', '-Y01uXhlyewOSLEjziA5NQ',\n",
       "       '-YAXThScggsREXhutAHkAA', '-YEhEw6Uv5tbdUfZtm8Gsw',\n",
       "       '-YJmEquORmH4mmMa9OlMhg', '-YKOWciKFYcKxOCY_CIkYg',\n",
       "       '-YOWyjJ0bOdSN0LfDSLC4Q', '-YwLELRcGolyyRhZtA4hFw',\n",
       "       '-Z1lTwsRV-bBSO-tIbIqdQ', '-Z7CI7cvz5oRf6Qjy_cleQ',\n",
       "       '-Z97B_kIy1-w3nifW1PQZg', '-ZHlPAvlVdgtiu6DiCq7Yg',\n",
       "       '-ZQXwAcRhu_htymJTIFcoQ', '-ZfVRD4fYZl2XKpm8Y4LYQ',\n",
       "       '-_-97I8y6aTJjpZMKyd4TA', '-_2h2cJlBOWAYrfplMU-Cg',\n",
       "       '-_Lfm5bztNCYXaBmrqY7tA', '-_NH9hcOubEKHoYeO_VOag',\n",
       "       '-_OH-t_Tnm3-I2RpPjEjwA', '-_SwjOjXFJa93KO4QGZOfA',\n",
       "       '-_TyPUcWnWfpC-KejP6Qnw', '-_UsvsLV7kxl8np_MRokMQ',\n",
       "       '-_Y8Mal7S750TsB6yMMDHA', '-__Mk4KYnfGnyYEi9NKfPg',\n",
       "       '-_c83Ylqjx6rwu9lBNS6Yw', '-_dkddkIz2_KusAQuZiS6Q',\n",
       "       '-_tVjkjgxxMHlvsj3sCWew', '-_yn1IOKetBJuPxfK6u8IA',\n",
       "       '-a-Sv3iht6zhmA7Wi7jslg', '-a4rD2Sa7hvqF_BjC3QBdQ',\n",
       "       '-a8kCXUGCaGL1wN59YtCzQ', '-aAgfEUH4UoFDRXZCfJSUA',\n",
       "       '-aOyKAkjjEEyaGrXB9uKCg', '-aaSXY18HFB9h-5KPX8aSw',\n",
       "       '-b3giTuADjiihFgGDvlWCw', '-b66K5diYIQCydShlfkRWA',\n",
       "       '-bE9ajKOZ5CuQy8zOF_DmA', '-bFmOUX6D77NXDNXlC96aQ',\n",
       "       '-bPILQ2SojyITjuQQF7KiQ', '-boyAT-5i6HyD7IZxDOccQ',\n",
       "       '-btcMnOND8URTv5Nwf-FjQ', '-c1GeRqhs2-uAdygMSTssw',\n",
       "       '-c7imk-hnsbfSqNe68xZcg', '-c9t77LeAfhc26e_VtPa5Q',\n",
       "       '-cDcRcTafKIUSvOeVkwlIQ', '-cUXBYcnwZl81o1JCz3qFg',\n",
       "       '-cWGEpeF2eUkJ2hWu-tD7A', '-cefE54dkMI9cJ8kWudebg',\n",
       "       '-cu7dZgrH95-VYcKzZSPMg', '-cwoSUKPvN3Xp0fvNIdP8g',\n",
       "       '-d2YdvXFPknukoWcJE74dQ', '-dDp99bqj2FEm11JUPXhug',\n",
       "       '-dN3ww2WYLkwAbZtJHcLHQ', '-dSBNes6SAT-PC_7cSr-LA',\n",
       "       '-dV5NyHfryP-s8gz6BF3zQ', '-dbM944bfCz-KeUD5gTErw',\n",
       "       '-dbvRNHhBPs4eXhu2k0_xA', '-ddIIDmG3b8k7-jALGM-1A',\n",
       "       '-dgC1iRp_JqBTmn5d1wRhg', '-dnERQYQCDVZFMMuh7bBDg',\n",
       "       '-doYBxcOjqWkUcPjc29otg', '-e5VFAI-WBHBL7PFMNArDg',\n",
       "       '-eBkx1Hl2A40GZAaZvXR1Q', '-eV9o-F_ejw7ov4s4FFVEQ',\n",
       "       '-eXQMvcIcOaX56CVSWVteA', '-eg6fCMY7UsXzd-ImafXPQ',\n",
       "       '-eneOTwr5fAo0bjYXHaPoQ', '-eoXg6Aq_7DPSGjk22kReg',\n",
       "       '-f2KvHiPd_5Wj_eL1JJUCQ', '-f8p-dBjGKrwVsi1sG6Sig',\n",
       "       '-fKG0wVdEPqy5IxGGznaTg', '-fMK6HsJsnH-Nscz2JwTaw',\n",
       "       '-fmwin22AJpmbRXvXpMxUA', '-foIP_JKiHcomkmI_M-8GA',\n",
       "       '-foYCv84A0n0HmsrDEAhtw', '-frybFHNHWnwd69LFXkOVQ',\n",
       "       '-g3XIcCb2b-BD0QBCcq2Sw', '-g8Cl0OINIPcGf1gZsyjlw',\n",
       "       '-g8nkLX6PGNDSgoy4YzjFA', '-gE77ci-b7ApX68uIdAnaw',\n",
       "       '-gFDA_I0xfeU9P4ZURYmZQ', '-gl8HgLsNHExQqmtfQ8lgQ',\n",
       "       '-gnVco-DuGt7zvPnj16ZnA', '-gyMF41B910teLQOVGZnHQ',\n",
       "       '-hFSXulXh22Es29Y4F4cgQ', '-hKniZN2OdshWLHYuj21jQ',\n",
       "       '-hb-jWOSILqYDe8HLrr9aQ', '-hf6FNSAnsIp1MMdtRJgBA',\n",
       "       '-hxUwfo3cMnLTv-CAaP69A', '-iWrF5qf9AddYxAqlEwK1A',\n",
       "       '-ibb_cZiaht_DjkIqDUF_Q', '-imdPiD9l7cS-x1jEDAS-w',\n",
       "       '-jJQl8lKSgT6pnpBAFhTTQ', '-jqm_UtGfAxHmLlsQNpM-A',\n",
       "       '-jt1ACMiZljnBFvS6RRvnA', '-kAQ-PSKx3i0st2B4aPpTg',\n",
       "       '-kDpJFEVRpoAzxJA9FFwTg', '-kLVfaJytOJY2-QdQoCcNQ',\n",
       "       '-kTKEXtFsb9CewUXCPTAlQ', '-kW2VFPCyyizlqwnj3CwHQ',\n",
       "       '-kuyXi1FKIpsV1CsXGQu4g', '-kv5SgKsr1i8C9dljeGPcA',\n",
       "       '-l1bn8D8iZ0n9Q0PgIDGBA', '-l5HFCjV6nKqp6PAcqObpA',\n",
       "       '-l9giG8TSDBG1jnUBUXp5w', '-lJ0XSiPzJdxxbcFU4uRqA',\n",
       "       '-lJ6tQVJKFw5vKvWcNR_0w', '-lSlKN2KghXU5jHY1-cv-g',\n",
       "       '-lTS1Ygsr9Y7urJszsbDUg', '-lg4J2SOILBJOxqH4S0x4g',\n",
       "       '-liQSRjb2O_Kf8Xv47WaiA', '-m2wWMUepSVL0S2RxRAgwQ',\n",
       "       '-mGJPKC0owz3HTrrZfgFUg', '-mJaCibjXvT7t49ij9Xx5A',\n",
       "       '-maGFFNQu4OoqATXJBXiAA', '-mm2-9291QyM1zpbnJRfsA',\n",
       "       '-msWxrqkNDSJxrNZwGlicg', '-nCH_8DkYmO0qcmG0Dr5Ag',\n",
       "       '-nHUAn6IfY2U-Joq7CuLEQ', '-nLeDin1p7-pcqo_-lRY3w',\n",
       "       '-ne-7caCLAk2j3kD7tzBGw', '-njdCWb2FkFFZ4VLZfgXJg',\n",
       "       '-nmTwBe8ITqGPNoImxWCLg', '-oC-DVZeD2VYloy6nSnHTQ',\n",
       "       '-oJU-p07RO4RrODHiDe-WQ', '-oQKlh1YJ-g49rNBJ2CmJw',\n",
       "       '-ocY4z7_hBL1mFBV48rpew', '-oldzSOhMXzZhZBuoh0tlQ',\n",
       "       '-osCLAwDukSX4xqIghmIjA', '-ou42X2Ny3erNTjUmYn60A',\n",
       "       '-pA0kPyInGN7zqaL2SxZTw', '-pPXOSt_46LzSp5_DSaSiA',\n",
       "       '-pUJtDKDeYYBa7ZoyJFBMw', '-pY1-iQMuIsatYzN669TQw',\n",
       "       '-paoxagCisJZXAhiVmwuXA', '-pfPBJzVB-EBwaFX8B59gQ',\n",
       "       '-pgtoEfNDBIG9DXV2L-Fkw', '-psUwKpni_VLBkiP-uLK7w',\n",
       "       '-puea0ToOJktj_Lkt4PBOg', '-pwvrcd7TGulm0tJeQzHRg',\n",
       "       '-q-TYZYa7o-zyKzAvgChyw', '-q30ut-nbjurnnowVoUNDg',\n",
       "       '-q6PI0Vs6Ci6haIB19u4_g', '-qAvMjM58F6SU09UHG7VIA',\n",
       "       '-qIPvkGU6W-ARviY5aIH2A', '-qMPPIyUxYMa0UZezcyn3A',\n",
       "       '-qPdaruV2eB3woGXfoWEjw', '-qPeQ_cDRfCnU1qVjNcCOQ',\n",
       "       '-qd2MdPJb07HxoBpqh9xWQ', '-qzdU0_NywmtPDB6WObYVQ',\n",
       "       '-r062wagCApSPi6PJ2ePEA', '-rBMUsCpWE3103q6ombunA',\n",
       "       '-rBPL3ntdbLnTw3uwZLfQw', '-rEUCXbUtkw0rWRdxnmRMQ',\n",
       "       '-rGU3wo4fgEnGRboYdMTjw', '-rQ706URCVoMAIn-cq1x2Q',\n",
       "       '-rYxChxsPwAd7JyK4yW65Q', '-riM6paMoa6XN6jLtD3zBA',\n",
       "       '-roDfyKNZ-ompb_myak7aw', '-s2Sf85f1QzTTeQnyuoE0Q',\n",
       "       '-sS9EH3qCpL7Thbp0R-UBA', '-sac-sCaPLUR8llnx7HEUg',\n",
       "       '-sfXjRSLdZACRy6kXTOCvg', '-sgySGhEoP9fbzDcQMu5Lw',\n",
       "       '-shHTy1CEmSMPVSehdASaw', '-soQ5IY73WpWvnv-98efLw',\n",
       "       '-srZqmR83vjSfR6PSUyVUA', '-t16WTKzFVzbC3sJ2EW3Uw',\n",
       "       '-t1ELS3wtVwpFHozbvNTpQ', '-t9pK2UfNPJJGwSM_c4KFw',\n",
       "       '-tbB4Yfu7MTOi7nAC-kPvA', '-tePwC1eknsTTsJcgKUfwA',\n",
       "       '-tz9i4wSQg4vSQzAA5Svqg', '-uGMDCVbBk1gH4miepwNIA',\n",
       "       '-uJaPhoNXikYWsb0xC09_A', '-uM1ujzuJed-2QmFS-6Vog',\n",
       "       '-uMqK8W_nWbRUWOFGW7CBw', '-uN9aA3CNY1Bl7M55Dopuw',\n",
       "       '-uRJ4dnraEaTZPT6fE3-eA', '-uWiPg0mOT8yW5iHIlNmfA',\n",
       "       '-uglef88WEwkI6UlAqwO0Q', '-uoYe4UkmJkYBP6aDTvlOA',\n",
       "       '-v2IPgrUSp3ZPvwLvLFAYg', '-v8nveSjJ3GihrRETN6j0Q',\n",
       "       '-vBbg7fTK3y8W0PtpzlLWQ', '-vFl5LV9Aqd494V9F4FBcQ',\n",
       "       '-vIpjG0zJXrBkuxvY1U0pw', '-vPtYuV_dMPb0Bbzg9ECVw',\n",
       "       '-vhy1GbvnAhkgeHkvk_Xww', '-vmpU0f609hjiTFwTWnucQ',\n",
       "       '-vqa0ss4956pvKg--I3q-A', '-vuflN4zvroYP5_2s2HMxQ',\n",
       "       '-vzCAGgF7gBf9-lxtmspmQ', '-wDwXIbaaHgWd9TeoTGIzw',\n",
       "       '-wHb3saowEIu9s6Cz6zYLw', '-wd41HcxuwQwZJRW9HoO1A',\n",
       "       '-wdWkg4IczkFTL1eSb_Vsw', '-wwJAl9PeGCH8N7jg1eRlA',\n",
       "       '-xMh-RMv1W2fJCZQ7y0Z-A', '-xTAmslBDE_mq-6Kbxieag',\n",
       "       '-xWtKHxDqJFydRgeg8D69w', '-xdsX7jzXH6UhJZhvzrLwg',\n",
       "       '-xtxhoC7IquHAA2IUTpLBA', '-y-R9jOTso_XAjDOrabdFg',\n",
       "       '-y4O_E79Z6QwEI1p4OU_0w', '-y7uVTgrnWWSulo2NUwywg',\n",
       "       '-yLEbXJEUtS_SjlB9tabaQ', '-yPMCoWJVzDgLkeilaZIqQ',\n",
       "       '-yY59glTwwEWiGzSlwI2_g', '-yi-3gWJn_vccgVDh3cNpg',\n",
       "       '-yqCTPAK9e9lxM90NQAlHQ', '-yrJh-TX-Z2jde5VJz86lg',\n",
       "       '-z3H9n37yC4JiFldoRgbPQ', '-zEIB2bwgD2zd4CiAdJCLA',\n",
       "       '-zG47SEyhX_R0xHtOVqnnA', '-zHcPJdu9uBpmP_20uHsHg',\n",
       "       '-z_Gplyh4E9K9izTvLtB0A', '-zjtYFKqNhStP1Rpud-kew',\n",
       "       '-zlQiR3mIJcu51Hw7FFy-A', '-zsbL7MqauI6roiC7YPJpA',\n",
       "       '-zuV9Du1HFHaQ6GnVyGWsQ', '0-5xw_rzNdoq0yezQPPLPg',\n",
       "       '0-8rHexnylRxhSO_KH5-rw', '0-TOlXYzoUcM9u-nQzM1AA',\n",
       "       '0-hb63A9uWjR1YIyVMu6rg', '0-n89YwF9LExnPIwgIVhoA',\n",
       "       '0045TtOuxbg0M_82rf4LCA', '005GchcM1HWBH3SFKrIxBA',\n",
       "       '009U_T7U644EAk5U3Bxmew', '009ljYtlWQR4dNWVO4WVcQ',\n",
       "       '00BBefH9DpD3fx9YjVB-bA', '00Cz_vdInMHpTRjqbWjK5Q',\n",
       "       '00IPtk7iLBxuRDFBbVtlTA', '00TOoSIg1EglVyLXCzeh6Q',\n",
       "       '012s68_rFT4vibI_VugLEg', '01B23PGLzHF8ZkXCoxITwQ',\n",
       "       '01IhGl0XmthVaN1n0yVpfQ', '01N9Otf8MzopKw4fp8A2Lw',\n",
       "       '01Ufq7I1hpRE1-83rFZT9A', '01ZpZzIntKw3M6wR0icMaQ',\n",
       "       '02-SSy4J4Kfmnt86LNKd3A', '02GsATC6GJSo4AOBTq4dfg',\n",
       "       '02H49g16MdRoZKoX6IEoFA', '02M0iCvzseXev3j9h2MZHA',\n",
       "       '02Q2AGW8w34t8xqO96RF2w', '02Ri-aJ-j8gNtVbp8B5rXA',\n",
       "       '02aRY3hTCHmVkmL8aHMbtg', '02hiLsAsIWQ4HpoarhCQig',\n",
       "       '02iXsCSnNmF5aEOvhvGs0w', '02ilC8hn5-OonrsvBuF_IQ',\n",
       "       '02qC5oS__MK9jB-ahxPw0A', '02tYMxGnwAwr_i2j5vh9XA',\n",
       "       '02wEYaZtJnYbTU_ckwP-qQ', '030xaqW2akhXYFdmOTmEng',\n",
       "       '033vQdWDVUgBR4gzTUuSvA', '03F1c27jkAikld3z5tSdpQ',\n",
       "       '03WfZImLqzK_FC3uU41Pgg', '03_BDF-7hbbiy9qId7nccA',\n",
       "       '03yXdJ4ulT62SMvpyLalRg', '03ywGcD8aQraY8zInfqknQ',\n",
       "       '040s1t6Bfq_aB6a4AEdKQA', '04D-K1IjJgDr8L9eBozfcA',\n",
       "       '04E2tyBChmxUeSw1awE40w', '04JlTjJRbcv_kS9xVPhOdg',\n",
       "       '04QDLvbl2ZDDjJznswVtcA', '04dMX-XE0wBhkkP3w_LfZA',\n",
       "       '04hS_dGfUZd_5iJYRdPHLw', '054f-dZbNKLY2oQZdSgHWg',\n",
       "       '05796MJj-TwACdzscsqpKg', '05HxFEbNldB-bDMK9_gGrg',\n",
       "       '05N0BHAFuLDH4hEPHris4w', '05YIWloogqe4GzYP2iiOjw',\n",
       "       '05e1vChXItt0JfwFBjpmJw', '05kMHFapG_z7YPZYhtIEEA',\n",
       "       '05xtJRBaxKlXQ4LfGXV_qQ', '064Z_GuIr54fgJdmDXqnGA',\n",
       "       '06NP34MOqHVaoppv1U0NSQ', '06Ts4Ma1oyTmjYjo6Lw-2A',\n",
       "       '06Vh6dw7DO0Aez07U0iZwg', '06a4nXB47hBDFaghFaTqtA',\n",
       "       '079OSWt6Uk1JVp1PXsTvIA', '07P10hEQf0gboe-JgyeB_g',\n",
       "       '07UEBeoQFeKo04oaOFaQBQ', '07aVWNhBhpwqW3MdqoKDKQ',\n",
       "       '07gdGKMkho4maba0lQyoQQ', '07iXf2xfdkyrjPDXm1hFQA',\n",
       "       '07shvAOb8znglcmjuNZxaA', '07tlfHzEdyhFybXUD36m8w',\n",
       "       '08CXQlc71bRpi8niNyFueQ', '08FzsE7dBXHSqU77H0-Odg',\n",
       "       '08L79P89GRdD6VpjzHeCsA', '08LioS7B84KsW5DmVOG_EQ',\n",
       "       '08V34sb6sPwdN97RzRXCNg', '08aghuhoTvCwFd4miecxCQ',\n",
       "       '08frwTJwLdJPM0gWDlRLdg', '08m1pM5keN0lx84c5Jyquw',\n",
       "       '08wIbJCYDZoYdbkDAMAb3w'], dtype=object)"
      ]
     },
     "execution_count": 16,
     "metadata": {},
     "output_type": "execute_result"
    }
   ],
   "source": [
    "df_ranked_results['user_id'].unique()"
   ]
  },
  {
   "cell_type": "markdown",
   "id": "396d3e49",
   "metadata": {},
   "source": [
    "### import df_review & define popular and long tail businesses"
   ]
  },
  {
   "cell_type": "code",
   "execution_count": 3,
   "id": "f2e29855",
   "metadata": {},
   "outputs": [],
   "source": [
    "import sys\n",
    "sys.path.append('../')\n",
    "from utilities import *"
   ]
  },
  {
   "cell_type": "code",
   "execution_count": 4,
   "id": "bf362ece",
   "metadata": {},
   "outputs": [
    {
     "name": "stdout",
     "output_type": "stream",
     "text": [
      "Loaded 78059 rows from business table.\n",
      "Loaded 360656 rows from categories table.\n",
      "Loaded 980418 rows from review table.\n",
      "Loaded 229447 rows from user table.\n"
     ]
    }
   ],
   "source": [
    "# Define the database folder path and file names\n",
    "db_folder = '../../data/processed_data/yelp_data/'\n",
    "data_files = ['business', 'categories', 'review', 'user']\n",
    "\n",
    "# Load data into a dictionary\n",
    "yelp_data = load_data_from_db(db_folder, data_files)\n",
    "\n",
    "# Check loaded data\n",
    "for table, df in yelp_data.items():\n",
    "    print(f\"Loaded {len(df)} rows from {table} table.\")"
   ]
  },
  {
   "cell_type": "code",
   "execution_count": 5,
   "id": "ef0d63b4",
   "metadata": {},
   "outputs": [],
   "source": [
    "df_business = yelp_data[\"business\"]\n",
    "df_business = df_business[['business_id', 'review_count']].dropna()"
   ]
  },
  {
   "cell_type": "code",
   "execution_count": 6,
   "id": "f9dcb100",
   "metadata": {},
   "outputs": [],
   "source": [
    "total_reviews = df_business['review_count'].sum()\n",
    "# Sort review counts descending\n",
    "review_counts_sorted = df_business.sort_values(\"review_count\", ascending=False).reset_index(drop=True)\n",
    "review_counts_sorted['cum_reviews'] = review_counts_sorted['review_count'].cumsum()\n",
    "review_counts_sorted['cum_percent'] = review_counts_sorted['cum_reviews'] / total_reviews"
   ]
  },
  {
   "cell_type": "code",
   "execution_count": 10,
   "id": "9e6d2003",
   "metadata": {},
   "outputs": [
    {
     "data": {
      "text/html": [
       "<div>\n",
       "<style scoped>\n",
       "    .dataframe tbody tr th:only-of-type {\n",
       "        vertical-align: middle;\n",
       "    }\n",
       "\n",
       "    .dataframe tbody tr th {\n",
       "        vertical-align: top;\n",
       "    }\n",
       "\n",
       "    .dataframe thead th {\n",
       "        text-align: right;\n",
       "    }\n",
       "</style>\n",
       "<table border=\"1\" class=\"dataframe\">\n",
       "  <thead>\n",
       "    <tr style=\"text-align: right;\">\n",
       "      <th></th>\n",
       "      <th>business_id</th>\n",
       "      <th>review_count</th>\n",
       "      <th>cum_reviews</th>\n",
       "      <th>cum_percent</th>\n",
       "    </tr>\n",
       "  </thead>\n",
       "  <tbody>\n",
       "    <tr>\n",
       "      <th>0</th>\n",
       "      <td>_ab50qdWOk0DdB6XOrBitw</td>\n",
       "      <td>7568</td>\n",
       "      <td>7568</td>\n",
       "      <td>0.001305</td>\n",
       "    </tr>\n",
       "    <tr>\n",
       "      <th>1</th>\n",
       "      <td>ac1AeYqs8Z4_e2X5M3if2A</td>\n",
       "      <td>7400</td>\n",
       "      <td>14968</td>\n",
       "      <td>0.002580</td>\n",
       "    </tr>\n",
       "    <tr>\n",
       "      <th>2</th>\n",
       "      <td>GXFMD0Z4jEVZBCsbPf4CTQ</td>\n",
       "      <td>6093</td>\n",
       "      <td>21061</td>\n",
       "      <td>0.003631</td>\n",
       "    </tr>\n",
       "    <tr>\n",
       "      <th>3</th>\n",
       "      <td>ytynqOUb3hjKeJfRj5Tshw</td>\n",
       "      <td>5721</td>\n",
       "      <td>26782</td>\n",
       "      <td>0.004617</td>\n",
       "    </tr>\n",
       "    <tr>\n",
       "      <th>4</th>\n",
       "      <td>oBNrLz4EDhiscSlbOl8uAw</td>\n",
       "      <td>5193</td>\n",
       "      <td>31975</td>\n",
       "      <td>0.005512</td>\n",
       "    </tr>\n",
       "    <tr>\n",
       "      <th>...</th>\n",
       "      <td>...</td>\n",
       "      <td>...</td>\n",
       "      <td>...</td>\n",
       "      <td>...</td>\n",
       "    </tr>\n",
       "    <tr>\n",
       "      <th>78054</th>\n",
       "      <td>EGnlAVXdGpUQWl0AlG5L-A</td>\n",
       "      <td>5</td>\n",
       "      <td>5800850</td>\n",
       "      <td>0.999997</td>\n",
       "    </tr>\n",
       "    <tr>\n",
       "      <th>78055</th>\n",
       "      <td>JGJqPMFUyE_H2j8zOypR8g</td>\n",
       "      <td>5</td>\n",
       "      <td>5800855</td>\n",
       "      <td>0.999997</td>\n",
       "    </tr>\n",
       "    <tr>\n",
       "      <th>78056</th>\n",
       "      <td>g3CBrw-O3JSwLedn8SaXPg</td>\n",
       "      <td>5</td>\n",
       "      <td>5800860</td>\n",
       "      <td>0.999998</td>\n",
       "    </tr>\n",
       "    <tr>\n",
       "      <th>78057</th>\n",
       "      <td>3LD2JUarSKmBo3ovENj9gQ</td>\n",
       "      <td>5</td>\n",
       "      <td>5800865</td>\n",
       "      <td>0.999999</td>\n",
       "    </tr>\n",
       "    <tr>\n",
       "      <th>78058</th>\n",
       "      <td>3S9TnQHmWCpBpoI5IG549Q</td>\n",
       "      <td>5</td>\n",
       "      <td>5800870</td>\n",
       "      <td>1.000000</td>\n",
       "    </tr>\n",
       "  </tbody>\n",
       "</table>\n",
       "<p>78059 rows × 4 columns</p>\n",
       "</div>"
      ],
      "text/plain": [
       "                  business_id  review_count  cum_reviews  cum_percent\n",
       "0      _ab50qdWOk0DdB6XOrBitw          7568         7568     0.001305\n",
       "1      ac1AeYqs8Z4_e2X5M3if2A          7400        14968     0.002580\n",
       "2      GXFMD0Z4jEVZBCsbPf4CTQ          6093        21061     0.003631\n",
       "3      ytynqOUb3hjKeJfRj5Tshw          5721        26782     0.004617\n",
       "4      oBNrLz4EDhiscSlbOl8uAw          5193        31975     0.005512\n",
       "...                       ...           ...          ...          ...\n",
       "78054  EGnlAVXdGpUQWl0AlG5L-A             5      5800850     0.999997\n",
       "78055  JGJqPMFUyE_H2j8zOypR8g             5      5800855     0.999997\n",
       "78056  g3CBrw-O3JSwLedn8SaXPg             5      5800860     0.999998\n",
       "78057  3LD2JUarSKmBo3ovENj9gQ             5      5800865     0.999999\n",
       "78058  3S9TnQHmWCpBpoI5IG549Q             5      5800870     1.000000\n",
       "\n",
       "[78059 rows x 4 columns]"
      ]
     },
     "execution_count": 10,
     "metadata": {},
     "output_type": "execute_result"
    }
   ],
   "source": [
    "review_counts_sorted"
   ]
  },
  {
   "cell_type": "code",
   "execution_count": 42,
   "id": "8d40eef9",
   "metadata": {},
   "outputs": [
    {
     "name": "stdout",
     "output_type": "stream",
     "text": [
      "Cutoff Review Count: 127\n",
      "# Popular Items: 11174 | # Long-Tail Items: 66885\n"
     ]
    }
   ],
   "source": [
    "# Find the index where cumulative review % exceeds 80%\n",
    "cutoff_index = review_counts_sorted[review_counts_sorted['cum_percent'] >= 0.6].index[0]\n",
    "review_cutoff_value = review_counts_sorted.loc[cutoff_index, 'review_count']\n",
    "\n",
    "# Define popular and long-tail items\n",
    "popular_items = set(review_counts_sorted.loc[:cutoff_index, 'business_id'])\n",
    "long_tail_items = set(review_counts_sorted.loc[cutoff_index+1:, 'business_id'])\n",
    "\n",
    "print(f\"Cutoff Review Count: {review_cutoff_value}\")\n",
    "print(f\"# Popular Items: {len(popular_items)} | # Long-Tail Items: {len(long_tail_items)}\")"
   ]
  },
  {
   "cell_type": "code",
   "execution_count": null,
   "id": "6d43dfb4",
   "metadata": {},
   "outputs": [],
   "source": []
  },
  {
   "cell_type": "markdown",
   "id": "395f9a1e",
   "metadata": {},
   "source": [
    "### ranking evaluation"
   ]
  },
  {
   "cell_type": "code",
   "execution_count": 21,
   "id": "b2d4ac20",
   "metadata": {},
   "outputs": [],
   "source": [
    "df_ranked_results = df_ranked_results.sort_values(by=[\"user_id\", \"score\"], ascending=[True, False]) \n",
    "grouped = df_ranked_results.groupby(\"user_id\")\n",
    "relevance_per_user = grouped[\"real_label\"].apply(list).to_dict()"
   ]
  },
  {
   "cell_type": "code",
   "execution_count": 64,
   "id": "35c0185d",
   "metadata": {},
   "outputs": [],
   "source": [
    "def mean_reciprocal_rank(relevance_dict):\n",
    "    rr_list = []\n",
    "    for rels in relevance_dict.values():\n",
    "        try:\n",
    "            rank = rels.index(1) + 1  # 1-based rank\n",
    "            rr_list.append(1 / rank)\n",
    "        except ValueError:\n",
    "            rr_list.append(0)\n",
    "    return np.mean(rr_list)\n"
   ]
  },
  {
   "cell_type": "code",
   "execution_count": 65,
   "id": "cd0a59a8",
   "metadata": {},
   "outputs": [],
   "source": [
    "def first_relevant_rank(relevance_dict):\n",
    "    ranks = []\n",
    "    for rels in relevance_dict.values():\n",
    "        try:\n",
    "            rank = rels.index(1) + 1\n",
    "        except ValueError:\n",
    "            rank = None\n",
    "        ranks.append(rank)\n",
    "    return ranks  # return raw list for analysis\n"
   ]
  },
  {
   "cell_type": "code",
   "execution_count": 66,
   "id": "8dd14c61",
   "metadata": {},
   "outputs": [],
   "source": [
    "def dcg(rels, k=None):\n",
    "    if k:\n",
    "        rels = rels[:k]\n",
    "    return sum((2**rel - 1) / np.log2(i + 2) for i, rel in enumerate(rels))\n",
    "\n",
    "def ndcg_at_k(relevance_dict, k=10):\n",
    "    scores = []\n",
    "    for rels in relevance_dict.values():\n",
    "        dcg_val = dcg(rels, k)\n",
    "        ideal_rels = sorted(rels, reverse=True)\n",
    "        idcg_val = dcg(ideal_rels, k)\n",
    "        scores.append(dcg_val / idcg_val if idcg_val > 0 else 0)\n",
    "    return np.mean(scores)\n",
    "\n",
    "def ndcg_all(relevance_dict):\n",
    "    return ndcg_at_k(relevance_dict, k=None)\n"
   ]
  },
  {
   "cell_type": "code",
   "execution_count": 67,
   "id": "de3b74f9",
   "metadata": {},
   "outputs": [],
   "source": [
    "def recall_at_k(relevance_dict, k=10):\n",
    "    recalls = []\n",
    "    for rels in relevance_dict.values():\n",
    "        relevant_total = sum(rels)\n",
    "        if relevant_total == 0:\n",
    "            recalls.append(0)\n",
    "            continue\n",
    "        recalls.append(sum(rels[:k]) / relevant_total)\n",
    "    return np.mean(recalls)\n"
   ]
  },
  {
   "cell_type": "code",
   "execution_count": 68,
   "id": "303a73f8",
   "metadata": {},
   "outputs": [],
   "source": [
    "def average_precision(rels):\n",
    "    score = 0\n",
    "    hit_count = 0\n",
    "    for i, rel in enumerate(rels):\n",
    "        if rel == 1:\n",
    "            hit_count += 1\n",
    "            score += hit_count / (i + 1)\n",
    "    return score / hit_count if hit_count > 0 else 0\n",
    "\n",
    "def mean_average_precision(relevance_dict):\n",
    "    return np.mean([average_precision(rels) for rels in relevance_dict.values()])\n"
   ]
  },
  {
   "cell_type": "code",
   "execution_count": 69,
   "id": "0987a557",
   "metadata": {},
   "outputs": [
    {
     "name": "stdout",
     "output_type": "stream",
     "text": [
      "MRR: 0.0004\n",
      "Mean First Relevant Rank: 43.60\n",
      "NDCG@10: 0.0000\n",
      "NDCG_all: 0.0020\n",
      "Recall@10: 0.0000\n",
      "MAP: 0.0004\n"
     ]
    }
   ],
   "source": [
    "mrr = mean_reciprocal_rank(relevance_per_user)\n",
    "first_ranks = first_relevant_rank(relevance_per_user)\n",
    "ndcg_10 = ndcg_at_k(relevance_per_user, k=10)\n",
    "ndcg_all_val = ndcg_all(relevance_per_user)\n",
    "recall_10 = recall_at_k(relevance_per_user, k=10)\n",
    "map_score = mean_average_precision(relevance_per_user)\n",
    "\n",
    "print(f\"MRR: {mrr:.4f}\")\n",
    "print(f\"Mean First Relevant Rank: {np.mean([r for r in first_ranks if r is not None]):.2f}\")\n",
    "print(f\"NDCG@10: {ndcg_10:.4f}\")\n",
    "print(f\"NDCG_all: {ndcg_all_val:.4f}\")\n",
    "print(f\"Recall@10: {recall_10:.4f}\")\n",
    "print(f\"MAP: {map_score:.4f}\")\n"
   ]
  },
  {
   "cell_type": "code",
   "execution_count": null,
   "id": "dbe0f5f4",
   "metadata": {},
   "outputs": [],
   "source": []
  },
  {
   "cell_type": "markdown",
   "id": "65b298bb",
   "metadata": {},
   "source": [
    "### popularity analysis"
   ]
  },
  {
   "cell_type": "code",
   "execution_count": 8,
   "id": "a3f1943f",
   "metadata": {},
   "outputs": [],
   "source": [
    "def compute_long_tail_metrics(recommendations_df, popular_items, long_tail_items):\n",
    "    # Total number of unique businesses recommended\n",
    "    unique_recommended_businesses = set(recommendations_df['business_id'])\n",
    "    \n",
    "    # Long-Tail Coverage: proportion of unique recommended businesses that are long-tail\n",
    "    long_tail_recommended = unique_recommended_businesses.intersection(long_tail_items)\n",
    "    long_tail_coverage = len(long_tail_recommended) / len(unique_recommended_businesses) if unique_recommended_businesses else 0\n",
    "\n",
    "    # Popularity Bias: total # of recs that belong to popular items\n",
    "    popular_recs = recommendations_df['business_id'].isin(popular_items).sum()\n",
    "    total_recs = len(recommendations_df)\n",
    "    popularity_bias = popular_recs / total_recs if total_recs else 0\n",
    "\n",
    "    # Gini Coefficient (unchanged)\n",
    "    rec_counts = recommendations_df['business_id'].value_counts()\n",
    "    n = len(rec_counts)\n",
    "    if n == 0:\n",
    "        gini = 0\n",
    "    else:\n",
    "        sorted_counts = rec_counts.sort_values().values\n",
    "        cum = np.cumsum(sorted_counts)\n",
    "        gini = 1 - 2 * np.sum((cum - sorted_counts / 2) / cum[-1]) / n\n",
    "\n",
    "    # change to float\n",
    "    long_tail_coverage = float(long_tail_coverage)\n",
    "    gini = float(gini)\n",
    "    popularity_bias = float(popularity_bias)\n",
    "    return long_tail_coverage, gini, popularity_bias"
   ]
  },
  {
   "cell_type": "code",
   "execution_count": 9,
   "id": "54078131",
   "metadata": {},
   "outputs": [
    {
     "name": "stdout",
     "output_type": "stream",
     "text": [
      "Long-Tail Coverage: 0.30556\n",
      "Gini Coefficient: 0.76384\n",
      "Popularity Bias: 0.85908\n"
     ]
    }
   ],
   "source": [
    "# Compute metrics\n",
    "long_tail_coverage, gini, popularity_bias = compute_long_tail_metrics(df_ranked_results, popular_items, long_tail_items)\n",
    "print(f\"Long-Tail Coverage: {long_tail_coverage:.5f}\")\n",
    "print(f\"Gini Coefficient: {gini:.5f}\")\n",
    "print(f\"Popularity Bias: {popularity_bias:.5f}\")\n"
   ]
  },
  {
   "cell_type": "code",
   "execution_count": 25,
   "id": "a4cec30d",
   "metadata": {},
   "outputs": [
    {
     "data": {
      "text/plain": [
       "858"
      ]
     },
     "execution_count": 25,
     "metadata": {},
     "output_type": "execute_result"
    }
   ],
   "source": [
    "df_ranked_results['business_id'].nunique()"
   ]
  },
  {
   "cell_type": "code",
   "execution_count": 47,
   "id": "51dd6440",
   "metadata": {},
   "outputs": [],
   "source": [
    "df_ranked_results = df_ranked_results.groupby('user_id').head(100)\n"
   ]
  },
  {
   "cell_type": "code",
   "execution_count": 48,
   "id": "e3d59938",
   "metadata": {},
   "outputs": [
    {
     "name": "stdout",
     "output_type": "stream",
     "text": [
      "Long-Tail Coverage: 0.35315\n",
      "Gini Coefficient: 0.78391\n",
      "Popularity Bias: 0.78205\n"
     ]
    }
   ],
   "source": [
    "long_tail_coverage, gini, popularity_bias = compute_long_tail_metrics(df_ranked_results, popular_items, long_tail_items)\n",
    "print(f\"Long-Tail Coverage: {long_tail_coverage:.5f}\")\n",
    "print(f\"Gini Coefficient: {gini:.5f}\")\n",
    "print(f\"Popularity Bias: {popularity_bias:.5f}\")"
   ]
  },
  {
   "cell_type": "markdown",
   "id": "5089c4e2",
   "metadata": {},
   "source": [
    "### visualization"
   ]
  },
  {
   "cell_type": "code",
   "execution_count": 49,
   "id": "fad714b6",
   "metadata": {},
   "outputs": [
    {
     "data": {
      "text/plain": [
       "(np.float64(-1.1282060501498594),\n",
       " np.float64(1.1013430570323928),\n",
       " np.float64(-1.1006672740371748),\n",
       " np.float64(1.1140225122936296))"
      ]
     },
     "execution_count": 49,
     "metadata": {},
     "output_type": "execute_result"
    },
    {
     "data": {
      "image/png": "[encoded data removed]",
      "text/plain": [
       "<Figure size 800x600 with 1 Axes>"
      ]
     },
     "metadata": {},
     "output_type": "display_data"
    }
   ],
   "source": [
    "# Set Seaborn style and context for improved aesthetics\n",
    "sns.set_style(\"white\")\n",
    "sns.set_context(\"notebook\", font_scale=1.2)\n",
    "\n",
    "# Long-Tail Coverage Pie Chart\n",
    "unique_recommended_businesses = set(df_ranked_results['business_id'])\n",
    "long_tail_recommended = unique_recommended_businesses.intersection(long_tail_items)\n",
    "popular_recommended = unique_recommended_businesses.intersection(popular_items)\n",
    "long_tail_count = len(long_tail_recommended)\n",
    "popular_count = len(popular_recommended)\n",
    "\n",
    "plt.figure(figsize=(8, 6))\n",
    "labels = [f'Long-Tail Businesses\\n({long_tail_count})', f'Popular Businesses\\n({popular_count})']\n",
    "sizes = [long_tail_count, popular_count]\n",
    "# colors = sns.color_palette(\"pastel\")[4:6]  # Use Seaborn's pastel palette\n",
    "colors = ['skyblue', 'mediumaquamarine']\n",
    "\n",
    "explode = (0.03, 0)  # Slightly separate the first wedge\n",
    "\n",
    "plt.pie(sizes, labels=labels, colors=colors, autopct='%1.1f%%', startangle=90, \n",
    "        textprops={'fontsize': 12}, shadow=False, explode=explode)\n",
    "plt.title('Long-Tail Coverage: Unique Recommended Businesses', pad=20)\n",
    "plt.axis('equal')"
   ]
  },
  {
   "cell_type": "code",
   "execution_count": 50,
   "id": "82473223",
   "metadata": {},
   "outputs": [
    {
     "data": {
      "text/plain": [
       "(np.float64(-1.0999998888480194),\n",
       " np.float64(1.0999999716661912),\n",
       " np.float64(-1.101161832777397),\n",
       " np.float64(1.1243999333833206))"
      ]
     },
     "execution_count": 50,
     "metadata": {},
     "output_type": "execute_result"
    },
    {
     "data": {
      "image/png": "[encoded data removed]",
      "text/plain": [
       "<Figure size 800x600 with 1 Axes>"
      ]
     },
     "metadata": {},
     "output_type": "display_data"
    }
   ],
   "source": [
    "# Popularity Bias Pie Chart\n",
    "popular_recs = df_ranked_results['business_id'].isin(popular_items).sum()\n",
    "long_tail_recs = len(df_ranked_results) - popular_recs\n",
    "\n",
    "plt.figure(figsize=(8, 6))\n",
    "# label with counts\n",
    "labels = [f'Long-Tail Recommendations\\n({long_tail_recs})', f'Popular Recommendations\\n({popular_recs})']\n",
    "sizes = [long_tail_recs, popular_recs]\n",
    "colors = ['skyblue', 'mediumaquamarine']\n",
    "explode = (0.03, 0.0)  # Slightly separate the first wedge\n",
    "plt.pie(sizes, labels=labels, colors=colors, autopct='%1.1f%%', startangle=90, textprops={'fontsize': 12}, explode=explode)\n",
    "plt.title('Popularity Bias: Distribution of Recommendations')\n",
    "plt.axis('equal')"
   ]
  },
  {
   "cell_type": "code",
   "execution_count": 51,
   "id": "2e431d30",
   "metadata": {},
   "outputs": [
    {
     "data": {
      "text/plain": [
       "(0.0, 0.010512883962166706)"
      ]
     },
     "execution_count": 51,
     "metadata": {},
     "output_type": "execute_result"
    },
    {
     "data": {
      "image/png": "[encoded data removed]",
      "text/plain": [
       "<Figure size 1000x600 with 1 Axes>"
      ]
     },
     "metadata": {},
     "output_type": "display_data"
    }
   ],
   "source": [
    "from scipy.stats import gaussian_kde\n",
    "\n",
    "# Set Seaborn style and context for improved aesthetics\n",
    "sns.set_style(\"whitegrid\")\n",
    "sns.set_context(\"notebook\", font_scale=1.2)\n",
    "\n",
    "# Gini Coefficient PDF Plot\n",
    "rec_counts = df_ranked_results['business_id'].value_counts().values\n",
    "kde = gaussian_kde(rec_counts)\n",
    "x = np.linspace(min(rec_counts), max(rec_counts), 100)\n",
    "y = kde(x)\n",
    "\n",
    "plt.figure(figsize=(10, 6))\n",
    "sns.lineplot(x=x, y=y, color='#1f77b4', label='PDF of Recommendation Counts')\n",
    "plt.fill_between(x, y, alpha=0.2, color='#1f77b4')\n",
    "plt.title('PDF of Recommendation Counts with Gini Coefficient', pad=20)\n",
    "plt.xlabel('Number of Recommendations per Business')\n",
    "plt.ylabel('Density')\n",
    "plt.text(0.95, 0.85, f'Gini Coefficient: {gini:.3f}', transform=plt.gca().transAxes, \n",
    "         ha='right', va='top', bbox=dict(facecolor='white', alpha=0.8, edgecolor='gray'))\n",
    "plt.xlim(left=0)\n",
    "plt.ylim(bottom=0, top=max(y)*1.1)\n",
    "# plt.legend(loc='upper right')"
   ]
  },
  {
   "cell_type": "code",
   "execution_count": null,
   "id": "d1ec1ac0",
   "metadata": {},
   "outputs": [],
   "source": []
  }
 ],
 "metadata": {
  "kernelspec": {
   "display_name": "content-recommendation-mCG3KVaj",
   "language": "python",
   "name": "python3"
  },
  "language_info": {
   "codemirror_mode": {
    "name": "ipython",
    "version": 3
   },
   "file_extension": ".py",
   "mimetype": "text/x-python",
   "name": "python",
   "nbconvert_exporter": "python",
   "pygments_lexer": "ipython3",
   "version": "3.11.4"
  }
 },
 "nbformat": 4,
 "nbformat_minor": 5
}
