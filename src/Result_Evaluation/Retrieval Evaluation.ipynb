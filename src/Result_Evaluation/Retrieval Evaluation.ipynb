{
 "cells": [
  {
   "cell_type": "code",
   "execution_count": 5,
   "metadata": {},
   "outputs": [],
   "source": [
    "import sqlite3\n",
    "import pickle\n",
    "import pandas as pd\n",
    "import numpy as np\n",
    "from scipy.stats import entropy\n",
    "from itertools import combinations\n",
    "import matplotlib.pyplot as plt\n",
    "from matplotlib_venn import venn3\n",
    "from scipy.sparse import csr_matrix\n",
    "from sklearn.metrics.pairwise import cosine_similarity\n"
   ]
  },
  {
   "cell_type": "code",
   "execution_count": 6,
   "metadata": {},
   "outputs": [],
   "source": [
    "# Optimize SQLite database for performance\n",
    "def optimize_db(conn):\n",
    "    cursor = conn.cursor()\n",
    "    cursor.executescript('''\n",
    "        PRAGMA synchronous = OFF;\n",
    "        PRAGMA journal_mode = MEMORY;\n",
    "        PRAGMA temp_store = MEMORY;\n",
    "        PRAGMA cache_size = 1000000;\n",
    "    ''')\n",
    "    conn.commit()\n",
    "\n",
    "# Connect and set up the database\n",
    "db_path = './Retrieval.db'\n",
    "conn = sqlite3.connect(db_path)\n",
    "optimize_db(conn)"
   ]
  },
  {
   "cell_type": "code",
   "execution_count": 7,
   "metadata": {},
   "outputs": [],
   "source": [
    "# cursor = conn.cursor()\n",
    "# cursor.execute('''CREATE TABLE IF NOT EXISTS recommendations (\n",
    "#     model TEXT, user_id TEXT, business_id TEXT, real_label INTEGER,\n",
    "#     UNIQUE (model, user_id, business_id)\n",
    "# );''')\n",
    "# conn.close()"
   ]
  },
  {
   "cell_type": "code",
   "execution_count": 8,
   "metadata": {},
   "outputs": [],
   "source": [
    "# Load data into a DataFrame\n",
    "conn = sqlite3.connect(db_path)\n",
    "df = pd.DataFrame(columns=[\"model\", \"user_id\", \"business_id\", \"real_label\"])\n",
    "for chunk in pd.read_sql_query(\"SELECT * FROM recommendations\", conn, chunksize=10000):\n",
    "    df = pd.concat([df, chunk])\n",
    "conn.close()"
   ]
  },
  {
   "cell_type": "code",
   "execution_count": 9,
   "metadata": {},
   "outputs": [],
   "source": [
    "db_folder = '../../data/processed_data/yelp_data/'\n",
    "conn = sqlite3.connect(db_folder + 'yelp_business_data.db')\n",
    "categories_df = pd.read_sql_query(\"SELECT * FROM business_categories\", conn)\n",
    "business_df = pd.read_sql_query(\"SELECT * FROM business_details\", conn)\n",
    "conn.close()\n",
    "\n",
    "with open('categories_encoder.pkl', 'rb') as f:\n",
    "    categories_encoder = pickle.load(f)\n",
    "\n",
    "categories_df['category_encoded'] = categories_encoder.transform(categories_df['category'])\n",
    "categories_df = categories_df.groupby('business_id')['category_encoded'].apply(list).reset_index()\n",
    "# categories_df['top_categories'] = categories_df['category_encoded'].apply(lambda cats: cats[:5])"
   ]
  },
  {
   "cell_type": "code",
   "execution_count": 10,
   "metadata": {},
   "outputs": [],
   "source": [
    "all_categories = set()\n",
    "for cats in categories_df['category_encoded']:\n",
    "    all_categories.update(cats)\n",
    "all_categories = sorted(all_categories)\n",
    "cat_to_index = {cat: idx for idx, cat in enumerate(all_categories)}"
   ]
  },
  {
   "cell_type": "code",
   "execution_count": null,
   "metadata": {},
   "outputs": [],
   "source": [
    "rows, cols, data = [], [], []\n",
    "for i, cats in enumerate(categories_df['category_encoded']):\n",
    "    for cat in cats:  # now including all categories in the list\n",
    "        rows.append(i)\n",
    "        cols.append(cat_to_index[cat])\n",
    "        data.append(1)\n",
    "\n",
    "binary_matrix = csr_matrix((data, (rows, cols)), shape=(len(categories_df), len(all_categories)))\n",
    "\n",
    "\n",
    "binary_matrix.data = np.nan_to_num(binary_matrix.data)"
   ]
  },
  {
   "cell_type": "code",
   "execution_count": null,
   "metadata": {},
   "outputs": [],
   "source": [
    "def sparse_cosine_similarity_topn(A, top_n, threshold=0):\n",
    "    # Compute the top N cosine similarities in a sparse format\n",
    "    C = sp_matmul_topn(A.T, A.T, top_n=top_n, threshold=threshold, n_threads=4, sort=True)\n",
    "    return C"
   ]
  },
  {
   "cell_type": "code",
   "execution_count": 14,
   "metadata": {},
   "outputs": [
    {
     "data": {
      "text/plain": [
       "<Compressed Sparse Row sparse matrix of dtype 'int64'\n",
       "\twith 302880 stored elements and shape (78032, 27)>"
      ]
     },
     "execution_count": 14,
     "metadata": {},
     "output_type": "execute_result"
    }
   ],
   "source": [
    "binary_matrix"
   ]
  },
  {
   "cell_type": "code",
   "execution_count": 12,
   "metadata": {},
   "outputs": [
    {
     "ename": "NameError",
     "evalue": "name 'cosine_sim_matrix' is not defined",
     "output_type": "error",
     "traceback": [
      "\u001b[1;31m---------------------------------------------------------------------------\u001b[0m",
      "\u001b[1;31mNameError\u001b[0m                                 Traceback (most recent call last)",
      "Cell \u001b[1;32mIn[12], line 4\u001b[0m\n\u001b[0;32m      1\u001b[0m \u001b[38;5;66;03m# cosine_sim_matrix = cosine_similarity(binary_matrix)\u001b[39;00m\n\u001b[0;32m      3\u001b[0m business_ids \u001b[38;5;241m=\u001b[39m categories_df[\u001b[38;5;124m'\u001b[39m\u001b[38;5;124mbusiness_id\u001b[39m\u001b[38;5;124m'\u001b[39m]\u001b[38;5;241m.\u001b[39mtolist()\n\u001b[1;32m----> 4\u001b[0m cosine_sim_df \u001b[38;5;241m=\u001b[39m pd\u001b[38;5;241m.\u001b[39mDataFrame(\u001b[43mcosine_sim_matrix\u001b[49m, index\u001b[38;5;241m=\u001b[39mbusiness_ids, columns\u001b[38;5;241m=\u001b[39mbusiness_ids)\n\u001b[0;32m      5\u001b[0m \u001b[38;5;28mprint\u001b[39m(\u001b[38;5;124m\"\u001b[39m\u001b[38;5;124mCosine Similarity Matrix:\u001b[39m\u001b[38;5;124m\"\u001b[39m)\n\u001b[0;32m      6\u001b[0m \u001b[38;5;28mprint\u001b[39m(cosine_sim_df)\n",
      "\u001b[1;31mNameError\u001b[0m: name 'cosine_sim_matrix' is not defined"
     ]
    }
   ],
   "source": [
    "\n",
    "# cosine_sim_matrix = cosine_similarity(binary_matrix)\n",
    "\n",
    "business_ids = categories_df['business_id'].tolist()\n",
    "cosine_sim_df = pd.DataFrame(cosine_sim_matrix, index=business_ids, columns=business_ids)\n",
    "print(\"Cosine Similarity Matrix:\")\n",
    "print(cosine_sim_df)"
   ]
  },
  {
   "cell_type": "code",
   "execution_count": null,
   "metadata": {},
   "outputs": [],
   "source": []
  },
  {
   "cell_type": "code",
   "execution_count": null,
   "metadata": {},
   "outputs": [],
   "source": [
    "# Define the list of models\n",
    "models = ['ItemCF', 'DSSM', 'UserCF']\n",
    "\n",
    "# Create sets for analysis (using all pairs, not just positive ones)\n",
    "pairs = {model: set(df[df['model'] == model][['user_id', 'business_id']].apply(tuple, axis=1)) \n",
    "         for model in models}\n",
    "items = {model: set(df[df['model'] == model]['business_id']) \n",
    "         for model in models}\n",
    "users = {model: set(df[df['model'] == model]['user_id']) \n",
    "         for model in models}\n",
    "recs = {model: df[df['model'] == model].groupby('user_id')['business_id'].apply(set).to_dict() for model in models}\n",
    "\n",
    "# Calculate total Items, pairs, and users across all models\n",
    "total_unique_items = len(set.union(*[items[model] for model in models]))\n",
    "total_unique_pairs = len(set.union(*[pairs[model] for model in models]))\n",
    "total_unique_users = len(set.union(*[users[model] for model in models]))"
   ]
  },
  {
   "cell_type": "code",
   "execution_count": null,
   "metadata": {},
   "outputs": [
    {
     "name": "stdout",
     "output_type": "stream",
     "text": [
      "\n",
      "Background Information for Unique:\n"
     ]
    },
    {
     "data": {
      "text/html": [
       "<div>\n",
       "<style scoped>\n",
       "    .dataframe tbody tr th:only-of-type {\n",
       "        vertical-align: middle;\n",
       "    }\n",
       "\n",
       "    .dataframe tbody tr th {\n",
       "        vertical-align: top;\n",
       "    }\n",
       "\n",
       "    .dataframe thead th {\n",
       "        text-align: right;\n",
       "    }\n",
       "</style>\n",
       "<table border=\"1\" class=\"dataframe\">\n",
       "  <thead>\n",
       "    <tr style=\"text-align: right;\">\n",
       "      <th></th>\n",
       "      <th>Unique Users</th>\n",
       "      <th>%</th>\n",
       "      <th>Avg Businesses/User</th>\n",
       "      <th>Unique Businesses</th>\n",
       "      <th>%</th>\n",
       "      <th>Entropy</th>\n",
       "    </tr>\n",
       "  </thead>\n",
       "  <tbody>\n",
       "    <tr>\n",
       "      <th>ItemCF</th>\n",
       "      <td>848</td>\n",
       "      <td>65.13%</td>\n",
       "      <td>201.77</td>\n",
       "      <td>29083</td>\n",
       "      <td>59.75%</td>\n",
       "      <td>9.40</td>\n",
       "    </tr>\n",
       "    <tr>\n",
       "      <th>DSSM</th>\n",
       "      <td>1000</td>\n",
       "      <td>76.80%</td>\n",
       "      <td>5000.00</td>\n",
       "      <td>36967</td>\n",
       "      <td>75.95%</td>\n",
       "      <td>9.41</td>\n",
       "    </tr>\n",
       "    <tr>\n",
       "      <th>UserCF</th>\n",
       "      <td>0</td>\n",
       "      <td>0.00%</td>\n",
       "      <td>0.00</td>\n",
       "      <td>0</td>\n",
       "      <td>0.00%</td>\n",
       "      <td>0.00</td>\n",
       "    </tr>\n",
       "    <tr>\n",
       "      <th>Total</th>\n",
       "      <td>1302</td>\n",
       "      <td></td>\n",
       "      <td>2798.21</td>\n",
       "      <td>48676</td>\n",
       "      <td></td>\n",
       "      <td>9.50</td>\n",
       "    </tr>\n",
       "  </tbody>\n",
       "</table>\n",
       "</div>"
      ],
      "text/plain": [
       "       Unique Users       % Avg Businesses/User Unique Businesses      %   \\\n",
       "ItemCF          848  65.13%              201.77             29083  59.75%   \n",
       "DSSM           1000  76.80%             5000.00             36967  75.95%   \n",
       "UserCF            0   0.00%                0.00                 0   0.00%   \n",
       "Total          1302                     2798.21             48676           \n",
       "\n",
       "       Entropy  \n",
       "ItemCF    9.40  \n",
       "DSSM      9.41  \n",
       "UserCF    0.00  \n",
       "Total     9.50  "
      ]
     },
     "metadata": {},
     "output_type": "display_data"
    }
   ],
   "source": [
    "# Background Statistics with Percentages\n",
    "background = pd.DataFrame(columns=[\"Unique Users\", \"%\", \"Avg Businesses/User\", \"Unique Businesses\", \"% \", \"Entropy\"])\n",
    "\n",
    "for model in models:\n",
    "    unique_users_model = len(users[model])\n",
    "    unique_items_model = len(items[model])\n",
    "    num_pairs_model = len(pairs[model])\n",
    "    percentage_users = (unique_users_model / total_unique_users) * 100 if total_unique_users > 0 else 0\n",
    "    percentage_items = (unique_items_model / total_unique_items) * 100 if total_unique_items > 0 else 0\n",
    "    percentage_pairs = (num_pairs_model / total_unique_pairs) * 100 if total_unique_pairs > 0 else 0\n",
    "    avg_businesses_per_user = np.mean([len(recs[model][user]) for user in recs[model]]) if recs[model] else 0\n",
    "\n",
    "    item_counts = df[df['model'] == model]['business_id'].value_counts()\n",
    "    total_recs_model = len(df[df['model'] == model])\n",
    "    p_i_model = item_counts / total_recs_model\n",
    "    entropy_data = entropy(p_i_model)\n",
    "\n",
    "    background.loc[model] = {\n",
    "        \"Unique Users\": f\"{unique_users_model}\",\n",
    "        \"%\": f\"{percentage_users:.2f}%\",\n",
    "        \"Avg Businesses/User\": f\"{avg_businesses_per_user:.2f}\",\n",
    "        \"Unique Businesses\": f\"{unique_items_model}\",\n",
    "        \"% \": f\"{percentage_items:.2f}%\",\n",
    "        \"Entropy\": f\"{entropy_data:.2f}\"\n",
    "    }\n",
    "\n",
    "# Calculate the average number of businesses per user and entropy for all models combined\n",
    "avg_businesses_per_user_all = np.mean([len(recs[model][user]) for model in models for user in recs[model]]) if recs else 0\n",
    "\n",
    "# For combined recommendations\n",
    "combined_item_counts = {}\n",
    "all_users = set(df['user_id'])\n",
    "for user in all_users:\n",
    "    user_candidate_pool = set()\n",
    "    for model in models:\n",
    "        if user in recs[model]:\n",
    "            user_candidate_pool.update(recs[model][user])\n",
    "    for item in user_candidate_pool:\n",
    "        combined_item_counts[item] = combined_item_counts.get(item, 0) + 1\n",
    "\n",
    "total_pairs = sum(combined_item_counts.values())\n",
    "p_i_combined = [count / total_pairs for count in combined_item_counts.values()] if total_pairs > 0 else []\n",
    "entropy_combined = entropy(p_i_combined) if p_i_combined else 0\n",
    "\n",
    "# Add total and intersection rows\n",
    "background.loc['Total'] = {\n",
    "    \"Unique Users\": f\"{total_unique_users}\",\n",
    "    \"%\": \" \",\n",
    "    \"Avg Businesses/User\": f\"{avg_businesses_per_user_all:.2f}\",\n",
    "    \"Unique Businesses\": f\"{total_unique_items}\",\n",
    "    \"% \": \" \",\n",
    "    \"Entropy\": f\"{entropy_combined:.2f}\"\n",
    "}\n",
    "\n",
    "print(\"\\nBackground Information for Unique:\")\n",
    "display(background)"
   ]
  },
  {
   "cell_type": "code",
   "execution_count": null,
   "metadata": {},
   "outputs": [
    {
     "name": "stdout",
     "output_type": "stream",
     "text": [
      "Overlap of (user, item) Pairs:\n"
     ]
    },
    {
     "data": {
      "text/html": [
       "<div>\n",
       "<style scoped>\n",
       "    .dataframe tbody tr th:only-of-type {\n",
       "        vertical-align: middle;\n",
       "    }\n",
       "\n",
       "    .dataframe tbody tr th {\n",
       "        vertical-align: top;\n",
       "    }\n",
       "\n",
       "    .dataframe thead th {\n",
       "        text-align: right;\n",
       "    }\n",
       "</style>\n",
       "<table border=\"1\" class=\"dataframe\">\n",
       "  <thead>\n",
       "    <tr style=\"text-align: right;\">\n",
       "      <th></th>\n",
       "      <th>Overlap Count</th>\n",
       "      <th>Overlap Percentage</th>\n",
       "    </tr>\n",
       "  </thead>\n",
       "  <tbody>\n",
       "    <tr>\n",
       "      <th>ItemCF &amp; DSSM</th>\n",
       "      <td>18713</td>\n",
       "      <td>0.36%</td>\n",
       "    </tr>\n",
       "    <tr>\n",
       "      <th>ItemCF &amp; UserCF</th>\n",
       "      <td>0</td>\n",
       "      <td>0.00%</td>\n",
       "    </tr>\n",
       "    <tr>\n",
       "      <th>DSSM &amp; UserCF</th>\n",
       "      <td>0</td>\n",
       "      <td>0.00%</td>\n",
       "    </tr>\n",
       "    <tr>\n",
       "      <th>All Models</th>\n",
       "      <td>0</td>\n",
       "      <td>0.00%</td>\n",
       "    </tr>\n",
       "  </tbody>\n",
       "</table>\n",
       "</div>"
      ],
      "text/plain": [
       "                 Overlap Count Overlap Percentage\n",
       "ItemCF & DSSM            18713              0.36%\n",
       "ItemCF & UserCF              0              0.00%\n",
       "DSSM & UserCF                0              0.00%\n",
       "All Models                   0              0.00%"
      ]
     },
     "metadata": {},
     "output_type": "display_data"
    },
    {
     "name": "stdout",
     "output_type": "stream",
     "text": [
      "\n",
      "Item Overlap:\n"
     ]
    },
    {
     "data": {
      "text/html": [
       "<div>\n",
       "<style scoped>\n",
       "    .dataframe tbody tr th:only-of-type {\n",
       "        vertical-align: middle;\n",
       "    }\n",
       "\n",
       "    .dataframe tbody tr th {\n",
       "        vertical-align: top;\n",
       "    }\n",
       "\n",
       "    .dataframe thead th {\n",
       "        text-align: right;\n",
       "    }\n",
       "</style>\n",
       "<table border=\"1\" class=\"dataframe\">\n",
       "  <thead>\n",
       "    <tr style=\"text-align: right;\">\n",
       "      <th></th>\n",
       "      <th>Item Overlap Count</th>\n",
       "      <th>Item Overlap Percentage</th>\n",
       "    </tr>\n",
       "  </thead>\n",
       "  <tbody>\n",
       "    <tr>\n",
       "      <th>ItemCF &amp; DSSM</th>\n",
       "      <td>17374</td>\n",
       "      <td>35.69%</td>\n",
       "    </tr>\n",
       "    <tr>\n",
       "      <th>ItemCF &amp; UserCF</th>\n",
       "      <td>0</td>\n",
       "      <td>0.00%</td>\n",
       "    </tr>\n",
       "    <tr>\n",
       "      <th>DSSM &amp; UserCF</th>\n",
       "      <td>0</td>\n",
       "      <td>0.00%</td>\n",
       "    </tr>\n",
       "    <tr>\n",
       "      <th>All Models</th>\n",
       "      <td>0</td>\n",
       "      <td>0.00%</td>\n",
       "    </tr>\n",
       "  </tbody>\n",
       "</table>\n",
       "</div>"
      ],
      "text/plain": [
       "                 Item Overlap Count Item Overlap Percentage\n",
       "ItemCF & DSSM                 17374                  35.69%\n",
       "ItemCF & UserCF                   0                   0.00%\n",
       "DSSM & UserCF                     0                   0.00%\n",
       "All Models                        0                   0.00%"
      ]
     },
     "metadata": {},
     "output_type": "display_data"
    },
    {
     "name": "stdout",
     "output_type": "stream",
     "text": [
      "\n",
      "Unique Items per Model:\n"
     ]
    },
    {
     "data": {
      "text/html": [
       "<div>\n",
       "<style scoped>\n",
       "    .dataframe tbody tr th:only-of-type {\n",
       "        vertical-align: middle;\n",
       "    }\n",
       "\n",
       "    .dataframe tbody tr th {\n",
       "        vertical-align: top;\n",
       "    }\n",
       "\n",
       "    .dataframe thead th {\n",
       "        text-align: right;\n",
       "    }\n",
       "</style>\n",
       "<table border=\"1\" class=\"dataframe\">\n",
       "  <thead>\n",
       "    <tr style=\"text-align: right;\">\n",
       "      <th></th>\n",
       "      <th>Items Count</th>\n",
       "      <th>Items Percentage</th>\n",
       "    </tr>\n",
       "  </thead>\n",
       "  <tbody>\n",
       "    <tr>\n",
       "      <th>ItemCF</th>\n",
       "      <td>11709</td>\n",
       "      <td>24.05%</td>\n",
       "    </tr>\n",
       "    <tr>\n",
       "      <th>DSSM</th>\n",
       "      <td>19593</td>\n",
       "      <td>40.25%</td>\n",
       "    </tr>\n",
       "    <tr>\n",
       "      <th>UserCF</th>\n",
       "      <td>0</td>\n",
       "      <td>0.00%</td>\n",
       "    </tr>\n",
       "  </tbody>\n",
       "</table>\n",
       "</div>"
      ],
      "text/plain": [
       "        Items Count Items Percentage\n",
       "ItemCF        11709           24.05%\n",
       "DSSM          19593           40.25%\n",
       "UserCF            0            0.00%"
      ]
     },
     "metadata": {},
     "output_type": "display_data"
    }
   ],
   "source": [
    "# 1. Overlap for (user, item) Pairs\n",
    "pair_overlap_data = []\n",
    "\n",
    "# Pairwise overlaps\n",
    "for model1, model2 in combinations(models, 2):\n",
    "    overlap = len(pairs[model1].intersection(pairs[model2]))\n",
    "    percentage_overlap = (overlap / total_unique_pairs) * 100 if total_unique_pairs > 0 else 0\n",
    "    pair_overlap_data.append([f\"{model1} & {model2}\", overlap, f\"{percentage_overlap:.2f}%\"])\n",
    "\n",
    "# All models intersection\n",
    "intersection_all_pairs = set.intersection(*[pairs[model] for model in models])\n",
    "num_intersection_all_pairs = len(intersection_all_pairs)\n",
    "percentage_intersection_all_pairs = (num_intersection_all_pairs / total_unique_pairs) * 100 if total_unique_pairs > 0 else 0\n",
    "pair_overlap_data.append([\"All Models\", num_intersection_all_pairs, f\"{percentage_intersection_all_pairs:.2f}%\"])\n",
    "\n",
    "# Create DataFrame\n",
    "pair_overlap_df = pd.DataFrame(pair_overlap_data, columns=[\"Models\", \"Overlap Count\", \"Overlap Percentage\"]).set_index(\"Models\")\n",
    "pair_overlap_df.index.name = None\n",
    "\n",
    "print(\"Overlap of (user, item) Pairs:\")\n",
    "display(pair_overlap_df)\n",
    "\n",
    "# 2. Item Overlap\n",
    "item_overlap_data = []\n",
    "\n",
    "# Pairwise overlaps\n",
    "for model1, model2 in combinations(models, 2):\n",
    "    overlap = len(items[model1].intersection(items[model2]))\n",
    "    percentage_overlap = (overlap / total_unique_items) * 100 if total_unique_items > 0 else 0\n",
    "    item_overlap_data.append([f\"{model1} & {model2}\", overlap, f\"{percentage_overlap:.2f}%\"])\n",
    "\n",
    "# All models intersection\n",
    "intersection_all_items = set.intersection(*[items[model] for model in models])\n",
    "num_intersection_all_items = len(intersection_all_items)\n",
    "percentage_intersection_all_items = (num_intersection_all_items / total_unique_items) * 100 if total_unique_items > 0 else 0\n",
    "item_overlap_data.append([\"All Models\", num_intersection_all_items, f\"{percentage_intersection_all_items:.2f}%\"])\n",
    "\n",
    "# Create DataFrame\n",
    "item_overlap_df = pd.DataFrame(item_overlap_data, columns=[\"Models\", \"Item Overlap Count\", \"Item Overlap Percentage\"]).set_index(\"Models\")\n",
    "item_overlap_df.index.name = None\n",
    "print(\"\\nItem Overlap:\")\n",
    "display(item_overlap_df)\n",
    "\n",
    "# 3. Items per Model\n",
    "unique_items_data = []\n",
    "\n",
    "for model in models:\n",
    "    other_models = [m for m in models if m != model]\n",
    "    unique_to_model = items[model] - set.union(*[items[m] for m in other_models])\n",
    "    num_unique_to_model = len(unique_to_model)\n",
    "    percentage_unique_to_model = (num_unique_to_model / total_unique_items) * 100 if total_unique_items > 0 else 0\n",
    "    unique_items_data.append([model, num_unique_to_model, f\"{percentage_unique_to_model:.2f}%\"])\n",
    "\n",
    "# Create DataFrame\n",
    "unique_items_df = pd.DataFrame(unique_items_data, columns=[\"Models\", \"Items Count\", \"Items Percentage\"]).set_index(\"Models\")\n",
    "unique_items_df.index.name = None\n",
    "print(\"\\nUnique Items per Model:\")\n",
    "display(unique_items_df)"
   ]
  },
  {
   "cell_type": "code",
   "execution_count": null,
   "metadata": {},
   "outputs": [
    {
     "name": "stderr",
     "output_type": "stream",
     "text": [
      "c:\\Users\\yueny\\.virtualenvs\\content-recommendation-0SgTkEMC\\Lib\\site-packages\\matplotlib_venn\\layout\\venn3\\pairwise.py:111: UserWarning: Circle C has zero area.\n",
      "  warnings.warn(\"Circle C has zero area.\")\n"
     ]
    },
    {
     "data": {
      "image/png": "[encoded data removed]",
      "text/plain": [
       "<Figure size 800x800 with 1 Axes>"
      ]
     },
     "metadata": {},
     "output_type": "display_data"
    }
   ],
   "source": [
    "# Calculate the counts for each region of the Venn diagram\n",
    "only_ItemCF = len(items['ItemCF'] - items['DSSM'] - items['UserCF'])\n",
    "only_DSSM = len(items['DSSM'] - items['ItemCF'] - items['UserCF'])\n",
    "only_UserCF = len(items['UserCF'] - items['ItemCF'] - items['DSSM'])\n",
    "ItemCF_and_DSSM_not_UserCF = len((items['ItemCF'] & items['DSSM']) - items['UserCF'])\n",
    "ItemCF_and_UserCF_not_DSSM = len((items['ItemCF'] & items['UserCF']) - items['DSSM'])\n",
    "DSSM_and_UserCF_not_ItemCF = len((items['DSSM'] & items['UserCF']) - items['ItemCF'])\n",
    "all_three = len(items['ItemCF'] & items['DSSM'] & items['UserCF'])\n",
    "\n",
    "# Define the counts for the Venn diagram regions\n",
    "venn_labels = {\n",
    "    '100': only_ItemCF,              # Only ItemCF\n",
    "    '010': only_DSSM,                # Only DSSM\n",
    "    '001': only_UserCF,              # Only UserCF\n",
    "    '110': ItemCF_and_DSSM_not_UserCF,  # ItemCF and DSSM, not UserCF\n",
    "    '101': ItemCF_and_UserCF_not_DSSM,  # ItemCF and UserCF, not DSSM\n",
    "    '011': DSSM_and_UserCF_not_ItemCF,  # DSSM and UserCF, not ItemCF\n",
    "    '111': all_three                 # All three models\n",
    "}\n",
    "\n",
    "# Create and display the Venn diagram\n",
    "plt.figure(figsize=(8, 8))\n",
    "venn3(subsets=venn_labels, set_labels=('ItemCF', 'DSSM', 'UserCF'))\n",
    "plt.title(\"Venn Diagram of Item Overlap Across Models\")\n",
    "plt.show()"
   ]
  }
 ],
 "metadata": {
  "kernelspec": {
   "display_name": "content-recommendation-0SgTkEMC",
   "language": "python",
   "name": "python3"
  },
  "language_info": {
   "codemirror_mode": {
    "name": "ipython",
    "version": 3
   },
   "file_extension": ".py",
   "mimetype": "text/x-python",
   "name": "python",
   "nbconvert_exporter": "python",
   "pygments_lexer": "ipython3",
   "version": "3.11.4"
  }
 },
 "nbformat": 4,
 "nbformat_minor": 2
}
