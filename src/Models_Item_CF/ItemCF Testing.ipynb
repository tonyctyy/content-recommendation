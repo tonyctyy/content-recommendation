{
 "cells": [
  {
   "cell_type": "markdown",
   "metadata": {},
   "source": [
    "### Item-base Collaborative Filtering - Testing\n",
    "This notebook is used to simulate the performance of the item-based collaborative filtering algorithm in a retrieval setting and in a prediction setting. \n",
    "\n",
    "#### Pre-requisites\n",
    "- The model is trained and the index is created in the notebook `ItemCF Model & Index.ipynb`.\n",
    "- The index is saved in the file `yelp_ItemCF.db` in the same directory as this notebook."
   ]
  },
  {
   "cell_type": "code",
   "execution_count": 1,
   "metadata": {},
   "outputs": [],
   "source": [
    "# import the python file from ../utilities.py\n",
    "import sys\n",
    "sys.path.append('../')\n",
    "from utilities import *"
   ]
  },
  {
   "cell_type": "code",
   "execution_count": 2,
   "metadata": {},
   "outputs": [
    {
     "name": "stdout",
     "output_type": "stream",
     "text": [
      "Loaded 78059 rows from business table.\n",
      "Loaded 360656 rows from categories table.\n",
      "Loaded 980418 rows from review table.\n",
      "Loaded 229447 rows from user table.\n"
     ]
    }
   ],
   "source": [
    "# Define the database folder path and file names\n",
    "db_folder = '../../data/processed_data/yelp_data/'\n",
    "data_files = ['business', 'categories', 'review', 'user']\n",
    "\n",
    "# Load data into a dictionary\n",
    "yelp_data = load_data_from_db(db_folder, data_files)\n",
    "\n",
    "# Check loaded data\n",
    "for table, df in yelp_data.items():\n",
    "    print(f\"Loaded {len(df)} rows from {table} table.\")"
   ]
  },
  {
   "cell_type": "code",
   "execution_count": 3,
   "metadata": {},
   "outputs": [],
   "source": [
    "df_business = yelp_data[\"business\"]\n",
    "df_review = yelp_data[\"review\"]\n",
    "df_user = yelp_data[\"user\"]\n",
    "\n",
    "user_mapping, business_mapping, user_business = get_user_business(df_business, df_review)"
   ]
  },
  {
   "cell_type": "code",
   "execution_count": 15,
   "metadata": {},
   "outputs": [],
   "source": [
    "# count the number of reviews for each user\n",
    "df = df_review.groupby('user_id').size().reset_index(name='review_count')"
   ]
  },
  {
   "cell_type": "code",
   "execution_count": 19,
   "metadata": {},
   "outputs": [
    {
     "data": {
      "text/plain": [
       "np.float64(2.0)"
      ]
     },
     "execution_count": 19,
     "metadata": {},
     "output_type": "execute_result"
    }
   ],
   "source": [
    "df.sort_values(by='review_count', ascending=False, inplace=True)\n",
    "df['review_count'].median()"
   ]
  },
  {
   "cell_type": "code",
   "execution_count": 4,
   "metadata": {},
   "outputs": [
    {
     "data": {
      "text/html": [
       "<div>\n",
       "<style scoped>\n",
       "    .dataframe tbody tr th:only-of-type {\n",
       "        vertical-align: middle;\n",
       "    }\n",
       "\n",
       "    .dataframe tbody tr th {\n",
       "        vertical-align: top;\n",
       "    }\n",
       "\n",
       "    .dataframe thead th {\n",
       "        text-align: right;\n",
       "    }\n",
       "</style>\n",
       "<table border=\"1\" class=\"dataframe\">\n",
       "  <thead>\n",
       "    <tr style=\"text-align: right;\">\n",
       "      <th></th>\n",
       "      <th>user_id</th>\n",
       "      <th>review_count</th>\n",
       "    </tr>\n",
       "  </thead>\n",
       "  <tbody>\n",
       "    <tr>\n",
       "      <th>0</th>\n",
       "      <td>Hi10sGSZNxQH3NLyWSZ1oA</td>\n",
       "      <td>17473</td>\n",
       "    </tr>\n",
       "    <tr>\n",
       "      <th>1</th>\n",
       "      <td>hWDybu_KvYLSdEFzGrniTw</td>\n",
       "      <td>16567</td>\n",
       "    </tr>\n",
       "    <tr>\n",
       "      <th>2</th>\n",
       "      <td>P5bUL3Engv-2z6kKohB6qQ</td>\n",
       "      <td>9941</td>\n",
       "    </tr>\n",
       "    <tr>\n",
       "      <th>3</th>\n",
       "      <td>nmdkHL2JKFx55T3nq5VziA</td>\n",
       "      <td>8363</td>\n",
       "    </tr>\n",
       "    <tr>\n",
       "      <th>4</th>\n",
       "      <td>bQCHF5rn5lMI9c5kEwCaNA</td>\n",
       "      <td>8354</td>\n",
       "    </tr>\n",
       "    <tr>\n",
       "      <th>...</th>\n",
       "      <td>...</td>\n",
       "      <td>...</td>\n",
       "    </tr>\n",
       "    <tr>\n",
       "      <th>229442</th>\n",
       "      <td>G1Cr_4i_pJJM4cfGjSHnTw</td>\n",
       "      <td>1</td>\n",
       "    </tr>\n",
       "    <tr>\n",
       "      <th>229443</th>\n",
       "      <td>Vw71dwITV_J0ANLenTaL7g</td>\n",
       "      <td>1</td>\n",
       "    </tr>\n",
       "    <tr>\n",
       "      <th>229444</th>\n",
       "      <td>VuhY3tqUjMsFoV5ERRT58g</td>\n",
       "      <td>0</td>\n",
       "    </tr>\n",
       "    <tr>\n",
       "      <th>229445</th>\n",
       "      <td>qXHJa8Tf7Ef_wieJLIatxw</td>\n",
       "      <td>0</td>\n",
       "    </tr>\n",
       "    <tr>\n",
       "      <th>229446</th>\n",
       "      <td>ih2hlbMfrdiJrUTrT48fVQ</td>\n",
       "      <td>0</td>\n",
       "    </tr>\n",
       "  </tbody>\n",
       "</table>\n",
       "<p>229447 rows × 2 columns</p>\n",
       "</div>"
      ],
      "text/plain": [
       "                       user_id  review_count\n",
       "0       Hi10sGSZNxQH3NLyWSZ1oA         17473\n",
       "1       hWDybu_KvYLSdEFzGrniTw         16567\n",
       "2       P5bUL3Engv-2z6kKohB6qQ          9941\n",
       "3       nmdkHL2JKFx55T3nq5VziA          8363\n",
       "4       bQCHF5rn5lMI9c5kEwCaNA          8354\n",
       "...                        ...           ...\n",
       "229442  G1Cr_4i_pJJM4cfGjSHnTw             1\n",
       "229443  Vw71dwITV_J0ANLenTaL7g             1\n",
       "229444  VuhY3tqUjMsFoV5ERRT58g             0\n",
       "229445  qXHJa8Tf7Ef_wieJLIatxw             0\n",
       "229446  ih2hlbMfrdiJrUTrT48fVQ             0\n",
       "\n",
       "[229447 rows x 2 columns]"
      ]
     },
     "execution_count": 4,
     "metadata": {},
     "output_type": "execute_result"
    }
   ],
   "source": [
    "df_user = df_user[[\"user_id\", \"review_count\"]].sort_values(by=\"review_count\", ascending=False).reset_index(drop=True)\n",
    "df_user"
   ]
  },
  {
   "cell_type": "code",
   "execution_count": 26,
   "metadata": {},
   "outputs": [],
   "source": [
    "# split the data into training and test sets\n",
    "train_data, test_data = train_test_split(user_business, test_size=0.2, random_state=42)"
   ]
  },
  {
   "cell_type": "code",
   "execution_count": 27,
   "metadata": {},
   "outputs": [
    {
     "name": "stdout",
     "output_type": "stream",
     "text": [
      "Number of positive reviews: 136473\n",
      "Number of negative reviews: 59624\n",
      "Total number of reviews: 197147\n",
      "Ratio of positive to negative reviews: 2.29\n",
      "Number of positive reviews: 59624\n",
      "Number of negative reviews: 59624\n",
      "Total number of reviews: 119248\n",
      "Ratio of positive to negative reviews: 1.00\n"
     ]
    }
   ],
   "source": [
    "# balance the test data, comment this line to use the original test data\n",
    "test_data = balance_test_data(test_data)\n",
    "\n",
    "# group the test data by user_id and get the business_id\n",
    "test_data_grouped = test_data.groupby('user_id')['business_id'].apply(list).reset_index()"
   ]
  },
  {
   "cell_type": "code",
   "execution_count": 28,
   "metadata": {},
   "outputs": [],
   "source": [
    "# Connect to the SQLite database\n",
    "db_path = './yelp_ItemCF.db'\n",
    "conn = sqlite3.connect(db_path)"
   ]
  },
  {
   "cell_type": "markdown",
   "metadata": {},
   "source": [
    "### Retrieval Evaluation"
   ]
  },
  {
   "cell_type": "code",
   "execution_count": 29,
   "metadata": {},
   "outputs": [],
   "source": [
    "retrieval_recommendations = simulate_recommendations(test_data_grouped, user_mapping, business_mapping, conn, k=300, num_users=1000)"
   ]
  },
  {
   "cell_type": "code",
   "execution_count": 17,
   "metadata": {},
   "outputs": [],
   "source": [
    "true_positive, true_negative, false_positive, false_negative, total, total_positive, ranks = check_retrieval_recommendations(retrieval_recommendations, test_data, test_data_grouped)\n",
    "\n",
    "evaluation_metric, confusion_matrix, background_stats = compute_evaluation_metric(true_positive, true_negative, false_positive, false_negative, total, total_positive, ranks)"
   ]
  },
  {
   "cell_type": "code",
   "execution_count": 18,
   "metadata": {},
   "outputs": [
    {
     "name": "stdout",
     "output_type": "stream",
     "text": [
      "Testing Data Statistics\n"
     ]
    },
    {
     "data": {
      "text/html": [
       "<div>\n",
       "<style scoped>\n",
       "    .dataframe tbody tr th:only-of-type {\n",
       "        vertical-align: middle;\n",
       "    }\n",
       "\n",
       "    .dataframe tbody tr th {\n",
       "        vertical-align: top;\n",
       "    }\n",
       "\n",
       "    .dataframe thead th {\n",
       "        text-align: right;\n",
       "    }\n",
       "</style>\n",
       "<table border=\"1\" class=\"dataframe\">\n",
       "  <thead>\n",
       "    <tr style=\"text-align: right;\">\n",
       "      <th></th>\n",
       "      <th>Total Positive</th>\n",
       "      <th>Total Negative</th>\n",
       "      <th>Total</th>\n",
       "      <th>Ratio</th>\n",
       "    </tr>\n",
       "  </thead>\n",
       "  <tbody>\n",
       "    <tr>\n",
       "      <th>0</th>\n",
       "      <td>1045</td>\n",
       "      <td>1083</td>\n",
       "      <td>2128</td>\n",
       "      <td>0.491071</td>\n",
       "    </tr>\n",
       "  </tbody>\n",
       "</table>\n",
       "</div>"
      ],
      "text/plain": [
       "   Total Positive  Total Negative  Total     Ratio\n",
       "0            1045            1083   2128  0.491071"
      ]
     },
     "metadata": {},
     "output_type": "display_data"
    },
    {
     "name": "stdout",
     "output_type": "stream",
     "text": [
      "Evaluation Metrics\n"
     ]
    },
    {
     "data": {
      "text/html": [
       "<div>\n",
       "<style scoped>\n",
       "    .dataframe tbody tr th:only-of-type {\n",
       "        vertical-align: middle;\n",
       "    }\n",
       "\n",
       "    .dataframe tbody tr th {\n",
       "        vertical-align: top;\n",
       "    }\n",
       "\n",
       "    .dataframe thead th {\n",
       "        text-align: right;\n",
       "    }\n",
       "</style>\n",
       "<table border=\"1\" class=\"dataframe\">\n",
       "  <thead>\n",
       "    <tr style=\"text-align: right;\">\n",
       "      <th></th>\n",
       "      <th>Accuracy</th>\n",
       "      <th>Precision</th>\n",
       "      <th>Recall</th>\n",
       "      <th>F1 Score</th>\n",
       "      <th>F-beta Score</th>\n",
       "      <th>Mean Reciprocal Rank</th>\n",
       "    </tr>\n",
       "  </thead>\n",
       "  <tbody>\n",
       "    <tr>\n",
       "      <th>0</th>\n",
       "      <td>0.5324</td>\n",
       "      <td>0.5527</td>\n",
       "      <td>0.2507</td>\n",
       "      <td>0.345</td>\n",
       "      <td>0.2815</td>\n",
       "      <td>0.0686</td>\n",
       "    </tr>\n",
       "  </tbody>\n",
       "</table>\n",
       "</div>"
      ],
      "text/plain": [
       "   Accuracy  Precision  Recall  F1 Score  F-beta Score  Mean Reciprocal Rank\n",
       "0    0.5324     0.5527  0.2507     0.345        0.2815                0.0686"
      ]
     },
     "metadata": {},
     "output_type": "display_data"
    },
    {
     "name": "stdout",
     "output_type": "stream",
     "text": [
      "Confusion Matrix\n"
     ]
    },
    {
     "data": {
      "text/html": [
       "<div>\n",
       "<style scoped>\n",
       "    .dataframe tbody tr th:only-of-type {\n",
       "        vertical-align: middle;\n",
       "    }\n",
       "\n",
       "    .dataframe tbody tr th {\n",
       "        vertical-align: top;\n",
       "    }\n",
       "\n",
       "    .dataframe thead th {\n",
       "        text-align: right;\n",
       "    }\n",
       "</style>\n",
       "<table border=\"1\" class=\"dataframe\">\n",
       "  <thead>\n",
       "    <tr style=\"text-align: right;\">\n",
       "      <th></th>\n",
       "      <th>True Positive</th>\n",
       "      <th>True Negative</th>\n",
       "      <th>False Positive</th>\n",
       "      <th>False Negative</th>\n",
       "    </tr>\n",
       "  </thead>\n",
       "  <tbody>\n",
       "    <tr>\n",
       "      <th>0</th>\n",
       "      <td>262</td>\n",
       "      <td>871</td>\n",
       "      <td>212</td>\n",
       "      <td>783</td>\n",
       "    </tr>\n",
       "  </tbody>\n",
       "</table>\n",
       "</div>"
      ],
      "text/plain": [
       "   True Positive  True Negative  False Positive  False Negative\n",
       "0            262            871             212             783"
      ]
     },
     "metadata": {},
     "output_type": "display_data"
    }
   ],
   "source": [
    "print(\"Testing Data Statistics\")\n",
    "display(background_stats)\n",
    "\n",
    "print(\"Evaluation Metrics\")\n",
    "display(evaluation_metric)\n",
    "\n",
    "print(\"Confusion Matrix\")\n",
    "display(confusion_matrix)"
   ]
  },
  {
   "cell_type": "markdown",
   "metadata": {},
   "source": [
    "### Split user by review count"
   ]
  },
  {
   "cell_type": "code",
   "execution_count": 51,
   "metadata": {},
   "outputs": [],
   "source": [
    "# Categorize users by review count\n",
    "# threshold = df_user['review_count'].median()\n",
    "threshold = 40.0\n",
    "df_user['review_group'] = np.where(df_user['review_count'] >= threshold, 'high_review', 'low_review')"
   ]
  },
  {
   "cell_type": "code",
   "execution_count": 52,
   "metadata": {},
   "outputs": [],
   "source": [
    "# Merge review group information with test_data_grouped\n",
    "test_data_grouped_1 = test_data_grouped.merge(df_user[['user_id', 'review_group']], on='user_id', how='left')\n",
    "\n",
    "# Initialize dictionaries to store results for each group\n",
    "results = {'high_review': {}, 'low_review': {}}\n"
   ]
  },
  {
   "cell_type": "code",
   "execution_count": 53,
   "metadata": {},
   "outputs": [
    {
     "data": {
      "text/plain": [
       "review_group\n",
       "low_review     29911\n",
       "high_review    27393\n",
       "Name: count, dtype: int64"
      ]
     },
     "execution_count": 53,
     "metadata": {},
     "output_type": "execute_result"
    }
   ],
   "source": [
    "test_data_grouped_1['review_group'].value_counts()"
   ]
  },
  {
   "cell_type": "code",
   "execution_count": 54,
   "metadata": {},
   "outputs": [],
   "source": [
    "# Evaluate for each group\n",
    "for group in ['high_review', 'low_review']:\n",
    "    # Filter test data and recommendations for the current group\n",
    "    group_test_data_grouped = test_data_grouped_1[test_data_grouped_1['review_group'] == group]\n",
    "    group_user_ids = group_test_data_grouped['user_id']\n",
    "    \n",
    "    # Filter recommendations for users in this group\n",
    "    group_recommendations = {uid: rec for uid, rec in retrieval_recommendations.items() if uid in group_user_ids.values}\n",
    "    group_test_data = test_data[test_data['user_id'].isin(group_user_ids)]\n",
    "\n",
    "    if len(group_test_data_grouped) == 0 or len(group_recommendations) == 0:\n",
    "        print(f\"No users or recommendations in {group} group for evaluation.\")\n",
    "        results[group] = {\n",
    "            'evaluation_metric': pd.DataFrame(),\n",
    "            'confusion_matrix': pd.DataFrame(),\n",
    "            'background_stats': pd.DataFrame()\n",
    "        }\n",
    "        continue\n",
    "\n",
    "    # Compute retrieval metrics\n",
    "    true_positive, true_negative, false_positive, false_negative, total, total_positive, ranks = check_retrieval_recommendations(\n",
    "        group_recommendations, group_test_data, group_test_data_grouped\n",
    "    )\n",
    "\n",
    "    # Compute evaluation metrics\n",
    "    evaluation_metric, confusion_matrix, background_stats = compute_evaluation_metric(\n",
    "        true_positive, true_negative, false_positive, false_negative, total, total_positive, ranks\n",
    "    )\n",
    "\n",
    "    # Store results\n",
    "    results[group] = {\n",
    "        'evaluation_metric': evaluation_metric,\n",
    "        'confusion_matrix': confusion_matrix,\n",
    "        'background_stats': background_stats\n",
    "    }\n"
   ]
  },
  {
   "cell_type": "code",
   "execution_count": 55,
   "metadata": {},
   "outputs": [
    {
     "name": "stdout",
     "output_type": "stream",
     "text": [
      "\n",
      "Results for High Review Group\n",
      "Testing Data Statistics\n"
     ]
    },
    {
     "data": {
      "text/html": [
       "<div>\n",
       "<style scoped>\n",
       "    .dataframe tbody tr th:only-of-type {\n",
       "        vertical-align: middle;\n",
       "    }\n",
       "\n",
       "    .dataframe tbody tr th {\n",
       "        vertical-align: top;\n",
       "    }\n",
       "\n",
       "    .dataframe thead th {\n",
       "        text-align: right;\n",
       "    }\n",
       "</style>\n",
       "<table border=\"1\" class=\"dataframe\">\n",
       "  <thead>\n",
       "    <tr style=\"text-align: right;\">\n",
       "      <th></th>\n",
       "      <th>Total Positive</th>\n",
       "      <th>Total Negative</th>\n",
       "      <th>Total</th>\n",
       "      <th>Ratio</th>\n",
       "    </tr>\n",
       "  </thead>\n",
       "  <tbody>\n",
       "    <tr>\n",
       "      <th>0</th>\n",
       "      <td>749</td>\n",
       "      <td>741</td>\n",
       "      <td>1490</td>\n",
       "      <td>0.502685</td>\n",
       "    </tr>\n",
       "  </tbody>\n",
       "</table>\n",
       "</div>"
      ],
      "text/plain": [
       "   Total Positive  Total Negative  Total     Ratio\n",
       "0             749             741   1490  0.502685"
      ]
     },
     "metadata": {},
     "output_type": "display_data"
    },
    {
     "name": "stdout",
     "output_type": "stream",
     "text": [
      "Evaluation Metrics\n"
     ]
    },
    {
     "data": {
      "text/html": [
       "<div>\n",
       "<style scoped>\n",
       "    .dataframe tbody tr th:only-of-type {\n",
       "        vertical-align: middle;\n",
       "    }\n",
       "\n",
       "    .dataframe tbody tr th {\n",
       "        vertical-align: top;\n",
       "    }\n",
       "\n",
       "    .dataframe thead th {\n",
       "        text-align: right;\n",
       "    }\n",
       "</style>\n",
       "<table border=\"1\" class=\"dataframe\">\n",
       "  <thead>\n",
       "    <tr style=\"text-align: right;\">\n",
       "      <th></th>\n",
       "      <th>Accuracy</th>\n",
       "      <th>Precision</th>\n",
       "      <th>Recall</th>\n",
       "      <th>F1 Score</th>\n",
       "      <th>F-beta Score</th>\n",
       "      <th>Mean Reciprocal Rank</th>\n",
       "    </tr>\n",
       "  </thead>\n",
       "  <tbody>\n",
       "    <tr>\n",
       "      <th>0</th>\n",
       "      <td>0.5268</td>\n",
       "      <td>0.5576</td>\n",
       "      <td>0.2844</td>\n",
       "      <td>0.3767</td>\n",
       "      <td>0.3153</td>\n",
       "      <td>0.0387</td>\n",
       "    </tr>\n",
       "  </tbody>\n",
       "</table>\n",
       "</div>"
      ],
      "text/plain": [
       "   Accuracy  Precision  Recall  F1 Score  F-beta Score  Mean Reciprocal Rank\n",
       "0    0.5268     0.5576  0.2844    0.3767        0.3153                0.0387"
      ]
     },
     "metadata": {},
     "output_type": "display_data"
    },
    {
     "name": "stdout",
     "output_type": "stream",
     "text": [
      "Confusion Matrix\n"
     ]
    },
    {
     "data": {
      "text/html": [
       "<div>\n",
       "<style scoped>\n",
       "    .dataframe tbody tr th:only-of-type {\n",
       "        vertical-align: middle;\n",
       "    }\n",
       "\n",
       "    .dataframe tbody tr th {\n",
       "        vertical-align: top;\n",
       "    }\n",
       "\n",
       "    .dataframe thead th {\n",
       "        text-align: right;\n",
       "    }\n",
       "</style>\n",
       "<table border=\"1\" class=\"dataframe\">\n",
       "  <thead>\n",
       "    <tr style=\"text-align: right;\">\n",
       "      <th></th>\n",
       "      <th>True Positive</th>\n",
       "      <th>True Negative</th>\n",
       "      <th>False Positive</th>\n",
       "      <th>False Negative</th>\n",
       "    </tr>\n",
       "  </thead>\n",
       "  <tbody>\n",
       "    <tr>\n",
       "      <th>0</th>\n",
       "      <td>213</td>\n",
       "      <td>572</td>\n",
       "      <td>169</td>\n",
       "      <td>536</td>\n",
       "    </tr>\n",
       "  </tbody>\n",
       "</table>\n",
       "</div>"
      ],
      "text/plain": [
       "   True Positive  True Negative  False Positive  False Negative\n",
       "0            213            572             169             536"
      ]
     },
     "metadata": {},
     "output_type": "display_data"
    },
    {
     "name": "stdout",
     "output_type": "stream",
     "text": [
      "\n",
      "Results for Low Review Group\n",
      "Testing Data Statistics\n"
     ]
    },
    {
     "data": {
      "text/html": [
       "<div>\n",
       "<style scoped>\n",
       "    .dataframe tbody tr th:only-of-type {\n",
       "        vertical-align: middle;\n",
       "    }\n",
       "\n",
       "    .dataframe tbody tr th {\n",
       "        vertical-align: top;\n",
       "    }\n",
       "\n",
       "    .dataframe thead th {\n",
       "        text-align: right;\n",
       "    }\n",
       "</style>\n",
       "<table border=\"1\" class=\"dataframe\">\n",
       "  <thead>\n",
       "    <tr style=\"text-align: right;\">\n",
       "      <th></th>\n",
       "      <th>Total Positive</th>\n",
       "      <th>Total Negative</th>\n",
       "      <th>Total</th>\n",
       "      <th>Ratio</th>\n",
       "    </tr>\n",
       "  </thead>\n",
       "  <tbody>\n",
       "    <tr>\n",
       "      <th>0</th>\n",
       "      <td>296</td>\n",
       "      <td>342</td>\n",
       "      <td>638</td>\n",
       "      <td>0.46395</td>\n",
       "    </tr>\n",
       "  </tbody>\n",
       "</table>\n",
       "</div>"
      ],
      "text/plain": [
       "   Total Positive  Total Negative  Total    Ratio\n",
       "0             296             342    638  0.46395"
      ]
     },
     "metadata": {},
     "output_type": "display_data"
    },
    {
     "name": "stdout",
     "output_type": "stream",
     "text": [
      "Evaluation Metrics\n"
     ]
    },
    {
     "data": {
      "text/html": [
       "<div>\n",
       "<style scoped>\n",
       "    .dataframe tbody tr th:only-of-type {\n",
       "        vertical-align: middle;\n",
       "    }\n",
       "\n",
       "    .dataframe tbody tr th {\n",
       "        vertical-align: top;\n",
       "    }\n",
       "\n",
       "    .dataframe thead th {\n",
       "        text-align: right;\n",
       "    }\n",
       "</style>\n",
       "<table border=\"1\" class=\"dataframe\">\n",
       "  <thead>\n",
       "    <tr style=\"text-align: right;\">\n",
       "      <th></th>\n",
       "      <th>Accuracy</th>\n",
       "      <th>Precision</th>\n",
       "      <th>Recall</th>\n",
       "      <th>F1 Score</th>\n",
       "      <th>F-beta Score</th>\n",
       "      <th>Mean Reciprocal Rank</th>\n",
       "    </tr>\n",
       "  </thead>\n",
       "  <tbody>\n",
       "    <tr>\n",
       "      <th>0</th>\n",
       "      <td>0.5455</td>\n",
       "      <td>0.5326</td>\n",
       "      <td>0.1655</td>\n",
       "      <td>0.2526</td>\n",
       "      <td>0.192</td>\n",
       "      <td>0.1435</td>\n",
       "    </tr>\n",
       "  </tbody>\n",
       "</table>\n",
       "</div>"
      ],
      "text/plain": [
       "   Accuracy  Precision  Recall  F1 Score  F-beta Score  Mean Reciprocal Rank\n",
       "0    0.5455     0.5326  0.1655    0.2526         0.192                0.1435"
      ]
     },
     "metadata": {},
     "output_type": "display_data"
    },
    {
     "name": "stdout",
     "output_type": "stream",
     "text": [
      "Confusion Matrix\n"
     ]
    },
    {
     "data": {
      "text/html": [
       "<div>\n",
       "<style scoped>\n",
       "    .dataframe tbody tr th:only-of-type {\n",
       "        vertical-align: middle;\n",
       "    }\n",
       "\n",
       "    .dataframe tbody tr th {\n",
       "        vertical-align: top;\n",
       "    }\n",
       "\n",
       "    .dataframe thead th {\n",
       "        text-align: right;\n",
       "    }\n",
       "</style>\n",
       "<table border=\"1\" class=\"dataframe\">\n",
       "  <thead>\n",
       "    <tr style=\"text-align: right;\">\n",
       "      <th></th>\n",
       "      <th>True Positive</th>\n",
       "      <th>True Negative</th>\n",
       "      <th>False Positive</th>\n",
       "      <th>False Negative</th>\n",
       "    </tr>\n",
       "  </thead>\n",
       "  <tbody>\n",
       "    <tr>\n",
       "      <th>0</th>\n",
       "      <td>49</td>\n",
       "      <td>299</td>\n",
       "      <td>43</td>\n",
       "      <td>247</td>\n",
       "    </tr>\n",
       "  </tbody>\n",
       "</table>\n",
       "</div>"
      ],
      "text/plain": [
       "   True Positive  True Negative  False Positive  False Negative\n",
       "0             49            299              43             247"
      ]
     },
     "metadata": {},
     "output_type": "display_data"
    }
   ],
   "source": [
    "# Display results\n",
    "for group in results:\n",
    "    print(f\"\\nResults for {group.replace('_', ' ').title()} Group\")\n",
    "    print(\"Testing Data Statistics\")\n",
    "    display(results[group].get('background_stats', pd.DataFrame()))\n",
    "    print(\"Evaluation Metrics\")\n",
    "    display(results[group].get('evaluation_metric', pd.DataFrame()))\n",
    "    print(\"Confusion Matrix\")\n",
    "    display(results[group].get('confusion_matrix', pd.DataFrame()))"
   ]
  },
  {
   "cell_type": "code",
   "execution_count": 94,
   "metadata": {},
   "outputs": [],
   "source": [
    "import matplotlib.pyplot as plt\n",
    "import seaborn as sns\n",
    "\n",
    "# Define the evaluation metrics for both groups\n",
    "high_review_metrics = {\n",
    "    'Accuracy': 0.5268,\n",
    "    'Precision': 0.5576,\n",
    "    'Recall': 0.2844,\n",
    "    'F1 Score': 0.3767,\n",
    "    'F-beta Score': 0.3153\n",
    "}\n",
    "\n",
    "low_review_metrics = {\n",
    "    'Accuracy': 0.5455,\n",
    "    'Precision': 0.5326,\n",
    "    'Recall': 0.1655,\n",
    "    'F1 Score': 0.2526,\n",
    "    'F-beta Score': 0.1920\n",
    "}\n",
    "\n",
    "# Create DataFrames for each group\n",
    "df_high = pd.DataFrame([high_review_metrics], index=['High Review Group'])\n",
    "df_low = pd.DataFrame([low_review_metrics], index=['Low Review Group'])\n",
    "\n",
    "# Combine into a single DataFrame\n",
    "df_metrics = pd.concat([df_high, df_low])\n",
    "\n",
    "# Convert to long format for plotting\n",
    "df_long = df_metrics.reset_index().melt(id_vars='index', var_name='Metric', value_name='Value')\n",
    "df_long = df_long.rename(columns={'index': 'Group'})\n"
   ]
  },
  {
   "cell_type": "code",
   "execution_count": 95,
   "metadata": {},
   "outputs": [
    {
     "data": {
      "image/png": "[encoded data removed]",
      "text/plain": [
       "<Figure size 1200x600 with 1 Axes>"
      ]
     },
     "metadata": {},
     "output_type": "display_data"
    }
   ],
   "source": [
    "# Set up the plot\n",
    "plt.figure(figsize=(12, 6))\n",
    "ax = sns.barplot(\n",
    "    x='Metric', \n",
    "    y='Value', \n",
    "    hue='Group', \n",
    "    data=df_long, \n",
    "    palette=['#66cdaa', '#87ceeb'],  # High Review: medium aquamarine, Low Review: sky blue\n",
    "    dodge=True,  # Ensure bars are separated\n",
    "    width=0.8,  # Adjust bar width to create gap (0.4 per bar, total 0.8 per metric)\n",
    "    saturation=0.8,\n",
    "    gap=0.1  # Adjust gap between bars\n",
    ")\n",
    "# Add value labels on top of each bar\n",
    "for bar in ax.patches:\n",
    "    height = bar.get_height()\n",
    "    if height > 0.001:  # Only label positive heights\n",
    "        ax.text(\n",
    "            bar.get_x() + bar.get_width() / 2,  # Center of the bar\n",
    "            height + 0.01,  # Slightly above the bar\n",
    "            f'{height:.3f}',  # Value rounded to 4 decimal places\n",
    "            ha='center', va='bottom', fontsize=10\n",
    "        )\n",
    "\n",
    "# Customize the plot\n",
    "plt.title('Evaluation Metrics Comparison: High vs. Low Review Groups', fontsize=14, pad=15)\n",
    "plt.xlabel('Metric', fontsize=12)\n",
    "plt.ylabel('Value', fontsize=12)\n",
    "plt.ylim(0, 0.7)  # Adjust y-axis to accommodate metric range\n",
    "plt.legend(title='Group', fontsize=10)\n",
    "# plt.xticks(rotation=45, ha='right')\n",
    "plt.tight_layout()\n",
    "\n",
    "# Display and save the plot\n",
    "plt.savefig('evaluation_metrics_comparison.png', dpi=300, bbox_inches='tight')\n",
    "plt.show()\n"
   ]
  },
  {
   "cell_type": "markdown",
   "metadata": {},
   "source": [
    "### Prediction Evaluation"
   ]
  },
  {
   "cell_type": "code",
   "execution_count": null,
   "metadata": {},
   "outputs": [],
   "source": [
    "predicted_labels, actual_labels, positive_count, negative_count, null_count, unrated_count = predict_recommendations(test_data, test_data_grouped, business_mapping, conn)\n",
    "\n",
    "prediction_lst = [positive_count, negative_count, unrated_count]\n",
    "evaluation_metric, confusion_matrix, background_stats = compute_prediction_evaluation(actual_labels, predicted_labels, prediction_lst)"
   ]
  },
  {
   "cell_type": "code",
   "execution_count": null,
   "metadata": {},
   "outputs": [],
   "source": [
    "prediction_lst = [positive_count, negative_count, unrated_count]\n",
    "evaluation_metric, confusion_matrix, background_stats = compute_prediction_evaluation(actual_labels, predicted_labels, prediction_lst, 2)"
   ]
  },
  {
   "cell_type": "code",
   "execution_count": null,
   "metadata": {},
   "outputs": [
    {
     "name": "stdout",
     "output_type": "stream",
     "text": [
      "Testing Data Statistics\n"
     ]
    },
    {
     "data": {
      "text/html": [
       "<div>\n",
       "<style scoped>\n",
       "    .dataframe tbody tr th:only-of-type {\n",
       "        vertical-align: middle;\n",
       "    }\n",
       "\n",
       "    .dataframe tbody tr th {\n",
       "        vertical-align: top;\n",
       "    }\n",
       "\n",
       "    .dataframe thead th {\n",
       "        text-align: right;\n",
       "    }\n",
       "</style>\n",
       "<table border=\"1\" class=\"dataframe\">\n",
       "  <thead>\n",
       "    <tr style=\"text-align: right;\">\n",
       "      <th></th>\n",
       "      <th>Total Positive</th>\n",
       "      <th>Total Negative</th>\n",
       "      <th>Total</th>\n",
       "      <th>Ratio</th>\n",
       "    </tr>\n",
       "  </thead>\n",
       "  <tbody>\n",
       "    <tr>\n",
       "      <th>0</th>\n",
       "      <td>1043</td>\n",
       "      <td>1085</td>\n",
       "      <td>2128</td>\n",
       "      <td>0.490132</td>\n",
       "    </tr>\n",
       "  </tbody>\n",
       "</table>\n",
       "</div>"
      ],
      "text/plain": [
       "   Total Positive  Total Negative  Total     Ratio\n",
       "0            1043            1085   2128  0.490132"
      ]
     },
     "metadata": {},
     "output_type": "display_data"
    },
    {
     "name": "stdout",
     "output_type": "stream",
     "text": [
      "Evaluation Metrics\n"
     ]
    },
    {
     "data": {
      "text/html": [
       "<div>\n",
       "<style scoped>\n",
       "    .dataframe tbody tr th:only-of-type {\n",
       "        vertical-align: middle;\n",
       "    }\n",
       "\n",
       "    .dataframe tbody tr th {\n",
       "        vertical-align: top;\n",
       "    }\n",
       "\n",
       "    .dataframe thead th {\n",
       "        text-align: right;\n",
       "    }\n",
       "</style>\n",
       "<table border=\"1\" class=\"dataframe\">\n",
       "  <thead>\n",
       "    <tr style=\"text-align: right;\">\n",
       "      <th></th>\n",
       "      <th>Accuracy</th>\n",
       "      <th>Precision</th>\n",
       "      <th>Recall</th>\n",
       "      <th>F1 Score</th>\n",
       "      <th>F-beta Score</th>\n",
       "      <th>Unrated Count</th>\n",
       "    </tr>\n",
       "  </thead>\n",
       "  <tbody>\n",
       "    <tr>\n",
       "      <th>0</th>\n",
       "      <td>0.6005</td>\n",
       "      <td>0.612</td>\n",
       "      <td>0.264606</td>\n",
       "      <td>0.369468</td>\n",
       "      <td>0.298494</td>\n",
       "      <td>0.434211</td>\n",
       "    </tr>\n",
       "  </tbody>\n",
       "</table>\n",
       "</div>"
      ],
      "text/plain": [
       "   Accuracy  Precision    Recall  F1 Score  F-beta Score  Unrated Count\n",
       "0    0.6005      0.612  0.264606  0.369468      0.298494       0.434211"
      ]
     },
     "metadata": {},
     "output_type": "display_data"
    },
    {
     "name": "stdout",
     "output_type": "stream",
     "text": [
      "Confusion Matrix\n"
     ]
    },
    {
     "data": {
      "text/html": [
       "<div>\n",
       "<style scoped>\n",
       "    .dataframe tbody tr th:only-of-type {\n",
       "        vertical-align: middle;\n",
       "    }\n",
       "\n",
       "    .dataframe tbody tr th {\n",
       "        vertical-align: top;\n",
       "    }\n",
       "\n",
       "    .dataframe thead th {\n",
       "        text-align: right;\n",
       "    }\n",
       "</style>\n",
       "<table border=\"1\" class=\"dataframe\">\n",
       "  <thead>\n",
       "    <tr style=\"text-align: right;\">\n",
       "      <th></th>\n",
       "      <th>True Positive</th>\n",
       "      <th>True Negative</th>\n",
       "      <th>False Positive</th>\n",
       "      <th>False Negative</th>\n",
       "    </tr>\n",
       "  </thead>\n",
       "  <tbody>\n",
       "    <tr>\n",
       "      <th>0</th>\n",
       "      <td>276</td>\n",
       "      <td>447</td>\n",
       "      <td>175</td>\n",
       "      <td>306</td>\n",
       "    </tr>\n",
       "  </tbody>\n",
       "</table>\n",
       "</div>"
      ],
      "text/plain": [
       "   True Positive  True Negative  False Positive  False Negative\n",
       "0            276            447             175             306"
      ]
     },
     "metadata": {},
     "output_type": "display_data"
    }
   ],
   "source": [
    "print(\"Testing Data Statistics\")\n",
    "display(background_stats)\n",
    "\n",
    "\n",
    "# drop the MRR column if it exists\n",
    "if 'Mean Reciprocal Rank' in evaluation_metric.columns:\n",
    "    evaluation_metric.drop(columns=['Mean Reciprocal Rank'], inplace=True)\n",
    "    \n",
    "\n",
    "print(\"Evaluation Metrics\")\n",
    "display(evaluation_metric)\n",
    "\n",
    "print(\"Confusion Matrix\")\n",
    "display(confusion_matrix)"
   ]
  },
  {
   "cell_type": "code",
   "execution_count": 15,
   "metadata": {},
   "outputs": [],
   "source": [
    "conn.close()"
   ]
  },
  {
   "cell_type": "markdown",
   "metadata": {},
   "source": [
    "### Adding Retrieval Result to the db"
   ]
  },
  {
   "cell_type": "code",
   "execution_count": 10,
   "metadata": {},
   "outputs": [
    {
     "name": "stdout",
     "output_type": "stream",
     "text": [
      "User --Vu3Gux9nPnLcG9yO_HxA was recommended business WwPdWaLYBRz7By915qlXRg with a positive rating of 5.0.\n",
      "User --XwFm4qERD6J5SX0JAsbg was recommended business MbNcVhRqpNPcvgFzWgaxSQ with a positive rating of 5.0.\n",
      "User --u09WAjW741FdfkJXxNmg was recommended business 71U7MxQEhwitJOm4CQpRwQ with a positive rating of 4.0.\n",
      "User -0KrCHEsOcjJ6N4k_k1A9A was recommended business KdAWjL9MKjpJzEeI902qBA with a positive rating of 4.0.\n",
      "User -0MIp6WKJ8QvGnYZQ5ETyg was recommended business j-qtdD55OLfSqfsWuQTDJg with a positive rating of 5.0.\n",
      "User -13RX4Gy_F-zoLIenWAo-w was recommended business dGeXdSMah56gEHwZNaRQKA with a positive rating of 5.0.\n",
      "User -2cKJFFNJ9XVyWBt62mWvA was recommended business NbOWECn3ilz4gWL6dm5P6g with a positive rating of 5.0.\n",
      "User -3Dzhux7DmA0Rj6P8PtQNA was recommended business EaqASiPkxV9OUkvsAp4ODg with a positive rating of 5.0.\n",
      "User -3s52C4zL_DHRK0ULG6qtg was recommended business 0QYWhij_YZ7Lyk9F6213Sg with a positive rating of 5.0.\n",
      "User -3s52C4zL_DHRK0ULG6qtg was recommended business vRj1rgF4ZpwGt97MbcRzqg with a positive rating of 4.0.\n",
      "User -3s52C4zL_DHRK0ULG6qtg was recommended business 56M2bwaaSzcmzr2dyEfYQw with a positive rating of 5.0.\n",
      "User -584avr5GMIqv-9Ut85Ywg was recommended business tQIw_BZzfjh8UC4Eqhd0XQ with a positive rating of 4.0.\n",
      "User -5Slg5hO3useiypXYgZkGg was recommended business 0d1dpaZqcm7litFOJl7atA with a positive rating of 5.0.\n",
      "User -5biBBVhvEudXdeUmwHGLQ was recommended business E9QzFNntGABauXJjii_Qyw with a positive rating of 5.0.\n",
      "User -5e4VTnu_pR4Gpv3VSncaw was recommended business ReX09lhufLTAx19krkltDA with a positive rating of 4.0.\n",
      "User -5jhwwoyXYRzQ0-sr2HCBg was recommended business HuECL2Vymf6WXvnE1_bvRA with a positive rating of 4.0.\n",
      "User -6IEezWnzsB8THCxaVFyNw was recommended business wK2G-v74dCEzmGEUtKgOKQ with a positive rating of 4.0.\n",
      "User -6ZhDj655l0dKia8IDKYoQ was recommended business hYonVJe6xzVBHHT2FLo4zg with a positive rating of 5.0.\n",
      "User -6bkYGD5J7szG0JAblLmIA was recommended business KkIHmOm9rl-2sQ63Ixdwhg with a positive rating of 5.0.\n",
      "User -7Eh_8y1ihj3nNtdIetiRA was recommended business 4D7QDfPOsSPfKxBi3gs_qQ with a positive rating of 5.0.\n",
      "User -7XrSrJfHndHc_taEXurTw was recommended business p_qSQwShIgQnNxGcajI4-w with a positive rating of 5.0.\n",
      "User -7XrSrJfHndHc_taEXurTw was recommended business PeczUJRFYkZBvAyMxzXPSQ with a positive rating of 5.0.\n",
      "User -7XrSrJfHndHc_taEXurTw was recommended business qGtPd-sk178XvrN38D3kzQ with a positive rating of 4.0.\n",
      "User -7qUbOVWJp2NT3f_TNuIBA was recommended business L-wv-QK9VoUZX6zUcJwSSw with a positive rating of 4.0.\n",
      "User -8ITwgM4jvNIsR875sYguw was recommended business Aw7UWNqfQYZmVlcBJhu2Xw with a positive rating of 5.0.\n",
      "User -8PU0Z4Q2Nc-sY0eBj4DiQ was recommended business sCkBUXw-GrMvRRxcun-Alg with a positive rating of 5.0.\n",
      "User -9OEoNjcLa9nBiu41nHiaQ was recommended business TSKCK51GymAsxiA-kx-RiA with a positive rating of 5.0.\n",
      "User -9OEoNjcLa9nBiu41nHiaQ was recommended business xlMQBBt9wrtahdqiRDcVSg with a positive rating of 5.0.\n",
      "User -9OIms4jE1bdD1fz7AzAFA was recommended business _34KJPR-T0HP9USJw1nCfw with a positive rating of 4.0.\n",
      "User -9bh6ld7bpeMv26HW-kYjg was recommended business cQIh4YJlVtZI9TLF5_smOg with a positive rating of 5.0.\n",
      "User -9feVBEtrCvt1FALQ9lfLw was recommended business P_x9fEz8efemqOIV46S0tg with a positive rating of 5.0.\n",
      "User -9qrDZPYhvhGisml-LA1vQ was recommended business Pe-Umwef-sX1Hesq3t1mCw with a positive rating of 5.0.\n",
      "User -AGLoncQKBFVYCkfe59Hmg was recommended business gKBqK-FFq7EGOUscBqb1iA with a positive rating of 4.0.\n",
      "User -AwZjQNFpCqc0bVNNyBqwg was recommended business 0K4RwxdAcViifyU3Htzxww with a positive rating of 5.0.\n",
      "User -B-QEUESGWHPE_889WJaeg was recommended business E_ac8Q20OJD9L8cafCBKaQ with a positive rating of 5.0.\n",
      "User -B-QEUESGWHPE_889WJaeg was recommended business q-1ICFSqs2MwDGfe5tX-SQ with a positive rating of 4.0.\n",
      "User -BJIu6TWs26q2yxozPAbEg was recommended business HCBSkwnMPHuOVKrTuGd6DA with a positive rating of 5.0.\n",
      "User -BX5x3Ys-2JzFba3LiWlHA was recommended business pwMejZZUizAZ4aOADafVPg with a positive rating of 5.0.\n",
      "User -BdXedi9sQ6oA_QPtCqI_Q was recommended business lSwPJt2ZPX03tEpfXE1BFw with a positive rating of 5.0.\n",
      "User -Bv2DxQtG7xPYdJqlqL9fQ was recommended business ZCZkxo29UKOkKYcxgmwLSA with a positive rating of 5.0.\n",
      "User -CjssPDDDecPnqS9NO7szw was recommended business QCsVilspu6TxuwZMUTabFQ with a positive rating of 5.0.\n",
      "User -DM4AmThxktZflgOccMp7w was recommended business bZ2mNCf64JlX-_U5eDOcQg with a positive rating of 4.0.\n",
      "User -DgbjFyHyHUHYfZX69SpRQ was recommended business cd-rz-piYMftZtbFU82x8g with a positive rating of 4.0.\n",
      "User -Dt5o6GpQcXQfVeWpHNtDg was recommended business MI7cUsPiQGYQRuQmn3MbtA with a positive rating of 4.0.\n",
      "User -EbVuBtFKOalsIcNlfc7Fg was recommended business pafrjSu3h0v0N8GR3ghNtQ with a positive rating of 5.0.\n",
      "User -EbVuBtFKOalsIcNlfc7Fg was recommended business cfeRMWj5GVYUia_hqRsARA with a positive rating of 5.0.\n",
      "User -FvW27M5s9Fa7XhoGZNZog was recommended business fc_FW62_B6gjpwQEzyLW1w with a positive rating of 4.0.\n",
      "User -FxsSuwDbIII7yo5BjHpiA was recommended business dRKztV_Vtl7AvZg052SgRQ with a positive rating of 4.0.\n",
      "User -Fyi0J0MoIFz5g9T-wtS4g was recommended business DTxB12bQaZ1m-nLeXWX2rw with a positive rating of 4.0.\n",
      "User -G-s0z4MVaIjHIRAWp1myw was recommended business 4i4kmYm9wgSNyF1b6gKphg with a positive rating of 4.0.\n",
      "User -G7Zkl1wIWBBmD0KRy_sCw was recommended business qISf5ojuYbD9h71NumGUQA with a positive rating of 5.0.\n",
      "User -G7Zkl1wIWBBmD0KRy_sCw was recommended business fOuWUIupxZlE5TQp9T_84A with a positive rating of 4.0.\n",
      "User -G7Zkl1wIWBBmD0KRy_sCw was recommended business A9rVxmIBtHZRvNhbBaGAWg with a positive rating of 5.0.\n",
      "User -GXSfD1GYAKRyvDXPG7CyA was recommended business ytynqOUb3hjKeJfRj5Tshw with a positive rating of 5.0.\n",
      "User -GlgGLBAmhHCDbPhaVlXwg was recommended business EaqASiPkxV9OUkvsAp4ODg with a positive rating of 5.0.\n",
      "User -GlheyCSx4bu0PYYt-fRnQ was recommended business _WgHwh1otHKk_cS3TRcaug with a positive rating of 4.0.\n",
      "User -GowNe73gDZs9MfS3ugJDQ was recommended business -bxLBGgtchd-O6-2CdDThA with a positive rating of 5.0.\n",
      "User -GowNe73gDZs9MfS3ugJDQ was recommended business 1Hd-0f0gWvI7y9CI_3kFVg with a positive rating of 4.0.\n",
      "User -GowNe73gDZs9MfS3ugJDQ was recommended business wgEST8dD-vPpn-6MCptd2w with a positive rating of 5.0.\n",
      "User -GowNe73gDZs9MfS3ugJDQ was recommended business nTEmSvz8_DK-iK3miQFCwA with a positive rating of 5.0.\n",
      "User -Her419l4DCjSFey7UjmtA was recommended business z1llbFByQIFZP5Hb44-_zw with a positive rating of 5.0.\n",
      "User -JN2qTghHtB1dW4YDVlBRQ was recommended business z3jfgtlDBww3jTPLosPeew with a positive rating of 4.0.\n",
      "User -K29SbpviWPK9NR7xAedmg was recommended business n_fUROdhfmLwd_mpBi55ew with a positive rating of 4.0.\n",
      "User -KahRmNBsG1WHGdod_uj8g was recommended business SsdCrUeZlHqqGOWTfZ95Cw with a positive rating of 5.0.\n",
      "User -KduD3wwydWDq2GrODh2tw was recommended business J7_B_oDTGbFm4fe0Uy--lQ with a positive rating of 4.0.\n",
      "User -LBWx5-3tutEdZFoIuoBMg was recommended business YCqc4n0-S0k5myHs2s7Aew with a positive rating of 5.0.\n",
      "User -NDurCQ1u3CbUd05M7MaIA was recommended business tCKx9bkvughZdZK4vbiJ1w with a positive rating of 5.0.\n",
      "User -NXMmOULp-kUv_LO1V6JVQ was recommended business FIFi_8eNmc-jPHZVHPS3NQ with a positive rating of 5.0.\n",
      "User -NipQme-3bdfY3LlfBwzCA was recommended business clwjLY7PdYJpe7IP9lrqEw with a positive rating of 4.0.\n",
      "User -NwtV6xvM4zSLrSioHUOMQ was recommended business Q04qL9uniSJ57mSs8PaDQw with a positive rating of 5.0.\n",
      "User -NycZLw5rPxqwrkKKI-83w was recommended business bY55freuP8C_wr6y5Fid7w with a positive rating of 4.0.\n",
      "User -OZPBHH7RzyPIai4AlPWKA was recommended business -0TffRSXXIlBYVbb5AwfTg with a positive rating of 4.0.\n",
      "User -OeDOCY60_erQ_NXI7I4lQ was recommended business pPpaOXOwcuO7z0sDghmOgw with a positive rating of 5.0.\n",
      "User -P7QbuJKBALJYH2_cBgj8A was recommended business BmwHAMrY-Tdrz6PApscqEg with a positive rating of 4.0.\n",
      "User -PHhewouMe4OcObjdqBWAA was recommended business gOrJeoLDOiW7muWuoE-sMg with a positive rating of 4.0.\n",
      "User -Q8cGu_PGBYpxgI74P3dMw was recommended business wUZXm4KN2wIqlfkvXVZXUw with a positive rating of 4.0.\n",
      "User -Q9ybuVTgPRBGvb6goMGoQ was recommended business SZU9c8V2GuREDN5KgyHFJw with a positive rating of 5.0.\n",
      "User -QSOTK4MMgf6Fwm1QL7VkQ was recommended business quk6TFDQyuQ4g0KuIb9qUA with a positive rating of 5.0.\n",
      "User -Qde5WA5dX_Rusllc9ZPaQ was recommended business hh6t95hiS-RqRt6bEz1SPw with a positive rating of 5.0.\n",
      "User -QrVSo-1XhXERcmk3ePrzQ was recommended business XzXKyR0r7zXF6a0JkhLD5Q with a positive rating of 4.0.\n",
      "User -QrVSo-1XhXERcmk3ePrzQ was recommended business kb1Tf4xwb7CQW5OXf9zwqw with a positive rating of 5.0.\n",
      "User -RWkqWfBxJB54eJag7D52A was recommended business VQcCL9PiNL_wkGf-uF3fjg with a positive rating of 4.0.\n",
      "User -RYue2CCuEcmwZPb9g-gPw was recommended business hPzPpfSjgQkpWCD7YjcY-A with a positive rating of 5.0.\n",
      "User -Rz2eMhH3z5XT5vZNkA2XQ was recommended business 2coic7DZlnlqVhblbEOpIA with a positive rating of 5.0.\n",
      "User -SO_K8oLVH_9J23z2MtjGg was recommended business 7UxXTerYUimY4Su-daewjg with a positive rating of 4.0.\n",
      "User -STTav3LzAbTumgncDdMVg was recommended business KP5OncF2jhT7_J1phHPPww with a positive rating of 4.0.\n",
      "User -SigNCNItQDtSq27j0t_tw was recommended business pwrqXRSyuMIb1ysh4WQKpw with a positive rating of 5.0.\n",
      "User -SigNCNItQDtSq27j0t_tw was recommended business uvhX5n6AiIEx9lSiyCKxlg with a positive rating of 4.0.\n",
      "User -TLXQfY2lZ6DVWQj4BosxQ was recommended business of-GVqY0G_UDHXT9Xg_ADQ with a positive rating of 4.0.\n",
      "User -TLXQfY2lZ6DVWQj4BosxQ was recommended business 9BRogQ1ZU-agQCPG-a4zIg with a positive rating of 5.0.\n",
      "User -TbX3AYOIEyo6-b67MT8eA was recommended business 9DJhhBqQSu-gTBwaqdhgpQ with a positive rating of 4.0.\n",
      "User -TbX3AYOIEyo6-b67MT8eA was recommended business 317lIGWVcxcVWdVo6ZKHwg with a positive rating of 5.0.\n",
      "User -TbX3AYOIEyo6-b67MT8eA was recommended business _Mbw_orl5EdXJP1XzklQvA with a positive rating of 5.0.\n",
      "User -TcZ82WJnqdH9CbTuxuU6Q was recommended business VaO-VW3e1kARkU9bP1E7Fw with a positive rating of 5.0.\n",
      "User -Tg5YTEMbnYw3fQN99xKCQ was recommended business xJ3NSwE0xhdtA-tB_y_rNQ with a positive rating of 4.0.\n",
      "User -Tg5YTEMbnYw3fQN99xKCQ was recommended business 3wo9jODQnuvBm8Gkem6qXg with a positive rating of 4.0.\n",
      "User -TvuLEPjoqQBK3pffL62iw was recommended business X0vPZIkbUj22afBQz5-neA with a positive rating of 4.0.\n",
      "User -UpzjgQRRobu_KU_Xo-I-w was recommended business VaO-VW3e1kARkU9bP1E7Fw with a positive rating of 5.0.\n",
      "User -V7frksbFjKQYVhrPnnlPw was recommended business GBTPC53ZrG1ZBY3DT8Mbcw with a positive rating of 5.0.\n",
      "User -V7frksbFjKQYVhrPnnlPw was recommended business CVmzqrekI1iYHio8pTyTpA with a positive rating of 5.0.\n",
      "User -V7frksbFjKQYVhrPnnlPw was recommended business PmF5kJ2E4YXPnVNNK8S51g with a positive rating of 4.0.\n",
      "User -V7frksbFjKQYVhrPnnlPw was recommended business oFbwMxqaCJfIzAEmwaXD3Q with a positive rating of 5.0.\n",
      "User -WUsD4lhcoVb6Q0rlWqvLg was recommended business of327M9qpoyp2FCx0Gvvmw with a positive rating of 5.0.\n",
      "User -WcB-MUolRfvBmJ2lLU_cg was recommended business UCMSWPqzXjd7QHq7v8PJjQ with a positive rating of 4.0.\n",
      "User -Wu93nlWpC56t8_0IHs4UQ was recommended business B9Z3i-n9y9FfMU3CQxtThA with a positive rating of 5.0.\n",
      "User -YAXThScggsREXhutAHkAA was recommended business eaDZlSuVS0EY67Ke6pRP6Q with a positive rating of 4.0.\n",
      "User -YwLELRcGolyyRhZtA4hFw was recommended business _BreSZ3-mTEJYqJ1Ot7Akg with a positive rating of 5.0.\n",
      "User -YzMNY4jjDby1jEsDMq1ug was recommended business Q8So7F6LuHCh2UGCbWkpMw with a positive rating of 4.0.\n",
      "User -Z1lTwsRV-bBSO-tIbIqdQ was recommended business tkyHFPJ3dBsjE2hA_tk_sQ with a positive rating of 5.0.\n",
      "User -ZHlPAvlVdgtiu6DiCq7Yg was recommended business Xm3fazqrD-Fi4tVPlc4i6Q with a positive rating of 5.0.\n",
      "User -ZHlPAvlVdgtiu6DiCq7Yg was recommended business VbgnG9ymyq_jyYcN0jFBZA with a positive rating of 5.0.\n",
      "User -Zaq3_beagWSzis9MxP88A was recommended business oBNrLz4EDhiscSlbOl8uAw with a positive rating of 4.0.\n",
      "User -ZfVRD4fYZl2XKpm8Y4LYQ was recommended business zIywEPcmitEDEvA1g6qrgg with a positive rating of 5.0.\n",
      "User -_-97I8y6aTJjpZMKyd4TA was recommended business T_6e0SgNuKotySgVS8O1UQ with a positive rating of 5.0.\n",
      "User -_OH-t_Tnm3-I2RpPjEjwA was recommended business GaqcV1K44cTmrtOGYBmrpw with a positive rating of 5.0.\n",
      "User -_TyPUcWnWfpC-KejP6Qnw was recommended business 3yW8-dUi1wwCEf0URxUA7A with a positive rating of 5.0.\n",
      "User -_TyPUcWnWfpC-KejP6Qnw was recommended business cv-SmPhbpwQCtlI2Q7KJIQ with a positive rating of 4.0.\n",
      "User -_yEJzliiEXpzlAh2vf6pA was recommended business 9xdXS7jtWjCVzL4_oPGv9A with a positive rating of 5.0.\n",
      "User -a-Sv3iht6zhmA7Wi7jslg was recommended business 9gPLN_mLR-kqwmcMe-QkOA with a positive rating of 5.0.\n",
      "User -a4rD2Sa7hvqF_BjC3QBdQ was recommended business Sv1MEZP-mMfp8SmE0hwYEA with a positive rating of 4.0.\n",
      "User -a_Gedep5xLNZZRqcb3BaA was recommended business BlI-twxwJnvqELP5tRCR7Q with a positive rating of 5.0.\n",
      "User -bFmOUX6D77NXDNXlC96aQ was recommended business _iDDqhphfpvrDxKjFa9Ofw with a positive rating of 5.0.\n",
      "User -bFmOUX6D77NXDNXlC96aQ was recommended business jKTWcdyXPw_cGUp9fKqapQ with a positive rating of 5.0.\n",
      "User -bW-oMGjoS9F-II3ReiBzQ was recommended business ws2gnWU77nydKJB81GXT9g with a positive rating of 5.0.\n",
      "User -boyAT-5i6HyD7IZxDOccQ was recommended business XrikSy0DQ_fhVCaRRBJI-g with a positive rating of 5.0.\n",
      "User -c47XY-1Qd2GY-gY_MRGjg was recommended business V9VLhHdSFpFi4yXFqVcVEA with a positive rating of 5.0.\n",
      "User -cDcRcTafKIUSvOeVkwlIQ was recommended business fZ92MJ1hbEMXqwWTSwF9lA with a positive rating of 4.0.\n",
      "User -cu7dZgrH95-VYcKzZSPMg was recommended business nYsNsyIppe_DTueBha1x9A with a positive rating of 5.0.\n",
      "User -cwoSUKPvN3Xp0fvNIdP8g was recommended business Tqt99-TsbRT4bmsXHyA1lA with a positive rating of 4.0.\n",
      "User -cwoSUKPvN3Xp0fvNIdP8g was recommended business Jp962_2siVfQYvGJMNomig with a positive rating of 4.0.\n",
      "User -cwoSUKPvN3Xp0fvNIdP8g was recommended business aZN5R7Xfea0GkDBwBZOQrQ with a positive rating of 4.0.\n",
      "User -dDp99bqj2FEm11JUPXhug was recommended business 4wDo72kKuceoLw8Uu_Y_RQ with a positive rating of 5.0.\n",
      "User -dN3ww2WYLkwAbZtJHcLHQ was recommended business ezB8e2rijjViprrcTdIiQQ with a positive rating of 5.0.\n",
      "User -dN3ww2WYLkwAbZtJHcLHQ was recommended business huta5nl96oXBxnFIQeMTTA with a positive rating of 5.0.\n",
      "User -dV5NyHfryP-s8gz6BF3zQ was recommended business Umiw65xOQH61kyaI3SfXDw with a positive rating of 5.0.\n",
      "User -delfbMaca8j-Gr1T5ciXQ was recommended business YjQyrXNL5HcFMY6lEtk5ag with a positive rating of 5.0.\n",
      "User -dgC1iRp_JqBTmn5d1wRhg was recommended business 90pJu2O7fIEm_N31Fyue7A with a positive rating of 5.0.\n",
      "User -dgC1iRp_JqBTmn5d1wRhg was recommended business KhKcgF3zi6J_M6HBzkFkLg with a positive rating of 4.0.\n",
      "User -dgC1iRp_JqBTmn5d1wRhg was recommended business VVHfqUeYyAA9FEsH-6PI2A with a positive rating of 4.0.\n",
      "User -dgC1iRp_JqBTmn5d1wRhg was recommended business 89SD5fNDDnJj-ITB40hLsQ with a positive rating of 4.0.\n",
      "User -dgC1iRp_JqBTmn5d1wRhg was recommended business WnyiCJfpsl1RViIWafNwIA with a positive rating of 4.0.\n",
      "User -dnERQYQCDVZFMMuh7bBDg was recommended business eJaeTZlIdM3HWCq__Ve4Wg with a positive rating of 5.0.\n",
      "User -dnERQYQCDVZFMMuh7bBDg was recommended business E_h2yNoagLK-3ODYwMPErw with a positive rating of 5.0.\n",
      "User -eBkx1Hl2A40GZAaZvXR1Q was recommended business eUoV6GeeP3GPm9Q3LK3apg with a positive rating of 4.0.\n",
      "User -eg6fCMY7UsXzd-ImafXPQ was recommended business 5oX4G1cptixPZecih9L3dg with a positive rating of 5.0.\n",
      "User -eneOTwr5fAo0bjYXHaPoQ was recommended business 2OXCAbz3x_MrQSYj1zarIA with a positive rating of 4.0.\n",
      "User -f7hMcmoh_0pigmUfwE3_w was recommended business dsfRniRgfbDjC8os848B6A with a positive rating of 5.0.\n",
      "User -f8p-dBjGKrwVsi1sG6Sig was recommended business uH7EepS3kXC-63NI0DDbYw with a positive rating of 5.0.\n",
      "User -foIP_JKiHcomkmI_M-8GA was recommended business 7Iv-6B0EH-yVo5o_VnykWw with a positive rating of 5.0.\n",
      "User -fpHUJHuTCL0Q0Nh2Ne3ig was recommended business iH9fT2RCB0u4cVl2HLDtqg with a positive rating of 4.0.\n",
      "User -frybFHNHWnwd69LFXkOVQ was recommended business MkN_izm527-4icyzmzWvOw with a positive rating of 5.0.\n",
      "User -frybFHNHWnwd69LFXkOVQ was recommended business Nz5eRRkTK1RGEjUlJojRQQ with a positive rating of 4.0.\n",
      "User -g3XIcCb2b-BD0QBCcq2Sw was recommended business xZileQFJ7h-0QKjtGc9xgg with a positive rating of 5.0.\n",
      "User -g8Cl0OINIPcGf1gZsyjlw was recommended business ZGH8MzJa7Q7iIpmtzBAJAQ with a positive rating of 5.0.\n",
      "User -g8nkLX6PGNDSgoy4YzjFA was recommended business MgQbdvwKXEJC-LvySLlabg with a positive rating of 5.0.\n",
      "User -g8nkLX6PGNDSgoy4YzjFA was recommended business b9NLnpv-nXj8ilX6NuhkLg with a positive rating of 4.0.\n",
      "User -gKLeuHqi9WiChqUm2fdNg was recommended business 31QjRfXZY3hLDbv8LVvjYg with a positive rating of 5.0.\n",
      "User -gKpj4jC-KR6ejyXc4VDCw was recommended business PccIfmGRl179W0iRaO4cfg with a positive rating of 5.0.\n",
      "User -hFSXulXh22Es29Y4F4cgQ was recommended business EM0jUQn-SEnttG8hf-Eq6A with a positive rating of 5.0.\n",
      "User -hKniZN2OdshWLHYuj21jQ was recommended business u9modXzD6V2Gbpq0YS9W6Q with a positive rating of 4.0.\n",
      "User -hKniZN2OdshWLHYuj21jQ was recommended business WxB8498ejPtHE7wFa89_fA with a positive rating of 4.0.\n",
      "User -ibb_cZiaht_DjkIqDUF_Q was recommended business qfABDeMSCirVPeG6BfcUEA with a positive rating of 4.0.\n",
      "User -ibb_cZiaht_DjkIqDUF_Q was recommended business cN8F-BmoHoS9eCqIHMtlHA with a positive rating of 4.0.\n",
      "User -imdPiD9l7cS-x1jEDAS-w was recommended business SDUHdtyCg-1jI5MZiC5mzw with a positive rating of 4.0.\n",
      "User -jEryluA1cM-rkkT6bwr9w was recommended business ac1AeYqs8Z4_e2X5M3if2A with a positive rating of 5.0.\n",
      "User -jHpOIReEQXYymg3duqqqg was recommended business TwnzM8mJn_nT2PJf1x-9kQ with a positive rating of 5.0.\n",
      "User -jHpOIReEQXYymg3duqqqg was recommended business tMtI6ECD6hwM-nFp2kXLKQ with a positive rating of 4.0.\n",
      "User -jqm_UtGfAxHmLlsQNpM-A was recommended business 8NyDM-FDoWEEeEG9XUwnbg with a positive rating of 5.0.\n",
      "User -jrkNaLV-7q81Hm6q1fY3g was recommended business P9xNwbMStRsHsVc6K5PDpg with a positive rating of 5.0.\n",
      "User -jt1ACMiZljnBFvS6RRvnA was recommended business kbEVlzQLcYS3JSQPG9QMOQ with a positive rating of 5.0.\n",
      "User -kAQ-PSKx3i0st2B4aPpTg was recommended business aJdE0yRIyXOw-QQEfLBCJA with a positive rating of 5.0.\n",
      "User -kFCbMmErJV5oac9VBgz-w was recommended business KZA_HEOsBXf8dtrk9rqNJA with a positive rating of 4.0.\n",
      "User -kJ00CtOuHCJUh2vf8om3g was recommended business GXFMD0Z4jEVZBCsbPf4CTQ with a positive rating of 4.0.\n",
      "User -kLVfaJytOJY2-QdQoCcNQ was recommended business RqW9S4WG9UYZHKhHRHXJZg with a positive rating of 5.0.\n",
      "User -kLVfaJytOJY2-QdQoCcNQ was recommended business Ps7Q7BOKzJO4nDTUhbk43Q with a positive rating of 5.0.\n",
      "User -kLVfaJytOJY2-QdQoCcNQ was recommended business OAHRMd971k-yDQwRxzgc2g with a positive rating of 5.0.\n",
      "User -kTKEXtFsb9CewUXCPTAlQ was recommended business jaJhPD1mn5aqWUr61-nxyw with a positive rating of 4.0.\n",
      "User -kv5SgKsr1i8C9dljeGPcA was recommended business VgtsezxY6_yT1dnBTKrSBw with a positive rating of 5.0.\n",
      "User -m0Gv317rDyfpj1i1ZJMkg was recommended business rugDoz-A6vL-FG-8PbvOag with a positive rating of 4.0.\n",
      "User -m2wWMUepSVL0S2RxRAgwQ was recommended business BAb-WOolx6RvaA4e7iteJA with a positive rating of 4.0.\n",
      "User -mm2-9291QyM1zpbnJRfsA was recommended business HMyTZREKcwD6iFYzsqHWWw with a positive rating of 5.0.\n",
      "User -muNAYCmylCP7kype-VCZA was recommended business OdIBX09glfXNVSyd0RnIeg with a positive rating of 4.0.\n",
      "User -nCH_8DkYmO0qcmG0Dr5Ag was recommended business hA8c2kWI_8DXZE1jyVxlBQ with a positive rating of 4.0.\n",
      "User -nHUAn6IfY2U-Joq7CuLEQ was recommended business j92DNzG7Io113coMzYsTsw with a positive rating of 4.0.\n",
      "User -ne-7caCLAk2j3kD7tzBGw was recommended business ytynqOUb3hjKeJfRj5Tshw with a positive rating of 5.0.\n",
      "User -ne-7caCLAk2j3kD7tzBGw was recommended business 6_T2xzR74JqGCTPefAD8Tw with a positive rating of 5.0.\n",
      "User -ne-7caCLAk2j3kD7tzBGw was recommended business tttwCEpskb7HdSQS8szUFA with a positive rating of 4.0.\n",
      "User -nlvzH2pSr8mTPahX1YIAA was recommended business 7iQ93RWLLYOa7QRMcHgEtA with a positive rating of 5.0.\n",
      "User -o9GzAZWfKkKkCDYUy7FXA was recommended business jLnIvbbXUg4s7CP9G-Whvw with a positive rating of 5.0.\n",
      "User -ou42X2Ny3erNTjUmYn60A was recommended business 0Xm1wedwnMJ1iKXz8vUDSw with a positive rating of 4.0.\n",
      "User -pY1-iQMuIsatYzN669TQw was recommended business dDB7tPluGntO43KT_aoLDA with a positive rating of 5.0.\n",
      "User -pfPBJzVB-EBwaFX8B59gQ was recommended business G2oWC7vWPTiTZt--0bUMzA with a positive rating of 4.0.\n",
      "User -pfPBJzVB-EBwaFX8B59gQ was recommended business vhDWGF-8BfsxvS7Zo5Wv2w with a positive rating of 5.0.\n",
      "User -pwvrcd7TGulm0tJeQzHRg was recommended business Uooe_7n4jy1ZYAFF0xe2UA with a positive rating of 4.0.\n",
      "User -qAvMjM58F6SU09UHG7VIA was recommended business cd-rz-piYMftZtbFU82x8g with a positive rating of 5.0.\n",
      "User -r062wagCApSPi6PJ2ePEA was recommended business 67gnSHwFRKgtXlzHzuyGMQ with a positive rating of 5.0.\n",
      "User -rGU3wo4fgEnGRboYdMTjw was recommended business QYMYtbOAfauqobOvC04gMA with a positive rating of 4.0.\n",
      "User -rGU3wo4fgEnGRboYdMTjw was recommended business plYw0lBpAIBdwqH8FY1H_A with a positive rating of 4.0.\n",
      "User -rGU3wo4fgEnGRboYdMTjw was recommended business Nz5eRRkTK1RGEjUlJojRQQ with a positive rating of 4.0.\n",
      "User -rQmgOVcEY2zy7DWBG5KcQ was recommended business F0Q9o6yuYh8f0DYl1RFjxQ with a positive rating of 4.0.\n",
      "User -roDfyKNZ-ompb_myak7aw was recommended business YPTYOQO8Lg9BtHsRwYBY7g with a positive rating of 5.0.\n",
      "User -roDfyKNZ-ompb_myak7aw was recommended business nX2105_S9lUhB5rbhC2n2w with a positive rating of 5.0.\n",
      "User -roDfyKNZ-ompb_myak7aw was recommended business fPYggpOpQq33onQAvOpwcw with a positive rating of 5.0.\n",
      "User -sac-sCaPLUR8llnx7HEUg was recommended business IS3h8_4gL_IbmpVTKDB3LA with a positive rating of 5.0.\n",
      "User -sfXjRSLdZACRy6kXTOCvg was recommended business OQzhh3GSaE7J0S0j9Jo19Q with a positive rating of 5.0.\n",
      "User -shHTy1CEmSMPVSehdASaw was recommended business WhTRPUduXy3mRBYlmSmsKw with a positive rating of 4.0.\n",
      "User -som6H_3XhIFyu6p2nZfGQ was recommended business Pv0UQ6EIQokMLkrn-GDDDA with a positive rating of 5.0.\n",
      "User -t1ELS3wtVwpFHozbvNTpQ was recommended business DbARcEuX6NvWN_hSQKHMJg with a positive rating of 5.0.\n",
      "User -uMqK8W_nWbRUWOFGW7CBw was recommended business 6x9hcZ1CJ4S9avBgPGS7-Q with a positive rating of 5.0.\n",
      "User -uULk4feStXC7Wf08aVZng was recommended business g0cUlBQ2pGRxWtL6qwyeIg with a positive rating of 4.0.\n",
      "User -uWiPg0mOT8yW5iHIlNmfA was recommended business __YGMQexDIqJKtYynxh5gg with a positive rating of 5.0.\n",
      "User -uglef88WEwkI6UlAqwO0Q was recommended business 7Iv-6B0EH-yVo5o_VnykWw with a positive rating of 5.0.\n",
      "User -uoYe4UkmJkYBP6aDTvlOA was recommended business lJBYrLE3v3d2q5QBIK_S0Q with a positive rating of 4.0.\n",
      "User -utSXIoF5aH7D5b0hZmTow was recommended business WrZaL6BxHqVqt3sAcJ-5Rg with a positive rating of 5.0.\n",
      "User -v2IPgrUSp3ZPvwLvLFAYg was recommended business RLaS9hQJXAc7ED2wr9dWeA with a positive rating of 5.0.\n",
      "User -v8nveSjJ3GihrRETN6j0Q was recommended business CX41cIFRNSYtcv8ZbpiMkw with a positive rating of 5.0.\n",
      "User -vPtYuV_dMPb0Bbzg9ECVw was recommended business y7pKM3eFDZ9eRchC6SNMsA with a positive rating of 5.0.\n",
      "User -vPtYuV_dMPb0Bbzg9ECVw was recommended business eUxD-l-Ddr1iMmzV6prNFw with a positive rating of 5.0.\n",
      "User -wd41HcxuwQwZJRW9HoO1A was recommended business Hi4AgS-uR-lEOF4oZl546g with a positive rating of 4.0.\n",
      "User -wd41HcxuwQwZJRW9HoO1A was recommended business cXAKeC-EgVChIxhS7fscmw with a positive rating of 5.0.\n",
      "User -wd41HcxuwQwZJRW9HoO1A was recommended business aAyCUTc7y9ZIN1OZ7tGe6Q with a positive rating of 4.0.\n",
      "User -x1516ZG5GllZiBjDQlRkA was recommended business IWHdx0NhDKADkGOgXgOFKQ with a positive rating of 5.0.\n",
      "User -x1516ZG5GllZiBjDQlRkA was recommended business RQAF6a0akMiot5lZZnMNNw with a positive rating of 5.0.\n",
      "User -xABZEQJ9mXPtp4OP4N2hw was recommended business uUWV5HDFKX6rfvU1SNB1-A with a positive rating of 5.0.\n",
      "User -xABZEQJ9mXPtp4OP4N2hw was recommended business h9m5Kt1tzTI6kJikDhxn6g with a positive rating of 5.0.\n",
      "User -xWtKHxDqJFydRgeg8D69w was recommended business RUgNtJ046NNtlya4-qUB3w with a positive rating of 5.0.\n",
      "User -y4O_E79Z6QwEI1p4OU_0w was recommended business IWHdx0NhDKADkGOgXgOFKQ with a positive rating of 4.0.\n",
      "User -yY59glTwwEWiGzSlwI2_g was recommended business evxhNYa77dxWZabIpGQCkg with a positive rating of 5.0.\n",
      "User -yi-3gWJn_vccgVDh3cNpg was recommended business hfbZ97Te3T4jeWN6GgsGrQ with a positive rating of 4.0.\n",
      "User -z3GHivUJ8inZT0NQYFb0w was recommended business qYU_cLn5cEgqa-dsqsHbqg with a positive rating of 5.0.\n",
      "User 0-5xw_rzNdoq0yezQPPLPg was recommended business 0TwZfZHis6e4o6sBogUJVQ with a positive rating of 5.0.\n",
      "User 0-9Gups6_gNJhRR_lZycsw was recommended business MpkCQTOV6D3XGRPbtQPj5Q with a positive rating of 5.0.\n",
      "User 0-hb63A9uWjR1YIyVMu6rg was recommended business GVWcwqUD-ekCMQ0x2Ke6Ww with a positive rating of 5.0.\n",
      "User 0-hb63A9uWjR1YIyVMu6rg was recommended business _ab50qdWOk0DdB6XOrBitw with a positive rating of 4.0.\n",
      "User 0-n89YwF9LExnPIwgIVhoA was recommended business H3JjbID9Zhukpqr9uupHAA with a positive rating of 4.0.\n",
      "User 0-n89YwF9LExnPIwgIVhoA was recommended business hWiXoJFDZrzPY33RjG8yeA with a positive rating of 4.0.\n",
      "User 0-n89YwF9LExnPIwgIVhoA was recommended business DF_cgKLV_YMDkBaNlE0XoQ with a positive rating of 4.0.\n",
      "User 005GchcM1HWBH3SFKrIxBA was recommended business dclL14pr7OojCOKJ_ZbMbQ with a positive rating of 5.0.\n",
      "User 00IPtk7iLBxuRDFBbVtlTA was recommended business T2JzbrPH2GkY6XpyzNe7ow with a positive rating of 5.0.\n",
      "User 00xFNoiFiXmtNH477_9Njg was recommended business AzQIIA5d5YFrU03pyhV1fg with a positive rating of 4.0.\n",
      "User 01IhGl0XmthVaN1n0yVpfQ was recommended business vWjME92WddneF98IqzaNfQ with a positive rating of 5.0.\n",
      "User 01IhGl0XmthVaN1n0yVpfQ was recommended business QaOTMn7BVBx3xXrjRlVnCw with a positive rating of 5.0.\n",
      "User 01IhGl0XmthVaN1n0yVpfQ was recommended business u4M4SxqehnyMI5vs9HaW7Q with a positive rating of 4.0.\n",
      "User 01Ufq7I1hpRE1-83rFZT9A was recommended business 7U7RauxQC439NNwLHodZ6A with a positive rating of 4.0.\n",
      "User 01XkH1nZF7DtauNLdhFA3g was recommended business VfP5MOdxzH7st5NQwrfd_Q with a positive rating of 5.0.\n",
      "User 02mHtKBZREjJrNXIi3spDg was recommended business 4dhnFjb6dnI8cWbf-Kc6VQ with a positive rating of 5.0.\n",
      "User 030xaqW2akhXYFdmOTmEng was recommended business M1q0l_VuI6MqRYLWGVhCCw with a positive rating of 4.0.\n",
      "User 03RJcIDcNwH4WQmqjIvwIw was recommended business Rl42JbSMsmNW3LRjsTMYAg with a positive rating of 5.0.\n",
      "User 03_BDF-7hbbiy9qId7nccA was recommended business rz1CJQrnI3q4-GyAf6mFoQ with a positive rating of 5.0.\n",
      "User 03dqfDM8wWCp_PSK0AxXAg was recommended business y9S7znlFxXzN0aUqvPJESA with a positive rating of 4.0.\n",
      "User 03ywGcD8aQraY8zInfqknQ was recommended business A5b9nVDi1DPVvPOD24-p6w with a positive rating of 4.0.\n",
      "User 03ywGcD8aQraY8zInfqknQ was recommended business 4nDVM0XqWrcKQbMYlXDWCg with a positive rating of 4.0.\n",
      "User 040s1t6Bfq_aB6a4AEdKQA was recommended business 140trrDRmr0oKHY_AmVmyA with a positive rating of 4.0.\n",
      "User 04hS_dGfUZd_5iJYRdPHLw was recommended business _V6hl1oGkTV2KbGeax_HPA with a positive rating of 4.0.\n",
      "User 04hS_dGfUZd_5iJYRdPHLw was recommended business tMtI6ECD6hwM-nFp2kXLKQ with a positive rating of 4.0.\n",
      "User 05796MJj-TwACdzscsqpKg was recommended business muxda1cSVtplETqTfYVgZA with a positive rating of 5.0.\n",
      "User 06LdtHvxpe_u-JlR_uAP8A was recommended business 9ggTidLF9LPNdyWdCGtrYg with a positive rating of 4.0.\n",
      "User 06_WbMlPsXIyz1OFDv8iIg was recommended business _0QZGrg91aaiMhh7tQyYYg with a positive rating of 5.0.\n",
      "User 06_WbMlPsXIyz1OFDv8iIg was recommended business GjQPosKRsjgy6YOClQOUlA with a positive rating of 5.0.\n",
      "User 06p6I8USw7-MOawGnpk09Q was recommended business vPSRs9RRGbv4Y4nNWyw5Vw with a positive rating of 4.0.\n",
      "User 07aVWNhBhpwqW3MdqoKDKQ was recommended business 75FY8ZQx5nOWP0VFmNvWfw with a positive rating of 4.0.\n",
      "User 07gdGKMkho4maba0lQyoQQ was recommended business BTblqXsOHMXjcgcYkdzuqg with a positive rating of 4.0.\n",
      "User 08LioS7B84KsW5DmVOG_EQ was recommended business aqyDUSUJUg0gKf-R1aGzLw with a positive rating of 4.0.\n",
      "User 08frwTJwLdJPM0gWDlRLdg was recommended business NFzfuIFghE-HnrodHpaT6A with a positive rating of 4.0.\n",
      "User 08frwTJwLdJPM0gWDlRLdg was recommended business GoYSJ-YY-YwbxdgasHuq-Q with a positive rating of 4.0.\n",
      "User 08m1pM5keN0lx84c5Jyquw was recommended business gqCHiQ0OiDkARDQzlEFUiA with a positive rating of 4.0.\n"
     ]
    }
   ],
   "source": [
    "db_path = '../Result_Evaluation/Retrieval.db'\n",
    "conn = sqlite3.connect(db_path)\n",
    "cursor = conn.cursor()\n",
    "\n",
    "# Create a lookup for fast access to star ratings from the test data:\n",
    "# This dictionary maps (user_id, business_id) to the star rating.\n",
    "test_data_lookup = {\n",
    "    (row['user_id'], row['business_id']): row['stars_review']\n",
    "    for _, row in test_data.iterrows()\n",
    "}\n",
    "\n",
    "# Prepare bulk records for insertion into SQLite.\n",
    "# Format: (model, user_id, business_id, real_label)\n",
    "# Here we assume a positive review (real_label = 1) if stars >= 4, else negative (real_label = 0).\n",
    "bulk_records = []\n",
    "model_name = \"ItemCF\"  # You can change this if needed\n",
    "\n",
    "for user_id, recommended_businesses in retrieval_recommendations.items():\n",
    "    for business_id in recommended_businesses[0]:\n",
    "        # Check the star rating from the test data lookup\n",
    "        star_rating = test_data_lookup.get((user_id, business_id))\n",
    "        # Define the real label: 1 if rating is available and >= 4, otherwise 0.\n",
    "        real_label = 1 if star_rating is not None and star_rating >= 4 else 0\n",
    "        if real_label == 1:\n",
    "            print(f\"User {user_id} was recommended business {business_id} with a positive rating of {star_rating}.\")\n",
    "        bulk_records.append((model_name, user_id, business_id, real_label))\n",
    "\n",
    "# Example: Now perform a bulk insert using SQLite's executemany.\n",
    "# Make sure your 'recommendations' table has a UNIQUE constraint on (model, user_id, business_id) if needed.\n",
    "cursor.executemany(\"\"\"\n",
    "    INSERT OR IGNORE INTO recommendations (model, user_id, business_id, real_label)\n",
    "    VALUES (?, ?, ?, ?)\n",
    "\"\"\", bulk_records)\n",
    "conn.commit()\n",
    "\n",
    "# Close the connection\n",
    "conn.close()"
   ]
  },
  {
   "cell_type": "code",
   "execution_count": null,
   "metadata": {},
   "outputs": [],
   "source": []
  }
 ],
 "metadata": {
  "kernelspec": {
   "display_name": "content-recommendation-mCG3KVaj",
   "language": "python",
   "name": "python3"
  },
  "language_info": {
   "codemirror_mode": {
    "name": "ipython",
    "version": 3
   },
   "file_extension": ".py",
   "mimetype": "text/x-python",
   "name": "python",
   "nbconvert_exporter": "python",
   "pygments_lexer": "ipython3",
   "version": "3.11.4"
  }
 },
 "nbformat": 4,
 "nbformat_minor": 2
}
