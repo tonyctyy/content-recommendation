{
 "cells": [
  {
   "cell_type": "code",
   "execution_count": 3,
   "id": "ca929cf8",
   "metadata": {},
   "outputs": [],
   "source": [
    "# read the \"overall_category_freq.csv\" with two columns and covert it into json\n",
    "\n",
    "import pandas as pd\n",
    "import json\n",
    "\n",
    "# main program\n",
    "def main():\n",
    "    # read the csv file\n",
    "    df = pd.read_csv('overall_category_freq.csv', header=None, names=['category', 'frequency'])\n",
    "\n",
    "    # convert the dataframe to a list of dictionaries\n",
    "    data = df.to_dict(orient='records')\n",
    "\n",
    "    # write the list of dictionaries to a json file\n",
    "    with open('categories.json', 'w') as json_file:\n",
    "        json.dump(data, json_file, indent=4)\n",
    "\n",
    "main()"
   ]
  },
  {
   "cell_type": "code",
   "execution_count": null,
   "id": "e7b008c6",
   "metadata": {},
   "outputs": [],
   "source": [
    "    "
   ]
  }
 ],
 "metadata": {
  "kernelspec": {
   "display_name": "content-recommendation-0SgTkEMC",
   "language": "python",
   "name": "python3"
  },
  "language_info": {
   "codemirror_mode": {
    "name": "ipython",
    "version": 3
   },
   "file_extension": ".py",
   "mimetype": "text/x-python",
   "name": "python",
   "nbconvert_exporter": "python",
   "pygments_lexer": "ipython3",
   "version": "3.11.4"
  }
 },
 "nbformat": 4,
 "nbformat_minor": 5
}
