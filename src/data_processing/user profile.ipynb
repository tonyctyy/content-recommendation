{
 "cells": [
  {
   "cell_type": "code",
   "execution_count": 1,
   "metadata": {},
   "outputs": [],
   "source": [
    "import sqlite3\n",
    "import pickle\n",
    "import pandas as pd\n",
    "import numpy as np\n",
    "from sklearn.decomposition import PCA\n",
    "from sklearn.preprocessing import StandardScaler\n",
    "from sklearn.preprocessing import MultiLabelBinarizer\n",
    "import hdbscan\n",
    "from sklearn.neighbors import NearestNeighbors\n",
    "from sklearn.metrics import silhouette_score\n",
    "from sklearn.metrics import davies_bouldin_score\n"
   ]
  },
  {
   "cell_type": "markdown",
   "metadata": {},
   "source": [
    "### User top 5 category"
   ]
  },
  {
   "cell_type": "code",
   "execution_count": 2,
   "metadata": {},
   "outputs": [],
   "source": [
    "# Define the database folder path and file names\n",
    "db_folder = '../../data/processed_data/yelp_data/'\n",
    "db_files = ['yelp_business_data.db', 'yelp_review_data.db']\n",
    "db_paths = [db_folder + db_file for db_file in db_files]"
   ]
  },
  {
   "cell_type": "code",
   "execution_count": 3,
   "metadata": {},
   "outputs": [],
   "source": [
    "# Connect to the databases and load data\n",
    "def load_data_from_db():\n",
    "    data = {}\n",
    "    \n",
    "    # Open connections and read tables\n",
    "    conns = [sqlite3.connect(db_path) for db_path in db_paths]\n",
    "    try:\n",
    "        # Load tables from the databases\n",
    "        data['business'] = pd.read_sql_query(\"SELECT * FROM business_details\", conns[0])\n",
    "        data['categories'] = pd.read_sql_query(\"SELECT * FROM business_categories\", conns[0])\n",
    "        data['review'] = pd.read_sql_query(\"SELECT * FROM review_data\", conns[1])\n",
    "    finally:\n",
    "        # Close all database connections\n",
    "        for conn in conns:\n",
    "            conn.close()\n",
    "    return data"
   ]
  },
  {
   "cell_type": "code",
   "execution_count": 4,
   "metadata": {},
   "outputs": [
    {
     "name": "stdout",
     "output_type": "stream",
     "text": [
      "Loaded 78059 rows from business table.\n",
      "Loaded 360656 rows from categories table.\n",
      "Loaded 980418 rows from review table.\n"
     ]
    }
   ],
   "source": [
    "# Load data into a dictionary\n",
    "yelp_data = load_data_from_db()\n",
    "\n",
    "# Check loaded data\n",
    "for table, df in yelp_data.items():\n",
    "    print(f\"Loaded {len(df)} rows from {table} table.\")"
   ]
  },
  {
   "cell_type": "code",
   "execution_count": 5,
   "metadata": {},
   "outputs": [],
   "source": [
    "df_business = yelp_data['business'] # Business details\n",
    "df_categories = yelp_data['categories'] # Business categories\n",
    "df_review = yelp_data['review'] # Review data\n"
   ]
  },
  {
   "cell_type": "code",
   "execution_count": 6,
   "metadata": {},
   "outputs": [],
   "source": [
    "all_merged_df = pd.merge(df_review, df_categories, on='business_id', how='left')"
   ]
  },
  {
   "cell_type": "code",
   "execution_count": 7,
   "metadata": {},
   "outputs": [
    {
     "data": {
      "text/html": [
       "<div>\n",
       "<style scoped>\n",
       "    .dataframe tbody tr th:only-of-type {\n",
       "        vertical-align: middle;\n",
       "    }\n",
       "\n",
       "    .dataframe tbody tr th {\n",
       "        vertical-align: top;\n",
       "    }\n",
       "\n",
       "    .dataframe thead th {\n",
       "        text-align: right;\n",
       "    }\n",
       "</style>\n",
       "<table border=\"1\" class=\"dataframe\">\n",
       "  <thead>\n",
       "    <tr style=\"text-align: right;\">\n",
       "      <th></th>\n",
       "      <th>review_id</th>\n",
       "      <th>business_id</th>\n",
       "      <th>user_id</th>\n",
       "      <th>stars</th>\n",
       "      <th>category</th>\n",
       "    </tr>\n",
       "  </thead>\n",
       "  <tbody>\n",
       "    <tr>\n",
       "      <th>0</th>\n",
       "      <td>f1MJKwk8Nk2MNxns6-tvfg</td>\n",
       "      <td>8yR12PNSMo6FBYx1u5KPlw</td>\n",
       "      <td>BDwy_2vFLT2urUhvNrKDLQ</td>\n",
       "      <td>4.0</td>\n",
       "      <td>Restaurants</td>\n",
       "    </tr>\n",
       "    <tr>\n",
       "      <th>1</th>\n",
       "      <td>f1MJKwk8Nk2MNxns6-tvfg</td>\n",
       "      <td>8yR12PNSMo6FBYx1u5KPlw</td>\n",
       "      <td>BDwy_2vFLT2urUhvNrKDLQ</td>\n",
       "      <td>4.0</td>\n",
       "      <td>Gluten-Free</td>\n",
       "    </tr>\n",
       "    <tr>\n",
       "      <th>2</th>\n",
       "      <td>f1MJKwk8Nk2MNxns6-tvfg</td>\n",
       "      <td>8yR12PNSMo6FBYx1u5KPlw</td>\n",
       "      <td>BDwy_2vFLT2urUhvNrKDLQ</td>\n",
       "      <td>4.0</td>\n",
       "      <td>Bars</td>\n",
       "    </tr>\n",
       "    <tr>\n",
       "      <th>3</th>\n",
       "      <td>f1MJKwk8Nk2MNxns6-tvfg</td>\n",
       "      <td>8yR12PNSMo6FBYx1u5KPlw</td>\n",
       "      <td>BDwy_2vFLT2urUhvNrKDLQ</td>\n",
       "      <td>4.0</td>\n",
       "      <td>Food</td>\n",
       "    </tr>\n",
       "    <tr>\n",
       "      <th>4</th>\n",
       "      <td>f1MJKwk8Nk2MNxns6-tvfg</td>\n",
       "      <td>8yR12PNSMo6FBYx1u5KPlw</td>\n",
       "      <td>BDwy_2vFLT2urUhvNrKDLQ</td>\n",
       "      <td>4.0</td>\n",
       "      <td>Nightlife</td>\n",
       "    </tr>\n",
       "    <tr>\n",
       "      <th>...</th>\n",
       "      <td>...</td>\n",
       "      <td>...</td>\n",
       "      <td>...</td>\n",
       "      <td>...</td>\n",
       "      <td>...</td>\n",
       "    </tr>\n",
       "    <tr>\n",
       "      <th>5225694</th>\n",
       "      <td>5RSkQpctcinv77VKyXgh2Q</td>\n",
       "      <td>g7-sn0P60uwbOJejnoRIQA</td>\n",
       "      <td>lHqA_D7nAK9xw_Xg08dM_w</td>\n",
       "      <td>4.0</td>\n",
       "      <td>Beer Bar</td>\n",
       "    </tr>\n",
       "    <tr>\n",
       "      <th>5225695</th>\n",
       "      <td>5RSkQpctcinv77VKyXgh2Q</td>\n",
       "      <td>g7-sn0P60uwbOJejnoRIQA</td>\n",
       "      <td>lHqA_D7nAK9xw_Xg08dM_w</td>\n",
       "      <td>4.0</td>\n",
       "      <td>Wine Bars</td>\n",
       "    </tr>\n",
       "    <tr>\n",
       "      <th>5225696</th>\n",
       "      <td>5RSkQpctcinv77VKyXgh2Q</td>\n",
       "      <td>g7-sn0P60uwbOJejnoRIQA</td>\n",
       "      <td>lHqA_D7nAK9xw_Xg08dM_w</td>\n",
       "      <td>4.0</td>\n",
       "      <td>Bars</td>\n",
       "    </tr>\n",
       "    <tr>\n",
       "      <th>5225697</th>\n",
       "      <td>5RSkQpctcinv77VKyXgh2Q</td>\n",
       "      <td>g7-sn0P60uwbOJejnoRIQA</td>\n",
       "      <td>lHqA_D7nAK9xw_Xg08dM_w</td>\n",
       "      <td>4.0</td>\n",
       "      <td>Cideries</td>\n",
       "    </tr>\n",
       "    <tr>\n",
       "      <th>5225698</th>\n",
       "      <td>5RSkQpctcinv77VKyXgh2Q</td>\n",
       "      <td>g7-sn0P60uwbOJejnoRIQA</td>\n",
       "      <td>lHqA_D7nAK9xw_Xg08dM_w</td>\n",
       "      <td>4.0</td>\n",
       "      <td>Food</td>\n",
       "    </tr>\n",
       "  </tbody>\n",
       "</table>\n",
       "<p>5225699 rows × 5 columns</p>\n",
       "</div>"
      ],
      "text/plain": [
       "                      review_id             business_id  \\\n",
       "0        f1MJKwk8Nk2MNxns6-tvfg  8yR12PNSMo6FBYx1u5KPlw   \n",
       "1        f1MJKwk8Nk2MNxns6-tvfg  8yR12PNSMo6FBYx1u5KPlw   \n",
       "2        f1MJKwk8Nk2MNxns6-tvfg  8yR12PNSMo6FBYx1u5KPlw   \n",
       "3        f1MJKwk8Nk2MNxns6-tvfg  8yR12PNSMo6FBYx1u5KPlw   \n",
       "4        f1MJKwk8Nk2MNxns6-tvfg  8yR12PNSMo6FBYx1u5KPlw   \n",
       "...                         ...                     ...   \n",
       "5225694  5RSkQpctcinv77VKyXgh2Q  g7-sn0P60uwbOJejnoRIQA   \n",
       "5225695  5RSkQpctcinv77VKyXgh2Q  g7-sn0P60uwbOJejnoRIQA   \n",
       "5225696  5RSkQpctcinv77VKyXgh2Q  g7-sn0P60uwbOJejnoRIQA   \n",
       "5225697  5RSkQpctcinv77VKyXgh2Q  g7-sn0P60uwbOJejnoRIQA   \n",
       "5225698  5RSkQpctcinv77VKyXgh2Q  g7-sn0P60uwbOJejnoRIQA   \n",
       "\n",
       "                        user_id  stars     category  \n",
       "0        BDwy_2vFLT2urUhvNrKDLQ    4.0  Restaurants  \n",
       "1        BDwy_2vFLT2urUhvNrKDLQ    4.0  Gluten-Free  \n",
       "2        BDwy_2vFLT2urUhvNrKDLQ    4.0         Bars  \n",
       "3        BDwy_2vFLT2urUhvNrKDLQ    4.0         Food  \n",
       "4        BDwy_2vFLT2urUhvNrKDLQ    4.0    Nightlife  \n",
       "...                         ...    ...          ...  \n",
       "5225694  lHqA_D7nAK9xw_Xg08dM_w    4.0     Beer Bar  \n",
       "5225695  lHqA_D7nAK9xw_Xg08dM_w    4.0    Wine Bars  \n",
       "5225696  lHqA_D7nAK9xw_Xg08dM_w    4.0         Bars  \n",
       "5225697  lHqA_D7nAK9xw_Xg08dM_w    4.0     Cideries  \n",
       "5225698  lHqA_D7nAK9xw_Xg08dM_w    4.0         Food  \n",
       "\n",
       "[5225699 rows x 5 columns]"
      ]
     },
     "execution_count": 7,
     "metadata": {},
     "output_type": "execute_result"
    }
   ],
   "source": [
    "all_merged_df = all_merged_df[['review_id', 'business_id', 'user_id', 'stars', 'category']]\n",
    "all_merged_df"
   ]
  },
  {
   "cell_type": "code",
   "execution_count": 8,
   "metadata": {},
   "outputs": [
    {
     "data": {
      "text/plain": [
       "category\n",
       "Nightlife                 247762\n",
       "Bars                      234812\n",
       "American (Traditional)    157952\n",
       "American (New)            156821\n",
       "Breakfast & Brunch        130938\n",
       "                           ...  \n",
       "Cheerleading                   1\n",
       "Trade Fairs                    1\n",
       "Duplication Services           1\n",
       "Apartment Agents               1\n",
       "Ranches                        1\n",
       "Name: count, Length: 1237, dtype: int64"
      ]
     },
     "execution_count": 8,
     "metadata": {},
     "output_type": "execute_result"
    }
   ],
   "source": [
    "overall_category_freq = all_merged_df['category'].value_counts()\n",
    "# remove two most popular categories\n",
    "overall_category_freq = overall_category_freq[2:]\n",
    "overall_category_freq"
   ]
  },
  {
   "cell_type": "code",
   "execution_count": 9,
   "metadata": {},
   "outputs": [],
   "source": [
    "# output the overall category frequency to excel file\n",
    "overall_category_freq.to_excel('../../src/data_processing/overall_category_freq.xlsx')"
   ]
  },
  {
   "cell_type": "code",
   "execution_count": 10,
   "metadata": {},
   "outputs": [],
   "source": [
    "top_100_categories = overall_category_freq.nlargest(100).index.tolist()\n",
    "overall_category_prop = overall_category_freq / overall_category_freq.sum()"
   ]
  },
  {
   "cell_type": "code",
   "execution_count": 11,
   "metadata": {},
   "outputs": [],
   "source": [
    "user_review_counts = df_review['user_id'].value_counts()\n",
    "# ignore users with less than 5 reviews\n",
    "filtered_users = user_review_counts[user_review_counts >= 2].index"
   ]
  },
  {
   "cell_type": "code",
   "execution_count": 12,
   "metadata": {},
   "outputs": [
    {
     "data": {
      "text/plain": [
       "user_id\n",
       "_BcWyKQL16ndpBdggh2kNA    953\n",
       "ET8n-r7glWYqZhuR6GcdNw    576\n",
       "Xw7ZjaGfr0WNVt6s_5KZfA    550\n",
       "0Igx-a1wAstiBDerGxXk2A    541\n",
       "1HM81n6n4iPIFU5d2Lokhw    535\n",
       "                         ... \n",
       "BewDV2ISn0uAMLcsyrhiZg     77\n",
       "O_-EMEYwYSq-_v_7NlS5iA     77\n",
       "PAc93PtEbYDtytBQ9Dyjug     77\n",
       "Mbw8FWl4dok7ezTRdC8HOw     77\n",
       "iHB75LCfFkIC1Oj86CqT1A     77\n",
       "Name: count, Length: 1000, dtype: int64"
      ]
     },
     "execution_count": 12,
     "metadata": {},
     "output_type": "execute_result"
    }
   ],
   "source": [
    "user_review_counts.head(1000)"
   ]
  },
  {
   "cell_type": "code",
   "execution_count": 13,
   "metadata": {},
   "outputs": [],
   "source": [
    "filtered_df_review = df_review[df_review['user_id'].isin(filtered_users)]\n",
    "merged_df = pd.merge(filtered_df_review, df_categories, on='business_id', how='left')\n",
    "user_category_matrix = merged_df.groupby(['user_id', 'category']).size().unstack(fill_value=0)"
   ]
  },
  {
   "cell_type": "code",
   "execution_count": 14,
   "metadata": {},
   "outputs": [],
   "source": [
    "alpha = 3.0\n",
    "smoothed_matrix = user_category_matrix + alpha * overall_category_prop"
   ]
  },
  {
   "cell_type": "code",
   "execution_count": 15,
   "metadata": {},
   "outputs": [],
   "source": [
    "user_top_categories = smoothed_matrix.apply(lambda x: x.nlargest(5).index.tolist(), axis=1)"
   ]
  },
  {
   "cell_type": "code",
   "execution_count": 16,
   "metadata": {},
   "outputs": [],
   "source": [
    "user_top_categories.to_excel('../../src/data_processing/user_top_categories.xlsx')"
   ]
  },
  {
   "cell_type": "markdown",
   "metadata": {},
   "source": [
    "### Clustering"
   ]
  },
  {
   "cell_type": "code",
   "execution_count": 17,
   "metadata": {},
   "outputs": [],
   "source": [
    "mlb = MultiLabelBinarizer()\n",
    "encoded_data = mlb.fit_transform(user_top_categories.values)"
   ]
  },
  {
   "cell_type": "code",
   "execution_count": 28,
   "metadata": {},
   "outputs": [
    {
     "data": {
      "text/plain": [
       "(99812, 698)"
      ]
     },
     "execution_count": 28,
     "metadata": {},
     "output_type": "execute_result"
    }
   ],
   "source": [
    "encoded_data.shape"
   ]
  },
  {
   "cell_type": "code",
   "execution_count": 18,
   "metadata": {},
   "outputs": [],
   "source": [
    "# 1 clusterer = hdbscan.HDBSCAN(metric='jaccard', min_samples=1, min_cluster_size=5)\n",
    "# 2 clusterer = hdbscan.HDBSCAN(metric='jaccard', min_samples=1, min_cluster_size=10)\n",
    "clusterer = hdbscan.HDBSCAN(metric='jaccard', min_samples=3, min_cluster_size=5, cluster_selection_epsilon=0.3)\n",
    "labels = clusterer.fit_predict(encoded_data)\n",
    "\n",
    "# run time (36, 30, 50 minutes)"
   ]
  },
  {
   "cell_type": "code",
   "execution_count": 19,
   "metadata": {},
   "outputs": [],
   "source": [
    "label_df = pd.DataFrame({'user_id': user_top_categories.index, 'label': labels})\n",
    "label_df.to_excel('../../src/data_processing/user_labels.xlsx')"
   ]
  },
  {
   "cell_type": "code",
   "execution_count": 20,
   "metadata": {},
   "outputs": [
    {
     "name": "stderr",
     "output_type": "stream",
     "text": [
      "c:\\Users\\cathy\\.virtualenvs\\content-recommendation-mCG3KVaj\\Lib\\site-packages\\sklearn\\metrics\\pairwise.py:2361: DataConversionWarning: Data was converted to boolean for metric jaccard\n",
      "  warnings.warn(msg, DataConversionWarning)\n",
      "c:\\Users\\cathy\\.virtualenvs\\content-recommendation-mCG3KVaj\\Lib\\site-packages\\sklearn\\metrics\\pairwise.py:2361: DataConversionWarning: Data was converted to boolean for metric jaccard\n",
      "  warnings.warn(msg, DataConversionWarning)\n",
      "c:\\Users\\cathy\\.virtualenvs\\content-recommendation-mCG3KVaj\\Lib\\site-packages\\sklearn\\metrics\\pairwise.py:2361: DataConversionWarning: Data was converted to boolean for metric jaccard\n",
      "  warnings.warn(msg, DataConversionWarning)\n",
      "c:\\Users\\cathy\\.virtualenvs\\content-recommendation-mCG3KVaj\\Lib\\site-packages\\sklearn\\metrics\\pairwise.py:2361: DataConversionWarning: Data was converted to boolean for metric jaccard\n",
      "  warnings.warn(msg, DataConversionWarning)\n",
      "c:\\Users\\cathy\\.virtualenvs\\content-recommendation-mCG3KVaj\\Lib\\site-packages\\sklearn\\metrics\\pairwise.py:2361: DataConversionWarning: Data was converted to boolean for metric jaccard\n",
      "  warnings.warn(msg, DataConversionWarning)\n",
      "c:\\Users\\cathy\\.virtualenvs\\content-recommendation-mCG3KVaj\\Lib\\site-packages\\sklearn\\metrics\\pairwise.py:2361: DataConversionWarning: Data was converted to boolean for metric jaccard\n",
      "  warnings.warn(msg, DataConversionWarning)\n",
      "c:\\Users\\cathy\\.virtualenvs\\content-recommendation-mCG3KVaj\\Lib\\site-packages\\sklearn\\metrics\\pairwise.py:2361: DataConversionWarning: Data was converted to boolean for metric jaccard\n",
      "  warnings.warn(msg, DataConversionWarning)\n",
      "c:\\Users\\cathy\\.virtualenvs\\content-recommendation-mCG3KVaj\\Lib\\site-packages\\sklearn\\metrics\\pairwise.py:2361: DataConversionWarning: Data was converted to boolean for metric jaccard\n",
      "  warnings.warn(msg, DataConversionWarning)\n",
      "c:\\Users\\cathy\\.virtualenvs\\content-recommendation-mCG3KVaj\\Lib\\site-packages\\sklearn\\metrics\\pairwise.py:2361: DataConversionWarning: Data was converted to boolean for metric jaccard\n",
      "  warnings.warn(msg, DataConversionWarning)\n",
      "c:\\Users\\cathy\\.virtualenvs\\content-recommendation-mCG3KVaj\\Lib\\site-packages\\sklearn\\metrics\\pairwise.py:2361: DataConversionWarning: Data was converted to boolean for metric jaccard\n",
      "  warnings.warn(msg, DataConversionWarning)\n",
      "c:\\Users\\cathy\\.virtualenvs\\content-recommendation-mCG3KVaj\\Lib\\site-packages\\sklearn\\metrics\\pairwise.py:2361: DataConversionWarning: Data was converted to boolean for metric jaccard\n",
      "  warnings.warn(msg, DataConversionWarning)\n",
      "c:\\Users\\cathy\\.virtualenvs\\content-recommendation-mCG3KVaj\\Lib\\site-packages\\sklearn\\metrics\\pairwise.py:2361: DataConversionWarning: Data was converted to boolean for metric jaccard\n",
      "  warnings.warn(msg, DataConversionWarning)\n",
      "c:\\Users\\cathy\\.virtualenvs\\content-recommendation-mCG3KVaj\\Lib\\site-packages\\sklearn\\metrics\\pairwise.py:2361: DataConversionWarning: Data was converted to boolean for metric jaccard\n",
      "  warnings.warn(msg, DataConversionWarning)\n",
      "c:\\Users\\cathy\\.virtualenvs\\content-recommendation-mCG3KVaj\\Lib\\site-packages\\sklearn\\metrics\\pairwise.py:2361: DataConversionWarning: Data was converted to boolean for metric jaccard\n",
      "  warnings.warn(msg, DataConversionWarning)\n",
      "c:\\Users\\cathy\\.virtualenvs\\content-recommendation-mCG3KVaj\\Lib\\site-packages\\sklearn\\metrics\\pairwise.py:2361: DataConversionWarning: Data was converted to boolean for metric jaccard\n",
      "  warnings.warn(msg, DataConversionWarning)\n",
      "c:\\Users\\cathy\\.virtualenvs\\content-recommendation-mCG3KVaj\\Lib\\site-packages\\sklearn\\metrics\\pairwise.py:2361: DataConversionWarning: Data was converted to boolean for metric jaccard\n",
      "  warnings.warn(msg, DataConversionWarning)\n",
      "c:\\Users\\cathy\\.virtualenvs\\content-recommendation-mCG3KVaj\\Lib\\site-packages\\sklearn\\metrics\\pairwise.py:2361: DataConversionWarning: Data was converted to boolean for metric jaccard\n",
      "  warnings.warn(msg, DataConversionWarning)\n"
     ]
    }
   ],
   "source": [
    "# Step 3: Assign any noise points to the nearest cluster\n",
    "noise_indices = np.where(labels == -1)[0]  # Indices of users labeled as noise\n",
    "if len(noise_indices) > 0:\n",
    "    cluster_indices = np.where(labels != -1)[0]  # Indices of users in clusters\n",
    "    if len(cluster_indices) > 0:\n",
    "        # Fit NearestNeighbors on clustered points using Jaccard distance\n",
    "        nn = NearestNeighbors(n_neighbors=1, metric='jaccard')\n",
    "        nn.fit(encoded_data[cluster_indices])\n",
    "        # Find nearest clustered neighbor for each noise point\n",
    "        distances, indices = nn.kneighbors(encoded_data[noise_indices])\n",
    "        # Assign noise points to the cluster of their nearest neighbor\n",
    "        nearest_labels = labels[cluster_indices[indices.flatten()]]\n",
    "        labels[noise_indices] = nearest_labels\n",
    "    else:\n",
    "        # Rare edge case: all points are noise; assign all to cluster 0\n",
    "        labels[noise_indices] = 0"
   ]
  },
  {
   "cell_type": "code",
   "execution_count": 21,
   "metadata": {},
   "outputs": [],
   "source": [
    "# Step 4: Create a DataFrame with user IDs and cluster labels\n",
    "clustered_users = pd.DataFrame({'cluster': labels}, index=user_top_categories.index)\n",
    "\n",
    "# Output the result\n",
    "# print(clustered_users)"
   ]
  },
  {
   "cell_type": "code",
   "execution_count": 22,
   "metadata": {},
   "outputs": [],
   "source": [
    "clustered_users.to_excel('../../src/data_processing/clustered_users.xlsx')"
   ]
  },
  {
   "cell_type": "markdown",
   "metadata": {},
   "source": [
    "### Evaluate the cluster"
   ]
  },
  {
   "cell_type": "code",
   "execution_count": 23,
   "metadata": {},
   "outputs": [
    {
     "name": "stderr",
     "output_type": "stream",
     "text": [
      "c:\\Users\\cathy\\.virtualenvs\\content-recommendation-mCG3KVaj\\Lib\\site-packages\\sklearn\\metrics\\pairwise.py:2361: DataConversionWarning: Data was converted to boolean for metric jaccard\n",
      "  warnings.warn(msg, DataConversionWarning)\n"
     ]
    },
    {
     "name": "stdout",
     "output_type": "stream",
     "text": [
      "Sampled Silhouette Score: 0.359193194525424\n"
     ]
    }
   ],
   "source": [
    "\n",
    "# Assume 'encoded_data' is your multi-hot encoded data (47,000 x num_categories)\n",
    "# Assume 'labels' are the cluster labels for all 47,000 users\n",
    "\n",
    "# Sample 10% of the data\n",
    "sample_size = int(0.1 * encoded_data.shape[0])  # ~4,700 users\n",
    "sample_indices = np.random.choice(encoded_data.shape[0], sample_size, replace=False)\n",
    "sample_data = encoded_data[sample_indices]\n",
    "sample_labels = labels[sample_indices]\n",
    "\n",
    "# Compute Sampled Silhouette Score with Jaccard distance\n",
    "sil_score = silhouette_score(sample_data, sample_labels, metric='jaccard')\n",
    "\n",
    "print(\"Sampled Silhouette Score:\", sil_score)"
   ]
  },
  {
   "cell_type": "code",
   "execution_count": 24,
   "metadata": {},
   "outputs": [
    {
     "name": "stdout",
     "output_type": "stream",
     "text": [
      "Davies-Bouldin Index: 1.7984987603812381\n"
     ]
    }
   ],
   "source": [
    "# Compute Davies-Bouldin Index on the entire dataset\n",
    "db_score = davies_bouldin_score(encoded_data, labels)\n",
    "\n",
    "print(\"Davies-Bouldin Index:\", db_score)"
   ]
  },
  {
   "cell_type": "markdown",
   "metadata": {},
   "source": [
    "### log"
   ]
  },
  {
   "cell_type": "markdown",
   "metadata": {},
   "source": [
    "Silhouette near 1 better; Davies-Bouldin smaller better\n",
    "\n",
    "1. Silhouette: 0.3737, Davies-Bouldin: 1.6766\n",
    "2. Silhouette: 0.2876259446432755, Davies-Bouldin: 1.8501757095975369\n",
    "3. Silhouette: 0.3951916642699614, Davies-Bouldin: 1.7216348683124556"
   ]
  }
 ],
 "metadata": {
  "kernelspec": {
   "display_name": "content-recommendation-mCG3KVaj",
   "language": "python",
   "name": "python3"
  },
  "language_info": {
   "codemirror_mode": {
    "name": "ipython",
    "version": 3
   },
   "file_extension": ".py",
   "mimetype": "text/x-python",
   "name": "python",
   "nbconvert_exporter": "python",
   "pygments_lexer": "ipython3",
   "version": "3.11.4"
  }
 },
 "nbformat": 4,
 "nbformat_minor": 2
}
