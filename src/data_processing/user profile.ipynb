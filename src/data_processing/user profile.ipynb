{
 "cells": [
  {
   "cell_type": "code",
   "execution_count": 1,
   "metadata": {},
   "outputs": [],
   "source": [
    "import sqlite3\n",
    "import pickle\n",
    "import pandas as pd\n",
    "import numpy as np\n",
    "from sklearn.decomposition import PCA\n",
    "from sklearn.preprocessing import StandardScaler\n",
    "from sklearn.preprocessing import MultiLabelBinarizer\n",
    "import hdbscan\n",
    "from sklearn.neighbors import NearestNeighbors\n",
    "from sklearn.metrics import silhouette_score\n",
    "from sklearn.metrics import davies_bouldin_score\n"
   ]
  },
  {
   "cell_type": "markdown",
   "metadata": {},
   "source": [
    "### User top 5 category"
   ]
  },
  {
   "cell_type": "code",
   "execution_count": 2,
   "metadata": {},
   "outputs": [],
   "source": [
    "# Define the database folder path and file names\n",
    "db_folder = '../../data/processed_data/yelp_data/'\n",
    "db_files = ['yelp_business_data.db', 'yelp_review_data.db']\n",
    "db_paths = [db_folder + db_file for db_file in db_files]"
   ]
  },
  {
   "cell_type": "code",
   "execution_count": 3,
   "metadata": {},
   "outputs": [],
   "source": [
    "# Connect to the databases and load data\n",
    "def load_data_from_db():\n",
    "    data = {}\n",
    "    \n",
    "    # Open connections and read tables\n",
    "    conns = [sqlite3.connect(db_path) for db_path in db_paths]\n",
    "    try:\n",
    "        # Load tables from the databases\n",
    "        data['business'] = pd.read_sql_query(\"SELECT * FROM business_details\", conns[0])\n",
    "        data['categories'] = pd.read_sql_query(\"SELECT * FROM business_categories\", conns[0])\n",
    "        data['review'] = pd.read_sql_query(\"SELECT * FROM review_data\", conns[1])\n",
    "    finally:\n",
    "        # Close all database connections\n",
    "        for conn in conns:\n",
    "            conn.close()\n",
    "    return data"
   ]
  },
  {
   "cell_type": "code",
   "execution_count": 4,
   "metadata": {},
   "outputs": [
    {
     "name": "stdout",
     "output_type": "stream",
     "text": [
      "Loaded 78059 rows from business table.\n",
      "Loaded 360656 rows from categories table.\n",
      "Loaded 980418 rows from review table.\n"
     ]
    }
   ],
   "source": [
    "# Load data into a dictionary\n",
    "yelp_data = load_data_from_db()\n",
    "\n",
    "# Check loaded data\n",
    "for table, df in yelp_data.items():\n",
    "    print(f\"Loaded {len(df)} rows from {table} table.\")"
   ]
  },
  {
   "cell_type": "code",
   "execution_count": 5,
   "metadata": {},
   "outputs": [],
   "source": [
    "df_business = yelp_data['business'] # Business details\n",
    "df_categories = yelp_data['categories'] # Business categories\n",
    "df_review = yelp_data['review'] # Review data\n"
   ]
  },
  {
   "cell_type": "code",
   "execution_count": 6,
   "metadata": {},
   "outputs": [],
   "source": [
    "all_merged_df = pd.merge(df_review, df_categories, on='business_id', how='left')"
   ]
  },
  {
   "cell_type": "code",
   "execution_count": 7,
   "metadata": {},
   "outputs": [
    {
     "data": {
      "text/html": [
       "<div>\n",
       "<style scoped>\n",
       "    .dataframe tbody tr th:only-of-type {\n",
       "        vertical-align: middle;\n",
       "    }\n",
       "\n",
       "    .dataframe tbody tr th {\n",
       "        vertical-align: top;\n",
       "    }\n",
       "\n",
       "    .dataframe thead th {\n",
       "        text-align: right;\n",
       "    }\n",
       "</style>\n",
       "<table border=\"1\" class=\"dataframe\">\n",
       "  <thead>\n",
       "    <tr style=\"text-align: right;\">\n",
       "      <th></th>\n",
       "      <th>review_id</th>\n",
       "      <th>business_id</th>\n",
       "      <th>user_id</th>\n",
       "      <th>stars</th>\n",
       "      <th>category</th>\n",
       "    </tr>\n",
       "  </thead>\n",
       "  <tbody>\n",
       "    <tr>\n",
       "      <th>0</th>\n",
       "      <td>f1MJKwk8Nk2MNxns6-tvfg</td>\n",
       "      <td>8yR12PNSMo6FBYx1u5KPlw</td>\n",
       "      <td>BDwy_2vFLT2urUhvNrKDLQ</td>\n",
       "      <td>4.0</td>\n",
       "      <td>Restaurants</td>\n",
       "    </tr>\n",
       "    <tr>\n",
       "      <th>1</th>\n",
       "      <td>f1MJKwk8Nk2MNxns6-tvfg</td>\n",
       "      <td>8yR12PNSMo6FBYx1u5KPlw</td>\n",
       "      <td>BDwy_2vFLT2urUhvNrKDLQ</td>\n",
       "      <td>4.0</td>\n",
       "      <td>Gluten-Free</td>\n",
       "    </tr>\n",
       "    <tr>\n",
       "      <th>2</th>\n",
       "      <td>f1MJKwk8Nk2MNxns6-tvfg</td>\n",
       "      <td>8yR12PNSMo6FBYx1u5KPlw</td>\n",
       "      <td>BDwy_2vFLT2urUhvNrKDLQ</td>\n",
       "      <td>4.0</td>\n",
       "      <td>Bars</td>\n",
       "    </tr>\n",
       "    <tr>\n",
       "      <th>3</th>\n",
       "      <td>f1MJKwk8Nk2MNxns6-tvfg</td>\n",
       "      <td>8yR12PNSMo6FBYx1u5KPlw</td>\n",
       "      <td>BDwy_2vFLT2urUhvNrKDLQ</td>\n",
       "      <td>4.0</td>\n",
       "      <td>Food</td>\n",
       "    </tr>\n",
       "    <tr>\n",
       "      <th>4</th>\n",
       "      <td>f1MJKwk8Nk2MNxns6-tvfg</td>\n",
       "      <td>8yR12PNSMo6FBYx1u5KPlw</td>\n",
       "      <td>BDwy_2vFLT2urUhvNrKDLQ</td>\n",
       "      <td>4.0</td>\n",
       "      <td>Nightlife</td>\n",
       "    </tr>\n",
       "    <tr>\n",
       "      <th>...</th>\n",
       "      <td>...</td>\n",
       "      <td>...</td>\n",
       "      <td>...</td>\n",
       "      <td>...</td>\n",
       "      <td>...</td>\n",
       "    </tr>\n",
       "    <tr>\n",
       "      <th>5225694</th>\n",
       "      <td>5RSkQpctcinv77VKyXgh2Q</td>\n",
       "      <td>g7-sn0P60uwbOJejnoRIQA</td>\n",
       "      <td>lHqA_D7nAK9xw_Xg08dM_w</td>\n",
       "      <td>4.0</td>\n",
       "      <td>Beer Bar</td>\n",
       "    </tr>\n",
       "    <tr>\n",
       "      <th>5225695</th>\n",
       "      <td>5RSkQpctcinv77VKyXgh2Q</td>\n",
       "      <td>g7-sn0P60uwbOJejnoRIQA</td>\n",
       "      <td>lHqA_D7nAK9xw_Xg08dM_w</td>\n",
       "      <td>4.0</td>\n",
       "      <td>Wine Bars</td>\n",
       "    </tr>\n",
       "    <tr>\n",
       "      <th>5225696</th>\n",
       "      <td>5RSkQpctcinv77VKyXgh2Q</td>\n",
       "      <td>g7-sn0P60uwbOJejnoRIQA</td>\n",
       "      <td>lHqA_D7nAK9xw_Xg08dM_w</td>\n",
       "      <td>4.0</td>\n",
       "      <td>Bars</td>\n",
       "    </tr>\n",
       "    <tr>\n",
       "      <th>5225697</th>\n",
       "      <td>5RSkQpctcinv77VKyXgh2Q</td>\n",
       "      <td>g7-sn0P60uwbOJejnoRIQA</td>\n",
       "      <td>lHqA_D7nAK9xw_Xg08dM_w</td>\n",
       "      <td>4.0</td>\n",
       "      <td>Cideries</td>\n",
       "    </tr>\n",
       "    <tr>\n",
       "      <th>5225698</th>\n",
       "      <td>5RSkQpctcinv77VKyXgh2Q</td>\n",
       "      <td>g7-sn0P60uwbOJejnoRIQA</td>\n",
       "      <td>lHqA_D7nAK9xw_Xg08dM_w</td>\n",
       "      <td>4.0</td>\n",
       "      <td>Food</td>\n",
       "    </tr>\n",
       "  </tbody>\n",
       "</table>\n",
       "<p>5225699 rows × 5 columns</p>\n",
       "</div>"
      ],
      "text/plain": [
       "                      review_id             business_id  \\\n",
       "0        f1MJKwk8Nk2MNxns6-tvfg  8yR12PNSMo6FBYx1u5KPlw   \n",
       "1        f1MJKwk8Nk2MNxns6-tvfg  8yR12PNSMo6FBYx1u5KPlw   \n",
       "2        f1MJKwk8Nk2MNxns6-tvfg  8yR12PNSMo6FBYx1u5KPlw   \n",
       "3        f1MJKwk8Nk2MNxns6-tvfg  8yR12PNSMo6FBYx1u5KPlw   \n",
       "4        f1MJKwk8Nk2MNxns6-tvfg  8yR12PNSMo6FBYx1u5KPlw   \n",
       "...                         ...                     ...   \n",
       "5225694  5RSkQpctcinv77VKyXgh2Q  g7-sn0P60uwbOJejnoRIQA   \n",
       "5225695  5RSkQpctcinv77VKyXgh2Q  g7-sn0P60uwbOJejnoRIQA   \n",
       "5225696  5RSkQpctcinv77VKyXgh2Q  g7-sn0P60uwbOJejnoRIQA   \n",
       "5225697  5RSkQpctcinv77VKyXgh2Q  g7-sn0P60uwbOJejnoRIQA   \n",
       "5225698  5RSkQpctcinv77VKyXgh2Q  g7-sn0P60uwbOJejnoRIQA   \n",
       "\n",
       "                        user_id  stars     category  \n",
       "0        BDwy_2vFLT2urUhvNrKDLQ    4.0  Restaurants  \n",
       "1        BDwy_2vFLT2urUhvNrKDLQ    4.0  Gluten-Free  \n",
       "2        BDwy_2vFLT2urUhvNrKDLQ    4.0         Bars  \n",
       "3        BDwy_2vFLT2urUhvNrKDLQ    4.0         Food  \n",
       "4        BDwy_2vFLT2urUhvNrKDLQ    4.0    Nightlife  \n",
       "...                         ...    ...          ...  \n",
       "5225694  lHqA_D7nAK9xw_Xg08dM_w    4.0     Beer Bar  \n",
       "5225695  lHqA_D7nAK9xw_Xg08dM_w    4.0    Wine Bars  \n",
       "5225696  lHqA_D7nAK9xw_Xg08dM_w    4.0         Bars  \n",
       "5225697  lHqA_D7nAK9xw_Xg08dM_w    4.0     Cideries  \n",
       "5225698  lHqA_D7nAK9xw_Xg08dM_w    4.0         Food  \n",
       "\n",
       "[5225699 rows x 5 columns]"
      ]
     },
     "execution_count": 7,
     "metadata": {},
     "output_type": "execute_result"
    }
   ],
   "source": [
    "all_merged_df = all_merged_df[['review_id', 'business_id', 'user_id', 'stars', 'category']]\n",
    "all_merged_df"
   ]
  },
  {
   "cell_type": "code",
   "execution_count": 10,
   "metadata": {},
   "outputs": [
    {
     "data": {
      "text/plain": [
       "category\n",
       "Nightlife                 247762\n",
       "Bars                      234812\n",
       "American (Traditional)    157952\n",
       "American (New)            156821\n",
       "Breakfast & Brunch        130938\n",
       "                           ...  \n",
       "Cheerleading                   1\n",
       "Trade Fairs                    1\n",
       "Duplication Services           1\n",
       "Apartment Agents               1\n",
       "Ranches                        1\n",
       "Name: count, Length: 1237, dtype: int64"
      ]
     },
     "execution_count": 10,
     "metadata": {},
     "output_type": "execute_result"
    }
   ],
   "source": [
    "overall_category_freq = all_merged_df['category'].value_counts()\n",
    "# remove two most popular categories\n",
    "overall_category_freq = overall_category_freq[2:]\n",
    "overall_category_freq"
   ]
  },
  {
   "cell_type": "code",
   "execution_count": 12,
   "metadata": {},
   "outputs": [],
   "source": [
    "# output the overall category frequency to excel file\n",
    "overall_category_freq.to_excel('../../src/data_processing/overall_category_freq.xlsx')"
   ]
  },
  {
   "cell_type": "code",
   "execution_count": 9,
   "metadata": {},
   "outputs": [],
   "source": [
    "top_100_categories = overall_category_freq.nlargest(100).index.tolist()\n",
    "overall_category_prop = overall_category_freq / overall_category_freq.sum()"
   ]
  },
  {
   "cell_type": "code",
   "execution_count": 11,
   "metadata": {},
   "outputs": [],
   "source": [
    "user_review_counts = df_review['user_id'].value_counts()\n",
    "# ignore users with less than 5 reviews\n",
    "filtered_users = user_review_counts[user_review_counts >= 2].index"
   ]
  },
  {
   "cell_type": "code",
   "execution_count": 12,
   "metadata": {},
   "outputs": [
    {
     "data": {
      "text/plain": [
       "user_id\n",
       "_BcWyKQL16ndpBdggh2kNA    953\n",
       "ET8n-r7glWYqZhuR6GcdNw    576\n",
       "Xw7ZjaGfr0WNVt6s_5KZfA    550\n",
       "0Igx-a1wAstiBDerGxXk2A    541\n",
       "1HM81n6n4iPIFU5d2Lokhw    535\n",
       "                         ... \n",
       "BewDV2ISn0uAMLcsyrhiZg     77\n",
       "O_-EMEYwYSq-_v_7NlS5iA     77\n",
       "PAc93PtEbYDtytBQ9Dyjug     77\n",
       "Mbw8FWl4dok7ezTRdC8HOw     77\n",
       "iHB75LCfFkIC1Oj86CqT1A     77\n",
       "Name: count, Length: 1000, dtype: int64"
      ]
     },
     "execution_count": 12,
     "metadata": {},
     "output_type": "execute_result"
    }
   ],
   "source": [
    "user_review_counts.head(1000)"
   ]
  },
  {
   "cell_type": "code",
   "execution_count": 13,
   "metadata": {},
   "outputs": [],
   "source": [
    "filtered_df_review = df_review[df_review['user_id'].isin(filtered_users)]\n",
    "merged_df = pd.merge(filtered_df_review, df_categories, on='business_id', how='left')\n",
    "user_category_matrix = merged_df.groupby(['user_id', 'category']).size().unstack(fill_value=0)"
   ]
  },
  {
   "cell_type": "code",
   "execution_count": 14,
   "metadata": {},
   "outputs": [],
   "source": [
    "alpha = 3.0\n",
    "smoothed_matrix = user_category_matrix + alpha * overall_category_prop"
   ]
  },
  {
   "cell_type": "code",
   "execution_count": 15,
   "metadata": {},
   "outputs": [],
   "source": [
    "user_top_categories = smoothed_matrix.apply(lambda x: x.nlargest(5).index.tolist(), axis=1)\n",
    "user_top_categories"
   ]
  },
  {
   "cell_type": "code",
   "execution_count": null,
   "metadata": {},
   "outputs": [
    {
     "data": {
      "text/html": [
       "<div>\n",
       "<style scoped>\n",
       "    .dataframe tbody tr th:only-of-type {\n",
       "        vertical-align: middle;\n",
       "    }\n",
       "\n",
       "    .dataframe tbody tr th {\n",
       "        vertical-align: top;\n",
       "    }\n",
       "\n",
       "    .dataframe thead th {\n",
       "        text-align: right;\n",
       "    }\n",
       "</style>\n",
       "<table border=\"1\" class=\"dataframe\">\n",
       "  <thead>\n",
       "    <tr style=\"text-align: right;\">\n",
       "      <th></th>\n",
       "      <th>user_id</th>\n",
       "      <th>name</th>\n",
       "      <th>review_count</th>\n",
       "      <th>yelping_since</th>\n",
       "      <th>useful</th>\n",
       "      <th>funny</th>\n",
       "      <th>cool</th>\n",
       "      <th>fans</th>\n",
       "      <th>average_stars</th>\n",
       "      <th>friends</th>\n",
       "      <th>...</th>\n",
       "      <th>compliment_profile</th>\n",
       "      <th>compliment_cute</th>\n",
       "      <th>compliment_list</th>\n",
       "      <th>compliment_note</th>\n",
       "      <th>compliment_plain</th>\n",
       "      <th>compliment_cool</th>\n",
       "      <th>compliment_funny</th>\n",
       "      <th>compliment_writer</th>\n",
       "      <th>compliment_photos</th>\n",
       "      <th>categories</th>\n",
       "    </tr>\n",
       "  </thead>\n",
       "  <tbody>\n",
       "    <tr>\n",
       "      <th>0</th>\n",
       "      <td>j14WgRoU_-2ZE1aw1dXrJg</td>\n",
       "      <td>Daniel</td>\n",
       "      <td>4333</td>\n",
       "      <td>2009-01-25 04:35:42</td>\n",
       "      <td>43091</td>\n",
       "      <td>13066</td>\n",
       "      <td>27281</td>\n",
       "      <td>3138</td>\n",
       "      <td>3.74</td>\n",
       "      <td>None</td>\n",
       "      <td>...</td>\n",
       "      <td>184</td>\n",
       "      <td>157</td>\n",
       "      <td>251</td>\n",
       "      <td>1847</td>\n",
       "      <td>7054</td>\n",
       "      <td>3131</td>\n",
       "      <td>3131</td>\n",
       "      <td>1521</td>\n",
       "      <td>1946</td>\n",
       "      <td>[\"Nightlife\", \"Hotels &amp; Travel\", \"Local Flavor...</td>\n",
       "    </tr>\n",
       "    <tr>\n",
       "      <th>1</th>\n",
       "      <td>SZDeASXq7o05mMNLshsdIA</td>\n",
       "      <td>Gwen</td>\n",
       "      <td>224</td>\n",
       "      <td>2005-11-29 04:38:33</td>\n",
       "      <td>512</td>\n",
       "      <td>330</td>\n",
       "      <td>299</td>\n",
       "      <td>28</td>\n",
       "      <td>4.27</td>\n",
       "      <td>None</td>\n",
       "      <td>...</td>\n",
       "      <td>1</td>\n",
       "      <td>6</td>\n",
       "      <td>2</td>\n",
       "      <td>12</td>\n",
       "      <td>16</td>\n",
       "      <td>26</td>\n",
       "      <td>26</td>\n",
       "      <td>10</td>\n",
       "      <td>9</td>\n",
       "      <td>[\"Shopping\", \"Fashion\", \"Arts &amp; Crafts\", \"Arts...</td>\n",
       "    </tr>\n",
       "    <tr>\n",
       "      <th>2</th>\n",
       "      <td>q_QQ5kBBwlCcbL1s4NVK3g</td>\n",
       "      <td>Jane</td>\n",
       "      <td>1221</td>\n",
       "      <td>2005-03-14 20:26:35</td>\n",
       "      <td>14953</td>\n",
       "      <td>9940</td>\n",
       "      <td>11211</td>\n",
       "      <td>1357</td>\n",
       "      <td>3.85</td>\n",
       "      <td>None</td>\n",
       "      <td>...</td>\n",
       "      <td>191</td>\n",
       "      <td>361</td>\n",
       "      <td>147</td>\n",
       "      <td>1212</td>\n",
       "      <td>5696</td>\n",
       "      <td>2543</td>\n",
       "      <td>2543</td>\n",
       "      <td>815</td>\n",
       "      <td>323</td>\n",
       "      <td>[\"Mexican\", \"Nightlife\", \"Bars\", \"Breakfast &amp; ...</td>\n",
       "    </tr>\n",
       "    <tr>\n",
       "      <th>3</th>\n",
       "      <td>AUi8MPWJ0mLkMfwbui27lg</td>\n",
       "      <td>John</td>\n",
       "      <td>109</td>\n",
       "      <td>2010-01-07 18:32:04</td>\n",
       "      <td>154</td>\n",
       "      <td>20</td>\n",
       "      <td>23</td>\n",
       "      <td>4</td>\n",
       "      <td>3.40</td>\n",
       "      <td>None</td>\n",
       "      <td>...</td>\n",
       "      <td>0</td>\n",
       "      <td>0</td>\n",
       "      <td>0</td>\n",
       "      <td>1</td>\n",
       "      <td>6</td>\n",
       "      <td>3</td>\n",
       "      <td>3</td>\n",
       "      <td>0</td>\n",
       "      <td>0</td>\n",
       "      <td>[\"Event Planning &amp; Services\", \"Hotels &amp; Travel...</td>\n",
       "    </tr>\n",
       "    <tr>\n",
       "      <th>4</th>\n",
       "      <td>xoZvMJPDW6Q9pDAXI0e_Ww</td>\n",
       "      <td>Ryan</td>\n",
       "      <td>535</td>\n",
       "      <td>2009-05-27 06:12:10</td>\n",
       "      <td>1130</td>\n",
       "      <td>487</td>\n",
       "      <td>573</td>\n",
       "      <td>31</td>\n",
       "      <td>3.89</td>\n",
       "      <td>None</td>\n",
       "      <td>...</td>\n",
       "      <td>1</td>\n",
       "      <td>3</td>\n",
       "      <td>5</td>\n",
       "      <td>31</td>\n",
       "      <td>41</td>\n",
       "      <td>36</td>\n",
       "      <td>36</td>\n",
       "      <td>24</td>\n",
       "      <td>7</td>\n",
       "      <td>[\"Arts &amp; Entertainment\", \"Hotels &amp; Travel\", \"C...</td>\n",
       "    </tr>\n",
       "  </tbody>\n",
       "</table>\n",
       "<p>5 rows × 23 columns</p>\n",
       "</div>"
      ],
      "text/plain": [
       "                  user_id    name  review_count        yelping_since  useful  \\\n",
       "0  j14WgRoU_-2ZE1aw1dXrJg  Daniel          4333  2009-01-25 04:35:42   43091   \n",
       "1  SZDeASXq7o05mMNLshsdIA    Gwen           224  2005-11-29 04:38:33     512   \n",
       "2  q_QQ5kBBwlCcbL1s4NVK3g    Jane          1221  2005-03-14 20:26:35   14953   \n",
       "3  AUi8MPWJ0mLkMfwbui27lg    John           109  2010-01-07 18:32:04     154   \n",
       "4  xoZvMJPDW6Q9pDAXI0e_Ww    Ryan           535  2009-05-27 06:12:10    1130   \n",
       "\n",
       "   funny   cool  fans  average_stars friends  ... compliment_profile  \\\n",
       "0  13066  27281  3138           3.74    None  ...                184   \n",
       "1    330    299    28           4.27    None  ...                  1   \n",
       "2   9940  11211  1357           3.85    None  ...                191   \n",
       "3     20     23     4           3.40    None  ...                  0   \n",
       "4    487    573    31           3.89    None  ...                  1   \n",
       "\n",
       "   compliment_cute  compliment_list  compliment_note  compliment_plain  \\\n",
       "0              157              251             1847              7054   \n",
       "1                6                2               12                16   \n",
       "2              361              147             1212              5696   \n",
       "3                0                0                1                 6   \n",
       "4                3                5               31                41   \n",
       "\n",
       "   compliment_cool  compliment_funny  compliment_writer  compliment_photos  \\\n",
       "0             3131              3131               1521               1946   \n",
       "1               26                26                 10                  9   \n",
       "2             2543              2543                815                323   \n",
       "3                3                 3                  0                  0   \n",
       "4               36                36                 24                  7   \n",
       "\n",
       "                                          categories  \n",
       "0  [\"Nightlife\", \"Hotels & Travel\", \"Local Flavor...  \n",
       "1  [\"Shopping\", \"Fashion\", \"Arts & Crafts\", \"Arts...  \n",
       "2  [\"Mexican\", \"Nightlife\", \"Bars\", \"Breakfast & ...  \n",
       "3  [\"Event Planning & Services\", \"Hotels & Travel...  \n",
       "4  [\"Arts & Entertainment\", \"Hotels & Travel\", \"C...  \n",
       "\n",
       "[5 rows x 23 columns]"
      ]
     },
     "metadata": {},
     "output_type": "display_data"
    }
   ],
   "source": [
    "conn = sqlite3.connect('../../data/processed_data/yelp_data/yelp_user_data.db')\n",
    "cursor = conn.cursor()\n",
    "cursor.execute(\"SELECT * FROM user_data\")\n",
    "user_data = cursor.fetchall()\n",
    "cols = [column[0] for column in cursor.description]\n",
    "user_df = pd.DataFrame(user_data, columns=cols)\n",
    "display(user_df.head())"
   ]
  },
  {
   "cell_type": "code",
   "execution_count": null,
   "metadata": {},
   "outputs": [],
   "source": [
    "# Add the new column (will be NULL for all existing rows)\n",
    "# cursor.execute(\"ALTER TABLE user_data ADD COLUMN categories TEXT;\")\n",
    "# conn.commit()\n"
   ]
  },
  {
   "cell_type": "code",
   "execution_count": null,
   "metadata": {},
   "outputs": [],
   "source": [
    "# import json\n",
    "# # Wrap all updates in a single transaction for speed\n",
    "# cursor.execute(\"BEGIN TRANSACTION;\")\n",
    "# # Prepare the update statement\n",
    "# update_sql = \"UPDATE user_data SET categories = ? WHERE user_id = ?;\"\n",
    "# for user_id, cat_list in user_top_categories.items():\n",
    "#     # Serialize the list to JSON (or you could use ','.join(cat_list))\n",
    "#     cat_json = json.dumps(cat_list, ensure_ascii=False)\n",
    "#     cursor.execute(update_sql, (cat_json, user_id))\n",
    "# conn.commit()"
   ]
  },
  {
   "cell_type": "code",
   "execution_count": null,
   "metadata": {},
   "outputs": [],
   "source": [
    "# Commit once at the end\n",
    "conn.close()"
   ]
  },
  {
   "cell_type": "code",
   "execution_count": 19,
   "metadata": {},
   "outputs": [],
   "source": [
    "user_top_categories.to_excel('../../src/data_processing/user_top_categories.xlsx')"
   ]
  },
  {
   "cell_type": "markdown",
   "metadata": {},
   "source": [
    "\n",
    "### Clustering"
   ]
  },
  {
   "cell_type": "code",
   "execution_count": 97,
   "metadata": {},
   "outputs": [],
   "source": [
    "mlb = MultiLabelBinarizer()\n",
    "mlb.fit(user_top_categories.values)\n",
    "with open('users_categories_encoder.pkl', 'wb') as f:\n",
    "    pickle.dump(mlb, f)"
   ]
  },
  {
   "cell_type": "code",
   "execution_count": null,
   "metadata": {},
   "outputs": [],
   "source": [
    "# # 1 clusterer = hdbscan.HDBSCAN(metric='jaccard', min_samples=1, min_cluster_size=5)\n",
    "# # 2 clusterer = hdbscan.HDBSCAN(metric='jaccard', min_samples=1, min_cluster_size=10)\n",
    "# clusterer = hdbscan.HDBSCAN(metric='jaccard', min_samples=3, min_cluster_size=5, cluster_selection_epsilon=0.3)\n",
    "# labels = clusterer.fit_predict(encoded_data)\n",
    "\n",
    "# # run time (36, 30, 50 minutes)"
   ]
  },
  {
   "cell_type": "code",
   "execution_count": null,
   "metadata": {},
   "outputs": [],
   "source": [
    "# label_df = pd.DataFrame({'user_id': user_top_categories.index, 'label': labels})\n",
    "# label_df.to_excel('../../src/data_processing/user_labels.xlsx')"
   ]
  },
  {
   "cell_type": "code",
   "execution_count": 105,
   "metadata": {},
   "outputs": [],
   "source": [
    "# read the clustered_user.xlsx file\n",
    "clustered_user = pd.read_excel('../../src/data_processing/clustered_users.xlsx')"
   ]
  },
  {
   "cell_type": "code",
   "execution_count": 98,
   "metadata": {},
   "outputs": [],
   "source": [
    "encoded_data = mlb.transform(user_top_categories.values)"
   ]
  },
  {
   "cell_type": "code",
   "execution_count": null,
   "metadata": {},
   "outputs": [],
   "source": [
    "clustered_user_df = pd.DataFrame(encoded_data, columns=mlb.classes_)\n",
    "clustered_user_df['user_id'] = user_top_categories.index\n",
    "# switch the order of the columns to move user_id to the first column\n",
    "clustered_user_df = clustered_user_df[['user_id'] + list(clustered_user_df.columns[:-1])]\n",
    "\n",
    "clustered_user_df = pd.merge(clustered_user_df, clustered_user, on='user_id', how='left')\n",
    "\n",
    "# Saving to a pickle file\n",
    "clustered_user_df.to_pickle('clustered_user_df.pkl')"
   ]
  },
  {
   "cell_type": "code",
   "execution_count": 126,
   "metadata": {},
   "outputs": [],
   "source": [
    "def find_nearest_neighbor(encoded_try_list: np.ndarray, clustered_user_df: pd.DataFrame):\n",
    "    \"\"\"\n",
    "    Finds the nearest neighbor(s) for each record in the encoded_try_list using Jaccard similarity.\n",
    "\n",
    "    Parameters:\n",
    "        encoded_try_list (np.ndarray): A numpy array containing one or more encoded user category records.\n",
    "        clustered_user_df (pd.DataFrame): DataFrame containing user_ids and encoded category features.\n",
    "           It is expected that the first column (or a column named 'user_id') holds the user ID,\n",
    "           and the remaining columns are the encoded features.\n",
    "\n",
    "    Returns:\n",
    "        results (pd.DataFrame): A DataFrame with original user_ids from clustered_user_df that are\n",
    "                                the nearest neighbors along with the computed distances.\n",
    "    \"\"\"\n",
    "    # Ensure the clustered_user_df has a 'user_id' column and encoded category columns.\n",
    "    if 'user_id' not in clustered_user_df.columns:\n",
    "        raise ValueError(\"clustered_user_df must include a 'user_id' column.\")\n",
    "\n",
    "    # Select the encoded features from clustered_user_df; assume all columns except 'user_id'\n",
    "    features = clustered_user_df.drop(columns=['user_id', 'cluster']).values\n",
    "\n",
    "    # Create the NearestNeighbors model using Jaccard metric\n",
    "    nn_model = NearestNeighbors(n_neighbors=1, metric='jaccard')\n",
    "    nn_model.fit(features)\n",
    "\n",
    "    # Query the model to get nearest neighbor index and distance\n",
    "    distances, indices = nn_model.kneighbors(encoded_try_list)\n",
    "\n",
    "    # Create a list to hold results\n",
    "    results = []\n",
    "    for idx, (dist, ind) in enumerate(zip(distances, indices)):\n",
    "        # Get the corresponding user_id from clustered_user_df using the index\n",
    "        nearest_cluster_id = clustered_user_df.iloc[ind[0]]['cluster']\n",
    "        results.append({\n",
    "            'input_index': idx,\n",
    "            'nearest_cluster_id': nearest_cluster_id,\n",
    "            # 'distance': dist[0]\n",
    "        })\n",
    "\n",
    "    # Convert to DataFrame for easier downstream processing or logging\n",
    "    # results_df = pd.DataFrame(results)\n",
    "    return results"
   ]
  },
  {
   "cell_type": "code",
   "execution_count": 152,
   "metadata": {},
   "outputs": [
    {
     "name": "stderr",
     "output_type": "stream",
     "text": [
      "c:\\Users\\yueny\\.virtualenvs\\content-recommendation-0SgTkEMC\\Lib\\site-packages\\sklearn\\preprocessing\\_label.py:909: UserWarning: unknown class(es) [np.str_('Food')] will be ignored\n",
      "  warnings.warn(\n",
      "c:\\Users\\yueny\\.virtualenvs\\content-recommendation-0SgTkEMC\\Lib\\site-packages\\sklearn\\metrics\\pairwise.py:2466: DataConversionWarning: Data was converted to boolean for metric jaccard\n",
      "  warnings.warn(msg, DataConversionWarning)\n"
     ]
    },
    {
     "data": {
      "text/plain": [
       "{'input_index': 0, 'nearest_cluster_id': np.int64(2253)}"
      ]
     },
     "execution_count": 152,
     "metadata": {},
     "output_type": "execute_result"
    }
   ],
   "source": [
    "# Later, loading from the pickle file\n",
    "clustered_user_df = pd.read_pickle('clustered_user_df.pkl')\n",
    "\n",
    "try_list = [['American (Traditional)', 'Sandwiches', 'Burgers', 'Fast Food', 'Pizza'],\n",
    "            ['Nightlife', 'Delis', 'Food', 'Fast Food', 'Pizza'],]\n",
    "\n",
    "with open('users_categories_encoder.pkl', 'rb') as f:\n",
    "    user_category_encoder = pickle.load(f)\n",
    "    f.close()\n",
    "\n",
    "try_list = np.array(try_list)\n",
    "\n",
    "encoded_try_list = user_category_encoder.transform(try_list)\n",
    "\n",
    "result_df = find_nearest_neighbor(encoded_try_list,clustered_user_df)\n",
    "result_df[0]"
   ]
  },
  {
   "cell_type": "code",
   "execution_count": null,
   "metadata": {},
   "outputs": [
    {
     "name": "stderr",
     "output_type": "stream",
     "text": [
      "c:\\Users\\cathy\\.virtualenvs\\content-recommendation-mCG3KVaj\\Lib\\site-packages\\sklearn\\metrics\\pairwise.py:2361: DataConversionWarning: Data was converted to boolean for metric jaccard\n",
      "  warnings.warn(msg, DataConversionWarning)\n",
      "c:\\Users\\cathy\\.virtualenvs\\content-recommendation-mCG3KVaj\\Lib\\site-packages\\sklearn\\metrics\\pairwise.py:2361: DataConversionWarning: Data was converted to boolean for metric jaccard\n",
      "  warnings.warn(msg, DataConversionWarning)\n",
      "c:\\Users\\cathy\\.virtualenvs\\content-recommendation-mCG3KVaj\\Lib\\site-packages\\sklearn\\metrics\\pairwise.py:2361: DataConversionWarning: Data was converted to boolean for metric jaccard\n",
      "  warnings.warn(msg, DataConversionWarning)\n",
      "c:\\Users\\cathy\\.virtualenvs\\content-recommendation-mCG3KVaj\\Lib\\site-packages\\sklearn\\metrics\\pairwise.py:2361: DataConversionWarning: Data was converted to boolean for metric jaccard\n",
      "  warnings.warn(msg, DataConversionWarning)\n",
      "c:\\Users\\cathy\\.virtualenvs\\content-recommendation-mCG3KVaj\\Lib\\site-packages\\sklearn\\metrics\\pairwise.py:2361: DataConversionWarning: Data was converted to boolean for metric jaccard\n",
      "  warnings.warn(msg, DataConversionWarning)\n",
      "c:\\Users\\cathy\\.virtualenvs\\content-recommendation-mCG3KVaj\\Lib\\site-packages\\sklearn\\metrics\\pairwise.py:2361: DataConversionWarning: Data was converted to boolean for metric jaccard\n",
      "  warnings.warn(msg, DataConversionWarning)\n",
      "c:\\Users\\cathy\\.virtualenvs\\content-recommendation-mCG3KVaj\\Lib\\site-packages\\sklearn\\metrics\\pairwise.py:2361: DataConversionWarning: Data was converted to boolean for metric jaccard\n",
      "  warnings.warn(msg, DataConversionWarning)\n",
      "c:\\Users\\cathy\\.virtualenvs\\content-recommendation-mCG3KVaj\\Lib\\site-packages\\sklearn\\metrics\\pairwise.py:2361: DataConversionWarning: Data was converted to boolean for metric jaccard\n",
      "  warnings.warn(msg, DataConversionWarning)\n",
      "c:\\Users\\cathy\\.virtualenvs\\content-recommendation-mCG3KVaj\\Lib\\site-packages\\sklearn\\metrics\\pairwise.py:2361: DataConversionWarning: Data was converted to boolean for metric jaccard\n",
      "  warnings.warn(msg, DataConversionWarning)\n",
      "c:\\Users\\cathy\\.virtualenvs\\content-recommendation-mCG3KVaj\\Lib\\site-packages\\sklearn\\metrics\\pairwise.py:2361: DataConversionWarning: Data was converted to boolean for metric jaccard\n",
      "  warnings.warn(msg, DataConversionWarning)\n",
      "c:\\Users\\cathy\\.virtualenvs\\content-recommendation-mCG3KVaj\\Lib\\site-packages\\sklearn\\metrics\\pairwise.py:2361: DataConversionWarning: Data was converted to boolean for metric jaccard\n",
      "  warnings.warn(msg, DataConversionWarning)\n",
      "c:\\Users\\cathy\\.virtualenvs\\content-recommendation-mCG3KVaj\\Lib\\site-packages\\sklearn\\metrics\\pairwise.py:2361: DataConversionWarning: Data was converted to boolean for metric jaccard\n",
      "  warnings.warn(msg, DataConversionWarning)\n",
      "c:\\Users\\cathy\\.virtualenvs\\content-recommendation-mCG3KVaj\\Lib\\site-packages\\sklearn\\metrics\\pairwise.py:2361: DataConversionWarning: Data was converted to boolean for metric jaccard\n",
      "  warnings.warn(msg, DataConversionWarning)\n",
      "c:\\Users\\cathy\\.virtualenvs\\content-recommendation-mCG3KVaj\\Lib\\site-packages\\sklearn\\metrics\\pairwise.py:2361: DataConversionWarning: Data was converted to boolean for metric jaccard\n",
      "  warnings.warn(msg, DataConversionWarning)\n",
      "c:\\Users\\cathy\\.virtualenvs\\content-recommendation-mCG3KVaj\\Lib\\site-packages\\sklearn\\metrics\\pairwise.py:2361: DataConversionWarning: Data was converted to boolean for metric jaccard\n",
      "  warnings.warn(msg, DataConversionWarning)\n",
      "c:\\Users\\cathy\\.virtualenvs\\content-recommendation-mCG3KVaj\\Lib\\site-packages\\sklearn\\metrics\\pairwise.py:2361: DataConversionWarning: Data was converted to boolean for metric jaccard\n",
      "  warnings.warn(msg, DataConversionWarning)\n",
      "c:\\Users\\cathy\\.virtualenvs\\content-recommendation-mCG3KVaj\\Lib\\site-packages\\sklearn\\metrics\\pairwise.py:2361: DataConversionWarning: Data was converted to boolean for metric jaccard\n",
      "  warnings.warn(msg, DataConversionWarning)\n"
     ]
    }
   ],
   "source": [
    "# # Step 3: Assign any noise points to the nearest cluster\n",
    "# noise_indices = np.where(labels == -1)[0]  # Indices of users labeled as noise\n",
    "# if len(noise_indices) > 0:\n",
    "#     cluster_indices = np.where(labels != -1)[0]  # Indices of users in clusters\n",
    "#     if len(cluster_indices) > 0:\n",
    "#         # Fit NearestNeighbors on clustered points using Jaccard distance\n",
    "#         nn = NearestNeighbors(n_neighbors=1, metric='jaccard')\n",
    "#         nn.fit(encoded_data[cluster_indices])\n",
    "#         # Find nearest clustered neighbor for each noise point\n",
    "#         distances, indices = nn.kneighbors(encoded_data[noise_indices])\n",
    "#         # Assign noise points to the cluster of their nearest neighbor\n",
    "#         nearest_labels = labels[cluster_indices[indices.flatten()]]\n",
    "#         labels[noise_indices] = nearest_labels\n",
    "#     else:\n",
    "#         # Rare edge case: all points are noise; assign all to cluster 0\n",
    "#         labels[noise_indices] = 0"
   ]
  },
  {
   "cell_type": "code",
   "execution_count": null,
   "metadata": {},
   "outputs": [],
   "source": [
    "# # Step 4: Create a DataFrame with user IDs and cluster labels\n",
    "# clustered_users = pd.DataFrame({'cluster': labels}, index=user_top_categories.index)\n",
    "\n",
    "# # Output the result\n",
    "# # print(clustered_users)"
   ]
  },
  {
   "cell_type": "code",
   "execution_count": null,
   "metadata": {},
   "outputs": [],
   "source": [
    "# clustered_users.to_excel('../../src/data_processing/clustered_users.xlsx')"
   ]
  },
  {
   "cell_type": "markdown",
   "metadata": {},
   "source": [
    "### Evaluate the cluster"
   ]
  },
  {
   "cell_type": "code",
   "execution_count": null,
   "metadata": {},
   "outputs": [
    {
     "name": "stderr",
     "output_type": "stream",
     "text": [
      "c:\\Users\\cathy\\.virtualenvs\\content-recommendation-mCG3KVaj\\Lib\\site-packages\\sklearn\\metrics\\pairwise.py:2361: DataConversionWarning: Data was converted to boolean for metric jaccard\n",
      "  warnings.warn(msg, DataConversionWarning)\n"
     ]
    },
    {
     "name": "stdout",
     "output_type": "stream",
     "text": [
      "Sampled Silhouette Score: 0.359193194525424\n"
     ]
    }
   ],
   "source": [
    "\n",
    "# # Assume 'encoded_data' is your multi-hot encoded data (47,000 x num_categories)\n",
    "# # Assume 'labels' are the cluster labels for all 47,000 users\n",
    "\n",
    "# # Sample 10% of the data\n",
    "# sample_size = int(0.1 * encoded_data.shape[0])  # ~4,700 users\n",
    "# sample_indices = np.random.choice(encoded_data.shape[0], sample_size, replace=False)\n",
    "# sample_data = encoded_data[sample_indices]\n",
    "# sample_labels = labels[sample_indices]\n",
    "\n",
    "# # Compute Sampled Silhouette Score with Jaccard distance\n",
    "# sil_score = silhouette_score(sample_data, sample_labels, metric='jaccard')\n",
    "\n",
    "# print(\"Sampled Silhouette Score:\", sil_score)"
   ]
  },
  {
   "cell_type": "code",
   "execution_count": null,
   "metadata": {},
   "outputs": [
    {
     "name": "stdout",
     "output_type": "stream",
     "text": [
      "Davies-Bouldin Index: 1.7984987603812381\n"
     ]
    }
   ],
   "source": [
    "# # Compute Davies-Bouldin Index on the entire dataset\n",
    "# db_score = davies_bouldin_score(encoded_data, labels)\n",
    "\n",
    "# print(\"Davies-Bouldin Index:\", db_score)"
   ]
  },
  {
   "cell_type": "markdown",
   "metadata": {},
   "source": [
    "### log"
   ]
  },
  {
   "cell_type": "markdown",
   "metadata": {},
   "source": [
    "Silhouette near 1 better; Davies-Bouldin smaller better\n",
    "\n",
    "1. Silhouette: 0.3737, Davies-Bouldin: 1.6766\n",
    "2. Silhouette: 0.2876259446432755, Davies-Bouldin: 1.8501757095975369\n",
    "3. Silhouette: 0.3951916642699614, Davies-Bouldin: 1.7216348683124556"
   ]
  }
 ],
 "metadata": {
  "kernelspec": {
   "display_name": "content-recommendation-0SgTkEMC",
   "language": "python",
   "name": "python3"
  },
  "language_info": {
   "codemirror_mode": {
    "name": "ipython",
    "version": 3
   },
   "file_extension": ".py",
   "mimetype": "text/x-python",
   "name": "python",
   "nbconvert_exporter": "python",
   "pygments_lexer": "ipython3",
   "version": "3.11.4"
  }
 },
 "nbformat": 4,
 "nbformat_minor": 2
}
