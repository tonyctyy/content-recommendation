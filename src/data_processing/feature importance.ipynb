{
 "cells": [
  {
   "cell_type": "code",
   "execution_count": null,
   "metadata": {},
   "outputs": [],
   "source": [
    "import sqlite3\n",
    "import pickle\n",
    "import pandas as pd\n",
    "import numpy as np\n",
    "from scipy.stats import pointbiserialr\n",
    "from scipy.stats import pearsonr\n",
    "from hdbscan import HDBSCAN\n",
    "from sklearn.decomposition import PCA\n",
    "from sklearn.preprocessing import StandardScaler"
   ]
  },
  {
   "cell_type": "markdown",
   "metadata": {},
   "source": [
    "### 1. Load data"
   ]
  },
  {
   "cell_type": "code",
   "execution_count": 2,
   "metadata": {},
   "outputs": [],
   "source": [
    "# Define the database folder path and file names\n",
    "db_folder = '../../data/processed_data/yelp_data/'\n",
    "db_files = ['yelp_business_data.db', 'yelp_review_data.db']\n",
    "db_paths = [db_folder + db_file for db_file in db_files]"
   ]
  },
  {
   "cell_type": "code",
   "execution_count": 4,
   "metadata": {},
   "outputs": [],
   "source": [
    "# Connect to the databases and load data\n",
    "def load_data_from_db():\n",
    "    data = {}\n",
    "    \n",
    "    # Open connections and read tables\n",
    "    conns = [sqlite3.connect(db_path) for db_path in db_paths]\n",
    "    try:\n",
    "        # Load tables from the databases\n",
    "        data['business'] = pd.read_sql_query(\"SELECT * FROM business_details\", conns[0])\n",
    "        data['categories'] = pd.read_sql_query(\"SELECT * FROM business_categories\", conns[0])\n",
    "        data['review'] = pd.read_sql_query(\"SELECT * FROM review_data\", conns[1])\n",
    "    finally:\n",
    "        # Close all database connections\n",
    "        for conn in conns:\n",
    "            conn.close()\n",
    "    return data"
   ]
  },
  {
   "cell_type": "code",
   "execution_count": 5,
   "metadata": {},
   "outputs": [
    {
     "name": "stdout",
     "output_type": "stream",
     "text": [
      "Loaded 78059 rows from business table.\n",
      "Loaded 360656 rows from categories table.\n",
      "Loaded 980418 rows from review table.\n"
     ]
    }
   ],
   "source": [
    "# Load data into a dictionary\n",
    "yelp_data = load_data_from_db()\n",
    "\n",
    "# Check loaded data\n",
    "for table, df in yelp_data.items():\n",
    "    print(f\"Loaded {len(df)} rows from {table} table.\")"
   ]
  },
  {
   "cell_type": "code",
   "execution_count": 6,
   "metadata": {},
   "outputs": [],
   "source": [
    "df_business = yelp_data['business'] # Business details\n",
    "df_categories = yelp_data['categories'] # Business categories\n",
    "df_review = yelp_data['review'] # Review data\n"
   ]
  },
  {
   "cell_type": "code",
   "execution_count": 7,
   "metadata": {},
   "outputs": [],
   "source": [
    "df_review['label'] = df_review['stars'].apply(lambda x: 1 if x > 4 else 0)"
   ]
  },
  {
   "cell_type": "markdown",
   "metadata": {},
   "source": [
    "### 2. Dataset overview"
   ]
  },
  {
   "cell_type": "code",
   "execution_count": 7,
   "metadata": {},
   "outputs": [
    {
     "name": "stdout",
     "output_type": "stream",
     "text": [
      "Index(['review_id', 'user_id', 'business_id', 'stars', 'date', 'text',\n",
      "       'useful', 'funny', 'cool', 'label'],\n",
      "      dtype='object')\n"
     ]
    }
   ],
   "source": [
    "print(df_review.columns)"
   ]
  },
  {
   "cell_type": "code",
   "execution_count": 8,
   "metadata": {},
   "outputs": [
    {
     "name": "stdout",
     "output_type": "stream",
     "text": [
      "Index(['business_id', 'name', 'address', 'city', 'state', 'postal_code',\n",
      "       'latitude', 'longitude', 'stars', 'review_count', 'is_open',\n",
      "       'attributes', 'hours'],\n",
      "      dtype='object')\n"
     ]
    }
   ],
   "source": [
    "print(df_business.columns)"
   ]
  },
  {
   "cell_type": "code",
   "execution_count": 9,
   "metadata": {},
   "outputs": [
    {
     "name": "stdout",
     "output_type": "stream",
     "text": [
      "Index(['business_id', 'category'], dtype='object')\n"
     ]
    }
   ],
   "source": [
    "print(df_categories.columns)"
   ]
  },
  {
   "cell_type": "code",
   "execution_count": 10,
   "metadata": {},
   "outputs": [
    {
     "data": {
      "text/html": [
       "<div>\n",
       "<style scoped>\n",
       "    .dataframe tbody tr th:only-of-type {\n",
       "        vertical-align: middle;\n",
       "    }\n",
       "\n",
       "    .dataframe tbody tr th {\n",
       "        vertical-align: top;\n",
       "    }\n",
       "\n",
       "    .dataframe thead th {\n",
       "        text-align: right;\n",
       "    }\n",
       "</style>\n",
       "<table border=\"1\" class=\"dataframe\">\n",
       "  <thead>\n",
       "    <tr style=\"text-align: right;\">\n",
       "      <th></th>\n",
       "      <th>review_id</th>\n",
       "      <th>user_id</th>\n",
       "      <th>business_id</th>\n",
       "      <th>stars</th>\n",
       "      <th>date</th>\n",
       "      <th>text</th>\n",
       "      <th>useful</th>\n",
       "      <th>funny</th>\n",
       "      <th>cool</th>\n",
       "      <th>label</th>\n",
       "    </tr>\n",
       "  </thead>\n",
       "  <tbody>\n",
       "    <tr>\n",
       "      <th>0</th>\n",
       "      <td>f1MJKwk8Nk2MNxns6-tvfg</td>\n",
       "      <td>BDwy_2vFLT2urUhvNrKDLQ</td>\n",
       "      <td>8yR12PNSMo6FBYx1u5KPlw</td>\n",
       "      <td>4.0</td>\n",
       "      <td>2020-01-21 16:10:04</td>\n",
       "      <td>I know this is a burger spot, but I loooove th...</td>\n",
       "      <td>1</td>\n",
       "      <td>0</td>\n",
       "      <td>0</td>\n",
       "      <td>0</td>\n",
       "    </tr>\n",
       "    <tr>\n",
       "      <th>1</th>\n",
       "      <td>pixVBYRdOuSPoeCSzXYVEg</td>\n",
       "      <td>s8jr65E_xPSW84nh6CG94w</td>\n",
       "      <td>hyFzDuyOWNG2rg5GYJ2wiQ</td>\n",
       "      <td>4.0</td>\n",
       "      <td>2019-04-21 02:44:33</td>\n",
       "      <td>Make a reservation! It's a cute and small spac...</td>\n",
       "      <td>2</td>\n",
       "      <td>0</td>\n",
       "      <td>0</td>\n",
       "      <td>0</td>\n",
       "    </tr>\n",
       "    <tr>\n",
       "      <th>2</th>\n",
       "      <td>yCtvsHB7_TsQ90xt-cXh4Q</td>\n",
       "      <td>uBHAc_FrPUd_1eZZgUrYMw</td>\n",
       "      <td>QU0tsRJw8vabl_tYkN2vqw</td>\n",
       "      <td>5.0</td>\n",
       "      <td>2017-06-04 22:21:07</td>\n",
       "      <td>The revamped theaters look amazing. Love the r...</td>\n",
       "      <td>1</td>\n",
       "      <td>0</td>\n",
       "      <td>0</td>\n",
       "      <td>1</td>\n",
       "    </tr>\n",
       "    <tr>\n",
       "      <th>3</th>\n",
       "      <td>QIJ1WG42Cgbnr3GudPjNmg</td>\n",
       "      <td>DBpcvcKAYaf_JLH4gp_EZA</td>\n",
       "      <td>-1MhPXk1FglglUAmuPLIGg</td>\n",
       "      <td>3.0</td>\n",
       "      <td>2009-08-03 00:02:04</td>\n",
       "      <td>The philly cheese steak was very good and the ...</td>\n",
       "      <td>1</td>\n",
       "      <td>0</td>\n",
       "      <td>1</td>\n",
       "      <td>0</td>\n",
       "    </tr>\n",
       "    <tr>\n",
       "      <th>4</th>\n",
       "      <td>okYXLbzrcRrrcqkaboS6Jw</td>\n",
       "      <td>xxTbaKNocxzsYyUoyxnELA</td>\n",
       "      <td>yPSejq3_erxo9zdVYTBnZA</td>\n",
       "      <td>5.0</td>\n",
       "      <td>2018-05-08 01:59:31</td>\n",
       "      <td>Best Mexican place in Santa Barbara County. I'...</td>\n",
       "      <td>1</td>\n",
       "      <td>0</td>\n",
       "      <td>0</td>\n",
       "      <td>1</td>\n",
       "    </tr>\n",
       "  </tbody>\n",
       "</table>\n",
       "</div>"
      ],
      "text/plain": [
       "                review_id                 user_id             business_id  \\\n",
       "0  f1MJKwk8Nk2MNxns6-tvfg  BDwy_2vFLT2urUhvNrKDLQ  8yR12PNSMo6FBYx1u5KPlw   \n",
       "1  pixVBYRdOuSPoeCSzXYVEg  s8jr65E_xPSW84nh6CG94w  hyFzDuyOWNG2rg5GYJ2wiQ   \n",
       "2  yCtvsHB7_TsQ90xt-cXh4Q  uBHAc_FrPUd_1eZZgUrYMw  QU0tsRJw8vabl_tYkN2vqw   \n",
       "3  QIJ1WG42Cgbnr3GudPjNmg  DBpcvcKAYaf_JLH4gp_EZA  -1MhPXk1FglglUAmuPLIGg   \n",
       "4  okYXLbzrcRrrcqkaboS6Jw  xxTbaKNocxzsYyUoyxnELA  yPSejq3_erxo9zdVYTBnZA   \n",
       "\n",
       "   stars                 date  \\\n",
       "0    4.0  2020-01-21 16:10:04   \n",
       "1    4.0  2019-04-21 02:44:33   \n",
       "2    5.0  2017-06-04 22:21:07   \n",
       "3    3.0  2009-08-03 00:02:04   \n",
       "4    5.0  2018-05-08 01:59:31   \n",
       "\n",
       "                                                text  useful  funny  cool  \\\n",
       "0  I know this is a burger spot, but I loooove th...       1      0     0   \n",
       "1  Make a reservation! It's a cute and small spac...       2      0     0   \n",
       "2  The revamped theaters look amazing. Love the r...       1      0     0   \n",
       "3  The philly cheese steak was very good and the ...       1      0     1   \n",
       "4  Best Mexican place in Santa Barbara County. I'...       1      0     0   \n",
       "\n",
       "   label  \n",
       "0      0  \n",
       "1      0  \n",
       "2      1  \n",
       "3      0  \n",
       "4      1  "
      ]
     },
     "metadata": {},
     "output_type": "display_data"
    }
   ],
   "source": [
    "display(df_review.head(5))"
   ]
  },
  {
   "cell_type": "code",
   "execution_count": 11,
   "metadata": {},
   "outputs": [
    {
     "data": {
      "text/html": [
       "<div>\n",
       "<style scoped>\n",
       "    .dataframe tbody tr th:only-of-type {\n",
       "        vertical-align: middle;\n",
       "    }\n",
       "\n",
       "    .dataframe tbody tr th {\n",
       "        vertical-align: top;\n",
       "    }\n",
       "\n",
       "    .dataframe thead th {\n",
       "        text-align: right;\n",
       "    }\n",
       "</style>\n",
       "<table border=\"1\" class=\"dataframe\">\n",
       "  <thead>\n",
       "    <tr style=\"text-align: right;\">\n",
       "      <th></th>\n",
       "      <th>business_id</th>\n",
       "      <th>name</th>\n",
       "      <th>address</th>\n",
       "      <th>city</th>\n",
       "      <th>state</th>\n",
       "      <th>postal_code</th>\n",
       "      <th>latitude</th>\n",
       "      <th>longitude</th>\n",
       "      <th>stars</th>\n",
       "      <th>review_count</th>\n",
       "      <th>is_open</th>\n",
       "      <th>attributes</th>\n",
       "      <th>hours</th>\n",
       "    </tr>\n",
       "  </thead>\n",
       "  <tbody>\n",
       "    <tr>\n",
       "      <th>0</th>\n",
       "      <td>tUFrWirKiKi_TAnsVWINQQ</td>\n",
       "      <td>Target</td>\n",
       "      <td>5255 E Broadway Blvd</td>\n",
       "      <td>Tucson</td>\n",
       "      <td>AZ</td>\n",
       "      <td>85711</td>\n",
       "      <td>32.223236</td>\n",
       "      <td>-110.880452</td>\n",
       "      <td>3.5</td>\n",
       "      <td>22</td>\n",
       "      <td>0</td>\n",
       "      <td>{'BikeParking': 'True', 'BusinessAcceptsCredit...</td>\n",
       "      <td>{'Monday': '8:0-22:0', 'Tuesday': '8:0-22:0', ...</td>\n",
       "    </tr>\n",
       "    <tr>\n",
       "      <th>1</th>\n",
       "      <td>MTSW4McQd7CbVtyjqoe9mw</td>\n",
       "      <td>St Honore Pastries</td>\n",
       "      <td>935 Race St</td>\n",
       "      <td>Philadelphia</td>\n",
       "      <td>PA</td>\n",
       "      <td>19107</td>\n",
       "      <td>39.955505</td>\n",
       "      <td>-75.155564</td>\n",
       "      <td>4.0</td>\n",
       "      <td>80</td>\n",
       "      <td>1</td>\n",
       "      <td>{'RestaurantsDelivery': 'False', 'OutdoorSeati...</td>\n",
       "      <td>{'Monday': '7:0-20:0', 'Tuesday': '7:0-20:0', ...</td>\n",
       "    </tr>\n",
       "    <tr>\n",
       "      <th>2</th>\n",
       "      <td>UJsufbvfyfONHeWdvAHKjA</td>\n",
       "      <td>Marshalls</td>\n",
       "      <td>21705 Village Lakes Sc Dr</td>\n",
       "      <td>Land O' Lakes</td>\n",
       "      <td>FL</td>\n",
       "      <td>34639</td>\n",
       "      <td>28.190459</td>\n",
       "      <td>-82.457380</td>\n",
       "      <td>3.5</td>\n",
       "      <td>6</td>\n",
       "      <td>1</td>\n",
       "      <td>{'RestaurantsPriceRange2': '2', 'BikeParking':...</td>\n",
       "      <td>{'Monday': '9:30-21:30', 'Tuesday': '9:30-21:3...</td>\n",
       "    </tr>\n",
       "    <tr>\n",
       "      <th>3</th>\n",
       "      <td>il_Ro8jwPlHresjw9EGmBg</td>\n",
       "      <td>Denny's</td>\n",
       "      <td>8901 US 31 S</td>\n",
       "      <td>Indianapolis</td>\n",
       "      <td>IN</td>\n",
       "      <td>46227</td>\n",
       "      <td>39.637133</td>\n",
       "      <td>-86.127217</td>\n",
       "      <td>2.5</td>\n",
       "      <td>28</td>\n",
       "      <td>1</td>\n",
       "      <td>{'RestaurantsReservations': 'False', 'Restaura...</td>\n",
       "      <td>{'Monday': '6:0-22:0', 'Tuesday': '6:0-22:0', ...</td>\n",
       "    </tr>\n",
       "    <tr>\n",
       "      <th>4</th>\n",
       "      <td>0bPLkL0QhhPO5kt1_EXmNQ</td>\n",
       "      <td>Zio's Italian Market</td>\n",
       "      <td>2575 E Bay Dr</td>\n",
       "      <td>Largo</td>\n",
       "      <td>FL</td>\n",
       "      <td>33771</td>\n",
       "      <td>27.916116</td>\n",
       "      <td>-82.760461</td>\n",
       "      <td>4.5</td>\n",
       "      <td>100</td>\n",
       "      <td>0</td>\n",
       "      <td>{'OutdoorSeating': 'False', 'RestaurantsGoodFo...</td>\n",
       "      <td>{'Monday': '10:0-18:0', 'Tuesday': '10:0-20:0'...</td>\n",
       "    </tr>\n",
       "  </tbody>\n",
       "</table>\n",
       "</div>"
      ],
      "text/plain": [
       "              business_id                  name                    address  \\\n",
       "0  tUFrWirKiKi_TAnsVWINQQ                Target       5255 E Broadway Blvd   \n",
       "1  MTSW4McQd7CbVtyjqoe9mw    St Honore Pastries                935 Race St   \n",
       "2  UJsufbvfyfONHeWdvAHKjA             Marshalls  21705 Village Lakes Sc Dr   \n",
       "3  il_Ro8jwPlHresjw9EGmBg               Denny's               8901 US 31 S   \n",
       "4  0bPLkL0QhhPO5kt1_EXmNQ  Zio's Italian Market              2575 E Bay Dr   \n",
       "\n",
       "            city state postal_code   latitude   longitude  stars  \\\n",
       "0         Tucson    AZ       85711  32.223236 -110.880452    3.5   \n",
       "1   Philadelphia    PA       19107  39.955505  -75.155564    4.0   \n",
       "2  Land O' Lakes    FL       34639  28.190459  -82.457380    3.5   \n",
       "3   Indianapolis    IN       46227  39.637133  -86.127217    2.5   \n",
       "4          Largo    FL       33771  27.916116  -82.760461    4.5   \n",
       "\n",
       "   review_count  is_open                                         attributes  \\\n",
       "0            22        0  {'BikeParking': 'True', 'BusinessAcceptsCredit...   \n",
       "1            80        1  {'RestaurantsDelivery': 'False', 'OutdoorSeati...   \n",
       "2             6        1  {'RestaurantsPriceRange2': '2', 'BikeParking':...   \n",
       "3            28        1  {'RestaurantsReservations': 'False', 'Restaura...   \n",
       "4           100        0  {'OutdoorSeating': 'False', 'RestaurantsGoodFo...   \n",
       "\n",
       "                                               hours  \n",
       "0  {'Monday': '8:0-22:0', 'Tuesday': '8:0-22:0', ...  \n",
       "1  {'Monday': '7:0-20:0', 'Tuesday': '7:0-20:0', ...  \n",
       "2  {'Monday': '9:30-21:30', 'Tuesday': '9:30-21:3...  \n",
       "3  {'Monday': '6:0-22:0', 'Tuesday': '6:0-22:0', ...  \n",
       "4  {'Monday': '10:0-18:0', 'Tuesday': '10:0-20:0'...  "
      ]
     },
     "metadata": {},
     "output_type": "display_data"
    }
   ],
   "source": [
    "display(df_business.head(5))"
   ]
  },
  {
   "cell_type": "code",
   "execution_count": 12,
   "metadata": {},
   "outputs": [
    {
     "data": {
      "text/html": [
       "<div>\n",
       "<style scoped>\n",
       "    .dataframe tbody tr th:only-of-type {\n",
       "        vertical-align: middle;\n",
       "    }\n",
       "\n",
       "    .dataframe tbody tr th {\n",
       "        vertical-align: top;\n",
       "    }\n",
       "\n",
       "    .dataframe thead th {\n",
       "        text-align: right;\n",
       "    }\n",
       "</style>\n",
       "<table border=\"1\" class=\"dataframe\">\n",
       "  <thead>\n",
       "    <tr style=\"text-align: right;\">\n",
       "      <th></th>\n",
       "      <th>business_id</th>\n",
       "      <th>category</th>\n",
       "    </tr>\n",
       "  </thead>\n",
       "  <tbody>\n",
       "    <tr>\n",
       "      <th>0</th>\n",
       "      <td>tUFrWirKiKi_TAnsVWINQQ</td>\n",
       "      <td>Department Stores</td>\n",
       "    </tr>\n",
       "    <tr>\n",
       "      <th>1</th>\n",
       "      <td>tUFrWirKiKi_TAnsVWINQQ</td>\n",
       "      <td>Shopping</td>\n",
       "    </tr>\n",
       "    <tr>\n",
       "      <th>2</th>\n",
       "      <td>tUFrWirKiKi_TAnsVWINQQ</td>\n",
       "      <td>Fashion</td>\n",
       "    </tr>\n",
       "    <tr>\n",
       "      <th>3</th>\n",
       "      <td>tUFrWirKiKi_TAnsVWINQQ</td>\n",
       "      <td>Home &amp; Garden</td>\n",
       "    </tr>\n",
       "    <tr>\n",
       "      <th>4</th>\n",
       "      <td>tUFrWirKiKi_TAnsVWINQQ</td>\n",
       "      <td>Electronics</td>\n",
       "    </tr>\n",
       "  </tbody>\n",
       "</table>\n",
       "</div>"
      ],
      "text/plain": [
       "              business_id           category\n",
       "0  tUFrWirKiKi_TAnsVWINQQ  Department Stores\n",
       "1  tUFrWirKiKi_TAnsVWINQQ           Shopping\n",
       "2  tUFrWirKiKi_TAnsVWINQQ            Fashion\n",
       "3  tUFrWirKiKi_TAnsVWINQQ      Home & Garden\n",
       "4  tUFrWirKiKi_TAnsVWINQQ        Electronics"
      ]
     },
     "metadata": {},
     "output_type": "display_data"
    }
   ],
   "source": [
    "display(df_categories.head(5))"
   ]
  },
  {
   "cell_type": "code",
   "execution_count": null,
   "metadata": {},
   "outputs": [
    {
     "data": {
      "text/plain": [
       "<Axes: >"
      ]
     },
     "execution_count": 13,
     "metadata": {},
     "output_type": "execute_result"
    },
    {
     "data": {
      "image/png": "[encoded data removed]",
      "text/plain": [
       "<Figure size 640x480 with 1 Axes>"
      ]
     },
     "metadata": {},
     "output_type": "display_data"
    }
   ],
   "source": [
    "# find rows in df_categories that have the same business_id\n",
    "df_categories = df_categories.groupby('business_id')['category'].apply(list).reset_index(name='categories') \n",
    "# limit the number of categories to 5\n",
    "df_categories['categories'] = df_categories['categories'].apply(lambda x: x[:5] if len(x) > 5 else x)\n",
    "# fill the missing values with 'None'\n",
    "df_categories['categories'] = df_categories['categories'].apply(lambda x: x + ['None']*(5-len(x)))"
   ]
  },
  {
   "cell_type": "code",
   "execution_count": null,
   "metadata": {},
   "outputs": [],
   "source": [
    "# Clean and truncate\n",
    "def clean_categories(cat_list):\n",
    "    cleaned = [cat for cat in cat_list if cat != \"None\"][:5]  # Remove None, take first 5\n",
    "    return cleaned + [0] * (5 - len(cleaned))  # Pad with 0\n",
    "\n",
    "df_categories[\"categories\"] = df_categories[\"categories\"].apply(clean_categories)"
   ]
  },
  {
   "cell_type": "code",
   "execution_count": null,
   "metadata": {},
   "outputs": [
    {
     "name": "stdout",
     "output_type": "stream",
     "text": [
      "                  business_id                     encoded\n",
      "0      --30_8IhuyMHbSOcNWd6DQ    [1131, 7, 427, 621, 681]\n",
      "1      --7PUidqRWpRSpXebiyxTg   [154, 951, 753, 753, 753]\n",
      "2      --8IbOsAAxjKRoYsBFL-PA   [438, 951, 607, 753, 753]\n",
      "3      --FcbSxK1AoEtEAxOgBaCw    [199, 81, 753, 753, 753]\n",
      "4      --N9yp3ZWqQIm7DqKRvorg     [81, 78, 77, 1116, 766]\n",
      "...                       ...                         ...\n",
      "78027  zzXDi0Pdv0s84M-oQaIa_g    [528, 638, 735, 804, 62]\n",
      "78028  zzbZtgPYZS8sTIWQH6DwEw    [438, 31, 752, 951, 110]\n",
      "78029  zzjFdJwXuxBOGe9JeY_EMw   [205, 951, 753, 753, 753]\n",
      "78030  zznJox6-nmXlGYNWgTDwQQ   [438, 951, 246, 342, 753]\n",
      "78031  zztOG2cKm87I6Iw_tleZsQ  [1107, 1041, 12, 362, 753]\n",
      "\n",
      "[78032 rows x 2 columns]\n"
     ]
    }
   ],
   "source": [
    "'''\n",
    "from sklearn.preprocessing import LabelEncoder\n",
    "# Build vocabulary and encode\n",
    "all_categories = set()\n",
    "df_categories[\"categories\"].apply(lambda x: [all_categories.add(cat) for cat in x if cat != 0])\n",
    "le = LabelEncoder()\n",
    "le.fit(list(all_categories))\n",
    "\n",
    "# Convert to indices\n",
    "df_categories[\"encoded\"] = df_categories[\"categories\"].apply(lambda x: [le.transform([cat])[0] if cat != 0 else 0 for cat in x])\n",
    "\n",
    "df_categories_encoded = df_categories[[\"business_id\", \"encoded\"]]\n",
    "# split the encoded categories into 5 columns\n",
    "df_categories_encoded = pd.concat([df_categories_encoded[\"business_id\"], df_categories_encoded[\"encoded\"].apply(lambda x: pd.Series(x))], axis=1)\n",
    "df_categories_encoded.columns = [\"business_id\", \"category1\", \"category2\", \"category3\", \"category4\", \"category5\"]\n",
    "\n",
    "# 8 min run time\n",
    "'''"
   ]
  },
  {
   "cell_type": "code",
   "execution_count": null,
   "metadata": {},
   "outputs": [],
   "source": [
    "# df_categories_encoded.to_csv(\"encoded_categories.csv\", index=False)"
   ]
  },
  {
   "cell_type": "code",
   "execution_count": 12,
   "metadata": {},
   "outputs": [],
   "source": [
    "df_categories_encoded = pd.read_csv(\"encoded_categories.csv\")\n",
    "\n",
    "df_business = df_business.merge(df_categories_encoded, on=\"business_id\", how=\"left\")\n"
   ]
  },
  {
   "cell_type": "markdown",
   "metadata": {},
   "source": [
    "## 2. Correlation Analysis"
   ]
  },
  {
   "cell_type": "code",
   "execution_count": 14,
   "metadata": {},
   "outputs": [],
   "source": [
    "df_business = df_business.rename(columns={'stars': 'business_stars'})\n",
    "df_review = df_review.rename(columns={'stars': 'review_stars'})\n",
    "df_review_merged = df_review.merge(df_business, on='business_id', how='left')"
   ]
  },
  {
   "cell_type": "code",
   "execution_count": 16,
   "metadata": {},
   "outputs": [],
   "source": [
    "continuous_columns = ['review_stars', 'useful', 'funny', 'cool', 'latitude', 'longitude', \n",
    "                      'business_stars', 'review_count']"
   ]
  },
  {
   "cell_type": "code",
   "execution_count": 17,
   "metadata": {},
   "outputs": [
    {
     "name": "stdout",
     "output_type": "stream",
     "text": [
      "Correlation Analysis Results:\n",
      "-----------------------------\n",
      "review_stars:\n",
      "  Correlation = 0.749\n",
      "  p-value = 0.000\n",
      "\n",
      "useful:\n",
      "  Correlation = -0.020\n",
      "  p-value = 0.000\n",
      "\n",
      "funny:\n",
      "  Correlation = -0.028\n",
      "  p-value = 0.000\n",
      "\n",
      "cool:\n",
      "  Correlation = 0.040\n",
      "  p-value = 0.000\n",
      "\n",
      "latitude:\n",
      "  Correlation = -0.039\n",
      "  p-value = 0.000\n",
      "\n",
      "longitude:\n",
      "  Correlation = -0.038\n",
      "  p-value = 0.000\n",
      "\n",
      "business_stars:\n",
      "  Correlation = 0.320\n",
      "  p-value = 0.000\n",
      "\n",
      "review_count:\n",
      "  Correlation = 0.025\n",
      "  p-value = 0.000\n",
      "\n"
     ]
    }
   ],
   "source": [
    "# Calculate point-biserial correlation for each feature\n",
    "correlations = {}\n",
    "for feature in continuous_columns:\n",
    "    # Drop any rows with missing values in the feature or label to avoid errors\n",
    "    valid_data = df_review_merged[[feature, 'label']].dropna()\n",
    "    corr, p_value = pointbiserialr(valid_data[feature], valid_data['label'])\n",
    "    correlations[feature] = {'correlation': corr, 'p_value': p_value}\n",
    "\n",
    "# Display the results\n",
    "print(\"Correlation Analysis Results:\")\n",
    "print(\"-----------------------------\")\n",
    "for feature, stats in correlations.items():\n",
    "    print(f\"{feature}:\")\n",
    "    print(f\"  Correlation = {stats['correlation']:.3f}\")\n",
    "    print(f\"  p-value = {stats['p_value']:.3f}\")\n",
    "    print()"
   ]
  },
  {
   "cell_type": "markdown",
   "metadata": {},
   "source": [
    "## 3. PCA"
   ]
  },
  {
   "cell_type": "code",
   "execution_count": 24,
   "metadata": {},
   "outputs": [],
   "source": [
    "features = ['review_stars', 'useful', 'funny', 'cool', 'latitude', 'longitude', \n",
    "                      'business_stars', 'review_count', 'category1', 'category2', 'category3', 'category4', 'category5']"
   ]
  },
  {
   "cell_type": "code",
   "execution_count": 25,
   "metadata": {},
   "outputs": [
    {
     "name": "stdout",
     "output_type": "stream",
     "text": [
      "[0.1882831  0.11541436 0.08669678 0.07925921 0.07806369 0.07678428\n",
      " 0.07613937 0.07479296 0.07395987 0.06554859 0.04329215 0.03122918\n",
      " 0.01053646]\n"
     ]
    }
   ],
   "source": [
    "X = df_review_merged[features]\n",
    "# fill missing values with 0\n",
    "X = X.fillna(0)\n",
    "# Standardize the data\n",
    "scaler = StandardScaler()\n",
    "X_scaled = scaler.fit_transform(X)\n",
    "\n",
    "# Apply PCA\n",
    "pca = PCA()\n",
    "X_pca = pca.fit_transform(X_scaled)\n",
    "\n",
    "# Check explained variance ratio\n",
    "print(pca.explained_variance_ratio_)"
   ]
  },
  {
   "cell_type": "code",
   "execution_count": 26,
   "metadata": {},
   "outputs": [
    {
     "data": {
      "image/png": "[encoded data removed]",
      "text/plain": [
       "<Figure size 640x480 with 1 Axes>"
      ]
     },
     "metadata": {},
     "output_type": "display_data"
    },
    {
     "name": "stdout",
     "output_type": "stream",
     "text": [
      "Number of components explaining 90% of variance: 10\n"
     ]
    }
   ],
   "source": [
    "import matplotlib.pyplot as plt\n",
    "cumulative_variance = pca.explained_variance_ratio_.cumsum()\n",
    "plt.plot(range(1, len(cumulative_variance) + 1), cumulative_variance)\n",
    "plt.axhline(y=0.9, color='r', linestyle='--', label='90% Variance')\n",
    "plt.xlabel('Number of Components')\n",
    "plt.ylabel('Cumulative Explained Variance')\n",
    "plt.show()\n",
    "# print the number of components that explain 90% of the variance\n",
    "n_components = (cumulative_variance < 0.9).sum() + 1\n",
    "print(f\"Number of components explaining 90% of variance: {n_components}\")"
   ]
  },
  {
   "cell_type": "code",
   "execution_count": 27,
   "metadata": {},
   "outputs": [],
   "source": [
    "# Choose the number of components\n",
    "n_components = n_components  # Change this value\n",
    "pca = PCA(n_components=n_components)\n",
    "X_pca_reduced = pca.fit_transform(X_scaled)\n",
    "\n",
    "# Convert to DataFrame for easier handling\n",
    "new_feature_names = [f'PC{i+1}' for i in range(n_components)]\n",
    "X_pca_df = pd.DataFrame(X_pca_reduced, columns=new_feature_names)\n"
   ]
  },
  {
   "cell_type": "code",
   "execution_count": 29,
   "metadata": {},
   "outputs": [
    {
     "name": "stdout",
     "output_type": "stream",
     "text": [
      "Feature Loadings for Each Principal Component:\n",
      "                     PC1       PC2       PC3       PC4       PC5       PC6  \\\n",
      "review_stars    0.016391  0.637303 -0.239203  0.086776  0.081681 -0.031087   \n",
      "useful          0.590545 -0.045756  0.006725 -0.005197  0.008114  0.006045   \n",
      "funny           0.537834 -0.046140  0.042402 -0.025728 -0.003387  0.017280   \n",
      "cool            0.599924  0.047832 -0.005703  0.005570  0.008373  0.001377   \n",
      "latitude       -0.005954 -0.158522 -0.327743  0.547183  0.449817  0.095688   \n",
      "longitude      -0.028441 -0.019646  0.224061 -0.491151  0.162547  0.292359   \n",
      "business_stars  0.025226  0.669670 -0.149749  0.037259  0.039045 -0.001971   \n",
      "review_count   -0.015617  0.328837  0.538276 -0.060612 -0.128338  0.024255   \n",
      "category1      -0.002903  0.010198 -0.229945  0.030045 -0.384848  0.701899   \n",
      "category2      -0.007203  0.036374  0.071690 -0.307402  0.694680 -0.043227   \n",
      "category3      -0.000590  0.024180 -0.169408 -0.210979  0.283749  0.536197   \n",
      "category4       0.002374 -0.047209 -0.442830 -0.412050 -0.115854 -0.136706   \n",
      "category5       0.004678 -0.031420 -0.433948 -0.369260 -0.147663 -0.320541   \n",
      "\n",
      "                     PC7       PC8       PC9      PC10  \n",
      "review_stars   -0.079392  0.099222  0.068260 -0.209265  \n",
      "useful         -0.004895  0.000859 -0.002126  0.003294  \n",
      "funny          -0.003110  0.009387  0.003031  0.038397  \n",
      "cool           -0.010756  0.007801  0.006253 -0.012709  \n",
      "latitude       -0.177567  0.263211  0.126428  0.489520  \n",
      "longitude      -0.393277  0.606187  0.264237 -0.051279  \n",
      "business_stars -0.039616  0.037296  0.025993 -0.011138  \n",
      "review_count    0.112451 -0.063255 -0.029650  0.732593  \n",
      "category1      -0.394410 -0.252704 -0.274828  0.096409  \n",
      "category2      -0.281224 -0.479594 -0.323862  0.013138  \n",
      "category3       0.744878  0.049530 -0.015837  0.012611  \n",
      "category4      -0.042530 -0.348858  0.624272  0.293247  \n",
      "category5       0.042873  0.360340 -0.580986  0.282605  \n"
     ]
    }
   ],
   "source": [
    "loadings = pd.DataFrame(pca.components_.T, columns=new_feature_names, index=features)\n",
    "print(\"Feature Loadings for Each Principal Component:\")\n",
    "print(loadings)"
   ]
  },
  {
   "cell_type": "code",
   "execution_count": 30,
   "metadata": {},
   "outputs": [
    {
     "name": "stdout",
     "output_type": "stream",
     "text": [
      "Total variance explained by 10 components: 0.915\n"
     ]
    }
   ],
   "source": [
    "explained_variance = pca.explained_variance_ratio_.sum()\n",
    "print(f\"Total variance explained by {n_components} components: {explained_variance:.3f}\")"
   ]
  },
  {
   "cell_type": "code",
   "execution_count": 31,
   "metadata": {},
   "outputs": [
    {
     "data": {
      "text/html": [
       "<div>\n",
       "<style scoped>\n",
       "    .dataframe tbody tr th:only-of-type {\n",
       "        vertical-align: middle;\n",
       "    }\n",
       "\n",
       "    .dataframe tbody tr th {\n",
       "        vertical-align: top;\n",
       "    }\n",
       "\n",
       "    .dataframe thead th {\n",
       "        text-align: right;\n",
       "    }\n",
       "</style>\n",
       "<table border=\"1\" class=\"dataframe\">\n",
       "  <thead>\n",
       "    <tr style=\"text-align: right;\">\n",
       "      <th></th>\n",
       "      <th>review_id</th>\n",
       "      <th>user_id</th>\n",
       "      <th>business_id</th>\n",
       "      <th>label</th>\n",
       "      <th>PC1</th>\n",
       "      <th>PC2</th>\n",
       "      <th>PC3</th>\n",
       "      <th>PC4</th>\n",
       "      <th>PC5</th>\n",
       "      <th>PC6</th>\n",
       "      <th>PC7</th>\n",
       "      <th>PC8</th>\n",
       "      <th>PC9</th>\n",
       "      <th>PC10</th>\n",
       "    </tr>\n",
       "  </thead>\n",
       "  <tbody>\n",
       "    <tr>\n",
       "      <th>0</th>\n",
       "      <td>f1MJKwk8Nk2MNxns6-tvfg</td>\n",
       "      <td>BDwy_2vFLT2urUhvNrKDLQ</td>\n",
       "      <td>8yR12PNSMo6FBYx1u5KPlw</td>\n",
       "      <td>0</td>\n",
       "      <td>-0.431539</td>\n",
       "      <td>0.763346</td>\n",
       "      <td>0.817149</td>\n",
       "      <td>0.719140</td>\n",
       "      <td>-0.877770</td>\n",
       "      <td>0.034381</td>\n",
       "      <td>-1.346752</td>\n",
       "      <td>0.343704</td>\n",
       "      <td>-0.602178</td>\n",
       "      <td>1.663416</td>\n",
       "    </tr>\n",
       "    <tr>\n",
       "      <th>1</th>\n",
       "      <td>pixVBYRdOuSPoeCSzXYVEg</td>\n",
       "      <td>s8jr65E_xPSW84nh6CG94w</td>\n",
       "      <td>hyFzDuyOWNG2rg5GYJ2wiQ</td>\n",
       "      <td>0</td>\n",
       "      <td>-0.241327</td>\n",
       "      <td>0.470332</td>\n",
       "      <td>-1.097537</td>\n",
       "      <td>-0.900867</td>\n",
       "      <td>0.577983</td>\n",
       "      <td>-0.700983</td>\n",
       "      <td>-2.188862</td>\n",
       "      <td>0.095024</td>\n",
       "      <td>-0.138509</td>\n",
       "      <td>0.672593</td>\n",
       "    </tr>\n",
       "    <tr>\n",
       "      <th>2</th>\n",
       "      <td>yCtvsHB7_TsQ90xt-cXh4Q</td>\n",
       "      <td>uBHAc_FrPUd_1eZZgUrYMw</td>\n",
       "      <td>QU0tsRJw8vabl_tYkN2vqw</td>\n",
       "      <td>1</td>\n",
       "      <td>-0.432480</td>\n",
       "      <td>-0.539306</td>\n",
       "      <td>-0.392341</td>\n",
       "      <td>-0.147941</td>\n",
       "      <td>0.470105</td>\n",
       "      <td>-0.611131</td>\n",
       "      <td>0.588128</td>\n",
       "      <td>1.673249</td>\n",
       "      <td>1.134496</td>\n",
       "      <td>-0.016001</td>\n",
       "    </tr>\n",
       "    <tr>\n",
       "      <th>3</th>\n",
       "      <td>QIJ1WG42Cgbnr3GudPjNmg</td>\n",
       "      <td>DBpcvcKAYaf_JLH4gp_EZA</td>\n",
       "      <td>-1MhPXk1FglglUAmuPLIGg</td>\n",
       "      <td>0</td>\n",
       "      <td>-0.139098</td>\n",
       "      <td>-0.143659</td>\n",
       "      <td>-0.361847</td>\n",
       "      <td>0.709454</td>\n",
       "      <td>-1.148034</td>\n",
       "      <td>0.408093</td>\n",
       "      <td>1.933017</td>\n",
       "      <td>0.281664</td>\n",
       "      <td>-1.872217</td>\n",
       "      <td>-0.578786</td>\n",
       "    </tr>\n",
       "    <tr>\n",
       "      <th>4</th>\n",
       "      <td>okYXLbzrcRrrcqkaboS6Jw</td>\n",
       "      <td>xxTbaKNocxzsYyUoyxnELA</td>\n",
       "      <td>yPSejq3_erxo9zdVYTBnZA</td>\n",
       "      <td>1</td>\n",
       "      <td>-0.386156</td>\n",
       "      <td>3.109361</td>\n",
       "      <td>1.629911</td>\n",
       "      <td>-0.003479</td>\n",
       "      <td>-0.471975</td>\n",
       "      <td>-0.337822</td>\n",
       "      <td>1.290314</td>\n",
       "      <td>-2.117609</td>\n",
       "      <td>-1.030743</td>\n",
       "      <td>3.830537</td>\n",
       "    </tr>\n",
       "    <tr>\n",
       "      <th>...</th>\n",
       "      <td>...</td>\n",
       "      <td>...</td>\n",
       "      <td>...</td>\n",
       "      <td>...</td>\n",
       "      <td>...</td>\n",
       "      <td>...</td>\n",
       "      <td>...</td>\n",
       "      <td>...</td>\n",
       "      <td>...</td>\n",
       "      <td>...</td>\n",
       "      <td>...</td>\n",
       "      <td>...</td>\n",
       "      <td>...</td>\n",
       "      <td>...</td>\n",
       "    </tr>\n",
       "    <tr>\n",
       "      <th>980413</th>\n",
       "      <td>mTh3f9I5yBt7kJcu-JmNvQ</td>\n",
       "      <td>x-aHM9y-vc5l2-XK4G6z1A</td>\n",
       "      <td>BEMSDLPP630Fpdw_QpqLVA</td>\n",
       "      <td>0</td>\n",
       "      <td>-0.553349</td>\n",
       "      <td>0.448982</td>\n",
       "      <td>0.986325</td>\n",
       "      <td>-0.474966</td>\n",
       "      <td>-1.073240</td>\n",
       "      <td>-0.992646</td>\n",
       "      <td>-0.446646</td>\n",
       "      <td>-0.447169</td>\n",
       "      <td>1.843111</td>\n",
       "      <td>-1.020768</td>\n",
       "    </tr>\n",
       "    <tr>\n",
       "      <th>980414</th>\n",
       "      <td>rjQjXnKNLT7QtqQKtsdsJg</td>\n",
       "      <td>XUpSR1CTDuAz0ZqYM1Y4jA</td>\n",
       "      <td>fOhnSqmO4XY5vSI8whVKSA</td>\n",
       "      <td>0</td>\n",
       "      <td>-0.436873</td>\n",
       "      <td>-0.053886</td>\n",
       "      <td>0.562270</td>\n",
       "      <td>0.020925</td>\n",
       "      <td>-0.313159</td>\n",
       "      <td>-0.498450</td>\n",
       "      <td>0.845112</td>\n",
       "      <td>2.231207</td>\n",
       "      <td>0.168371</td>\n",
       "      <td>1.232003</td>\n",
       "    </tr>\n",
       "    <tr>\n",
       "      <th>980415</th>\n",
       "      <td>Tlk60w0gqPWAei1vNz2SQg</td>\n",
       "      <td>bWmmKhZeu3aI6iFBjkP-Ag</td>\n",
       "      <td>RJehYyeYwaU3SsscuZP2cA</td>\n",
       "      <td>1</td>\n",
       "      <td>-0.096450</td>\n",
       "      <td>1.105444</td>\n",
       "      <td>-1.071721</td>\n",
       "      <td>1.758680</td>\n",
       "      <td>0.037884</td>\n",
       "      <td>-0.715158</td>\n",
       "      <td>-0.222526</td>\n",
       "      <td>-1.398146</td>\n",
       "      <td>-0.237497</td>\n",
       "      <td>-0.183010</td>\n",
       "    </tr>\n",
       "    <tr>\n",
       "      <th>980416</th>\n",
       "      <td>kuUsTxYTYdrO9Imh3brzHQ</td>\n",
       "      <td>Kc7IwXLrJVqAVMkX6pxWbA</td>\n",
       "      <td>i7k-gVxU5Jjca3MCNSL4Sw</td>\n",
       "      <td>0</td>\n",
       "      <td>0.947242</td>\n",
       "      <td>-1.711070</td>\n",
       "      <td>1.445805</td>\n",
       "      <td>-0.784682</td>\n",
       "      <td>-0.565308</td>\n",
       "      <td>-0.267285</td>\n",
       "      <td>1.236924</td>\n",
       "      <td>-0.446019</td>\n",
       "      <td>2.219202</td>\n",
       "      <td>-1.135708</td>\n",
       "    </tr>\n",
       "    <tr>\n",
       "      <th>980417</th>\n",
       "      <td>5RSkQpctcinv77VKyXgh2Q</td>\n",
       "      <td>lHqA_D7nAK9xw_Xg08dM_w</td>\n",
       "      <td>g7-sn0P60uwbOJejnoRIQA</td>\n",
       "      <td>0</td>\n",
       "      <td>-0.115755</td>\n",
       "      <td>0.899154</td>\n",
       "      <td>0.221126</td>\n",
       "      <td>1.641153</td>\n",
       "      <td>-0.646924</td>\n",
       "      <td>1.415572</td>\n",
       "      <td>2.128846</td>\n",
       "      <td>-0.379786</td>\n",
       "      <td>-0.362730</td>\n",
       "      <td>-1.516750</td>\n",
       "    </tr>\n",
       "  </tbody>\n",
       "</table>\n",
       "<p>980418 rows × 14 columns</p>\n",
       "</div>"
      ],
      "text/plain": [
       "                     review_id                 user_id  \\\n",
       "0       f1MJKwk8Nk2MNxns6-tvfg  BDwy_2vFLT2urUhvNrKDLQ   \n",
       "1       pixVBYRdOuSPoeCSzXYVEg  s8jr65E_xPSW84nh6CG94w   \n",
       "2       yCtvsHB7_TsQ90xt-cXh4Q  uBHAc_FrPUd_1eZZgUrYMw   \n",
       "3       QIJ1WG42Cgbnr3GudPjNmg  DBpcvcKAYaf_JLH4gp_EZA   \n",
       "4       okYXLbzrcRrrcqkaboS6Jw  xxTbaKNocxzsYyUoyxnELA   \n",
       "...                        ...                     ...   \n",
       "980413  mTh3f9I5yBt7kJcu-JmNvQ  x-aHM9y-vc5l2-XK4G6z1A   \n",
       "980414  rjQjXnKNLT7QtqQKtsdsJg  XUpSR1CTDuAz0ZqYM1Y4jA   \n",
       "980415  Tlk60w0gqPWAei1vNz2SQg  bWmmKhZeu3aI6iFBjkP-Ag   \n",
       "980416  kuUsTxYTYdrO9Imh3brzHQ  Kc7IwXLrJVqAVMkX6pxWbA   \n",
       "980417  5RSkQpctcinv77VKyXgh2Q  lHqA_D7nAK9xw_Xg08dM_w   \n",
       "\n",
       "                   business_id  label       PC1       PC2       PC3       PC4  \\\n",
       "0       8yR12PNSMo6FBYx1u5KPlw      0 -0.431539  0.763346  0.817149  0.719140   \n",
       "1       hyFzDuyOWNG2rg5GYJ2wiQ      0 -0.241327  0.470332 -1.097537 -0.900867   \n",
       "2       QU0tsRJw8vabl_tYkN2vqw      1 -0.432480 -0.539306 -0.392341 -0.147941   \n",
       "3       -1MhPXk1FglglUAmuPLIGg      0 -0.139098 -0.143659 -0.361847  0.709454   \n",
       "4       yPSejq3_erxo9zdVYTBnZA      1 -0.386156  3.109361  1.629911 -0.003479   \n",
       "...                        ...    ...       ...       ...       ...       ...   \n",
       "980413  BEMSDLPP630Fpdw_QpqLVA      0 -0.553349  0.448982  0.986325 -0.474966   \n",
       "980414  fOhnSqmO4XY5vSI8whVKSA      0 -0.436873 -0.053886  0.562270  0.020925   \n",
       "980415  RJehYyeYwaU3SsscuZP2cA      1 -0.096450  1.105444 -1.071721  1.758680   \n",
       "980416  i7k-gVxU5Jjca3MCNSL4Sw      0  0.947242 -1.711070  1.445805 -0.784682   \n",
       "980417  g7-sn0P60uwbOJejnoRIQA      0 -0.115755  0.899154  0.221126  1.641153   \n",
       "\n",
       "             PC5       PC6       PC7       PC8       PC9      PC10  \n",
       "0      -0.877770  0.034381 -1.346752  0.343704 -0.602178  1.663416  \n",
       "1       0.577983 -0.700983 -2.188862  0.095024 -0.138509  0.672593  \n",
       "2       0.470105 -0.611131  0.588128  1.673249  1.134496 -0.016001  \n",
       "3      -1.148034  0.408093  1.933017  0.281664 -1.872217 -0.578786  \n",
       "4      -0.471975 -0.337822  1.290314 -2.117609 -1.030743  3.830537  \n",
       "...          ...       ...       ...       ...       ...       ...  \n",
       "980413 -1.073240 -0.992646 -0.446646 -0.447169  1.843111 -1.020768  \n",
       "980414 -0.313159 -0.498450  0.845112  2.231207  0.168371  1.232003  \n",
       "980415  0.037884 -0.715158 -0.222526 -1.398146 -0.237497 -0.183010  \n",
       "980416 -0.565308 -0.267285  1.236924 -0.446019  2.219202 -1.135708  \n",
       "980417 -0.646924  1.415572  2.128846 -0.379786 -0.362730 -1.516750  \n",
       "\n",
       "[980418 rows x 14 columns]"
      ]
     },
     "execution_count": 31,
     "metadata": {},
     "output_type": "execute_result"
    }
   ],
   "source": [
    "df_review_reduced = pd.concat([df_review_merged[['review_id', 'user_id', 'business_id', 'label']], X_pca_df], axis=1)\n",
    "df_review_reduced"
   ]
  },
  {
   "cell_type": "code",
   "execution_count": 32,
   "metadata": {},
   "outputs": [],
   "source": [
    "# export the reduced data to csv\n",
    "df_review_reduced.to_csv(\"reduced_review_data.csv\", index=False)"
   ]
  },
  {
   "cell_type": "code",
   "execution_count": 2,
   "metadata": {},
   "outputs": [],
   "source": [
    "df_review_reduced = pd.read_csv(\"reduced_review_data.csv\")\n",
    "X_pca_reduced = df_review_reduced.drop(columns=['review_id', 'user_id', 'business_id', 'label']).values"
   ]
  },
  {
   "cell_type": "markdown",
   "metadata": {},
   "source": [
    "## 4. Clustering - HDBSCAN"
   ]
  },
  {
   "cell_type": "code",
   "execution_count": 6,
   "metadata": {},
   "outputs": [],
   "source": [
    "# Optimize memory usage\n",
    "X_pca_reduced = X_pca_reduced.astype(np.float32)\n",
    "\n",
    "# New parameter settings\n",
    "hdbscan = HDBSCAN(\n",
    "    min_cluster_size=5,      # Minimum cluster size\n",
    "    min_samples=5,           # Lowered to reduce noise\n",
    "    cluster_selection_epsilon=0.3,  # Merge clusters closer than 0.5\n",
    "    metric='euclidean'\n",
    ")\n",
    "\n",
    "cluster_labels = hdbscan.fit_predict(X_pca_reduced)\n",
    "df_review_reduced['cluster'] = cluster_labels\n"
   ]
  },
  {
   "cell_type": "code",
   "execution_count": 7,
   "metadata": {},
   "outputs": [
    {
     "name": "stdout",
     "output_type": "stream",
     "text": [
      "Number of clusters: 35891\n",
      "Number of noise points: 301046\n"
     ]
    }
   ],
   "source": [
    "n_clusters = len(set(cluster_labels)) - (1 if -1 in cluster_labels else 0)\n",
    "n_noise = list(cluster_labels).count(-1)\n",
    "print(f\"Number of clusters: {n_clusters}\")\n",
    "print(f\"Number of noise points: {n_noise}\")"
   ]
  },
  {
   "cell_type": "code",
   "execution_count": 8,
   "metadata": {},
   "outputs": [],
   "source": [
    "df_review_reduced.to_csv(\"clustered_review_data_5.csv\", index=False)"
   ]
  },
  {
   "cell_type": "code",
   "execution_count": 3,
   "metadata": {},
   "outputs": [],
   "source": [
    "df_review_reduced = pd.read_csv(\"clustered_review_data_4.csv\")\n",
    "cluster_labels = df_review_reduced['cluster'].values"
   ]
  },
  {
   "cell_type": "markdown",
   "metadata": {},
   "source": [
    "Evaluate the cluster"
   ]
  },
  {
   "cell_type": "code",
   "execution_count": 9,
   "metadata": {},
   "outputs": [
    {
     "name": "stdout",
     "output_type": "stream",
     "text": [
      "Silhouette Score (subsample): -0.147\n"
     ]
    }
   ],
   "source": [
    "from sklearn.metrics import silhouette_score\n",
    "subsample_idx = np.random.choice(X_pca_reduced.shape[0], size=10000, replace=False)\n",
    "X_sub = X_pca_reduced[subsample_idx]\n",
    "labels_sub = cluster_labels[subsample_idx]\n",
    "score = silhouette_score(X_sub, labels_sub)\n",
    "print(f\"Silhouette Score (subsample): {score:.3f}\")"
   ]
  },
  {
   "cell_type": "code",
   "execution_count": 10,
   "metadata": {},
   "outputs": [
    {
     "name": "stdout",
     "output_type": "stream",
     "text": [
      "Davies-Bouldin Score (subsample): 1.079\n"
     ]
    }
   ],
   "source": [
    "from sklearn.metrics import davies_bouldin_score\n",
    "db_score = davies_bouldin_score(X_sub, labels_sub)\n",
    "print(f\"Davies-Bouldin Score (subsample): {db_score:.3f}\")"
   ]
  },
  {
   "cell_type": "code",
   "execution_count": null,
   "metadata": {},
   "outputs": [],
   "source": []
  }
 ],
 "metadata": {
  "kernelspec": {
   "display_name": "content-recommendation-mCG3KVaj",
   "language": "python",
   "name": "python3"
  },
  "language_info": {
   "codemirror_mode": {
    "name": "ipython",
    "version": 3
   },
   "file_extension": ".py",
   "mimetype": "text/x-python",
   "name": "python",
   "nbconvert_exporter": "python",
   "pygments_lexer": "ipython3",
   "version": "3.11.4"
  }
 },
 "nbformat": 4,
 "nbformat_minor": 2
}
