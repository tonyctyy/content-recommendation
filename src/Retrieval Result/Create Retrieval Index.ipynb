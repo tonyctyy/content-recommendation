{
 "cells": [
  {
   "cell_type": "code",
   "execution_count": 1,
   "metadata": {},
   "outputs": [],
   "source": [
    "import sqlite3\n",
    "import pandas as pd\n",
    "import numpy as np"
   ]
  },
  {
   "cell_type": "code",
   "execution_count": 2,
   "metadata": {},
   "outputs": [],
   "source": [
    "def optimize_db(conn):\n",
    "    \"\"\"Apply SQLite performance optimizations.\"\"\"\n",
    "    cursor = conn.cursor()\n",
    "    cursor.executescript('''\n",
    "        PRAGMA synchronous = OFF;\n",
    "        PRAGMA journal_mode = MEMORY;\n",
    "        PRAGMA temp_store = MEMORY;\n",
    "        PRAGMA cache_size = 1000000;\n",
    "    ''')\n",
    "    conn.commit()"
   ]
  },
  {
   "cell_type": "code",
   "execution_count": null,
   "metadata": {},
   "outputs": [
    {
     "data": {
      "text/plain": [
       "<sqlite3.Cursor at 0x1f40ffafdc0>"
      ]
     },
     "execution_count": 3,
     "metadata": {},
     "output_type": "execute_result"
    }
   ],
   "source": [
    "# Connect to the SQLite database\n",
    "db_path = './Retrieval.db'\n",
    "conn = sqlite3.connect(db_path)\n",
    "cursor = conn.cursor()\n",
    "optimize_db(conn)\n",
    "\n",
    "cursor.execute('''CREATE TABLE IF NOT EXISTS recommendations (\n",
    "    model TEXT,\n",
    "    user_id TEXT,\n",
    "    business_id TEXT,\n",
    "    real_label INTEGER,\n",
    "    UNIQUE (model, user_id, business_id)\n",
    ");\n",
    "''')\n",
    "\n",
    "# Close the connection when done\n",
    "conn.close()"
   ]
  },
  {
   "cell_type": "code",
   "execution_count": 5,
   "metadata": {},
   "outputs": [],
   "source": [
    "conn = sqlite3.connect(db_path)\n",
    "query = \"SELECT * FROM recommendations\"\n",
    "\n",
    "# initialize an empty dataframe to store the results with \"model\", \"user_id\", \"business_id\", \"real_label\"\n",
    "df = pd.DataFrame(columns=[\"model\", \"user_id\", \"business_id\", \"real_label\"])\n",
    "\n",
    "\n",
    "for chunk in pd.read_sql_query(query, conn, chunksize=10000):\n",
    "    # Process each DataFrame chunk here\n",
    "    df = pd.concat([df, chunk])\n",
    "\n",
    "conn.close()"
   ]
  },
  {
   "cell_type": "code",
   "execution_count": 12,
   "metadata": {},
   "outputs": [],
   "source": [
    "# ----------------------------\n",
    "# 1. Filter Positive and Non-Positive Recommendations\n",
    "# ----------------------------\n",
    "# We assume df is your DataFrame with columns: model, user_id, business_id, real_label.\n",
    "df_positive = df[df['real_label'] == 1]\n",
    "df_non_positive = df[df['real_label'] == 0]"
   ]
  },
  {
   "cell_type": "code",
   "execution_count": 13,
   "metadata": {},
   "outputs": [
    {
     "name": "stdout",
     "output_type": "stream",
     "text": [
      "Overlap for same (user, item) pairs (Positive Recommendations):\n",
      "  Number of overlapping pairs: 3\n",
      "  Percentage in ItemCF: 1.13%\n",
      "  Percentage in DSSM:   2.29%\n",
      "\n"
     ]
    }
   ],
   "source": [
    "# ----------------------------\n",
    "# 2. Overlap: Same (User, Item) Pairs (for Positive Recommendations)\n",
    "# ----------------------------\n",
    "# Create sets of (user_id, business_id) pairs for each model.\n",
    "pairs_itemcf = set(df_positive[df_positive['model'] == 'ItemCF'][['user_id', 'business_id']].apply(tuple, axis=1))\n",
    "pairs_dssm   = set(df_positive[df_positive['model'] == 'DSSM'][['user_id', 'business_id']].apply(tuple, axis=1))\n",
    "\n",
    "# Intersection of pairs and compute statistics\n",
    "overlap_pairs = pairs_itemcf.intersection(pairs_dssm)\n",
    "num_overlap_pairs = len(overlap_pairs)\n",
    "\n",
    "total_pairs_itemcf = len(pairs_itemcf)\n",
    "total_pairs_dssm   = len(pairs_dssm)\n",
    "\n",
    "percent_overlap_itemcf = (num_overlap_pairs / total_pairs_itemcf * 100) if total_pairs_itemcf > 0 else 0\n",
    "percent_overlap_dssm   = (num_overlap_pairs / total_pairs_dssm * 100) if total_pairs_dssm > 0 else 0\n",
    "\n",
    "print(\"Overlap for same (user, item) pairs (Positive Recommendations):\")\n",
    "print(f\"  Number of overlapping pairs: {num_overlap_pairs}\")\n",
    "print(f\"  Percentage in ItemCF: {percent_overlap_itemcf:.2f}%\")\n",
    "print(f\"  Percentage in DSSM:   {percent_overlap_dssm:.2f}%\\n\")"
   ]
  },
  {
   "cell_type": "code",
   "execution_count": 14,
   "metadata": {},
   "outputs": [
    {
     "name": "stdout",
     "output_type": "stream",
     "text": [
      "Overlap for items (Positive Recommendations, irrespective of user):\n",
      "  Number of overlapping items: 8\n",
      "  Percentage in ItemCF: 3.10%\n",
      "  Percentage in DSSM:   6.40%\n",
      "\n",
      "Overlap for items (Non-Positive Recommendations, irrespective of user):\n",
      "  Number of overlapping non-positive items: 17366\n",
      "  Percentage in ItemCF: 59.73%\n",
      "  Percentage in DSSM:   46.98%\n",
      "\n",
      "Overall overlap for items (All Recommendations, irrespective of label):\n",
      "  Number of overlapping items: 17374\n",
      "  Percentage in ItemCF: 59.74%\n",
      "  Percentage in DSSM:   47.00%\n",
      "\n"
     ]
    }
   ],
   "source": [
    "# ----------------------------\n",
    "# 3. Overlap: Items (Irrespective of User)\n",
    "# ----------------------------\n",
    "# 3a. For Positive Recommendations:\n",
    "items_itemcf_pos = set(df_positive[df_positive['model'] == 'ItemCF']['business_id'])\n",
    "items_dssm_pos   = set(df_positive[df_positive['model'] == 'DSSM']['business_id'])\n",
    "\n",
    "overlap_items_pos = items_itemcf_pos.intersection(items_dssm_pos)\n",
    "num_overlap_items_pos = len(overlap_items_pos)\n",
    "\n",
    "total_items_itemcf_pos = len(items_itemcf_pos)\n",
    "total_items_dssm_pos   = len(items_dssm_pos)\n",
    "\n",
    "percent_items_itemcf_pos = (num_overlap_items_pos / total_items_itemcf_pos * 100) if total_items_itemcf_pos > 0 else 0\n",
    "percent_items_dssm_pos   = (num_overlap_items_pos / total_items_dssm_pos * 100) if total_items_dssm_pos > 0 else 0\n",
    "\n",
    "print(\"Overlap for items (Positive Recommendations, irrespective of user):\")\n",
    "print(f\"  Number of overlapping items: {num_overlap_items_pos}\")\n",
    "print(f\"  Percentage in ItemCF: {percent_items_itemcf_pos:.2f}%\")\n",
    "print(f\"  Percentage in DSSM:   {percent_items_dssm_pos:.2f}%\\n\")\n",
    "\n",
    "# 3b. For Non-Positive Recommendations:\n",
    "items_itemcf_non = set(df_non_positive[df_non_positive['model'] == 'ItemCF']['business_id'])\n",
    "items_dssm_non   = set(df_non_positive[df_non_positive['model'] == 'DSSM']['business_id'])\n",
    "\n",
    "overlap_items_non = items_itemcf_non.intersection(items_dssm_non)\n",
    "num_overlap_items_non = len(overlap_items_non)\n",
    "\n",
    "total_items_itemcf_non = len(items_itemcf_non)\n",
    "total_items_dssm_non   = len(items_dssm_non)\n",
    "\n",
    "percent_items_itemcf_non = (num_overlap_items_non / total_items_itemcf_non * 100) if total_items_itemcf_non > 0 else 0\n",
    "percent_items_dssm_non   = (num_overlap_items_non / total_items_dssm_non * 100) if total_items_dssm_non > 0 else 0\n",
    "\n",
    "print(\"Overlap for items (Non-Positive Recommendations, irrespective of user):\")\n",
    "print(f\"  Number of overlapping non-positive items: {num_overlap_items_non}\")\n",
    "print(f\"  Percentage in ItemCF: {percent_items_itemcf_non:.2f}%\")\n",
    "print(f\"  Percentage in DSSM:   {percent_items_dssm_non:.2f}%\\n\")\n",
    "\n",
    "# 3c. Overall Item Overlap (All Recommendations, regardless of real_label):\n",
    "items_itemcf_all = set(df[df['model'] == 'ItemCF']['business_id'])\n",
    "items_dssm_all   = set(df[df['model'] == 'DSSM']['business_id'])\n",
    "\n",
    "overlap_items_all = items_itemcf_all.intersection(items_dssm_all)\n",
    "num_overlap_items_all = len(overlap_items_all)\n",
    "\n",
    "total_items_itemcf_all = len(items_itemcf_all)\n",
    "total_items_dssm_all   = len(items_dssm_all)\n",
    "\n",
    "percent_items_itemcf_all = (num_overlap_items_all / total_items_itemcf_all * 100) if total_items_itemcf_all > 0 else 0\n",
    "percent_items_dssm_all   = (num_overlap_items_all / total_items_dssm_all * 100) if total_items_dssm_all > 0 else 0\n",
    "\n",
    "print(\"Overall overlap for items (All Recommendations, irrespective of label):\")\n",
    "print(f\"  Number of overlapping items: {num_overlap_items_all}\")\n",
    "print(f\"  Percentage in ItemCF: {percent_items_itemcf_all:.2f}%\")\n",
    "print(f\"  Percentage in DSSM:   {percent_items_dssm_all:.2f}%\\n\")"
   ]
  },
  {
   "cell_type": "code",
   "execution_count": 15,
   "metadata": {},
   "outputs": [
    {
     "name": "stdout",
     "output_type": "stream",
     "text": [
      "Unique user overlap (All Recommendations):\n",
      "  ItemCF unique users: 848\n",
      "  DSSM unique users:   1000\n",
      "  Overlapping users:   546\n",
      "  Percentage overlap in ItemCF: 64.39%\n",
      "  Percentage overlap in DSSM:   54.60%\n",
      "\n"
     ]
    }
   ],
   "source": [
    "# ----------------------------\n",
    "# 4. Unique User Overlap for All Recommendations\n",
    "# ----------------------------\n",
    "users_itemcf_all = set(df[df['model'] == 'ItemCF']['user_id'])\n",
    "users_dssm_all   = set(df[df['model'] == 'DSSM']['user_id'])\n",
    "overlap_users_all = users_itemcf_all.intersection(users_dssm_all)\n",
    "\n",
    "percent_overlap_itemcf_all = (len(overlap_users_all) / len(users_itemcf_all) * 100) if len(users_itemcf_all) > 0 else 0\n",
    "percent_overlap_dssm_all   = (len(overlap_users_all) / len(users_dssm_all) * 100) if len(users_dssm_all) > 0 else 0\n",
    "\n",
    "print(\"Unique user overlap (All Recommendations):\")\n",
    "print(f\"  ItemCF unique users: {len(users_itemcf_all)}\")\n",
    "print(f\"  DSSM unique users:   {len(users_dssm_all)}\")\n",
    "print(f\"  Overlapping users:   {len(overlap_users_all)}\")\n",
    "print(f\"  Percentage overlap in ItemCF: {percent_overlap_itemcf_all:.2f}%\")\n",
    "print(f\"  Percentage overlap in DSSM:   {percent_overlap_dssm_all:.2f}%\\n\")"
   ]
  },
  {
   "cell_type": "code",
   "execution_count": 16,
   "metadata": {},
   "outputs": [
    {
     "name": "stdout",
     "output_type": "stream",
     "text": [
      "Average Jaccard similarity of recommended items per user (all items): 0.01\n",
      "Average number of recommended items per user:\n",
      "  ItemCF: 201.77\n",
      "  DSSM:   5000.00\n",
      "Average per-user overlap ratio (based on ItemCF recommendations): 14.58%\n",
      "\n"
     ]
    }
   ],
   "source": [
    "# ----------------------------\n",
    "# 5. Additional Insights for Retrieval Quality\n",
    "# ----------------------------\n",
    "# 5a. Jaccard Similarity of Recommended Items per User (for users common to both models)\n",
    "recs_itemcf = df[df['model'] == 'ItemCF'].groupby('user_id')['business_id'].apply(set).to_dict()\n",
    "recs_dssm   = df[df['model'] == 'DSSM'].groupby('user_id')['business_id'].apply(set).to_dict()\n",
    "\n",
    "jaccard_scores = []\n",
    "common_users = set(recs_itemcf.keys()).intersection(recs_dssm.keys())\n",
    "for user in common_users:\n",
    "    set_itemcf = recs_itemcf[user]\n",
    "    set_dssm = recs_dssm[user]\n",
    "    union_count = len(set_itemcf.union(set_dssm))\n",
    "    if union_count > 0:\n",
    "        jaccard = len(set_itemcf.intersection(set_dssm)) / union_count\n",
    "        jaccard_scores.append(jaccard)\n",
    "avg_jaccard = np.mean(jaccard_scores) if jaccard_scores else 0\n",
    "print(f\"Average Jaccard similarity of recommended items per user (all items): {avg_jaccard:.2f}\")\n",
    "\n",
    "# 5b. Distribution: Average Number of Recommended Items per User\n",
    "items_per_user_itemcf = df[df['model'] == 'ItemCF'].groupby('user_id').size()\n",
    "items_per_user_dssm   = df[df['model'] == 'DSSM'].groupby('user_id').size()\n",
    "print(\"Average number of recommended items per user:\")\n",
    "print(f\"  ItemCF: {items_per_user_itemcf.mean():.2f}\")\n",
    "print(f\"  DSSM:   {items_per_user_dssm.mean():.2f}\")\n",
    "\n",
    "# 5c. Per-User Overlap Ratio of Recommended Items\n",
    "overlap_ratios = []\n",
    "for user in common_users:\n",
    "    set_itemcf = recs_itemcf[user]\n",
    "    set_dssm = recs_dssm[user]\n",
    "    if len(set_itemcf) > 0:\n",
    "        overlap_ratio = len(set_itemcf.intersection(set_dssm)) / len(set_itemcf)\n",
    "        overlap_ratios.append(overlap_ratio)\n",
    "avg_overlap_ratio = np.mean(overlap_ratios) if overlap_ratios else 0\n",
    "print(f\"Average per-user overlap ratio (based on ItemCF recommendations): {avg_overlap_ratio * 100:.2f}%\\n\")"
   ]
  },
  {
   "cell_type": "code",
   "execution_count": 17,
   "metadata": {},
   "outputs": [
    {
     "name": "stdout",
     "output_type": "stream",
     "text": [
      "Additional Insights to Consider:\n",
      "1. Ranking Comparison: If ranking information is available, compare the average rank differences for overlapping items.\n",
      "2. Recall/Precision Analysis: Using any available ground truth interactions, evaluate recall, precision, and MRR for each model.\n",
      "3. Coverage Analysis: Calculate the overall coverage, i.e., what fraction of all available businesses each model retrieves.\n",
      "4. Diversity Measures: Analyze the diversity of recommendations per user (e.g., by category or location) to see if one model offers more varied results.\n",
      "5. User-Level Disagreement: Identify users for whom the models disagree significantly (e.g., very low overlap) and analyze common characteristics.\n"
     ]
    }
   ],
   "source": [
    "\n",
    "# ----------------------------\n",
    "# 6. Suggestions for Further Insights\n",
    "# ----------------------------\n",
    "print(\"Additional Insights to Consider:\")\n",
    "print(\"1. Ranking Comparison: If ranking information is available, compare the average rank differences for overlapping items.\")\n",
    "print(\"2. Recall/Precision Analysis: Using any available ground truth interactions, evaluate recall, precision, and MRR for each model.\")\n",
    "print(\"3. Coverage Analysis: Calculate the overall coverage, i.e., what fraction of all available businesses each model retrieves.\")\n",
    "print(\"4. Diversity Measures: Analyze the diversity of recommendations per user (e.g., by category or location) to see if one model offers more varied results.\")\n",
    "print(\"5. User-Level Disagreement: Identify users for whom the models disagree significantly (e.g., very low overlap) and analyze common characteristics.\")\n"
   ]
  }
 ],
 "metadata": {
  "kernelspec": {
   "display_name": "content-recommendation-0SgTkEMC",
   "language": "python",
   "name": "python3"
  },
  "language_info": {
   "codemirror_mode": {
    "name": "ipython",
    "version": 3
   },
   "file_extension": ".py",
   "mimetype": "text/x-python",
   "name": "python",
   "nbconvert_exporter": "python",
   "pygments_lexer": "ipython3",
   "version": "3.11.4"
  }
 },
 "nbformat": 4,
 "nbformat_minor": 2
}
