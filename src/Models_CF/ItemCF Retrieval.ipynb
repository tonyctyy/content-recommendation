{
 "cells": [
  {
   "cell_type": "code",
   "execution_count": 1,
   "metadata": {},
   "outputs": [],
   "source": [
    "import sqlite3\n",
    "import pickle"
   ]
  },
  {
   "cell_type": "code",
   "execution_count": 2,
   "metadata": {},
   "outputs": [],
   "source": [
    "# Connect to the SQLite database\n",
    "db_path = '../../data/processed_data/yelp_ItemCF.db'\n",
    "conn = sqlite3.connect(db_path)"
   ]
  },
  {
   "cell_type": "code",
   "execution_count": 3,
   "metadata": {},
   "outputs": [],
   "source": [
    "# Function to retrieve user-business mappings from the database\n",
    "def retrieve_user_business_mapping(conn):\n",
    "    cursor = conn.cursor()\n",
    "\n",
    "    # Fetch user mappings\n",
    "    cursor.execute('''SELECT user_id, user_idx FROM user_mapping''')\n",
    "    user_mapping = {row[0]: row[1] for row in cursor.fetchall()}\n",
    "\n",
    "    # Fetch business mappings\n",
    "    cursor.execute('''SELECT business_id, business_idx FROM business_mapping''')\n",
    "    business_mapping = {row[0]: row[1] for row in cursor.fetchall()}\n",
    "\n",
    "    return user_mapping, business_mapping"
   ]
  },
  {
   "cell_type": "code",
   "execution_count": 4,
   "metadata": {},
   "outputs": [],
   "source": [
    "# Retrieve the user-business mappings\n",
    "user_mapping, business_mapping = retrieve_user_business_mapping(conn)"
   ]
  },
  {
   "cell_type": "code",
   "execution_count": 5,
   "metadata": {},
   "outputs": [],
   "source": [
    "# Function to get businesses a user interacted with\n",
    "def get_user_businesses(user_id, conn):\n",
    "    cursor = conn.cursor()\n",
    "    cursor.execute('''SELECT business_id, stars_review FROM user_item_index WHERE user_id = ?''', (user_id,))\n",
    "    return cursor.fetchall()"
   ]
  },
  {
   "cell_type": "code",
   "execution_count": 6,
   "metadata": {},
   "outputs": [],
   "source": [
    "# Function to get top-k similar businesses for a given business\n",
    "def get_top_k_similar_businesses(business_id, k, conn):\n",
    "    cursor = conn.cursor()\n",
    "    cursor.execute('''SELECT similarity_vector FROM item_item_similarity WHERE item_id = ?''', (business_id,))\n",
    "    result = cursor.fetchone()\n",
    "\n",
    "    if result is None:\n",
    "        return []\n",
    "\n",
    "    similarity_vector = pickle.loads(result[0])\n",
    "    indices, data = similarity_vector\n",
    "\n",
    "    # Get top-k similar businesses\n",
    "    top_k = sorted(zip(indices, data), key=lambda x: -x[1])[:k]\n",
    "\n",
    "    # Map indices to business ids\n",
    "    similar_businesses = [(list(business_mapping.keys())[idx], score) for idx, score in top_k]\n",
    "\n",
    "    return similar_businesses"
   ]
  },
  {
   "cell_type": "code",
   "execution_count": 7,
   "metadata": {},
   "outputs": [],
   "source": [
    "# Function to predict user interests based on similar businesses\n",
    "def predict_user_interests(user_id, k=10, conn=conn):\n",
    "    user_businesses = get_user_businesses(user_id, conn)\n",
    "\n",
    "    recommended_businesses = {}\n",
    "    for business_id, _ in user_businesses:\n",
    "        similar_businesses = get_top_k_similar_businesses(business_id, k, conn)\n",
    "\n",
    "        for similar_business_id, score in similar_businesses:\n",
    "            if similar_business_id in recommended_businesses:\n",
    "                recommended_businesses[similar_business_id] += score\n",
    "            else:\n",
    "                recommended_businesses[similar_business_id] = score\n",
    "\n",
    "    # Sort recommendations by score\n",
    "    recommended_businesses = sorted(recommended_businesses.items(), key=lambda x: -x[1])\n",
    "\n",
    "    return recommended_businesses[:k]"
   ]
  },
  {
   "cell_type": "code",
   "execution_count": null,
   "metadata": {},
   "outputs": [],
   "source": []
  },
  {
   "cell_type": "code",
   "execution_count": 8,
   "metadata": {},
   "outputs": [
    {
     "name": "stdout",
     "output_type": "stream",
     "text": [
      "Recommendations for user razUB7ciYZluvxWM6shmtw: [('X6ExflwppH41zPcnSRv0uA', np.float64(550.0)), ('KIjOP0a4gTe-zRdnVCgsGA', np.float64(396.0)), ('k9W1gDPg4TziOTqY_xjTyQ', np.float64(351.0)), ('xVFNGIsWBTcYmKB85HH6Qg', np.float64(332.0)), ('VgkRK_mHhy15M3bZk0isTw', np.float64(306.0)), ('01ikDdFTvc2-YXeyv-YXjg', np.float64(304.0)), ('297f-8AdTbu-wwVedvac6w', np.float64(303.0)), ('NsEKOHrD605IY1jzPzuf9w', np.float64(293.0)), ('jwkgVfSLydNMAF2US6bL1g', np.float64(274.0)), ('qa1kx1sBNVUYhzzZI4u4rA', np.float64(263.0))]\n",
      "Recommendations for user 3YhG4h4Ok654iVfqdmkuRg: [('pqZYSvF_qrmCjkr6frf4RQ', np.float64(1860.0)), ('6FPr7wbkqnRlRmFVniwmHg', np.float64(1209.0)), ('Esf3-D_44pArPd9GqysoCg', np.float64(984.0)), ('fM6XQeGW70a4EFbjqAAy3Q', np.float64(853.0)), ('2fTfpN5SggLgW4LlzptMPg', np.float64(777.0)), ('mMnkbIMG9MUW-rb5a5Q8Og', np.float64(758.0)), ('VXPpzhD7mA262gIv1T0WPQ', np.float64(674.0)), ('26EPJeHypRPvF4UgJWi2Zw', np.float64(645.0)), ('Tqt99-TsbRT4bmsXHyA1lA', np.float64(569.0)), ('Qx32u-8jRlbDEXCQrRT-RA', np.float64(568.0))]\n",
      "Recommendations for user VyC2fG4dcMG07nrxh4jLnw: [('l4IeGBHXV2E8S8COd9rx9A', np.float64(3591.0)), ('NnlXgLZ93KPj1wYSiqjyIg', np.float64(1045.0)), ('-B6XL-ZWsVHlAQyYcd3eEg', np.float64(794.0)), ('jZSTJr11c4mo9NrKyJodnQ', np.float64(498.0)), ('x45_iDu3qheXFJrWNobmHQ', np.float64(452.0)), ('0s9wc8XMhxgKbiHUreqeRw', np.float64(441.0)), ('X6ZkbbAwCcz-ML1iihsszw', np.float64(317.0)), ('Esf3-D_44pArPd9GqysoCg', np.float64(306.0)), ('PlLFg595QSUAiTKi9WPupg', np.float64(294.0)), ('mY7DKQ6qQYr_V21TWmspOA', np.float64(254.0))]\n",
      "Recommendations for user Q5jOFJYhIsN8ouJ1rnsLQQ: [('iUZEGx29miZObLd6_lt7Vg', np.float64(5322.0)), ('fM6XQeGW70a4EFbjqAAy3Q', np.float64(3497.0)), ('-QI8Qi8XWH3D8y8ethnajA', np.float64(3325.0)), ('HK8VCqWyo1Rxw_2KTCn2Og', np.float64(2690.0)), ('ZUPnWlLgqnU1PVtF6Q9-HQ', np.float64(2293.0)), ('PQuM6c6pdEOLyInZdzoa_g', np.float64(1383.0)), ('Esf3-D_44pArPd9GqysoCg', np.float64(1299.0)), ('g9efAF87UAgqbzKwQlOzxw', np.float64(1171.0)), ('ytynqOUb3hjKeJfRj5Tshw', np.float64(1133.0)), ('HCBSkwnMPHuOVKrTuGd6DA', np.float64(995.0))]\n",
      "Recommendations for user gdcRlubKDmslUYFPHUp1Cg: [('qb28j-FNX1_6xm7u372TZA', np.float64(6352.0)), ('BjeHLwKOlHyV6DJgmZxAjA', np.float64(3510.0)), ('h_DxpK5pngE1rX0Ca9wzGg', np.float64(1031.0)), ('gC8i-lxwvGhVpOXM5eYdtA', np.float64(946.0)), ('d89jkOMbjpTBerh7miCz2w', np.float64(712.0)), ('_C7QiQQc47AOEv4PE3Kong', np.float64(551.0)), ('_ab50qdWOk0DdB6XOrBitw', np.float64(520.0)), ('8xNg18Pwa-_YydDF7gkUhw', np.float64(413.0)), ('gTC8IQ_i8zXytWSly3Ttvg', np.float64(349.0)), ('VVH6k9-ycttH3TV_lk5WfQ', np.float64(309.0))]\n",
      "Recommendations for user CNeaJDD_ZihiafOvSGSpPw: [('N1GYsCd5QAchGOCeQ37J9g', np.float64(1570.0)), ('bzjOYERJv5YwW6Q8lUBcJw', np.float64(1436.0)), ('joxy9N8aJv3_6h0aaYuTzA', np.float64(1141.0)), ('sy9erwW0yTpjsTQ1eLtnUQ', np.float64(1093.0)), ('V1XS9HMe9bzEuW4RZFycBA', np.float64(910.0)), ('A8ivmB48-sMd4eBwIErs7A', np.float64(716.0)), ('d9OTctJEITa5DmAvWpKfoA', np.float64(672.0)), ('TcNZXteosegb1RO4O5hREw', np.float64(505.0)), ('GBTPC53ZrG1ZBY3DT8Mbcw', np.float64(422.0)), ('_C7QiQQc47AOEv4PE3Kong', np.float64(398.0))]\n",
      "Recommendations for user TItDMAEw7_6Nge38jJPspA: [('c3gwn7_ukRwGGIghHLi-UA', np.float64(1503.0)), ('8uF-bhJFgT4Tn6DTb27viA', np.float64(184.0)), ('mRpk0A4u0hnF0lNe1h4hGg', np.float64(163.0)), ('Meww6RIE4cFL_kG0aRlbAA', np.float64(162.0)), ('A0RSdFWqs-keuOogaMjZ4w', np.float64(158.0)), ('-VlBFlHwX-Pt6Xyzs9roGw', np.float64(139.0)), ('dGeXdSMah56gEHwZNaRQKA', np.float64(134.0)), ('Vz2RN55rTJBGn43K1v84nA', np.float64(124.0)), ('pym7c6ZFEtmoH16xN2ApBg', np.float64(121.0)), ('vN6v8m4DO45Z4pp8yxxF_w', np.float64(116.0))]\n",
      "Recommendations for user zxyKewY6p0CjnFprEutaog: [('VaO-VW3e1kARkU9bP1E7Fw', np.float64(6693.0)), ('Zi-F-YvyVOK0k5QD7lrLOg', np.float64(5453.0)), ('mRpk0A4u0hnF0lNe1h4hGg', np.float64(3418.0)), ('u7uFQCoHFtBKCtbWUm6yZw', np.float64(3255.0)), ('iQp3QlP4iynGTXgFqpZ7Gg', np.float64(1993.0)), ('8jXmNMrGJ2acUG1R-D5e6w', np.float64(1605.0)), ('5AOkxsg6UJQ_CoJTMBDUmQ', np.float64(1518.0)), ('iJJdgwK4wrX8-PjKZzOEvQ', np.float64(1486.0)), ('iC9Gis3-VspIr8Ox3e2beA', np.float64(1430.0)), ('xv_U__GI9gmzKIHT_TANnw', np.float64(1368.0))]\n",
      "Recommendations for user IsdzdZEH9uHTnwX3acqhtg: [('c_4c5rJECZSfNgFj7frwHQ', np.float64(8806.0)), ('6Ty-KKWq6hLZYW8DWEHYvg', np.float64(5880.0)), ('_zzNQl6ImFw_B64cSdaoGA', np.float64(3163.0)), ('C5ZOzlslhMxRJDjBDV3KoQ', np.float64(2896.0)), ('9f5GXEeTvBWnrZ-AHEjgJQ', np.float64(2583.0)), ('BY-du320SIHBR9MYUrZSZg', np.float64(2300.0)), ('YKFGSDwaJx1qNYoNf3BarA', np.float64(2152.0)), ('dsfRniRgfbDjC8os848B6A', np.float64(1291.0)), ('2KIDQyTh-HzLxOUEDqtDBg', np.float64(1276.0)), ('p_qSQwShIgQnNxGcajI4-w', np.float64(1192.0))]\n",
      "Recommendations for user AC-oO5luq3enSNFDYAVKJA: [('U4X-tzwvTzW8uWxs2KIPtg', np.float64(2854.0)), ('qb28j-FNX1_6xm7u372TZA', np.float64(181.0)), ('ac1AeYqs8Z4_e2X5M3if2A', np.float64(115.0)), ('oBNrLz4EDhiscSlbOl8uAw', np.float64(109.0)), ('GBTPC53ZrG1ZBY3DT8Mbcw', np.float64(95.0)), ('W4ZEKkva9HpAdZG88juwyQ', np.float64(92.0)), ('Vz2RN55rTJBGn43K1v84nA', np.float64(92.0)), ('7Iv-6B0EH-yVo5o_VnykWw', np.float64(90.0)), ('_ab50qdWOk0DdB6XOrBitw', np.float64(81.0)), ('VQcCL9PiNL_wkGf-uF3fjg', np.float64(75.0))]\n"
     ]
    }
   ],
   "source": [
    "# get the top 10 users in the database\n",
    "user_ids = list(user_mapping.keys())[:10]\n",
    "\n",
    "for user_id in user_ids:\n",
    "    recommendations = predict_user_interests(user_id, k=10)\n",
    "    print(f\"Recommendations for user {user_id}: {recommendations}\")\n",
    "    # get the review\n",
    "\n",
    "# Close the database connection when done\n",
    "conn.close()"
   ]
  }
 ],
 "metadata": {
  "kernelspec": {
   "display_name": "content-recommendation-0SgTkEMC",
   "language": "python",
   "name": "python3"
  },
  "language_info": {
   "codemirror_mode": {
    "name": "ipython",
    "version": 3
   },
   "file_extension": ".py",
   "mimetype": "text/x-python",
   "name": "python",
   "nbconvert_exporter": "python",
   "pygments_lexer": "ipython3",
   "version": "3.11.4"
  }
 },
 "nbformat": 4,
 "nbformat_minor": 2
}
