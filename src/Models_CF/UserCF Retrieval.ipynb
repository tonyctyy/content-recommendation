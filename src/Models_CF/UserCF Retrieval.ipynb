{
 "cells": [
  {
   "cell_type": "markdown",
   "metadata": {},
   "source": [
    "### Item-base Collaborative Filtering - Retrieval\n",
    "This notebook demonstrates how to retrieve the recommendations for a user using the Item-based Collaborative Filtering model in production. \n",
    "\n",
    "#### Pre-requisites\n",
    "1. Have the index trained and saved in the `yelp_UserCF.db` file."
   ]
  },
  {
   "cell_type": "code",
   "execution_count": 1,
   "metadata": {},
   "outputs": [],
   "source": [
    "import sqlite3\n",
    "import pickle"
   ]
  },
  {
   "cell_type": "code",
   "execution_count": 2,
   "metadata": {},
   "outputs": [],
   "source": [
    "# Connect to the SQLite database\n",
    "db_path = './yelp_UserCF.db'\n",
    "conn = sqlite3.connect(db_path)"
   ]
  },
  {
   "cell_type": "code",
   "execution_count": 3,
   "metadata": {},
   "outputs": [],
   "source": [
    "# Function to retrieve user-business mappings from the database\n",
    "def retrieve_user_business_mapping(conn):\n",
    "    cursor = conn.cursor()\n",
    "\n",
    "    # Fetch user mappings\n",
    "    cursor.execute('''SELECT user_id, user_idx FROM user_mapping''')\n",
    "    user_mapping = {row[0]: row[1] for row in cursor.fetchall()}\n",
    "\n",
    "    # Fetch business mappings\n",
    "    cursor.execute('''SELECT business_id, business_idx FROM business_mapping''')\n",
    "    business_mapping = {row[0]: row[1] for row in cursor.fetchall()}\n",
    "\n",
    "    return user_mapping, business_mapping"
   ]
  },
  {
   "cell_type": "code",
   "execution_count": 4,
   "metadata": {},
   "outputs": [],
   "source": [
    "# Retrieve the user-business mappings\n",
    "user_mapping, business_mapping = retrieve_user_business_mapping(conn)"
   ]
  },
  {
   "cell_type": "code",
   "execution_count": 5,
   "metadata": {},
   "outputs": [],
   "source": [
    "# Function to get businesses a user interacted with\n",
    "def get_user_businesses(user_id, conn):\n",
    "    cursor = conn.cursor()\n",
    "    cursor.execute('''SELECT business_id, stars_review FROM user_item_index WHERE user_id = ?''', (user_id,))\n",
    "    return cursor.fetchall()"
   ]
  },
  {
   "cell_type": "code",
   "execution_count": 6,
   "metadata": {},
   "outputs": [],
   "source": [
    "# Function to get top-k similar users for a given user\n",
    "def get_top_k_similar_users(user_id, k, conn):\n",
    "    cursor = conn.cursor()\n",
    "    cursor.execute('''SELECT similarity_vector FROM user_user_similarity WHERE user_id = ?''', (user_id,))\n",
    "    result = cursor.fetchone()\n",
    "\n",
    "    if result is None:\n",
    "        return []\n",
    "\n",
    "    similarity_vector = pickle.loads(result[0])\n",
    "    indices, data = similarity_vector\n",
    "\n",
    "    # Get top-k similar users\n",
    "    top_k = sorted(zip(indices, data), key=lambda x: -x[1])[:k]\n",
    "\n",
    "    # Map indices to user ids\n",
    "    similar_users = [(list(user_mapping.keys())[idx], score) for idx, score in top_k]\n",
    "\n",
    "    return similar_users"
   ]
  },
  {
   "cell_type": "code",
   "execution_count": 8,
   "metadata": {},
   "outputs": [],
   "source": [
    "# Function to predict user interests based on similar users\n",
    "def predict_user_interests(user_id, k=10, conn=conn):\n",
    "    # Get top-k similar users\n",
    "    similar_users = get_top_k_similar_users(user_id, k, conn)\n",
    "\n",
    "    recommended_businesses = {}\n",
    "    \n",
    "    # For each similar user, get their business interactions\n",
    "    for similar_user_id, _ in similar_users:\n",
    "        user_businesses = get_user_businesses(similar_user_id, conn)\n",
    "\n",
    "        for business_id, score in user_businesses:\n",
    "            if business_id in recommended_businesses:\n",
    "                recommended_businesses[business_id] += score\n",
    "            else:\n",
    "                recommended_businesses[business_id] = score\n",
    "\n",
    "    # Sort recommendations by score\n",
    "    recommended_businesses = sorted(recommended_businesses.items(), key=lambda x: -x[1])\n",
    "\n",
    "    return recommended_businesses[:k]"
   ]
  },
  {
   "cell_type": "code",
   "execution_count": 9,
   "metadata": {},
   "outputs": [
    {
     "name": "stdout",
     "output_type": "stream",
     "text": [
      "Recommendations for user QEvaori3gwNeyPIQ4THl0Q: [('zSqTndm5Alq9dW1PyzbdTA', 40.0), ('UXVjbVfUUjlrZC0IXXiBMw', 5.0), ('xvI-E1zQAwjZPMv9PNY7xg', 5.0), ('_ab50qdWOk0DdB6XOrBitw', 5.0), ('_C7QiQQc47AOEv4PE3Kong', 5.0)]\n",
      "Recommendations for user xaCoba8K8JbPlIuXvftaYw: [('vj6AetpADpHOYtMRZsXX3g', 41.0)]\n",
      "Recommendations for user SCDydHUmVrwJOGRKXvi1iQ: [('UQMUtySn2q9cSObiw5UVsw', 22.0), ('f8MSbvd5JotxsFsS6fbl-Q', 12.0), ('0WkPwMoI1HxSP8jicwQOOQ', 5.0), ('5uR3C_gvSpC1BXFlqdHRLA', 5.0), ('9gPLN_mLR-kqwmcMe-QkOA', 5.0), ('LyV2VIBVyF2EUd3GEiD17A', 5.0), ('i76ERS3jM111T3VMbi2yrQ', 5.0), ('my8iGnzOiOO3__WCuRRlbQ', 5.0), ('sb8-TzsXOV7IsErbpHZo3g', 5.0), ('DI4OK-UVHZqCwpCE8jX2ow', 4.0)]\n",
      "Recommendations for user 7zq1qhACzE8QGnVAfTbH_w: [('P-TC0VSnUsct3NhYrj5xOA', 32.0), ('9b-LZWsj75mmfMYuChXDkg', 13.0), ('YyFcefa9hIgVTmogyFKu9g', 5.0), ('knA3b_WnHUJAyrIzzL9Lrg', 5.0), ('EurtMI6FITq7KHmmO94pnA', 4.0), ('FqxfsOhn13BKlXm94f1bjA', 4.0), ('INQCr5GV3YKplwG8-EMK-A', 4.0), ('MLMJOHXAlcCrhMj8M4FBHg', 4.0), ('UvxheDh6Mx67BhvBzfkthQ', 4.0), ('WKkLsiO4SxdegSNGJzVWpQ', 4.0)]\n",
      "Recommendations for user 05kMHFapG_z7YPZYhtIEEA: [('qb28j-FNX1_6xm7u372TZA', 37.0)]\n",
      "Recommendations for user Us5LJwiMKpdhdvTGkro5HQ: [('IZZ_uR2ps5KuuyE0n--jVA', 40.0), ('Cbktlvci_z4HwdqPUW-5cg', 5.0), ('JOZlqRx16cvpt8Zl4FLzAw', 5.0), ('Meww6RIE4cFL_kG0aRlbAA', 5.0), ('N1GYsCd5QAchGOCeQ37J9g', 5.0), ('c3Vq3UHsKBpX3x8DBPJCJg', 5.0), ('e-fXMT8R3j7BKMTh8xn8aw', 5.0), ('-GfCU3f2UqupobhRd0d5og', 4.0), ('-o_MRjr1VtjW4ZdrDX9o-Q', 4.0), ('0O3FAdHUwqSwdue0CEW_jw', 4.0)]\n",
      "Recommendations for user j1uGBey6CkyntcjlkpOq8g: [('irXywqvfXj9maLLOBQMYvg', 41.0), ('-KWel73upKHxstRCr9JGLw', 5.0), ('0-PClaUWGphUvuTH8wQ51w', 5.0), ('2Z4UlKeHAKmxHqbyhj4a_w', 5.0), ('7T1VAYHIS3cgsDj3iS6JWQ', 5.0), ('90aL9Gyqo2fv8wcy7bTvDQ', 5.0), ('ED-6JeGGo8C_m7MiSB36Zw', 5.0), ('IAXAu0klbfFxrvv3HiJoww', 5.0), ('IJvKpcSKMEyYM8rch2BvrA', 5.0), ('KTGEa8V9ec0QBYM_uk1YLQ', 5.0)]\n",
      "Recommendations for user o2h8hm7unz1f14PzCUwu2A: [('sf0rWCnE4vHUlWncWOa3JQ', 41.0), ('nk2ltrJcJPky3KJGG20FYA', 5.0), ('TuYACtcbbiArXzubj2BIRg', 5.0), ('S2HrD4JYvv3HaRnDMdQlSw', 4.0), ('XxUz6nWTdb2Vqite9How9Q', 4.0), ('4IMSkfal96Ik5UmoAMohzw', 3.0), ('gzTpGrvPpwlRpVjQHbU_lw', 3.0), ('06PmqoU3uY5Vb-BEaMPVfw', 2.0), ('U_NagvNEa4k150qLgul_zw', 2.0), ('hCb8MuUj4lM_u2gWQCagfQ', 2.0)]\n",
      "Recommendations for user cMoQqT_j_FD1gO6EEZzOIg: [('_ab50qdWOk0DdB6XOrBitw', 43.0)]\n",
      "Recommendations for user DNL1VWPiV1F6hi962gvAug: [('TfBeg0dU0vWOKM8SMfF4vg', 29.0), ('t5Xc0u9yvOH0-DgmrCS60Q', 19.0), ('D-NWrg9OVKIpHm0a74Pj_Q', 9.0), ('GS3IOUMQxua3zH_z_sUVMQ', 5.0), ('9PSg27_eo9WBmC_7msPz3Q', 5.0), ('8Wi6ExrCwlUtnhXk7at95A', 5.0), ('N44roXfLNkBdpINQDjEFOQ', 5.0), ('nI0pvN5S_4nloj5KYtnFnQ', 5.0), ('lRCA11IAq1VZqKIJCY8VBQ', 4.0), ('AoaQIboLkuj0xi7g6q9-2A', 3.0)]\n"
     ]
    }
   ],
   "source": [
    "# Get the top 10 users in the database\n",
    "user_ids = list(user_mapping.keys())[:10]\n",
    "\n",
    "for user_id in user_ids:\n",
    "    recommendations = predict_user_interests(user_id, k=10)\n",
    "    print(f\"Recommendations for user {user_id}: {recommendations}\")\n",
    "\n",
    "# Close the database connection when done\n",
    "conn.close()"
   ]
  },
  {
   "cell_type": "code",
   "execution_count": null,
   "metadata": {},
   "outputs": [],
   "source": []
  }
 ],
 "metadata": {
  "kernelspec": {
   "display_name": "content-recommendation-HkY1UuQH",
   "language": "python",
   "name": "python3"
  },
  "language_info": {
   "codemirror_mode": {
    "name": "ipython",
    "version": 3
   },
   "file_extension": ".py",
   "mimetype": "text/x-python",
   "name": "python",
   "nbconvert_exporter": "python",
   "pygments_lexer": "ipython3",
   "version": "3.11.9"
  }
 },
 "nbformat": 4,
 "nbformat_minor": 2
}
