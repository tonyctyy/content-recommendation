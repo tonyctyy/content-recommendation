{
 "cells": [
  {
   "cell_type": "markdown",
   "id": "3e3c14d9",
   "metadata": {},
   "source": [
    "# Cluster-based Collaborative Filtering - Testing\n",
    "This script evaluates the performance of the cluster-based collaborative filtering algorithm in retrieval and prediction settings using the Yelp dataset and yelp_ClusterCF.db.\n",
    "\n",
    "Pre-requisites:\n",
    "- The model is trained and the index is created using ClusterCF_Model_Index.py.\n",
    "- The index is saved in yelp_ClusterCF.db in the same directory as this script.\n",
    "- The clustered_users.xlsx file is in ../../data/processed_data with user_id and cluster columns.  \n",
    "\n",
    "Notes: This testing code does not include preventing recommended businesses overlapped with the user's interacted businesses. Therefore, the recommended businesses will be the same for users in the same cluster."
   ]
  },
  {
   "cell_type": "code",
   "execution_count": 2,
   "id": "94969ef9",
   "metadata": {},
   "outputs": [],
   "source": [
    "import sys\n",
    "sys.path.append('../')\n",
    "from utilities import *\n",
    "import sqlite3\n",
    "import pandas as pd\n",
    "import pickle\n",
    "import numpy as np\n",
    "from sklearn.model_selection import train_test_split"
   ]
  },
  {
   "cell_type": "code",
   "execution_count": 3,
   "id": "fa813b94",
   "metadata": {},
   "outputs": [
    {
     "name": "stdout",
     "output_type": "stream",
     "text": [
      "Loaded 78059 rows from business table.\n",
      "Loaded 360656 rows from categories table.\n",
      "Loaded 980418 rows from review table.\n"
     ]
    }
   ],
   "source": [
    "# Load Yelp data\n",
    "db_folder = '../../data/processed_data/yelp_data/'\n",
    "data_files = ['business', 'categories', 'review']\n",
    "yelp_data = load_data_from_db(db_folder, data_files)\n",
    "for table, df in yelp_data.items():\n",
    "    print(f\"Loaded {len(df)} rows from {table} table.\")"
   ]
  },
  {
   "cell_type": "code",
   "execution_count": 4,
   "id": "e4146b85",
   "metadata": {},
   "outputs": [],
   "source": [
    "# Prepare data\n",
    "df_business = yelp_data[\"business\"]\n",
    "df_review = yelp_data[\"review\"]"
   ]
  },
  {
   "cell_type": "code",
   "execution_count": 5,
   "id": "61425a35",
   "metadata": {},
   "outputs": [
    {
     "name": "stdout",
     "output_type": "stream",
     "text": [
      "Prepared 985732 user-business interactions.\n"
     ]
    }
   ],
   "source": [
    "# Use get_user_business to prepare user-business interactions\n",
    "user_mapping, business_mapping, user_business = get_user_business(df_business, df_review)\n",
    "print(f\"Prepared {len(user_business)} user-business interactions.\")"
   ]
  },
  {
   "cell_type": "code",
   "execution_count": 6,
   "id": "70338d68",
   "metadata": {},
   "outputs": [
    {
     "name": "stdout",
     "output_type": "stream",
     "text": [
      "Loaded 99812 cluster assignments.\n"
     ]
    }
   ],
   "source": [
    "# Load cluster assignments\n",
    "cluster_file = 'clustered_users.xlsx'\n",
    "cluster_df = pd.read_excel(cluster_file)\n",
    "user_to_cluster = pd.DataFrame({\n",
    "    'user_id': cluster_df['user_id'],\n",
    "    'cluster_id': cluster_df['cluster'].astype(str)  # Convert cluster_id to string\n",
    "})\n",
    "print(f\"Loaded {len(cluster_df)} cluster assignments.\")"
   ]
  },
  {
   "cell_type": "code",
   "execution_count": 7,
   "id": "f433a71e",
   "metadata": {},
   "outputs": [
    {
     "name": "stdout",
     "output_type": "stream",
     "text": [
      "Filtered user-business to 918151 interactions for clustered users.\n"
     ]
    }
   ],
   "source": [
    "# Filter users without cluster assignments\n",
    "user_business = user_business[user_business['user_id'].isin(user_to_cluster['user_id'])]\n",
    "print(f\"Filtered user-business to {len(user_business)} interactions for clustered users.\")"
   ]
  },
  {
   "cell_type": "code",
   "execution_count": 8,
   "id": "968261af",
   "metadata": {},
   "outputs": [
    {
     "name": "stdout",
     "output_type": "stream",
     "text": [
      "Merged dataset contains 918151 user-business-cluster records.\n"
     ]
    }
   ],
   "source": [
    "# Merge user-business interactions with cluster mappings\n",
    "user_business_clusters = user_business.merge(user_to_cluster, on='user_id', how='inner')\n",
    "print(f\"Merged dataset contains {len(user_business_clusters)} user-business-cluster records.\")"
   ]
  },
  {
   "cell_type": "code",
   "execution_count": 9,
   "id": "35384809",
   "metadata": {},
   "outputs": [
    {
     "name": "stdout",
     "output_type": "stream",
     "text": [
      "Aggregated to 721327 cluster-business interactions.\n"
     ]
    }
   ],
   "source": [
    "# Aggregate ratings at cluster level (mean of stars_review per cluster-business pair)\n",
    "cluster_business = user_business_clusters.groupby(['cluster_id', 'business_id'])['stars_review'].mean().reset_index()\n",
    "print(f\"Aggregated to {len(cluster_business)} cluster-business interactions.\")"
   ]
  },
  {
   "cell_type": "code",
   "execution_count": 10,
   "id": "f178a9fe",
   "metadata": {},
   "outputs": [
    {
     "name": "stdout",
     "output_type": "stream",
     "text": [
      "Number of positive reviews: 98024\n",
      "Number of negative reviews: 46242\n",
      "Total number of reviews: 144266\n",
      "Ratio of positive to negative reviews: 2.12\n",
      "Number of positive reviews: 46242\n",
      "Number of negative reviews: 46242\n",
      "Total number of reviews: 92484\n",
      "Ratio of positive to negative reviews: 1.00\n",
      "Train data: 577061 rows, Test data: 92484 rows\n"
     ]
    }
   ],
   "source": [
    "# Split into train (80%) and test (20%) at cluster level\n",
    "train_data, test_data = train_test_split(cluster_business, test_size=0.2, random_state=42)\n",
    "test_data = balance_test_data(test_data)\n",
    "test_data_grouped = test_data.groupby('cluster_id')['business_id'].apply(list).reset_index()\n",
    "print(f\"Train data: {len(train_data)} rows, Test data: {len(test_data)} rows\")"
   ]
  },
  {
   "cell_type": "code",
   "execution_count": 11,
   "id": "6b163148",
   "metadata": {},
   "outputs": [],
   "source": [
    "# Connect to ClusterCF database\n",
    "db_path = './yelp_ClusterCF.db'\n",
    "conn = sqlite3.connect(db_path)"
   ]
  },
  {
   "cell_type": "code",
   "execution_count": 12,
   "id": "d6830fef",
   "metadata": {},
   "outputs": [],
   "source": [
    "# Ensure database indexes\n",
    "conn.execute('CREATE INDEX IF NOT EXISTS idx_cluster_item ON cluster_item_index(cluster_id, business_id)')\n",
    "conn.execute('CREATE INDEX IF NOT EXISTS idx_cluster_similarity ON cluster_cluster_similarity(cluster_id)')\n",
    "conn.commit()"
   ]
  },
  {
   "cell_type": "markdown",
   "id": "6e26b79d",
   "metadata": {},
   "source": [
    "# Retrieval Evaluation"
   ]
  },
  {
   "cell_type": "code",
   "execution_count": 13,
   "id": "df407e9c",
   "metadata": {},
   "outputs": [],
   "source": [
    "def retrieve_cluster_mapping(conn):\n",
    "    cursor = conn.cursor()\n",
    "    cursor.execute('SELECT cluster_id, cluster_idx FROM cluster_mapping')\n",
    "    return {str(row[0]): row[1] for row in cursor.fetchall()}  # Ensure cluster_id is string\n",
    "\n",
    "def get_cluster_businesses(cluster_id, conn):\n",
    "    cursor = conn.cursor()\n",
    "    cursor.execute('SELECT business_id, stars_review FROM cluster_item_index WHERE cluster_id = ?', (str(cluster_id),))\n",
    "    return cursor.fetchall()\n",
    "\n",
    "def get_top_k_similar_clusters(cluster_id, cluster_mapping, k, conn):\n",
    "    if cluster_id is None or cluster_id not in cluster_mapping:\n",
    "        return []\n",
    "    cursor = conn.cursor()\n",
    "    cursor.execute('SELECT similarity_vector FROM cluster_cluster_similarity WHERE cluster_id = ?', (str(cluster_id),))\n",
    "    result = cursor.fetchone()\n",
    "    if result is None:\n",
    "        return []\n",
    "    similarity_vector = pickle.loads(result[0])\n",
    "    indices, data = similarity_vector\n",
    "    top_k = sorted(zip(indices, data), key=lambda x: -x[1])[:k]\n",
    "    idx_to_cluster = {v: str(k) for k, v in cluster_mapping.items()}  # Ensure cluster_id is string\n",
    "    similar_clusters = [(idx_to_cluster.get(idx, \"Unknown\"), score) for idx, score in top_k]\n",
    "    return similar_clusters\n",
    "\n",
    "def predict_cluster_interests_clustercf(cluster_id, user_id, user_interactions, user_to_cluster_dict, cluster_mapping, conn, k_clusters=10, k_items=300):\n",
    "    # Skip if user_id is not in user_to_cluster or has no valid cluster\n",
    "    if user_id not in user_to_cluster_dict or user_to_cluster_dict[user_id] != cluster_id or cluster_id is None:\n",
    "        return []\n",
    "    similar_clusters = get_top_k_similar_clusters(cluster_id, cluster_mapping, k_clusters, conn)\n",
    "    recommended_businesses = {}\n",
    "    # Get user's interacted businesses from precomputed dictionary\n",
    "    user_business = user_interactions.get(user_id, set())\n",
    "    for similar_cluster_id, similarity_score in similar_clusters:\n",
    "        if similar_cluster_id == \"Unknown\":\n",
    "            continue\n",
    "        similar_cluster_businesses = get_cluster_businesses(similar_cluster_id, conn)\n",
    "        for business_id, score in similar_cluster_businesses:\n",
    "            # if business_id in user_business:\n",
    "            #     continue  # Exclude user's interacted businesses\n",
    "            if business_id in recommended_businesses:\n",
    "                recommended_businesses[business_id] += score * similarity_score\n",
    "            else:\n",
    "                recommended_businesses[business_id] = score * similarity_score\n",
    "    recommended_businesses = sorted(recommended_businesses.items(), key=lambda x: -x[1])\n",
    "    return recommended_businesses[:k_items]\n",
    "\n",
    "def simulate_recommendations_clustercf(test_data_grouped, user_to_cluster, cluster_mapping, user_business, conn, k_clusters=10, k_items=300, num_clusters=1000):\n",
    "    recommendations = {}\n",
    "    total_clusters = min(num_clusters, len(test_data_grouped))\n",
    "    # Precompute user interactions\n",
    "    user_interactions = user_business.groupby('user_id')['business_id'].apply(set).to_dict()\n",
    "    # Filter test_data_grouped to valid cluster_id\n",
    "    valid_clusters = set(cluster_mapping.keys())\n",
    "    test_data_grouped = test_data_grouped[test_data_grouped['cluster_id'].isin(valid_clusters)]\n",
    "    user_to_cluster_dict = user_to_cluster.set_index('user_id')['cluster_id'].to_dict()\n",
    "    for i, cluster_id in enumerate(test_data_grouped['cluster_id']):\n",
    "        if i >= total_clusters:\n",
    "            break\n",
    "        user_id = user_to_cluster[user_to_cluster['cluster_id'] == cluster_id]['user_id'].iloc[0] if not user_to_cluster[user_to_cluster['cluster_id'] == cluster_id].empty else None\n",
    "        if user_id is None:\n",
    "            continue\n",
    "        recommendation = predict_cluster_interests_clustercf(cluster_id, user_id, user_interactions, user_to_cluster_dict, cluster_mapping, conn, k_clusters, k_items)\n",
    "        business_ids, scores = zip(*recommendation) if recommendation else ([], [])\n",
    "        recommendations[cluster_id] = (list(business_ids), list(scores))\n",
    "    return recommendations"
   ]
  },
  {
   "cell_type": "code",
   "execution_count": 14,
   "id": "d78442e0",
   "metadata": {},
   "outputs": [],
   "source": [
    "def check_retrieval_recommendations(recommendations, test_data, test_data_grouped, key_column='cluster_id', pos=4):\n",
    "    total = 0\n",
    "    total_positive = 0\n",
    "    true_positive = 0\n",
    "    true_negative = 0\n",
    "    false_positive = 0\n",
    "    false_negative = 0\n",
    "    ranks = []\n",
    "    for i, row in test_data_grouped.iterrows():\n",
    "        cluster_id = row[key_column]\n",
    "        business_ids = row['business_id']\n",
    "        rank = 0\n",
    "        if cluster_id in recommendations:\n",
    "            recommended_businesses = recommendations[cluster_id][0]\n",
    "            for business_id in business_ids:\n",
    "                star_rating = test_data[(test_data[key_column] == cluster_id) & (test_data['business_id'] == business_id)]['stars_review'].values\n",
    "                star_rating = star_rating[0] if len(star_rating) > 0 else 0\n",
    "                if star_rating >= pos:\n",
    "                    total_positive += 1\n",
    "                if business_id in recommended_businesses:\n",
    "                    if star_rating >= pos:\n",
    "                        true_positive += 1\n",
    "                    else:\n",
    "                        false_positive += 1\n",
    "                    rank = recommended_businesses.index(business_id) + 1\n",
    "                else:\n",
    "                    if star_rating < pos:\n",
    "                        true_negative += 1\n",
    "                    else:\n",
    "                        false_negative += 1\n",
    "                total += 1\n",
    "        ranks.append(rank)\n",
    "    return true_positive, true_negative, false_positive, false_negative, total, total_positive, ranks"
   ]
  },
  {
   "cell_type": "code",
   "execution_count": 15,
   "id": "e770cb3b",
   "metadata": {},
   "outputs": [],
   "source": [
    "cluster_mapping = retrieve_cluster_mapping(conn)\n",
    "retrieval_recommendations = simulate_recommendations_clustercf(test_data_grouped, user_to_cluster, cluster_mapping, user_business, conn, k_clusters=10, k_items=300, num_clusters=1000)\n",
    "true_positive, true_negative, false_positive, false_negative, total, total_positive, ranks = check_retrieval_recommendations(retrieval_recommendations, test_data, test_data_grouped)\n",
    "evaluation_metric, confusion_matrix, background_stats = compute_evaluation_metric(true_positive, true_negative, false_positive, false_negative, total, total_positive, ranks)"
   ]
  },
  {
   "cell_type": "code",
   "execution_count": 16,
   "id": "c76e8680",
   "metadata": {},
   "outputs": [
    {
     "name": "stdout",
     "output_type": "stream",
     "text": [
      "Testing Data Statistics\n",
      "   Total Positive  Total Negative  Total     Ratio\n",
      "0           18437           18966  37403  0.492928\n",
      "\n",
      "Retrieval Evaluation Metrics\n",
      "   Accuracy  Precision  Recall  F1 Score  F-beta Score  Mean Reciprocal Rank\n",
      "0    0.5149     0.5844  0.0546    0.0999        0.0667                0.0299\n",
      "\n",
      "Retrieval Confusion Matrix\n",
      "   True Positive  True Negative  False Positive  False Negative\n",
      "0           1007          18250             716           17430\n"
     ]
    }
   ],
   "source": [
    "print(\"Testing Data Statistics\")\n",
    "print(background_stats)\n",
    "print(\"\\nRetrieval Evaluation Metrics\")\n",
    "print(evaluation_metric)\n",
    "print(\"\\nRetrieval Confusion Matrix\")\n",
    "print(confusion_matrix)"
   ]
  },
  {
   "cell_type": "markdown",
   "id": "ec571ec1",
   "metadata": {},
   "source": [
    "# Prediction Evaluation"
   ]
  },
  {
   "cell_type": "code",
   "execution_count": 17,
   "id": "93dd2c46",
   "metadata": {},
   "outputs": [],
   "source": [
    "# Predict rating for a specific business\n",
    "def get_business_interest_clustercf(cluster_id, business_id, cluster_mapping, conn, k=10):\n",
    "    \"\"\"Predict rating for a specific business based on similar clusters.\"\"\"\n",
    "    if cluster_id is None or cluster_id not in cluster_mapping:\n",
    "        return 0\n",
    "    cluster_businesses = get_cluster_businesses(cluster_id, conn)\n",
    "    if not cluster_businesses:\n",
    "        return 0\n",
    "    similar_clusters = get_top_k_similar_clusters(cluster_id, cluster_mapping, k, conn)\n",
    "    if not similar_clusters:\n",
    "        return -1\n",
    "    weighted_sum = 0.0\n",
    "    similarity_sum = 0.0\n",
    "    for similar_cluster_id, similarity in similar_clusters:\n",
    "        if similar_cluster_id == \"Unknown\":\n",
    "            continue\n",
    "        cursor = conn.cursor()\n",
    "        cursor.execute('SELECT stars_review FROM cluster_item_index WHERE cluster_id = ? AND business_id = ?', \n",
    "                       (str(similar_cluster_id), business_id))\n",
    "        result = cursor.fetchone()\n",
    "        if result:\n",
    "            rating = result[0]\n",
    "            weighted_sum += similarity * rating\n",
    "            similarity_sum += similarity\n",
    "    if similarity_sum == 0:\n",
    "        return -1\n",
    "    return weighted_sum / similarity_sum\n",
    "\n",
    "def predict_recommendations_clustercf(test_data, test_data_grouped, cluster_mapping, conn, pos=4):\n",
    "    \"\"\"Predict ratings for test cluster-business pairs.\"\"\"\n",
    "    predicted_labels = []\n",
    "    actual_labels = []\n",
    "    unrated_count = 0\n",
    "    positive_count = 0\n",
    "    negative_count = 0\n",
    "    null_count = 0\n",
    "    k = min(1000, len(test_data_grouped))\n",
    "    test_data_dict = {\n",
    "        (row['cluster_id'], row['business_id']): row['stars_review']\n",
    "        for _, row in test_data.iterrows()\n",
    "    }\n",
    "    for i in range(k):\n",
    "        cluster_id = test_data_grouped['cluster_id'].iloc[i]\n",
    "        business_ids = test_data_grouped['business_id'].iloc[i]\n",
    "        for business_id in business_ids:\n",
    "            predicted_rating = get_business_interest_clustercf(cluster_id, business_id, cluster_mapping, conn, k=10)\n",
    "            actual_rating = test_data_dict.get((cluster_id, business_id), None)\n",
    "            if actual_rating is None:\n",
    "                null_count += 1\n",
    "                continue\n",
    "            if actual_rating >= pos:\n",
    "                positive_count += 1\n",
    "            else:\n",
    "                negative_count += 1\n",
    "            if predicted_rating == -1:\n",
    "                unrated_count += 1\n",
    "                continue\n",
    "            predicted_labels.append(predicted_rating >= pos)\n",
    "            actual_labels.append(actual_rating >= pos)\n",
    "    predicted_labels = np.array(predicted_labels, dtype=np.int8)\n",
    "    actual_labels = np.array(actual_labels, dtype=np.int8)\n",
    "    return predicted_labels, actual_labels, positive_count, negative_count, null_count, unrated_count"
   ]
  },
  {
   "cell_type": "code",
   "execution_count": 18,
   "id": "2a1c0177",
   "metadata": {},
   "outputs": [],
   "source": [
    "predicted_labels, actual_labels, positive_count, negative_count, null_count, unrated_count = predict_recommendations_clustercf(test_data, test_data_grouped, cluster_mapping, conn, pos=4)\n",
    "prediction_lst = [positive_count, negative_count, unrated_count]\n",
    "evaluation_metric, confusion_matrix, background_stats = compute_prediction_evaluation(actual_labels, predicted_labels, prediction_lst, beta=2)"
   ]
  },
  {
   "cell_type": "code",
   "execution_count": 19,
   "id": "c4217ee1",
   "metadata": {},
   "outputs": [
    {
     "name": "stdout",
     "output_type": "stream",
     "text": [
      "\n",
      "Testing Data Statistics\n",
      "   Total Positive  Total Negative  Total     Ratio\n",
      "0           18437           18966  37403  0.492928\n",
      "\n",
      "Prediction Evaluation Metrics\n",
      "   Accuracy  Precision    Recall  F1 Score  F-beta Score Mean Reciprocal Rank  \\\n",
      "0    0.6904      0.624  0.905936  0.738991      0.830856                 None   \n",
      "\n",
      "   Unrated Count  \n",
      "0       0.032832  \n",
      "\n",
      "Prediction Confusion Matrix\n",
      "   True Positive  True Negative  False Positive  False Negative\n",
      "0          16703           8271           10063            1138\n"
     ]
    }
   ],
   "source": [
    "print(\"\\nTesting Data Statistics\")\n",
    "print(background_stats)\n",
    "print(\"\\nPrediction Evaluation Metrics\")\n",
    "print(evaluation_metric)\n",
    "print(\"\\nPrediction Confusion Matrix\")\n",
    "print(confusion_matrix)"
   ]
  },
  {
   "cell_type": "code",
   "execution_count": null,
   "id": "501eb074",
   "metadata": {},
   "outputs": [],
   "source": [
    "# Close connection\n",
    "conn.close()"
   ]
  },
  {
   "cell_type": "code",
   "execution_count": null,
   "id": "ea8bff54",
   "metadata": {},
   "outputs": [],
   "source": []
  }
 ],
 "metadata": {
  "kernelspec": {
   "display_name": "content-recommendation-HkY1UuQH",
   "language": "python",
   "name": "python3"
  },
  "language_info": {
   "codemirror_mode": {
    "name": "ipython",
    "version": 3
   },
   "file_extension": ".py",
   "mimetype": "text/x-python",
   "name": "python",
   "nbconvert_exporter": "python",
   "pygments_lexer": "ipython3",
   "version": "3.11.9"
  }
 },
 "nbformat": 4,
 "nbformat_minor": 5
}
