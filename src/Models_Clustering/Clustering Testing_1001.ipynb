{
 "cells": [
  {
   "cell_type": "markdown",
   "id": "e2394128",
   "metadata": {},
   "source": [
    "# Cluster-based Collaborative Filtering - Testing\n",
    "This script evaluates the performance of the cluster-based collaborative filtering algorithm in retrieval and prediction settings using the Yelp dataset and yelp_ClusterCF.db.\n",
    "\n",
    "Pre-requisites:\n",
    "- The model is trained and the index is created using ClusterCF Model & Index code.\n",
    "- The index is saved in yelp_ClusterCF.db in the same directory as this script.\n",
    "- The clustered_users.xlsx file is in ../../data/processed_data with user_id and cluster columns.  \n",
    "\n",
    "Notes: This testing code includes preventing business overlapping in the predict_cluster_interests_clustercf function."
   ]
  },
  {
   "cell_type": "code",
   "execution_count": 39,
   "id": "a6530f69",
   "metadata": {},
   "outputs": [],
   "source": [
    "import sys\n",
    "sys.path.append('../')\n",
    "from utilities import *\n",
    "import sqlite3\n",
    "import pandas as pd\n",
    "import pickle\n",
    "import numpy as np\n",
    "from sklearn.model_selection import train_test_split"
   ]
  },
  {
   "cell_type": "code",
   "execution_count": 2,
   "id": "963412ab",
   "metadata": {},
   "outputs": [
    {
     "name": "stdout",
     "output_type": "stream",
     "text": [
      "Loaded 78059 rows from business table.\n",
      "Loaded 360656 rows from categories table.\n",
      "Loaded 980418 rows from review table.\n"
     ]
    }
   ],
   "source": [
    "# Load Yelp data\n",
    "db_folder = '../../data/processed_data/yelp_data/'\n",
    "data_files = ['business', 'categories', 'review']\n",
    "yelp_data = load_data_from_db(db_folder, data_files)\n",
    "for table, df in yelp_data.items():\n",
    "    print(f\"Loaded {len(df)} rows from {table} table.\")"
   ]
  },
  {
   "cell_type": "code",
   "execution_count": 3,
   "id": "7dcecb10",
   "metadata": {},
   "outputs": [],
   "source": [
    "# Prepare data\n",
    "df_business = yelp_data[\"business\"]\n",
    "df_review = yelp_data[\"review\"]"
   ]
  },
  {
   "cell_type": "code",
   "execution_count": 4,
   "id": "d85ab536",
   "metadata": {},
   "outputs": [
    {
     "name": "stdout",
     "output_type": "stream",
     "text": [
      "Prepared 985732 user-business interactions.\n"
     ]
    }
   ],
   "source": [
    "# Use get_user_business to prepare user-business interactions\n",
    "user_mapping, business_mapping, user_business = get_user_business(df_business, df_review)\n",
    "print(f\"Prepared {len(user_business)} user-business interactions.\")"
   ]
  },
  {
   "cell_type": "code",
   "execution_count": 14,
   "id": "40cdf64f",
   "metadata": {},
   "outputs": [
    {
     "name": "stdout",
     "output_type": "stream",
     "text": [
      "Loaded 99812 cluster assignments.\n"
     ]
    }
   ],
   "source": [
    "# Load cluster assignments\n",
    "cluster_file = 'clustered_users.xlsx'\n",
    "cluster_df = pd.read_excel(cluster_file)\n",
    "user_to_cluster = pd.DataFrame({\n",
    "    'user_id': cluster_df['user_id'],\n",
    "    'cluster_id': cluster_df['cluster'].astype(str)  # Convert cluster_id to string\n",
    "})\n",
    "print(f\"Loaded {len(cluster_df)} cluster assignments.\")"
   ]
  },
  {
   "cell_type": "code",
   "execution_count": 15,
   "id": "6ba709bb",
   "metadata": {},
   "outputs": [
    {
     "name": "stdout",
     "output_type": "stream",
     "text": [
      "Filtered user-business to 918151 interactions for clustered users.\n"
     ]
    }
   ],
   "source": [
    "# Filter users without cluster assignments\n",
    "user_business = user_business[user_business['user_id'].isin(user_to_cluster['user_id'])]\n",
    "print(f\"Filtered user-business to {len(user_business)} interactions for clustered users.\")"
   ]
  },
  {
   "cell_type": "code",
   "execution_count": 16,
   "id": "f8e86ba6",
   "metadata": {},
   "outputs": [
    {
     "name": "stdout",
     "output_type": "stream",
     "text": [
      "Merged dataset contains 918151 user-business-cluster records.\n"
     ]
    }
   ],
   "source": [
    "# Merge user-business interactions with cluster mappings\n",
    "user_business_clusters = user_business.merge(user_to_cluster, on='user_id', how='inner')\n",
    "print(f\"Merged dataset contains {len(user_business_clusters)} user-business-cluster records.\")"
   ]
  },
  {
   "cell_type": "code",
   "execution_count": 17,
   "id": "f0a094dd",
   "metadata": {},
   "outputs": [
    {
     "name": "stdout",
     "output_type": "stream",
     "text": [
      "Aggregated to 721327 cluster-business interactions.\n"
     ]
    }
   ],
   "source": [
    "# Aggregate ratings at cluster level (mean of stars_review per cluster-business pair)\n",
    "cluster_business = user_business_clusters.groupby(['cluster_id', 'business_id'])['stars_review'].mean().reset_index()\n",
    "print(f\"Aggregated to {len(cluster_business)} cluster-business interactions.\")"
   ]
  },
  {
   "cell_type": "code",
   "execution_count": 18,
   "id": "c3b4fd72",
   "metadata": {},
   "outputs": [
    {
     "name": "stdout",
     "output_type": "stream",
     "text": [
      "Number of positive reviews: 98024\n",
      "Number of negative reviews: 46242\n",
      "Total number of reviews: 144266\n",
      "Ratio of positive to negative reviews: 2.12\n",
      "Number of positive reviews: 46242\n",
      "Number of negative reviews: 46242\n",
      "Total number of reviews: 92484\n",
      "Ratio of positive to negative reviews: 1.00\n",
      "Train data: 577061 rows, Test data: 92484 rows\n"
     ]
    }
   ],
   "source": [
    "# Split into train (80%) and test (20%) at cluster level\n",
    "train_data, test_data = train_test_split(cluster_business, test_size=0.2, random_state=42)\n",
    "test_data = balance_test_data(test_data)\n",
    "test_data_grouped = test_data.groupby('cluster_id')['business_id'].apply(list).reset_index()\n",
    "print(f\"Train data: {len(train_data)} rows, Test data: {len(test_data)} rows\")"
   ]
  },
  {
   "cell_type": "code",
   "execution_count": 19,
   "id": "39982e6a",
   "metadata": {},
   "outputs": [],
   "source": [
    "# Connect to ClusterCF database\n",
    "db_path = './yelp_ClusterCF.db'\n",
    "conn = sqlite3.connect(db_path)"
   ]
  },
  {
   "cell_type": "code",
   "execution_count": 31,
   "id": "698bff0b",
   "metadata": {},
   "outputs": [],
   "source": [
    "# Ensure database indexes\n",
    "conn.execute('CREATE INDEX IF NOT EXISTS idx_cluster_item ON cluster_item_index(cluster_id, business_id)')\n",
    "conn.execute('CREATE INDEX IF NOT EXISTS idx_cluster_similarity ON cluster_cluster_similarity(cluster_id)')\n",
    "conn.commit()"
   ]
  },
  {
   "cell_type": "markdown",
   "id": "47447884",
   "metadata": {},
   "source": [
    "# Retrieval Evaluation"
   ]
  },
  {
   "cell_type": "code",
   "execution_count": 32,
   "id": "37a25fde",
   "metadata": {},
   "outputs": [],
   "source": [
    "# Retrieval Functions\n",
    "def retrieve_cluster_mapping(conn):\n",
    "    cursor = conn.cursor()\n",
    "    cursor.execute('SELECT cluster_id, cluster_idx FROM cluster_mapping')\n",
    "    return {str(row[0]): row[1] for row in cursor.fetchall()}  # Ensure cluster_id is string\n",
    "\n",
    "def get_cluster_businesses(cluster_id, conn):\n",
    "    cursor = conn.cursor()\n",
    "    cursor.execute('SELECT business_id, stars_review FROM cluster_item_index WHERE cluster_id = ?', (str(cluster_id),))\n",
    "    return cursor.fetchall()\n",
    "\n",
    "def get_top_k_similar_clusters(cluster_id, cluster_mapping, k, conn):\n",
    "    if cluster_id is None or cluster_id not in cluster_mapping:\n",
    "        return []\n",
    "    cursor = conn.cursor()\n",
    "    cursor.execute('SELECT similarity_vector FROM cluster_cluster_similarity WHERE cluster_id = ?', (str(cluster_id),))\n",
    "    result = cursor.fetchone()\n",
    "    if result is None:\n",
    "        return []\n",
    "    similarity_vector = pickle.loads(result[0])\n",
    "    indices, data = similarity_vector\n",
    "    top_k = sorted(zip(indices, data), key=lambda x: -x[1])[:k]\n",
    "    idx_to_cluster = {v: str(k) for k, v in cluster_mapping.items()}  # Ensure cluster_id is string\n",
    "    similar_clusters = [(idx_to_cluster.get(idx, \"Unknown\"), score) for idx, score in top_k]\n",
    "    return similar_clusters\n",
    "\n",
    "def predict_cluster_interests_clustercf(cluster_id, user_id, user_interactions, user_to_cluster_dict, cluster_mapping, conn, k_clusters=10, k_items=300):\n",
    "    # Skip if user_id is not in user_to_cluster or has no valid cluster\n",
    "    if user_id not in user_to_cluster_dict or user_to_cluster_dict[user_id] != cluster_id or cluster_id is None:\n",
    "        return []\n",
    "    similar_clusters = get_top_k_similar_clusters(cluster_id, cluster_mapping, k_clusters, conn)\n",
    "    recommended_businesses = {}\n",
    "    # Get user's interacted businesses from precomputed dictionary\n",
    "    user_business = user_interactions.get(user_id, set())\n",
    "    for similar_cluster_id, similarity_score in similar_clusters:\n",
    "        if similar_cluster_id == \"Unknown\":\n",
    "            continue\n",
    "        similar_cluster_businesses = get_cluster_businesses(similar_cluster_id, conn)\n",
    "        for business_id, score in similar_cluster_businesses:\n",
    "            if business_id in user_business:\n",
    "                continue  # Exclude user's interacted businesses\n",
    "            if business_id in recommended_businesses:\n",
    "                recommended_businesses[business_id] += score * similarity_score\n",
    "            else:\n",
    "                recommended_businesses[business_id] = score * similarity_score\n",
    "    recommended_businesses = sorted(recommended_businesses.items(), key=lambda x: -x[1])\n",
    "    return recommended_businesses[:k_items]\n",
    "\n",
    "def simulate_recommendations_clustercf(test_data_grouped, user_to_cluster, cluster_mapping, user_business, conn, k_clusters=10, k_items=300, num_clusters=1000):\n",
    "    recommendations = {}\n",
    "    total_clusters = min(num_clusters, len(test_data_grouped))\n",
    "    # Precompute user interactions\n",
    "    user_interactions = user_business.groupby('user_id')['business_id'].apply(set).to_dict()\n",
    "    # Filter test_data_grouped to valid cluster_id\n",
    "    valid_clusters = set(cluster_mapping.keys())\n",
    "    test_data_grouped = test_data_grouped[test_data_grouped['cluster_id'].isin(valid_clusters)]\n",
    "    user_to_cluster_dict = user_to_cluster.set_index('user_id')['cluster_id'].to_dict()\n",
    "    for i, cluster_id in enumerate(test_data_grouped['cluster_id']):\n",
    "        if i >= total_clusters:\n",
    "            break\n",
    "        user_id = user_to_cluster[user_to_cluster['cluster_id'] == cluster_id]['user_id'].iloc[0] if not user_to_cluster[user_to_cluster['cluster_id'] == cluster_id].empty else None\n",
    "        if user_id is None:\n",
    "            continue\n",
    "        recommendation = predict_cluster_interests_clustercf(cluster_id, user_id, user_interactions, user_to_cluster_dict, cluster_mapping, conn, k_clusters, k_items)\n",
    "        business_ids, scores = zip(*recommendation) if recommendation else ([], [])\n",
    "        recommendations[cluster_id] = (list(business_ids), list(scores))\n",
    "    return recommendations"
   ]
  },
  {
   "cell_type": "code",
   "execution_count": 33,
   "id": "3ba76cd3",
   "metadata": {},
   "outputs": [],
   "source": [
    "def check_retrieval_recommendations(recommendations, test_data, test_data_grouped, pos=4):\n",
    "    total = 0\n",
    "    total_positive = 0\n",
    "    true_positive = 0\n",
    "    true_negative = 0\n",
    "    false_positive = 0\n",
    "    false_negative = 0\n",
    "    ranks = []\n",
    "    for i, row in test_data_grouped.iterrows():\n",
    "        user_id = row['cluster_id']\n",
    "        business_ids = row['business_id']\n",
    "        rank = 0\n",
    "        if user_id in recommendations:\n",
    "            recommended_businesses = recommendations[user_id][0]\n",
    "            for business_id in business_ids:\n",
    "                star_rating = test_data[(test_data['cluster_id'] == user_id) & (test_data['business_id'] == business_id)]['stars_review'].values[0]\n",
    "                if star_rating >= pos:\n",
    "                    total_positive += 1\n",
    "                if business_id in recommended_businesses:\n",
    "                    if star_rating >= pos:\n",
    "                        true_positive += 1\n",
    "                    else:\n",
    "                        false_positive += 1\n",
    "                    # get the rank of the business_id in the recommendations\n",
    "                    rank = recommended_businesses.index(business_id) + 1\n",
    "                else:\n",
    "                    if star_rating < pos:\n",
    "                        true_negative += 1\n",
    "                    else:\n",
    "                        false_negative += 1\n",
    "            total += len(business_ids)\n",
    "        ranks.append(rank)\n",
    "    return true_positive, true_negative, false_positive, false_negative, total, total_positive, ranks\n"
   ]
  },
  {
   "cell_type": "code",
   "execution_count": 34,
   "id": "a61ac888",
   "metadata": {},
   "outputs": [
    {
     "name": "stdout",
     "output_type": "stream",
     "text": [
      "Clusters in test_data_grouped: 2487\n",
      "Valid clusters in test_data_grouped: 2487\n",
      "Null clusters in user_to_cluster: 0\n",
      "Recommendations generated for 1000 clusters\n"
     ]
    }
   ],
   "source": [
    "# Retrieval Evaluation\n",
    "cluster_mapping = retrieve_cluster_mapping(conn)\n",
    "print(f\"Clusters in test_data_grouped: {len(test_data_grouped)}\")\n",
    "print(f\"Valid clusters in test_data_grouped: {len(set(test_data_grouped['cluster_id']).intersection(cluster_mapping.keys()))}\")\n",
    "print(f\"Null clusters in user_to_cluster: {user_to_cluster['cluster_id'].isnull().sum()}\")\n",
    "retrieval_recommendations = simulate_recommendations_clustercf(test_data_grouped, user_to_cluster, cluster_mapping, user_business, conn, k_clusters=10, k_items=300, num_clusters=1000)\n",
    "print(f\"Recommendations generated for {len(retrieval_recommendations)} clusters\")\n",
    "true_positive, true_negative, false_positive, false_negative, total, total_positive, ranks = check_retrieval_recommendations(retrieval_recommendations, test_data, test_data_grouped)\n",
    "evaluation_metric, confusion_matrix, background_stats = compute_evaluation_metric(true_positive, true_negative, false_positive, false_negative, total, total_positive, ranks)"
   ]
  },
  {
   "cell_type": "code",
   "execution_count": 35,
   "id": "666c23d5",
   "metadata": {},
   "outputs": [
    {
     "name": "stdout",
     "output_type": "stream",
     "text": [
      "Testing Data Statistics\n",
      "   Total Positive  Total Negative  Total     Ratio\n",
      "0           18437           18966  37403  0.492928\n",
      "\n",
      "Retrieval Evaluation Metrics\n",
      "   Accuracy  Precision  Recall  F1 Score  F-beta Score  Mean Reciprocal Rank\n",
      "0    0.5152     0.5908  0.0536    0.0984        0.0656                0.0284\n",
      "\n",
      "Retrieval Confusion Matrix\n",
      "   True Positive  True Negative  False Positive  False Negative\n",
      "0            989          18281             685           17448\n"
     ]
    }
   ],
   "source": [
    "print(\"Testing Data Statistics\")\n",
    "print(background_stats)\n",
    "print(\"\\nRetrieval Evaluation Metrics\")\n",
    "print(evaluation_metric)\n",
    "print(\"\\nRetrieval Confusion Matrix\")\n",
    "print(confusion_matrix)"
   ]
  },
  {
   "cell_type": "markdown",
   "id": "7a540aa4",
   "metadata": {},
   "source": [
    "# Prediction"
   ]
  },
  {
   "cell_type": "code",
   "execution_count": 36,
   "id": "321b3ce5",
   "metadata": {},
   "outputs": [],
   "source": [
    "# Predict rating for a specific business\n",
    "def get_business_interest_clustercf(cluster_id, business_id, cluster_mapping, conn, k=10):\n",
    "    \"\"\"Predict rating for a specific business based on similar clusters.\"\"\"\n",
    "    if cluster_id is None or cluster_id not in cluster_mapping:\n",
    "        return 0\n",
    "    cluster_businesses = get_cluster_businesses(cluster_id, conn)\n",
    "    if not cluster_businesses:\n",
    "        return 0\n",
    "    similar_clusters = get_top_k_similar_clusters(cluster_id, cluster_mapping, k, conn)\n",
    "    if not similar_clusters:\n",
    "        return -1\n",
    "    weighted_sum = 0.0\n",
    "    similarity_sum = 0.0\n",
    "    for similar_cluster_id, similarity in similar_clusters:\n",
    "        if similar_cluster_id == \"Unknown\":\n",
    "            continue\n",
    "        cursor = conn.cursor()\n",
    "        cursor.execute('SELECT stars_review FROM cluster_item_index WHERE cluster_id = ? AND business_id = ?', \n",
    "                       (str(similar_cluster_id), business_id))\n",
    "        result = cursor.fetchone()\n",
    "        if result:\n",
    "            rating = result[0]\n",
    "            weighted_sum += similarity * rating\n",
    "            similarity_sum += similarity\n",
    "    if similarity_sum == 0:\n",
    "        return -1\n",
    "    return weighted_sum / similarity_sum\n",
    "\n",
    "def predict_recommendations_clustercf(test_data, test_data_grouped, cluster_mapping, conn, pos=4):\n",
    "    \"\"\"Predict ratings for test cluster-business pairs.\"\"\"\n",
    "    predicted_labels = []\n",
    "    actual_labels = []\n",
    "    unrated_count = 0\n",
    "    positive_count = 0\n",
    "    negative_count = 0\n",
    "    null_count = 0\n",
    "    k = min(1000, len(test_data_grouped))\n",
    "    test_data_dict = {\n",
    "        (row['cluster_id'], row['business_id']): row['stars_review']\n",
    "        for _, row in test_data.iterrows()\n",
    "    }\n",
    "    for i in range(k):\n",
    "        cluster_id = test_data_grouped['cluster_id'].iloc[i]\n",
    "        business_ids = test_data_grouped['business_id'].iloc[i]\n",
    "        for business_id in business_ids:\n",
    "            predicted_rating = get_business_interest_clustercf(cluster_id, business_id, cluster_mapping, conn, k=10)\n",
    "            actual_rating = test_data_dict.get((cluster_id, business_id), None)\n",
    "            if actual_rating is None:\n",
    "                null_count += 1\n",
    "                continue\n",
    "            if actual_rating >= pos:\n",
    "                positive_count += 1\n",
    "            else:\n",
    "                negative_count += 1\n",
    "            if predicted_rating == -1:\n",
    "                unrated_count += 1\n",
    "                continue\n",
    "            predicted_labels.append(predicted_rating >= pos)\n",
    "            actual_labels.append(actual_rating >= pos)\n",
    "    predicted_labels = np.array(predicted_labels, dtype=np.int8)\n",
    "    actual_labels = np.array(actual_labels, dtype=np.int8)\n",
    "    return predicted_labels, actual_labels, positive_count, negative_count, null_count, unrated_count"
   ]
  },
  {
   "cell_type": "code",
   "execution_count": 37,
   "id": "5641cb91",
   "metadata": {},
   "outputs": [
    {
     "name": "stdout",
     "output_type": "stream",
     "text": [
      "Test data stats: count    92484.000000\n",
      "mean         3.434179\n",
      "std          1.346656\n",
      "min          1.000000\n",
      "25%          2.500000\n",
      "50%          3.977273\n",
      "75%          5.000000\n",
      "max          5.000000\n",
      "Name: stars_review, dtype: float64\n"
     ]
    }
   ],
   "source": [
    "# Prediction Evaluation\n",
    "print(f\"Test data stats: {test_data['stars_review'].describe()}\")\n",
    "predicted_labels, actual_labels, positive_count, negative_count, null_count, unrated_count = predict_recommendations_clustercf(test_data, test_data_grouped, cluster_mapping, conn, pos=4)\n",
    "prediction_lst = [positive_count, negative_count, unrated_count]\n",
    "evaluation_metric, confusion_matrix, background_stats = compute_prediction_evaluation(actual_labels, predicted_labels, prediction_lst, beta=2)"
   ]
  },
  {
   "cell_type": "code",
   "execution_count": 38,
   "id": "52dd874f",
   "metadata": {},
   "outputs": [
    {
     "name": "stdout",
     "output_type": "stream",
     "text": [
      "\n",
      "Testing Data Statistics\n",
      "   Total Positive  Total Negative  Total     Ratio\n",
      "0           18437           18966  37403  0.492928\n",
      "\n",
      "Prediction Evaluation Metrics\n",
      "   Accuracy  Precision    Recall  F1 Score  F-beta Score  Unrated Count\n",
      "0    0.6904      0.624  0.905936  0.738991      0.830856       0.032832\n",
      "\n",
      "Prediction Confusion Matrix\n",
      "   True Positive  True Negative  False Positive  False Negative\n",
      "0          16703           8271           10063            1138\n"
     ]
    }
   ],
   "source": [
    "print(\"\\nTesting Data Statistics\")\n",
    "print(background_stats)\n",
    "if 'Mean Reciprocal Rank' in evaluation_metric.columns:\n",
    "    evaluation_metric = evaluation_metric.drop(columns=['Mean Reciprocal Rank'])\n",
    "print(\"\\nPrediction Evaluation Metrics\")\n",
    "print(evaluation_metric)\n",
    "print(\"\\nPrediction Confusion Matrix\")\n",
    "print(confusion_matrix)"
   ]
  },
  {
   "cell_type": "code",
   "execution_count": null,
   "id": "bd18c0ae",
   "metadata": {},
   "outputs": [],
   "source": [
    "# Close connection\n",
    "conn.close()"
   ]
  }
 ],
 "metadata": {
  "kernelspec": {
   "display_name": "content-recommendation-HkY1UuQH",
   "language": "python",
   "name": "python3"
  },
  "language_info": {
   "codemirror_mode": {
    "name": "ipython",
    "version": 3
   },
   "file_extension": ".py",
   "mimetype": "text/x-python",
   "name": "python",
   "nbconvert_exporter": "python",
   "pygments_lexer": "ipython3",
   "version": "3.11.9"
  }
 },
 "nbformat": 4,
 "nbformat_minor": 5
}
