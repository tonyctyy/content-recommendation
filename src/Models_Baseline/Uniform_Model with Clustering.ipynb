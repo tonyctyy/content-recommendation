{
 "cells": [
  {
   "cell_type": "markdown",
   "metadata": {},
   "source": [
    "### Uniform Recommendation Baseline,\n",
    "    This notebook implements a Uniform Recommendation baseline model for the Yelp dataset. It divides users into clusters, recommends a set of uniform businesses to each cluster and evaluates the performance using retrieval metrics.\n",
    "    \n",
    "#### Pre-requisites,\n",
    "- The Yelp dataset is loaded from the processed data folder (`../../data/processed_data/yelp_data/`)."
   ]
  },
  {
   "cell_type": "code",
   "execution_count": 1,
   "metadata": {},
   "outputs": [],
   "source": [
    "import sys\n",
    "sys.path.append('../')\n",
    "from utilities import *\n",
    "from sklearn.preprocessing import StandardScaler\n",
    "from sklearn.decomposition import PCA\n",
    "from hdbscan import HDBSCAN\n",
    "from IPython.display import display"
   ]
  },
  {
   "cell_type": "code",
   "execution_count": 2,
   "metadata": {},
   "outputs": [
    {
     "name": "stdout",
     "output_type": "stream",
     "text": [
      "Loaded 78059 rows from business table.\n",
      "Loaded 360656 rows from categories table.\n",
      "Loaded 980418 rows from review table.\n"
     ]
    }
   ],
   "source": [
    "# Define the database folder path and file names\n",
    "db_folder = '../../data/processed_data/yelp_data/'\n",
    "data_files = ['business', 'categories', 'review']\n",
    "\n",
    "# Load data into a dictionary\n",
    "yelp_data = load_data_from_db(db_folder, data_files)\n",
    "\n",
    "# Check loaded data\n",
    "for table, df in yelp_data.items():\n",
    "    print(f\"Loaded {len(df)} rows from {table} table.\")"
   ]
  },
  {
   "cell_type": "code",
   "execution_count": 3,
   "metadata": {},
   "outputs": [],
   "source": [
    "df_business = yelp_data['business'] # Business details\n",
    "df_categories = yelp_data['categories'] # Business categories\n",
    "df_review = yelp_data['review'] # Review data"
   ]
  },
  {
   "cell_type": "code",
   "execution_count": 4,
   "metadata": {},
   "outputs": [],
   "source": [
    "df_review['label'] = df_review['stars'].apply(lambda x: 1 if x > 4 else 0)"
   ]
  },
  {
   "cell_type": "code",
   "execution_count": 5,
   "metadata": {},
   "outputs": [],
   "source": [
    "# Merge review and business data\n",
    "df_review_merged = df_review.merge(df_business, on='business_id', how='left', suffixes=('_review', '_business'))"
   ]
  },
  {
   "cell_type": "code",
   "execution_count": 6,
   "metadata": {},
   "outputs": [],
   "source": [
    "# Prepare category features (top 5 categories as binary indicators)\n",
    "top_categories = df_categories['category'].value_counts().index[:5]\n",
    "for cat in top_categories:\n",
    "    df_review_merged[f'category_{cat}'] = df_review_merged['business_id'].isin(\n",
    "        df_categories[df_categories['category'] == cat]['business_id']\n",
    "    ).astype(int)"
   ]
  },
  {
   "cell_type": "code",
   "execution_count": 7,
   "metadata": {},
   "outputs": [],
   "source": [
    "# Define features for clustering with corrected column names\n",
    "features = ['stars_review', 'useful', 'funny', 'cool', 'latitude', 'longitude', \n",
    "            'stars_business', 'review_count'] + [f'category_{cat}' for cat in top_categories]"
   ]
  },
  {
   "cell_type": "code",
   "execution_count": 8,
   "metadata": {},
   "outputs": [
    {
     "name": "stdout",
     "output_type": "stream",
     "text": [
      "Number of unique users: 162079\n"
     ]
    }
   ],
   "source": [
    "# Aggregate features at the user level (mean values across all reviews per user)\n",
    "user_features = df_review_merged.groupby('user_id')[features].mean().reset_index()\n",
    "print(f\"Number of unique users: {len(user_features)}\")"
   ]
  },
  {
   "cell_type": "code",
   "execution_count": 13,
   "metadata": {},
   "outputs": [
    {
     "name": "stdout",
     "output_type": "stream",
     "text": [
      "Number of reviews in train_data: 784334\n"
     ]
    }
   ],
   "source": [
    "# Split data into training and test sets\n",
    "train_data, test_data = train_test_split(df_review_merged, test_size=0.2, random_state=42)\n",
    "print(f\"Number of reviews in train_data: {len(train_data)}\")"
   ]
  },
  {
   "cell_type": "code",
   "execution_count": 17,
   "metadata": {},
   "outputs": [
    {
     "name": "stdout",
     "output_type": "stream",
     "text": [
      "Shape of X (user features): (162079, 13)\n"
     ]
    }
   ],
   "source": [
    "# Prepare feature matrix for clustering (using training data)\n",
    "X = user_features[features].fillna(0).values  # Fill NA with 0 for simplicity\n",
    "scaler = StandardScaler()\n",
    "X_scaled = scaler.fit_transform(X)\n",
    "print(f\"Shape of X (user features): {X.shape}\")"
   ]
  },
  {
   "cell_type": "code",
   "execution_count": 18,
   "metadata": {},
   "outputs": [
    {
     "name": "stdout",
     "output_type": "stream",
     "text": [
      "Shape of X_pca_reduced: (162079, 10)\n"
     ]
    }
   ],
   "source": [
    "# Apply PCA (10 components explaining 90% variance)\n",
    "pca = PCA(n_components=10)\n",
    "X_pca_reduced = pca.fit_transform(X_scaled)\n",
    "print(f\"Shape of X_pca_reduced: {X_pca_reduced.shape}\")"
   ]
  },
  {
   "cell_type": "code",
   "execution_count": 19,
   "metadata": {},
   "outputs": [
    {
     "name": "stderr",
     "output_type": "stream",
     "text": [
      "c:\\Users\\Gigi Wan\\.virtualenvs\\content-recommendation-HkY1UuQH\\Lib\\site-packages\\sklearn\\utils\\deprecation.py:151: FutureWarning: 'force_all_finite' was renamed to 'ensure_all_finite' in 1.6 and will be removed in 1.8.\n",
      "  warnings.warn(\n",
      "c:\\Users\\Gigi Wan\\.virtualenvs\\content-recommendation-HkY1UuQH\\Lib\\site-packages\\sklearn\\utils\\deprecation.py:151: FutureWarning: 'force_all_finite' was renamed to 'ensure_all_finite' in 1.6 and will be removed in 1.8.\n",
      "  warnings.warn(\n"
     ]
    },
    {
     "name": "stdout",
     "output_type": "stream",
     "text": [
      "Length of cluster_labels: 162079\n"
     ]
    }
   ],
   "source": [
    "# Perform HDBSCAN clustering on users\n",
    "hdbscan = HDBSCAN(min_cluster_size=5, min_samples=5, cluster_selection_epsilon=0.3, metric='euclidean')\n",
    "cluster_labels = hdbscan.fit_predict(X_pca_reduced.astype(np.float32))\n",
    "print(f\"Length of cluster_labels: {len(cluster_labels)}\")\n",
    "\n",
    "user_features['cluster'] = cluster_labels"
   ]
  },
  {
   "cell_type": "code",
   "execution_count": 20,
   "metadata": {},
   "outputs": [],
   "source": [
    "# Merge cluster labels back to train_data and test_data\n",
    "train_data = train_data.merge(user_features[['user_id', 'cluster']], on='user_id', how='left')\n",
    "test_data = test_data.merge(user_features[['user_id', 'cluster']], on='user_id', how='left')"
   ]
  },
  {
   "cell_type": "code",
   "execution_count": 21,
   "metadata": {},
   "outputs": [],
   "source": [
    "# Define fixed recommendation sets per cluster\n",
    "k_recommendations = 300  # Number of recommendations per cluster\n",
    "all_business_ids = train_data['business_id'].unique()\n",
    "cluster_recommendations = {}\n",
    "np.random.seed(42)"
   ]
  },
  {
   "cell_type": "code",
   "execution_count": 22,
   "metadata": {},
   "outputs": [],
   "source": [
    "for cluster_id in set(cluster_labels):\n",
    "    if cluster_id == -1:  # Skip noise points for now\n",
    "        continue\n",
    "    # Get reviews for users in this cluster\n",
    "    cluster_data = train_data[train_data['cluster'] == cluster_id]\n",
    "    # Calculate popularity within the cluster (weighted by positive reviews)\n",
    "    cluster_popularity = cluster_data[cluster_data['stars_review'] >= 4].groupby('business_id').agg(\n",
    "        positive_reviews=('stars_review', 'count'),\n",
    "        total_reviews=('stars_review', 'size')\n",
    "    ).reset_index()\n",
    "    cluster_popularity['weighted_score'] = cluster_popularity['positive_reviews'] / (cluster_popularity['total_reviews'] + 1)\n",
    "    cluster_popularity = cluster_popularity.sort_values(by='weighted_score', ascending=False)\n",
    "    top_businesses = cluster_popularity['business_id'].values[:k_recommendations]\n",
    "    if len(top_businesses) < k_recommendations:\n",
    "        remaining = k_recommendations - len(top_businesses)\n",
    "        available = np.setdiff1d(all_business_ids, top_businesses)\n",
    "        extra_businesses = np.random.choice(available, size=remaining, replace=False)\n",
    "        top_businesses = np.concatenate([top_businesses, extra_businesses])\n",
    "    scores = np.ones(k_recommendations) / k_recommendations  # Uniform scores\n",
    "    cluster_recommendations[cluster_id] = (top_businesses, scores)"
   ]
  },
  {
   "cell_type": "code",
   "execution_count": 23,
   "metadata": {},
   "outputs": [],
   "source": [
    "# Handle noise points (-1 cluster) with a default recommendation set\n",
    "noise_popularity = train_data[train_data['cluster'] == -1].groupby('business_id').agg(\n",
    "    positive_reviews=('stars_review', lambda x: (x >= 4).sum()),\n",
    "    total_reviews=('stars_review', 'count')\n",
    ").reset_index()\n",
    "noise_popularity['weighted_score'] = noise_popularity['positive_reviews'] / (noise_popularity['total_reviews'] + 1)\n",
    "noise_popularity = noise_popularity.sort_values(by='weighted_score', ascending=False)\n",
    "noise_businesses = noise_popularity['business_id'].values[:k_recommendations]\n",
    "if len(noise_businesses) < k_recommendations:\n",
    "    remaining = k_recommendations - len(noise_businesses)\n",
    "    available = np.setdiff1d(all_business_ids, noise_businesses)\n",
    "    extra_businesses = np.random.choice(available, size=remaining, replace=False)\n",
    "    noise_businesses = np.concatenate([noise_businesses, extra_businesses])\n",
    "noise_scores = np.ones(k_recommendations) / k_recommendations\n",
    "cluster_recommendations[-1] = (noise_businesses, noise_scores)"
   ]
  },
  {
   "cell_type": "code",
   "execution_count": 24,
   "metadata": {},
   "outputs": [],
   "source": [
    "# Function to generate uniform recommendations based on user cluster\n",
    "def predict_uniform_cluster_interests(user_id, k=k_recommendations, user_features=user_features, cluster_recommendations=cluster_recommendations):\n",
    "    if user_id in user_features['user_id'].values:\n",
    "        cluster_id = user_features[user_features['user_id'] == user_id]['cluster'].values[0]\n",
    "    else:\n",
    "        cluster_id = -1  # Default to noise cluster for unseen users\n",
    "    recommended_businesses, scores = cluster_recommendations[cluster_id]\n",
    "    k = min(k, len(recommended_businesses))\n",
    "    return list(zip(recommended_businesses[:k], scores[:k]))"
   ]
  },
  {
   "cell_type": "code",
   "execution_count": 25,
   "metadata": {},
   "outputs": [
    {
     "name": "stdout",
     "output_type": "stream",
     "text": [
      "Number of positive reviews: 135929\n",
      "Number of negative reviews: 33369\n",
      "Total number of reviews: 196084\n",
      "Ratio of positive to negative reviews: 4.07\n"
     ]
    }
   ],
   "source": [
    "# Calculate test data statistics\n",
    "positive_reviews = test_data[test_data['stars_review'] >= 4]\n",
    "negative_reviews = test_data[test_data['stars_review'] <= 2]\n",
    "print(f\"Number of positive reviews: {len(positive_reviews)}\")\n",
    "print(f\"Number of negative reviews: {len(negative_reviews)}\")\n",
    "print(f\"Total number of reviews: {len(test_data)}\")\n",
    "print(f\"Ratio of positive to negative reviews: {len(positive_reviews) / len(negative_reviews):.2f}\")"
   ]
  },
  {
   "cell_type": "code",
   "execution_count": 26,
   "metadata": {},
   "outputs": [],
   "source": [
    "# Group test data by user_id\n",
    "test_data_grouped = test_data.groupby('user_id')['business_id'].apply(list).reset_index()"
   ]
  },
  {
   "cell_type": "code",
   "execution_count": 27,
   "metadata": {},
   "outputs": [],
   "source": [
    "# Generate recommendations\n",
    "recommendations = {}\n",
    "max_users = min(1000, len(test_data_grouped))  # Limit to 1000 users\n",
    "\n",
    "for i in range(max_users):\n",
    "    user_id = test_data_grouped['user_id'].iloc[i]\n",
    "    recommendation = predict_uniform_cluster_interests(user_id, k=k_recommendations)\n",
    "    business_ids, scores = zip(*recommendation)\n",
    "    recommendations[user_id] = (list(business_ids), list(scores))"
   ]
  },
  {
   "cell_type": "code",
   "execution_count": 28,
   "metadata": {},
   "outputs": [],
   "source": [
    "def check_recommendations(recommendations, test_data_grouped, pos=4):\n",
    "    total = 0\n",
    "    total_positive = 0\n",
    "    true_positive = 0\n",
    "    true_negative = 0\n",
    "    false_positive = 0\n",
    "    false_negative = 0\n",
    "    ranks = []\n",
    "    for i, row in test_data_grouped.iterrows():\n",
    "        user_id = row['user_id']\n",
    "        business_ids = row['business_id']\n",
    "        rank = 0\n",
    "        if user_id in recommendations:\n",
    "            recommended_businesses = recommendations[user_id][0]\n",
    "            for business_id in business_ids:\n",
    "                star_rating = test_data[(test_data['user_id'] == user_id) & \n",
    "                                       (test_data['business_id'] == business_id)]['stars_review'].values[0]\n",
    "                if star_rating >= pos:\n",
    "                    total_positive += 1\n",
    "                if business_id in recommended_businesses:\n",
    "                    if star_rating >= pos:\n",
    "                        true_positive += 1\n",
    "                    else:\n",
    "                        false_positive += 1\n",
    "                    rank = recommended_businesses.index(business_id) + 1\n",
    "                else:\n",
    "                    if star_rating < pos:\n",
    "                        true_negative += 1\n",
    "                    else:\n",
    "                        false_negative += 1\n",
    "            total += len(business_ids)\n",
    "        ranks.append(rank)\n",
    "    return true_positive, true_negative, false_positive, false_negative, total, total_positive, ranks"
   ]
  },
  {
   "cell_type": "code",
   "execution_count": 29,
   "metadata": {},
   "outputs": [],
   "source": [
    "# Evaluate recommendations\n",
    "true_positive, true_negative, false_positive, false_negative, total, total_positive, ranks = check_recommendations(recommendations, test_data_grouped)"
   ]
  },
  {
   "cell_type": "code",
   "execution_count": 30,
   "metadata": {},
   "outputs": [],
   "source": [
    "evaluation_metric, confusion_matrix, background_stats = compute_evaluation_metric(true_positive, true_negative, false_positive, false_negative, total, total_positive, ranks)"
   ]
  },
  {
   "cell_type": "code",
   "execution_count": 31,
   "metadata": {},
   "outputs": [
    {
     "name": "stdout",
     "output_type": "stream",
     "text": [
      "Testing Data Statistics\n"
     ]
    },
    {
     "data": {
      "text/html": [
       "<div>\n",
       "<style scoped>\n",
       "    .dataframe tbody tr th:only-of-type {\n",
       "        vertical-align: middle;\n",
       "    }\n",
       "\n",
       "    .dataframe tbody tr th {\n",
       "        vertical-align: top;\n",
       "    }\n",
       "\n",
       "    .dataframe thead th {\n",
       "        text-align: right;\n",
       "    }\n",
       "</style>\n",
       "<table border=\"1\" class=\"dataframe\">\n",
       "  <thead>\n",
       "    <tr style=\"text-align: right;\">\n",
       "      <th></th>\n",
       "      <th>Total Positive</th>\n",
       "      <th>Total Negative</th>\n",
       "      <th>Total</th>\n",
       "      <th>Ratio</th>\n",
       "    </tr>\n",
       "  </thead>\n",
       "  <tbody>\n",
       "    <tr>\n",
       "      <th>0</th>\n",
       "      <td>1868</td>\n",
       "      <td>850</td>\n",
       "      <td>2718</td>\n",
       "      <td>0.68727</td>\n",
       "    </tr>\n",
       "  </tbody>\n",
       "</table>\n",
       "</div>"
      ],
      "text/plain": [
       "   Total Positive  Total Negative  Total    Ratio\n",
       "0            1868             850   2718  0.68727"
      ]
     },
     "metadata": {},
     "output_type": "display_data"
    },
    {
     "name": "stdout",
     "output_type": "stream",
     "text": [
      "Evaluation Metrics\n"
     ]
    },
    {
     "data": {
      "text/html": [
       "<div>\n",
       "<style scoped>\n",
       "    .dataframe tbody tr th:only-of-type {\n",
       "        vertical-align: middle;\n",
       "    }\n",
       "\n",
       "    .dataframe tbody tr th {\n",
       "        vertical-align: top;\n",
       "    }\n",
       "\n",
       "    .dataframe thead th {\n",
       "        text-align: right;\n",
       "    }\n",
       "</style>\n",
       "<table border=\"1\" class=\"dataframe\">\n",
       "  <thead>\n",
       "    <tr style=\"text-align: right;\">\n",
       "      <th></th>\n",
       "      <th>Accuracy</th>\n",
       "      <th>Precision</th>\n",
       "      <th>Recall</th>\n",
       "      <th>F1 Score</th>\n",
       "      <th>F-beta Score</th>\n",
       "      <th>Mean Reciprocal Rank</th>\n",
       "    </tr>\n",
       "  </thead>\n",
       "  <tbody>\n",
       "    <tr>\n",
       "      <th>0</th>\n",
       "      <td>0.3447</td>\n",
       "      <td>0.8783</td>\n",
       "      <td>0.0541</td>\n",
       "      <td>0.1019</td>\n",
       "      <td>0.0666</td>\n",
       "      <td>0.1996</td>\n",
       "    </tr>\n",
       "  </tbody>\n",
       "</table>\n",
       "</div>"
      ],
      "text/plain": [
       "   Accuracy  Precision  Recall  F1 Score  F-beta Score  Mean Reciprocal Rank\n",
       "0    0.3447     0.8783  0.0541    0.1019        0.0666                0.1996"
      ]
     },
     "metadata": {},
     "output_type": "display_data"
    },
    {
     "name": "stdout",
     "output_type": "stream",
     "text": [
      "Confusion Matrix\n"
     ]
    },
    {
     "data": {
      "text/html": [
       "<div>\n",
       "<style scoped>\n",
       "    .dataframe tbody tr th:only-of-type {\n",
       "        vertical-align: middle;\n",
       "    }\n",
       "\n",
       "    .dataframe tbody tr th {\n",
       "        vertical-align: top;\n",
       "    }\n",
       "\n",
       "    .dataframe thead th {\n",
       "        text-align: right;\n",
       "    }\n",
       "</style>\n",
       "<table border=\"1\" class=\"dataframe\">\n",
       "  <thead>\n",
       "    <tr style=\"text-align: right;\">\n",
       "      <th></th>\n",
       "      <th>True Positive</th>\n",
       "      <th>True Negative</th>\n",
       "      <th>False Positive</th>\n",
       "      <th>False Negative</th>\n",
       "    </tr>\n",
       "  </thead>\n",
       "  <tbody>\n",
       "    <tr>\n",
       "      <th>0</th>\n",
       "      <td>101</td>\n",
       "      <td>836</td>\n",
       "      <td>14</td>\n",
       "      <td>1767</td>\n",
       "    </tr>\n",
       "  </tbody>\n",
       "</table>\n",
       "</div>"
      ],
      "text/plain": [
       "   True Positive  True Negative  False Positive  False Negative\n",
       "0            101            836              14            1767"
      ]
     },
     "metadata": {},
     "output_type": "display_data"
    }
   ],
   "source": [
    "print(\"Testing Data Statistics\")\n",
    "display(background_stats)\n",
    "\n",
    "print(\"Evaluation Metrics\")\n",
    "display(evaluation_metric)\n",
    "\n",
    "print(\"Confusion Matrix\")\n",
    "display(confusion_matrix)"
   ]
  },
  {
   "cell_type": "code",
   "execution_count": 32,
   "metadata": {},
   "outputs": [],
   "source": [
    "user_features.to_csv(\"clustered_user_data.csv\", index=False)"
   ]
  },
  {
   "cell_type": "code",
   "execution_count": null,
   "metadata": {},
   "outputs": [],
   "source": []
  }
 ],
 "metadata": {
  "kernelspec": {
   "display_name": "content-recommendation-HkY1UuQH",
   "language": "python",
   "name": "python3"
  },
  "language_info": {
   "codemirror_mode": {
    "name": "ipython",
    "version": 3
   },
   "file_extension": ".py",
   "mimetype": "text/x-python",
   "name": "python",
   "nbconvert_exporter": "python",
   "pygments_lexer": "ipython3",
   "version": "3.11.9"
  }
 },
 "nbformat": 4,
 "nbformat_minor": 2
}
