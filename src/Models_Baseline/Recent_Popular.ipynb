{
 "cells": [
  {
   "cell_type": "code",
   "execution_count": 9,
   "id": "6193c0e2",
   "metadata": {},
   "outputs": [],
   "source": [
    "import sqlite3\n",
    "import pandas as pd\n",
    "import json"
   ]
  },
  {
   "cell_type": "code",
   "execution_count": 10,
   "id": "56ac28da",
   "metadata": {},
   "outputs": [],
   "source": [
    "db_folder = '../../data/processed_data/yelp_data/'\n",
    "\n",
    "review_conn = sqlite3.connect(db_folder + 'yelp_review_data_new.db')\n",
    "\n",
    "latest_month = \"2022-01\"\n",
    "last_month = \"2021-12\"\n",
    "# load review where date is in latest_month and previous month\n",
    "review_df = pd.read_sql_query(f\"SELECT * FROM review_data WHERE date LIKE '{latest_month}%' OR date LIKE '{last_month}%'\", review_conn) \n",
    "\n",
    "# load business data\n",
    "business_conn = sqlite3.connect(db_folder + 'yelp_business_data.db')\n",
    "business_df = pd.read_sql_query(\"SELECT * FROM business_details\", business_conn)\n",
    "\n",
    "# merge review and business data based on business_id for review_df\n",
    "df_concat = pd.merge(review_df, business_df, how='left', on='business_id', suffixes=('_business', '_review'))\n",
    "\n",
    "train_data = df_concat[[\"business_id\", \"stars_review\"]]\n",
    "\n",
    "# group by business_id and calculate the sum of stars_review\n",
    "train_data = train_data.groupby(\"business_id\").agg({\"stars_review\": \"sum\"}).reset_index()\n",
    "# rename columns\n",
    "train_data.columns = [\"business_id\", \"popularity\"]\n",
    "\n",
    "# sort the popularity in descending order and filter the top 1000 businesses\n",
    "train_data = train_data.sort_values(by=\"popularity\", ascending=False).head(100).reset_index(drop=True)\n",
    "\n",
    "# format: array of objects, each object contains business_id and popularity\n",
    "train_data = train_data.to_dict(orient='records')\n",
    "\n",
    "# save the result to a JSON file as 'popular_businesses.json'\n",
    "with open('popular_businesses.json', 'w') as f:\n",
    "    json.dump(train_data, f, indent=4)"
   ]
  }
 ],
 "metadata": {
  "kernelspec": {
   "display_name": "content-recommendation-0SgTkEMC",
   "language": "python",
   "name": "python3"
  },
  "language_info": {
   "codemirror_mode": {
    "name": "ipython",
    "version": 3
   },
   "file_extension": ".py",
   "mimetype": "text/x-python",
   "name": "python",
   "nbconvert_exporter": "python",
   "pygments_lexer": "ipython3",
   "version": "3.11.4"
  }
 },
 "nbformat": 4,
 "nbformat_minor": 5
}
